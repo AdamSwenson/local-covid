{
 "cells": [
  {
   "cell_type": "markdown",
   "metadata": {},
   "source": [
    "Note for exporting:\n",
    "\n",
    "    Need to export to html.\n",
    "    \n",
    "    Can't then make the html into a pdf without plots not fitting"
   ]
  },
  {
   "cell_type": "code",
   "execution_count": 19,
   "metadata": {
    "ExecuteTime": {
     "end_time": "2020-06-21T21:35:29.007927Z",
     "start_time": "2020-06-21T21:35:28.986964Z"
    },
    "run_control": {
     "marked": true
    }
   },
   "outputs": [
    {
     "data": {
      "text/html": [
       "\n",
       "    <div class=\"bk-root\">\n",
       "        <a href=\"https://bokeh.org\" target=\"_blank\" class=\"bk-logo bk-logo-small bk-logo-notebook\"></a>\n",
       "        <span id=\"16495\">Loading BokehJS ...</span>\n",
       "    </div>"
      ]
     },
     "metadata": {},
     "output_type": "display_data"
    },
    {
     "data": {
      "application/javascript": [
       "\n",
       "(function(root) {\n",
       "  function now() {\n",
       "    return new Date();\n",
       "  }\n",
       "\n",
       "  var force = true;\n",
       "\n",
       "  if (typeof root._bokeh_onload_callbacks === \"undefined\" || force === true) {\n",
       "    root._bokeh_onload_callbacks = [];\n",
       "    root._bokeh_is_loading = undefined;\n",
       "  }\n",
       "\n",
       "  var JS_MIME_TYPE = 'application/javascript';\n",
       "  var HTML_MIME_TYPE = 'text/html';\n",
       "  var EXEC_MIME_TYPE = 'application/vnd.bokehjs_exec.v0+json';\n",
       "  var CLASS_NAME = 'output_bokeh rendered_html';\n",
       "\n",
       "  /**\n",
       "   * Render data to the DOM node\n",
       "   */\n",
       "  function render(props, node) {\n",
       "    var script = document.createElement(\"script\");\n",
       "    node.appendChild(script);\n",
       "  }\n",
       "\n",
       "  /**\n",
       "   * Handle when an output is cleared or removed\n",
       "   */\n",
       "  function handleClearOutput(event, handle) {\n",
       "    var cell = handle.cell;\n",
       "\n",
       "    var id = cell.output_area._bokeh_element_id;\n",
       "    var server_id = cell.output_area._bokeh_server_id;\n",
       "    // Clean up Bokeh references\n",
       "    if (id != null && id in Bokeh.index) {\n",
       "      Bokeh.index[id].model.document.clear();\n",
       "      delete Bokeh.index[id];\n",
       "    }\n",
       "\n",
       "    if (server_id !== undefined) {\n",
       "      // Clean up Bokeh references\n",
       "      var cmd = \"from bokeh.io.state import curstate; print(curstate().uuid_to_server['\" + server_id + \"'].get_sessions()[0].document.roots[0]._id)\";\n",
       "      cell.notebook.kernel.execute(cmd, {\n",
       "        iopub: {\n",
       "          output: function(msg) {\n",
       "            var id = msg.content.text.trim();\n",
       "            if (id in Bokeh.index) {\n",
       "              Bokeh.index[id].model.document.clear();\n",
       "              delete Bokeh.index[id];\n",
       "            }\n",
       "          }\n",
       "        }\n",
       "      });\n",
       "      // Destroy server and session\n",
       "      var cmd = \"import bokeh.io.notebook as ion; ion.destroy_server('\" + server_id + \"')\";\n",
       "      cell.notebook.kernel.execute(cmd);\n",
       "    }\n",
       "  }\n",
       "\n",
       "  /**\n",
       "   * Handle when a new output is added\n",
       "   */\n",
       "  function handleAddOutput(event, handle) {\n",
       "    var output_area = handle.output_area;\n",
       "    var output = handle.output;\n",
       "\n",
       "    // limit handleAddOutput to display_data with EXEC_MIME_TYPE content only\n",
       "    if ((output.output_type != \"display_data\") || (!output.data.hasOwnProperty(EXEC_MIME_TYPE))) {\n",
       "      return\n",
       "    }\n",
       "\n",
       "    var toinsert = output_area.element.find(\".\" + CLASS_NAME.split(' ')[0]);\n",
       "\n",
       "    if (output.metadata[EXEC_MIME_TYPE][\"id\"] !== undefined) {\n",
       "      toinsert[toinsert.length - 1].firstChild.textContent = output.data[JS_MIME_TYPE];\n",
       "      // store reference to embed id on output_area\n",
       "      output_area._bokeh_element_id = output.metadata[EXEC_MIME_TYPE][\"id\"];\n",
       "    }\n",
       "    if (output.metadata[EXEC_MIME_TYPE][\"server_id\"] !== undefined) {\n",
       "      var bk_div = document.createElement(\"div\");\n",
       "      bk_div.innerHTML = output.data[HTML_MIME_TYPE];\n",
       "      var script_attrs = bk_div.children[0].attributes;\n",
       "      for (var i = 0; i < script_attrs.length; i++) {\n",
       "        toinsert[toinsert.length - 1].firstChild.setAttribute(script_attrs[i].name, script_attrs[i].value);\n",
       "        toinsert[toinsert.length - 1].firstChild.textContent = bk_div.children[0].textContent\n",
       "      }\n",
       "      // store reference to server id on output_area\n",
       "      output_area._bokeh_server_id = output.metadata[EXEC_MIME_TYPE][\"server_id\"];\n",
       "    }\n",
       "  }\n",
       "\n",
       "  function register_renderer(events, OutputArea) {\n",
       "\n",
       "    function append_mime(data, metadata, element) {\n",
       "      // create a DOM node to render to\n",
       "      var toinsert = this.create_output_subarea(\n",
       "        metadata,\n",
       "        CLASS_NAME,\n",
       "        EXEC_MIME_TYPE\n",
       "      );\n",
       "      this.keyboard_manager.register_events(toinsert);\n",
       "      // Render to node\n",
       "      var props = {data: data, metadata: metadata[EXEC_MIME_TYPE]};\n",
       "      render(props, toinsert[toinsert.length - 1]);\n",
       "      element.append(toinsert);\n",
       "      return toinsert\n",
       "    }\n",
       "\n",
       "    /* Handle when an output is cleared or removed */\n",
       "    events.on('clear_output.CodeCell', handleClearOutput);\n",
       "    events.on('delete.Cell', handleClearOutput);\n",
       "\n",
       "    /* Handle when a new output is added */\n",
       "    events.on('output_added.OutputArea', handleAddOutput);\n",
       "\n",
       "    /**\n",
       "     * Register the mime type and append_mime function with output_area\n",
       "     */\n",
       "    OutputArea.prototype.register_mime_type(EXEC_MIME_TYPE, append_mime, {\n",
       "      /* Is output safe? */\n",
       "      safe: true,\n",
       "      /* Index of renderer in `output_area.display_order` */\n",
       "      index: 0\n",
       "    });\n",
       "  }\n",
       "\n",
       "  // register the mime type if in Jupyter Notebook environment and previously unregistered\n",
       "  if (root.Jupyter !== undefined) {\n",
       "    var events = require('base/js/events');\n",
       "    var OutputArea = require('notebook/js/outputarea').OutputArea;\n",
       "\n",
       "    if (OutputArea.prototype.mime_types().indexOf(EXEC_MIME_TYPE) == -1) {\n",
       "      register_renderer(events, OutputArea);\n",
       "    }\n",
       "  }\n",
       "\n",
       "  \n",
       "  if (typeof (root._bokeh_timeout) === \"undefined\" || force === true) {\n",
       "    root._bokeh_timeout = Date.now() + 5000;\n",
       "    root._bokeh_failed_load = false;\n",
       "  }\n",
       "\n",
       "  var NB_LOAD_WARNING = {'data': {'text/html':\n",
       "     \"<div style='background-color: #fdd'>\\n\"+\n",
       "     \"<p>\\n\"+\n",
       "     \"BokehJS does not appear to have successfully loaded. If loading BokehJS from CDN, this \\n\"+\n",
       "     \"may be due to a slow or bad network connection. Possible fixes:\\n\"+\n",
       "     \"</p>\\n\"+\n",
       "     \"<ul>\\n\"+\n",
       "     \"<li>re-rerun `output_notebook()` to attempt to load from CDN again, or</li>\\n\"+\n",
       "     \"<li>use INLINE resources instead, as so:</li>\\n\"+\n",
       "     \"</ul>\\n\"+\n",
       "     \"<code>\\n\"+\n",
       "     \"from bokeh.resources import INLINE\\n\"+\n",
       "     \"output_notebook(resources=INLINE)\\n\"+\n",
       "     \"</code>\\n\"+\n",
       "     \"</div>\"}};\n",
       "\n",
       "  function display_loaded() {\n",
       "    var el = document.getElementById(\"16495\");\n",
       "    if (el != null) {\n",
       "      el.textContent = \"BokehJS is loading...\";\n",
       "    }\n",
       "    if (root.Bokeh !== undefined) {\n",
       "      if (el != null) {\n",
       "        el.textContent = \"BokehJS \" + root.Bokeh.version + \" successfully loaded.\";\n",
       "      }\n",
       "    } else if (Date.now() < root._bokeh_timeout) {\n",
       "      setTimeout(display_loaded, 100)\n",
       "    }\n",
       "  }\n",
       "\n",
       "\n",
       "  function run_callbacks() {\n",
       "    try {\n",
       "      root._bokeh_onload_callbacks.forEach(function(callback) {\n",
       "        if (callback != null)\n",
       "          callback();\n",
       "      });\n",
       "    } finally {\n",
       "      delete root._bokeh_onload_callbacks\n",
       "    }\n",
       "    console.debug(\"Bokeh: all callbacks have finished\");\n",
       "  }\n",
       "\n",
       "  function load_libs(css_urls, js_urls, callback) {\n",
       "    if (css_urls == null) css_urls = [];\n",
       "    if (js_urls == null) js_urls = [];\n",
       "\n",
       "    root._bokeh_onload_callbacks.push(callback);\n",
       "    if (root._bokeh_is_loading > 0) {\n",
       "      console.debug(\"Bokeh: BokehJS is being loaded, scheduling callback at\", now());\n",
       "      return null;\n",
       "    }\n",
       "    if (js_urls == null || js_urls.length === 0) {\n",
       "      run_callbacks();\n",
       "      return null;\n",
       "    }\n",
       "    console.debug(\"Bokeh: BokehJS not loaded, scheduling load and callback at\", now());\n",
       "    root._bokeh_is_loading = css_urls.length + js_urls.length;\n",
       "\n",
       "    function on_load() {\n",
       "      root._bokeh_is_loading--;\n",
       "      if (root._bokeh_is_loading === 0) {\n",
       "        console.debug(\"Bokeh: all BokehJS libraries/stylesheets loaded\");\n",
       "        run_callbacks()\n",
       "      }\n",
       "    }\n",
       "\n",
       "    function on_error() {\n",
       "      console.error(\"failed to load \" + url);\n",
       "    }\n",
       "\n",
       "    for (var i = 0; i < css_urls.length; i++) {\n",
       "      var url = css_urls[i];\n",
       "      const element = document.createElement(\"link\");\n",
       "      element.onload = on_load;\n",
       "      element.onerror = on_error;\n",
       "      element.rel = \"stylesheet\";\n",
       "      element.type = \"text/css\";\n",
       "      element.href = url;\n",
       "      console.debug(\"Bokeh: injecting link tag for BokehJS stylesheet: \", url);\n",
       "      document.body.appendChild(element);\n",
       "    }\n",
       "\n",
       "    const hashes = {\"https://cdn.bokeh.org/bokeh/release/bokeh-2.0.2.min.js\": \"ufR9RFnRs6lniiaFvtJziE0YeidtAgBRH6ux2oUItHw5WTvE1zuk9uzhUU/FJXDp\", \"https://cdn.bokeh.org/bokeh/release/bokeh-widgets-2.0.2.min.js\": \"8QM/PGWBT+IssZuRcDcjzwIh1mkOmJSoNMmyYDZbCfXJg3Ap1lEvdVgFuSAwhb/J\", \"https://cdn.bokeh.org/bokeh/release/bokeh-tables-2.0.2.min.js\": \"Jm8cH3Rg0P6UeZhVY5cLy1WzKajUT9KImCY+76hEqrcJt59/d8GPvFHjCkYgnSIn\", \"https://cdn.bokeh.org/bokeh/release/bokeh-gl-2.0.2.min.js\": \"Ozhzj+SI7ywm74aOI/UajcWz+C0NjsPunEVyVIrxzYkB+jA+2tUw8x5xJCbVtK5I\"};\n",
       "\n",
       "    for (var i = 0; i < js_urls.length; i++) {\n",
       "      var url = js_urls[i];\n",
       "      var element = document.createElement('script');\n",
       "      element.onload = on_load;\n",
       "      element.onerror = on_error;\n",
       "      element.async = false;\n",
       "      element.src = url;\n",
       "      if (url in hashes) {\n",
       "        element.crossOrigin = \"anonymous\";\n",
       "        element.integrity = \"sha384-\" + hashes[url];\n",
       "      }\n",
       "      console.debug(\"Bokeh: injecting script tag for BokehJS library: \", url);\n",
       "      document.head.appendChild(element);\n",
       "    }\n",
       "  };\n",
       "\n",
       "  function inject_raw_css(css) {\n",
       "    const element = document.createElement(\"style\");\n",
       "    element.appendChild(document.createTextNode(css));\n",
       "    document.body.appendChild(element);\n",
       "  }\n",
       "\n",
       "  \n",
       "  var js_urls = [\"https://cdn.bokeh.org/bokeh/release/bokeh-2.0.2.min.js\", \"https://cdn.bokeh.org/bokeh/release/bokeh-widgets-2.0.2.min.js\", \"https://cdn.bokeh.org/bokeh/release/bokeh-tables-2.0.2.min.js\", \"https://cdn.bokeh.org/bokeh/release/bokeh-gl-2.0.2.min.js\"];\n",
       "  var css_urls = [];\n",
       "  \n",
       "\n",
       "  var inline_js = [\n",
       "    function(Bokeh) {\n",
       "      Bokeh.set_log_level(\"info\");\n",
       "    },\n",
       "    function(Bokeh) {\n",
       "    \n",
       "    \n",
       "    }\n",
       "  ];\n",
       "\n",
       "  function run_inline_js() {\n",
       "    \n",
       "    if (root.Bokeh !== undefined || force === true) {\n",
       "      \n",
       "    for (var i = 0; i < inline_js.length; i++) {\n",
       "      inline_js[i].call(root, root.Bokeh);\n",
       "    }\n",
       "    if (force === true) {\n",
       "        display_loaded();\n",
       "      }} else if (Date.now() < root._bokeh_timeout) {\n",
       "      setTimeout(run_inline_js, 100);\n",
       "    } else if (!root._bokeh_failed_load) {\n",
       "      console.log(\"Bokeh: BokehJS failed to load within specified timeout.\");\n",
       "      root._bokeh_failed_load = true;\n",
       "    } else if (force !== true) {\n",
       "      var cell = $(document.getElementById(\"16495\")).parents('.cell').data().cell;\n",
       "      cell.output_area.append_execute_result(NB_LOAD_WARNING)\n",
       "    }\n",
       "\n",
       "  }\n",
       "\n",
       "  if (root._bokeh_is_loading === 0) {\n",
       "    console.debug(\"Bokeh: BokehJS loaded, going straight to plotting\");\n",
       "    run_inline_js();\n",
       "  } else {\n",
       "    load_libs(css_urls, js_urls, function() {\n",
       "      console.debug(\"Bokeh: BokehJS plotting callback run at\", now());\n",
       "      run_inline_js();\n",
       "    });\n",
       "  }\n",
       "}(window));"
      ],
      "application/vnd.bokehjs_load.v0+json": "\n(function(root) {\n  function now() {\n    return new Date();\n  }\n\n  var force = true;\n\n  if (typeof root._bokeh_onload_callbacks === \"undefined\" || force === true) {\n    root._bokeh_onload_callbacks = [];\n    root._bokeh_is_loading = undefined;\n  }\n\n  \n\n  \n  if (typeof (root._bokeh_timeout) === \"undefined\" || force === true) {\n    root._bokeh_timeout = Date.now() + 5000;\n    root._bokeh_failed_load = false;\n  }\n\n  var NB_LOAD_WARNING = {'data': {'text/html':\n     \"<div style='background-color: #fdd'>\\n\"+\n     \"<p>\\n\"+\n     \"BokehJS does not appear to have successfully loaded. If loading BokehJS from CDN, this \\n\"+\n     \"may be due to a slow or bad network connection. Possible fixes:\\n\"+\n     \"</p>\\n\"+\n     \"<ul>\\n\"+\n     \"<li>re-rerun `output_notebook()` to attempt to load from CDN again, or</li>\\n\"+\n     \"<li>use INLINE resources instead, as so:</li>\\n\"+\n     \"</ul>\\n\"+\n     \"<code>\\n\"+\n     \"from bokeh.resources import INLINE\\n\"+\n     \"output_notebook(resources=INLINE)\\n\"+\n     \"</code>\\n\"+\n     \"</div>\"}};\n\n  function display_loaded() {\n    var el = document.getElementById(\"16495\");\n    if (el != null) {\n      el.textContent = \"BokehJS is loading...\";\n    }\n    if (root.Bokeh !== undefined) {\n      if (el != null) {\n        el.textContent = \"BokehJS \" + root.Bokeh.version + \" successfully loaded.\";\n      }\n    } else if (Date.now() < root._bokeh_timeout) {\n      setTimeout(display_loaded, 100)\n    }\n  }\n\n\n  function run_callbacks() {\n    try {\n      root._bokeh_onload_callbacks.forEach(function(callback) {\n        if (callback != null)\n          callback();\n      });\n    } finally {\n      delete root._bokeh_onload_callbacks\n    }\n    console.debug(\"Bokeh: all callbacks have finished\");\n  }\n\n  function load_libs(css_urls, js_urls, callback) {\n    if (css_urls == null) css_urls = [];\n    if (js_urls == null) js_urls = [];\n\n    root._bokeh_onload_callbacks.push(callback);\n    if (root._bokeh_is_loading > 0) {\n      console.debug(\"Bokeh: BokehJS is being loaded, scheduling callback at\", now());\n      return null;\n    }\n    if (js_urls == null || js_urls.length === 0) {\n      run_callbacks();\n      return null;\n    }\n    console.debug(\"Bokeh: BokehJS not loaded, scheduling load and callback at\", now());\n    root._bokeh_is_loading = css_urls.length + js_urls.length;\n\n    function on_load() {\n      root._bokeh_is_loading--;\n      if (root._bokeh_is_loading === 0) {\n        console.debug(\"Bokeh: all BokehJS libraries/stylesheets loaded\");\n        run_callbacks()\n      }\n    }\n\n    function on_error() {\n      console.error(\"failed to load \" + url);\n    }\n\n    for (var i = 0; i < css_urls.length; i++) {\n      var url = css_urls[i];\n      const element = document.createElement(\"link\");\n      element.onload = on_load;\n      element.onerror = on_error;\n      element.rel = \"stylesheet\";\n      element.type = \"text/css\";\n      element.href = url;\n      console.debug(\"Bokeh: injecting link tag for BokehJS stylesheet: \", url);\n      document.body.appendChild(element);\n    }\n\n    const hashes = {\"https://cdn.bokeh.org/bokeh/release/bokeh-2.0.2.min.js\": \"ufR9RFnRs6lniiaFvtJziE0YeidtAgBRH6ux2oUItHw5WTvE1zuk9uzhUU/FJXDp\", \"https://cdn.bokeh.org/bokeh/release/bokeh-widgets-2.0.2.min.js\": \"8QM/PGWBT+IssZuRcDcjzwIh1mkOmJSoNMmyYDZbCfXJg3Ap1lEvdVgFuSAwhb/J\", \"https://cdn.bokeh.org/bokeh/release/bokeh-tables-2.0.2.min.js\": \"Jm8cH3Rg0P6UeZhVY5cLy1WzKajUT9KImCY+76hEqrcJt59/d8GPvFHjCkYgnSIn\", \"https://cdn.bokeh.org/bokeh/release/bokeh-gl-2.0.2.min.js\": \"Ozhzj+SI7ywm74aOI/UajcWz+C0NjsPunEVyVIrxzYkB+jA+2tUw8x5xJCbVtK5I\"};\n\n    for (var i = 0; i < js_urls.length; i++) {\n      var url = js_urls[i];\n      var element = document.createElement('script');\n      element.onload = on_load;\n      element.onerror = on_error;\n      element.async = false;\n      element.src = url;\n      if (url in hashes) {\n        element.crossOrigin = \"anonymous\";\n        element.integrity = \"sha384-\" + hashes[url];\n      }\n      console.debug(\"Bokeh: injecting script tag for BokehJS library: \", url);\n      document.head.appendChild(element);\n    }\n  };\n\n  function inject_raw_css(css) {\n    const element = document.createElement(\"style\");\n    element.appendChild(document.createTextNode(css));\n    document.body.appendChild(element);\n  }\n\n  \n  var js_urls = [\"https://cdn.bokeh.org/bokeh/release/bokeh-2.0.2.min.js\", \"https://cdn.bokeh.org/bokeh/release/bokeh-widgets-2.0.2.min.js\", \"https://cdn.bokeh.org/bokeh/release/bokeh-tables-2.0.2.min.js\", \"https://cdn.bokeh.org/bokeh/release/bokeh-gl-2.0.2.min.js\"];\n  var css_urls = [];\n  \n\n  var inline_js = [\n    function(Bokeh) {\n      Bokeh.set_log_level(\"info\");\n    },\n    function(Bokeh) {\n    \n    \n    }\n  ];\n\n  function run_inline_js() {\n    \n    if (root.Bokeh !== undefined || force === true) {\n      \n    for (var i = 0; i < inline_js.length; i++) {\n      inline_js[i].call(root, root.Bokeh);\n    }\n    if (force === true) {\n        display_loaded();\n      }} else if (Date.now() < root._bokeh_timeout) {\n      setTimeout(run_inline_js, 100);\n    } else if (!root._bokeh_failed_load) {\n      console.log(\"Bokeh: BokehJS failed to load within specified timeout.\");\n      root._bokeh_failed_load = true;\n    } else if (force !== true) {\n      var cell = $(document.getElementById(\"16495\")).parents('.cell').data().cell;\n      cell.output_area.append_execute_result(NB_LOAD_WARNING)\n    }\n\n  }\n\n  if (root._bokeh_is_loading === 0) {\n    console.debug(\"Bokeh: BokehJS loaded, going straight to plotting\");\n    run_inline_js();\n  } else {\n    load_libs(css_urls, js_urls, function() {\n      console.debug(\"Bokeh: BokehJS plotting callback run at\", now());\n      run_inline_js();\n    });\n  }\n}(window));"
     },
     "metadata": {},
     "output_type": "display_data"
    }
   ],
   "source": [
    "import os \n",
    "ROOT = os.getenv( \"HOME\" )\n",
    "import pandas as pd\n",
    "import numpy as np\n",
    "pd.set_option('precision', 2)\n",
    "%matplotlib inline\n",
    "from matplotlib import pyplot as plt\n",
    "import matplotlib.dates as mdates\n",
    "import matplotlib.ticker as mticker\n",
    "import seaborn as sns\n",
    "sns.set(style=\"whitegrid\")\n",
    "from IPython.display import set_matplotlib_formats\n",
    "set_matplotlib_formats('svg', 'pdf')\n",
    "\n",
    "from bokeh.plotting import figure, show, output_notebook\n",
    "from bokeh.models import ColumnDataSource, Band, Span, Plot, HoverTool\n",
    "# output to static HTML \n",
    "output_notebook()\n",
    "\n",
    "import datetime\n",
    "\n",
    "pd.options.display.max_rows = 999\n",
    "pd.options.plotting.matplotlib.register_converters = True"
   ]
  },
  {
   "cell_type": "code",
   "execution_count": 2,
   "metadata": {
    "ExecuteTime": {
     "end_time": "2020-06-21T21:12:55.360006Z",
     "start_time": "2020-06-21T21:12:55.354311Z"
    },
    "run_control": {
     "marked": true
    }
   },
   "outputs": [],
   "source": [
    "PLACE = 'North Hollywood'\n",
    "PLACES = [  'North Hollywood', 'Burbank', 'Encino', 'Glendale', 'Sherman Oaks',  'Studio City',   'Van Nuys',  'Valley Glen',]\n",
    "\n",
    "# numbers are small or null before this\n",
    "start_date = '2020-03-24'\n",
    "\n",
    "county_url = 'https://raw.githubusercontent.com/datadesk/california-coronavirus-data/master/latimes-county-totals.csv'\n",
    "locale_url = 'https://raw.githubusercontent.com/datadesk/california-coronavirus-data/master/latimes-place-totals.csv'\n",
    "hospital_url = 'https://raw.githubusercontent.com/datadesk/california-coronavirus-data/master/cdph-hospital-patient-county-totals.csv'"
   ]
  },
  {
   "cell_type": "markdown",
   "metadata": {
    "ExecuteTime": {
     "end_time": "2020-05-16T19:10:24.230170Z",
     "start_time": "2020-05-16T19:10:23.324826Z"
    }
   },
   "source": [
    "# Download and prepare data"
   ]
  },
  {
   "cell_type": "code",
   "execution_count": 3,
   "metadata": {
    "ExecuteTime": {
     "end_time": "2020-06-21T21:12:55.391543Z",
     "start_time": "2020-06-21T21:12:55.368422Z"
    },
    "run_control": {
     "marked": true
    }
   },
   "outputs": [],
   "source": [
    "def calc_daily_new(locales, place, replace_neg=False):\n",
    "    \"\"\"\n",
    "    Returns a dataframe with the change between each day\n",
    "    \"\"\"\n",
    "    d = locales.loc[place].copy(deep=True)\n",
    "    try:\n",
    "        d.drop(['county'], axis=1, inplace=True)\n",
    "    except:\n",
    "        pass\n",
    "    d = d - d.shift(1)\n",
    "    if replace_neg:\n",
    "        return d.clip(lower=0)\n",
    "    return d\n",
    "\n",
    "def calc_daily_growth(locales, place, prevent_negatives=True):\n",
    "    \"\"\"\n",
    "    Calculates the daily growth rate\n",
    "    \n",
    "    If prevent_negatives is True, it will filter out any negative\n",
    "    growth values (as sometimes happens when negative cases /deaths \n",
    "    have been added to the data to adjust totals) \n",
    "    \"\"\"\n",
    "    \n",
    "    daily =  calc_daily_new(locales, place)\n",
    "    d = daily / daily.shift(1) \n",
    "    \n",
    "    # remove any infinite values \n",
    "    d = d.mask(np.isinf(d))\n",
    "    \n",
    "    # remove any negative values\n",
    "    if prevent_negatives:\n",
    "        d = d[d.confirmed_cases >= 0]\n",
    "    \n",
    "    return d\n",
    "\n",
    "\n",
    "def plot_growth_rate(growth_frame, place):\n",
    "    fig, axes = plt.subplots(figsize=(10, 4))\n",
    "    title = \"{} Daily growth rate\".format(place)\n",
    "    growth_frame.plot(kind='bar', title=title, ax=axes)\n",
    "    ticklabels = [i.strftime(\"%b-%d\") for i, row in growth_frame.iterrows()]\n",
    "    axes.xaxis.set_major_formatter(mticker.FixedFormatter(ticklabels))\n",
    "    # fig.autofmt_xdate();\n",
    "    axes.axhline(y=1, color='r')\n",
    "    fig.tight_layout()\n",
    "\n",
    "    \n",
    "# noho_growth_rate"
   ]
  },
  {
   "cell_type": "code",
   "execution_count": 4,
   "metadata": {
    "ExecuteTime": {
     "end_time": "2020-06-21T21:12:59.123327Z",
     "start_time": "2020-06-21T21:12:55.400355Z"
    },
    "run_control": {
     "marked": true
    }
   },
   "outputs": [],
   "source": [
    "counties = pd.read_csv(county_url)\n",
    "counties.date = pd.to_datetime(counties.date)\n",
    "counties.set_index('date', inplace=True)\n",
    "counties.sort_index(inplace=True)\n",
    "counties.drop(['fips'], axis=1,inplace=True)\n",
    "\n",
    "# LA County data\n",
    "lac = counties[counties.county == 'Los Angeles'].loc[ start_date : ].copy(deep=True)\n",
    "lac.drop(['county'], axis=1, inplace=True)\n",
    "lac_daily_new = lac[['new_confirmed_cases', 'new_deaths']]\n",
    "lac_cum = lac[[ 'confirmed_cases', 'deaths']]\n",
    "lac_growth_rate = lac_daily_new / lac_daily_new.shift(1)\n",
    "\n",
    "# Locale data\n",
    "locales = pd.read_csv(locale_url)\n",
    "locales.drop([  'fips',  'note', 'x', 'y'], axis=1, inplace=True)\n",
    "locales.date = pd.to_datetime(locales.date)\n",
    "locales.set_index(['place', 'date'], inplace=True)\n",
    "locales.sort_index(inplace=True)\n",
    "la_locales = locales[locales.county == 'Los Angeles'].copy(deep=True)\n",
    "la_locales.drop([ 'county'], axis=1, inplace=True)\n",
    "la_locale_names = list(la_locales.index.get_level_values(0))\n",
    "\n",
    "# NoHo data\n",
    "noho = la_locales.loc['North Hollywood'].copy(deep=True)\n",
    "\n",
    "# hospitalizations \n",
    "hosp = pd.read_csv(hospital_url)\n",
    "hosp.date = pd.to_datetime(hosp.date)\n",
    "hosp.drop(['fips'], axis=1, inplace=True)\n",
    "hosp_lac = hosp[hosp.county == 'Los Angeles'].drop(['county'], axis=1).copy(deep=True)\n",
    "hosp_lac.set_index('date', inplace=True); hosp_lac.sort_index(inplace=True)\n",
    "hosp_lac['total_patients'] = hosp_lac.positive_patients + hosp_lac.suspected_patients\n",
    "hosp_lac['total_icu'] = hosp_lac.icu_positive_patients + hosp_lac.icu_suspected_patients\n",
    "new_hosp_lac = hosp_lac - hosp_lac.shift(1)\n",
    "new_hosp_lac.dropna(inplace=True)\n",
    "\n",
    "# growth rates\n",
    "# dict version for easiest access to individual frames\n",
    "locale_growth_rates = { place : calc_daily_growth(locales, place) for place in PLACES}\n",
    "# combined version \n",
    "fms = []\n",
    "for place, frame in locale_growth_rates.items():\n",
    "    f = frame.copy(deep=True)\n",
    "    f['locale'] = place\n",
    "    fms.append(f)\n",
    "growth_rate_frame = pd.concat(fms)\n",
    "\n",
    "noho_growth_rate = locale_growth_rates.get(PLACE)\n",
    "noho_growth_rate = noho_growth_rate[noho_growth_rate.confirmed_cases >= 0]"
   ]
  },
  {
   "cell_type": "markdown",
   "metadata": {},
   "source": [
    "# Daily new"
   ]
  },
  {
   "cell_type": "code",
   "execution_count": 22,
   "metadata": {
    "ExecuteTime": {
     "end_time": "2020-06-21T21:39:11.806762Z",
     "start_time": "2020-06-21T21:39:11.797821Z"
    }
   },
   "outputs": [],
   "source": [
    "def plot_daily(frame, field_name, title_word, place='(LAC)', trim_pos=None, trim_neg=None):\n",
    "    \"\"\"\n",
    "    Plots the desired field's daily values as a vertical bar graph\n",
    "    with a 7-day moving average line\n",
    "    \n",
    "    trim_pos: None or float. If set, will remove values above this limit from the bars (but not average)\n",
    "    trim_neg: None or float. If set, will remove values below this limit from the bars (but not average)\n",
    "    \n",
    "    \"\"\"\n",
    "    TOOLTIPS = [\n",
    "        (\"cases\", f\"@{field_name}\"),\n",
    "        (\"date\", \"@date\")\n",
    "    ]\n",
    "\n",
    "    p = figure(\n",
    "        plot_width=1000,\n",
    "        plot_height=400,\n",
    "        title=f\"Daily new {title_word} {place}\",\n",
    "        x_axis_type='datetime') #,\n",
    "#                tooltips=TOOLTIPS)\n",
    "\n",
    "\n",
    "    hover = HoverTool(tooltips= TOOLTIPS, #[('date', '@DateTime{%F}')],\n",
    "          formatters={'date': 'datetime'})\n",
    "    \n",
    "    p.add_tools(hover)\n",
    "\n",
    "    bar_data = frame.reset_index()\n",
    "    if trim_pos is not None:\n",
    "        bar_data = bar_data[bar_data[field_name] <= trim_pos]\n",
    "    if trim_neg is not None:\n",
    "        bar_data = bar_data[bar_data[field_name] >= trim_neg]\n",
    "        \n",
    "    source = ColumnDataSource(bar_data)\n",
    "    source2 = ColumnDataSource(frame.rolling(window='7D').mean().reset_index())\n",
    "\n",
    "    # add a circle renderer with a size, color, and alpha\n",
    "    # p.circle(x='date', y='new_confirmed_cases', size=10, color=\"navy\", source=source, alpha=0.5)\n",
    "    p.vbar(\n",
    "        x='date',\n",
    "        top=field_name,\n",
    "        color=\"green\",\n",
    "        width=0.4,\n",
    "        source=source,\n",
    "        alpha=0.8,\n",
    "        legend_label=f'Daily new {title_word}')\n",
    "    p.line(\n",
    "        x='date',\n",
    "        y=field_name,\n",
    "        line_width=5,\n",
    "        color=\"navy\",\n",
    "        source=source2,\n",
    "        alpha=0.3,\n",
    "        legend_label='7-day rolling avg')\n",
    " \n",
    "    # df['lower'] = df.new_confirmed_cases.mean() - df.new_confirmed_cases.std()\n",
    "    # df['upper'] = df.new_confirmed_cases.mean() + df.new_confirmed_cases.std()\n",
    "    # band = Band(base='x', lower='lower', upper='upper', source=source, level='underlay',\n",
    "    #             fill_alpha=1.0, line_width=1, line_color='black')\n",
    "    # p.add_layout(band)\n",
    "\n",
    "    # show the results\n",
    "    show(p)"
   ]
  },
  {
   "cell_type": "markdown",
   "metadata": {},
   "source": [
    "## LA County"
   ]
  },
  {
   "cell_type": "code",
   "execution_count": 23,
   "metadata": {
    "ExecuteTime": {
     "end_time": "2020-06-21T21:39:12.734294Z",
     "start_time": "2020-06-21T21:39:12.252615Z"
    }
   },
   "outputs": [
    {
     "data": {
      "text/html": [
       "\n",
       "\n",
       "\n",
       "\n",
       "\n",
       "\n",
       "  <div class=\"bk-root\" id=\"b47d31d7-7418-4819-b526-b11a4f4aa773\" data-root-id=\"18270\"></div>\n"
      ]
     },
     "metadata": {},
     "output_type": "display_data"
    },
    {
     "data": {
      "application/javascript": [
       "(function(root) {\n",
       "  function embed_document(root) {\n",
       "    \n",
       "  var docs_json = {\"4f25e909-841f-49ac-b5fb-0ed09fc927de\":{\"roots\":{\"references\":[{\"attributes\":{\"below\":[{\"id\":\"18281\"}],\"center\":[{\"id\":\"18284\"},{\"id\":\"18288\"},{\"id\":\"18330\"}],\"left\":[{\"id\":\"18285\"}],\"plot_height\":400,\"plot_width\":1000,\"renderers\":[{\"id\":\"18310\"},{\"id\":\"18335\"}],\"title\":{\"id\":\"18271\"},\"toolbar\":{\"id\":\"18296\"},\"x_range\":{\"id\":\"18273\"},\"x_scale\":{\"id\":\"18277\"},\"y_range\":{\"id\":\"18275\"},\"y_scale\":{\"id\":\"18279\"}},\"id\":\"18270\",\"subtype\":\"Figure\",\"type\":\"Plot\"},{\"attributes\":{\"overlay\":{\"id\":\"18295\"}},\"id\":\"18291\",\"type\":\"BoxZoomTool\"},{\"attributes\":{\"months\":[0,2,4,6,8,10]},\"id\":\"18326\",\"type\":\"MonthsTicker\"},{\"attributes\":{\"active_drag\":\"auto\",\"active_inspect\":\"auto\",\"active_multi\":null,\"active_scroll\":\"auto\",\"active_tap\":\"auto\",\"tools\":[{\"id\":\"18289\"},{\"id\":\"18290\"},{\"id\":\"18291\"},{\"id\":\"18292\"},{\"id\":\"18293\"},{\"id\":\"18294\"},{\"id\":\"18303\"}]},\"id\":\"18296\",\"type\":\"Toolbar\"},{\"attributes\":{\"axis\":{\"id\":\"18281\"},\"ticker\":null},\"id\":\"18284\",\"type\":\"Grid\"},{\"attributes\":{\"days\":[1,2,3,4,5,6,7,8,9,10,11,12,13,14,15,16,17,18,19,20,21,22,23,24,25,26,27,28,29,30,31]},\"id\":\"18321\",\"type\":\"DaysTicker\"},{\"attributes\":{\"months\":[0,4,8]},\"id\":\"18327\",\"type\":\"MonthsTicker\"},{\"attributes\":{},\"id\":\"18293\",\"type\":\"ResetTool\"},{\"attributes\":{\"months\":[0,6]},\"id\":\"18328\",\"type\":\"MonthsTicker\"},{\"attributes\":{},\"id\":\"18292\",\"type\":\"SaveTool\"},{\"attributes\":{\"days\":[1,15]},\"id\":\"18324\",\"type\":\"DaysTicker\"},{\"attributes\":{},\"id\":\"18289\",\"type\":\"PanTool\"},{\"attributes\":{},\"id\":\"18329\",\"type\":\"YearsTicker\"},{\"attributes\":{\"axis\":{\"id\":\"18285\"},\"dimension\":1,\"ticker\":null},\"id\":\"18288\",\"type\":\"Grid\"},{\"attributes\":{\"days\":[1,8,15,22]},\"id\":\"18323\",\"type\":\"DaysTicker\"},{\"attributes\":{\"months\":[0,1,2,3,4,5,6,7,8,9,10,11]},\"id\":\"18325\",\"type\":\"MonthsTicker\"},{\"attributes\":{\"items\":[{\"id\":\"18331\"},{\"id\":\"18357\"}]},\"id\":\"18330\",\"type\":\"Legend\"},{\"attributes\":{\"bottom_units\":\"screen\",\"fill_alpha\":0.5,\"fill_color\":\"lightgrey\",\"left_units\":\"screen\",\"level\":\"overlay\",\"line_alpha\":1.0,\"line_color\":\"black\",\"line_dash\":[4,4],\"line_width\":2,\"render_mode\":\"css\",\"right_units\":\"screen\",\"top_units\":\"screen\"},\"id\":\"18295\",\"type\":\"BoxAnnotation\"},{\"attributes\":{},\"id\":\"18290\",\"type\":\"WheelZoomTool\"},{\"attributes\":{},\"id\":\"18279\",\"type\":\"LinearScale\"},{\"attributes\":{\"label\":{\"value\":\"Daily new cases\"},\"renderers\":[{\"id\":\"18310\"}]},\"id\":\"18331\",\"type\":\"LegendItem\"},{\"attributes\":{\"source\":{\"id\":\"18305\"}},\"id\":\"18311\",\"type\":\"CDSView\"},{\"attributes\":{\"formatter\":{\"id\":\"18314\"},\"ticker\":{\"id\":\"18282\"}},\"id\":\"18281\",\"type\":\"DatetimeAxis\"},{\"attributes\":{},\"id\":\"18355\",\"type\":\"UnionRenderers\"},{\"attributes\":{\"source\":{\"id\":\"18306\"}},\"id\":\"18336\",\"type\":\"CDSView\"},{\"attributes\":{\"data_source\":{\"id\":\"18306\"},\"glyph\":{\"id\":\"18333\"},\"hover_glyph\":null,\"muted_glyph\":null,\"nonselection_glyph\":{\"id\":\"18334\"},\"selection_glyph\":null,\"view\":{\"id\":\"18336\"}},\"id\":\"18335\",\"type\":\"GlyphRenderer\"},{\"attributes\":{\"line_alpha\":0.1,\"line_color\":\"navy\",\"line_width\":5,\"x\":{\"field\":\"date\"},\"y\":{\"field\":\"new_confirmed_cases\"}},\"id\":\"18334\",\"type\":\"Line\"},{\"attributes\":{},\"id\":\"18314\",\"type\":\"DatetimeTickFormatter\"},{\"attributes\":{\"data\":{\"date\":{\"__ndarray__\":\"AADAa50Qd0IAAIDR7xB3QgAAQDdCEXdCAAAAnZQRd0IAAMAC5xF3QgAAgGg5EndCAABAzosSd0IAAAA03hJ3QgAAwJkwE3dCAACA/4ITd0IAAEBl1RN3QgAAAMsnFHdCAADAMHoUd0IAAICWzBR3QgAAQPweFXdCAAAAYnEVd0IAAMDHwxV3QgAAgC0WFndCAABAk2gWd0IAAAD5uhZ3QgAAwF4NF3dCAACAxF8Xd0IAAEAqshd3QgAAAJAEGHdCAADA9VYYd0IAAIBbqRh3QgAAQMH7GHdCAAAAJ04Zd0IAAMCMoBl3QgAAgPLyGXdCAABAWEUad0IAAAC+lxp3QgAAwCPqGndCAACAiTwbd0IAAEDvjht3QgAAAFXhG3dCAADAujMcd0IAAIAghhx3QgAAQIbYHHdCAAAA7Codd0IAAMBRfR13QgAAgLfPHXdCAABAHSIed0IAAACDdB53QgAAwOjGHndCAACAThkfd0IAAEC0ax93QgAAABq+H3dCAADAfxAgd0IAAIDlYiB3QgAAQEu1IHdCAAAAsQchd0IAAMAWWiF3QgAAgHysIXdCAABA4v4hd0IAAABIUSJ3QgAAwK2jIndCAACAE/Yid0IAAEB5SCN3QgAAAN+aI3dCAADARO0jd0IAAICqPyR3QgAAQBCSJHdCAAAAduQkd0IAAMDbNiV3QgAAgEGJJXdCAABAp9sld0IAAAANLiZ3QgAAwHKAJndCAACA2NImd0IAAEA+JSd3QgAAAKR3J3dCAADACcond0IAAIBvHCh3QgAAQNVuKHdCAAAAO8Eod0IAAMCgEyl3QgAAgAZmKXdCAABAbLgpd0IAAADSCip3QgAAwDddKndCAACAna8qd0IAAEADAit3QgAAAGlUK3dCAADAzqYrd0IAAIA0+St3QgAAQJpLLHdCAAAAAJ4sd0IAAMBl8Cx3Qg==\",\"dtype\":\"float64\",\"shape\":[89]},\"index\":[0,1,2,3,4,5,6,7,8,9,10,11,12,13,14,15,16,17,18,19,20,21,22,23,24,25,26,27,28,29,30,31,32,33,34,35,36,37,38,39,40,41,42,43,44,45,46,47,48,49,50,51,52,53,54,55,56,57,58,59,60,61,62,63,64,65,66,67,68,69,70,71,72,73,74,75,76,77,78,79,80,81,82,83,84,85,86,87,88],\"new_confirmed_cases\":{\"__ndarray__\":\"AAAAAADAX0AAAAAAAABiQAAAAAAAAHpAAAAAAACAb0AAAAAAAAB1QAAAAAAAkHRAAAAAAABgdkAAAAAAAKCAQAAAAAAAsH5AAAAAAAD4gEAAAAAAALCAQAAAAAAAgIZAAAAAAACwg0AAAAAAAEB7QAAAAAAASIFAAAAAAACog0AAAAAAALB5QAAAAAAAUH1AAAAAAABAe0AAAAAAAEBzQAAAAAAAsHFAAAAAAACYgkAAAAAAAKB7QAAAAAAAoHdAAAAAAABwgEAAAAAAALCDQAAAAAAAoHJAAAAAAAAIl0AAAAAAAPiUQAAAAAAAEJRAAAAAAAB4kUAAAAAAAJCOQAAAAAAAMINAAAAAAACAeUAAAAAAAOiLQAAAAAAAaIFAAAAAAACEl0AAAAAAADiGQAAAAAAAFJBAAAAAAAAQhUAAAAAAANiHQAAAAAAA2IBAAAAAAABwmUAAAAAAAPiIQAAAAAAA6IpAAAAAAABAiUAAAAAAAFiMQAAAAAAA4HxAAAAAAACwgUAAAAAAAJCOQAAAAAAAZJRAAAAAAAD4i0AAAAAAAGiLQAAAAAAAaJBAAAAAAADog0AAAAAAAHB8QAAAAAAAOJJAAAAAAAD8lEAAAAAAACySQAAAAAAAmI1AAAAAAAAwkEAAAAAAAIiMQAAAAAAA6I5AAAAAAADwnEAAAAAAADiMQAAAAAAA6JBAAAAAAACEnEAAAAAAABqgQAAAAAAAnJNAAAAAAADAj0AAAAAAANSSQAAAAAAAVJBAAAAAAAColkAAAAAAADSVQAAAAAAAjJRAAAAAAADUlkAAAAAAAIiKQAAAAAAAqJNAAAAAAAAIkkAAAAAAAOCcQAAAAAAAnJhAAAAAAADwl0AAAAAAAOiNQAAAAAAASIlAAAAAAADwlEAAAAAAAIKgQAAAAAAAnJBAAAAAAADAlEAAAAAAAMSfQA==\",\"dtype\":\"float64\",\"shape\":[89]},\"new_deaths\":{\"__ndarray__\":\"AAAAAAAAAEAAAAAAAAAIQAAAAAAAACBAAAAAAAAAFEAAAAAAAAAYQAAAAAAAABRAAAAAAAAAHEAAAAAAAAAkQAAAAAAAAChAAAAAAAAALEAAAAAAAAAqQAAAAAAAADpAAAAAAAAAKkAAAAAAAAAuQAAAAAAAADpAAAAAAAAAO0AAAAAAAAA5QAAAAAAAADNAAAAAAAAAN0AAAAAAAIBAQAAAAAAAADpAAAAAAAAAREAAAAAAAIBDQAAAAAAAAEpAAAAAAAAARkAAAAAAAABTQAAAAAAAADhAAAAAAAAAMkAAAAAAAIBHQAAAAAAAgFBAAAAAAACAUEAAAAAAAABKQAAAAAAAAEdAAAAAAAAANEAAAAAAAABAQAAAAAAAAExAAAAAAACATkAAAAAAAABLQAAAAAAAgEtAAAAAAAAAQ0AAAAAAAAAzQAAAAAAAAD1AAAAAAACAS0AAAAAAAABLQAAAAAAAgElAAAAAAAAASUAAAAAAAIBGQAAAAAAAADBAAAAAAACAQ0AAAAAAAIBHQAAAAAAAAEdAAAAAAAAASEAAAAAAAIBEQAAAAAAAgERAAAAAAAAAPEAAAAAAAAA1QAAAAAAAAFVAAAAAAAAASUAAAAAAAIBGQAAAAAAAAD5AAAAAAACAREAAAAAAAAAwQAAAAAAAACBAAAAAAAAAPUAAAAAAAABMQAAAAAAAAERAAAAAAACASkAAAAAAAIBGQAAAAAAAADdAAAAAAAAAOEAAAAAAAABPQAAAAAAAgERAAAAAAACARUAAAAAAAIBBQAAAAAAAgExAAAAAAAAANkAAAAAAAAAkQAAAAAAAAEtAAAAAAAAATUAAAAAAAABJQAAAAAAAADBAAAAAAAAATkAAAAAAAAAqQAAAAAAAADNAAAAAAACAQUAAAAAAAABAQAAAAAAAAEFAAAAAAACAQ0AAAAAAAABHQA==\",\"dtype\":\"float64\",\"shape\":[89]}},\"selected\":{\"id\":\"18356\"},\"selection_policy\":{\"id\":\"18355\"}},\"id\":\"18305\",\"type\":\"ColumnDataSource\"},{\"attributes\":{\"days\":[1,4,7,10,13,16,19,22,25,28]},\"id\":\"18322\",\"type\":\"DaysTicker\"},{\"attributes\":{\"fill_alpha\":{\"value\":0.1},\"fill_color\":{\"value\":\"green\"},\"line_alpha\":{\"value\":0.1},\"line_color\":{\"value\":\"green\"},\"top\":{\"field\":\"new_confirmed_cases\"},\"width\":{\"value\":0.4},\"x\":{\"field\":\"date\"}},\"id\":\"18309\",\"type\":\"VBar\"},{\"attributes\":{\"line_alpha\":0.3,\"line_color\":\"navy\",\"line_width\":5,\"x\":{\"field\":\"date\"},\"y\":{\"field\":\"new_confirmed_cases\"}},\"id\":\"18333\",\"type\":\"Line\"},{\"attributes\":{},\"id\":\"18277\",\"type\":\"LinearScale\"},{\"attributes\":{\"fill_alpha\":{\"value\":0.8},\"fill_color\":{\"value\":\"green\"},\"line_alpha\":{\"value\":0.8},\"line_color\":{\"value\":\"green\"},\"top\":{\"field\":\"new_confirmed_cases\"},\"width\":{\"value\":0.4},\"x\":{\"field\":\"date\"}},\"id\":\"18308\",\"type\":\"VBar\"},{\"attributes\":{\"data\":{\"date\":{\"__ndarray__\":\"AADAa50Qd0IAAIDR7xB3QgAAQDdCEXdCAAAAnZQRd0IAAMAC5xF3QgAAgGg5EndCAABAzosSd0IAAAA03hJ3QgAAwJkwE3dCAACA/4ITd0IAAEBl1RN3QgAAAMsnFHdCAADAMHoUd0IAAICWzBR3QgAAQPweFXdCAAAAYnEVd0IAAMDHwxV3QgAAgC0WFndCAABAk2gWd0IAAAD5uhZ3QgAAwF4NF3dCAACAxF8Xd0IAAEAqshd3QgAAAJAEGHdCAADA9VYYd0IAAIBbqRh3QgAAQMH7GHdCAAAAJ04Zd0IAAMCMoBl3QgAAgPLyGXdCAABAWEUad0IAAAC+lxp3QgAAwCPqGndCAACAiTwbd0IAAEDvjht3QgAAAFXhG3dCAADAujMcd0IAAIAghhx3QgAAQIbYHHdCAAAA7Codd0IAAMBRfR13QgAAgLfPHXdCAABAHSIed0IAAACDdB53QgAAwOjGHndCAACAThkfd0IAAEC0ax93QgAAABq+H3dCAADAfxAgd0IAAIDlYiB3QgAAQEu1IHdCAAAAsQchd0IAAMAWWiF3QgAAgHysIXdCAABA4v4hd0IAAABIUSJ3QgAAwK2jIndCAACAE/Yid0IAAEB5SCN3QgAAAN+aI3dCAADARO0jd0IAAICqPyR3QgAAQBCSJHdCAAAAduQkd0IAAMDbNiV3QgAAgEGJJXdCAABAp9sld0IAAAANLiZ3QgAAwHKAJndCAACA2NImd0IAAEA+JSd3QgAAAKR3J3dCAADACcond0IAAIBvHCh3QgAAQNVuKHdCAAAAO8Eod0IAAMCgEyl3QgAAgAZmKXdCAABAbLgpd0IAAADSCip3QgAAwDddKndCAACAna8qd0IAAEADAit3QgAAAGlUK3dCAADAzqYrd0IAAIA0+St3QgAAQJpLLHdCAAAAAJ4sd0IAAMBl8Cx3Qg==\",\"dtype\":\"float64\",\"shape\":[89]},\"index\":[0,1,2,3,4,5,6,7,8,9,10,11,12,13,14,15,16,17,18,19,20,21,22,23,24,25,26,27,28,29,30,31,32,33,34,35,36,37,38,39,40,41,42,43,44,45,46,47,48,49,50,51,52,53,54,55,56,57,58,59,60,61,62,63,64,65,66,67,68,69,70,71,72,73,74,75,76,77,78,79,80,81,82,83,84,85,86,87,88],\"new_confirmed_cases\":{\"__ndarray__\":\"AAAAAADAX0AAAAAAAPBgQAAAAAAAoGxAAAAAAABYbUAAAAAAAOBvQFVVVVVVtXBASZIkSZKEcUAlSZIkSSJ1QLdt27ZtO3hA27Zt27ZdeUAlSZIkSeJ7QAAAAAAAUH9AAAAAAAAAgUCSJEmSJFmBQJIkSZIkcYFAbtu2bdsOgkAAAAAAAHiBQNu2bdu2LYFAJUmSJEnSf0AlSZIkSfJ8QEmSJEmSlHtASZIkSZL0e0CSJEmSJEl6QNu2bdu2/XlAAAAAAACAekC3bdu2bTt8QEmSJEmSJHxAt23btm1jg0CSJEmSJLmGQLdt27Zte4pAkiRJkiTJjUDbtm3bts2PQLdt27Ztu49ASZIkSZIckECSJEmSJKGNQAAAAAAAIIpASZIkSZIci0C3bdu2bUuJQNu2bdu2hYlAJUmSJEnKiUAAAAAAAGCLQLdt27Zty4lAt23btm2TjkBJkiRJkmyLQAAAAAAAGIxAt23btm0bi0Dbtm3btiWMQNu2bdu2zYpASZIkSZLsikDbtm3btgWIQAAAAAAASIpAbtu2bdtuikDbtm3btr2KQJIkSZIkYYtAkiRJkiQpjEAlSZIkSaqLQJIkSZIkgYxASZIkSZKsjEBu27Zt296NQG7btm3bLo5Abtu2bdsejkAlSZIkSVqPQCVJkiRJ3pBAJUmSJElmkkBu27Zt22qRQEmSJEmSPJFAJUmSJEkyk0AAAAAAAHyVQLdt27ZtP5ZAbtu2bdtOlkCSJEmSJN2UQCVJkiRJLpVASZIkSZIAlkCSJEmSJPWUQG7btm3bSpNASZIkSZLAk0CSJEmSJGGTQLdt27Ztf5NA27Zt27a9k0CSJEmSJKGUQNu2bdu2HZVA27Zt27aZlUDbtm3btnmUQG7btm3bYpRA27Zt27aRlEDbtm3btrWWQJIkSZIk9ZRAAAAAAABolEAlSZIkSYaVQA==\",\"dtype\":\"float64\",\"shape\":[89]},\"new_deaths\":{\"__ndarray__\":\"AAAAAAAAAEAAAAAAAAAEQFVVVVVVVRFAAAAAAAAAEkAzMzMzMzMTQFVVVVVVVRNAJUmSJEmSFEBJkiRJkiQZQJIkSZIkSR5At23btm3bIEBJkiRJkiQjQLdt27Zt2yhASZIkSZIkK0Dbtm3btm0tQAAAAAAAADFASZIkSZIkM0Bu27Zt27Y0QCVJkiRJkjVASZIkSZIkNUAAAAAAAAA4QCVJkiRJkjlAJUmSJEmSO0CSJEmSJEk9QCVJkiRJkkBAt23btm1bQkBJkiRJkiRGQAAAAAAAgEVA27Zt27btREDbtm3btm1FQLdt27ZtW0dAt23btm1bSEDbtm3btu1IQJIkSZIkyUZAAAAAAACARkAAAAAAAIBHQEmSJEmSJEhAkiRJkiTJR0Dbtm3btu1GQEmSJEmSJEdAJUmSJEmSRkAAAAAAAIBGQJIkSZIkSUZAbtu2bds2RkBu27Zt27ZFQAAAAAAAgEVASZIkSZIkRUBJkiRJkqRFQNu2bdu2bUVASZIkSZIkRkAlSZIkSZJFQAAAAAAAAEVAkiRJkiTJREBJkiRJkiREQLdt27Zt20NAbtu2bdu2REDbtm3btm1DQCVJkiRJEkZAt23btm1bRkBJkiRJkiRGQLdt27ZtW0VAt23btm1bRUAAAAAAAIBEQCVJkiRJkkNAkiRJkiRJP0AlSZIkSRJAQNu2bdu2bT9At23btm1bQUBJkiRJkqRBQEmSJEmSJEJAkiRJkiRJQ0BJkiRJkqRFQCVJkiRJkkRAkiRJkiTJREAAAAAAAIBDQLdt27ZtW0RAkiRJkiRJRECSJEmSJElDQG7btm3btkJA27Zt27btQ0Dbtm3btm1EQCVJkiRJEkNAkiRJkiRJQ0BJkiRJkqRCQJIkSZIkSUNA27Zt27btQUAlSZIkSRJAQLdt27Zt2z1AJUmSJEmSQEBJkiRJkiQ/QA==\",\"dtype\":\"float64\",\"shape\":[89]}},\"selected\":{\"id\":\"19057\"},\"selection_policy\":{\"id\":\"19056\"}},\"id\":\"18306\",\"type\":\"ColumnDataSource\"},{\"attributes\":{\"data_source\":{\"id\":\"18305\"},\"glyph\":{\"id\":\"18308\"},\"hover_glyph\":null,\"muted_glyph\":null,\"nonselection_glyph\":{\"id\":\"18309\"},\"selection_glyph\":null,\"view\":{\"id\":\"18311\"}},\"id\":\"18310\",\"type\":\"GlyphRenderer\"},{\"attributes\":{\"num_minor_ticks\":5,\"tickers\":[{\"id\":\"18318\"},{\"id\":\"18319\"},{\"id\":\"18320\"},{\"id\":\"18321\"},{\"id\":\"18322\"},{\"id\":\"18323\"},{\"id\":\"18324\"},{\"id\":\"18325\"},{\"id\":\"18326\"},{\"id\":\"18327\"},{\"id\":\"18328\"},{\"id\":\"18329\"}]},\"id\":\"18282\",\"type\":\"DatetimeTicker\"},{\"attributes\":{},\"id\":\"18356\",\"type\":\"Selection\"},{\"attributes\":{\"formatter\":{\"id\":\"18316\"},\"ticker\":{\"id\":\"18286\"}},\"id\":\"18285\",\"type\":\"LinearAxis\"},{\"attributes\":{\"label\":{\"value\":\"7-day rolling avg\"},\"renderers\":[{\"id\":\"18335\"}]},\"id\":\"18357\",\"type\":\"LegendItem\"},{\"attributes\":{},\"id\":\"18316\",\"type\":\"BasicTickFormatter\"},{\"attributes\":{},\"id\":\"18275\",\"type\":\"DataRange1d\"},{\"attributes\":{\"mantissas\":[1,2,5],\"max_interval\":500.0,\"num_minor_ticks\":0},\"id\":\"18318\",\"type\":\"AdaptiveTicker\"},{\"attributes\":{\"text\":\"Daily new cases -- LA County\"},\"id\":\"18271\",\"type\":\"Title\"},{\"attributes\":{},\"id\":\"19056\",\"type\":\"UnionRenderers\"},{\"attributes\":{\"callback\":null,\"formatters\":{\"date\":\"datetime\"},\"tooltips\":[[\"cases\",\"@new_confirmed_cases\"],[\"date\",\"@date\"]]},\"id\":\"18303\",\"type\":\"HoverTool\"},{\"attributes\":{\"base\":60,\"mantissas\":[1,2,5,10,15,20,30],\"max_interval\":1800000.0,\"min_interval\":1000.0,\"num_minor_ticks\":0},\"id\":\"18319\",\"type\":\"AdaptiveTicker\"},{\"attributes\":{},\"id\":\"19057\",\"type\":\"Selection\"},{\"attributes\":{\"base\":24,\"mantissas\":[1,2,4,6,8,12],\"max_interval\":43200000.0,\"min_interval\":3600000.0,\"num_minor_ticks\":0},\"id\":\"18320\",\"type\":\"AdaptiveTicker\"},{\"attributes\":{},\"id\":\"18273\",\"type\":\"DataRange1d\"},{\"attributes\":{},\"id\":\"18286\",\"type\":\"BasicTicker\"},{\"attributes\":{},\"id\":\"18294\",\"type\":\"HelpTool\"}],\"root_ids\":[\"18270\"]},\"title\":\"Bokeh Application\",\"version\":\"2.0.2\"}};\n",
       "  var render_items = [{\"docid\":\"4f25e909-841f-49ac-b5fb-0ed09fc927de\",\"root_ids\":[\"18270\"],\"roots\":{\"18270\":\"b47d31d7-7418-4819-b526-b11a4f4aa773\"}}];\n",
       "  root.Bokeh.embed.embed_items_notebook(docs_json, render_items);\n",
       "\n",
       "  }\n",
       "  if (root.Bokeh !== undefined) {\n",
       "    embed_document(root);\n",
       "  } else {\n",
       "    var attempts = 0;\n",
       "    var timer = setInterval(function(root) {\n",
       "      if (root.Bokeh !== undefined) {\n",
       "        clearInterval(timer);\n",
       "        embed_document(root);\n",
       "      } else {\n",
       "        attempts++;\n",
       "        if (attempts > 100) {\n",
       "          clearInterval(timer);\n",
       "          console.log(\"Bokeh: ERROR: Unable to run BokehJS code because BokehJS library is missing\");\n",
       "        }\n",
       "      }\n",
       "    }, 10, root)\n",
       "  }\n",
       "})(window);"
      ],
      "application/vnd.bokehjs_exec.v0+json": ""
     },
     "metadata": {
      "application/vnd.bokehjs_exec.v0+json": {
       "id": "18270"
      }
     },
     "output_type": "display_data"
    },
    {
     "data": {
      "text/html": [
       "\n",
       "\n",
       "\n",
       "\n",
       "\n",
       "\n",
       "  <div class=\"bk-root\" id=\"d292812b-2b97-4939-bcfc-49eed10b3ffc\" data-root-id=\"19190\"></div>\n"
      ]
     },
     "metadata": {},
     "output_type": "display_data"
    },
    {
     "data": {
      "application/javascript": [
       "(function(root) {\n",
       "  function embed_document(root) {\n",
       "    \n",
       "  var docs_json = {\"1c0612f4-b936-4811-a3b0-b528f28f924f\":{\"roots\":{\"references\":[{\"attributes\":{\"below\":[{\"id\":\"19201\"}],\"center\":[{\"id\":\"19204\"},{\"id\":\"19208\"},{\"id\":\"19250\"}],\"left\":[{\"id\":\"19205\"}],\"plot_height\":400,\"plot_width\":1000,\"renderers\":[{\"id\":\"19230\"},{\"id\":\"19255\"}],\"title\":{\"id\":\"19191\"},\"toolbar\":{\"id\":\"19216\"},\"x_range\":{\"id\":\"19193\"},\"x_scale\":{\"id\":\"19197\"},\"y_range\":{\"id\":\"19195\"},\"y_scale\":{\"id\":\"19199\"}},\"id\":\"19190\",\"subtype\":\"Figure\",\"type\":\"Plot\"},{\"attributes\":{},\"id\":\"19197\",\"type\":\"LinearScale\"},{\"attributes\":{},\"id\":\"19236\",\"type\":\"BasicTickFormatter\"},{\"attributes\":{\"months\":[0,6]},\"id\":\"19248\",\"type\":\"MonthsTicker\"},{\"attributes\":{},\"id\":\"19199\",\"type\":\"LinearScale\"},{\"attributes\":{},\"id\":\"19249\",\"type\":\"YearsTicker\"},{\"attributes\":{},\"id\":\"19998\",\"type\":\"UnionRenderers\"},{\"attributes\":{\"formatter\":{\"id\":\"19234\"},\"ticker\":{\"id\":\"19202\"}},\"id\":\"19201\",\"type\":\"DatetimeAxis\"},{\"attributes\":{\"bottom_units\":\"screen\",\"fill_alpha\":0.5,\"fill_color\":\"lightgrey\",\"left_units\":\"screen\",\"level\":\"overlay\",\"line_alpha\":1.0,\"line_color\":\"black\",\"line_dash\":[4,4],\"line_width\":2,\"render_mode\":\"css\",\"right_units\":\"screen\",\"top_units\":\"screen\"},\"id\":\"19215\",\"type\":\"BoxAnnotation\"},{\"attributes\":{\"items\":[{\"id\":\"19251\"},{\"id\":\"19277\"}]},\"id\":\"19250\",\"type\":\"Legend\"},{\"attributes\":{\"num_minor_ticks\":5,\"tickers\":[{\"id\":\"19238\"},{\"id\":\"19239\"},{\"id\":\"19240\"},{\"id\":\"19241\"},{\"id\":\"19242\"},{\"id\":\"19243\"},{\"id\":\"19244\"},{\"id\":\"19245\"},{\"id\":\"19246\"},{\"id\":\"19247\"},{\"id\":\"19248\"},{\"id\":\"19249\"}]},\"id\":\"19202\",\"type\":\"DatetimeTicker\"},{\"attributes\":{},\"id\":\"19193\",\"type\":\"DataRange1d\"},{\"attributes\":{\"text\":\"Daily new deaths -- LA County\"},\"id\":\"19191\",\"type\":\"Title\"},{\"attributes\":{\"label\":{\"value\":\"Daily new deaths\"},\"renderers\":[{\"id\":\"19230\"}]},\"id\":\"19251\",\"type\":\"LegendItem\"},{\"attributes\":{\"axis\":{\"id\":\"19201\"},\"ticker\":null},\"id\":\"19204\",\"type\":\"Grid\"},{\"attributes\":{\"data\":{\"date\":{\"__ndarray__\":\"AADAa50Qd0IAAIDR7xB3QgAAQDdCEXdCAAAAnZQRd0IAAMAC5xF3QgAAgGg5EndCAABAzosSd0IAAAA03hJ3QgAAwJkwE3dCAACA/4ITd0IAAEBl1RN3QgAAAMsnFHdCAADAMHoUd0IAAICWzBR3QgAAQPweFXdCAAAAYnEVd0IAAMDHwxV3QgAAgC0WFndCAABAk2gWd0IAAAD5uhZ3QgAAwF4NF3dCAACAxF8Xd0IAAEAqshd3QgAAAJAEGHdCAADA9VYYd0IAAIBbqRh3QgAAQMH7GHdCAAAAJ04Zd0IAAMCMoBl3QgAAgPLyGXdCAABAWEUad0IAAAC+lxp3QgAAwCPqGndCAACAiTwbd0IAAEDvjht3QgAAAFXhG3dCAADAujMcd0IAAIAghhx3QgAAQIbYHHdCAAAA7Codd0IAAMBRfR13QgAAgLfPHXdCAABAHSIed0IAAACDdB53QgAAwOjGHndCAACAThkfd0IAAEC0ax93QgAAABq+H3dCAADAfxAgd0IAAIDlYiB3QgAAQEu1IHdCAAAAsQchd0IAAMAWWiF3QgAAgHysIXdCAABA4v4hd0IAAABIUSJ3QgAAwK2jIndCAACAE/Yid0IAAEB5SCN3QgAAAN+aI3dCAADARO0jd0IAAICqPyR3QgAAQBCSJHdCAAAAduQkd0IAAMDbNiV3QgAAgEGJJXdCAABAp9sld0IAAAANLiZ3QgAAwHKAJndCAACA2NImd0IAAEA+JSd3QgAAAKR3J3dCAADACcond0IAAIBvHCh3QgAAQNVuKHdCAAAAO8Eod0IAAMCgEyl3QgAAgAZmKXdCAABAbLgpd0IAAADSCip3QgAAwDddKndCAACAna8qd0IAAEADAit3QgAAAGlUK3dCAADAzqYrd0IAAIA0+St3QgAAQJpLLHdCAAAAAJ4sd0IAAMBl8Cx3Qg==\",\"dtype\":\"float64\",\"shape\":[89]},\"index\":[0,1,2,3,4,5,6,7,8,9,10,11,12,13,14,15,16,17,18,19,20,21,22,23,24,25,26,27,28,29,30,31,32,33,34,35,36,37,38,39,40,41,42,43,44,45,46,47,48,49,50,51,52,53,54,55,56,57,58,59,60,61,62,63,64,65,66,67,68,69,70,71,72,73,74,75,76,77,78,79,80,81,82,83,84,85,86,87,88],\"new_confirmed_cases\":{\"__ndarray__\":\"AAAAAADAX0AAAAAAAABiQAAAAAAAAHpAAAAAAACAb0AAAAAAAAB1QAAAAAAAkHRAAAAAAABgdkAAAAAAAKCAQAAAAAAAsH5AAAAAAAD4gEAAAAAAALCAQAAAAAAAgIZAAAAAAACwg0AAAAAAAEB7QAAAAAAASIFAAAAAAACog0AAAAAAALB5QAAAAAAAUH1AAAAAAABAe0AAAAAAAEBzQAAAAAAAsHFAAAAAAACYgkAAAAAAAKB7QAAAAAAAoHdAAAAAAABwgEAAAAAAALCDQAAAAAAAoHJAAAAAAAAIl0AAAAAAAPiUQAAAAAAAEJRAAAAAAAB4kUAAAAAAAJCOQAAAAAAAMINAAAAAAACAeUAAAAAAAOiLQAAAAAAAaIFAAAAAAACEl0AAAAAAADiGQAAAAAAAFJBAAAAAAAAQhUAAAAAAANiHQAAAAAAA2IBAAAAAAABwmUAAAAAAAPiIQAAAAAAA6IpAAAAAAABAiUAAAAAAAFiMQAAAAAAA4HxAAAAAAACwgUAAAAAAAJCOQAAAAAAAZJRAAAAAAAD4i0AAAAAAAGiLQAAAAAAAaJBAAAAAAADog0AAAAAAAHB8QAAAAAAAOJJAAAAAAAD8lEAAAAAAACySQAAAAAAAmI1AAAAAAAAwkEAAAAAAAIiMQAAAAAAA6I5AAAAAAADwnEAAAAAAADiMQAAAAAAA6JBAAAAAAACEnEAAAAAAABqgQAAAAAAAnJNAAAAAAADAj0AAAAAAANSSQAAAAAAAVJBAAAAAAAColkAAAAAAADSVQAAAAAAAjJRAAAAAAADUlkAAAAAAAIiKQAAAAAAAqJNAAAAAAAAIkkAAAAAAAOCcQAAAAAAAnJhAAAAAAADwl0AAAAAAAOiNQAAAAAAASIlAAAAAAADwlEAAAAAAAIKgQAAAAAAAnJBAAAAAAADAlEAAAAAAAMSfQA==\",\"dtype\":\"float64\",\"shape\":[89]},\"new_deaths\":{\"__ndarray__\":\"AAAAAAAAAEAAAAAAAAAIQAAAAAAAACBAAAAAAAAAFEAAAAAAAAAYQAAAAAAAABRAAAAAAAAAHEAAAAAAAAAkQAAAAAAAAChAAAAAAAAALEAAAAAAAAAqQAAAAAAAADpAAAAAAAAAKkAAAAAAAAAuQAAAAAAAADpAAAAAAAAAO0AAAAAAAAA5QAAAAAAAADNAAAAAAAAAN0AAAAAAAIBAQAAAAAAAADpAAAAAAAAAREAAAAAAAIBDQAAAAAAAAEpAAAAAAAAARkAAAAAAAABTQAAAAAAAADhAAAAAAAAAMkAAAAAAAIBHQAAAAAAAgFBAAAAAAACAUEAAAAAAAABKQAAAAAAAAEdAAAAAAAAANEAAAAAAAABAQAAAAAAAAExAAAAAAACATkAAAAAAAABLQAAAAAAAgEtAAAAAAAAAQ0AAAAAAAAAzQAAAAAAAAD1AAAAAAACAS0AAAAAAAABLQAAAAAAAgElAAAAAAAAASUAAAAAAAIBGQAAAAAAAADBAAAAAAACAQ0AAAAAAAIBHQAAAAAAAAEdAAAAAAAAASEAAAAAAAIBEQAAAAAAAgERAAAAAAAAAPEAAAAAAAAA1QAAAAAAAAFVAAAAAAAAASUAAAAAAAIBGQAAAAAAAAD5AAAAAAACAREAAAAAAAAAwQAAAAAAAACBAAAAAAAAAPUAAAAAAAABMQAAAAAAAAERAAAAAAACASkAAAAAAAIBGQAAAAAAAADdAAAAAAAAAOEAAAAAAAABPQAAAAAAAgERAAAAAAACARUAAAAAAAIBBQAAAAAAAgExAAAAAAAAANkAAAAAAAAAkQAAAAAAAAEtAAAAAAAAATUAAAAAAAABJQAAAAAAAADBAAAAAAAAATkAAAAAAAAAqQAAAAAAAADNAAAAAAACAQUAAAAAAAABAQAAAAAAAAEFAAAAAAACAQ0AAAAAAAABHQA==\",\"dtype\":\"float64\",\"shape\":[89]}},\"selected\":{\"id\":\"19276\"},\"selection_policy\":{\"id\":\"19275\"}},\"id\":\"19225\",\"type\":\"ColumnDataSource\"},{\"attributes\":{\"formatter\":{\"id\":\"19236\"},\"ticker\":{\"id\":\"19206\"}},\"id\":\"19205\",\"type\":\"LinearAxis\"},{\"attributes\":{},\"id\":\"19275\",\"type\":\"UnionRenderers\"},{\"attributes\":{\"source\":{\"id\":\"19226\"}},\"id\":\"19256\",\"type\":\"CDSView\"},{\"attributes\":{},\"id\":\"19206\",\"type\":\"BasicTicker\"},{\"attributes\":{\"fill_alpha\":{\"value\":0.8},\"fill_color\":{\"value\":\"green\"},\"line_alpha\":{\"value\":0.8},\"line_color\":{\"value\":\"green\"},\"top\":{\"field\":\"new_deaths\"},\"width\":{\"value\":0.4},\"x\":{\"field\":\"date\"}},\"id\":\"19228\",\"type\":\"VBar\"},{\"attributes\":{\"data\":{\"date\":{\"__ndarray__\":\"AADAa50Qd0IAAIDR7xB3QgAAQDdCEXdCAAAAnZQRd0IAAMAC5xF3QgAAgGg5EndCAABAzosSd0IAAAA03hJ3QgAAwJkwE3dCAACA/4ITd0IAAEBl1RN3QgAAAMsnFHdCAADAMHoUd0IAAICWzBR3QgAAQPweFXdCAAAAYnEVd0IAAMDHwxV3QgAAgC0WFndCAABAk2gWd0IAAAD5uhZ3QgAAwF4NF3dCAACAxF8Xd0IAAEAqshd3QgAAAJAEGHdCAADA9VYYd0IAAIBbqRh3QgAAQMH7GHdCAAAAJ04Zd0IAAMCMoBl3QgAAgPLyGXdCAABAWEUad0IAAAC+lxp3QgAAwCPqGndCAACAiTwbd0IAAEDvjht3QgAAAFXhG3dCAADAujMcd0IAAIAghhx3QgAAQIbYHHdCAAAA7Codd0IAAMBRfR13QgAAgLfPHXdCAABAHSIed0IAAACDdB53QgAAwOjGHndCAACAThkfd0IAAEC0ax93QgAAABq+H3dCAADAfxAgd0IAAIDlYiB3QgAAQEu1IHdCAAAAsQchd0IAAMAWWiF3QgAAgHysIXdCAABA4v4hd0IAAABIUSJ3QgAAwK2jIndCAACAE/Yid0IAAEB5SCN3QgAAAN+aI3dCAADARO0jd0IAAICqPyR3QgAAQBCSJHdCAAAAduQkd0IAAMDbNiV3QgAAgEGJJXdCAABAp9sld0IAAAANLiZ3QgAAwHKAJndCAACA2NImd0IAAEA+JSd3QgAAAKR3J3dCAADACcond0IAAIBvHCh3QgAAQNVuKHdCAAAAO8Eod0IAAMCgEyl3QgAAgAZmKXdCAABAbLgpd0IAAADSCip3QgAAwDddKndCAACAna8qd0IAAEADAit3QgAAAGlUK3dCAADAzqYrd0IAAIA0+St3QgAAQJpLLHdCAAAAAJ4sd0IAAMBl8Cx3Qg==\",\"dtype\":\"float64\",\"shape\":[89]},\"index\":[0,1,2,3,4,5,6,7,8,9,10,11,12,13,14,15,16,17,18,19,20,21,22,23,24,25,26,27,28,29,30,31,32,33,34,35,36,37,38,39,40,41,42,43,44,45,46,47,48,49,50,51,52,53,54,55,56,57,58,59,60,61,62,63,64,65,66,67,68,69,70,71,72,73,74,75,76,77,78,79,80,81,82,83,84,85,86,87,88],\"new_confirmed_cases\":{\"__ndarray__\":\"AAAAAADAX0AAAAAAAPBgQAAAAAAAoGxAAAAAAABYbUAAAAAAAOBvQFVVVVVVtXBASZIkSZKEcUAlSZIkSSJ1QLdt27ZtO3hA27Zt27ZdeUAlSZIkSeJ7QAAAAAAAUH9AAAAAAAAAgUCSJEmSJFmBQJIkSZIkcYFAbtu2bdsOgkAAAAAAAHiBQNu2bdu2LYFAJUmSJEnSf0AlSZIkSfJ8QEmSJEmSlHtASZIkSZL0e0CSJEmSJEl6QNu2bdu2/XlAAAAAAACAekC3bdu2bTt8QEmSJEmSJHxAt23btm1jg0CSJEmSJLmGQLdt27Zte4pAkiRJkiTJjUDbtm3bts2PQLdt27Ztu49ASZIkSZIckECSJEmSJKGNQAAAAAAAIIpASZIkSZIci0C3bdu2bUuJQNu2bdu2hYlAJUmSJEnKiUAAAAAAAGCLQLdt27Zty4lAt23btm2TjkBJkiRJkmyLQAAAAAAAGIxAt23btm0bi0Dbtm3btiWMQNu2bdu2zYpASZIkSZLsikDbtm3btgWIQAAAAAAASIpAbtu2bdtuikDbtm3btr2KQJIkSZIkYYtAkiRJkiQpjEAlSZIkSaqLQJIkSZIkgYxASZIkSZKsjEBu27Zt296NQG7btm3bLo5Abtu2bdsejkAlSZIkSVqPQCVJkiRJ3pBAJUmSJElmkkBu27Zt22qRQEmSJEmSPJFAJUmSJEkyk0AAAAAAAHyVQLdt27ZtP5ZAbtu2bdtOlkCSJEmSJN2UQCVJkiRJLpVASZIkSZIAlkCSJEmSJPWUQG7btm3bSpNASZIkSZLAk0CSJEmSJGGTQLdt27Ztf5NA27Zt27a9k0CSJEmSJKGUQNu2bdu2HZVA27Zt27aZlUDbtm3btnmUQG7btm3bYpRA27Zt27aRlEDbtm3btrWWQJIkSZIk9ZRAAAAAAABolEAlSZIkSYaVQA==\",\"dtype\":\"float64\",\"shape\":[89]},\"new_deaths\":{\"__ndarray__\":\"AAAAAAAAAEAAAAAAAAAEQFVVVVVVVRFAAAAAAAAAEkAzMzMzMzMTQFVVVVVVVRNAJUmSJEmSFEBJkiRJkiQZQJIkSZIkSR5At23btm3bIEBJkiRJkiQjQLdt27Zt2yhASZIkSZIkK0Dbtm3btm0tQAAAAAAAADFASZIkSZIkM0Bu27Zt27Y0QCVJkiRJkjVASZIkSZIkNUAAAAAAAAA4QCVJkiRJkjlAJUmSJEmSO0CSJEmSJEk9QCVJkiRJkkBAt23btm1bQkBJkiRJkiRGQAAAAAAAgEVA27Zt27btREDbtm3btm1FQLdt27ZtW0dAt23btm1bSEDbtm3btu1IQJIkSZIkyUZAAAAAAACARkAAAAAAAIBHQEmSJEmSJEhAkiRJkiTJR0Dbtm3btu1GQEmSJEmSJEdAJUmSJEmSRkAAAAAAAIBGQJIkSZIkSUZAbtu2bds2RkBu27Zt27ZFQAAAAAAAgEVASZIkSZIkRUBJkiRJkqRFQNu2bdu2bUVASZIkSZIkRkAlSZIkSZJFQAAAAAAAAEVAkiRJkiTJREBJkiRJkiREQLdt27Zt20NAbtu2bdu2REDbtm3btm1DQCVJkiRJEkZAt23btm1bRkBJkiRJkiRGQLdt27ZtW0VAt23btm1bRUAAAAAAAIBEQCVJkiRJkkNAkiRJkiRJP0AlSZIkSRJAQNu2bdu2bT9At23btm1bQUBJkiRJkqRBQEmSJEmSJEJAkiRJkiRJQ0BJkiRJkqRFQCVJkiRJkkRAkiRJkiTJREAAAAAAAIBDQLdt27ZtW0RAkiRJkiRJRECSJEmSJElDQG7btm3btkJA27Zt27btQ0Dbtm3btm1EQCVJkiRJEkNAkiRJkiRJQ0BJkiRJkqRCQJIkSZIkSUNA27Zt27btQUAlSZIkSRJAQLdt27Zt2z1AJUmSJEmSQEBJkiRJkiQ/QA==\",\"dtype\":\"float64\",\"shape\":[89]}},\"selected\":{\"id\":\"19999\"},\"selection_policy\":{\"id\":\"19998\"}},\"id\":\"19226\",\"type\":\"ColumnDataSource\"},{\"attributes\":{\"data_source\":{\"id\":\"19226\"},\"glyph\":{\"id\":\"19253\"},\"hover_glyph\":null,\"muted_glyph\":null,\"nonselection_glyph\":{\"id\":\"19254\"},\"selection_glyph\":null,\"view\":{\"id\":\"19256\"}},\"id\":\"19255\",\"type\":\"GlyphRenderer\"},{\"attributes\":{\"axis\":{\"id\":\"19205\"},\"dimension\":1,\"ticker\":null},\"id\":\"19208\",\"type\":\"Grid\"},{\"attributes\":{\"line_alpha\":0.1,\"line_color\":\"navy\",\"line_width\":5,\"x\":{\"field\":\"date\"},\"y\":{\"field\":\"new_deaths\"}},\"id\":\"19254\",\"type\":\"Line\"},{\"attributes\":{},\"id\":\"19234\",\"type\":\"DatetimeTickFormatter\"},{\"attributes\":{\"source\":{\"id\":\"19225\"}},\"id\":\"19231\",\"type\":\"CDSView\"},{\"attributes\":{\"data_source\":{\"id\":\"19225\"},\"glyph\":{\"id\":\"19228\"},\"hover_glyph\":null,\"muted_glyph\":null,\"nonselection_glyph\":{\"id\":\"19229\"},\"selection_glyph\":null,\"view\":{\"id\":\"19231\"}},\"id\":\"19230\",\"type\":\"GlyphRenderer\"},{\"attributes\":{\"fill_alpha\":{\"value\":0.1},\"fill_color\":{\"value\":\"green\"},\"line_alpha\":{\"value\":0.1},\"line_color\":{\"value\":\"green\"},\"top\":{\"field\":\"new_deaths\"},\"width\":{\"value\":0.4},\"x\":{\"field\":\"date\"}},\"id\":\"19229\",\"type\":\"VBar\"},{\"attributes\":{\"line_alpha\":0.3,\"line_color\":\"navy\",\"line_width\":5,\"x\":{\"field\":\"date\"},\"y\":{\"field\":\"new_deaths\"}},\"id\":\"19253\",\"type\":\"Line\"},{\"attributes\":{\"base\":60,\"mantissas\":[1,2,5,10,15,20,30],\"max_interval\":1800000.0,\"min_interval\":1000.0,\"num_minor_ticks\":0},\"id\":\"19239\",\"type\":\"AdaptiveTicker\"},{\"attributes\":{\"base\":24,\"mantissas\":[1,2,4,6,8,12],\"max_interval\":43200000.0,\"min_interval\":3600000.0,\"num_minor_ticks\":0},\"id\":\"19240\",\"type\":\"AdaptiveTicker\"},{\"attributes\":{},\"id\":\"19209\",\"type\":\"PanTool\"},{\"attributes\":{},\"id\":\"19276\",\"type\":\"Selection\"},{\"attributes\":{\"days\":[1,2,3,4,5,6,7,8,9,10,11,12,13,14,15,16,17,18,19,20,21,22,23,24,25,26,27,28,29,30,31]},\"id\":\"19241\",\"type\":\"DaysTicker\"},{\"attributes\":{},\"id\":\"19210\",\"type\":\"WheelZoomTool\"},{\"attributes\":{\"label\":{\"value\":\"7-day rolling avg\"},\"renderers\":[{\"id\":\"19255\"}]},\"id\":\"19277\",\"type\":\"LegendItem\"},{\"attributes\":{\"days\":[1,4,7,10,13,16,19,22,25,28]},\"id\":\"19242\",\"type\":\"DaysTicker\"},{\"attributes\":{\"overlay\":{\"id\":\"19215\"}},\"id\":\"19211\",\"type\":\"BoxZoomTool\"},{\"attributes\":{\"callback\":null,\"formatters\":{\"date\":\"datetime\"},\"tooltips\":[[\"cases\",\"@new_deaths\"],[\"date\",\"@date\"]]},\"id\":\"19223\",\"type\":\"HoverTool\"},{\"attributes\":{\"days\":[1,8,15,22]},\"id\":\"19243\",\"type\":\"DaysTicker\"},{\"attributes\":{},\"id\":\"19212\",\"type\":\"SaveTool\"},{\"attributes\":{},\"id\":\"19999\",\"type\":\"Selection\"},{\"attributes\":{\"days\":[1,15]},\"id\":\"19244\",\"type\":\"DaysTicker\"},{\"attributes\":{},\"id\":\"19213\",\"type\":\"ResetTool\"},{\"attributes\":{\"months\":[0,1,2,3,4,5,6,7,8,9,10,11]},\"id\":\"19245\",\"type\":\"MonthsTicker\"},{\"attributes\":{},\"id\":\"19214\",\"type\":\"HelpTool\"},{\"attributes\":{},\"id\":\"19195\",\"type\":\"DataRange1d\"},{\"attributes\":{\"months\":[0,2,4,6,8,10]},\"id\":\"19246\",\"type\":\"MonthsTicker\"},{\"attributes\":{\"mantissas\":[1,2,5],\"max_interval\":500.0,\"num_minor_ticks\":0},\"id\":\"19238\",\"type\":\"AdaptiveTicker\"},{\"attributes\":{\"active_drag\":\"auto\",\"active_inspect\":\"auto\",\"active_multi\":null,\"active_scroll\":\"auto\",\"active_tap\":\"auto\",\"tools\":[{\"id\":\"19209\"},{\"id\":\"19210\"},{\"id\":\"19211\"},{\"id\":\"19212\"},{\"id\":\"19213\"},{\"id\":\"19214\"},{\"id\":\"19223\"}]},\"id\":\"19216\",\"type\":\"Toolbar\"},{\"attributes\":{\"months\":[0,4,8]},\"id\":\"19247\",\"type\":\"MonthsTicker\"}],\"root_ids\":[\"19190\"]},\"title\":\"Bokeh Application\",\"version\":\"2.0.2\"}};\n",
       "  var render_items = [{\"docid\":\"1c0612f4-b936-4811-a3b0-b528f28f924f\",\"root_ids\":[\"19190\"],\"roots\":{\"19190\":\"d292812b-2b97-4939-bcfc-49eed10b3ffc\"}}];\n",
       "  root.Bokeh.embed.embed_items_notebook(docs_json, render_items);\n",
       "\n",
       "  }\n",
       "  if (root.Bokeh !== undefined) {\n",
       "    embed_document(root);\n",
       "  } else {\n",
       "    var attempts = 0;\n",
       "    var timer = setInterval(function(root) {\n",
       "      if (root.Bokeh !== undefined) {\n",
       "        clearInterval(timer);\n",
       "        embed_document(root);\n",
       "      } else {\n",
       "        attempts++;\n",
       "        if (attempts > 100) {\n",
       "          clearInterval(timer);\n",
       "          console.log(\"Bokeh: ERROR: Unable to run BokehJS code because BokehJS library is missing\");\n",
       "        }\n",
       "      }\n",
       "    }, 10, root)\n",
       "  }\n",
       "})(window);"
      ],
      "application/vnd.bokehjs_exec.v0+json": ""
     },
     "metadata": {
      "application/vnd.bokehjs_exec.v0+json": {
       "id": "19190"
      }
     },
     "output_type": "display_data"
    }
   ],
   "source": [
    "cases_d = {\n",
    "    'frame': lac_daily_new,\n",
    "    'field_name': 'new_confirmed_cases',\n",
    "    'title_word': 'cases',\n",
    "    'place': '-- LA County'\n",
    "}\n",
    "\n",
    "deaths_d = {\n",
    "    'frame': lac_daily_new,\n",
    "    'field_name': 'new_deaths',\n",
    "    'title_word': 'deaths',\n",
    "    'place': '-- LA County'\n",
    "}\n",
    "\n",
    "plot_daily(**cases_d)\n",
    "plot_daily(**deaths_d)"
   ]
  },
  {
   "cell_type": "markdown",
   "metadata": {},
   "source": [
    "The above represents the daily new case  and death counts for LA County. It would be nice if these lines were sloping downward....\n",
    "\n",
    "Given that it takes 2-3 weeks for a patient to progress from infection to death, comparing the two plots seems interesting. (Whether this is actually interesting is above my paygrade.)  They seem to track together rather than being offset by 2-3 weeks. Though the sharp drop in new cases at the end of April does seem to have approximately this offset from the sharp drop in deaths toward late May. \n",
    "\n",
    "With the sharp rise in cases at the very end of May/ beginning of June we should expect to see a rise in deaths around the end of June.\n",
    "\n",
    "Notes\n",
    "\n",
    "    The spike in late April is when testing finally ramped up.\n",
    "\n",
    "    The data has some day-of-week seasonality for both cases and deaths. The low numbers generally occur on Sundays and Mondays. I've taken a 7 day rolling average to smooth those out. "
   ]
  },
  {
   "cell_type": "code",
   "execution_count": 7,
   "metadata": {
    "ExecuteTime": {
     "end_time": "2020-06-21T21:12:59.579214Z",
     "start_time": "2020-06-21T21:12:59.347844Z"
    }
   },
   "outputs": [
    {
     "data": {
      "text/html": [
       "\n",
       "\n",
       "\n",
       "\n",
       "\n",
       "\n",
       "  <div class=\"bk-root\" id=\"4efa5d62-0681-40e7-a0d6-2861e3467df3\" data-root-id=\"1508\"></div>\n"
      ]
     },
     "metadata": {},
     "output_type": "display_data"
    },
    {
     "data": {
      "application/javascript": [
       "(function(root) {\n",
       "  function embed_document(root) {\n",
       "    \n",
       "  var docs_json = {\"3402d97d-9ae7-4444-a345-d3ab5d7a6334\":{\"roots\":{\"references\":[{\"attributes\":{\"below\":[{\"id\":\"1519\"}],\"center\":[{\"id\":\"1522\"},{\"id\":\"1526\"},{\"id\":\"1568\"}],\"left\":[{\"id\":\"1523\"}],\"plot_height\":400,\"plot_width\":1000,\"renderers\":[{\"id\":\"1548\"},{\"id\":\"1573\"}],\"title\":{\"id\":\"1509\"},\"toolbar\":{\"id\":\"1535\"},\"x_range\":{\"id\":\"1511\"},\"x_scale\":{\"id\":\"1515\"},\"y_range\":{\"id\":\"1513\"},\"y_scale\":{\"id\":\"1517\"}},\"id\":\"1508\",\"subtype\":\"Figure\",\"type\":\"Plot\"},{\"attributes\":{\"axis\":{\"id\":\"1519\"},\"ticker\":null},\"id\":\"1522\",\"type\":\"Grid\"},{\"attributes\":{\"months\":[0,2,4,6,8,10]},\"id\":\"1564\",\"type\":\"MonthsTicker\"},{\"attributes\":{\"active_drag\":\"auto\",\"active_inspect\":\"auto\",\"active_multi\":null,\"active_scroll\":\"auto\",\"active_tap\":\"auto\",\"tools\":[{\"id\":\"1527\"},{\"id\":\"1528\"},{\"id\":\"1529\"},{\"id\":\"1530\"},{\"id\":\"1531\"},{\"id\":\"1532\"},{\"id\":\"1534\"}]},\"id\":\"1535\",\"type\":\"Toolbar\"},{\"attributes\":{\"num_minor_ticks\":5,\"tickers\":[{\"id\":\"1556\"},{\"id\":\"1557\"},{\"id\":\"1558\"},{\"id\":\"1559\"},{\"id\":\"1560\"},{\"id\":\"1561\"},{\"id\":\"1562\"},{\"id\":\"1563\"},{\"id\":\"1564\"},{\"id\":\"1565\"},{\"id\":\"1566\"},{\"id\":\"1567\"}]},\"id\":\"1520\",\"type\":\"DatetimeTicker\"},{\"attributes\":{\"months\":[0,4,8]},\"id\":\"1565\",\"type\":\"MonthsTicker\"},{\"attributes\":{},\"id\":\"1515\",\"type\":\"LinearScale\"},{\"attributes\":{\"formatter\":{\"id\":\"1552\"},\"ticker\":{\"id\":\"1520\"}},\"id\":\"1519\",\"type\":\"DatetimeAxis\"},{\"attributes\":{\"months\":[0,6]},\"id\":\"1566\",\"type\":\"MonthsTicker\"},{\"attributes\":{},\"id\":\"1517\",\"type\":\"LinearScale\"},{\"attributes\":{\"mantissas\":[1,2,5],\"max_interval\":500.0,\"num_minor_ticks\":0},\"id\":\"1556\",\"type\":\"AdaptiveTicker\"},{\"attributes\":{},\"id\":\"1567\",\"type\":\"YearsTicker\"},{\"attributes\":{},\"id\":\"1511\",\"type\":\"DataRange1d\"},{\"attributes\":{\"source\":{\"id\":\"1543\"}},\"id\":\"1549\",\"type\":\"CDSView\"},{\"attributes\":{\"items\":[{\"id\":\"1569\"},{\"id\":\"1595\"}]},\"id\":\"1568\",\"type\":\"Legend\"},{\"attributes\":{},\"id\":\"1554\",\"type\":\"BasicTickFormatter\"},{\"attributes\":{\"fill_alpha\":{\"value\":0.8},\"fill_color\":{\"value\":\"green\"},\"line_alpha\":{\"value\":0.8},\"line_color\":{\"value\":\"green\"},\"top\":{\"field\":\"total_patients\"},\"width\":{\"value\":0.4},\"x\":{\"field\":\"date\"}},\"id\":\"1546\",\"type\":\"VBar\"},{\"attributes\":{},\"id\":\"1513\",\"type\":\"DataRange1d\"},{\"attributes\":{\"label\":{\"value\":\"Daily new hospitalizations (suspected and confirmed cases)\"},\"renderers\":[{\"id\":\"1548\"}]},\"id\":\"1569\",\"type\":\"LegendItem\"},{\"attributes\":{},\"id\":\"1552\",\"type\":\"DatetimeTickFormatter\"},{\"attributes\":{\"days\":[1,2,3,4,5,6,7,8,9,10,11,12,13,14,15,16,17,18,19,20,21,22,23,24,25,26,27,28,29,30,31]},\"id\":\"1559\",\"type\":\"DaysTicker\"},{\"attributes\":{},\"id\":\"1524\",\"type\":\"BasicTicker\"},{\"attributes\":{\"formatter\":{\"id\":\"1554\"},\"ticker\":{\"id\":\"1524\"}},\"id\":\"1523\",\"type\":\"LinearAxis\"},{\"attributes\":{\"base\":24,\"mantissas\":[1,2,4,6,8,12],\"max_interval\":43200000.0,\"min_interval\":3600000.0,\"num_minor_ticks\":0},\"id\":\"1558\",\"type\":\"AdaptiveTicker\"},{\"attributes\":{\"data\":{\"date\":{\"__ndarray__\":\"AACA/4ITd0IAAEBl1RN3QgAAAMsnFHdCAADAMHoUd0IAAICWzBR3QgAAQPweFXdCAAAAYnEVd0IAAMDHwxV3QgAAgC0WFndCAABAk2gWd0IAAAD5uhZ3QgAAwF4NF3dCAACAxF8Xd0IAAEAqshd3QgAAAJAEGHdCAADA9VYYd0IAAIBbqRh3QgAAQMH7GHdCAAAAJ04Zd0IAAMCMoBl3QgAAgPLyGXdCAABAWEUad0IAAAC+lxp3QgAAwCPqGndCAACAiTwbd0IAAEDvjht3QgAAAFXhG3dCAADAujMcd0IAAIAghhx3QgAAQIbYHHdCAAAA7Codd0IAAMBRfR13QgAAgLfPHXdCAABAHSIed0IAAACDdB53QgAAwOjGHndCAACAThkfd0IAAEC0ax93QgAAABq+H3dCAADAfxAgd0IAAIDlYiB3QgAAQEu1IHdCAAAAsQchd0IAAMAWWiF3QgAAgHysIXdCAABA4v4hd0IAAABIUSJ3QgAAwK2jIndCAACAE/Yid0IAAEB5SCN3QgAAAN+aI3dCAADARO0jd0IAAICqPyR3QgAAQBCSJHdCAAAAduQkd0IAAMDbNiV3QgAAgEGJJXdCAABAp9sld0IAAAANLiZ3QgAAwHKAJndCAACA2NImd0IAAEA+JSd3QgAAAKR3J3dCAADACcond0IAAIBvHCh3QgAAQNVuKHdCAAAAO8Eod0IAAMCgEyl3QgAAgAZmKXdCAABAbLgpd0IAAADSCip3QgAAwDddKndCAACAna8qd0IAAEADAit3QgAAAGlUK3dCAADAzqYrd0IAAIA0+St3QgAAQJpLLHdCAAAAAJ4sd0I=\",\"dtype\":\"float64\",\"shape\":[79]},\"icu_positive_patients\":{\"__ndarray__\":\"AAAAAAAAJkAAAAAAAMBFQAAAAAAAAENAAAAAAABAQUAzMzMzMzM+QFVVVVVVVT5ASZIkSZIkPEC3bdu2bds7QJIkSZIkSSpAkiRJkiRJLkAlSZIkSZIoQAAAAAAAAChAkiRJkiRJJEDbtm3btm0jQJIkSZIkSR5At23btm3bJkBu27Zt27YRQCVJkiRJkhRA27Zt27ZtH0AlSZIkSZIMQJIkSZIkSdI/27Zt27Zt6z/btm3btm3rPwAAAAAAAPC/AAAAAAAA8L+3bdu2bdsSwJIkSZIkSQLAAAAAAAAAAAAlSZIkSZL0v9u2bdu2bes/t23btm3bBkBJkiRJkiT5P0mSJEmSJPm/btu2bdu2DcBJkiRJkiQZwCVJkiRJkhjAkiRJkiRJJMCSJEmSJEkuwLdt27Zt2yzAbtu2bdu2J8AlSZIkSZIkwLdt27Zt2x7A27Zt27ZtI8C3bdu2bdsewLdt27Zt2/a/t23btm3bBsBJkiRJkiQBwLdt27Zt2xLAbtu2bdu2HcBu27Zt27YFwEmSJEmSJPm/AAAAAAAACMBJkiRJkiQRwCVJkiRJkgTAkiRJkiRJ0r/btm3btm37P9u2bdu2bdu/27Zt27ZtC8BJkiRJkiQJwJIkSZIkSRLAt23btm3bFsAlSZIkSZIMwCVJkiRJkhDAt23btm3b5r8AAAAAAADwv0mSJEmSJAnA27Zt27Zt+z+SJEmSJEnCPyVJkiRJkhDAkiRJkiRJEsBu27Zt27YVwCVJkiRJkgzAbtu2bdu2BcBu27Zt27YRwEmSJEmSJAnAkiRJkiRJ0j9JkiRJkiT5P9u2bdu2bfu/27Zt27Zt678=\",\"dtype\":\"float64\",\"shape\":[79]},\"icu_suspected_patients\":{\"__ndarray__\":\"AAAAAAAAO8AAAAAAAAAWwAAAAAAAACrAAAAAAAAAK8AAAAAAAAAiwFVVVVVVVSPAJUmSJEmS9L9JkiRJkiQVwEmSJEmSJCPAkiRJkiRJGsBJkiRJkiQJwCVJkiRJkgzAt23btm3bGsAlSZIkSZIkwNu2bdu2bRvASZIkSZIkFcAlSZIkSZIMwCVJkiRJkhDAkiRJkiRJIMCSJEmSJEnivwAAAAAAAADAt23btm3b9j8lSZIkSZIEwEmSJEmSJPm/AAAAAAAA8D/btm3btm0LQG7btm3btgVAAAAAAAAAEMAlSZIkSZIMwEmSJEmSJPk/27Zt27Zt6z+3bdu2bdsOwEmSJEmSJAnAt23btm3bBsCSJEmSJEnSP9u2bdu2bdu/kiRJkiRJAsCSJEmSJEkKwLdt27Zt2+a/JUmSJEmS9L9u27Zt27YNwJIkSZIkSQLASZIkSZIk+T+SJEmSJEnyP5IkSZIkSdK/AAAAAAAA8D+SJEmSJEnCP7dt27Zt2/Y/kiRJkiRJ4j/btm3btm3rv9u2bdu2bfs/27Zt27ZtC0CSJEmSJEniPwAAAAAAAPA/JUmSJEmS9D/btm3btm3bP9u2bdu2bQNAkiRJkiRJwj+SJEmSJEniv9u2bdu2beu/SZIkSZIk+T8lSZIkSZIEwNu2bdu2bfu/btu2bdu2/b/btm3btm3rP9u2bdu2bfu/kiRJkiRJ4r+3bdu2bdv2v9u2bdu2bfs/btu2bdu2EUCSJEmSJEnSv27btm3bthHAkiRJkiRJ4r9JkiRJkiT5vwAAAAAAAPC/t23btm3b9r/btm3btm0bwCVJkiRJkvS/t23btm3b5r8=\",\"dtype\":\"float64\",\"shape\":[79]},\"index\":[0,1,2,3,4,5,6,7,8,9,10,11,12,13,14,15,16,17,18,19,20,21,22,23,24,25,26,27,28,29,30,31,32,33,34,35,36,37,38,39,40,41,42,43,44,45,46,47,48,49,50,51,52,53,54,55,56,57,58,59,60,61,62,63,64,65,66,67,68,69,70,71,72,73,74,75,76,77,78],\"positive_patients\":{\"__ndarray__\":\"AAAAAADAU0AAAAAAAOBbQFVVVVVVVVZAAAAAAAAwVkCamZmZmVlVQFVVVVVVVVVASZIkSZIkVUBJkiRJkqRTQCVJkiRJEkhAt23btm1bSUBu27Zt2zZIQNu2bdu27UdAAAAAAAAASEDbtm3btu1EQG7btm3bNkZAJUmSJEkSTkCSJEmSJMlIQLdt27Zt20VAbtu2bdu2REAlSZIkSRJDQG7btm3btkBAkiRJkiRJOkAAAAAAAAA0QNu2bdu2bTNASZIkSZIkNUCSJEmSJEk1QLdt27Zt2y5At23btm3bLEBu27Zt27YRQNu2bdu2bQtAbtu2bdu2DcC3bdu2bdsuwAAAAAAAADDA27Zt27ZtM8BJkiRJkiQ4wCVJkiRJkjHAt23btm3bMMDbtm3btm0ywNu2bdu2bRvAJUmSJEmSIsAAAAAAAAAowJIkSZIkSSDAJUmSJEmSMcC3bdu2bdswwEmSJEmSJDHAAAAAAAAAOsAlSZIkSZJAwCVJkiRJEkDAbtu2bds2QMDbtm3btm02wCVJkiRJkjbAJUmSJEmSMsCSJEmSJEkuwLdt27Zt2x7At23btm3bFsBJkiRJkiQZwG7btm3btiXASZIkSZIkKcBu27Zt27YnwLdt27Zt2x7A27Zt27ZtH8C3bdu2bdsGwG7btm3btg1At23btm3bGkAAAAAAAAAcQAAAAAAAABhAkiRJkiRJIkAlSZIkSZIUQNu2bdu2bRfAkiRJkiRJLMAlSZIkSZIiwNu2bdu2bSPAkiRJkiRJMMAlSZIkSZI3wG7btm3bthXAbtu2bdu2/T+SJEmSJEkgQCVJkiRJkvQ/JUmSJEmSGEA=\",\"dtype\":\"float64\",\"shape\":[79]},\"suspected_patients\":{\"__ndarray__\":\"AAAAAAAAT8AAAAAAAEBHwKuqqqqqqkfAAAAAAABAT8AzMzMzMzNKwAAAAAAAAAhAbtu2bds2QsCSJEmSJElSwCVJkiRJUlHAt23btm1bRMBu27Zt2zZKwJIkSZIkyUPAJUmSJElSWsCSJEmSJMlPwG7btm3btjPASZIkSZIkMcC3bdu2bVtHwG7btm3btjfAkiRJkiRJO8CSJEmSJEniPwAAAAAAABjAJUmSJEmSDMBJkiRJkiQpwNu2bdu2beu/btu2bdu2DUAAAAAAAADwPyVJkiRJkhTAkiRJkiRJwj+3bdu2bdsxwAAAAAAAABTASZIkSZIk+b/btm3btm0fwLdt27Zt2yLASZIkSZIkFcDbtm3btm0pwNu2bdu2bSdAkiRJkiRJwr9JkiRJkiQRwG7btm3btgVAkiRJkiRJ4j9u27Zt27YVwCVJkiRJkjBAAAAAAAAA8D8lSZIkSZIYQEmSJEmSJAHAbtu2bdu2BUC3bdu2bdsOwEmSJEmSJDBAkiRJkiRJIMDbtm3btm0fQNu2bdu2bfs/JUmSJEmSHEBJkiRJkiT5v0mSJEmSJBlAJUmSJEmS9L9JkiRJkiQjQCVJkiRJkgxAt23btm3b5j9JkiRJkiT5PwAAAAAAABDAkiRJkiRJEkC3bdu2bdsWwAAAAAAAADLAkiRJkiRJHsCSJEmSJEkKwLdt27Zt2+Y/kiRJkiRJFkCSJEmSJEnCv7dt27Zt2zFAbtu2bdu2IUC3bdu2bdv2v0mSJEmSJCHAkiRJkiRJLMAAAAAAAAAcwLdt27Zt2yDAkiRJkiRJOcBu27Zt27YdwNu2bdu2bSfAAAAAAAAA8D8=\",\"dtype\":\"float64\",\"shape\":[79]},\"total_icu\":{\"__ndarray__\":\"AAAAAAAAMMAAAAAAAABDQAAAAAAAADlAAAAAAAAANUAzMzMzMzM1QKuqqqqqqjRAt23btm3bOkAlSZIkSZI2QCVJkiRJkgxASZIkSZIkIUCSJEmSJEkiQLdt27Zt2yBA27Zt27ZtC0CSJEmSJEniv7dt27Zt2+Y/JUmSJEmSGEDbtm3btm3rPwAAAAAAAPA/kiRJkiRJ0r8AAAAAAAAIQNu2bdu2bfu/kiRJkiRJAkDbtm3btm37vyVJkiRJkgTAAAAAAAAAAAAlSZIkSZL0v9u2bdu2bds/AAAAAAAAEMDbtm3btm0TwNu2bdu2bQNAbtu2bdu2DUCSJEmSJEkCwLdt27Zt2xLAkiRJkiRJGsAAAAAAAAAYwJIkSZIkSRrAt23btm3bKMDbtm3btm0ywJIkSZIkSS7AkiRJkiRJKsAAAAAAAAAswAAAAAAAACTAkiRJkiRJIMCSJEmSJEkawNu2bdu2bfu/btu2bdu2/b8AAAAAAAAAwJIkSZIkSQrA27Zt27ZtG8AlSZIkSZIMwJIkSZIkScI/27Zt27Zt2z9u27Zt27YNwEmSJEmSJPm/AAAAAAAA8D9JkiRJkiQBQAAAAAAAAABAkiRJkiRJCsBu27Zt27YNwG7btm3bthXAJUmSJEmSEMAlSZIkSZIYwNu2bdu2bRfAJUmSJEmSBMCSJEmSJEnCv9u2bdu2bRPAkiRJkiRJ8j8lSZIkSZL0v9u2bdu2bQPAkiRJkiRJwr+3bdu2bdsWwAAAAAAAACDAkiRJkiRJCsAAAAAAAAAYwCVJkiRJkhDAkiRJkiRJ8r9JkiRJkiQVwAAAAAAAAAjASZIkSZIk+b8=\",\"dtype\":\"float64\",\"shape\":[79]},\"total_patients\":{\"__ndarray__\":\"AAAAAAAAMUAAAAAAAEBQQAAAAAAAAEVAAAAAAABAOkAAAAAAAIBAQFVVVVVVFVZAJUmSJEkSSEBu27Zt27YVQEmSJEmSJDXAAAAAAAAAJEAAAAAAAAAQwCVJkiRJkiBASZIkSZKkTMBu27Zt27Y1wG7btm3btjhAAAAAAACARUC3bdu2bdsGQAAAAAAAADRAkiRJkiRJLEC3bdu2bVtDQNu2bdu2bTtAbtu2bdu2NkBu27Zt27YdQCVJkiRJkjJAt23btm3bOECSJEmSJEk2QCVJkiRJkiRASZIkSZIkLUC3bdu2bdsqwEmSJEmSJPm/SZIkSZIkFcCSJEmSJEk3wNu2bdu2bTnAbtu2bdu2OMDbtm3btm1CwNu2bdu2bRfAAAAAAAAAMcBu27Zt27Y2wCVJkiRJkhDA27Zt27ZtIcDbtm3btm0xwLdt27Zt2yBAJUmSJEmSMMDbtm3btm0lwJIkSZIkSTPAkiRJkiRJN8AAAAAAAIBCwAAAAAAAADDAkiRJkiRJRMBJkiRJkiQtwLdt27Zt2zTAt23btm3bJsBu27Zt27YwwLdt27Zt2/a/AAAAAAAAHMCSJEmSJEkKQEmSJEmSJB3Abtu2bdu2J8AlSZIkSZIkwNu2bdu2bSfAkiRJkiRJCsBJkiRJkiQhwCVJkiRJkizA27Zt27Zt679u27Zt27YNQLdt27Zt2xpA27Zt27ZtLUAAAAAAAAAUQAAAAAAAAChASZIkSZIkFcDbtm3btm0lwJIkSZIkSTLA27Zt27ZtPsAlSZIkSZI+wG7btm3btivA27Zt27ZtN8C3bdu2bdvmP7dt27Zt2yTAJUmSJEmSHEA=\",\"dtype\":\"float64\",\"shape\":[79]}},\"selected\":{\"id\":\"1661\"},\"selection_policy\":{\"id\":\"1660\"}},\"id\":\"1544\",\"type\":\"ColumnDataSource\"},{\"attributes\":{\"overlay\":{\"id\":\"1533\"}},\"id\":\"1529\",\"type\":\"BoxZoomTool\"},{\"attributes\":{},\"id\":\"1593\",\"type\":\"UnionRenderers\"},{\"attributes\":{\"fill_alpha\":{\"value\":0.1},\"fill_color\":{\"value\":\"green\"},\"line_alpha\":{\"value\":0.1},\"line_color\":{\"value\":\"green\"},\"top\":{\"field\":\"total_patients\"},\"width\":{\"value\":0.4},\"x\":{\"field\":\"date\"}},\"id\":\"1547\",\"type\":\"VBar\"},{\"attributes\":{\"source\":{\"id\":\"1544\"}},\"id\":\"1574\",\"type\":\"CDSView\"},{\"attributes\":{\"data_source\":{\"id\":\"1544\"},\"glyph\":{\"id\":\"1571\"},\"hover_glyph\":null,\"muted_glyph\":null,\"nonselection_glyph\":{\"id\":\"1572\"},\"selection_glyph\":null,\"view\":{\"id\":\"1574\"}},\"id\":\"1573\",\"type\":\"GlyphRenderer\"},{\"attributes\":{\"data\":{\"date\":{\"__ndarray__\":\"AACA/4ITd0IAAADLJxR3QgAAwDB6FHdCAACAlswUd0IAAIAtFhZ3QgAAgMRfF3dCAABAKrIXd0IAAACQBBh3QgAAwPVWGHdCAACAW6kYd0IAAEDB+xh3QgAAwIygGXdCAACA8vIZd0IAAEBYRRp3QgAAAL6XGndCAADAI+oad0IAAICJPBt3QgAAQO+OG3dCAAAAVeEbd0IAAMC6Mxx3QgAAQIbYHHdCAAAA7Codd0IAAMBRfR13QgAAgLfPHXdCAABAHSIed0IAAACDdB53QgAAwOjGHndCAACAThkfd0IAAEC0ax93QgAAABq+H3dCAADAfxAgd0IAAIDlYiB3QgAAwBZaIXdCAABA4v4hd0IAAABIUSJ3QgAAwK2jIndCAACAE/Yid0IAAEB5SCN3QgAAAN+aI3dCAADARO0jd0IAAICqPyR3QgAAQBCSJHdCAAAAduQkd0IAAMDbNiV3QgAAgEGJJXdCAABAp9sld0IAAAANLiZ3QgAAwHKAJndCAABAPiUnd0IAAACkdyd3QgAAwAnKJ3dCAACAbxwod0IAAEDVbih3QgAAADvBKHdCAADAoBMpd0IAAIAGZil3QgAAANIKKndCAABAAwIrd0IAAMDOpit3QgAAgDT5K3dCAABAmkssd0IAAAAAnix3Qg==\",\"dtype\":\"float64\",\"shape\":[62]},\"icu_positive_patients\":{\"__ndarray__\":\"AAAAAAAAJkAAAAAAAAA7QAAAAAAAADhAAAAAAAAAKkAAAAAAAAA7wAAAAAAAADJAAAAAAAAAKEAAAAAAAAAYwAAAAAAAAAAAAAAAAAAAIMAAAAAAAAAiQAAAAAAAACjAAAAAAAAAJsAAAAAAAAAAwAAAAAAAAAAAAAAAAAAANcAAAAAAAAAiQAAAAAAAABBAAAAAAAAAFEAAAAAAAAAUQAAAAAAAAC5AAAAAAAAAHMAAAAAAAAAAAAAAAAAAADLAAAAAAAAAJMAAAAAAAAAqwAAAAAAAACTAAAAAAAAAKsAAAAAAAABFwAAAAAAAABRAAAAAAAAAAAAAAAAAAADwPwAAAAAAAPA/AAAAAAAAFMAAAAAAAAAUQAAAAAAAADHAAAAAAAAALMAAAAAAAAAiQAAAAAAAACJAAAAAAAAAIMAAAAAAAAAswAAAAAAAADFAAAAAAAAA8L8AAAAAAAAAAAAAAAAAABjAAAAAAAAAKMAAAAAAAAAYwAAAAAAAADjAAAAAAAAALEAAAAAAAAAQwAAAAAAAADJAAAAAAAAALMAAAAAAAAA1wAAAAAAAACRAAAAAAAAAAMAAAAAAAAAwwAAAAAAAAChAAAAAAAAAAMAAAAAAAAAgQAAAAAAAAABAAAAAAAAAJsAAAAAAAAAUQA==\",\"dtype\":\"float64\",\"shape\":[62]},\"icu_suspected_patients\":{\"__ndarray__\":\"AAAAAAAAO8AAAAAAAAA8wAAAAAAAAC7AAAAAAAAAIkAAAAAAAAAswAAAAAAAgEHAAAAAAAAAOEAAAAAAAAA/wAAAAAAAAAjAAAAAAAAAFEAAAAAAAAAUQAAAAAAAADJAAAAAAAAALEAAAAAAAAAcwAAAAAAAAD/AAAAAAAAAKEAAAAAAAAA3QAAAAAAAABTAAAAAAAAAKkAAAAAAAIBAwAAAAAAAABRAAAAAAAAAHEAAAAAAAAAkwAAAAAAAAAAAAAAAAAAALkAAAAAAAAAmwAAAAAAAACLAAAAAAAAAIMAAAAAAAAAAAAAAAAAAACBAAAAAAAAAEMAAAAAAAAAAwAAAAAAAACbAAAAAAAAAMUAAAAAAAAAkwAAAAAAAABxAAAAAAAAAHMAAAAAAAAAgQAAAAAAAABxAAAAAAAAAAEAAAAAAAAAIwAAAAAAAABzAAAAAAAAAIkAAAAAAAAAqwAAAAAAAADZAAAAAAAAAIsAAAAAAAAAIwAAAAAAAABTAAAAAAAAANMAAAAAAAAAcwAAAAAAAADVAAAAAAAAAJEAAAAAAAAA1wAAAAAAAAAhAAAAAAAAAEEAAAAAAAAAAQAAAAAAAACjAAAAAAAAAEMAAAAAAAADwvwAAAAAAADrAAAAAAAAAO0AAAAAAAAAuwA==\",\"dtype\":\"float64\",\"shape\":[62]},\"index\":[0,2,3,4,8,12,13,14,15,16,17,19,20,21,22,23,24,25,26,27,29,30,31,32,33,34,35,36,37,38,39,40,43,45,46,47,48,49,50,51,52,53,54,55,56,57,58,59,61,62,63,64,65,66,67,68,70,73,75,76,77,78],\"positive_patients\":{\"__ndarray__\":\"AAAAAADAU0AAAAAAAIBGQAAAAAAAwFVAAAAAAAAAUkAAAAAAAEBRwAAAAAAAgFVAAAAAAACAQkAAAAAAAIBLQAAAAAAAgERAAAAAAAAAJsAAAAAAAAA+QAAAAAAAgE9AAAAAAAAAEEAAAAAAAAAUQAAAAAAAAAjAAAAAAAAALsAAAAAAAABFQAAAAAAAgEpAAAAAAAAANkAAAAAAAAAIwAAAAAAAACTAAAAAAABAUMAAAAAAAABEwAAAAAAAgEhAAAAAAAAAAMAAAAAAAABCwAAAAAAAADPAAAAAAAAAFMAAAAAAAABTwAAAAAAAgERAAAAAAAAAQEAAAAAAAAA1wAAAAAAAAAAAAAAAAAAANcAAAAAAAAAywAAAAAAAACzAAAAAAAAAJsAAAAAAAAAuwAAAAAAAAPC/AAAAAAAAScAAAAAAAAAIQAAAAAAAAEFAAAAAAAAAAAAAAAAAAAAuwAAAAAAAgEfAAAAAAAAAKsAAAAAAAIBGwAAAAAAAAEBAAAAAAACAQUAAAAAAAAA/QAAAAAAAADrAAAAAAAAAJsAAAAAAAABKwAAAAAAAAEtAAAAAAAAAFEAAAAAAAABFwAAAAAAAACBAAAAAAAAACEAAAAAAAAAiQAAAAAAAADFAAAAAAAAARMAAAAAAAAA0QA==\",\"dtype\":\"float64\",\"shape\":[62]},\"suspected_patients\":{\"__ndarray__\":\"AAAAAAAAT8AAAAAAAIBIwAAAAAAAAFvAAAAAAAAAKMAAAAAAAAAQwAAAAAAAgGbAAAAAAAAAM0AAAAAAAAAowAAAAAAAACxAAAAAAAAATMAAAAAAAAA9wAAAAAAAAC5AAAAAAAAAO8AAAAAAAAAUQAAAAAAAgEjAAAAAAAAAOkAAAAAAAAAIQAAAAAAAAEFAAAAAAAAAPMAAAAAAAAAkQAAAAAAAgERAAAAAAAAASUAAAAAAAIBEwAAAAAAAADdAAAAAAAAA8D8AAAAAAABFwAAAAAAAAElAAAAAAAAARcAAAAAAAAA1QAAAAAAAACBAAAAAAAAAIEAAAAAAAIBEwAAAAAAAABjAAAAAAAAARUAAAAAAAABDwAAAAAAAwFhAAAAAAAAATcAAAAAAAIBKQAAAAAAAgEjAAAAAAAAA8D8AAAAAAAAzwAAAAAAAADFAAAAAAAAAR0AAAAAAAAAyQAAAAAAAACZAAAAAAABAUcAAAAAAAAAcQAAAAAAAAE3AAAAAAAAAOsAAAAAAAABRwAAAAAAAAFVAAAAAAACAQ8AAAAAAAIBBQAAAAAAAADjAAAAAAACAQkAAAAAAAABZQAAAAAAAAChAAAAAAAAAOkAAAAAAAAAywAAAAAAAABjAAAAAAAAAMsAAAAAAAAAAAA==\",\"dtype\":\"float64\",\"shape\":[62]},\"total_icu\":{\"__ndarray__\":\"AAAAAAAAMMAAAAAAAADwvwAAAAAAACJAAAAAAAAANkAAAAAAAIBEwAAAAAAAADHAAAAAAAAAQkAAAAAAAIBCwAAAAAAAAAjAAAAAAAAACMAAAAAAAAAsQAAAAAAAABhAAAAAAAAACEAAAAAAAAAiwAAAAAAAAD/AAAAAAAAAIsAAAAAAAABAQAAAAAAAAPC/AAAAAAAAMkAAAAAAAAA8wAAAAAAAADRAAAAAAAAAAAAAAAAAAAAkwAAAAAAAADLAAAAAAAAAFEAAAAAAAAA4wAAAAAAAADPAAAAAAAAANcAAAAAAAABFwAAAAAAAACpAAAAAAAAAEMAAAAAAAADwvwAAAAAAACTAAAAAAAAAKEAAAAAAAAAUwAAAAAAAACTAAAAAAAAANcAAAAAAAAAxQAAAAAAAADBAAAAAAAAAGMAAAAAAAAAxwAAAAAAAACRAAAAAAAAAIEAAAAAAAAAqwAAAAAAAADBAAAAAAAAANcAAAAAAAAAiwAAAAAAAAD3AAAAAAAAAGMAAAAAAAAAmwAAAAAAAgENAAAAAAAAAEMAAAAAAAABFwAAAAAAAACpAAAAAAAAAAEAAAAAAAAAswAAAAAAAAAAAAAAAAAAAGMAAAAAAAAAcQAAAAAAAADjAAAAAAAAAMEAAAAAAAAAkwA==\",\"dtype\":\"float64\",\"shape\":[62]},\"total_patients\":{\"__ndarray__\":\"AAAAAAAAMUAAAAAAAAAQwAAAAAAAADXAAAAAAAAATkAAAAAAAEBSwAAAAAAAgFfAAAAAAAAATEAAAAAAAIBFQAAAAAAAgEtAAAAAAADAUMAAAAAAAADwPwAAAAAAgFNAAAAAAAAAN8AAAAAAAAAkQAAAAAAAAErAAAAAAAAAJkAAAAAAAIBGQAAAAAAAwFVAAAAAAAAAGMAAAAAAAAAcQAAAAAAAAD9AAAAAAAAALsAAAAAAAEBUwAAAAAAAAFJAAAAAAAAA8L8AAAAAAIBTwAAAAAAAAD9AAAAAAACAR8AAAAAAAIBLwAAAAAAAgEhAAAAAAAAAREAAAAAAAABPwAAAAAAAABjAAAAAAAAANUAAAAAAAABMwAAAAAAAQFVAAAAAAABAUcAAAAAAAABDQAAAAAAAAEnAAAAAAACASMAAAAAAAAAwwAAAAAAAgElAAAAAAAAAR0AAAAAAAAAIQAAAAAAAAELAAAAAAACAVMAAAAAAAABDwAAAAAAAADrAAAAAAAAAIkAAAAAAAIBCwAAAAAAAAE1AAAAAAAAAScAAAAAAAAAxwAAAAAAAAD5AAAAAAAAARUAAAAAAAABNQAAAAAAAADRAAAAAAAAAPUAAAAAAAAAiwAAAAAAAACZAAAAAAAAATcAAAAAAAAA0QA==\",\"dtype\":\"float64\",\"shape\":[62]}},\"selected\":{\"id\":\"1594\"},\"selection_policy\":{\"id\":\"1593\"}},\"id\":\"1543\",\"type\":\"ColumnDataSource\"},{\"attributes\":{\"text\":\"Daily new hospitalizations (suspected and confirmed cases) -- LA County\"},\"id\":\"1509\",\"type\":\"Title\"},{\"attributes\":{\"axis\":{\"id\":\"1523\"},\"dimension\":1,\"ticker\":null},\"id\":\"1526\",\"type\":\"Grid\"},{\"attributes\":{\"line_alpha\":0.1,\"line_color\":\"navy\",\"line_width\":5,\"x\":{\"field\":\"date\"},\"y\":{\"field\":\"total_patients\"}},\"id\":\"1572\",\"type\":\"Line\"},{\"attributes\":{\"bottom_units\":\"screen\",\"fill_alpha\":0.5,\"fill_color\":\"lightgrey\",\"left_units\":\"screen\",\"level\":\"overlay\",\"line_alpha\":1.0,\"line_color\":\"black\",\"line_dash\":[4,4],\"line_width\":2,\"render_mode\":\"css\",\"right_units\":\"screen\",\"top_units\":\"screen\"},\"id\":\"1533\",\"type\":\"BoxAnnotation\"},{\"attributes\":{\"line_alpha\":0.3,\"line_color\":\"navy\",\"line_width\":5,\"x\":{\"field\":\"date\"},\"y\":{\"field\":\"total_patients\"}},\"id\":\"1571\",\"type\":\"Line\"},{\"attributes\":{\"base\":60,\"mantissas\":[1,2,5,10,15,20,30],\"max_interval\":1800000.0,\"min_interval\":1000.0,\"num_minor_ticks\":0},\"id\":\"1557\",\"type\":\"AdaptiveTicker\"},{\"attributes\":{},\"id\":\"1527\",\"type\":\"PanTool\"},{\"attributes\":{\"data_source\":{\"id\":\"1543\"},\"glyph\":{\"id\":\"1546\"},\"hover_glyph\":null,\"muted_glyph\":null,\"nonselection_glyph\":{\"id\":\"1547\"},\"selection_glyph\":null,\"view\":{\"id\":\"1549\"}},\"id\":\"1548\",\"type\":\"GlyphRenderer\"},{\"attributes\":{},\"id\":\"1594\",\"type\":\"Selection\"},{\"attributes\":{},\"id\":\"1528\",\"type\":\"WheelZoomTool\"},{\"attributes\":{\"label\":{\"value\":\"7-day rolling avg\"},\"renderers\":[{\"id\":\"1573\"}]},\"id\":\"1595\",\"type\":\"LegendItem\"},{\"attributes\":{},\"id\":\"1530\",\"type\":\"SaveTool\"},{\"attributes\":{\"days\":[1,4,7,10,13,16,19,22,25,28]},\"id\":\"1560\",\"type\":\"DaysTicker\"},{\"attributes\":{},\"id\":\"1532\",\"type\":\"HelpTool\"},{\"attributes\":{},\"id\":\"1660\",\"type\":\"UnionRenderers\"},{\"attributes\":{\"callback\":null,\"tooltips\":[[\"cases\",\"@total_patients\"]]},\"id\":\"1534\",\"type\":\"HoverTool\"},{\"attributes\":{\"days\":[1,8,15,22]},\"id\":\"1561\",\"type\":\"DaysTicker\"},{\"attributes\":{},\"id\":\"1531\",\"type\":\"ResetTool\"},{\"attributes\":{},\"id\":\"1661\",\"type\":\"Selection\"},{\"attributes\":{\"days\":[1,15]},\"id\":\"1562\",\"type\":\"DaysTicker\"},{\"attributes\":{\"months\":[0,1,2,3,4,5,6,7,8,9,10,11]},\"id\":\"1563\",\"type\":\"MonthsTicker\"}],\"root_ids\":[\"1508\"]},\"title\":\"Bokeh Application\",\"version\":\"2.0.2\"}};\n",
       "  var render_items = [{\"docid\":\"3402d97d-9ae7-4444-a345-d3ab5d7a6334\",\"root_ids\":[\"1508\"],\"roots\":{\"1508\":\"4efa5d62-0681-40e7-a0d6-2861e3467df3\"}}];\n",
       "  root.Bokeh.embed.embed_items_notebook(docs_json, render_items);\n",
       "\n",
       "  }\n",
       "  if (root.Bokeh !== undefined) {\n",
       "    embed_document(root);\n",
       "  } else {\n",
       "    var attempts = 0;\n",
       "    var timer = setInterval(function(root) {\n",
       "      if (root.Bokeh !== undefined) {\n",
       "        clearInterval(timer);\n",
       "        embed_document(root);\n",
       "      } else {\n",
       "        attempts++;\n",
       "        if (attempts > 100) {\n",
       "          clearInterval(timer);\n",
       "          console.log(\"Bokeh: ERROR: Unable to run BokehJS code because BokehJS library is missing\");\n",
       "        }\n",
       "      }\n",
       "    }, 10, root)\n",
       "  }\n",
       "})(window);"
      ],
      "application/vnd.bokehjs_exec.v0+json": ""
     },
     "metadata": {
      "application/vnd.bokehjs_exec.v0+json": {
       "id": "1508"
      }
     },
     "output_type": "display_data"
    },
    {
     "data": {
      "text/html": [
       "\n",
       "\n",
       "\n",
       "\n",
       "\n",
       "\n",
       "  <div class=\"bk-root\" id=\"79f0a237-3ac2-4757-b6a2-f54909a3e427\" data-root-id=\"1794\"></div>\n"
      ]
     },
     "metadata": {},
     "output_type": "display_data"
    },
    {
     "data": {
      "application/javascript": [
       "(function(root) {\n",
       "  function embed_document(root) {\n",
       "    \n",
       "  var docs_json = {\"fed49d9a-3ad1-44c2-92d0-bb40a0dbd4e2\":{\"roots\":{\"references\":[{\"attributes\":{\"below\":[{\"id\":\"1805\"}],\"center\":[{\"id\":\"1808\"},{\"id\":\"1812\"},{\"id\":\"1854\"}],\"left\":[{\"id\":\"1809\"}],\"plot_height\":400,\"plot_width\":1000,\"renderers\":[{\"id\":\"1834\"},{\"id\":\"1859\"}],\"title\":{\"id\":\"1795\"},\"toolbar\":{\"id\":\"1821\"},\"x_range\":{\"id\":\"1797\"},\"x_scale\":{\"id\":\"1801\"},\"y_range\":{\"id\":\"1799\"},\"y_scale\":{\"id\":\"1803\"}},\"id\":\"1794\",\"subtype\":\"Figure\",\"type\":\"Plot\"},{\"attributes\":{},\"id\":\"1879\",\"type\":\"UnionRenderers\"},{\"attributes\":{},\"id\":\"1801\",\"type\":\"LinearScale\"},{\"attributes\":{\"text\":\"Daily new patients in ICU (suspected and confirmed cases) -- LA County\"},\"id\":\"1795\",\"type\":\"Title\"},{\"attributes\":{\"source\":{\"id\":\"1830\"}},\"id\":\"1860\",\"type\":\"CDSView\"},{\"attributes\":{\"days\":[1,8,15,22]},\"id\":\"1847\",\"type\":\"DaysTicker\"},{\"attributes\":{},\"id\":\"1803\",\"type\":\"LinearScale\"},{\"attributes\":{\"days\":[1,15]},\"id\":\"1848\",\"type\":\"DaysTicker\"},{\"attributes\":{\"formatter\":{\"id\":\"1838\"},\"ticker\":{\"id\":\"1806\"}},\"id\":\"1805\",\"type\":\"DatetimeAxis\"},{\"attributes\":{\"bottom_units\":\"screen\",\"fill_alpha\":0.5,\"fill_color\":\"lightgrey\",\"left_units\":\"screen\",\"level\":\"overlay\",\"line_alpha\":1.0,\"line_color\":\"black\",\"line_dash\":[4,4],\"line_width\":2,\"render_mode\":\"css\",\"right_units\":\"screen\",\"top_units\":\"screen\"},\"id\":\"1819\",\"type\":\"BoxAnnotation\"},{\"attributes\":{\"months\":[0,1,2,3,4,5,6,7,8,9,10,11]},\"id\":\"1849\",\"type\":\"MonthsTicker\"},{\"attributes\":{\"num_minor_ticks\":5,\"tickers\":[{\"id\":\"1842\"},{\"id\":\"1843\"},{\"id\":\"1844\"},{\"id\":\"1845\"},{\"id\":\"1846\"},{\"id\":\"1847\"},{\"id\":\"1848\"},{\"id\":\"1849\"},{\"id\":\"1850\"},{\"id\":\"1851\"},{\"id\":\"1852\"},{\"id\":\"1853\"}]},\"id\":\"1806\",\"type\":\"DatetimeTicker\"},{\"attributes\":{\"callback\":null,\"tooltips\":[[\"cases\",\"@total_icu\"]]},\"id\":\"1820\",\"type\":\"HoverTool\"},{\"attributes\":{\"data\":{\"date\":{\"__ndarray__\":\"AACA/4ITd0IAAADLJxR3QgAAwDB6FHdCAACAlswUd0IAAED8HhV3QgAAQJNoFndCAAAA+boWd0IAAMBeDRd3QgAAgMRfF3dCAABAKrIXd0IAAACQBBh3QgAAwPVWGHdCAACAW6kYd0IAAEDB+xh3QgAAACdOGXdCAADAjKAZd0IAAIDy8hl3QgAAQFhFGndCAAAAvpcad0IAAMAj6hp3QgAAgIk8G3dCAABA744bd0IAAABV4Rt3QgAAwLozHHdCAACAIIYcd0IAAECG2Bx3QgAAAOwqHXdCAADAUX0dd0IAAIC3zx13QgAAQB0iHndCAAAAg3Qed0IAAMDoxh53QgAAgE4ZH3dCAAAAGr4fd0IAAMB/ECB3QgAAgOViIHdCAABAS7Ugd0IAAACxByF3QgAAwBZaIXdCAACAfKwhd0IAAEDi/iF3QgAAAEhRIndCAADAraMid0IAAIAT9iJ3QgAAQHlII3dCAAAA35ojd0IAAMBE7SN3QgAAgKo/JHdCAABAEJIkd0IAAAB25CR3QgAAwNs2JXdCAACAQYkld0IAAECn2yV3QgAAAA0uJndCAADAcoAmd0IAAIDY0iZ3QgAAQD4lJ3dCAAAApHcnd0IAAMAJyid3QgAAgG8cKHdCAAAAO8Eod0IAAMCgEyl3QgAAgAZmKXdCAABAbLgpd0IAAADSCip3QgAAwDddKndCAACAna8qd0IAAEADAit3QgAAAGlUK3dCAADAzqYrd0IAAIA0+St3QgAAQJpLLHdCAAAAAJ4sd0I=\",\"dtype\":\"float64\",\"shape\":[73]},\"icu_positive_patients\":{\"__ndarray__\":\"AAAAAAAAJkAAAAAAAAA7QAAAAAAAADhAAAAAAAAAKkAAAAAAAAA/QAAAAAAAgERAAAAAAAAAEEAAAAAAAAAmQAAAAAAAADJAAAAAAAAAKEAAAAAAAAAYwAAAAAAAAAAAAAAAAAAAIMAAAAAAAAAiQAAAAAAAAD5AAAAAAAAAKMAAAAAAAAAmwAAAAAAAAADAAAAAAAAAAAAAAAAAAAA1wAAAAAAAACJAAAAAAAAAEEAAAAAAAAAUQAAAAAAAABRAAAAAAAAAJsAAAAAAAAAuQAAAAAAAABzAAAAAAAAAAAAAAAAAAAAywAAAAAAAACTAAAAAAAAAKsAAAAAAAAAkwAAAAAAAACrAAAAAAAAAFEAAAAAAAAAAAAAAAAAAAPA/AAAAAAAAFEAAAAAAAAA4wAAAAAAAAPA/AAAAAAAAAEAAAAAAAAAUwAAAAAAAABRAAAAAAAAAMcAAAAAAAAAswAAAAAAAACJAAAAAAAAAIkAAAAAAAAAgwAAAAAAAACzAAAAAAAAAMUAAAAAAAADwvwAAAAAAAAAAAAAAAAAAGMAAAAAAAAAowAAAAAAAABjAAAAAAAAAOMAAAAAAAAAiQAAAAAAAACxAAAAAAAAAEMAAAAAAAAAyQAAAAAAAACzAAAAAAAAAJEAAAAAAAAAAwAAAAAAAADDAAAAAAAAAHMAAAAAAAAAoQAAAAAAAAPC/AAAAAAAALsAAAAAAAAAAwAAAAAAAABxAAAAAAAAAIEAAAAAAAAAAQAAAAAAAACbAAAAAAAAAFEA=\",\"dtype\":\"float64\",\"shape\":[73]},\"icu_suspected_patients\":{\"__ndarray__\":\"AAAAAAAAO8AAAAAAAAA8wAAAAAAAAC7AAAAAAAAAIkAAAAAAAAAqwAAAAAAAABzAAAAAAAAAIkAAAAAAAAAYQAAAAAAAgEHAAAAAAAAAOEAAAAAAAAA/wAAAAAAAAAjAAAAAAAAAFEAAAAAAAAAUQAAAAAAAADbAAAAAAAAAMkAAAAAAAAAsQAAAAAAAABzAAAAAAAAAP8AAAAAAAAAoQAAAAAAAADdAAAAAAAAAFMAAAAAAAAAqQAAAAAAAgEDAAAAAAAAAEMAAAAAAAAAUQAAAAAAAABxAAAAAAAAAJMAAAAAAAAAAAAAAAAAAAC5AAAAAAAAAJsAAAAAAAAAiwAAAAAAAACDAAAAAAAAAIEAAAAAAAAAQwAAAAAAAAADAAAAAAAAA8L8AAAAAAAAyQAAAAAAAACbAAAAAAAAAJMAAAAAAAAAxQAAAAAAAACTAAAAAAAAAHEAAAAAAAAAcwAAAAAAAACBAAAAAAAAAHEAAAAAAAAAAQAAAAAAAAAjAAAAAAAAAHMAAAAAAAAAiQAAAAAAAACrAAAAAAAAANkAAAAAAAAAiwAAAAAAAAAjAAAAAAAAAFMAAAAAAAAAkQAAAAAAAADTAAAAAAAAAHMAAAAAAAAA1QAAAAAAAACRAAAAAAAAACEAAAAAAAAAQQAAAAAAAAABAAAAAAAAAKEAAAAAAAAAowAAAAAAAADPAAAAAAAAAGEAAAAAAAAAQwAAAAAAAACBAAAAAAAAA8L8AAAAAAAA6wAAAAAAAADtAAAAAAAAALsA=\",\"dtype\":\"float64\",\"shape\":[73]},\"index\":[0,2,3,4,5,9,10,11,12,13,14,15,16,17,18,19,20,21,22,23,24,25,26,27,28,29,30,31,32,33,34,35,36,38,39,40,41,42,43,44,45,46,47,48,49,50,51,52,53,54,55,56,57,58,59,60,61,62,63,64,66,67,68,69,70,71,72,73,74,75,76,77,78],\"positive_patients\":{\"__ndarray__\":\"AAAAAADAU0AAAAAAAIBGQAAAAAAAwFVAAAAAAAAAUkAAAAAAAEBVQAAAAAAAgE9AAAAAAADAUUAAAAAAAABRQAAAAAAAgFVAAAAAAACAQkAAAAAAAIBLQAAAAAAAgERAAAAAAAAAJsAAAAAAAAA+QAAAAAAAAEpAAAAAAACAT0AAAAAAAAAQQAAAAAAAABRAAAAAAAAACMAAAAAAAAAuwAAAAAAAAEVAAAAAAACASkAAAAAAAAA2QAAAAAAAAAjAAAAAAABAUMAAAAAAAAAkwAAAAAAAQFDAAAAAAAAARMAAAAAAAIBIQAAAAAAAAADAAAAAAAAAQsAAAAAAAAAzwAAAAAAAABTAAAAAAACAREAAAAAAAABAQAAAAAAAADXAAAAAAAAAIsAAAAAAAEBVwAAAAAAAAAAAAAAAAACAU8AAAAAAAAA1wAAAAAAAADLAAAAAAAAALMAAAAAAAAAmwAAAAAAAAC7AAAAAAAAA8L8AAAAAAABJwAAAAAAAAAhAAAAAAAAAQUAAAAAAAAAAAAAAAAAAAC7AAAAAAACAR8AAAAAAAAAqwAAAAAAAgEbAAAAAAAAAQEAAAAAAAIBAQAAAAAAAgEFAAAAAAAAAP0AAAAAAAAA6wAAAAAAAACbAAAAAAAAAS0AAAAAAAAAUQAAAAAAAAEXAAAAAAAAAO8AAAAAAAAAgQAAAAAAAACzAAAAAAACAWMAAAAAAAAAIQAAAAAAAgGBAAAAAAAAAIkAAAAAAAAAxQAAAAAAAAETAAAAAAAAANEA=\",\"dtype\":\"float64\",\"shape\":[73]},\"suspected_patients\":{\"__ndarray__\":\"AAAAAAAAT8AAAAAAAIBIwAAAAAAAAFvAAAAAAAAAKMAAAAAAAIBxQAAAAAAA4GJAAAAAAADAZ8AAAAAAAIBTQAAAAAAAgGbAAAAAAAAAM0AAAAAAAAAowAAAAAAAACxAAAAAAAAATMAAAAAAAAA9wAAAAAAAgEpAAAAAAAAALkAAAAAAAAA7wAAAAAAAABRAAAAAAACASMAAAAAAAAA6QAAAAAAAAAhAAAAAAAAAQUAAAAAAAAA8wAAAAAAAACRAAAAAAABAXsAAAAAAAIBEQAAAAAAAAElAAAAAAACARMAAAAAAAAA3QAAAAAAAAPA/AAAAAAAARcAAAAAAAABJQAAAAAAAAEXAAAAAAAAAIEAAAAAAAAAgQAAAAAAAgETAAAAAAAAAXEAAAAAAAIBNwAAAAAAAABjAAAAAAACAQsAAAAAAAABFQAAAAAAAAEPAAAAAAADAWEAAAAAAAABNwAAAAAAAgEpAAAAAAACASMAAAAAAAADwPwAAAAAAADPAAAAAAAAAMUAAAAAAAABHQAAAAAAAADJAAAAAAAAAJkAAAAAAAEBRwAAAAAAAABxAAAAAAAAATcAAAAAAAEBTQAAAAAAAADrAAAAAAAAAUcAAAAAAAABVQAAAAAAAgEPAAAAAAAAAOMAAAAAAAIBCQAAAAAAAAFlAAAAAAABgYMAAAAAAAAAoQAAAAAAAQFbAAAAAAAAAEMAAAAAAAAA6QAAAAAAAADtAAAAAAAAAMsAAAAAAAAAYwAAAAAAAADLAAAAAAAAAAAA=\",\"dtype\":\"float64\",\"shape\":[73]},\"total_icu\":{\"__ndarray__\":\"AAAAAAAAMMAAAAAAAADwvwAAAAAAACJAAAAAAAAANkAAAAAAAAAyQAAAAAAAAEFAAAAAAAAAKkAAAAAAAAAxQAAAAAAAADHAAAAAAAAAQkAAAAAAAIBCwAAAAAAAAAjAAAAAAAAACMAAAAAAAAAsQAAAAAAAACBAAAAAAAAAGEAAAAAAAAAIQAAAAAAAACLAAAAAAAAAP8AAAAAAAAAiwAAAAAAAAEBAAAAAAAAA8L8AAAAAAAAyQAAAAAAAADzAAAAAAAAALsAAAAAAAAA0QAAAAAAAAAAAAAAAAAAAJMAAAAAAAAAywAAAAAAAABRAAAAAAAAAOMAAAAAAAAAzwAAAAAAAADXAAAAAAAAAKkAAAAAAAAAQwAAAAAAAAPC/AAAAAAAAEEAAAAAAAAAYwAAAAAAAACTAAAAAAAAAIMAAAAAAAAAoQAAAAAAAABTAAAAAAAAAJMAAAAAAAAA1wAAAAAAAADFAAAAAAAAAMEAAAAAAAAAYwAAAAAAAADHAAAAAAAAAJEAAAAAAAAAgQAAAAAAAACrAAAAAAAAAMEAAAAAAAAA1wAAAAAAAACLAAAAAAAAAPcAAAAAAAAAzQAAAAAAAABjAAAAAAAAAJsAAAAAAAIBDQAAAAAAAABDAAAAAAAAAKkAAAAAAAAAAQAAAAAAAACzAAAAAAAAAFEAAAAAAAAAAAAAAAAAAADTAAAAAAAAAIsAAAAAAAAAYwAAAAAAAAC5AAAAAAAAAHEAAAAAAAAA4wAAAAAAAADBAAAAAAAAAJMA=\",\"dtype\":\"float64\",\"shape\":[73]},\"total_patients\":{\"__ndarray__\":\"AAAAAAAAMUAAAAAAAAAQwAAAAAAAADXAAAAAAAAATkAAAAAAANB2QAAAAAAAwGpAAAAAAADAXcAAAAAAAEBiQAAAAAAAgFfAAAAAAAAATEAAAAAAAIBFQAAAAAAAgEtAAAAAAADAUMAAAAAAAADwPwAAAAAAQFpAAAAAAACAU0AAAAAAAAA3wAAAAAAAACRAAAAAAAAASsAAAAAAAAAmQAAAAAAAgEZAAAAAAADAVUAAAAAAAAAYwAAAAAAAABxAAAAAAABAZ8AAAAAAAAA/QAAAAAAAAC7AAAAAAABAVMAAAAAAAABSQAAAAAAAAPC/AAAAAACAU8AAAAAAAAA/QAAAAAAAgEfAAAAAAACASEAAAAAAAABEQAAAAAAAAE/AAAAAAADAWUAAAAAAAABiwAAAAAAAABjAAAAAAADAXMAAAAAAAAA1QAAAAAAAAEzAAAAAAABAVUAAAAAAAEBRwAAAAAAAAENAAAAAAAAAScAAAAAAAIBIwAAAAAAAADDAAAAAAACASUAAAAAAAABHQAAAAAAAAAhAAAAAAAAAQsAAAAAAAIBUwAAAAAAAAEPAAAAAAAAAOsAAAAAAAIBbQAAAAAAAACJAAAAAAACAQsAAAAAAAABNQAAAAAAAAEnAAAAAAAAAPkAAAAAAAABFQAAAAAAAAE1AAAAAAADAY8AAAAAAAAA0QAAAAAAAwFnAAAAAAACAWcAAAAAAAAA9QAAAAAAA4GNAAAAAAAAAIsAAAAAAAAAmQAAAAAAAAE3AAAAAAAAANEA=\",\"dtype\":\"float64\",\"shape\":[73]}},\"selected\":{\"id\":\"1880\"},\"selection_policy\":{\"id\":\"1879\"}},\"id\":\"1829\",\"type\":\"ColumnDataSource\"},{\"attributes\":{\"active_drag\":\"auto\",\"active_inspect\":\"auto\",\"active_multi\":null,\"active_scroll\":\"auto\",\"active_tap\":\"auto\",\"tools\":[{\"id\":\"1813\"},{\"id\":\"1814\"},{\"id\":\"1815\"},{\"id\":\"1816\"},{\"id\":\"1817\"},{\"id\":\"1818\"},{\"id\":\"1820\"}]},\"id\":\"1821\",\"type\":\"Toolbar\"},{\"attributes\":{\"months\":[0,2,4,6,8,10]},\"id\":\"1850\",\"type\":\"MonthsTicker\"},{\"attributes\":{\"axis\":{\"id\":\"1805\"},\"ticker\":null},\"id\":\"1808\",\"type\":\"Grid\"},{\"attributes\":{\"months\":[0,4,8]},\"id\":\"1851\",\"type\":\"MonthsTicker\"},{\"attributes\":{\"days\":[1,4,7,10,13,16,19,22,25,28]},\"id\":\"1846\",\"type\":\"DaysTicker\"},{\"attributes\":{\"formatter\":{\"id\":\"1840\"},\"ticker\":{\"id\":\"1810\"}},\"id\":\"1809\",\"type\":\"LinearAxis\"},{\"attributes\":{\"months\":[0,6]},\"id\":\"1852\",\"type\":\"MonthsTicker\"},{\"attributes\":{\"data\":{\"date\":{\"__ndarray__\":\"AACA/4ITd0IAAEBl1RN3QgAAAMsnFHdCAADAMHoUd0IAAICWzBR3QgAAQPweFXdCAAAAYnEVd0IAAMDHwxV3QgAAgC0WFndCAABAk2gWd0IAAAD5uhZ3QgAAwF4NF3dCAACAxF8Xd0IAAEAqshd3QgAAAJAEGHdCAADA9VYYd0IAAIBbqRh3QgAAQMH7GHdCAAAAJ04Zd0IAAMCMoBl3QgAAgPLyGXdCAABAWEUad0IAAAC+lxp3QgAAwCPqGndCAACAiTwbd0IAAEDvjht3QgAAAFXhG3dCAADAujMcd0IAAIAghhx3QgAAQIbYHHdCAAAA7Codd0IAAMBRfR13QgAAgLfPHXdCAABAHSIed0IAAACDdB53QgAAwOjGHndCAACAThkfd0IAAEC0ax93QgAAABq+H3dCAADAfxAgd0IAAIDlYiB3QgAAQEu1IHdCAAAAsQchd0IAAMAWWiF3QgAAgHysIXdCAABA4v4hd0IAAABIUSJ3QgAAwK2jIndCAACAE/Yid0IAAEB5SCN3QgAAAN+aI3dCAADARO0jd0IAAICqPyR3QgAAQBCSJHdCAAAAduQkd0IAAMDbNiV3QgAAgEGJJXdCAABAp9sld0IAAAANLiZ3QgAAwHKAJndCAACA2NImd0IAAEA+JSd3QgAAAKR3J3dCAADACcond0IAAIBvHCh3QgAAQNVuKHdCAAAAO8Eod0IAAMCgEyl3QgAAgAZmKXdCAABAbLgpd0IAAADSCip3QgAAwDddKndCAACAna8qd0IAAEADAit3QgAAAGlUK3dCAADAzqYrd0IAAIA0+St3QgAAQJpLLHdCAAAAAJ4sd0I=\",\"dtype\":\"float64\",\"shape\":[79]},\"icu_positive_patients\":{\"__ndarray__\":\"AAAAAAAAJkAAAAAAAMBFQAAAAAAAAENAAAAAAABAQUAzMzMzMzM+QFVVVVVVVT5ASZIkSZIkPEC3bdu2bds7QJIkSZIkSSpAkiRJkiRJLkAlSZIkSZIoQAAAAAAAAChAkiRJkiRJJEDbtm3btm0jQJIkSZIkSR5At23btm3bJkBu27Zt27YRQCVJkiRJkhRA27Zt27ZtH0AlSZIkSZIMQJIkSZIkSdI/27Zt27Zt6z/btm3btm3rPwAAAAAAAPC/AAAAAAAA8L+3bdu2bdsSwJIkSZIkSQLAAAAAAAAAAAAlSZIkSZL0v9u2bdu2bes/t23btm3bBkBJkiRJkiT5P0mSJEmSJPm/btu2bdu2DcBJkiRJkiQZwCVJkiRJkhjAkiRJkiRJJMCSJEmSJEkuwLdt27Zt2yzAbtu2bdu2J8AlSZIkSZIkwLdt27Zt2x7A27Zt27ZtI8C3bdu2bdsewLdt27Zt2/a/t23btm3bBsBJkiRJkiQBwLdt27Zt2xLAbtu2bdu2HcBu27Zt27YFwEmSJEmSJPm/AAAAAAAACMBJkiRJkiQRwCVJkiRJkgTAkiRJkiRJ0r/btm3btm37P9u2bdu2bdu/27Zt27ZtC8BJkiRJkiQJwJIkSZIkSRLAt23btm3bFsAlSZIkSZIMwCVJkiRJkhDAt23btm3b5r8AAAAAAADwv0mSJEmSJAnA27Zt27Zt+z+SJEmSJEnCPyVJkiRJkhDAkiRJkiRJEsBu27Zt27YVwCVJkiRJkgzAbtu2bdu2BcBu27Zt27YRwEmSJEmSJAnAkiRJkiRJ0j9JkiRJkiT5P9u2bdu2bfu/27Zt27Zt678=\",\"dtype\":\"float64\",\"shape\":[79]},\"icu_suspected_patients\":{\"__ndarray__\":\"AAAAAAAAO8AAAAAAAAAWwAAAAAAAACrAAAAAAAAAK8AAAAAAAAAiwFVVVVVVVSPAJUmSJEmS9L9JkiRJkiQVwEmSJEmSJCPAkiRJkiRJGsBJkiRJkiQJwCVJkiRJkgzAt23btm3bGsAlSZIkSZIkwNu2bdu2bRvASZIkSZIkFcAlSZIkSZIMwCVJkiRJkhDAkiRJkiRJIMCSJEmSJEnivwAAAAAAAADAt23btm3b9j8lSZIkSZIEwEmSJEmSJPm/AAAAAAAA8D/btm3btm0LQG7btm3btgVAAAAAAAAAEMAlSZIkSZIMwEmSJEmSJPk/27Zt27Zt6z+3bdu2bdsOwEmSJEmSJAnAt23btm3bBsCSJEmSJEnSP9u2bdu2bdu/kiRJkiRJAsCSJEmSJEkKwLdt27Zt2+a/JUmSJEmS9L9u27Zt27YNwJIkSZIkSQLASZIkSZIk+T+SJEmSJEnyP5IkSZIkSdK/AAAAAAAA8D+SJEmSJEnCP7dt27Zt2/Y/kiRJkiRJ4j/btm3btm3rv9u2bdu2bfs/27Zt27ZtC0CSJEmSJEniPwAAAAAAAPA/JUmSJEmS9D/btm3btm3bP9u2bdu2bQNAkiRJkiRJwj+SJEmSJEniv9u2bdu2beu/SZIkSZIk+T8lSZIkSZIEwNu2bdu2bfu/btu2bdu2/b/btm3btm3rP9u2bdu2bfu/kiRJkiRJ4r+3bdu2bdv2v9u2bdu2bfs/btu2bdu2EUCSJEmSJEnSv27btm3bthHAkiRJkiRJ4r9JkiRJkiT5vwAAAAAAAPC/t23btm3b9r/btm3btm0bwCVJkiRJkvS/t23btm3b5r8=\",\"dtype\":\"float64\",\"shape\":[79]},\"index\":[0,1,2,3,4,5,6,7,8,9,10,11,12,13,14,15,16,17,18,19,20,21,22,23,24,25,26,27,28,29,30,31,32,33,34,35,36,37,38,39,40,41,42,43,44,45,46,47,48,49,50,51,52,53,54,55,56,57,58,59,60,61,62,63,64,65,66,67,68,69,70,71,72,73,74,75,76,77,78],\"positive_patients\":{\"__ndarray__\":\"AAAAAADAU0AAAAAAAOBbQFVVVVVVVVZAAAAAAAAwVkCamZmZmVlVQFVVVVVVVVVASZIkSZIkVUBJkiRJkqRTQCVJkiRJEkhAt23btm1bSUBu27Zt2zZIQNu2bdu27UdAAAAAAAAASEDbtm3btu1EQG7btm3bNkZAJUmSJEkSTkCSJEmSJMlIQLdt27Zt20VAbtu2bdu2REAlSZIkSRJDQG7btm3btkBAkiRJkiRJOkAAAAAAAAA0QNu2bdu2bTNASZIkSZIkNUCSJEmSJEk1QLdt27Zt2y5At23btm3bLEBu27Zt27YRQNu2bdu2bQtAbtu2bdu2DcC3bdu2bdsuwAAAAAAAADDA27Zt27ZtM8BJkiRJkiQ4wCVJkiRJkjHAt23btm3bMMDbtm3btm0ywNu2bdu2bRvAJUmSJEmSIsAAAAAAAAAowJIkSZIkSSDAJUmSJEmSMcC3bdu2bdswwEmSJEmSJDHAAAAAAAAAOsAlSZIkSZJAwCVJkiRJEkDAbtu2bds2QMDbtm3btm02wCVJkiRJkjbAJUmSJEmSMsCSJEmSJEkuwLdt27Zt2x7At23btm3bFsBJkiRJkiQZwG7btm3btiXASZIkSZIkKcBu27Zt27YnwLdt27Zt2x7A27Zt27ZtH8C3bdu2bdsGwG7btm3btg1At23btm3bGkAAAAAAAAAcQAAAAAAAABhAkiRJkiRJIkAlSZIkSZIUQNu2bdu2bRfAkiRJkiRJLMAlSZIkSZIiwNu2bdu2bSPAkiRJkiRJMMAlSZIkSZI3wG7btm3bthXAbtu2bdu2/T+SJEmSJEkgQCVJkiRJkvQ/JUmSJEmSGEA=\",\"dtype\":\"float64\",\"shape\":[79]},\"suspected_patients\":{\"__ndarray__\":\"AAAAAAAAT8AAAAAAAEBHwKuqqqqqqkfAAAAAAABAT8AzMzMzMzNKwAAAAAAAAAhAbtu2bds2QsCSJEmSJElSwCVJkiRJUlHAt23btm1bRMBu27Zt2zZKwJIkSZIkyUPAJUmSJElSWsCSJEmSJMlPwG7btm3btjPASZIkSZIkMcC3bdu2bVtHwG7btm3btjfAkiRJkiRJO8CSJEmSJEniPwAAAAAAABjAJUmSJEmSDMBJkiRJkiQpwNu2bdu2beu/btu2bdu2DUAAAAAAAADwPyVJkiRJkhTAkiRJkiRJwj+3bdu2bdsxwAAAAAAAABTASZIkSZIk+b/btm3btm0fwLdt27Zt2yLASZIkSZIkFcDbtm3btm0pwNu2bdu2bSdAkiRJkiRJwr9JkiRJkiQRwG7btm3btgVAkiRJkiRJ4j9u27Zt27YVwCVJkiRJkjBAAAAAAAAA8D8lSZIkSZIYQEmSJEmSJAHAbtu2bdu2BUC3bdu2bdsOwEmSJEmSJDBAkiRJkiRJIMDbtm3btm0fQNu2bdu2bfs/JUmSJEmSHEBJkiRJkiT5v0mSJEmSJBlAJUmSJEmS9L9JkiRJkiQjQCVJkiRJkgxAt23btm3b5j9JkiRJkiT5PwAAAAAAABDAkiRJkiRJEkC3bdu2bdsWwAAAAAAAADLAkiRJkiRJHsCSJEmSJEkKwLdt27Zt2+Y/kiRJkiRJFkCSJEmSJEnCv7dt27Zt2zFAbtu2bdu2IUC3bdu2bdv2v0mSJEmSJCHAkiRJkiRJLMAAAAAAAAAcwLdt27Zt2yDAkiRJkiRJOcBu27Zt27YdwNu2bdu2bSfAAAAAAAAA8D8=\",\"dtype\":\"float64\",\"shape\":[79]},\"total_icu\":{\"__ndarray__\":\"AAAAAAAAMMAAAAAAAABDQAAAAAAAADlAAAAAAAAANUAzMzMzMzM1QKuqqqqqqjRAt23btm3bOkAlSZIkSZI2QCVJkiRJkgxASZIkSZIkIUCSJEmSJEkiQLdt27Zt2yBA27Zt27ZtC0CSJEmSJEniv7dt27Zt2+Y/JUmSJEmSGEDbtm3btm3rPwAAAAAAAPA/kiRJkiRJ0r8AAAAAAAAIQNu2bdu2bfu/kiRJkiRJAkDbtm3btm37vyVJkiRJkgTAAAAAAAAAAAAlSZIkSZL0v9u2bdu2bds/AAAAAAAAEMDbtm3btm0TwNu2bdu2bQNAbtu2bdu2DUCSJEmSJEkCwLdt27Zt2xLAkiRJkiRJGsAAAAAAAAAYwJIkSZIkSRrAt23btm3bKMDbtm3btm0ywJIkSZIkSS7AkiRJkiRJKsAAAAAAAAAswAAAAAAAACTAkiRJkiRJIMCSJEmSJEkawNu2bdu2bfu/btu2bdu2/b8AAAAAAAAAwJIkSZIkSQrA27Zt27ZtG8AlSZIkSZIMwJIkSZIkScI/27Zt27Zt2z9u27Zt27YNwEmSJEmSJPm/AAAAAAAA8D9JkiRJkiQBQAAAAAAAAABAkiRJkiRJCsBu27Zt27YNwG7btm3bthXAJUmSJEmSEMAlSZIkSZIYwNu2bdu2bRfAJUmSJEmSBMCSJEmSJEnCv9u2bdu2bRPAkiRJkiRJ8j8lSZIkSZL0v9u2bdu2bQPAkiRJkiRJwr+3bdu2bdsWwAAAAAAAACDAkiRJkiRJCsAAAAAAAAAYwCVJkiRJkhDAkiRJkiRJ8r9JkiRJkiQVwAAAAAAAAAjASZIkSZIk+b8=\",\"dtype\":\"float64\",\"shape\":[79]},\"total_patients\":{\"__ndarray__\":\"AAAAAAAAMUAAAAAAAEBQQAAAAAAAAEVAAAAAAABAOkAAAAAAAIBAQFVVVVVVFVZAJUmSJEkSSEBu27Zt27YVQEmSJEmSJDXAAAAAAAAAJEAAAAAAAAAQwCVJkiRJkiBASZIkSZKkTMBu27Zt27Y1wG7btm3btjhAAAAAAACARUC3bdu2bdsGQAAAAAAAADRAkiRJkiRJLEC3bdu2bVtDQNu2bdu2bTtAbtu2bdu2NkBu27Zt27YdQCVJkiRJkjJAt23btm3bOECSJEmSJEk2QCVJkiRJkiRASZIkSZIkLUC3bdu2bdsqwEmSJEmSJPm/SZIkSZIkFcCSJEmSJEk3wNu2bdu2bTnAbtu2bdu2OMDbtm3btm1CwNu2bdu2bRfAAAAAAAAAMcBu27Zt27Y2wCVJkiRJkhDA27Zt27ZtIcDbtm3btm0xwLdt27Zt2yBAJUmSJEmSMMDbtm3btm0lwJIkSZIkSTPAkiRJkiRJN8AAAAAAAIBCwAAAAAAAADDAkiRJkiRJRMBJkiRJkiQtwLdt27Zt2zTAt23btm3bJsBu27Zt27YwwLdt27Zt2/a/AAAAAAAAHMCSJEmSJEkKQEmSJEmSJB3Abtu2bdu2J8AlSZIkSZIkwNu2bdu2bSfAkiRJkiRJCsBJkiRJkiQhwCVJkiRJkizA27Zt27Zt679u27Zt27YNQLdt27Zt2xpA27Zt27ZtLUAAAAAAAAAUQAAAAAAAAChASZIkSZIkFcDbtm3btm0lwJIkSZIkSTLA27Zt27ZtPsAlSZIkSZI+wG7btm3btivA27Zt27ZtN8C3bdu2bdvmP7dt27Zt2yTAJUmSJEmSHEA=\",\"dtype\":\"float64\",\"shape\":[79]}},\"selected\":{\"id\":\"1969\"},\"selection_policy\":{\"id\":\"1968\"}},\"id\":\"1830\",\"type\":\"ColumnDataSource\"},{\"attributes\":{},\"id\":\"1810\",\"type\":\"BasicTicker\"},{\"attributes\":{},\"id\":\"1853\",\"type\":\"YearsTicker\"},{\"attributes\":{\"axis\":{\"id\":\"1809\"},\"dimension\":1,\"ticker\":null},\"id\":\"1812\",\"type\":\"Grid\"},{\"attributes\":{\"items\":[{\"id\":\"1855\"},{\"id\":\"1881\"}]},\"id\":\"1854\",\"type\":\"Legend\"},{\"attributes\":{\"fill_alpha\":{\"value\":0.8},\"fill_color\":{\"value\":\"green\"},\"line_alpha\":{\"value\":0.8},\"line_color\":{\"value\":\"green\"},\"top\":{\"field\":\"total_icu\"},\"width\":{\"value\":0.4},\"x\":{\"field\":\"date\"}},\"id\":\"1832\",\"type\":\"VBar\"},{\"attributes\":{\"fill_alpha\":{\"value\":0.1},\"fill_color\":{\"value\":\"green\"},\"line_alpha\":{\"value\":0.1},\"line_color\":{\"value\":\"green\"},\"top\":{\"field\":\"total_icu\"},\"width\":{\"value\":0.4},\"x\":{\"field\":\"date\"}},\"id\":\"1833\",\"type\":\"VBar\"},{\"attributes\":{\"label\":{\"value\":\"Daily new patients in ICU (suspected and confirmed cases)\"},\"renderers\":[{\"id\":\"1834\"}]},\"id\":\"1855\",\"type\":\"LegendItem\"},{\"attributes\":{},\"id\":\"1799\",\"type\":\"DataRange1d\"},{\"attributes\":{\"data_source\":{\"id\":\"1829\"},\"glyph\":{\"id\":\"1832\"},\"hover_glyph\":null,\"muted_glyph\":null,\"nonselection_glyph\":{\"id\":\"1833\"},\"selection_glyph\":null,\"view\":{\"id\":\"1835\"}},\"id\":\"1834\",\"type\":\"GlyphRenderer\"},{\"attributes\":{\"label\":{\"value\":\"7-day rolling avg\"},\"renderers\":[{\"id\":\"1859\"}]},\"id\":\"1881\",\"type\":\"LegendItem\"},{\"attributes\":{\"data_source\":{\"id\":\"1830\"},\"glyph\":{\"id\":\"1857\"},\"hover_glyph\":null,\"muted_glyph\":null,\"nonselection_glyph\":{\"id\":\"1858\"},\"selection_glyph\":null,\"view\":{\"id\":\"1860\"}},\"id\":\"1859\",\"type\":\"GlyphRenderer\"},{\"attributes\":{},\"id\":\"1813\",\"type\":\"PanTool\"},{\"attributes\":{},\"id\":\"1840\",\"type\":\"BasicTickFormatter\"},{\"attributes\":{\"mantissas\":[1,2,5],\"max_interval\":500.0,\"num_minor_ticks\":0},\"id\":\"1842\",\"type\":\"AdaptiveTicker\"},{\"attributes\":{},\"id\":\"1814\",\"type\":\"WheelZoomTool\"},{\"attributes\":{},\"id\":\"1838\",\"type\":\"DatetimeTickFormatter\"},{\"attributes\":{\"source\":{\"id\":\"1829\"}},\"id\":\"1835\",\"type\":\"CDSView\"},{\"attributes\":{\"overlay\":{\"id\":\"1819\"}},\"id\":\"1815\",\"type\":\"BoxZoomTool\"},{\"attributes\":{\"line_alpha\":0.1,\"line_color\":\"navy\",\"line_width\":5,\"x\":{\"field\":\"date\"},\"y\":{\"field\":\"total_icu\"}},\"id\":\"1858\",\"type\":\"Line\"},{\"attributes\":{},\"id\":\"1968\",\"type\":\"UnionRenderers\"},{\"attributes\":{},\"id\":\"1816\",\"type\":\"SaveTool\"},{\"attributes\":{\"line_alpha\":0.3,\"line_color\":\"navy\",\"line_width\":5,\"x\":{\"field\":\"date\"},\"y\":{\"field\":\"total_icu\"}},\"id\":\"1857\",\"type\":\"Line\"},{\"attributes\":{},\"id\":\"1817\",\"type\":\"ResetTool\"},{\"attributes\":{\"base\":60,\"mantissas\":[1,2,5,10,15,20,30],\"max_interval\":1800000.0,\"min_interval\":1000.0,\"num_minor_ticks\":0},\"id\":\"1843\",\"type\":\"AdaptiveTicker\"},{\"attributes\":{},\"id\":\"1969\",\"type\":\"Selection\"},{\"attributes\":{},\"id\":\"1818\",\"type\":\"HelpTool\"},{\"attributes\":{\"base\":24,\"mantissas\":[1,2,4,6,8,12],\"max_interval\":43200000.0,\"min_interval\":3600000.0,\"num_minor_ticks\":0},\"id\":\"1844\",\"type\":\"AdaptiveTicker\"},{\"attributes\":{},\"id\":\"1880\",\"type\":\"Selection\"},{\"attributes\":{\"days\":[1,2,3,4,5,6,7,8,9,10,11,12,13,14,15,16,17,18,19,20,21,22,23,24,25,26,27,28,29,30,31]},\"id\":\"1845\",\"type\":\"DaysTicker\"},{\"attributes\":{},\"id\":\"1797\",\"type\":\"DataRange1d\"}],\"root_ids\":[\"1794\"]},\"title\":\"Bokeh Application\",\"version\":\"2.0.2\"}};\n",
       "  var render_items = [{\"docid\":\"fed49d9a-3ad1-44c2-92d0-bb40a0dbd4e2\",\"root_ids\":[\"1794\"],\"roots\":{\"1794\":\"79f0a237-3ac2-4757-b6a2-f54909a3e427\"}}];\n",
       "  root.Bokeh.embed.embed_items_notebook(docs_json, render_items);\n",
       "\n",
       "  }\n",
       "  if (root.Bokeh !== undefined) {\n",
       "    embed_document(root);\n",
       "  } else {\n",
       "    var attempts = 0;\n",
       "    var timer = setInterval(function(root) {\n",
       "      if (root.Bokeh !== undefined) {\n",
       "        clearInterval(timer);\n",
       "        embed_document(root);\n",
       "      } else {\n",
       "        attempts++;\n",
       "        if (attempts > 100) {\n",
       "          clearInterval(timer);\n",
       "          console.log(\"Bokeh: ERROR: Unable to run BokehJS code because BokehJS library is missing\");\n",
       "        }\n",
       "      }\n",
       "    }, 10, root)\n",
       "  }\n",
       "})(window);"
      ],
      "application/vnd.bokehjs_exec.v0+json": ""
     },
     "metadata": {
      "application/vnd.bokehjs_exec.v0+json": {
       "id": "1794"
      }
     },
     "output_type": "display_data"
    }
   ],
   "source": [
    "pos_patients_d = {\n",
    "    'frame': new_hosp_lac,\n",
    "    'field_name': 'total_patients',\n",
    "    'title_word': 'hospitalizations (suspected and confirmed cases)',\n",
    "    'place': '-- LA County',\n",
    "    'trim_pos': 100,\n",
    "    'trim_neg': -100\n",
    "}\n",
    "pos_icu_d = {\n",
    "    'frame': new_hosp_lac,\n",
    "    'field_name': 'total_icu',\n",
    "    'title_word': 'patients in ICU (suspected and confirmed cases)',\n",
    "    'place': '-- LA County',\n",
    "    'trim_pos': 40,\n",
    "    'trim_neg': -40\n",
    "}\n",
    "plot_daily(**pos_patients_d)\n",
    "plot_daily(**pos_icu_d)"
   ]
  },
  {
   "cell_type": "markdown",
   "metadata": {},
   "source": [
    "The above charts represent the difference between the number of hospitalized covid19 patients on a given day and the count of the day before.\n",
    "\n",
    "Thus starting around May 1st the number of hospitalized patients tended to decline each day; in early June the numbers begin to creep back up.\n",
    "\n",
    "Notes\n",
    "\n",
    "    - These plots are trimmed to remove plots of a few large outliers. Many of those outliers seem to be data adjustments since a similar large negative number occurs a few days after a large positive outlier  (e.g., +200 and -200). I have left these values in the calculation of the trendlines. \n",
    "\n",
    "    - A negative number on a given day means that more patients died / were discharged than were newly admitted.\n",
    "\n",
    "    - The dataset contains separate fields for patients with positive tests and suspected patients. After the early days, the counts of suspected patients (both hospitalized and in icu) dropped off as testing got better. Thus I've assumed that most suspected patients were in fact infected and combined the counts of suspected and confirmed cases. "
   ]
  },
  {
   "cell_type": "code",
   "execution_count": 8,
   "metadata": {
    "ExecuteTime": {
     "end_time": "2020-06-21T21:12:59.820405Z",
     "start_time": "2020-06-21T21:12:59.581769Z"
    },
    "code_folding": []
   },
   "outputs": [
    {
     "data": {
      "text/html": [
       "\n",
       "\n",
       "\n",
       "\n",
       "\n",
       "\n",
       "  <div class=\"bk-root\" id=\"d6ad9869-537e-4cba-9eee-f5d52b1f18b7\" data-root-id=\"2102\"></div>\n"
      ]
     },
     "metadata": {},
     "output_type": "display_data"
    },
    {
     "data": {
      "application/javascript": [
       "(function(root) {\n",
       "  function embed_document(root) {\n",
       "    \n",
       "  var docs_json = {\"03f61490-6c9a-42c0-a656-0b82bf4cb75c\":{\"roots\":{\"references\":[{\"attributes\":{\"below\":[{\"id\":\"2113\"}],\"center\":[{\"id\":\"2116\"},{\"id\":\"2120\"},{\"id\":\"2162\"}],\"left\":[{\"id\":\"2117\"}],\"plot_height\":400,\"plot_width\":1000,\"renderers\":[{\"id\":\"2142\"},{\"id\":\"2167\"}],\"title\":{\"id\":\"2103\"},\"toolbar\":{\"id\":\"2129\"},\"x_range\":{\"id\":\"2105\"},\"x_scale\":{\"id\":\"2109\"},\"y_range\":{\"id\":\"2107\"},\"y_scale\":{\"id\":\"2111\"}},\"id\":\"2102\",\"subtype\":\"Figure\",\"type\":\"Plot\"},{\"attributes\":{\"months\":[0,4,8]},\"id\":\"2159\",\"type\":\"MonthsTicker\"},{\"attributes\":{\"formatter\":{\"id\":\"2146\"},\"ticker\":{\"id\":\"2114\"}},\"id\":\"2113\",\"type\":\"DatetimeAxis\"},{\"attributes\":{\"months\":[0,6]},\"id\":\"2160\",\"type\":\"MonthsTicker\"},{\"attributes\":{\"data\":{\"date\":{\"__ndarray__\":\"AADAmTATd0IAAID/ghN3QgAAQGXVE3dCAAAAyycUd0IAAMAwehR3QgAAgJbMFHdCAABA/B4Vd0IAAABicRV3QgAAwMfDFXdCAACALRYWd0IAAECTaBZ3QgAAAPm6FndCAADAXg0Xd0IAAIDEXxd3QgAAQCqyF3dCAAAAkAQYd0IAAMD1Vhh3QgAAgFupGHdCAABAwfsYd0IAAAAnThl3QgAAwIygGXdCAACA8vIZd0IAAEBYRRp3QgAAAL6XGndCAADAI+oad0IAAICJPBt3QgAAQO+OG3dCAAAAVeEbd0IAAMC6Mxx3QgAAgCCGHHdCAABAhtgcd0IAAADsKh13QgAAwFF9HXdCAACAt88dd0IAAEAdIh53QgAAAIN0HndCAADA6MYed0IAAIBOGR93QgAAQLRrH3dCAAAAGr4fd0IAAMB/ECB3QgAAgOViIHdCAABAS7Ugd0IAAACxByF3QgAAwBZaIXdCAACAfKwhd0IAAEDi/iF3QgAAAEhRIndCAADAraMid0IAAIAT9iJ3QgAAQHlII3dCAAAA35ojd0IAAMBE7SN3QgAAgKo/JHdCAABAEJIkd0IAAAB25CR3QgAAwNs2JXdCAACAQYkld0IAAECn2yV3QgAAAA0uJndCAADAcoAmd0IAAIDY0iZ3QgAAQD4lJ3dCAAAApHcnd0IAAMAJyid3QgAAgG8cKHdCAABA1W4od0IAAAA7wSh3QgAAwKATKXdCAACABmYpd0IAAEBsuCl3QgAAANIKKndCAADAN10qd0IAAICdryp3QgAAQAMCK3dCAAAAaVQrd0IAAMDOpit3QgAAgDT5K3dCAABAmkssd0IAAAAAnix3Qg==\",\"dtype\":\"float64\",\"shape\":[80]},\"icu_positive_patients\":{\"__ndarray__\":\"AAAAAADwdEAAAAAAAEh1QKuqqqqq+nZAAAAAAABAeEAAAAAAAFB5QAAAAAAAKHpAkiRJkiQJe0C3bdu2bct8QJIkSZIkiX5At23btm1bf0Bu27Zt2yaAQJIkSZIkiYBAkiRJkiTpgEAlSZIkSTqBQAAAAAAAiIFASZIkSZLEgUAAAAAAACCCQLdt27ZtQ4JASZIkSZJsgkC3bdu2bauCQAAAAAAAyIJAJUmSJEnKgkCSJEmSJNGCQAAAAAAA2IJAAAAAAADQgkAAAAAAAMiCQCVJkiRJooJAAAAAAACQgkAAAAAAAJCCQNu2bdu2hYJASZIkSZKMgkC3bdu2baOCQAAAAAAAsIJAt23btm2jgkDbtm3btoWCQLdt27ZtU4JAJUmSJEkigkCSJEmSJNGBQAAAAAAAWIFASZIkSZLkgEDbtm3btoWAQLdt27ZtM4BAt23btm3rf0AAAAAAAFB/QEmSJEmS1H5A27Zt27a9fkAAAAAAAJB+QNu2bdu2bX5AJUmSJEkifkC3bdu2bat9QAAAAAAAgH1Abtu2bdtmfUBu27Zt2zZ9QCVJkiRJ8nxAkiRJkiTJfEBJkiRJksR8QAAAAAAA4HxAkiRJkiTZfEAlSZIkSaJ8QAAAAAAAcHxAbtu2bdsmfEC3bdu2bct7QCVJkiRJkntAAAAAAABQe0BJkiRJkkR7QEmSJEmSNHtAJUmSJEkCe0Dbtm3bth17QAAAAAAAIHtA27Zt27bdekBJkiRJkpR6QNu2bdu2PXpASZIkSZIEekCSJEmSJNl5QCVJkiRJknlAAAAAAABgeUBJkiRJkmR5QNu2bdu2fXlAJUmSJElieUBJkiRJklR5QA==\",\"dtype\":\"float64\",\"shape\":[80]},\"icu_suspected_patients\":{\"__ndarray__\":\"AAAAAACAa0AAAAAAANBpQKuqqqqq6mlAAAAAAAAYaUCamZmZmTloQFVVVVVV1WdAJUmSJElSZ0CSJEmSJClnQAAAAAAAgGZA27Zt27ZNZUC3bdu2bXtkQG7btm3bFmRASZIkSZKkY0Dbtm3bts1iQEmSJEmShGFAkiRJkiSpYEAAAAAAAABgQLdt27ZtG19AJUmSJEkSXkCSJEmSJAlcQEmSJEmS5FtASZIkSZJkW0AAAAAAAMBbQLdt27ZtG1tAbtu2bdu2WkBu27Zt2/ZaQCVJkiRJ0ltAAAAAAACAXEAAAAAAAIBbQLdt27Ztm1pAAAAAAAAAW0Bu27Zt2zZbQAAAAAAAQFpAbtu2bdt2WUAAAAAAAMBYQCVJkiRJ0lhAbtu2bdu2WEBJkiRJkiRYQCVJkiRJUldASZIkSZIkV0AlSZIkSdJWQEmSJEmS5FVAJUmSJElSVUBu27Zt27ZVQAAAAAAAAFZA27Zt27btVUDbtm3bti1WQG7btm3bNlZAJUmSJEmSVkBu27Zt27ZWQAAAAAAAgFZA27Zt27btVkCSJEmSJMlXQNu2bdu27VdA27Zt27YtWEAAAAAAAIBYQLdt27Ztm1hAbtu2bds2WUAAAAAAAEBZQLdt27ZtG1lASZIkSZLkWECSJEmSJElZQEmSJEmSpFhAbtu2bds2WEAAAAAAAMBXQG7btm3b9ldAkiRJkiSJV0BJkiRJkmRXQJIkSZIkCVdAbtu2bdt2V0AlSZIkSZJYQAAAAAAAgFhASZIkSZJkV0AAAAAAAEBXQLdt27Zt21ZAt23btm2bVkAAAAAAAEBWQJIkSZIkiVRAbtu2bds2VECSJEmSJAlUQA==\",\"dtype\":\"float64\",\"shape\":[80]},\"index\":[0,1,2,3,4,5,6,7,8,9,10,11,12,13,14,15,16,17,18,19,20,21,22,23,24,25,26,27,28,29,30,31,32,33,34,35,36,37,38,39,40,41,42,43,44,45,46,47,48,49,50,51,52,53,54,55,56,57,58,59,60,61,62,63,64,65,66,67,68,69,70,71,72,73,74,75,76,77,78,79],\"positive_patients\":{\"__ndarray__\":\"AAAAAAAYh0AAAAAAAFSIQFVVVVVVPYpAAAAAAACMi0AAAAAAAOCMQKuqqqqqIo5AJUmSJElqj0C3bdu2bQeRQNu2bdu2QZJAJUmSJEkCk0CSJEmSJM2TQG7btm3bjpRAJUmSJElOlUAlSZIkSQ6WQNu2bdu2tZZAt23btm1nl0AAAAAAAFiYQCVJkiRJHplAkiRJkiTNmUBu27Zt23KaQLdt27ZtC5tAkiRJkiSRm0AlSZIkSfqbQCVJkiRJSpxAAAAAAACYnEBJkiRJkuycQNu2bdu2QZ1At23btm1/nUCSJEmSJLmdQG7btm3byp1ASZIkSZLYnUDbtm3btsmdQAAAAAAAjJ1AAAAAAABMnUAlSZIkSf6cQNu2bdu2nZxAt23btm1XnEAAAAAAABScQCVJkiRJyptAbtu2bduum0Dbtm3btombQNu2bdu2WZtAkiRJkiQ5m0Bu27Zt2/KaQLdt27Ztr5pAbtu2bdtqmkBu27Zt2wKaQCVJkiRJfplA27Zt27b9mEAAAAAAAHyYQCVJkiRJIphAAAAAAADIl0Dbtm3btn2XQJIkSZIkQZdAJUmSJEkil0C3bdu2bQuXQCVJkiRJ8pZAbtu2bdvGlkBJkiRJkpSWQJIkSZIkZZZAJUmSJElGlkBu27Zt2yaWQLdt27ZtG5ZAJUmSJEkqlkCSJEmSJEWWQJIkSZIkYZZAkiRJkiR5lkDbtm3btp2WQCVJkiRJspZAbtu2bdualkAlSZIkSWKWQJIkSZIkPZZAJUmSJEkWlkCSJEmSJNWVQG7btm3bdpVAkiRJkiRhlUBJkiRJkmiVQJIkSZIkiZVAJUmSJEmOlUBu27Zt26aVQA==\",\"dtype\":\"float64\",\"shape\":[80]},\"suspected_patients\":{\"__ndarray__\":\"AAAAAADQlEAAAAAAAFSUQFVVVVVVAZRAAAAAAACnk0BmZmZmZhqTQKuqqqqqtJJAAAAAAAAMk0AlSZIkSXqSQNu2bdu2VZFASZIkSZJAkEC3bdu2bTuPQAAAAAAAmI1At23btm1bjECSJEmSJBGJQEmSJEmSFIdAbtu2bdt2hkDbtm3btu2FQAAAAAAAeIRAJUmSJEm6g0AAAAAAAOCCQEmSJEmS5IJASZIkSZK0gkAAAAAAAJiCQLdt27ZtM4JASZIkSZIsgkAlSZIkSUqCQCVJkiRJUoJAkiRJkiQpgkAlSZIkSSqCQLdt27Ztm4FAt23btm1zgUBu27Zt22aBQAAAAAAAKIFASZIkSZLcgEAlSZIkSbKAQEmSJEmSTIBAJUmSJEmqgECSJEmSJKmAQG7btm3bhoBASZIkSZKcgECSJEmSJKGAQNu2bdu2dYBAJUmSJEn6gEAlSZIkSQKBQLdt27ZtM4FAJUmSJEkigUAAAAAAADiBQJIkSZIkGYFAJUmSJEmagUCSJEmSJFmBQAAAAAAAmIFA27Zt27algUBu27Zt296BQCVJkiRJ0oFASZIkSZIEgkAlSZIkSfqBQG7btm3bRoJAt23btm1jgkCSJEmSJGmCQNu2bdu2dYJA27Zt27ZVgkAlSZIkSXqCQEmSJEmSTIJASZIkSZK8gUAAAAAAAICBQNu2bdu2ZYFAt23btm1rgUAAAAAAAJiBQG7btm3bloFA27Zt27YlgkBJkiRJkmyCQJIkSZIkYYJASZIkSZIcgkC3bdu2bauBQLdt27Ztc4FAAAAAAAAwgUDbtm3btmWAQCVJkiRJKoBAkiRJkiSZf0CSJEmSJKl/QA==\",\"dtype\":\"float64\",\"shape\":[80]},\"total_icu\":{\"__ndarray__\":\"AAAAAABYgUAAAAAAABiBQAAAAAAA+IFAAAAAAABmgkBmZmZmZraCQFVVVVVVCYNAkiRJkiRZg0AAAAAAADCEQEmSJEmS5IRAkiRJkiQBhUDbtm3btkWFQG7btm3bjoVAJUmSJEnShUDbtm3btu2FQJIkSZIk6YVAbtu2bdvuhUAAAAAAACCGQG7btm3bJoZAbtu2bdsuhkBJkiRJkiyGQEmSJEmSRIZAbtu2bds2hkCSJEmSJEmGQLdt27ZtO4ZAbtu2bdsmhkBu27Zt2yaGQEmSJEmSHIZAAAAAAAAghkAAAAAAAACGQJIkSZIk2YVASZIkSZLshUAlSZIkSQqGQAAAAAAA+IVAJUmSJEnShUDbtm3btp2FQNu2bdu2bYVAkiRJkiQ5hUDbtm3bttWEQCVJkiRJQoRAkiRJkiTJg0AAAAAAAGCDQAAAAAAA8IJAAAAAAACggkBu27Zt216CQCVJkiRJKoJASZIkSZIcgkDbtm3btg2CQNu2bdu2/YFAt23btm3jgUBJkiRJkqyBQAAAAAAAkIFAkiRJkiSRgUBJkiRJkpSBQG7btm3bdoFAJUmSJElqgUAlSZIkSXKBQLdt27Ztg4FAt23btm2TgUCSJEmSJHmBQLdt27ZtW4FAAAAAAAAwgUBu27Zt2w6BQNu2bdu23YBAbtu2bduugEAlSZIkSZqAQJIkSZIkmYBAJUmSJElygEC3bdu2bXuAQJIkSZIkcYBA27Zt27ZdgEBJkiRJklyAQG7btm3bLoBA27Zt27bdf0CSJEmSJKl/QJIkSZIkSX9Abtu2bdsGf0BJkiRJkvR+QAAAAAAAoH5AAAAAAABwfkBu27Zt21Z+QA==\",\"dtype\":\"float64\",\"shape\":[80]},\"total_patients\":{\"__ndarray__\":\"AAAAAAAuoEAAAAAAAD+gQAAAAAAAkKBAAAAAAIC2oEAzMzMzM8WgQAAAAAAA46BASZIkSZJgoUBu27Zt28ChQNu2bdu2y6FAt23btm2hoUC3bdu2bbWhQLdt27ZtraFAAAAAAAC+oUC3bdu2bUuhQAAAAAAAIKFAt23btm1RoUC3bdu2baehQJIkSZIkraFAkiRJkiTVoUC3bdu2bfGhQG7btm3bPqJA27Zt27Z1okCSJEmSJKOiQAAAAAAAsqJAkiRJkiTXokBu27Zt2wijQLdt27ZtNaNAAAAAAABKo0CSJEmSJGejQCVJkiRJTKNAkiRJkiRJo0BJkiRJkj6jQAAAAAAAEKNAkiRJkiTdokDbtm3btquiQAAAAAAAYqJAJUmSJElWokAlSZIkSTSiQG7btm3bBqJASZIkSZL+oUCSJEmSJO2hQCVJkiRJyqFAkiRJkiTboUAAAAAAALqhQEmSJEmSpKFAAAAAAAB+oUC3bdu2bU+hQLdt27ZtBaFAt23btm3loEAlSZIkSZSgQJIkSZIkd6BAt23btm1NoEBJkiRJkjagQJIkSZIkFaBAJUmSJEkSoEAlSZIkSQSgQG7btm3bCqBASZIkSZL4n0CSJEmSJMmfQAAAAAAAoJ9AkiRJkiRxn0AAAAAAAGSfQNu2bdu2QZ9ASZIkSZIIn0CSJEmSJAWfQAAAAAAAFJ9Abtu2bdsun0Dbtm3btmmfQNu2bdu2fZ9A27Zt27atn0BJkiRJkpifQNu2bdu2bZ9ASZIkSZIkn0Bu27Zt26qeQEmSJEmSMJ5AkiRJkiT5nUC3bdu2bZudQCVJkiRJnp1ASZIkSZJ0nUCSJEmSJJGdQA==\",\"dtype\":\"float64\",\"shape\":[80]}},\"selected\":{\"id\":\"2299\"},\"selection_policy\":{\"id\":\"2298\"}},\"id\":\"2138\",\"type\":\"ColumnDataSource\"},{\"attributes\":{},\"id\":\"2161\",\"type\":\"YearsTicker\"},{\"attributes\":{\"bottom_units\":\"screen\",\"fill_alpha\":0.5,\"fill_color\":\"lightgrey\",\"left_units\":\"screen\",\"level\":\"overlay\",\"line_alpha\":1.0,\"line_color\":\"black\",\"line_dash\":[4,4],\"line_width\":2,\"render_mode\":\"css\",\"right_units\":\"screen\",\"top_units\":\"screen\"},\"id\":\"2127\",\"type\":\"BoxAnnotation\"},{\"attributes\":{\"num_minor_ticks\":5,\"tickers\":[{\"id\":\"2150\"},{\"id\":\"2151\"},{\"id\":\"2152\"},{\"id\":\"2153\"},{\"id\":\"2154\"},{\"id\":\"2155\"},{\"id\":\"2156\"},{\"id\":\"2157\"},{\"id\":\"2158\"},{\"id\":\"2159\"},{\"id\":\"2160\"},{\"id\":\"2161\"}]},\"id\":\"2114\",\"type\":\"DatetimeTicker\"},{\"attributes\":{\"items\":[{\"id\":\"2163\"},{\"id\":\"2189\"}]},\"id\":\"2162\",\"type\":\"Legend\"},{\"attributes\":{\"axis\":{\"id\":\"2113\"},\"ticker\":null},\"id\":\"2116\",\"type\":\"Grid\"},{\"attributes\":{\"label\":{\"value\":\"Total patients\"},\"renderers\":[{\"id\":\"2142\"}]},\"id\":\"2163\",\"type\":\"LegendItem\"},{\"attributes\":{\"formatter\":{\"id\":\"2148\"},\"ticker\":{\"id\":\"2118\"}},\"id\":\"2117\",\"type\":\"LinearAxis\"},{\"attributes\":{\"mantissas\":[1,2,5],\"max_interval\":500.0,\"num_minor_ticks\":0},\"id\":\"2150\",\"type\":\"AdaptiveTicker\"},{\"attributes\":{},\"id\":\"2118\",\"type\":\"BasicTicker\"},{\"attributes\":{},\"id\":\"2298\",\"type\":\"UnionRenderers\"},{\"attributes\":{\"data_source\":{\"id\":\"2137\"},\"glyph\":{\"id\":\"2140\"},\"hover_glyph\":null,\"muted_glyph\":null,\"nonselection_glyph\":{\"id\":\"2141\"},\"selection_glyph\":null,\"view\":{\"id\":\"2143\"}},\"id\":\"2142\",\"type\":\"GlyphRenderer\"},{\"attributes\":{},\"id\":\"2187\",\"type\":\"UnionRenderers\"},{\"attributes\":{\"source\":{\"id\":\"2137\"}},\"id\":\"2143\",\"type\":\"CDSView\"},{\"attributes\":{\"axis\":{\"id\":\"2117\"},\"dimension\":1,\"ticker\":null},\"id\":\"2120\",\"type\":\"Grid\"},{\"attributes\":{\"source\":{\"id\":\"2138\"}},\"id\":\"2168\",\"type\":\"CDSView\"},{\"attributes\":{},\"id\":\"2146\",\"type\":\"DatetimeTickFormatter\"},{\"attributes\":{\"data_source\":{\"id\":\"2138\"},\"glyph\":{\"id\":\"2165\"},\"hover_glyph\":null,\"muted_glyph\":null,\"nonselection_glyph\":{\"id\":\"2166\"},\"selection_glyph\":null,\"view\":{\"id\":\"2168\"}},\"id\":\"2167\",\"type\":\"GlyphRenderer\"},{\"attributes\":{\"active_drag\":\"auto\",\"active_inspect\":\"auto\",\"active_multi\":null,\"active_scroll\":\"auto\",\"active_tap\":\"auto\",\"tools\":[{\"id\":\"2121\"},{\"id\":\"2122\"},{\"id\":\"2123\"},{\"id\":\"2124\"},{\"id\":\"2125\"},{\"id\":\"2126\"},{\"id\":\"2128\"}]},\"id\":\"2129\",\"type\":\"Toolbar\"},{\"attributes\":{\"data\":{\"date\":{\"__ndarray__\":\"AADAmTATd0IAAID/ghN3QgAAQGXVE3dCAAAAyycUd0IAAMAwehR3QgAAgJbMFHdCAABA/B4Vd0IAAABicRV3QgAAwMfDFXdCAACALRYWd0IAAECTaBZ3QgAAAPm6FndCAADAXg0Xd0IAAIDEXxd3QgAAQCqyF3dCAAAAkAQYd0IAAMD1Vhh3QgAAgFupGHdCAABAwfsYd0IAAAAnThl3QgAAwIygGXdCAACA8vIZd0IAAEBYRRp3QgAAAL6XGndCAADAI+oad0IAAICJPBt3QgAAQO+OG3dCAAAAVeEbd0IAAMC6Mxx3QgAAgCCGHHdCAABAhtgcd0IAAADsKh13QgAAwFF9HXdCAACAt88dd0IAAEAdIh53QgAAAIN0HndCAADA6MYed0IAAIBOGR93QgAAQLRrH3dCAAAAGr4fd0IAAMB/ECB3QgAAgOViIHdCAABAS7Ugd0IAAACxByF3QgAAwBZaIXdCAACAfKwhd0IAAEDi/iF3QgAAAEhRIndCAADAraMid0IAAIAT9iJ3QgAAQHlII3dCAAAA35ojd0IAAMBE7SN3QgAAgKo/JHdCAABAEJIkd0IAAAB25CR3QgAAwNs2JXdCAACAQYkld0IAAECn2yV3QgAAAA0uJndCAADAcoAmd0IAAIDY0iZ3QgAAQD4lJ3dCAAAApHcnd0IAAMAJyid3QgAAgG8cKHdCAABA1W4od0IAAAA7wSh3QgAAwKATKXdCAACABmYpd0IAAEBsuCl3QgAAANIKKndCAADAN10qd0IAAICdryp3QgAAQAMCK3dCAAAAaVQrd0IAAMDOpit3QgAAgDT5K3dCAABAmkssd0IAAAAAnix3Qg==\",\"dtype\":\"float64\",\"shape\":[80]},\"icu_positive_patients\":{\"__ndarray__\":\"AAAAAADwdEAAAAAAAKB1QAAAAAAAYHpAAAAAAAAQfEAAAAAAAJB9QAAAAAAAYH5AAAAAAAAogEAAAAAAAKCAQAAAAAAA6IBAAAAAAAAQgEAAAAAAAFiBQAAAAAAAeIFAAAAAAADQgUAAAAAAAGCCQAAAAAAAwIJAAAAAAACQgkAAAAAAAJCCQAAAAAAAUIJAAAAAAACYgkAAAAAAAIiDQAAAAAAAKINAAAAAAADQgkAAAAAAAMCCQAAAAAAAwIJAAAAAAAAYgkAAAAAAAGCCQAAAAAAAgIJAAAAAAACogkAAAAAAANCCQAAAAAAAeIJAAAAAAADwgkAAAAAAALiCQAAAAAAAuIJAAAAAAAAogkAAAAAAANiBQAAAAAAAcIFAAAAAAAAggUAAAAAAALiAQAAAAAAA0H5AAAAAAAAgf0AAAAAAACB/QAAAAAAAMH9AAAAAAACAf0AAAAAAAAB+QAAAAAAAEH5AAAAAAAAwfkAAAAAAAOB9QAAAAAAAMH5AAAAAAAAgfUAAAAAAAEB8QAAAAAAA0HxAAAAAAABgfUAAAAAAAOB8QAAAAAAAAHxAAAAAAAAQfUAAAAAAAAB9QAAAAAAAAH1AAAAAAACgfEAAAAAAAOB7QAAAAAAAgHtAAAAAAAAAekAAAAAAAJB6QAAAAAAAcHtAAAAAAAAwe0AAAAAAAFB8QAAAAAAAcHtAAAAAAAAgekAAAAAAAMB6QAAAAAAAoHpAAAAAAACgeUAAAAAAADB5QAAAAAAA8HlAAAAAAADgeUAAAAAAAPB4QAAAAAAA0HhAAAAAAABAeUAAAAAAAMB5QAAAAAAA4HlAAAAAAAAweUAAAAAAAIB5QA==\",\"dtype\":\"float64\",\"shape\":[80]},\"icu_suspected_patients\":{\"__ndarray__\":\"AAAAAACAa0AAAAAAACBoQAAAAAAAIGpAAAAAAACgZkAAAAAAAMBkQAAAAAAA4GVAAAAAAABAZEAAAAAAAGBqQAAAAAAAgGNAAAAAAADAYUAAAAAAAOBgQAAAAAAAAGJAAAAAAADAYkAAAAAAAMBcQAAAAAAAYGFAAAAAAAAAW0AAAAAAAEBaQAAAAAAAgFtAAAAAAADAXEAAAAAAAEBXQAAAAAAAwFtAAAAAAABAX0AAAAAAAIBdQAAAAAAAwFVAAAAAAADAWEAAAAAAAIBeQAAAAAAAQF1AAAAAAABAYEAAAAAAAEBYQAAAAAAAQFdAAAAAAACAWEAAAAAAAEBaQAAAAAAAwFdAAAAAAADAV0AAAAAAAIBbQAAAAAAAwFhAAAAAAACAVkAAAAAAAIBUQAAAAAAAgFRAAAAAAACAVkAAAAAAAIBVQAAAAAAAAFVAAAAAAADAVEAAAAAAAEBZQAAAAAAAgFZAAAAAAAAAVEAAAAAAAEBYQAAAAAAAwFVAAAAAAACAV0AAAAAAAMBVQAAAAAAAwFdAAAAAAACAWUAAAAAAAABaQAAAAAAAQFlAAAAAAACAV0AAAAAAAMBZQAAAAAAAgFZAAAAAAAAAXEAAAAAAAMBZQAAAAAAAAFlAAAAAAADAV0AAAAAAAEBaQAAAAAAAQFVAAAAAAACAU0AAAAAAAMBYQAAAAAAAQFtAAAAAAAAAVkAAAAAAAMBWQAAAAAAAwFdAAAAAAABAWEAAAAAAAEBbQAAAAAAAQFhAAAAAAACAU0AAAAAAAABVQAAAAAAAAFRAAAAAAAAAVkAAAAAAAMBVQAAAAAAAgE5AAAAAAAAAVkAAAAAAAEBSQA==\",\"dtype\":\"float64\",\"shape\":[80]},\"index\":[0,1,2,3,4,5,6,7,8,9,10,11,12,13,14,15,16,17,18,19,20,21,22,23,24,25,26,27,28,29,30,31,32,33,34,35,36,37,38,39,40,41,42,43,44,45,46,47,48,49,50,51,52,53,54,55,56,57,58,59,60,61,62,63,64,65,66,67,68,69,70,71,72,73,74,75,76,77,78,79],\"positive_patients\":{\"__ndarray__\":\"AAAAAAAYh0AAAAAAAJCJQAAAAAAAEI5AAAAAAAB4j0AAAAAAABiRQAAAAAAAOJJAAAAAAACMk0AAAAAAAMyUQAAAAAAAYJVAAAAAAABMlEAAAAAAAEiVQAAAAAAAZJZAAAAAAAB0l0AAAAAAAMyYQAAAAAAAYJlAAAAAAAA8mkAAAAAAAOCaQAAAAAAAtJpAAAAAAAAsm0AAAAAAAPybQAAAAAAA+JxAAAAAAAAInUAAAAAAABydQAAAAAAAEJ1AAAAAAADUnEAAAAAAAHydQAAAAAAAUJ5AAAAAAAConkAAAAAAAJyeQAAAAAAAmJ1AAAAAAABwnUAAAAAAAGycQAAAAAAAzJtAAAAAAACQnEAAAAAAAIicQAAAAAAA+JtAAAAAAACsm0AAAAAAAJibQAAAAAAAaJpAAAAAAAAMm0AAAAAAAIybQAAAAAAAOJtAAAAAAAAUm0AAAAAAAMCZQAAAAAAAwJlAAAAAAACImEAAAAAAADSYQAAAAAAA7JdAAAAAAAC0l0AAAAAAAIiXQAAAAAAATJdAAAAAAABIl0AAAAAAAICWQAAAAAAAjJZAAAAAAAAUl0AAAAAAABSXQAAAAAAA2JZAAAAAAAAclkAAAAAAAOiVQAAAAAAANJVAAAAAAAC0lUAAAAAAADiWQAAAAAAAxJZAAAAAAABAl0AAAAAAANiWQAAAAAAArJZAAAAAAADclUAAAAAAALSWQAAAAAAAyJZAAAAAAAAglkAAAAAAALSVQAAAAAAA1JVAAAAAAACclUAAAAAAABSUQAAAAAAAIJRAAAAAAAAwlkAAAAAAAFSWQAAAAAAAmJZAAAAAAAD4lUAAAAAAAEiWQA==\",\"dtype\":\"float64\",\"shape\":[80]},\"suspected_patients\":{\"__ndarray__\":\"AAAAAADQlEAAAAAAANiTQAAAAAAAXJNAAAAAAACYkkAAAAAAAOiQQAAAAAAAuJBAAAAAAAAYlUAAAAAAANSQQAAAAAAAsIdAAAAAAACQh0AAAAAAAEiMQAAAAAAAWIZAAAAAAADIiEAAAAAAACiDQAAAAAAAwINAAAAAAABgg0AAAAAAANCDQAAAAAAAEIJAAAAAAAAogUAAAAAAANCCQAAAAAAASINAAAAAAABwgkAAAAAAAJiCQAAAAAAAEIFAAAAAAADggUAAAAAAAPiBQAAAAAAACINAAAAAAAAogkAAAAAAAHiCQAAAAAAAYH1AAAAAAADwf0AAAAAAAIiBQAAAAAAAQIBAAAAAAAD4gEAAAAAAAACBQAAAAAAAYH9AAAAAAABAgUAAAAAAAOB/QAAAAAAAmIBAAAAAAADYgEAAAAAAABiBQAAAAAAAoH9AAAAAAABQg0AAAAAAAHiBQAAAAAAASIFAAAAAAAAggEAAAAAAAHCBQAAAAAAAQIBAAAAAAABYg0AAAAAAAIiBQAAAAAAAMINAAAAAAACogUAAAAAAALCBQAAAAAAAGIFAAAAAAACggUAAAAAAABCDQAAAAAAAoINAAAAAAAD4g0AAAAAAANCBQAAAAAAACIJAAAAAAAA4gEAAAAAAAKCCQAAAAAAA0IFAAAAAAABgf0AAAAAAAFCCQAAAAAAAGIFAAAAAAAAwgkAAAAAAAHCBQAAAAAAAmIJAAAAAAAC4hUAAAAAAAKCBQAAAAAAAAIJAAAAAAABwfkAAAAAAADB+QAAAAAAA0H9AAAAAAADAgEAAAAAAADCAQAAAAAAAAIBAAAAAAADgfkAAAAAAAOB+QA==\",\"dtype\":\"float64\",\"shape\":[80]},\"total_icu\":{\"__ndarray__\":\"AAAAAABYgUAAAAAAANiAQAAAAAAAuINAAAAAAACwg0AAAAAAAPiDQAAAAAAAqIRAAAAAAAA4hUAAAAAAADiHQAAAAAAAyIVAAAAAAACAhEAAAAAAAJCFQAAAAAAA+IVAAAAAAACAhkAAAAAAAPiFQAAAAAAAGIdAAAAAAADwhUAAAAAAANiFQAAAAAAAwIVAAAAAAAAwhkAAAAAAAHCGQAAAAAAAoIZAAAAAAAC4hkAAAAAAAHCGQAAAAAAAeIVAAAAAAAAwhUAAAAAAADCGQAAAAAAAKIZAAAAAAAC4hkAAAAAAANiFQAAAAAAAYIVAAAAAAAAAhkAAAAAAAACGQAAAAAAAsIVAAAAAAAAghUAAAAAAAEiFQAAAAAAAiIRAAAAAAADwg0AAAAAAAEiDQAAAAAAA+IFAAAAAAABggkAAAAAAAECCQAAAAAAAOIJAAAAAAABYgkAAAAAAACiCQAAAAAAA2IFAAAAAAACYgUAAAAAAAPiBQAAAAAAA0IFAAAAAAACAgUAAAAAAANiAQAAAAAAAYIFAAAAAAADggUAAAAAAALCBQAAAAAAAKIFAAAAAAAB4gUAAAAAAALiBQAAAAAAAUIFAAAAAAADQgUAAAAAAACiBQAAAAAAA4IBAAAAAAADwf0AAAAAAAJCAQAAAAAAAYIBAAAAAAAAIgEAAAAAAAECBQAAAAAAAIIFAAAAAAACgf0AAAAAAADiAQAAAAAAASIBAAAAAAACwf0AAAAAAAACAQAAAAAAAAIBAAAAAAADAfkAAAAAAADB+QAAAAAAA0H1AAAAAAADAfkAAAAAAADB/QAAAAAAAsH1AAAAAAACwfkAAAAAAABB+QA==\",\"dtype\":\"float64\",\"shape\":[80]},\"total_patients\":{\"__ndarray__\":\"AAAAAAAuoEAAAAAAAFCgQAAAAAAAMqFAAAAAAAAqoUAAAAAAAAChQAAAAAAAeKFAAAAAAABSpEAAAAAAANCiQAAAAAAAnKBAAAAAAAAKoEAAAAAAALahQAAAAAAAyKBAAAAAAADsoUAAAAAAADChQAAAAAAAoKFAAAAAAAD2oUAAAAAAAGSiQAAAAAAA3qFAAAAAAADgoUAAAAAAALKiQAAAAAAATqNAAAAAAAAgo0AAAAAAADSjQAAAAAAAzKJAAAAAAADiokAAAAAAADyjQAAAAAAA6qNAAAAAAADeo0AAAAAAAOyjQAAAAAAAeKJAAAAAAAC2okAAAAAAAJiiQAAAAAAA9qFAAAAAAACGokAAAAAAAISiQAAAAAAA6KFAAAAAAAAmokAAAAAAAMihQAAAAAAAWqFAAAAAAAC8oUAAAAAAAAyiQAAAAAAAkKFAAAAAAABeokAAAAAAAD6hQAAAAAAAMqFAAAAAAABMoEAAAAAAAHagQAAAAAAABqBAAAAAAACwoEAAAAAAACagQAAAAAAAcqBAAAAAAAAOoEAAAAAAAFifQAAAAAAAGJ9AAAAAAADkn0AAAAAAAE6gQAAAAAAAVKBAAAAAAAAMoEAAAAAAANCeQAAAAAAAOJ5AAAAAAADQnUAAAAAAAIifQAAAAAAArJ9AAAAAAAAYn0AAAAAAAACgQAAAAAAAOJ9AAAAAAAD0nkAAAAAAAGyfQAAAAAAACqBAAAAAAAB+oEAAAAAAAISeQAAAAAAA1J5AAAAAAAA4nUAAAAAAAKCbQAAAAAAAFJxAAAAAAACQnkAAAAAAAGyeQAAAAAAAmJ5AAAAAAACwnUAAAAAAAACeQA==\",\"dtype\":\"float64\",\"shape\":[80]}},\"selected\":{\"id\":\"2188\"},\"selection_policy\":{\"id\":\"2187\"}},\"id\":\"2137\",\"type\":\"ColumnDataSource\"},{\"attributes\":{},\"id\":\"2148\",\"type\":\"BasicTickFormatter\"},{\"attributes\":{\"line_alpha\":0.1,\"line_color\":\"navy\",\"line_width\":5,\"x\":{\"field\":\"date\"},\"y\":{\"field\":\"total_patients\"}},\"id\":\"2166\",\"type\":\"Line\"},{\"attributes\":{\"line_alpha\":0.3,\"line_color\":\"navy\",\"line_width\":5,\"x\":{\"field\":\"date\"},\"y\":{\"field\":\"total_patients\"}},\"id\":\"2165\",\"type\":\"Line\"},{\"attributes\":{},\"id\":\"2121\",\"type\":\"PanTool\"},{\"attributes\":{\"base\":60,\"mantissas\":[1,2,5,10,15,20,30],\"max_interval\":1800000.0,\"min_interval\":1000.0,\"num_minor_ticks\":0},\"id\":\"2151\",\"type\":\"AdaptiveTicker\"},{\"attributes\":{},\"id\":\"2122\",\"type\":\"WheelZoomTool\"},{\"attributes\":{\"fill_alpha\":{\"value\":0.8},\"fill_color\":{\"value\":\"green\"},\"line_alpha\":{\"value\":0.8},\"line_color\":{\"value\":\"green\"},\"top\":{\"field\":\"total_patients\"},\"width\":{\"value\":0.4},\"x\":{\"field\":\"date\"}},\"id\":\"2140\",\"type\":\"VBar\"},{\"attributes\":{\"base\":24,\"mantissas\":[1,2,4,6,8,12],\"max_interval\":43200000.0,\"min_interval\":3600000.0,\"num_minor_ticks\":0},\"id\":\"2152\",\"type\":\"AdaptiveTicker\"},{\"attributes\":{},\"id\":\"2188\",\"type\":\"Selection\"},{\"attributes\":{\"overlay\":{\"id\":\"2127\"}},\"id\":\"2123\",\"type\":\"BoxZoomTool\"},{\"attributes\":{\"label\":{\"value\":\"7-day rolling avg\"},\"renderers\":[{\"id\":\"2167\"}]},\"id\":\"2189\",\"type\":\"LegendItem\"},{\"attributes\":{\"callback\":null,\"tooltips\":[[\"total\",\"@total_patients\"]]},\"id\":\"2128\",\"type\":\"HoverTool\"},{\"attributes\":{\"days\":[1,2,3,4,5,6,7,8,9,10,11,12,13,14,15,16,17,18,19,20,21,22,23,24,25,26,27,28,29,30,31]},\"id\":\"2153\",\"type\":\"DaysTicker\"},{\"attributes\":{\"fill_alpha\":{\"value\":0.1},\"fill_color\":{\"value\":\"green\"},\"line_alpha\":{\"value\":0.1},\"line_color\":{\"value\":\"green\"},\"top\":{\"field\":\"total_patients\"},\"width\":{\"value\":0.4},\"x\":{\"field\":\"date\"}},\"id\":\"2141\",\"type\":\"VBar\"},{\"attributes\":{},\"id\":\"2124\",\"type\":\"SaveTool\"},{\"attributes\":{\"days\":[1,4,7,10,13,16,19,22,25,28]},\"id\":\"2154\",\"type\":\"DaysTicker\"},{\"attributes\":{\"text\":\"Hospitalized patients \"},\"id\":\"2103\",\"type\":\"Title\"},{\"attributes\":{},\"id\":\"2125\",\"type\":\"ResetTool\"},{\"attributes\":{},\"id\":\"2299\",\"type\":\"Selection\"},{\"attributes\":{\"days\":[1,8,15,22]},\"id\":\"2155\",\"type\":\"DaysTicker\"},{\"attributes\":{},\"id\":\"2105\",\"type\":\"DataRange1d\"},{\"attributes\":{},\"id\":\"2126\",\"type\":\"HelpTool\"},{\"attributes\":{\"days\":[1,15]},\"id\":\"2156\",\"type\":\"DaysTicker\"},{\"attributes\":{},\"id\":\"2107\",\"type\":\"DataRange1d\"},{\"attributes\":{\"months\":[0,1,2,3,4,5,6,7,8,9,10,11]},\"id\":\"2157\",\"type\":\"MonthsTicker\"},{\"attributes\":{},\"id\":\"2109\",\"type\":\"LinearScale\"},{\"attributes\":{\"months\":[0,2,4,6,8,10]},\"id\":\"2158\",\"type\":\"MonthsTicker\"},{\"attributes\":{},\"id\":\"2111\",\"type\":\"LinearScale\"}],\"root_ids\":[\"2102\"]},\"title\":\"Bokeh Application\",\"version\":\"2.0.2\"}};\n",
       "  var render_items = [{\"docid\":\"03f61490-6c9a-42c0-a656-0b82bf4cb75c\",\"root_ids\":[\"2102\"],\"roots\":{\"2102\":\"d6ad9869-537e-4cba-9eee-f5d52b1f18b7\"}}];\n",
       "  root.Bokeh.embed.embed_items_notebook(docs_json, render_items);\n",
       "\n",
       "  }\n",
       "  if (root.Bokeh !== undefined) {\n",
       "    embed_document(root);\n",
       "  } else {\n",
       "    var attempts = 0;\n",
       "    var timer = setInterval(function(root) {\n",
       "      if (root.Bokeh !== undefined) {\n",
       "        clearInterval(timer);\n",
       "        embed_document(root);\n",
       "      } else {\n",
       "        attempts++;\n",
       "        if (attempts > 100) {\n",
       "          clearInterval(timer);\n",
       "          console.log(\"Bokeh: ERROR: Unable to run BokehJS code because BokehJS library is missing\");\n",
       "        }\n",
       "      }\n",
       "    }, 10, root)\n",
       "  }\n",
       "})(window);"
      ],
      "application/vnd.bokehjs_exec.v0+json": ""
     },
     "metadata": {
      "application/vnd.bokehjs_exec.v0+json": {
       "id": "2102"
      }
     },
     "output_type": "display_data"
    },
    {
     "data": {
      "text/html": [
       "\n",
       "\n",
       "\n",
       "\n",
       "\n",
       "\n",
       "  <div class=\"bk-root\" id=\"451d2753-a83a-4695-bd5f-16d9396c8135\" data-root-id=\"2432\"></div>\n"
      ]
     },
     "metadata": {},
     "output_type": "display_data"
    },
    {
     "data": {
      "application/javascript": [
       "(function(root) {\n",
       "  function embed_document(root) {\n",
       "    \n",
       "  var docs_json = {\"18b37d72-aaf8-4d5b-8f70-8df2caa53028\":{\"roots\":{\"references\":[{\"attributes\":{\"below\":[{\"id\":\"2443\"}],\"center\":[{\"id\":\"2446\"},{\"id\":\"2450\"},{\"id\":\"2492\"}],\"left\":[{\"id\":\"2447\"}],\"plot_height\":400,\"plot_width\":1000,\"renderers\":[{\"id\":\"2472\"},{\"id\":\"2497\"}],\"title\":{\"id\":\"2433\"},\"toolbar\":{\"id\":\"2459\"},\"x_range\":{\"id\":\"2435\"},\"x_scale\":{\"id\":\"2439\"},\"y_range\":{\"id\":\"2437\"},\"y_scale\":{\"id\":\"2441\"}},\"id\":\"2432\",\"subtype\":\"Figure\",\"type\":\"Plot\"},{\"attributes\":{},\"id\":\"2456\",\"type\":\"HelpTool\"},{\"attributes\":{\"mantissas\":[1,2,5],\"max_interval\":500.0,\"num_minor_ticks\":0},\"id\":\"2480\",\"type\":\"AdaptiveTicker\"},{\"attributes\":{},\"id\":\"2435\",\"type\":\"DataRange1d\"},{\"attributes\":{\"data\":{\"date\":{\"__ndarray__\":\"AADAmTATd0IAAID/ghN3QgAAQGXVE3dCAAAAyycUd0IAAMAwehR3QgAAgJbMFHdCAABA/B4Vd0IAAABicRV3QgAAwMfDFXdCAACALRYWd0IAAECTaBZ3QgAAAPm6FndCAADAXg0Xd0IAAIDEXxd3QgAAQCqyF3dCAAAAkAQYd0IAAMD1Vhh3QgAAgFupGHdCAABAwfsYd0IAAAAnThl3QgAAwIygGXdCAACA8vIZd0IAAEBYRRp3QgAAAL6XGndCAADAI+oad0IAAICJPBt3QgAAQO+OG3dCAAAAVeEbd0IAAMC6Mxx3QgAAgCCGHHdCAABAhtgcd0IAAADsKh13QgAAwFF9HXdCAACAt88dd0IAAEAdIh53QgAAAIN0HndCAADA6MYed0IAAIBOGR93QgAAQLRrH3dCAAAAGr4fd0IAAMB/ECB3QgAAgOViIHdCAABAS7Ugd0IAAACxByF3QgAAwBZaIXdCAACAfKwhd0IAAEDi/iF3QgAAAEhRIndCAADAraMid0IAAIAT9iJ3QgAAQHlII3dCAAAA35ojd0IAAMBE7SN3QgAAgKo/JHdCAABAEJIkd0IAAAB25CR3QgAAwNs2JXdCAACAQYkld0IAAECn2yV3QgAAAA0uJndCAADAcoAmd0IAAIDY0iZ3QgAAQD4lJ3dCAAAApHcnd0IAAMAJyid3QgAAgG8cKHdCAABA1W4od0IAAAA7wSh3QgAAwKATKXdCAACABmYpd0IAAEBsuCl3QgAAANIKKndCAADAN10qd0IAAICdryp3QgAAQAMCK3dCAAAAaVQrd0IAAMDOpit3QgAAgDT5K3dCAABAmkssd0IAAAAAnix3Qg==\",\"dtype\":\"float64\",\"shape\":[80]},\"icu_positive_patients\":{\"__ndarray__\":\"AAAAAADwdEAAAAAAAKB1QAAAAAAAYHpAAAAAAAAQfEAAAAAAAJB9QAAAAAAAYH5AAAAAAAAogEAAAAAAAKCAQAAAAAAA6IBAAAAAAAAQgEAAAAAAAFiBQAAAAAAAeIFAAAAAAADQgUAAAAAAAGCCQAAAAAAAwIJAAAAAAACQgkAAAAAAAJCCQAAAAAAAUIJAAAAAAACYgkAAAAAAAIiDQAAAAAAAKINAAAAAAADQgkAAAAAAAMCCQAAAAAAAwIJAAAAAAAAYgkAAAAAAAGCCQAAAAAAAgIJAAAAAAACogkAAAAAAANCCQAAAAAAAeIJAAAAAAADwgkAAAAAAALiCQAAAAAAAuIJAAAAAAAAogkAAAAAAANiBQAAAAAAAcIFAAAAAAAAggUAAAAAAALiAQAAAAAAA0H5AAAAAAAAgf0AAAAAAACB/QAAAAAAAMH9AAAAAAACAf0AAAAAAAAB+QAAAAAAAEH5AAAAAAAAwfkAAAAAAAOB9QAAAAAAAMH5AAAAAAAAgfUAAAAAAAEB8QAAAAAAA0HxAAAAAAABgfUAAAAAAAOB8QAAAAAAAAHxAAAAAAAAQfUAAAAAAAAB9QAAAAAAAAH1AAAAAAACgfEAAAAAAAOB7QAAAAAAAgHtAAAAAAAAAekAAAAAAAJB6QAAAAAAAcHtAAAAAAAAwe0AAAAAAAFB8QAAAAAAAcHtAAAAAAAAgekAAAAAAAMB6QAAAAAAAoHpAAAAAAACgeUAAAAAAADB5QAAAAAAA8HlAAAAAAADgeUAAAAAAAPB4QAAAAAAA0HhAAAAAAABAeUAAAAAAAMB5QAAAAAAA4HlAAAAAAAAweUAAAAAAAIB5QA==\",\"dtype\":\"float64\",\"shape\":[80]},\"icu_suspected_patients\":{\"__ndarray__\":\"AAAAAACAa0AAAAAAACBoQAAAAAAAIGpAAAAAAACgZkAAAAAAAMBkQAAAAAAA4GVAAAAAAABAZEAAAAAAAGBqQAAAAAAAgGNAAAAAAADAYUAAAAAAAOBgQAAAAAAAAGJAAAAAAADAYkAAAAAAAMBcQAAAAAAAYGFAAAAAAAAAW0AAAAAAAEBaQAAAAAAAgFtAAAAAAADAXEAAAAAAAEBXQAAAAAAAwFtAAAAAAABAX0AAAAAAAIBdQAAAAAAAwFVAAAAAAADAWEAAAAAAAIBeQAAAAAAAQF1AAAAAAABAYEAAAAAAAEBYQAAAAAAAQFdAAAAAAACAWEAAAAAAAEBaQAAAAAAAwFdAAAAAAADAV0AAAAAAAIBbQAAAAAAAwFhAAAAAAACAVkAAAAAAAIBUQAAAAAAAgFRAAAAAAACAVkAAAAAAAIBVQAAAAAAAAFVAAAAAAADAVEAAAAAAAEBZQAAAAAAAgFZAAAAAAAAAVEAAAAAAAEBYQAAAAAAAwFVAAAAAAACAV0AAAAAAAMBVQAAAAAAAwFdAAAAAAACAWUAAAAAAAABaQAAAAAAAQFlAAAAAAACAV0AAAAAAAMBZQAAAAAAAgFZAAAAAAAAAXEAAAAAAAMBZQAAAAAAAAFlAAAAAAADAV0AAAAAAAEBaQAAAAAAAQFVAAAAAAACAU0AAAAAAAMBYQAAAAAAAQFtAAAAAAAAAVkAAAAAAAMBWQAAAAAAAwFdAAAAAAABAWEAAAAAAAEBbQAAAAAAAQFhAAAAAAACAU0AAAAAAAABVQAAAAAAAAFRAAAAAAAAAVkAAAAAAAMBVQAAAAAAAgE5AAAAAAAAAVkAAAAAAAEBSQA==\",\"dtype\":\"float64\",\"shape\":[80]},\"index\":[0,1,2,3,4,5,6,7,8,9,10,11,12,13,14,15,16,17,18,19,20,21,22,23,24,25,26,27,28,29,30,31,32,33,34,35,36,37,38,39,40,41,42,43,44,45,46,47,48,49,50,51,52,53,54,55,56,57,58,59,60,61,62,63,64,65,66,67,68,69,70,71,72,73,74,75,76,77,78,79],\"positive_patients\":{\"__ndarray__\":\"AAAAAAAYh0AAAAAAAJCJQAAAAAAAEI5AAAAAAAB4j0AAAAAAABiRQAAAAAAAOJJAAAAAAACMk0AAAAAAAMyUQAAAAAAAYJVAAAAAAABMlEAAAAAAAEiVQAAAAAAAZJZAAAAAAAB0l0AAAAAAAMyYQAAAAAAAYJlAAAAAAAA8mkAAAAAAAOCaQAAAAAAAtJpAAAAAAAAsm0AAAAAAAPybQAAAAAAA+JxAAAAAAAAInUAAAAAAABydQAAAAAAAEJ1AAAAAAADUnEAAAAAAAHydQAAAAAAAUJ5AAAAAAAConkAAAAAAAJyeQAAAAAAAmJ1AAAAAAABwnUAAAAAAAGycQAAAAAAAzJtAAAAAAACQnEAAAAAAAIicQAAAAAAA+JtAAAAAAACsm0AAAAAAAJibQAAAAAAAaJpAAAAAAAAMm0AAAAAAAIybQAAAAAAAOJtAAAAAAAAUm0AAAAAAAMCZQAAAAAAAwJlAAAAAAACImEAAAAAAADSYQAAAAAAA7JdAAAAAAAC0l0AAAAAAAIiXQAAAAAAATJdAAAAAAABIl0AAAAAAAICWQAAAAAAAjJZAAAAAAAAUl0AAAAAAABSXQAAAAAAA2JZAAAAAAAAclkAAAAAAAOiVQAAAAAAANJVAAAAAAAC0lUAAAAAAADiWQAAAAAAAxJZAAAAAAABAl0AAAAAAANiWQAAAAAAArJZAAAAAAADclUAAAAAAALSWQAAAAAAAyJZAAAAAAAAglkAAAAAAALSVQAAAAAAA1JVAAAAAAACclUAAAAAAABSUQAAAAAAAIJRAAAAAAAAwlkAAAAAAAFSWQAAAAAAAmJZAAAAAAAD4lUAAAAAAAEiWQA==\",\"dtype\":\"float64\",\"shape\":[80]},\"suspected_patients\":{\"__ndarray__\":\"AAAAAADQlEAAAAAAANiTQAAAAAAAXJNAAAAAAACYkkAAAAAAAOiQQAAAAAAAuJBAAAAAAAAYlUAAAAAAANSQQAAAAAAAsIdAAAAAAACQh0AAAAAAAEiMQAAAAAAAWIZAAAAAAADIiEAAAAAAACiDQAAAAAAAwINAAAAAAABgg0AAAAAAANCDQAAAAAAAEIJAAAAAAAAogUAAAAAAANCCQAAAAAAASINAAAAAAABwgkAAAAAAAJiCQAAAAAAAEIFAAAAAAADggUAAAAAAAPiBQAAAAAAACINAAAAAAAAogkAAAAAAAHiCQAAAAAAAYH1AAAAAAADwf0AAAAAAAIiBQAAAAAAAQIBAAAAAAAD4gEAAAAAAAACBQAAAAAAAYH9AAAAAAABAgUAAAAAAAOB/QAAAAAAAmIBAAAAAAADYgEAAAAAAABiBQAAAAAAAoH9AAAAAAABQg0AAAAAAAHiBQAAAAAAASIFAAAAAAAAggEAAAAAAAHCBQAAAAAAAQIBAAAAAAABYg0AAAAAAAIiBQAAAAAAAMINAAAAAAACogUAAAAAAALCBQAAAAAAAGIFAAAAAAACggUAAAAAAABCDQAAAAAAAoINAAAAAAAD4g0AAAAAAANCBQAAAAAAACIJAAAAAAAA4gEAAAAAAAKCCQAAAAAAA0IFAAAAAAABgf0AAAAAAAFCCQAAAAAAAGIFAAAAAAAAwgkAAAAAAAHCBQAAAAAAAmIJAAAAAAAC4hUAAAAAAAKCBQAAAAAAAAIJAAAAAAABwfkAAAAAAADB+QAAAAAAA0H9AAAAAAADAgEAAAAAAADCAQAAAAAAAAIBAAAAAAADgfkAAAAAAAOB+QA==\",\"dtype\":\"float64\",\"shape\":[80]},\"total_icu\":{\"__ndarray__\":\"AAAAAABYgUAAAAAAANiAQAAAAAAAuINAAAAAAACwg0AAAAAAAPiDQAAAAAAAqIRAAAAAAAA4hUAAAAAAADiHQAAAAAAAyIVAAAAAAACAhEAAAAAAAJCFQAAAAAAA+IVAAAAAAACAhkAAAAAAAPiFQAAAAAAAGIdAAAAAAADwhUAAAAAAANiFQAAAAAAAwIVAAAAAAAAwhkAAAAAAAHCGQAAAAAAAoIZAAAAAAAC4hkAAAAAAAHCGQAAAAAAAeIVAAAAAAAAwhUAAAAAAADCGQAAAAAAAKIZAAAAAAAC4hkAAAAAAANiFQAAAAAAAYIVAAAAAAAAAhkAAAAAAAACGQAAAAAAAsIVAAAAAAAAghUAAAAAAAEiFQAAAAAAAiIRAAAAAAADwg0AAAAAAAEiDQAAAAAAA+IFAAAAAAABggkAAAAAAAECCQAAAAAAAOIJAAAAAAABYgkAAAAAAACiCQAAAAAAA2IFAAAAAAACYgUAAAAAAAPiBQAAAAAAA0IFAAAAAAACAgUAAAAAAANiAQAAAAAAAYIFAAAAAAADggUAAAAAAALCBQAAAAAAAKIFAAAAAAAB4gUAAAAAAALiBQAAAAAAAUIFAAAAAAADQgUAAAAAAACiBQAAAAAAA4IBAAAAAAADwf0AAAAAAAJCAQAAAAAAAYIBAAAAAAAAIgEAAAAAAAECBQAAAAAAAIIFAAAAAAACgf0AAAAAAADiAQAAAAAAASIBAAAAAAACwf0AAAAAAAACAQAAAAAAAAIBAAAAAAADAfkAAAAAAADB+QAAAAAAA0H1AAAAAAADAfkAAAAAAADB/QAAAAAAAsH1AAAAAAACwfkAAAAAAABB+QA==\",\"dtype\":\"float64\",\"shape\":[80]},\"total_patients\":{\"__ndarray__\":\"AAAAAAAuoEAAAAAAAFCgQAAAAAAAMqFAAAAAAAAqoUAAAAAAAAChQAAAAAAAeKFAAAAAAABSpEAAAAAAANCiQAAAAAAAnKBAAAAAAAAKoEAAAAAAALahQAAAAAAAyKBAAAAAAADsoUAAAAAAADChQAAAAAAAoKFAAAAAAAD2oUAAAAAAAGSiQAAAAAAA3qFAAAAAAADgoUAAAAAAALKiQAAAAAAATqNAAAAAAAAgo0AAAAAAADSjQAAAAAAAzKJAAAAAAADiokAAAAAAADyjQAAAAAAA6qNAAAAAAADeo0AAAAAAAOyjQAAAAAAAeKJAAAAAAAC2okAAAAAAAJiiQAAAAAAA9qFAAAAAAACGokAAAAAAAISiQAAAAAAA6KFAAAAAAAAmokAAAAAAAMihQAAAAAAAWqFAAAAAAAC8oUAAAAAAAAyiQAAAAAAAkKFAAAAAAABeokAAAAAAAD6hQAAAAAAAMqFAAAAAAABMoEAAAAAAAHagQAAAAAAABqBAAAAAAACwoEAAAAAAACagQAAAAAAAcqBAAAAAAAAOoEAAAAAAAFifQAAAAAAAGJ9AAAAAAADkn0AAAAAAAE6gQAAAAAAAVKBAAAAAAAAMoEAAAAAAANCeQAAAAAAAOJ5AAAAAAADQnUAAAAAAAIifQAAAAAAArJ9AAAAAAAAYn0AAAAAAAACgQAAAAAAAOJ9AAAAAAAD0nkAAAAAAAGyfQAAAAAAACqBAAAAAAAB+oEAAAAAAAISeQAAAAAAA1J5AAAAAAAA4nUAAAAAAAKCbQAAAAAAAFJxAAAAAAACQnkAAAAAAAGyeQAAAAAAAmJ5AAAAAAACwnUAAAAAAAACeQA==\",\"dtype\":\"float64\",\"shape\":[80]}},\"selected\":{\"id\":\"2518\"},\"selection_policy\":{\"id\":\"2517\"}},\"id\":\"2467\",\"type\":\"ColumnDataSource\"},{\"attributes\":{},\"id\":\"2437\",\"type\":\"DataRange1d\"},{\"attributes\":{\"base\":60,\"mantissas\":[1,2,5,10,15,20,30],\"max_interval\":1800000.0,\"min_interval\":1000.0,\"num_minor_ticks\":0},\"id\":\"2481\",\"type\":\"AdaptiveTicker\"},{\"attributes\":{},\"id\":\"2439\",\"type\":\"LinearScale\"},{\"attributes\":{\"base\":24,\"mantissas\":[1,2,4,6,8,12],\"max_interval\":43200000.0,\"min_interval\":3600000.0,\"num_minor_ticks\":0},\"id\":\"2482\",\"type\":\"AdaptiveTicker\"},{\"attributes\":{},\"id\":\"2441\",\"type\":\"LinearScale\"},{\"attributes\":{},\"id\":\"2650\",\"type\":\"UnionRenderers\"},{\"attributes\":{\"days\":[1,2,3,4,5,6,7,8,9,10,11,12,13,14,15,16,17,18,19,20,21,22,23,24,25,26,27,28,29,30,31]},\"id\":\"2483\",\"type\":\"DaysTicker\"},{\"attributes\":{\"formatter\":{\"id\":\"2476\"},\"ticker\":{\"id\":\"2444\"}},\"id\":\"2443\",\"type\":\"DatetimeAxis\"},{\"attributes\":{\"label\":{\"value\":\"Total patients\"},\"renderers\":[{\"id\":\"2472\"}]},\"id\":\"2493\",\"type\":\"LegendItem\"},{\"attributes\":{\"days\":[1,4,7,10,13,16,19,22,25,28]},\"id\":\"2484\",\"type\":\"DaysTicker\"},{\"attributes\":{\"line_alpha\":0.3,\"line_color\":\"navy\",\"line_width\":5,\"x\":{\"field\":\"date\"},\"y\":{\"field\":\"total_icu\"}},\"id\":\"2495\",\"type\":\"Line\"},{\"attributes\":{\"num_minor_ticks\":5,\"tickers\":[{\"id\":\"2480\"},{\"id\":\"2481\"},{\"id\":\"2482\"},{\"id\":\"2483\"},{\"id\":\"2484\"},{\"id\":\"2485\"},{\"id\":\"2486\"},{\"id\":\"2487\"},{\"id\":\"2488\"},{\"id\":\"2489\"},{\"id\":\"2490\"},{\"id\":\"2491\"}]},\"id\":\"2444\",\"type\":\"DatetimeTicker\"},{\"attributes\":{\"bottom_units\":\"screen\",\"fill_alpha\":0.5,\"fill_color\":\"lightgrey\",\"left_units\":\"screen\",\"level\":\"overlay\",\"line_alpha\":1.0,\"line_color\":\"black\",\"line_dash\":[4,4],\"line_width\":2,\"render_mode\":\"css\",\"right_units\":\"screen\",\"top_units\":\"screen\"},\"id\":\"2457\",\"type\":\"BoxAnnotation\"},{\"attributes\":{\"days\":[1,8,15,22]},\"id\":\"2485\",\"type\":\"DaysTicker\"},{\"attributes\":{\"axis\":{\"id\":\"2443\"},\"ticker\":null},\"id\":\"2446\",\"type\":\"Grid\"},{\"attributes\":{\"callback\":null,\"tooltips\":[[\"total\",\"@total_icu\"]]},\"id\":\"2458\",\"type\":\"HoverTool\"},{\"attributes\":{\"days\":[1,15]},\"id\":\"2486\",\"type\":\"DaysTicker\"},{\"attributes\":{\"active_drag\":\"auto\",\"active_inspect\":\"auto\",\"active_multi\":null,\"active_scroll\":\"auto\",\"active_tap\":\"auto\",\"tools\":[{\"id\":\"2451\"},{\"id\":\"2452\"},{\"id\":\"2453\"},{\"id\":\"2454\"},{\"id\":\"2455\"},{\"id\":\"2456\"},{\"id\":\"2458\"}]},\"id\":\"2459\",\"type\":\"Toolbar\"},{\"attributes\":{\"formatter\":{\"id\":\"2478\"},\"ticker\":{\"id\":\"2448\"}},\"id\":\"2447\",\"type\":\"LinearAxis\"},{\"attributes\":{\"months\":[0,1,2,3,4,5,6,7,8,9,10,11]},\"id\":\"2487\",\"type\":\"MonthsTicker\"},{\"attributes\":{},\"id\":\"2448\",\"type\":\"BasicTicker\"},{\"attributes\":{\"items\":[{\"id\":\"2493\"},{\"id\":\"2519\"}]},\"id\":\"2492\",\"type\":\"Legend\"},{\"attributes\":{\"months\":[0,2,4,6,8,10]},\"id\":\"2488\",\"type\":\"MonthsTicker\"},{\"attributes\":{\"fill_alpha\":{\"value\":0.8},\"fill_color\":{\"value\":\"green\"},\"line_alpha\":{\"value\":0.8},\"line_color\":{\"value\":\"green\"},\"top\":{\"field\":\"total_icu\"},\"width\":{\"value\":0.4},\"x\":{\"field\":\"date\"}},\"id\":\"2470\",\"type\":\"VBar\"},{\"attributes\":{\"axis\":{\"id\":\"2447\"},\"dimension\":1,\"ticker\":null},\"id\":\"2450\",\"type\":\"Grid\"},{\"attributes\":{\"source\":{\"id\":\"2467\"}},\"id\":\"2473\",\"type\":\"CDSView\"},{\"attributes\":{\"months\":[0,4,8]},\"id\":\"2489\",\"type\":\"MonthsTicker\"},{\"attributes\":{\"fill_alpha\":{\"value\":0.1},\"fill_color\":{\"value\":\"green\"},\"line_alpha\":{\"value\":0.1},\"line_color\":{\"value\":\"green\"},\"top\":{\"field\":\"total_icu\"},\"width\":{\"value\":0.4},\"x\":{\"field\":\"date\"}},\"id\":\"2471\",\"type\":\"VBar\"},{\"attributes\":{},\"id\":\"2476\",\"type\":\"DatetimeTickFormatter\"},{\"attributes\":{\"months\":[0,6]},\"id\":\"2490\",\"type\":\"MonthsTicker\"},{\"attributes\":{},\"id\":\"2651\",\"type\":\"Selection\"},{\"attributes\":{},\"id\":\"2491\",\"type\":\"YearsTicker\"},{\"attributes\":{},\"id\":\"2478\",\"type\":\"BasicTickFormatter\"},{\"attributes\":{\"data\":{\"date\":{\"__ndarray__\":\"AADAmTATd0IAAID/ghN3QgAAQGXVE3dCAAAAyycUd0IAAMAwehR3QgAAgJbMFHdCAABA/B4Vd0IAAABicRV3QgAAwMfDFXdCAACALRYWd0IAAECTaBZ3QgAAAPm6FndCAADAXg0Xd0IAAIDEXxd3QgAAQCqyF3dCAAAAkAQYd0IAAMD1Vhh3QgAAgFupGHdCAABAwfsYd0IAAAAnThl3QgAAwIygGXdCAACA8vIZd0IAAEBYRRp3QgAAAL6XGndCAADAI+oad0IAAICJPBt3QgAAQO+OG3dCAAAAVeEbd0IAAMC6Mxx3QgAAgCCGHHdCAABAhtgcd0IAAADsKh13QgAAwFF9HXdCAACAt88dd0IAAEAdIh53QgAAAIN0HndCAADA6MYed0IAAIBOGR93QgAAQLRrH3dCAAAAGr4fd0IAAMB/ECB3QgAAgOViIHdCAABAS7Ugd0IAAACxByF3QgAAwBZaIXdCAACAfKwhd0IAAEDi/iF3QgAAAEhRIndCAADAraMid0IAAIAT9iJ3QgAAQHlII3dCAAAA35ojd0IAAMBE7SN3QgAAgKo/JHdCAABAEJIkd0IAAAB25CR3QgAAwNs2JXdCAACAQYkld0IAAECn2yV3QgAAAA0uJndCAADAcoAmd0IAAIDY0iZ3QgAAQD4lJ3dCAAAApHcnd0IAAMAJyid3QgAAgG8cKHdCAABA1W4od0IAAAA7wSh3QgAAwKATKXdCAACABmYpd0IAAEBsuCl3QgAAANIKKndCAADAN10qd0IAAICdryp3QgAAQAMCK3dCAAAAaVQrd0IAAMDOpit3QgAAgDT5K3dCAABAmkssd0IAAAAAnix3Qg==\",\"dtype\":\"float64\",\"shape\":[80]},\"icu_positive_patients\":{\"__ndarray__\":\"AAAAAADwdEAAAAAAAEh1QKuqqqqq+nZAAAAAAABAeEAAAAAAAFB5QAAAAAAAKHpAkiRJkiQJe0C3bdu2bct8QJIkSZIkiX5At23btm1bf0Bu27Zt2yaAQJIkSZIkiYBAkiRJkiTpgEAlSZIkSTqBQAAAAAAAiIFASZIkSZLEgUAAAAAAACCCQLdt27ZtQ4JASZIkSZJsgkC3bdu2bauCQAAAAAAAyIJAJUmSJEnKgkCSJEmSJNGCQAAAAAAA2IJAAAAAAADQgkAAAAAAAMiCQCVJkiRJooJAAAAAAACQgkAAAAAAAJCCQNu2bdu2hYJASZIkSZKMgkC3bdu2baOCQAAAAAAAsIJAt23btm2jgkDbtm3btoWCQLdt27ZtU4JAJUmSJEkigkCSJEmSJNGBQAAAAAAAWIFASZIkSZLkgEDbtm3btoWAQLdt27ZtM4BAt23btm3rf0AAAAAAAFB/QEmSJEmS1H5A27Zt27a9fkAAAAAAAJB+QNu2bdu2bX5AJUmSJEkifkC3bdu2bat9QAAAAAAAgH1Abtu2bdtmfUBu27Zt2zZ9QCVJkiRJ8nxAkiRJkiTJfEBJkiRJksR8QAAAAAAA4HxAkiRJkiTZfEAlSZIkSaJ8QAAAAAAAcHxAbtu2bdsmfEC3bdu2bct7QCVJkiRJkntAAAAAAABQe0BJkiRJkkR7QEmSJEmSNHtAJUmSJEkCe0Dbtm3bth17QAAAAAAAIHtA27Zt27bdekBJkiRJkpR6QNu2bdu2PXpASZIkSZIEekCSJEmSJNl5QCVJkiRJknlAAAAAAABgeUBJkiRJkmR5QNu2bdu2fXlAJUmSJElieUBJkiRJklR5QA==\",\"dtype\":\"float64\",\"shape\":[80]},\"icu_suspected_patients\":{\"__ndarray__\":\"AAAAAACAa0AAAAAAANBpQKuqqqqq6mlAAAAAAAAYaUCamZmZmTloQFVVVVVV1WdAJUmSJElSZ0CSJEmSJClnQAAAAAAAgGZA27Zt27ZNZUC3bdu2bXtkQG7btm3bFmRASZIkSZKkY0Dbtm3bts1iQEmSJEmShGFAkiRJkiSpYEAAAAAAAABgQLdt27ZtG19AJUmSJEkSXkCSJEmSJAlcQEmSJEmS5FtASZIkSZJkW0AAAAAAAMBbQLdt27ZtG1tAbtu2bdu2WkBu27Zt2/ZaQCVJkiRJ0ltAAAAAAACAXEAAAAAAAIBbQLdt27Ztm1pAAAAAAAAAW0Bu27Zt2zZbQAAAAAAAQFpAbtu2bdt2WUAAAAAAAMBYQCVJkiRJ0lhAbtu2bdu2WEBJkiRJkiRYQCVJkiRJUldASZIkSZIkV0AlSZIkSdJWQEmSJEmS5FVAJUmSJElSVUBu27Zt27ZVQAAAAAAAAFZA27Zt27btVUDbtm3bti1WQG7btm3bNlZAJUmSJEmSVkBu27Zt27ZWQAAAAAAAgFZA27Zt27btVkCSJEmSJMlXQNu2bdu27VdA27Zt27YtWEAAAAAAAIBYQLdt27Ztm1hAbtu2bds2WUAAAAAAAEBZQLdt27ZtG1lASZIkSZLkWECSJEmSJElZQEmSJEmSpFhAbtu2bds2WEAAAAAAAMBXQG7btm3b9ldAkiRJkiSJV0BJkiRJkmRXQJIkSZIkCVdAbtu2bdt2V0AlSZIkSZJYQAAAAAAAgFhASZIkSZJkV0AAAAAAAEBXQLdt27Zt21ZAt23btm2bVkAAAAAAAEBWQJIkSZIkiVRAbtu2bds2VECSJEmSJAlUQA==\",\"dtype\":\"float64\",\"shape\":[80]},\"index\":[0,1,2,3,4,5,6,7,8,9,10,11,12,13,14,15,16,17,18,19,20,21,22,23,24,25,26,27,28,29,30,31,32,33,34,35,36,37,38,39,40,41,42,43,44,45,46,47,48,49,50,51,52,53,54,55,56,57,58,59,60,61,62,63,64,65,66,67,68,69,70,71,72,73,74,75,76,77,78,79],\"positive_patients\":{\"__ndarray__\":\"AAAAAAAYh0AAAAAAAFSIQFVVVVVVPYpAAAAAAACMi0AAAAAAAOCMQKuqqqqqIo5AJUmSJElqj0C3bdu2bQeRQNu2bdu2QZJAJUmSJEkCk0CSJEmSJM2TQG7btm3bjpRAJUmSJElOlUAlSZIkSQ6WQNu2bdu2tZZAt23btm1nl0AAAAAAAFiYQCVJkiRJHplAkiRJkiTNmUBu27Zt23KaQLdt27ZtC5tAkiRJkiSRm0AlSZIkSfqbQCVJkiRJSpxAAAAAAACYnEBJkiRJkuycQNu2bdu2QZ1At23btm1/nUCSJEmSJLmdQG7btm3byp1ASZIkSZLYnUDbtm3btsmdQAAAAAAAjJ1AAAAAAABMnUAlSZIkSf6cQNu2bdu2nZxAt23btm1XnEAAAAAAABScQCVJkiRJyptAbtu2bduum0Dbtm3btombQNu2bdu2WZtAkiRJkiQ5m0Bu27Zt2/KaQLdt27Ztr5pAbtu2bdtqmkBu27Zt2wKaQCVJkiRJfplA27Zt27b9mEAAAAAAAHyYQCVJkiRJIphAAAAAAADIl0Dbtm3btn2XQJIkSZIkQZdAJUmSJEkil0C3bdu2bQuXQCVJkiRJ8pZAbtu2bdvGlkBJkiRJkpSWQJIkSZIkZZZAJUmSJElGlkBu27Zt2yaWQLdt27ZtG5ZAJUmSJEkqlkCSJEmSJEWWQJIkSZIkYZZAkiRJkiR5lkDbtm3btp2WQCVJkiRJspZAbtu2bdualkAlSZIkSWKWQJIkSZIkPZZAJUmSJEkWlkCSJEmSJNWVQG7btm3bdpVAkiRJkiRhlUBJkiRJkmiVQJIkSZIkiZVAJUmSJEmOlUBu27Zt26aVQA==\",\"dtype\":\"float64\",\"shape\":[80]},\"suspected_patients\":{\"__ndarray__\":\"AAAAAADQlEAAAAAAAFSUQFVVVVVVAZRAAAAAAACnk0BmZmZmZhqTQKuqqqqqtJJAAAAAAAAMk0AlSZIkSXqSQNu2bdu2VZFASZIkSZJAkEC3bdu2bTuPQAAAAAAAmI1At23btm1bjECSJEmSJBGJQEmSJEmSFIdAbtu2bdt2hkDbtm3btu2FQAAAAAAAeIRAJUmSJEm6g0AAAAAAAOCCQEmSJEmS5IJASZIkSZK0gkAAAAAAAJiCQLdt27ZtM4JASZIkSZIsgkAlSZIkSUqCQCVJkiRJUoJAkiRJkiQpgkAlSZIkSSqCQLdt27Ztm4FAt23btm1zgUBu27Zt22aBQAAAAAAAKIFASZIkSZLcgEAlSZIkSbKAQEmSJEmSTIBAJUmSJEmqgECSJEmSJKmAQG7btm3bhoBASZIkSZKcgECSJEmSJKGAQNu2bdu2dYBAJUmSJEn6gEAlSZIkSQKBQLdt27ZtM4FAJUmSJEkigUAAAAAAADiBQJIkSZIkGYFAJUmSJEmagUCSJEmSJFmBQAAAAAAAmIFA27Zt27algUBu27Zt296BQCVJkiRJ0oFASZIkSZIEgkAlSZIkSfqBQG7btm3bRoJAt23btm1jgkCSJEmSJGmCQNu2bdu2dYJA27Zt27ZVgkAlSZIkSXqCQEmSJEmSTIJASZIkSZK8gUAAAAAAAICBQNu2bdu2ZYFAt23btm1rgUAAAAAAAJiBQG7btm3bloFA27Zt27YlgkBJkiRJkmyCQJIkSZIkYYJASZIkSZIcgkC3bdu2bauBQLdt27Ztc4FAAAAAAAAwgUDbtm3btmWAQCVJkiRJKoBAkiRJkiSZf0CSJEmSJKl/QA==\",\"dtype\":\"float64\",\"shape\":[80]},\"total_icu\":{\"__ndarray__\":\"AAAAAABYgUAAAAAAABiBQAAAAAAA+IFAAAAAAABmgkBmZmZmZraCQFVVVVVVCYNAkiRJkiRZg0AAAAAAADCEQEmSJEmS5IRAkiRJkiQBhUDbtm3btkWFQG7btm3bjoVAJUmSJEnShUDbtm3btu2FQJIkSZIk6YVAbtu2bdvuhUAAAAAAACCGQG7btm3bJoZAbtu2bdsuhkBJkiRJkiyGQEmSJEmSRIZAbtu2bds2hkCSJEmSJEmGQLdt27ZtO4ZAbtu2bdsmhkBu27Zt2yaGQEmSJEmSHIZAAAAAAAAghkAAAAAAAACGQJIkSZIk2YVASZIkSZLshUAlSZIkSQqGQAAAAAAA+IVAJUmSJEnShUDbtm3btp2FQNu2bdu2bYVAkiRJkiQ5hUDbtm3bttWEQCVJkiRJQoRAkiRJkiTJg0AAAAAAAGCDQAAAAAAA8IJAAAAAAACggkBu27Zt216CQCVJkiRJKoJASZIkSZIcgkDbtm3btg2CQNu2bdu2/YFAt23btm3jgUBJkiRJkqyBQAAAAAAAkIFAkiRJkiSRgUBJkiRJkpSBQG7btm3bdoFAJUmSJElqgUAlSZIkSXKBQLdt27Ztg4FAt23btm2TgUCSJEmSJHmBQLdt27ZtW4FAAAAAAAAwgUBu27Zt2w6BQNu2bdu23YBAbtu2bduugEAlSZIkSZqAQJIkSZIkmYBAJUmSJElygEC3bdu2bXuAQJIkSZIkcYBA27Zt27ZdgEBJkiRJklyAQG7btm3bLoBA27Zt27bdf0CSJEmSJKl/QJIkSZIkSX9Abtu2bdsGf0BJkiRJkvR+QAAAAAAAoH5AAAAAAABwfkBu27Zt21Z+QA==\",\"dtype\":\"float64\",\"shape\":[80]},\"total_patients\":{\"__ndarray__\":\"AAAAAAAuoEAAAAAAAD+gQAAAAAAAkKBAAAAAAIC2oEAzMzMzM8WgQAAAAAAA46BASZIkSZJgoUBu27Zt28ChQNu2bdu2y6FAt23btm2hoUC3bdu2bbWhQLdt27ZtraFAAAAAAAC+oUC3bdu2bUuhQAAAAAAAIKFAt23btm1RoUC3bdu2baehQJIkSZIkraFAkiRJkiTVoUC3bdu2bfGhQG7btm3bPqJA27Zt27Z1okCSJEmSJKOiQAAAAAAAsqJAkiRJkiTXokBu27Zt2wijQLdt27ZtNaNAAAAAAABKo0CSJEmSJGejQCVJkiRJTKNAkiRJkiRJo0BJkiRJkj6jQAAAAAAAEKNAkiRJkiTdokDbtm3btquiQAAAAAAAYqJAJUmSJElWokAlSZIkSTSiQG7btm3bBqJASZIkSZL+oUCSJEmSJO2hQCVJkiRJyqFAkiRJkiTboUAAAAAAALqhQEmSJEmSpKFAAAAAAAB+oUC3bdu2bU+hQLdt27ZtBaFAt23btm3loEAlSZIkSZSgQJIkSZIkd6BAt23btm1NoEBJkiRJkjagQJIkSZIkFaBAJUmSJEkSoEAlSZIkSQSgQG7btm3bCqBASZIkSZL4n0CSJEmSJMmfQAAAAAAAoJ9AkiRJkiRxn0AAAAAAAGSfQNu2bdu2QZ9ASZIkSZIIn0CSJEmSJAWfQAAAAAAAFJ9Abtu2bdsun0Dbtm3btmmfQNu2bdu2fZ9A27Zt27atn0BJkiRJkpifQNu2bdu2bZ9ASZIkSZIkn0Bu27Zt26qeQEmSJEmSMJ5AkiRJkiT5nUC3bdu2bZudQCVJkiRJnp1ASZIkSZJ0nUCSJEmSJJGdQA==\",\"dtype\":\"float64\",\"shape\":[80]}},\"selected\":{\"id\":\"2651\"},\"selection_policy\":{\"id\":\"2650\"}},\"id\":\"2468\",\"type\":\"ColumnDataSource\"},{\"attributes\":{},\"id\":\"2451\",\"type\":\"PanTool\"},{\"attributes\":{\"source\":{\"id\":\"2468\"}},\"id\":\"2498\",\"type\":\"CDSView\"},{\"attributes\":{\"text\":\"ICU patients \"},\"id\":\"2433\",\"type\":\"Title\"},{\"attributes\":{},\"id\":\"2517\",\"type\":\"UnionRenderers\"},{\"attributes\":{},\"id\":\"2452\",\"type\":\"WheelZoomTool\"},{\"attributes\":{\"overlay\":{\"id\":\"2457\"}},\"id\":\"2453\",\"type\":\"BoxZoomTool\"},{\"attributes\":{\"line_alpha\":0.1,\"line_color\":\"navy\",\"line_width\":5,\"x\":{\"field\":\"date\"},\"y\":{\"field\":\"total_icu\"}},\"id\":\"2496\",\"type\":\"Line\"},{\"attributes\":{},\"id\":\"2454\",\"type\":\"SaveTool\"},{\"attributes\":{},\"id\":\"2518\",\"type\":\"Selection\"},{\"attributes\":{\"data_source\":{\"id\":\"2468\"},\"glyph\":{\"id\":\"2495\"},\"hover_glyph\":null,\"muted_glyph\":null,\"nonselection_glyph\":{\"id\":\"2496\"},\"selection_glyph\":null,\"view\":{\"id\":\"2498\"}},\"id\":\"2497\",\"type\":\"GlyphRenderer\"},{\"attributes\":{\"label\":{\"value\":\"7-day rolling avg\"},\"renderers\":[{\"id\":\"2497\"}]},\"id\":\"2519\",\"type\":\"LegendItem\"},{\"attributes\":{\"data_source\":{\"id\":\"2467\"},\"glyph\":{\"id\":\"2470\"},\"hover_glyph\":null,\"muted_glyph\":null,\"nonselection_glyph\":{\"id\":\"2471\"},\"selection_glyph\":null,\"view\":{\"id\":\"2473\"}},\"id\":\"2472\",\"type\":\"GlyphRenderer\"},{\"attributes\":{},\"id\":\"2455\",\"type\":\"ResetTool\"}],\"root_ids\":[\"2432\"]},\"title\":\"Bokeh Application\",\"version\":\"2.0.2\"}};\n",
       "  var render_items = [{\"docid\":\"18b37d72-aaf8-4d5b-8f70-8df2caa53028\",\"root_ids\":[\"2432\"],\"roots\":{\"2432\":\"451d2753-a83a-4695-bd5f-16d9396c8135\"}}];\n",
       "  root.Bokeh.embed.embed_items_notebook(docs_json, render_items);\n",
       "\n",
       "  }\n",
       "  if (root.Bokeh !== undefined) {\n",
       "    embed_document(root);\n",
       "  } else {\n",
       "    var attempts = 0;\n",
       "    var timer = setInterval(function(root) {\n",
       "      if (root.Bokeh !== undefined) {\n",
       "        clearInterval(timer);\n",
       "        embed_document(root);\n",
       "      } else {\n",
       "        attempts++;\n",
       "        if (attempts > 100) {\n",
       "          clearInterval(timer);\n",
       "          console.log(\"Bokeh: ERROR: Unable to run BokehJS code because BokehJS library is missing\");\n",
       "        }\n",
       "      }\n",
       "    }, 10, root)\n",
       "  }\n",
       "})(window);"
      ],
      "application/vnd.bokehjs_exec.v0+json": ""
     },
     "metadata": {
      "application/vnd.bokehjs_exec.v0+json": {
       "id": "2432"
      }
     },
     "output_type": "display_data"
    }
   ],
   "source": [
    "TOOLTIPS = [\n",
    "    (\"total\", \"@total_patients\"),\n",
    "#         (\"date\", \"@date\")\n",
    "]\n",
    "\n",
    "p = figure(\n",
    "    plot_width=1000,\n",
    "    plot_height=400,\n",
    "    title=f\"Hospitalized patients \",\n",
    "    x_axis_type='datetime',\n",
    "           tooltips=TOOLTIPS)\n",
    "\n",
    "#     bar_data = frame.reset_index()\n",
    "#     if trim_pos is not None:\n",
    "#         bar_data = bar_data[bar_data[field_name] <= trim_pos]\n",
    "#     if trim_neg is not None:\n",
    "#         bar_data = bar_data[bar_data[field_name] >= trim_neg]\n",
    "        \n",
    "source = ColumnDataSource(hosp_lac.reset_index())\n",
    "source2 = ColumnDataSource(hosp_lac.rolling(window='7D').mean().reset_index())\n",
    "\n",
    "# add a circle renderer with a size, color, and alpha\n",
    "# p.circle(x='date', y='new_confirmed_cases', size=10, color=\"navy\", source=source, alpha=0.5)\n",
    "p.vbar(\n",
    "    x='date',\n",
    "    top='total_patients',\n",
    "    color=\"green\",\n",
    "    width=0.4,\n",
    "    source=source,\n",
    "    alpha=0.8,\n",
    "    legend_label='Total patients')\n",
    "p.line(\n",
    "    x='date',\n",
    "    y='total_patients',\n",
    "    line_width=5,\n",
    "    color=\"navy\",\n",
    "    source=source2,\n",
    "    alpha=0.3,\n",
    "    legend_label='7-day rolling avg')\n",
    "\n",
    "show(p)\n",
    "\n",
    "TOOLTIPS = [\n",
    "    (\"total\", \"@total_icu\"),\n",
    "#         (\"date\", \"@date\")\n",
    "]\n",
    "\n",
    "p = figure(\n",
    "    plot_width=1000,\n",
    "    plot_height=400,\n",
    "    title=f\"ICU patients \",\n",
    "    x_axis_type='datetime',\n",
    "           tooltips=TOOLTIPS)\n",
    "\n",
    "\n",
    "source = ColumnDataSource(hosp_lac.reset_index())\n",
    "source2 = ColumnDataSource(hosp_lac.rolling(window='7D').mean().reset_index())\n",
    "\n",
    "# add a circle renderer with a size, color, and alpha\n",
    "# p.circle(x='date', y='new_confirmed_cases', size=10, color=\"navy\", source=source, alpha=0.5)\n",
    "p.vbar(\n",
    "    x='date',\n",
    "    top='total_icu',\n",
    "    color=\"green\",\n",
    "    width=0.4,\n",
    "    source=source,\n",
    "    alpha=0.8,\n",
    "    legend_label='Total patients')\n",
    "p.line(\n",
    "    x='date',\n",
    "    y='total_icu',\n",
    "    line_width=5,\n",
    "    color=\"navy\",\n",
    "    source=source2,\n",
    "    alpha=0.3,\n",
    "    legend_label='7-day rolling avg')\n",
    "\n",
    "show(p)"
   ]
  },
  {
   "cell_type": "markdown",
   "metadata": {},
   "source": [
    "## NoHo"
   ]
  },
  {
   "cell_type": "code",
   "execution_count": 9,
   "metadata": {
    "ExecuteTime": {
     "end_time": "2020-06-21T21:12:59.952875Z",
     "start_time": "2020-06-21T21:12:59.823535Z"
    }
   },
   "outputs": [
    {
     "data": {
      "text/html": [
       "\n",
       "\n",
       "\n",
       "\n",
       "\n",
       "\n",
       "  <div class=\"bk-root\" id=\"6d1ed1a0-e96d-4f86-a176-89bd3b724933\" data-root-id=\"2784\"></div>\n"
      ]
     },
     "metadata": {},
     "output_type": "display_data"
    },
    {
     "data": {
      "application/javascript": [
       "(function(root) {\n",
       "  function embed_document(root) {\n",
       "    \n",
       "  var docs_json = {\"16f64121-0761-4afb-adbe-3b284526d446\":{\"roots\":{\"references\":[{\"attributes\":{\"below\":[{\"id\":\"2795\"}],\"center\":[{\"id\":\"2798\"},{\"id\":\"2802\"},{\"id\":\"2844\"}],\"left\":[{\"id\":\"2799\"}],\"plot_height\":400,\"plot_width\":1000,\"renderers\":[{\"id\":\"2824\"},{\"id\":\"2849\"}],\"title\":{\"id\":\"2785\"},\"toolbar\":{\"id\":\"2811\"},\"x_range\":{\"id\":\"2787\"},\"x_scale\":{\"id\":\"2791\"},\"y_range\":{\"id\":\"2789\"},\"y_scale\":{\"id\":\"2793\"}},\"id\":\"2784\",\"subtype\":\"Figure\",\"type\":\"Plot\"},{\"attributes\":{\"months\":[0,2,4,6,8,10]},\"id\":\"2840\",\"type\":\"MonthsTicker\"},{\"attributes\":{},\"id\":\"2789\",\"type\":\"DataRange1d\"},{\"attributes\":{\"data_source\":{\"id\":\"2820\"},\"glyph\":{\"id\":\"2847\"},\"hover_glyph\":null,\"muted_glyph\":null,\"nonselection_glyph\":{\"id\":\"2848\"},\"selection_glyph\":null,\"view\":{\"id\":\"2850\"}},\"id\":\"2849\",\"type\":\"GlyphRenderer\"},{\"attributes\":{},\"id\":\"3024\",\"type\":\"UnionRenderers\"},{\"attributes\":{\"base\":60,\"mantissas\":[1,2,5,10,15,20,30],\"max_interval\":1800000.0,\"min_interval\":1000.0,\"num_minor_ticks\":0},\"id\":\"2833\",\"type\":\"AdaptiveTicker\"},{\"attributes\":{\"source\":{\"id\":\"2820\"}},\"id\":\"2850\",\"type\":\"CDSView\"},{\"attributes\":{},\"id\":\"2806\",\"type\":\"SaveTool\"},{\"attributes\":{\"days\":[1,4,7,10,13,16,19,22,25,28]},\"id\":\"2836\",\"type\":\"DaysTicker\"},{\"attributes\":{},\"id\":\"2843\",\"type\":\"YearsTicker\"},{\"attributes\":{\"items\":[{\"id\":\"2845\"},{\"id\":\"2871\"}]},\"id\":\"2844\",\"type\":\"Legend\"},{\"attributes\":{\"days\":[1,2,3,4,5,6,7,8,9,10,11,12,13,14,15,16,17,18,19,20,21,22,23,24,25,26,27,28,29,30,31]},\"id\":\"2835\",\"type\":\"DaysTicker\"},{\"attributes\":{},\"id\":\"2869\",\"type\":\"UnionRenderers\"},{\"attributes\":{\"callback\":null,\"tooltips\":[[\"cases\",\"@confirmed_cases\"]]},\"id\":\"2810\",\"type\":\"HoverTool\"},{\"attributes\":{},\"id\":\"2793\",\"type\":\"LinearScale\"},{\"attributes\":{\"bottom_units\":\"screen\",\"fill_alpha\":0.5,\"fill_color\":\"lightgrey\",\"left_units\":\"screen\",\"level\":\"overlay\",\"line_alpha\":1.0,\"line_color\":\"black\",\"line_dash\":[4,4],\"line_width\":2,\"render_mode\":\"css\",\"right_units\":\"screen\",\"top_units\":\"screen\"},\"id\":\"2809\",\"type\":\"BoxAnnotation\"},{\"attributes\":{},\"id\":\"2870\",\"type\":\"Selection\"},{\"attributes\":{\"label\":{\"value\":\"Daily new cases\"},\"renderers\":[{\"id\":\"2824\"}]},\"id\":\"2845\",\"type\":\"LegendItem\"},{\"attributes\":{\"label\":{\"value\":\"7-day rolling avg\"},\"renderers\":[{\"id\":\"2849\"}]},\"id\":\"2871\",\"type\":\"LegendItem\"},{\"attributes\":{\"line_alpha\":0.1,\"line_color\":\"navy\",\"line_width\":5,\"x\":{\"field\":\"date\"},\"y\":{\"field\":\"confirmed_cases\"}},\"id\":\"2848\",\"type\":\"Line\"},{\"attributes\":{},\"id\":\"3025\",\"type\":\"Selection\"},{\"attributes\":{\"days\":[1,15]},\"id\":\"2838\",\"type\":\"DaysTicker\"},{\"attributes\":{},\"id\":\"2803\",\"type\":\"PanTool\"},{\"attributes\":{\"months\":[0,4,8]},\"id\":\"2841\",\"type\":\"MonthsTicker\"},{\"attributes\":{\"active_drag\":\"auto\",\"active_inspect\":\"auto\",\"active_multi\":null,\"active_scroll\":\"auto\",\"active_tap\":\"auto\",\"tools\":[{\"id\":\"2803\"},{\"id\":\"2804\"},{\"id\":\"2805\"},{\"id\":\"2806\"},{\"id\":\"2807\"},{\"id\":\"2808\"},{\"id\":\"2810\"}]},\"id\":\"2811\",\"type\":\"Toolbar\"},{\"attributes\":{\"data_source\":{\"id\":\"2819\"},\"glyph\":{\"id\":\"2822\"},\"hover_glyph\":null,\"muted_glyph\":null,\"nonselection_glyph\":{\"id\":\"2823\"},\"selection_glyph\":null,\"view\":{\"id\":\"2825\"}},\"id\":\"2824\",\"type\":\"GlyphRenderer\"},{\"attributes\":{\"formatter\":{\"id\":\"2828\"},\"ticker\":{\"id\":\"2796\"}},\"id\":\"2795\",\"type\":\"DatetimeAxis\"},{\"attributes\":{},\"id\":\"2800\",\"type\":\"BasicTicker\"},{\"attributes\":{\"axis\":{\"id\":\"2799\"},\"dimension\":1,\"ticker\":null},\"id\":\"2802\",\"type\":\"Grid\"},{\"attributes\":{\"months\":[0,6]},\"id\":\"2842\",\"type\":\"MonthsTicker\"},{\"attributes\":{\"axis\":{\"id\":\"2795\"},\"ticker\":null},\"id\":\"2798\",\"type\":\"Grid\"},{\"attributes\":{\"line_alpha\":0.3,\"line_color\":\"navy\",\"line_width\":5,\"x\":{\"field\":\"date\"},\"y\":{\"field\":\"confirmed_cases\"}},\"id\":\"2847\",\"type\":\"Line\"},{\"attributes\":{\"base\":24,\"mantissas\":[1,2,4,6,8,12],\"max_interval\":43200000.0,\"min_interval\":3600000.0,\"num_minor_ticks\":0},\"id\":\"2834\",\"type\":\"AdaptiveTicker\"},{\"attributes\":{\"formatter\":{\"id\":\"2830\"},\"ticker\":{\"id\":\"2800\"}},\"id\":\"2799\",\"type\":\"LinearAxis\"},{\"attributes\":{\"fill_alpha\":{\"value\":0.8},\"fill_color\":{\"value\":\"green\"},\"line_alpha\":{\"value\":0.8},\"line_color\":{\"value\":\"green\"},\"top\":{\"field\":\"confirmed_cases\"},\"width\":{\"value\":0.4},\"x\":{\"field\":\"date\"}},\"id\":\"2822\",\"type\":\"VBar\"},{\"attributes\":{},\"id\":\"2791\",\"type\":\"LinearScale\"},{\"attributes\":{\"data\":{\"confirmed_cases\":{\"__ndarray__\":\"AAAAAAAA+H8AAAAAAADwPwAAAAAAAPA/VVVVVVVV9T8AAAAAAADwP5qZmZmZmek/VVVVVVVV9T8lSZIkSZL0PyVJkiRJkvQ/27Zt27Zt+z9u27Zt27b9PwAAAAAAAAhAJUmSJEmSDEAlSZIkSZIMQCVJkiRJkhBA27Zt27ZtE0AAAAAAAAAYQAAAAAAAABxASZIkSZIkIUDbtm3btm0hQAAAAAAAACBAt23btm3bIEAlSZIkSZIgQJIkSZIkSRpAkiRJkiRJGkC3bdu2bdsSQEmSJEmSJBFASZIkSZIkFUC3bdu2bdsWQAAAAAAAABhAbtu2bdu2GUC3bdu2bdsWQCVJkiRJkhhAJUmSJEmSGECSJEmSJEkgQG7btm3btiFASZIkSZIkJ0AAAAAAAAAqQJIkSZIkSS5AAAAAAAAAMEAAAAAAAAAxQAAAAAAAADJAkiRJkiRJMEBJkiRJkiQvQNu2bdu2bStAbtu2bdu2L0C3bdu2bdsuQEmSJEmSJC9ASZIkSZIkKUBu27Zt27YwQNu2bdu2bS9At23btm3bMUAlSZIkSZIqQLdt27Zt2ypA27Zt27ZtKUAAAAAAAAAqQAAAAAAAACRAJUmSJEmSJEAAAAAAAAAkQEmSJEmSJCNAJUmSJEmSJkCSJEmSJEkmQG7btm3btiVAt23btm3bIkAlSZIkSZIcQAAAAAAAACBA27Zt27ZtIUC3bdu2bdseQG7btm3btiFA27Zt27ZtIUCSJEmSJEkoQCVJkiRJkipAbtu2bdu2J0BJkiRJkiQrQG7btm3btitAbtu2bdu2LUC3bdu2bdsuQJIkSZIkSSxAbtu2bdu2LUBJkiRJkiQtQLdt27Zt2ypAt23btm3bJkCSJEmSJEkmQLdt27Zt2yZAkiRJkiRJJkBJkiRJkiQnQCVJkiRJkixASZIkSZIkLUBu27Zt27YwQNu2bdu2bS9At23btm3bLEDbtm3btm0rQJIkSZIkSSxASZIkSZIkKUBu27Zt27YrQG7btm3btitA\",\"dtype\":\"float64\",\"shape\":[96]},\"date\":{\"__ndarray__\":\"AACAo1wOd0IAAEAJrw53QgAAAG8BD3dCAADA1FMPd0IAAIA6pg93QgAAQKD4D3dCAAAABksQd0IAAMBrnRB3QgAAgNHvEHdCAABAN0IRd0IAAACdlBF3QgAAwALnEXdCAACAaDkSd0IAAEDOixJ3QgAAADTeEndCAADAmTATd0IAAID/ghN3QgAAQGXVE3dCAAAAyycUd0IAAMAwehR3QgAAgJbMFHdCAABA/B4Vd0IAAABicRV3QgAAwMfDFXdCAACALRYWd0IAAECTaBZ3QgAAAPm6FndCAADAXg0Xd0IAAIDEXxd3QgAAQCqyF3dCAAAAkAQYd0IAAMD1Vhh3QgAAgFupGHdCAABAwfsYd0IAAAAnThl3QgAAwIygGXdCAACA8vIZd0IAAEBYRRp3QgAAAL6XGndCAADAI+oad0IAAICJPBt3QgAAQO+OG3dCAAAAVeEbd0IAAMC6Mxx3QgAAgCCGHHdCAABAhtgcd0IAAADsKh13QgAAwFF9HXdCAACAt88dd0IAAEAdIh53QgAAAIN0HndCAADA6MYed0IAAIBOGR93QgAAQLRrH3dCAAAAGr4fd0IAAMB/ECB3QgAAgOViIHdCAABAS7Ugd0IAAACxByF3QgAAwBZaIXdCAACAfKwhd0IAAEDi/iF3QgAAAEhRIndCAADAraMid0IAAIAT9iJ3QgAAQHlII3dCAAAA35ojd0IAAMBE7SN3QgAAgKo/JHdCAABAEJIkd0IAAAB25CR3QgAAwNs2JXdCAACAQYkld0IAAECn2yV3QgAAAA0uJndCAADAcoAmd0IAAIDY0iZ3QgAAQD4lJ3dCAAAApHcnd0IAAMAJyid3QgAAgG8cKHdCAABA1W4od0IAAAA7wSh3QgAAwKATKXdCAACABmYpd0IAAEBsuCl3QgAAANIKKndCAADAN10qd0IAAICdryp3QgAAQAMCK3dCAAAAaVQrd0IAAMDOpit3QgAAgDT5K3dCAABAmkssd0IAAAAAnix3QgAAwGXwLHdC\",\"dtype\":\"float64\",\"shape\":[96]},\"index\":[0,1,2,3,4,5,6,7,8,9,10,11,12,13,14,15,16,17,18,19,20,21,22,23,24,25,26,27,28,29,30,31,32,33,34,35,36,37,38,39,40,41,42,43,44,45,46,47,48,49,50,51,52,53,54,55,56,57,58,59,60,61,62,63,64,65,66,67,68,69,70,71,72,73,74,75,76,77,78,79,80,81,82,83,84,85,86,87,88,89,90,91,92,93,94,95]},\"selected\":{\"id\":\"3025\"},\"selection_policy\":{\"id\":\"3024\"}},\"id\":\"2820\",\"type\":\"ColumnDataSource\"},{\"attributes\":{\"mantissas\":[1,2,5],\"max_interval\":500.0,\"num_minor_ticks\":0},\"id\":\"2832\",\"type\":\"AdaptiveTicker\"},{\"attributes\":{},\"id\":\"2808\",\"type\":\"HelpTool\"},{\"attributes\":{},\"id\":\"2830\",\"type\":\"BasicTickFormatter\"},{\"attributes\":{},\"id\":\"2807\",\"type\":\"ResetTool\"},{\"attributes\":{\"data\":{\"confirmed_cases\":{\"__ndarray__\":\"AAAAAAAA+H8AAAAAAADwPwAAAAAAAPA/AAAAAAAAAEAAAAAAAAAAAAAAAAAAAAAAAAAAAAAAEEAAAAAAAADwPwAAAAAAAPA/AAAAAAAAEEAAAAAAAAAIQAAAAAAAACBAAAAAAAAAEEAAAAAAAAAQQAAAAAAAABRAAAAAAAAAGEAAAAAAAAAoQAAAAAAAACRAAAAAAAAAM0AAAAAAAAAUQAAAAAAAAPC/AAAAAAAAIEAAAAAAAAAUQAAAAAAAAAAAAAAAAAAAJEAAAAAAAAAYQAAAAAAAAABAAAAAAAAAGEAAAAAAAAAmQAAAAAAAABxAAAAAAAAACEAAAAAAAAAUQAAAAAAAACJAAAAAAAAAAEAAAAAAAAA0QAAAAAAAADBAAAAAAAAAOkAAAAAAAAAqQAAAAAAAADRAAAAAAAAALkAAAAAAAAAiQAAAAAAAADtAAAAAAAAAEEAAAAAAAAA1QAAAAAAAAAAAAAAAAACAQUAAAAAAAAAoQAAAAAAAACRAAAAAAAAAGEAAAAAAAIBAQAAAAAAAACxAAAAAAAAALkAAAAAAAAAIQAAAAAAAACpAAAAAAAAAFEAAAAAAAAAgQAAAAAAAAChAAAAAAAAAMEAAAAAAAAAqQAAAAAAAAAAAAAAAAAAAOUAAAAAAAAAQQAAAAAAAABhAAAAAAAAAAEAAAAAAAAAAAAAAAAAAADNAAAAAAAAAFEAAAAAAAAAyQAAAAAAAAChAAAAAAAAAFEAAAAAAAAA6QAAAAAAAACBAAAAAAAAAIkAAAAAAAAAxQAAAAAAAADRAAAAAAAAAM0AAAAAAAAAiQAAAAAAAADFAAAAAAAAAKkAAAAAAAAAcQAAAAAAAACJAAAAAAAAAGEAAAAAAAAAxQAAAAAAAACZAAAAAAAAALkAAAAAAAAAwQAAAAAAAADpAAAAAAAAAJkAAAAAAAAA1QAAAAAAAACRAAAAAAAAAAEAAAAAAAAAkQAAAAAAAADNAAAAAAAAALkAAAAAAAAA0QAAAAAAAADVA\",\"dtype\":\"float64\",\"shape\":[96]},\"date\":{\"__ndarray__\":\"AACAo1wOd0IAAEAJrw53QgAAAG8BD3dCAADA1FMPd0IAAIA6pg93QgAAQKD4D3dCAAAABksQd0IAAMBrnRB3QgAAgNHvEHdCAABAN0IRd0IAAACdlBF3QgAAwALnEXdCAACAaDkSd0IAAEDOixJ3QgAAADTeEndCAADAmTATd0IAAID/ghN3QgAAQGXVE3dCAAAAyycUd0IAAMAwehR3QgAAgJbMFHdCAABA/B4Vd0IAAABicRV3QgAAwMfDFXdCAACALRYWd0IAAECTaBZ3QgAAAPm6FndCAADAXg0Xd0IAAIDEXxd3QgAAQCqyF3dCAAAAkAQYd0IAAMD1Vhh3QgAAgFupGHdCAABAwfsYd0IAAAAnThl3QgAAwIygGXdCAACA8vIZd0IAAEBYRRp3QgAAAL6XGndCAADAI+oad0IAAICJPBt3QgAAQO+OG3dCAAAAVeEbd0IAAMC6Mxx3QgAAgCCGHHdCAABAhtgcd0IAAADsKh13QgAAwFF9HXdCAACAt88dd0IAAEAdIh53QgAAAIN0HndCAADA6MYed0IAAIBOGR93QgAAQLRrH3dCAAAAGr4fd0IAAMB/ECB3QgAAgOViIHdCAABAS7Ugd0IAAACxByF3QgAAwBZaIXdCAACAfKwhd0IAAEDi/iF3QgAAAEhRIndCAADAraMid0IAAIAT9iJ3QgAAQHlII3dCAAAA35ojd0IAAMBE7SN3QgAAgKo/JHdCAABAEJIkd0IAAAB25CR3QgAAwNs2JXdCAACAQYkld0IAAECn2yV3QgAAAA0uJndCAADAcoAmd0IAAIDY0iZ3QgAAQD4lJ3dCAAAApHcnd0IAAMAJyid3QgAAgG8cKHdCAABA1W4od0IAAAA7wSh3QgAAwKATKXdCAACABmYpd0IAAEBsuCl3QgAAANIKKndCAADAN10qd0IAAICdryp3QgAAQAMCK3dCAAAAaVQrd0IAAMDOpit3QgAAgDT5K3dCAABAmkssd0IAAAAAnix3QgAAwGXwLHdC\",\"dtype\":\"float64\",\"shape\":[96]},\"index\":[0,1,2,3,4,5,6,7,8,9,10,11,12,13,14,15,16,17,18,19,20,21,22,23,24,25,26,27,28,29,30,31,32,33,34,35,36,37,38,39,40,41,42,43,44,45,46,47,48,49,50,51,52,53,54,55,56,57,58,59,60,61,62,63,64,65,66,67,68,69,70,71,72,73,74,75,76,77,78,79,80,81,82,83,84,85,86,87,88,89,90,91,92,93,94,95]},\"selected\":{\"id\":\"2870\"},\"selection_policy\":{\"id\":\"2869\"}},\"id\":\"2819\",\"type\":\"ColumnDataSource\"},{\"attributes\":{\"fill_alpha\":{\"value\":0.1},\"fill_color\":{\"value\":\"green\"},\"line_alpha\":{\"value\":0.1},\"line_color\":{\"value\":\"green\"},\"top\":{\"field\":\"confirmed_cases\"},\"width\":{\"value\":0.4},\"x\":{\"field\":\"date\"}},\"id\":\"2823\",\"type\":\"VBar\"},{\"attributes\":{\"text\":\"Daily new cases -- NoHo\"},\"id\":\"2785\",\"type\":\"Title\"},{\"attributes\":{\"overlay\":{\"id\":\"2809\"}},\"id\":\"2805\",\"type\":\"BoxZoomTool\"},{\"attributes\":{},\"id\":\"2828\",\"type\":\"DatetimeTickFormatter\"},{\"attributes\":{\"source\":{\"id\":\"2819\"}},\"id\":\"2825\",\"type\":\"CDSView\"},{\"attributes\":{\"days\":[1,8,15,22]},\"id\":\"2837\",\"type\":\"DaysTicker\"},{\"attributes\":{\"num_minor_ticks\":5,\"tickers\":[{\"id\":\"2832\"},{\"id\":\"2833\"},{\"id\":\"2834\"},{\"id\":\"2835\"},{\"id\":\"2836\"},{\"id\":\"2837\"},{\"id\":\"2838\"},{\"id\":\"2839\"},{\"id\":\"2840\"},{\"id\":\"2841\"},{\"id\":\"2842\"},{\"id\":\"2843\"}]},\"id\":\"2796\",\"type\":\"DatetimeTicker\"},{\"attributes\":{\"months\":[0,1,2,3,4,5,6,7,8,9,10,11]},\"id\":\"2839\",\"type\":\"MonthsTicker\"},{\"attributes\":{},\"id\":\"2787\",\"type\":\"DataRange1d\"},{\"attributes\":{},\"id\":\"2804\",\"type\":\"WheelZoomTool\"}],\"root_ids\":[\"2784\"]},\"title\":\"Bokeh Application\",\"version\":\"2.0.2\"}};\n",
       "  var render_items = [{\"docid\":\"16f64121-0761-4afb-adbe-3b284526d446\",\"root_ids\":[\"2784\"],\"roots\":{\"2784\":\"6d1ed1a0-e96d-4f86-a176-89bd3b724933\"}}];\n",
       "  root.Bokeh.embed.embed_items_notebook(docs_json, render_items);\n",
       "\n",
       "  }\n",
       "  if (root.Bokeh !== undefined) {\n",
       "    embed_document(root);\n",
       "  } else {\n",
       "    var attempts = 0;\n",
       "    var timer = setInterval(function(root) {\n",
       "      if (root.Bokeh !== undefined) {\n",
       "        clearInterval(timer);\n",
       "        embed_document(root);\n",
       "      } else {\n",
       "        attempts++;\n",
       "        if (attempts > 100) {\n",
       "          clearInterval(timer);\n",
       "          console.log(\"Bokeh: ERROR: Unable to run BokehJS code because BokehJS library is missing\");\n",
       "        }\n",
       "      }\n",
       "    }, 10, root)\n",
       "  }\n",
       "})(window);"
      ],
      "application/vnd.bokehjs_exec.v0+json": ""
     },
     "metadata": {
      "application/vnd.bokehjs_exec.v0+json": {
       "id": "2784"
      }
     },
     "output_type": "display_data"
    }
   ],
   "source": [
    "noho_new = calc_daily_new(locales, PLACE)\n",
    "cases_d = {\n",
    "    'frame': noho_new,\n",
    "    'field_name': 'confirmed_cases',\n",
    "    'title_word': 'cases',\n",
    "    'place': '-- NoHo'\n",
    "}\n",
    "\n",
    "plot_daily(**cases_d)"
   ]
  },
  {
   "cell_type": "markdown",
   "metadata": {},
   "source": [
    "The above represents the daily new cases in North Hollywood. The numbers are small and noisy.\n",
    "\n",
    "Notes\n",
    "\n",
    "    The spike in late April is when testing finally ramped up.\n",
    "\n",
    "    The data has some day-of-week seasonality for both cases. The low numbers generally occur on Sundays and Mondays. I've taken a 7 day rolling average to smooth those out. \n",
    "    \n",
    "    The day with negative new cases in early April is likely due to a correction to the totals. Either that or time temporarily and locally ran backwards."
   ]
  },
  {
   "cell_type": "markdown",
   "metadata": {},
   "source": [
    "## Neighboring locales\n",
    "\n",
    "The following are daily new case counts for other south SF Valley neighborhoods.\n",
    "\n",
    "I've included the North Hollywood case counts (from the above chart) for reference."
   ]
  },
  {
   "cell_type": "code",
   "execution_count": 10,
   "metadata": {
    "ExecuteTime": {
     "end_time": "2020-06-21T21:12:59.966382Z",
     "start_time": "2020-06-21T21:12:59.956021Z"
    }
   },
   "outputs": [],
   "source": [
    "def plot_daily_locales(localities_frame, place, noho_new=None):\n",
    "    \"\"\"\n",
    "    Plots the new case counts for localities as a vertical bar graph\n",
    "    with a 7-day moving average line and a representation of north hollywood's trend \n",
    "    \n",
    "    \"\"\"\n",
    "    field_name = 'confirmed_cases'\n",
    "\n",
    "    p = figure(\n",
    "        plot_width=1000,\n",
    "        plot_height=400,\n",
    "        title=f\"Daily new cases --{place}\",\n",
    "        x_axis_type='datetime')\n",
    "\n",
    "    d_new = calc_daily_new(localities_frame, place, replace_neg=True)\n",
    "    source = ColumnDataSource(d_new.reset_index())\n",
    "    source2 = ColumnDataSource(d_new.rolling(window='7D').mean().reset_index())\n",
    "\n",
    "    p.vbar(\n",
    "        x='date',\n",
    "        top=field_name,\n",
    "        color=\"green\",\n",
    "        width=0.4,\n",
    "        source=source,\n",
    "        alpha=0.8,\n",
    "        legend_label=f'Daily new cases')\n",
    "    p.line(\n",
    "        x='date',\n",
    "        y=field_name,\n",
    "        line_width=5,\n",
    "        color=\"navy\",\n",
    "        source=source2,\n",
    "        alpha=0.3,\n",
    "        legend_label=f'7-day rolling avg ({place})')\n",
    "\n",
    "    if noho_new is not None:\n",
    "        source3 = ColumnDataSource(\n",
    "            noho_new.rolling(window='7D').mean().reset_index())\n",
    "        p.line(\n",
    "            x='date',\n",
    "            y=field_name,\n",
    "            line_width=5,\n",
    "            color=\"red\",\n",
    "            source=source3,\n",
    "            alpha=0.2,\n",
    "            legend_label=f'7-day rolling avg (NoHo)')\n",
    "\n",
    "    show(p)"
   ]
  },
  {
   "cell_type": "code",
   "execution_count": 11,
   "metadata": {
    "ExecuteTime": {
     "end_time": "2020-06-21T21:13:01.292054Z",
     "start_time": "2020-06-21T21:12:59.969743Z"
    },
    "scrolled": false
   },
   "outputs": [
    {
     "data": {
      "text/html": [
       "\n",
       "\n",
       "\n",
       "\n",
       "\n",
       "\n",
       "  <div class=\"bk-root\" id=\"0fb59b9f-d7e2-4ed2-8c83-bb7317264893\" data-root-id=\"3158\"></div>\n"
      ]
     },
     "metadata": {},
     "output_type": "display_data"
    },
    {
     "data": {
      "application/javascript": [
       "(function(root) {\n",
       "  function embed_document(root) {\n",
       "    \n",
       "  var docs_json = {\"72673e07-cf31-47e6-8931-cc57e72489db\":{\"roots\":{\"references\":[{\"attributes\":{\"below\":[{\"id\":\"3169\"}],\"center\":[{\"id\":\"3172\"},{\"id\":\"3176\"},{\"id\":\"3216\"}],\"left\":[{\"id\":\"3173\"}],\"plot_height\":400,\"plot_width\":1000,\"renderers\":[{\"id\":\"3196\"},{\"id\":\"3221\"},{\"id\":\"3248\"}],\"title\":{\"id\":\"3159\"},\"toolbar\":{\"id\":\"3184\"},\"x_range\":{\"id\":\"3161\"},\"x_scale\":{\"id\":\"3165\"},\"y_range\":{\"id\":\"3163\"},\"y_scale\":{\"id\":\"3167\"}},\"id\":\"3158\",\"subtype\":\"Figure\",\"type\":\"Plot\"},{\"attributes\":{},\"id\":\"3180\",\"type\":\"SaveTool\"},{\"attributes\":{\"months\":[0,1,2,3,4,5,6,7,8,9,10,11]},\"id\":\"3211\",\"type\":\"MonthsTicker\"},{\"attributes\":{\"base\":60,\"mantissas\":[1,2,5,10,15,20,30],\"max_interval\":1800000.0,\"min_interval\":1000.0,\"num_minor_ticks\":0},\"id\":\"3205\",\"type\":\"AdaptiveTicker\"},{\"attributes\":{\"months\":[0,2,4,6,8,10]},\"id\":\"3212\",\"type\":\"MonthsTicker\"},{\"attributes\":{\"bottom_units\":\"screen\",\"fill_alpha\":0.5,\"fill_color\":\"lightgrey\",\"left_units\":\"screen\",\"level\":\"overlay\",\"line_alpha\":1.0,\"line_color\":\"black\",\"line_dash\":[4,4],\"line_width\":2,\"render_mode\":\"css\",\"right_units\":\"screen\",\"top_units\":\"screen\"},\"id\":\"3183\",\"type\":\"BoxAnnotation\"},{\"attributes\":{\"source\":{\"id\":\"3244\"}},\"id\":\"3249\",\"type\":\"CDSView\"},{\"attributes\":{\"months\":[0,4,8]},\"id\":\"3213\",\"type\":\"MonthsTicker\"},{\"attributes\":{},\"id\":\"3271\",\"type\":\"Selection\"},{\"attributes\":{},\"id\":\"3215\",\"type\":\"YearsTicker\"},{\"attributes\":{\"label\":{\"value\":\"7-day rolling avg (NoHo)\"},\"renderers\":[{\"id\":\"3248\"}]},\"id\":\"3272\",\"type\":\"LegendItem\"},{\"attributes\":{\"months\":[0,6]},\"id\":\"3214\",\"type\":\"MonthsTicker\"},{\"attributes\":{\"items\":[{\"id\":\"3217\"},{\"id\":\"3243\"},{\"id\":\"3272\"}]},\"id\":\"3216\",\"type\":\"Legend\"},{\"attributes\":{\"mantissas\":[1,2,5],\"max_interval\":500.0,\"num_minor_ticks\":0},\"id\":\"3204\",\"type\":\"AdaptiveTicker\"},{\"attributes\":{\"label\":{\"value\":\"Daily new cases\"},\"renderers\":[{\"id\":\"3196\"}]},\"id\":\"3217\",\"type\":\"LegendItem\"},{\"attributes\":{\"data\":{\"confirmed_cases\":{\"__ndarray__\":\"AAAAAAAA+H8AAAAAAAAAAAAAAAAAAAAAAAAAAAAA8D8AAAAAAAAAAAAAAAAAAAAAAAAAAAAA8D8AAAAAAAAIQAAAAAAAAPA/AAAAAAAAJEAAAAAAAAAAQAAAAAAAAABAAAAAAAAAGEAAAAAAAAAoQAAAAAAAAABAAAAAAAAAIkAAAAAAAAAmQAAAAAAAACJAAAAAAAAAHEAAAAAAAAAAQAAAAAAAABBAAAAAAAAAAAAAAAAAAAAqQAAAAAAAABBAAAAAAAAAAEAAAAAAAADwPwAAAAAAABRAAAAAAAAAEEAAAAAAAAAUQAAAAAAAABBAAAAAAAAAKkAAAAAAAAAAAAAAAAAAABxAAAAAAAAAJEAAAAAAAAAzQAAAAAAAADJAAAAAAAAALkAAAAAAAAAUQAAAAAAAACZAAAAAAAAACEAAAAAAAAAQQAAAAAAAACBAAAAAAAAAAAAAAAAAAAAcQAAAAAAAACZAAAAAAAAAEEAAAAAAAAAQQAAAAAAAACRAAAAAAAAAKkAAAAAAAAAUQAAAAAAAAAhAAAAAAAAAIEAAAAAAAAAQQAAAAAAAAPA/AAAAAAAAJEAAAAAAAAAQQAAAAAAAACZAAAAAAAAAAAAAAAAAAAAqQAAAAAAAAAhAAAAAAAAAFEAAAAAAAAAYQAAAAAAAAAAAAAAAAAAAHEAAAAAAAAAUQAAAAAAAAABAAAAAAAAA8D8AAAAAAAAiQAAAAAAAACRAAAAAAAAACEAAAAAAAADwPwAAAAAAAPA/AAAAAAAAEEAAAAAAAAAIQAAAAAAAAABAAAAAAAAA8D8AAAAAAAAAAAAAAAAAAAhAAAAAAAAAAAAAAAAAAADwPwAAAAAAACJAAAAAAAAA8D8AAAAAAAAUQAAAAAAAAABAAAAAAAAAFEAAAAAAAAAUQAAAAAAAABRAAAAAAAAAAEAAAAAAAAAAQAAAAAAAAABAAAAAAAAAMEAAAAAAAAAAQAAAAAAAACJAAAAAAAAAGEA=\",\"dtype\":\"float64\",\"shape\":[94]},\"date\":{\"__ndarray__\":\"AAAAbwEPd0IAAMDUUw93QgAAgDqmD3dCAABAoPgPd0IAAAAGSxB3QgAAwGudEHdCAACA0e8Qd0IAAEA3QhF3QgAAAJ2UEXdCAADAAucRd0IAAIBoORJ3QgAAQM6LEndCAAAANN4Sd0IAAMCZMBN3QgAAgP+CE3dCAABAZdUTd0IAAADLJxR3QgAAwDB6FHdCAACAlswUd0IAAED8HhV3QgAAAGJxFXdCAADAx8MVd0IAAIAtFhZ3QgAAQJNoFndCAAAA+boWd0IAAMBeDRd3QgAAgMRfF3dCAABAKrIXd0IAAACQBBh3QgAAwPVWGHdCAACAW6kYd0IAAEDB+xh3QgAAACdOGXdCAADAjKAZd0IAAIDy8hl3QgAAQFhFGndCAAAAvpcad0IAAMAj6hp3QgAAgIk8G3dCAABA744bd0IAAABV4Rt3QgAAwLozHHdCAACAIIYcd0IAAECG2Bx3QgAAAOwqHXdCAADAUX0dd0IAAIC3zx13QgAAQB0iHndCAAAAg3Qed0IAAMDoxh53QgAAgE4ZH3dCAABAtGsfd0IAAAAavh93QgAAwH8QIHdCAACA5WIgd0IAAEBLtSB3QgAAALEHIXdCAADAFlohd0IAAIB8rCF3QgAAQOL+IXdCAAAASFEid0IAAMCtoyJ3QgAAgBP2IndCAABAeUgjd0IAAADfmiN3QgAAwETtI3dCAACAqj8kd0IAAEAQkiR3QgAAAHbkJHdCAADA2zYld0IAAIBBiSV3QgAAQKfbJXdCAAAADS4md0IAAMBygCZ3QgAAgNjSJndCAABAPiUnd0IAAACkdyd3QgAAwAnKJ3dCAACAbxwod0IAAEDVbih3QgAAADvBKHdCAADAoBMpd0IAAIAGZil3QgAAQGy4KXdCAAAA0goqd0IAAMA3XSp3QgAAgJ2vKndCAABAAwIrd0IAAABpVCt3QgAAwM6mK3dCAACANPkrd0IAAECaSyx3QgAAAACeLHdCAADAZfAsd0I=\",\"dtype\":\"float64\",\"shape\":[94]},\"index\":[0,1,2,3,4,5,6,7,8,9,10,11,12,13,14,15,16,17,18,19,20,21,22,23,24,25,26,27,28,29,30,31,32,33,34,35,36,37,38,39,40,41,42,43,44,45,46,47,48,49,50,51,52,53,54,55,56,57,58,59,60,61,62,63,64,65,66,67,68,69,70,71,72,73,74,75,76,77,78,79,80,81,82,83,84,85,86,87,88,89,90,91,92,93]},\"selected\":{\"id\":\"3242\"},\"selection_policy\":{\"id\":\"3241\"}},\"id\":\"3191\",\"type\":\"ColumnDataSource\"},{\"attributes\":{},\"id\":\"3449\",\"type\":\"UnionRenderers\"},{\"attributes\":{},\"id\":\"3270\",\"type\":\"UnionRenderers\"},{\"attributes\":{\"source\":{\"id\":\"3191\"}},\"id\":\"3197\",\"type\":\"CDSView\"},{\"attributes\":{},\"id\":\"3450\",\"type\":\"Selection\"},{\"attributes\":{},\"id\":\"3202\",\"type\":\"BasicTickFormatter\"},{\"attributes\":{},\"id\":\"3241\",\"type\":\"UnionRenderers\"},{\"attributes\":{\"fill_alpha\":{\"value\":0.8},\"fill_color\":{\"value\":\"green\"},\"line_alpha\":{\"value\":0.8},\"line_color\":{\"value\":\"green\"},\"top\":{\"field\":\"confirmed_cases\"},\"width\":{\"value\":0.4},\"x\":{\"field\":\"date\"}},\"id\":\"3194\",\"type\":\"VBar\"},{\"attributes\":{\"source\":{\"id\":\"3192\"}},\"id\":\"3222\",\"type\":\"CDSView\"},{\"attributes\":{},\"id\":\"3174\",\"type\":\"BasicTicker\"},{\"attributes\":{\"data_source\":{\"id\":\"3192\"},\"glyph\":{\"id\":\"3219\"},\"hover_glyph\":null,\"muted_glyph\":null,\"nonselection_glyph\":{\"id\":\"3220\"},\"selection_glyph\":null,\"view\":{\"id\":\"3222\"}},\"id\":\"3221\",\"type\":\"GlyphRenderer\"},{\"attributes\":{\"line_alpha\":0.1,\"line_color\":\"navy\",\"line_width\":5,\"x\":{\"field\":\"date\"},\"y\":{\"field\":\"confirmed_cases\"}},\"id\":\"3220\",\"type\":\"Line\"},{\"attributes\":{},\"id\":\"3167\",\"type\":\"LinearScale\"},{\"attributes\":{\"data_source\":{\"id\":\"3191\"},\"glyph\":{\"id\":\"3194\"},\"hover_glyph\":null,\"muted_glyph\":null,\"nonselection_glyph\":{\"id\":\"3195\"},\"selection_glyph\":null,\"view\":{\"id\":\"3197\"}},\"id\":\"3196\",\"type\":\"GlyphRenderer\"},{\"attributes\":{},\"id\":\"3165\",\"type\":\"LinearScale\"},{\"attributes\":{\"overlay\":{\"id\":\"3183\"}},\"id\":\"3179\",\"type\":\"BoxZoomTool\"},{\"attributes\":{},\"id\":\"3200\",\"type\":\"DatetimeTickFormatter\"},{\"attributes\":{},\"id\":\"3161\",\"type\":\"DataRange1d\"},{\"attributes\":{},\"id\":\"3177\",\"type\":\"PanTool\"},{\"attributes\":{\"line_alpha\":0.3,\"line_color\":\"navy\",\"line_width\":5,\"x\":{\"field\":\"date\"},\"y\":{\"field\":\"confirmed_cases\"}},\"id\":\"3219\",\"type\":\"Line\"},{\"attributes\":{\"active_drag\":\"auto\",\"active_inspect\":\"auto\",\"active_multi\":null,\"active_scroll\":\"auto\",\"active_tap\":\"auto\",\"tools\":[{\"id\":\"3177\"},{\"id\":\"3178\"},{\"id\":\"3179\"},{\"id\":\"3180\"},{\"id\":\"3181\"},{\"id\":\"3182\"}]},\"id\":\"3184\",\"type\":\"Toolbar\"},{\"attributes\":{\"fill_alpha\":{\"value\":0.1},\"fill_color\":{\"value\":\"green\"},\"line_alpha\":{\"value\":0.1},\"line_color\":{\"value\":\"green\"},\"top\":{\"field\":\"confirmed_cases\"},\"width\":{\"value\":0.4},\"x\":{\"field\":\"date\"}},\"id\":\"3195\",\"type\":\"VBar\"},{\"attributes\":{},\"id\":\"3163\",\"type\":\"DataRange1d\"},{\"attributes\":{\"formatter\":{\"id\":\"3200\"},\"ticker\":{\"id\":\"3170\"}},\"id\":\"3169\",\"type\":\"DatetimeAxis\"},{\"attributes\":{\"data\":{\"confirmed_cases\":{\"__ndarray__\":\"AAAAAAAA+H8AAAAAAAAAAAAAAAAAAAAAVVVVVVVV1T8AAAAAAADQP5qZmZmZmck/VVVVVVVV1T+3bdu2bdvmP9u2bdu2bes/kiRJkiRJAkDbtm3btm0DQG7btm3btgVAJUmSJEmSDEAlSZIkSZIUQAAAAAAAABRAJUmSJEmSGEBJkiRJkiQZQEmSJEmSJB1AAAAAAAAAIEBu27Zt27YdQEmSJEmSJBlAAAAAAAAAGECSJEmSJEkaQJIkSZIkSRZAkiRJkiRJEkBu27Zt27YNQCVJkiRJkhBAJUmSJEmSEEDbtm3btm0TQCVJkiRJkgxA27Zt27ZtE0CSJEmSJEkSQG7btm3bthVAJUmSJEmSGEAlSZIkSZIgQJIkSZIkSSRA27Zt27ZtJ0BJkiRJkiQlQJIkSZIkSShASZIkSZIkJ0Dbtm3btm0lQJIkSZIkSSJAkiRJkiRJGkBu27Zt27YVQEmSJEmSJBlASZIkSZIkFUBu27Zt27YVQEmSJEmSJBlAAAAAAAAAHEC3bdu2bdseQCVJkiRJkhxAt23btm3bGkC3bdu2bdsaQEmSJEmSJBlASZIkSZIkGUAAAAAAAAAUQNu2bdu2bRdAbtu2bdu2FUAlSZIkSZIYQAAAAAAAABhAkiRJkiRJGkAAAAAAAAAYQG7btm3bthVA27Zt27ZtE0CSJEmSJEkWQAAAAAAAABBAbtu2bdu2DUBJkiRJkiQRQNu2bdu2bRNASZIkSZIkFUBu27Zt27YRQLdt27Zt2w5AJUmSJEmSEEBu27Zt27YRQNu2bdu2bQtASZIkSZIkAUDbtm3btm37PwAAAAAAAABAbtu2bdu2/T+3bdu2bdv2P5IkSZIkSQJASZIkSZIkAUBu27Zt27YFQAAAAAAAAAhAkiRJkiRJCkAAAAAAAAAQQJIkSZIkSRJAJUmSJEmSDEBu27Zt27YNQJIkSZIkSQpASZIkSZIkFUDbtm3btm0TQG7btm3bthVAkiRJkiRJFkA=\",\"dtype\":\"float64\",\"shape\":[94]},\"date\":{\"__ndarray__\":\"AAAAbwEPd0IAAMDUUw93QgAAgDqmD3dCAABAoPgPd0IAAAAGSxB3QgAAwGudEHdCAACA0e8Qd0IAAEA3QhF3QgAAAJ2UEXdCAADAAucRd0IAAIBoORJ3QgAAQM6LEndCAAAANN4Sd0IAAMCZMBN3QgAAgP+CE3dCAABAZdUTd0IAAADLJxR3QgAAwDB6FHdCAACAlswUd0IAAED8HhV3QgAAAGJxFXdCAADAx8MVd0IAAIAtFhZ3QgAAQJNoFndCAAAA+boWd0IAAMBeDRd3QgAAgMRfF3dCAABAKrIXd0IAAACQBBh3QgAAwPVWGHdCAACAW6kYd0IAAEDB+xh3QgAAACdOGXdCAADAjKAZd0IAAIDy8hl3QgAAQFhFGndCAAAAvpcad0IAAMAj6hp3QgAAgIk8G3dCAABA744bd0IAAABV4Rt3QgAAwLozHHdCAACAIIYcd0IAAECG2Bx3QgAAAOwqHXdCAADAUX0dd0IAAIC3zx13QgAAQB0iHndCAAAAg3Qed0IAAMDoxh53QgAAgE4ZH3dCAABAtGsfd0IAAAAavh93QgAAwH8QIHdCAACA5WIgd0IAAEBLtSB3QgAAALEHIXdCAADAFlohd0IAAIB8rCF3QgAAQOL+IXdCAAAASFEid0IAAMCtoyJ3QgAAgBP2IndCAABAeUgjd0IAAADfmiN3QgAAwETtI3dCAACAqj8kd0IAAEAQkiR3QgAAAHbkJHdCAADA2zYld0IAAIBBiSV3QgAAQKfbJXdCAAAADS4md0IAAMBygCZ3QgAAgNjSJndCAABAPiUnd0IAAACkdyd3QgAAwAnKJ3dCAACAbxwod0IAAEDVbih3QgAAADvBKHdCAADAoBMpd0IAAIAGZil3QgAAQGy4KXdCAAAA0goqd0IAAMA3XSp3QgAAgJ2vKndCAABAAwIrd0IAAABpVCt3QgAAwM6mK3dCAACANPkrd0IAAECaSyx3QgAAAACeLHdCAADAZfAsd0I=\",\"dtype\":\"float64\",\"shape\":[94]},\"index\":[0,1,2,3,4,5,6,7,8,9,10,11,12,13,14,15,16,17,18,19,20,21,22,23,24,25,26,27,28,29,30,31,32,33,34,35,36,37,38,39,40,41,42,43,44,45,46,47,48,49,50,51,52,53,54,55,56,57,58,59,60,61,62,63,64,65,66,67,68,69,70,71,72,73,74,75,76,77,78,79,80,81,82,83,84,85,86,87,88,89,90,91,92,93]},\"selected\":{\"id\":\"3271\"},\"selection_policy\":{\"id\":\"3270\"}},\"id\":\"3192\",\"type\":\"ColumnDataSource\"},{\"attributes\":{},\"id\":\"3242\",\"type\":\"Selection\"},{\"attributes\":{\"base\":24,\"mantissas\":[1,2,4,6,8,12],\"max_interval\":43200000.0,\"min_interval\":3600000.0,\"num_minor_ticks\":0},\"id\":\"3206\",\"type\":\"AdaptiveTicker\"},{\"attributes\":{\"label\":{\"value\":\"7-day rolling avg (Burbank)\"},\"renderers\":[{\"id\":\"3221\"}]},\"id\":\"3243\",\"type\":\"LegendItem\"},{\"attributes\":{\"text\":\"Daily new cases --Burbank\"},\"id\":\"3159\",\"type\":\"Title\"},{\"attributes\":{\"num_minor_ticks\":5,\"tickers\":[{\"id\":\"3204\"},{\"id\":\"3205\"},{\"id\":\"3206\"},{\"id\":\"3207\"},{\"id\":\"3208\"},{\"id\":\"3209\"},{\"id\":\"3210\"},{\"id\":\"3211\"},{\"id\":\"3212\"},{\"id\":\"3213\"},{\"id\":\"3214\"},{\"id\":\"3215\"}]},\"id\":\"3170\",\"type\":\"DatetimeTicker\"},{\"attributes\":{\"data_source\":{\"id\":\"3244\"},\"glyph\":{\"id\":\"3246\"},\"hover_glyph\":null,\"muted_glyph\":null,\"nonselection_glyph\":{\"id\":\"3247\"},\"selection_glyph\":null,\"view\":{\"id\":\"3249\"}},\"id\":\"3248\",\"type\":\"GlyphRenderer\"},{\"attributes\":{},\"id\":\"3178\",\"type\":\"WheelZoomTool\"},{\"attributes\":{\"days\":[1,2,3,4,5,6,7,8,9,10,11,12,13,14,15,16,17,18,19,20,21,22,23,24,25,26,27,28,29,30,31]},\"id\":\"3207\",\"type\":\"DaysTicker\"},{\"attributes\":{\"line_alpha\":0.1,\"line_color\":\"red\",\"line_width\":5,\"x\":{\"field\":\"date\"},\"y\":{\"field\":\"confirmed_cases\"}},\"id\":\"3247\",\"type\":\"Line\"},{\"attributes\":{\"days\":[1,4,7,10,13,16,19,22,25,28]},\"id\":\"3208\",\"type\":\"DaysTicker\"},{\"attributes\":{\"axis\":{\"id\":\"3169\"},\"ticker\":null},\"id\":\"3172\",\"type\":\"Grid\"},{\"attributes\":{\"line_alpha\":0.2,\"line_color\":\"red\",\"line_width\":5,\"x\":{\"field\":\"date\"},\"y\":{\"field\":\"confirmed_cases\"}},\"id\":\"3246\",\"type\":\"Line\"},{\"attributes\":{\"formatter\":{\"id\":\"3202\"},\"ticker\":{\"id\":\"3174\"}},\"id\":\"3173\",\"type\":\"LinearAxis\"},{\"attributes\":{\"days\":[1,8,15,22]},\"id\":\"3209\",\"type\":\"DaysTicker\"},{\"attributes\":{},\"id\":\"3181\",\"type\":\"ResetTool\"},{\"attributes\":{},\"id\":\"3182\",\"type\":\"HelpTool\"},{\"attributes\":{\"data\":{\"confirmed_cases\":{\"__ndarray__\":\"AAAAAAAA+H8AAAAAAADwPwAAAAAAAPA/VVVVVVVV9T8AAAAAAADwP5qZmZmZmek/VVVVVVVV9T8lSZIkSZL0PyVJkiRJkvQ/27Zt27Zt+z9u27Zt27b9PwAAAAAAAAhAJUmSJEmSDEAlSZIkSZIMQCVJkiRJkhBA27Zt27ZtE0AAAAAAAAAYQAAAAAAAABxASZIkSZIkIUDbtm3btm0hQAAAAAAAACBAt23btm3bIEAlSZIkSZIgQJIkSZIkSRpAkiRJkiRJGkC3bdu2bdsSQEmSJEmSJBFASZIkSZIkFUC3bdu2bdsWQAAAAAAAABhAbtu2bdu2GUC3bdu2bdsWQCVJkiRJkhhAJUmSJEmSGECSJEmSJEkgQG7btm3btiFASZIkSZIkJ0AAAAAAAAAqQJIkSZIkSS5AAAAAAAAAMEAAAAAAAAAxQAAAAAAAADJAkiRJkiRJMEBJkiRJkiQvQNu2bdu2bStAbtu2bdu2L0C3bdu2bdsuQEmSJEmSJC9ASZIkSZIkKUBu27Zt27YwQNu2bdu2bS9At23btm3bMUAlSZIkSZIqQLdt27Zt2ypA27Zt27ZtKUAAAAAAAAAqQAAAAAAAACRAJUmSJEmSJEAAAAAAAAAkQEmSJEmSJCNAJUmSJEmSJkCSJEmSJEkmQG7btm3btiVAt23btm3bIkAlSZIkSZIcQAAAAAAAACBA27Zt27ZtIUC3bdu2bdseQG7btm3btiFA27Zt27ZtIUCSJEmSJEkoQCVJkiRJkipAbtu2bdu2J0BJkiRJkiQrQG7btm3btitAbtu2bdu2LUC3bdu2bdsuQJIkSZIkSSxAbtu2bdu2LUBJkiRJkiQtQLdt27Zt2ypAt23btm3bJkCSJEmSJEkmQLdt27Zt2yZAkiRJkiRJJkBJkiRJkiQnQCVJkiRJkixASZIkSZIkLUBu27Zt27YwQNu2bdu2bS9At23btm3bLEDbtm3btm0rQJIkSZIkSSxASZIkSZIkKUBu27Zt27YrQG7btm3btitA\",\"dtype\":\"float64\",\"shape\":[96]},\"date\":{\"__ndarray__\":\"AACAo1wOd0IAAEAJrw53QgAAAG8BD3dCAADA1FMPd0IAAIA6pg93QgAAQKD4D3dCAAAABksQd0IAAMBrnRB3QgAAgNHvEHdCAABAN0IRd0IAAACdlBF3QgAAwALnEXdCAACAaDkSd0IAAEDOixJ3QgAAADTeEndCAADAmTATd0IAAID/ghN3QgAAQGXVE3dCAAAAyycUd0IAAMAwehR3QgAAgJbMFHdCAABA/B4Vd0IAAABicRV3QgAAwMfDFXdCAACALRYWd0IAAECTaBZ3QgAAAPm6FndCAADAXg0Xd0IAAIDEXxd3QgAAQCqyF3dCAAAAkAQYd0IAAMD1Vhh3QgAAgFupGHdCAABAwfsYd0IAAAAnThl3QgAAwIygGXdCAACA8vIZd0IAAEBYRRp3QgAAAL6XGndCAADAI+oad0IAAICJPBt3QgAAQO+OG3dCAAAAVeEbd0IAAMC6Mxx3QgAAgCCGHHdCAABAhtgcd0IAAADsKh13QgAAwFF9HXdCAACAt88dd0IAAEAdIh53QgAAAIN0HndCAADA6MYed0IAAIBOGR93QgAAQLRrH3dCAAAAGr4fd0IAAMB/ECB3QgAAgOViIHdCAABAS7Ugd0IAAACxByF3QgAAwBZaIXdCAACAfKwhd0IAAEDi/iF3QgAAAEhRIndCAADAraMid0IAAIAT9iJ3QgAAQHlII3dCAAAA35ojd0IAAMBE7SN3QgAAgKo/JHdCAABAEJIkd0IAAAB25CR3QgAAwNs2JXdCAACAQYkld0IAAECn2yV3QgAAAA0uJndCAADAcoAmd0IAAIDY0iZ3QgAAQD4lJ3dCAAAApHcnd0IAAMAJyid3QgAAgG8cKHdCAABA1W4od0IAAAA7wSh3QgAAwKATKXdCAACABmYpd0IAAEBsuCl3QgAAANIKKndCAADAN10qd0IAAICdryp3QgAAQAMCK3dCAAAAaVQrd0IAAMDOpit3QgAAgDT5K3dCAABAmkssd0IAAAAAnix3QgAAwGXwLHdC\",\"dtype\":\"float64\",\"shape\":[96]},\"index\":[0,1,2,3,4,5,6,7,8,9,10,11,12,13,14,15,16,17,18,19,20,21,22,23,24,25,26,27,28,29,30,31,32,33,34,35,36,37,38,39,40,41,42,43,44,45,46,47,48,49,50,51,52,53,54,55,56,57,58,59,60,61,62,63,64,65,66,67,68,69,70,71,72,73,74,75,76,77,78,79,80,81,82,83,84,85,86,87,88,89,90,91,92,93,94,95]},\"selected\":{\"id\":\"3450\"},\"selection_policy\":{\"id\":\"3449\"}},\"id\":\"3244\",\"type\":\"ColumnDataSource\"},{\"attributes\":{\"days\":[1,15]},\"id\":\"3210\",\"type\":\"DaysTicker\"},{\"attributes\":{\"axis\":{\"id\":\"3173\"},\"dimension\":1,\"ticker\":null},\"id\":\"3176\",\"type\":\"Grid\"}],\"root_ids\":[\"3158\"]},\"title\":\"Bokeh Application\",\"version\":\"2.0.2\"}};\n",
       "  var render_items = [{\"docid\":\"72673e07-cf31-47e6-8931-cc57e72489db\",\"root_ids\":[\"3158\"],\"roots\":{\"3158\":\"0fb59b9f-d7e2-4ed2-8c83-bb7317264893\"}}];\n",
       "  root.Bokeh.embed.embed_items_notebook(docs_json, render_items);\n",
       "\n",
       "  }\n",
       "  if (root.Bokeh !== undefined) {\n",
       "    embed_document(root);\n",
       "  } else {\n",
       "    var attempts = 0;\n",
       "    var timer = setInterval(function(root) {\n",
       "      if (root.Bokeh !== undefined) {\n",
       "        clearInterval(timer);\n",
       "        embed_document(root);\n",
       "      } else {\n",
       "        attempts++;\n",
       "        if (attempts > 100) {\n",
       "          clearInterval(timer);\n",
       "          console.log(\"Bokeh: ERROR: Unable to run BokehJS code because BokehJS library is missing\");\n",
       "        }\n",
       "      }\n",
       "    }, 10, root)\n",
       "  }\n",
       "})(window);"
      ],
      "application/vnd.bokehjs_exec.v0+json": ""
     },
     "metadata": {
      "application/vnd.bokehjs_exec.v0+json": {
       "id": "3158"
      }
     },
     "output_type": "display_data"
    },
    {
     "data": {
      "text/html": [
       "\n",
       "\n",
       "\n",
       "\n",
       "\n",
       "\n",
       "  <div class=\"bk-root\" id=\"f0d5f55a-9f13-45d5-8d3e-0714966c0806\" data-root-id=\"3595\"></div>\n"
      ]
     },
     "metadata": {},
     "output_type": "display_data"
    },
    {
     "data": {
      "application/javascript": [
       "(function(root) {\n",
       "  function embed_document(root) {\n",
       "    \n",
       "  var docs_json = {\"03e46699-0d7c-4779-a0bd-6284c40edde9\":{\"roots\":{\"references\":[{\"attributes\":{\"below\":[{\"id\":\"3606\"}],\"center\":[{\"id\":\"3609\"},{\"id\":\"3613\"},{\"id\":\"3653\"}],\"left\":[{\"id\":\"3610\"}],\"plot_height\":400,\"plot_width\":1000,\"renderers\":[{\"id\":\"3633\"},{\"id\":\"3658\"},{\"id\":\"3685\"}],\"title\":{\"id\":\"3596\"},\"toolbar\":{\"id\":\"3621\"},\"x_range\":{\"id\":\"3598\"},\"x_scale\":{\"id\":\"3602\"},\"y_range\":{\"id\":\"3600\"},\"y_scale\":{\"id\":\"3604\"}},\"id\":\"3595\",\"subtype\":\"Figure\",\"type\":\"Plot\"},{\"attributes\":{\"line_alpha\":0.1,\"line_color\":\"navy\",\"line_width\":5,\"x\":{\"field\":\"date\"},\"y\":{\"field\":\"confirmed_cases\"}},\"id\":\"3657\",\"type\":\"Line\"},{\"attributes\":{},\"id\":\"3602\",\"type\":\"LinearScale\"},{\"attributes\":{\"overlay\":{\"id\":\"3620\"}},\"id\":\"3616\",\"type\":\"BoxZoomTool\"},{\"attributes\":{\"days\":[1,8,15,22]},\"id\":\"3646\",\"type\":\"DaysTicker\"},{\"attributes\":{},\"id\":\"3600\",\"type\":\"DataRange1d\"},{\"attributes\":{},\"id\":\"3617\",\"type\":\"SaveTool\"},{\"attributes\":{\"days\":[1,15]},\"id\":\"3647\",\"type\":\"DaysTicker\"},{\"attributes\":{},\"id\":\"3618\",\"type\":\"ResetTool\"},{\"attributes\":{\"months\":[0,1,2,3,4,5,6,7,8,9,10,11]},\"id\":\"3648\",\"type\":\"MonthsTicker\"},{\"attributes\":{\"data_source\":{\"id\":\"3681\"},\"glyph\":{\"id\":\"3683\"},\"hover_glyph\":null,\"muted_glyph\":null,\"nonselection_glyph\":{\"id\":\"3684\"},\"selection_glyph\":null,\"view\":{\"id\":\"3686\"}},\"id\":\"3685\",\"type\":\"GlyphRenderer\"},{\"attributes\":{\"months\":[0,2,4,6,8,10]},\"id\":\"3649\",\"type\":\"MonthsTicker\"},{\"attributes\":{\"active_drag\":\"auto\",\"active_inspect\":\"auto\",\"active_multi\":null,\"active_scroll\":\"auto\",\"active_tap\":\"auto\",\"tools\":[{\"id\":\"3614\"},{\"id\":\"3615\"},{\"id\":\"3616\"},{\"id\":\"3617\"},{\"id\":\"3618\"},{\"id\":\"3619\"}]},\"id\":\"3621\",\"type\":\"Toolbar\"},{\"attributes\":{\"months\":[0,4,8]},\"id\":\"3650\",\"type\":\"MonthsTicker\"},{\"attributes\":{},\"id\":\"3911\",\"type\":\"Selection\"},{\"attributes\":{\"text\":\"Daily new cases --Encino\"},\"id\":\"3596\",\"type\":\"Title\"},{\"attributes\":{\"line_alpha\":0.2,\"line_color\":\"red\",\"line_width\":5,\"x\":{\"field\":\"date\"},\"y\":{\"field\":\"confirmed_cases\"}},\"id\":\"3683\",\"type\":\"Line\"},{\"attributes\":{\"days\":[1,4,7,10,13,16,19,22,25,28]},\"id\":\"3645\",\"type\":\"DaysTicker\"},{\"attributes\":{},\"id\":\"3619\",\"type\":\"HelpTool\"},{\"attributes\":{\"source\":{\"id\":\"3629\"}},\"id\":\"3659\",\"type\":\"CDSView\"},{\"attributes\":{\"data\":{\"confirmed_cases\":{\"__ndarray__\":\"AAAAAAAA+H8AAAAAAADwPwAAAAAAAPA/VVVVVVVV9T8AAAAAAADwP5qZmZmZmek/VVVVVVVV9T8lSZIkSZL0PyVJkiRJkvQ/27Zt27Zt+z9u27Zt27b9PwAAAAAAAAhAJUmSJEmSDEAlSZIkSZIMQCVJkiRJkhBA27Zt27ZtE0AAAAAAAAAYQAAAAAAAABxASZIkSZIkIUDbtm3btm0hQAAAAAAAACBAt23btm3bIEAlSZIkSZIgQJIkSZIkSRpAkiRJkiRJGkC3bdu2bdsSQEmSJEmSJBFASZIkSZIkFUC3bdu2bdsWQAAAAAAAABhAbtu2bdu2GUC3bdu2bdsWQCVJkiRJkhhAJUmSJEmSGECSJEmSJEkgQG7btm3btiFASZIkSZIkJ0AAAAAAAAAqQJIkSZIkSS5AAAAAAAAAMEAAAAAAAAAxQAAAAAAAADJAkiRJkiRJMEBJkiRJkiQvQNu2bdu2bStAbtu2bdu2L0C3bdu2bdsuQEmSJEmSJC9ASZIkSZIkKUBu27Zt27YwQNu2bdu2bS9At23btm3bMUAlSZIkSZIqQLdt27Zt2ypA27Zt27ZtKUAAAAAAAAAqQAAAAAAAACRAJUmSJEmSJEAAAAAAAAAkQEmSJEmSJCNAJUmSJEmSJkCSJEmSJEkmQG7btm3btiVAt23btm3bIkAlSZIkSZIcQAAAAAAAACBA27Zt27ZtIUC3bdu2bdseQG7btm3btiFA27Zt27ZtIUCSJEmSJEkoQCVJkiRJkipAbtu2bdu2J0BJkiRJkiQrQG7btm3btitAbtu2bdu2LUC3bdu2bdsuQJIkSZIkSSxAbtu2bdu2LUBJkiRJkiQtQLdt27Zt2ypAt23btm3bJkCSJEmSJEkmQLdt27Zt2yZAkiRJkiRJJkBJkiRJkiQnQCVJkiRJkixASZIkSZIkLUBu27Zt27YwQNu2bdu2bS9At23btm3bLEDbtm3btm0rQJIkSZIkSSxASZIkSZIkKUBu27Zt27YrQG7btm3btitA\",\"dtype\":\"float64\",\"shape\":[96]},\"date\":{\"__ndarray__\":\"AACAo1wOd0IAAEAJrw53QgAAAG8BD3dCAADA1FMPd0IAAIA6pg93QgAAQKD4D3dCAAAABksQd0IAAMBrnRB3QgAAgNHvEHdCAABAN0IRd0IAAACdlBF3QgAAwALnEXdCAACAaDkSd0IAAEDOixJ3QgAAADTeEndCAADAmTATd0IAAID/ghN3QgAAQGXVE3dCAAAAyycUd0IAAMAwehR3QgAAgJbMFHdCAABA/B4Vd0IAAABicRV3QgAAwMfDFXdCAACALRYWd0IAAECTaBZ3QgAAAPm6FndCAADAXg0Xd0IAAIDEXxd3QgAAQCqyF3dCAAAAkAQYd0IAAMD1Vhh3QgAAgFupGHdCAABAwfsYd0IAAAAnThl3QgAAwIygGXdCAACA8vIZd0IAAEBYRRp3QgAAAL6XGndCAADAI+oad0IAAICJPBt3QgAAQO+OG3dCAAAAVeEbd0IAAMC6Mxx3QgAAgCCGHHdCAABAhtgcd0IAAADsKh13QgAAwFF9HXdCAACAt88dd0IAAEAdIh53QgAAAIN0HndCAADA6MYed0IAAIBOGR93QgAAQLRrH3dCAAAAGr4fd0IAAMB/ECB3QgAAgOViIHdCAABAS7Ugd0IAAACxByF3QgAAwBZaIXdCAACAfKwhd0IAAEDi/iF3QgAAAEhRIndCAADAraMid0IAAIAT9iJ3QgAAQHlII3dCAAAA35ojd0IAAMBE7SN3QgAAgKo/JHdCAABAEJIkd0IAAAB25CR3QgAAwNs2JXdCAACAQYkld0IAAECn2yV3QgAAAA0uJndCAADAcoAmd0IAAIDY0iZ3QgAAQD4lJ3dCAAAApHcnd0IAAMAJyid3QgAAgG8cKHdCAABA1W4od0IAAAA7wSh3QgAAwKATKXdCAACABmYpd0IAAEBsuCl3QgAAANIKKndCAADAN10qd0IAAICdryp3QgAAQAMCK3dCAAAAaVQrd0IAAMDOpit3QgAAgDT5K3dCAABAmkssd0IAAAAAnix3QgAAwGXwLHdC\",\"dtype\":\"float64\",\"shape\":[96]},\"index\":[0,1,2,3,4,5,6,7,8,9,10,11,12,13,14,15,16,17,18,19,20,21,22,23,24,25,26,27,28,29,30,31,32,33,34,35,36,37,38,39,40,41,42,43,44,45,46,47,48,49,50,51,52,53,54,55,56,57,58,59,60,61,62,63,64,65,66,67,68,69,70,71,72,73,74,75,76,77,78,79,80,81,82,83,84,85,86,87,88,89,90,91,92,93,94,95]},\"selected\":{\"id\":\"3911\"},\"selection_policy\":{\"id\":\"3910\"}},\"id\":\"3681\",\"type\":\"ColumnDataSource\"},{\"attributes\":{\"months\":[0,6]},\"id\":\"3651\",\"type\":\"MonthsTicker\"},{\"attributes\":{\"data_source\":{\"id\":\"3628\"},\"glyph\":{\"id\":\"3631\"},\"hover_glyph\":null,\"muted_glyph\":null,\"nonselection_glyph\":{\"id\":\"3632\"},\"selection_glyph\":null,\"view\":{\"id\":\"3634\"}},\"id\":\"3633\",\"type\":\"GlyphRenderer\"},{\"attributes\":{\"mantissas\":[1,2,5],\"max_interval\":500.0,\"num_minor_ticks\":0},\"id\":\"3641\",\"type\":\"AdaptiveTicker\"},{\"attributes\":{\"label\":{\"value\":\"7-day rolling avg (Encino)\"},\"renderers\":[{\"id\":\"3658\"}]},\"id\":\"3680\",\"type\":\"LegendItem\"},{\"attributes\":{},\"id\":\"3652\",\"type\":\"YearsTicker\"},{\"attributes\":{},\"id\":\"3679\",\"type\":\"Selection\"},{\"attributes\":{\"days\":[1,2,3,4,5,6,7,8,9,10,11,12,13,14,15,16,17,18,19,20,21,22,23,24,25,26,27,28,29,30,31]},\"id\":\"3644\",\"type\":\"DaysTicker\"},{\"attributes\":{},\"id\":\"3614\",\"type\":\"PanTool\"},{\"attributes\":{\"items\":[{\"id\":\"3654\"},{\"id\":\"3680\"},{\"id\":\"3709\"}]},\"id\":\"3653\",\"type\":\"Legend\"},{\"attributes\":{\"data_source\":{\"id\":\"3629\"},\"glyph\":{\"id\":\"3656\"},\"hover_glyph\":null,\"muted_glyph\":null,\"nonselection_glyph\":{\"id\":\"3657\"},\"selection_glyph\":null,\"view\":{\"id\":\"3659\"}},\"id\":\"3658\",\"type\":\"GlyphRenderer\"},{\"attributes\":{\"bottom_units\":\"screen\",\"fill_alpha\":0.5,\"fill_color\":\"lightgrey\",\"left_units\":\"screen\",\"level\":\"overlay\",\"line_alpha\":1.0,\"line_color\":\"black\",\"line_dash\":[4,4],\"line_width\":2,\"render_mode\":\"css\",\"right_units\":\"screen\",\"top_units\":\"screen\"},\"id\":\"3620\",\"type\":\"BoxAnnotation\"},{\"attributes\":{},\"id\":\"3678\",\"type\":\"UnionRenderers\"},{\"attributes\":{},\"id\":\"3615\",\"type\":\"WheelZoomTool\"},{\"attributes\":{\"label\":{\"value\":\"Daily new cases\"},\"renderers\":[{\"id\":\"3633\"}]},\"id\":\"3654\",\"type\":\"LegendItem\"},{\"attributes\":{\"label\":{\"value\":\"7-day rolling avg (NoHo)\"},\"renderers\":[{\"id\":\"3685\"}]},\"id\":\"3709\",\"type\":\"LegendItem\"},{\"attributes\":{\"formatter\":{\"id\":\"3637\"},\"ticker\":{\"id\":\"3607\"}},\"id\":\"3606\",\"type\":\"DatetimeAxis\"},{\"attributes\":{\"line_alpha\":0.1,\"line_color\":\"red\",\"line_width\":5,\"x\":{\"field\":\"date\"},\"y\":{\"field\":\"confirmed_cases\"}},\"id\":\"3684\",\"type\":\"Line\"},{\"attributes\":{\"base\":60,\"mantissas\":[1,2,5,10,15,20,30],\"max_interval\":1800000.0,\"min_interval\":1000.0,\"num_minor_ticks\":0},\"id\":\"3642\",\"type\":\"AdaptiveTicker\"},{\"attributes\":{\"fill_alpha\":{\"value\":0.8},\"fill_color\":{\"value\":\"green\"},\"line_alpha\":{\"value\":0.8},\"line_color\":{\"value\":\"green\"},\"top\":{\"field\":\"confirmed_cases\"},\"width\":{\"value\":0.4},\"x\":{\"field\":\"date\"}},\"id\":\"3631\",\"type\":\"VBar\"},{\"attributes\":{\"data\":{\"confirmed_cases\":{\"__ndarray__\":\"AAAAAAAA+H8AAAAAAAAAQAAAAAAAAPA/AAAAAAAAAAAAAAAAAAAAQAAAAAAAAABAAAAAAAAAAAAAAAAAAAAAAAAAAAAAAABAAAAAAAAA8D8AAAAAAAAgQAAAAAAAAABAAAAAAAAACEAAAAAAAADwPwAAAAAAAABAAAAAAAAA8D8AAAAAAAAAQAAAAAAAAPA/AAAAAAAAAEAAAAAAAAAQQAAAAAAAAAAAAAAAAAAAAEAAAAAAAAAAAAAAAAAAAAhAAAAAAAAAAAAAAAAAAAAUQAAAAAAAAAAAAAAAAAAAAEAAAAAAAADwPwAAAAAAAPA/AAAAAAAACEAAAAAAAAAAAAAAAAAAAAhAAAAAAAAA8D8AAAAAAAAAAAAAAAAAAAhAAAAAAAAAJEAAAAAAAAAAAAAAAAAAAAAAAAAAAAAACEAAAAAAAAAAAAAAAAAAAAAAAAAAAAAACEAAAAAAAAAAQAAAAAAAAPA/AAAAAAAAAAAAAAAAAAAIQAAAAAAAAPA/AAAAAAAAAEAAAAAAAADwPwAAAAAAABRAAAAAAAAAAAAAAAAAAAAIQAAAAAAAAPA/AAAAAAAAEEAAAAAAAAAAAAAAAAAAAAAAAAAAAAAA8D8AAAAAAAAQQAAAAAAAAABAAAAAAAAAAAAAAAAAAAAIQAAAAAAAAPA/AAAAAAAACEAAAAAAAAAAAAAAAAAAAAAAAAAAAAAA8D8AAAAAAADwPwAAAAAAAAAAAAAAAAAAAAAAAAAAAADwPwAAAAAAAAhAAAAAAAAAAAAAAAAAAAAQQAAAAAAAAPA/AAAAAAAAEEAAAAAAAADwPwAAAAAAAAAAAAAAAAAACEAAAAAAAAAIQAAAAAAAAAhAAAAAAAAAEEAAAAAAAAAAAAAAAAAAAPA/AAAAAAAAAEAAAAAAAAAQQAAAAAAAAPA/AAAAAAAAAAAAAAAAAAAQQAAAAAAAAPA/AAAAAAAA8D8AAAAAAAAAAAAAAAAAAPA/AAAAAAAAAAAAAAAAAAAAQAAAAAAAAPA/AAAAAAAAGEA=\",\"dtype\":\"float64\",\"shape\":[97]},\"date\":{\"__ndarray__\":\"AADAPQoOd0IAAICjXA53QgAAQAmvDndCAAAAbwEPd0IAAMDUUw93QgAAgDqmD3dCAABAoPgPd0IAAAAGSxB3QgAAwGudEHdCAACA0e8Qd0IAAEA3QhF3QgAAAJ2UEXdCAADAAucRd0IAAIBoORJ3QgAAQM6LEndCAAAANN4Sd0IAAMCZMBN3QgAAgP+CE3dCAABAZdUTd0IAAADLJxR3QgAAwDB6FHdCAACAlswUd0IAAED8HhV3QgAAAGJxFXdCAADAx8MVd0IAAIAtFhZ3QgAAQJNoFndCAAAA+boWd0IAAMBeDRd3QgAAgMRfF3dCAABAKrIXd0IAAACQBBh3QgAAwPVWGHdCAACAW6kYd0IAAEDB+xh3QgAAACdOGXdCAADAjKAZd0IAAIDy8hl3QgAAQFhFGndCAAAAvpcad0IAAMAj6hp3QgAAgIk8G3dCAABA744bd0IAAABV4Rt3QgAAwLozHHdCAACAIIYcd0IAAECG2Bx3QgAAAOwqHXdCAADAUX0dd0IAAIC3zx13QgAAQB0iHndCAAAAg3Qed0IAAMDoxh53QgAAgE4ZH3dCAABAtGsfd0IAAAAavh93QgAAwH8QIHdCAACA5WIgd0IAAEBLtSB3QgAAALEHIXdCAADAFlohd0IAAIB8rCF3QgAAQOL+IXdCAAAASFEid0IAAMCtoyJ3QgAAgBP2IndCAABAeUgjd0IAAADfmiN3QgAAwETtI3dCAACAqj8kd0IAAEAQkiR3QgAAAHbkJHdCAADA2zYld0IAAIBBiSV3QgAAQKfbJXdCAAAADS4md0IAAMBygCZ3QgAAgNjSJndCAABAPiUnd0IAAACkdyd3QgAAwAnKJ3dCAACAbxwod0IAAEDVbih3QgAAADvBKHdCAADAoBMpd0IAAIAGZil3QgAAQGy4KXdCAAAA0goqd0IAAMA3XSp3QgAAgJ2vKndCAABAAwIrd0IAAABpVCt3QgAAwM6mK3dCAACANPkrd0IAAECaSyx3QgAAAACeLHdCAADAZfAsd0I=\",\"dtype\":\"float64\",\"shape\":[97]},\"index\":[0,1,2,3,4,5,6,7,8,9,10,11,12,13,14,15,16,17,18,19,20,21,22,23,24,25,26,27,28,29,30,31,32,33,34,35,36,37,38,39,40,41,42,43,44,45,46,47,48,49,50,51,52,53,54,55,56,57,58,59,60,61,62,63,64,65,66,67,68,69,70,71,72,73,74,75,76,77,78,79,80,81,82,83,84,85,86,87,88,89,90,91,92,93,94,95,96]},\"selected\":{\"id\":\"3679\"},\"selection_policy\":{\"id\":\"3678\"}},\"id\":\"3628\",\"type\":\"ColumnDataSource\"},{\"attributes\":{\"fill_alpha\":{\"value\":0.1},\"fill_color\":{\"value\":\"green\"},\"line_alpha\":{\"value\":0.1},\"line_color\":{\"value\":\"green\"},\"top\":{\"field\":\"confirmed_cases\"},\"width\":{\"value\":0.4},\"x\":{\"field\":\"date\"}},\"id\":\"3632\",\"type\":\"VBar\"},{\"attributes\":{\"source\":{\"id\":\"3628\"}},\"id\":\"3634\",\"type\":\"CDSView\"},{\"attributes\":{},\"id\":\"3639\",\"type\":\"BasicTickFormatter\"},{\"attributes\":{\"axis\":{\"id\":\"3610\"},\"dimension\":1,\"ticker\":null},\"id\":\"3613\",\"type\":\"Grid\"},{\"attributes\":{},\"id\":\"3598\",\"type\":\"DataRange1d\"},{\"attributes\":{},\"id\":\"3707\",\"type\":\"UnionRenderers\"},{\"attributes\":{\"line_alpha\":0.3,\"line_color\":\"navy\",\"line_width\":5,\"x\":{\"field\":\"date\"},\"y\":{\"field\":\"confirmed_cases\"}},\"id\":\"3656\",\"type\":\"Line\"},{\"attributes\":{},\"id\":\"3611\",\"type\":\"BasicTicker\"},{\"attributes\":{},\"id\":\"3637\",\"type\":\"DatetimeTickFormatter\"},{\"attributes\":{\"base\":24,\"mantissas\":[1,2,4,6,8,12],\"max_interval\":43200000.0,\"min_interval\":3600000.0,\"num_minor_ticks\":0},\"id\":\"3643\",\"type\":\"AdaptiveTicker\"},{\"attributes\":{\"formatter\":{\"id\":\"3639\"},\"ticker\":{\"id\":\"3611\"}},\"id\":\"3610\",\"type\":\"LinearAxis\"},{\"attributes\":{\"data\":{\"confirmed_cases\":{\"__ndarray__\":\"AAAAAAAA+H8AAAAAAAAAQAAAAAAAAPg/AAAAAAAA8D8AAAAAAAD0P2ZmZmZmZvY/q6qqqqqq8j8AAAAAAADwPwAAAAAAAPA/AAAAAAAA8D9JkiRJkiQBQEmSJEmSJAFAkiRJkiRJAkDbtm3btm0DQG7btm3btgVAJUmSJEmSBEBu27Zt27YFQNu2bdu2bfs/27Zt27Zt+z9u27Zt27b9P9u2bdu2bfs/27Zt27Zt+z9JkiRJkiT5P9u2bdu2bfs/SZIkSZIk+T8AAAAAAAAAQLdt27Zt2/Y/27Zt27Zt+z9JkiRJkiT5P9u2bdu2bfs/27Zt27Zt+z/btm3btm37P7dt27Zt2/Y/SZIkSZIk+T8lSZIkSZL0P0mSJEmSJPk/t23btm3bBkDbtm3btm0DQNu2bdu2bQNA27Zt27ZtA0CSJEmSJEkCQJIkSZIkSQJAkiRJkiRJAkCSJEmSJEnyPyVJkiRJkvQ/JUmSJEmS9D8lSZIkSZL0P7dt27Zt2/Y/27Zt27Zt+z+3bdu2bdv2P27btm3btv0/27Zt27Zt+z9JkiRJkiQBQG7btm3btv0/kiRJkiRJAkAAAAAAAAAAQG7btm3btv0/JUmSJEmS9D9u27Zt27b9P9u2bdu2bfs/SZIkSZIk+T+3bdu2bdv2P0mSJEmSJPk/AAAAAAAAAEBu27Zt27b9PyVJkiRJkvQ/kiRJkiRJ8j8lSZIkSZL0P9u2bdu2bes/t23btm3b5j/btm3btm3bP9u2bdu2bes/27Zt27Zt6z8lSZIkSZL0PyVJkiRJkvQ/btu2bdu2/T8AAAAAAAAAQG7btm3btv0/btu2bdu2/T+SJEmSJEkCQEmSJEmSJAFAJUmSJEmSBEAAAAAAAAAAQAAAAAAAAABAkiRJkiRJAkDbtm3btm0DQEmSJEmSJAFA27Zt27Zt+z/btm3btm37P27btm3btv0/btu2bdu2/T9JkiRJkiT5P5IkSZIkSfI/AAAAAAAA8D8lSZIkSZL0P9u2bdu2bes/SZIkSZIk+T8=\",\"dtype\":\"float64\",\"shape\":[97]},\"date\":{\"__ndarray__\":\"AADAPQoOd0IAAICjXA53QgAAQAmvDndCAAAAbwEPd0IAAMDUUw93QgAAgDqmD3dCAABAoPgPd0IAAAAGSxB3QgAAwGudEHdCAACA0e8Qd0IAAEA3QhF3QgAAAJ2UEXdCAADAAucRd0IAAIBoORJ3QgAAQM6LEndCAAAANN4Sd0IAAMCZMBN3QgAAgP+CE3dCAABAZdUTd0IAAADLJxR3QgAAwDB6FHdCAACAlswUd0IAAED8HhV3QgAAAGJxFXdCAADAx8MVd0IAAIAtFhZ3QgAAQJNoFndCAAAA+boWd0IAAMBeDRd3QgAAgMRfF3dCAABAKrIXd0IAAACQBBh3QgAAwPVWGHdCAACAW6kYd0IAAEDB+xh3QgAAACdOGXdCAADAjKAZd0IAAIDy8hl3QgAAQFhFGndCAAAAvpcad0IAAMAj6hp3QgAAgIk8G3dCAABA744bd0IAAABV4Rt3QgAAwLozHHdCAACAIIYcd0IAAECG2Bx3QgAAAOwqHXdCAADAUX0dd0IAAIC3zx13QgAAQB0iHndCAAAAg3Qed0IAAMDoxh53QgAAgE4ZH3dCAABAtGsfd0IAAAAavh93QgAAwH8QIHdCAACA5WIgd0IAAEBLtSB3QgAAALEHIXdCAADAFlohd0IAAIB8rCF3QgAAQOL+IXdCAAAASFEid0IAAMCtoyJ3QgAAgBP2IndCAABAeUgjd0IAAADfmiN3QgAAwETtI3dCAACAqj8kd0IAAEAQkiR3QgAAAHbkJHdCAADA2zYld0IAAIBBiSV3QgAAQKfbJXdCAAAADS4md0IAAMBygCZ3QgAAgNjSJndCAABAPiUnd0IAAACkdyd3QgAAwAnKJ3dCAACAbxwod0IAAEDVbih3QgAAADvBKHdCAADAoBMpd0IAAIAGZil3QgAAQGy4KXdCAAAA0goqd0IAAMA3XSp3QgAAgJ2vKndCAABAAwIrd0IAAABpVCt3QgAAwM6mK3dCAACANPkrd0IAAECaSyx3QgAAAACeLHdCAADAZfAsd0I=\",\"dtype\":\"float64\",\"shape\":[97]},\"index\":[0,1,2,3,4,5,6,7,8,9,10,11,12,13,14,15,16,17,18,19,20,21,22,23,24,25,26,27,28,29,30,31,32,33,34,35,36,37,38,39,40,41,42,43,44,45,46,47,48,49,50,51,52,53,54,55,56,57,58,59,60,61,62,63,64,65,66,67,68,69,70,71,72,73,74,75,76,77,78,79,80,81,82,83,84,85,86,87,88,89,90,91,92,93,94,95,96]},\"selected\":{\"id\":\"3708\"},\"selection_policy\":{\"id\":\"3707\"}},\"id\":\"3629\",\"type\":\"ColumnDataSource\"},{\"attributes\":{},\"id\":\"3910\",\"type\":\"UnionRenderers\"},{\"attributes\":{},\"id\":\"3604\",\"type\":\"LinearScale\"},{\"attributes\":{\"axis\":{\"id\":\"3606\"},\"ticker\":null},\"id\":\"3609\",\"type\":\"Grid\"},{\"attributes\":{},\"id\":\"3708\",\"type\":\"Selection\"},{\"attributes\":{\"num_minor_ticks\":5,\"tickers\":[{\"id\":\"3641\"},{\"id\":\"3642\"},{\"id\":\"3643\"},{\"id\":\"3644\"},{\"id\":\"3645\"},{\"id\":\"3646\"},{\"id\":\"3647\"},{\"id\":\"3648\"},{\"id\":\"3649\"},{\"id\":\"3650\"},{\"id\":\"3651\"},{\"id\":\"3652\"}]},\"id\":\"3607\",\"type\":\"DatetimeTicker\"},{\"attributes\":{\"source\":{\"id\":\"3681\"}},\"id\":\"3686\",\"type\":\"CDSView\"}],\"root_ids\":[\"3595\"]},\"title\":\"Bokeh Application\",\"version\":\"2.0.2\"}};\n",
       "  var render_items = [{\"docid\":\"03e46699-0d7c-4779-a0bd-6284c40edde9\",\"root_ids\":[\"3595\"],\"roots\":{\"3595\":\"f0d5f55a-9f13-45d5-8d3e-0714966c0806\"}}];\n",
       "  root.Bokeh.embed.embed_items_notebook(docs_json, render_items);\n",
       "\n",
       "  }\n",
       "  if (root.Bokeh !== undefined) {\n",
       "    embed_document(root);\n",
       "  } else {\n",
       "    var attempts = 0;\n",
       "    var timer = setInterval(function(root) {\n",
       "      if (root.Bokeh !== undefined) {\n",
       "        clearInterval(timer);\n",
       "        embed_document(root);\n",
       "      } else {\n",
       "        attempts++;\n",
       "        if (attempts > 100) {\n",
       "          clearInterval(timer);\n",
       "          console.log(\"Bokeh: ERROR: Unable to run BokehJS code because BokehJS library is missing\");\n",
       "        }\n",
       "      }\n",
       "    }, 10, root)\n",
       "  }\n",
       "})(window);"
      ],
      "application/vnd.bokehjs_exec.v0+json": ""
     },
     "metadata": {
      "application/vnd.bokehjs_exec.v0+json": {
       "id": "3595"
      }
     },
     "output_type": "display_data"
    },
    {
     "data": {
      "text/html": [
       "\n",
       "\n",
       "\n",
       "\n",
       "\n",
       "\n",
       "  <div class=\"bk-root\" id=\"5cfdcfa6-55e9-4649-b2df-c1a6ef31e6fa\" data-root-id=\"4056\"></div>\n"
      ]
     },
     "metadata": {},
     "output_type": "display_data"
    },
    {
     "data": {
      "application/javascript": [
       "(function(root) {\n",
       "  function embed_document(root) {\n",
       "    \n",
       "  var docs_json = {\"08d1df27-d895-498b-b858-b6705654e344\":{\"roots\":{\"references\":[{\"attributes\":{\"below\":[{\"id\":\"4067\"}],\"center\":[{\"id\":\"4070\"},{\"id\":\"4074\"},{\"id\":\"4114\"}],\"left\":[{\"id\":\"4071\"}],\"plot_height\":400,\"plot_width\":1000,\"renderers\":[{\"id\":\"4094\"},{\"id\":\"4119\"},{\"id\":\"4146\"}],\"title\":{\"id\":\"4057\"},\"toolbar\":{\"id\":\"4082\"},\"x_range\":{\"id\":\"4059\"},\"x_scale\":{\"id\":\"4063\"},\"y_range\":{\"id\":\"4061\"},\"y_scale\":{\"id\":\"4065\"}},\"id\":\"4056\",\"subtype\":\"Figure\",\"type\":\"Plot\"},{\"attributes\":{\"axis\":{\"id\":\"4067\"},\"ticker\":null},\"id\":\"4070\",\"type\":\"Grid\"},{\"attributes\":{\"months\":[0,2,4,6,8,10]},\"id\":\"4110\",\"type\":\"MonthsTicker\"},{\"attributes\":{\"bottom_units\":\"screen\",\"fill_alpha\":0.5,\"fill_color\":\"lightgrey\",\"left_units\":\"screen\",\"level\":\"overlay\",\"line_alpha\":1.0,\"line_color\":\"black\",\"line_dash\":[4,4],\"line_width\":2,\"render_mode\":\"css\",\"right_units\":\"screen\",\"top_units\":\"screen\"},\"id\":\"4081\",\"type\":\"BoxAnnotation\"},{\"attributes\":{\"num_minor_ticks\":5,\"tickers\":[{\"id\":\"4102\"},{\"id\":\"4103\"},{\"id\":\"4104\"},{\"id\":\"4105\"},{\"id\":\"4106\"},{\"id\":\"4107\"},{\"id\":\"4108\"},{\"id\":\"4109\"},{\"id\":\"4110\"},{\"id\":\"4111\"},{\"id\":\"4112\"},{\"id\":\"4113\"}]},\"id\":\"4068\",\"type\":\"DatetimeTicker\"},{\"attributes\":{\"months\":[0,4,8]},\"id\":\"4111\",\"type\":\"MonthsTicker\"},{\"attributes\":{},\"id\":\"4395\",\"type\":\"UnionRenderers\"},{\"attributes\":{},\"id\":\"4065\",\"type\":\"LinearScale\"},{\"attributes\":{\"formatter\":{\"id\":\"4098\"},\"ticker\":{\"id\":\"4068\"}},\"id\":\"4067\",\"type\":\"DatetimeAxis\"},{\"attributes\":{\"months\":[0,6]},\"id\":\"4112\",\"type\":\"MonthsTicker\"},{\"attributes\":{},\"id\":\"4396\",\"type\":\"Selection\"},{\"attributes\":{\"data_source\":{\"id\":\"4089\"},\"glyph\":{\"id\":\"4092\"},\"hover_glyph\":null,\"muted_glyph\":null,\"nonselection_glyph\":{\"id\":\"4093\"},\"selection_glyph\":null,\"view\":{\"id\":\"4095\"}},\"id\":\"4094\",\"type\":\"GlyphRenderer\"},{\"attributes\":{},\"id\":\"4113\",\"type\":\"YearsTicker\"},{\"attributes\":{\"fill_alpha\":{\"value\":0.8},\"fill_color\":{\"value\":\"green\"},\"line_alpha\":{\"value\":0.8},\"line_color\":{\"value\":\"green\"},\"top\":{\"field\":\"confirmed_cases\"},\"width\":{\"value\":0.4},\"x\":{\"field\":\"date\"}},\"id\":\"4092\",\"type\":\"VBar\"},{\"attributes\":{\"fill_alpha\":{\"value\":0.1},\"fill_color\":{\"value\":\"green\"},\"line_alpha\":{\"value\":0.1},\"line_color\":{\"value\":\"green\"},\"top\":{\"field\":\"confirmed_cases\"},\"width\":{\"value\":0.4},\"x\":{\"field\":\"date\"}},\"id\":\"4093\",\"type\":\"VBar\"},{\"attributes\":{},\"id\":\"4063\",\"type\":\"LinearScale\"},{\"attributes\":{},\"id\":\"4061\",\"type\":\"DataRange1d\"},{\"attributes\":{},\"id\":\"4139\",\"type\":\"UnionRenderers\"},{\"attributes\":{},\"id\":\"4098\",\"type\":\"DatetimeTickFormatter\"},{\"attributes\":{\"text\":\"Daily new cases --Glendale\"},\"id\":\"4057\",\"type\":\"Title\"},{\"attributes\":{\"data_source\":{\"id\":\"4090\"},\"glyph\":{\"id\":\"4117\"},\"hover_glyph\":null,\"muted_glyph\":null,\"nonselection_glyph\":{\"id\":\"4118\"},\"selection_glyph\":null,\"view\":{\"id\":\"4120\"}},\"id\":\"4119\",\"type\":\"GlyphRenderer\"},{\"attributes\":{\"source\":{\"id\":\"4089\"}},\"id\":\"4095\",\"type\":\"CDSView\"},{\"attributes\":{\"line_alpha\":0.1,\"line_color\":\"navy\",\"line_width\":5,\"x\":{\"field\":\"date\"},\"y\":{\"field\":\"confirmed_cases\"}},\"id\":\"4118\",\"type\":\"Line\"},{\"attributes\":{\"source\":{\"id\":\"4090\"}},\"id\":\"4120\",\"type\":\"CDSView\"},{\"attributes\":{},\"id\":\"4059\",\"type\":\"DataRange1d\"},{\"attributes\":{},\"id\":\"4140\",\"type\":\"Selection\"},{\"attributes\":{\"label\":{\"value\":\"7-day rolling avg (Glendale)\"},\"renderers\":[{\"id\":\"4119\"}]},\"id\":\"4141\",\"type\":\"LegendItem\"},{\"attributes\":{},\"id\":\"4100\",\"type\":\"BasicTickFormatter\"},{\"attributes\":{},\"id\":\"4075\",\"type\":\"PanTool\"},{\"attributes\":{\"data\":{\"confirmed_cases\":{\"__ndarray__\":\"AAAAAAAA+H8AAAAAAADwPwAAAAAAAPA/AAAAAAAAAAAAAAAAAAAAAAAAAAAAAPA/AAAAAAAA8D8AAAAAAAAIQAAAAAAAAPA/AAAAAAAAAEAAAAAAAAAmQAAAAAAAABhAAAAAAAAAHEAAAAAAAAAkQAAAAAAAADBAAAAAAAAALEAAAAAAAAAkQAAAAAAAABxAAAAAAAAAJEAAAAAAAAAuQAAAAAAAACZAAAAAAAAAKkAAAAAAAAAoQAAAAAAAAChAAAAAAAAAAAAAAAAAAABKQAAAAAAAAC5AAAAAAAAALkAAAAAAAAAcQAAAAAAAACxAAAAAAAAAIkAAAAAAAAAkQAAAAAAAADZAAAAAAAAAMEAAAAAAAAAYQAAAAAAAABxAAAAAAAAAPkAAAAAAAAA0QAAAAAAAAD5AAAAAAACARUAAAAAAAAAcQAAAAAAAAChAAAAAAAAAHEAAAAAAAAAsQAAAAAAAADxAAAAAAAAAAAAAAAAAAABNQAAAAAAAADZAAAAAAAAAAEAAAAAAAAA2QAAAAAAAADFAAAAAAAAAMkAAAAAAAAAyQAAAAAAAACRAAAAAAAAANEAAAAAAAAAcQAAAAAAAACxAAAAAAAAAPkAAAAAAAAAxQAAAAAAAADFAAAAAAAAAAAAAAAAAAAA/QAAAAAAAADNAAAAAAAAA8D8AAAAAAAAIQAAAAAAAAAAAAAAAAAAANEAAAAAAAAAkQAAAAAAAACZAAAAAAAAAMUAAAAAAAAAkQAAAAAAAADNAAAAAAAAAIkAAAAAAAAAgQAAAAAAAABRAAAAAAAAAIkAAAAAAAAAYQAAAAAAAABRAAAAAAAAAFEAAAAAAAAAUQAAAAAAAAEJAAAAAAAAAIkAAAAAAAAAIQAAAAAAAADBAAAAAAAAAGEAAAAAAAAAYQAAAAAAAABRAAAAAAAAAMUAAAAAAAAAgQAAAAAAAADBAAAAAAAAALEAAAAAAAAAAQAAAAAAAgEJAAAAAAAAAO0AAAAAAAAAoQAAAAAAAACRAAAAAAAAAKkA=\",\"dtype\":\"float64\",\"shape\":[97]},\"date\":{\"__ndarray__\":\"AADAPQoOd0IAAICjXA53QgAAQAmvDndCAAAAbwEPd0IAAMDUUw93QgAAgDqmD3dCAABAoPgPd0IAAAAGSxB3QgAAwGudEHdCAACA0e8Qd0IAAEA3QhF3QgAAAJ2UEXdCAADAAucRd0IAAIBoORJ3QgAAQM6LEndCAAAANN4Sd0IAAMCZMBN3QgAAgP+CE3dCAABAZdUTd0IAAADLJxR3QgAAwDB6FHdCAACAlswUd0IAAED8HhV3QgAAAGJxFXdCAADAx8MVd0IAAIAtFhZ3QgAAQJNoFndCAAAA+boWd0IAAMBeDRd3QgAAgMRfF3dCAABAKrIXd0IAAACQBBh3QgAAwPVWGHdCAACAW6kYd0IAAEDB+xh3QgAAACdOGXdCAADAjKAZd0IAAIDy8hl3QgAAQFhFGndCAAAAvpcad0IAAMAj6hp3QgAAgIk8G3dCAABA744bd0IAAABV4Rt3QgAAwLozHHdCAACAIIYcd0IAAECG2Bx3QgAAAOwqHXdCAADAUX0dd0IAAIC3zx13QgAAQB0iHndCAAAAg3Qed0IAAMDoxh53QgAAgE4ZH3dCAABAtGsfd0IAAAAavh93QgAAwH8QIHdCAACA5WIgd0IAAEBLtSB3QgAAALEHIXdCAADAFlohd0IAAIB8rCF3QgAAQOL+IXdCAAAASFEid0IAAMCtoyJ3QgAAgBP2IndCAABAeUgjd0IAAADfmiN3QgAAwETtI3dCAACAqj8kd0IAAEAQkiR3QgAAAHbkJHdCAADA2zYld0IAAIBBiSV3QgAAQKfbJXdCAAAADS4md0IAAMBygCZ3QgAAgNjSJndCAABAPiUnd0IAAACkdyd3QgAAwAnKJ3dCAACAbxwod0IAAEDVbih3QgAAADvBKHdCAADAoBMpd0IAAIAGZil3QgAAQGy4KXdCAAAA0goqd0IAAMA3XSp3QgAAgJ2vKndCAABAAwIrd0IAAABpVCt3QgAAwM6mK3dCAACANPkrd0IAAECaSyx3QgAAAACeLHdCAADAZfAsd0I=\",\"dtype\":\"float64\",\"shape\":[97]},\"index\":[0,1,2,3,4,5,6,7,8,9,10,11,12,13,14,15,16,17,18,19,20,21,22,23,24,25,26,27,28,29,30,31,32,33,34,35,36,37,38,39,40,41,42,43,44,45,46,47,48,49,50,51,52,53,54,55,56,57,58,59,60,61,62,63,64,65,66,67,68,69,70,71,72,73,74,75,76,77,78,79,80,81,82,83,84,85,86,87,88,89,90,91,92,93,94,95,96]},\"selected\":{\"id\":\"4140\"},\"selection_policy\":{\"id\":\"4139\"}},\"id\":\"4089\",\"type\":\"ColumnDataSource\"},{\"attributes\":{\"mantissas\":[1,2,5],\"max_interval\":500.0,\"num_minor_ticks\":0},\"id\":\"4102\",\"type\":\"AdaptiveTicker\"},{\"attributes\":{\"line_alpha\":0.2,\"line_color\":\"red\",\"line_width\":5,\"x\":{\"field\":\"date\"},\"y\":{\"field\":\"confirmed_cases\"}},\"id\":\"4144\",\"type\":\"Line\"},{\"attributes\":{},\"id\":\"4076\",\"type\":\"WheelZoomTool\"},{\"attributes\":{\"source\":{\"id\":\"4142\"}},\"id\":\"4147\",\"type\":\"CDSView\"},{\"attributes\":{\"label\":{\"value\":\"Daily new cases\"},\"renderers\":[{\"id\":\"4094\"}]},\"id\":\"4115\",\"type\":\"LegendItem\"},{\"attributes\":{\"line_alpha\":0.3,\"line_color\":\"navy\",\"line_width\":5,\"x\":{\"field\":\"date\"},\"y\":{\"field\":\"confirmed_cases\"}},\"id\":\"4117\",\"type\":\"Line\"},{\"attributes\":{\"overlay\":{\"id\":\"4081\"}},\"id\":\"4077\",\"type\":\"BoxZoomTool\"},{\"attributes\":{\"line_alpha\":0.1,\"line_color\":\"red\",\"line_width\":5,\"x\":{\"field\":\"date\"},\"y\":{\"field\":\"confirmed_cases\"}},\"id\":\"4145\",\"type\":\"Line\"},{\"attributes\":{\"active_drag\":\"auto\",\"active_inspect\":\"auto\",\"active_multi\":null,\"active_scroll\":\"auto\",\"active_tap\":\"auto\",\"tools\":[{\"id\":\"4075\"},{\"id\":\"4076\"},{\"id\":\"4077\"},{\"id\":\"4078\"},{\"id\":\"4079\"},{\"id\":\"4080\"}]},\"id\":\"4082\",\"type\":\"Toolbar\"},{\"attributes\":{\"base\":60,\"mantissas\":[1,2,5,10,15,20,30],\"max_interval\":1800000.0,\"min_interval\":1000.0,\"num_minor_ticks\":0},\"id\":\"4103\",\"type\":\"AdaptiveTicker\"},{\"attributes\":{\"axis\":{\"id\":\"4071\"},\"dimension\":1,\"ticker\":null},\"id\":\"4074\",\"type\":\"Grid\"},{\"attributes\":{\"base\":24,\"mantissas\":[1,2,4,6,8,12],\"max_interval\":43200000.0,\"min_interval\":3600000.0,\"num_minor_ticks\":0},\"id\":\"4104\",\"type\":\"AdaptiveTicker\"},{\"attributes\":{},\"id\":\"4078\",\"type\":\"SaveTool\"},{\"attributes\":{\"data_source\":{\"id\":\"4142\"},\"glyph\":{\"id\":\"4144\"},\"hover_glyph\":null,\"muted_glyph\":null,\"nonselection_glyph\":{\"id\":\"4145\"},\"selection_glyph\":null,\"view\":{\"id\":\"4147\"}},\"id\":\"4146\",\"type\":\"GlyphRenderer\"},{\"attributes\":{\"data\":{\"confirmed_cases\":{\"__ndarray__\":\"AAAAAAAA+H8AAAAAAADwPwAAAAAAAPA/VVVVVVVV5T8AAAAAAADgPzMzMzMzM+M/VVVVVVVV5T8AAAAAAADwPwAAAAAAAPA/kiRJkiRJ8j9u27Zt27YFQCVJkiRJkgxAbtu2bdu2EUC3bdu2bdsWQJIkSZIkSR5At23btm3bIkBJkiRJkiQlQAAAAAAAACRASZIkSZIkJUDbtm3btm0nQG7btm3btidAt23btm3bJkCSJEmSJEkmQLdt27Zt2yZAt23btm3bJEDbtm3btm0wQNu2bdu2bTBAAAAAAAAAMUBJkiRJkiQwQNu2bdu2bTBAAAAAAAAAMEDbtm3btm0xQJIkSZIkSSpAJUmSJEmSKkAAAAAAAAAoQAAAAAAAAChAJUmSJEmSLEBu27Zt27YvQG7btm3btjJAbtu2bdu2NUDbtm3btm00QJIkSZIkSTVAkiRJkiRJNUAAAAAAAAAzQEmSJEmSJDRAbtu2bdu2L0AAAAAAAAAyQEmSJEmSJDRAbtu2bdu2MkC3bdu2bds0QJIkSZIkSTVAt23btm3bM0Dbtm3btm02QEmSJEmSJC9AJUmSJEmSLkAAAAAAAAAwQG7btm3bti1Abtu2bdu2MEAlSZIkSZIwQNu2bdu2bTBAAAAAAAAALkAlSZIkSZIwQJIkSZIkSTJA27Zt27ZtMEBJkiRJkiQpQJIkSZIkSSRASZIkSZIkJUAAAAAAAAAoQJIkSZIkSSJAbtu2bdu2IUCSJEmSJEkkQLdt27Zt2yhA27Zt27ZtK0AAAAAAAAAoQCVJkiRJkiZAAAAAAAAAJkC3bdu2bdsiQNu2bdu2bSFAt23btm3bGkAlSZIkSZIYQJIkSZIkSSRA27Zt27ZtJUBu27Zt27YjQCVJkiRJkiZAt23btm3bJkBJkiRJkiQnQEmSJEmSJCdAbtu2bdu2IUDbtm3btm0hQEmSJEmSJCVAJUmSJEmSJEDbtm3btm0jQJIkSZIkSSxAkiRJkiRJMUAlSZIkSZIwQLdt27Zt2zBA27Zt27ZtMEA=\",\"dtype\":\"float64\",\"shape\":[97]},\"date\":{\"__ndarray__\":\"AADAPQoOd0IAAICjXA53QgAAQAmvDndCAAAAbwEPd0IAAMDUUw93QgAAgDqmD3dCAABAoPgPd0IAAAAGSxB3QgAAwGudEHdCAACA0e8Qd0IAAEA3QhF3QgAAAJ2UEXdCAADAAucRd0IAAIBoORJ3QgAAQM6LEndCAAAANN4Sd0IAAMCZMBN3QgAAgP+CE3dCAABAZdUTd0IAAADLJxR3QgAAwDB6FHdCAACAlswUd0IAAED8HhV3QgAAAGJxFXdCAADAx8MVd0IAAIAtFhZ3QgAAQJNoFndCAAAA+boWd0IAAMBeDRd3QgAAgMRfF3dCAABAKrIXd0IAAACQBBh3QgAAwPVWGHdCAACAW6kYd0IAAEDB+xh3QgAAACdOGXdCAADAjKAZd0IAAIDy8hl3QgAAQFhFGndCAAAAvpcad0IAAMAj6hp3QgAAgIk8G3dCAABA744bd0IAAABV4Rt3QgAAwLozHHdCAACAIIYcd0IAAECG2Bx3QgAAAOwqHXdCAADAUX0dd0IAAIC3zx13QgAAQB0iHndCAAAAg3Qed0IAAMDoxh53QgAAgE4ZH3dCAABAtGsfd0IAAAAavh93QgAAwH8QIHdCAACA5WIgd0IAAEBLtSB3QgAAALEHIXdCAADAFlohd0IAAIB8rCF3QgAAQOL+IXdCAAAASFEid0IAAMCtoyJ3QgAAgBP2IndCAABAeUgjd0IAAADfmiN3QgAAwETtI3dCAACAqj8kd0IAAEAQkiR3QgAAAHbkJHdCAADA2zYld0IAAIBBiSV3QgAAQKfbJXdCAAAADS4md0IAAMBygCZ3QgAAgNjSJndCAABAPiUnd0IAAACkdyd3QgAAwAnKJ3dCAACAbxwod0IAAEDVbih3QgAAADvBKHdCAADAoBMpd0IAAIAGZil3QgAAQGy4KXdCAAAA0goqd0IAAMA3XSp3QgAAgJ2vKndCAABAAwIrd0IAAABpVCt3QgAAwM6mK3dCAACANPkrd0IAAECaSyx3QgAAAACeLHdCAADAZfAsd0I=\",\"dtype\":\"float64\",\"shape\":[97]},\"index\":[0,1,2,3,4,5,6,7,8,9,10,11,12,13,14,15,16,17,18,19,20,21,22,23,24,25,26,27,28,29,30,31,32,33,34,35,36,37,38,39,40,41,42,43,44,45,46,47,48,49,50,51,52,53,54,55,56,57,58,59,60,61,62,63,64,65,66,67,68,69,70,71,72,73,74,75,76,77,78,79,80,81,82,83,84,85,86,87,88,89,90,91,92,93,94,95,96]},\"selected\":{\"id\":\"4169\"},\"selection_policy\":{\"id\":\"4168\"}},\"id\":\"4090\",\"type\":\"ColumnDataSource\"},{\"attributes\":{\"days\":[1,2,3,4,5,6,7,8,9,10,11,12,13,14,15,16,17,18,19,20,21,22,23,24,25,26,27,28,29,30,31]},\"id\":\"4105\",\"type\":\"DaysTicker\"},{\"attributes\":{},\"id\":\"4080\",\"type\":\"HelpTool\"},{\"attributes\":{\"items\":[{\"id\":\"4115\"},{\"id\":\"4141\"},{\"id\":\"4170\"}]},\"id\":\"4114\",\"type\":\"Legend\"},{\"attributes\":{},\"id\":\"4168\",\"type\":\"UnionRenderers\"},{\"attributes\":{\"days\":[1,4,7,10,13,16,19,22,25,28]},\"id\":\"4106\",\"type\":\"DaysTicker\"},{\"attributes\":{\"data\":{\"confirmed_cases\":{\"__ndarray__\":\"AAAAAAAA+H8AAAAAAADwPwAAAAAAAPA/VVVVVVVV9T8AAAAAAADwP5qZmZmZmek/VVVVVVVV9T8lSZIkSZL0PyVJkiRJkvQ/27Zt27Zt+z9u27Zt27b9PwAAAAAAAAhAJUmSJEmSDEAlSZIkSZIMQCVJkiRJkhBA27Zt27ZtE0AAAAAAAAAYQAAAAAAAABxASZIkSZIkIUDbtm3btm0hQAAAAAAAACBAt23btm3bIEAlSZIkSZIgQJIkSZIkSRpAkiRJkiRJGkC3bdu2bdsSQEmSJEmSJBFASZIkSZIkFUC3bdu2bdsWQAAAAAAAABhAbtu2bdu2GUC3bdu2bdsWQCVJkiRJkhhAJUmSJEmSGECSJEmSJEkgQG7btm3btiFASZIkSZIkJ0AAAAAAAAAqQJIkSZIkSS5AAAAAAAAAMEAAAAAAAAAxQAAAAAAAADJAkiRJkiRJMEBJkiRJkiQvQNu2bdu2bStAbtu2bdu2L0C3bdu2bdsuQEmSJEmSJC9ASZIkSZIkKUBu27Zt27YwQNu2bdu2bS9At23btm3bMUAlSZIkSZIqQLdt27Zt2ypA27Zt27ZtKUAAAAAAAAAqQAAAAAAAACRAJUmSJEmSJEAAAAAAAAAkQEmSJEmSJCNAJUmSJEmSJkCSJEmSJEkmQG7btm3btiVAt23btm3bIkAlSZIkSZIcQAAAAAAAACBA27Zt27ZtIUC3bdu2bdseQG7btm3btiFA27Zt27ZtIUCSJEmSJEkoQCVJkiRJkipAbtu2bdu2J0BJkiRJkiQrQG7btm3btitAbtu2bdu2LUC3bdu2bdsuQJIkSZIkSSxAbtu2bdu2LUBJkiRJkiQtQLdt27Zt2ypAt23btm3bJkCSJEmSJEkmQLdt27Zt2yZAkiRJkiRJJkBJkiRJkiQnQCVJkiRJkixASZIkSZIkLUBu27Zt27YwQNu2bdu2bS9At23btm3bLEDbtm3btm0rQJIkSZIkSSxASZIkSZIkKUBu27Zt27YrQG7btm3btitA\",\"dtype\":\"float64\",\"shape\":[96]},\"date\":{\"__ndarray__\":\"AACAo1wOd0IAAEAJrw53QgAAAG8BD3dCAADA1FMPd0IAAIA6pg93QgAAQKD4D3dCAAAABksQd0IAAMBrnRB3QgAAgNHvEHdCAABAN0IRd0IAAACdlBF3QgAAwALnEXdCAACAaDkSd0IAAEDOixJ3QgAAADTeEndCAADAmTATd0IAAID/ghN3QgAAQGXVE3dCAAAAyycUd0IAAMAwehR3QgAAgJbMFHdCAABA/B4Vd0IAAABicRV3QgAAwMfDFXdCAACALRYWd0IAAECTaBZ3QgAAAPm6FndCAADAXg0Xd0IAAIDEXxd3QgAAQCqyF3dCAAAAkAQYd0IAAMD1Vhh3QgAAgFupGHdCAABAwfsYd0IAAAAnThl3QgAAwIygGXdCAACA8vIZd0IAAEBYRRp3QgAAAL6XGndCAADAI+oad0IAAICJPBt3QgAAQO+OG3dCAAAAVeEbd0IAAMC6Mxx3QgAAgCCGHHdCAABAhtgcd0IAAADsKh13QgAAwFF9HXdCAACAt88dd0IAAEAdIh53QgAAAIN0HndCAADA6MYed0IAAIBOGR93QgAAQLRrH3dCAAAAGr4fd0IAAMB/ECB3QgAAgOViIHdCAABAS7Ugd0IAAACxByF3QgAAwBZaIXdCAACAfKwhd0IAAEDi/iF3QgAAAEhRIndCAADAraMid0IAAIAT9iJ3QgAAQHlII3dCAAAA35ojd0IAAMBE7SN3QgAAgKo/JHdCAABAEJIkd0IAAAB25CR3QgAAwNs2JXdCAACAQYkld0IAAECn2yV3QgAAAA0uJndCAADAcoAmd0IAAIDY0iZ3QgAAQD4lJ3dCAAAApHcnd0IAAMAJyid3QgAAgG8cKHdCAABA1W4od0IAAAA7wSh3QgAAwKATKXdCAACABmYpd0IAAEBsuCl3QgAAANIKKndCAADAN10qd0IAAICdryp3QgAAQAMCK3dCAAAAaVQrd0IAAMDOpit3QgAAgDT5K3dCAABAmkssd0IAAAAAnix3QgAAwGXwLHdC\",\"dtype\":\"float64\",\"shape\":[96]},\"index\":[0,1,2,3,4,5,6,7,8,9,10,11,12,13,14,15,16,17,18,19,20,21,22,23,24,25,26,27,28,29,30,31,32,33,34,35,36,37,38,39,40,41,42,43,44,45,46,47,48,49,50,51,52,53,54,55,56,57,58,59,60,61,62,63,64,65,66,67,68,69,70,71,72,73,74,75,76,77,78,79,80,81,82,83,84,85,86,87,88,89,90,91,92,93,94,95]},\"selected\":{\"id\":\"4396\"},\"selection_policy\":{\"id\":\"4395\"}},\"id\":\"4142\",\"type\":\"ColumnDataSource\"},{\"attributes\":{},\"id\":\"4079\",\"type\":\"ResetTool\"},{\"attributes\":{\"days\":[1,8,15,22]},\"id\":\"4107\",\"type\":\"DaysTicker\"},{\"attributes\":{},\"id\":\"4072\",\"type\":\"BasicTicker\"},{\"attributes\":{\"days\":[1,15]},\"id\":\"4108\",\"type\":\"DaysTicker\"},{\"attributes\":{\"formatter\":{\"id\":\"4100\"},\"ticker\":{\"id\":\"4072\"}},\"id\":\"4071\",\"type\":\"LinearAxis\"},{\"attributes\":{},\"id\":\"4169\",\"type\":\"Selection\"},{\"attributes\":{\"months\":[0,1,2,3,4,5,6,7,8,9,10,11]},\"id\":\"4109\",\"type\":\"MonthsTicker\"},{\"attributes\":{\"label\":{\"value\":\"7-day rolling avg (NoHo)\"},\"renderers\":[{\"id\":\"4146\"}]},\"id\":\"4170\",\"type\":\"LegendItem\"}],\"root_ids\":[\"4056\"]},\"title\":\"Bokeh Application\",\"version\":\"2.0.2\"}};\n",
       "  var render_items = [{\"docid\":\"08d1df27-d895-498b-b858-b6705654e344\",\"root_ids\":[\"4056\"],\"roots\":{\"4056\":\"5cfdcfa6-55e9-4649-b2df-c1a6ef31e6fa\"}}];\n",
       "  root.Bokeh.embed.embed_items_notebook(docs_json, render_items);\n",
       "\n",
       "  }\n",
       "  if (root.Bokeh !== undefined) {\n",
       "    embed_document(root);\n",
       "  } else {\n",
       "    var attempts = 0;\n",
       "    var timer = setInterval(function(root) {\n",
       "      if (root.Bokeh !== undefined) {\n",
       "        clearInterval(timer);\n",
       "        embed_document(root);\n",
       "      } else {\n",
       "        attempts++;\n",
       "        if (attempts > 100) {\n",
       "          clearInterval(timer);\n",
       "          console.log(\"Bokeh: ERROR: Unable to run BokehJS code because BokehJS library is missing\");\n",
       "        }\n",
       "      }\n",
       "    }, 10, root)\n",
       "  }\n",
       "})(window);"
      ],
      "application/vnd.bokehjs_exec.v0+json": ""
     },
     "metadata": {
      "application/vnd.bokehjs_exec.v0+json": {
       "id": "4056"
      }
     },
     "output_type": "display_data"
    },
    {
     "data": {
      "text/html": [
       "\n",
       "\n",
       "\n",
       "\n",
       "\n",
       "\n",
       "  <div class=\"bk-root\" id=\"51051fea-305d-4214-8fd0-11325f27024d\" data-root-id=\"4541\"></div>\n"
      ]
     },
     "metadata": {},
     "output_type": "display_data"
    },
    {
     "data": {
      "application/javascript": [
       "(function(root) {\n",
       "  function embed_document(root) {\n",
       "    \n",
       "  var docs_json = {\"18a37995-1194-4a92-ae5e-bb53de9cec93\":{\"roots\":{\"references\":[{\"attributes\":{\"below\":[{\"id\":\"4552\"}],\"center\":[{\"id\":\"4555\"},{\"id\":\"4559\"},{\"id\":\"4599\"}],\"left\":[{\"id\":\"4556\"}],\"plot_height\":400,\"plot_width\":1000,\"renderers\":[{\"id\":\"4579\"},{\"id\":\"4604\"},{\"id\":\"4631\"}],\"title\":{\"id\":\"4542\"},\"toolbar\":{\"id\":\"4567\"},\"x_range\":{\"id\":\"4544\"},\"x_scale\":{\"id\":\"4548\"},\"y_range\":{\"id\":\"4546\"},\"y_scale\":{\"id\":\"4550\"}},\"id\":\"4541\",\"subtype\":\"Figure\",\"type\":\"Plot\"},{\"attributes\":{},\"id\":\"4546\",\"type\":\"DataRange1d\"},{\"attributes\":{\"line_alpha\":0.2,\"line_color\":\"red\",\"line_width\":5,\"x\":{\"field\":\"date\"},\"y\":{\"field\":\"confirmed_cases\"}},\"id\":\"4629\",\"type\":\"Line\"},{\"attributes\":{\"source\":{\"id\":\"4627\"}},\"id\":\"4632\",\"type\":\"CDSView\"},{\"attributes\":{\"base\":60,\"mantissas\":[1,2,5,10,15,20,30],\"max_interval\":1800000.0,\"min_interval\":1000.0,\"num_minor_ticks\":0},\"id\":\"4588\",\"type\":\"AdaptiveTicker\"},{\"attributes\":{\"text\":\"Daily new cases --Sherman Oaks\"},\"id\":\"4542\",\"type\":\"Title\"},{\"attributes\":{\"line_alpha\":0.1,\"line_color\":\"red\",\"line_width\":5,\"x\":{\"field\":\"date\"},\"y\":{\"field\":\"confirmed_cases\"}},\"id\":\"4630\",\"type\":\"Line\"},{\"attributes\":{\"base\":24,\"mantissas\":[1,2,4,6,8,12],\"max_interval\":43200000.0,\"min_interval\":3600000.0,\"num_minor_ticks\":0},\"id\":\"4589\",\"type\":\"AdaptiveTicker\"},{\"attributes\":{},\"id\":\"4564\",\"type\":\"ResetTool\"},{\"attributes\":{\"data_source\":{\"id\":\"4627\"},\"glyph\":{\"id\":\"4629\"},\"hover_glyph\":null,\"muted_glyph\":null,\"nonselection_glyph\":{\"id\":\"4630\"},\"selection_glyph\":null,\"view\":{\"id\":\"4632\"}},\"id\":\"4631\",\"type\":\"GlyphRenderer\"},{\"attributes\":{},\"id\":\"4544\",\"type\":\"DataRange1d\"},{\"attributes\":{\"days\":[1,2,3,4,5,6,7,8,9,10,11,12,13,14,15,16,17,18,19,20,21,22,23,24,25,26,27,28,29,30,31]},\"id\":\"4590\",\"type\":\"DaysTicker\"},{\"attributes\":{},\"id\":\"4561\",\"type\":\"WheelZoomTool\"},{\"attributes\":{},\"id\":\"4653\",\"type\":\"UnionRenderers\"},{\"attributes\":{\"axis\":{\"id\":\"4556\"},\"dimension\":1,\"ticker\":null},\"id\":\"4559\",\"type\":\"Grid\"},{\"attributes\":{\"label\":{\"value\":\"Daily new cases\"},\"renderers\":[{\"id\":\"4579\"}]},\"id\":\"4600\",\"type\":\"LegendItem\"},{\"attributes\":{},\"id\":\"4560\",\"type\":\"PanTool\"},{\"attributes\":{\"data\":{\"confirmed_cases\":{\"__ndarray__\":\"AAAAAAAA+H8AAAAAAADwPwAAAAAAAPA/VVVVVVVV9T8AAAAAAADwP5qZmZmZmek/VVVVVVVV9T8lSZIkSZL0PyVJkiRJkvQ/27Zt27Zt+z9u27Zt27b9PwAAAAAAAAhAJUmSJEmSDEAlSZIkSZIMQCVJkiRJkhBA27Zt27ZtE0AAAAAAAAAYQAAAAAAAABxASZIkSZIkIUDbtm3btm0hQAAAAAAAACBAt23btm3bIEAlSZIkSZIgQJIkSZIkSRpAkiRJkiRJGkC3bdu2bdsSQEmSJEmSJBFASZIkSZIkFUC3bdu2bdsWQAAAAAAAABhAbtu2bdu2GUC3bdu2bdsWQCVJkiRJkhhAJUmSJEmSGECSJEmSJEkgQG7btm3btiFASZIkSZIkJ0AAAAAAAAAqQJIkSZIkSS5AAAAAAAAAMEAAAAAAAAAxQAAAAAAAADJAkiRJkiRJMEBJkiRJkiQvQNu2bdu2bStAbtu2bdu2L0C3bdu2bdsuQEmSJEmSJC9ASZIkSZIkKUBu27Zt27YwQNu2bdu2bS9At23btm3bMUAlSZIkSZIqQLdt27Zt2ypA27Zt27ZtKUAAAAAAAAAqQAAAAAAAACRAJUmSJEmSJEAAAAAAAAAkQEmSJEmSJCNAJUmSJEmSJkCSJEmSJEkmQG7btm3btiVAt23btm3bIkAlSZIkSZIcQAAAAAAAACBA27Zt27ZtIUC3bdu2bdseQG7btm3btiFA27Zt27ZtIUCSJEmSJEkoQCVJkiRJkipAbtu2bdu2J0BJkiRJkiQrQG7btm3btitAbtu2bdu2LUC3bdu2bdsuQJIkSZIkSSxAbtu2bdu2LUBJkiRJkiQtQLdt27Zt2ypAt23btm3bJkCSJEmSJEkmQLdt27Zt2yZAkiRJkiRJJkBJkiRJkiQnQCVJkiRJkixASZIkSZIkLUBu27Zt27YwQNu2bdu2bS9At23btm3bLEDbtm3btm0rQJIkSZIkSSxASZIkSZIkKUBu27Zt27YrQG7btm3btitA\",\"dtype\":\"float64\",\"shape\":[96]},\"date\":{\"__ndarray__\":\"AACAo1wOd0IAAEAJrw53QgAAAG8BD3dCAADA1FMPd0IAAIA6pg93QgAAQKD4D3dCAAAABksQd0IAAMBrnRB3QgAAgNHvEHdCAABAN0IRd0IAAACdlBF3QgAAwALnEXdCAACAaDkSd0IAAEDOixJ3QgAAADTeEndCAADAmTATd0IAAID/ghN3QgAAQGXVE3dCAAAAyycUd0IAAMAwehR3QgAAgJbMFHdCAABA/B4Vd0IAAABicRV3QgAAwMfDFXdCAACALRYWd0IAAECTaBZ3QgAAAPm6FndCAADAXg0Xd0IAAIDEXxd3QgAAQCqyF3dCAAAAkAQYd0IAAMD1Vhh3QgAAgFupGHdCAABAwfsYd0IAAAAnThl3QgAAwIygGXdCAACA8vIZd0IAAEBYRRp3QgAAAL6XGndCAADAI+oad0IAAICJPBt3QgAAQO+OG3dCAAAAVeEbd0IAAMC6Mxx3QgAAgCCGHHdCAABAhtgcd0IAAADsKh13QgAAwFF9HXdCAACAt88dd0IAAEAdIh53QgAAAIN0HndCAADA6MYed0IAAIBOGR93QgAAQLRrH3dCAAAAGr4fd0IAAMB/ECB3QgAAgOViIHdCAABAS7Ugd0IAAACxByF3QgAAwBZaIXdCAACAfKwhd0IAAEDi/iF3QgAAAEhRIndCAADAraMid0IAAIAT9iJ3QgAAQHlII3dCAAAA35ojd0IAAMBE7SN3QgAAgKo/JHdCAABAEJIkd0IAAAB25CR3QgAAwNs2JXdCAACAQYkld0IAAECn2yV3QgAAAA0uJndCAADAcoAmd0IAAIDY0iZ3QgAAQD4lJ3dCAAAApHcnd0IAAMAJyid3QgAAgG8cKHdCAABA1W4od0IAAAA7wSh3QgAAwKATKXdCAACABmYpd0IAAEBsuCl3QgAAANIKKndCAADAN10qd0IAAICdryp3QgAAQAMCK3dCAAAAaVQrd0IAAMDOpit3QgAAgDT5K3dCAABAmkssd0IAAAAAnix3QgAAwGXwLHdC\",\"dtype\":\"float64\",\"shape\":[96]},\"index\":[0,1,2,3,4,5,6,7,8,9,10,11,12,13,14,15,16,17,18,19,20,21,22,23,24,25,26,27,28,29,30,31,32,33,34,35,36,37,38,39,40,41,42,43,44,45,46,47,48,49,50,51,52,53,54,55,56,57,58,59,60,61,62,63,64,65,66,67,68,69,70,71,72,73,74,75,76,77,78,79,80,81,82,83,84,85,86,87,88,89,90,91,92,93,94,95]},\"selected\":{\"id\":\"4905\"},\"selection_policy\":{\"id\":\"4904\"}},\"id\":\"4627\",\"type\":\"ColumnDataSource\"},{\"attributes\":{\"days\":[1,4,7,10,13,16,19,22,25,28]},\"id\":\"4591\",\"type\":\"DaysTicker\"},{\"attributes\":{\"days\":[1,8,15,22]},\"id\":\"4592\",\"type\":\"DaysTicker\"},{\"attributes\":{\"data\":{\"confirmed_cases\":{\"__ndarray__\":\"AAAAAAAA+H8AAAAAAAAAAAAAAAAAAPA/AAAAAAAA8D8AAAAAAADwPwAAAAAAAPA/q6qqqqqq6j/btm3btm3rP5IkSZIkSfI/kiRJkiRJ8j/btm3btm37P0mSJEmSJAFAJUmSJEmSBEC3bdu2bdsGQNu2bdu2bQtAkiRJkiRJCkAlSZIkSZIMQG7btm3btg1AJUmSJEmSDEC3bdu2bdsOQCVJkiRJkhBAJUmSJEmSDEAAAAAAAAAQQLdt27Zt2w5AAAAAAAAACEBu27Zt27YNQNu2bdu2bQtAkiRJkiRJCkCSJEmSJEkKQLdt27Zt2wZAAAAAAAAACEAAAAAAAAAIQG7btm3btv0/27Zt27Zt+z+3bdu2bdv2P27btm3btv0/kiRJkiRJAkDbtm3btm0DQNu2bdu2bQtAJUmSJEmSEEAAAAAAAAAQQLdt27Zt2w5AkiRJkiRJCkBJkiRJkiQJQEmSJEmSJAlASZIkSZIkAUBJkiRJkiQBQEmSJEmSJAFA27Zt27ZtA0BJkiRJkiQJQG7btm3bthFAJUmSJEmSEEAAAAAAAAAUQNu2bdu2bRNASZIkSZIkGUBJkiRJkiQZQAAAAAAAABhAt23btm3bEkAAAAAAAAAUQAAAAAAAABRAbtu2bdu2EUBJkiRJkiQJQEmSJEmSJAlAAAAAAAAACEAAAAAAAAAIQJIkSZIkSQJAbtu2bdu2/T9u27Zt27YFQNu2bdu2bQNA27Zt27ZtA0BJkiRJkiQBQNu2bdu2bQNAJUmSJEmSBEDbtm3btm0DQAAAAAAAAABAkiRJkiRJAkDbtm3btm0DQJIkSZIkSQpAAAAAAAAACEAAAAAAAAAIQEmSJEmSJAlA27Zt27ZtC0Dbtm3btm0LQCVJkiRJkhBAAAAAAAAAEEBJkiRJkiQRQEmSJEmSJBFAbtu2bdu2EUC3bdu2bdsOQG7btm3btg1ASZIkSZIkCUDbtm3btm0DQEmSJEmSJAFAJUmSJEmSBEAlSZIkSZIMQCVJkiRJkhBAbtu2bdu2FUA=\",\"dtype\":\"float64\",\"shape\":[97]},\"date\":{\"__ndarray__\":\"AADAPQoOd0IAAICjXA53QgAAQAmvDndCAAAAbwEPd0IAAMDUUw93QgAAgDqmD3dCAABAoPgPd0IAAAAGSxB3QgAAwGudEHdCAACA0e8Qd0IAAEA3QhF3QgAAAJ2UEXdCAADAAucRd0IAAIBoORJ3QgAAQM6LEndCAAAANN4Sd0IAAMCZMBN3QgAAgP+CE3dCAABAZdUTd0IAAADLJxR3QgAAwDB6FHdCAACAlswUd0IAAED8HhV3QgAAAGJxFXdCAADAx8MVd0IAAIAtFhZ3QgAAQJNoFndCAAAA+boWd0IAAMBeDRd3QgAAgMRfF3dCAABAKrIXd0IAAACQBBh3QgAAwPVWGHdCAACAW6kYd0IAAEDB+xh3QgAAACdOGXdCAADAjKAZd0IAAIDy8hl3QgAAQFhFGndCAAAAvpcad0IAAMAj6hp3QgAAgIk8G3dCAABA744bd0IAAABV4Rt3QgAAwLozHHdCAACAIIYcd0IAAECG2Bx3QgAAAOwqHXdCAADAUX0dd0IAAIC3zx13QgAAQB0iHndCAAAAg3Qed0IAAMDoxh53QgAAgE4ZH3dCAABAtGsfd0IAAAAavh93QgAAwH8QIHdCAACA5WIgd0IAAEBLtSB3QgAAALEHIXdCAADAFlohd0IAAIB8rCF3QgAAQOL+IXdCAAAASFEid0IAAMCtoyJ3QgAAgBP2IndCAABAeUgjd0IAAADfmiN3QgAAwETtI3dCAACAqj8kd0IAAEAQkiR3QgAAAHbkJHdCAADA2zYld0IAAIBBiSV3QgAAQKfbJXdCAAAADS4md0IAAMBygCZ3QgAAgNjSJndCAABAPiUnd0IAAACkdyd3QgAAwAnKJ3dCAACAbxwod0IAAEDVbih3QgAAADvBKHdCAADAoBMpd0IAAIAGZil3QgAAQGy4KXdCAAAA0goqd0IAAMA3XSp3QgAAgJ2vKndCAABAAwIrd0IAAABpVCt3QgAAwM6mK3dCAACANPkrd0IAAECaSyx3QgAAAACeLHdCAADAZfAsd0I=\",\"dtype\":\"float64\",\"shape\":[97]},\"index\":[0,1,2,3,4,5,6,7,8,9,10,11,12,13,14,15,16,17,18,19,20,21,22,23,24,25,26,27,28,29,30,31,32,33,34,35,36,37,38,39,40,41,42,43,44,45,46,47,48,49,50,51,52,53,54,55,56,57,58,59,60,61,62,63,64,65,66,67,68,69,70,71,72,73,74,75,76,77,78,79,80,81,82,83,84,85,86,87,88,89,90,91,92,93,94,95,96]},\"selected\":{\"id\":\"4654\"},\"selection_policy\":{\"id\":\"4653\"}},\"id\":\"4575\",\"type\":\"ColumnDataSource\"},{\"attributes\":{\"overlay\":{\"id\":\"4566\"}},\"id\":\"4562\",\"type\":\"BoxZoomTool\"},{\"attributes\":{\"days\":[1,15]},\"id\":\"4593\",\"type\":\"DaysTicker\"},{\"attributes\":{\"active_drag\":\"auto\",\"active_inspect\":\"auto\",\"active_multi\":null,\"active_scroll\":\"auto\",\"active_tap\":\"auto\",\"tools\":[{\"id\":\"4560\"},{\"id\":\"4561\"},{\"id\":\"4562\"},{\"id\":\"4563\"},{\"id\":\"4564\"},{\"id\":\"4565\"}]},\"id\":\"4567\",\"type\":\"Toolbar\"},{\"attributes\":{},\"id\":\"4654\",\"type\":\"Selection\"},{\"attributes\":{\"months\":[0,1,2,3,4,5,6,7,8,9,10,11]},\"id\":\"4594\",\"type\":\"MonthsTicker\"},{\"attributes\":{\"data_source\":{\"id\":\"4575\"},\"glyph\":{\"id\":\"4602\"},\"hover_glyph\":null,\"muted_glyph\":null,\"nonselection_glyph\":{\"id\":\"4603\"},\"selection_glyph\":null,\"view\":{\"id\":\"4605\"}},\"id\":\"4604\",\"type\":\"GlyphRenderer\"},{\"attributes\":{\"label\":{\"value\":\"7-day rolling avg (NoHo)\"},\"renderers\":[{\"id\":\"4631\"}]},\"id\":\"4655\",\"type\":\"LegendItem\"},{\"attributes\":{\"months\":[0,2,4,6,8,10]},\"id\":\"4595\",\"type\":\"MonthsTicker\"},{\"attributes\":{},\"id\":\"4565\",\"type\":\"HelpTool\"},{\"attributes\":{},\"id\":\"4904\",\"type\":\"UnionRenderers\"},{\"attributes\":{\"fill_alpha\":{\"value\":0.8},\"fill_color\":{\"value\":\"green\"},\"line_alpha\":{\"value\":0.8},\"line_color\":{\"value\":\"green\"},\"top\":{\"field\":\"confirmed_cases\"},\"width\":{\"value\":0.4},\"x\":{\"field\":\"date\"}},\"id\":\"4577\",\"type\":\"VBar\"},{\"attributes\":{\"months\":[0,4,8]},\"id\":\"4596\",\"type\":\"MonthsTicker\"},{\"attributes\":{},\"id\":\"4563\",\"type\":\"SaveTool\"},{\"attributes\":{\"line_alpha\":0.1,\"line_color\":\"navy\",\"line_width\":5,\"x\":{\"field\":\"date\"},\"y\":{\"field\":\"confirmed_cases\"}},\"id\":\"4603\",\"type\":\"Line\"},{\"attributes\":{},\"id\":\"4557\",\"type\":\"BasicTicker\"},{\"attributes\":{\"months\":[0,6]},\"id\":\"4597\",\"type\":\"MonthsTicker\"},{\"attributes\":{},\"id\":\"4905\",\"type\":\"Selection\"},{\"attributes\":{\"formatter\":{\"id\":\"4583\"},\"ticker\":{\"id\":\"4553\"}},\"id\":\"4552\",\"type\":\"DatetimeAxis\"},{\"attributes\":{},\"id\":\"4598\",\"type\":\"YearsTicker\"},{\"attributes\":{\"axis\":{\"id\":\"4552\"},\"ticker\":null},\"id\":\"4555\",\"type\":\"Grid\"},{\"attributes\":{\"data\":{\"confirmed_cases\":{\"__ndarray__\":\"AAAAAAAA+H8AAAAAAAAAAAAAAAAAAABAAAAAAAAA8D8AAAAAAADwPwAAAAAAAPA/AAAAAAAAAAAAAAAAAADwPwAAAAAAAABAAAAAAAAAAEAAAAAAAAAUQAAAAAAAABBAAAAAAAAAEEAAAAAAAAAAQAAAAAAAABRAAAAAAAAA8D8AAAAAAAAQQAAAAAAAABhAAAAAAAAACEAAAAAAAAAYQAAAAAAAABBAAAAAAAAA8D8AAAAAAAAQQAAAAAAAAAhAAAAAAAAAAAAAAAAAAAAgQAAAAAAAABBAAAAAAAAACEAAAAAAAADwPwAAAAAAAPA/AAAAAAAAEEAAAAAAAAAAAAAAAAAAAAAAAAAAAAAACEAAAAAAAADwPwAAAAAAABBAAAAAAAAAEEAAAAAAAAAUQAAAAAAAABxAAAAAAAAAFEAAAAAAAAAAQAAAAAAAAAAAAAAAAAAAAAAAAAAAAAAIQAAAAAAAABRAAAAAAAAAAAAAAAAAAAAUQAAAAAAAAABAAAAAAAAAAEAAAAAAAAAUQAAAAAAAAChAAAAAAAAACEAAAAAAAAAYQAAAAAAAABBAAAAAAAAAKEAAAAAAAAAAQAAAAAAAAAhAAAAAAAAACEAAAAAAAAAUQAAAAAAAABhAAAAAAAAAAAAAAAAAAAAIQAAAAAAAAABAAAAAAAAAAEAAAAAAAAAIQAAAAAAAAAAAAAAAAAAACEAAAAAAAAAYQAAAAAAAAPA/AAAAAAAAAEAAAAAAAAAAAAAAAAAAABRAAAAAAAAA8D8AAAAAAAAAQAAAAAAAAAhAAAAAAAAACEAAAAAAAAAIQAAAAAAAABhAAAAAAAAACEAAAAAAAADwPwAAAAAAAAhAAAAAAAAAFEAAAAAAAAAIQAAAAAAAACBAAAAAAAAAFEAAAAAAAAAUQAAAAAAAAPA/AAAAAAAAEEAAAAAAAADwPwAAAAAAAABAAAAAAAAAEEAAAAAAAAAAAAAAAAAAAAhAAAAAAAAAEEAAAAAAAAAmQAAAAAAAABRAAAAAAAAAJkA=\",\"dtype\":\"float64\",\"shape\":[97]},\"date\":{\"__ndarray__\":\"AADAPQoOd0IAAICjXA53QgAAQAmvDndCAAAAbwEPd0IAAMDUUw93QgAAgDqmD3dCAABAoPgPd0IAAAAGSxB3QgAAwGudEHdCAACA0e8Qd0IAAEA3QhF3QgAAAJ2UEXdCAADAAucRd0IAAIBoORJ3QgAAQM6LEndCAAAANN4Sd0IAAMCZMBN3QgAAgP+CE3dCAABAZdUTd0IAAADLJxR3QgAAwDB6FHdCAACAlswUd0IAAED8HhV3QgAAAGJxFXdCAADAx8MVd0IAAIAtFhZ3QgAAQJNoFndCAAAA+boWd0IAAMBeDRd3QgAAgMRfF3dCAABAKrIXd0IAAACQBBh3QgAAwPVWGHdCAACAW6kYd0IAAEDB+xh3QgAAACdOGXdCAADAjKAZd0IAAIDy8hl3QgAAQFhFGndCAAAAvpcad0IAAMAj6hp3QgAAgIk8G3dCAABA744bd0IAAABV4Rt3QgAAwLozHHdCAACAIIYcd0IAAECG2Bx3QgAAAOwqHXdCAADAUX0dd0IAAIC3zx13QgAAQB0iHndCAAAAg3Qed0IAAMDoxh53QgAAgE4ZH3dCAABAtGsfd0IAAAAavh93QgAAwH8QIHdCAACA5WIgd0IAAEBLtSB3QgAAALEHIXdCAADAFlohd0IAAIB8rCF3QgAAQOL+IXdCAAAASFEid0IAAMCtoyJ3QgAAgBP2IndCAABAeUgjd0IAAADfmiN3QgAAwETtI3dCAACAqj8kd0IAAEAQkiR3QgAAAHbkJHdCAADA2zYld0IAAIBBiSV3QgAAQKfbJXdCAAAADS4md0IAAMBygCZ3QgAAgNjSJndCAABAPiUnd0IAAACkdyd3QgAAwAnKJ3dCAACAbxwod0IAAEDVbih3QgAAADvBKHdCAADAoBMpd0IAAIAGZil3QgAAQGy4KXdCAAAA0goqd0IAAMA3XSp3QgAAgJ2vKndCAABAAwIrd0IAAABpVCt3QgAAwM6mK3dCAACANPkrd0IAAECaSyx3QgAAAACeLHdCAADAZfAsd0I=\",\"dtype\":\"float64\",\"shape\":[97]},\"index\":[0,1,2,3,4,5,6,7,8,9,10,11,12,13,14,15,16,17,18,19,20,21,22,23,24,25,26,27,28,29,30,31,32,33,34,35,36,37,38,39,40,41,42,43,44,45,46,47,48,49,50,51,52,53,54,55,56,57,58,59,60,61,62,63,64,65,66,67,68,69,70,71,72,73,74,75,76,77,78,79,80,81,82,83,84,85,86,87,88,89,90,91,92,93,94,95,96]},\"selected\":{\"id\":\"4625\"},\"selection_policy\":{\"id\":\"4624\"}},\"id\":\"4574\",\"type\":\"ColumnDataSource\"},{\"attributes\":{\"items\":[{\"id\":\"4600\"},{\"id\":\"4626\"},{\"id\":\"4655\"}]},\"id\":\"4599\",\"type\":\"Legend\"},{\"attributes\":{\"formatter\":{\"id\":\"4585\"},\"ticker\":{\"id\":\"4557\"}},\"id\":\"4556\",\"type\":\"LinearAxis\"},{\"attributes\":{\"line_alpha\":0.3,\"line_color\":\"navy\",\"line_width\":5,\"x\":{\"field\":\"date\"},\"y\":{\"field\":\"confirmed_cases\"}},\"id\":\"4602\",\"type\":\"Line\"},{\"attributes\":{},\"id\":\"4585\",\"type\":\"BasicTickFormatter\"},{\"attributes\":{},\"id\":\"4583\",\"type\":\"DatetimeTickFormatter\"},{\"attributes\":{\"source\":{\"id\":\"4575\"}},\"id\":\"4605\",\"type\":\"CDSView\"},{\"attributes\":{\"data_source\":{\"id\":\"4574\"},\"glyph\":{\"id\":\"4577\"},\"hover_glyph\":null,\"muted_glyph\":null,\"nonselection_glyph\":{\"id\":\"4578\"},\"selection_glyph\":null,\"view\":{\"id\":\"4580\"}},\"id\":\"4579\",\"type\":\"GlyphRenderer\"},{\"attributes\":{},\"id\":\"4624\",\"type\":\"UnionRenderers\"},{\"attributes\":{\"label\":{\"value\":\"7-day rolling avg (Sherman Oaks)\"},\"renderers\":[{\"id\":\"4604\"}]},\"id\":\"4626\",\"type\":\"LegendItem\"},{\"attributes\":{\"bottom_units\":\"screen\",\"fill_alpha\":0.5,\"fill_color\":\"lightgrey\",\"left_units\":\"screen\",\"level\":\"overlay\",\"line_alpha\":1.0,\"line_color\":\"black\",\"line_dash\":[4,4],\"line_width\":2,\"render_mode\":\"css\",\"right_units\":\"screen\",\"top_units\":\"screen\"},\"id\":\"4566\",\"type\":\"BoxAnnotation\"},{\"attributes\":{\"num_minor_ticks\":5,\"tickers\":[{\"id\":\"4587\"},{\"id\":\"4588\"},{\"id\":\"4589\"},{\"id\":\"4590\"},{\"id\":\"4591\"},{\"id\":\"4592\"},{\"id\":\"4593\"},{\"id\":\"4594\"},{\"id\":\"4595\"},{\"id\":\"4596\"},{\"id\":\"4597\"},{\"id\":\"4598\"}]},\"id\":\"4553\",\"type\":\"DatetimeTicker\"},{\"attributes\":{\"mantissas\":[1,2,5],\"max_interval\":500.0,\"num_minor_ticks\":0},\"id\":\"4587\",\"type\":\"AdaptiveTicker\"},{\"attributes\":{\"source\":{\"id\":\"4574\"}},\"id\":\"4580\",\"type\":\"CDSView\"},{\"attributes\":{},\"id\":\"4550\",\"type\":\"LinearScale\"},{\"attributes\":{},\"id\":\"4625\",\"type\":\"Selection\"},{\"attributes\":{},\"id\":\"4548\",\"type\":\"LinearScale\"},{\"attributes\":{\"fill_alpha\":{\"value\":0.1},\"fill_color\":{\"value\":\"green\"},\"line_alpha\":{\"value\":0.1},\"line_color\":{\"value\":\"green\"},\"top\":{\"field\":\"confirmed_cases\"},\"width\":{\"value\":0.4},\"x\":{\"field\":\"date\"}},\"id\":\"4578\",\"type\":\"VBar\"}],\"root_ids\":[\"4541\"]},\"title\":\"Bokeh Application\",\"version\":\"2.0.2\"}};\n",
       "  var render_items = [{\"docid\":\"18a37995-1194-4a92-ae5e-bb53de9cec93\",\"root_ids\":[\"4541\"],\"roots\":{\"4541\":\"51051fea-305d-4214-8fd0-11325f27024d\"}}];\n",
       "  root.Bokeh.embed.embed_items_notebook(docs_json, render_items);\n",
       "\n",
       "  }\n",
       "  if (root.Bokeh !== undefined) {\n",
       "    embed_document(root);\n",
       "  } else {\n",
       "    var attempts = 0;\n",
       "    var timer = setInterval(function(root) {\n",
       "      if (root.Bokeh !== undefined) {\n",
       "        clearInterval(timer);\n",
       "        embed_document(root);\n",
       "      } else {\n",
       "        attempts++;\n",
       "        if (attempts > 100) {\n",
       "          clearInterval(timer);\n",
       "          console.log(\"Bokeh: ERROR: Unable to run BokehJS code because BokehJS library is missing\");\n",
       "        }\n",
       "      }\n",
       "    }, 10, root)\n",
       "  }\n",
       "})(window);"
      ],
      "application/vnd.bokehjs_exec.v0+json": ""
     },
     "metadata": {
      "application/vnd.bokehjs_exec.v0+json": {
       "id": "4541"
      }
     },
     "output_type": "display_data"
    },
    {
     "data": {
      "text/html": [
       "\n",
       "\n",
       "\n",
       "\n",
       "\n",
       "\n",
       "  <div class=\"bk-root\" id=\"a149f9ab-f9ff-431e-821a-995787db4c87\" data-root-id=\"5050\"></div>\n"
      ]
     },
     "metadata": {},
     "output_type": "display_data"
    },
    {
     "data": {
      "application/javascript": [
       "(function(root) {\n",
       "  function embed_document(root) {\n",
       "    \n",
       "  var docs_json = {\"cf092975-2901-45ba-b073-e4bf9f07b7bf\":{\"roots\":{\"references\":[{\"attributes\":{\"below\":[{\"id\":\"5061\"}],\"center\":[{\"id\":\"5064\"},{\"id\":\"5068\"},{\"id\":\"5108\"}],\"left\":[{\"id\":\"5065\"}],\"plot_height\":400,\"plot_width\":1000,\"renderers\":[{\"id\":\"5088\"},{\"id\":\"5113\"},{\"id\":\"5140\"}],\"title\":{\"id\":\"5051\"},\"toolbar\":{\"id\":\"5076\"},\"x_range\":{\"id\":\"5053\"},\"x_scale\":{\"id\":\"5057\"},\"y_range\":{\"id\":\"5055\"},\"y_scale\":{\"id\":\"5059\"}},\"id\":\"5050\",\"subtype\":\"Figure\",\"type\":\"Plot\"},{\"attributes\":{\"items\":[{\"id\":\"5109\"},{\"id\":\"5135\"},{\"id\":\"5164\"}]},\"id\":\"5108\",\"type\":\"Legend\"},{\"attributes\":{\"source\":{\"id\":\"5083\"}},\"id\":\"5089\",\"type\":\"CDSView\"},{\"attributes\":{\"formatter\":{\"id\":\"5094\"},\"ticker\":{\"id\":\"5066\"}},\"id\":\"5065\",\"type\":\"LinearAxis\"},{\"attributes\":{\"source\":{\"id\":\"5084\"}},\"id\":\"5114\",\"type\":\"CDSView\"},{\"attributes\":{\"data\":{\"confirmed_cases\":{\"__ndarray__\":\"AAAAAAAA+H8AAAAAAAAAAAAAAAAAAPA/AAAAAAAAAAAAAAAAAAAIQAAAAAAAAAAAAAAAAAAAAAAAAAAAAAAQQAAAAAAAAAAAAAAAAAAAAAAAAAAAAAAQQAAAAAAAAPA/AAAAAAAACEAAAAAAAADwPwAAAAAAAAAAAAAAAAAAAAAAAAAAAAAAAAAAAAAAAABAAAAAAAAAAAAAAAAAAADwPwAAAAAAAAAAAAAAAAAAAAAAAAAAAAAAAAAAAAAAAAAAAAAAAAAAAAAAAAAAAAAAAAAAAAAAAPA/AAAAAAAAAAAAAAAAAAAAAAAAAAAAAAAAAAAAAAAAAEAAAAAAAAAAAAAAAAAAAPA/AAAAAAAA8D8AAAAAAADwPwAAAAAAAPA/AAAAAAAAAEAAAAAAAAAAQAAAAAAAAPA/AAAAAAAA8D8AAAAAAAAAQAAAAAAAAPA/AAAAAAAAAAAAAAAAAAAIQAAAAAAAABhAAAAAAAAAAAAAAAAAAAAYQAAAAAAAABBAAAAAAAAAAAAAAAAAAADwPwAAAAAAAAAAAAAAAAAAAAAAAAAAAAAAAAAAAAAAAABAAAAAAAAAEEAAAAAAAAAAQAAAAAAAAPA/AAAAAAAAAAAAAAAAAAAAAAAAAAAAAPA/AAAAAAAAAAAAAAAAAAAAQAAAAAAAAAAAAAAAAAAAAEAAAAAAAAAAAAAAAAAAAABAAAAAAAAAAAAAAAAAAAAAQAAAAAAAAPA/AAAAAAAA8D8AAAAAAAAAAAAAAAAAAPA/AAAAAAAAAEAAAAAAAADwPwAAAAAAAPA/AAAAAAAAAAAAAAAAAAAAQAAAAAAAAABAAAAAAAAAAAAAAAAAAAAAAAAAAAAAAPA/AAAAAAAA8D8AAAAAAADwPwAAAAAAAAAAAAAAAAAAAAAAAAAAAAAAAAAAAAAAAAAAAAAAAAAA8D8AAAAAAAAAAAAAAAAAAAAAAAAAAAAA8D8AAAAAAADwPwAAAAAAAPA/AAAAAAAAAEA=\",\"dtype\":\"float64\",\"shape\":[94]},\"date\":{\"__ndarray__\":\"AAAAbwEPd0IAAMDUUw93QgAAgDqmD3dCAABAoPgPd0IAAAAGSxB3QgAAwGudEHdCAACA0e8Qd0IAAEA3QhF3QgAAAJ2UEXdCAADAAucRd0IAAIBoORJ3QgAAQM6LEndCAAAANN4Sd0IAAMCZMBN3QgAAgP+CE3dCAABAZdUTd0IAAADLJxR3QgAAwDB6FHdCAACAlswUd0IAAED8HhV3QgAAAGJxFXdCAADAx8MVd0IAAIAtFhZ3QgAAQJNoFndCAAAA+boWd0IAAMBeDRd3QgAAgMRfF3dCAABAKrIXd0IAAACQBBh3QgAAwPVWGHdCAACAW6kYd0IAAEDB+xh3QgAAACdOGXdCAADAjKAZd0IAAIDy8hl3QgAAQFhFGndCAAAAvpcad0IAAMAj6hp3QgAAgIk8G3dCAABA744bd0IAAABV4Rt3QgAAwLozHHdCAACAIIYcd0IAAECG2Bx3QgAAAOwqHXdCAADAUX0dd0IAAIC3zx13QgAAQB0iHndCAAAAg3Qed0IAAMDoxh53QgAAgE4ZH3dCAABAtGsfd0IAAAAavh93QgAAwH8QIHdCAACA5WIgd0IAAEBLtSB3QgAAALEHIXdCAADAFlohd0IAAIB8rCF3QgAAQOL+IXdCAAAASFEid0IAAMCtoyJ3QgAAgBP2IndCAABAeUgjd0IAAADfmiN3QgAAwETtI3dCAACAqj8kd0IAAEAQkiR3QgAAAHbkJHdCAADA2zYld0IAAIBBiSV3QgAAQKfbJXdCAAAADS4md0IAAMBygCZ3QgAAgNjSJndCAABAPiUnd0IAAACkdyd3QgAAwAnKJ3dCAACAbxwod0IAAEDVbih3QgAAADvBKHdCAADAoBMpd0IAAIAGZil3QgAAQGy4KXdCAAAA0goqd0IAAMA3XSp3QgAAgJ2vKndCAABAAwIrd0IAAABpVCt3QgAAwM6mK3dCAACANPkrd0IAAECaSyx3QgAAAACeLHdCAADAZfAsd0I=\",\"dtype\":\"float64\",\"shape\":[94]},\"index\":[0,1,2,3,4,5,6,7,8,9,10,11,12,13,14,15,16,17,18,19,20,21,22,23,24,25,26,27,28,29,30,31,32,33,34,35,36,37,38,39,40,41,42,43,44,45,46,47,48,49,50,51,52,53,54,55,56,57,58,59,60,61,62,63,64,65,66,67,68,69,70,71,72,73,74,75,76,77,78,79,80,81,82,83,84,85,86,87,88,89,90,91,92,93]},\"selected\":{\"id\":\"5134\"},\"selection_policy\":{\"id\":\"5133\"}},\"id\":\"5083\",\"type\":\"ColumnDataSource\"},{\"attributes\":{},\"id\":\"5066\",\"type\":\"BasicTicker\"},{\"attributes\":{},\"id\":\"5133\",\"type\":\"UnionRenderers\"},{\"attributes\":{\"data_source\":{\"id\":\"5083\"},\"glyph\":{\"id\":\"5086\"},\"hover_glyph\":null,\"muted_glyph\":null,\"nonselection_glyph\":{\"id\":\"5087\"},\"selection_glyph\":null,\"view\":{\"id\":\"5089\"}},\"id\":\"5088\",\"type\":\"GlyphRenderer\"},{\"attributes\":{\"axis\":{\"id\":\"5065\"},\"dimension\":1,\"ticker\":null},\"id\":\"5068\",\"type\":\"Grid\"},{\"attributes\":{\"data_source\":{\"id\":\"5084\"},\"glyph\":{\"id\":\"5111\"},\"hover_glyph\":null,\"muted_glyph\":null,\"nonselection_glyph\":{\"id\":\"5112\"},\"selection_glyph\":null,\"view\":{\"id\":\"5114\"}},\"id\":\"5113\",\"type\":\"GlyphRenderer\"},{\"attributes\":{\"data\":{\"confirmed_cases\":{\"__ndarray__\":\"AAAAAAAA+H8AAAAAAAAAAAAAAAAAAOA/VVVVVVVV1T8AAAAAAADwP5qZmZmZmek/VVVVVVVV5T+SJEmSJEnyP5IkSZIkSfI/AAAAAAAA8D9JkiRJkiT5PyVJkiRJkvQ/27Zt27Zt+z9u27Zt27b9PyVJkiRJkvQ/JUmSJEmS9D8lSZIkSZL0PwAAAAAAAPA/27Zt27Zt6z+SJEmSJEniP9u2bdu2bds/27Zt27Zt2z/btm3btm3bP9u2bdu2bds/kiRJkiRJwj+SJEmSJEnCP5IkSZIkScI/kiRJkiRJwj+SJEmSJEnCP5IkSZIkScI/27Zt27Zt2z/btm3btm3bP5IkSZIkSeI/kiRJkiRJ4j+3bdu2bdvmP9u2bdu2bes/kiRJkiRJ8j+SJEmSJEnyPyVJkiRJkvQ/JUmSJEmS9D+3bdu2bdv2P7dt27Zt2/Y/JUmSJEmS9D+3bdu2bdv2PwAAAAAAAABAbtu2bdu2/T8lSZIkSZIEQLdt27Zt2wZAbtu2bdu2BUC3bdu2bdsGQNu2bdu2bQNASZIkSZIk+T9JkiRJkiT5PwAAAAAAAPA/AAAAAAAA8D8lSZIkSZL0PyVJkiRJkvQ/JUmSJEmS9D8lSZIkSZL0P7dt27Zt2/Y/kiRJkiRJ8j/btm3btm3rP5IkSZIkSeI/t23btm3b5j+3bdu2bdvmPwAAAAAAAPA/27Zt27Zt6z+SJEmSJEnyPwAAAAAAAPA/kiRJkiRJ8j/btm3btm3rPwAAAAAAAPA/AAAAAAAA8D+SJEmSJEnyPwAAAAAAAPA/27Zt27Zt6z8AAAAAAADwPyVJkiRJkvQ/kiRJkiRJ8j/btm3btm3rP9u2bdu2bes/27Zt27Zt6z8AAAAAAADwP7dt27Zt2+Y/27Zt27Zt2z/btm3btm3bP9u2bdu2bds/27Zt27Zt2z+SJEmSJEnSP5IkSZIkScI/kiRJkiRJ0j/btm3btm3bP5IkSZIkSeI/27Zt27Zt6z8=\",\"dtype\":\"float64\",\"shape\":[94]},\"date\":{\"__ndarray__\":\"AAAAbwEPd0IAAMDUUw93QgAAgDqmD3dCAABAoPgPd0IAAAAGSxB3QgAAwGudEHdCAACA0e8Qd0IAAEA3QhF3QgAAAJ2UEXdCAADAAucRd0IAAIBoORJ3QgAAQM6LEndCAAAANN4Sd0IAAMCZMBN3QgAAgP+CE3dCAABAZdUTd0IAAADLJxR3QgAAwDB6FHdCAACAlswUd0IAAED8HhV3QgAAAGJxFXdCAADAx8MVd0IAAIAtFhZ3QgAAQJNoFndCAAAA+boWd0IAAMBeDRd3QgAAgMRfF3dCAABAKrIXd0IAAACQBBh3QgAAwPVWGHdCAACAW6kYd0IAAEDB+xh3QgAAACdOGXdCAADAjKAZd0IAAIDy8hl3QgAAQFhFGndCAAAAvpcad0IAAMAj6hp3QgAAgIk8G3dCAABA744bd0IAAABV4Rt3QgAAwLozHHdCAACAIIYcd0IAAECG2Bx3QgAAAOwqHXdCAADAUX0dd0IAAIC3zx13QgAAQB0iHndCAAAAg3Qed0IAAMDoxh53QgAAgE4ZH3dCAABAtGsfd0IAAAAavh93QgAAwH8QIHdCAACA5WIgd0IAAEBLtSB3QgAAALEHIXdCAADAFlohd0IAAIB8rCF3QgAAQOL+IXdCAAAASFEid0IAAMCtoyJ3QgAAgBP2IndCAABAeUgjd0IAAADfmiN3QgAAwETtI3dCAACAqj8kd0IAAEAQkiR3QgAAAHbkJHdCAADA2zYld0IAAIBBiSV3QgAAQKfbJXdCAAAADS4md0IAAMBygCZ3QgAAgNjSJndCAABAPiUnd0IAAACkdyd3QgAAwAnKJ3dCAACAbxwod0IAAEDVbih3QgAAADvBKHdCAADAoBMpd0IAAIAGZil3QgAAQGy4KXdCAAAA0goqd0IAAMA3XSp3QgAAgJ2vKndCAABAAwIrd0IAAABpVCt3QgAAwM6mK3dCAACANPkrd0IAAECaSyx3QgAAAACeLHdCAADAZfAsd0I=\",\"dtype\":\"float64\",\"shape\":[94]},\"index\":[0,1,2,3,4,5,6,7,8,9,10,11,12,13,14,15,16,17,18,19,20,21,22,23,24,25,26,27,28,29,30,31,32,33,34,35,36,37,38,39,40,41,42,43,44,45,46,47,48,49,50,51,52,53,54,55,56,57,58,59,60,61,62,63,64,65,66,67,68,69,70,71,72,73,74,75,76,77,78,79,80,81,82,83,84,85,86,87,88,89,90,91,92,93]},\"selected\":{\"id\":\"5163\"},\"selection_policy\":{\"id\":\"5162\"}},\"id\":\"5084\",\"type\":\"ColumnDataSource\"},{\"attributes\":{},\"id\":\"5092\",\"type\":\"DatetimeTickFormatter\"},{\"attributes\":{\"fill_alpha\":{\"value\":0.1},\"fill_color\":{\"value\":\"green\"},\"line_alpha\":{\"value\":0.1},\"line_color\":{\"value\":\"green\"},\"top\":{\"field\":\"confirmed_cases\"},\"width\":{\"value\":0.4},\"x\":{\"field\":\"date\"}},\"id\":\"5087\",\"type\":\"VBar\"},{\"attributes\":{},\"id\":\"5134\",\"type\":\"Selection\"},{\"attributes\":{},\"id\":\"5094\",\"type\":\"BasicTickFormatter\"},{\"attributes\":{\"label\":{\"value\":\"7-day rolling avg (Studio City)\"},\"renderers\":[{\"id\":\"5113\"}]},\"id\":\"5135\",\"type\":\"LegendItem\"},{\"attributes\":{\"line_alpha\":0.3,\"line_color\":\"navy\",\"line_width\":5,\"x\":{\"field\":\"date\"},\"y\":{\"field\":\"confirmed_cases\"}},\"id\":\"5111\",\"type\":\"Line\"},{\"attributes\":{\"mantissas\":[1,2,5],\"max_interval\":500.0,\"num_minor_ticks\":0},\"id\":\"5096\",\"type\":\"AdaptiveTicker\"},{\"attributes\":{},\"id\":\"5069\",\"type\":\"PanTool\"},{\"attributes\":{\"line_alpha\":0.2,\"line_color\":\"red\",\"line_width\":5,\"x\":{\"field\":\"date\"},\"y\":{\"field\":\"confirmed_cases\"}},\"id\":\"5138\",\"type\":\"Line\"},{\"attributes\":{},\"id\":\"5070\",\"type\":\"WheelZoomTool\"},{\"attributes\":{\"source\":{\"id\":\"5136\"}},\"id\":\"5141\",\"type\":\"CDSView\"},{\"attributes\":{\"base\":60,\"mantissas\":[1,2,5,10,15,20,30],\"max_interval\":1800000.0,\"min_interval\":1000.0,\"num_minor_ticks\":0},\"id\":\"5097\",\"type\":\"AdaptiveTicker\"},{\"attributes\":{\"overlay\":{\"id\":\"5075\"}},\"id\":\"5071\",\"type\":\"BoxZoomTool\"},{\"attributes\":{\"line_alpha\":0.1,\"line_color\":\"red\",\"line_width\":5,\"x\":{\"field\":\"date\"},\"y\":{\"field\":\"confirmed_cases\"}},\"id\":\"5139\",\"type\":\"Line\"},{\"attributes\":{\"base\":24,\"mantissas\":[1,2,4,6,8,12],\"max_interval\":43200000.0,\"min_interval\":3600000.0,\"num_minor_ticks\":0},\"id\":\"5098\",\"type\":\"AdaptiveTicker\"},{\"attributes\":{},\"id\":\"5072\",\"type\":\"SaveTool\"},{\"attributes\":{\"days\":[1,2,3,4,5,6,7,8,9,10,11,12,13,14,15,16,17,18,19,20,21,22,23,24,25,26,27,28,29,30,31]},\"id\":\"5099\",\"type\":\"DaysTicker\"},{\"attributes\":{\"data_source\":{\"id\":\"5136\"},\"glyph\":{\"id\":\"5138\"},\"hover_glyph\":null,\"muted_glyph\":null,\"nonselection_glyph\":{\"id\":\"5139\"},\"selection_glyph\":null,\"view\":{\"id\":\"5141\"}},\"id\":\"5140\",\"type\":\"GlyphRenderer\"},{\"attributes\":{},\"id\":\"5073\",\"type\":\"ResetTool\"},{\"attributes\":{\"days\":[1,4,7,10,13,16,19,22,25,28]},\"id\":\"5100\",\"type\":\"DaysTicker\"},{\"attributes\":{},\"id\":\"5162\",\"type\":\"UnionRenderers\"},{\"attributes\":{},\"id\":\"5074\",\"type\":\"HelpTool\"},{\"attributes\":{\"data\":{\"confirmed_cases\":{\"__ndarray__\":\"AAAAAAAA+H8AAAAAAADwPwAAAAAAAPA/VVVVVVVV9T8AAAAAAADwP5qZmZmZmek/VVVVVVVV9T8lSZIkSZL0PyVJkiRJkvQ/27Zt27Zt+z9u27Zt27b9PwAAAAAAAAhAJUmSJEmSDEAlSZIkSZIMQCVJkiRJkhBA27Zt27ZtE0AAAAAAAAAYQAAAAAAAABxASZIkSZIkIUDbtm3btm0hQAAAAAAAACBAt23btm3bIEAlSZIkSZIgQJIkSZIkSRpAkiRJkiRJGkC3bdu2bdsSQEmSJEmSJBFASZIkSZIkFUC3bdu2bdsWQAAAAAAAABhAbtu2bdu2GUC3bdu2bdsWQCVJkiRJkhhAJUmSJEmSGECSJEmSJEkgQG7btm3btiFASZIkSZIkJ0AAAAAAAAAqQJIkSZIkSS5AAAAAAAAAMEAAAAAAAAAxQAAAAAAAADJAkiRJkiRJMEBJkiRJkiQvQNu2bdu2bStAbtu2bdu2L0C3bdu2bdsuQEmSJEmSJC9ASZIkSZIkKUBu27Zt27YwQNu2bdu2bS9At23btm3bMUAlSZIkSZIqQLdt27Zt2ypA27Zt27ZtKUAAAAAAAAAqQAAAAAAAACRAJUmSJEmSJEAAAAAAAAAkQEmSJEmSJCNAJUmSJEmSJkCSJEmSJEkmQG7btm3btiVAt23btm3bIkAlSZIkSZIcQAAAAAAAACBA27Zt27ZtIUC3bdu2bdseQG7btm3btiFA27Zt27ZtIUCSJEmSJEkoQCVJkiRJkipAbtu2bdu2J0BJkiRJkiQrQG7btm3btitAbtu2bdu2LUC3bdu2bdsuQJIkSZIkSSxAbtu2bdu2LUBJkiRJkiQtQLdt27Zt2ypAt23btm3bJkCSJEmSJEkmQLdt27Zt2yZAkiRJkiRJJkBJkiRJkiQnQCVJkiRJkixASZIkSZIkLUBu27Zt27YwQNu2bdu2bS9At23btm3bLEDbtm3btm0rQJIkSZIkSSxASZIkSZIkKUBu27Zt27YrQG7btm3btitA\",\"dtype\":\"float64\",\"shape\":[96]},\"date\":{\"__ndarray__\":\"AACAo1wOd0IAAEAJrw53QgAAAG8BD3dCAADA1FMPd0IAAIA6pg93QgAAQKD4D3dCAAAABksQd0IAAMBrnRB3QgAAgNHvEHdCAABAN0IRd0IAAACdlBF3QgAAwALnEXdCAACAaDkSd0IAAEDOixJ3QgAAADTeEndCAADAmTATd0IAAID/ghN3QgAAQGXVE3dCAAAAyycUd0IAAMAwehR3QgAAgJbMFHdCAABA/B4Vd0IAAABicRV3QgAAwMfDFXdCAACALRYWd0IAAECTaBZ3QgAAAPm6FndCAADAXg0Xd0IAAIDEXxd3QgAAQCqyF3dCAAAAkAQYd0IAAMD1Vhh3QgAAgFupGHdCAABAwfsYd0IAAAAnThl3QgAAwIygGXdCAACA8vIZd0IAAEBYRRp3QgAAAL6XGndCAADAI+oad0IAAICJPBt3QgAAQO+OG3dCAAAAVeEbd0IAAMC6Mxx3QgAAgCCGHHdCAABAhtgcd0IAAADsKh13QgAAwFF9HXdCAACAt88dd0IAAEAdIh53QgAAAIN0HndCAADA6MYed0IAAIBOGR93QgAAQLRrH3dCAAAAGr4fd0IAAMB/ECB3QgAAgOViIHdCAABAS7Ugd0IAAACxByF3QgAAwBZaIXdCAACAfKwhd0IAAEDi/iF3QgAAAEhRIndCAADAraMid0IAAIAT9iJ3QgAAQHlII3dCAAAA35ojd0IAAMBE7SN3QgAAgKo/JHdCAABAEJIkd0IAAAB25CR3QgAAwNs2JXdCAACAQYkld0IAAECn2yV3QgAAAA0uJndCAADAcoAmd0IAAIDY0iZ3QgAAQD4lJ3dCAAAApHcnd0IAAMAJyid3QgAAgG8cKHdCAABA1W4od0IAAAA7wSh3QgAAwKATKXdCAACABmYpd0IAAEBsuCl3QgAAANIKKndCAADAN10qd0IAAICdryp3QgAAQAMCK3dCAAAAaVQrd0IAAMDOpit3QgAAgDT5K3dCAABAmkssd0IAAAAAnix3QgAAwGXwLHdC\",\"dtype\":\"float64\",\"shape\":[96]},\"index\":[0,1,2,3,4,5,6,7,8,9,10,11,12,13,14,15,16,17,18,19,20,21,22,23,24,25,26,27,28,29,30,31,32,33,34,35,36,37,38,39,40,41,42,43,44,45,46,47,48,49,50,51,52,53,54,55,56,57,58,59,60,61,62,63,64,65,66,67,68,69,70,71,72,73,74,75,76,77,78,79,80,81,82,83,84,85,86,87,88,89,90,91,92,93,94,95]},\"selected\":{\"id\":\"5438\"},\"selection_policy\":{\"id\":\"5437\"}},\"id\":\"5136\",\"type\":\"ColumnDataSource\"},{\"attributes\":{\"days\":[1,8,15,22]},\"id\":\"5101\",\"type\":\"DaysTicker\"},{\"attributes\":{\"line_alpha\":0.1,\"line_color\":\"navy\",\"line_width\":5,\"x\":{\"field\":\"date\"},\"y\":{\"field\":\"confirmed_cases\"}},\"id\":\"5112\",\"type\":\"Line\"},{\"attributes\":{},\"id\":\"5059\",\"type\":\"LinearScale\"},{\"attributes\":{\"days\":[1,15]},\"id\":\"5102\",\"type\":\"DaysTicker\"},{\"attributes\":{\"num_minor_ticks\":5,\"tickers\":[{\"id\":\"5096\"},{\"id\":\"5097\"},{\"id\":\"5098\"},{\"id\":\"5099\"},{\"id\":\"5100\"},{\"id\":\"5101\"},{\"id\":\"5102\"},{\"id\":\"5103\"},{\"id\":\"5104\"},{\"id\":\"5105\"},{\"id\":\"5106\"},{\"id\":\"5107\"}]},\"id\":\"5062\",\"type\":\"DatetimeTicker\"},{\"attributes\":{\"bottom_units\":\"screen\",\"fill_alpha\":0.5,\"fill_color\":\"lightgrey\",\"left_units\":\"screen\",\"level\":\"overlay\",\"line_alpha\":1.0,\"line_color\":\"black\",\"line_dash\":[4,4],\"line_width\":2,\"render_mode\":\"css\",\"right_units\":\"screen\",\"top_units\":\"screen\"},\"id\":\"5075\",\"type\":\"BoxAnnotation\"},{\"attributes\":{\"months\":[0,1,2,3,4,5,6,7,8,9,10,11]},\"id\":\"5103\",\"type\":\"MonthsTicker\"},{\"attributes\":{},\"id\":\"5163\",\"type\":\"Selection\"},{\"attributes\":{\"label\":{\"value\":\"7-day rolling avg (NoHo)\"},\"renderers\":[{\"id\":\"5140\"}]},\"id\":\"5164\",\"type\":\"LegendItem\"},{\"attributes\":{\"months\":[0,2,4,6,8,10]},\"id\":\"5104\",\"type\":\"MonthsTicker\"},{\"attributes\":{\"label\":{\"value\":\"Daily new cases\"},\"renderers\":[{\"id\":\"5088\"}]},\"id\":\"5109\",\"type\":\"LegendItem\"},{\"attributes\":{\"formatter\":{\"id\":\"5092\"},\"ticker\":{\"id\":\"5062\"}},\"id\":\"5061\",\"type\":\"DatetimeAxis\"},{\"attributes\":{\"months\":[0,4,8]},\"id\":\"5105\",\"type\":\"MonthsTicker\"},{\"attributes\":{},\"id\":\"5437\",\"type\":\"UnionRenderers\"},{\"attributes\":{},\"id\":\"5057\",\"type\":\"LinearScale\"},{\"attributes\":{},\"id\":\"5053\",\"type\":\"DataRange1d\"},{\"attributes\":{\"months\":[0,6]},\"id\":\"5106\",\"type\":\"MonthsTicker\"},{\"attributes\":{\"active_drag\":\"auto\",\"active_inspect\":\"auto\",\"active_multi\":null,\"active_scroll\":\"auto\",\"active_tap\":\"auto\",\"tools\":[{\"id\":\"5069\"},{\"id\":\"5070\"},{\"id\":\"5071\"},{\"id\":\"5072\"},{\"id\":\"5073\"},{\"id\":\"5074\"}]},\"id\":\"5076\",\"type\":\"Toolbar\"},{\"attributes\":{},\"id\":\"5438\",\"type\":\"Selection\"},{\"attributes\":{\"text\":\"Daily new cases --Studio City\"},\"id\":\"5051\",\"type\":\"Title\"},{\"attributes\":{\"fill_alpha\":{\"value\":0.8},\"fill_color\":{\"value\":\"green\"},\"line_alpha\":{\"value\":0.8},\"line_color\":{\"value\":\"green\"},\"top\":{\"field\":\"confirmed_cases\"},\"width\":{\"value\":0.4},\"x\":{\"field\":\"date\"}},\"id\":\"5086\",\"type\":\"VBar\"},{\"attributes\":{},\"id\":\"5107\",\"type\":\"YearsTicker\"},{\"attributes\":{},\"id\":\"5055\",\"type\":\"DataRange1d\"},{\"attributes\":{\"axis\":{\"id\":\"5061\"},\"ticker\":null},\"id\":\"5064\",\"type\":\"Grid\"}],\"root_ids\":[\"5050\"]},\"title\":\"Bokeh Application\",\"version\":\"2.0.2\"}};\n",
       "  var render_items = [{\"docid\":\"cf092975-2901-45ba-b073-e4bf9f07b7bf\",\"root_ids\":[\"5050\"],\"roots\":{\"5050\":\"a149f9ab-f9ff-431e-821a-995787db4c87\"}}];\n",
       "  root.Bokeh.embed.embed_items_notebook(docs_json, render_items);\n",
       "\n",
       "  }\n",
       "  if (root.Bokeh !== undefined) {\n",
       "    embed_document(root);\n",
       "  } else {\n",
       "    var attempts = 0;\n",
       "    var timer = setInterval(function(root) {\n",
       "      if (root.Bokeh !== undefined) {\n",
       "        clearInterval(timer);\n",
       "        embed_document(root);\n",
       "      } else {\n",
       "        attempts++;\n",
       "        if (attempts > 100) {\n",
       "          clearInterval(timer);\n",
       "          console.log(\"Bokeh: ERROR: Unable to run BokehJS code because BokehJS library is missing\");\n",
       "        }\n",
       "      }\n",
       "    }, 10, root)\n",
       "  }\n",
       "})(window);"
      ],
      "application/vnd.bokehjs_exec.v0+json": ""
     },
     "metadata": {
      "application/vnd.bokehjs_exec.v0+json": {
       "id": "5050"
      }
     },
     "output_type": "display_data"
    },
    {
     "data": {
      "text/html": [
       "\n",
       "\n",
       "\n",
       "\n",
       "\n",
       "\n",
       "  <div class=\"bk-root\" id=\"c559626f-152e-40d7-8ab8-6645a4fa54cc\" data-root-id=\"5583\"></div>\n"
      ]
     },
     "metadata": {},
     "output_type": "display_data"
    },
    {
     "data": {
      "application/javascript": [
       "(function(root) {\n",
       "  function embed_document(root) {\n",
       "    \n",
       "  var docs_json = {\"def16b22-0d05-4a26-b656-f4db7268109d\":{\"roots\":{\"references\":[{\"attributes\":{\"below\":[{\"id\":\"5594\"}],\"center\":[{\"id\":\"5597\"},{\"id\":\"5601\"},{\"id\":\"5641\"}],\"left\":[{\"id\":\"5598\"}],\"plot_height\":400,\"plot_width\":1000,\"renderers\":[{\"id\":\"5621\"},{\"id\":\"5646\"},{\"id\":\"5673\"}],\"title\":{\"id\":\"5584\"},\"toolbar\":{\"id\":\"5609\"},\"x_range\":{\"id\":\"5586\"},\"x_scale\":{\"id\":\"5590\"},\"y_range\":{\"id\":\"5588\"},\"y_scale\":{\"id\":\"5592\"}},\"id\":\"5583\",\"subtype\":\"Figure\",\"type\":\"Plot\"},{\"attributes\":{\"active_drag\":\"auto\",\"active_inspect\":\"auto\",\"active_multi\":null,\"active_scroll\":\"auto\",\"active_tap\":\"auto\",\"tools\":[{\"id\":\"5602\"},{\"id\":\"5603\"},{\"id\":\"5604\"},{\"id\":\"5605\"},{\"id\":\"5606\"},{\"id\":\"5607\"}]},\"id\":\"5609\",\"type\":\"Toolbar\"},{\"attributes\":{},\"id\":\"5695\",\"type\":\"UnionRenderers\"},{\"attributes\":{\"days\":[1,15]},\"id\":\"5635\",\"type\":\"DaysTicker\"},{\"attributes\":{},\"id\":\"5603\",\"type\":\"WheelZoomTool\"},{\"attributes\":{\"source\":{\"id\":\"5617\"}},\"id\":\"5647\",\"type\":\"CDSView\"},{\"attributes\":{},\"id\":\"5607\",\"type\":\"HelpTool\"},{\"attributes\":{\"months\":[0,1,2,3,4,5,6,7,8,9,10,11]},\"id\":\"5636\",\"type\":\"MonthsTicker\"},{\"attributes\":{},\"id\":\"5666\",\"type\":\"UnionRenderers\"},{\"attributes\":{\"data\":{\"confirmed_cases\":{\"__ndarray__\":\"AAAAAAAA+H8AAAAAAAAAAAAAAAAAAPA/AAAAAAAAAAAAAAAAAAAAQAAAAAAAAAAAAAAAAAAAAAAAAAAAAAAAAAAAAAAAAAAAAAAAAAAAAEAAAAAAAADwPwAAAAAAAAhAAAAAAAAACEAAAAAAAAAQQAAAAAAAABRAAAAAAAAAEEAAAAAAAAAcQAAAAAAAAAhAAAAAAAAAAEAAAAAAAAAuQAAAAAAAACBAAAAAAAAAAAAAAAAAAAAoQAAAAAAAABBAAAAAAAAACEAAAAAAAAAYQAAAAAAAABhAAAAAAAAAEEAAAAAAAAAgQAAAAAAAACJAAAAAAAAAEEAAAAAAAAAcQAAAAAAAADJAAAAAAAAAPkAAAAAAAAAzQAAAAAAAAC5AAAAAAAAAMEAAAAAAAAAiQAAAAAAAABhAAAAAAAAALkAAAAAAAAAUQAAAAAAAADRAAAAAAAAAAAAAAAAAAAA+QAAAAAAAACpAAAAAAAAAKEAAAAAAAAAqQAAAAAAAAEdAAAAAAAAAJEAAAAAAAAAkQAAAAAAAADJAAAAAAAAAGEAAAAAAAAAcQAAAAAAAACRAAAAAAAAANEAAAAAAAAAxQAAAAAAAADBAAAAAAAAAAAAAAAAAAAA4QAAAAAAAACxAAAAAAAAAIkAAAAAAAAAyQAAAAAAAAAAAAAAAAAAAN0AAAAAAAAAsQAAAAAAAAC5AAAAAAAAAHEAAAAAAAAAoQAAAAAAAACRAAAAAAAAAKkAAAAAAAAAkQAAAAAAAADBAAAAAAAAAO0AAAAAAAAA4QAAAAAAAADBAAAAAAAAALEAAAAAAAAAuQAAAAAAAADtAAAAAAAAAIEAAAAAAAAAiQAAAAAAAACpAAAAAAAAANUAAAAAAAAAwQAAAAAAAACRAAAAAAAAALEAAAAAAAAAuQAAAAAAAACxAAAAAAAAALEAAAAAAAAAiQAAAAAAAACRAAAAAAAAAPEAAAAAAAAAxQAAAAAAAACxAAAAAAAAANUA=\",\"dtype\":\"float64\",\"shape\":[94]},\"date\":{\"__ndarray__\":\"AAAAbwEPd0IAAMDUUw93QgAAgDqmD3dCAABAoPgPd0IAAAAGSxB3QgAAwGudEHdCAACA0e8Qd0IAAEA3QhF3QgAAAJ2UEXdCAADAAucRd0IAAIBoORJ3QgAAQM6LEndCAAAANN4Sd0IAAMCZMBN3QgAAgP+CE3dCAABAZdUTd0IAAADLJxR3QgAAwDB6FHdCAACAlswUd0IAAED8HhV3QgAAAGJxFXdCAADAx8MVd0IAAIAtFhZ3QgAAQJNoFndCAAAA+boWd0IAAMBeDRd3QgAAgMRfF3dCAABAKrIXd0IAAACQBBh3QgAAwPVWGHdCAACAW6kYd0IAAEDB+xh3QgAAACdOGXdCAADAjKAZd0IAAIDy8hl3QgAAQFhFGndCAAAAvpcad0IAAMAj6hp3QgAAgIk8G3dCAABA744bd0IAAABV4Rt3QgAAwLozHHdCAACAIIYcd0IAAECG2Bx3QgAAAOwqHXdCAADAUX0dd0IAAIC3zx13QgAAQB0iHndCAAAAg3Qed0IAAMDoxh53QgAAgE4ZH3dCAABAtGsfd0IAAAAavh93QgAAwH8QIHdCAACA5WIgd0IAAEBLtSB3QgAAALEHIXdCAADAFlohd0IAAIB8rCF3QgAAQOL+IXdCAAAASFEid0IAAMCtoyJ3QgAAgBP2IndCAABAeUgjd0IAAADfmiN3QgAAwETtI3dCAACAqj8kd0IAAEAQkiR3QgAAAHbkJHdCAADA2zYld0IAAIBBiSV3QgAAQKfbJXdCAAAADS4md0IAAMBygCZ3QgAAgNjSJndCAABAPiUnd0IAAACkdyd3QgAAwAnKJ3dCAACAbxwod0IAAEDVbih3QgAAADvBKHdCAADAoBMpd0IAAIAGZil3QgAAQGy4KXdCAAAA0goqd0IAAMA3XSp3QgAAgJ2vKndCAABAAwIrd0IAAABpVCt3QgAAwM6mK3dCAACANPkrd0IAAECaSyx3QgAAAACeLHdCAADAZfAsd0I=\",\"dtype\":\"float64\",\"shape\":[94]},\"index\":[0,1,2,3,4,5,6,7,8,9,10,11,12,13,14,15,16,17,18,19,20,21,22,23,24,25,26,27,28,29,30,31,32,33,34,35,36,37,38,39,40,41,42,43,44,45,46,47,48,49,50,51,52,53,54,55,56,57,58,59,60,61,62,63,64,65,66,67,68,69,70,71,72,73,74,75,76,77,78,79,80,81,82,83,84,85,86,87,88,89,90,91,92,93]},\"selected\":{\"id\":\"5667\"},\"selection_policy\":{\"id\":\"5666\"}},\"id\":\"5616\",\"type\":\"ColumnDataSource\"},{\"attributes\":{},\"id\":\"5696\",\"type\":\"Selection\"},{\"attributes\":{\"label\":{\"value\":\"7-day rolling avg (NoHo)\"},\"renderers\":[{\"id\":\"5673\"}]},\"id\":\"5697\",\"type\":\"LegendItem\"},{\"attributes\":{},\"id\":\"5592\",\"type\":\"LinearScale\"},{\"attributes\":{\"months\":[0,2,4,6,8,10]},\"id\":\"5637\",\"type\":\"MonthsTicker\"},{\"attributes\":{\"data_source\":{\"id\":\"5617\"},\"glyph\":{\"id\":\"5644\"},\"hover_glyph\":null,\"muted_glyph\":null,\"nonselection_glyph\":{\"id\":\"5645\"},\"selection_glyph\":null,\"view\":{\"id\":\"5647\"}},\"id\":\"5646\",\"type\":\"GlyphRenderer\"},{\"attributes\":{\"overlay\":{\"id\":\"5608\"}},\"id\":\"5604\",\"type\":\"BoxZoomTool\"},{\"attributes\":{\"months\":[0,4,8]},\"id\":\"5638\",\"type\":\"MonthsTicker\"},{\"attributes\":{\"bottom_units\":\"screen\",\"fill_alpha\":0.5,\"fill_color\":\"lightgrey\",\"left_units\":\"screen\",\"level\":\"overlay\",\"line_alpha\":1.0,\"line_color\":\"black\",\"line_dash\":[4,4],\"line_width\":2,\"render_mode\":\"css\",\"right_units\":\"screen\",\"top_units\":\"screen\"},\"id\":\"5608\",\"type\":\"BoxAnnotation\"},{\"attributes\":{},\"id\":\"5994\",\"type\":\"UnionRenderers\"},{\"attributes\":{},\"id\":\"5602\",\"type\":\"PanTool\"},{\"attributes\":{\"months\":[0,6]},\"id\":\"5639\",\"type\":\"MonthsTicker\"},{\"attributes\":{},\"id\":\"5606\",\"type\":\"ResetTool\"},{\"attributes\":{\"data\":{\"confirmed_cases\":{\"__ndarray__\":\"AAAAAAAA+H8AAAAAAADwPwAAAAAAAPA/VVVVVVVV9T8AAAAAAADwP5qZmZmZmek/VVVVVVVV9T8lSZIkSZL0PyVJkiRJkvQ/27Zt27Zt+z9u27Zt27b9PwAAAAAAAAhAJUmSJEmSDEAlSZIkSZIMQCVJkiRJkhBA27Zt27ZtE0AAAAAAAAAYQAAAAAAAABxASZIkSZIkIUDbtm3btm0hQAAAAAAAACBAt23btm3bIEAlSZIkSZIgQJIkSZIkSRpAkiRJkiRJGkC3bdu2bdsSQEmSJEmSJBFASZIkSZIkFUC3bdu2bdsWQAAAAAAAABhAbtu2bdu2GUC3bdu2bdsWQCVJkiRJkhhAJUmSJEmSGECSJEmSJEkgQG7btm3btiFASZIkSZIkJ0AAAAAAAAAqQJIkSZIkSS5AAAAAAAAAMEAAAAAAAAAxQAAAAAAAADJAkiRJkiRJMEBJkiRJkiQvQNu2bdu2bStAbtu2bdu2L0C3bdu2bdsuQEmSJEmSJC9ASZIkSZIkKUBu27Zt27YwQNu2bdu2bS9At23btm3bMUAlSZIkSZIqQLdt27Zt2ypA27Zt27ZtKUAAAAAAAAAqQAAAAAAAACRAJUmSJEmSJEAAAAAAAAAkQEmSJEmSJCNAJUmSJEmSJkCSJEmSJEkmQG7btm3btiVAt23btm3bIkAlSZIkSZIcQAAAAAAAACBA27Zt27ZtIUC3bdu2bdseQG7btm3btiFA27Zt27ZtIUCSJEmSJEkoQCVJkiRJkipAbtu2bdu2J0BJkiRJkiQrQG7btm3btitAbtu2bdu2LUC3bdu2bdsuQJIkSZIkSSxAbtu2bdu2LUBJkiRJkiQtQLdt27Zt2ypAt23btm3bJkCSJEmSJEkmQLdt27Zt2yZAkiRJkiRJJkBJkiRJkiQnQCVJkiRJkixASZIkSZIkLUBu27Zt27YwQNu2bdu2bS9At23btm3bLEDbtm3btm0rQJIkSZIkSSxASZIkSZIkKUBu27Zt27YrQG7btm3btitA\",\"dtype\":\"float64\",\"shape\":[96]},\"date\":{\"__ndarray__\":\"AACAo1wOd0IAAEAJrw53QgAAAG8BD3dCAADA1FMPd0IAAIA6pg93QgAAQKD4D3dCAAAABksQd0IAAMBrnRB3QgAAgNHvEHdCAABAN0IRd0IAAACdlBF3QgAAwALnEXdCAACAaDkSd0IAAEDOixJ3QgAAADTeEndCAADAmTATd0IAAID/ghN3QgAAQGXVE3dCAAAAyycUd0IAAMAwehR3QgAAgJbMFHdCAABA/B4Vd0IAAABicRV3QgAAwMfDFXdCAACALRYWd0IAAECTaBZ3QgAAAPm6FndCAADAXg0Xd0IAAIDEXxd3QgAAQCqyF3dCAAAAkAQYd0IAAMD1Vhh3QgAAgFupGHdCAABAwfsYd0IAAAAnThl3QgAAwIygGXdCAACA8vIZd0IAAEBYRRp3QgAAAL6XGndCAADAI+oad0IAAICJPBt3QgAAQO+OG3dCAAAAVeEbd0IAAMC6Mxx3QgAAgCCGHHdCAABAhtgcd0IAAADsKh13QgAAwFF9HXdCAACAt88dd0IAAEAdIh53QgAAAIN0HndCAADA6MYed0IAAIBOGR93QgAAQLRrH3dCAAAAGr4fd0IAAMB/ECB3QgAAgOViIHdCAABAS7Ugd0IAAACxByF3QgAAwBZaIXdCAACAfKwhd0IAAEDi/iF3QgAAAEhRIndCAADAraMid0IAAIAT9iJ3QgAAQHlII3dCAAAA35ojd0IAAMBE7SN3QgAAgKo/JHdCAABAEJIkd0IAAAB25CR3QgAAwNs2JXdCAACAQYkld0IAAECn2yV3QgAAAA0uJndCAADAcoAmd0IAAIDY0iZ3QgAAQD4lJ3dCAAAApHcnd0IAAMAJyid3QgAAgG8cKHdCAABA1W4od0IAAAA7wSh3QgAAwKATKXdCAACABmYpd0IAAEBsuCl3QgAAANIKKndCAADAN10qd0IAAICdryp3QgAAQAMCK3dCAAAAaVQrd0IAAMDOpit3QgAAgDT5K3dCAABAmkssd0IAAAAAnix3QgAAwGXwLHdC\",\"dtype\":\"float64\",\"shape\":[96]},\"index\":[0,1,2,3,4,5,6,7,8,9,10,11,12,13,14,15,16,17,18,19,20,21,22,23,24,25,26,27,28,29,30,31,32,33,34,35,36,37,38,39,40,41,42,43,44,45,46,47,48,49,50,51,52,53,54,55,56,57,58,59,60,61,62,63,64,65,66,67,68,69,70,71,72,73,74,75,76,77,78,79,80,81,82,83,84,85,86,87,88,89,90,91,92,93,94,95]},\"selected\":{\"id\":\"5995\"},\"selection_policy\":{\"id\":\"5994\"}},\"id\":\"5669\",\"type\":\"ColumnDataSource\"},{\"attributes\":{\"fill_alpha\":{\"value\":0.1},\"fill_color\":{\"value\":\"green\"},\"line_alpha\":{\"value\":0.1},\"line_color\":{\"value\":\"green\"},\"top\":{\"field\":\"confirmed_cases\"},\"width\":{\"value\":0.4},\"x\":{\"field\":\"date\"}},\"id\":\"5620\",\"type\":\"VBar\"},{\"attributes\":{},\"id\":\"5995\",\"type\":\"Selection\"},{\"attributes\":{},\"id\":\"5605\",\"type\":\"SaveTool\"},{\"attributes\":{},\"id\":\"5640\",\"type\":\"YearsTicker\"},{\"attributes\":{\"label\":{\"value\":\"Daily new cases\"},\"renderers\":[{\"id\":\"5621\"}]},\"id\":\"5642\",\"type\":\"LegendItem\"},{\"attributes\":{\"source\":{\"id\":\"5616\"}},\"id\":\"5622\",\"type\":\"CDSView\"},{\"attributes\":{\"formatter\":{\"id\":\"5627\"},\"ticker\":{\"id\":\"5599\"}},\"id\":\"5598\",\"type\":\"LinearAxis\"},{\"attributes\":{\"fill_alpha\":{\"value\":0.8},\"fill_color\":{\"value\":\"green\"},\"line_alpha\":{\"value\":0.8},\"line_color\":{\"value\":\"green\"},\"top\":{\"field\":\"confirmed_cases\"},\"width\":{\"value\":0.4},\"x\":{\"field\":\"date\"}},\"id\":\"5619\",\"type\":\"VBar\"},{\"attributes\":{\"line_alpha\":0.1,\"line_color\":\"navy\",\"line_width\":5,\"x\":{\"field\":\"date\"},\"y\":{\"field\":\"confirmed_cases\"}},\"id\":\"5645\",\"type\":\"Line\"},{\"attributes\":{\"axis\":{\"id\":\"5598\"},\"dimension\":1,\"ticker\":null},\"id\":\"5601\",\"type\":\"Grid\"},{\"attributes\":{\"data_source\":{\"id\":\"5616\"},\"glyph\":{\"id\":\"5619\"},\"hover_glyph\":null,\"muted_glyph\":null,\"nonselection_glyph\":{\"id\":\"5620\"},\"selection_glyph\":null,\"view\":{\"id\":\"5622\"}},\"id\":\"5621\",\"type\":\"GlyphRenderer\"},{\"attributes\":{\"items\":[{\"id\":\"5642\"},{\"id\":\"5668\"},{\"id\":\"5697\"}]},\"id\":\"5641\",\"type\":\"Legend\"},{\"attributes\":{\"line_alpha\":0.3,\"line_color\":\"navy\",\"line_width\":5,\"x\":{\"field\":\"date\"},\"y\":{\"field\":\"confirmed_cases\"}},\"id\":\"5644\",\"type\":\"Line\"},{\"attributes\":{\"data\":{\"confirmed_cases\":{\"__ndarray__\":\"AAAAAAAA+H8AAAAAAAAAAAAAAAAAAOA/VVVVVVVV1T8AAAAAAADoPzMzMzMzM+M/AAAAAAAA4D/btm3btm3bP9u2bdu2bds/kiRJkiRJ4j+3bdu2bdvmP9u2bdu2bes/JUmSJEmS9D9u27Zt27b9PyVJkiRJkgRASZIkSZIkCUC3bdu2bdsOQCVJkiRJkhBAAAAAAAAAEEC3bdu2bdsWQEmSJEmSJBlAkiRJkiRJFkC3bdu2bdsaQEmSJEmSJBlASZIkSZIkGUDbtm3btm0bQJIkSZIkSRZAAAAAAAAAFEAlSZIkSZIYQLdt27Zt2xZAt23btm3bFkBJkiRJkiQZQAAAAAAAACBAt23btm3bJkBJkiRJkiQrQEmSJEmSJC1ASZIkSZIkL0CSJEmSJEkwQEmSJEmSJDBA27Zt27ZtL0CSJEmSJEkoQCVJkiRJkihAkiRJkiRJJECSJEmSJEkoQNu2bdu2bSlASZIkSZIkK0AlSZIkSZIqQEmSJEmSJDNAbtu2bdu2MUBJkiRJkiQzQNu2bdu2bTFA27Zt27ZtMEDbtm3btm0vQCVJkiRJki5ASZIkSZIkJ0BJkiRJkiQpQLdt27Zt2ypAbtu2bdu2JUC3bdu2bdsqQLdt27Zt2yxAJUmSJEmSLEAAAAAAAAAsQEmSJEmSJCdASZIkSZIkKUBJkiRJkiQtQCVJkiRJkipAJUmSJEmSKEDbtm3btm0pQEmSJEmSJCdAt23btm3bKkBJkiRJkiQnQG7btm3btidASZIkSZIkK0AAAAAAAAAwQCVJkiRJkjBASZIkSZIkMUDbtm3btm0xQLdt27Zt2zNAbtu2bdu2MkBJkiRJkiQwQEmSJEmSJC1AJUmSJEmSLkBJkiRJkiQvQG7btm3bti1AAAAAAAAAKkAAAAAAAAAsQNu2bdu2bS1Abtu2bdu2LUCSJEmSJEkqQCVJkiRJkihAbtu2bdu2LUAlSZIkSZIuQJIkSZIkSS5ASZIkSZIkMEA=\",\"dtype\":\"float64\",\"shape\":[94]},\"date\":{\"__ndarray__\":\"AAAAbwEPd0IAAMDUUw93QgAAgDqmD3dCAABAoPgPd0IAAAAGSxB3QgAAwGudEHdCAACA0e8Qd0IAAEA3QhF3QgAAAJ2UEXdCAADAAucRd0IAAIBoORJ3QgAAQM6LEndCAAAANN4Sd0IAAMCZMBN3QgAAgP+CE3dCAABAZdUTd0IAAADLJxR3QgAAwDB6FHdCAACAlswUd0IAAED8HhV3QgAAAGJxFXdCAADAx8MVd0IAAIAtFhZ3QgAAQJNoFndCAAAA+boWd0IAAMBeDRd3QgAAgMRfF3dCAABAKrIXd0IAAACQBBh3QgAAwPVWGHdCAACAW6kYd0IAAEDB+xh3QgAAACdOGXdCAADAjKAZd0IAAIDy8hl3QgAAQFhFGndCAAAAvpcad0IAAMAj6hp3QgAAgIk8G3dCAABA744bd0IAAABV4Rt3QgAAwLozHHdCAACAIIYcd0IAAECG2Bx3QgAAAOwqHXdCAADAUX0dd0IAAIC3zx13QgAAQB0iHndCAAAAg3Qed0IAAMDoxh53QgAAgE4ZH3dCAABAtGsfd0IAAAAavh93QgAAwH8QIHdCAACA5WIgd0IAAEBLtSB3QgAAALEHIXdCAADAFlohd0IAAIB8rCF3QgAAQOL+IXdCAAAASFEid0IAAMCtoyJ3QgAAgBP2IndCAABAeUgjd0IAAADfmiN3QgAAwETtI3dCAACAqj8kd0IAAEAQkiR3QgAAAHbkJHdCAADA2zYld0IAAIBBiSV3QgAAQKfbJXdCAAAADS4md0IAAMBygCZ3QgAAgNjSJndCAABAPiUnd0IAAACkdyd3QgAAwAnKJ3dCAACAbxwod0IAAEDVbih3QgAAADvBKHdCAADAoBMpd0IAAIAGZil3QgAAQGy4KXdCAAAA0goqd0IAAMA3XSp3QgAAgJ2vKndCAABAAwIrd0IAAABpVCt3QgAAwM6mK3dCAACANPkrd0IAAECaSyx3QgAAAACeLHdCAADAZfAsd0I=\",\"dtype\":\"float64\",\"shape\":[94]},\"index\":[0,1,2,3,4,5,6,7,8,9,10,11,12,13,14,15,16,17,18,19,20,21,22,23,24,25,26,27,28,29,30,31,32,33,34,35,36,37,38,39,40,41,42,43,44,45,46,47,48,49,50,51,52,53,54,55,56,57,58,59,60,61,62,63,64,65,66,67,68,69,70,71,72,73,74,75,76,77,78,79,80,81,82,83,84,85,86,87,88,89,90,91,92,93]},\"selected\":{\"id\":\"5696\"},\"selection_policy\":{\"id\":\"5695\"}},\"id\":\"5617\",\"type\":\"ColumnDataSource\"},{\"attributes\":{},\"id\":\"5599\",\"type\":\"BasicTicker\"},{\"attributes\":{},\"id\":\"5625\",\"type\":\"DatetimeTickFormatter\"},{\"attributes\":{},\"id\":\"5667\",\"type\":\"Selection\"},{\"attributes\":{\"label\":{\"value\":\"7-day rolling avg (Van Nuys)\"},\"renderers\":[{\"id\":\"5646\"}]},\"id\":\"5668\",\"type\":\"LegendItem\"},{\"attributes\":{},\"id\":\"5627\",\"type\":\"BasicTickFormatter\"},{\"attributes\":{\"axis\":{\"id\":\"5594\"},\"ticker\":null},\"id\":\"5597\",\"type\":\"Grid\"},{\"attributes\":{\"mantissas\":[1,2,5],\"max_interval\":500.0,\"num_minor_ticks\":0},\"id\":\"5629\",\"type\":\"AdaptiveTicker\"},{\"attributes\":{\"num_minor_ticks\":5,\"tickers\":[{\"id\":\"5629\"},{\"id\":\"5630\"},{\"id\":\"5631\"},{\"id\":\"5632\"},{\"id\":\"5633\"},{\"id\":\"5634\"},{\"id\":\"5635\"},{\"id\":\"5636\"},{\"id\":\"5637\"},{\"id\":\"5638\"},{\"id\":\"5639\"},{\"id\":\"5640\"}]},\"id\":\"5595\",\"type\":\"DatetimeTicker\"},{\"attributes\":{},\"id\":\"5590\",\"type\":\"LinearScale\"},{\"attributes\":{\"source\":{\"id\":\"5669\"}},\"id\":\"5674\",\"type\":\"CDSView\"},{\"attributes\":{\"base\":60,\"mantissas\":[1,2,5,10,15,20,30],\"max_interval\":1800000.0,\"min_interval\":1000.0,\"num_minor_ticks\":0},\"id\":\"5630\",\"type\":\"AdaptiveTicker\"},{\"attributes\":{\"formatter\":{\"id\":\"5625\"},\"ticker\":{\"id\":\"5595\"}},\"id\":\"5594\",\"type\":\"DatetimeAxis\"},{\"attributes\":{\"line_alpha\":0.1,\"line_color\":\"red\",\"line_width\":5,\"x\":{\"field\":\"date\"},\"y\":{\"field\":\"confirmed_cases\"}},\"id\":\"5672\",\"type\":\"Line\"},{\"attributes\":{\"base\":24,\"mantissas\":[1,2,4,6,8,12],\"max_interval\":43200000.0,\"min_interval\":3600000.0,\"num_minor_ticks\":0},\"id\":\"5631\",\"type\":\"AdaptiveTicker\"},{\"attributes\":{},\"id\":\"5588\",\"type\":\"DataRange1d\"},{\"attributes\":{\"line_alpha\":0.2,\"line_color\":\"red\",\"line_width\":5,\"x\":{\"field\":\"date\"},\"y\":{\"field\":\"confirmed_cases\"}},\"id\":\"5671\",\"type\":\"Line\"},{\"attributes\":{\"days\":[1,2,3,4,5,6,7,8,9,10,11,12,13,14,15,16,17,18,19,20,21,22,23,24,25,26,27,28,29,30,31]},\"id\":\"5632\",\"type\":\"DaysTicker\"},{\"attributes\":{\"days\":[1,4,7,10,13,16,19,22,25,28]},\"id\":\"5633\",\"type\":\"DaysTicker\"},{\"attributes\":{},\"id\":\"5586\",\"type\":\"DataRange1d\"},{\"attributes\":{\"text\":\"Daily new cases --Van Nuys\"},\"id\":\"5584\",\"type\":\"Title\"},{\"attributes\":{\"data_source\":{\"id\":\"5669\"},\"glyph\":{\"id\":\"5671\"},\"hover_glyph\":null,\"muted_glyph\":null,\"nonselection_glyph\":{\"id\":\"5672\"},\"selection_glyph\":null,\"view\":{\"id\":\"5674\"}},\"id\":\"5673\",\"type\":\"GlyphRenderer\"},{\"attributes\":{\"days\":[1,8,15,22]},\"id\":\"5634\",\"type\":\"DaysTicker\"}],\"root_ids\":[\"5583\"]},\"title\":\"Bokeh Application\",\"version\":\"2.0.2\"}};\n",
       "  var render_items = [{\"docid\":\"def16b22-0d05-4a26-b656-f4db7268109d\",\"root_ids\":[\"5583\"],\"roots\":{\"5583\":\"c559626f-152e-40d7-8ab8-6645a4fa54cc\"}}];\n",
       "  root.Bokeh.embed.embed_items_notebook(docs_json, render_items);\n",
       "\n",
       "  }\n",
       "  if (root.Bokeh !== undefined) {\n",
       "    embed_document(root);\n",
       "  } else {\n",
       "    var attempts = 0;\n",
       "    var timer = setInterval(function(root) {\n",
       "      if (root.Bokeh !== undefined) {\n",
       "        clearInterval(timer);\n",
       "        embed_document(root);\n",
       "      } else {\n",
       "        attempts++;\n",
       "        if (attempts > 100) {\n",
       "          clearInterval(timer);\n",
       "          console.log(\"Bokeh: ERROR: Unable to run BokehJS code because BokehJS library is missing\");\n",
       "        }\n",
       "      }\n",
       "    }, 10, root)\n",
       "  }\n",
       "})(window);"
      ],
      "application/vnd.bokehjs_exec.v0+json": ""
     },
     "metadata": {
      "application/vnd.bokehjs_exec.v0+json": {
       "id": "5583"
      }
     },
     "output_type": "display_data"
    },
    {
     "data": {
      "text/html": [
       "\n",
       "\n",
       "\n",
       "\n",
       "\n",
       "\n",
       "  <div class=\"bk-root\" id=\"37e42f35-c52d-463d-b643-b8a14279d000\" data-root-id=\"6140\"></div>\n"
      ]
     },
     "metadata": {},
     "output_type": "display_data"
    },
    {
     "data": {
      "application/javascript": [
       "(function(root) {\n",
       "  function embed_document(root) {\n",
       "    \n",
       "  var docs_json = {\"324512c3-c54e-4fec-aae1-ea24e59c736c\":{\"roots\":{\"references\":[{\"attributes\":{\"below\":[{\"id\":\"6151\"}],\"center\":[{\"id\":\"6154\"},{\"id\":\"6158\"},{\"id\":\"6198\"}],\"left\":[{\"id\":\"6155\"}],\"plot_height\":400,\"plot_width\":1000,\"renderers\":[{\"id\":\"6178\"},{\"id\":\"6203\"},{\"id\":\"6230\"}],\"title\":{\"id\":\"6141\"},\"toolbar\":{\"id\":\"6166\"},\"x_range\":{\"id\":\"6143\"},\"x_scale\":{\"id\":\"6147\"},\"y_range\":{\"id\":\"6145\"},\"y_scale\":{\"id\":\"6149\"}},\"id\":\"6140\",\"subtype\":\"Figure\",\"type\":\"Plot\"},{\"attributes\":{\"num_minor_ticks\":5,\"tickers\":[{\"id\":\"6186\"},{\"id\":\"6187\"},{\"id\":\"6188\"},{\"id\":\"6189\"},{\"id\":\"6190\"},{\"id\":\"6191\"},{\"id\":\"6192\"},{\"id\":\"6193\"},{\"id\":\"6194\"},{\"id\":\"6195\"},{\"id\":\"6196\"},{\"id\":\"6197\"}]},\"id\":\"6152\",\"type\":\"DatetimeTicker\"},{\"attributes\":{\"mantissas\":[1,2,5],\"max_interval\":500.0,\"num_minor_ticks\":0},\"id\":\"6186\",\"type\":\"AdaptiveTicker\"},{\"attributes\":{\"line_alpha\":0.2,\"line_color\":\"red\",\"line_width\":5,\"x\":{\"field\":\"date\"},\"y\":{\"field\":\"confirmed_cases\"}},\"id\":\"6228\",\"type\":\"Line\"},{\"attributes\":{},\"id\":\"6143\",\"type\":\"DataRange1d\"},{\"attributes\":{\"source\":{\"id\":\"6226\"}},\"id\":\"6231\",\"type\":\"CDSView\"},{\"attributes\":{},\"id\":\"6149\",\"type\":\"LinearScale\"},{\"attributes\":{\"base\":60,\"mantissas\":[1,2,5,10,15,20,30],\"max_interval\":1800000.0,\"min_interval\":1000.0,\"num_minor_ticks\":0},\"id\":\"6187\",\"type\":\"AdaptiveTicker\"},{\"attributes\":{},\"id\":\"6224\",\"type\":\"Selection\"},{\"attributes\":{\"line_alpha\":0.1,\"line_color\":\"red\",\"line_width\":5,\"x\":{\"field\":\"date\"},\"y\":{\"field\":\"confirmed_cases\"}},\"id\":\"6229\",\"type\":\"Line\"},{\"attributes\":{},\"id\":\"6182\",\"type\":\"DatetimeTickFormatter\"},{\"attributes\":{\"base\":24,\"mantissas\":[1,2,4,6,8,12],\"max_interval\":43200000.0,\"min_interval\":3600000.0,\"num_minor_ticks\":0},\"id\":\"6188\",\"type\":\"AdaptiveTicker\"},{\"attributes\":{},\"id\":\"6147\",\"type\":\"LinearScale\"},{\"attributes\":{\"data_source\":{\"id\":\"6226\"},\"glyph\":{\"id\":\"6228\"},\"hover_glyph\":null,\"muted_glyph\":null,\"nonselection_glyph\":{\"id\":\"6229\"},\"selection_glyph\":null,\"view\":{\"id\":\"6231\"}},\"id\":\"6230\",\"type\":\"GlyphRenderer\"},{\"attributes\":{\"days\":[1,2,3,4,5,6,7,8,9,10,11,12,13,14,15,16,17,18,19,20,21,22,23,24,25,26,27,28,29,30,31]},\"id\":\"6189\",\"type\":\"DaysTicker\"},{\"attributes\":{},\"id\":\"6145\",\"type\":\"DataRange1d\"},{\"attributes\":{},\"id\":\"6252\",\"type\":\"UnionRenderers\"},{\"attributes\":{\"label\":{\"value\":\"7-day rolling avg (Valley Glen)\"},\"renderers\":[{\"id\":\"6203\"}]},\"id\":\"6225\",\"type\":\"LegendItem\"},{\"attributes\":{\"days\":[1,4,7,10,13,16,19,22,25,28]},\"id\":\"6190\",\"type\":\"DaysTicker\"},{\"attributes\":{\"data\":{\"confirmed_cases\":{\"__ndarray__\":\"AAAAAAAA+H8AAAAAAADwPwAAAAAAAPA/VVVVVVVV9T8AAAAAAADwP5qZmZmZmek/VVVVVVVV9T8lSZIkSZL0PyVJkiRJkvQ/27Zt27Zt+z9u27Zt27b9PwAAAAAAAAhAJUmSJEmSDEAlSZIkSZIMQCVJkiRJkhBA27Zt27ZtE0AAAAAAAAAYQAAAAAAAABxASZIkSZIkIUDbtm3btm0hQAAAAAAAACBAt23btm3bIEAlSZIkSZIgQJIkSZIkSRpAkiRJkiRJGkC3bdu2bdsSQEmSJEmSJBFASZIkSZIkFUC3bdu2bdsWQAAAAAAAABhAbtu2bdu2GUC3bdu2bdsWQCVJkiRJkhhAJUmSJEmSGECSJEmSJEkgQG7btm3btiFASZIkSZIkJ0AAAAAAAAAqQJIkSZIkSS5AAAAAAAAAMEAAAAAAAAAxQAAAAAAAADJAkiRJkiRJMEBJkiRJkiQvQNu2bdu2bStAbtu2bdu2L0C3bdu2bdsuQEmSJEmSJC9ASZIkSZIkKUBu27Zt27YwQNu2bdu2bS9At23btm3bMUAlSZIkSZIqQLdt27Zt2ypA27Zt27ZtKUAAAAAAAAAqQAAAAAAAACRAJUmSJEmSJEAAAAAAAAAkQEmSJEmSJCNAJUmSJEmSJkCSJEmSJEkmQG7btm3btiVAt23btm3bIkAlSZIkSZIcQAAAAAAAACBA27Zt27ZtIUC3bdu2bdseQG7btm3btiFA27Zt27ZtIUCSJEmSJEkoQCVJkiRJkipAbtu2bdu2J0BJkiRJkiQrQG7btm3btitAbtu2bdu2LUC3bdu2bdsuQJIkSZIkSSxAbtu2bdu2LUBJkiRJkiQtQLdt27Zt2ypAt23btm3bJkCSJEmSJEkmQLdt27Zt2yZAkiRJkiRJJkBJkiRJkiQnQCVJkiRJkixASZIkSZIkLUBu27Zt27YwQNu2bdu2bS9At23btm3bLEDbtm3btm0rQJIkSZIkSSxASZIkSZIkKUBu27Zt27YrQG7btm3btitA\",\"dtype\":\"float64\",\"shape\":[96]},\"date\":{\"__ndarray__\":\"AACAo1wOd0IAAEAJrw53QgAAAG8BD3dCAADA1FMPd0IAAIA6pg93QgAAQKD4D3dCAAAABksQd0IAAMBrnRB3QgAAgNHvEHdCAABAN0IRd0IAAACdlBF3QgAAwALnEXdCAACAaDkSd0IAAEDOixJ3QgAAADTeEndCAADAmTATd0IAAID/ghN3QgAAQGXVE3dCAAAAyycUd0IAAMAwehR3QgAAgJbMFHdCAABA/B4Vd0IAAABicRV3QgAAwMfDFXdCAACALRYWd0IAAECTaBZ3QgAAAPm6FndCAADAXg0Xd0IAAIDEXxd3QgAAQCqyF3dCAAAAkAQYd0IAAMD1Vhh3QgAAgFupGHdCAABAwfsYd0IAAAAnThl3QgAAwIygGXdCAACA8vIZd0IAAEBYRRp3QgAAAL6XGndCAADAI+oad0IAAICJPBt3QgAAQO+OG3dCAAAAVeEbd0IAAMC6Mxx3QgAAgCCGHHdCAABAhtgcd0IAAADsKh13QgAAwFF9HXdCAACAt88dd0IAAEAdIh53QgAAAIN0HndCAADA6MYed0IAAIBOGR93QgAAQLRrH3dCAAAAGr4fd0IAAMB/ECB3QgAAgOViIHdCAABAS7Ugd0IAAACxByF3QgAAwBZaIXdCAACAfKwhd0IAAEDi/iF3QgAAAEhRIndCAADAraMid0IAAIAT9iJ3QgAAQHlII3dCAAAA35ojd0IAAMBE7SN3QgAAgKo/JHdCAABAEJIkd0IAAAB25CR3QgAAwNs2JXdCAACAQYkld0IAAECn2yV3QgAAAA0uJndCAADAcoAmd0IAAIDY0iZ3QgAAQD4lJ3dCAAAApHcnd0IAAMAJyid3QgAAgG8cKHdCAABA1W4od0IAAAA7wSh3QgAAwKATKXdCAACABmYpd0IAAEBsuCl3QgAAANIKKndCAADAN10qd0IAAICdryp3QgAAQAMCK3dCAAAAaVQrd0IAAMDOpit3QgAAgDT5K3dCAABAmkssd0IAAAAAnix3QgAAwGXwLHdC\",\"dtype\":\"float64\",\"shape\":[96]},\"index\":[0,1,2,3,4,5,6,7,8,9,10,11,12,13,14,15,16,17,18,19,20,21,22,23,24,25,26,27,28,29,30,31,32,33,34,35,36,37,38,39,40,41,42,43,44,45,46,47,48,49,50,51,52,53,54,55,56,57,58,59,60,61,62,63,64,65,66,67,68,69,70,71,72,73,74,75,76,77,78,79,80,81,82,83,84,85,86,87,88,89,90,91,92,93,94,95]},\"selected\":{\"id\":\"6576\"},\"selection_policy\":{\"id\":\"6575\"}},\"id\":\"6226\",\"type\":\"ColumnDataSource\"},{\"attributes\":{\"active_drag\":\"auto\",\"active_inspect\":\"auto\",\"active_multi\":null,\"active_scroll\":\"auto\",\"active_tap\":\"auto\",\"tools\":[{\"id\":\"6159\"},{\"id\":\"6160\"},{\"id\":\"6161\"},{\"id\":\"6162\"},{\"id\":\"6163\"},{\"id\":\"6164\"}]},\"id\":\"6166\",\"type\":\"Toolbar\"},{\"attributes\":{\"days\":[1,8,15,22]},\"id\":\"6191\",\"type\":\"DaysTicker\"},{\"attributes\":{\"line_alpha\":0.1,\"line_color\":\"navy\",\"line_width\":5,\"x\":{\"field\":\"date\"},\"y\":{\"field\":\"confirmed_cases\"}},\"id\":\"6202\",\"type\":\"Line\"},{\"attributes\":{\"items\":[{\"id\":\"6199\"},{\"id\":\"6225\"},{\"id\":\"6254\"}]},\"id\":\"6198\",\"type\":\"Legend\"},{\"attributes\":{},\"id\":\"6159\",\"type\":\"PanTool\"},{\"attributes\":{\"days\":[1,15]},\"id\":\"6192\",\"type\":\"DaysTicker\"},{\"attributes\":{},\"id\":\"6164\",\"type\":\"HelpTool\"},{\"attributes\":{\"line_alpha\":0.3,\"line_color\":\"navy\",\"line_width\":5,\"x\":{\"field\":\"date\"},\"y\":{\"field\":\"confirmed_cases\"}},\"id\":\"6201\",\"type\":\"Line\"},{\"attributes\":{},\"id\":\"6253\",\"type\":\"Selection\"},{\"attributes\":{\"data_source\":{\"id\":\"6173\"},\"glyph\":{\"id\":\"6176\"},\"hover_glyph\":null,\"muted_glyph\":null,\"nonselection_glyph\":{\"id\":\"6177\"},\"selection_glyph\":null,\"view\":{\"id\":\"6179\"}},\"id\":\"6178\",\"type\":\"GlyphRenderer\"},{\"attributes\":{\"months\":[0,1,2,3,4,5,6,7,8,9,10,11]},\"id\":\"6193\",\"type\":\"MonthsTicker\"},{\"attributes\":{\"label\":{\"value\":\"7-day rolling avg (NoHo)\"},\"renderers\":[{\"id\":\"6230\"}]},\"id\":\"6254\",\"type\":\"LegendItem\"},{\"attributes\":{\"data\":{\"confirmed_cases\":{\"__ndarray__\":\"AAAAAAAA+H8AAAAAAAAAQAAAAAAAAAhAAAAAAAAAAAAAAAAAAADwPwAAAAAAAABAAAAAAAAAAEAAAAAAAADwPwAAAAAAAAAAAAAAAAAA8D8AAAAAAADwPwAAAAAAAAAAAAAAAAAACEAAAAAAAADwPwAAAAAAAAhAAAAAAAAA8D8AAAAAAAAUQAAAAAAAABBAAAAAAAAAEEAAAAAAAAAIQAAAAAAAAPA/AAAAAAAAAAAAAAAAAAAAQAAAAAAAAPA/AAAAAAAAAAAAAAAAAAAAAAAAAAAAAABAAAAAAAAAAEAAAAAAAAAAQAAAAAAAAPA/AAAAAAAACEAAAAAAAAAAQAAAAAAAABBAAAAAAAAAIkAAAAAAAAAQQAAAAAAAABhAAAAAAAAAFEAAAAAAAAAAQAAAAAAAAAAAAAAAAAAACEAAAAAAAAAAQAAAAAAAACBAAAAAAAAAAAAAAAAAAAAIQAAAAAAAAPA/AAAAAAAAAAAAAAAAAAAAAAAAAAAAAAAAAAAAAAAA8D8AAAAAAADwPwAAAAAAABBAAAAAAAAA8D8AAAAAAADwPwAAAAAAAPA/AAAAAAAA8D8AAAAAAAAAQAAAAAAAAABAAAAAAAAAAAAAAAAAAAAAQAAAAAAAAPA/AAAAAAAA8D8AAAAAAADwPwAAAAAAAAAAAAAAAAAAAAAAAAAAAADwPwAAAAAAABBAAAAAAAAAFEAAAAAAAADwPwAAAAAAAABAAAAAAAAA8D8AAAAAAAAIQAAAAAAAAAAAAAAAAAAACEAAAAAAAAAIQAAAAAAAAAhAAAAAAAAAAEAAAAAAAAAQQAAAAAAAAAhAAAAAAAAACEAAAAAAAAAAQAAAAAAAABRAAAAAAAAA8D8AAAAAAAAIQAAAAAAAAPA/AAAAAAAAAAAAAAAAAAAUQAAAAAAAABBAAAAAAAAAAEAAAAAAAAAAAAAAAAAAABRAAAAAAAAACEAAAAAAAADwPwAAAAAAAAhAAAAAAAAAEEA=\",\"dtype\":\"float64\",\"shape\":[94]},\"date\":{\"__ndarray__\":\"AAAAbwEPd0IAAMDUUw93QgAAgDqmD3dCAABAoPgPd0IAAAAGSxB3QgAAwGudEHdCAACA0e8Qd0IAAEA3QhF3QgAAAJ2UEXdCAADAAucRd0IAAIBoORJ3QgAAQM6LEndCAAAANN4Sd0IAAMCZMBN3QgAAgP+CE3dCAABAZdUTd0IAAADLJxR3QgAAwDB6FHdCAACAlswUd0IAAED8HhV3QgAAAGJxFXdCAADAx8MVd0IAAIAtFhZ3QgAAQJNoFndCAAAA+boWd0IAAMBeDRd3QgAAgMRfF3dCAABAKrIXd0IAAACQBBh3QgAAwPVWGHdCAACAW6kYd0IAAEDB+xh3QgAAACdOGXdCAADAjKAZd0IAAIDy8hl3QgAAQFhFGndCAAAAvpcad0IAAMAj6hp3QgAAgIk8G3dCAABA744bd0IAAABV4Rt3QgAAwLozHHdCAACAIIYcd0IAAECG2Bx3QgAAAOwqHXdCAADAUX0dd0IAAIC3zx13QgAAQB0iHndCAAAAg3Qed0IAAMDoxh53QgAAgE4ZH3dCAABAtGsfd0IAAAAavh93QgAAwH8QIHdCAACA5WIgd0IAAEBLtSB3QgAAALEHIXdCAADAFlohd0IAAIB8rCF3QgAAQOL+IXdCAAAASFEid0IAAMCtoyJ3QgAAgBP2IndCAABAeUgjd0IAAADfmiN3QgAAwETtI3dCAACAqj8kd0IAAEAQkiR3QgAAAHbkJHdCAADA2zYld0IAAIBBiSV3QgAAQKfbJXdCAAAADS4md0IAAMBygCZ3QgAAgNjSJndCAABAPiUnd0IAAACkdyd3QgAAwAnKJ3dCAACAbxwod0IAAEDVbih3QgAAADvBKHdCAADAoBMpd0IAAIAGZil3QgAAQGy4KXdCAAAA0goqd0IAAMA3XSp3QgAAgJ2vKndCAABAAwIrd0IAAABpVCt3QgAAwM6mK3dCAACANPkrd0IAAECaSyx3QgAAAACeLHdCAADAZfAsd0I=\",\"dtype\":\"float64\",\"shape\":[94]},\"index\":[0,1,2,3,4,5,6,7,8,9,10,11,12,13,14,15,16,17,18,19,20,21,22,23,24,25,26,27,28,29,30,31,32,33,34,35,36,37,38,39,40,41,42,43,44,45,46,47,48,49,50,51,52,53,54,55,56,57,58,59,60,61,62,63,64,65,66,67,68,69,70,71,72,73,74,75,76,77,78,79,80,81,82,83,84,85,86,87,88,89,90,91,92,93]},\"selected\":{\"id\":\"6224\"},\"selection_policy\":{\"id\":\"6223\"}},\"id\":\"6173\",\"type\":\"ColumnDataSource\"},{\"attributes\":{\"overlay\":{\"id\":\"6165\"}},\"id\":\"6161\",\"type\":\"BoxZoomTool\"},{\"attributes\":{\"text\":\"Daily new cases --Valley Glen\"},\"id\":\"6141\",\"type\":\"Title\"},{\"attributes\":{\"months\":[0,2,4,6,8,10]},\"id\":\"6194\",\"type\":\"MonthsTicker\"},{\"attributes\":{},\"id\":\"6162\",\"type\":\"SaveTool\"},{\"attributes\":{},\"id\":\"6575\",\"type\":\"UnionRenderers\"},{\"attributes\":{\"months\":[0,4,8]},\"id\":\"6195\",\"type\":\"MonthsTicker\"},{\"attributes\":{},\"id\":\"6163\",\"type\":\"ResetTool\"},{\"attributes\":{\"months\":[0,6]},\"id\":\"6196\",\"type\":\"MonthsTicker\"},{\"attributes\":{},\"id\":\"6576\",\"type\":\"Selection\"},{\"attributes\":{\"fill_alpha\":{\"value\":0.8},\"fill_color\":{\"value\":\"green\"},\"line_alpha\":{\"value\":0.8},\"line_color\":{\"value\":\"green\"},\"top\":{\"field\":\"confirmed_cases\"},\"width\":{\"value\":0.4},\"x\":{\"field\":\"date\"}},\"id\":\"6176\",\"type\":\"VBar\"},{\"attributes\":{},\"id\":\"6184\",\"type\":\"BasicTickFormatter\"},{\"attributes\":{},\"id\":\"6160\",\"type\":\"WheelZoomTool\"},{\"attributes\":{},\"id\":\"6197\",\"type\":\"YearsTicker\"},{\"attributes\":{\"fill_alpha\":{\"value\":0.1},\"fill_color\":{\"value\":\"green\"},\"line_alpha\":{\"value\":0.1},\"line_color\":{\"value\":\"green\"},\"top\":{\"field\":\"confirmed_cases\"},\"width\":{\"value\":0.4},\"x\":{\"field\":\"date\"}},\"id\":\"6177\",\"type\":\"VBar\"},{\"attributes\":{\"axis\":{\"id\":\"6155\"},\"dimension\":1,\"ticker\":null},\"id\":\"6158\",\"type\":\"Grid\"},{\"attributes\":{\"source\":{\"id\":\"6174\"}},\"id\":\"6204\",\"type\":\"CDSView\"},{\"attributes\":{},\"id\":\"6223\",\"type\":\"UnionRenderers\"},{\"attributes\":{\"bottom_units\":\"screen\",\"fill_alpha\":0.5,\"fill_color\":\"lightgrey\",\"left_units\":\"screen\",\"level\":\"overlay\",\"line_alpha\":1.0,\"line_color\":\"black\",\"line_dash\":[4,4],\"line_width\":2,\"render_mode\":\"css\",\"right_units\":\"screen\",\"top_units\":\"screen\"},\"id\":\"6165\",\"type\":\"BoxAnnotation\"},{\"attributes\":{},\"id\":\"6156\",\"type\":\"BasicTicker\"},{\"attributes\":{\"data_source\":{\"id\":\"6174\"},\"glyph\":{\"id\":\"6201\"},\"hover_glyph\":null,\"muted_glyph\":null,\"nonselection_glyph\":{\"id\":\"6202\"},\"selection_glyph\":null,\"view\":{\"id\":\"6204\"}},\"id\":\"6203\",\"type\":\"GlyphRenderer\"},{\"attributes\":{\"source\":{\"id\":\"6173\"}},\"id\":\"6179\",\"type\":\"CDSView\"},{\"attributes\":{\"data\":{\"confirmed_cases\":{\"__ndarray__\":\"AAAAAAAA+H8AAAAAAAAAQAAAAAAAAARAq6qqqqqq+j8AAAAAAAD4P5qZmZmZmfk/q6qqqqqq+j9JkiRJkiT5PyVJkiRJkvQ/AAAAAAAA8D+SJEmSJEnyPwAAAAAAAPA/kiRJkiRJ8j8AAAAAAADwPyVJkiRJkvQ/t23btm3b9j8AAAAAAAAAQNu2bdu2bQNAAAAAAAAACEAAAAAAAAAIQAAAAAAAAAhAJUmSJEmSBEBu27Zt27YFQEmSJEmSJAFASZIkSZIk+T8AAAAAAADwP9u2bdu2bes/AAAAAAAA8D8lSZIkSZL0P5IkSZIkSfI/t23btm3b9j/btm3btm37P5IkSZIkSQJAkiRJkiRJCkAlSZIkSZIMQCVJkiRJkhBAt23btm3bEkCSJEmSJEkSQEmSJEmSJBFAJUmSJEmSEEBJkiRJkiQJQG7btm3btg1At23btm3bBkAlSZIkSZIEQNu2bdu2bQNA27Zt27ZtA0AAAAAAAAAAQNu2bdu2bfs/t23btm3b5j/btm3btm3rPwAAAAAAAPA/AAAAAAAA8D+SJEmSJEnyPyVJkiRJkvQ/t23btm3b9j9JkiRJkiT5P9u2bdu2bfs/kiRJkiRJ8j8lSZIkSZL0PyVJkiRJkvQ/JUmSJEmS9D8lSZIkSZL0PwAAAAAAAPA/t23btm3b5j/btm3btm3rP5IkSZIkSfI/27Zt27Zt+z/btm3btm37P27btm3btv0/AAAAAAAAAEDbtm3btm0DQJIkSZIkSQJASZIkSZIkAUBu27Zt27b9P0mSJEmSJAFASZIkSZIkAUAlSZIkSZIEQCVJkiRJkgRAAAAAAAAACEC3bdu2bdsGQEmSJEmSJAlAt23btm3bBkAAAAAAAAAIQCVJkiRJkgRASZIkSZIkAUDbtm3btm0DQG7btm3btgVAkiRJkiRJAkBJkiRJkiQBQNu2bdu2bQNAbtu2bdu2BUC3bdu2bdsGQCVJkiRJkgRAJUmSJEmSBEA=\",\"dtype\":\"float64\",\"shape\":[94]},\"date\":{\"__ndarray__\":\"AAAAbwEPd0IAAMDUUw93QgAAgDqmD3dCAABAoPgPd0IAAAAGSxB3QgAAwGudEHdCAACA0e8Qd0IAAEA3QhF3QgAAAJ2UEXdCAADAAucRd0IAAIBoORJ3QgAAQM6LEndCAAAANN4Sd0IAAMCZMBN3QgAAgP+CE3dCAABAZdUTd0IAAADLJxR3QgAAwDB6FHdCAACAlswUd0IAAED8HhV3QgAAAGJxFXdCAADAx8MVd0IAAIAtFhZ3QgAAQJNoFndCAAAA+boWd0IAAMBeDRd3QgAAgMRfF3dCAABAKrIXd0IAAACQBBh3QgAAwPVWGHdCAACAW6kYd0IAAEDB+xh3QgAAACdOGXdCAADAjKAZd0IAAIDy8hl3QgAAQFhFGndCAAAAvpcad0IAAMAj6hp3QgAAgIk8G3dCAABA744bd0IAAABV4Rt3QgAAwLozHHdCAACAIIYcd0IAAECG2Bx3QgAAAOwqHXdCAADAUX0dd0IAAIC3zx13QgAAQB0iHndCAAAAg3Qed0IAAMDoxh53QgAAgE4ZH3dCAABAtGsfd0IAAAAavh93QgAAwH8QIHdCAACA5WIgd0IAAEBLtSB3QgAAALEHIXdCAADAFlohd0IAAIB8rCF3QgAAQOL+IXdCAAAASFEid0IAAMCtoyJ3QgAAgBP2IndCAABAeUgjd0IAAADfmiN3QgAAwETtI3dCAACAqj8kd0IAAEAQkiR3QgAAAHbkJHdCAADA2zYld0IAAIBBiSV3QgAAQKfbJXdCAAAADS4md0IAAMBygCZ3QgAAgNjSJndCAABAPiUnd0IAAACkdyd3QgAAwAnKJ3dCAACAbxwod0IAAEDVbih3QgAAADvBKHdCAADAoBMpd0IAAIAGZil3QgAAQGy4KXdCAAAA0goqd0IAAMA3XSp3QgAAgJ2vKndCAABAAwIrd0IAAABpVCt3QgAAwM6mK3dCAACANPkrd0IAAECaSyx3QgAAAACeLHdCAADAZfAsd0I=\",\"dtype\":\"float64\",\"shape\":[94]},\"index\":[0,1,2,3,4,5,6,7,8,9,10,11,12,13,14,15,16,17,18,19,20,21,22,23,24,25,26,27,28,29,30,31,32,33,34,35,36,37,38,39,40,41,42,43,44,45,46,47,48,49,50,51,52,53,54,55,56,57,58,59,60,61,62,63,64,65,66,67,68,69,70,71,72,73,74,75,76,77,78,79,80,81,82,83,84,85,86,87,88,89,90,91,92,93]},\"selected\":{\"id\":\"6253\"},\"selection_policy\":{\"id\":\"6252\"}},\"id\":\"6174\",\"type\":\"ColumnDataSource\"},{\"attributes\":{\"label\":{\"value\":\"Daily new cases\"},\"renderers\":[{\"id\":\"6178\"}]},\"id\":\"6199\",\"type\":\"LegendItem\"},{\"attributes\":{\"formatter\":{\"id\":\"6184\"},\"ticker\":{\"id\":\"6156\"}},\"id\":\"6155\",\"type\":\"LinearAxis\"},{\"attributes\":{\"axis\":{\"id\":\"6151\"},\"ticker\":null},\"id\":\"6154\",\"type\":\"Grid\"},{\"attributes\":{\"formatter\":{\"id\":\"6182\"},\"ticker\":{\"id\":\"6152\"}},\"id\":\"6151\",\"type\":\"DatetimeAxis\"}],\"root_ids\":[\"6140\"]},\"title\":\"Bokeh Application\",\"version\":\"2.0.2\"}};\n",
       "  var render_items = [{\"docid\":\"324512c3-c54e-4fec-aae1-ea24e59c736c\",\"root_ids\":[\"6140\"],\"roots\":{\"6140\":\"37e42f35-c52d-463d-b643-b8a14279d000\"}}];\n",
       "  root.Bokeh.embed.embed_items_notebook(docs_json, render_items);\n",
       "\n",
       "  }\n",
       "  if (root.Bokeh !== undefined) {\n",
       "    embed_document(root);\n",
       "  } else {\n",
       "    var attempts = 0;\n",
       "    var timer = setInterval(function(root) {\n",
       "      if (root.Bokeh !== undefined) {\n",
       "        clearInterval(timer);\n",
       "        embed_document(root);\n",
       "      } else {\n",
       "        attempts++;\n",
       "        if (attempts > 100) {\n",
       "          clearInterval(timer);\n",
       "          console.log(\"Bokeh: ERROR: Unable to run BokehJS code because BokehJS library is missing\");\n",
       "        }\n",
       "      }\n",
       "    }, 10, root)\n",
       "  }\n",
       "})(window);"
      ],
      "application/vnd.bokehjs_exec.v0+json": ""
     },
     "metadata": {
      "application/vnd.bokehjs_exec.v0+json": {
       "id": "6140"
      }
     },
     "output_type": "display_data"
    }
   ],
   "source": [
    "for place in PLACES:\n",
    "    if place != PLACE:\n",
    "        plot_daily_locales(locales, place, noho_new=noho_new)"
   ]
  },
  {
   "cell_type": "markdown",
   "metadata": {},
   "source": [
    "# Cumulative counts"
   ]
  },
  {
   "cell_type": "markdown",
   "metadata": {
    "ExecuteTime": {
     "end_time": "2020-06-04T21:34:10.929935Z",
     "start_time": "2020-06-04T21:34:03.335Z"
    }
   },
   "source": [
    "## Cases (LA County)"
   ]
  },
  {
   "cell_type": "markdown",
   "metadata": {},
   "source": [
    "Putting everything on a log scale allows us to see whether things are accelerating. The more diagonal the line, the more exponential the growth (i.e., a bigger exponent)."
   ]
  },
  {
   "cell_type": "code",
   "execution_count": 12,
   "metadata": {
    "ExecuteTime": {
     "end_time": "2020-06-21T21:13:01.471619Z",
     "start_time": "2020-06-21T21:13:01.295504Z"
    }
   },
   "outputs": [
    {
     "data": {
      "text/html": [
       "\n",
       "\n",
       "\n",
       "\n",
       "\n",
       "\n",
       "  <div class=\"bk-root\" id=\"4deecb6c-83db-4b3f-a532-66f617265e2b\" data-root-id=\"6722\"></div>\n"
      ]
     },
     "metadata": {},
     "output_type": "display_data"
    },
    {
     "data": {
      "application/javascript": [
       "(function(root) {\n",
       "  function embed_document(root) {\n",
       "    \n",
       "  var docs_json = {\"ddaf4051-35d0-4e39-9b62-33c370952156\":{\"roots\":{\"references\":[{\"attributes\":{\"below\":[{\"id\":\"6733\"}],\"center\":[{\"id\":\"6736\"},{\"id\":\"6740\"},{\"id\":\"6778\"}],\"left\":[{\"id\":\"6737\"}],\"plot_height\":400,\"plot_width\":1000,\"renderers\":[{\"id\":\"6758\"},{\"id\":\"6783\"}],\"title\":{\"id\":\"6723\"},\"toolbar\":{\"id\":\"6748\"},\"x_range\":{\"id\":\"6725\"},\"x_scale\":{\"id\":\"6729\"},\"y_range\":{\"id\":\"6727\"},\"y_scale\":{\"id\":\"6731\"}},\"id\":\"6722\",\"subtype\":\"Figure\",\"type\":\"Plot\"},{\"attributes\":{\"base\":60,\"mantissas\":[1,2,5,10,15,20,30],\"max_interval\":1800000.0,\"min_interval\":1000.0,\"num_minor_ticks\":0},\"id\":\"6767\",\"type\":\"AdaptiveTicker\"},{\"attributes\":{\"num_minor_ticks\":10},\"id\":\"6738\",\"type\":\"LogTicker\"},{\"attributes\":{},\"id\":\"6803\",\"type\":\"UnionRenderers\"},{\"attributes\":{\"base\":24,\"mantissas\":[1,2,4,6,8,12],\"max_interval\":43200000.0,\"min_interval\":3600000.0,\"num_minor_ticks\":0},\"id\":\"6768\",\"type\":\"AdaptiveTicker\"},{\"attributes\":{\"axis\":{\"id\":\"6737\"},\"dimension\":1,\"ticker\":null},\"id\":\"6740\",\"type\":\"Grid\"},{\"attributes\":{},\"id\":\"6804\",\"type\":\"Selection\"},{\"attributes\":{\"days\":[1,2,3,4,5,6,7,8,9,10,11,12,13,14,15,16,17,18,19,20,21,22,23,24,25,26,27,28,29,30,31]},\"id\":\"6769\",\"type\":\"DaysTicker\"},{\"attributes\":{\"ticker\":null},\"id\":\"6764\",\"type\":\"LogTickFormatter\"},{\"attributes\":{\"days\":[1,4,7,10,13,16,19,22,25,28]},\"id\":\"6770\",\"type\":\"DaysTicker\"},{\"attributes\":{},\"id\":\"6762\",\"type\":\"DatetimeTickFormatter\"},{\"attributes\":{\"fill_alpha\":{\"value\":0.2},\"fill_color\":{\"value\":\"navy\"},\"line_alpha\":{\"value\":0.2},\"line_color\":{\"value\":\"navy\"},\"size\":{\"units\":\"screen\",\"value\":5},\"x\":{\"field\":\"date\"},\"y\":{\"field\":\"confirmed_cases\"}},\"id\":\"6756\",\"type\":\"Circle\"},{\"attributes\":{\"days\":[1,8,15,22]},\"id\":\"6771\",\"type\":\"DaysTicker\"},{\"attributes\":{},\"id\":\"6741\",\"type\":\"PanTool\"},{\"attributes\":{\"days\":[1,15]},\"id\":\"6772\",\"type\":\"DaysTicker\"},{\"attributes\":{\"active_drag\":\"auto\",\"active_inspect\":\"auto\",\"active_multi\":null,\"active_scroll\":\"auto\",\"active_tap\":\"auto\",\"tools\":[{\"id\":\"6741\"},{\"id\":\"6742\"},{\"id\":\"6743\"},{\"id\":\"6744\"},{\"id\":\"6745\"},{\"id\":\"6746\"}]},\"id\":\"6748\",\"type\":\"Toolbar\"},{\"attributes\":{},\"id\":\"6742\",\"type\":\"WheelZoomTool\"},{\"attributes\":{\"data\":{\"confirmed_cases\":[670,814,1230,1482,1818,2147,2505,3037,3528,4071,4605,5325,5955,6391,6944,7573,7984,8453,8889,9197,9480,10075,10517,10895,11421,12051,12349,13823,15165,16449,17567,18545,19159,19567,20460,21017,22522,23233,24262,24936,25699,26238,27866,28665,29526,30334,31241,31703,32269,33247,34552,35447,36324,37374,38011,38466,39632,40975,42138,43085,44121,45034,46023,47875,48778,49860,51685,53746,55001,56017,57222,58267,59717,61074,62389,63850,64699,65957,67111,68959,70534,72066,73023,73832,75172,77285,78348,79676,81709],\"date\":{\"__ndarray__\":\"AADAa50Qd0IAAIDR7xB3QgAAQDdCEXdCAAAAnZQRd0IAAMAC5xF3QgAAgGg5EndCAABAzosSd0IAAAA03hJ3QgAAwJkwE3dCAACA/4ITd0IAAEBl1RN3QgAAAMsnFHdCAADAMHoUd0IAAICWzBR3QgAAQPweFXdCAAAAYnEVd0IAAMDHwxV3QgAAgC0WFndCAABAk2gWd0IAAAD5uhZ3QgAAwF4NF3dCAACAxF8Xd0IAAEAqshd3QgAAAJAEGHdCAADA9VYYd0IAAIBbqRh3QgAAQMH7GHdCAAAAJ04Zd0IAAMCMoBl3QgAAgPLyGXdCAABAWEUad0IAAAC+lxp3QgAAwCPqGndCAACAiTwbd0IAAEDvjht3QgAAAFXhG3dCAADAujMcd0IAAIAghhx3QgAAQIbYHHdCAAAA7Codd0IAAMBRfR13QgAAgLfPHXdCAABAHSIed0IAAACDdB53QgAAwOjGHndCAACAThkfd0IAAEC0ax93QgAAABq+H3dCAADAfxAgd0IAAIDlYiB3QgAAQEu1IHdCAAAAsQchd0IAAMAWWiF3QgAAgHysIXdCAABA4v4hd0IAAABIUSJ3QgAAwK2jIndCAACAE/Yid0IAAEB5SCN3QgAAAN+aI3dCAADARO0jd0IAAICqPyR3QgAAQBCSJHdCAAAAduQkd0IAAMDbNiV3QgAAgEGJJXdCAABAp9sld0IAAAANLiZ3QgAAwHKAJndCAACA2NImd0IAAEA+JSd3QgAAAKR3J3dCAADACcond0IAAIBvHCh3QgAAQNVuKHdCAAAAO8Eod0IAAMCgEyl3QgAAgAZmKXdCAABAbLgpd0IAAADSCip3QgAAwDddKndCAACAna8qd0IAAEADAit3QgAAAGlUK3dCAADAzqYrd0IAAIA0+St3QgAAQJpLLHdCAAAAAJ4sd0IAAMBl8Cx3Qg==\",\"dtype\":\"float64\",\"shape\":[89]},\"deaths\":[10,13,21,26,32,37,44,54,66,80,93,119,132,147,173,200,225,244,267,300,326,366,405,457,501,577,601,619,666,732,798,850,896,916,948,1004,1065,1119,1174,1212,1231,1260,1315,1369,1420,1470,1515,1531,1570,1617,1663,1711,1752,1793,1821,1842,1926,1976,2021,2051,2092,2108,2116,2145,2201,2241,2294,2339,2362,2386,2448,2489,2532,2567,2624,2646,2656,2710,2768,2818,2834,2894,2907,2926,2961,2993,3027,3066,3112],\"new_confirmed_cases\":{\"__ndarray__\":\"AAAAAADAX0AAAAAAAABiQAAAAAAAAHpAAAAAAACAb0AAAAAAAAB1QAAAAAAAkHRAAAAAAABgdkAAAAAAAKCAQAAAAAAAsH5AAAAAAAD4gEAAAAAAALCAQAAAAAAAgIZAAAAAAACwg0AAAAAAAEB7QAAAAAAASIFAAAAAAACog0AAAAAAALB5QAAAAAAAUH1AAAAAAABAe0AAAAAAAEBzQAAAAAAAsHFAAAAAAACYgkAAAAAAAKB7QAAAAAAAoHdAAAAAAABwgEAAAAAAALCDQAAAAAAAoHJAAAAAAAAIl0AAAAAAAPiUQAAAAAAAEJRAAAAAAAB4kUAAAAAAAJCOQAAAAAAAMINAAAAAAACAeUAAAAAAAOiLQAAAAAAAaIFAAAAAAACEl0AAAAAAADiGQAAAAAAAFJBAAAAAAAAQhUAAAAAAANiHQAAAAAAA2IBAAAAAAABwmUAAAAAAAPiIQAAAAAAA6IpAAAAAAABAiUAAAAAAAFiMQAAAAAAA4HxAAAAAAACwgUAAAAAAAJCOQAAAAAAAZJRAAAAAAAD4i0AAAAAAAGiLQAAAAAAAaJBAAAAAAADog0AAAAAAAHB8QAAAAAAAOJJAAAAAAAD8lEAAAAAAACySQAAAAAAAmI1AAAAAAAAwkEAAAAAAAIiMQAAAAAAA6I5AAAAAAADwnEAAAAAAADiMQAAAAAAA6JBAAAAAAACEnEAAAAAAABqgQAAAAAAAnJNAAAAAAADAj0AAAAAAANSSQAAAAAAAVJBAAAAAAAColkAAAAAAADSVQAAAAAAAjJRAAAAAAADUlkAAAAAAAIiKQAAAAAAAqJNAAAAAAAAIkkAAAAAAAOCcQAAAAAAAnJhAAAAAAADwl0AAAAAAAOiNQAAAAAAASIlAAAAAAADwlEAAAAAAAIKgQAAAAAAAnJBAAAAAAADAlEAAAAAAAMSfQA==\",\"dtype\":\"float64\",\"shape\":[89]},\"new_deaths\":{\"__ndarray__\":\"AAAAAAAAAEAAAAAAAAAIQAAAAAAAACBAAAAAAAAAFEAAAAAAAAAYQAAAAAAAABRAAAAAAAAAHEAAAAAAAAAkQAAAAAAAAChAAAAAAAAALEAAAAAAAAAqQAAAAAAAADpAAAAAAAAAKkAAAAAAAAAuQAAAAAAAADpAAAAAAAAAO0AAAAAAAAA5QAAAAAAAADNAAAAAAAAAN0AAAAAAAIBAQAAAAAAAADpAAAAAAAAAREAAAAAAAIBDQAAAAAAAAEpAAAAAAAAARkAAAAAAAABTQAAAAAAAADhAAAAAAAAAMkAAAAAAAIBHQAAAAAAAgFBAAAAAAACAUEAAAAAAAABKQAAAAAAAAEdAAAAAAAAANEAAAAAAAABAQAAAAAAAAExAAAAAAACATkAAAAAAAABLQAAAAAAAgEtAAAAAAAAAQ0AAAAAAAAAzQAAAAAAAAD1AAAAAAACAS0AAAAAAAABLQAAAAAAAgElAAAAAAAAASUAAAAAAAIBGQAAAAAAAADBAAAAAAACAQ0AAAAAAAIBHQAAAAAAAAEdAAAAAAAAASEAAAAAAAIBEQAAAAAAAgERAAAAAAAAAPEAAAAAAAAA1QAAAAAAAAFVAAAAAAAAASUAAAAAAAIBGQAAAAAAAAD5AAAAAAACAREAAAAAAAAAwQAAAAAAAACBAAAAAAAAAPUAAAAAAAABMQAAAAAAAAERAAAAAAACASkAAAAAAAIBGQAAAAAAAADdAAAAAAAAAOEAAAAAAAABPQAAAAAAAgERAAAAAAACARUAAAAAAAIBBQAAAAAAAgExAAAAAAAAANkAAAAAAAAAkQAAAAAAAAEtAAAAAAAAATUAAAAAAAABJQAAAAAAAADBAAAAAAAAATkAAAAAAAAAqQAAAAAAAADNAAAAAAACAQUAAAAAAAABAQAAAAAAAAEFAAAAAAACAQ0AAAAAAAABHQA==\",\"dtype\":\"float64\",\"shape\":[89]}},\"selected\":{\"id\":\"6804\"},\"selection_policy\":{\"id\":\"6803\"}},\"id\":\"6721\",\"type\":\"ColumnDataSource\"},{\"attributes\":{\"months\":[0,1,2,3,4,5,6,7,8,9,10,11]},\"id\":\"6773\",\"type\":\"MonthsTicker\"},{\"attributes\":{\"overlay\":{\"id\":\"6747\"}},\"id\":\"6743\",\"type\":\"BoxZoomTool\"},{\"attributes\":{\"fill_alpha\":{\"value\":0.1},\"fill_color\":{\"value\":\"navy\"},\"line_alpha\":{\"value\":0.1},\"line_color\":{\"value\":\"navy\"},\"size\":{\"units\":\"screen\",\"value\":5},\"x\":{\"field\":\"date\"},\"y\":{\"field\":\"confirmed_cases\"}},\"id\":\"6757\",\"type\":\"Circle\"},{\"attributes\":{\"months\":[0,2,4,6,8,10]},\"id\":\"6774\",\"type\":\"MonthsTicker\"},{\"attributes\":{},\"id\":\"6744\",\"type\":\"SaveTool\"},{\"attributes\":{},\"id\":\"6727\",\"type\":\"DataRange1d\"},{\"attributes\":{\"months\":[0,4,8]},\"id\":\"6775\",\"type\":\"MonthsTicker\"},{\"attributes\":{},\"id\":\"6725\",\"type\":\"DataRange1d\"},{\"attributes\":{\"source\":{\"id\":\"6721\"}},\"id\":\"6784\",\"type\":\"CDSView\"},{\"attributes\":{},\"id\":\"6745\",\"type\":\"ResetTool\"},{\"attributes\":{\"months\":[0,6]},\"id\":\"6776\",\"type\":\"MonthsTicker\"},{\"attributes\":{},\"id\":\"6746\",\"type\":\"HelpTool\"},{\"attributes\":{},\"id\":\"6777\",\"type\":\"YearsTicker\"},{\"attributes\":{\"text\":\"Cumulative cases (log scale)\"},\"id\":\"6723\",\"type\":\"Title\"},{\"attributes\":{\"data_source\":{\"id\":\"6721\"},\"glyph\":{\"id\":\"6756\"},\"hover_glyph\":null,\"muted_glyph\":null,\"nonselection_glyph\":{\"id\":\"6757\"},\"selection_glyph\":null,\"view\":{\"id\":\"6759\"}},\"id\":\"6758\",\"type\":\"GlyphRenderer\"},{\"attributes\":{\"items\":[{\"id\":\"6779\"}],\"location\":\"bottom_right\"},\"id\":\"6778\",\"type\":\"Legend\"},{\"attributes\":{},\"id\":\"6729\",\"type\":\"LinearScale\"},{\"attributes\":{\"label\":{\"value\":\"Cases\"},\"renderers\":[{\"id\":\"6758\"},{\"id\":\"6783\"}]},\"id\":\"6779\",\"type\":\"LegendItem\"},{\"attributes\":{},\"id\":\"6731\",\"type\":\"LogScale\"},{\"attributes\":{\"formatter\":{\"id\":\"6762\"},\"ticker\":{\"id\":\"6734\"}},\"id\":\"6733\",\"type\":\"DatetimeAxis\"},{\"attributes\":{\"line_alpha\":0.5,\"line_color\":\"navy\",\"line_width\":5,\"x\":{\"field\":\"date\"},\"y\":{\"field\":\"confirmed_cases\"}},\"id\":\"6781\",\"type\":\"Line\"},{\"attributes\":{\"data_source\":{\"id\":\"6721\"},\"glyph\":{\"id\":\"6781\"},\"hover_glyph\":null,\"muted_glyph\":null,\"nonselection_glyph\":{\"id\":\"6782\"},\"selection_glyph\":null,\"view\":{\"id\":\"6784\"}},\"id\":\"6783\",\"type\":\"GlyphRenderer\"},{\"attributes\":{\"num_minor_ticks\":5,\"tickers\":[{\"id\":\"6766\"},{\"id\":\"6767\"},{\"id\":\"6768\"},{\"id\":\"6769\"},{\"id\":\"6770\"},{\"id\":\"6771\"},{\"id\":\"6772\"},{\"id\":\"6773\"},{\"id\":\"6774\"},{\"id\":\"6775\"},{\"id\":\"6776\"},{\"id\":\"6777\"}]},\"id\":\"6734\",\"type\":\"DatetimeTicker\"},{\"attributes\":{\"axis\":{\"id\":\"6733\"},\"ticker\":null},\"id\":\"6736\",\"type\":\"Grid\"},{\"attributes\":{\"line_alpha\":0.1,\"line_color\":\"navy\",\"line_width\":5,\"x\":{\"field\":\"date\"},\"y\":{\"field\":\"confirmed_cases\"}},\"id\":\"6782\",\"type\":\"Line\"},{\"attributes\":{\"bottom_units\":\"screen\",\"fill_alpha\":0.5,\"fill_color\":\"lightgrey\",\"left_units\":\"screen\",\"level\":\"overlay\",\"line_alpha\":1.0,\"line_color\":\"black\",\"line_dash\":[4,4],\"line_width\":2,\"render_mode\":\"css\",\"right_units\":\"screen\",\"top_units\":\"screen\"},\"id\":\"6747\",\"type\":\"BoxAnnotation\"},{\"attributes\":{\"source\":{\"id\":\"6721\"}},\"id\":\"6759\",\"type\":\"CDSView\"},{\"attributes\":{\"formatter\":{\"id\":\"6764\"},\"ticker\":{\"id\":\"6738\"}},\"id\":\"6737\",\"type\":\"LogAxis\"},{\"attributes\":{\"mantissas\":[1,2,5],\"max_interval\":500.0,\"num_minor_ticks\":0},\"id\":\"6766\",\"type\":\"AdaptiveTicker\"}],\"root_ids\":[\"6722\"]},\"title\":\"Bokeh Application\",\"version\":\"2.0.2\"}};\n",
       "  var render_items = [{\"docid\":\"ddaf4051-35d0-4e39-9b62-33c370952156\",\"root_ids\":[\"6722\"],\"roots\":{\"6722\":\"4deecb6c-83db-4b3f-a532-66f617265e2b\"}}];\n",
       "  root.Bokeh.embed.embed_items_notebook(docs_json, render_items);\n",
       "\n",
       "  }\n",
       "  if (root.Bokeh !== undefined) {\n",
       "    embed_document(root);\n",
       "  } else {\n",
       "    var attempts = 0;\n",
       "    var timer = setInterval(function(root) {\n",
       "      if (root.Bokeh !== undefined) {\n",
       "        clearInterval(timer);\n",
       "        embed_document(root);\n",
       "      } else {\n",
       "        attempts++;\n",
       "        if (attempts > 100) {\n",
       "          clearInterval(timer);\n",
       "          console.log(\"Bokeh: ERROR: Unable to run BokehJS code because BokehJS library is missing\");\n",
       "        }\n",
       "      }\n",
       "    }, 10, root)\n",
       "  }\n",
       "})(window);"
      ],
      "application/vnd.bokehjs_exec.v0+json": ""
     },
     "metadata": {
      "application/vnd.bokehjs_exec.v0+json": {
       "id": "6722"
      }
     },
     "output_type": "display_data"
    }
   ],
   "source": [
    "source = ColumnDataSource(lac)\n",
    "p = figure(plot_width=1000, plot_height=400, x_axis_type='datetime',\n",
    "           y_axis_type='log',\n",
    "           title=f\"Cumulative cases (log scale)\", \n",
    "           title_location='above')\n",
    "\n",
    "p.circle(x='date', \n",
    "         y='confirmed_cases', \n",
    "         size=5, \n",
    "         color=\"navy\", \n",
    "         source=source, \n",
    "         alpha=0.2, \n",
    "         legend_label='Cases')\n",
    "\n",
    "p.line(x='date', \n",
    "         y='confirmed_cases', \n",
    "         line_width=5, \n",
    "         color=\"navy\", \n",
    "         source=source, \n",
    "         alpha=0.5, \n",
    "         legend_label='Cases')\n",
    "\n",
    "p.legend.location = 'bottom_right'\n",
    "\n",
    "show(p)"
   ]
  },
  {
   "cell_type": "markdown",
   "metadata": {},
   "source": [
    "## Deaths (LA County)"
   ]
  },
  {
   "cell_type": "code",
   "execution_count": 13,
   "metadata": {
    "ExecuteTime": {
     "end_time": "2020-06-21T21:13:01.640646Z",
     "start_time": "2020-06-21T21:13:01.474274Z"
    }
   },
   "outputs": [
    {
     "data": {
      "text/html": [
       "\n",
       "\n",
       "\n",
       "\n",
       "\n",
       "\n",
       "  <div class=\"bk-root\" id=\"84293e17-b943-4bd6-96d7-2bc43b07c253\" data-root-id=\"7268\"></div>\n"
      ]
     },
     "metadata": {},
     "output_type": "display_data"
    },
    {
     "data": {
      "application/javascript": [
       "(function(root) {\n",
       "  function embed_document(root) {\n",
       "    \n",
       "  var docs_json = {\"e73fa927-ece6-41f0-a44e-e81687206a5f\":{\"roots\":{\"references\":[{\"attributes\":{\"below\":[{\"id\":\"7279\"}],\"center\":[{\"id\":\"7282\"},{\"id\":\"7286\"},{\"id\":\"7324\"}],\"left\":[{\"id\":\"7283\"}],\"plot_height\":400,\"plot_width\":1000,\"renderers\":[{\"id\":\"7304\"},{\"id\":\"7329\"}],\"title\":{\"id\":\"7269\"},\"toolbar\":{\"id\":\"7294\"},\"x_range\":{\"id\":\"7271\"},\"x_scale\":{\"id\":\"7275\"},\"y_range\":{\"id\":\"7273\"},\"y_scale\":{\"id\":\"7277\"}},\"id\":\"7268\",\"subtype\":\"Figure\",\"type\":\"Plot\"},{\"attributes\":{\"label\":{\"value\":\"Deaths\"},\"renderers\":[{\"id\":\"7304\"},{\"id\":\"7329\"}]},\"id\":\"7325\",\"type\":\"LegendItem\"},{\"attributes\":{\"base\":60,\"mantissas\":[1,2,5,10,15,20,30],\"max_interval\":1800000.0,\"min_interval\":1000.0,\"num_minor_ticks\":0},\"id\":\"7313\",\"type\":\"AdaptiveTicker\"},{\"attributes\":{\"formatter\":{\"id\":\"7310\"},\"ticker\":{\"id\":\"7284\"}},\"id\":\"7283\",\"type\":\"LogAxis\"},{\"attributes\":{\"axis\":{\"id\":\"7283\"},\"dimension\":1,\"ticker\":null},\"id\":\"7286\",\"type\":\"Grid\"},{\"attributes\":{},\"id\":\"7288\",\"type\":\"WheelZoomTool\"},{\"attributes\":{},\"id\":\"7349\",\"type\":\"UnionRenderers\"},{\"attributes\":{\"axis\":{\"id\":\"7279\"},\"ticker\":null},\"id\":\"7282\",\"type\":\"Grid\"},{\"attributes\":{\"source\":{\"id\":\"7267\"}},\"id\":\"7330\",\"type\":\"CDSView\"},{\"attributes\":{\"data_source\":{\"id\":\"7267\"},\"glyph\":{\"id\":\"7327\"},\"hover_glyph\":null,\"muted_glyph\":null,\"nonselection_glyph\":{\"id\":\"7328\"},\"selection_glyph\":null,\"view\":{\"id\":\"7330\"}},\"id\":\"7329\",\"type\":\"GlyphRenderer\"},{\"attributes\":{\"num_minor_ticks\":10},\"id\":\"7284\",\"type\":\"LogTicker\"},{\"attributes\":{},\"id\":\"7271\",\"type\":\"DataRange1d\"},{\"attributes\":{\"line_alpha\":0.1,\"line_color\":\"navy\",\"line_width\":5,\"x\":{\"field\":\"date\"},\"y\":{\"field\":\"deaths\"}},\"id\":\"7328\",\"type\":\"Line\"},{\"attributes\":{\"data_source\":{\"id\":\"7267\"},\"glyph\":{\"id\":\"7302\"},\"hover_glyph\":null,\"muted_glyph\":null,\"nonselection_glyph\":{\"id\":\"7303\"},\"selection_glyph\":null,\"view\":{\"id\":\"7305\"}},\"id\":\"7304\",\"type\":\"GlyphRenderer\"},{\"attributes\":{},\"id\":\"7287\",\"type\":\"PanTool\"},{\"attributes\":{\"data\":{\"confirmed_cases\":[670,814,1230,1482,1818,2147,2505,3037,3528,4071,4605,5325,5955,6391,6944,7573,7984,8453,8889,9197,9480,10075,10517,10895,11421,12051,12349,13823,15165,16449,17567,18545,19159,19567,20460,21017,22522,23233,24262,24936,25699,26238,27866,28665,29526,30334,31241,31703,32269,33247,34552,35447,36324,37374,38011,38466,39632,40975,42138,43085,44121,45034,46023,47875,48778,49860,51685,53746,55001,56017,57222,58267,59717,61074,62389,63850,64699,65957,67111,68959,70534,72066,73023,73832,75172,77285,78348,79676,81709],\"date\":{\"__ndarray__\":\"AADAa50Qd0IAAIDR7xB3QgAAQDdCEXdCAAAAnZQRd0IAAMAC5xF3QgAAgGg5EndCAABAzosSd0IAAAA03hJ3QgAAwJkwE3dCAACA/4ITd0IAAEBl1RN3QgAAAMsnFHdCAADAMHoUd0IAAICWzBR3QgAAQPweFXdCAAAAYnEVd0IAAMDHwxV3QgAAgC0WFndCAABAk2gWd0IAAAD5uhZ3QgAAwF4NF3dCAACAxF8Xd0IAAEAqshd3QgAAAJAEGHdCAADA9VYYd0IAAIBbqRh3QgAAQMH7GHdCAAAAJ04Zd0IAAMCMoBl3QgAAgPLyGXdCAABAWEUad0IAAAC+lxp3QgAAwCPqGndCAACAiTwbd0IAAEDvjht3QgAAAFXhG3dCAADAujMcd0IAAIAghhx3QgAAQIbYHHdCAAAA7Codd0IAAMBRfR13QgAAgLfPHXdCAABAHSIed0IAAACDdB53QgAAwOjGHndCAACAThkfd0IAAEC0ax93QgAAABq+H3dCAADAfxAgd0IAAIDlYiB3QgAAQEu1IHdCAAAAsQchd0IAAMAWWiF3QgAAgHysIXdCAABA4v4hd0IAAABIUSJ3QgAAwK2jIndCAACAE/Yid0IAAEB5SCN3QgAAAN+aI3dCAADARO0jd0IAAICqPyR3QgAAQBCSJHdCAAAAduQkd0IAAMDbNiV3QgAAgEGJJXdCAABAp9sld0IAAAANLiZ3QgAAwHKAJndCAACA2NImd0IAAEA+JSd3QgAAAKR3J3dCAADACcond0IAAIBvHCh3QgAAQNVuKHdCAAAAO8Eod0IAAMCgEyl3QgAAgAZmKXdCAABAbLgpd0IAAADSCip3QgAAwDddKndCAACAna8qd0IAAEADAit3QgAAAGlUK3dCAADAzqYrd0IAAIA0+St3QgAAQJpLLHdCAAAAAJ4sd0IAAMBl8Cx3Qg==\",\"dtype\":\"float64\",\"shape\":[89]},\"deaths\":[10,13,21,26,32,37,44,54,66,80,93,119,132,147,173,200,225,244,267,300,326,366,405,457,501,577,601,619,666,732,798,850,896,916,948,1004,1065,1119,1174,1212,1231,1260,1315,1369,1420,1470,1515,1531,1570,1617,1663,1711,1752,1793,1821,1842,1926,1976,2021,2051,2092,2108,2116,2145,2201,2241,2294,2339,2362,2386,2448,2489,2532,2567,2624,2646,2656,2710,2768,2818,2834,2894,2907,2926,2961,2993,3027,3066,3112],\"new_confirmed_cases\":{\"__ndarray__\":\"AAAAAADAX0AAAAAAAABiQAAAAAAAAHpAAAAAAACAb0AAAAAAAAB1QAAAAAAAkHRAAAAAAABgdkAAAAAAAKCAQAAAAAAAsH5AAAAAAAD4gEAAAAAAALCAQAAAAAAAgIZAAAAAAACwg0AAAAAAAEB7QAAAAAAASIFAAAAAAACog0AAAAAAALB5QAAAAAAAUH1AAAAAAABAe0AAAAAAAEBzQAAAAAAAsHFAAAAAAACYgkAAAAAAAKB7QAAAAAAAoHdAAAAAAABwgEAAAAAAALCDQAAAAAAAoHJAAAAAAAAIl0AAAAAAAPiUQAAAAAAAEJRAAAAAAAB4kUAAAAAAAJCOQAAAAAAAMINAAAAAAACAeUAAAAAAAOiLQAAAAAAAaIFAAAAAAACEl0AAAAAAADiGQAAAAAAAFJBAAAAAAAAQhUAAAAAAANiHQAAAAAAA2IBAAAAAAABwmUAAAAAAAPiIQAAAAAAA6IpAAAAAAABAiUAAAAAAAFiMQAAAAAAA4HxAAAAAAACwgUAAAAAAAJCOQAAAAAAAZJRAAAAAAAD4i0AAAAAAAGiLQAAAAAAAaJBAAAAAAADog0AAAAAAAHB8QAAAAAAAOJJAAAAAAAD8lEAAAAAAACySQAAAAAAAmI1AAAAAAAAwkEAAAAAAAIiMQAAAAAAA6I5AAAAAAADwnEAAAAAAADiMQAAAAAAA6JBAAAAAAACEnEAAAAAAABqgQAAAAAAAnJNAAAAAAADAj0AAAAAAANSSQAAAAAAAVJBAAAAAAAColkAAAAAAADSVQAAAAAAAjJRAAAAAAADUlkAAAAAAAIiKQAAAAAAAqJNAAAAAAAAIkkAAAAAAAOCcQAAAAAAAnJhAAAAAAADwl0AAAAAAAOiNQAAAAAAASIlAAAAAAADwlEAAAAAAAIKgQAAAAAAAnJBAAAAAAADAlEAAAAAAAMSfQA==\",\"dtype\":\"float64\",\"shape\":[89]},\"new_deaths\":{\"__ndarray__\":\"AAAAAAAAAEAAAAAAAAAIQAAAAAAAACBAAAAAAAAAFEAAAAAAAAAYQAAAAAAAABRAAAAAAAAAHEAAAAAAAAAkQAAAAAAAAChAAAAAAAAALEAAAAAAAAAqQAAAAAAAADpAAAAAAAAAKkAAAAAAAAAuQAAAAAAAADpAAAAAAAAAO0AAAAAAAAA5QAAAAAAAADNAAAAAAAAAN0AAAAAAAIBAQAAAAAAAADpAAAAAAAAAREAAAAAAAIBDQAAAAAAAAEpAAAAAAAAARkAAAAAAAABTQAAAAAAAADhAAAAAAAAAMkAAAAAAAIBHQAAAAAAAgFBAAAAAAACAUEAAAAAAAABKQAAAAAAAAEdAAAAAAAAANEAAAAAAAABAQAAAAAAAAExAAAAAAACATkAAAAAAAABLQAAAAAAAgEtAAAAAAAAAQ0AAAAAAAAAzQAAAAAAAAD1AAAAAAACAS0AAAAAAAABLQAAAAAAAgElAAAAAAAAASUAAAAAAAIBGQAAAAAAAADBAAAAAAACAQ0AAAAAAAIBHQAAAAAAAAEdAAAAAAAAASEAAAAAAAIBEQAAAAAAAgERAAAAAAAAAPEAAAAAAAAA1QAAAAAAAAFVAAAAAAAAASUAAAAAAAIBGQAAAAAAAAD5AAAAAAACAREAAAAAAAAAwQAAAAAAAACBAAAAAAAAAPUAAAAAAAABMQAAAAAAAAERAAAAAAACASkAAAAAAAIBGQAAAAAAAADdAAAAAAAAAOEAAAAAAAABPQAAAAAAAgERAAAAAAACARUAAAAAAAIBBQAAAAAAAgExAAAAAAAAANkAAAAAAAAAkQAAAAAAAAEtAAAAAAAAATUAAAAAAAABJQAAAAAAAADBAAAAAAAAATkAAAAAAAAAqQAAAAAAAADNAAAAAAACAQUAAAAAAAABAQAAAAAAAAEFAAAAAAACAQ0AAAAAAAABHQA==\",\"dtype\":\"float64\",\"shape\":[89]}},\"selected\":{\"id\":\"7350\"},\"selection_policy\":{\"id\":\"7349\"}},\"id\":\"7267\",\"type\":\"ColumnDataSource\"},{\"attributes\":{\"line_alpha\":0.5,\"line_color\":\"navy\",\"line_width\":5,\"x\":{\"field\":\"date\"},\"y\":{\"field\":\"deaths\"}},\"id\":\"7327\",\"type\":\"Line\"},{\"attributes\":{\"base\":24,\"mantissas\":[1,2,4,6,8,12],\"max_interval\":43200000.0,\"min_interval\":3600000.0,\"num_minor_ticks\":0},\"id\":\"7314\",\"type\":\"AdaptiveTicker\"},{\"attributes\":{},\"id\":\"7290\",\"type\":\"SaveTool\"},{\"attributes\":{\"source\":{\"id\":\"7267\"}},\"id\":\"7305\",\"type\":\"CDSView\"},{\"attributes\":{\"bottom_units\":\"screen\",\"fill_alpha\":0.5,\"fill_color\":\"lightgrey\",\"left_units\":\"screen\",\"level\":\"overlay\",\"line_alpha\":1.0,\"line_color\":\"black\",\"line_dash\":[4,4],\"line_width\":2,\"render_mode\":\"css\",\"right_units\":\"screen\",\"top_units\":\"screen\"},\"id\":\"7293\",\"type\":\"BoxAnnotation\"},{\"attributes\":{\"days\":[1,2,3,4,5,6,7,8,9,10,11,12,13,14,15,16,17,18,19,20,21,22,23,24,25,26,27,28,29,30,31]},\"id\":\"7315\",\"type\":\"DaysTicker\"},{\"attributes\":{},\"id\":\"7350\",\"type\":\"Selection\"},{\"attributes\":{},\"id\":\"7308\",\"type\":\"DatetimeTickFormatter\"},{\"attributes\":{\"days\":[1,4,7,10,13,16,19,22,25,28]},\"id\":\"7316\",\"type\":\"DaysTicker\"},{\"attributes\":{\"mantissas\":[1,2,5],\"max_interval\":500.0,\"num_minor_ticks\":0},\"id\":\"7312\",\"type\":\"AdaptiveTicker\"},{\"attributes\":{\"days\":[1,8,15,22]},\"id\":\"7317\",\"type\":\"DaysTicker\"},{\"attributes\":{\"days\":[1,15]},\"id\":\"7318\",\"type\":\"DaysTicker\"},{\"attributes\":{\"fill_alpha\":{\"value\":0.2},\"fill_color\":{\"value\":\"navy\"},\"line_alpha\":{\"value\":0.2},\"line_color\":{\"value\":\"navy\"},\"size\":{\"units\":\"screen\",\"value\":5},\"x\":{\"field\":\"date\"},\"y\":{\"field\":\"deaths\"}},\"id\":\"7302\",\"type\":\"Circle\"},{\"attributes\":{\"months\":[0,1,2,3,4,5,6,7,8,9,10,11]},\"id\":\"7319\",\"type\":\"MonthsTicker\"},{\"attributes\":{},\"id\":\"7273\",\"type\":\"DataRange1d\"},{\"attributes\":{\"months\":[0,2,4,6,8,10]},\"id\":\"7320\",\"type\":\"MonthsTicker\"},{\"attributes\":{\"text\":\"Cumulative deaths (log scale)\"},\"id\":\"7269\",\"type\":\"Title\"},{\"attributes\":{\"ticker\":null},\"id\":\"7310\",\"type\":\"LogTickFormatter\"},{\"attributes\":{\"num_minor_ticks\":5,\"tickers\":[{\"id\":\"7312\"},{\"id\":\"7313\"},{\"id\":\"7314\"},{\"id\":\"7315\"},{\"id\":\"7316\"},{\"id\":\"7317\"},{\"id\":\"7318\"},{\"id\":\"7319\"},{\"id\":\"7320\"},{\"id\":\"7321\"},{\"id\":\"7322\"},{\"id\":\"7323\"}]},\"id\":\"7280\",\"type\":\"DatetimeTicker\"},{\"attributes\":{\"months\":[0,4,8]},\"id\":\"7321\",\"type\":\"MonthsTicker\"},{\"attributes\":{\"active_drag\":\"auto\",\"active_inspect\":\"auto\",\"active_multi\":null,\"active_scroll\":\"auto\",\"active_tap\":\"auto\",\"tools\":[{\"id\":\"7287\"},{\"id\":\"7288\"},{\"id\":\"7289\"},{\"id\":\"7290\"},{\"id\":\"7291\"},{\"id\":\"7292\"}]},\"id\":\"7294\",\"type\":\"Toolbar\"},{\"attributes\":{\"formatter\":{\"id\":\"7308\"},\"ticker\":{\"id\":\"7280\"}},\"id\":\"7279\",\"type\":\"DatetimeAxis\"},{\"attributes\":{},\"id\":\"7291\",\"type\":\"ResetTool\"},{\"attributes\":{\"months\":[0,6]},\"id\":\"7322\",\"type\":\"MonthsTicker\"},{\"attributes\":{},\"id\":\"7292\",\"type\":\"HelpTool\"},{\"attributes\":{},\"id\":\"7277\",\"type\":\"LogScale\"},{\"attributes\":{\"fill_alpha\":{\"value\":0.1},\"fill_color\":{\"value\":\"navy\"},\"line_alpha\":{\"value\":0.1},\"line_color\":{\"value\":\"navy\"},\"size\":{\"units\":\"screen\",\"value\":5},\"x\":{\"field\":\"date\"},\"y\":{\"field\":\"deaths\"}},\"id\":\"7303\",\"type\":\"Circle\"},{\"attributes\":{},\"id\":\"7323\",\"type\":\"YearsTicker\"},{\"attributes\":{\"overlay\":{\"id\":\"7293\"}},\"id\":\"7289\",\"type\":\"BoxZoomTool\"},{\"attributes\":{\"items\":[{\"id\":\"7325\"}],\"location\":\"bottom_right\"},\"id\":\"7324\",\"type\":\"Legend\"},{\"attributes\":{},\"id\":\"7275\",\"type\":\"LinearScale\"}],\"root_ids\":[\"7268\"]},\"title\":\"Bokeh Application\",\"version\":\"2.0.2\"}};\n",
       "  var render_items = [{\"docid\":\"e73fa927-ece6-41f0-a44e-e81687206a5f\",\"root_ids\":[\"7268\"],\"roots\":{\"7268\":\"84293e17-b943-4bd6-96d7-2bc43b07c253\"}}];\n",
       "  root.Bokeh.embed.embed_items_notebook(docs_json, render_items);\n",
       "\n",
       "  }\n",
       "  if (root.Bokeh !== undefined) {\n",
       "    embed_document(root);\n",
       "  } else {\n",
       "    var attempts = 0;\n",
       "    var timer = setInterval(function(root) {\n",
       "      if (root.Bokeh !== undefined) {\n",
       "        clearInterval(timer);\n",
       "        embed_document(root);\n",
       "      } else {\n",
       "        attempts++;\n",
       "        if (attempts > 100) {\n",
       "          clearInterval(timer);\n",
       "          console.log(\"Bokeh: ERROR: Unable to run BokehJS code because BokehJS library is missing\");\n",
       "        }\n",
       "      }\n",
       "    }, 10, root)\n",
       "  }\n",
       "})(window);"
      ],
      "application/vnd.bokehjs_exec.v0+json": ""
     },
     "metadata": {
      "application/vnd.bokehjs_exec.v0+json": {
       "id": "7268"
      }
     },
     "output_type": "display_data"
    }
   ],
   "source": [
    "source = ColumnDataSource(lac)\n",
    "p = figure(plot_width=1000, plot_height=400, x_axis_type='datetime',\n",
    "           y_axis_type='log',\n",
    "           title=f\"Cumulative deaths (log scale)\", \n",
    "           title_location='above')\n",
    "\n",
    "p.circle(x='date', \n",
    "         y='deaths', \n",
    "         size=5, \n",
    "         color=\"navy\", \n",
    "         source=source, \n",
    "         alpha=0.2, \n",
    "         legend_label='Deaths')\n",
    "\n",
    "p.line(x='date', \n",
    "         y='deaths', \n",
    "         line_width=5, \n",
    "         color=\"navy\", \n",
    "         source=source, \n",
    "         alpha=0.5, \n",
    "         legend_label='Deaths')\n",
    "\n",
    "p.legend.location = 'bottom_right'\n",
    "\n",
    "show(p)"
   ]
  },
  {
   "cell_type": "markdown",
   "metadata": {},
   "source": [
    "# Growth rates"
   ]
  },
  {
   "cell_type": "markdown",
   "metadata": {},
   "source": [
    "We also can look at the growth rate from day-to-day. This is the number of new cases today divided by the number of new cases yesterday. For example:\n",
    "\n",
    "    Yesterday: 10 new\n",
    "    \n",
    "    Today: 5 new\n",
    "    \n",
    "    Growth rate: 5 / 10 = 0.5\n",
    "    \n",
    "and\n",
    "\n",
    "    Yesterday: 5 new\n",
    "    \n",
    "    Today: 10 new\n",
    "    \n",
    "    Growth rate: 2.0\n",
    "\n",
    "If the growth rate is greater than 1, things are getting increasingly worse. If it is 1, they are staying the same. If it is less than 1, it is slowing. Thus in the following plots we want to see values below the red line. \n",
    "\n",
    "\n",
    "\n",
    "I've labeled the following plots 'trimmed' to indicate that outlier daily growth values about 5.0 are not represented by points. It's easy to get that kind of noise given the relatively small numbers in the local case data. The outlier values are included in the calculation of the trend lies.\n",
    "\n",
    "---\n",
    "\n",
    "NB, the rate cannot go below 0 because there can't be negative new cases. Sometimes the raw data contains negative values to make a correction to the totals. Since they comprise a very small number of cases, I've dropped all negative values."
   ]
  },
  {
   "cell_type": "markdown",
   "metadata": {},
   "source": [
    "## Deaths growth rate"
   ]
  },
  {
   "cell_type": "code",
   "execution_count": 14,
   "metadata": {
    "ExecuteTime": {
     "end_time": "2020-06-21T21:13:01.834464Z",
     "start_time": "2020-06-21T21:13:01.643509Z"
    }
   },
   "outputs": [
    {
     "data": {
      "text/html": [
       "\n",
       "\n",
       "\n",
       "\n",
       "\n",
       "\n",
       "  <div class=\"bk-root\" id=\"9d489f65-1b30-4f47-9abf-1c094e689f25\" data-root-id=\"7835\"></div>\n"
      ]
     },
     "metadata": {},
     "output_type": "display_data"
    },
    {
     "data": {
      "application/javascript": [
       "(function(root) {\n",
       "  function embed_document(root) {\n",
       "    \n",
       "  var docs_json = {\"4407f212-3f1c-4a8e-aede-1a90ff05d84f\":{\"roots\":{\"references\":[{\"attributes\":{\"below\":[{\"id\":\"7846\"}],\"center\":[{\"id\":\"7849\"},{\"id\":\"7853\"},{\"id\":\"7891\"},{\"id\":\"7919\"}],\"left\":[{\"id\":\"7850\"}],\"plot_height\":400,\"plot_width\":1000,\"renderers\":[{\"id\":\"7871\"},{\"id\":\"7896\"}],\"title\":{\"id\":\"7836\"},\"toolbar\":{\"id\":\"7861\"},\"x_range\":{\"id\":\"7838\"},\"x_scale\":{\"id\":\"7842\"},\"y_range\":{\"id\":\"7840\"},\"y_scale\":{\"id\":\"7844\"}},\"id\":\"7835\",\"subtype\":\"Figure\",\"type\":\"Plot\"},{\"attributes\":{\"label\":{\"value\":\"daily death growth rate\"},\"renderers\":[{\"id\":\"7871\"}]},\"id\":\"7892\",\"type\":\"LegendItem\"},{\"attributes\":{},\"id\":\"7875\",\"type\":\"DatetimeTickFormatter\"},{\"attributes\":{},\"id\":\"7851\",\"type\":\"BasicTicker\"},{\"attributes\":{\"axis\":{\"id\":\"7850\"},\"dimension\":1,\"ticker\":null},\"id\":\"7853\",\"type\":\"Grid\"},{\"attributes\":{\"fill_alpha\":{\"value\":0.1},\"fill_color\":{\"value\":\"navy\"},\"line_alpha\":{\"value\":0.1},\"line_color\":{\"value\":\"navy\"},\"size\":{\"units\":\"screen\",\"value\":5},\"x\":{\"field\":\"date\"},\"y\":{\"field\":\"new_deaths\"}},\"id\":\"7870\",\"type\":\"Circle\"},{\"attributes\":{},\"id\":\"8303\",\"type\":\"Selection\"},{\"attributes\":{},\"id\":\"7877\",\"type\":\"BasicTickFormatter\"},{\"attributes\":{\"data_source\":{\"id\":\"7834\"},\"glyph\":{\"id\":\"7894\"},\"hover_glyph\":null,\"muted_glyph\":null,\"nonselection_glyph\":{\"id\":\"7895\"},\"selection_glyph\":null,\"view\":{\"id\":\"7897\"}},\"id\":\"7896\",\"type\":\"GlyphRenderer\"},{\"attributes\":{\"data_source\":{\"id\":\"7833\"},\"glyph\":{\"id\":\"7869\"},\"hover_glyph\":null,\"muted_glyph\":null,\"nonselection_glyph\":{\"id\":\"7870\"},\"selection_glyph\":null,\"view\":{\"id\":\"7872\"}},\"id\":\"7871\",\"type\":\"GlyphRenderer\"},{\"attributes\":{},\"id\":\"7842\",\"type\":\"LinearScale\"},{\"attributes\":{\"mantissas\":[1,2,5],\"max_interval\":500.0,\"num_minor_ticks\":0},\"id\":\"7879\",\"type\":\"AdaptiveTicker\"},{\"attributes\":{\"source\":{\"id\":\"7833\"}},\"id\":\"7872\",\"type\":\"CDSView\"},{\"attributes\":{\"line_alpha\":0.1,\"line_color\":\"navy\",\"line_width\":5,\"x\":{\"field\":\"date\"},\"y\":{\"field\":\"new_deaths\"}},\"id\":\"7895\",\"type\":\"Line\"},{\"attributes\":{},\"id\":\"7840\",\"type\":\"DataRange1d\"},{\"attributes\":{\"base\":60,\"mantissas\":[1,2,5,10,15,20,30],\"max_interval\":1800000.0,\"min_interval\":1000.0,\"num_minor_ticks\":0},\"id\":\"7880\",\"type\":\"AdaptiveTicker\"},{\"attributes\":{},\"id\":\"7916\",\"type\":\"UnionRenderers\"},{\"attributes\":{},\"id\":\"7854\",\"type\":\"PanTool\"},{\"attributes\":{\"line_alpha\":0.5,\"line_color\":\"navy\",\"line_width\":5,\"x\":{\"field\":\"date\"},\"y\":{\"field\":\"new_deaths\"}},\"id\":\"7894\",\"type\":\"Line\"},{\"attributes\":{\"base\":24,\"mantissas\":[1,2,4,6,8,12],\"max_interval\":43200000.0,\"min_interval\":3600000.0,\"num_minor_ticks\":0},\"id\":\"7881\",\"type\":\"AdaptiveTicker\"},{\"attributes\":{},\"id\":\"7855\",\"type\":\"WheelZoomTool\"},{\"attributes\":{\"text\":\"Daily death growth rate (trimmed)\"},\"id\":\"7836\",\"type\":\"Title\"},{\"attributes\":{\"data\":{\"date\":{\"__ndarray__\":\"AACA0e8Qd0IAAEA3QhF3QgAAAJ2UEXdCAADAAucRd0IAAIBoORJ3QgAAQM6LEndCAAAANN4Sd0IAAMCZMBN3QgAAgP+CE3dCAABAZdUTd0IAAADLJxR3QgAAwDB6FHdCAACAlswUd0IAAED8HhV3QgAAAGJxFXdCAADAx8MVd0IAAIAtFhZ3QgAAQJNoFndCAAAA+boWd0IAAMBeDRd3QgAAgMRfF3dCAABAKrIXd0IAAACQBBh3QgAAwPVWGHdCAACAW6kYd0IAAEDB+xh3QgAAACdOGXdCAADAjKAZd0IAAIDy8hl3QgAAQFhFGndCAAAAvpcad0IAAMAj6hp3QgAAgIk8G3dCAABA744bd0IAAABV4Rt3QgAAwLozHHdCAACAIIYcd0IAAECG2Bx3QgAAAOwqHXdCAADAUX0dd0IAAIC3zx13QgAAQB0iHndCAAAAg3Qed0IAAMDoxh53QgAAgE4ZH3dCAABAtGsfd0IAAAAavh93QgAAwH8QIHdCAACA5WIgd0IAAEBLtSB3QgAAALEHIXdCAADAFlohd0IAAIB8rCF3QgAAQOL+IXdCAAAASFEid0IAAMCtoyJ3QgAAgBP2IndCAABAeUgjd0IAAADfmiN3QgAAwETtI3dCAACAqj8kd0IAAEAQkiR3QgAAAHbkJHdCAADA2zYld0IAAIBBiSV3QgAAQKfbJXdCAAAADS4md0IAAMBygCZ3QgAAgNjSJndCAABAPiUnd0IAAACkdyd3QgAAwAnKJ3dCAACAbxwod0IAAEDVbih3QgAAADvBKHdCAADAoBMpd0IAAEBsuCl3QgAAANIKKndCAADAN10qd0IAAICdryp3QgAAQAMCK3dCAAAAaVQrd0IAAMDOpit3QgAAgDT5K3dCAABAmkssd0IAAAAAnix3QgAAwGXwLHdC\",\"dtype\":\"float64\",\"shape\":[87]},\"index\":[0,1,2,3,4,5,6,7,8,9,10,11,12,13,14,15,16,17,18,19,20,21,22,23,24,25,26,27,28,29,30,31,32,33,34,35,36,37,38,39,40,41,42,43,44,45,46,47,48,49,50,51,52,53,54,55,56,57,58,59,60,61,62,63,64,65,66,67,68,69,70,71,72,73,74,75,76,77,78,79,80,81,82,83,84,85,86],\"new_confirmed_cases\":{\"__ndarray__\":\"iUQikUgk8j/HcRzHcRwHQCd2Yid2YuM/VVVVVVVV9T9VVVVVVVXvP6Gp9qsLafE/9ddzFcvG9z+LWCpiqYjtPwrEmNHKsfE/UQsYkzh47z9ZyUpWspL1PwAAAAAAAOw/VmIlVmIl5j+yBDbtJ0v0P2aEEhjsMvI/URInIM3o5D/UxIw6BkLyP1lpwzKXv+0/sGk/WQKb5j9CnJWfEGftP27yHKDd0QBAWHzFV3zF5z/70137013rPzxk7pC5Q/Y/Fo/rAtsp8z9e5EVe5EXeP5lLhCcFyRNAzm7hV2Mi7T/Atj8H853uP7dbTd/o3Os/iWxdDCv+6z96/1jmCBfkPw1Q4EGLQ+U/g4KCgoKCAUDC4t0CrvXjP1NXiv+knQVAKTG/HDc83j/7eNBb9yf3PxnsD8DM9eQ/h+7m0N0c8j+waT9ZApvmPwpeTsHLKQhAYjxgsQpp3z9JQxJZ1j3xP3X5DQW7B+4/k07Ng9z18T8GRA2TxUzgPyxoDhULmvM/KakfZ4ql+z8m+DZ/hVn1P6B5tKhE8uU/1egupD5b7z/xHi6q/SfzP2oDnTbQaeM/t23btm3b5j8FSIAESIAEQBfUe+rGbfI/9H4aSwq26z/Vy2Ynhw7qP/sqmzbygPE/NkOUzmUz7D/46hqg9VTxPwOE6u4p9v0/m5hU6YY03z/LLA5C8SvzP9Y3kgew/Po/6O1grawR8j8r+VL0VXzjP5OipQzu5+k/Pp/P5/P58j/8Q8D7Q8DrP07A8+lxM/Y/6sJ4ApXy7T/9yvzUcwLvP9AySdjDxvE/6kVNi3GY4j8WPzGLwlrtPxWReW5Hn/k/RhdddNFF6z85Je1rWCDvP3awCI1T/eM/FkaCjRsN6z9Cl1KDeYD6P2Evnn/XOvk/AjObPzMZ4D8EkEYtHP3zP0EJbzR1fvg/\",\"dtype\":\"float64\",\"shape\":[87]},\"new_deaths\":{\"__ndarray__\":\"AAAAAAAA+D9VVVVVVVUFQAAAAAAAAOQ/MzMzMzMz8z+rqqqqqqrqP2ZmZmZmZvY/t23btm3b9j8zMzMzMzPzP6uqqqqqqvI/btu2bdu27T8AAAAAAAAAQAAAAAAAAOA/Yid2Yid28j+8u7u7u7v7P9mJndiJnfA/E9pLaC+h7T9SuB6F61HoP+U1lNdQXvM/b3rTm9709j822WSTTTbpP9mJndiJnfg/MzMzMzMz7z9VVVVVVVX1PzuxEzuxE+s/o4suuuii+z9eQ3kN5TXUPwAAAAAAAOg/OY7jOI7jBEDaqO9s1Hf2PwAAAAAAAPA/Ntlkk0026T/sxE7sxE7sP73pTW9609s/mpmZmZmZ+T8AAAAAAAD8P9u2bdu2bfE/Q7CONu9T7D++hPYS2kvwPxzWvmHtG+Y/AAAAAAAA4D+9hvIaymv4P2qE5Z5GWP4/a9+w9g1r7z+O4ziO4zjuP19fX19fX+8/zczMzMzM7D8XbMEWbMHWPwAAAAAAgANAgzRIgzRI8z99Z6O+s1HvPwtZyEIWsvA/VVVVVVVV6z8AAAAAAADwP9uVqF2J2uU/AAAAAAAA6D8AAAAAAAAQQMMwDMMwDOM/zczMzMzM7D9VVVVVVVXlP97d3d3d3fU/+hicj8H52D8AAAAAAADgPwAAAAAAAA1AR1juaYTl/j+3bdu2bdvmPzMzMzMzM/U/0CE1wXgr6z+wBVuwBVvgPwtZyEIWsvA/q6qqqqqqBEAppZRSSinlP8jgfAzOx/A/g76gL+gL6j/qoA7qoA76PzqL6Syms9g/F1100UUX3T/3EtpLaC/xPxphuacRlus/exSuR+F61D8AAAAAAAAOQLy7u7u7u8s/J3ZiJ3Zi9z+U11BeQ3n9Px3UQR3UQe0/AAAAAAAA8T9aWlpaWlryP/Mt3/It3/I/\",\"dtype\":\"float64\",\"shape\":[87]}},\"selected\":{\"id\":\"7917\"},\"selection_policy\":{\"id\":\"7916\"}},\"id\":\"7833\",\"type\":\"ColumnDataSource\"},{\"attributes\":{\"days\":[1,2,3,4,5,6,7,8,9,10,11,12,13,14,15,16,17,18,19,20,21,22,23,24,25,26,27,28,29,30,31]},\"id\":\"7882\",\"type\":\"DaysTicker\"},{\"attributes\":{\"overlay\":{\"id\":\"7860\"}},\"id\":\"7856\",\"type\":\"BoxZoomTool\"},{\"attributes\":{\"fill_alpha\":{\"value\":0.8},\"fill_color\":{\"value\":\"navy\"},\"line_alpha\":{\"value\":0.8},\"line_color\":{\"value\":\"navy\"},\"size\":{\"units\":\"screen\",\"value\":5},\"x\":{\"field\":\"date\"},\"y\":{\"field\":\"new_deaths\"}},\"id\":\"7869\",\"type\":\"Circle\"},{\"attributes\":{\"days\":[1,4,7,10,13,16,19,22,25,28]},\"id\":\"7883\",\"type\":\"DaysTicker\"},{\"attributes\":{},\"id\":\"7857\",\"type\":\"SaveTool\"},{\"attributes\":{\"days\":[1,8,15,22]},\"id\":\"7884\",\"type\":\"DaysTicker\"},{\"attributes\":{},\"id\":\"7858\",\"type\":\"ResetTool\"},{\"attributes\":{\"days\":[1,15]},\"id\":\"7885\",\"type\":\"DaysTicker\"},{\"attributes\":{},\"id\":\"7859\",\"type\":\"HelpTool\"},{\"attributes\":{\"data\":{\"date\":{\"__ndarray__\":\"AADAa50Qd0IAAIDR7xB3QgAAQDdCEXdCAAAAnZQRd0IAAMAC5xF3QgAAgGg5EndCAABAzosSd0IAAAA03hJ3QgAAwJkwE3dCAACA/4ITd0IAAEBl1RN3QgAAAMsnFHdCAADAMHoUd0IAAICWzBR3QgAAQPweFXdCAAAAYnEVd0IAAMDHwxV3QgAAgC0WFndCAABAk2gWd0IAAAD5uhZ3QgAAwF4NF3dCAACAxF8Xd0IAAEAqshd3QgAAAJAEGHdCAADA9VYYd0IAAIBbqRh3QgAAQMH7GHdCAAAAJ04Zd0IAAMCMoBl3QgAAgPLyGXdCAABAWEUad0IAAAC+lxp3QgAAwCPqGndCAACAiTwbd0IAAEDvjht3QgAAAFXhG3dCAADAujMcd0IAAIAghhx3QgAAQIbYHHdCAAAA7Codd0IAAMBRfR13QgAAgLfPHXdCAABAHSIed0IAAACDdB53QgAAwOjGHndCAACAThkfd0IAAEC0ax93QgAAABq+H3dCAADAfxAgd0IAAIDlYiB3QgAAQEu1IHdCAAAAsQchd0IAAMAWWiF3QgAAgHysIXdCAABA4v4hd0IAAABIUSJ3QgAAwK2jIndCAACAE/Yid0IAAEB5SCN3QgAAAN+aI3dCAADARO0jd0IAAICqPyR3QgAAQBCSJHdCAAAAduQkd0IAAMDbNiV3QgAAgEGJJXdCAABAp9sld0IAAAANLiZ3QgAAwHKAJndCAACA2NImd0IAAEA+JSd3QgAAAKR3J3dCAADACcond0IAAIBvHCh3QgAAQNVuKHdCAAAAO8Eod0IAAMCgEyl3QgAAgAZmKXdCAABAbLgpd0IAAADSCip3QgAAwDddKndCAACAna8qd0IAAEADAit3QgAAAGlUK3dCAADAzqYrd0IAAIA0+St3QgAAQJpLLHdCAAAAAJ4sd0IAAMBl8Cx3Qg==\",\"dtype\":\"float64\",\"shape\":[89]},\"index\":[0,1,2,3,4,5,6,7,8,9,10,11,12,13,14,15,16,17,18,19,20,21,22,23,24,25,26,27,28,29,30,31,32,33,34,35,36,37,38,39,40,41,42,43,44,45,46,47,48,49,50,51,52,53,54,55,56,57,58,59,60,61,62,63,64,65,66,67,68,69,70,71,72,73,74,75,76,77,78,79,80,81,82,83,84,85,86,87,88],\"new_confirmed_cases\":{\"__ndarray__\":\"AAAAAAAA+H+JRCKRSCTyPwbK1gdLFwBAucuuu3ev+D8gbhgi79j3PwlHz6MUNvY/eNfVzz1p9T9mjjW1v7/1P6b4xblTRPU/boaKDAcx8T+nNYWmAg7yP1+POsvGFvI/j5v9+9LZ8T8ReLgyD/LwPy3sQb+ucvA/w/gcFzLw8D9HBV3S2c7vP6oLCueyQ/A/In/RBW2d7j/OsiM3JNjtP+9xoUGG4e4/a7SsLNhY8T/1ToEv9nHwPzg4BfYI6PA/R+GAS5B68T9Wt93sbRfyP1/TJHzajvE/sgV40IDD+j/qbCRy/wn4P/InrX4sh/g/EY3QRUCQ+D+mT/6x32H3P3VNdZ1lFPY/KdSCjHCE9j9Azu4I3DbwP+tjb3MwHu8/kqtaS0iM8z9ZiwChOaPyP5iCzlE18vM/WkrJvB4C9D9t1H56tBP1P682J4BYsPE/yZzkJL0q9z+181ur4BzyP9lNfFL9fvM/9fK6xUJV8j8I20Sm02bzP4erW+54+vE/k6C0WPop8z+7VMdUrzXwP5iawilLI/I/GXXx3ww+8T/FqioiTVbxP9Ja77kIgvE/Dw1VM/e68T+WqmK9D5DwPwCnOUJ+ePI/tVj6LKwN8j9f65O4FXfyP3Eyqi8tFvI/BesC1r3Z8T9vJrkXbXryPwV39nxRUvM/35mFC4y+8T+97jYp4jnwP6QQtwhN/PA/feXWPcr68j95Sjwqdw/zP3hXpZoacPI/g8GIO/bP8T9nxTuoNz7wP/MNK0RcHPE/vZC5gCWL8T9dLX+2m6fvP/YqrDUN7O4/Op3aTNOb8D+clubVJRbwP3GjV54vw/A/89kozYHg8D/rQM5NoF3xP839Oei2LPE/0ShLhdku8T+8UsGCQxLwP5uJoPDhrPA/Wemv0A8T8T+dax4i/JTyP6wjmARREvA/TCTAgqH68D/2omM5PkHyPw==\",\"dtype\":\"float64\",\"shape\":[89]},\"new_deaths\":{\"__ndarray__\":\"AAAAAAAA+H8AAAAAAAD4P6qqqqqqqgBA4ziO4ziO+T93d3d3d/f3P9ajcD0K1/U/7+7u7u7u9T+eJezmtxD2P6WaPO4sYfU/yuPOEnbz8T9281sIGKXyP7cQMEo1efQ/hgRtGSm28z+F+9wYICbzPxfis2J02PM/L1xVeu558z9h0x1XEO3yP3H1EutsivI/ktiVd3i88D8P6mqyc9/yP/PzTgpPCfI/0uzc6UeX8T+AyreXJXLxP2fZUNOJYPI/wQ9QYPOS8j9Kroo3UsHzPxAWw+GMMvE/Z73yxGIc8T+iZGb/CZDzPxn5BPk2i/Q/6exByCrI8z8OAtpgEabzP5nXjzL+uPE/QUsO9p7+8T9Xqv8L/u/zP9nKB44e+PE/2swZMNE/8T9x2dpqq/zwP5pKUnWgg/E/+ZRs60cS8T8OqOBCcTjxP1ylf55TDfE/Im+gkBRj8T/TGwtMMiTxPzWNKQnWRvE/V5No1oYw8T+ISVfw36rxPz/EAqhaVvE/ktVN7YZr8z/fN+4N8tbxPwYdpHci1fE/xqu8ZBUP8j+hz3I/OcXxP0lTree8//E/2AfX/0u/8j9CNPeRvMftP1cAX39ER/U/tw6Ltt9m9D9Wflgp6xL0P3rH6k00pfM/41TBtsF79D+mb5/QftDzP4EmDaw1PvM/yrgx9cdi8j9ZnUCtaXD1P9eoQVC+A/U/6uDCY/aE9j/HjEstFlb1PybDnqvPnPU/J2K72dLa9j8P3FnBTHn0P/VI+W5RkvE/qbyNmgtW8j+rMKSWAivxP/UykDwj8/I/YS7bw+ip8j/7JF6mTFHxP/5Lzqhzwfc/eWcHQP2y+D9xFxWBvEX4P0j4GPezJPc/S+EWsQr++z8amx9l+pr7P6iosn426P0/iSbUD1bG9T/6sjlQ1mj1P8GZ9TEe3vU/7iVzxRDC9z/sB5PD8uHxPw==\",\"dtype\":\"float64\",\"shape\":[89]}},\"selected\":{\"id\":\"8303\"},\"selection_policy\":{\"id\":\"8302\"}},\"id\":\"7834\",\"type\":\"ColumnDataSource\"},{\"attributes\":{},\"id\":\"7838\",\"type\":\"DataRange1d\"},{\"attributes\":{\"months\":[0,1,2,3,4,5,6,7,8,9,10,11]},\"id\":\"7886\",\"type\":\"MonthsTicker\"},{\"attributes\":{\"active_drag\":\"auto\",\"active_inspect\":\"auto\",\"active_multi\":null,\"active_scroll\":\"auto\",\"active_tap\":\"auto\",\"tools\":[{\"id\":\"7854\"},{\"id\":\"7855\"},{\"id\":\"7856\"},{\"id\":\"7857\"},{\"id\":\"7858\"},{\"id\":\"7859\"}]},\"id\":\"7861\",\"type\":\"Toolbar\"},{\"attributes\":{\"source\":{\"id\":\"7834\"}},\"id\":\"7897\",\"type\":\"CDSView\"},{\"attributes\":{\"months\":[0,2,4,6,8,10]},\"id\":\"7887\",\"type\":\"MonthsTicker\"},{\"attributes\":{\"months\":[0,4,8]},\"id\":\"7888\",\"type\":\"MonthsTicker\"},{\"attributes\":{\"label\":{\"value\":\"7-day rolling avg\"},\"renderers\":[{\"id\":\"7896\"}]},\"id\":\"7918\",\"type\":\"LegendItem\"},{\"attributes\":{},\"id\":\"7844\",\"type\":\"LinearScale\"},{\"attributes\":{\"months\":[0,6]},\"id\":\"7889\",\"type\":\"MonthsTicker\"},{\"attributes\":{\"formatter\":{\"id\":\"7875\"},\"ticker\":{\"id\":\"7847\"}},\"id\":\"7846\",\"type\":\"DatetimeAxis\"},{\"attributes\":{},\"id\":\"7890\",\"type\":\"YearsTicker\"},{\"attributes\":{\"num_minor_ticks\":5,\"tickers\":[{\"id\":\"7879\"},{\"id\":\"7880\"},{\"id\":\"7881\"},{\"id\":\"7882\"},{\"id\":\"7883\"},{\"id\":\"7884\"},{\"id\":\"7885\"},{\"id\":\"7886\"},{\"id\":\"7887\"},{\"id\":\"7888\"},{\"id\":\"7889\"},{\"id\":\"7890\"}]},\"id\":\"7847\",\"type\":\"DatetimeTicker\"},{\"attributes\":{},\"id\":\"7917\",\"type\":\"Selection\"},{\"attributes\":{\"items\":[{\"id\":\"7892\"},{\"id\":\"7918\"}],\"location\":\"bottom_right\"},\"id\":\"7891\",\"type\":\"Legend\"},{\"attributes\":{\"axis\":{\"id\":\"7846\"},\"ticker\":null},\"id\":\"7849\",\"type\":\"Grid\"},{\"attributes\":{\"line_color\":\"red\",\"line_dash\":[6],\"line_width\":3,\"location\":1},\"id\":\"7919\",\"type\":\"Span\"},{\"attributes\":{},\"id\":\"8302\",\"type\":\"UnionRenderers\"},{\"attributes\":{\"bottom_units\":\"screen\",\"fill_alpha\":0.5,\"fill_color\":\"lightgrey\",\"left_units\":\"screen\",\"level\":\"overlay\",\"line_alpha\":1.0,\"line_color\":\"black\",\"line_dash\":[4,4],\"line_width\":2,\"render_mode\":\"css\",\"right_units\":\"screen\",\"top_units\":\"screen\"},\"id\":\"7860\",\"type\":\"BoxAnnotation\"},{\"attributes\":{\"formatter\":{\"id\":\"7877\"},\"ticker\":{\"id\":\"7851\"}},\"id\":\"7850\",\"type\":\"LinearAxis\"}],\"root_ids\":[\"7835\"]},\"title\":\"Bokeh Application\",\"version\":\"2.0.2\"}};\n",
       "  var render_items = [{\"docid\":\"4407f212-3f1c-4a8e-aede-1a90ff05d84f\",\"root_ids\":[\"7835\"],\"roots\":{\"7835\":\"9d489f65-1b30-4f47-9abf-1c094e689f25\"}}];\n",
       "  root.Bokeh.embed.embed_items_notebook(docs_json, render_items);\n",
       "\n",
       "  }\n",
       "  if (root.Bokeh !== undefined) {\n",
       "    embed_document(root);\n",
       "  } else {\n",
       "    var attempts = 0;\n",
       "    var timer = setInterval(function(root) {\n",
       "      if (root.Bokeh !== undefined) {\n",
       "        clearInterval(timer);\n",
       "        embed_document(root);\n",
       "      } else {\n",
       "        attempts++;\n",
       "        if (attempts > 100) {\n",
       "          clearInterval(timer);\n",
       "          console.log(\"Bokeh: ERROR: Unable to run BokehJS code because BokehJS library is missing\");\n",
       "        }\n",
       "      }\n",
       "    }, 10, root)\n",
       "  }\n",
       "})(window);"
      ],
      "application/vnd.bokehjs_exec.v0+json": ""
     },
     "metadata": {
      "application/vnd.bokehjs_exec.v0+json": {
       "id": "7835"
      }
     },
     "output_type": "display_data"
    }
   ],
   "source": [
    "# need to trim so plot is readable\n",
    "top_limit=5; bottom_limit=-5\n",
    "trm = lac_growth_rate[lac_growth_rate.new_deaths >= bottom_limit] # and noho_growth_rate.confirmed_cases <= top_limit]\n",
    "trm = trm[trm.new_deaths <= top_limit]\n",
    "source = ColumnDataSource(trm.reset_index())\n",
    "# not using the trimmed source to compute trend\n",
    "source2 = ColumnDataSource(lac_growth_rate.rolling(window='7D').mean().reset_index())\n",
    "\n",
    "p = figure(plot_width=1000, plot_height=400, x_axis_type='datetime', \n",
    "           title=f\"Daily death growth rate (trimmed)\", \n",
    "           title_location='above')\n",
    "\n",
    "p.circle(x='date', \n",
    "         y='new_deaths', \n",
    "         size=5, \n",
    "         color=\"navy\", \n",
    "         source=source, \n",
    "         alpha=0.8, \n",
    "         legend_label='daily death growth rate')\n",
    "\n",
    "p.line(\n",
    "    x='date',\n",
    "    y='new_deaths',\n",
    "    line_width=5,\n",
    "    color=\"navy\",\n",
    "    source=source2,\n",
    "    alpha=0.5,\n",
    "    legend_label=f'7-day rolling avg')\n",
    "\n",
    "ln = Span(location=1, dimension='width', line_color='red', line_dash='dashed', line_width=3)\n",
    "p.add_layout(ln)\n",
    "p.legend.location = 'bottom_right'\n",
    "show(p)"
   ]
  },
  {
   "cell_type": "markdown",
   "metadata": {},
   "source": [
    "## Local growth rates\n",
    "\n",
    "The following represent the growth rates of cases in various areas. To get a sense of whether an area is growing faster or slower than other areas I have overlaid the LA County and North Hollywood growth rates. \n",
    "\n",
    "NB, these plots shouldn't be taken terribly seriously. The number of cases in each area is relatively small. Thus it's easy to get outsized effects (e.g., if 1 case was diagnosed yesterday and 5 were diagnosed today, the growth rate would be 5). Still, taken as a whole they may be somewhat useful."
   ]
  },
  {
   "cell_type": "code",
   "execution_count": 15,
   "metadata": {
    "ExecuteTime": {
     "end_time": "2020-06-21T21:13:01.851557Z",
     "start_time": "2020-06-21T21:13:01.837667Z"
    }
   },
   "outputs": [],
   "source": [
    "def plot_locale_growth(growth_frame, place, noho_growth_rate=None, lac_growth_rate=None, top_limit=5, bottom_limit=0):\n",
    "    \"\"\"\n",
    "    Plots the growth rates for localities as a dot plot \n",
    "    with a 7-day moving average line and a representation of north hollywood's trend \n",
    "    \n",
    "    \"\"\"\n",
    "    # trim the values so the plot will be readable\n",
    "    trm = growth_frame[growth_frame.confirmed_cases >= bottom_limit] # and noho_growth_rate.confirmed_cases <= top_limit]\n",
    "    trm = trm[trm.confirmed_cases <= top_limit]\n",
    "    source = ColumnDataSource(trm.reset_index())\n",
    "    # compute trend on the real data\n",
    "    source2 = ColumnDataSource(growth_frame.rolling(window='7D').mean().reset_index())\n",
    "\n",
    "    p = figure(plot_width=1000, plot_height=400, x_axis_type='datetime', \n",
    "               title=f\"{place} case growth rate (trimmed)\", \n",
    "               title_location='above')\n",
    "    \n",
    "    p.circle(x='date', \n",
    "             y='confirmed_cases', \n",
    "             size=5, \n",
    "             color=\"navy\", \n",
    "             source=source, \n",
    "             alpha=0.8, \n",
    "             legend_label='daily case growth rate')\n",
    "\n",
    "    p.line(\n",
    "        x='date',\n",
    "        y='confirmed_cases',\n",
    "        line_width=5,\n",
    "        color=\"navy\",\n",
    "        source=source2,\n",
    "        alpha=0.5,\n",
    "        legend_label=f'7-day rolling avg ({place})')\n",
    "    \n",
    "    if noho_growth_rate is not None and place != 'North Hollywood':\n",
    "        source3 = ColumnDataSource(noho_growth_rate.rolling(window='7D').mean().reset_index())\n",
    "        p.line(\n",
    "            x='date',\n",
    "            y='confirmed_cases',\n",
    "            line_width=5,\n",
    "            color=\"red\",\n",
    "            source=source3,\n",
    "            alpha=0.2,\n",
    "            legend_label=f'7-day rolling avg (NoHo)')\n",
    "   \n",
    "    if lac_growth_rate is not None:\n",
    "        source4 = ColumnDataSource(lac_growth_rate.rolling(window='7D').mean().reset_index())\n",
    "        p.line(\n",
    "            x='date',\n",
    "            y='new_confirmed_cases',\n",
    "            line_width=5,\n",
    "            color=\"grey\",\n",
    "            source=source4,\n",
    "            alpha=0.2,\n",
    "            legend_label=f'7-day rolling avg (LA County)')\n",
    "\n",
    "    ln = Span(location=1, dimension='width', line_color='red', line_dash='dashed', line_width=3)\n",
    "    p.add_layout(ln)\n",
    "    p.legend.location = 'bottom_left'\n",
    "#     show the results\n",
    "    show(p)"
   ]
  },
  {
   "cell_type": "code",
   "execution_count": 16,
   "metadata": {
    "ExecuteTime": {
     "end_time": "2020-06-21T21:13:03.807472Z",
     "start_time": "2020-06-21T21:13:01.854827Z"
    },
    "scrolled": false
   },
   "outputs": [
    {
     "data": {
      "text/html": [
       "\n",
       "\n",
       "\n",
       "\n",
       "\n",
       "\n",
       "  <div class=\"bk-root\" id=\"10238bc1-d684-4764-af1e-3f68e4b92d85\" data-root-id=\"8438\"></div>\n"
      ]
     },
     "metadata": {},
     "output_type": "display_data"
    },
    {
     "data": {
      "application/javascript": [
       "(function(root) {\n",
       "  function embed_document(root) {\n",
       "    \n",
       "  var docs_json = {\"062c35f5-7ba9-435e-8222-320c4e1d4fa7\":{\"roots\":{\"references\":[{\"attributes\":{\"below\":[{\"id\":\"8449\"}],\"center\":[{\"id\":\"8452\"},{\"id\":\"8456\"},{\"id\":\"8494\"},{\"id\":\"8551\"}],\"left\":[{\"id\":\"8453\"}],\"plot_height\":400,\"plot_width\":1000,\"renderers\":[{\"id\":\"8474\"},{\"id\":\"8499\"},{\"id\":\"8526\"}],\"title\":{\"id\":\"8439\"},\"toolbar\":{\"id\":\"8464\"},\"x_range\":{\"id\":\"8441\"},\"x_scale\":{\"id\":\"8445\"},\"y_range\":{\"id\":\"8443\"},\"y_scale\":{\"id\":\"8447\"}},\"id\":\"8438\",\"subtype\":\"Figure\",\"type\":\"Plot\"},{\"attributes\":{},\"id\":\"8478\",\"type\":\"DatetimeTickFormatter\"},{\"attributes\":{\"months\":[0,4,8]},\"id\":\"8491\",\"type\":\"MonthsTicker\"},{\"attributes\":{\"line_color\":\"red\",\"line_dash\":[6],\"line_width\":3,\"location\":1},\"id\":\"8551\",\"type\":\"Span\"},{\"attributes\":{\"source\":{\"id\":\"8436\"}},\"id\":\"8475\",\"type\":\"CDSView\"},{\"attributes\":{\"months\":[0,2,4,6,8,10]},\"id\":\"8490\",\"type\":\"MonthsTicker\"},{\"attributes\":{\"data_source\":{\"id\":\"8522\"},\"glyph\":{\"id\":\"8524\"},\"hover_glyph\":null,\"muted_glyph\":null,\"nonselection_glyph\":{\"id\":\"8525\"},\"selection_glyph\":null,\"view\":{\"id\":\"8527\"}},\"id\":\"8526\",\"type\":\"GlyphRenderer\"},{\"attributes\":{\"source\":{\"id\":\"8437\"}},\"id\":\"8500\",\"type\":\"CDSView\"},{\"attributes\":{},\"id\":\"8462\",\"type\":\"HelpTool\"},{\"attributes\":{\"fill_alpha\":{\"value\":0.1},\"fill_color\":{\"value\":\"navy\"},\"line_alpha\":{\"value\":0.1},\"line_color\":{\"value\":\"navy\"},\"size\":{\"units\":\"screen\",\"value\":5},\"x\":{\"field\":\"date\"},\"y\":{\"field\":\"confirmed_cases\"}},\"id\":\"8473\",\"type\":\"Circle\"},{\"attributes\":{\"text\":\"North Hollywood case growth rate (trimmed)\"},\"id\":\"8439\",\"type\":\"Title\"},{\"attributes\":{\"line_alpha\":0.1,\"line_color\":\"navy\",\"line_width\":5,\"x\":{\"field\":\"date\"},\"y\":{\"field\":\"confirmed_cases\"}},\"id\":\"8498\",\"type\":\"Line\"},{\"attributes\":{\"days\":[1,4,7,10,13,16,19,22,25,28]},\"id\":\"8486\",\"type\":\"DaysTicker\"},{\"attributes\":{\"months\":[0,1,2,3,4,5,6,7,8,9,10,11]},\"id\":\"8489\",\"type\":\"MonthsTicker\"},{\"attributes\":{},\"id\":\"8548\",\"type\":\"UnionRenderers\"},{\"attributes\":{},\"id\":\"8480\",\"type\":\"BasicTickFormatter\"},{\"attributes\":{\"num_minor_ticks\":5,\"tickers\":[{\"id\":\"8482\"},{\"id\":\"8483\"},{\"id\":\"8484\"},{\"id\":\"8485\"},{\"id\":\"8486\"},{\"id\":\"8487\"},{\"id\":\"8488\"},{\"id\":\"8489\"},{\"id\":\"8490\"},{\"id\":\"8491\"},{\"id\":\"8492\"},{\"id\":\"8493\"}]},\"id\":\"8450\",\"type\":\"DatetimeTicker\"},{\"attributes\":{},\"id\":\"8549\",\"type\":\"Selection\"},{\"attributes\":{},\"id\":\"8443\",\"type\":\"DataRange1d\"},{\"attributes\":{\"data\":{\"date\":{\"__ndarray__\":\"AADAa50Qd0IAAIDR7xB3QgAAQDdCEXdCAAAAnZQRd0IAAMAC5xF3QgAAgGg5EndCAABAzosSd0IAAAA03hJ3QgAAwJkwE3dCAACA/4ITd0IAAEBl1RN3QgAAAMsnFHdCAADAMHoUd0IAAICWzBR3QgAAQPweFXdCAAAAYnEVd0IAAMDHwxV3QgAAgC0WFndCAABAk2gWd0IAAAD5uhZ3QgAAwF4NF3dCAACAxF8Xd0IAAEAqshd3QgAAAJAEGHdCAADA9VYYd0IAAIBbqRh3QgAAQMH7GHdCAAAAJ04Zd0IAAMCMoBl3QgAAgPLyGXdCAABAWEUad0IAAAC+lxp3QgAAwCPqGndCAACAiTwbd0IAAEDvjht3QgAAAFXhG3dCAADAujMcd0IAAIAghhx3QgAAQIbYHHdCAAAA7Codd0IAAMBRfR13QgAAgLfPHXdCAABAHSIed0IAAACDdB53QgAAwOjGHndCAACAThkfd0IAAEC0ax93QgAAABq+H3dCAADAfxAgd0IAAIDlYiB3QgAAQEu1IHdCAAAAsQchd0IAAMAWWiF3QgAAgHysIXdCAABA4v4hd0IAAABIUSJ3QgAAwK2jIndCAACAE/Yid0IAAEB5SCN3QgAAAN+aI3dCAADARO0jd0IAAICqPyR3QgAAQBCSJHdCAAAAduQkd0IAAMDbNiV3QgAAgEGJJXdCAABAp9sld0IAAAANLiZ3QgAAwHKAJndCAACA2NImd0IAAEA+JSd3QgAAAKR3J3dCAADACcond0IAAIBvHCh3QgAAQNVuKHdCAAAAO8Eod0IAAMCgEyl3QgAAgAZmKXdCAABAbLgpd0IAAADSCip3QgAAwDddKndCAACAna8qd0IAAEADAit3QgAAAGlUK3dCAADAzqYrd0IAAIA0+St3QgAAQJpLLHdCAAAAAJ4sd0IAAMBl8Cx3Qg==\",\"dtype\":\"float64\",\"shape\":[89]},\"index\":[0,1,2,3,4,5,6,7,8,9,10,11,12,13,14,15,16,17,18,19,20,21,22,23,24,25,26,27,28,29,30,31,32,33,34,35,36,37,38,39,40,41,42,43,44,45,46,47,48,49,50,51,52,53,54,55,56,57,58,59,60,61,62,63,64,65,66,67,68,69,70,71,72,73,74,75,76,77,78,79,80,81,82,83,84,85,86,87,88],\"new_confirmed_cases\":{\"__ndarray__\":\"AAAAAAAA+H+JRCKRSCTyPwbK1gdLFwBAucuuu3ev+D8gbhgi79j3PwlHz6MUNvY/eNfVzz1p9T9mjjW1v7/1P6b4xblTRPU/boaKDAcx8T+nNYWmAg7yP1+POsvGFvI/j5v9+9LZ8T8ReLgyD/LwPy3sQb+ucvA/w/gcFzLw8D9HBV3S2c7vP6oLCueyQ/A/In/RBW2d7j/OsiM3JNjtP+9xoUGG4e4/a7SsLNhY8T/1ToEv9nHwPzg4BfYI6PA/R+GAS5B68T9Wt93sbRfyP1/TJHzajvE/sgV40IDD+j/qbCRy/wn4P/InrX4sh/g/EY3QRUCQ+D+mT/6x32H3P3VNdZ1lFPY/KdSCjHCE9j9Azu4I3DbwP+tjb3MwHu8/kqtaS0iM8z9ZiwChOaPyP5iCzlE18vM/WkrJvB4C9D9t1H56tBP1P682J4BYsPE/yZzkJL0q9z+181ur4BzyP9lNfFL9fvM/9fK6xUJV8j8I20Sm02bzP4erW+54+vE/k6C0WPop8z+7VMdUrzXwP5iawilLI/I/GXXx3ww+8T/FqioiTVbxP9Ja77kIgvE/Dw1VM/e68T+WqmK9D5DwPwCnOUJ+ePI/tVj6LKwN8j9f65O4FXfyP3Eyqi8tFvI/BesC1r3Z8T9vJrkXbXryPwV39nxRUvM/35mFC4y+8T+97jYp4jnwP6QQtwhN/PA/feXWPcr68j95Sjwqdw/zP3hXpZoacPI/g8GIO/bP8T9nxTuoNz7wP/MNK0RcHPE/vZC5gCWL8T9dLX+2m6fvP/YqrDUN7O4/Op3aTNOb8D+clubVJRbwP3GjV54vw/A/89kozYHg8D/rQM5NoF3xP839Oei2LPE/0ShLhdku8T+8UsGCQxLwP5uJoPDhrPA/Wemv0A8T8T+dax4i/JTyP6wjmARREvA/TCTAgqH68D/2omM5PkHyPw==\",\"dtype\":\"float64\",\"shape\":[89]},\"new_deaths\":{\"__ndarray__\":\"AAAAAAAA+H8AAAAAAAD4P6qqqqqqqgBA4ziO4ziO+T93d3d3d/f3P9ajcD0K1/U/7+7u7u7u9T+eJezmtxD2P6WaPO4sYfU/yuPOEnbz8T9281sIGKXyP7cQMEo1efQ/hgRtGSm28z+F+9wYICbzPxfis2J02PM/L1xVeu558z9h0x1XEO3yP3H1EutsivI/ktiVd3i88D8P6mqyc9/yP/PzTgpPCfI/0uzc6UeX8T+AyreXJXLxP2fZUNOJYPI/wQ9QYPOS8j9Kroo3UsHzPxAWw+GMMvE/Z73yxGIc8T+iZGb/CZDzPxn5BPk2i/Q/6exByCrI8z8OAtpgEabzP5nXjzL+uPE/QUsO9p7+8T9Xqv8L/u/zP9nKB44e+PE/2swZMNE/8T9x2dpqq/zwP5pKUnWgg/E/+ZRs60cS8T8OqOBCcTjxP1ylf55TDfE/Im+gkBRj8T/TGwtMMiTxPzWNKQnWRvE/V5No1oYw8T+ISVfw36rxPz/EAqhaVvE/ktVN7YZr8z/fN+4N8tbxPwYdpHci1fE/xqu8ZBUP8j+hz3I/OcXxP0lTree8//E/2AfX/0u/8j9CNPeRvMftP1cAX39ER/U/tw6Ltt9m9D9Wflgp6xL0P3rH6k00pfM/41TBtsF79D+mb5/QftDzP4EmDaw1PvM/yrgx9cdi8j9ZnUCtaXD1P9eoQVC+A/U/6uDCY/aE9j/HjEstFlb1PybDnqvPnPU/J2K72dLa9j8P3FnBTHn0P/VI+W5RkvE/qbyNmgtW8j+rMKSWAivxP/UykDwj8/I/YS7bw+ip8j/7JF6mTFHxP/5Lzqhzwfc/eWcHQP2y+D9xFxWBvEX4P0j4GPezJPc/S+EWsQr++z8amx9l+pr7P6iosn426P0/iSbUD1bG9T/6sjlQ1mj1P8GZ9TEe3vU/7iVzxRDC9z/sB5PD8uHxPw==\",\"dtype\":\"float64\",\"shape\":[89]}},\"selected\":{\"id\":\"8959\"},\"selection_policy\":{\"id\":\"8958\"}},\"id\":\"8522\",\"type\":\"ColumnDataSource\"},{\"attributes\":{\"data_source\":{\"id\":\"8437\"},\"glyph\":{\"id\":\"8497\"},\"hover_glyph\":null,\"muted_glyph\":null,\"nonselection_glyph\":{\"id\":\"8498\"},\"selection_glyph\":null,\"view\":{\"id\":\"8500\"}},\"id\":\"8499\",\"type\":\"GlyphRenderer\"},{\"attributes\":{\"line_alpha\":0.2,\"line_color\":\"grey\",\"line_width\":5,\"x\":{\"field\":\"date\"},\"y\":{\"field\":\"new_confirmed_cases\"}},\"id\":\"8524\",\"type\":\"Line\"},{\"attributes\":{},\"id\":\"8958\",\"type\":\"UnionRenderers\"},{\"attributes\":{\"source\":{\"id\":\"8522\"}},\"id\":\"8527\",\"type\":\"CDSView\"},{\"attributes\":{},\"id\":\"8519\",\"type\":\"UnionRenderers\"},{\"attributes\":{},\"id\":\"8460\",\"type\":\"SaveTool\"},{\"attributes\":{},\"id\":\"8959\",\"type\":\"Selection\"},{\"attributes\":{\"label\":{\"value\":\"7-day rolling avg (LA County)\"},\"renderers\":[{\"id\":\"8526\"}]},\"id\":\"8550\",\"type\":\"LegendItem\"},{\"attributes\":{\"bottom_units\":\"screen\",\"fill_alpha\":0.5,\"fill_color\":\"lightgrey\",\"left_units\":\"screen\",\"level\":\"overlay\",\"line_alpha\":1.0,\"line_color\":\"black\",\"line_dash\":[4,4],\"line_width\":2,\"render_mode\":\"css\",\"right_units\":\"screen\",\"top_units\":\"screen\"},\"id\":\"8463\",\"type\":\"BoxAnnotation\"},{\"attributes\":{\"base\":60,\"mantissas\":[1,2,5,10,15,20,30],\"max_interval\":1800000.0,\"min_interval\":1000.0,\"num_minor_ticks\":0},\"id\":\"8483\",\"type\":\"AdaptiveTicker\"},{\"attributes\":{\"days\":[1,8,15,22]},\"id\":\"8487\",\"type\":\"DaysTicker\"},{\"attributes\":{},\"id\":\"8461\",\"type\":\"ResetTool\"},{\"attributes\":{},\"id\":\"8441\",\"type\":\"DataRange1d\"},{\"attributes\":{\"fill_alpha\":{\"value\":0.8},\"fill_color\":{\"value\":\"navy\"},\"line_alpha\":{\"value\":0.8},\"line_color\":{\"value\":\"navy\"},\"size\":{\"units\":\"screen\",\"value\":5},\"x\":{\"field\":\"date\"},\"y\":{\"field\":\"confirmed_cases\"}},\"id\":\"8472\",\"type\":\"Circle\"},{\"attributes\":{\"formatter\":{\"id\":\"8480\"},\"ticker\":{\"id\":\"8454\"}},\"id\":\"8453\",\"type\":\"LinearAxis\"},{\"attributes\":{\"data_source\":{\"id\":\"8436\"},\"glyph\":{\"id\":\"8472\"},\"hover_glyph\":null,\"muted_glyph\":null,\"nonselection_glyph\":{\"id\":\"8473\"},\"selection_glyph\":null,\"view\":{\"id\":\"8475\"}},\"id\":\"8474\",\"type\":\"GlyphRenderer\"},{\"attributes\":{\"data\":{\"confirmed_cases\":{\"__ndarray__\":\"AAAAAAAA8D8AAAAAAAD4PwAAAAAAAPA/AAAAAAAA6j8zMzMzMzPrPzMzMzMzM/c/MzMzMzMz8z+7u7u7u7v7PxzHcRzHcfg/z/M8z/M89z9hGIZhGIb5P7Ef+7Ef+/k/jdZojdZo9T+ZmZmZmZn1P5D92I/92PM/53QzbWdO8z+fzD0oIP3xP3LMroNzLec/+twSp37P1z/x7u7u7u7YPy35xZJfLO0/tmALtmAL8T++f4emIhPxPwcSrO+0N/I/jZUZeLNs8z9wwdda3yr2P1+9lkrb6fU/sF5Lpe30AkDLCx3AmsYBQMeQVevZ5wJAzb/8y7/8AkB1PddzPdcCQEEKpEAKpAFAKpESKZESAkBTIiVSIiX0P30K/SW1p/I/Dy9GuNnw+j/GnCFvR8z5P+QDd/7K6Pg/2U0W8xSI+T9z56+MriHzPzubszmbswBA7LwrMNSI9D+jKgfnQWT3P9srexbSgfQ/8AZRvdGg/T+HdkpUQZr8Pxmbk+Zl4/4/0AhvndO+9T+bWPdQxtL3P7ZDO7RDO/c/ZjzGYzzG9j+EkKGyw9TsP/sHGSo7TOw/bCTgm1cT5j9LZYepy+3dP6XiaQkS4tw/+KZ0DBA87z+Bzy1x6vfwP5CClHC4KOw/7ZBE3asO+z8Pnhb+uOD7P3qHXP55d/o/78Iu7MIu/j+JpqSGpqT4P+ZwSuNwSvk/+7Kh681r+T/jORDUVNrxP/WkG+W/5fI/gW/EcYqO8T8px/X0mC3wP4/wlieUBu4/KH0Z9E5R8z8HC0ngwbbzP6I9RNlog/I/U+70iRk08z8QtnBG4a/1P82o5Scdt/M/yAQxDByO9j9v5RYh2CrxP45NEUBAJfA/uYwyDgt1+D8zKxqIqVz6P6Vs4I3Cc/g/7w3112OI+j/5/4n4spH4Pw==\",\"dtype\":\"float64\",\"shape\":[86]},\"date\":{\"__ndarray__\":\"AAAAbwEPd0IAAMDUUw93QgAAgDqmD3dCAADAa50Qd0IAAIDR7xB3QgAAQDdCEXdCAAAAnZQRd0IAAMAC5xF3QgAAgGg5EndCAABAzosSd0IAAAA03hJ3QgAAwJkwE3dCAACA/4ITd0IAAEBl1RN3QgAAAMsnFHdCAADAMHoUd0IAAABicRV3QgAAwMfDFXdCAABAk2gWd0IAAAD5uhZ3QgAAwF4NF3dCAACAxF8Xd0IAAEAqshd3QgAAAJAEGHdCAADA9VYYd0IAAIBbqRh3QgAAQMH7GHdCAAAAJ04Zd0IAAMCMoBl3QgAAgPLyGXdCAABAWEUad0IAAAC+lxp3QgAAwCPqGndCAACAiTwbd0IAAEDvjht3QgAAAFXhG3dCAADAujMcd0IAAIAghhx3QgAAAOwqHXdCAADAUX0dd0IAAIC3zx13QgAAQB0iHndCAAAAg3Qed0IAAMDoxh53QgAAgE4ZH3dCAABAtGsfd0IAAAAavh93QgAAwH8QIHdCAACA5WIgd0IAAEBLtSB3QgAAALEHIXdCAADAFlohd0IAAEDi/iF3QgAAAEhRIndCAADAraMid0IAAIAT9iJ3QgAAAN+aI3dCAADARO0jd0IAAICqPyR3QgAAQBCSJHdCAAAAduQkd0IAAMDbNiV3QgAAgEGJJXdCAABAp9sld0IAAAANLiZ3QgAAwHKAJndCAACA2NImd0IAAEA+JSd3QgAAAKR3J3dCAADACcond0IAAIBvHCh3QgAAQNVuKHdCAAAAO8Eod0IAAMCgEyl3QgAAgAZmKXdCAABAbLgpd0IAAADSCip3QgAAwDddKndCAACAna8qd0IAAEADAit3QgAAAGlUK3dCAADAzqYrd0IAAIA0+St3QgAAQJpLLHdCAAAAAJ4sd0IAAMBl8Cx3Qg==\",\"dtype\":\"float64\",\"shape\":[86]},\"index\":[0,1,2,3,4,5,6,7,8,9,10,11,12,13,14,15,16,17,18,19,20,21,22,23,24,25,26,27,28,29,30,31,32,33,34,35,36,37,38,39,40,41,42,43,44,45,46,47,48,49,50,51,52,53,54,55,56,57,58,59,60,61,62,63,64,65,66,67,68,69,70,71,72,73,74,75,76,77,78,79,80,81,82,83,84,85]},\"selected\":{\"id\":\"8549\"},\"selection_policy\":{\"id\":\"8548\"}},\"id\":\"8437\",\"type\":\"ColumnDataSource\"},{\"attributes\":{\"days\":[1,15]},\"id\":\"8488\",\"type\":\"DaysTicker\"},{\"attributes\":{\"base\":24,\"mantissas\":[1,2,4,6,8,12],\"max_interval\":43200000.0,\"min_interval\":3600000.0,\"num_minor_ticks\":0},\"id\":\"8484\",\"type\":\"AdaptiveTicker\"},{\"attributes\":{\"formatter\":{\"id\":\"8478\"},\"ticker\":{\"id\":\"8450\"}},\"id\":\"8449\",\"type\":\"DatetimeAxis\"},{\"attributes\":{\"line_alpha\":0.1,\"line_color\":\"grey\",\"line_width\":5,\"x\":{\"field\":\"date\"},\"y\":{\"field\":\"new_confirmed_cases\"}},\"id\":\"8525\",\"type\":\"Line\"},{\"attributes\":{\"overlay\":{\"id\":\"8463\"}},\"id\":\"8459\",\"type\":\"BoxZoomTool\"},{\"attributes\":{\"line_alpha\":0.5,\"line_color\":\"navy\",\"line_width\":5,\"x\":{\"field\":\"date\"},\"y\":{\"field\":\"confirmed_cases\"}},\"id\":\"8497\",\"type\":\"Line\"},{\"attributes\":{},\"id\":\"8445\",\"type\":\"LinearScale\"},{\"attributes\":{\"items\":[{\"id\":\"8495\"},{\"id\":\"8521\"},{\"id\":\"8550\"}],\"location\":\"bottom_left\"},\"id\":\"8494\",\"type\":\"Legend\"},{\"attributes\":{\"axis\":{\"id\":\"8449\"},\"ticker\":null},\"id\":\"8452\",\"type\":\"Grid\"},{\"attributes\":{},\"id\":\"8458\",\"type\":\"WheelZoomTool\"},{\"attributes\":{\"mantissas\":[1,2,5],\"max_interval\":500.0,\"num_minor_ticks\":0},\"id\":\"8482\",\"type\":\"AdaptiveTicker\"},{\"attributes\":{},\"id\":\"8493\",\"type\":\"YearsTicker\"},{\"attributes\":{},\"id\":\"8520\",\"type\":\"Selection\"},{\"attributes\":{},\"id\":\"8457\",\"type\":\"PanTool\"},{\"attributes\":{},\"id\":\"8447\",\"type\":\"LinearScale\"},{\"attributes\":{\"label\":{\"value\":\"daily case growth rate\"},\"renderers\":[{\"id\":\"8474\"}]},\"id\":\"8495\",\"type\":\"LegendItem\"},{\"attributes\":{\"days\":[1,2,3,4,5,6,7,8,9,10,11,12,13,14,15,16,17,18,19,20,21,22,23,24,25,26,27,28,29,30,31]},\"id\":\"8485\",\"type\":\"DaysTicker\"},{\"attributes\":{\"active_drag\":\"auto\",\"active_inspect\":\"auto\",\"active_multi\":null,\"active_scroll\":\"auto\",\"active_tap\":\"auto\",\"tools\":[{\"id\":\"8457\"},{\"id\":\"8458\"},{\"id\":\"8459\"},{\"id\":\"8460\"},{\"id\":\"8461\"},{\"id\":\"8462\"}]},\"id\":\"8464\",\"type\":\"Toolbar\"},{\"attributes\":{\"label\":{\"value\":\"7-day rolling avg (North Hollywood)\"},\"renderers\":[{\"id\":\"8499\"}]},\"id\":\"8521\",\"type\":\"LegendItem\"},{\"attributes\":{\"axis\":{\"id\":\"8453\"},\"dimension\":1,\"ticker\":null},\"id\":\"8456\",\"type\":\"Grid\"},{\"attributes\":{\"months\":[0,6]},\"id\":\"8492\",\"type\":\"MonthsTicker\"},{\"attributes\":{},\"id\":\"8454\",\"type\":\"BasicTicker\"},{\"attributes\":{\"data\":{\"confirmed_cases\":{\"__ndarray__\":\"AAAAAAAA8D8AAAAAAAAAQAAAAAAAAAAAAAAAAAAA0D8AAAAAAADwPwAAAAAAABBAAAAAAAAA6D9VVVVVVVUFQAAAAAAAAOA/AAAAAAAA8D8AAAAAAAD0PzMzMzMzM/M/AAAAAAAAAECrqqqqqqrqP2ZmZmZmZv4/eQ3lNZTX0D8AAAAAAADkPwAAAAAAAAAAMzMzMzMz4z9VVVVVVVXVPwAAAAAAAAhAVVVVVVVV/T9ddNFFF13kP9u2bdu2bds/q6qqqqqq+j/NzMzMzMz8PxzHcRzHccw/mpmZmZmZ6T8AAAAAAAD6PwAAAAAAAOA/2Ymd2Imd+D8AAAAAAADoPzMzMzMzM+M/AAAAAAAACEBoL6G9hPbCPwAAAAAAAAAAFl/xFV/x1T+rqqqqqqrqPzMzMzMzM+M/J5tssskm2z9JkiRJkiTxP5qZmZmZmck/VVVVVVVVEUDZiZ3YiZ3YP5qZmZmZmfk/AAAAAAAA+D9VVVVVVVX1PwAAAAAAAOo/AAAAAAAAAAB7FK5H4XrEPwAAAAAAAPg/VVVVVVVV1T8AAAAAAAAAAHkN5TWU19A/zczMzMzMDEBVVVVVVVXlP6uqqqqqqto/FDuxEzux0z8AAAAAAADyP47jOI7jOP4/09LS0tLS8j9mZmZmZmbuPw3lNZTXUN4/juM4juM4/j94eHh4eHjoP7ETO7ETO+E/JUmSJEmS9D9VVVVVVVXlP6uqqqqqqgZAtbS0tLS05D/RRRdddNH1PxEREREREfE/AAAAAAAA+j87sRM7sRPbP4wuuuiii/4/nud5nud53j+amZmZmZnJPwAAAAAAABRAZmZmZmZm/j82lNdQXkPpP1VVVVVVVfU/zczMzMzM8D8=\",\"dtype\":\"float64\",\"shape\":[82]},\"date\":{\"__ndarray__\":\"AAAAbwEPd0IAAMDUUw93QgAAgDqmD3dCAADAa50Qd0IAAIDR7xB3QgAAQDdCEXdCAAAAnZQRd0IAAMAC5xF3QgAAgGg5EndCAABAzosSd0IAAAA03hJ3QgAAwJkwE3dCAACA/4ITd0IAAEBl1RN3QgAAAMsnFHdCAADAMHoUd0IAAABicRV3QgAAwMfDFXdCAABAk2gWd0IAAAD5uhZ3QgAAwF4NF3dCAACAxF8Xd0IAAEAqshd3QgAAAJAEGHdCAADA9VYYd0IAAIBbqRh3QgAAQMH7GHdCAADAjKAZd0IAAIDy8hl3QgAAQFhFGndCAAAAvpcad0IAAMAj6hp3QgAAgIk8G3dCAABA744bd0IAAABV4Rt3QgAAgCCGHHdCAAAA7Codd0IAAMBRfR13QgAAgLfPHXdCAAAAg3Qed0IAAMDoxh53QgAAgE4ZH3dCAABAtGsfd0IAAAAavh93QgAAwH8QIHdCAACA5WIgd0IAAEBLtSB3QgAAALEHIXdCAADAFlohd0IAAEDi/iF3QgAAAEhRIndCAADAraMid0IAAIAT9iJ3QgAAAN+aI3dCAADARO0jd0IAAICqPyR3QgAAQBCSJHdCAADA2zYld0IAAIBBiSV3QgAAQKfbJXdCAAAADS4md0IAAMBygCZ3QgAAgNjSJndCAABAPiUnd0IAAACkdyd3QgAAwAnKJ3dCAACAbxwod0IAAEDVbih3QgAAADvBKHdCAADAoBMpd0IAAIAGZil3QgAAQGy4KXdCAAAA0goqd0IAAMA3XSp3QgAAgJ2vKndCAABAAwIrd0IAAABpVCt3QgAAwM6mK3dCAACANPkrd0IAAECaSyx3QgAAAACeLHdCAADAZfAsd0I=\",\"dtype\":\"float64\",\"shape\":[82]},\"index\":[0,1,2,3,4,5,6,7,8,9,10,11,12,13,14,15,16,17,18,19,20,21,22,23,24,25,26,27,28,29,30,31,32,33,34,35,36,37,38,39,40,41,42,43,44,45,46,47,48,49,50,51,52,53,54,55,56,57,58,59,60,61,62,63,64,65,66,67,68,69,70,71,72,73,74,75,76,77,78,79,80,81]},\"selected\":{\"id\":\"8520\"},\"selection_policy\":{\"id\":\"8519\"}},\"id\":\"8436\",\"type\":\"ColumnDataSource\"}],\"root_ids\":[\"8438\"]},\"title\":\"Bokeh Application\",\"version\":\"2.0.2\"}};\n",
       "  var render_items = [{\"docid\":\"062c35f5-7ba9-435e-8222-320c4e1d4fa7\",\"root_ids\":[\"8438\"],\"roots\":{\"8438\":\"10238bc1-d684-4764-af1e-3f68e4b92d85\"}}];\n",
       "  root.Bokeh.embed.embed_items_notebook(docs_json, render_items);\n",
       "\n",
       "  }\n",
       "  if (root.Bokeh !== undefined) {\n",
       "    embed_document(root);\n",
       "  } else {\n",
       "    var attempts = 0;\n",
       "    var timer = setInterval(function(root) {\n",
       "      if (root.Bokeh !== undefined) {\n",
       "        clearInterval(timer);\n",
       "        embed_document(root);\n",
       "      } else {\n",
       "        attempts++;\n",
       "        if (attempts > 100) {\n",
       "          clearInterval(timer);\n",
       "          console.log(\"Bokeh: ERROR: Unable to run BokehJS code because BokehJS library is missing\");\n",
       "        }\n",
       "      }\n",
       "    }, 10, root)\n",
       "  }\n",
       "})(window);"
      ],
      "application/vnd.bokehjs_exec.v0+json": ""
     },
     "metadata": {
      "application/vnd.bokehjs_exec.v0+json": {
       "id": "8438"
      }
     },
     "output_type": "display_data"
    },
    {
     "data": {
      "text/html": [
       "\n",
       "\n",
       "\n",
       "\n",
       "\n",
       "\n",
       "  <div class=\"bk-root\" id=\"e54781c3-62fc-4872-bf65-8dd72ebdab8b\" data-root-id=\"9106\"></div>\n"
      ]
     },
     "metadata": {},
     "output_type": "display_data"
    },
    {
     "data": {
      "application/javascript": [
       "(function(root) {\n",
       "  function embed_document(root) {\n",
       "    \n",
       "  var docs_json = {\"79d83113-f7e2-4a82-beaf-daee6aec5e6d\":{\"roots\":{\"references\":[{\"attributes\":{\"below\":[{\"id\":\"9117\"}],\"center\":[{\"id\":\"9120\"},{\"id\":\"9124\"},{\"id\":\"9162\"},{\"id\":\"9250\"}],\"left\":[{\"id\":\"9121\"}],\"plot_height\":400,\"plot_width\":1000,\"renderers\":[{\"id\":\"9142\"},{\"id\":\"9167\"},{\"id\":\"9194\"},{\"id\":\"9223\"}],\"title\":{\"id\":\"9107\"},\"toolbar\":{\"id\":\"9132\"},\"x_range\":{\"id\":\"9109\"},\"x_scale\":{\"id\":\"9113\"},\"y_range\":{\"id\":\"9111\"},\"y_scale\":{\"id\":\"9115\"}},\"id\":\"9106\",\"subtype\":\"Figure\",\"type\":\"Plot\"},{\"attributes\":{\"num_minor_ticks\":5,\"tickers\":[{\"id\":\"9150\"},{\"id\":\"9151\"},{\"id\":\"9152\"},{\"id\":\"9153\"},{\"id\":\"9154\"},{\"id\":\"9155\"},{\"id\":\"9156\"},{\"id\":\"9157\"},{\"id\":\"9158\"},{\"id\":\"9159\"},{\"id\":\"9160\"},{\"id\":\"9161\"}]},\"id\":\"9118\",\"type\":\"DatetimeTicker\"},{\"attributes\":{},\"id\":\"9247\",\"type\":\"UnionRenderers\"},{\"attributes\":{\"items\":[{\"id\":\"9163\"},{\"id\":\"9189\"},{\"id\":\"9218\"},{\"id\":\"9249\"}],\"location\":\"bottom_left\"},\"id\":\"9162\",\"type\":\"Legend\"},{\"attributes\":{\"data\":{\"date\":{\"__ndarray__\":\"AADAa50Qd0IAAIDR7xB3QgAAQDdCEXdCAAAAnZQRd0IAAMAC5xF3QgAAgGg5EndCAABAzosSd0IAAAA03hJ3QgAAwJkwE3dCAACA/4ITd0IAAEBl1RN3QgAAAMsnFHdCAADAMHoUd0IAAICWzBR3QgAAQPweFXdCAAAAYnEVd0IAAMDHwxV3QgAAgC0WFndCAABAk2gWd0IAAAD5uhZ3QgAAwF4NF3dCAACAxF8Xd0IAAEAqshd3QgAAAJAEGHdCAADA9VYYd0IAAIBbqRh3QgAAQMH7GHdCAAAAJ04Zd0IAAMCMoBl3QgAAgPLyGXdCAABAWEUad0IAAAC+lxp3QgAAwCPqGndCAACAiTwbd0IAAEDvjht3QgAAAFXhG3dCAADAujMcd0IAAIAghhx3QgAAQIbYHHdCAAAA7Codd0IAAMBRfR13QgAAgLfPHXdCAABAHSIed0IAAACDdB53QgAAwOjGHndCAACAThkfd0IAAEC0ax93QgAAABq+H3dCAADAfxAgd0IAAIDlYiB3QgAAQEu1IHdCAAAAsQchd0IAAMAWWiF3QgAAgHysIXdCAABA4v4hd0IAAABIUSJ3QgAAwK2jIndCAACAE/Yid0IAAEB5SCN3QgAAAN+aI3dCAADARO0jd0IAAICqPyR3QgAAQBCSJHdCAAAAduQkd0IAAMDbNiV3QgAAgEGJJXdCAABAp9sld0IAAAANLiZ3QgAAwHKAJndCAACA2NImd0IAAEA+JSd3QgAAAKR3J3dCAADACcond0IAAIBvHCh3QgAAQNVuKHdCAAAAO8Eod0IAAMCgEyl3QgAAgAZmKXdCAABAbLgpd0IAAADSCip3QgAAwDddKndCAACAna8qd0IAAEADAit3QgAAAGlUK3dCAADAzqYrd0IAAIA0+St3QgAAQJpLLHdCAAAAAJ4sd0IAAMBl8Cx3Qg==\",\"dtype\":\"float64\",\"shape\":[89]},\"index\":[0,1,2,3,4,5,6,7,8,9,10,11,12,13,14,15,16,17,18,19,20,21,22,23,24,25,26,27,28,29,30,31,32,33,34,35,36,37,38,39,40,41,42,43,44,45,46,47,48,49,50,51,52,53,54,55,56,57,58,59,60,61,62,63,64,65,66,67,68,69,70,71,72,73,74,75,76,77,78,79,80,81,82,83,84,85,86,87,88],\"new_confirmed_cases\":{\"__ndarray__\":\"AAAAAAAA+H+JRCKRSCTyPwbK1gdLFwBAucuuu3ev+D8gbhgi79j3PwlHz6MUNvY/eNfVzz1p9T9mjjW1v7/1P6b4xblTRPU/boaKDAcx8T+nNYWmAg7yP1+POsvGFvI/j5v9+9LZ8T8ReLgyD/LwPy3sQb+ucvA/w/gcFzLw8D9HBV3S2c7vP6oLCueyQ/A/In/RBW2d7j/OsiM3JNjtP+9xoUGG4e4/a7SsLNhY8T/1ToEv9nHwPzg4BfYI6PA/R+GAS5B68T9Wt93sbRfyP1/TJHzajvE/sgV40IDD+j/qbCRy/wn4P/InrX4sh/g/EY3QRUCQ+D+mT/6x32H3P3VNdZ1lFPY/KdSCjHCE9j9Azu4I3DbwP+tjb3MwHu8/kqtaS0iM8z9ZiwChOaPyP5iCzlE18vM/WkrJvB4C9D9t1H56tBP1P682J4BYsPE/yZzkJL0q9z+181ur4BzyP9lNfFL9fvM/9fK6xUJV8j8I20Sm02bzP4erW+54+vE/k6C0WPop8z+7VMdUrzXwP5iawilLI/I/GXXx3ww+8T/FqioiTVbxP9Ja77kIgvE/Dw1VM/e68T+WqmK9D5DwPwCnOUJ+ePI/tVj6LKwN8j9f65O4FXfyP3Eyqi8tFvI/BesC1r3Z8T9vJrkXbXryPwV39nxRUvM/35mFC4y+8T+97jYp4jnwP6QQtwhN/PA/feXWPcr68j95Sjwqdw/zP3hXpZoacPI/g8GIO/bP8T9nxTuoNz7wP/MNK0RcHPE/vZC5gCWL8T9dLX+2m6fvP/YqrDUN7O4/Op3aTNOb8D+clubVJRbwP3GjV54vw/A/89kozYHg8D/rQM5NoF3xP839Oei2LPE/0ShLhdku8T+8UsGCQxLwP5uJoPDhrPA/Wemv0A8T8T+dax4i/JTyP6wjmARREvA/TCTAgqH68D/2omM5PkHyPw==\",\"dtype\":\"float64\",\"shape\":[89]},\"new_deaths\":{\"__ndarray__\":\"AAAAAAAA+H8AAAAAAAD4P6qqqqqqqgBA4ziO4ziO+T93d3d3d/f3P9ajcD0K1/U/7+7u7u7u9T+eJezmtxD2P6WaPO4sYfU/yuPOEnbz8T9281sIGKXyP7cQMEo1efQ/hgRtGSm28z+F+9wYICbzPxfis2J02PM/L1xVeu558z9h0x1XEO3yP3H1EutsivI/ktiVd3i88D8P6mqyc9/yP/PzTgpPCfI/0uzc6UeX8T+AyreXJXLxP2fZUNOJYPI/wQ9QYPOS8j9Kroo3UsHzPxAWw+GMMvE/Z73yxGIc8T+iZGb/CZDzPxn5BPk2i/Q/6exByCrI8z8OAtpgEabzP5nXjzL+uPE/QUsO9p7+8T9Xqv8L/u/zP9nKB44e+PE/2swZMNE/8T9x2dpqq/zwP5pKUnWgg/E/+ZRs60cS8T8OqOBCcTjxP1ylf55TDfE/Im+gkBRj8T/TGwtMMiTxPzWNKQnWRvE/V5No1oYw8T+ISVfw36rxPz/EAqhaVvE/ktVN7YZr8z/fN+4N8tbxPwYdpHci1fE/xqu8ZBUP8j+hz3I/OcXxP0lTree8//E/2AfX/0u/8j9CNPeRvMftP1cAX39ER/U/tw6Ltt9m9D9Wflgp6xL0P3rH6k00pfM/41TBtsF79D+mb5/QftDzP4EmDaw1PvM/yrgx9cdi8j9ZnUCtaXD1P9eoQVC+A/U/6uDCY/aE9j/HjEstFlb1PybDnqvPnPU/J2K72dLa9j8P3FnBTHn0P/VI+W5RkvE/qbyNmgtW8j+rMKSWAivxP/UykDwj8/I/YS7bw+ip8j/7JF6mTFHxP/5Lzqhzwfc/eWcHQP2y+D9xFxWBvEX4P0j4GPezJPc/S+EWsQr++z8amx9l+pr7P6iosn426P0/iSbUD1bG9T/6sjlQ1mj1P8GZ9TEe3vU/7iVzxRDC9z/sB5PD8uHxPw==\",\"dtype\":\"float64\",\"shape\":[89]}},\"selected\":{\"id\":\"9684\"},\"selection_policy\":{\"id\":\"9683\"}},\"id\":\"9219\",\"type\":\"ColumnDataSource\"},{\"attributes\":{\"axis\":{\"id\":\"9117\"},\"ticker\":null},\"id\":\"9120\",\"type\":\"Grid\"},{\"attributes\":{\"line_alpha\":0.2,\"line_color\":\"grey\",\"line_width\":5,\"x\":{\"field\":\"date\"},\"y\":{\"field\":\"new_confirmed_cases\"}},\"id\":\"9221\",\"type\":\"Line\"},{\"attributes\":{},\"id\":\"9683\",\"type\":\"UnionRenderers\"},{\"attributes\":{\"label\":{\"value\":\"daily case growth rate\"},\"renderers\":[{\"id\":\"9142\"}]},\"id\":\"9163\",\"type\":\"LegendItem\"},{\"attributes\":{\"source\":{\"id\":\"9219\"}},\"id\":\"9224\",\"type\":\"CDSView\"},{\"attributes\":{\"formatter\":{\"id\":\"9148\"},\"ticker\":{\"id\":\"9122\"}},\"id\":\"9121\",\"type\":\"LinearAxis\"},{\"attributes\":{\"label\":{\"value\":\"7-day rolling avg (Burbank)\"},\"renderers\":[{\"id\":\"9167\"}]},\"id\":\"9189\",\"type\":\"LegendItem\"},{\"attributes\":{},\"id\":\"9113\",\"type\":\"LinearScale\"},{\"attributes\":{},\"id\":\"9122\",\"type\":\"BasicTicker\"},{\"attributes\":{\"fill_alpha\":{\"value\":0.8},\"fill_color\":{\"value\":\"navy\"},\"line_alpha\":{\"value\":0.8},\"line_color\":{\"value\":\"navy\"},\"size\":{\"units\":\"screen\",\"value\":5},\"x\":{\"field\":\"date\"},\"y\":{\"field\":\"confirmed_cases\"}},\"id\":\"9140\",\"type\":\"Circle\"},{\"attributes\":{},\"id\":\"9248\",\"type\":\"Selection\"},{\"attributes\":{\"label\":{\"value\":\"7-day rolling avg (LA County)\"},\"renderers\":[{\"id\":\"9223\"}]},\"id\":\"9249\",\"type\":\"LegendItem\"},{\"attributes\":{\"fill_alpha\":{\"value\":0.1},\"fill_color\":{\"value\":\"navy\"},\"line_alpha\":{\"value\":0.1},\"line_color\":{\"value\":\"navy\"},\"size\":{\"units\":\"screen\",\"value\":5},\"x\":{\"field\":\"date\"},\"y\":{\"field\":\"confirmed_cases\"}},\"id\":\"9141\",\"type\":\"Circle\"},{\"attributes\":{\"axis\":{\"id\":\"9121\"},\"dimension\":1,\"ticker\":null},\"id\":\"9124\",\"type\":\"Grid\"},{\"attributes\":{},\"id\":\"9146\",\"type\":\"DatetimeTickFormatter\"},{\"attributes\":{\"line_alpha\":0.2,\"line_color\":\"red\",\"line_width\":5,\"x\":{\"field\":\"date\"},\"y\":{\"field\":\"confirmed_cases\"}},\"id\":\"9192\",\"type\":\"Line\"},{\"attributes\":{\"line_color\":\"red\",\"line_dash\":[6],\"line_width\":3,\"location\":1},\"id\":\"9250\",\"type\":\"Span\"},{\"attributes\":{},\"id\":\"9148\",\"type\":\"BasicTickFormatter\"},{\"attributes\":{\"source\":{\"id\":\"9104\"}},\"id\":\"9143\",\"type\":\"CDSView\"},{\"attributes\":{\"data_source\":{\"id\":\"9104\"},\"glyph\":{\"id\":\"9140\"},\"hover_glyph\":null,\"muted_glyph\":null,\"nonselection_glyph\":{\"id\":\"9141\"},\"selection_glyph\":null,\"view\":{\"id\":\"9143\"}},\"id\":\"9142\",\"type\":\"GlyphRenderer\"},{\"attributes\":{\"mantissas\":[1,2,5],\"max_interval\":500.0,\"num_minor_ticks\":0},\"id\":\"9150\",\"type\":\"AdaptiveTicker\"},{\"attributes\":{\"source\":{\"id\":\"9190\"}},\"id\":\"9195\",\"type\":\"CDSView\"},{\"attributes\":{},\"id\":\"9684\",\"type\":\"Selection\"},{\"attributes\":{\"text\":\"Burbank case growth rate (trimmed)\"},\"id\":\"9107\",\"type\":\"Title\"},{\"attributes\":{\"line_alpha\":0.5,\"line_color\":\"navy\",\"line_width\":5,\"x\":{\"field\":\"date\"},\"y\":{\"field\":\"confirmed_cases\"}},\"id\":\"9165\",\"type\":\"Line\"},{\"attributes\":{},\"id\":\"9187\",\"type\":\"UnionRenderers\"},{\"attributes\":{\"base\":60,\"mantissas\":[1,2,5,10,15,20,30],\"max_interval\":1800000.0,\"min_interval\":1000.0,\"num_minor_ticks\":0},\"id\":\"9151\",\"type\":\"AdaptiveTicker\"},{\"attributes\":{},\"id\":\"9125\",\"type\":\"PanTool\"},{\"attributes\":{\"line_alpha\":0.1,\"line_color\":\"red\",\"line_width\":5,\"x\":{\"field\":\"date\"},\"y\":{\"field\":\"confirmed_cases\"}},\"id\":\"9193\",\"type\":\"Line\"},{\"attributes\":{\"line_alpha\":0.1,\"line_color\":\"navy\",\"line_width\":5,\"x\":{\"field\":\"date\"},\"y\":{\"field\":\"confirmed_cases\"}},\"id\":\"9166\",\"type\":\"Line\"},{\"attributes\":{\"base\":24,\"mantissas\":[1,2,4,6,8,12],\"max_interval\":43200000.0,\"min_interval\":3600000.0,\"num_minor_ticks\":0},\"id\":\"9152\",\"type\":\"AdaptiveTicker\"},{\"attributes\":{\"data_source\":{\"id\":\"9190\"},\"glyph\":{\"id\":\"9192\"},\"hover_glyph\":null,\"muted_glyph\":null,\"nonselection_glyph\":{\"id\":\"9193\"},\"selection_glyph\":null,\"view\":{\"id\":\"9195\"}},\"id\":\"9194\",\"type\":\"GlyphRenderer\"},{\"attributes\":{},\"id\":\"9126\",\"type\":\"WheelZoomTool\"},{\"attributes\":{\"days\":[1,2,3,4,5,6,7,8,9,10,11,12,13,14,15,16,17,18,19,20,21,22,23,24,25,26,27,28,29,30,31]},\"id\":\"9153\",\"type\":\"DaysTicker\"},{\"attributes\":{\"overlay\":{\"id\":\"9131\"}},\"id\":\"9127\",\"type\":\"BoxZoomTool\"},{\"attributes\":{\"bottom_units\":\"screen\",\"fill_alpha\":0.5,\"fill_color\":\"lightgrey\",\"left_units\":\"screen\",\"level\":\"overlay\",\"line_alpha\":1.0,\"line_color\":\"black\",\"line_dash\":[4,4],\"line_width\":2,\"render_mode\":\"css\",\"right_units\":\"screen\",\"top_units\":\"screen\"},\"id\":\"9131\",\"type\":\"BoxAnnotation\"},{\"attributes\":{},\"id\":\"9216\",\"type\":\"UnionRenderers\"},{\"attributes\":{\"formatter\":{\"id\":\"9146\"},\"ticker\":{\"id\":\"9118\"}},\"id\":\"9117\",\"type\":\"DatetimeAxis\"},{\"attributes\":{\"data\":{\"confirmed_cases\":{\"__ndarray__\":\"AAAAAAAA8D8AAAAAAAD4PwAAAAAAAPA/AAAAAAAA6j8zMzMzMzPrPzMzMzMzM/c/MzMzMzMz8z+7u7u7u7v7PxzHcRzHcfg/z/M8z/M89z9hGIZhGIb5P7Ef+7Ef+/k/jdZojdZo9T+ZmZmZmZn1P5D92I/92PM/53QzbWdO8z+fzD0oIP3xP3LMroNzLec/+twSp37P1z/x7u7u7u7YPy35xZJfLO0/tmALtmAL8T++f4emIhPxPwcSrO+0N/I/jZUZeLNs8z9wwdda3yr2P1+9lkrb6fU/sF5Lpe30AkDLCx3AmsYBQMeQVevZ5wJAzb/8y7/8AkB1PddzPdcCQEEKpEAKpAFAKpESKZESAkBTIiVSIiX0P30K/SW1p/I/Dy9GuNnw+j/GnCFvR8z5P+QDd/7K6Pg/2U0W8xSI+T9z56+MriHzPzubszmbswBA7LwrMNSI9D+jKgfnQWT3P9srexbSgfQ/8AZRvdGg/T+HdkpUQZr8Pxmbk+Zl4/4/0AhvndO+9T+bWPdQxtL3P7ZDO7RDO/c/ZjzGYzzG9j+EkKGyw9TsP/sHGSo7TOw/bCTgm1cT5j9LZYepy+3dP6XiaQkS4tw/+KZ0DBA87z+Bzy1x6vfwP5CClHC4KOw/7ZBE3asO+z8Pnhb+uOD7P3qHXP55d/o/78Iu7MIu/j+JpqSGpqT4P+ZwSuNwSvk/+7Kh681r+T/jORDUVNrxP/WkG+W/5fI/gW/EcYqO8T8px/X0mC3wP4/wlieUBu4/KH0Z9E5R8z8HC0ngwbbzP6I9RNlog/I/U+70iRk08z8QtnBG4a/1P82o5Scdt/M/yAQxDByO9j9v5RYh2CrxP45NEUBAJfA/uYwyDgt1+D8zKxqIqVz6P6Vs4I3Cc/g/7w3112OI+j/5/4n4spH4Pw==\",\"dtype\":\"float64\",\"shape\":[86]},\"date\":{\"__ndarray__\":\"AAAAbwEPd0IAAMDUUw93QgAAgDqmD3dCAADAa50Qd0IAAIDR7xB3QgAAQDdCEXdCAAAAnZQRd0IAAMAC5xF3QgAAgGg5EndCAABAzosSd0IAAAA03hJ3QgAAwJkwE3dCAACA/4ITd0IAAEBl1RN3QgAAAMsnFHdCAADAMHoUd0IAAABicRV3QgAAwMfDFXdCAABAk2gWd0IAAAD5uhZ3QgAAwF4NF3dCAACAxF8Xd0IAAEAqshd3QgAAAJAEGHdCAADA9VYYd0IAAIBbqRh3QgAAQMH7GHdCAAAAJ04Zd0IAAMCMoBl3QgAAgPLyGXdCAABAWEUad0IAAAC+lxp3QgAAwCPqGndCAACAiTwbd0IAAEDvjht3QgAAAFXhG3dCAADAujMcd0IAAIAghhx3QgAAAOwqHXdCAADAUX0dd0IAAIC3zx13QgAAQB0iHndCAAAAg3Qed0IAAMDoxh53QgAAgE4ZH3dCAABAtGsfd0IAAAAavh93QgAAwH8QIHdCAACA5WIgd0IAAEBLtSB3QgAAALEHIXdCAADAFlohd0IAAEDi/iF3QgAAAEhRIndCAADAraMid0IAAIAT9iJ3QgAAAN+aI3dCAADARO0jd0IAAICqPyR3QgAAQBCSJHdCAAAAduQkd0IAAMDbNiV3QgAAgEGJJXdCAABAp9sld0IAAAANLiZ3QgAAwHKAJndCAACA2NImd0IAAEA+JSd3QgAAAKR3J3dCAADACcond0IAAIBvHCh3QgAAQNVuKHdCAAAAO8Eod0IAAMCgEyl3QgAAgAZmKXdCAABAbLgpd0IAAADSCip3QgAAwDddKndCAACAna8qd0IAAEADAit3QgAAAGlUK3dCAADAzqYrd0IAAIA0+St3QgAAQJpLLHdCAAAAAJ4sd0IAAMBl8Cx3Qg==\",\"dtype\":\"float64\",\"shape\":[86]},\"index\":[0,1,2,3,4,5,6,7,8,9,10,11,12,13,14,15,16,17,18,19,20,21,22,23,24,25,26,27,28,29,30,31,32,33,34,35,36,37,38,39,40,41,42,43,44,45,46,47,48,49,50,51,52,53,54,55,56,57,58,59,60,61,62,63,64,65,66,67,68,69,70,71,72,73,74,75,76,77,78,79,80,81,82,83,84,85]},\"selected\":{\"id\":\"9248\"},\"selection_policy\":{\"id\":\"9247\"}},\"id\":\"9190\",\"type\":\"ColumnDataSource\"},{\"attributes\":{\"days\":[1,4,7,10,13,16,19,22,25,28]},\"id\":\"9154\",\"type\":\"DaysTicker\"},{\"attributes\":{},\"id\":\"9109\",\"type\":\"DataRange1d\"},{\"attributes\":{},\"id\":\"9128\",\"type\":\"SaveTool\"},{\"attributes\":{\"data\":{\"confirmed_cases\":{\"__ndarray__\":\"AAAAAAAAAAAAAAAAAAD4P3Icx3Ecx/E/q6qqqqqqCkCnDXTaQKcFQEGnDXTaQAdAC7ZgC7ZgB0Au5VIu5VIGQF/xFV/xFQNAkP3Yj/3YB0AbuqEbuqH7P88t9J9zC/0/ryVyf2uJ/D8iMNDNLFX2PyIw0M0sVfY/Cqputabz9T8NlCGd4VfmP1vK+gF1peQ/pzIqozIq4z94Yid2Yif2P0Uv9EIv9PI/m4RJmIRJ9j/rju7oju70P4Y6qIM6qPs/PaiDOqiD+j87gRM4gRP0PylwAidwAvc/QENcc9cz9j+sBHPfmEr2P3TQV9v4Bu0/GMaJS1ph9D9rugHdmRfyP12S7oXf3/E/BRYpLmMa8j++5iVHFeDvP98Xla5drPM/8TV2wHuN7T/p3EL/ObfwP7FOX8ar0/M/03CB6M318T88AYhRXvzyP5I7+KQdpfE/MohUjvwl9D9ex3Vcx3X0P/Drvu7rvvI/Hb/xG7/xAUCnbuqmbuoAQOh5nud5ngNA7+7u7u7uAkDKoizKoiwCQAMxEAMxEARAjuqojuqo8D/5si/7si/vPx1TmOsfZeg/ZWd2Zmd25j9f/uVf/uXnPxM4gRM4gf8/SDTvnYlE/z+LAF41qwgAQENWrWefP/w/bs7mbM7m/D8LqZAKqZACQJ7N2ZzN2QJAeGqndmqn8j8f1EEd1EHxPyZJkiRJkvA/6DiO4ziO7z9GREREREQAQBpswRZswf4/QOmTPumTBkDkWdFIwDcHQOjKA5J1rgZAPSBZ58oDCECiG7qhG7oFQMH8y7/8y/c/Qx3UQR3U+T/6iq/4iq/wP3ZQB3VQBwFAEOqgDuqg/D8IdVAHdVACQO/u7u7u7gFA\",\"dtype\":\"float64\",\"shape\":[81]},\"date\":{\"__ndarray__\":\"AAAABksQd0IAAEA3QhF3QgAAAJ2UEXdCAADAAucRd0IAAIBoORJ3QgAAQM6LEndCAAAANN4Sd0IAAMCZMBN3QgAAgP+CE3dCAABAZdUTd0IAAADLJxR3QgAAwDB6FHdCAACAlswUd0IAAED8HhV3QgAAAGJxFXdCAADAx8MVd0IAAECTaBZ3QgAAAPm6FndCAADAXg0Xd0IAAIDEXxd3QgAAQCqyF3dCAAAAkAQYd0IAAMD1Vhh3QgAAgFupGHdCAABAwfsYd0IAAMCMoBl3QgAAgPLyGXdCAABAWEUad0IAAAC+lxp3QgAAwCPqGndCAACAiTwbd0IAAEDvjht3QgAAAFXhG3dCAADAujMcd0IAAIAghhx3QgAAAOwqHXdCAADAUX0dd0IAAIC3zx13QgAAQB0iHndCAAAAg3Qed0IAAMDoxh53QgAAgE4ZH3dCAABAtGsfd0IAAAAavh93QgAAwH8QIHdCAACA5WIgd0IAAEBLtSB3QgAAALEHIXdCAADAFlohd0IAAEDi/iF3QgAAAEhRIndCAADAraMid0IAAIAT9iJ3QgAAAN+aI3dCAADARO0jd0IAAICqPyR3QgAAQBCSJHdCAAAAduQkd0IAAMDbNiV3QgAAgEGJJXdCAABAp9sld0IAAAANLiZ3QgAAwHKAJndCAACA2NImd0IAAEA+JSd3QgAAAKR3J3dCAACAbxwod0IAAAA7wSh3QgAAwKATKXdCAACABmYpd0IAAEBsuCl3QgAAANIKKndCAADAN10qd0IAAICdryp3QgAAQAMCK3dCAAAAaVQrd0IAAMDOpit3QgAAgDT5K3dCAABAmkssd0IAAAAAnix3QgAAwGXwLHdC\",\"dtype\":\"float64\",\"shape\":[81]},\"index\":[0,1,2,3,4,5,6,7,8,9,10,11,12,13,14,15,16,17,18,19,20,21,22,23,24,25,26,27,28,29,30,31,32,33,34,35,36,37,38,39,40,41,42,43,44,45,46,47,48,49,50,51,52,53,54,55,56,57,58,59,60,61,62,63,64,65,66,67,68,69,70,71,72,73,74,75,76,77,78,79,80]},\"selected\":{\"id\":\"9217\"},\"selection_policy\":{\"id\":\"9216\"}},\"id\":\"9105\",\"type\":\"ColumnDataSource\"},{\"attributes\":{\"days\":[1,8,15,22]},\"id\":\"9155\",\"type\":\"DaysTicker\"},{\"attributes\":{},\"id\":\"9129\",\"type\":\"ResetTool\"},{\"attributes\":{\"days\":[1,15]},\"id\":\"9156\",\"type\":\"DaysTicker\"},{\"attributes\":{},\"id\":\"9111\",\"type\":\"DataRange1d\"},{\"attributes\":{},\"id\":\"9130\",\"type\":\"HelpTool\"},{\"attributes\":{},\"id\":\"9217\",\"type\":\"Selection\"},{\"attributes\":{\"label\":{\"value\":\"7-day rolling avg (NoHo)\"},\"renderers\":[{\"id\":\"9194\"}]},\"id\":\"9218\",\"type\":\"LegendItem\"},{\"attributes\":{\"months\":[0,1,2,3,4,5,6,7,8,9,10,11]},\"id\":\"9157\",\"type\":\"MonthsTicker\"},{\"attributes\":{},\"id\":\"9188\",\"type\":\"Selection\"},{\"attributes\":{\"active_drag\":\"auto\",\"active_inspect\":\"auto\",\"active_multi\":null,\"active_scroll\":\"auto\",\"active_tap\":\"auto\",\"tools\":[{\"id\":\"9125\"},{\"id\":\"9126\"},{\"id\":\"9127\"},{\"id\":\"9128\"},{\"id\":\"9129\"},{\"id\":\"9130\"}]},\"id\":\"9132\",\"type\":\"Toolbar\"},{\"attributes\":{\"months\":[0,2,4,6,8,10]},\"id\":\"9158\",\"type\":\"MonthsTicker\"},{\"attributes\":{},\"id\":\"9115\",\"type\":\"LinearScale\"},{\"attributes\":{\"data_source\":{\"id\":\"9219\"},\"glyph\":{\"id\":\"9221\"},\"hover_glyph\":null,\"muted_glyph\":null,\"nonselection_glyph\":{\"id\":\"9222\"},\"selection_glyph\":null,\"view\":{\"id\":\"9224\"}},\"id\":\"9223\",\"type\":\"GlyphRenderer\"},{\"attributes\":{\"data\":{\"confirmed_cases\":{\"__ndarray__\":\"AAAAAAAAAAAAAAAAAAAIQFVVVVVVVdU/mpmZmZmZyT8AAAAAAADwPwAAAAAAAAhAAAAAAAAAAEBVVVVVVVXFPwAAAAAAABJA5DiO4ziO8z8vuuiiiy7qPzmO4ziO4+g/kiRJkiRJ0j8AAAAAAAAAQAAAAAAAAAAAFDuxEzux0z8AAAAAAADgPwAAAAAAAOA/AAAAAAAAFECamZmZmZnpPwAAAAAAAPQ/mpmZmZmZ6T8AAAAAAAAKQAAAAAAAAAAAt23btm3b9j9mZmZmZmb+Pw3lNZTXUO4/q6qqqqqq6j9VVVVVVVXVP5qZmZmZmQFAdNFFF1100T9VVVVVVVX1PwAAAAAAAABAAAAAAAAAAABJkiRJkiT5P0YXXXTRRdc/AAAAAAAA8D8AAAAAAAAEQM3MzMzMzPQ/2Ymd2Imd2D8zMzMzMzPjP1VVVVVVVQVAAAAAAAAA4D8AAAAAAADQP5qZmZmZmdk/AAAAAAAABkAAAAAAAAAAAJ7YiZ3Yic0/q6qqqqqq+j8zMzMzMzPzPwAAAAAAAAAAt23btm3b5j+amZmZmZnZPwAAAAAAAOA/chzHcRzH8T8zMzMzMzPTP1VVVVVVVdU/AAAAAAAA8D8AAAAAAAAQQAAAAAAAAOg/VVVVVVVV5T8AAAAAAADgPwAAAAAAAAAAAAAAAAAAAAAcx3Ecx3G8PwAAAAAAABRAmpmZmZmZ2T8AAAAAAAAEQAAAAAAAAPA/AAAAAAAA8D+amZmZmZnZPwAAAAAAAPA/AAAAAAAA8D8AAAAAAADAPwAAAAAAABJAVVVVVVVV5T8=\",\"dtype\":\"float64\",\"shape\":[76]},\"date\":{\"__ndarray__\":\"AAAABksQd0IAAEA3QhF3QgAAAJ2UEXdCAACAaDkSd0IAAEDOixJ3QgAAADTeEndCAADAmTATd0IAAID/ghN3QgAAQGXVE3dCAAAAyycUd0IAAMAwehR3QgAAgJbMFHdCAABA/B4Vd0IAAABicRV3QgAAwMfDFXdCAABAk2gWd0IAAAD5uhZ3QgAAwF4NF3dCAACAxF8Xd0IAAEAqshd3QgAAAJAEGHdCAADA9VYYd0IAAIBbqRh3QgAAQMH7GHdCAADAjKAZd0IAAIDy8hl3QgAAQFhFGndCAAAAvpcad0IAAMAj6hp3QgAAgIk8G3dCAABA744bd0IAAABV4Rt3QgAAwLozHHdCAACAIIYcd0IAAADsKh13QgAAwFF9HXdCAACAt88dd0IAAEAdIh53QgAAAIN0HndCAADA6MYed0IAAIBOGR93QgAAQLRrH3dCAAAAGr4fd0IAAMB/ECB3QgAAQEu1IHdCAAAAsQchd0IAAMAWWiF3QgAAQOL+IXdCAAAASFEid0IAAMCtoyJ3QgAAgBP2IndCAAAA35ojd0IAAMBE7SN3QgAAgKo/JHdCAAAAduQkd0IAAMDbNiV3QgAAgEGJJXdCAABAp9sld0IAAAANLiZ3QgAAwHKAJndCAACA2NImd0IAAEA+JSd3QgAAAKR3J3dCAACAbxwod0IAAMCgEyl3QgAAgAZmKXdCAABAbLgpd0IAAADSCip3QgAAwDddKndCAACAna8qd0IAAEADAit3QgAAAGlUK3dCAADAzqYrd0IAAECaSyx3QgAAAACeLHdCAADAZfAsd0I=\",\"dtype\":\"float64\",\"shape\":[76]},\"index\":[0,1,2,3,4,5,6,7,8,9,10,11,12,13,14,15,16,17,18,19,20,21,22,23,24,25,26,27,28,29,30,31,32,33,34,35,36,37,38,39,40,41,42,43,44,45,46,47,48,49,50,51,52,53,54,55,56,57,58,59,60,61,62,63,64,65,66,67,68,69,70,71,72,73,74,75]},\"selected\":{\"id\":\"9188\"},\"selection_policy\":{\"id\":\"9187\"}},\"id\":\"9104\",\"type\":\"ColumnDataSource\"},{\"attributes\":{\"months\":[0,4,8]},\"id\":\"9159\",\"type\":\"MonthsTicker\"},{\"attributes\":{\"source\":{\"id\":\"9105\"}},\"id\":\"9168\",\"type\":\"CDSView\"},{\"attributes\":{\"months\":[0,6]},\"id\":\"9160\",\"type\":\"MonthsTicker\"},{\"attributes\":{\"data_source\":{\"id\":\"9105\"},\"glyph\":{\"id\":\"9165\"},\"hover_glyph\":null,\"muted_glyph\":null,\"nonselection_glyph\":{\"id\":\"9166\"},\"selection_glyph\":null,\"view\":{\"id\":\"9168\"}},\"id\":\"9167\",\"type\":\"GlyphRenderer\"},{\"attributes\":{},\"id\":\"9161\",\"type\":\"YearsTicker\"},{\"attributes\":{\"line_alpha\":0.1,\"line_color\":\"grey\",\"line_width\":5,\"x\":{\"field\":\"date\"},\"y\":{\"field\":\"new_confirmed_cases\"}},\"id\":\"9222\",\"type\":\"Line\"}],\"root_ids\":[\"9106\"]},\"title\":\"Bokeh Application\",\"version\":\"2.0.2\"}};\n",
       "  var render_items = [{\"docid\":\"79d83113-f7e2-4a82-beaf-daee6aec5e6d\",\"root_ids\":[\"9106\"],\"roots\":{\"9106\":\"e54781c3-62fc-4872-bf65-8dd72ebdab8b\"}}];\n",
       "  root.Bokeh.embed.embed_items_notebook(docs_json, render_items);\n",
       "\n",
       "  }\n",
       "  if (root.Bokeh !== undefined) {\n",
       "    embed_document(root);\n",
       "  } else {\n",
       "    var attempts = 0;\n",
       "    var timer = setInterval(function(root) {\n",
       "      if (root.Bokeh !== undefined) {\n",
       "        clearInterval(timer);\n",
       "        embed_document(root);\n",
       "      } else {\n",
       "        attempts++;\n",
       "        if (attempts > 100) {\n",
       "          clearInterval(timer);\n",
       "          console.log(\"Bokeh: ERROR: Unable to run BokehJS code because BokehJS library is missing\");\n",
       "        }\n",
       "      }\n",
       "    }, 10, root)\n",
       "  }\n",
       "})(window);"
      ],
      "application/vnd.bokehjs_exec.v0+json": ""
     },
     "metadata": {
      "application/vnd.bokehjs_exec.v0+json": {
       "id": "9106"
      }
     },
     "output_type": "display_data"
    },
    {
     "data": {
      "text/html": [
       "\n",
       "\n",
       "\n",
       "\n",
       "\n",
       "\n",
       "  <div class=\"bk-root\" id=\"f455304f-decc-4459-92d4-c3dbc01585e8\" data-root-id=\"9843\"></div>\n"
      ]
     },
     "metadata": {},
     "output_type": "display_data"
    },
    {
     "data": {
      "application/javascript": [
       "(function(root) {\n",
       "  function embed_document(root) {\n",
       "    \n",
       "  var docs_json = {\"299894a5-e435-4d75-aded-0c9035db9d67\":{\"roots\":{\"references\":[{\"attributes\":{\"below\":[{\"id\":\"9854\"}],\"center\":[{\"id\":\"9857\"},{\"id\":\"9861\"},{\"id\":\"9899\"},{\"id\":\"9987\"}],\"left\":[{\"id\":\"9858\"}],\"plot_height\":400,\"plot_width\":1000,\"renderers\":[{\"id\":\"9879\"},{\"id\":\"9904\"},{\"id\":\"9931\"},{\"id\":\"9960\"}],\"title\":{\"id\":\"9844\"},\"toolbar\":{\"id\":\"9869\"},\"x_range\":{\"id\":\"9846\"},\"x_scale\":{\"id\":\"9850\"},\"y_range\":{\"id\":\"9848\"},\"y_scale\":{\"id\":\"9852\"}},\"id\":\"9843\",\"subtype\":\"Figure\",\"type\":\"Plot\"},{\"attributes\":{\"bottom_units\":\"screen\",\"fill_alpha\":0.5,\"fill_color\":\"lightgrey\",\"left_units\":\"screen\",\"level\":\"overlay\",\"line_alpha\":1.0,\"line_color\":\"black\",\"line_dash\":[4,4],\"line_width\":2,\"render_mode\":\"css\",\"right_units\":\"screen\",\"top_units\":\"screen\"},\"id\":\"9868\",\"type\":\"BoxAnnotation\"},{\"attributes\":{\"axis\":{\"id\":\"9854\"},\"ticker\":null},\"id\":\"9857\",\"type\":\"Grid\"},{\"attributes\":{\"items\":[{\"id\":\"9900\"},{\"id\":\"9926\"},{\"id\":\"9955\"},{\"id\":\"9986\"}],\"location\":\"bottom_left\"},\"id\":\"9899\",\"type\":\"Legend\"},{\"attributes\":{},\"id\":\"9984\",\"type\":\"UnionRenderers\"},{\"attributes\":{\"label\":{\"value\":\"daily case growth rate\"},\"renderers\":[{\"id\":\"9879\"}]},\"id\":\"9900\",\"type\":\"LegendItem\"},{\"attributes\":{\"data\":{\"date\":{\"__ndarray__\":\"AADAa50Qd0IAAIDR7xB3QgAAQDdCEXdCAAAAnZQRd0IAAMAC5xF3QgAAgGg5EndCAABAzosSd0IAAAA03hJ3QgAAwJkwE3dCAACA/4ITd0IAAEBl1RN3QgAAAMsnFHdCAADAMHoUd0IAAICWzBR3QgAAQPweFXdCAAAAYnEVd0IAAMDHwxV3QgAAgC0WFndCAABAk2gWd0IAAAD5uhZ3QgAAwF4NF3dCAACAxF8Xd0IAAEAqshd3QgAAAJAEGHdCAADA9VYYd0IAAIBbqRh3QgAAQMH7GHdCAAAAJ04Zd0IAAMCMoBl3QgAAgPLyGXdCAABAWEUad0IAAAC+lxp3QgAAwCPqGndCAACAiTwbd0IAAEDvjht3QgAAAFXhG3dCAADAujMcd0IAAIAghhx3QgAAQIbYHHdCAAAA7Codd0IAAMBRfR13QgAAgLfPHXdCAABAHSIed0IAAACDdB53QgAAwOjGHndCAACAThkfd0IAAEC0ax93QgAAABq+H3dCAADAfxAgd0IAAIDlYiB3QgAAQEu1IHdCAAAAsQchd0IAAMAWWiF3QgAAgHysIXdCAABA4v4hd0IAAABIUSJ3QgAAwK2jIndCAACAE/Yid0IAAEB5SCN3QgAAAN+aI3dCAADARO0jd0IAAICqPyR3QgAAQBCSJHdCAAAAduQkd0IAAMDbNiV3QgAAgEGJJXdCAABAp9sld0IAAAANLiZ3QgAAwHKAJndCAACA2NImd0IAAEA+JSd3QgAAAKR3J3dCAADACcond0IAAIBvHCh3QgAAQNVuKHdCAAAAO8Eod0IAAMCgEyl3QgAAgAZmKXdCAABAbLgpd0IAAADSCip3QgAAwDddKndCAACAna8qd0IAAEADAit3QgAAAGlUK3dCAADAzqYrd0IAAIA0+St3QgAAQJpLLHdCAAAAAJ4sd0IAAMBl8Cx3Qg==\",\"dtype\":\"float64\",\"shape\":[89]},\"index\":[0,1,2,3,4,5,6,7,8,9,10,11,12,13,14,15,16,17,18,19,20,21,22,23,24,25,26,27,28,29,30,31,32,33,34,35,36,37,38,39,40,41,42,43,44,45,46,47,48,49,50,51,52,53,54,55,56,57,58,59,60,61,62,63,64,65,66,67,68,69,70,71,72,73,74,75,76,77,78,79,80,81,82,83,84,85,86,87,88],\"new_confirmed_cases\":{\"__ndarray__\":\"AAAAAAAA+H+JRCKRSCTyPwbK1gdLFwBAucuuu3ev+D8gbhgi79j3PwlHz6MUNvY/eNfVzz1p9T9mjjW1v7/1P6b4xblTRPU/boaKDAcx8T+nNYWmAg7yP1+POsvGFvI/j5v9+9LZ8T8ReLgyD/LwPy3sQb+ucvA/w/gcFzLw8D9HBV3S2c7vP6oLCueyQ/A/In/RBW2d7j/OsiM3JNjtP+9xoUGG4e4/a7SsLNhY8T/1ToEv9nHwPzg4BfYI6PA/R+GAS5B68T9Wt93sbRfyP1/TJHzajvE/sgV40IDD+j/qbCRy/wn4P/InrX4sh/g/EY3QRUCQ+D+mT/6x32H3P3VNdZ1lFPY/KdSCjHCE9j9Azu4I3DbwP+tjb3MwHu8/kqtaS0iM8z9ZiwChOaPyP5iCzlE18vM/WkrJvB4C9D9t1H56tBP1P682J4BYsPE/yZzkJL0q9z+181ur4BzyP9lNfFL9fvM/9fK6xUJV8j8I20Sm02bzP4erW+54+vE/k6C0WPop8z+7VMdUrzXwP5iawilLI/I/GXXx3ww+8T/FqioiTVbxP9Ja77kIgvE/Dw1VM/e68T+WqmK9D5DwPwCnOUJ+ePI/tVj6LKwN8j9f65O4FXfyP3Eyqi8tFvI/BesC1r3Z8T9vJrkXbXryPwV39nxRUvM/35mFC4y+8T+97jYp4jnwP6QQtwhN/PA/feXWPcr68j95Sjwqdw/zP3hXpZoacPI/g8GIO/bP8T9nxTuoNz7wP/MNK0RcHPE/vZC5gCWL8T9dLX+2m6fvP/YqrDUN7O4/Op3aTNOb8D+clubVJRbwP3GjV54vw/A/89kozYHg8D/rQM5NoF3xP839Oei2LPE/0ShLhdku8T+8UsGCQxLwP5uJoPDhrPA/Wemv0A8T8T+dax4i/JTyP6wjmARREvA/TCTAgqH68D/2omM5PkHyPw==\",\"dtype\":\"float64\",\"shape\":[89]},\"new_deaths\":{\"__ndarray__\":\"AAAAAAAA+H8AAAAAAAD4P6qqqqqqqgBA4ziO4ziO+T93d3d3d/f3P9ajcD0K1/U/7+7u7u7u9T+eJezmtxD2P6WaPO4sYfU/yuPOEnbz8T9281sIGKXyP7cQMEo1efQ/hgRtGSm28z+F+9wYICbzPxfis2J02PM/L1xVeu558z9h0x1XEO3yP3H1EutsivI/ktiVd3i88D8P6mqyc9/yP/PzTgpPCfI/0uzc6UeX8T+AyreXJXLxP2fZUNOJYPI/wQ9QYPOS8j9Kroo3UsHzPxAWw+GMMvE/Z73yxGIc8T+iZGb/CZDzPxn5BPk2i/Q/6exByCrI8z8OAtpgEabzP5nXjzL+uPE/QUsO9p7+8T9Xqv8L/u/zP9nKB44e+PE/2swZMNE/8T9x2dpqq/zwP5pKUnWgg/E/+ZRs60cS8T8OqOBCcTjxP1ylf55TDfE/Im+gkBRj8T/TGwtMMiTxPzWNKQnWRvE/V5No1oYw8T+ISVfw36rxPz/EAqhaVvE/ktVN7YZr8z/fN+4N8tbxPwYdpHci1fE/xqu8ZBUP8j+hz3I/OcXxP0lTree8//E/2AfX/0u/8j9CNPeRvMftP1cAX39ER/U/tw6Ltt9m9D9Wflgp6xL0P3rH6k00pfM/41TBtsF79D+mb5/QftDzP4EmDaw1PvM/yrgx9cdi8j9ZnUCtaXD1P9eoQVC+A/U/6uDCY/aE9j/HjEstFlb1PybDnqvPnPU/J2K72dLa9j8P3FnBTHn0P/VI+W5RkvE/qbyNmgtW8j+rMKSWAivxP/UykDwj8/I/YS7bw+ip8j/7JF6mTFHxP/5Lzqhzwfc/eWcHQP2y+D9xFxWBvEX4P0j4GPezJPc/S+EWsQr++z8amx9l+pr7P6iosn426P0/iSbUD1bG9T/6sjlQ1mj1P8GZ9TEe3vU/7iVzxRDC9z/sB5PD8uHxPw==\",\"dtype\":\"float64\",\"shape\":[89]}},\"selected\":{\"id\":\"10447\"},\"selection_policy\":{\"id\":\"10446\"}},\"id\":\"9956\",\"type\":\"ColumnDataSource\"},{\"attributes\":{\"formatter\":{\"id\":\"9885\"},\"ticker\":{\"id\":\"9859\"}},\"id\":\"9858\",\"type\":\"LinearAxis\"},{\"attributes\":{\"line_alpha\":0.2,\"line_color\":\"grey\",\"line_width\":5,\"x\":{\"field\":\"date\"},\"y\":{\"field\":\"new_confirmed_cases\"}},\"id\":\"9958\",\"type\":\"Line\"},{\"attributes\":{\"source\":{\"id\":\"9956\"}},\"id\":\"9961\",\"type\":\"CDSView\"},{\"attributes\":{\"label\":{\"value\":\"7-day rolling avg (Encino)\"},\"renderers\":[{\"id\":\"9904\"}]},\"id\":\"9926\",\"type\":\"LegendItem\"},{\"attributes\":{},\"id\":\"9859\",\"type\":\"BasicTicker\"},{\"attributes\":{\"line_alpha\":0.1,\"line_color\":\"red\",\"line_width\":5,\"x\":{\"field\":\"date\"},\"y\":{\"field\":\"confirmed_cases\"}},\"id\":\"9930\",\"type\":\"Line\"},{\"attributes\":{\"fill_alpha\":{\"value\":0.8},\"fill_color\":{\"value\":\"navy\"},\"line_alpha\":{\"value\":0.8},\"line_color\":{\"value\":\"navy\"},\"size\":{\"units\":\"screen\",\"value\":5},\"x\":{\"field\":\"date\"},\"y\":{\"field\":\"confirmed_cases\"}},\"id\":\"9877\",\"type\":\"Circle\"},{\"attributes\":{\"axis\":{\"id\":\"9858\"},\"dimension\":1,\"ticker\":null},\"id\":\"9861\",\"type\":\"Grid\"},{\"attributes\":{\"fill_alpha\":{\"value\":0.1},\"fill_color\":{\"value\":\"navy\"},\"line_alpha\":{\"value\":0.1},\"line_color\":{\"value\":\"navy\"},\"size\":{\"units\":\"screen\",\"value\":5},\"x\":{\"field\":\"date\"},\"y\":{\"field\":\"confirmed_cases\"}},\"id\":\"9878\",\"type\":\"Circle\"},{\"attributes\":{},\"id\":\"9985\",\"type\":\"Selection\"},{\"attributes\":{\"label\":{\"value\":\"7-day rolling avg (LA County)\"},\"renderers\":[{\"id\":\"9960\"}]},\"id\":\"9986\",\"type\":\"LegendItem\"},{\"attributes\":{},\"id\":\"9883\",\"type\":\"DatetimeTickFormatter\"},{\"attributes\":{\"source\":{\"id\":\"9841\"}},\"id\":\"9880\",\"type\":\"CDSView\"},{\"attributes\":{},\"id\":\"9885\",\"type\":\"BasicTickFormatter\"},{\"attributes\":{\"data_source\":{\"id\":\"9841\"},\"glyph\":{\"id\":\"9877\"},\"hover_glyph\":null,\"muted_glyph\":null,\"nonselection_glyph\":{\"id\":\"9878\"},\"selection_glyph\":null,\"view\":{\"id\":\"9880\"}},\"id\":\"9879\",\"type\":\"GlyphRenderer\"},{\"attributes\":{\"line_color\":\"red\",\"line_dash\":[6],\"line_width\":3,\"location\":1},\"id\":\"9987\",\"type\":\"Span\"},{\"attributes\":{\"line_alpha\":0.2,\"line_color\":\"red\",\"line_width\":5,\"x\":{\"field\":\"date\"},\"y\":{\"field\":\"confirmed_cases\"}},\"id\":\"9929\",\"type\":\"Line\"},{\"attributes\":{\"formatter\":{\"id\":\"9883\"},\"ticker\":{\"id\":\"9855\"}},\"id\":\"9854\",\"type\":\"DatetimeAxis\"},{\"attributes\":{\"mantissas\":[1,2,5],\"max_interval\":500.0,\"num_minor_ticks\":0},\"id\":\"9887\",\"type\":\"AdaptiveTicker\"},{\"attributes\":{\"source\":{\"id\":\"9927\"}},\"id\":\"9932\",\"type\":\"CDSView\"},{\"attributes\":{},\"id\":\"9862\",\"type\":\"PanTool\"},{\"attributes\":{\"base\":60,\"mantissas\":[1,2,5,10,15,20,30],\"max_interval\":1800000.0,\"min_interval\":1000.0,\"num_minor_ticks\":0},\"id\":\"9888\",\"type\":\"AdaptiveTicker\"},{\"attributes\":{\"line_alpha\":0.5,\"line_color\":\"navy\",\"line_width\":5,\"x\":{\"field\":\"date\"},\"y\":{\"field\":\"confirmed_cases\"}},\"id\":\"9902\",\"type\":\"Line\"},{\"attributes\":{},\"id\":\"10447\",\"type\":\"Selection\"},{\"attributes\":{},\"id\":\"9863\",\"type\":\"WheelZoomTool\"},{\"attributes\":{\"data\":{\"confirmed_cases\":{\"__ndarray__\":\"AAAAAAAA4D8AAAAAAAAAAAAAAAAAAPA/AAAAAAAAAAAAAAAAAADgPwAAAAAAANA/AAAAAAAA+D9VVVVVVVXVPwAAAAAAAABAAAAAAAAA4D8AAAAAAAAAQAAAAAAAAOA/AAAAAAAAAEAAAAAAAAAAQAAAAAAAAAAAAAAAAAAAAAAAAAAAAAAAAAAAAAAAAAAAAAAAAAAA4D8AAAAAAADwPwAAAAAAAAhAAAAAAAAAAABVVVVVVVXVPwAAAAAAAAAAq6qqqqqqCkAAAAAAAAAAAAAAAAAAAAAAVVVVVVVV5T8AAAAAAADgPwAAAAAAAAAAVVVVVVVV1T8AAAAAAAAAQAAAAAAAAOA/AAAAAAAAFEAAAAAAAAAAAFVVVVVVVdU/AAAAAAAAEEAAAAAAAAAAAAAAAAAAABBAAAAAAAAA4D8AAAAAAAAAAFVVVVVVVdU/AAAAAAAACEAAAAAAAAAAgAAAAAAAAPA/AAAAAAAAAAAAAAAAAAAIQAAAAAAAAAAAAAAAAAAA0D8AAAAAAAAQQAAAAAAAANA/AAAAAAAAAAAAAAAAAADwPwAAAAAAAPA/VVVVVVVV9T8AAAAAAAAAAAAAAAAAAABAAAAAAAAAAEAAAAAAAADQPwAAAAAAAAAAAAAAAAAA0D8AAAAAAADwPwAAAAAAAAAAAAAAAAAAAAAAAAAAAADgPw==\",\"dtype\":\"float64\",\"shape\":[65]},\"date\":{\"__ndarray__\":\"AABACa8Od0IAAABvAQ93QgAAgDqmD3dCAABAoPgPd0IAAIDR7xB3QgAAAJ2UEXdCAADAAucRd0IAAIBoORJ3QgAAQM6LEndCAAAANN4Sd0IAAMCZMBN3QgAAgP+CE3dCAABAZdUTd0IAAADLJxR3QgAAwDB6FHdCAABA/B4Vd0IAAMDHwxV3QgAAQJNoFndCAADAXg0Xd0IAAIDEXxd3QgAAQCqyF3dCAAAAkAQYd0IAAIBbqRh3QgAAQMH7GHdCAADAjKAZd0IAAIDy8hl3QgAAwCPqGndCAAAAVeEbd0IAAMC6Mxx3QgAAgCCGHHdCAAAA7Codd0IAAMBRfR13QgAAgLfPHXdCAABAHSIed0IAAACDdB53QgAAgE4ZH3dCAABAtGsfd0IAAAAavh93QgAAQEu1IHdCAAAAsQchd0IAAMAWWiF3QgAAQOL+IXdCAAAASFEid0IAAIAT9iJ3QgAAAN+aI3dCAADARO0jd0IAAAB25CR3QgAAwNs2JXdCAABAp9sld0IAAAANLiZ3QgAAwHKAJndCAACA2NImd0IAAACkdyd3QgAAwAnKJ3dCAACAbxwod0IAAEDVbih3QgAAwKATKXdCAACABmYpd0IAAEBsuCl3QgAAANIKKndCAACAna8qd0IAAEADAit3QgAAAGlUK3dCAACANPkrd0IAAAAAnix3Qg==\",\"dtype\":\"float64\",\"shape\":[65]},\"index\":[0,1,2,3,4,5,6,7,8,9,10,11,12,13,14,15,16,17,18,19,20,21,22,23,24,25,26,27,28,29,30,31,32,33,34,35,36,37,38,39,40,41,42,43,44,45,46,47,48,49,50,51,52,53,54,55,56,57,58,59,60,61,62,63,64]},\"selected\":{\"id\":\"9925\"},\"selection_policy\":{\"id\":\"9924\"}},\"id\":\"9841\",\"type\":\"ColumnDataSource\"},{\"attributes\":{\"base\":24,\"mantissas\":[1,2,4,6,8,12],\"max_interval\":43200000.0,\"min_interval\":3600000.0,\"num_minor_ticks\":0},\"id\":\"9889\",\"type\":\"AdaptiveTicker\"},{\"attributes\":{\"data_source\":{\"id\":\"9927\"},\"glyph\":{\"id\":\"9929\"},\"hover_glyph\":null,\"muted_glyph\":null,\"nonselection_glyph\":{\"id\":\"9930\"},\"selection_glyph\":null,\"view\":{\"id\":\"9932\"}},\"id\":\"9931\",\"type\":\"GlyphRenderer\"},{\"attributes\":{\"overlay\":{\"id\":\"9868\"}},\"id\":\"9864\",\"type\":\"BoxZoomTool\"},{\"attributes\":{},\"id\":\"9852\",\"type\":\"LinearScale\"},{\"attributes\":{\"days\":[1,2,3,4,5,6,7,8,9,10,11,12,13,14,15,16,17,18,19,20,21,22,23,24,25,26,27,28,29,30,31]},\"id\":\"9890\",\"type\":\"DaysTicker\"},{\"attributes\":{},\"id\":\"10446\",\"type\":\"UnionRenderers\"},{\"attributes\":{},\"id\":\"9865\",\"type\":\"SaveTool\"},{\"attributes\":{\"data\":{\"confirmed_cases\":{\"__ndarray__\":\"AAAAAAAA8D8AAAAAAAD4PwAAAAAAAPA/AAAAAAAA6j8zMzMzMzPrPzMzMzMzM/c/MzMzMzMz8z+7u7u7u7v7PxzHcRzHcfg/z/M8z/M89z9hGIZhGIb5P7Ef+7Ef+/k/jdZojdZo9T+ZmZmZmZn1P5D92I/92PM/53QzbWdO8z+fzD0oIP3xP3LMroNzLec/+twSp37P1z/x7u7u7u7YPy35xZJfLO0/tmALtmAL8T++f4emIhPxPwcSrO+0N/I/jZUZeLNs8z9wwdda3yr2P1+9lkrb6fU/sF5Lpe30AkDLCx3AmsYBQMeQVevZ5wJAzb/8y7/8AkB1PddzPdcCQEEKpEAKpAFAKpESKZESAkBTIiVSIiX0P30K/SW1p/I/Dy9GuNnw+j/GnCFvR8z5P+QDd/7K6Pg/2U0W8xSI+T9z56+MriHzPzubszmbswBA7LwrMNSI9D+jKgfnQWT3P9srexbSgfQ/8AZRvdGg/T+HdkpUQZr8Pxmbk+Zl4/4/0AhvndO+9T+bWPdQxtL3P7ZDO7RDO/c/ZjzGYzzG9j+EkKGyw9TsP/sHGSo7TOw/bCTgm1cT5j9LZYepy+3dP6XiaQkS4tw/+KZ0DBA87z+Bzy1x6vfwP5CClHC4KOw/7ZBE3asO+z8Pnhb+uOD7P3qHXP55d/o/78Iu7MIu/j+JpqSGpqT4P+ZwSuNwSvk/+7Kh681r+T/jORDUVNrxP/WkG+W/5fI/gW/EcYqO8T8px/X0mC3wP4/wlieUBu4/KH0Z9E5R8z8HC0ngwbbzP6I9RNlog/I/U+70iRk08z8QtnBG4a/1P82o5Scdt/M/yAQxDByO9j9v5RYh2CrxP45NEUBAJfA/uYwyDgt1+D8zKxqIqVz6P6Vs4I3Cc/g/7w3112OI+j/5/4n4spH4Pw==\",\"dtype\":\"float64\",\"shape\":[86]},\"date\":{\"__ndarray__\":\"AAAAbwEPd0IAAMDUUw93QgAAgDqmD3dCAADAa50Qd0IAAIDR7xB3QgAAQDdCEXdCAAAAnZQRd0IAAMAC5xF3QgAAgGg5EndCAABAzosSd0IAAAA03hJ3QgAAwJkwE3dCAACA/4ITd0IAAEBl1RN3QgAAAMsnFHdCAADAMHoUd0IAAABicRV3QgAAwMfDFXdCAABAk2gWd0IAAAD5uhZ3QgAAwF4NF3dCAACAxF8Xd0IAAEAqshd3QgAAAJAEGHdCAADA9VYYd0IAAIBbqRh3QgAAQMH7GHdCAAAAJ04Zd0IAAMCMoBl3QgAAgPLyGXdCAABAWEUad0IAAAC+lxp3QgAAwCPqGndCAACAiTwbd0IAAEDvjht3QgAAAFXhG3dCAADAujMcd0IAAIAghhx3QgAAAOwqHXdCAADAUX0dd0IAAIC3zx13QgAAQB0iHndCAAAAg3Qed0IAAMDoxh53QgAAgE4ZH3dCAABAtGsfd0IAAAAavh93QgAAwH8QIHdCAACA5WIgd0IAAEBLtSB3QgAAALEHIXdCAADAFlohd0IAAEDi/iF3QgAAAEhRIndCAADAraMid0IAAIAT9iJ3QgAAAN+aI3dCAADARO0jd0IAAICqPyR3QgAAQBCSJHdCAAAAduQkd0IAAMDbNiV3QgAAgEGJJXdCAABAp9sld0IAAAANLiZ3QgAAwHKAJndCAACA2NImd0IAAEA+JSd3QgAAAKR3J3dCAADACcond0IAAIBvHCh3QgAAQNVuKHdCAAAAO8Eod0IAAMCgEyl3QgAAgAZmKXdCAABAbLgpd0IAAADSCip3QgAAwDddKndCAACAna8qd0IAAEADAit3QgAAAGlUK3dCAADAzqYrd0IAAIA0+St3QgAAQJpLLHdCAAAAAJ4sd0IAAMBl8Cx3Qg==\",\"dtype\":\"float64\",\"shape\":[86]},\"index\":[0,1,2,3,4,5,6,7,8,9,10,11,12,13,14,15,16,17,18,19,20,21,22,23,24,25,26,27,28,29,30,31,32,33,34,35,36,37,38,39,40,41,42,43,44,45,46,47,48,49,50,51,52,53,54,55,56,57,58,59,60,61,62,63,64,65,66,67,68,69,70,71,72,73,74,75,76,77,78,79,80,81,82,83,84,85]},\"selected\":{\"id\":\"9985\"},\"selection_policy\":{\"id\":\"9984\"}},\"id\":\"9927\",\"type\":\"ColumnDataSource\"},{\"attributes\":{\"days\":[1,4,7,10,13,16,19,22,25,28]},\"id\":\"9891\",\"type\":\"DaysTicker\"},{\"attributes\":{},\"id\":\"9866\",\"type\":\"ResetTool\"},{\"attributes\":{},\"id\":\"9846\",\"type\":\"DataRange1d\"},{\"attributes\":{\"days\":[1,8,15,22]},\"id\":\"9892\",\"type\":\"DaysTicker\"},{\"attributes\":{},\"id\":\"9953\",\"type\":\"UnionRenderers\"},{\"attributes\":{},\"id\":\"9954\",\"type\":\"Selection\"},{\"attributes\":{},\"id\":\"9867\",\"type\":\"HelpTool\"},{\"attributes\":{\"data\":{\"confirmed_cases\":{\"__ndarray__\":\"AAAAAAAA4D8AAAAAAADQPwAAAAAAAOA/AAAAAAAA2D8AAAAAAADYPwAAAAAAAANAMzMzMzMz/z9mZmZmZmYAQO/u7u7u7gBAchzHcRzHAEB6nud5nuf9P6uqqqqqqgBADcMwDMMw8D8NwzAMwzD0P1ZVVVVVVfU/JUmSJEmS9D9VVVVVVVXxP5qZmZmZmek/AAAAAAAAAAAAAAAAAADAPwAAAAAAANg/zczMzMzM7D/NzMzMzMzsP+7u7u7u7u4/cRzHcRzH6T9VVVVVVVX1P3Z3d3d3d+c/qaqqqqqq6j8Rx3Ecx3HMPzOO4ziO49g/pqqqqqqq0j/7///////XP2VmZmZmZuY/VFVVVVVV5T+N4ziO4zj2PziO4ziO4/Q/cRzHcRzH9T/jOI7jOI7/P43jOI7jOPo/qqqqqqqqAEBDRERERET8PzIzMzMzM/s/U1VVVVVV8z8PERERERH5P4WIiIiIiOg/U1VVVVVV8T+4u7u7u7vrP/v//////+8/+///////7z/7///////pP/7///////w//v//////9z/////////zP5iZmZmZmfE/VFVVVVVV8T+N4ziO4zj0P8RxHMdxHOM/DxERERER8T/iOI7jOI7zP+I4juM4jvE/bxzHcRzH7T/KzMzMzMzsP1NVVVVVVe0/qKqqqqqq4j/z///////PP2BmZmZmZtY//v//////9z8=\",\"dtype\":\"float64\",\"shape\":[67]},\"date\":{\"__ndarray__\":\"AABACa8Od0IAAABvAQ93QgAAgDqmD3dCAABAoPgPd0IAAIDR7xB3QgAAQDdCEXdCAAAAnZQRd0IAAMAC5xF3QgAAgGg5EndCAABAzosSd0IAAAA03hJ3QgAAwJkwE3dCAACA/4ITd0IAAEBl1RN3QgAAAMsnFHdCAADAMHoUd0IAAED8HhV3QgAAwMfDFXdCAABAk2gWd0IAAMBeDRd3QgAAgMRfF3dCAABAKrIXd0IAAACQBBh3QgAAgFupGHdCAABAwfsYd0IAAMCMoBl3QgAAgPLyGXdCAADAI+oad0IAAABV4Rt3QgAAwLozHHdCAACAIIYcd0IAAADsKh13QgAAwFF9HXdCAACAt88dd0IAAEAdIh53QgAAAIN0HndCAACAThkfd0IAAEC0ax93QgAAABq+H3dCAABAS7Ugd0IAAACxByF3QgAAwBZaIXdCAABA4v4hd0IAAABIUSJ3QgAAgBP2IndCAAAA35ojd0IAAMBE7SN3QgAAAHbkJHdCAADA2zYld0IAAECn2yV3QgAAAA0uJndCAADAcoAmd0IAAIDY0iZ3QgAAAKR3J3dCAADACcond0IAAIBvHCh3QgAAQNVuKHdCAADAoBMpd0IAAIAGZil3QgAAQGy4KXdCAAAA0goqd0IAAICdryp3QgAAQAMCK3dCAAAAaVQrd0IAAIA0+St3QgAAAACeLHdCAADAZfAsd0I=\",\"dtype\":\"float64\",\"shape\":[67]},\"index\":[0,1,2,3,4,5,6,7,8,9,10,11,12,13,14,15,16,17,18,19,20,21,22,23,24,25,26,27,28,29,30,31,32,33,34,35,36,37,38,39,40,41,42,43,44,45,46,47,48,49,50,51,52,53,54,55,56,57,58,59,60,61,62,63,64,65,66]},\"selected\":{\"id\":\"9954\"},\"selection_policy\":{\"id\":\"9953\"}},\"id\":\"9842\",\"type\":\"ColumnDataSource\"},{\"attributes\":{\"days\":[1,15]},\"id\":\"9893\",\"type\":\"DaysTicker\"},{\"attributes\":{},\"id\":\"9925\",\"type\":\"Selection\"},{\"attributes\":{},\"id\":\"9848\",\"type\":\"DataRange1d\"},{\"attributes\":{\"months\":[0,1,2,3,4,5,6,7,8,9,10,11]},\"id\":\"9894\",\"type\":\"MonthsTicker\"},{\"attributes\":{\"active_drag\":\"auto\",\"active_inspect\":\"auto\",\"active_multi\":null,\"active_scroll\":\"auto\",\"active_tap\":\"auto\",\"tools\":[{\"id\":\"9862\"},{\"id\":\"9863\"},{\"id\":\"9864\"},{\"id\":\"9865\"},{\"id\":\"9866\"},{\"id\":\"9867\"}]},\"id\":\"9869\",\"type\":\"Toolbar\"},{\"attributes\":{\"data_source\":{\"id\":\"9956\"},\"glyph\":{\"id\":\"9958\"},\"hover_glyph\":null,\"muted_glyph\":null,\"nonselection_glyph\":{\"id\":\"9959\"},\"selection_glyph\":null,\"view\":{\"id\":\"9961\"}},\"id\":\"9960\",\"type\":\"GlyphRenderer\"},{\"attributes\":{\"months\":[0,2,4,6,8,10]},\"id\":\"9895\",\"type\":\"MonthsTicker\"},{\"attributes\":{\"label\":{\"value\":\"7-day rolling avg (NoHo)\"},\"renderers\":[{\"id\":\"9931\"}]},\"id\":\"9955\",\"type\":\"LegendItem\"},{\"attributes\":{},\"id\":\"9850\",\"type\":\"LinearScale\"},{\"attributes\":{\"source\":{\"id\":\"9842\"}},\"id\":\"9905\",\"type\":\"CDSView\"},{\"attributes\":{\"months\":[0,4,8]},\"id\":\"9896\",\"type\":\"MonthsTicker\"},{\"attributes\":{\"text\":\"Encino case growth rate (trimmed)\"},\"id\":\"9844\",\"type\":\"Title\"},{\"attributes\":{\"months\":[0,6]},\"id\":\"9897\",\"type\":\"MonthsTicker\"},{\"attributes\":{},\"id\":\"9924\",\"type\":\"UnionRenderers\"},{\"attributes\":{\"line_alpha\":0.1,\"line_color\":\"navy\",\"line_width\":5,\"x\":{\"field\":\"date\"},\"y\":{\"field\":\"confirmed_cases\"}},\"id\":\"9903\",\"type\":\"Line\"},{\"attributes\":{\"num_minor_ticks\":5,\"tickers\":[{\"id\":\"9887\"},{\"id\":\"9888\"},{\"id\":\"9889\"},{\"id\":\"9890\"},{\"id\":\"9891\"},{\"id\":\"9892\"},{\"id\":\"9893\"},{\"id\":\"9894\"},{\"id\":\"9895\"},{\"id\":\"9896\"},{\"id\":\"9897\"},{\"id\":\"9898\"}]},\"id\":\"9855\",\"type\":\"DatetimeTicker\"},{\"attributes\":{},\"id\":\"9898\",\"type\":\"YearsTicker\"},{\"attributes\":{\"data_source\":{\"id\":\"9842\"},\"glyph\":{\"id\":\"9902\"},\"hover_glyph\":null,\"muted_glyph\":null,\"nonselection_glyph\":{\"id\":\"9903\"},\"selection_glyph\":null,\"view\":{\"id\":\"9905\"}},\"id\":\"9904\",\"type\":\"GlyphRenderer\"},{\"attributes\":{\"line_alpha\":0.1,\"line_color\":\"grey\",\"line_width\":5,\"x\":{\"field\":\"date\"},\"y\":{\"field\":\"new_confirmed_cases\"}},\"id\":\"9959\",\"type\":\"Line\"}],\"root_ids\":[\"9843\"]},\"title\":\"Bokeh Application\",\"version\":\"2.0.2\"}};\n",
       "  var render_items = [{\"docid\":\"299894a5-e435-4d75-aded-0c9035db9d67\",\"root_ids\":[\"9843\"],\"roots\":{\"9843\":\"f455304f-decc-4459-92d4-c3dbc01585e8\"}}];\n",
       "  root.Bokeh.embed.embed_items_notebook(docs_json, render_items);\n",
       "\n",
       "  }\n",
       "  if (root.Bokeh !== undefined) {\n",
       "    embed_document(root);\n",
       "  } else {\n",
       "    var attempts = 0;\n",
       "    var timer = setInterval(function(root) {\n",
       "      if (root.Bokeh !== undefined) {\n",
       "        clearInterval(timer);\n",
       "        embed_document(root);\n",
       "      } else {\n",
       "        attempts++;\n",
       "        if (attempts > 100) {\n",
       "          clearInterval(timer);\n",
       "          console.log(\"Bokeh: ERROR: Unable to run BokehJS code because BokehJS library is missing\");\n",
       "        }\n",
       "      }\n",
       "    }, 10, root)\n",
       "  }\n",
       "})(window);"
      ],
      "application/vnd.bokehjs_exec.v0+json": ""
     },
     "metadata": {
      "application/vnd.bokehjs_exec.v0+json": {
       "id": "9843"
      }
     },
     "output_type": "display_data"
    },
    {
     "data": {
      "text/html": [
       "\n",
       "\n",
       "\n",
       "\n",
       "\n",
       "\n",
       "  <div class=\"bk-root\" id=\"1990ed4a-3fc3-40eb-84df-ee40e8ef0a87\" data-root-id=\"10606\"></div>\n"
      ]
     },
     "metadata": {},
     "output_type": "display_data"
    },
    {
     "data": {
      "application/javascript": [
       "(function(root) {\n",
       "  function embed_document(root) {\n",
       "    \n",
       "  var docs_json = {\"b736ac1d-2e3f-4df2-b9d0-f2fbe974afc4\":{\"roots\":{\"references\":[{\"attributes\":{\"below\":[{\"id\":\"10617\"}],\"center\":[{\"id\":\"10620\"},{\"id\":\"10624\"},{\"id\":\"10662\"},{\"id\":\"10750\"}],\"left\":[{\"id\":\"10621\"}],\"plot_height\":400,\"plot_width\":1000,\"renderers\":[{\"id\":\"10642\"},{\"id\":\"10667\"},{\"id\":\"10694\"},{\"id\":\"10723\"}],\"title\":{\"id\":\"10607\"},\"toolbar\":{\"id\":\"10632\"},\"x_range\":{\"id\":\"10609\"},\"x_scale\":{\"id\":\"10613\"},\"y_range\":{\"id\":\"10611\"},\"y_scale\":{\"id\":\"10615\"}},\"id\":\"10606\",\"subtype\":\"Figure\",\"type\":\"Plot\"},{\"attributes\":{\"source\":{\"id\":\"10604\"}},\"id\":\"10643\",\"type\":\"CDSView\"},{\"attributes\":{},\"id\":\"10688\",\"type\":\"Selection\"},{\"attributes\":{\"base\":60,\"mantissas\":[1,2,5,10,15,20,30],\"max_interval\":1800000.0,\"min_interval\":1000.0,\"num_minor_ticks\":0},\"id\":\"10651\",\"type\":\"AdaptiveTicker\"},{\"attributes\":{},\"id\":\"10716\",\"type\":\"UnionRenderers\"},{\"attributes\":{},\"id\":\"10625\",\"type\":\"PanTool\"},{\"attributes\":{\"source\":{\"id\":\"10690\"}},\"id\":\"10695\",\"type\":\"CDSView\"},{\"attributes\":{},\"id\":\"11236\",\"type\":\"Selection\"},{\"attributes\":{\"data_source\":{\"id\":\"10690\"},\"glyph\":{\"id\":\"10692\"},\"hover_glyph\":null,\"muted_glyph\":null,\"nonselection_glyph\":{\"id\":\"10693\"},\"selection_glyph\":null,\"view\":{\"id\":\"10695\"}},\"id\":\"10694\",\"type\":\"GlyphRenderer\"},{\"attributes\":{\"base\":24,\"mantissas\":[1,2,4,6,8,12],\"max_interval\":43200000.0,\"min_interval\":3600000.0,\"num_minor_ticks\":0},\"id\":\"10652\",\"type\":\"AdaptiveTicker\"},{\"attributes\":{},\"id\":\"10626\",\"type\":\"WheelZoomTool\"},{\"attributes\":{\"line_alpha\":0.1,\"line_color\":\"red\",\"line_width\":5,\"x\":{\"field\":\"date\"},\"y\":{\"field\":\"confirmed_cases\"}},\"id\":\"10693\",\"type\":\"Line\"},{\"attributes\":{\"days\":[1,2,3,4,5,6,7,8,9,10,11,12,13,14,15,16,17,18,19,20,21,22,23,24,25,26,27,28,29,30,31]},\"id\":\"10653\",\"type\":\"DaysTicker\"},{\"attributes\":{\"overlay\":{\"id\":\"10631\"}},\"id\":\"10627\",\"type\":\"BoxZoomTool\"},{\"attributes\":{\"days\":[1,4,7,10,13,16,19,22,25,28]},\"id\":\"10654\",\"type\":\"DaysTicker\"},{\"attributes\":{},\"id\":\"10628\",\"type\":\"SaveTool\"},{\"attributes\":{\"line_alpha\":0.2,\"line_color\":\"red\",\"line_width\":5,\"x\":{\"field\":\"date\"},\"y\":{\"field\":\"confirmed_cases\"}},\"id\":\"10692\",\"type\":\"Line\"},{\"attributes\":{\"days\":[1,8,15,22]},\"id\":\"10655\",\"type\":\"DaysTicker\"},{\"attributes\":{},\"id\":\"10611\",\"type\":\"DataRange1d\"},{\"attributes\":{},\"id\":\"10629\",\"type\":\"ResetTool\"},{\"attributes\":{\"line_alpha\":0.1,\"line_color\":\"navy\",\"line_width\":5,\"x\":{\"field\":\"date\"},\"y\":{\"field\":\"confirmed_cases\"}},\"id\":\"10666\",\"type\":\"Line\"},{\"attributes\":{\"days\":[1,15]},\"id\":\"10656\",\"type\":\"DaysTicker\"},{\"attributes\":{},\"id\":\"10630\",\"type\":\"HelpTool\"},{\"attributes\":{},\"id\":\"10717\",\"type\":\"Selection\"},{\"attributes\":{\"label\":{\"value\":\"7-day rolling avg (NoHo)\"},\"renderers\":[{\"id\":\"10694\"}]},\"id\":\"10718\",\"type\":\"LegendItem\"},{\"attributes\":{\"months\":[0,1,2,3,4,5,6,7,8,9,10,11]},\"id\":\"10657\",\"type\":\"MonthsTicker\"},{\"attributes\":{\"active_drag\":\"auto\",\"active_inspect\":\"auto\",\"active_multi\":null,\"active_scroll\":\"auto\",\"active_tap\":\"auto\",\"tools\":[{\"id\":\"10625\"},{\"id\":\"10626\"},{\"id\":\"10627\"},{\"id\":\"10628\"},{\"id\":\"10629\"},{\"id\":\"10630\"}]},\"id\":\"10632\",\"type\":\"Toolbar\"},{\"attributes\":{\"formatter\":{\"id\":\"10646\"},\"ticker\":{\"id\":\"10618\"}},\"id\":\"10617\",\"type\":\"DatetimeAxis\"},{\"attributes\":{\"months\":[0,2,4,6,8,10]},\"id\":\"10658\",\"type\":\"MonthsTicker\"},{\"attributes\":{\"formatter\":{\"id\":\"10648\"},\"ticker\":{\"id\":\"10622\"}},\"id\":\"10621\",\"type\":\"LinearAxis\"},{\"attributes\":{\"data_source\":{\"id\":\"10719\"},\"glyph\":{\"id\":\"10721\"},\"hover_glyph\":null,\"muted_glyph\":null,\"nonselection_glyph\":{\"id\":\"10722\"},\"selection_glyph\":null,\"view\":{\"id\":\"10724\"}},\"id\":\"10723\",\"type\":\"GlyphRenderer\"},{\"attributes\":{},\"id\":\"10622\",\"type\":\"BasicTicker\"},{\"attributes\":{\"months\":[0,4,8]},\"id\":\"10659\",\"type\":\"MonthsTicker\"},{\"attributes\":{},\"id\":\"10613\",\"type\":\"LinearScale\"},{\"attributes\":{},\"id\":\"10687\",\"type\":\"UnionRenderers\"},{\"attributes\":{\"num_minor_ticks\":5,\"tickers\":[{\"id\":\"10650\"},{\"id\":\"10651\"},{\"id\":\"10652\"},{\"id\":\"10653\"},{\"id\":\"10654\"},{\"id\":\"10655\"},{\"id\":\"10656\"},{\"id\":\"10657\"},{\"id\":\"10658\"},{\"id\":\"10659\"},{\"id\":\"10660\"},{\"id\":\"10661\"}]},\"id\":\"10618\",\"type\":\"DatetimeTicker\"},{\"attributes\":{\"months\":[0,6]},\"id\":\"10660\",\"type\":\"MonthsTicker\"},{\"attributes\":{\"label\":{\"value\":\"7-day rolling avg (Glendale)\"},\"renderers\":[{\"id\":\"10667\"}]},\"id\":\"10689\",\"type\":\"LegendItem\"},{\"attributes\":{},\"id\":\"10661\",\"type\":\"YearsTicker\"},{\"attributes\":{\"line_alpha\":0.1,\"line_color\":\"grey\",\"line_width\":5,\"x\":{\"field\":\"date\"},\"y\":{\"field\":\"new_confirmed_cases\"}},\"id\":\"10722\",\"type\":\"Line\"},{\"attributes\":{\"bottom_units\":\"screen\",\"fill_alpha\":0.5,\"fill_color\":\"lightgrey\",\"left_units\":\"screen\",\"level\":\"overlay\",\"line_alpha\":1.0,\"line_color\":\"black\",\"line_dash\":[4,4],\"line_width\":2,\"render_mode\":\"css\",\"right_units\":\"screen\",\"top_units\":\"screen\"},\"id\":\"10631\",\"type\":\"BoxAnnotation\"},{\"attributes\":{\"axis\":{\"id\":\"10617\"},\"ticker\":null},\"id\":\"10620\",\"type\":\"Grid\"},{\"attributes\":{\"items\":[{\"id\":\"10663\"},{\"id\":\"10689\"},{\"id\":\"10718\"},{\"id\":\"10749\"}],\"location\":\"bottom_left\"},\"id\":\"10662\",\"type\":\"Legend\"},{\"attributes\":{\"data\":{\"confirmed_cases\":{\"__ndarray__\":\"AAAAAAAA8D8AAAAAAADgP1VVVVVVVeU/AAAAAAAA9D8RERERERHxP0RERERERPQ/7u7u7u7uAkArBWr9SoEAQBnYO6YG9v4/WAwSLs3w/z8l2d76mb38P/PMG8qN+v0/NzCZMjoK+z+sgKCnihHwP9DcOolKFvI/AOn9uVbZ8j8Bq4txhkLxP54+rj3UTfA/YGDK//Vp8D+K2AMFJRHxP+B91NYW7+4/kPGNsE4C5j9RCPpxZW7nP9f5nd/5neM/vFVcxVVc6T9Dt3RLt3TnPxMWt8bAYe0/xhDoN+ye8T927EWhsJ/yP5o12MX5MfE/M89xX5PL8j+CkD2JCwX4P4ZaAh/6Evg/v+jlV4j2+D+1TCVO7DX3P5GaJNWe6/U/1f2hPUv7+D+AqEzo9aX3PzLngL59bPI/9ReNga549T8ZYR+m9wryP8NbW/wdzvE/uRVUt8jz6j+nk7hmgKAEQAUIiqyX/QJAw8ZIa1a8AUAZHJ7AqxEDQIc0czvU+gBA60TsG//UAkDvQPKSzCADQLk4UgFQr/E/Uy0awwjR9D/qMfpZDbHzP+ox+lkNsfM/mR21CPlr8j88PWA1HNzwP0vUDNJpVec/cB2f9rLn6z8VbZmbAuLoP7NP6+3PqOo/SKDMzjUV7D+gQjAPOofwP/NRxpfd9PE/CMauUd0L7j869675TEnwP2cN82ag++8/RqvCxfRG8D/fRFxfjuDxPwN4KOytvO8/2qajzsFt8D/gCyrJQb7sP18yJmMyJu8//v///////T9HkiRJkiT9P6NcyqVcyvk/p4M6qIM6AkBFa7RGa7QBQEVrtEZrtAFAOaiDOqiDAUB6xVd8xVf6P9fY2NjY2Po/yhWozBWo/j++UnfAUnf0PxuhOIx87/M/jlAcRr73DUCpDqSKbtkNQJ5YQ3+4eApAmnmte9niCkDOrOCuDBYKQA==\",\"dtype\":\"float64\",\"shape\":[89]},\"date\":{\"__ndarray__\":\"AABACa8Od0IAAABvAQ93QgAAQKD4D3dCAAAABksQd0IAAMBrnRB3QgAAgNHvEHdCAABAN0IRd0IAAACdlBF3QgAAwALnEXdCAACAaDkSd0IAAEDOixJ3QgAAADTeEndCAADAmTATd0IAAID/ghN3QgAAQGXVE3dCAAAAyycUd0IAAMAwehR3QgAAgJbMFHdCAABA/B4Vd0IAAABicRV3QgAAwMfDFXdCAABAk2gWd0IAAAD5uhZ3QgAAwF4NF3dCAACAxF8Xd0IAAEAqshd3QgAAAJAEGHdCAADA9VYYd0IAAIBbqRh3QgAAQMH7GHdCAAAAJ04Zd0IAAMCMoBl3QgAAgPLyGXdCAABAWEUad0IAAAC+lxp3QgAAwCPqGndCAACAiTwbd0IAAEDvjht3QgAAAFXhG3dCAADAujMcd0IAAIAghhx3QgAAAOwqHXdCAADAUX0dd0IAAIC3zx13QgAAQB0iHndCAAAAg3Qed0IAAMDoxh53QgAAgE4ZH3dCAABAtGsfd0IAAAAavh93QgAAwH8QIHdCAACA5WIgd0IAAEBLtSB3QgAAALEHIXdCAADAFlohd0IAAEDi/iF3QgAAAEhRIndCAADAraMid0IAAIAT9iJ3QgAAAN+aI3dCAADARO0jd0IAAICqPyR3QgAAQBCSJHdCAAAAduQkd0IAAMDbNiV3QgAAgEGJJXdCAABAp9sld0IAAAANLiZ3QgAAwHKAJndCAACA2NImd0IAAEA+JSd3QgAAAKR3J3dCAADACcond0IAAIBvHCh3QgAAQNVuKHdCAAAAO8Eod0IAAMCgEyl3QgAAgAZmKXdCAABAbLgpd0IAAADSCip3QgAAwDddKndCAACAna8qd0IAAEADAit3QgAAAGlUK3dCAADAzqYrd0IAAIA0+St3QgAAQJpLLHdCAAAAAJ4sd0IAAMBl8Cx3Qg==\",\"dtype\":\"float64\",\"shape\":[89]},\"index\":[0,1,2,3,4,5,6,7,8,9,10,11,12,13,14,15,16,17,18,19,20,21,22,23,24,25,26,27,28,29,30,31,32,33,34,35,36,37,38,39,40,41,42,43,44,45,46,47,48,49,50,51,52,53,54,55,56,57,58,59,60,61,62,63,64,65,66,67,68,69,70,71,72,73,74,75,76,77,78,79,80,81,82,83,84,85,86,87,88]},\"selected\":{\"id\":\"10717\"},\"selection_policy\":{\"id\":\"10716\"}},\"id\":\"10605\",\"type\":\"ColumnDataSource\"},{\"attributes\":{\"data_source\":{\"id\":\"10604\"},\"glyph\":{\"id\":\"10640\"},\"hover_glyph\":null,\"muted_glyph\":null,\"nonselection_glyph\":{\"id\":\"10641\"},\"selection_glyph\":null,\"view\":{\"id\":\"10643\"}},\"id\":\"10642\",\"type\":\"GlyphRenderer\"},{\"attributes\":{},\"id\":\"10747\",\"type\":\"UnionRenderers\"},{\"attributes\":{\"data\":{\"date\":{\"__ndarray__\":\"AADAa50Qd0IAAIDR7xB3QgAAQDdCEXdCAAAAnZQRd0IAAMAC5xF3QgAAgGg5EndCAABAzosSd0IAAAA03hJ3QgAAwJkwE3dCAACA/4ITd0IAAEBl1RN3QgAAAMsnFHdCAADAMHoUd0IAAICWzBR3QgAAQPweFXdCAAAAYnEVd0IAAMDHwxV3QgAAgC0WFndCAABAk2gWd0IAAAD5uhZ3QgAAwF4NF3dCAACAxF8Xd0IAAEAqshd3QgAAAJAEGHdCAADA9VYYd0IAAIBbqRh3QgAAQMH7GHdCAAAAJ04Zd0IAAMCMoBl3QgAAgPLyGXdCAABAWEUad0IAAAC+lxp3QgAAwCPqGndCAACAiTwbd0IAAEDvjht3QgAAAFXhG3dCAADAujMcd0IAAIAghhx3QgAAQIbYHHdCAAAA7Codd0IAAMBRfR13QgAAgLfPHXdCAABAHSIed0IAAACDdB53QgAAwOjGHndCAACAThkfd0IAAEC0ax93QgAAABq+H3dCAADAfxAgd0IAAIDlYiB3QgAAQEu1IHdCAAAAsQchd0IAAMAWWiF3QgAAgHysIXdCAABA4v4hd0IAAABIUSJ3QgAAwK2jIndCAACAE/Yid0IAAEB5SCN3QgAAAN+aI3dCAADARO0jd0IAAICqPyR3QgAAQBCSJHdCAAAAduQkd0IAAMDbNiV3QgAAgEGJJXdCAABAp9sld0IAAAANLiZ3QgAAwHKAJndCAACA2NImd0IAAEA+JSd3QgAAAKR3J3dCAADACcond0IAAIBvHCh3QgAAQNVuKHdCAAAAO8Eod0IAAMCgEyl3QgAAgAZmKXdCAABAbLgpd0IAAADSCip3QgAAwDddKndCAACAna8qd0IAAEADAit3QgAAAGlUK3dCAADAzqYrd0IAAIA0+St3QgAAQJpLLHdCAAAAAJ4sd0IAAMBl8Cx3Qg==\",\"dtype\":\"float64\",\"shape\":[89]},\"index\":[0,1,2,3,4,5,6,7,8,9,10,11,12,13,14,15,16,17,18,19,20,21,22,23,24,25,26,27,28,29,30,31,32,33,34,35,36,37,38,39,40,41,42,43,44,45,46,47,48,49,50,51,52,53,54,55,56,57,58,59,60,61,62,63,64,65,66,67,68,69,70,71,72,73,74,75,76,77,78,79,80,81,82,83,84,85,86,87,88],\"new_confirmed_cases\":{\"__ndarray__\":\"AAAAAAAA+H+JRCKRSCTyPwbK1gdLFwBAucuuu3ev+D8gbhgi79j3PwlHz6MUNvY/eNfVzz1p9T9mjjW1v7/1P6b4xblTRPU/boaKDAcx8T+nNYWmAg7yP1+POsvGFvI/j5v9+9LZ8T8ReLgyD/LwPy3sQb+ucvA/w/gcFzLw8D9HBV3S2c7vP6oLCueyQ/A/In/RBW2d7j/OsiM3JNjtP+9xoUGG4e4/a7SsLNhY8T/1ToEv9nHwPzg4BfYI6PA/R+GAS5B68T9Wt93sbRfyP1/TJHzajvE/sgV40IDD+j/qbCRy/wn4P/InrX4sh/g/EY3QRUCQ+D+mT/6x32H3P3VNdZ1lFPY/KdSCjHCE9j9Azu4I3DbwP+tjb3MwHu8/kqtaS0iM8z9ZiwChOaPyP5iCzlE18vM/WkrJvB4C9D9t1H56tBP1P682J4BYsPE/yZzkJL0q9z+181ur4BzyP9lNfFL9fvM/9fK6xUJV8j8I20Sm02bzP4erW+54+vE/k6C0WPop8z+7VMdUrzXwP5iawilLI/I/GXXx3ww+8T/FqioiTVbxP9Ja77kIgvE/Dw1VM/e68T+WqmK9D5DwPwCnOUJ+ePI/tVj6LKwN8j9f65O4FXfyP3Eyqi8tFvI/BesC1r3Z8T9vJrkXbXryPwV39nxRUvM/35mFC4y+8T+97jYp4jnwP6QQtwhN/PA/feXWPcr68j95Sjwqdw/zP3hXpZoacPI/g8GIO/bP8T9nxTuoNz7wP/MNK0RcHPE/vZC5gCWL8T9dLX+2m6fvP/YqrDUN7O4/Op3aTNOb8D+clubVJRbwP3GjV54vw/A/89kozYHg8D/rQM5NoF3xP839Oei2LPE/0ShLhdku8T+8UsGCQxLwP5uJoPDhrPA/Wemv0A8T8T+dax4i/JTyP6wjmARREvA/TCTAgqH68D/2omM5PkHyPw==\",\"dtype\":\"float64\",\"shape\":[89]},\"new_deaths\":{\"__ndarray__\":\"AAAAAAAA+H8AAAAAAAD4P6qqqqqqqgBA4ziO4ziO+T93d3d3d/f3P9ajcD0K1/U/7+7u7u7u9T+eJezmtxD2P6WaPO4sYfU/yuPOEnbz8T9281sIGKXyP7cQMEo1efQ/hgRtGSm28z+F+9wYICbzPxfis2J02PM/L1xVeu558z9h0x1XEO3yP3H1EutsivI/ktiVd3i88D8P6mqyc9/yP/PzTgpPCfI/0uzc6UeX8T+AyreXJXLxP2fZUNOJYPI/wQ9QYPOS8j9Kroo3UsHzPxAWw+GMMvE/Z73yxGIc8T+iZGb/CZDzPxn5BPk2i/Q/6exByCrI8z8OAtpgEabzP5nXjzL+uPE/QUsO9p7+8T9Xqv8L/u/zP9nKB44e+PE/2swZMNE/8T9x2dpqq/zwP5pKUnWgg/E/+ZRs60cS8T8OqOBCcTjxP1ylf55TDfE/Im+gkBRj8T/TGwtMMiTxPzWNKQnWRvE/V5No1oYw8T+ISVfw36rxPz/EAqhaVvE/ktVN7YZr8z/fN+4N8tbxPwYdpHci1fE/xqu8ZBUP8j+hz3I/OcXxP0lTree8//E/2AfX/0u/8j9CNPeRvMftP1cAX39ER/U/tw6Ltt9m9D9Wflgp6xL0P3rH6k00pfM/41TBtsF79D+mb5/QftDzP4EmDaw1PvM/yrgx9cdi8j9ZnUCtaXD1P9eoQVC+A/U/6uDCY/aE9j/HjEstFlb1PybDnqvPnPU/J2K72dLa9j8P3FnBTHn0P/VI+W5RkvE/qbyNmgtW8j+rMKSWAivxP/UykDwj8/I/YS7bw+ip8j/7JF6mTFHxP/5Lzqhzwfc/eWcHQP2y+D9xFxWBvEX4P0j4GPezJPc/S+EWsQr++z8amx9l+pr7P6iosn426P0/iSbUD1bG9T/6sjlQ1mj1P8GZ9TEe3vU/7iVzxRDC9z/sB5PD8uHxPw==\",\"dtype\":\"float64\",\"shape\":[89]}},\"selected\":{\"id\":\"11236\"},\"selection_policy\":{\"id\":\"11235\"}},\"id\":\"10719\",\"type\":\"ColumnDataSource\"},{\"attributes\":{\"label\":{\"value\":\"daily case growth rate\"},\"renderers\":[{\"id\":\"10642\"}]},\"id\":\"10663\",\"type\":\"LegendItem\"},{\"attributes\":{\"line_alpha\":0.2,\"line_color\":\"grey\",\"line_width\":5,\"x\":{\"field\":\"date\"},\"y\":{\"field\":\"new_confirmed_cases\"}},\"id\":\"10721\",\"type\":\"Line\"},{\"attributes\":{\"source\":{\"id\":\"10719\"}},\"id\":\"10724\",\"type\":\"CDSView\"},{\"attributes\":{},\"id\":\"11235\",\"type\":\"UnionRenderers\"},{\"attributes\":{\"source\":{\"id\":\"10605\"}},\"id\":\"10668\",\"type\":\"CDSView\"},{\"attributes\":{},\"id\":\"10615\",\"type\":\"LinearScale\"},{\"attributes\":{\"data\":{\"confirmed_cases\":{\"__ndarray__\":\"AAAAAAAA8D8AAAAAAAD4PwAAAAAAAPA/AAAAAAAA6j8zMzMzMzPrPzMzMzMzM/c/MzMzMzMz8z+7u7u7u7v7PxzHcRzHcfg/z/M8z/M89z9hGIZhGIb5P7Ef+7Ef+/k/jdZojdZo9T+ZmZmZmZn1P5D92I/92PM/53QzbWdO8z+fzD0oIP3xP3LMroNzLec/+twSp37P1z/x7u7u7u7YPy35xZJfLO0/tmALtmAL8T++f4emIhPxPwcSrO+0N/I/jZUZeLNs8z9wwdda3yr2P1+9lkrb6fU/sF5Lpe30AkDLCx3AmsYBQMeQVevZ5wJAzb/8y7/8AkB1PddzPdcCQEEKpEAKpAFAKpESKZESAkBTIiVSIiX0P30K/SW1p/I/Dy9GuNnw+j/GnCFvR8z5P+QDd/7K6Pg/2U0W8xSI+T9z56+MriHzPzubszmbswBA7LwrMNSI9D+jKgfnQWT3P9srexbSgfQ/8AZRvdGg/T+HdkpUQZr8Pxmbk+Zl4/4/0AhvndO+9T+bWPdQxtL3P7ZDO7RDO/c/ZjzGYzzG9j+EkKGyw9TsP/sHGSo7TOw/bCTgm1cT5j9LZYepy+3dP6XiaQkS4tw/+KZ0DBA87z+Bzy1x6vfwP5CClHC4KOw/7ZBE3asO+z8Pnhb+uOD7P3qHXP55d/o/78Iu7MIu/j+JpqSGpqT4P+ZwSuNwSvk/+7Kh681r+T/jORDUVNrxP/WkG+W/5fI/gW/EcYqO8T8px/X0mC3wP4/wlieUBu4/KH0Z9E5R8z8HC0ngwbbzP6I9RNlog/I/U+70iRk08z8QtnBG4a/1P82o5Scdt/M/yAQxDByO9j9v5RYh2CrxP45NEUBAJfA/uYwyDgt1+D8zKxqIqVz6P6Vs4I3Cc/g/7w3112OI+j/5/4n4spH4Pw==\",\"dtype\":\"float64\",\"shape\":[86]},\"date\":{\"__ndarray__\":\"AAAAbwEPd0IAAMDUUw93QgAAgDqmD3dCAADAa50Qd0IAAIDR7xB3QgAAQDdCEXdCAAAAnZQRd0IAAMAC5xF3QgAAgGg5EndCAABAzosSd0IAAAA03hJ3QgAAwJkwE3dCAACA/4ITd0IAAEBl1RN3QgAAAMsnFHdCAADAMHoUd0IAAABicRV3QgAAwMfDFXdCAABAk2gWd0IAAAD5uhZ3QgAAwF4NF3dCAACAxF8Xd0IAAEAqshd3QgAAAJAEGHdCAADA9VYYd0IAAIBbqRh3QgAAQMH7GHdCAAAAJ04Zd0IAAMCMoBl3QgAAgPLyGXdCAABAWEUad0IAAAC+lxp3QgAAwCPqGndCAACAiTwbd0IAAEDvjht3QgAAAFXhG3dCAADAujMcd0IAAIAghhx3QgAAAOwqHXdCAADAUX0dd0IAAIC3zx13QgAAQB0iHndCAAAAg3Qed0IAAMDoxh53QgAAgE4ZH3dCAABAtGsfd0IAAAAavh93QgAAwH8QIHdCAACA5WIgd0IAAEBLtSB3QgAAALEHIXdCAADAFlohd0IAAEDi/iF3QgAAAEhRIndCAADAraMid0IAAIAT9iJ3QgAAAN+aI3dCAADARO0jd0IAAICqPyR3QgAAQBCSJHdCAAAAduQkd0IAAMDbNiV3QgAAgEGJJXdCAABAp9sld0IAAAANLiZ3QgAAwHKAJndCAACA2NImd0IAAEA+JSd3QgAAAKR3J3dCAADACcond0IAAIBvHCh3QgAAQNVuKHdCAAAAO8Eod0IAAMCgEyl3QgAAgAZmKXdCAABAbLgpd0IAAADSCip3QgAAwDddKndCAACAna8qd0IAAEADAit3QgAAAGlUK3dCAADAzqYrd0IAAIA0+St3QgAAQJpLLHdCAAAAAJ4sd0IAAMBl8Cx3Qg==\",\"dtype\":\"float64\",\"shape\":[86]},\"index\":[0,1,2,3,4,5,6,7,8,9,10,11,12,13,14,15,16,17,18,19,20,21,22,23,24,25,26,27,28,29,30,31,32,33,34,35,36,37,38,39,40,41,42,43,44,45,46,47,48,49,50,51,52,53,54,55,56,57,58,59,60,61,62,63,64,65,66,67,68,69,70,71,72,73,74,75,76,77,78,79,80,81,82,83,84,85]},\"selected\":{\"id\":\"10748\"},\"selection_policy\":{\"id\":\"10747\"}},\"id\":\"10690\",\"type\":\"ColumnDataSource\"},{\"attributes\":{},\"id\":\"10646\",\"type\":\"DatetimeTickFormatter\"},{\"attributes\":{},\"id\":\"10748\",\"type\":\"Selection\"},{\"attributes\":{\"axis\":{\"id\":\"10621\"},\"dimension\":1,\"ticker\":null},\"id\":\"10624\",\"type\":\"Grid\"},{\"attributes\":{\"label\":{\"value\":\"7-day rolling avg (LA County)\"},\"renderers\":[{\"id\":\"10723\"}]},\"id\":\"10749\",\"type\":\"LegendItem\"},{\"attributes\":{\"data_source\":{\"id\":\"10605\"},\"glyph\":{\"id\":\"10665\"},\"hover_glyph\":null,\"muted_glyph\":null,\"nonselection_glyph\":{\"id\":\"10666\"},\"selection_glyph\":null,\"view\":{\"id\":\"10668\"}},\"id\":\"10667\",\"type\":\"GlyphRenderer\"},{\"attributes\":{},\"id\":\"10609\",\"type\":\"DataRange1d\"},{\"attributes\":{\"fill_alpha\":{\"value\":0.1},\"fill_color\":{\"value\":\"navy\"},\"line_alpha\":{\"value\":0.1},\"line_color\":{\"value\":\"navy\"},\"size\":{\"units\":\"screen\",\"value\":5},\"x\":{\"field\":\"date\"},\"y\":{\"field\":\"confirmed_cases\"}},\"id\":\"10641\",\"type\":\"Circle\"},{\"attributes\":{\"text\":\"Glendale case growth rate (trimmed)\"},\"id\":\"10607\",\"type\":\"Title\"},{\"attributes\":{},\"id\":\"10648\",\"type\":\"BasicTickFormatter\"},{\"attributes\":{\"line_color\":\"red\",\"line_dash\":[6],\"line_width\":3,\"location\":1},\"id\":\"10750\",\"type\":\"Span\"},{\"attributes\":{\"fill_alpha\":{\"value\":0.8},\"fill_color\":{\"value\":\"navy\"},\"line_alpha\":{\"value\":0.8},\"line_color\":{\"value\":\"navy\"},\"size\":{\"units\":\"screen\",\"value\":5},\"x\":{\"field\":\"date\"},\"y\":{\"field\":\"confirmed_cases\"}},\"id\":\"10640\",\"type\":\"Circle\"},{\"attributes\":{\"data\":{\"confirmed_cases\":{\"__ndarray__\":\"AAAAAAAA8D8AAAAAAAAAAAAAAAAAAPA/AAAAAAAACEBVVVVVVVXVPwAAAAAAAABAdNFFF1104T+rqqqqqqryP7dt27Zt2/Y/mpmZmZmZ+T8AAAAAAADsP7dt27Zt2+Y/ZmZmZmZm5j+3bdu2bdv2PwAAAAAAAPg/d3d3d3d35z/poosuuujyP57YiZ3Yie0/AAAAAAAA8D8AAAAAAAAAAGIndmIndtI/AAAAAAAA8D/e3d3d3d3dPwAAAAAAAABAJUmSJEmS5D9yHMdxHMfxP5qZmZmZmQFARhdddNFF5z8AAAAAAADYP6uqqqqqqvI/SZIkSZIkEUBVVVVVVVXlPwAAAAAAAPg/7+7u7u7u9j82ZU1ZU9bEP9u2bdu2bfs/q6qqqqqq4j8AAAAAAAAAQAAAAAAAAABAAAAAAAAAAADuaYTlnkbYP0YXXXTRRbc/uuiiiy666D/x8PDw8PDwPwAAAAAAAPA/chzHcRzH4T8AAAAAAAAAQGZmZmZmZtY/AAAAAAAAAEBJkiRJkiQBQCIiIiIiIuI/AAAAAAAA8D8AAAAAAAAAAJ1zzjnnnOM/KK+hvIbyqj8AAAAAAAAIQAAAAAAAAAAAAAAAAAAA4D+amZmZmZnxP7rooosuuvg/09LS0tLS4j9mZmZmZmb+Pw3lNZTXUN4/HMdxHMdx7D8AAAAAAADkP83MzMzMzPw/VVVVVVVV5T+rqqqqqqrqPwAAAAAAAPA/AAAAAAAA8D8AAAAAAADQP1VVVVVVVdU/AAAAAAAA2D8AAAAAAADwP6uqqqqqquo/MzMzMzMzC0AeHh4eHh7ePwAAAAAAAABAAAAAAAAA7D+SJEmSJEnCP591gynyWec/HMdxHMdx3D+rqqqqqqrqP83MzMzMzPQ/\",\"dtype\":\"float64\",\"shape\":[84]},\"date\":{\"__ndarray__\":\"AABACa8Od0IAAABvAQ93QgAAQKD4D3dCAAAABksQd0IAAMBrnRB3QgAAgNHvEHdCAAAAnZQRd0IAAMAC5xF3QgAAgGg5EndCAABAzosSd0IAAAA03hJ3QgAAwJkwE3dCAACA/4ITd0IAAEBl1RN3QgAAAMsnFHdCAADAMHoUd0IAAICWzBR3QgAAQPweFXdCAAAAYnEVd0IAAMDHwxV3QgAAQJNoFndCAAAA+boWd0IAAMBeDRd3QgAAgMRfF3dCAABAKrIXd0IAAACQBBh3QgAAwPVWGHdCAACAW6kYd0IAAEDB+xh3QgAAACdOGXdCAADAjKAZd0IAAIDy8hl3QgAAQFhFGndCAAAAvpcad0IAAMAj6hp3QgAAgIk8G3dCAABA744bd0IAAABV4Rt3QgAAwLozHHdCAACAIIYcd0IAAADsKh13QgAAwFF9HXdCAABAHSIed0IAAACDdB53QgAAwOjGHndCAACAThkfd0IAAEC0ax93QgAAABq+H3dCAADAfxAgd0IAAIDlYiB3QgAAQEu1IHdCAAAAsQchd0IAAMAWWiF3QgAAQOL+IXdCAAAASFEid0IAAMCtoyJ3QgAAgBP2IndCAAAA35ojd0IAAMBE7SN3QgAAgKo/JHdCAABAEJIkd0IAAAB25CR3QgAAwNs2JXdCAACAQYkld0IAAECn2yV3QgAAAA0uJndCAADAcoAmd0IAAIDY0iZ3QgAAQD4lJ3dCAAAApHcnd0IAAIBvHCh3QgAAQNVuKHdCAADAoBMpd0IAAIAGZil3QgAAQGy4KXdCAAAA0goqd0IAAMA3XSp3QgAAgJ2vKndCAABAAwIrd0IAAABpVCt3QgAAgDT5K3dCAABAmkssd0IAAAAAnix3QgAAwGXwLHdC\",\"dtype\":\"float64\",\"shape\":[84]},\"index\":[0,1,2,3,4,5,6,7,8,9,10,11,12,13,14,15,16,17,18,19,20,21,22,23,24,25,26,27,28,29,30,31,32,33,34,35,36,37,38,39,40,41,42,43,44,45,46,47,48,49,50,51,52,53,54,55,56,57,58,59,60,61,62,63,64,65,66,67,68,69,70,71,72,73,74,75,76,77,78,79,80,81,82,83]},\"selected\":{\"id\":\"10688\"},\"selection_policy\":{\"id\":\"10687\"}},\"id\":\"10604\",\"type\":\"ColumnDataSource\"},{\"attributes\":{\"line_alpha\":0.5,\"line_color\":\"navy\",\"line_width\":5,\"x\":{\"field\":\"date\"},\"y\":{\"field\":\"confirmed_cases\"}},\"id\":\"10665\",\"type\":\"Line\"},{\"attributes\":{\"mantissas\":[1,2,5],\"max_interval\":500.0,\"num_minor_ticks\":0},\"id\":\"10650\",\"type\":\"AdaptiveTicker\"}],\"root_ids\":[\"10606\"]},\"title\":\"Bokeh Application\",\"version\":\"2.0.2\"}};\n",
       "  var render_items = [{\"docid\":\"b736ac1d-2e3f-4df2-b9d0-f2fbe974afc4\",\"root_ids\":[\"10606\"],\"roots\":{\"10606\":\"1990ed4a-3fc3-40eb-84df-ee40e8ef0a87\"}}];\n",
       "  root.Bokeh.embed.embed_items_notebook(docs_json, render_items);\n",
       "\n",
       "  }\n",
       "  if (root.Bokeh !== undefined) {\n",
       "    embed_document(root);\n",
       "  } else {\n",
       "    var attempts = 0;\n",
       "    var timer = setInterval(function(root) {\n",
       "      if (root.Bokeh !== undefined) {\n",
       "        clearInterval(timer);\n",
       "        embed_document(root);\n",
       "      } else {\n",
       "        attempts++;\n",
       "        if (attempts > 100) {\n",
       "          clearInterval(timer);\n",
       "          console.log(\"Bokeh: ERROR: Unable to run BokehJS code because BokehJS library is missing\");\n",
       "        }\n",
       "      }\n",
       "    }, 10, root)\n",
       "  }\n",
       "})(window);"
      ],
      "application/vnd.bokehjs_exec.v0+json": ""
     },
     "metadata": {
      "application/vnd.bokehjs_exec.v0+json": {
       "id": "10606"
      }
     },
     "output_type": "display_data"
    },
    {
     "data": {
      "text/html": [
       "\n",
       "\n",
       "\n",
       "\n",
       "\n",
       "\n",
       "  <div class=\"bk-root\" id=\"a95488b6-0f28-41c4-952e-fececace7062\" data-root-id=\"11395\"></div>\n"
      ]
     },
     "metadata": {},
     "output_type": "display_data"
    },
    {
     "data": {
      "application/javascript": [
       "(function(root) {\n",
       "  function embed_document(root) {\n",
       "    \n",
       "  var docs_json = {\"64c83eb1-9c22-4e28-9620-4a52115d4448\":{\"roots\":{\"references\":[{\"attributes\":{\"below\":[{\"id\":\"11406\"}],\"center\":[{\"id\":\"11409\"},{\"id\":\"11413\"},{\"id\":\"11451\"},{\"id\":\"11539\"}],\"left\":[{\"id\":\"11410\"}],\"plot_height\":400,\"plot_width\":1000,\"renderers\":[{\"id\":\"11431\"},{\"id\":\"11456\"},{\"id\":\"11483\"},{\"id\":\"11512\"}],\"title\":{\"id\":\"11396\"},\"toolbar\":{\"id\":\"11421\"},\"x_range\":{\"id\":\"11398\"},\"x_scale\":{\"id\":\"11402\"},\"y_range\":{\"id\":\"11400\"},\"y_scale\":{\"id\":\"11404\"}},\"id\":\"11395\",\"subtype\":\"Figure\",\"type\":\"Plot\"},{\"attributes\":{\"base\":60,\"mantissas\":[1,2,5,10,15,20,30],\"max_interval\":1800000.0,\"min_interval\":1000.0,\"num_minor_ticks\":0},\"id\":\"11440\",\"type\":\"AdaptiveTicker\"},{\"attributes\":{},\"id\":\"12051\",\"type\":\"Selection\"},{\"attributes\":{},\"id\":\"11414\",\"type\":\"PanTool\"},{\"attributes\":{\"source\":{\"id\":\"11479\"}},\"id\":\"11484\",\"type\":\"CDSView\"},{\"attributes\":{\"line_alpha\":0.1,\"line_color\":\"red\",\"line_width\":5,\"x\":{\"field\":\"date\"},\"y\":{\"field\":\"confirmed_cases\"}},\"id\":\"11482\",\"type\":\"Line\"},{\"attributes\":{\"axis\":{\"id\":\"11406\"},\"ticker\":null},\"id\":\"11409\",\"type\":\"Grid\"},{\"attributes\":{\"base\":24,\"mantissas\":[1,2,4,6,8,12],\"max_interval\":43200000.0,\"min_interval\":3600000.0,\"num_minor_ticks\":0},\"id\":\"11441\",\"type\":\"AdaptiveTicker\"},{\"attributes\":{},\"id\":\"11415\",\"type\":\"WheelZoomTool\"},{\"attributes\":{},\"id\":\"11505\",\"type\":\"UnionRenderers\"},{\"attributes\":{\"data_source\":{\"id\":\"11479\"},\"glyph\":{\"id\":\"11481\"},\"hover_glyph\":null,\"muted_glyph\":null,\"nonselection_glyph\":{\"id\":\"11482\"},\"selection_glyph\":null,\"view\":{\"id\":\"11484\"}},\"id\":\"11483\",\"type\":\"GlyphRenderer\"},{\"attributes\":{\"days\":[1,2,3,4,5,6,7,8,9,10,11,12,13,14,15,16,17,18,19,20,21,22,23,24,25,26,27,28,29,30,31]},\"id\":\"11442\",\"type\":\"DaysTicker\"},{\"attributes\":{\"overlay\":{\"id\":\"11420\"}},\"id\":\"11416\",\"type\":\"BoxZoomTool\"},{\"attributes\":{\"fill_alpha\":{\"value\":0.8},\"fill_color\":{\"value\":\"navy\"},\"line_alpha\":{\"value\":0.8},\"line_color\":{\"value\":\"navy\"},\"size\":{\"units\":\"screen\",\"value\":5},\"x\":{\"field\":\"date\"},\"y\":{\"field\":\"confirmed_cases\"}},\"id\":\"11429\",\"type\":\"Circle\"},{\"attributes\":{\"days\":[1,4,7,10,13,16,19,22,25,28]},\"id\":\"11443\",\"type\":\"DaysTicker\"},{\"attributes\":{},\"id\":\"11417\",\"type\":\"SaveTool\"},{\"attributes\":{\"axis\":{\"id\":\"11410\"},\"dimension\":1,\"ticker\":null},\"id\":\"11413\",\"type\":\"Grid\"},{\"attributes\":{\"days\":[1,8,15,22]},\"id\":\"11444\",\"type\":\"DaysTicker\"},{\"attributes\":{},\"id\":\"11418\",\"type\":\"ResetTool\"},{\"attributes\":{\"formatter\":{\"id\":\"11437\"},\"ticker\":{\"id\":\"11411\"}},\"id\":\"11410\",\"type\":\"LinearAxis\"},{\"attributes\":{\"days\":[1,15]},\"id\":\"11445\",\"type\":\"DaysTicker\"},{\"attributes\":{},\"id\":\"11419\",\"type\":\"HelpTool\"},{\"attributes\":{},\"id\":\"11506\",\"type\":\"Selection\"},{\"attributes\":{},\"id\":\"11411\",\"type\":\"BasicTicker\"},{\"attributes\":{\"label\":{\"value\":\"7-day rolling avg (NoHo)\"},\"renderers\":[{\"id\":\"11483\"}]},\"id\":\"11507\",\"type\":\"LegendItem\"},{\"attributes\":{\"months\":[0,1,2,3,4,5,6,7,8,9,10,11]},\"id\":\"11446\",\"type\":\"MonthsTicker\"},{\"attributes\":{\"active_drag\":\"auto\",\"active_inspect\":\"auto\",\"active_multi\":null,\"active_scroll\":\"auto\",\"active_tap\":\"auto\",\"tools\":[{\"id\":\"11414\"},{\"id\":\"11415\"},{\"id\":\"11416\"},{\"id\":\"11417\"},{\"id\":\"11418\"},{\"id\":\"11419\"}]},\"id\":\"11421\",\"type\":\"Toolbar\"},{\"attributes\":{\"months\":[0,2,4,6,8,10]},\"id\":\"11447\",\"type\":\"MonthsTicker\"},{\"attributes\":{\"data_source\":{\"id\":\"11508\"},\"glyph\":{\"id\":\"11510\"},\"hover_glyph\":null,\"muted_glyph\":null,\"nonselection_glyph\":{\"id\":\"11511\"},\"selection_glyph\":null,\"view\":{\"id\":\"11513\"}},\"id\":\"11512\",\"type\":\"GlyphRenderer\"},{\"attributes\":{},\"id\":\"11400\",\"type\":\"DataRange1d\"},{\"attributes\":{\"line_alpha\":0.1,\"line_color\":\"navy\",\"line_width\":5,\"x\":{\"field\":\"date\"},\"y\":{\"field\":\"confirmed_cases\"}},\"id\":\"11455\",\"type\":\"Line\"},{\"attributes\":{\"months\":[0,4,8]},\"id\":\"11448\",\"type\":\"MonthsTicker\"},{\"attributes\":{},\"id\":\"11477\",\"type\":\"Selection\"},{\"attributes\":{\"text\":\"Sherman Oaks case growth rate (trimmed)\"},\"id\":\"11396\",\"type\":\"Title\"},{\"attributes\":{\"months\":[0,6]},\"id\":\"11449\",\"type\":\"MonthsTicker\"},{\"attributes\":{\"label\":{\"value\":\"7-day rolling avg (Sherman Oaks)\"},\"renderers\":[{\"id\":\"11456\"}]},\"id\":\"11478\",\"type\":\"LegendItem\"},{\"attributes\":{\"formatter\":{\"id\":\"11435\"},\"ticker\":{\"id\":\"11407\"}},\"id\":\"11406\",\"type\":\"DatetimeAxis\"},{\"attributes\":{},\"id\":\"11450\",\"type\":\"YearsTicker\"},{\"attributes\":{\"line_alpha\":0.1,\"line_color\":\"grey\",\"line_width\":5,\"x\":{\"field\":\"date\"},\"y\":{\"field\":\"new_confirmed_cases\"}},\"id\":\"11511\",\"type\":\"Line\"},{\"attributes\":{},\"id\":\"11476\",\"type\":\"UnionRenderers\"},{\"attributes\":{\"items\":[{\"id\":\"11452\"},{\"id\":\"11478\"},{\"id\":\"11507\"},{\"id\":\"11538\"}],\"location\":\"bottom_left\"},\"id\":\"11451\",\"type\":\"Legend\"},{\"attributes\":{\"bottom_units\":\"screen\",\"fill_alpha\":0.5,\"fill_color\":\"lightgrey\",\"left_units\":\"screen\",\"level\":\"overlay\",\"line_alpha\":1.0,\"line_color\":\"black\",\"line_dash\":[4,4],\"line_width\":2,\"render_mode\":\"css\",\"right_units\":\"screen\",\"top_units\":\"screen\"},\"id\":\"11420\",\"type\":\"BoxAnnotation\"},{\"attributes\":{\"num_minor_ticks\":5,\"tickers\":[{\"id\":\"11439\"},{\"id\":\"11440\"},{\"id\":\"11441\"},{\"id\":\"11442\"},{\"id\":\"11443\"},{\"id\":\"11444\"},{\"id\":\"11445\"},{\"id\":\"11446\"},{\"id\":\"11447\"},{\"id\":\"11448\"},{\"id\":\"11449\"},{\"id\":\"11450\"}]},\"id\":\"11407\",\"type\":\"DatetimeTicker\"},{\"attributes\":{\"data\":{\"date\":{\"__ndarray__\":\"AADAa50Qd0IAAIDR7xB3QgAAQDdCEXdCAAAAnZQRd0IAAMAC5xF3QgAAgGg5EndCAABAzosSd0IAAAA03hJ3QgAAwJkwE3dCAACA/4ITd0IAAEBl1RN3QgAAAMsnFHdCAADAMHoUd0IAAICWzBR3QgAAQPweFXdCAAAAYnEVd0IAAMDHwxV3QgAAgC0WFndCAABAk2gWd0IAAAD5uhZ3QgAAwF4NF3dCAACAxF8Xd0IAAEAqshd3QgAAAJAEGHdCAADA9VYYd0IAAIBbqRh3QgAAQMH7GHdCAAAAJ04Zd0IAAMCMoBl3QgAAgPLyGXdCAABAWEUad0IAAAC+lxp3QgAAwCPqGndCAACAiTwbd0IAAEDvjht3QgAAAFXhG3dCAADAujMcd0IAAIAghhx3QgAAQIbYHHdCAAAA7Codd0IAAMBRfR13QgAAgLfPHXdCAABAHSIed0IAAACDdB53QgAAwOjGHndCAACAThkfd0IAAEC0ax93QgAAABq+H3dCAADAfxAgd0IAAIDlYiB3QgAAQEu1IHdCAAAAsQchd0IAAMAWWiF3QgAAgHysIXdCAABA4v4hd0IAAABIUSJ3QgAAwK2jIndCAACAE/Yid0IAAEB5SCN3QgAAAN+aI3dCAADARO0jd0IAAICqPyR3QgAAQBCSJHdCAAAAduQkd0IAAMDbNiV3QgAAgEGJJXdCAABAp9sld0IAAAANLiZ3QgAAwHKAJndCAACA2NImd0IAAEA+JSd3QgAAAKR3J3dCAADACcond0IAAIBvHCh3QgAAQNVuKHdCAAAAO8Eod0IAAMCgEyl3QgAAgAZmKXdCAABAbLgpd0IAAADSCip3QgAAwDddKndCAACAna8qd0IAAEADAit3QgAAAGlUK3dCAADAzqYrd0IAAIA0+St3QgAAQJpLLHdCAAAAAJ4sd0IAAMBl8Cx3Qg==\",\"dtype\":\"float64\",\"shape\":[89]},\"index\":[0,1,2,3,4,5,6,7,8,9,10,11,12,13,14,15,16,17,18,19,20,21,22,23,24,25,26,27,28,29,30,31,32,33,34,35,36,37,38,39,40,41,42,43,44,45,46,47,48,49,50,51,52,53,54,55,56,57,58,59,60,61,62,63,64,65,66,67,68,69,70,71,72,73,74,75,76,77,78,79,80,81,82,83,84,85,86,87,88],\"new_confirmed_cases\":{\"__ndarray__\":\"AAAAAAAA+H+JRCKRSCTyPwbK1gdLFwBAucuuu3ev+D8gbhgi79j3PwlHz6MUNvY/eNfVzz1p9T9mjjW1v7/1P6b4xblTRPU/boaKDAcx8T+nNYWmAg7yP1+POsvGFvI/j5v9+9LZ8T8ReLgyD/LwPy3sQb+ucvA/w/gcFzLw8D9HBV3S2c7vP6oLCueyQ/A/In/RBW2d7j/OsiM3JNjtP+9xoUGG4e4/a7SsLNhY8T/1ToEv9nHwPzg4BfYI6PA/R+GAS5B68T9Wt93sbRfyP1/TJHzajvE/sgV40IDD+j/qbCRy/wn4P/InrX4sh/g/EY3QRUCQ+D+mT/6x32H3P3VNdZ1lFPY/KdSCjHCE9j9Azu4I3DbwP+tjb3MwHu8/kqtaS0iM8z9ZiwChOaPyP5iCzlE18vM/WkrJvB4C9D9t1H56tBP1P682J4BYsPE/yZzkJL0q9z+181ur4BzyP9lNfFL9fvM/9fK6xUJV8j8I20Sm02bzP4erW+54+vE/k6C0WPop8z+7VMdUrzXwP5iawilLI/I/GXXx3ww+8T/FqioiTVbxP9Ja77kIgvE/Dw1VM/e68T+WqmK9D5DwPwCnOUJ+ePI/tVj6LKwN8j9f65O4FXfyP3Eyqi8tFvI/BesC1r3Z8T9vJrkXbXryPwV39nxRUvM/35mFC4y+8T+97jYp4jnwP6QQtwhN/PA/feXWPcr68j95Sjwqdw/zP3hXpZoacPI/g8GIO/bP8T9nxTuoNz7wP/MNK0RcHPE/vZC5gCWL8T9dLX+2m6fvP/YqrDUN7O4/Op3aTNOb8D+clubVJRbwP3GjV54vw/A/89kozYHg8D/rQM5NoF3xP839Oei2LPE/0ShLhdku8T+8UsGCQxLwP5uJoPDhrPA/Wemv0A8T8T+dax4i/JTyP6wjmARREvA/TCTAgqH68D/2omM5PkHyPw==\",\"dtype\":\"float64\",\"shape\":[89]},\"new_deaths\":{\"__ndarray__\":\"AAAAAAAA+H8AAAAAAAD4P6qqqqqqqgBA4ziO4ziO+T93d3d3d/f3P9ajcD0K1/U/7+7u7u7u9T+eJezmtxD2P6WaPO4sYfU/yuPOEnbz8T9281sIGKXyP7cQMEo1efQ/hgRtGSm28z+F+9wYICbzPxfis2J02PM/L1xVeu558z9h0x1XEO3yP3H1EutsivI/ktiVd3i88D8P6mqyc9/yP/PzTgpPCfI/0uzc6UeX8T+AyreXJXLxP2fZUNOJYPI/wQ9QYPOS8j9Kroo3UsHzPxAWw+GMMvE/Z73yxGIc8T+iZGb/CZDzPxn5BPk2i/Q/6exByCrI8z8OAtpgEabzP5nXjzL+uPE/QUsO9p7+8T9Xqv8L/u/zP9nKB44e+PE/2swZMNE/8T9x2dpqq/zwP5pKUnWgg/E/+ZRs60cS8T8OqOBCcTjxP1ylf55TDfE/Im+gkBRj8T/TGwtMMiTxPzWNKQnWRvE/V5No1oYw8T+ISVfw36rxPz/EAqhaVvE/ktVN7YZr8z/fN+4N8tbxPwYdpHci1fE/xqu8ZBUP8j+hz3I/OcXxP0lTree8//E/2AfX/0u/8j9CNPeRvMftP1cAX39ER/U/tw6Ltt9m9D9Wflgp6xL0P3rH6k00pfM/41TBtsF79D+mb5/QftDzP4EmDaw1PvM/yrgx9cdi8j9ZnUCtaXD1P9eoQVC+A/U/6uDCY/aE9j/HjEstFlb1PybDnqvPnPU/J2K72dLa9j8P3FnBTHn0P/VI+W5RkvE/qbyNmgtW8j+rMKSWAivxP/UykDwj8/I/YS7bw+ip8j/7JF6mTFHxP/5Lzqhzwfc/eWcHQP2y+D9xFxWBvEX4P0j4GPezJPc/S+EWsQr++z8amx9l+pr7P6iosn426P0/iSbUD1bG9T/6sjlQ1mj1P8GZ9TEe3vU/7iVzxRDC9z/sB5PD8uHxPw==\",\"dtype\":\"float64\",\"shape\":[89]}},\"selected\":{\"id\":\"12051\"},\"selection_policy\":{\"id\":\"12050\"}},\"id\":\"11508\",\"type\":\"ColumnDataSource\"},{\"attributes\":{},\"id\":\"11402\",\"type\":\"LinearScale\"},{\"attributes\":{\"label\":{\"value\":\"daily case growth rate\"},\"renderers\":[{\"id\":\"11431\"}]},\"id\":\"11452\",\"type\":\"LegendItem\"},{\"attributes\":{\"data_source\":{\"id\":\"11393\"},\"glyph\":{\"id\":\"11429\"},\"hover_glyph\":null,\"muted_glyph\":null,\"nonselection_glyph\":{\"id\":\"11430\"},\"selection_glyph\":null,\"view\":{\"id\":\"11432\"}},\"id\":\"11431\",\"type\":\"GlyphRenderer\"},{\"attributes\":{\"line_alpha\":0.2,\"line_color\":\"grey\",\"line_width\":5,\"x\":{\"field\":\"date\"},\"y\":{\"field\":\"new_confirmed_cases\"}},\"id\":\"11510\",\"type\":\"Line\"},{\"attributes\":{},\"id\":\"11404\",\"type\":\"LinearScale\"},{\"attributes\":{\"source\":{\"id\":\"11508\"}},\"id\":\"11513\",\"type\":\"CDSView\"},{\"attributes\":{\"source\":{\"id\":\"11394\"}},\"id\":\"11457\",\"type\":\"CDSView\"},{\"attributes\":{},\"id\":\"11537\",\"type\":\"Selection\"},{\"attributes\":{\"data\":{\"confirmed_cases\":{\"__ndarray__\":\"AAAAAAAA4D8AAAAAAADwPwAAAAAAAPA/AAAAAAAAAAAAAAAAAAAAQAAAAAAAAPA/AAAAAAAABECamZmZmZnpPwAAAAAAAPA/AAAAAAAA4D8AAAAAAAAEQJqZmZmZmck/AAAAAAAAEEAAAAAAAAD4PwAAAAAAAOA/AAAAAAAAAEBVVVVVVVXlPwAAAAAAANA/AAAAAAAAEEAAAAAAAADoPwAAAAAAAAAAAAAAAAAA4D8AAAAAAADoP1VVVVVVVdU/AAAAAAAA8D8AAAAAAAAQQAAAAAAAAAAAVVVVVVVV1T8AAAAAAAAQQAAAAAAAAPA/AAAAAAAA9D9mZmZmZmb2P7dt27Zt2+Y/mpmZmZmZ2T8AAAAAAAAAAKuqqqqqqvo/AAAAAAAAAACamZmZmZnZPwAAAAAAAPA/AAAAAAAABEAzMzMzMzMDQAAAAAAAANA/AAAAAAAAAEBVVVVVVVXlPwAAAAAAAAhAVVVVVVVVxT8AAAAAAAD4PwAAAAAAAPA/q6qqqqqq+j8zMzMzMzPzPwAAAAAAAAAAVVVVVVVV5T8AAAAAAADwPwAAAAAAAPg/AAAAAAAAAAAAAAAAAAAAQFVVVVVVVcU/AAAAAAAAAEAAAAAAAAAAAJqZmZmZmck/AAAAAAAAAEAAAAAAAAD4PwAAAAAAAPA/AAAAAAAA8D8AAAAAAAAAQAAAAAAAAOA/VVVVVVVV1T8AAAAAAAAIQKuqqqqqqvo/MzMzMzMz4z9VVVVVVVUFQAAAAAAAAOQ/AAAAAAAA8D+amZmZmZnJPwAAAAAAABBAAAAAAAAA0D8AAAAAAAAAQAAAAAAAAABAVVVVVVVV9T8AAAAAAAAGQBdddNFFF90/mpmZmZmZAUA=\",\"dtype\":\"float64\",\"shape\":[82]},\"date\":{\"__ndarray__\":\"AAAAbwEPd0IAAMDUUw93QgAAgDqmD3dCAABAoPgPd0IAAMBrnRB3QgAAgNHvEHdCAABAN0IRd0IAAACdlBF3QgAAwALnEXdCAACAaDkSd0IAAEDOixJ3QgAAADTeEndCAADAmTATd0IAAID/ghN3QgAAQGXVE3dCAAAAyycUd0IAAMAwehR3QgAAgJbMFHdCAABA/B4Vd0IAAABicRV3QgAAwMfDFXdCAABAk2gWd0IAAAD5uhZ3QgAAwF4NF3dCAACAxF8Xd0IAAEAqshd3QgAAAJAEGHdCAABAwfsYd0IAAAAnThl3QgAAwIygGXdCAACA8vIZd0IAAEBYRRp3QgAAAL6XGndCAADAI+oad0IAAICJPBt3QgAAwLozHHdCAACAIIYcd0IAAADsKh13QgAAwFF9HXdCAACAt88dd0IAAEAdIh53QgAAAIN0HndCAADA6MYed0IAAIBOGR93QgAAQLRrH3dCAAAAGr4fd0IAAMB/ECB3QgAAgOViIHdCAABAS7Ugd0IAAACxByF3QgAAwBZaIXdCAABA4v4hd0IAAABIUSJ3QgAAwK2jIndCAACAE/Yid0IAAADfmiN3QgAAwETtI3dCAACAqj8kd0IAAEAQkiR3QgAAwNs2JXdCAACAQYkld0IAAECn2yV3QgAAAA0uJndCAADAcoAmd0IAAIDY0iZ3QgAAQD4lJ3dCAAAApHcnd0IAAMAJyid3QgAAgG8cKHdCAABA1W4od0IAAAA7wSh3QgAAwKATKXdCAACABmYpd0IAAEBsuCl3QgAAANIKKndCAADAN10qd0IAAICdryp3QgAAQAMCK3dCAACANPkrd0IAAECaSyx3QgAAAACeLHdCAADAZfAsd0I=\",\"dtype\":\"float64\",\"shape\":[82]},\"index\":[0,1,2,3,4,5,6,7,8,9,10,11,12,13,14,15,16,17,18,19,20,21,22,23,24,25,26,27,28,29,30,31,32,33,34,35,36,37,38,39,40,41,42,43,44,45,46,47,48,49,50,51,52,53,54,55,56,57,58,59,60,61,62,63,64,65,66,67,68,69,70,71,72,73,74,75,76,77,78,79,80,81]},\"selected\":{\"id\":\"11477\"},\"selection_policy\":{\"id\":\"11476\"}},\"id\":\"11393\",\"type\":\"ColumnDataSource\"},{\"attributes\":{\"label\":{\"value\":\"7-day rolling avg (LA County)\"},\"renderers\":[{\"id\":\"11512\"}]},\"id\":\"11538\",\"type\":\"LegendItem\"},{\"attributes\":{},\"id\":\"11536\",\"type\":\"UnionRenderers\"},{\"attributes\":{},\"id\":\"11435\",\"type\":\"DatetimeTickFormatter\"},{\"attributes\":{\"source\":{\"id\":\"11393\"}},\"id\":\"11432\",\"type\":\"CDSView\"},{\"attributes\":{\"line_alpha\":0.5,\"line_color\":\"navy\",\"line_width\":5,\"x\":{\"field\":\"date\"},\"y\":{\"field\":\"confirmed_cases\"}},\"id\":\"11454\",\"type\":\"Line\"},{\"attributes\":{\"data\":{\"confirmed_cases\":{\"__ndarray__\":\"AAAAAAAA4D8AAAAAAADoP6uqqqqqquo/AAAAAAAA5D/NzMzMzMzsP1VVVVVVVe0/AAAAAAAA9D93d3d3d3fzP3d3d3d3d/M/zczMzMzM9D+w+Iqv+Ir3P9u2bdu2bfM/kiRJkiRJ+j8AAAAAAAD4Pwd1UAd1UPc/mZmZmZmZ+T+xH/uxH/v5P2iN1miN1vQ/YRiGYRiG/T+GYRiGYRj2P6qqqqqqqvI/HMdxHMdx8D+qqqqqqqrwPziO4ziO4/A/cBzHcRzH4T/jOI7jOI7xP+M4juM4jvE/ISIiIiIi8j/d3d3d3d39P93d3d3d3f0/EBERERER9T+LJb9Y8ov5PxiTMRmTMfc//x45JGjL9D/OEnbzWwj0P1LfjocSwuo/XLYy+E/M4T+FiIiIiIjgP4WIiIiIiOg/zmkDnTbQ8T/okz7pkz71P3Z3d3d3d/E/y8zMzMzM9j8PERERERH1PyVwAidwAvs/qtEardEa+T8YrdEardH2P+V5nud5nvM/s23btm3b9j9xUAd1UAf1PxA4gRM4gfM/aMEWbMEW8D8l2IIt2ILtP2jBFmzBFvA/l/RJn/RJ5z+DiIiIiIjwPxTHcRzHcew/bRzHcRzH8T+F4ziO4zjuP+iLJb9Y8us/oU/6pE/68D+X9Emf9EnvP9nd3d3d3fE/XWZmZmZm7j+EiIiIiIj0P98rvuIrvvI/vzAMwzAM8z9RVVVVVVX1P2nbtm3btvU/yMzMzMzM9D+7CZzACZz4P3J3d3d3d/U/uwmcwAmc9j/aBE7gBE72P20pl3Ipl/g/njVaozVa9T/RaI3WaI34P3BQB3VQB/c/paqqqqqq/j+lqqqqqqr6P02vI/U6Uvs/8B9h/xH2+z8=\",\"dtype\":\"float64\",\"shape\":[82]},\"date\":{\"__ndarray__\":\"AAAAbwEPd0IAAMDUUw93QgAAgDqmD3dCAABAoPgPd0IAAMBrnRB3QgAAgNHvEHdCAABAN0IRd0IAAACdlBF3QgAAwALnEXdCAACAaDkSd0IAAEDOixJ3QgAAADTeEndCAADAmTATd0IAAID/ghN3QgAAQGXVE3dCAAAAyycUd0IAAMAwehR3QgAAgJbMFHdCAABA/B4Vd0IAAABicRV3QgAAwMfDFXdCAABAk2gWd0IAAAD5uhZ3QgAAwF4NF3dCAACAxF8Xd0IAAEAqshd3QgAAAJAEGHdCAABAwfsYd0IAAAAnThl3QgAAwIygGXdCAACA8vIZd0IAAEBYRRp3QgAAAL6XGndCAADAI+oad0IAAICJPBt3QgAAwLozHHdCAACAIIYcd0IAAADsKh13QgAAwFF9HXdCAACAt88dd0IAAEAdIh53QgAAAIN0HndCAADA6MYed0IAAIBOGR93QgAAQLRrH3dCAAAAGr4fd0IAAMB/ECB3QgAAgOViIHdCAABAS7Ugd0IAAACxByF3QgAAwBZaIXdCAABA4v4hd0IAAABIUSJ3QgAAwK2jIndCAACAE/Yid0IAAADfmiN3QgAAwETtI3dCAACAqj8kd0IAAEAQkiR3QgAAwNs2JXdCAACAQYkld0IAAECn2yV3QgAAAA0uJndCAADAcoAmd0IAAIDY0iZ3QgAAQD4lJ3dCAAAApHcnd0IAAMAJyid3QgAAgG8cKHdCAABA1W4od0IAAAA7wSh3QgAAwKATKXdCAACABmYpd0IAAEBsuCl3QgAAANIKKndCAADAN10qd0IAAICdryp3QgAAQAMCK3dCAACANPkrd0IAAECaSyx3QgAAAACeLHdCAADAZfAsd0I=\",\"dtype\":\"float64\",\"shape\":[82]},\"index\":[0,1,2,3,4,5,6,7,8,9,10,11,12,13,14,15,16,17,18,19,20,21,22,23,24,25,26,27,28,29,30,31,32,33,34,35,36,37,38,39,40,41,42,43,44,45,46,47,48,49,50,51,52,53,54,55,56,57,58,59,60,61,62,63,64,65,66,67,68,69,70,71,72,73,74,75,76,77,78,79,80,81]},\"selected\":{\"id\":\"11506\"},\"selection_policy\":{\"id\":\"11505\"}},\"id\":\"11394\",\"type\":\"ColumnDataSource\"},{\"attributes\":{\"line_color\":\"red\",\"line_dash\":[6],\"line_width\":3,\"location\":1},\"id\":\"11539\",\"type\":\"Span\"},{\"attributes\":{},\"id\":\"11398\",\"type\":\"DataRange1d\"},{\"attributes\":{},\"id\":\"11437\",\"type\":\"BasicTickFormatter\"},{\"attributes\":{\"data_source\":{\"id\":\"11394\"},\"glyph\":{\"id\":\"11454\"},\"hover_glyph\":null,\"muted_glyph\":null,\"nonselection_glyph\":{\"id\":\"11455\"},\"selection_glyph\":null,\"view\":{\"id\":\"11457\"}},\"id\":\"11456\",\"type\":\"GlyphRenderer\"},{\"attributes\":{\"line_alpha\":0.2,\"line_color\":\"red\",\"line_width\":5,\"x\":{\"field\":\"date\"},\"y\":{\"field\":\"confirmed_cases\"}},\"id\":\"11481\",\"type\":\"Line\"},{\"attributes\":{},\"id\":\"12050\",\"type\":\"UnionRenderers\"},{\"attributes\":{\"mantissas\":[1,2,5],\"max_interval\":500.0,\"num_minor_ticks\":0},\"id\":\"11439\",\"type\":\"AdaptiveTicker\"},{\"attributes\":{\"data\":{\"confirmed_cases\":{\"__ndarray__\":\"AAAAAAAA8D8AAAAAAAD4PwAAAAAAAPA/AAAAAAAA6j8zMzMzMzPrPzMzMzMzM/c/MzMzMzMz8z+7u7u7u7v7PxzHcRzHcfg/z/M8z/M89z9hGIZhGIb5P7Ef+7Ef+/k/jdZojdZo9T+ZmZmZmZn1P5D92I/92PM/53QzbWdO8z+fzD0oIP3xP3LMroNzLec/+twSp37P1z/x7u7u7u7YPy35xZJfLO0/tmALtmAL8T++f4emIhPxPwcSrO+0N/I/jZUZeLNs8z9wwdda3yr2P1+9lkrb6fU/sF5Lpe30AkDLCx3AmsYBQMeQVevZ5wJAzb/8y7/8AkB1PddzPdcCQEEKpEAKpAFAKpESKZESAkBTIiVSIiX0P30K/SW1p/I/Dy9GuNnw+j/GnCFvR8z5P+QDd/7K6Pg/2U0W8xSI+T9z56+MriHzPzubszmbswBA7LwrMNSI9D+jKgfnQWT3P9srexbSgfQ/8AZRvdGg/T+HdkpUQZr8Pxmbk+Zl4/4/0AhvndO+9T+bWPdQxtL3P7ZDO7RDO/c/ZjzGYzzG9j+EkKGyw9TsP/sHGSo7TOw/bCTgm1cT5j9LZYepy+3dP6XiaQkS4tw/+KZ0DBA87z+Bzy1x6vfwP5CClHC4KOw/7ZBE3asO+z8Pnhb+uOD7P3qHXP55d/o/78Iu7MIu/j+JpqSGpqT4P+ZwSuNwSvk/+7Kh681r+T/jORDUVNrxP/WkG+W/5fI/gW/EcYqO8T8px/X0mC3wP4/wlieUBu4/KH0Z9E5R8z8HC0ngwbbzP6I9RNlog/I/U+70iRk08z8QtnBG4a/1P82o5Scdt/M/yAQxDByO9j9v5RYh2CrxP45NEUBAJfA/uYwyDgt1+D8zKxqIqVz6P6Vs4I3Cc/g/7w3112OI+j/5/4n4spH4Pw==\",\"dtype\":\"float64\",\"shape\":[86]},\"date\":{\"__ndarray__\":\"AAAAbwEPd0IAAMDUUw93QgAAgDqmD3dCAADAa50Qd0IAAIDR7xB3QgAAQDdCEXdCAAAAnZQRd0IAAMAC5xF3QgAAgGg5EndCAABAzosSd0IAAAA03hJ3QgAAwJkwE3dCAACA/4ITd0IAAEBl1RN3QgAAAMsnFHdCAADAMHoUd0IAAABicRV3QgAAwMfDFXdCAABAk2gWd0IAAAD5uhZ3QgAAwF4NF3dCAACAxF8Xd0IAAEAqshd3QgAAAJAEGHdCAADA9VYYd0IAAIBbqRh3QgAAQMH7GHdCAAAAJ04Zd0IAAMCMoBl3QgAAgPLyGXdCAABAWEUad0IAAAC+lxp3QgAAwCPqGndCAACAiTwbd0IAAEDvjht3QgAAAFXhG3dCAADAujMcd0IAAIAghhx3QgAAAOwqHXdCAADAUX0dd0IAAIC3zx13QgAAQB0iHndCAAAAg3Qed0IAAMDoxh53QgAAgE4ZH3dCAABAtGsfd0IAAAAavh93QgAAwH8QIHdCAACA5WIgd0IAAEBLtSB3QgAAALEHIXdCAADAFlohd0IAAEDi/iF3QgAAAEhRIndCAADAraMid0IAAIAT9iJ3QgAAAN+aI3dCAADARO0jd0IAAICqPyR3QgAAQBCSJHdCAAAAduQkd0IAAMDbNiV3QgAAgEGJJXdCAABAp9sld0IAAAANLiZ3QgAAwHKAJndCAACA2NImd0IAAEA+JSd3QgAAAKR3J3dCAADACcond0IAAIBvHCh3QgAAQNVuKHdCAAAAO8Eod0IAAMCgEyl3QgAAgAZmKXdCAABAbLgpd0IAAADSCip3QgAAwDddKndCAACAna8qd0IAAEADAit3QgAAAGlUK3dCAADAzqYrd0IAAIA0+St3QgAAQJpLLHdCAAAAAJ4sd0IAAMBl8Cx3Qg==\",\"dtype\":\"float64\",\"shape\":[86]},\"index\":[0,1,2,3,4,5,6,7,8,9,10,11,12,13,14,15,16,17,18,19,20,21,22,23,24,25,26,27,28,29,30,31,32,33,34,35,36,37,38,39,40,41,42,43,44,45,46,47,48,49,50,51,52,53,54,55,56,57,58,59,60,61,62,63,64,65,66,67,68,69,70,71,72,73,74,75,76,77,78,79,80,81,82,83,84,85]},\"selected\":{\"id\":\"11537\"},\"selection_policy\":{\"id\":\"11536\"}},\"id\":\"11479\",\"type\":\"ColumnDataSource\"},{\"attributes\":{\"fill_alpha\":{\"value\":0.1},\"fill_color\":{\"value\":\"navy\"},\"line_alpha\":{\"value\":0.1},\"line_color\":{\"value\":\"navy\"},\"size\":{\"units\":\"screen\",\"value\":5},\"x\":{\"field\":\"date\"},\"y\":{\"field\":\"confirmed_cases\"}},\"id\":\"11430\",\"type\":\"Circle\"}],\"root_ids\":[\"11395\"]},\"title\":\"Bokeh Application\",\"version\":\"2.0.2\"}};\n",
       "  var render_items = [{\"docid\":\"64c83eb1-9c22-4e28-9620-4a52115d4448\",\"root_ids\":[\"11395\"],\"roots\":{\"11395\":\"a95488b6-0f28-41c4-952e-fececace7062\"}}];\n",
       "  root.Bokeh.embed.embed_items_notebook(docs_json, render_items);\n",
       "\n",
       "  }\n",
       "  if (root.Bokeh !== undefined) {\n",
       "    embed_document(root);\n",
       "  } else {\n",
       "    var attempts = 0;\n",
       "    var timer = setInterval(function(root) {\n",
       "      if (root.Bokeh !== undefined) {\n",
       "        clearInterval(timer);\n",
       "        embed_document(root);\n",
       "      } else {\n",
       "        attempts++;\n",
       "        if (attempts > 100) {\n",
       "          clearInterval(timer);\n",
       "          console.log(\"Bokeh: ERROR: Unable to run BokehJS code because BokehJS library is missing\");\n",
       "        }\n",
       "      }\n",
       "    }, 10, root)\n",
       "  }\n",
       "})(window);"
      ],
      "application/vnd.bokehjs_exec.v0+json": ""
     },
     "metadata": {
      "application/vnd.bokehjs_exec.v0+json": {
       "id": "11395"
      }
     },
     "output_type": "display_data"
    },
    {
     "data": {
      "text/html": [
       "\n",
       "\n",
       "\n",
       "\n",
       "\n",
       "\n",
       "  <div class=\"bk-root\" id=\"042bb0dd-124a-4d90-bf6d-e4d2f3656967\" data-root-id=\"12210\"></div>\n"
      ]
     },
     "metadata": {},
     "output_type": "display_data"
    },
    {
     "data": {
      "application/javascript": [
       "(function(root) {\n",
       "  function embed_document(root) {\n",
       "    \n",
       "  var docs_json = {\"511010d0-f5d1-491b-a24a-89e4a76e3438\":{\"roots\":{\"references\":[{\"attributes\":{\"below\":[{\"id\":\"12221\"}],\"center\":[{\"id\":\"12224\"},{\"id\":\"12228\"},{\"id\":\"12266\"},{\"id\":\"12354\"}],\"left\":[{\"id\":\"12225\"}],\"plot_height\":400,\"plot_width\":1000,\"renderers\":[{\"id\":\"12246\"},{\"id\":\"12271\"},{\"id\":\"12298\"},{\"id\":\"12327\"}],\"title\":{\"id\":\"12211\"},\"toolbar\":{\"id\":\"12236\"},\"x_range\":{\"id\":\"12213\"},\"x_scale\":{\"id\":\"12217\"},\"y_range\":{\"id\":\"12215\"},\"y_scale\":{\"id\":\"12219\"}},\"id\":\"12210\",\"subtype\":\"Figure\",\"type\":\"Plot\"},{\"attributes\":{\"base\":24,\"mantissas\":[1,2,4,6,8,12],\"max_interval\":43200000.0,\"min_interval\":3600000.0,\"num_minor_ticks\":0},\"id\":\"12256\",\"type\":\"AdaptiveTicker\"},{\"attributes\":{},\"id\":\"12230\",\"type\":\"WheelZoomTool\"},{\"attributes\":{},\"id\":\"12320\",\"type\":\"UnionRenderers\"},{\"attributes\":{\"days\":[1,2,3,4,5,6,7,8,9,10,11,12,13,14,15,16,17,18,19,20,21,22,23,24,25,26,27,28,29,30,31]},\"id\":\"12257\",\"type\":\"DaysTicker\"},{\"attributes\":{\"overlay\":{\"id\":\"12235\"}},\"id\":\"12231\",\"type\":\"BoxZoomTool\"},{\"attributes\":{\"source\":{\"id\":\"12294\"}},\"id\":\"12299\",\"type\":\"CDSView\"},{\"attributes\":{\"axis\":{\"id\":\"12225\"},\"dimension\":1,\"ticker\":null},\"id\":\"12228\",\"type\":\"Grid\"},{\"attributes\":{\"days\":[1,4,7,10,13,16,19,22,25,28]},\"id\":\"12258\",\"type\":\"DaysTicker\"},{\"attributes\":{\"data_source\":{\"id\":\"12294\"},\"glyph\":{\"id\":\"12296\"},\"hover_glyph\":null,\"muted_glyph\":null,\"nonselection_glyph\":{\"id\":\"12297\"},\"selection_glyph\":null,\"view\":{\"id\":\"12299\"}},\"id\":\"12298\",\"type\":\"GlyphRenderer\"},{\"attributes\":{},\"id\":\"12232\",\"type\":\"SaveTool\"},{\"attributes\":{},\"id\":\"12226\",\"type\":\"BasicTicker\"},{\"attributes\":{\"days\":[1,8,15,22]},\"id\":\"12259\",\"type\":\"DaysTicker\"},{\"attributes\":{},\"id\":\"12233\",\"type\":\"ResetTool\"},{\"attributes\":{\"data\":{\"confirmed_cases\":{\"__ndarray__\":\"AAAAAAAAAAAAAAAAAAAAAAAAAAAAAACAAAAAAAAA0D8AAAAAAAAIQFVVVVVVVdU/AAAAAAAAAAAAAAAAAAAAAAAAAAAAAAAAAAAAAAAAAIAAAAAAAAAAAAAAAAAAAAAAAAAAAAAA8D8AAAAAAADwPwAAAAAAAPA/AAAAAAAAAEAAAAAAAADwPwAAAAAAAOA/AAAAAAAA8D8AAAAAAAAAQAAAAAAAAOA/AAAAAAAAAAAAAAAAAAAAQAAAAAAAAAAAVVVVVVVV5T8AAAAAAAAAAAAAAAAAAAAAAAAAAAAAAEAAAAAAAADgPwAAAAAAAOA/AAAAAAAAAAAAAAAAAAAAAAAAAAAAAAAAAAAAAAAAAAAAAAAAAAAAAAAAAAAAAOA/AAAAAAAA8D8AAAAAAAAAAAAAAAAAAABAAAAAAAAA4D8AAAAAAADwPwAAAAAAAAAAAAAAAAAA8D8AAAAAAAAAAAAAAAAAAPA/AAAAAAAA8D8AAAAAAAAAAAAAAAAAAACAAAAAAAAAAAAAAAAAAADwPwAAAAAAAPA/AAAAAAAAAEA=\",\"dtype\":\"float64\",\"shape\":[52]},\"date\":{\"__ndarray__\":\"AABAoPgPd0IAAMBrnRB3QgAAwALnEXdCAABAzosSd0IAAAA03hJ3QgAAwJkwE3dCAACA/4ITd0IAAICWzBR3QgAAAGJxFXdCAADAXg0Xd0IAAEAqshd3QgAAQMH7GHdCAADAjKAZd0IAAIDy8hl3QgAAQFhFGndCAAAAvpcad0IAAMAj6hp3QgAAgIk8G3dCAABA744bd0IAAABV4Rt3QgAAwLozHHdCAACAIIYcd0IAAADsKh13QgAAwFF9HXdCAABAHSIed0IAAACDdB53QgAAgE4ZH3dCAACA5WIgd0IAAEBLtSB3QgAAALEHIXdCAADAFlohd0IAAABIUSJ3QgAAgBP2IndCAAAA35ojd0IAAICqPyR3QgAAAHbkJHdCAADA2zYld0IAAIBBiSV3QgAAAA0uJndCAADAcoAmd0IAAIDY0iZ3QgAAQD4lJ3dCAADACcond0IAAIBvHCh3QgAAwKATKXdCAACABmYpd0IAAEBsuCl3QgAAwDddKndCAAAAaVQrd0IAAECaSyx3QgAAAACeLHdCAADAZfAsd0I=\",\"dtype\":\"float64\",\"shape\":[52]},\"index\":[0,1,2,3,4,5,6,7,8,9,10,11,12,13,14,15,16,17,18,19,20,21,22,23,24,25,26,27,28,29,30,31,32,33,34,35,36,37,38,39,40,41,42,43,44,45,46,47,48,49,50,51]},\"selected\":{\"id\":\"12292\"},\"selection_policy\":{\"id\":\"12291\"}},\"id\":\"12208\",\"type\":\"ColumnDataSource\"},{\"attributes\":{\"axis\":{\"id\":\"12221\"},\"ticker\":null},\"id\":\"12224\",\"type\":\"Grid\"},{\"attributes\":{\"days\":[1,15]},\"id\":\"12260\",\"type\":\"DaysTicker\"},{\"attributes\":{},\"id\":\"12234\",\"type\":\"HelpTool\"},{\"attributes\":{},\"id\":\"12321\",\"type\":\"Selection\"},{\"attributes\":{\"label\":{\"value\":\"7-day rolling avg (NoHo)\"},\"renderers\":[{\"id\":\"12298\"}]},\"id\":\"12322\",\"type\":\"LegendItem\"},{\"attributes\":{\"formatter\":{\"id\":\"12252\"},\"ticker\":{\"id\":\"12226\"}},\"id\":\"12225\",\"type\":\"LinearAxis\"},{\"attributes\":{\"months\":[0,1,2,3,4,5,6,7,8,9,10,11]},\"id\":\"12261\",\"type\":\"MonthsTicker\"},{\"attributes\":{\"fill_alpha\":{\"value\":0.8},\"fill_color\":{\"value\":\"navy\"},\"line_alpha\":{\"value\":0.8},\"line_color\":{\"value\":\"navy\"},\"size\":{\"units\":\"screen\",\"value\":5},\"x\":{\"field\":\"date\"},\"y\":{\"field\":\"confirmed_cases\"}},\"id\":\"12244\",\"type\":\"Circle\"},{\"attributes\":{\"active_drag\":\"auto\",\"active_inspect\":\"auto\",\"active_multi\":null,\"active_scroll\":\"auto\",\"active_tap\":\"auto\",\"tools\":[{\"id\":\"12229\"},{\"id\":\"12230\"},{\"id\":\"12231\"},{\"id\":\"12232\"},{\"id\":\"12233\"},{\"id\":\"12234\"}]},\"id\":\"12236\",\"type\":\"Toolbar\"},{\"attributes\":{\"num_minor_ticks\":5,\"tickers\":[{\"id\":\"12254\"},{\"id\":\"12255\"},{\"id\":\"12256\"},{\"id\":\"12257\"},{\"id\":\"12258\"},{\"id\":\"12259\"},{\"id\":\"12260\"},{\"id\":\"12261\"},{\"id\":\"12262\"},{\"id\":\"12263\"},{\"id\":\"12264\"},{\"id\":\"12265\"}]},\"id\":\"12222\",\"type\":\"DatetimeTicker\"},{\"attributes\":{\"months\":[0,2,4,6,8,10]},\"id\":\"12262\",\"type\":\"MonthsTicker\"},{\"attributes\":{\"data_source\":{\"id\":\"12323\"},\"glyph\":{\"id\":\"12325\"},\"hover_glyph\":null,\"muted_glyph\":null,\"nonselection_glyph\":{\"id\":\"12326\"},\"selection_glyph\":null,\"view\":{\"id\":\"12328\"}},\"id\":\"12327\",\"type\":\"GlyphRenderer\"},{\"attributes\":{\"line_alpha\":0.1,\"line_color\":\"navy\",\"line_width\":5,\"x\":{\"field\":\"date\"},\"y\":{\"field\":\"confirmed_cases\"}},\"id\":\"12270\",\"type\":\"Line\"},{\"attributes\":{\"months\":[0,4,8]},\"id\":\"12263\",\"type\":\"MonthsTicker\"},{\"attributes\":{},\"id\":\"12217\",\"type\":\"LinearScale\"},{\"attributes\":{},\"id\":\"12219\",\"type\":\"LinearScale\"},{\"attributes\":{\"months\":[0,6]},\"id\":\"12264\",\"type\":\"MonthsTicker\"},{\"attributes\":{},\"id\":\"12292\",\"type\":\"Selection\"},{\"attributes\":{},\"id\":\"12291\",\"type\":\"UnionRenderers\"},{\"attributes\":{},\"id\":\"12265\",\"type\":\"YearsTicker\"},{\"attributes\":{\"line_alpha\":0.1,\"line_color\":\"grey\",\"line_width\":5,\"x\":{\"field\":\"date\"},\"y\":{\"field\":\"new_confirmed_cases\"}},\"id\":\"12326\",\"type\":\"Line\"},{\"attributes\":{\"formatter\":{\"id\":\"12250\"},\"ticker\":{\"id\":\"12222\"}},\"id\":\"12221\",\"type\":\"DatetimeAxis\"},{\"attributes\":{\"label\":{\"value\":\"7-day rolling avg (Studio City)\"},\"renderers\":[{\"id\":\"12271\"}]},\"id\":\"12293\",\"type\":\"LegendItem\"},{\"attributes\":{\"items\":[{\"id\":\"12267\"},{\"id\":\"12293\"},{\"id\":\"12322\"},{\"id\":\"12353\"}],\"location\":\"bottom_left\"},\"id\":\"12266\",\"type\":\"Legend\"},{\"attributes\":{},\"id\":\"12213\",\"type\":\"DataRange1d\"},{\"attributes\":{\"bottom_units\":\"screen\",\"fill_alpha\":0.5,\"fill_color\":\"lightgrey\",\"left_units\":\"screen\",\"level\":\"overlay\",\"line_alpha\":1.0,\"line_color\":\"black\",\"line_dash\":[4,4],\"line_width\":2,\"render_mode\":\"css\",\"right_units\":\"screen\",\"top_units\":\"screen\"},\"id\":\"12235\",\"type\":\"BoxAnnotation\"},{\"attributes\":{},\"id\":\"12351\",\"type\":\"UnionRenderers\"},{\"attributes\":{\"data\":{\"date\":{\"__ndarray__\":\"AADAa50Qd0IAAIDR7xB3QgAAQDdCEXdCAAAAnZQRd0IAAMAC5xF3QgAAgGg5EndCAABAzosSd0IAAAA03hJ3QgAAwJkwE3dCAACA/4ITd0IAAEBl1RN3QgAAAMsnFHdCAADAMHoUd0IAAICWzBR3QgAAQPweFXdCAAAAYnEVd0IAAMDHwxV3QgAAgC0WFndCAABAk2gWd0IAAAD5uhZ3QgAAwF4NF3dCAACAxF8Xd0IAAEAqshd3QgAAAJAEGHdCAADA9VYYd0IAAIBbqRh3QgAAQMH7GHdCAAAAJ04Zd0IAAMCMoBl3QgAAgPLyGXdCAABAWEUad0IAAAC+lxp3QgAAwCPqGndCAACAiTwbd0IAAEDvjht3QgAAAFXhG3dCAADAujMcd0IAAIAghhx3QgAAQIbYHHdCAAAA7Codd0IAAMBRfR13QgAAgLfPHXdCAABAHSIed0IAAACDdB53QgAAwOjGHndCAACAThkfd0IAAEC0ax93QgAAABq+H3dCAADAfxAgd0IAAIDlYiB3QgAAQEu1IHdCAAAAsQchd0IAAMAWWiF3QgAAgHysIXdCAABA4v4hd0IAAABIUSJ3QgAAwK2jIndCAACAE/Yid0IAAEB5SCN3QgAAAN+aI3dCAADARO0jd0IAAICqPyR3QgAAQBCSJHdCAAAAduQkd0IAAMDbNiV3QgAAgEGJJXdCAABAp9sld0IAAAANLiZ3QgAAwHKAJndCAACA2NImd0IAAEA+JSd3QgAAAKR3J3dCAADACcond0IAAIBvHCh3QgAAQNVuKHdCAAAAO8Eod0IAAMCgEyl3QgAAgAZmKXdCAABAbLgpd0IAAADSCip3QgAAwDddKndCAACAna8qd0IAAEADAit3QgAAAGlUK3dCAADAzqYrd0IAAIA0+St3QgAAQJpLLHdCAAAAAJ4sd0IAAMBl8Cx3Qg==\",\"dtype\":\"float64\",\"shape\":[89]},\"index\":[0,1,2,3,4,5,6,7,8,9,10,11,12,13,14,15,16,17,18,19,20,21,22,23,24,25,26,27,28,29,30,31,32,33,34,35,36,37,38,39,40,41,42,43,44,45,46,47,48,49,50,51,52,53,54,55,56,57,58,59,60,61,62,63,64,65,66,67,68,69,70,71,72,73,74,75,76,77,78,79,80,81,82,83,84,85,86,87,88],\"new_confirmed_cases\":{\"__ndarray__\":\"AAAAAAAA+H+JRCKRSCTyPwbK1gdLFwBAucuuu3ev+D8gbhgi79j3PwlHz6MUNvY/eNfVzz1p9T9mjjW1v7/1P6b4xblTRPU/boaKDAcx8T+nNYWmAg7yP1+POsvGFvI/j5v9+9LZ8T8ReLgyD/LwPy3sQb+ucvA/w/gcFzLw8D9HBV3S2c7vP6oLCueyQ/A/In/RBW2d7j/OsiM3JNjtP+9xoUGG4e4/a7SsLNhY8T/1ToEv9nHwPzg4BfYI6PA/R+GAS5B68T9Wt93sbRfyP1/TJHzajvE/sgV40IDD+j/qbCRy/wn4P/InrX4sh/g/EY3QRUCQ+D+mT/6x32H3P3VNdZ1lFPY/KdSCjHCE9j9Azu4I3DbwP+tjb3MwHu8/kqtaS0iM8z9ZiwChOaPyP5iCzlE18vM/WkrJvB4C9D9t1H56tBP1P682J4BYsPE/yZzkJL0q9z+181ur4BzyP9lNfFL9fvM/9fK6xUJV8j8I20Sm02bzP4erW+54+vE/k6C0WPop8z+7VMdUrzXwP5iawilLI/I/GXXx3ww+8T/FqioiTVbxP9Ja77kIgvE/Dw1VM/e68T+WqmK9D5DwPwCnOUJ+ePI/tVj6LKwN8j9f65O4FXfyP3Eyqi8tFvI/BesC1r3Z8T9vJrkXbXryPwV39nxRUvM/35mFC4y+8T+97jYp4jnwP6QQtwhN/PA/feXWPcr68j95Sjwqdw/zP3hXpZoacPI/g8GIO/bP8T9nxTuoNz7wP/MNK0RcHPE/vZC5gCWL8T9dLX+2m6fvP/YqrDUN7O4/Op3aTNOb8D+clubVJRbwP3GjV54vw/A/89kozYHg8D/rQM5NoF3xP839Oei2LPE/0ShLhdku8T+8UsGCQxLwP5uJoPDhrPA/Wemv0A8T8T+dax4i/JTyP6wjmARREvA/TCTAgqH68D/2omM5PkHyPw==\",\"dtype\":\"float64\",\"shape\":[89]},\"new_deaths\":{\"__ndarray__\":\"AAAAAAAA+H8AAAAAAAD4P6qqqqqqqgBA4ziO4ziO+T93d3d3d/f3P9ajcD0K1/U/7+7u7u7u9T+eJezmtxD2P6WaPO4sYfU/yuPOEnbz8T9281sIGKXyP7cQMEo1efQ/hgRtGSm28z+F+9wYICbzPxfis2J02PM/L1xVeu558z9h0x1XEO3yP3H1EutsivI/ktiVd3i88D8P6mqyc9/yP/PzTgpPCfI/0uzc6UeX8T+AyreXJXLxP2fZUNOJYPI/wQ9QYPOS8j9Kroo3UsHzPxAWw+GMMvE/Z73yxGIc8T+iZGb/CZDzPxn5BPk2i/Q/6exByCrI8z8OAtpgEabzP5nXjzL+uPE/QUsO9p7+8T9Xqv8L/u/zP9nKB44e+PE/2swZMNE/8T9x2dpqq/zwP5pKUnWgg/E/+ZRs60cS8T8OqOBCcTjxP1ylf55TDfE/Im+gkBRj8T/TGwtMMiTxPzWNKQnWRvE/V5No1oYw8T+ISVfw36rxPz/EAqhaVvE/ktVN7YZr8z/fN+4N8tbxPwYdpHci1fE/xqu8ZBUP8j+hz3I/OcXxP0lTree8//E/2AfX/0u/8j9CNPeRvMftP1cAX39ER/U/tw6Ltt9m9D9Wflgp6xL0P3rH6k00pfM/41TBtsF79D+mb5/QftDzP4EmDaw1PvM/yrgx9cdi8j9ZnUCtaXD1P9eoQVC+A/U/6uDCY/aE9j/HjEstFlb1PybDnqvPnPU/J2K72dLa9j8P3FnBTHn0P/VI+W5RkvE/qbyNmgtW8j+rMKSWAivxP/UykDwj8/I/YS7bw+ip8j/7JF6mTFHxP/5Lzqhzwfc/eWcHQP2y+D9xFxWBvEX4P0j4GPezJPc/S+EWsQr++z8amx9l+pr7P6iosn426P0/iSbUD1bG9T/6sjlQ1mj1P8GZ9TEe3vU/7iVzxRDC9z/sB5PD8uHxPw==\",\"dtype\":\"float64\",\"shape\":[89]}},\"selected\":{\"id\":\"12892\"},\"selection_policy\":{\"id\":\"12891\"}},\"id\":\"12323\",\"type\":\"ColumnDataSource\"},{\"attributes\":{\"label\":{\"value\":\"daily case growth rate\"},\"renderers\":[{\"id\":\"12246\"}]},\"id\":\"12267\",\"type\":\"LegendItem\"},{\"attributes\":{\"data_source\":{\"id\":\"12208\"},\"glyph\":{\"id\":\"12244\"},\"hover_glyph\":null,\"muted_glyph\":null,\"nonselection_glyph\":{\"id\":\"12245\"},\"selection_glyph\":null,\"view\":{\"id\":\"12247\"}},\"id\":\"12246\",\"type\":\"GlyphRenderer\"},{\"attributes\":{\"line_alpha\":0.2,\"line_color\":\"grey\",\"line_width\":5,\"x\":{\"field\":\"date\"},\"y\":{\"field\":\"new_confirmed_cases\"}},\"id\":\"12325\",\"type\":\"Line\"},{\"attributes\":{\"source\":{\"id\":\"12323\"}},\"id\":\"12328\",\"type\":\"CDSView\"},{\"attributes\":{\"source\":{\"id\":\"12209\"}},\"id\":\"12272\",\"type\":\"CDSView\"},{\"attributes\":{\"data\":{\"confirmed_cases\":{\"__ndarray__\":\"AAAAAAAAAAAAAAAAAAAAAAAAAAAAAAAAVVVVVVVVtT9VVVVVVVXxP6uqqqqqquw/7+7u7u7u5j+rqqqqqqrqPwAAAAAAAJA8AAAAAAAAmDwAAAAAAACYPAAAAAAAAJA8V1VVVVVV1T9VVVVVVVXlPwAAAAAAAOg/AAAAAAAA8D8AAAAAAADwP1VVVVVVVfE/SZIkSZIk8T/btm3btm3zP5IkSZIkSfI/AAAAAAAA8D8AAAAAAADwP1VVVVVVVe0/RERERERE5D8RERERERHhPxEREREREeE/VVVVVVVV5T+rqqqqqqrqPwAAAAAAAOg/AAAAAAAA6D8zMzMzMzPjPwAAAAAAAMA/AAAAAAAAAAAAAAAAAAAAAAAAAAAAAMA/AAAAAAAA2D8zMzMzMzPTP2ZmZmZmZuY/mpmZmZmZ6T+rqqqqqqrqPwAAAAAAAOg/zczMzMzM7D8AAAAAAADoPwAAAAAAAOA/AAAAAAAA6D8zMzMzMzPjPwAAAAAAAOA/AAAAAAAA0D9VVVVVVVXVP1VVVVVVVeU/AAAAAAAA8D8=\",\"dtype\":\"float64\",\"shape\":[52]},\"date\":{\"__ndarray__\":\"AABAoPgPd0IAAMBrnRB3QgAAwALnEXdCAABAzosSd0IAAAA03hJ3QgAAwJkwE3dCAACA/4ITd0IAAICWzBR3QgAAAGJxFXdCAADAXg0Xd0IAAEAqshd3QgAAQMH7GHdCAADAjKAZd0IAAIDy8hl3QgAAQFhFGndCAAAAvpcad0IAAMAj6hp3QgAAgIk8G3dCAABA744bd0IAAABV4Rt3QgAAwLozHHdCAACAIIYcd0IAAADsKh13QgAAwFF9HXdCAABAHSIed0IAAACDdB53QgAAgE4ZH3dCAACA5WIgd0IAAEBLtSB3QgAAALEHIXdCAADAFlohd0IAAABIUSJ3QgAAgBP2IndCAAAA35ojd0IAAICqPyR3QgAAAHbkJHdCAADA2zYld0IAAIBBiSV3QgAAAA0uJndCAADAcoAmd0IAAIDY0iZ3QgAAQD4lJ3dCAADACcond0IAAIBvHCh3QgAAwKATKXdCAACABmYpd0IAAEBsuCl3QgAAwDddKndCAAAAaVQrd0IAAECaSyx3QgAAAACeLHdCAADAZfAsd0I=\",\"dtype\":\"float64\",\"shape\":[52]},\"index\":[0,1,2,3,4,5,6,7,8,9,10,11,12,13,14,15,16,17,18,19,20,21,22,23,24,25,26,27,28,29,30,31,32,33,34,35,36,37,38,39,40,41,42,43,44,45,46,47,48,49,50,51]},\"selected\":{\"id\":\"12321\"},\"selection_policy\":{\"id\":\"12320\"}},\"id\":\"12209\",\"type\":\"ColumnDataSource\"},{\"attributes\":{},\"id\":\"12891\",\"type\":\"UnionRenderers\"},{\"attributes\":{},\"id\":\"12250\",\"type\":\"DatetimeTickFormatter\"},{\"attributes\":{},\"id\":\"12352\",\"type\":\"Selection\"},{\"attributes\":{\"line_alpha\":0.1,\"line_color\":\"red\",\"line_width\":5,\"x\":{\"field\":\"date\"},\"y\":{\"field\":\"confirmed_cases\"}},\"id\":\"12297\",\"type\":\"Line\"},{\"attributes\":{\"label\":{\"value\":\"7-day rolling avg (LA County)\"},\"renderers\":[{\"id\":\"12327\"}]},\"id\":\"12353\",\"type\":\"LegendItem\"},{\"attributes\":{\"source\":{\"id\":\"12208\"}},\"id\":\"12247\",\"type\":\"CDSView\"},{\"attributes\":{},\"id\":\"12229\",\"type\":\"PanTool\"},{\"attributes\":{\"line_color\":\"red\",\"line_dash\":[6],\"line_width\":3,\"location\":1},\"id\":\"12354\",\"type\":\"Span\"},{\"attributes\":{\"data_source\":{\"id\":\"12209\"},\"glyph\":{\"id\":\"12269\"},\"hover_glyph\":null,\"muted_glyph\":null,\"nonselection_glyph\":{\"id\":\"12270\"},\"selection_glyph\":null,\"view\":{\"id\":\"12272\"}},\"id\":\"12271\",\"type\":\"GlyphRenderer\"},{\"attributes\":{},\"id\":\"12252\",\"type\":\"BasicTickFormatter\"},{\"attributes\":{\"mantissas\":[1,2,5],\"max_interval\":500.0,\"num_minor_ticks\":0},\"id\":\"12254\",\"type\":\"AdaptiveTicker\"},{\"attributes\":{},\"id\":\"12215\",\"type\":\"DataRange1d\"},{\"attributes\":{},\"id\":\"12892\",\"type\":\"Selection\"},{\"attributes\":{\"line_alpha\":0.2,\"line_color\":\"red\",\"line_width\":5,\"x\":{\"field\":\"date\"},\"y\":{\"field\":\"confirmed_cases\"}},\"id\":\"12296\",\"type\":\"Line\"},{\"attributes\":{\"text\":\"Studio City case growth rate (trimmed)\"},\"id\":\"12211\",\"type\":\"Title\"},{\"attributes\":{\"line_alpha\":0.5,\"line_color\":\"navy\",\"line_width\":5,\"x\":{\"field\":\"date\"},\"y\":{\"field\":\"confirmed_cases\"}},\"id\":\"12269\",\"type\":\"Line\"},{\"attributes\":{\"fill_alpha\":{\"value\":0.1},\"fill_color\":{\"value\":\"navy\"},\"line_alpha\":{\"value\":0.1},\"line_color\":{\"value\":\"navy\"},\"size\":{\"units\":\"screen\",\"value\":5},\"x\":{\"field\":\"date\"},\"y\":{\"field\":\"confirmed_cases\"}},\"id\":\"12245\",\"type\":\"Circle\"},{\"attributes\":{\"base\":60,\"mantissas\":[1,2,5,10,15,20,30],\"max_interval\":1800000.0,\"min_interval\":1000.0,\"num_minor_ticks\":0},\"id\":\"12255\",\"type\":\"AdaptiveTicker\"},{\"attributes\":{\"data\":{\"confirmed_cases\":{\"__ndarray__\":\"AAAAAAAA8D8AAAAAAAD4PwAAAAAAAPA/AAAAAAAA6j8zMzMzMzPrPzMzMzMzM/c/MzMzMzMz8z+7u7u7u7v7PxzHcRzHcfg/z/M8z/M89z9hGIZhGIb5P7Ef+7Ef+/k/jdZojdZo9T+ZmZmZmZn1P5D92I/92PM/53QzbWdO8z+fzD0oIP3xP3LMroNzLec/+twSp37P1z/x7u7u7u7YPy35xZJfLO0/tmALtmAL8T++f4emIhPxPwcSrO+0N/I/jZUZeLNs8z9wwdda3yr2P1+9lkrb6fU/sF5Lpe30AkDLCx3AmsYBQMeQVevZ5wJAzb/8y7/8AkB1PddzPdcCQEEKpEAKpAFAKpESKZESAkBTIiVSIiX0P30K/SW1p/I/Dy9GuNnw+j/GnCFvR8z5P+QDd/7K6Pg/2U0W8xSI+T9z56+MriHzPzubszmbswBA7LwrMNSI9D+jKgfnQWT3P9srexbSgfQ/8AZRvdGg/T+HdkpUQZr8Pxmbk+Zl4/4/0AhvndO+9T+bWPdQxtL3P7ZDO7RDO/c/ZjzGYzzG9j+EkKGyw9TsP/sHGSo7TOw/bCTgm1cT5j9LZYepy+3dP6XiaQkS4tw/+KZ0DBA87z+Bzy1x6vfwP5CClHC4KOw/7ZBE3asO+z8Pnhb+uOD7P3qHXP55d/o/78Iu7MIu/j+JpqSGpqT4P+ZwSuNwSvk/+7Kh681r+T/jORDUVNrxP/WkG+W/5fI/gW/EcYqO8T8px/X0mC3wP4/wlieUBu4/KH0Z9E5R8z8HC0ngwbbzP6I9RNlog/I/U+70iRk08z8QtnBG4a/1P82o5Scdt/M/yAQxDByO9j9v5RYh2CrxP45NEUBAJfA/uYwyDgt1+D8zKxqIqVz6P6Vs4I3Cc/g/7w3112OI+j/5/4n4spH4Pw==\",\"dtype\":\"float64\",\"shape\":[86]},\"date\":{\"__ndarray__\":\"AAAAbwEPd0IAAMDUUw93QgAAgDqmD3dCAADAa50Qd0IAAIDR7xB3QgAAQDdCEXdCAAAAnZQRd0IAAMAC5xF3QgAAgGg5EndCAABAzosSd0IAAAA03hJ3QgAAwJkwE3dCAACA/4ITd0IAAEBl1RN3QgAAAMsnFHdCAADAMHoUd0IAAABicRV3QgAAwMfDFXdCAABAk2gWd0IAAAD5uhZ3QgAAwF4NF3dCAACAxF8Xd0IAAEAqshd3QgAAAJAEGHdCAADA9VYYd0IAAIBbqRh3QgAAQMH7GHdCAAAAJ04Zd0IAAMCMoBl3QgAAgPLyGXdCAABAWEUad0IAAAC+lxp3QgAAwCPqGndCAACAiTwbd0IAAEDvjht3QgAAAFXhG3dCAADAujMcd0IAAIAghhx3QgAAAOwqHXdCAADAUX0dd0IAAIC3zx13QgAAQB0iHndCAAAAg3Qed0IAAMDoxh53QgAAgE4ZH3dCAABAtGsfd0IAAAAavh93QgAAwH8QIHdCAACA5WIgd0IAAEBLtSB3QgAAALEHIXdCAADAFlohd0IAAEDi/iF3QgAAAEhRIndCAADAraMid0IAAIAT9iJ3QgAAAN+aI3dCAADARO0jd0IAAICqPyR3QgAAQBCSJHdCAAAAduQkd0IAAMDbNiV3QgAAgEGJJXdCAABAp9sld0IAAAANLiZ3QgAAwHKAJndCAACA2NImd0IAAEA+JSd3QgAAAKR3J3dCAADACcond0IAAIBvHCh3QgAAQNVuKHdCAAAAO8Eod0IAAMCgEyl3QgAAgAZmKXdCAABAbLgpd0IAAADSCip3QgAAwDddKndCAACAna8qd0IAAEADAit3QgAAAGlUK3dCAADAzqYrd0IAAIA0+St3QgAAQJpLLHdCAAAAAJ4sd0IAAMBl8Cx3Qg==\",\"dtype\":\"float64\",\"shape\":[86]},\"index\":[0,1,2,3,4,5,6,7,8,9,10,11,12,13,14,15,16,17,18,19,20,21,22,23,24,25,26,27,28,29,30,31,32,33,34,35,36,37,38,39,40,41,42,43,44,45,46,47,48,49,50,51,52,53,54,55,56,57,58,59,60,61,62,63,64,65,66,67,68,69,70,71,72,73,74,75,76,77,78,79,80,81,82,83,84,85]},\"selected\":{\"id\":\"12352\"},\"selection_policy\":{\"id\":\"12351\"}},\"id\":\"12294\",\"type\":\"ColumnDataSource\"}],\"root_ids\":[\"12210\"]},\"title\":\"Bokeh Application\",\"version\":\"2.0.2\"}};\n",
       "  var render_items = [{\"docid\":\"511010d0-f5d1-491b-a24a-89e4a76e3438\",\"root_ids\":[\"12210\"],\"roots\":{\"12210\":\"042bb0dd-124a-4d90-bf6d-e4d2f3656967\"}}];\n",
       "  root.Bokeh.embed.embed_items_notebook(docs_json, render_items);\n",
       "\n",
       "  }\n",
       "  if (root.Bokeh !== undefined) {\n",
       "    embed_document(root);\n",
       "  } else {\n",
       "    var attempts = 0;\n",
       "    var timer = setInterval(function(root) {\n",
       "      if (root.Bokeh !== undefined) {\n",
       "        clearInterval(timer);\n",
       "        embed_document(root);\n",
       "      } else {\n",
       "        attempts++;\n",
       "        if (attempts > 100) {\n",
       "          clearInterval(timer);\n",
       "          console.log(\"Bokeh: ERROR: Unable to run BokehJS code because BokehJS library is missing\");\n",
       "        }\n",
       "      }\n",
       "    }, 10, root)\n",
       "  }\n",
       "})(window);"
      ],
      "application/vnd.bokehjs_exec.v0+json": ""
     },
     "metadata": {
      "application/vnd.bokehjs_exec.v0+json": {
       "id": "12210"
      }
     },
     "output_type": "display_data"
    },
    {
     "data": {
      "text/html": [
       "\n",
       "\n",
       "\n",
       "\n",
       "\n",
       "\n",
       "  <div class=\"bk-root\" id=\"6203de5c-bf97-4684-9b6d-b3d9ea7f6455\" data-root-id=\"13051\"></div>\n"
      ]
     },
     "metadata": {},
     "output_type": "display_data"
    },
    {
     "data": {
      "application/javascript": [
       "(function(root) {\n",
       "  function embed_document(root) {\n",
       "    \n",
       "  var docs_json = {\"32658377-6380-4650-b0cb-6e0ed5fee573\":{\"roots\":{\"references\":[{\"attributes\":{\"below\":[{\"id\":\"13062\"}],\"center\":[{\"id\":\"13065\"},{\"id\":\"13069\"},{\"id\":\"13107\"},{\"id\":\"13195\"}],\"left\":[{\"id\":\"13066\"}],\"plot_height\":400,\"plot_width\":1000,\"renderers\":[{\"id\":\"13087\"},{\"id\":\"13112\"},{\"id\":\"13139\"},{\"id\":\"13168\"}],\"title\":{\"id\":\"13052\"},\"toolbar\":{\"id\":\"13077\"},\"x_range\":{\"id\":\"13054\"},\"x_scale\":{\"id\":\"13058\"},\"y_range\":{\"id\":\"13056\"},\"y_scale\":{\"id\":\"13060\"}},\"id\":\"13051\",\"subtype\":\"Figure\",\"type\":\"Plot\"},{\"attributes\":{},\"id\":\"13073\",\"type\":\"SaveTool\"},{\"attributes\":{\"source\":{\"id\":\"13135\"}},\"id\":\"13140\",\"type\":\"CDSView\"},{\"attributes\":{\"days\":[1,8,15,22]},\"id\":\"13100\",\"type\":\"DaysTicker\"},{\"attributes\":{},\"id\":\"13161\",\"type\":\"UnionRenderers\"},{\"attributes\":{},\"id\":\"13074\",\"type\":\"ResetTool\"},{\"attributes\":{\"fill_alpha\":{\"value\":0.8},\"fill_color\":{\"value\":\"navy\"},\"line_alpha\":{\"value\":0.8},\"line_color\":{\"value\":\"navy\"},\"size\":{\"units\":\"screen\",\"value\":5},\"x\":{\"field\":\"date\"},\"y\":{\"field\":\"confirmed_cases\"}},\"id\":\"13085\",\"type\":\"Circle\"},{\"attributes\":{\"days\":[1,15]},\"id\":\"13101\",\"type\":\"DaysTicker\"},{\"attributes\":{\"data_source\":{\"id\":\"13135\"},\"glyph\":{\"id\":\"13137\"},\"hover_glyph\":null,\"muted_glyph\":null,\"nonselection_glyph\":{\"id\":\"13138\"},\"selection_glyph\":null,\"view\":{\"id\":\"13140\"}},\"id\":\"13139\",\"type\":\"GlyphRenderer\"},{\"attributes\":{},\"id\":\"13075\",\"type\":\"HelpTool\"},{\"attributes\":{\"months\":[0,1,2,3,4,5,6,7,8,9,10,11]},\"id\":\"13102\",\"type\":\"MonthsTicker\"},{\"attributes\":{},\"id\":\"13067\",\"type\":\"BasicTicker\"},{\"attributes\":{\"months\":[0,2,4,6,8,10]},\"id\":\"13103\",\"type\":\"MonthsTicker\"},{\"attributes\":{\"active_drag\":\"auto\",\"active_inspect\":\"auto\",\"active_multi\":null,\"active_scroll\":\"auto\",\"active_tap\":\"auto\",\"tools\":[{\"id\":\"13070\"},{\"id\":\"13071\"},{\"id\":\"13072\"},{\"id\":\"13073\"},{\"id\":\"13074\"},{\"id\":\"13075\"}]},\"id\":\"13077\",\"type\":\"Toolbar\"},{\"attributes\":{\"axis\":{\"id\":\"13066\"},\"dimension\":1,\"ticker\":null},\"id\":\"13069\",\"type\":\"Grid\"},{\"attributes\":{},\"id\":\"13758\",\"type\":\"UnionRenderers\"},{\"attributes\":{},\"id\":\"13162\",\"type\":\"Selection\"},{\"attributes\":{},\"id\":\"13071\",\"type\":\"WheelZoomTool\"},{\"attributes\":{\"label\":{\"value\":\"7-day rolling avg (NoHo)\"},\"renderers\":[{\"id\":\"13139\"}]},\"id\":\"13163\",\"type\":\"LegendItem\"},{\"attributes\":{\"formatter\":{\"id\":\"13093\"},\"ticker\":{\"id\":\"13067\"}},\"id\":\"13066\",\"type\":\"LinearAxis\"},{\"attributes\":{\"line_alpha\":0.1,\"line_color\":\"navy\",\"line_width\":5,\"x\":{\"field\":\"date\"},\"y\":{\"field\":\"confirmed_cases\"}},\"id\":\"13111\",\"type\":\"Line\"},{\"attributes\":{},\"id\":\"13070\",\"type\":\"PanTool\"},{\"attributes\":{\"months\":[0,4,8]},\"id\":\"13104\",\"type\":\"MonthsTicker\"},{\"attributes\":{\"data_source\":{\"id\":\"13050\"},\"glyph\":{\"id\":\"13110\"},\"hover_glyph\":null,\"muted_glyph\":null,\"nonselection_glyph\":{\"id\":\"13111\"},\"selection_glyph\":null,\"view\":{\"id\":\"13113\"}},\"id\":\"13112\",\"type\":\"GlyphRenderer\"},{\"attributes\":{\"data_source\":{\"id\":\"13164\"},\"glyph\":{\"id\":\"13166\"},\"hover_glyph\":null,\"muted_glyph\":null,\"nonselection_glyph\":{\"id\":\"13167\"},\"selection_glyph\":null,\"view\":{\"id\":\"13169\"}},\"id\":\"13168\",\"type\":\"GlyphRenderer\"},{\"attributes\":{\"num_minor_ticks\":5,\"tickers\":[{\"id\":\"13095\"},{\"id\":\"13096\"},{\"id\":\"13097\"},{\"id\":\"13098\"},{\"id\":\"13099\"},{\"id\":\"13100\"},{\"id\":\"13101\"},{\"id\":\"13102\"},{\"id\":\"13103\"},{\"id\":\"13104\"},{\"id\":\"13105\"},{\"id\":\"13106\"}]},\"id\":\"13063\",\"type\":\"DatetimeTicker\"},{\"attributes\":{\"line_alpha\":0.5,\"line_color\":\"navy\",\"line_width\":5,\"x\":{\"field\":\"date\"},\"y\":{\"field\":\"confirmed_cases\"}},\"id\":\"13110\",\"type\":\"Line\"},{\"attributes\":{\"months\":[0,6]},\"id\":\"13105\",\"type\":\"MonthsTicker\"},{\"attributes\":{\"bottom_units\":\"screen\",\"fill_alpha\":0.5,\"fill_color\":\"lightgrey\",\"left_units\":\"screen\",\"level\":\"overlay\",\"line_alpha\":1.0,\"line_color\":\"black\",\"line_dash\":[4,4],\"line_width\":2,\"render_mode\":\"css\",\"right_units\":\"screen\",\"top_units\":\"screen\"},\"id\":\"13076\",\"type\":\"BoxAnnotation\"},{\"attributes\":{},\"id\":\"13106\",\"type\":\"YearsTicker\"},{\"attributes\":{\"overlay\":{\"id\":\"13076\"}},\"id\":\"13072\",\"type\":\"BoxZoomTool\"},{\"attributes\":{\"axis\":{\"id\":\"13062\"},\"ticker\":null},\"id\":\"13065\",\"type\":\"Grid\"},{\"attributes\":{\"data_source\":{\"id\":\"13049\"},\"glyph\":{\"id\":\"13085\"},\"hover_glyph\":null,\"muted_glyph\":null,\"nonselection_glyph\":{\"id\":\"13086\"},\"selection_glyph\":null,\"view\":{\"id\":\"13088\"}},\"id\":\"13087\",\"type\":\"GlyphRenderer\"},{\"attributes\":{\"items\":[{\"id\":\"13108\"},{\"id\":\"13134\"},{\"id\":\"13163\"},{\"id\":\"13194\"}],\"location\":\"bottom_left\"},\"id\":\"13107\",\"type\":\"Legend\"},{\"attributes\":{\"line_alpha\":0.1,\"line_color\":\"grey\",\"line_width\":5,\"x\":{\"field\":\"date\"},\"y\":{\"field\":\"new_confirmed_cases\"}},\"id\":\"13167\",\"type\":\"Line\"},{\"attributes\":{\"label\":{\"value\":\"daily case growth rate\"},\"renderers\":[{\"id\":\"13087\"}]},\"id\":\"13108\",\"type\":\"LegendItem\"},{\"attributes\":{\"fill_alpha\":{\"value\":0.1},\"fill_color\":{\"value\":\"navy\"},\"line_alpha\":{\"value\":0.1},\"line_color\":{\"value\":\"navy\"},\"size\":{\"units\":\"screen\",\"value\":5},\"x\":{\"field\":\"date\"},\"y\":{\"field\":\"confirmed_cases\"}},\"id\":\"13086\",\"type\":\"Circle\"},{\"attributes\":{},\"id\":\"13192\",\"type\":\"UnionRenderers\"},{\"attributes\":{},\"id\":\"13091\",\"type\":\"DatetimeTickFormatter\"},{\"attributes\":{\"formatter\":{\"id\":\"13091\"},\"ticker\":{\"id\":\"13063\"}},\"id\":\"13062\",\"type\":\"DatetimeAxis\"},{\"attributes\":{\"data\":{\"date\":{\"__ndarray__\":\"AADAa50Qd0IAAIDR7xB3QgAAQDdCEXdCAAAAnZQRd0IAAMAC5xF3QgAAgGg5EndCAABAzosSd0IAAAA03hJ3QgAAwJkwE3dCAACA/4ITd0IAAEBl1RN3QgAAAMsnFHdCAADAMHoUd0IAAICWzBR3QgAAQPweFXdCAAAAYnEVd0IAAMDHwxV3QgAAgC0WFndCAABAk2gWd0IAAAD5uhZ3QgAAwF4NF3dCAACAxF8Xd0IAAEAqshd3QgAAAJAEGHdCAADA9VYYd0IAAIBbqRh3QgAAQMH7GHdCAAAAJ04Zd0IAAMCMoBl3QgAAgPLyGXdCAABAWEUad0IAAAC+lxp3QgAAwCPqGndCAACAiTwbd0IAAEDvjht3QgAAAFXhG3dCAADAujMcd0IAAIAghhx3QgAAQIbYHHdCAAAA7Codd0IAAMBRfR13QgAAgLfPHXdCAABAHSIed0IAAACDdB53QgAAwOjGHndCAACAThkfd0IAAEC0ax93QgAAABq+H3dCAADAfxAgd0IAAIDlYiB3QgAAQEu1IHdCAAAAsQchd0IAAMAWWiF3QgAAgHysIXdCAABA4v4hd0IAAABIUSJ3QgAAwK2jIndCAACAE/Yid0IAAEB5SCN3QgAAAN+aI3dCAADARO0jd0IAAICqPyR3QgAAQBCSJHdCAAAAduQkd0IAAMDbNiV3QgAAgEGJJXdCAABAp9sld0IAAAANLiZ3QgAAwHKAJndCAACA2NImd0IAAEA+JSd3QgAAAKR3J3dCAADACcond0IAAIBvHCh3QgAAQNVuKHdCAAAAO8Eod0IAAMCgEyl3QgAAgAZmKXdCAABAbLgpd0IAAADSCip3QgAAwDddKndCAACAna8qd0IAAEADAit3QgAAAGlUK3dCAADAzqYrd0IAAIA0+St3QgAAQJpLLHdCAAAAAJ4sd0IAAMBl8Cx3Qg==\",\"dtype\":\"float64\",\"shape\":[89]},\"index\":[0,1,2,3,4,5,6,7,8,9,10,11,12,13,14,15,16,17,18,19,20,21,22,23,24,25,26,27,28,29,30,31,32,33,34,35,36,37,38,39,40,41,42,43,44,45,46,47,48,49,50,51,52,53,54,55,56,57,58,59,60,61,62,63,64,65,66,67,68,69,70,71,72,73,74,75,76,77,78,79,80,81,82,83,84,85,86,87,88],\"new_confirmed_cases\":{\"__ndarray__\":\"AAAAAAAA+H+JRCKRSCTyPwbK1gdLFwBAucuuu3ev+D8gbhgi79j3PwlHz6MUNvY/eNfVzz1p9T9mjjW1v7/1P6b4xblTRPU/boaKDAcx8T+nNYWmAg7yP1+POsvGFvI/j5v9+9LZ8T8ReLgyD/LwPy3sQb+ucvA/w/gcFzLw8D9HBV3S2c7vP6oLCueyQ/A/In/RBW2d7j/OsiM3JNjtP+9xoUGG4e4/a7SsLNhY8T/1ToEv9nHwPzg4BfYI6PA/R+GAS5B68T9Wt93sbRfyP1/TJHzajvE/sgV40IDD+j/qbCRy/wn4P/InrX4sh/g/EY3QRUCQ+D+mT/6x32H3P3VNdZ1lFPY/KdSCjHCE9j9Azu4I3DbwP+tjb3MwHu8/kqtaS0iM8z9ZiwChOaPyP5iCzlE18vM/WkrJvB4C9D9t1H56tBP1P682J4BYsPE/yZzkJL0q9z+181ur4BzyP9lNfFL9fvM/9fK6xUJV8j8I20Sm02bzP4erW+54+vE/k6C0WPop8z+7VMdUrzXwP5iawilLI/I/GXXx3ww+8T/FqioiTVbxP9Ja77kIgvE/Dw1VM/e68T+WqmK9D5DwPwCnOUJ+ePI/tVj6LKwN8j9f65O4FXfyP3Eyqi8tFvI/BesC1r3Z8T9vJrkXbXryPwV39nxRUvM/35mFC4y+8T+97jYp4jnwP6QQtwhN/PA/feXWPcr68j95Sjwqdw/zP3hXpZoacPI/g8GIO/bP8T9nxTuoNz7wP/MNK0RcHPE/vZC5gCWL8T9dLX+2m6fvP/YqrDUN7O4/Op3aTNOb8D+clubVJRbwP3GjV54vw/A/89kozYHg8D/rQM5NoF3xP839Oei2LPE/0ShLhdku8T+8UsGCQxLwP5uJoPDhrPA/Wemv0A8T8T+dax4i/JTyP6wjmARREvA/TCTAgqH68D/2omM5PkHyPw==\",\"dtype\":\"float64\",\"shape\":[89]},\"new_deaths\":{\"__ndarray__\":\"AAAAAAAA+H8AAAAAAAD4P6qqqqqqqgBA4ziO4ziO+T93d3d3d/f3P9ajcD0K1/U/7+7u7u7u9T+eJezmtxD2P6WaPO4sYfU/yuPOEnbz8T9281sIGKXyP7cQMEo1efQ/hgRtGSm28z+F+9wYICbzPxfis2J02PM/L1xVeu558z9h0x1XEO3yP3H1EutsivI/ktiVd3i88D8P6mqyc9/yP/PzTgpPCfI/0uzc6UeX8T+AyreXJXLxP2fZUNOJYPI/wQ9QYPOS8j9Kroo3UsHzPxAWw+GMMvE/Z73yxGIc8T+iZGb/CZDzPxn5BPk2i/Q/6exByCrI8z8OAtpgEabzP5nXjzL+uPE/QUsO9p7+8T9Xqv8L/u/zP9nKB44e+PE/2swZMNE/8T9x2dpqq/zwP5pKUnWgg/E/+ZRs60cS8T8OqOBCcTjxP1ylf55TDfE/Im+gkBRj8T/TGwtMMiTxPzWNKQnWRvE/V5No1oYw8T+ISVfw36rxPz/EAqhaVvE/ktVN7YZr8z/fN+4N8tbxPwYdpHci1fE/xqu8ZBUP8j+hz3I/OcXxP0lTree8//E/2AfX/0u/8j9CNPeRvMftP1cAX39ER/U/tw6Ltt9m9D9Wflgp6xL0P3rH6k00pfM/41TBtsF79D+mb5/QftDzP4EmDaw1PvM/yrgx9cdi8j9ZnUCtaXD1P9eoQVC+A/U/6uDCY/aE9j/HjEstFlb1PybDnqvPnPU/J2K72dLa9j8P3FnBTHn0P/VI+W5RkvE/qbyNmgtW8j+rMKSWAivxP/UykDwj8/I/YS7bw+ip8j/7JF6mTFHxP/5Lzqhzwfc/eWcHQP2y+D9xFxWBvEX4P0j4GPezJPc/S+EWsQr++z8amx9l+pr7P6iosn426P0/iSbUD1bG9T/6sjlQ1mj1P8GZ9TEe3vU/7iVzxRDC9z/sB5PD8uHxPw==\",\"dtype\":\"float64\",\"shape\":[89]}},\"selected\":{\"id\":\"13759\"},\"selection_policy\":{\"id\":\"13758\"}},\"id\":\"13164\",\"type\":\"ColumnDataSource\"},{\"attributes\":{\"source\":{\"id\":\"13049\"}},\"id\":\"13088\",\"type\":\"CDSView\"},{\"attributes\":{\"line_alpha\":0.2,\"line_color\":\"grey\",\"line_width\":5,\"x\":{\"field\":\"date\"},\"y\":{\"field\":\"new_confirmed_cases\"}},\"id\":\"13166\",\"type\":\"Line\"},{\"attributes\":{\"source\":{\"id\":\"13050\"}},\"id\":\"13113\",\"type\":\"CDSView\"},{\"attributes\":{},\"id\":\"13132\",\"type\":\"UnionRenderers\"},{\"attributes\":{\"source\":{\"id\":\"13164\"}},\"id\":\"13169\",\"type\":\"CDSView\"},{\"attributes\":{},\"id\":\"13060\",\"type\":\"LinearScale\"},{\"attributes\":{},\"id\":\"13093\",\"type\":\"BasicTickFormatter\"},{\"attributes\":{\"data\":{\"confirmed_cases\":{\"__ndarray__\":\"AAAAAAAAAAAAAAAAAAAAAAAAAAAAAOA/AAAAAAAACEAAAAAAAADwP1VVVVVVVfU/AAAAAAAA9D+amZmZmZnpPwAAAAAAAPw/27Zt27Zt2z9VVVVVVVXlPxEREREREeE/AAAAAAAAAABVVVVVVVXVPwAAAAAAAOg/AAAAAAAAAEAAAAAAAADwP1VVVVVVVeU/AAAAAAAAAEAAAAAAAADyPxzHcRzHcdw/AAAAAAAA/D8lSZIkSZIEQKuqqqqqqvo/RERERERE5D82lNdQXkPpPxEREREREfE/AAAAAAAA4j9VVVVVVVXlPwAAAAAAAARAVVVVVVVV1T8AAAAAAAAQQAAAAAAAAAAAvLu7u7u72z+e2Imd2IntP1VVVVVVVfE/7MRO7MRODEC96U1vetPLPwAAAAAAAPA/zczMzMzM/D9VVVVVVVXVP6uqqqqqqvI/t23btm3b9j8AAAAAAAAAQDMzMzMzM+s/Hh4eHh4e7j8AAAAAAAAAAKuqqqqqquI/JUmSJEmS5D8AAAAAAAAAQAAAAAAAAAAAOL3pTW964z9JkiRJkiTxP97d3d3d3d0/27Zt27Zt+z+rqqqqqqrqP83MzMzMzPQ/2Ymd2Imd6D+amZmZmZn5PwAAAAAAAPs/HMdxHMdx7D9VVVVVVVXlPwAAAAAAAOw/SZIkSZIk8T/NzMzMzMz8P2gvob2E9tI/AAAAAAAA8j/HcRzHcRz3P4qd2Imd2Pk/GIZhGIZh6D8AAAAAAADkP2ZmZmZmZvY/SZIkSZIk8T/e3d3d3d3tPwAAAAAAAPA/JUmSJEmS5D9yHMdxHMfxP2ZmZmZmZgZA27Zt27Zt4z9aWlpaWlrqPwAAAAAAAPg/\",\"dtype\":\"float64\",\"shape\":[81]},\"date\":{\"__ndarray__\":\"AABAoPgPd0IAAMBrnRB3QgAAgGg5EndCAABAzosSd0IAAAA03hJ3QgAAwJkwE3dCAACA/4ITd0IAAEBl1RN3QgAAAMsnFHdCAADAMHoUd0IAAICWzBR3QgAAAGJxFXdCAADAx8MVd0IAAECTaBZ3QgAAAPm6FndCAADAXg0Xd0IAAIDEXxd3QgAAQCqyF3dCAAAAkAQYd0IAAMD1Vhh3QgAAgFupGHdCAABAwfsYd0IAAAAnThl3QgAAwIygGXdCAACA8vIZd0IAAEBYRRp3QgAAAL6XGndCAADAI+oad0IAAICJPBt3QgAAQO+OG3dCAAAAVeEbd0IAAMC6Mxx3QgAAgCCGHHdCAAAA7Codd0IAAMBRfR13QgAAgLfPHXdCAABAHSIed0IAAACDdB53QgAAwOjGHndCAACAThkfd0IAAEC0ax93QgAAABq+H3dCAADAfxAgd0IAAIDlYiB3QgAAQEu1IHdCAAAAsQchd0IAAMAWWiF3QgAAQOL+IXdCAAAASFEid0IAAMCtoyJ3QgAAgBP2IndCAAAA35ojd0IAAMBE7SN3QgAAgKo/JHdCAABAEJIkd0IAAAB25CR3QgAAwNs2JXdCAACAQYkld0IAAECn2yV3QgAAAA0uJndCAADAcoAmd0IAAIDY0iZ3QgAAQD4lJ3dCAAAApHcnd0IAAMAJyid3QgAAgG8cKHdCAABA1W4od0IAAAA7wSh3QgAAwKATKXdCAACABmYpd0IAAEBsuCl3QgAAANIKKndCAADAN10qd0IAAICdryp3QgAAQAMCK3dCAAAAaVQrd0IAAMDOpit3QgAAgDT5K3dCAABAmkssd0IAAAAAnix3QgAAwGXwLHdC\",\"dtype\":\"float64\",\"shape\":[81]},\"index\":[0,1,2,3,4,5,6,7,8,9,10,11,12,13,14,15,16,17,18,19,20,21,22,23,24,25,26,27,28,29,30,31,32,33,34,35,36,37,38,39,40,41,42,43,44,45,46,47,48,49,50,51,52,53,54,55,56,57,58,59,60,61,62,63,64,65,66,67,68,69,70,71,72,73,74,75,76,77,78,79,80]},\"selected\":{\"id\":\"13133\"},\"selection_policy\":{\"id\":\"13132\"}},\"id\":\"13049\",\"type\":\"ColumnDataSource\"},{\"attributes\":{},\"id\":\"13133\",\"type\":\"Selection\"},{\"attributes\":{\"mantissas\":[1,2,5],\"max_interval\":500.0,\"num_minor_ticks\":0},\"id\":\"13095\",\"type\":\"AdaptiveTicker\"},{\"attributes\":{},\"id\":\"13193\",\"type\":\"Selection\"},{\"attributes\":{},\"id\":\"13056\",\"type\":\"DataRange1d\"},{\"attributes\":{\"label\":{\"value\":\"7-day rolling avg (Van Nuys)\"},\"renderers\":[{\"id\":\"13112\"}]},\"id\":\"13134\",\"type\":\"LegendItem\"},{\"attributes\":{\"label\":{\"value\":\"7-day rolling avg (LA County)\"},\"renderers\":[{\"id\":\"13168\"}]},\"id\":\"13194\",\"type\":\"LegendItem\"},{\"attributes\":{},\"id\":\"13054\",\"type\":\"DataRange1d\"},{\"attributes\":{\"text\":\"Van Nuys case growth rate (trimmed)\"},\"id\":\"13052\",\"type\":\"Title\"},{\"attributes\":{\"line_color\":\"red\",\"line_dash\":[6],\"line_width\":3,\"location\":1},\"id\":\"13195\",\"type\":\"Span\"},{\"attributes\":{\"base\":60,\"mantissas\":[1,2,5,10,15,20,30],\"max_interval\":1800000.0,\"min_interval\":1000.0,\"num_minor_ticks\":0},\"id\":\"13096\",\"type\":\"AdaptiveTicker\"},{\"attributes\":{},\"id\":\"13058\",\"type\":\"LinearScale\"},{\"attributes\":{\"data\":{\"confirmed_cases\":{\"__ndarray__\":\"AAAAAAAAAAAAAAAAAAAAAAAAAAAAANA/q6qqqqqq8j8AAAAAAAD4P1VVVVVVVfc/qqqqqqqq9j9bsAVbsAX1P07gBE7gBPY/Q4K2jBTb9T/uLGE3v4XwP6WaPO4sYf8/Yn1orA+N/T+rD431obH6P7RTO7VTO/k/a8EWbMEW+j9P+qRP+qT9P/NJn/RJn+g/VFVVVVVV6T/////////xP/////////E/EARBEARB8j+iKIqiKIr0P/YY/ayG2PU/VzGDDp9e9z8fsG/WHUv3P9mDWiXJhvQ/t2E4A6dk9D8Idn1Uu6n0P2qOA7bTL/I/XzC19AcG8j83/1FjrvPtP7v6WlHSq/Y/3d3d3d3d9D980id90if1P2zd1m3d1vU/+sAP/MAP8j+7yZu8yZv6P5m+QvSGhfA/RGntnjEw8z+hwOiAtY/0P/k8rtgxVfQ/4cU8wbrj9D8TN+I8vq31P9D+XfmFKfI/Sx53lrCb8z+7slQGRXnzP8/hbmQGuO4/4yPz5iPz7j/XYMLaYMLqP9dgwtpgwuo/T9g5Utg55j+WVqHSE4voP+v450fBKuo/965IU3eL6T9kiv/AUkLvP9WmxjJvCek/xJW1IV747z/HAWlgZOvuP1EJTC7AufE/a/SPkT0i8z/dA4cCTRn0P0NLtERLtPE/yqzMyqzM8T/bf2uT7UbxP46lxkUTovM/4HV27Tin8D+bolq2KLzuP59lcqwoo/A/UYidXkvO8j/AyDYXHozyP//8DJ/khvE/Xu4i/tWc8D8lZmImZmLyPyI/8iM/8vE/4S7u4i7u8D9YhPw1O2rtP75U3gnnAu8/6dnnDyN69D8Pxs7HM6ryP1QlGVYlGfI/DrpkD7pk8z8=\",\"dtype\":\"float64\",\"shape\":[82]},\"date\":{\"__ndarray__\":\"AABAoPgPd0IAAMBrnRB3QgAAgGg5EndCAABAzosSd0IAAAA03hJ3QgAAwJkwE3dCAACA/4ITd0IAAEBl1RN3QgAAAMsnFHdCAADAMHoUd0IAAICWzBR3QgAAQPweFXdCAAAAYnEVd0IAAMDHwxV3QgAAQJNoFndCAAAA+boWd0IAAMBeDRd3QgAAgMRfF3dCAABAKrIXd0IAAACQBBh3QgAAwPVWGHdCAACAW6kYd0IAAEDB+xh3QgAAACdOGXdCAADAjKAZd0IAAIDy8hl3QgAAQFhFGndCAAAAvpcad0IAAMAj6hp3QgAAgIk8G3dCAABA744bd0IAAABV4Rt3QgAAwLozHHdCAACAIIYcd0IAAADsKh13QgAAwFF9HXdCAACAt88dd0IAAEAdIh53QgAAAIN0HndCAADA6MYed0IAAIBOGR93QgAAQLRrH3dCAAAAGr4fd0IAAMB/ECB3QgAAgOViIHdCAABAS7Ugd0IAAACxByF3QgAAwBZaIXdCAABA4v4hd0IAAABIUSJ3QgAAwK2jIndCAACAE/Yid0IAAADfmiN3QgAAwETtI3dCAACAqj8kd0IAAEAQkiR3QgAAAHbkJHdCAADA2zYld0IAAIBBiSV3QgAAQKfbJXdCAAAADS4md0IAAMBygCZ3QgAAgNjSJndCAABAPiUnd0IAAACkdyd3QgAAwAnKJ3dCAACAbxwod0IAAEDVbih3QgAAADvBKHdCAADAoBMpd0IAAIAGZil3QgAAQGy4KXdCAAAA0goqd0IAAMA3XSp3QgAAgJ2vKndCAABAAwIrd0IAAABpVCt3QgAAwM6mK3dCAACANPkrd0IAAECaSyx3QgAAAACeLHdCAADAZfAsd0I=\",\"dtype\":\"float64\",\"shape\":[82]},\"index\":[0,1,2,3,4,5,6,7,8,9,10,11,12,13,14,15,16,17,18,19,20,21,22,23,24,25,26,27,28,29,30,31,32,33,34,35,36,37,38,39,40,41,42,43,44,45,46,47,48,49,50,51,52,53,54,55,56,57,58,59,60,61,62,63,64,65,66,67,68,69,70,71,72,73,74,75,76,77,78,79,80,81]},\"selected\":{\"id\":\"13162\"},\"selection_policy\":{\"id\":\"13161\"}},\"id\":\"13050\",\"type\":\"ColumnDataSource\"},{\"attributes\":{\"base\":24,\"mantissas\":[1,2,4,6,8,12],\"max_interval\":43200000.0,\"min_interval\":3600000.0,\"num_minor_ticks\":0},\"id\":\"13097\",\"type\":\"AdaptiveTicker\"},{\"attributes\":{\"line_alpha\":0.1,\"line_color\":\"red\",\"line_width\":5,\"x\":{\"field\":\"date\"},\"y\":{\"field\":\"confirmed_cases\"}},\"id\":\"13138\",\"type\":\"Line\"},{\"attributes\":{},\"id\":\"13759\",\"type\":\"Selection\"},{\"attributes\":{\"line_alpha\":0.2,\"line_color\":\"red\",\"line_width\":5,\"x\":{\"field\":\"date\"},\"y\":{\"field\":\"confirmed_cases\"}},\"id\":\"13137\",\"type\":\"Line\"},{\"attributes\":{\"days\":[1,2,3,4,5,6,7,8,9,10,11,12,13,14,15,16,17,18,19,20,21,22,23,24,25,26,27,28,29,30,31]},\"id\":\"13098\",\"type\":\"DaysTicker\"},{\"attributes\":{\"data\":{\"confirmed_cases\":{\"__ndarray__\":\"AAAAAAAA8D8AAAAAAAD4PwAAAAAAAPA/AAAAAAAA6j8zMzMzMzPrPzMzMzMzM/c/MzMzMzMz8z+7u7u7u7v7PxzHcRzHcfg/z/M8z/M89z9hGIZhGIb5P7Ef+7Ef+/k/jdZojdZo9T+ZmZmZmZn1P5D92I/92PM/53QzbWdO8z+fzD0oIP3xP3LMroNzLec/+twSp37P1z/x7u7u7u7YPy35xZJfLO0/tmALtmAL8T++f4emIhPxPwcSrO+0N/I/jZUZeLNs8z9wwdda3yr2P1+9lkrb6fU/sF5Lpe30AkDLCx3AmsYBQMeQVevZ5wJAzb/8y7/8AkB1PddzPdcCQEEKpEAKpAFAKpESKZESAkBTIiVSIiX0P30K/SW1p/I/Dy9GuNnw+j/GnCFvR8z5P+QDd/7K6Pg/2U0W8xSI+T9z56+MriHzPzubszmbswBA7LwrMNSI9D+jKgfnQWT3P9srexbSgfQ/8AZRvdGg/T+HdkpUQZr8Pxmbk+Zl4/4/0AhvndO+9T+bWPdQxtL3P7ZDO7RDO/c/ZjzGYzzG9j+EkKGyw9TsP/sHGSo7TOw/bCTgm1cT5j9LZYepy+3dP6XiaQkS4tw/+KZ0DBA87z+Bzy1x6vfwP5CClHC4KOw/7ZBE3asO+z8Pnhb+uOD7P3qHXP55d/o/78Iu7MIu/j+JpqSGpqT4P+ZwSuNwSvk/+7Kh681r+T/jORDUVNrxP/WkG+W/5fI/gW/EcYqO8T8px/X0mC3wP4/wlieUBu4/KH0Z9E5R8z8HC0ngwbbzP6I9RNlog/I/U+70iRk08z8QtnBG4a/1P82o5Scdt/M/yAQxDByO9j9v5RYh2CrxP45NEUBAJfA/uYwyDgt1+D8zKxqIqVz6P6Vs4I3Cc/g/7w3112OI+j/5/4n4spH4Pw==\",\"dtype\":\"float64\",\"shape\":[86]},\"date\":{\"__ndarray__\":\"AAAAbwEPd0IAAMDUUw93QgAAgDqmD3dCAADAa50Qd0IAAIDR7xB3QgAAQDdCEXdCAAAAnZQRd0IAAMAC5xF3QgAAgGg5EndCAABAzosSd0IAAAA03hJ3QgAAwJkwE3dCAACA/4ITd0IAAEBl1RN3QgAAAMsnFHdCAADAMHoUd0IAAABicRV3QgAAwMfDFXdCAABAk2gWd0IAAAD5uhZ3QgAAwF4NF3dCAACAxF8Xd0IAAEAqshd3QgAAAJAEGHdCAADA9VYYd0IAAIBbqRh3QgAAQMH7GHdCAAAAJ04Zd0IAAMCMoBl3QgAAgPLyGXdCAABAWEUad0IAAAC+lxp3QgAAwCPqGndCAACAiTwbd0IAAEDvjht3QgAAAFXhG3dCAADAujMcd0IAAIAghhx3QgAAAOwqHXdCAADAUX0dd0IAAIC3zx13QgAAQB0iHndCAAAAg3Qed0IAAMDoxh53QgAAgE4ZH3dCAABAtGsfd0IAAAAavh93QgAAwH8QIHdCAACA5WIgd0IAAEBLtSB3QgAAALEHIXdCAADAFlohd0IAAEDi/iF3QgAAAEhRIndCAADAraMid0IAAIAT9iJ3QgAAAN+aI3dCAADARO0jd0IAAICqPyR3QgAAQBCSJHdCAAAAduQkd0IAAMDbNiV3QgAAgEGJJXdCAABAp9sld0IAAAANLiZ3QgAAwHKAJndCAACA2NImd0IAAEA+JSd3QgAAAKR3J3dCAADACcond0IAAIBvHCh3QgAAQNVuKHdCAAAAO8Eod0IAAMCgEyl3QgAAgAZmKXdCAABAbLgpd0IAAADSCip3QgAAwDddKndCAACAna8qd0IAAEADAit3QgAAAGlUK3dCAADAzqYrd0IAAIA0+St3QgAAQJpLLHdCAAAAAJ4sd0IAAMBl8Cx3Qg==\",\"dtype\":\"float64\",\"shape\":[86]},\"index\":[0,1,2,3,4,5,6,7,8,9,10,11,12,13,14,15,16,17,18,19,20,21,22,23,24,25,26,27,28,29,30,31,32,33,34,35,36,37,38,39,40,41,42,43,44,45,46,47,48,49,50,51,52,53,54,55,56,57,58,59,60,61,62,63,64,65,66,67,68,69,70,71,72,73,74,75,76,77,78,79,80,81,82,83,84,85]},\"selected\":{\"id\":\"13193\"},\"selection_policy\":{\"id\":\"13192\"}},\"id\":\"13135\",\"type\":\"ColumnDataSource\"},{\"attributes\":{\"days\":[1,4,7,10,13,16,19,22,25,28]},\"id\":\"13099\",\"type\":\"DaysTicker\"}],\"root_ids\":[\"13051\"]},\"title\":\"Bokeh Application\",\"version\":\"2.0.2\"}};\n",
       "  var render_items = [{\"docid\":\"32658377-6380-4650-b0cb-6e0ed5fee573\",\"root_ids\":[\"13051\"],\"roots\":{\"13051\":\"6203de5c-bf97-4684-9b6d-b3d9ea7f6455\"}}];\n",
       "  root.Bokeh.embed.embed_items_notebook(docs_json, render_items);\n",
       "\n",
       "  }\n",
       "  if (root.Bokeh !== undefined) {\n",
       "    embed_document(root);\n",
       "  } else {\n",
       "    var attempts = 0;\n",
       "    var timer = setInterval(function(root) {\n",
       "      if (root.Bokeh !== undefined) {\n",
       "        clearInterval(timer);\n",
       "        embed_document(root);\n",
       "      } else {\n",
       "        attempts++;\n",
       "        if (attempts > 100) {\n",
       "          clearInterval(timer);\n",
       "          console.log(\"Bokeh: ERROR: Unable to run BokehJS code because BokehJS library is missing\");\n",
       "        }\n",
       "      }\n",
       "    }, 10, root)\n",
       "  }\n",
       "})(window);"
      ],
      "application/vnd.bokehjs_exec.v0+json": ""
     },
     "metadata": {
      "application/vnd.bokehjs_exec.v0+json": {
       "id": "13051"
      }
     },
     "output_type": "display_data"
    },
    {
     "data": {
      "text/html": [
       "\n",
       "\n",
       "\n",
       "\n",
       "\n",
       "\n",
       "  <div class=\"bk-root\" id=\"a42f1377-fa0e-4f40-b1fd-16ff705388fd\" data-root-id=\"13918\"></div>\n"
      ]
     },
     "metadata": {},
     "output_type": "display_data"
    },
    {
     "data": {
      "application/javascript": [
       "(function(root) {\n",
       "  function embed_document(root) {\n",
       "    \n",
       "  var docs_json = {\"a03d3dbd-8fdd-4558-b55e-c9d84bb82620\":{\"roots\":{\"references\":[{\"attributes\":{\"below\":[{\"id\":\"13929\"}],\"center\":[{\"id\":\"13932\"},{\"id\":\"13936\"},{\"id\":\"13974\"},{\"id\":\"14062\"}],\"left\":[{\"id\":\"13933\"}],\"plot_height\":400,\"plot_width\":1000,\"renderers\":[{\"id\":\"13954\"},{\"id\":\"13979\"},{\"id\":\"14006\"},{\"id\":\"14035\"}],\"title\":{\"id\":\"13919\"},\"toolbar\":{\"id\":\"13944\"},\"x_range\":{\"id\":\"13921\"},\"x_scale\":{\"id\":\"13925\"},\"y_range\":{\"id\":\"13923\"},\"y_scale\":{\"id\":\"13927\"}},\"id\":\"13918\",\"subtype\":\"Figure\",\"type\":\"Plot\"},{\"attributes\":{\"line_alpha\":0.1,\"line_color\":\"red\",\"line_width\":5,\"x\":{\"field\":\"date\"},\"y\":{\"field\":\"confirmed_cases\"}},\"id\":\"14005\",\"type\":\"Line\"},{\"attributes\":{\"overlay\":{\"id\":\"13943\"}},\"id\":\"13939\",\"type\":\"BoxZoomTool\"},{\"attributes\":{\"days\":[1,4,7,10,13,16,19,22,25,28]},\"id\":\"13966\",\"type\":\"DaysTicker\"},{\"attributes\":{},\"id\":\"13940\",\"type\":\"SaveTool\"},{\"attributes\":{\"source\":{\"id\":\"14002\"}},\"id\":\"14007\",\"type\":\"CDSView\"},{\"attributes\":{\"num_minor_ticks\":5,\"tickers\":[{\"id\":\"13962\"},{\"id\":\"13963\"},{\"id\":\"13964\"},{\"id\":\"13965\"},{\"id\":\"13966\"},{\"id\":\"13967\"},{\"id\":\"13968\"},{\"id\":\"13969\"},{\"id\":\"13970\"},{\"id\":\"13971\"},{\"id\":\"13972\"},{\"id\":\"13973\"}]},\"id\":\"13930\",\"type\":\"DatetimeTicker\"},{\"attributes\":{\"days\":[1,8,15,22]},\"id\":\"13967\",\"type\":\"DaysTicker\"},{\"attributes\":{},\"id\":\"13941\",\"type\":\"ResetTool\"},{\"attributes\":{\"axis\":{\"id\":\"13929\"},\"ticker\":null},\"id\":\"13932\",\"type\":\"Grid\"},{\"attributes\":{},\"id\":\"14028\",\"type\":\"UnionRenderers\"},{\"attributes\":{\"formatter\":{\"id\":\"13958\"},\"ticker\":{\"id\":\"13930\"}},\"id\":\"13929\",\"type\":\"DatetimeAxis\"},{\"attributes\":{\"days\":[1,15]},\"id\":\"13968\",\"type\":\"DaysTicker\"},{\"attributes\":{},\"id\":\"13942\",\"type\":\"HelpTool\"},{\"attributes\":{\"months\":[0,1,2,3,4,5,6,7,8,9,10,11]},\"id\":\"13969\",\"type\":\"MonthsTicker\"},{\"attributes\":{\"data_source\":{\"id\":\"13917\"},\"glyph\":{\"id\":\"13977\"},\"hover_glyph\":null,\"muted_glyph\":null,\"nonselection_glyph\":{\"id\":\"13978\"},\"selection_glyph\":null,\"view\":{\"id\":\"13980\"}},\"id\":\"13979\",\"type\":\"GlyphRenderer\"},{\"attributes\":{},\"id\":\"14029\",\"type\":\"Selection\"},{\"attributes\":{\"items\":[{\"id\":\"13975\"},{\"id\":\"14001\"},{\"id\":\"14030\"},{\"id\":\"14061\"}],\"location\":\"bottom_left\"},\"id\":\"13974\",\"type\":\"Legend\"},{\"attributes\":{\"active_drag\":\"auto\",\"active_inspect\":\"auto\",\"active_multi\":null,\"active_scroll\":\"auto\",\"active_tap\":\"auto\",\"tools\":[{\"id\":\"13937\"},{\"id\":\"13938\"},{\"id\":\"13939\"},{\"id\":\"13940\"},{\"id\":\"13941\"},{\"id\":\"13942\"}]},\"id\":\"13944\",\"type\":\"Toolbar\"},{\"attributes\":{\"label\":{\"value\":\"7-day rolling avg (NoHo)\"},\"renderers\":[{\"id\":\"14006\"}]},\"id\":\"14030\",\"type\":\"LegendItem\"},{\"attributes\":{\"months\":[0,2,4,6,8,10]},\"id\":\"13970\",\"type\":\"MonthsTicker\"},{\"attributes\":{\"months\":[0,4,8]},\"id\":\"13971\",\"type\":\"MonthsTicker\"},{\"attributes\":{\"data_source\":{\"id\":\"14031\"},\"glyph\":{\"id\":\"14033\"},\"hover_glyph\":null,\"muted_glyph\":null,\"nonselection_glyph\":{\"id\":\"14034\"},\"selection_glyph\":null,\"view\":{\"id\":\"14036\"}},\"id\":\"14035\",\"type\":\"GlyphRenderer\"},{\"attributes\":{\"months\":[0,6]},\"id\":\"13972\",\"type\":\"MonthsTicker\"},{\"attributes\":{},\"id\":\"13999\",\"type\":\"UnionRenderers\"},{\"attributes\":{},\"id\":\"13921\",\"type\":\"DataRange1d\"},{\"attributes\":{},\"id\":\"13973\",\"type\":\"YearsTicker\"},{\"attributes\":{\"label\":{\"value\":\"daily case growth rate\"},\"renderers\":[{\"id\":\"13954\"}]},\"id\":\"13975\",\"type\":\"LegendItem\"},{\"attributes\":{},\"id\":\"13927\",\"type\":\"LinearScale\"},{\"attributes\":{\"source\":{\"id\":\"13917\"}},\"id\":\"13980\",\"type\":\"CDSView\"},{\"attributes\":{\"line_alpha\":0.1,\"line_color\":\"grey\",\"line_width\":5,\"x\":{\"field\":\"date\"},\"y\":{\"field\":\"new_confirmed_cases\"}},\"id\":\"14034\",\"type\":\"Line\"},{\"attributes\":{\"bottom_units\":\"screen\",\"fill_alpha\":0.5,\"fill_color\":\"lightgrey\",\"left_units\":\"screen\",\"level\":\"overlay\",\"line_alpha\":1.0,\"line_color\":\"black\",\"line_dash\":[4,4],\"line_width\":2,\"render_mode\":\"css\",\"right_units\":\"screen\",\"top_units\":\"screen\"},\"id\":\"13943\",\"type\":\"BoxAnnotation\"},{\"attributes\":{\"line_alpha\":0.1,\"line_color\":\"navy\",\"line_width\":5,\"x\":{\"field\":\"date\"},\"y\":{\"field\":\"confirmed_cases\"}},\"id\":\"13978\",\"type\":\"Line\"},{\"attributes\":{\"data\":{\"confirmed_cases\":{\"__ndarray__\":\"AAAAAAAA+D8AAAAAAADoP6uqqqqqqvI/AAAAAAAA8j8AAAAAAADwPwAAAAAAAPI/zczMzMzM7D9VVVVVVVXdP1VVVVVVVfE/3d3d3d3d7T9xHMdxHMf5P+mTPumTPvk/lD7pkz7p+z82WqM1WqP5PzZaozVao/k/f+zHfuzH8j+3YAu2YAviP+U4juM4jts/AwAAAAAA2D8CAAAAAADkPzUzMzMzM+M/mpmZmZmZ8T+9u7u7u7vzP3Mcx3Ecx/U/9TzP8zzP9z+jKIqiKIr2P+26ruu6rvc/HsdxHMdx+D8IaIAGaIDyP6ZP+qRP+vA/EkjWufKA5D+9u7u7u7vzP3t3d3d3d+8/AgAAAAAA8D8CAAAAAADwPyXHcRzHcdw/V1VVVVVV9T8CAAAAAAD1PwIAAAAAAPk/NTMzMzMz9z8BAAAAAAD2P922bdu2bfc/3bZt27Zt9z8nSZIkSZLsP1hVVVVVVe0/WFVVVVVV7T9YVVVVVVXtP62qqqqqquI/zszMzMzM9D81MzMzMzP3P6ZwPQrXo/Q/2aNwPQrX9z9yPQrXo3D5PzUzMzMzM/0/d1AHdVAH+T/g3d3d3d3xPwIAAAAAAPQ/H8dxHMdx8D8fx3Ecx3H0Pz2O4ziO4+w/yXEcx3Ec8T8OwzAMwzDwP+l5nud5nvM/p1zKpVzK8T/9sR/7sR/3Pwl1UAd1UPM/4N3d3d3d9T/z7u7u7u7uP6sNdNpAp+0/cGZmZmZm3j+e/GLJL5bcP5g+6ZM+6es/G2zBFmzB7j8=\",\"dtype\":\"float64\",\"shape\":[73]},\"date\":{\"__ndarray__\":\"AACAOqYPd0IAAECg+A93QgAAwGudEHdCAACA0e8Qd0IAAEA3QhF3QgAAgGg5EndCAABAzosSd0IAAMCZMBN3QgAAgP+CE3dCAABAZdUTd0IAAADLJxR3QgAAwDB6FHdCAACAlswUd0IAAED8HhV3QgAAAGJxFXdCAADAx8MVd0IAAECTaBZ3QgAAAPm6FndCAABAKrIXd0IAAACQBBh3QgAAwPVWGHdCAACAW6kYd0IAAEDB+xh3QgAAACdOGXdCAADAjKAZd0IAAIDy8hl3QgAAQFhFGndCAAAAvpcad0IAAMAj6hp3QgAAgIk8G3dCAAAAVeEbd0IAAMC6Mxx3QgAAgCCGHHdCAAAA7Codd0IAAMBRfR13QgAAwOjGHndCAACAThkfd0IAAEC0ax93QgAAABq+H3dCAADAfxAgd0IAAIDlYiB3QgAAQEu1IHdCAAAAsQchd0IAAMAWWiF3QgAAQOL+IXdCAAAASFEid0IAAMCtoyJ3QgAAgBP2IndCAADARO0jd0IAAICqPyR3QgAAQBCSJHdCAAAAduQkd0IAAMDbNiV3QgAAgEGJJXdCAABAp9sld0IAAMBygCZ3QgAAgNjSJndCAABAPiUnd0IAAACkdyd3QgAAwAnKJ3dCAACAbxwod0IAAEDVbih3QgAAADvBKHdCAADAoBMpd0IAAIAGZil3QgAAQGy4KXdCAACAna8qd0IAAEADAit3QgAAAGlUK3dCAACANPkrd0IAAECaSyx3QgAAAACeLHdCAADAZfAsd0I=\",\"dtype\":\"float64\",\"shape\":[73]},\"index\":[0,1,2,3,4,5,6,7,8,9,10,11,12,13,14,15,16,17,18,19,20,21,22,23,24,25,26,27,28,29,30,31,32,33,34,35,36,37,38,39,40,41,42,43,44,45,46,47,48,49,50,51,52,53,54,55,56,57,58,59,60,61,62,63,64,65,66,67,68,69,70,71,72]},\"selected\":{\"id\":\"14029\"},\"selection_policy\":{\"id\":\"14028\"}},\"id\":\"13917\",\"type\":\"ColumnDataSource\"},{\"attributes\":{\"data_source\":{\"id\":\"13916\"},\"glyph\":{\"id\":\"13952\"},\"hover_glyph\":null,\"muted_glyph\":null,\"nonselection_glyph\":{\"id\":\"13953\"},\"selection_glyph\":null,\"view\":{\"id\":\"13955\"}},\"id\":\"13954\",\"type\":\"GlyphRenderer\"},{\"attributes\":{},\"id\":\"14059\",\"type\":\"UnionRenderers\"},{\"attributes\":{\"data\":{\"date\":{\"__ndarray__\":\"AADAa50Qd0IAAIDR7xB3QgAAQDdCEXdCAAAAnZQRd0IAAMAC5xF3QgAAgGg5EndCAABAzosSd0IAAAA03hJ3QgAAwJkwE3dCAACA/4ITd0IAAEBl1RN3QgAAAMsnFHdCAADAMHoUd0IAAICWzBR3QgAAQPweFXdCAAAAYnEVd0IAAMDHwxV3QgAAgC0WFndCAABAk2gWd0IAAAD5uhZ3QgAAwF4NF3dCAACAxF8Xd0IAAEAqshd3QgAAAJAEGHdCAADA9VYYd0IAAIBbqRh3QgAAQMH7GHdCAAAAJ04Zd0IAAMCMoBl3QgAAgPLyGXdCAABAWEUad0IAAAC+lxp3QgAAwCPqGndCAACAiTwbd0IAAEDvjht3QgAAAFXhG3dCAADAujMcd0IAAIAghhx3QgAAQIbYHHdCAAAA7Codd0IAAMBRfR13QgAAgLfPHXdCAABAHSIed0IAAACDdB53QgAAwOjGHndCAACAThkfd0IAAEC0ax93QgAAABq+H3dCAADAfxAgd0IAAIDlYiB3QgAAQEu1IHdCAAAAsQchd0IAAMAWWiF3QgAAgHysIXdCAABA4v4hd0IAAABIUSJ3QgAAwK2jIndCAACAE/Yid0IAAEB5SCN3QgAAAN+aI3dCAADARO0jd0IAAICqPyR3QgAAQBCSJHdCAAAAduQkd0IAAMDbNiV3QgAAgEGJJXdCAABAp9sld0IAAAANLiZ3QgAAwHKAJndCAACA2NImd0IAAEA+JSd3QgAAAKR3J3dCAADACcond0IAAIBvHCh3QgAAQNVuKHdCAAAAO8Eod0IAAMCgEyl3QgAAgAZmKXdCAABAbLgpd0IAAADSCip3QgAAwDddKndCAACAna8qd0IAAEADAit3QgAAAGlUK3dCAADAzqYrd0IAAIA0+St3QgAAQJpLLHdCAAAAAJ4sd0IAAMBl8Cx3Qg==\",\"dtype\":\"float64\",\"shape\":[89]},\"index\":[0,1,2,3,4,5,6,7,8,9,10,11,12,13,14,15,16,17,18,19,20,21,22,23,24,25,26,27,28,29,30,31,32,33,34,35,36,37,38,39,40,41,42,43,44,45,46,47,48,49,50,51,52,53,54,55,56,57,58,59,60,61,62,63,64,65,66,67,68,69,70,71,72,73,74,75,76,77,78,79,80,81,82,83,84,85,86,87,88],\"new_confirmed_cases\":{\"__ndarray__\":\"AAAAAAAA+H+JRCKRSCTyPwbK1gdLFwBAucuuu3ev+D8gbhgi79j3PwlHz6MUNvY/eNfVzz1p9T9mjjW1v7/1P6b4xblTRPU/boaKDAcx8T+nNYWmAg7yP1+POsvGFvI/j5v9+9LZ8T8ReLgyD/LwPy3sQb+ucvA/w/gcFzLw8D9HBV3S2c7vP6oLCueyQ/A/In/RBW2d7j/OsiM3JNjtP+9xoUGG4e4/a7SsLNhY8T/1ToEv9nHwPzg4BfYI6PA/R+GAS5B68T9Wt93sbRfyP1/TJHzajvE/sgV40IDD+j/qbCRy/wn4P/InrX4sh/g/EY3QRUCQ+D+mT/6x32H3P3VNdZ1lFPY/KdSCjHCE9j9Azu4I3DbwP+tjb3MwHu8/kqtaS0iM8z9ZiwChOaPyP5iCzlE18vM/WkrJvB4C9D9t1H56tBP1P682J4BYsPE/yZzkJL0q9z+181ur4BzyP9lNfFL9fvM/9fK6xUJV8j8I20Sm02bzP4erW+54+vE/k6C0WPop8z+7VMdUrzXwP5iawilLI/I/GXXx3ww+8T/FqioiTVbxP9Ja77kIgvE/Dw1VM/e68T+WqmK9D5DwPwCnOUJ+ePI/tVj6LKwN8j9f65O4FXfyP3Eyqi8tFvI/BesC1r3Z8T9vJrkXbXryPwV39nxRUvM/35mFC4y+8T+97jYp4jnwP6QQtwhN/PA/feXWPcr68j95Sjwqdw/zP3hXpZoacPI/g8GIO/bP8T9nxTuoNz7wP/MNK0RcHPE/vZC5gCWL8T9dLX+2m6fvP/YqrDUN7O4/Op3aTNOb8D+clubVJRbwP3GjV54vw/A/89kozYHg8D/rQM5NoF3xP839Oei2LPE/0ShLhdku8T+8UsGCQxLwP5uJoPDhrPA/Wemv0A8T8T+dax4i/JTyP6wjmARREvA/TCTAgqH68D/2omM5PkHyPw==\",\"dtype\":\"float64\",\"shape\":[89]},\"new_deaths\":{\"__ndarray__\":\"AAAAAAAA+H8AAAAAAAD4P6qqqqqqqgBA4ziO4ziO+T93d3d3d/f3P9ajcD0K1/U/7+7u7u7u9T+eJezmtxD2P6WaPO4sYfU/yuPOEnbz8T9281sIGKXyP7cQMEo1efQ/hgRtGSm28z+F+9wYICbzPxfis2J02PM/L1xVeu558z9h0x1XEO3yP3H1EutsivI/ktiVd3i88D8P6mqyc9/yP/PzTgpPCfI/0uzc6UeX8T+AyreXJXLxP2fZUNOJYPI/wQ9QYPOS8j9Kroo3UsHzPxAWw+GMMvE/Z73yxGIc8T+iZGb/CZDzPxn5BPk2i/Q/6exByCrI8z8OAtpgEabzP5nXjzL+uPE/QUsO9p7+8T9Xqv8L/u/zP9nKB44e+PE/2swZMNE/8T9x2dpqq/zwP5pKUnWgg/E/+ZRs60cS8T8OqOBCcTjxP1ylf55TDfE/Im+gkBRj8T/TGwtMMiTxPzWNKQnWRvE/V5No1oYw8T+ISVfw36rxPz/EAqhaVvE/ktVN7YZr8z/fN+4N8tbxPwYdpHci1fE/xqu8ZBUP8j+hz3I/OcXxP0lTree8//E/2AfX/0u/8j9CNPeRvMftP1cAX39ER/U/tw6Ltt9m9D9Wflgp6xL0P3rH6k00pfM/41TBtsF79D+mb5/QftDzP4EmDaw1PvM/yrgx9cdi8j9ZnUCtaXD1P9eoQVC+A/U/6uDCY/aE9j/HjEstFlb1PybDnqvPnPU/J2K72dLa9j8P3FnBTHn0P/VI+W5RkvE/qbyNmgtW8j+rMKSWAivxP/UykDwj8/I/YS7bw+ip8j/7JF6mTFHxP/5Lzqhzwfc/eWcHQP2y+D9xFxWBvEX4P0j4GPezJPc/S+EWsQr++z8amx9l+pr7P6iosn426P0/iSbUD1bG9T/6sjlQ1mj1P8GZ9TEe3vU/7iVzxRDC9z/sB5PD8uHxPw==\",\"dtype\":\"float64\",\"shape\":[89]}},\"selected\":{\"id\":\"14652\"},\"selection_policy\":{\"id\":\"14651\"}},\"id\":\"14031\",\"type\":\"ColumnDataSource\"},{\"attributes\":{\"text\":\"Valley Glen case growth rate (trimmed)\"},\"id\":\"13919\",\"type\":\"Title\"},{\"attributes\":{\"line_alpha\":0.5,\"line_color\":\"navy\",\"line_width\":5,\"x\":{\"field\":\"date\"},\"y\":{\"field\":\"confirmed_cases\"}},\"id\":\"13977\",\"type\":\"Line\"},{\"attributes\":{\"line_alpha\":0.2,\"line_color\":\"grey\",\"line_width\":5,\"x\":{\"field\":\"date\"},\"y\":{\"field\":\"new_confirmed_cases\"}},\"id\":\"14033\",\"type\":\"Line\"},{\"attributes\":{\"fill_alpha\":{\"value\":0.1},\"fill_color\":{\"value\":\"navy\"},\"line_alpha\":{\"value\":0.1},\"line_color\":{\"value\":\"navy\"},\"size\":{\"units\":\"screen\",\"value\":5},\"x\":{\"field\":\"date\"},\"y\":{\"field\":\"confirmed_cases\"}},\"id\":\"13953\",\"type\":\"Circle\"},{\"attributes\":{\"source\":{\"id\":\"14031\"}},\"id\":\"14036\",\"type\":\"CDSView\"},{\"attributes\":{\"data\":{\"confirmed_cases\":{\"__ndarray__\":\"AAAAAAAA+D8AAAAAAAAAAAAAAAAAAABAAAAAAAAA8D8AAAAAAADgPwAAAAAAAPA/AAAAAAAAAABVVVVVVVXVPwAAAAAAAAhAVVVVVVVV1T8AAAAAAAAUQJqZmZmZmek/AAAAAAAA8D8AAAAAAADoP1VVVVVVVdU/AAAAAAAAAAAAAAAAAADgPwAAAAAAAAAAAAAAAAAA8D8AAAAAAADwPwAAAAAAAOA/AAAAAAAACEBVVVVVVVXlPwAAAAAAAABAAAAAAAAAAkAcx3Ecx3HcPwAAAAAAAPg/q6qqqqqq6j+amZmZmZnZPwAAAAAAAAAAVVVVVVVV5T8AAAAAAAAQQAAAAAAAAAAAVVVVVVVV1T8AAAAAAAAAAAAAAAAAAPA/AAAAAAAAEEAAAAAAAADQPwAAAAAAAPA/AAAAAAAA8D8AAAAAAADwPwAAAAAAAABAAAAAAAAA8D8AAAAAAAAAAAAAAAAAAOA/AAAAAAAA8D8AAAAAAADwPwAAAAAAAAAAAAAAAAAAEEAAAAAAAAD0P5qZmZmZmck/AAAAAAAAAEAAAAAAAADgPwAAAAAAAAhAAAAAAAAAAAAAAAAAAADwPwAAAAAAAPA/VVVVVVVV5T8AAAAAAAAAQAAAAAAAAOg/AAAAAAAA8D9VVVVVVVXlPwAAAAAAAARAmpmZmZmZyT8AAAAAAAAIQFVVVVVVVdU/mpmZmZmZ6T8AAAAAAADgPwAAAAAAAAAAMzMzMzMz4z9VVVVVVVXVPwAAAAAAAAhAVVVVVVVV9T8=\",\"dtype\":\"float64\",\"shape\":[73]},\"date\":{\"__ndarray__\":\"AACAOqYPd0IAAECg+A93QgAAwGudEHdCAACA0e8Qd0IAAEA3QhF3QgAAgGg5EndCAABAzosSd0IAAMCZMBN3QgAAgP+CE3dCAABAZdUTd0IAAADLJxR3QgAAwDB6FHdCAACAlswUd0IAAED8HhV3QgAAAGJxFXdCAADAx8MVd0IAAECTaBZ3QgAAAPm6FndCAABAKrIXd0IAAACQBBh3QgAAwPVWGHdCAACAW6kYd0IAAEDB+xh3QgAAACdOGXdCAADAjKAZd0IAAIDy8hl3QgAAQFhFGndCAAAAvpcad0IAAMAj6hp3QgAAgIk8G3dCAAAAVeEbd0IAAMC6Mxx3QgAAgCCGHHdCAAAA7Codd0IAAMBRfR13QgAAwOjGHndCAACAThkfd0IAAEC0ax93QgAAABq+H3dCAADAfxAgd0IAAIDlYiB3QgAAQEu1IHdCAAAAsQchd0IAAMAWWiF3QgAAQOL+IXdCAAAASFEid0IAAMCtoyJ3QgAAgBP2IndCAADARO0jd0IAAICqPyR3QgAAQBCSJHdCAAAAduQkd0IAAMDbNiV3QgAAgEGJJXdCAABAp9sld0IAAMBygCZ3QgAAgNjSJndCAABAPiUnd0IAAACkdyd3QgAAwAnKJ3dCAACAbxwod0IAAEDVbih3QgAAADvBKHdCAADAoBMpd0IAAIAGZil3QgAAQGy4KXdCAACAna8qd0IAAEADAit3QgAAAGlUK3dCAACANPkrd0IAAECaSyx3QgAAAACeLHdCAADAZfAsd0I=\",\"dtype\":\"float64\",\"shape\":[73]},\"index\":[0,1,2,3,4,5,6,7,8,9,10,11,12,13,14,15,16,17,18,19,20,21,22,23,24,25,26,27,28,29,30,31,32,33,34,35,36,37,38,39,40,41,42,43,44,45,46,47,48,49,50,51,52,53,54,55,56,57,58,59,60,61,62,63,64,65,66,67,68,69,70,71,72]},\"selected\":{\"id\":\"14000\"},\"selection_policy\":{\"id\":\"13999\"}},\"id\":\"13916\",\"type\":\"ColumnDataSource\"},{\"attributes\":{},\"id\":\"13958\",\"type\":\"DatetimeTickFormatter\"},{\"attributes\":{},\"id\":\"13925\",\"type\":\"LinearScale\"},{\"attributes\":{\"source\":{\"id\":\"13916\"}},\"id\":\"13955\",\"type\":\"CDSView\"},{\"attributes\":{\"fill_alpha\":{\"value\":0.8},\"fill_color\":{\"value\":\"navy\"},\"line_alpha\":{\"value\":0.8},\"line_color\":{\"value\":\"navy\"},\"size\":{\"units\":\"screen\",\"value\":5},\"x\":{\"field\":\"date\"},\"y\":{\"field\":\"confirmed_cases\"}},\"id\":\"13952\",\"type\":\"Circle\"},{\"attributes\":{},\"id\":\"14000\",\"type\":\"Selection\"},{\"attributes\":{},\"id\":\"14060\",\"type\":\"Selection\"},{\"attributes\":{\"label\":{\"value\":\"7-day rolling avg (Valley Glen)\"},\"renderers\":[{\"id\":\"13979\"}]},\"id\":\"14001\",\"type\":\"LegendItem\"},{\"attributes\":{},\"id\":\"13934\",\"type\":\"BasicTicker\"},{\"attributes\":{\"label\":{\"value\":\"7-day rolling avg (LA County)\"},\"renderers\":[{\"id\":\"14035\"}]},\"id\":\"14061\",\"type\":\"LegendItem\"},{\"attributes\":{},\"id\":\"13960\",\"type\":\"BasicTickFormatter\"},{\"attributes\":{\"line_color\":\"red\",\"line_dash\":[6],\"line_width\":3,\"location\":1},\"id\":\"14062\",\"type\":\"Span\"},{\"attributes\":{\"data_source\":{\"id\":\"14002\"},\"glyph\":{\"id\":\"14004\"},\"hover_glyph\":null,\"muted_glyph\":null,\"nonselection_glyph\":{\"id\":\"14005\"},\"selection_glyph\":null,\"view\":{\"id\":\"14007\"}},\"id\":\"14006\",\"type\":\"GlyphRenderer\"},{\"attributes\":{\"mantissas\":[1,2,5],\"max_interval\":500.0,\"num_minor_ticks\":0},\"id\":\"13962\",\"type\":\"AdaptiveTicker\"},{\"attributes\":{},\"id\":\"14651\",\"type\":\"UnionRenderers\"},{\"attributes\":{},\"id\":\"13923\",\"type\":\"DataRange1d\"},{\"attributes\":{\"base\":60,\"mantissas\":[1,2,5,10,15,20,30],\"max_interval\":1800000.0,\"min_interval\":1000.0,\"num_minor_ticks\":0},\"id\":\"13963\",\"type\":\"AdaptiveTicker\"},{\"attributes\":{},\"id\":\"14652\",\"type\":\"Selection\"},{\"attributes\":{\"formatter\":{\"id\":\"13960\"},\"ticker\":{\"id\":\"13934\"}},\"id\":\"13933\",\"type\":\"LinearAxis\"},{\"attributes\":{\"line_alpha\":0.2,\"line_color\":\"red\",\"line_width\":5,\"x\":{\"field\":\"date\"},\"y\":{\"field\":\"confirmed_cases\"}},\"id\":\"14004\",\"type\":\"Line\"},{\"attributes\":{\"axis\":{\"id\":\"13933\"},\"dimension\":1,\"ticker\":null},\"id\":\"13936\",\"type\":\"Grid\"},{\"attributes\":{\"base\":24,\"mantissas\":[1,2,4,6,8,12],\"max_interval\":43200000.0,\"min_interval\":3600000.0,\"num_minor_ticks\":0},\"id\":\"13964\",\"type\":\"AdaptiveTicker\"},{\"attributes\":{},\"id\":\"13937\",\"type\":\"PanTool\"},{\"attributes\":{\"data\":{\"confirmed_cases\":{\"__ndarray__\":\"AAAAAAAA8D8AAAAAAAD4PwAAAAAAAPA/AAAAAAAA6j8zMzMzMzPrPzMzMzMzM/c/MzMzMzMz8z+7u7u7u7v7PxzHcRzHcfg/z/M8z/M89z9hGIZhGIb5P7Ef+7Ef+/k/jdZojdZo9T+ZmZmZmZn1P5D92I/92PM/53QzbWdO8z+fzD0oIP3xP3LMroNzLec/+twSp37P1z/x7u7u7u7YPy35xZJfLO0/tmALtmAL8T++f4emIhPxPwcSrO+0N/I/jZUZeLNs8z9wwdda3yr2P1+9lkrb6fU/sF5Lpe30AkDLCx3AmsYBQMeQVevZ5wJAzb/8y7/8AkB1PddzPdcCQEEKpEAKpAFAKpESKZESAkBTIiVSIiX0P30K/SW1p/I/Dy9GuNnw+j/GnCFvR8z5P+QDd/7K6Pg/2U0W8xSI+T9z56+MriHzPzubszmbswBA7LwrMNSI9D+jKgfnQWT3P9srexbSgfQ/8AZRvdGg/T+HdkpUQZr8Pxmbk+Zl4/4/0AhvndO+9T+bWPdQxtL3P7ZDO7RDO/c/ZjzGYzzG9j+EkKGyw9TsP/sHGSo7TOw/bCTgm1cT5j9LZYepy+3dP6XiaQkS4tw/+KZ0DBA87z+Bzy1x6vfwP5CClHC4KOw/7ZBE3asO+z8Pnhb+uOD7P3qHXP55d/o/78Iu7MIu/j+JpqSGpqT4P+ZwSuNwSvk/+7Kh681r+T/jORDUVNrxP/WkG+W/5fI/gW/EcYqO8T8px/X0mC3wP4/wlieUBu4/KH0Z9E5R8z8HC0ngwbbzP6I9RNlog/I/U+70iRk08z8QtnBG4a/1P82o5Scdt/M/yAQxDByO9j9v5RYh2CrxP45NEUBAJfA/uYwyDgt1+D8zKxqIqVz6P6Vs4I3Cc/g/7w3112OI+j/5/4n4spH4Pw==\",\"dtype\":\"float64\",\"shape\":[86]},\"date\":{\"__ndarray__\":\"AAAAbwEPd0IAAMDUUw93QgAAgDqmD3dCAADAa50Qd0IAAIDR7xB3QgAAQDdCEXdCAAAAnZQRd0IAAMAC5xF3QgAAgGg5EndCAABAzosSd0IAAAA03hJ3QgAAwJkwE3dCAACA/4ITd0IAAEBl1RN3QgAAAMsnFHdCAADAMHoUd0IAAABicRV3QgAAwMfDFXdCAABAk2gWd0IAAAD5uhZ3QgAAwF4NF3dCAACAxF8Xd0IAAEAqshd3QgAAAJAEGHdCAADA9VYYd0IAAIBbqRh3QgAAQMH7GHdCAAAAJ04Zd0IAAMCMoBl3QgAAgPLyGXdCAABAWEUad0IAAAC+lxp3QgAAwCPqGndCAACAiTwbd0IAAEDvjht3QgAAAFXhG3dCAADAujMcd0IAAIAghhx3QgAAAOwqHXdCAADAUX0dd0IAAIC3zx13QgAAQB0iHndCAAAAg3Qed0IAAMDoxh53QgAAgE4ZH3dCAABAtGsfd0IAAAAavh93QgAAwH8QIHdCAACA5WIgd0IAAEBLtSB3QgAAALEHIXdCAADAFlohd0IAAEDi/iF3QgAAAEhRIndCAADAraMid0IAAIAT9iJ3QgAAAN+aI3dCAADARO0jd0IAAICqPyR3QgAAQBCSJHdCAAAAduQkd0IAAMDbNiV3QgAAgEGJJXdCAABAp9sld0IAAAANLiZ3QgAAwHKAJndCAACA2NImd0IAAEA+JSd3QgAAAKR3J3dCAADACcond0IAAIBvHCh3QgAAQNVuKHdCAAAAO8Eod0IAAMCgEyl3QgAAgAZmKXdCAABAbLgpd0IAAADSCip3QgAAwDddKndCAACAna8qd0IAAEADAit3QgAAAGlUK3dCAADAzqYrd0IAAIA0+St3QgAAQJpLLHdCAAAAAJ4sd0IAAMBl8Cx3Qg==\",\"dtype\":\"float64\",\"shape\":[86]},\"index\":[0,1,2,3,4,5,6,7,8,9,10,11,12,13,14,15,16,17,18,19,20,21,22,23,24,25,26,27,28,29,30,31,32,33,34,35,36,37,38,39,40,41,42,43,44,45,46,47,48,49,50,51,52,53,54,55,56,57,58,59,60,61,62,63,64,65,66,67,68,69,70,71,72,73,74,75,76,77,78,79,80,81,82,83,84,85]},\"selected\":{\"id\":\"14060\"},\"selection_policy\":{\"id\":\"14059\"}},\"id\":\"14002\",\"type\":\"ColumnDataSource\"},{\"attributes\":{\"days\":[1,2,3,4,5,6,7,8,9,10,11,12,13,14,15,16,17,18,19,20,21,22,23,24,25,26,27,28,29,30,31]},\"id\":\"13965\",\"type\":\"DaysTicker\"},{\"attributes\":{},\"id\":\"13938\",\"type\":\"WheelZoomTool\"}],\"root_ids\":[\"13918\"]},\"title\":\"Bokeh Application\",\"version\":\"2.0.2\"}};\n",
       "  var render_items = [{\"docid\":\"a03d3dbd-8fdd-4558-b55e-c9d84bb82620\",\"root_ids\":[\"13918\"],\"roots\":{\"13918\":\"a42f1377-fa0e-4f40-b1fd-16ff705388fd\"}}];\n",
       "  root.Bokeh.embed.embed_items_notebook(docs_json, render_items);\n",
       "\n",
       "  }\n",
       "  if (root.Bokeh !== undefined) {\n",
       "    embed_document(root);\n",
       "  } else {\n",
       "    var attempts = 0;\n",
       "    var timer = setInterval(function(root) {\n",
       "      if (root.Bokeh !== undefined) {\n",
       "        clearInterval(timer);\n",
       "        embed_document(root);\n",
       "      } else {\n",
       "        attempts++;\n",
       "        if (attempts > 100) {\n",
       "          clearInterval(timer);\n",
       "          console.log(\"Bokeh: ERROR: Unable to run BokehJS code because BokehJS library is missing\");\n",
       "        }\n",
       "      }\n",
       "    }, 10, root)\n",
       "  }\n",
       "})(window);"
      ],
      "application/vnd.bokehjs_exec.v0+json": ""
     },
     "metadata": {
      "application/vnd.bokehjs_exec.v0+json": {
       "id": "13918"
      }
     },
     "output_type": "display_data"
    }
   ],
   "source": [
    "for place, growth_frame in locale_growth_rates.items():\n",
    "    plot_locale_growth(growth_frame, place, noho_growth_rate=noho_growth_rate, lac_growth_rate=lac_growth_rate)"
   ]
  },
  {
   "cell_type": "code",
   "execution_count": null,
   "metadata": {},
   "outputs": [],
   "source": []
  },
  {
   "cell_type": "code",
   "execution_count": null,
   "metadata": {},
   "outputs": [],
   "source": []
  },
  {
   "cell_type": "code",
   "execution_count": null,
   "metadata": {},
   "outputs": [],
   "source": []
  },
  {
   "cell_type": "code",
   "execution_count": null,
   "metadata": {},
   "outputs": [],
   "source": []
  },
  {
   "cell_type": "code",
   "execution_count": null,
   "metadata": {},
   "outputs": [],
   "source": []
  },
  {
   "cell_type": "code",
   "execution_count": null,
   "metadata": {},
   "outputs": [],
   "source": []
  },
  {
   "cell_type": "code",
   "execution_count": null,
   "metadata": {},
   "outputs": [],
   "source": []
  },
  {
   "cell_type": "code",
   "execution_count": null,
   "metadata": {},
   "outputs": [],
   "source": []
  }
 ],
 "metadata": {
  "kernelspec": {
   "display_name": "Python 3",
   "language": "python",
   "name": "python3"
  },
  "language_info": {
   "codemirror_mode": {
    "name": "ipython",
    "version": 3
   },
   "file_extension": ".py",
   "mimetype": "text/x-python",
   "name": "python",
   "nbconvert_exporter": "python",
   "pygments_lexer": "ipython3",
   "version": "3.6.4"
  },
  "toc": {
   "colors": {
    "hover_highlight": "#DAA520",
    "navigate_num": "#000000",
    "navigate_text": "#333333",
    "running_highlight": "#FF0000",
    "selected_highlight": "#FFD700",
    "sidebar_border": "#EEEEEE",
    "wrapper_background": "#FFFFFF"
   },
   "moveMenuLeft": true,
   "nav_menu": {
    "height": "196.767px",
    "width": "251.1px"
   },
   "navigate_menu": true,
   "number_sections": true,
   "sideBar": true,
   "threshold": 4,
   "toc_cell": false,
   "toc_section_display": "block",
   "toc_window_display": false,
   "widenNotebook": false
  }
 },
 "nbformat": 4,
 "nbformat_minor": 2
}
