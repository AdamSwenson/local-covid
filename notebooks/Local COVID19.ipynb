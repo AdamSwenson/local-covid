{
 "cells": [
  {
   "cell_type": "markdown",
   "metadata": {},
   "source": [
    "Note for exporting:\n",
    "\n",
    "    Need to export to html.\n",
    "    \n",
    "    Can't then make the html into a pdf without plots not fitting"
   ]
  },
  {
   "cell_type": "code",
   "execution_count": 1,
   "metadata": {
    "ExecuteTime": {
     "end_time": "2020-06-11T21:44:27.539600Z",
     "start_time": "2020-06-11T21:44:25.714602Z"
    },
    "run_control": {
     "marked": true
    }
   },
   "outputs": [
    {
     "data": {
      "text/html": [
       "\n",
       "    <div class=\"bk-root\">\n",
       "        <a href=\"https://bokeh.org\" target=\"_blank\" class=\"bk-logo bk-logo-small bk-logo-notebook\"></a>\n",
       "        <span id=\"1001\">Loading BokehJS ...</span>\n",
       "    </div>"
      ]
     },
     "metadata": {},
     "output_type": "display_data"
    },
    {
     "data": {
      "application/javascript": [
       "\n",
       "(function(root) {\n",
       "  function now() {\n",
       "    return new Date();\n",
       "  }\n",
       "\n",
       "  var force = true;\n",
       "\n",
       "  if (typeof root._bokeh_onload_callbacks === \"undefined\" || force === true) {\n",
       "    root._bokeh_onload_callbacks = [];\n",
       "    root._bokeh_is_loading = undefined;\n",
       "  }\n",
       "\n",
       "  var JS_MIME_TYPE = 'application/javascript';\n",
       "  var HTML_MIME_TYPE = 'text/html';\n",
       "  var EXEC_MIME_TYPE = 'application/vnd.bokehjs_exec.v0+json';\n",
       "  var CLASS_NAME = 'output_bokeh rendered_html';\n",
       "\n",
       "  /**\n",
       "   * Render data to the DOM node\n",
       "   */\n",
       "  function render(props, node) {\n",
       "    var script = document.createElement(\"script\");\n",
       "    node.appendChild(script);\n",
       "  }\n",
       "\n",
       "  /**\n",
       "   * Handle when an output is cleared or removed\n",
       "   */\n",
       "  function handleClearOutput(event, handle) {\n",
       "    var cell = handle.cell;\n",
       "\n",
       "    var id = cell.output_area._bokeh_element_id;\n",
       "    var server_id = cell.output_area._bokeh_server_id;\n",
       "    // Clean up Bokeh references\n",
       "    if (id != null && id in Bokeh.index) {\n",
       "      Bokeh.index[id].model.document.clear();\n",
       "      delete Bokeh.index[id];\n",
       "    }\n",
       "\n",
       "    if (server_id !== undefined) {\n",
       "      // Clean up Bokeh references\n",
       "      var cmd = \"from bokeh.io.state import curstate; print(curstate().uuid_to_server['\" + server_id + \"'].get_sessions()[0].document.roots[0]._id)\";\n",
       "      cell.notebook.kernel.execute(cmd, {\n",
       "        iopub: {\n",
       "          output: function(msg) {\n",
       "            var id = msg.content.text.trim();\n",
       "            if (id in Bokeh.index) {\n",
       "              Bokeh.index[id].model.document.clear();\n",
       "              delete Bokeh.index[id];\n",
       "            }\n",
       "          }\n",
       "        }\n",
       "      });\n",
       "      // Destroy server and session\n",
       "      var cmd = \"import bokeh.io.notebook as ion; ion.destroy_server('\" + server_id + \"')\";\n",
       "      cell.notebook.kernel.execute(cmd);\n",
       "    }\n",
       "  }\n",
       "\n",
       "  /**\n",
       "   * Handle when a new output is added\n",
       "   */\n",
       "  function handleAddOutput(event, handle) {\n",
       "    var output_area = handle.output_area;\n",
       "    var output = handle.output;\n",
       "\n",
       "    // limit handleAddOutput to display_data with EXEC_MIME_TYPE content only\n",
       "    if ((output.output_type != \"display_data\") || (!output.data.hasOwnProperty(EXEC_MIME_TYPE))) {\n",
       "      return\n",
       "    }\n",
       "\n",
       "    var toinsert = output_area.element.find(\".\" + CLASS_NAME.split(' ')[0]);\n",
       "\n",
       "    if (output.metadata[EXEC_MIME_TYPE][\"id\"] !== undefined) {\n",
       "      toinsert[toinsert.length - 1].firstChild.textContent = output.data[JS_MIME_TYPE];\n",
       "      // store reference to embed id on output_area\n",
       "      output_area._bokeh_element_id = output.metadata[EXEC_MIME_TYPE][\"id\"];\n",
       "    }\n",
       "    if (output.metadata[EXEC_MIME_TYPE][\"server_id\"] !== undefined) {\n",
       "      var bk_div = document.createElement(\"div\");\n",
       "      bk_div.innerHTML = output.data[HTML_MIME_TYPE];\n",
       "      var script_attrs = bk_div.children[0].attributes;\n",
       "      for (var i = 0; i < script_attrs.length; i++) {\n",
       "        toinsert[toinsert.length - 1].firstChild.setAttribute(script_attrs[i].name, script_attrs[i].value);\n",
       "        toinsert[toinsert.length - 1].firstChild.textContent = bk_div.children[0].textContent\n",
       "      }\n",
       "      // store reference to server id on output_area\n",
       "      output_area._bokeh_server_id = output.metadata[EXEC_MIME_TYPE][\"server_id\"];\n",
       "    }\n",
       "  }\n",
       "\n",
       "  function register_renderer(events, OutputArea) {\n",
       "\n",
       "    function append_mime(data, metadata, element) {\n",
       "      // create a DOM node to render to\n",
       "      var toinsert = this.create_output_subarea(\n",
       "        metadata,\n",
       "        CLASS_NAME,\n",
       "        EXEC_MIME_TYPE\n",
       "      );\n",
       "      this.keyboard_manager.register_events(toinsert);\n",
       "      // Render to node\n",
       "      var props = {data: data, metadata: metadata[EXEC_MIME_TYPE]};\n",
       "      render(props, toinsert[toinsert.length - 1]);\n",
       "      element.append(toinsert);\n",
       "      return toinsert\n",
       "    }\n",
       "\n",
       "    /* Handle when an output is cleared or removed */\n",
       "    events.on('clear_output.CodeCell', handleClearOutput);\n",
       "    events.on('delete.Cell', handleClearOutput);\n",
       "\n",
       "    /* Handle when a new output is added */\n",
       "    events.on('output_added.OutputArea', handleAddOutput);\n",
       "\n",
       "    /**\n",
       "     * Register the mime type and append_mime function with output_area\n",
       "     */\n",
       "    OutputArea.prototype.register_mime_type(EXEC_MIME_TYPE, append_mime, {\n",
       "      /* Is output safe? */\n",
       "      safe: true,\n",
       "      /* Index of renderer in `output_area.display_order` */\n",
       "      index: 0\n",
       "    });\n",
       "  }\n",
       "\n",
       "  // register the mime type if in Jupyter Notebook environment and previously unregistered\n",
       "  if (root.Jupyter !== undefined) {\n",
       "    var events = require('base/js/events');\n",
       "    var OutputArea = require('notebook/js/outputarea').OutputArea;\n",
       "\n",
       "    if (OutputArea.prototype.mime_types().indexOf(EXEC_MIME_TYPE) == -1) {\n",
       "      register_renderer(events, OutputArea);\n",
       "    }\n",
       "  }\n",
       "\n",
       "  \n",
       "  if (typeof (root._bokeh_timeout) === \"undefined\" || force === true) {\n",
       "    root._bokeh_timeout = Date.now() + 5000;\n",
       "    root._bokeh_failed_load = false;\n",
       "  }\n",
       "\n",
       "  var NB_LOAD_WARNING = {'data': {'text/html':\n",
       "     \"<div style='background-color: #fdd'>\\n\"+\n",
       "     \"<p>\\n\"+\n",
       "     \"BokehJS does not appear to have successfully loaded. If loading BokehJS from CDN, this \\n\"+\n",
       "     \"may be due to a slow or bad network connection. Possible fixes:\\n\"+\n",
       "     \"</p>\\n\"+\n",
       "     \"<ul>\\n\"+\n",
       "     \"<li>re-rerun `output_notebook()` to attempt to load from CDN again, or</li>\\n\"+\n",
       "     \"<li>use INLINE resources instead, as so:</li>\\n\"+\n",
       "     \"</ul>\\n\"+\n",
       "     \"<code>\\n\"+\n",
       "     \"from bokeh.resources import INLINE\\n\"+\n",
       "     \"output_notebook(resources=INLINE)\\n\"+\n",
       "     \"</code>\\n\"+\n",
       "     \"</div>\"}};\n",
       "\n",
       "  function display_loaded() {\n",
       "    var el = document.getElementById(\"1001\");\n",
       "    if (el != null) {\n",
       "      el.textContent = \"BokehJS is loading...\";\n",
       "    }\n",
       "    if (root.Bokeh !== undefined) {\n",
       "      if (el != null) {\n",
       "        el.textContent = \"BokehJS \" + root.Bokeh.version + \" successfully loaded.\";\n",
       "      }\n",
       "    } else if (Date.now() < root._bokeh_timeout) {\n",
       "      setTimeout(display_loaded, 100)\n",
       "    }\n",
       "  }\n",
       "\n",
       "\n",
       "  function run_callbacks() {\n",
       "    try {\n",
       "      root._bokeh_onload_callbacks.forEach(function(callback) {\n",
       "        if (callback != null)\n",
       "          callback();\n",
       "      });\n",
       "    } finally {\n",
       "      delete root._bokeh_onload_callbacks\n",
       "    }\n",
       "    console.debug(\"Bokeh: all callbacks have finished\");\n",
       "  }\n",
       "\n",
       "  function load_libs(css_urls, js_urls, callback) {\n",
       "    if (css_urls == null) css_urls = [];\n",
       "    if (js_urls == null) js_urls = [];\n",
       "\n",
       "    root._bokeh_onload_callbacks.push(callback);\n",
       "    if (root._bokeh_is_loading > 0) {\n",
       "      console.debug(\"Bokeh: BokehJS is being loaded, scheduling callback at\", now());\n",
       "      return null;\n",
       "    }\n",
       "    if (js_urls == null || js_urls.length === 0) {\n",
       "      run_callbacks();\n",
       "      return null;\n",
       "    }\n",
       "    console.debug(\"Bokeh: BokehJS not loaded, scheduling load and callback at\", now());\n",
       "    root._bokeh_is_loading = css_urls.length + js_urls.length;\n",
       "\n",
       "    function on_load() {\n",
       "      root._bokeh_is_loading--;\n",
       "      if (root._bokeh_is_loading === 0) {\n",
       "        console.debug(\"Bokeh: all BokehJS libraries/stylesheets loaded\");\n",
       "        run_callbacks()\n",
       "      }\n",
       "    }\n",
       "\n",
       "    function on_error() {\n",
       "      console.error(\"failed to load \" + url);\n",
       "    }\n",
       "\n",
       "    for (var i = 0; i < css_urls.length; i++) {\n",
       "      var url = css_urls[i];\n",
       "      const element = document.createElement(\"link\");\n",
       "      element.onload = on_load;\n",
       "      element.onerror = on_error;\n",
       "      element.rel = \"stylesheet\";\n",
       "      element.type = \"text/css\";\n",
       "      element.href = url;\n",
       "      console.debug(\"Bokeh: injecting link tag for BokehJS stylesheet: \", url);\n",
       "      document.body.appendChild(element);\n",
       "    }\n",
       "\n",
       "    const hashes = {\"https://cdn.bokeh.org/bokeh/release/bokeh-2.0.2.min.js\": \"ufR9RFnRs6lniiaFvtJziE0YeidtAgBRH6ux2oUItHw5WTvE1zuk9uzhUU/FJXDp\", \"https://cdn.bokeh.org/bokeh/release/bokeh-widgets-2.0.2.min.js\": \"8QM/PGWBT+IssZuRcDcjzwIh1mkOmJSoNMmyYDZbCfXJg3Ap1lEvdVgFuSAwhb/J\", \"https://cdn.bokeh.org/bokeh/release/bokeh-tables-2.0.2.min.js\": \"Jm8cH3Rg0P6UeZhVY5cLy1WzKajUT9KImCY+76hEqrcJt59/d8GPvFHjCkYgnSIn\", \"https://cdn.bokeh.org/bokeh/release/bokeh-gl-2.0.2.min.js\": \"Ozhzj+SI7ywm74aOI/UajcWz+C0NjsPunEVyVIrxzYkB+jA+2tUw8x5xJCbVtK5I\"};\n",
       "\n",
       "    for (var i = 0; i < js_urls.length; i++) {\n",
       "      var url = js_urls[i];\n",
       "      var element = document.createElement('script');\n",
       "      element.onload = on_load;\n",
       "      element.onerror = on_error;\n",
       "      element.async = false;\n",
       "      element.src = url;\n",
       "      if (url in hashes) {\n",
       "        element.crossOrigin = \"anonymous\";\n",
       "        element.integrity = \"sha384-\" + hashes[url];\n",
       "      }\n",
       "      console.debug(\"Bokeh: injecting script tag for BokehJS library: \", url);\n",
       "      document.head.appendChild(element);\n",
       "    }\n",
       "  };\n",
       "\n",
       "  function inject_raw_css(css) {\n",
       "    const element = document.createElement(\"style\");\n",
       "    element.appendChild(document.createTextNode(css));\n",
       "    document.body.appendChild(element);\n",
       "  }\n",
       "\n",
       "  \n",
       "  var js_urls = [\"https://cdn.bokeh.org/bokeh/release/bokeh-2.0.2.min.js\", \"https://cdn.bokeh.org/bokeh/release/bokeh-widgets-2.0.2.min.js\", \"https://cdn.bokeh.org/bokeh/release/bokeh-tables-2.0.2.min.js\", \"https://cdn.bokeh.org/bokeh/release/bokeh-gl-2.0.2.min.js\"];\n",
       "  var css_urls = [];\n",
       "  \n",
       "\n",
       "  var inline_js = [\n",
       "    function(Bokeh) {\n",
       "      Bokeh.set_log_level(\"info\");\n",
       "    },\n",
       "    function(Bokeh) {\n",
       "    \n",
       "    \n",
       "    }\n",
       "  ];\n",
       "\n",
       "  function run_inline_js() {\n",
       "    \n",
       "    if (root.Bokeh !== undefined || force === true) {\n",
       "      \n",
       "    for (var i = 0; i < inline_js.length; i++) {\n",
       "      inline_js[i].call(root, root.Bokeh);\n",
       "    }\n",
       "    if (force === true) {\n",
       "        display_loaded();\n",
       "      }} else if (Date.now() < root._bokeh_timeout) {\n",
       "      setTimeout(run_inline_js, 100);\n",
       "    } else if (!root._bokeh_failed_load) {\n",
       "      console.log(\"Bokeh: BokehJS failed to load within specified timeout.\");\n",
       "      root._bokeh_failed_load = true;\n",
       "    } else if (force !== true) {\n",
       "      var cell = $(document.getElementById(\"1001\")).parents('.cell').data().cell;\n",
       "      cell.output_area.append_execute_result(NB_LOAD_WARNING)\n",
       "    }\n",
       "\n",
       "  }\n",
       "\n",
       "  if (root._bokeh_is_loading === 0) {\n",
       "    console.debug(\"Bokeh: BokehJS loaded, going straight to plotting\");\n",
       "    run_inline_js();\n",
       "  } else {\n",
       "    load_libs(css_urls, js_urls, function() {\n",
       "      console.debug(\"Bokeh: BokehJS plotting callback run at\", now());\n",
       "      run_inline_js();\n",
       "    });\n",
       "  }\n",
       "}(window));"
      ],
      "application/vnd.bokehjs_load.v0+json": "\n(function(root) {\n  function now() {\n    return new Date();\n  }\n\n  var force = true;\n\n  if (typeof root._bokeh_onload_callbacks === \"undefined\" || force === true) {\n    root._bokeh_onload_callbacks = [];\n    root._bokeh_is_loading = undefined;\n  }\n\n  \n\n  \n  if (typeof (root._bokeh_timeout) === \"undefined\" || force === true) {\n    root._bokeh_timeout = Date.now() + 5000;\n    root._bokeh_failed_load = false;\n  }\n\n  var NB_LOAD_WARNING = {'data': {'text/html':\n     \"<div style='background-color: #fdd'>\\n\"+\n     \"<p>\\n\"+\n     \"BokehJS does not appear to have successfully loaded. If loading BokehJS from CDN, this \\n\"+\n     \"may be due to a slow or bad network connection. Possible fixes:\\n\"+\n     \"</p>\\n\"+\n     \"<ul>\\n\"+\n     \"<li>re-rerun `output_notebook()` to attempt to load from CDN again, or</li>\\n\"+\n     \"<li>use INLINE resources instead, as so:</li>\\n\"+\n     \"</ul>\\n\"+\n     \"<code>\\n\"+\n     \"from bokeh.resources import INLINE\\n\"+\n     \"output_notebook(resources=INLINE)\\n\"+\n     \"</code>\\n\"+\n     \"</div>\"}};\n\n  function display_loaded() {\n    var el = document.getElementById(\"1001\");\n    if (el != null) {\n      el.textContent = \"BokehJS is loading...\";\n    }\n    if (root.Bokeh !== undefined) {\n      if (el != null) {\n        el.textContent = \"BokehJS \" + root.Bokeh.version + \" successfully loaded.\";\n      }\n    } else if (Date.now() < root._bokeh_timeout) {\n      setTimeout(display_loaded, 100)\n    }\n  }\n\n\n  function run_callbacks() {\n    try {\n      root._bokeh_onload_callbacks.forEach(function(callback) {\n        if (callback != null)\n          callback();\n      });\n    } finally {\n      delete root._bokeh_onload_callbacks\n    }\n    console.debug(\"Bokeh: all callbacks have finished\");\n  }\n\n  function load_libs(css_urls, js_urls, callback) {\n    if (css_urls == null) css_urls = [];\n    if (js_urls == null) js_urls = [];\n\n    root._bokeh_onload_callbacks.push(callback);\n    if (root._bokeh_is_loading > 0) {\n      console.debug(\"Bokeh: BokehJS is being loaded, scheduling callback at\", now());\n      return null;\n    }\n    if (js_urls == null || js_urls.length === 0) {\n      run_callbacks();\n      return null;\n    }\n    console.debug(\"Bokeh: BokehJS not loaded, scheduling load and callback at\", now());\n    root._bokeh_is_loading = css_urls.length + js_urls.length;\n\n    function on_load() {\n      root._bokeh_is_loading--;\n      if (root._bokeh_is_loading === 0) {\n        console.debug(\"Bokeh: all BokehJS libraries/stylesheets loaded\");\n        run_callbacks()\n      }\n    }\n\n    function on_error() {\n      console.error(\"failed to load \" + url);\n    }\n\n    for (var i = 0; i < css_urls.length; i++) {\n      var url = css_urls[i];\n      const element = document.createElement(\"link\");\n      element.onload = on_load;\n      element.onerror = on_error;\n      element.rel = \"stylesheet\";\n      element.type = \"text/css\";\n      element.href = url;\n      console.debug(\"Bokeh: injecting link tag for BokehJS stylesheet: \", url);\n      document.body.appendChild(element);\n    }\n\n    const hashes = {\"https://cdn.bokeh.org/bokeh/release/bokeh-2.0.2.min.js\": \"ufR9RFnRs6lniiaFvtJziE0YeidtAgBRH6ux2oUItHw5WTvE1zuk9uzhUU/FJXDp\", \"https://cdn.bokeh.org/bokeh/release/bokeh-widgets-2.0.2.min.js\": \"8QM/PGWBT+IssZuRcDcjzwIh1mkOmJSoNMmyYDZbCfXJg3Ap1lEvdVgFuSAwhb/J\", \"https://cdn.bokeh.org/bokeh/release/bokeh-tables-2.0.2.min.js\": \"Jm8cH3Rg0P6UeZhVY5cLy1WzKajUT9KImCY+76hEqrcJt59/d8GPvFHjCkYgnSIn\", \"https://cdn.bokeh.org/bokeh/release/bokeh-gl-2.0.2.min.js\": \"Ozhzj+SI7ywm74aOI/UajcWz+C0NjsPunEVyVIrxzYkB+jA+2tUw8x5xJCbVtK5I\"};\n\n    for (var i = 0; i < js_urls.length; i++) {\n      var url = js_urls[i];\n      var element = document.createElement('script');\n      element.onload = on_load;\n      element.onerror = on_error;\n      element.async = false;\n      element.src = url;\n      if (url in hashes) {\n        element.crossOrigin = \"anonymous\";\n        element.integrity = \"sha384-\" + hashes[url];\n      }\n      console.debug(\"Bokeh: injecting script tag for BokehJS library: \", url);\n      document.head.appendChild(element);\n    }\n  };\n\n  function inject_raw_css(css) {\n    const element = document.createElement(\"style\");\n    element.appendChild(document.createTextNode(css));\n    document.body.appendChild(element);\n  }\n\n  \n  var js_urls = [\"https://cdn.bokeh.org/bokeh/release/bokeh-2.0.2.min.js\", \"https://cdn.bokeh.org/bokeh/release/bokeh-widgets-2.0.2.min.js\", \"https://cdn.bokeh.org/bokeh/release/bokeh-tables-2.0.2.min.js\", \"https://cdn.bokeh.org/bokeh/release/bokeh-gl-2.0.2.min.js\"];\n  var css_urls = [];\n  \n\n  var inline_js = [\n    function(Bokeh) {\n      Bokeh.set_log_level(\"info\");\n    },\n    function(Bokeh) {\n    \n    \n    }\n  ];\n\n  function run_inline_js() {\n    \n    if (root.Bokeh !== undefined || force === true) {\n      \n    for (var i = 0; i < inline_js.length; i++) {\n      inline_js[i].call(root, root.Bokeh);\n    }\n    if (force === true) {\n        display_loaded();\n      }} else if (Date.now() < root._bokeh_timeout) {\n      setTimeout(run_inline_js, 100);\n    } else if (!root._bokeh_failed_load) {\n      console.log(\"Bokeh: BokehJS failed to load within specified timeout.\");\n      root._bokeh_failed_load = true;\n    } else if (force !== true) {\n      var cell = $(document.getElementById(\"1001\")).parents('.cell').data().cell;\n      cell.output_area.append_execute_result(NB_LOAD_WARNING)\n    }\n\n  }\n\n  if (root._bokeh_is_loading === 0) {\n    console.debug(\"Bokeh: BokehJS loaded, going straight to plotting\");\n    run_inline_js();\n  } else {\n    load_libs(css_urls, js_urls, function() {\n      console.debug(\"Bokeh: BokehJS plotting callback run at\", now());\n      run_inline_js();\n    });\n  }\n}(window));"
     },
     "metadata": {},
     "output_type": "display_data"
    }
   ],
   "source": [
    "import os \n",
    "ROOT = os.getenv( \"HOME\" )\n",
    "import pandas as pd\n",
    "import numpy as np\n",
    "pd.set_option('precision', 2)\n",
    "%matplotlib inline\n",
    "from matplotlib import pyplot as plt\n",
    "import matplotlib.dates as mdates\n",
    "import matplotlib.ticker as mticker\n",
    "import seaborn as sns\n",
    "sns.set(style=\"whitegrid\")\n",
    "from IPython.display import set_matplotlib_formats\n",
    "set_matplotlib_formats('svg', 'pdf')\n",
    "\n",
    "from bokeh.plotting import figure, show, output_notebook\n",
    "from bokeh.models import ColumnDataSource, Band, Span, Plot\n",
    "# output to static HTML \n",
    "output_notebook()\n",
    "\n",
    "import datetime\n",
    "\n",
    "pd.options.display.max_rows = 999\n",
    "pd.options.plotting.matplotlib.register_converters = True"
   ]
  },
  {
   "cell_type": "code",
   "execution_count": 2,
   "metadata": {
    "ExecuteTime": {
     "end_time": "2020-06-11T21:44:27.555149Z",
     "start_time": "2020-06-11T21:44:27.544249Z"
    },
    "run_control": {
     "marked": true
    }
   },
   "outputs": [],
   "source": [
    "PLACE = 'North Hollywood'\n",
    "PLACES = [  'North Hollywood', 'Burbank', 'Encino', 'Glendale', 'Sherman Oaks',  'Studio City',   'Van Nuys',  'Valley Glen',]\n",
    "\n",
    "# numbers are small or null before this\n",
    "start_date = '2020-03-24'\n",
    "\n",
    "county_url = 'https://raw.githubusercontent.com/datadesk/california-coronavirus-data/master/latimes-county-totals.csv'\n",
    "locale_url = 'https://raw.githubusercontent.com/datadesk/california-coronavirus-data/master/latimes-place-totals.csv'\n",
    "hospital_url = 'https://raw.githubusercontent.com/datadesk/california-coronavirus-data/master/cdph-hospital-patient-county-totals.csv'"
   ]
  },
  {
   "cell_type": "markdown",
   "metadata": {
    "ExecuteTime": {
     "end_time": "2020-05-16T19:10:24.230170Z",
     "start_time": "2020-05-16T19:10:23.324826Z"
    }
   },
   "source": [
    "# Download and prepare data"
   ]
  },
  {
   "cell_type": "code",
   "execution_count": 3,
   "metadata": {
    "ExecuteTime": {
     "end_time": "2020-06-11T21:44:27.568996Z",
     "start_time": "2020-06-11T21:44:27.558346Z"
    },
    "run_control": {
     "marked": true
    }
   },
   "outputs": [],
   "source": [
    "def calc_daily_new(locales, place, replace_neg=False):\n",
    "    \"\"\"\n",
    "    Returns a dataframe with the change between each day\n",
    "    \"\"\"\n",
    "    d = locales.loc[place].copy(deep=True)\n",
    "    try:\n",
    "        d.drop(['county'], axis=1, inplace=True)\n",
    "    except:\n",
    "        pass\n",
    "    d = d - d.shift(1)\n",
    "    if replace_neg:\n",
    "        return d.clip(lower=0)\n",
    "    return d\n",
    "\n",
    "def calc_daily_growth(locales, place, prevent_negatives=True):\n",
    "    \"\"\"\n",
    "    Calculates the daily growth rate\n",
    "    \n",
    "    If prevent_negatives is True, it will filter out any negative\n",
    "    growth values (as sometimes happens when negative cases /deaths \n",
    "    have been added to the data to adjust totals) \n",
    "    \"\"\"\n",
    "    \n",
    "    daily =  calc_daily_new(locales, place)\n",
    "    d = daily / daily.shift(1) \n",
    "    \n",
    "    # remove any infinite values \n",
    "    d = d.mask(np.isinf(d))\n",
    "    \n",
    "    # remove any negative values\n",
    "    if prevent_negatives:\n",
    "        d = d[d.confirmed_cases >= 0]\n",
    "    \n",
    "    return d\n",
    "\n",
    "\n",
    "def plot_growth_rate(growth_frame, place):\n",
    "    fig, axes = plt.subplots(figsize=(10, 4))\n",
    "    title = \"{} Daily growth rate\".format(place)\n",
    "    growth_frame.plot(kind='bar', title=title, ax=axes)\n",
    "    ticklabels = [i.strftime(\"%b-%d\") for i, row in growth_frame.iterrows()]\n",
    "    axes.xaxis.set_major_formatter(mticker.FixedFormatter(ticklabels))\n",
    "    # fig.autofmt_xdate();\n",
    "    axes.axhline(y=1, color='r')\n",
    "    fig.tight_layout()\n",
    "\n",
    "    \n",
    "# noho_growth_rate"
   ]
  },
  {
   "cell_type": "code",
   "execution_count": 4,
   "metadata": {
    "ExecuteTime": {
     "end_time": "2020-06-11T21:44:30.218916Z",
     "start_time": "2020-06-11T21:44:27.575975Z"
    },
    "run_control": {
     "marked": true
    }
   },
   "outputs": [],
   "source": [
    "counties = pd.read_csv(county_url)\n",
    "counties.date = pd.to_datetime(counties.date)\n",
    "counties.set_index('date', inplace=True)\n",
    "counties.drop(['fips'], axis=1,inplace=True)\n",
    "# len(counties)\n",
    "\n",
    "# LA County data\n",
    "lac = counties[counties.county == 'Los Angeles'].loc[start_date :].copy(deep=True)\n",
    "lac.drop(['county'], axis=1, inplace=True)\n",
    "lac_daily_new = lac[['new_confirmed_cases', 'new_deaths']]\n",
    "lac_cum = lac[[ 'confirmed_cases', 'deaths']]\n",
    "lac_growth_rate = lac_daily_new / lac_daily_new.shift(1)\n",
    "\n",
    "# Locale data\n",
    "locales = pd.read_csv(locale_url)\n",
    "locales.drop([  'fips',  'note', 'x', 'y'], axis=1, inplace=True)\n",
    "locales.date = pd.to_datetime(locales.date)\n",
    "locales.set_index(['place', 'date'], inplace=True)\n",
    "la_locales = locales[locales.county == 'Los Angeles'].copy(deep=True)\n",
    "la_locales.drop([ 'county'], axis=1, inplace=True)\n",
    "la_locale_names = list(la_locales.index.get_level_values(0))\n",
    "\n",
    "\n",
    "# NoHo data\n",
    "noho = la_locales.loc['North Hollywood'].copy(deep=True)\n",
    "\n",
    "# hospitalizations \n",
    "hosp = pd.read_csv(hospital_url)\n",
    "hosp.date = pd.to_datetime(hosp.date)\n",
    "hosp.drop(['fips'], axis=1, inplace=True)\n",
    "hosp_lac = hosp[hosp.county == 'Los Angeles'].drop(['county'], axis=1).copy(deep=True)\n",
    "hosp_lac.set_index('date', inplace=True)\n",
    "hosp_lac['total_patients'] = hosp_lac.positive_patients + hosp_lac.suspected_patients\n",
    "hosp_lac['total_icu'] = hosp_lac.icu_positive_patients + hosp_lac.icu_suspected_patients\n",
    "new_hosp_lac = hosp_lac - hosp_lac.shift(1)\n",
    "new_hosp_lac.dropna(inplace=True)\n",
    "\n",
    "# growth rates\n",
    "# dict version for easiest access to individual frames\n",
    "locale_growth_rates = { place : calc_daily_growth(locales, place) for place in PLACES}\n",
    "# combined version \n",
    "fms = []\n",
    "for place, frame in locale_growth_rates.items():\n",
    "    f = frame.copy(deep=True)\n",
    "    f['locale'] = place\n",
    "    fms.append(f)\n",
    "growth_rate_frame = pd.concat(fms)\n",
    "\n",
    "noho_growth_rate = locale_growth_rates.get(PLACE)\n",
    "noho_growth_rate = noho_growth_rate[noho_growth_rate.confirmed_cases >= 0]\n"
   ]
  },
  {
   "cell_type": "markdown",
   "metadata": {},
   "source": [
    "# Daily new"
   ]
  },
  {
   "cell_type": "code",
   "execution_count": 5,
   "metadata": {
    "ExecuteTime": {
     "end_time": "2020-06-11T21:44:30.228443Z",
     "start_time": "2020-06-11T21:44:30.221647Z"
    }
   },
   "outputs": [],
   "source": [
    "def plot_daily(frame, field_name, title_word, place='(LAC)'):\n",
    "    \"\"\"\n",
    "    Plots the desired field's daily values as a vertical bar graph\n",
    "    with a 7-day moving average line\n",
    "    \n",
    "    \"\"\"\n",
    "    TOOLTIPS = [\n",
    "        (\"cases\", \"@new_confirmed_cases\"),\n",
    "        (\"date\", \"@date\")\n",
    "#         (\"(x,y)\", \"($x, $y)\"),\n",
    "        #     (\"desc\", \"@desc\"),\n",
    "    ]\n",
    "\n",
    "    p = figure(\n",
    "        plot_width=1000,\n",
    "        plot_height=400,\n",
    "        title=f\"Daily new {title_word} {place}\",\n",
    "        x_axis_type='datetime',\n",
    "               tooltips=TOOLTIPS)\n",
    "\n",
    "    source = ColumnDataSource(frame.reset_index())\n",
    "    source2 = ColumnDataSource(frame.rolling(window='7D').mean().reset_index())\n",
    "\n",
    "    # add a circle renderer with a size, color, and alpha\n",
    "    # p.circle(x='date', y='new_confirmed_cases', size=10, color=\"navy\", source=source, alpha=0.5)\n",
    "    p.vbar(\n",
    "        x='date',\n",
    "        top=field_name,\n",
    "        color=\"green\",\n",
    "        width=0.4,\n",
    "        source=source,\n",
    "        alpha=0.8,\n",
    "        legend_label=f'Daily new {title_word}')\n",
    "    p.line(\n",
    "        x='date',\n",
    "        y=field_name,\n",
    "        line_width=5,\n",
    "        color=\"navy\",\n",
    "        source=source2,\n",
    "        alpha=0.3,\n",
    "        legend_label='7-day rolling avg')\n",
    " \n",
    "    # df['lower'] = df.new_confirmed_cases.mean() - df.new_confirmed_cases.std()\n",
    "    # df['upper'] = df.new_confirmed_cases.mean() + df.new_confirmed_cases.std()\n",
    "    # band = Band(base='x', lower='lower', upper='upper', source=source, level='underlay',\n",
    "    #             fill_alpha=1.0, line_width=1, line_color='black')\n",
    "    # p.add_layout(band)\n",
    "\n",
    "    # show the results\n",
    "    show(p)"
   ]
  },
  {
   "cell_type": "markdown",
   "metadata": {},
   "source": [
    "## LA County"
   ]
  },
  {
   "cell_type": "code",
   "execution_count": 6,
   "metadata": {
    "ExecuteTime": {
     "end_time": "2020-06-11T21:44:30.378910Z",
     "start_time": "2020-06-11T21:44:30.230841Z"
    }
   },
   "outputs": [
    {
     "data": {
      "text/html": [
       "\n",
       "\n",
       "\n",
       "\n",
       "\n",
       "\n",
       "  <div class=\"bk-root\" id=\"c3da67e7-b49a-47c7-a378-a95e7056997a\" data-root-id=\"1002\"></div>\n"
      ]
     },
     "metadata": {},
     "output_type": "display_data"
    },
    {
     "data": {
      "application/javascript": [
       "(function(root) {\n",
       "  function embed_document(root) {\n",
       "    \n",
       "  var docs_json = {\"31aea914-8e81-4435-b561-e078335de69c\":{\"roots\":{\"references\":[{\"attributes\":{\"below\":[{\"id\":\"1013\"}],\"center\":[{\"id\":\"1016\"},{\"id\":\"1020\"},{\"id\":\"1062\"}],\"left\":[{\"id\":\"1017\"}],\"plot_height\":400,\"plot_width\":1000,\"renderers\":[{\"id\":\"1042\"},{\"id\":\"1067\"}],\"title\":{\"id\":\"1003\"},\"toolbar\":{\"id\":\"1029\"},\"x_range\":{\"id\":\"1005\"},\"x_scale\":{\"id\":\"1009\"},\"y_range\":{\"id\":\"1007\"},\"y_scale\":{\"id\":\"1011\"}},\"id\":\"1002\",\"subtype\":\"Figure\",\"type\":\"Plot\"},{\"attributes\":{\"days\":[1,8,15,22]},\"id\":\"1054\",\"type\":\"DaysTicker\"},{\"attributes\":{\"source\":{\"id\":\"1038\"}},\"id\":\"1068\",\"type\":\"CDSView\"},{\"attributes\":{},\"id\":\"1024\",\"type\":\"SaveTool\"},{\"attributes\":{\"items\":[{\"id\":\"1063\"},{\"id\":\"1089\"}]},\"id\":\"1062\",\"type\":\"Legend\"},{\"attributes\":{},\"id\":\"1086\",\"type\":\"Selection\"},{\"attributes\":{},\"id\":\"1060\",\"type\":\"YearsTicker\"},{\"attributes\":{\"months\":[0,4,8]},\"id\":\"1058\",\"type\":\"MonthsTicker\"},{\"attributes\":{\"data\":{\"date\":{\"__ndarray__\":\"AADAa50Qd0IAAIDR7xB3QgAAQDdCEXdCAAAAnZQRd0IAAMAC5xF3QgAAgGg5EndCAABAzosSd0IAAAA03hJ3QgAAwJkwE3dCAACA/4ITd0IAAEBl1RN3QgAAAMsnFHdCAADAMHoUd0IAAICWzBR3QgAAQPweFXdCAAAAYnEVd0IAAMDHwxV3QgAAgC0WFndCAABAk2gWd0IAAAD5uhZ3QgAAwF4NF3dCAACAxF8Xd0IAAEAqshd3QgAAAJAEGHdCAADA9VYYd0IAAIBbqRh3QgAAQMH7GHdCAAAAJ04Zd0IAAMCMoBl3QgAAgPLyGXdCAABAWEUad0IAAAC+lxp3QgAAwCPqGndCAACAiTwbd0IAAEDvjht3QgAAAFXhG3dCAADAujMcd0IAAIAghhx3QgAAQIbYHHdCAAAA7Codd0IAAMBRfR13QgAAgLfPHXdCAABAHSIed0IAAACDdB53QgAAwOjGHndCAACAThkfd0IAAEC0ax93QgAAABq+H3dCAADAfxAgd0IAAIDlYiB3QgAAQEu1IHdCAAAAsQchd0IAAMAWWiF3QgAAgHysIXdCAABA4v4hd0IAAABIUSJ3QgAAwK2jIndCAACAE/Yid0IAAEB5SCN3QgAAAN+aI3dCAADARO0jd0IAAICqPyR3QgAAQBCSJHdCAAAAduQkd0IAAMDbNiV3QgAAgEGJJXdCAABAp9sld0IAAAANLiZ3QgAAwHKAJndCAACA2NImd0IAAEA+JSd3QgAAAKR3J3dCAADACcond0IAAIBvHCh3QgAAQNVuKHdCAAAAO8Eod0IAAMCgEyl3QgAAgAZmKXdCAABAbLgpd0I=\",\"dtype\":\"float64\",\"shape\":[79]},\"index\":[0,1,2,3,4,5,6,7,8,9,10,11,12,13,14,15,16,17,18,19,20,21,22,23,24,25,26,27,28,29,30,31,32,33,34,35,36,37,38,39,40,41,42,43,44,45,46,47,48,49,50,51,52,53,54,55,56,57,58,59,60,61,62,63,64,65,66,67,68,69,70,71,72,73,74,75,76,77,78],\"new_confirmed_cases\":{\"__ndarray__\":\"AAAAAADAX0AAAAAAAABiQAAAAAAAAHpAAAAAAACAb0AAAAAAAAB1QAAAAAAAkHRAAAAAAABgdkAAAAAAAKCAQAAAAAAAsH5AAAAAAAD4gEAAAAAAALCAQAAAAAAAgIZAAAAAAACwg0AAAAAAAEB7QAAAAAAASIFAAAAAAACog0AAAAAAALB5QAAAAAAAUH1AAAAAAABAe0AAAAAAAEBzQAAAAAAAsHFAAAAAAACYgkAAAAAAAKB7QAAAAAAAoHdAAAAAAABwgEAAAAAAALCDQAAAAAAAoHJAAAAAAAAIl0AAAAAAAPiUQAAAAAAAEJRAAAAAAAB4kUAAAAAAAJCOQAAAAAAAMINAAAAAAACAeUAAAAAAAOiLQAAAAAAAaIFAAAAAAACEl0AAAAAAADiGQAAAAAAAFJBAAAAAAAAQhUAAAAAAANiHQAAAAAAA2IBAAAAAAABwmUAAAAAAAPiIQAAAAAAA6IpAAAAAAABAiUAAAAAAAFiMQAAAAAAA4HxAAAAAAACwgUAAAAAAAJCOQAAAAAAAZJRAAAAAAAD4i0AAAAAAAGiLQAAAAAAAaJBAAAAAAADog0AAAAAAAHB8QAAAAAAAOJJAAAAAAAD8lEAAAAAAACySQAAAAAAAmI1AAAAAAAAwkEAAAAAAAIiMQAAAAAAA6I5AAAAAAADwnEAAAAAAADiMQAAAAAAA6JBAAAAAAACEnEAAAAAAABqgQAAAAAAAnJNAAAAAAADAj0AAAAAAANSSQAAAAAAAVJBAAAAAAAColkAAAAAAADSVQAAAAAAAjJRAAAAAAADUlkAAAAAAAIiKQAAAAAAAqJNAAAAAAAAIkkA=\",\"dtype\":\"float64\",\"shape\":[79]},\"new_deaths\":{\"__ndarray__\":\"AAAAAAAAAEAAAAAAAAAIQAAAAAAAACBAAAAAAAAAFEAAAAAAAAAYQAAAAAAAABRAAAAAAAAAHEAAAAAAAAAkQAAAAAAAAChAAAAAAAAALEAAAAAAAAAqQAAAAAAAADpAAAAAAAAAKkAAAAAAAAAuQAAAAAAAADpAAAAAAAAAO0AAAAAAAAA5QAAAAAAAADNAAAAAAAAAN0AAAAAAAIBAQAAAAAAAADpAAAAAAAAAREAAAAAAAIBDQAAAAAAAAEpAAAAAAAAARkAAAAAAAABTQAAAAAAAADhAAAAAAAAAMkAAAAAAAIBHQAAAAAAAgFBAAAAAAACAUEAAAAAAAABKQAAAAAAAAEdAAAAAAAAANEAAAAAAAABAQAAAAAAAAExAAAAAAACATkAAAAAAAABLQAAAAAAAgEtAAAAAAAAAQ0AAAAAAAAAzQAAAAAAAAD1AAAAAAACAS0AAAAAAAABLQAAAAAAAgElAAAAAAAAASUAAAAAAAIBGQAAAAAAAADBAAAAAAACAQ0AAAAAAAIBHQAAAAAAAAEdAAAAAAAAASEAAAAAAAIBEQAAAAAAAgERAAAAAAAAAPEAAAAAAAAA1QAAAAAAAAFVAAAAAAAAASUAAAAAAAIBGQAAAAAAAAD5AAAAAAACAREAAAAAAAAAwQAAAAAAAACBAAAAAAAAAPUAAAAAAAABMQAAAAAAAAERAAAAAAACASkAAAAAAAIBGQAAAAAAAADdAAAAAAAAAOEAAAAAAAABPQAAAAAAAgERAAAAAAACARUAAAAAAAIBBQAAAAAAAgExAAAAAAAAANkAAAAAAAAAkQAAAAAAAAEtAAAAAAAAATUA=\",\"dtype\":\"float64\",\"shape\":[79]}},\"selected\":{\"id\":\"1086\"},\"selection_policy\":{\"id\":\"1087\"}},\"id\":\"1037\",\"type\":\"ColumnDataSource\"},{\"attributes\":{\"months\":[0,2,4,6,8,10]},\"id\":\"1057\",\"type\":\"MonthsTicker\"},{\"attributes\":{\"axis\":{\"id\":\"1017\"},\"dimension\":1,\"ticker\":null},\"id\":\"1020\",\"type\":\"Grid\"},{\"attributes\":{},\"id\":\"1087\",\"type\":\"UnionRenderers\"},{\"attributes\":{\"label\":{\"value\":\"7-day rolling avg\"},\"renderers\":[{\"id\":\"1067\"}]},\"id\":\"1089\",\"type\":\"LegendItem\"},{\"attributes\":{\"days\":[1,15]},\"id\":\"1055\",\"type\":\"DaysTicker\"},{\"attributes\":{\"axis\":{\"id\":\"1013\"},\"ticker\":null},\"id\":\"1016\",\"type\":\"Grid\"},{\"attributes\":{\"overlay\":{\"id\":\"1027\"}},\"id\":\"1023\",\"type\":\"BoxZoomTool\"},{\"attributes\":{\"fill_alpha\":{\"value\":0.1},\"fill_color\":{\"value\":\"green\"},\"line_alpha\":{\"value\":0.1},\"line_color\":{\"value\":\"green\"},\"top\":{\"field\":\"new_confirmed_cases\"},\"width\":{\"value\":0.4},\"x\":{\"field\":\"date\"}},\"id\":\"1041\",\"type\":\"VBar\"},{\"attributes\":{\"bottom_units\":\"screen\",\"fill_alpha\":0.5,\"fill_color\":\"lightgrey\",\"left_units\":\"screen\",\"level\":\"overlay\",\"line_alpha\":1.0,\"line_color\":\"black\",\"line_dash\":[4,4],\"line_width\":2,\"render_mode\":\"css\",\"right_units\":\"screen\",\"top_units\":\"screen\"},\"id\":\"1027\",\"type\":\"BoxAnnotation\"},{\"attributes\":{\"data_source\":{\"id\":\"1037\"},\"glyph\":{\"id\":\"1040\"},\"hover_glyph\":null,\"muted_glyph\":null,\"nonselection_glyph\":{\"id\":\"1041\"},\"selection_glyph\":null,\"view\":{\"id\":\"1043\"}},\"id\":\"1042\",\"type\":\"GlyphRenderer\"},{\"attributes\":{\"active_drag\":\"auto\",\"active_inspect\":\"auto\",\"active_multi\":null,\"active_scroll\":\"auto\",\"active_tap\":\"auto\",\"tools\":[{\"id\":\"1021\"},{\"id\":\"1022\"},{\"id\":\"1023\"},{\"id\":\"1024\"},{\"id\":\"1025\"},{\"id\":\"1026\"},{\"id\":\"1028\"}]},\"id\":\"1029\",\"type\":\"Toolbar\"},{\"attributes\":{},\"id\":\"1021\",\"type\":\"PanTool\"},{\"attributes\":{\"mantissas\":[1,2,5],\"max_interval\":500.0,\"num_minor_ticks\":0},\"id\":\"1049\",\"type\":\"AdaptiveTicker\"},{\"attributes\":{\"formatter\":{\"id\":\"1046\"},\"ticker\":{\"id\":\"1014\"}},\"id\":\"1013\",\"type\":\"DatetimeAxis\"},{\"attributes\":{},\"id\":\"1022\",\"type\":\"WheelZoomTool\"},{\"attributes\":{},\"id\":\"1025\",\"type\":\"ResetTool\"},{\"attributes\":{\"text\":\"Daily new cases -- LA County\"},\"id\":\"1003\",\"type\":\"Title\"},{\"attributes\":{\"base\":60,\"mantissas\":[1,2,5,10,15,20,30],\"max_interval\":1800000.0,\"min_interval\":1000.0,\"num_minor_ticks\":0},\"id\":\"1050\",\"type\":\"AdaptiveTicker\"},{\"attributes\":{},\"id\":\"1110\",\"type\":\"UnionRenderers\"},{\"attributes\":{\"source\":{\"id\":\"1037\"}},\"id\":\"1043\",\"type\":\"CDSView\"},{\"attributes\":{},\"id\":\"1026\",\"type\":\"HelpTool\"},{\"attributes\":{},\"id\":\"1005\",\"type\":\"DataRange1d\"},{\"attributes\":{},\"id\":\"1009\",\"type\":\"LinearScale\"},{\"attributes\":{},\"id\":\"1048\",\"type\":\"BasicTickFormatter\"},{\"attributes\":{\"months\":[0,1,2,3,4,5,6,7,8,9,10,11]},\"id\":\"1056\",\"type\":\"MonthsTicker\"},{\"attributes\":{},\"id\":\"1046\",\"type\":\"DatetimeTickFormatter\"},{\"attributes\":{\"formatter\":{\"id\":\"1048\"},\"ticker\":{\"id\":\"1018\"}},\"id\":\"1017\",\"type\":\"LinearAxis\"},{\"attributes\":{},\"id\":\"1018\",\"type\":\"BasicTicker\"},{\"attributes\":{\"line_alpha\":0.3,\"line_color\":\"navy\",\"line_width\":5,\"x\":{\"field\":\"date\"},\"y\":{\"field\":\"new_confirmed_cases\"}},\"id\":\"1065\",\"type\":\"Line\"},{\"attributes\":{\"callback\":null,\"tooltips\":[[\"cases\",\"@new_confirmed_cases\"],[\"date\",\"@date\"]]},\"id\":\"1028\",\"type\":\"HoverTool\"},{\"attributes\":{},\"id\":\"1011\",\"type\":\"LinearScale\"},{\"attributes\":{\"days\":[1,2,3,4,5,6,7,8,9,10,11,12,13,14,15,16,17,18,19,20,21,22,23,24,25,26,27,28,29,30,31]},\"id\":\"1052\",\"type\":\"DaysTicker\"},{\"attributes\":{},\"id\":\"1109\",\"type\":\"Selection\"},{\"attributes\":{\"base\":24,\"mantissas\":[1,2,4,6,8,12],\"max_interval\":43200000.0,\"min_interval\":3600000.0,\"num_minor_ticks\":0},\"id\":\"1051\",\"type\":\"AdaptiveTicker\"},{\"attributes\":{\"label\":{\"value\":\"Daily new cases\"},\"renderers\":[{\"id\":\"1042\"}]},\"id\":\"1063\",\"type\":\"LegendItem\"},{\"attributes\":{\"num_minor_ticks\":5,\"tickers\":[{\"id\":\"1049\"},{\"id\":\"1050\"},{\"id\":\"1051\"},{\"id\":\"1052\"},{\"id\":\"1053\"},{\"id\":\"1054\"},{\"id\":\"1055\"},{\"id\":\"1056\"},{\"id\":\"1057\"},{\"id\":\"1058\"},{\"id\":\"1059\"},{\"id\":\"1060\"}]},\"id\":\"1014\",\"type\":\"DatetimeTicker\"},{\"attributes\":{\"line_alpha\":0.1,\"line_color\":\"navy\",\"line_width\":5,\"x\":{\"field\":\"date\"},\"y\":{\"field\":\"new_confirmed_cases\"}},\"id\":\"1066\",\"type\":\"Line\"},{\"attributes\":{\"fill_alpha\":{\"value\":0.8},\"fill_color\":{\"value\":\"green\"},\"line_alpha\":{\"value\":0.8},\"line_color\":{\"value\":\"green\"},\"top\":{\"field\":\"new_confirmed_cases\"},\"width\":{\"value\":0.4},\"x\":{\"field\":\"date\"}},\"id\":\"1040\",\"type\":\"VBar\"},{\"attributes\":{},\"id\":\"1007\",\"type\":\"DataRange1d\"},{\"attributes\":{\"days\":[1,4,7,10,13,16,19,22,25,28]},\"id\":\"1053\",\"type\":\"DaysTicker\"},{\"attributes\":{\"months\":[0,6]},\"id\":\"1059\",\"type\":\"MonthsTicker\"},{\"attributes\":{\"data_source\":{\"id\":\"1038\"},\"glyph\":{\"id\":\"1065\"},\"hover_glyph\":null,\"muted_glyph\":null,\"nonselection_glyph\":{\"id\":\"1066\"},\"selection_glyph\":null,\"view\":{\"id\":\"1068\"}},\"id\":\"1067\",\"type\":\"GlyphRenderer\"},{\"attributes\":{\"data\":{\"date\":{\"__ndarray__\":\"AADAa50Qd0IAAIDR7xB3QgAAQDdCEXdCAAAAnZQRd0IAAMAC5xF3QgAAgGg5EndCAABAzosSd0IAAAA03hJ3QgAAwJkwE3dCAACA/4ITd0IAAEBl1RN3QgAAAMsnFHdCAADAMHoUd0IAAICWzBR3QgAAQPweFXdCAAAAYnEVd0IAAMDHwxV3QgAAgC0WFndCAABAk2gWd0IAAAD5uhZ3QgAAwF4NF3dCAACAxF8Xd0IAAEAqshd3QgAAAJAEGHdCAADA9VYYd0IAAIBbqRh3QgAAQMH7GHdCAAAAJ04Zd0IAAMCMoBl3QgAAgPLyGXdCAABAWEUad0IAAAC+lxp3QgAAwCPqGndCAACAiTwbd0IAAEDvjht3QgAAAFXhG3dCAADAujMcd0IAAIAghhx3QgAAQIbYHHdCAAAA7Codd0IAAMBRfR13QgAAgLfPHXdCAABAHSIed0IAAACDdB53QgAAwOjGHndCAACAThkfd0IAAEC0ax93QgAAABq+H3dCAADAfxAgd0IAAIDlYiB3QgAAQEu1IHdCAAAAsQchd0IAAMAWWiF3QgAAgHysIXdCAABA4v4hd0IAAABIUSJ3QgAAwK2jIndCAACAE/Yid0IAAEB5SCN3QgAAAN+aI3dCAADARO0jd0IAAICqPyR3QgAAQBCSJHdCAAAAduQkd0IAAMDbNiV3QgAAgEGJJXdCAABAp9sld0IAAAANLiZ3QgAAwHKAJndCAACA2NImd0IAAEA+JSd3QgAAAKR3J3dCAADACcond0IAAIBvHCh3QgAAQNVuKHdCAAAAO8Eod0IAAMCgEyl3QgAAgAZmKXdCAABAbLgpd0I=\",\"dtype\":\"float64\",\"shape\":[79]},\"index\":[0,1,2,3,4,5,6,7,8,9,10,11,12,13,14,15,16,17,18,19,20,21,22,23,24,25,26,27,28,29,30,31,32,33,34,35,36,37,38,39,40,41,42,43,44,45,46,47,48,49,50,51,52,53,54,55,56,57,58,59,60,61,62,63,64,65,66,67,68,69,70,71,72,73,74,75,76,77,78],\"new_confirmed_cases\":{\"__ndarray__\":\"AAAAAADAX0AAAAAAAPBgQAAAAAAAoGxAAAAAAABYbUAAAAAAAOBvQFVVVVVVtXBASZIkSZKEcUAlSZIkSSJ1QLdt27ZtO3hA27Zt27ZdeUAlSZIkSeJ7QAAAAAAAUH9AAAAAAAAAgUCSJEmSJFmBQJIkSZIkcYFAbtu2bdsOgkAAAAAAAHiBQNu2bdu2LYFAJUmSJEnSf0AlSZIkSfJ8QEmSJEmSlHtASZIkSZL0e0CSJEmSJEl6QNu2bdu2/XlAAAAAAACAekC3bdu2bTt8QEmSJEmSJHxAt23btm1jg0CSJEmSJLmGQLdt27Zte4pAkiRJkiTJjUDbtm3bts2PQLdt27Ztu49ASZIkSZIckECSJEmSJKGNQAAAAAAAIIpASZIkSZIci0C3bdu2bUuJQNu2bdu2hYlAJUmSJEnKiUAAAAAAAGCLQLdt27Zty4lAt23btm2TjkBJkiRJkmyLQAAAAAAAGIxAt23btm0bi0Dbtm3btiWMQNu2bdu2zYpASZIkSZLsikDbtm3btgWIQAAAAAAASIpAbtu2bdtuikDbtm3btr2KQJIkSZIkYYtAkiRJkiQpjEAlSZIkSaqLQJIkSZIkgYxASZIkSZKsjEBu27Zt296NQG7btm3bLo5Abtu2bdsejkAlSZIkSVqPQCVJkiRJ3pBAJUmSJElmkkBu27Zt22qRQEmSJEmSPJFAJUmSJEkyk0AAAAAAAHyVQLdt27ZtP5ZAbtu2bdtOlkCSJEmSJN2UQCVJkiRJLpVASZIkSZIAlkCSJEmSJPWUQG7btm3bSpNASZIkSZLAk0CSJEmSJGGTQLdt27Ztf5NA27Zt27a9k0A=\",\"dtype\":\"float64\",\"shape\":[79]},\"new_deaths\":{\"__ndarray__\":\"AAAAAAAAAEAAAAAAAAAEQFVVVVVVVRFAAAAAAAAAEkAzMzMzMzMTQFVVVVVVVRNAJUmSJEmSFEBJkiRJkiQZQJIkSZIkSR5At23btm3bIEBJkiRJkiQjQLdt27Zt2yhASZIkSZIkK0Dbtm3btm0tQAAAAAAAADFASZIkSZIkM0Bu27Zt27Y0QCVJkiRJkjVASZIkSZIkNUAAAAAAAAA4QCVJkiRJkjlAJUmSJEmSO0CSJEmSJEk9QCVJkiRJkkBAt23btm1bQkBJkiRJkiRGQAAAAAAAgEVA27Zt27btREDbtm3btm1FQLdt27ZtW0dAt23btm1bSEDbtm3btu1IQJIkSZIkyUZAAAAAAACARkAAAAAAAIBHQEmSJEmSJEhAkiRJkiTJR0Dbtm3btu1GQEmSJEmSJEdAJUmSJEmSRkAAAAAAAIBGQJIkSZIkSUZAbtu2bds2RkBu27Zt27ZFQAAAAAAAgEVASZIkSZIkRUBJkiRJkqRFQNu2bdu2bUVASZIkSZIkRkAlSZIkSZJFQAAAAAAAAEVAkiRJkiTJREBJkiRJkiREQLdt27Zt20NAbtu2bdu2REDbtm3btm1DQCVJkiRJEkZAt23btm1bRkBJkiRJkiRGQLdt27ZtW0VAt23btm1bRUAAAAAAAIBEQCVJkiRJkkNAkiRJkiRJP0AlSZIkSRJAQNu2bdu2bT9At23btm1bQUBJkiRJkqRBQEmSJEmSJEJAkiRJkiRJQ0BJkiRJkqRFQCVJkiRJkkRAkiRJkiTJREAAAAAAAIBDQLdt27ZtW0RAkiRJkiRJRECSJEmSJElDQG7btm3btkJA27Zt27btQ0A=\",\"dtype\":\"float64\",\"shape\":[79]}},\"selected\":{\"id\":\"1109\"},\"selection_policy\":{\"id\":\"1110\"}},\"id\":\"1038\",\"type\":\"ColumnDataSource\"}],\"root_ids\":[\"1002\"]},\"title\":\"Bokeh Application\",\"version\":\"2.0.2\"}};\n",
       "  var render_items = [{\"docid\":\"31aea914-8e81-4435-b561-e078335de69c\",\"root_ids\":[\"1002\"],\"roots\":{\"1002\":\"c3da67e7-b49a-47c7-a378-a95e7056997a\"}}];\n",
       "  root.Bokeh.embed.embed_items_notebook(docs_json, render_items);\n",
       "\n",
       "  }\n",
       "  if (root.Bokeh !== undefined) {\n",
       "    embed_document(root);\n",
       "  } else {\n",
       "    var attempts = 0;\n",
       "    var timer = setInterval(function(root) {\n",
       "      if (root.Bokeh !== undefined) {\n",
       "        clearInterval(timer);\n",
       "        embed_document(root);\n",
       "      } else {\n",
       "        attempts++;\n",
       "        if (attempts > 100) {\n",
       "          clearInterval(timer);\n",
       "          console.log(\"Bokeh: ERROR: Unable to run BokehJS code because BokehJS library is missing\");\n",
       "        }\n",
       "      }\n",
       "    }, 10, root)\n",
       "  }\n",
       "})(window);"
      ],
      "application/vnd.bokehjs_exec.v0+json": ""
     },
     "metadata": {
      "application/vnd.bokehjs_exec.v0+json": {
       "id": "1002"
      }
     },
     "output_type": "display_data"
    },
    {
     "data": {
      "text/html": [
       "\n",
       "\n",
       "\n",
       "\n",
       "\n",
       "\n",
       "  <div class=\"bk-root\" id=\"468eac79-7389-4667-98f1-bae28fdee622\" data-root-id=\"1244\"></div>\n"
      ]
     },
     "metadata": {},
     "output_type": "display_data"
    },
    {
     "data": {
      "application/javascript": [
       "(function(root) {\n",
       "  function embed_document(root) {\n",
       "    \n",
       "  var docs_json = {\"bc7adfae-110d-44e5-8db0-c0b9873400db\":{\"roots\":{\"references\":[{\"attributes\":{\"below\":[{\"id\":\"1255\"}],\"center\":[{\"id\":\"1258\"},{\"id\":\"1262\"},{\"id\":\"1304\"}],\"left\":[{\"id\":\"1259\"}],\"plot_height\":400,\"plot_width\":1000,\"renderers\":[{\"id\":\"1284\"},{\"id\":\"1309\"}],\"title\":{\"id\":\"1245\"},\"toolbar\":{\"id\":\"1271\"},\"x_range\":{\"id\":\"1247\"},\"x_scale\":{\"id\":\"1251\"},\"y_range\":{\"id\":\"1249\"},\"y_scale\":{\"id\":\"1253\"}},\"id\":\"1244\",\"subtype\":\"Figure\",\"type\":\"Plot\"},{\"attributes\":{},\"id\":\"1253\",\"type\":\"LinearScale\"},{\"attributes\":{\"label\":{\"value\":\"7-day rolling avg\"},\"renderers\":[{\"id\":\"1309\"}]},\"id\":\"1331\",\"type\":\"LegendItem\"},{\"attributes\":{},\"id\":\"1290\",\"type\":\"BasicTickFormatter\"},{\"attributes\":{},\"id\":\"1251\",\"type\":\"LinearScale\"},{\"attributes\":{},\"id\":\"1329\",\"type\":\"UnionRenderers\"},{\"attributes\":{},\"id\":\"1247\",\"type\":\"DataRange1d\"},{\"attributes\":{\"mantissas\":[1,2,5],\"max_interval\":500.0,\"num_minor_ticks\":0},\"id\":\"1291\",\"type\":\"AdaptiveTicker\"},{\"attributes\":{\"base\":60,\"mantissas\":[1,2,5,10,15,20,30],\"max_interval\":1800000.0,\"min_interval\":1000.0,\"num_minor_ticks\":0},\"id\":\"1292\",\"type\":\"AdaptiveTicker\"},{\"attributes\":{},\"id\":\"1374\",\"type\":\"UnionRenderers\"},{\"attributes\":{},\"id\":\"1249\",\"type\":\"DataRange1d\"},{\"attributes\":{},\"id\":\"1373\",\"type\":\"Selection\"},{\"attributes\":{\"days\":[1,2,3,4,5,6,7,8,9,10,11,12,13,14,15,16,17,18,19,20,21,22,23,24,25,26,27,28,29,30,31]},\"id\":\"1294\",\"type\":\"DaysTicker\"},{\"attributes\":{\"months\":[0,4,8]},\"id\":\"1300\",\"type\":\"MonthsTicker\"},{\"attributes\":{\"text\":\"Daily new deaths -- LA County\"},\"id\":\"1245\",\"type\":\"Title\"},{\"attributes\":{\"months\":[0,2,4,6,8,10]},\"id\":\"1299\",\"type\":\"MonthsTicker\"},{\"attributes\":{\"axis\":{\"id\":\"1259\"},\"dimension\":1,\"ticker\":null},\"id\":\"1262\",\"type\":\"Grid\"},{\"attributes\":{\"days\":[1,15]},\"id\":\"1297\",\"type\":\"DaysTicker\"},{\"attributes\":{\"base\":24,\"mantissas\":[1,2,4,6,8,12],\"max_interval\":43200000.0,\"min_interval\":3600000.0,\"num_minor_ticks\":0},\"id\":\"1293\",\"type\":\"AdaptiveTicker\"},{\"attributes\":{\"data_source\":{\"id\":\"1279\"},\"glyph\":{\"id\":\"1282\"},\"hover_glyph\":null,\"muted_glyph\":null,\"nonselection_glyph\":{\"id\":\"1283\"},\"selection_glyph\":null,\"view\":{\"id\":\"1285\"}},\"id\":\"1284\",\"type\":\"GlyphRenderer\"},{\"attributes\":{\"months\":[0,6]},\"id\":\"1301\",\"type\":\"MonthsTicker\"},{\"attributes\":{},\"id\":\"1264\",\"type\":\"WheelZoomTool\"},{\"attributes\":{},\"id\":\"1302\",\"type\":\"YearsTicker\"},{\"attributes\":{},\"id\":\"1263\",\"type\":\"PanTool\"},{\"attributes\":{\"overlay\":{\"id\":\"1269\"}},\"id\":\"1265\",\"type\":\"BoxZoomTool\"},{\"attributes\":{\"items\":[{\"id\":\"1305\"},{\"id\":\"1331\"}]},\"id\":\"1304\",\"type\":\"Legend\"},{\"attributes\":{\"fill_alpha\":{\"value\":0.1},\"fill_color\":{\"value\":\"green\"},\"line_alpha\":{\"value\":0.1},\"line_color\":{\"value\":\"green\"},\"top\":{\"field\":\"new_deaths\"},\"width\":{\"value\":0.4},\"x\":{\"field\":\"date\"}},\"id\":\"1283\",\"type\":\"VBar\"},{\"attributes\":{\"label\":{\"value\":\"Daily new deaths\"},\"renderers\":[{\"id\":\"1284\"}]},\"id\":\"1305\",\"type\":\"LegendItem\"},{\"attributes\":{},\"id\":\"1267\",\"type\":\"ResetTool\"},{\"attributes\":{},\"id\":\"1268\",\"type\":\"HelpTool\"},{\"attributes\":{\"fill_alpha\":{\"value\":0.8},\"fill_color\":{\"value\":\"green\"},\"line_alpha\":{\"value\":0.8},\"line_color\":{\"value\":\"green\"},\"top\":{\"field\":\"new_deaths\"},\"width\":{\"value\":0.4},\"x\":{\"field\":\"date\"}},\"id\":\"1282\",\"type\":\"VBar\"},{\"attributes\":{\"source\":{\"id\":\"1279\"}},\"id\":\"1285\",\"type\":\"CDSView\"},{\"attributes\":{\"callback\":null,\"tooltips\":[[\"cases\",\"@new_confirmed_cases\"],[\"date\",\"@date\"]]},\"id\":\"1270\",\"type\":\"HoverTool\"},{\"attributes\":{},\"id\":\"1288\",\"type\":\"DatetimeTickFormatter\"},{\"attributes\":{},\"id\":\"1266\",\"type\":\"SaveTool\"},{\"attributes\":{\"months\":[0,1,2,3,4,5,6,7,8,9,10,11]},\"id\":\"1298\",\"type\":\"MonthsTicker\"},{\"attributes\":{\"line_alpha\":0.1,\"line_color\":\"navy\",\"line_width\":5,\"x\":{\"field\":\"date\"},\"y\":{\"field\":\"new_deaths\"}},\"id\":\"1308\",\"type\":\"Line\"},{\"attributes\":{},\"id\":\"1260\",\"type\":\"BasicTicker\"},{\"attributes\":{\"formatter\":{\"id\":\"1288\"},\"ticker\":{\"id\":\"1256\"}},\"id\":\"1255\",\"type\":\"DatetimeAxis\"},{\"attributes\":{\"active_drag\":\"auto\",\"active_inspect\":\"auto\",\"active_multi\":null,\"active_scroll\":\"auto\",\"active_tap\":\"auto\",\"tools\":[{\"id\":\"1263\"},{\"id\":\"1264\"},{\"id\":\"1265\"},{\"id\":\"1266\"},{\"id\":\"1267\"},{\"id\":\"1268\"},{\"id\":\"1270\"}]},\"id\":\"1271\",\"type\":\"Toolbar\"},{\"attributes\":{\"data_source\":{\"id\":\"1280\"},\"glyph\":{\"id\":\"1307\"},\"hover_glyph\":null,\"muted_glyph\":null,\"nonselection_glyph\":{\"id\":\"1308\"},\"selection_glyph\":null,\"view\":{\"id\":\"1310\"}},\"id\":\"1309\",\"type\":\"GlyphRenderer\"},{\"attributes\":{\"formatter\":{\"id\":\"1290\"},\"ticker\":{\"id\":\"1260\"}},\"id\":\"1259\",\"type\":\"LinearAxis\"},{\"attributes\":{\"line_alpha\":0.3,\"line_color\":\"navy\",\"line_width\":5,\"x\":{\"field\":\"date\"},\"y\":{\"field\":\"new_deaths\"}},\"id\":\"1307\",\"type\":\"Line\"},{\"attributes\":{\"data\":{\"date\":{\"__ndarray__\":\"AADAa50Qd0IAAIDR7xB3QgAAQDdCEXdCAAAAnZQRd0IAAMAC5xF3QgAAgGg5EndCAABAzosSd0IAAAA03hJ3QgAAwJkwE3dCAACA/4ITd0IAAEBl1RN3QgAAAMsnFHdCAADAMHoUd0IAAICWzBR3QgAAQPweFXdCAAAAYnEVd0IAAMDHwxV3QgAAgC0WFndCAABAk2gWd0IAAAD5uhZ3QgAAwF4NF3dCAACAxF8Xd0IAAEAqshd3QgAAAJAEGHdCAADA9VYYd0IAAIBbqRh3QgAAQMH7GHdCAAAAJ04Zd0IAAMCMoBl3QgAAgPLyGXdCAABAWEUad0IAAAC+lxp3QgAAwCPqGndCAACAiTwbd0IAAEDvjht3QgAAAFXhG3dCAADAujMcd0IAAIAghhx3QgAAQIbYHHdCAAAA7Codd0IAAMBRfR13QgAAgLfPHXdCAABAHSIed0IAAACDdB53QgAAwOjGHndCAACAThkfd0IAAEC0ax93QgAAABq+H3dCAADAfxAgd0IAAIDlYiB3QgAAQEu1IHdCAAAAsQchd0IAAMAWWiF3QgAAgHysIXdCAABA4v4hd0IAAABIUSJ3QgAAwK2jIndCAACAE/Yid0IAAEB5SCN3QgAAAN+aI3dCAADARO0jd0IAAICqPyR3QgAAQBCSJHdCAAAAduQkd0IAAMDbNiV3QgAAgEGJJXdCAABAp9sld0IAAAANLiZ3QgAAwHKAJndCAACA2NImd0IAAEA+JSd3QgAAAKR3J3dCAADACcond0IAAIBvHCh3QgAAQNVuKHdCAAAAO8Eod0IAAMCgEyl3QgAAgAZmKXdCAABAbLgpd0I=\",\"dtype\":\"float64\",\"shape\":[79]},\"index\":[0,1,2,3,4,5,6,7,8,9,10,11,12,13,14,15,16,17,18,19,20,21,22,23,24,25,26,27,28,29,30,31,32,33,34,35,36,37,38,39,40,41,42,43,44,45,46,47,48,49,50,51,52,53,54,55,56,57,58,59,60,61,62,63,64,65,66,67,68,69,70,71,72,73,74,75,76,77,78],\"new_confirmed_cases\":{\"__ndarray__\":\"AAAAAADAX0AAAAAAAPBgQAAAAAAAoGxAAAAAAABYbUAAAAAAAOBvQFVVVVVVtXBASZIkSZKEcUAlSZIkSSJ1QLdt27ZtO3hA27Zt27ZdeUAlSZIkSeJ7QAAAAAAAUH9AAAAAAAAAgUCSJEmSJFmBQJIkSZIkcYFAbtu2bdsOgkAAAAAAAHiBQNu2bdu2LYFAJUmSJEnSf0AlSZIkSfJ8QEmSJEmSlHtASZIkSZL0e0CSJEmSJEl6QNu2bdu2/XlAAAAAAACAekC3bdu2bTt8QEmSJEmSJHxAt23btm1jg0CSJEmSJLmGQLdt27Zte4pAkiRJkiTJjUDbtm3bts2PQLdt27Ztu49ASZIkSZIckECSJEmSJKGNQAAAAAAAIIpASZIkSZIci0C3bdu2bUuJQNu2bdu2hYlAJUmSJEnKiUAAAAAAAGCLQLdt27Zty4lAt23btm2TjkBJkiRJkmyLQAAAAAAAGIxAt23btm0bi0Dbtm3btiWMQNu2bdu2zYpASZIkSZLsikDbtm3btgWIQAAAAAAASIpAbtu2bdtuikDbtm3btr2KQJIkSZIkYYtAkiRJkiQpjEAlSZIkSaqLQJIkSZIkgYxASZIkSZKsjEBu27Zt296NQG7btm3bLo5Abtu2bdsejkAlSZIkSVqPQCVJkiRJ3pBAJUmSJElmkkBu27Zt22qRQEmSJEmSPJFAJUmSJEkyk0AAAAAAAHyVQLdt27ZtP5ZAbtu2bdtOlkCSJEmSJN2UQCVJkiRJLpVASZIkSZIAlkCSJEmSJPWUQG7btm3bSpNASZIkSZLAk0CSJEmSJGGTQLdt27Ztf5NA27Zt27a9k0A=\",\"dtype\":\"float64\",\"shape\":[79]},\"new_deaths\":{\"__ndarray__\":\"AAAAAAAAAEAAAAAAAAAEQFVVVVVVVRFAAAAAAAAAEkAzMzMzMzMTQFVVVVVVVRNAJUmSJEmSFEBJkiRJkiQZQJIkSZIkSR5At23btm3bIEBJkiRJkiQjQLdt27Zt2yhASZIkSZIkK0Dbtm3btm0tQAAAAAAAADFASZIkSZIkM0Bu27Zt27Y0QCVJkiRJkjVASZIkSZIkNUAAAAAAAAA4QCVJkiRJkjlAJUmSJEmSO0CSJEmSJEk9QCVJkiRJkkBAt23btm1bQkBJkiRJkiRGQAAAAAAAgEVA27Zt27btREDbtm3btm1FQLdt27ZtW0dAt23btm1bSEDbtm3btu1IQJIkSZIkyUZAAAAAAACARkAAAAAAAIBHQEmSJEmSJEhAkiRJkiTJR0Dbtm3btu1GQEmSJEmSJEdAJUmSJEmSRkAAAAAAAIBGQJIkSZIkSUZAbtu2bds2RkBu27Zt27ZFQAAAAAAAgEVASZIkSZIkRUBJkiRJkqRFQNu2bdu2bUVASZIkSZIkRkAlSZIkSZJFQAAAAAAAAEVAkiRJkiTJREBJkiRJkiREQLdt27Zt20NAbtu2bdu2REDbtm3btm1DQCVJkiRJEkZAt23btm1bRkBJkiRJkiRGQLdt27ZtW0VAt23btm1bRUAAAAAAAIBEQCVJkiRJkkNAkiRJkiRJP0AlSZIkSRJAQNu2bdu2bT9At23btm1bQUBJkiRJkqRBQEmSJEmSJEJAkiRJkiRJQ0BJkiRJkqRFQCVJkiRJkkRAkiRJkiTJREAAAAAAAIBDQLdt27ZtW0RAkiRJkiRJRECSJEmSJElDQG7btm3btkJA27Zt27btQ0A=\",\"dtype\":\"float64\",\"shape\":[79]}},\"selected\":{\"id\":\"1373\"},\"selection_policy\":{\"id\":\"1374\"}},\"id\":\"1280\",\"type\":\"ColumnDataSource\"},{\"attributes\":{\"days\":[1,8,15,22]},\"id\":\"1296\",\"type\":\"DaysTicker\"},{\"attributes\":{\"axis\":{\"id\":\"1255\"},\"ticker\":null},\"id\":\"1258\",\"type\":\"Grid\"},{\"attributes\":{\"data\":{\"date\":{\"__ndarray__\":\"AADAa50Qd0IAAIDR7xB3QgAAQDdCEXdCAAAAnZQRd0IAAMAC5xF3QgAAgGg5EndCAABAzosSd0IAAAA03hJ3QgAAwJkwE3dCAACA/4ITd0IAAEBl1RN3QgAAAMsnFHdCAADAMHoUd0IAAICWzBR3QgAAQPweFXdCAAAAYnEVd0IAAMDHwxV3QgAAgC0WFndCAABAk2gWd0IAAAD5uhZ3QgAAwF4NF3dCAACAxF8Xd0IAAEAqshd3QgAAAJAEGHdCAADA9VYYd0IAAIBbqRh3QgAAQMH7GHdCAAAAJ04Zd0IAAMCMoBl3QgAAgPLyGXdCAABAWEUad0IAAAC+lxp3QgAAwCPqGndCAACAiTwbd0IAAEDvjht3QgAAAFXhG3dCAADAujMcd0IAAIAghhx3QgAAQIbYHHdCAAAA7Codd0IAAMBRfR13QgAAgLfPHXdCAABAHSIed0IAAACDdB53QgAAwOjGHndCAACAThkfd0IAAEC0ax93QgAAABq+H3dCAADAfxAgd0IAAIDlYiB3QgAAQEu1IHdCAAAAsQchd0IAAMAWWiF3QgAAgHysIXdCAABA4v4hd0IAAABIUSJ3QgAAwK2jIndCAACAE/Yid0IAAEB5SCN3QgAAAN+aI3dCAADARO0jd0IAAICqPyR3QgAAQBCSJHdCAAAAduQkd0IAAMDbNiV3QgAAgEGJJXdCAABAp9sld0IAAAANLiZ3QgAAwHKAJndCAACA2NImd0IAAEA+JSd3QgAAAKR3J3dCAADACcond0IAAIBvHCh3QgAAQNVuKHdCAAAAO8Eod0IAAMCgEyl3QgAAgAZmKXdCAABAbLgpd0I=\",\"dtype\":\"float64\",\"shape\":[79]},\"index\":[0,1,2,3,4,5,6,7,8,9,10,11,12,13,14,15,16,17,18,19,20,21,22,23,24,25,26,27,28,29,30,31,32,33,34,35,36,37,38,39,40,41,42,43,44,45,46,47,48,49,50,51,52,53,54,55,56,57,58,59,60,61,62,63,64,65,66,67,68,69,70,71,72,73,74,75,76,77,78],\"new_confirmed_cases\":{\"__ndarray__\":\"AAAAAADAX0AAAAAAAABiQAAAAAAAAHpAAAAAAACAb0AAAAAAAAB1QAAAAAAAkHRAAAAAAABgdkAAAAAAAKCAQAAAAAAAsH5AAAAAAAD4gEAAAAAAALCAQAAAAAAAgIZAAAAAAACwg0AAAAAAAEB7QAAAAAAASIFAAAAAAACog0AAAAAAALB5QAAAAAAAUH1AAAAAAABAe0AAAAAAAEBzQAAAAAAAsHFAAAAAAACYgkAAAAAAAKB7QAAAAAAAoHdAAAAAAABwgEAAAAAAALCDQAAAAAAAoHJAAAAAAAAIl0AAAAAAAPiUQAAAAAAAEJRAAAAAAAB4kUAAAAAAAJCOQAAAAAAAMINAAAAAAACAeUAAAAAAAOiLQAAAAAAAaIFAAAAAAACEl0AAAAAAADiGQAAAAAAAFJBAAAAAAAAQhUAAAAAAANiHQAAAAAAA2IBAAAAAAABwmUAAAAAAAPiIQAAAAAAA6IpAAAAAAABAiUAAAAAAAFiMQAAAAAAA4HxAAAAAAACwgUAAAAAAAJCOQAAAAAAAZJRAAAAAAAD4i0AAAAAAAGiLQAAAAAAAaJBAAAAAAADog0AAAAAAAHB8QAAAAAAAOJJAAAAAAAD8lEAAAAAAACySQAAAAAAAmI1AAAAAAAAwkEAAAAAAAIiMQAAAAAAA6I5AAAAAAADwnEAAAAAAADiMQAAAAAAA6JBAAAAAAACEnEAAAAAAABqgQAAAAAAAnJNAAAAAAADAj0AAAAAAANSSQAAAAAAAVJBAAAAAAAColkAAAAAAADSVQAAAAAAAjJRAAAAAAADUlkAAAAAAAIiKQAAAAAAAqJNAAAAAAAAIkkA=\",\"dtype\":\"float64\",\"shape\":[79]},\"new_deaths\":{\"__ndarray__\":\"AAAAAAAAAEAAAAAAAAAIQAAAAAAAACBAAAAAAAAAFEAAAAAAAAAYQAAAAAAAABRAAAAAAAAAHEAAAAAAAAAkQAAAAAAAAChAAAAAAAAALEAAAAAAAAAqQAAAAAAAADpAAAAAAAAAKkAAAAAAAAAuQAAAAAAAADpAAAAAAAAAO0AAAAAAAAA5QAAAAAAAADNAAAAAAAAAN0AAAAAAAIBAQAAAAAAAADpAAAAAAAAAREAAAAAAAIBDQAAAAAAAAEpAAAAAAAAARkAAAAAAAABTQAAAAAAAADhAAAAAAAAAMkAAAAAAAIBHQAAAAAAAgFBAAAAAAACAUEAAAAAAAABKQAAAAAAAAEdAAAAAAAAANEAAAAAAAABAQAAAAAAAAExAAAAAAACATkAAAAAAAABLQAAAAAAAgEtAAAAAAAAAQ0AAAAAAAAAzQAAAAAAAAD1AAAAAAACAS0AAAAAAAABLQAAAAAAAgElAAAAAAAAASUAAAAAAAIBGQAAAAAAAADBAAAAAAACAQ0AAAAAAAIBHQAAAAAAAAEdAAAAAAAAASEAAAAAAAIBEQAAAAAAAgERAAAAAAAAAPEAAAAAAAAA1QAAAAAAAAFVAAAAAAAAASUAAAAAAAIBGQAAAAAAAAD5AAAAAAACAREAAAAAAAAAwQAAAAAAAACBAAAAAAAAAPUAAAAAAAABMQAAAAAAAAERAAAAAAACASkAAAAAAAIBGQAAAAAAAADdAAAAAAAAAOEAAAAAAAABPQAAAAAAAgERAAAAAAACARUAAAAAAAIBBQAAAAAAAgExAAAAAAAAANkAAAAAAAAAkQAAAAAAAAEtAAAAAAAAATUA=\",\"dtype\":\"float64\",\"shape\":[79]}},\"selected\":{\"id\":\"1328\"},\"selection_policy\":{\"id\":\"1329\"}},\"id\":\"1279\",\"type\":\"ColumnDataSource\"},{\"attributes\":{\"source\":{\"id\":\"1280\"}},\"id\":\"1310\",\"type\":\"CDSView\"},{\"attributes\":{\"bottom_units\":\"screen\",\"fill_alpha\":0.5,\"fill_color\":\"lightgrey\",\"left_units\":\"screen\",\"level\":\"overlay\",\"line_alpha\":1.0,\"line_color\":\"black\",\"line_dash\":[4,4],\"line_width\":2,\"render_mode\":\"css\",\"right_units\":\"screen\",\"top_units\":\"screen\"},\"id\":\"1269\",\"type\":\"BoxAnnotation\"},{\"attributes\":{\"num_minor_ticks\":5,\"tickers\":[{\"id\":\"1291\"},{\"id\":\"1292\"},{\"id\":\"1293\"},{\"id\":\"1294\"},{\"id\":\"1295\"},{\"id\":\"1296\"},{\"id\":\"1297\"},{\"id\":\"1298\"},{\"id\":\"1299\"},{\"id\":\"1300\"},{\"id\":\"1301\"},{\"id\":\"1302\"}]},\"id\":\"1256\",\"type\":\"DatetimeTicker\"},{\"attributes\":{\"days\":[1,4,7,10,13,16,19,22,25,28]},\"id\":\"1295\",\"type\":\"DaysTicker\"},{\"attributes\":{},\"id\":\"1328\",\"type\":\"Selection\"}],\"root_ids\":[\"1244\"]},\"title\":\"Bokeh Application\",\"version\":\"2.0.2\"}};\n",
       "  var render_items = [{\"docid\":\"bc7adfae-110d-44e5-8db0-c0b9873400db\",\"root_ids\":[\"1244\"],\"roots\":{\"1244\":\"468eac79-7389-4667-98f1-bae28fdee622\"}}];\n",
       "  root.Bokeh.embed.embed_items_notebook(docs_json, render_items);\n",
       "\n",
       "  }\n",
       "  if (root.Bokeh !== undefined) {\n",
       "    embed_document(root);\n",
       "  } else {\n",
       "    var attempts = 0;\n",
       "    var timer = setInterval(function(root) {\n",
       "      if (root.Bokeh !== undefined) {\n",
       "        clearInterval(timer);\n",
       "        embed_document(root);\n",
       "      } else {\n",
       "        attempts++;\n",
       "        if (attempts > 100) {\n",
       "          clearInterval(timer);\n",
       "          console.log(\"Bokeh: ERROR: Unable to run BokehJS code because BokehJS library is missing\");\n",
       "        }\n",
       "      }\n",
       "    }, 10, root)\n",
       "  }\n",
       "})(window);"
      ],
      "application/vnd.bokehjs_exec.v0+json": ""
     },
     "metadata": {
      "application/vnd.bokehjs_exec.v0+json": {
       "id": "1244"
      }
     },
     "output_type": "display_data"
    }
   ],
   "source": [
    "cases_d = {\n",
    "    'frame': lac_daily_new,\n",
    "    'field_name': 'new_confirmed_cases',\n",
    "    'title_word': 'cases',\n",
    "    'place': '-- LA County'\n",
    "}\n",
    "\n",
    "deaths_d = {\n",
    "    'frame': lac_daily_new,\n",
    "    'field_name': 'new_deaths',\n",
    "    'title_word': 'deaths',\n",
    "    'place': '-- LA County'\n",
    "}\n",
    "\n",
    "plot_daily(**cases_d)\n",
    "plot_daily(**deaths_d)"
   ]
  },
  {
   "cell_type": "markdown",
   "metadata": {},
   "source": [
    "The above represents the daily new case  and death counts for LA County. It would be nice if these lines were sloping downward....\n",
    "\n",
    "Notes\n",
    "\n",
    "    The spike in late April is when testing finally ramped up.\n",
    "\n",
    "    The data has some day-of-week seasonality for both cases and deaths. The low numbers generally occur on Sundays and Mondays. I've taken a 7 day rolling average to smooth those out. "
   ]
  },
  {
   "cell_type": "code",
   "execution_count": 7,
   "metadata": {
    "ExecuteTime": {
     "end_time": "2020-06-11T21:44:30.531252Z",
     "start_time": "2020-06-11T21:44:30.381415Z"
    }
   },
   "outputs": [
    {
     "data": {
      "text/html": [
       "\n",
       "\n",
       "\n",
       "\n",
       "\n",
       "\n",
       "  <div class=\"bk-root\" id=\"b4c0c648-ab33-4594-9564-59ea4e7f1ab6\" data-root-id=\"1508\"></div>\n"
      ]
     },
     "metadata": {},
     "output_type": "display_data"
    },
    {
     "data": {
      "application/javascript": [
       "(function(root) {\n",
       "  function embed_document(root) {\n",
       "    \n",
       "  var docs_json = {\"be083ebd-786d-47f1-8e36-c66b6ddc899c\":{\"roots\":{\"references\":[{\"attributes\":{\"below\":[{\"id\":\"1519\"}],\"center\":[{\"id\":\"1522\"},{\"id\":\"1526\"},{\"id\":\"1568\"}],\"left\":[{\"id\":\"1523\"}],\"plot_height\":400,\"plot_width\":1000,\"renderers\":[{\"id\":\"1548\"},{\"id\":\"1573\"}],\"title\":{\"id\":\"1509\"},\"toolbar\":{\"id\":\"1535\"},\"x_range\":{\"id\":\"1511\"},\"x_scale\":{\"id\":\"1515\"},\"y_range\":{\"id\":\"1513\"},\"y_scale\":{\"id\":\"1517\"}},\"id\":\"1508\",\"subtype\":\"Figure\",\"type\":\"Plot\"},{\"attributes\":{},\"id\":\"1517\",\"type\":\"LinearScale\"},{\"attributes\":{\"formatter\":{\"id\":\"1552\"},\"ticker\":{\"id\":\"1520\"}},\"id\":\"1519\",\"type\":\"DatetimeAxis\"},{\"attributes\":{\"months\":[0,6]},\"id\":\"1565\",\"type\":\"MonthsTicker\"},{\"attributes\":{\"bottom_units\":\"screen\",\"fill_alpha\":0.5,\"fill_color\":\"lightgrey\",\"left_units\":\"screen\",\"level\":\"overlay\",\"line_alpha\":1.0,\"line_color\":\"black\",\"line_dash\":[4,4],\"line_width\":2,\"render_mode\":\"css\",\"right_units\":\"screen\",\"top_units\":\"screen\"},\"id\":\"1533\",\"type\":\"BoxAnnotation\"},{\"attributes\":{\"num_minor_ticks\":5,\"tickers\":[{\"id\":\"1555\"},{\"id\":\"1556\"},{\"id\":\"1557\"},{\"id\":\"1558\"},{\"id\":\"1559\"},{\"id\":\"1560\"},{\"id\":\"1561\"},{\"id\":\"1562\"},{\"id\":\"1563\"},{\"id\":\"1564\"},{\"id\":\"1565\"},{\"id\":\"1566\"}]},\"id\":\"1520\",\"type\":\"DatetimeTicker\"},{\"attributes\":{},\"id\":\"1566\",\"type\":\"YearsTicker\"},{\"attributes\":{\"callback\":null,\"tooltips\":[[\"cases\",\"@new_confirmed_cases\"],[\"date\",\"@date\"]]},\"id\":\"1534\",\"type\":\"HoverTool\"},{\"attributes\":{\"active_drag\":\"auto\",\"active_inspect\":\"auto\",\"active_multi\":null,\"active_scroll\":\"auto\",\"active_tap\":\"auto\",\"tools\":[{\"id\":\"1527\"},{\"id\":\"1528\"},{\"id\":\"1529\"},{\"id\":\"1530\"},{\"id\":\"1531\"},{\"id\":\"1532\"},{\"id\":\"1534\"}]},\"id\":\"1535\",\"type\":\"Toolbar\"},{\"attributes\":{\"axis\":{\"id\":\"1519\"},\"ticker\":null},\"id\":\"1522\",\"type\":\"Grid\"},{\"attributes\":{\"items\":[{\"id\":\"1569\"},{\"id\":\"1595\"}]},\"id\":\"1568\",\"type\":\"Legend\"},{\"attributes\":{\"formatter\":{\"id\":\"1554\"},\"ticker\":{\"id\":\"1524\"}},\"id\":\"1523\",\"type\":\"LinearAxis\"},{\"attributes\":{},\"id\":\"1515\",\"type\":\"LinearScale\"},{\"attributes\":{\"label\":{\"value\":\"Daily new hospitalizations (suspected and confirmed cases)\"},\"renderers\":[{\"id\":\"1548\"}]},\"id\":\"1569\",\"type\":\"LegendItem\"},{\"attributes\":{},\"id\":\"1524\",\"type\":\"BasicTicker\"},{\"attributes\":{\"data\":{\"date\":{\"__ndarray__\":\"AACA/4ITd0IAAEBl1RN3QgAAAMsnFHdCAADAMHoUd0IAAICWzBR3QgAAQPweFXdCAAAAYnEVd0IAAMDHwxV3QgAAgC0WFndCAABAk2gWd0IAAAD5uhZ3QgAAwF4NF3dCAACAxF8Xd0IAAEAqshd3QgAAAJAEGHdCAADA9VYYd0IAAIBbqRh3QgAAQMH7GHdCAAAAJ04Zd0IAAMCMoBl3QgAAgPLyGXdCAABAWEUad0IAAAC+lxp3QgAAwCPqGndCAACAiTwbd0IAAEDvjht3QgAAAFXhG3dCAADAujMcd0IAAIAghhx3QgAAQIbYHHdCAAAA7Codd0IAAMBRfR13QgAAgLfPHXdCAABAHSIed0IAAACDdB53QgAAwOjGHndCAACAThkfd0IAAEC0ax93QgAAABq+H3dCAADAfxAgd0IAAIDlYiB3QgAAQEu1IHdCAAAAsQchd0IAAMAWWiF3QgAAgHysIXdCAABA4v4hd0IAAABIUSJ3QgAAwK2jIndCAACAE/Yid0IAAEB5SCN3QgAAAN+aI3dCAADARO0jd0IAAICqPyR3QgAAQBCSJHdCAAAAduQkd0IAAMDbNiV3QgAAgEGJJXdCAABAp9sld0IAAAANLiZ3QgAAwHKAJndCAACA2NImd0IAAEA+JSd3QgAAAKR3J3dCAADACcond0IAAIBvHCh3QgAAQNVuKHdCAAAAO8Eod0IAAMCgEyl3QgAAgAZmKXdC\",\"dtype\":\"float64\",\"shape\":[69]},\"icu_positive_patients\":{\"__ndarray__\":\"AAAAAAAAJkAAAAAAAABTQAAAAAAAADtAAAAAAAAAOEAAAAAAAAAqQAAAAAAAAD9AAAAAAAAALkAAAAAAAAAiQAAAAAAAADvAAAAAAACAREAAAAAAAAAQQAAAAAAAACZAAAAAAAAAMkAAAAAAAAAoQAAAAAAAABjAAAAAAAAAAAAAAAAAAAAgwAAAAAAAACJAAAAAAAAAPkAAAAAAAAAowAAAAAAAACbAAAAAAAAAAMAAAAAAAAAAAAAAAAAAADXAAAAAAAAAIkAAAAAAAAAQQAAAAAAAABRAAAAAAAAAFEAAAAAAAAAmwAAAAAAAAC5AAAAAAAAAHMAAAAAAAAAAAAAAAAAAADLAAAAAAAAAJMAAAAAAAAAqwAAAAAAAACTAAAAAAAAAKsAAAAAAAABFwAAAAAAAABRAAAAAAAAAAAAAAAAAAADwPwAAAAAAABRAAAAAAAAAOMAAAAAAAADwPwAAAAAAAABAAAAAAAAAFMAAAAAAAAAUQAAAAAAAADHAAAAAAAAALMAAAAAAAAAiQAAAAAAAACJAAAAAAAAAIMAAAAAAAAAswAAAAAAAADFAAAAAAAAA8L8AAAAAAAAAAAAAAAAAABjAAAAAAAAAKMAAAAAAAAAYwAAAAAAAADjAAAAAAAAAIkAAAAAAAAAsQAAAAAAAABDAAAAAAAAAMkAAAAAAAAAswAAAAAAAADXAAAAAAAAAJEAAAAAAAAAAwAAAAAAAADDA\",\"dtype\":\"float64\",\"shape\":[69]},\"icu_suspected_patients\":{\"__ndarray__\":\"AAAAAAAAO8AAAAAAAAAwQAAAAAAAADzAAAAAAAAALsAAAAAAAAAiQAAAAAAAACrAAAAAAACASEAAAAAAAIBLwAAAAAAAACzAAAAAAAAAHMAAAAAAAAAiQAAAAAAAABhAAAAAAACAQcAAAAAAAAA4QAAAAAAAAD/AAAAAAAAACMAAAAAAAAAUQAAAAAAAABRAAAAAAAAANsAAAAAAAAAyQAAAAAAAACxAAAAAAAAAHMAAAAAAAAA/wAAAAAAAAChAAAAAAAAAN0AAAAAAAAAUwAAAAAAAACpAAAAAAACAQMAAAAAAAAAQwAAAAAAAABRAAAAAAAAAHEAAAAAAAAAkwAAAAAAAAAAAAAAAAAAALkAAAAAAAAAmwAAAAAAAACLAAAAAAAAAIMAAAAAAAAAAAAAAAAAAACBAAAAAAAAAEMAAAAAAAAAAwAAAAAAAAPC/AAAAAAAAMkAAAAAAAAAmwAAAAAAAACTAAAAAAAAAMUAAAAAAAAAkwAAAAAAAABxAAAAAAAAAHMAAAAAAAAAgQAAAAAAAABxAAAAAAAAAAEAAAAAAAAAIwAAAAAAAABzAAAAAAAAAIkAAAAAAAAAqwAAAAAAAADZAAAAAAAAAIsAAAAAAAAAIwAAAAAAAABTAAAAAAAAAJEAAAAAAAAA0wAAAAAAAABzAAAAAAAAANUAAAAAAAAAkQAAAAAAAADXAAAAAAAAACEAAAAAAAAAQQAAAAAAAAABA\",\"dtype\":\"float64\",\"shape\":[69]},\"index\":[0,1,2,3,4,5,6,7,8,9,10,11,12,13,14,15,16,17,18,19,20,21,22,23,24,25,26,27,28,29,30,31,32,33,34,35,36,37,38,39,40,41,42,43,44,45,46,47,48,49,50,51,52,53,54,55,56,57,58,59,60,61,62,63,64,65,66,67,68],\"positive_patients\":{\"__ndarray__\":\"AAAAAADAU0AAAAAAAABiQAAAAAAAgEZAAAAAAADAVUAAAAAAAABSQAAAAAAAQFVAAAAAAAAAVEAAAAAAAIBCQAAAAAAAQFHAAAAAAACAT0AAAAAAAMBRQAAAAAAAAFFAAAAAAACAVUAAAAAAAIBCQAAAAAAAgEtAAAAAAACAREAAAAAAAAAmwAAAAAAAAD5AAAAAAAAASkAAAAAAAIBPQAAAAAAAABBAAAAAAAAAFEAAAAAAAAAIwAAAAAAAAC7AAAAAAAAARUAAAAAAAIBKQAAAAAAAADZAAAAAAAAACMAAAAAAAEBQwAAAAAAAACTAAAAAAABAUMAAAAAAAABEwAAAAAAAgEhAAAAAAAAAAMAAAAAAAABCwAAAAAAAADPAAAAAAAAAFMAAAAAAAABTwAAAAAAAgERAAAAAAAAAQEAAAAAAAAA1wAAAAAAAACLAAAAAAABAVcAAAAAAAAAAAAAAAAAAgFPAAAAAAAAANcAAAAAAAAAywAAAAAAAACzAAAAAAAAAJsAAAAAAAAAuwAAAAAAAAPC/AAAAAAAAScAAAAAAAAAIQAAAAAAAAEFAAAAAAAAAAAAAAAAAAAAuwAAAAAAAgEfAAAAAAAAAKsAAAAAAAIBGwAAAAAAAAEBAAAAAAACAQEAAAAAAAIBBQAAAAAAAAD9AAAAAAAAAOsAAAAAAAAAmwAAAAAAAAErAAAAAAAAAS0AAAAAAAAAUQAAAAAAAAEXA\",\"dtype\":\"float64\",\"shape\":[69]},\"suspected_patients\":{\"__ndarray__\":\"AAAAAAAAT8AAAAAAAAA/wAAAAAAAgEjAAAAAAAAAW8AAAAAAAAAowAAAAAAAgHFAAAAAAAAQccAAAAAAAPBzwAAAAAAAABDAAAAAAADgYkAAAAAAAMBnwAAAAAAAgFNAAAAAAACAZsAAAAAAAAAzQAAAAAAAACjAAAAAAAAALEAAAAAAAABMwAAAAAAAAD3AAAAAAACASkAAAAAAAAAuQAAAAAAAADvAAAAAAAAAFEAAAAAAAIBIwAAAAAAAADpAAAAAAAAACEAAAAAAAABBQAAAAAAAADzAAAAAAAAAJEAAAAAAAEBewAAAAAAAgERAAAAAAAAASUAAAAAAAIBEwAAAAAAAADdAAAAAAAAA8D8AAAAAAABFwAAAAAAAAElAAAAAAAAARcAAAAAAAAA1QAAAAAAAACBAAAAAAAAAIEAAAAAAAIBEwAAAAAAAAFxAAAAAAACATcAAAAAAAAAYwAAAAAAAgELAAAAAAAAARUAAAAAAAABDwAAAAAAAwFhAAAAAAAAATcAAAAAAAIBKQAAAAAAAgEjAAAAAAAAA8D8AAAAAAAAzwAAAAAAAADFAAAAAAAAAR0AAAAAAAAAyQAAAAAAAACZAAAAAAABAUcAAAAAAAAAcQAAAAAAAAE3AAAAAAABAU0AAAAAAAAA6wAAAAAAAAFHAAAAAAAAAVUAAAAAAAIBDwAAAAAAAgEFAAAAAAAAAOMAAAAAAAIBCQAAAAAAAAFlA\",\"dtype\":\"float64\",\"shape\":[69]},\"total_icu\":{\"__ndarray__\":\"AAAAAAAAMMAAAAAAAABXQAAAAAAAAPC/AAAAAAAAIkAAAAAAAAA2QAAAAAAAADJAAAAAAAAAUEAAAAAAAABHwAAAAAAAgETAAAAAAAAAQUAAAAAAAAAqQAAAAAAAADFAAAAAAAAAMcAAAAAAAABCQAAAAAAAgELAAAAAAAAACMAAAAAAAAAIwAAAAAAAACxAAAAAAAAAIEAAAAAAAAAYQAAAAAAAAAhAAAAAAAAAIsAAAAAAAAA/wAAAAAAAACLAAAAAAAAAQEAAAAAAAADwvwAAAAAAADJAAAAAAAAAPMAAAAAAAAAuwAAAAAAAADRAAAAAAAAAAAAAAAAAAAAkwAAAAAAAADLAAAAAAAAAFEAAAAAAAAA4wAAAAAAAADPAAAAAAAAANcAAAAAAAABFwAAAAAAAACpAAAAAAAAAEMAAAAAAAADwvwAAAAAAABBAAAAAAAAAGMAAAAAAAAAkwAAAAAAAACDAAAAAAAAAKEAAAAAAAAAUwAAAAAAAACTAAAAAAAAANcAAAAAAAAAxQAAAAAAAADBAAAAAAAAAGMAAAAAAAAAxwAAAAAAAACRAAAAAAAAAIEAAAAAAAAAqwAAAAAAAADBAAAAAAAAANcAAAAAAAAAiwAAAAAAAAD3AAAAAAAAAM0AAAAAAAAAYwAAAAAAAACbAAAAAAACAQ0AAAAAAAAAQwAAAAAAAAEXAAAAAAAAAKkAAAAAAAAAAQAAAAAAAACzA\",\"dtype\":\"float64\",\"shape\":[69]},\"total_patients\":{\"__ndarray__\":\"AAAAAAAAMUAAAAAAAEBcQAAAAAAAABDAAAAAAAAANcAAAAAAAABOQAAAAAAA0HZAAAAAAAAgaMAAAAAAAKBxwAAAAAAAQFLAAAAAAADAakAAAAAAAMBdwAAAAAAAQGJAAAAAAACAV8AAAAAAAABMQAAAAAAAgEVAAAAAAACAS0AAAAAAAMBQwAAAAAAAAPA/AAAAAABAWkAAAAAAAIBTQAAAAAAAADfAAAAAAAAAJEAAAAAAAABKwAAAAAAAACZAAAAAAACARkAAAAAAAMBVQAAAAAAAABjAAAAAAAAAHEAAAAAAAEBnwAAAAAAAAD9AAAAAAAAALsAAAAAAAEBUwAAAAAAAAFJAAAAAAAAA8L8AAAAAAIBTwAAAAAAAAD9AAAAAAACAR8AAAAAAAIBLwAAAAAAAgEhAAAAAAAAAREAAAAAAAABPwAAAAAAAwFlAAAAAAAAAYsAAAAAAAAAYwAAAAAAAwFzAAAAAAAAANUAAAAAAAABMwAAAAAAAQFVAAAAAAABAUcAAAAAAAABDQAAAAAAAAEnAAAAAAACASMAAAAAAAAAwwAAAAAAAgElAAAAAAAAAR0AAAAAAAAAIQAAAAAAAAELAAAAAAACAVMAAAAAAAABDwAAAAAAAADrAAAAAAACAW0AAAAAAAAAiQAAAAAAAgELAAAAAAAAATUAAAAAAAABJwAAAAAAAADHAAAAAAAAAPkAAAAAAAABFQAAAAAAAAE1A\",\"dtype\":\"float64\",\"shape\":[69]}},\"selected\":{\"id\":\"1592\"},\"selection_policy\":{\"id\":\"1593\"}},\"id\":\"1543\",\"type\":\"ColumnDataSource\"},{\"attributes\":{\"mantissas\":[1,2,5],\"max_interval\":500.0,\"num_minor_ticks\":0},\"id\":\"1555\",\"type\":\"AdaptiveTicker\"},{\"attributes\":{\"axis\":{\"id\":\"1523\"},\"dimension\":1,\"ticker\":null},\"id\":\"1526\",\"type\":\"Grid\"},{\"attributes\":{},\"id\":\"1592\",\"type\":\"Selection\"},{\"attributes\":{\"line_alpha\":0.1,\"line_color\":\"navy\",\"line_width\":5,\"x\":{\"field\":\"date\"},\"y\":{\"field\":\"total_patients\"}},\"id\":\"1572\",\"type\":\"Line\"},{\"attributes\":{},\"id\":\"1511\",\"type\":\"DataRange1d\"},{\"attributes\":{\"data_source\":{\"id\":\"1543\"},\"glyph\":{\"id\":\"1546\"},\"hover_glyph\":null,\"muted_glyph\":null,\"nonselection_glyph\":{\"id\":\"1547\"},\"selection_glyph\":null,\"view\":{\"id\":\"1549\"}},\"id\":\"1548\",\"type\":\"GlyphRenderer\"},{\"attributes\":{\"data_source\":{\"id\":\"1544\"},\"glyph\":{\"id\":\"1571\"},\"hover_glyph\":null,\"muted_glyph\":null,\"nonselection_glyph\":{\"id\":\"1572\"},\"selection_glyph\":null,\"view\":{\"id\":\"1574\"}},\"id\":\"1573\",\"type\":\"GlyphRenderer\"},{\"attributes\":{\"source\":{\"id\":\"1543\"}},\"id\":\"1549\",\"type\":\"CDSView\"},{\"attributes\":{\"line_alpha\":0.3,\"line_color\":\"navy\",\"line_width\":5,\"x\":{\"field\":\"date\"},\"y\":{\"field\":\"total_patients\"}},\"id\":\"1571\",\"type\":\"Line\"},{\"attributes\":{},\"id\":\"1527\",\"type\":\"PanTool\"},{\"attributes\":{\"text\":\"Daily new hospitalizations (suspected and confirmed cases) -- LA County\"},\"id\":\"1509\",\"type\":\"Title\"},{\"attributes\":{\"fill_alpha\":{\"value\":0.1},\"fill_color\":{\"value\":\"green\"},\"line_alpha\":{\"value\":0.1},\"line_color\":{\"value\":\"green\"},\"top\":{\"field\":\"total_patients\"},\"width\":{\"value\":0.4},\"x\":{\"field\":\"date\"}},\"id\":\"1547\",\"type\":\"VBar\"},{\"attributes\":{\"source\":{\"id\":\"1544\"}},\"id\":\"1574\",\"type\":\"CDSView\"},{\"attributes\":{},\"id\":\"1528\",\"type\":\"WheelZoomTool\"},{\"attributes\":{\"base\":24,\"mantissas\":[1,2,4,6,8,12],\"max_interval\":43200000.0,\"min_interval\":3600000.0,\"num_minor_ticks\":0},\"id\":\"1557\",\"type\":\"AdaptiveTicker\"},{\"attributes\":{\"overlay\":{\"id\":\"1533\"}},\"id\":\"1529\",\"type\":\"BoxZoomTool\"},{\"attributes\":{\"days\":[1,2,3,4,5,6,7,8,9,10,11,12,13,14,15,16,17,18,19,20,21,22,23,24,25,26,27,28,29,30,31]},\"id\":\"1558\",\"type\":\"DaysTicker\"},{\"attributes\":{},\"id\":\"1593\",\"type\":\"UnionRenderers\"},{\"attributes\":{\"label\":{\"value\":\"7-day rolling avg\"},\"renderers\":[{\"id\":\"1573\"}]},\"id\":\"1595\",\"type\":\"LegendItem\"},{\"attributes\":{},\"id\":\"1530\",\"type\":\"SaveTool\"},{\"attributes\":{\"days\":[1,4,7,10,13,16,19,22,25,28]},\"id\":\"1559\",\"type\":\"DaysTicker\"},{\"attributes\":{},\"id\":\"1531\",\"type\":\"ResetTool\"},{\"attributes\":{\"days\":[1,8,15,22]},\"id\":\"1560\",\"type\":\"DaysTicker\"},{\"attributes\":{},\"id\":\"1659\",\"type\":\"Selection\"},{\"attributes\":{},\"id\":\"1532\",\"type\":\"HelpTool\"},{\"attributes\":{\"days\":[1,15]},\"id\":\"1561\",\"type\":\"DaysTicker\"},{\"attributes\":{},\"id\":\"1660\",\"type\":\"UnionRenderers\"},{\"attributes\":{\"base\":60,\"mantissas\":[1,2,5,10,15,20,30],\"max_interval\":1800000.0,\"min_interval\":1000.0,\"num_minor_ticks\":0},\"id\":\"1556\",\"type\":\"AdaptiveTicker\"},{\"attributes\":{\"months\":[0,1,2,3,4,5,6,7,8,9,10,11]},\"id\":\"1562\",\"type\":\"MonthsTicker\"},{\"attributes\":{\"months\":[0,4,8]},\"id\":\"1564\",\"type\":\"MonthsTicker\"},{\"attributes\":{\"months\":[0,2,4,6,8,10]},\"id\":\"1563\",\"type\":\"MonthsTicker\"},{\"attributes\":{},\"id\":\"1554\",\"type\":\"BasicTickFormatter\"},{\"attributes\":{\"fill_alpha\":{\"value\":0.8},\"fill_color\":{\"value\":\"green\"},\"line_alpha\":{\"value\":0.8},\"line_color\":{\"value\":\"green\"},\"top\":{\"field\":\"total_patients\"},\"width\":{\"value\":0.4},\"x\":{\"field\":\"date\"}},\"id\":\"1546\",\"type\":\"VBar\"},{\"attributes\":{},\"id\":\"1552\",\"type\":\"DatetimeTickFormatter\"},{\"attributes\":{},\"id\":\"1513\",\"type\":\"DataRange1d\"},{\"attributes\":{\"data\":{\"date\":{\"__ndarray__\":\"AACA/4ITd0IAAEBl1RN3QgAAAMsnFHdCAADAMHoUd0IAAICWzBR3QgAAQPweFXdCAAAAYnEVd0IAAMDHwxV3QgAAgC0WFndCAABAk2gWd0IAAAD5uhZ3QgAAwF4NF3dCAACAxF8Xd0IAAEAqshd3QgAAAJAEGHdCAADA9VYYd0IAAIBbqRh3QgAAQMH7GHdCAAAAJ04Zd0IAAMCMoBl3QgAAgPLyGXdCAABAWEUad0IAAAC+lxp3QgAAwCPqGndCAACAiTwbd0IAAEDvjht3QgAAAFXhG3dCAADAujMcd0IAAIAghhx3QgAAQIbYHHdCAAAA7Codd0IAAMBRfR13QgAAgLfPHXdCAABAHSIed0IAAACDdB53QgAAwOjGHndCAACAThkfd0IAAEC0ax93QgAAABq+H3dCAADAfxAgd0IAAIDlYiB3QgAAQEu1IHdCAAAAsQchd0IAAMAWWiF3QgAAgHysIXdCAABA4v4hd0IAAABIUSJ3QgAAwK2jIndCAACAE/Yid0IAAEB5SCN3QgAAAN+aI3dCAADARO0jd0IAAICqPyR3QgAAQBCSJHdCAAAAduQkd0IAAMDbNiV3QgAAgEGJJXdCAABAp9sld0IAAAANLiZ3QgAAwHKAJndCAACA2NImd0IAAEA+JSd3QgAAAKR3J3dCAADACcond0IAAIBvHCh3QgAAQNVuKHdCAAAAO8Eod0IAAMCgEyl3QgAAgAZmKXdC\",\"dtype\":\"float64\",\"shape\":[69]},\"icu_positive_patients\":{\"__ndarray__\":\"AAAAAAAAJkAAAAAAAMBFQAAAAAAAAENAAAAAAABAQUAzMzMzMzM+QFVVVVVVVT5ASZIkSZIkPEC3bdu2bds7QJIkSZIkSSpAkiRJkiRJLkAlSZIkSZIoQAAAAAAAAChAkiRJkiRJJEDbtm3btm0jQJIkSZIkSR5At23btm3bJkBu27Zt27YRQCVJkiRJkhRA27Zt27ZtH0AlSZIkSZIMQJIkSZIkSdI/27Zt27Zt6z/btm3btm3rPwAAAAAAAPC/AAAAAAAA8L+3bdu2bdsSwJIkSZIkSQLAAAAAAAAAAAAlSZIkSZL0v9u2bdu2bes/t23btm3bBkBJkiRJkiT5P0mSJEmSJPm/btu2bdu2DcBJkiRJkiQZwCVJkiRJkhjAkiRJkiRJJMCSJEmSJEkuwLdt27Zt2yzAbtu2bdu2J8AlSZIkSZIkwLdt27Zt2x7A27Zt27ZtI8C3bdu2bdsewLdt27Zt2/a/t23btm3bBsBJkiRJkiQBwLdt27Zt2xLAbtu2bdu2HcBu27Zt27YFwEmSJEmSJPm/AAAAAAAACMBJkiRJkiQRwCVJkiRJkgTAkiRJkiRJ0r/btm3btm37P9u2bdu2bdu/27Zt27ZtC8BJkiRJkiQJwJIkSZIkSRLAt23btm3bFsAlSZIkSZIMwCVJkiRJkhDAt23btm3b5r8AAAAAAADwv0mSJEmSJAnA27Zt27Zt+z+SJEmSJEnCPyVJkiRJkhDA\",\"dtype\":\"float64\",\"shape\":[69]},\"icu_suspected_patients\":{\"__ndarray__\":\"AAAAAAAAO8AAAAAAAAAWwAAAAAAAACrAAAAAAAAAK8AAAAAAAAAiwFVVVVVVVSPAJUmSJEmS9L9JkiRJkiQVwEmSJEmSJCPAkiRJkiRJGsBJkiRJkiQJwCVJkiRJkgzAt23btm3bGsAlSZIkSZIkwNu2bdu2bRvASZIkSZIkFcAlSZIkSZIMwCVJkiRJkhDAkiRJkiRJIMCSJEmSJEnivwAAAAAAAADAt23btm3b9j8lSZIkSZIEwEmSJEmSJPm/AAAAAAAA8D/btm3btm0LQG7btm3btgVAAAAAAAAAEMAlSZIkSZIMwEmSJEmSJPk/27Zt27Zt6z+3bdu2bdsOwEmSJEmSJAnAt23btm3bBsCSJEmSJEnSP9u2bdu2bdu/kiRJkiRJAsCSJEmSJEkKwLdt27Zt2+a/JUmSJEmS9L9u27Zt27YNwJIkSZIkSQLASZIkSZIk+T+SJEmSJEnyP5IkSZIkSdK/AAAAAAAA8D+SJEmSJEnCP7dt27Zt2/Y/kiRJkiRJ4j/btm3btm3rv9u2bdu2bfs/27Zt27ZtC0CSJEmSJEniPwAAAAAAAPA/JUmSJEmS9D/btm3btm3bP9u2bdu2bQNAkiRJkiRJwj+SJEmSJEniv9u2bdu2beu/SZIkSZIk+T8lSZIkSZIEwNu2bdu2bfu/btu2bdu2/b/btm3btm3rP9u2bdu2bfu/kiRJkiRJ4r+3bdu2bdv2v9u2bdu2bfs/\",\"dtype\":\"float64\",\"shape\":[69]},\"index\":[0,1,2,3,4,5,6,7,8,9,10,11,12,13,14,15,16,17,18,19,20,21,22,23,24,25,26,27,28,29,30,31,32,33,34,35,36,37,38,39,40,41,42,43,44,45,46,47,48,49,50,51,52,53,54,55,56,57,58,59,60,61,62,63,64,65,66,67,68],\"positive_patients\":{\"__ndarray__\":\"AAAAAADAU0AAAAAAAOBbQFVVVVVVVVZAAAAAAAAwVkCamZmZmVlVQFVVVVVVVVVASZIkSZIkVUBJkiRJkqRTQCVJkiRJEkhAt23btm1bSUBu27Zt2zZIQNu2bdu27UdAAAAAAAAASEDbtm3btu1EQG7btm3bNkZAJUmSJEkSTkCSJEmSJMlIQLdt27Zt20VAbtu2bdu2REAlSZIkSRJDQG7btm3btkBAkiRJkiRJOkAAAAAAAAA0QNu2bdu2bTNASZIkSZIkNUCSJEmSJEk1QLdt27Zt2y5At23btm3bLEBu27Zt27YRQNu2bdu2bQtAbtu2bdu2DcC3bdu2bdsuwAAAAAAAADDA27Zt27ZtM8BJkiRJkiQ4wCVJkiRJkjHAt23btm3bMMDbtm3btm0ywNu2bdu2bRvAJUmSJEmSIsAAAAAAAAAowJIkSZIkSSDAJUmSJEmSMcC3bdu2bdswwEmSJEmSJDHAAAAAAAAAOsAlSZIkSZJAwCVJkiRJEkDAbtu2bds2QMDbtm3btm02wCVJkiRJkjbAJUmSJEmSMsCSJEmSJEkuwLdt27Zt2x7At23btm3bFsBJkiRJkiQZwG7btm3btiXASZIkSZIkKcBu27Zt27YnwLdt27Zt2x7A27Zt27ZtH8C3bdu2bdsGwG7btm3btg1At23btm3bGkAAAAAAAAAcQAAAAAAAABhAkiRJkiRJIkAlSZIkSZIUQNu2bdu2bRfA\",\"dtype\":\"float64\",\"shape\":[69]},\"suspected_patients\":{\"__ndarray__\":\"AAAAAAAAT8AAAAAAAEBHwKuqqqqqqkfAAAAAAABAT8AzMzMzMzNKwAAAAAAAAAhAbtu2bds2QsCSJEmSJElSwCVJkiRJUlHAt23btm1bRMBu27Zt2zZKwJIkSZIkyUPAJUmSJElSWsCSJEmSJMlPwG7btm3btjPASZIkSZIkMcC3bdu2bVtHwG7btm3btjfAkiRJkiRJO8CSJEmSJEniPwAAAAAAABjAJUmSJEmSDMBJkiRJkiQpwNu2bdu2beu/btu2bdu2DUAAAAAAAADwPyVJkiRJkhTAkiRJkiRJwj+3bdu2bdsxwAAAAAAAABTASZIkSZIk+b/btm3btm0fwLdt27Zt2yLASZIkSZIkFcDbtm3btm0pwNu2bdu2bSdAkiRJkiRJwr9JkiRJkiQRwG7btm3btgVAkiRJkiRJ4j9u27Zt27YVwCVJkiRJkjBAAAAAAAAA8D8lSZIkSZIYQEmSJEmSJAHAbtu2bdu2BUC3bdu2bdsOwEmSJEmSJDBAkiRJkiRJIMDbtm3btm0fQNu2bdu2bfs/JUmSJEmSHEBJkiRJkiT5v0mSJEmSJBlAJUmSJEmS9L9JkiRJkiQjQCVJkiRJkgxAt23btm3b5j9JkiRJkiT5PwAAAAAAABDAkiRJkiRJEkC3bdu2bdsWwAAAAAAAADLAkiRJkiRJHsCSJEmSJEkKwLdt27Zt2+Y/kiRJkiRJFkCSJEmSJEnCv7dt27Zt2zFA\",\"dtype\":\"float64\",\"shape\":[69]},\"total_icu\":{\"__ndarray__\":\"AAAAAAAAMMAAAAAAAABDQAAAAAAAADlAAAAAAAAANUAzMzMzMzM1QKuqqqqqqjRAt23btm3bOkAlSZIkSZI2QCVJkiRJkgxASZIkSZIkIUCSJEmSJEkiQLdt27Zt2yBA27Zt27ZtC0CSJEmSJEniv7dt27Zt2+Y/JUmSJEmSGEDbtm3btm3rPwAAAAAAAPA/kiRJkiRJ0r8AAAAAAAAIQNu2bdu2bfu/kiRJkiRJAkDbtm3btm37vyVJkiRJkgTAAAAAAAAAAAAlSZIkSZL0v9u2bdu2bds/AAAAAAAAEMDbtm3btm0TwNu2bdu2bQNAbtu2bdu2DUCSJEmSJEkCwLdt27Zt2xLAkiRJkiRJGsAAAAAAAAAYwJIkSZIkSRrAt23btm3bKMDbtm3btm0ywJIkSZIkSS7AkiRJkiRJKsAAAAAAAAAswAAAAAAAACTAkiRJkiRJIMCSJEmSJEkawNu2bdu2bfu/btu2bdu2/b8AAAAAAAAAwJIkSZIkSQrA27Zt27ZtG8AlSZIkSZIMwJIkSZIkScI/27Zt27Zt2z9u27Zt27YNwEmSJEmSJPm/AAAAAAAA8D9JkiRJkiQBQAAAAAAAAABAkiRJkiRJCsBu27Zt27YNwG7btm3bthXAJUmSJEmSEMAlSZIkSZIYwNu2bdu2bRfAJUmSJEmSBMCSJEmSJEnCv9u2bdu2bRPAkiRJkiRJ8j8lSZIkSZL0v9u2bdu2bQPA\",\"dtype\":\"float64\",\"shape\":[69]},\"total_patients\":{\"__ndarray__\":\"AAAAAAAAMUAAAAAAAEBQQAAAAAAAAEVAAAAAAABAOkAAAAAAAIBAQFVVVVVVFVZAJUmSJEkSSEBu27Zt27YVQEmSJEmSJDXAAAAAAAAAJEAAAAAAAAAQwCVJkiRJkiBASZIkSZKkTMBu27Zt27Y1wG7btm3btjhAAAAAAACARUC3bdu2bdsGQAAAAAAAADRAkiRJkiRJLEC3bdu2bVtDQNu2bdu2bTtAbtu2bdu2NkBu27Zt27YdQCVJkiRJkjJAt23btm3bOECSJEmSJEk2QCVJkiRJkiRASZIkSZIkLUC3bdu2bdsqwEmSJEmSJPm/SZIkSZIkFcCSJEmSJEk3wNu2bdu2bTnAbtu2bdu2OMDbtm3btm1CwNu2bdu2bRfAAAAAAAAAMcBu27Zt27Y2wCVJkiRJkhDA27Zt27ZtIcDbtm3btm0xwLdt27Zt2yBAJUmSJEmSMMDbtm3btm0lwJIkSZIkSTPAkiRJkiRJN8AAAAAAAIBCwAAAAAAAADDAkiRJkiRJRMBJkiRJkiQtwLdt27Zt2zTAt23btm3bJsBu27Zt27YwwLdt27Zt2/a/AAAAAAAAHMCSJEmSJEkKQEmSJEmSJB3Abtu2bdu2J8AlSZIkSZIkwNu2bdu2bSfAkiRJkiRJCsBJkiRJkiQhwCVJkiRJkizA27Zt27Zt679u27Zt27YNQLdt27Zt2xpA27Zt27ZtLUAAAAAAAAAUQAAAAAAAAChA\",\"dtype\":\"float64\",\"shape\":[69]}},\"selected\":{\"id\":\"1659\"},\"selection_policy\":{\"id\":\"1660\"}},\"id\":\"1544\",\"type\":\"ColumnDataSource\"}],\"root_ids\":[\"1508\"]},\"title\":\"Bokeh Application\",\"version\":\"2.0.2\"}};\n",
       "  var render_items = [{\"docid\":\"be083ebd-786d-47f1-8e36-c66b6ddc899c\",\"root_ids\":[\"1508\"],\"roots\":{\"1508\":\"b4c0c648-ab33-4594-9564-59ea4e7f1ab6\"}}];\n",
       "  root.Bokeh.embed.embed_items_notebook(docs_json, render_items);\n",
       "\n",
       "  }\n",
       "  if (root.Bokeh !== undefined) {\n",
       "    embed_document(root);\n",
       "  } else {\n",
       "    var attempts = 0;\n",
       "    var timer = setInterval(function(root) {\n",
       "      if (root.Bokeh !== undefined) {\n",
       "        clearInterval(timer);\n",
       "        embed_document(root);\n",
       "      } else {\n",
       "        attempts++;\n",
       "        if (attempts > 100) {\n",
       "          clearInterval(timer);\n",
       "          console.log(\"Bokeh: ERROR: Unable to run BokehJS code because BokehJS library is missing\");\n",
       "        }\n",
       "      }\n",
       "    }, 10, root)\n",
       "  }\n",
       "})(window);"
      ],
      "application/vnd.bokehjs_exec.v0+json": ""
     },
     "metadata": {
      "application/vnd.bokehjs_exec.v0+json": {
       "id": "1508"
      }
     },
     "output_type": "display_data"
    },
    {
     "data": {
      "text/html": [
       "\n",
       "\n",
       "\n",
       "\n",
       "\n",
       "\n",
       "  <div class=\"bk-root\" id=\"ada19bcd-a671-49f5-b966-1e1ed0ae44c9\" data-root-id=\"1794\"></div>\n"
      ]
     },
     "metadata": {},
     "output_type": "display_data"
    },
    {
     "data": {
      "application/javascript": [
       "(function(root) {\n",
       "  function embed_document(root) {\n",
       "    \n",
       "  var docs_json = {\"cad5052c-c218-42be-b596-5e0da2fa6148\":{\"roots\":{\"references\":[{\"attributes\":{\"below\":[{\"id\":\"1805\"}],\"center\":[{\"id\":\"1808\"},{\"id\":\"1812\"},{\"id\":\"1854\"}],\"left\":[{\"id\":\"1809\"}],\"plot_height\":400,\"plot_width\":1000,\"renderers\":[{\"id\":\"1834\"},{\"id\":\"1859\"}],\"title\":{\"id\":\"1795\"},\"toolbar\":{\"id\":\"1821\"},\"x_range\":{\"id\":\"1797\"},\"x_scale\":{\"id\":\"1801\"},\"y_range\":{\"id\":\"1799\"},\"y_scale\":{\"id\":\"1803\"}},\"id\":\"1794\",\"subtype\":\"Figure\",\"type\":\"Plot\"},{\"attributes\":{\"label\":{\"value\":\"7-day rolling avg\"},\"renderers\":[{\"id\":\"1859\"}]},\"id\":\"1881\",\"type\":\"LegendItem\"},{\"attributes\":{\"days\":[1,4,7,10,13,16,19,22,25,28]},\"id\":\"1845\",\"type\":\"DaysTicker\"},{\"attributes\":{},\"id\":\"1879\",\"type\":\"UnionRenderers\"},{\"attributes\":{\"days\":[1,8,15,22]},\"id\":\"1846\",\"type\":\"DaysTicker\"},{\"attributes\":{\"axis\":{\"id\":\"1805\"},\"ticker\":null},\"id\":\"1808\",\"type\":\"Grid\"},{\"attributes\":{\"bottom_units\":\"screen\",\"fill_alpha\":0.5,\"fill_color\":\"lightgrey\",\"left_units\":\"screen\",\"level\":\"overlay\",\"line_alpha\":1.0,\"line_color\":\"black\",\"line_dash\":[4,4],\"line_width\":2,\"render_mode\":\"css\",\"right_units\":\"screen\",\"top_units\":\"screen\"},\"id\":\"1819\",\"type\":\"BoxAnnotation\"},{\"attributes\":{\"formatter\":{\"id\":\"1840\"},\"ticker\":{\"id\":\"1810\"}},\"id\":\"1809\",\"type\":\"LinearAxis\"},{\"attributes\":{\"days\":[1,15]},\"id\":\"1847\",\"type\":\"DaysTicker\"},{\"attributes\":{\"fill_alpha\":{\"value\":0.1},\"fill_color\":{\"value\":\"green\"},\"line_alpha\":{\"value\":0.1},\"line_color\":{\"value\":\"green\"},\"top\":{\"field\":\"total_icu\"},\"width\":{\"value\":0.4},\"x\":{\"field\":\"date\"}},\"id\":\"1833\",\"type\":\"VBar\"},{\"attributes\":{\"axis\":{\"id\":\"1809\"},\"dimension\":1,\"ticker\":null},\"id\":\"1812\",\"type\":\"Grid\"},{\"attributes\":{\"source\":{\"id\":\"1830\"}},\"id\":\"1860\",\"type\":\"CDSView\"},{\"attributes\":{\"active_drag\":\"auto\",\"active_inspect\":\"auto\",\"active_multi\":null,\"active_scroll\":\"auto\",\"active_tap\":\"auto\",\"tools\":[{\"id\":\"1813\"},{\"id\":\"1814\"},{\"id\":\"1815\"},{\"id\":\"1816\"},{\"id\":\"1817\"},{\"id\":\"1818\"},{\"id\":\"1820\"}]},\"id\":\"1821\",\"type\":\"Toolbar\"},{\"attributes\":{\"num_minor_ticks\":5,\"tickers\":[{\"id\":\"1841\"},{\"id\":\"1842\"},{\"id\":\"1843\"},{\"id\":\"1844\"},{\"id\":\"1845\"},{\"id\":\"1846\"},{\"id\":\"1847\"},{\"id\":\"1848\"},{\"id\":\"1849\"},{\"id\":\"1850\"},{\"id\":\"1851\"},{\"id\":\"1852\"}]},\"id\":\"1806\",\"type\":\"DatetimeTicker\"},{\"attributes\":{\"line_alpha\":0.1,\"line_color\":\"navy\",\"line_width\":5,\"x\":{\"field\":\"date\"},\"y\":{\"field\":\"total_icu\"}},\"id\":\"1858\",\"type\":\"Line\"},{\"attributes\":{\"months\":[0,1,2,3,4,5,6,7,8,9,10,11]},\"id\":\"1848\",\"type\":\"MonthsTicker\"},{\"attributes\":{\"overlay\":{\"id\":\"1819\"}},\"id\":\"1815\",\"type\":\"BoxZoomTool\"},{\"attributes\":{\"months\":[0,2,4,6,8,10]},\"id\":\"1849\",\"type\":\"MonthsTicker\"},{\"attributes\":{},\"id\":\"1801\",\"type\":\"LinearScale\"},{\"attributes\":{\"months\":[0,4,8]},\"id\":\"1850\",\"type\":\"MonthsTicker\"},{\"attributes\":{},\"id\":\"1816\",\"type\":\"SaveTool\"},{\"attributes\":{},\"id\":\"1838\",\"type\":\"DatetimeTickFormatter\"},{\"attributes\":{},\"id\":\"1817\",\"type\":\"ResetTool\"},{\"attributes\":{\"months\":[0,6]},\"id\":\"1851\",\"type\":\"MonthsTicker\"},{\"attributes\":{\"formatter\":{\"id\":\"1838\"},\"ticker\":{\"id\":\"1806\"}},\"id\":\"1805\",\"type\":\"DatetimeAxis\"},{\"attributes\":{\"text\":\"Daily new patients in ICU (suspected and confirmed cases) -- LA County\"},\"id\":\"1795\",\"type\":\"Title\"},{\"attributes\":{},\"id\":\"1852\",\"type\":\"YearsTicker\"},{\"attributes\":{},\"id\":\"1840\",\"type\":\"BasicTickFormatter\"},{\"attributes\":{\"items\":[{\"id\":\"1855\"},{\"id\":\"1881\"}]},\"id\":\"1854\",\"type\":\"Legend\"},{\"attributes\":{},\"id\":\"1803\",\"type\":\"LinearScale\"},{\"attributes\":{\"callback\":null,\"tooltips\":[[\"cases\",\"@new_confirmed_cases\"],[\"date\",\"@date\"]]},\"id\":\"1820\",\"type\":\"HoverTool\"},{\"attributes\":{\"data\":{\"date\":{\"__ndarray__\":\"AACA/4ITd0IAAEBl1RN3QgAAAMsnFHdCAADAMHoUd0IAAICWzBR3QgAAQPweFXdCAAAAYnEVd0IAAMDHwxV3QgAAgC0WFndCAABAk2gWd0IAAAD5uhZ3QgAAwF4NF3dCAACAxF8Xd0IAAEAqshd3QgAAAJAEGHdCAADA9VYYd0IAAIBbqRh3QgAAQMH7GHdCAAAAJ04Zd0IAAMCMoBl3QgAAgPLyGXdCAABAWEUad0IAAAC+lxp3QgAAwCPqGndCAACAiTwbd0IAAEDvjht3QgAAAFXhG3dCAADAujMcd0IAAIAghhx3QgAAQIbYHHdCAAAA7Codd0IAAMBRfR13QgAAgLfPHXdCAABAHSIed0IAAACDdB53QgAAwOjGHndCAACAThkfd0IAAEC0ax93QgAAABq+H3dCAADAfxAgd0IAAIDlYiB3QgAAQEu1IHdCAAAAsQchd0IAAMAWWiF3QgAAgHysIXdCAABA4v4hd0IAAABIUSJ3QgAAwK2jIndCAACAE/Yid0IAAEB5SCN3QgAAAN+aI3dCAADARO0jd0IAAICqPyR3QgAAQBCSJHdCAAAAduQkd0IAAMDbNiV3QgAAgEGJJXdCAABAp9sld0IAAAANLiZ3QgAAwHKAJndCAACA2NImd0IAAEA+JSd3QgAAAKR3J3dCAADACcond0IAAIBvHCh3QgAAQNVuKHdCAAAAO8Eod0IAAMCgEyl3QgAAgAZmKXdC\",\"dtype\":\"float64\",\"shape\":[69]},\"icu_positive_patients\":{\"__ndarray__\":\"AAAAAAAAJkAAAAAAAMBFQAAAAAAAAENAAAAAAABAQUAzMzMzMzM+QFVVVVVVVT5ASZIkSZIkPEC3bdu2bds7QJIkSZIkSSpAkiRJkiRJLkAlSZIkSZIoQAAAAAAAAChAkiRJkiRJJEDbtm3btm0jQJIkSZIkSR5At23btm3bJkBu27Zt27YRQCVJkiRJkhRA27Zt27ZtH0AlSZIkSZIMQJIkSZIkSdI/27Zt27Zt6z/btm3btm3rPwAAAAAAAPC/AAAAAAAA8L+3bdu2bdsSwJIkSZIkSQLAAAAAAAAAAAAlSZIkSZL0v9u2bdu2bes/t23btm3bBkBJkiRJkiT5P0mSJEmSJPm/btu2bdu2DcBJkiRJkiQZwCVJkiRJkhjAkiRJkiRJJMCSJEmSJEkuwLdt27Zt2yzAbtu2bdu2J8AlSZIkSZIkwLdt27Zt2x7A27Zt27ZtI8C3bdu2bdsewLdt27Zt2/a/t23btm3bBsBJkiRJkiQBwLdt27Zt2xLAbtu2bdu2HcBu27Zt27YFwEmSJEmSJPm/AAAAAAAACMBJkiRJkiQRwCVJkiRJkgTAkiRJkiRJ0r/btm3btm37P9u2bdu2bdu/27Zt27ZtC8BJkiRJkiQJwJIkSZIkSRLAt23btm3bFsAlSZIkSZIMwCVJkiRJkhDAt23btm3b5r8AAAAAAADwv0mSJEmSJAnA27Zt27Zt+z+SJEmSJEnCPyVJkiRJkhDA\",\"dtype\":\"float64\",\"shape\":[69]},\"icu_suspected_patients\":{\"__ndarray__\":\"AAAAAAAAO8AAAAAAAAAWwAAAAAAAACrAAAAAAAAAK8AAAAAAAAAiwFVVVVVVVSPAJUmSJEmS9L9JkiRJkiQVwEmSJEmSJCPAkiRJkiRJGsBJkiRJkiQJwCVJkiRJkgzAt23btm3bGsAlSZIkSZIkwNu2bdu2bRvASZIkSZIkFcAlSZIkSZIMwCVJkiRJkhDAkiRJkiRJIMCSJEmSJEnivwAAAAAAAADAt23btm3b9j8lSZIkSZIEwEmSJEmSJPm/AAAAAAAA8D/btm3btm0LQG7btm3btgVAAAAAAAAAEMAlSZIkSZIMwEmSJEmSJPk/27Zt27Zt6z+3bdu2bdsOwEmSJEmSJAnAt23btm3bBsCSJEmSJEnSP9u2bdu2bdu/kiRJkiRJAsCSJEmSJEkKwLdt27Zt2+a/JUmSJEmS9L9u27Zt27YNwJIkSZIkSQLASZIkSZIk+T+SJEmSJEnyP5IkSZIkSdK/AAAAAAAA8D+SJEmSJEnCP7dt27Zt2/Y/kiRJkiRJ4j/btm3btm3rv9u2bdu2bfs/27Zt27ZtC0CSJEmSJEniPwAAAAAAAPA/JUmSJEmS9D/btm3btm3bP9u2bdu2bQNAkiRJkiRJwj+SJEmSJEniv9u2bdu2beu/SZIkSZIk+T8lSZIkSZIEwNu2bdu2bfu/btu2bdu2/b/btm3btm3rP9u2bdu2bfu/kiRJkiRJ4r+3bdu2bdv2v9u2bdu2bfs/\",\"dtype\":\"float64\",\"shape\":[69]},\"index\":[0,1,2,3,4,5,6,7,8,9,10,11,12,13,14,15,16,17,18,19,20,21,22,23,24,25,26,27,28,29,30,31,32,33,34,35,36,37,38,39,40,41,42,43,44,45,46,47,48,49,50,51,52,53,54,55,56,57,58,59,60,61,62,63,64,65,66,67,68],\"positive_patients\":{\"__ndarray__\":\"AAAAAADAU0AAAAAAAOBbQFVVVVVVVVZAAAAAAAAwVkCamZmZmVlVQFVVVVVVVVVASZIkSZIkVUBJkiRJkqRTQCVJkiRJEkhAt23btm1bSUBu27Zt2zZIQNu2bdu27UdAAAAAAAAASEDbtm3btu1EQG7btm3bNkZAJUmSJEkSTkCSJEmSJMlIQLdt27Zt20VAbtu2bdu2REAlSZIkSRJDQG7btm3btkBAkiRJkiRJOkAAAAAAAAA0QNu2bdu2bTNASZIkSZIkNUCSJEmSJEk1QLdt27Zt2y5At23btm3bLEBu27Zt27YRQNu2bdu2bQtAbtu2bdu2DcC3bdu2bdsuwAAAAAAAADDA27Zt27ZtM8BJkiRJkiQ4wCVJkiRJkjHAt23btm3bMMDbtm3btm0ywNu2bdu2bRvAJUmSJEmSIsAAAAAAAAAowJIkSZIkSSDAJUmSJEmSMcC3bdu2bdswwEmSJEmSJDHAAAAAAAAAOsAlSZIkSZJAwCVJkiRJEkDAbtu2bds2QMDbtm3btm02wCVJkiRJkjbAJUmSJEmSMsCSJEmSJEkuwLdt27Zt2x7At23btm3bFsBJkiRJkiQZwG7btm3btiXASZIkSZIkKcBu27Zt27YnwLdt27Zt2x7A27Zt27ZtH8C3bdu2bdsGwG7btm3btg1At23btm3bGkAAAAAAAAAcQAAAAAAAABhAkiRJkiRJIkAlSZIkSZIUQNu2bdu2bRfA\",\"dtype\":\"float64\",\"shape\":[69]},\"suspected_patients\":{\"__ndarray__\":\"AAAAAAAAT8AAAAAAAEBHwKuqqqqqqkfAAAAAAABAT8AzMzMzMzNKwAAAAAAAAAhAbtu2bds2QsCSJEmSJElSwCVJkiRJUlHAt23btm1bRMBu27Zt2zZKwJIkSZIkyUPAJUmSJElSWsCSJEmSJMlPwG7btm3btjPASZIkSZIkMcC3bdu2bVtHwG7btm3btjfAkiRJkiRJO8CSJEmSJEniPwAAAAAAABjAJUmSJEmSDMBJkiRJkiQpwNu2bdu2beu/btu2bdu2DUAAAAAAAADwPyVJkiRJkhTAkiRJkiRJwj+3bdu2bdsxwAAAAAAAABTASZIkSZIk+b/btm3btm0fwLdt27Zt2yLASZIkSZIkFcDbtm3btm0pwNu2bdu2bSdAkiRJkiRJwr9JkiRJkiQRwG7btm3btgVAkiRJkiRJ4j9u27Zt27YVwCVJkiRJkjBAAAAAAAAA8D8lSZIkSZIYQEmSJEmSJAHAbtu2bdu2BUC3bdu2bdsOwEmSJEmSJDBAkiRJkiRJIMDbtm3btm0fQNu2bdu2bfs/JUmSJEmSHEBJkiRJkiT5v0mSJEmSJBlAJUmSJEmS9L9JkiRJkiQjQCVJkiRJkgxAt23btm3b5j9JkiRJkiT5PwAAAAAAABDAkiRJkiRJEkC3bdu2bdsWwAAAAAAAADLAkiRJkiRJHsCSJEmSJEkKwLdt27Zt2+Y/kiRJkiRJFkCSJEmSJEnCv7dt27Zt2zFA\",\"dtype\":\"float64\",\"shape\":[69]},\"total_icu\":{\"__ndarray__\":\"AAAAAAAAMMAAAAAAAABDQAAAAAAAADlAAAAAAAAANUAzMzMzMzM1QKuqqqqqqjRAt23btm3bOkAlSZIkSZI2QCVJkiRJkgxASZIkSZIkIUCSJEmSJEkiQLdt27Zt2yBA27Zt27ZtC0CSJEmSJEniv7dt27Zt2+Y/JUmSJEmSGEDbtm3btm3rPwAAAAAAAPA/kiRJkiRJ0r8AAAAAAAAIQNu2bdu2bfu/kiRJkiRJAkDbtm3btm37vyVJkiRJkgTAAAAAAAAAAAAlSZIkSZL0v9u2bdu2bds/AAAAAAAAEMDbtm3btm0TwNu2bdu2bQNAbtu2bdu2DUCSJEmSJEkCwLdt27Zt2xLAkiRJkiRJGsAAAAAAAAAYwJIkSZIkSRrAt23btm3bKMDbtm3btm0ywJIkSZIkSS7AkiRJkiRJKsAAAAAAAAAswAAAAAAAACTAkiRJkiRJIMCSJEmSJEkawNu2bdu2bfu/btu2bdu2/b8AAAAAAAAAwJIkSZIkSQrA27Zt27ZtG8AlSZIkSZIMwJIkSZIkScI/27Zt27Zt2z9u27Zt27YNwEmSJEmSJPm/AAAAAAAA8D9JkiRJkiQBQAAAAAAAAABAkiRJkiRJCsBu27Zt27YNwG7btm3bthXAJUmSJEmSEMAlSZIkSZIYwNu2bdu2bRfAJUmSJEmSBMCSJEmSJEnCv9u2bdu2bRPAkiRJkiRJ8j8lSZIkSZL0v9u2bdu2bQPA\",\"dtype\":\"float64\",\"shape\":[69]},\"total_patients\":{\"__ndarray__\":\"AAAAAAAAMUAAAAAAAEBQQAAAAAAAAEVAAAAAAABAOkAAAAAAAIBAQFVVVVVVFVZAJUmSJEkSSEBu27Zt27YVQEmSJEmSJDXAAAAAAAAAJEAAAAAAAAAQwCVJkiRJkiBASZIkSZKkTMBu27Zt27Y1wG7btm3btjhAAAAAAACARUC3bdu2bdsGQAAAAAAAADRAkiRJkiRJLEC3bdu2bVtDQNu2bdu2bTtAbtu2bdu2NkBu27Zt27YdQCVJkiRJkjJAt23btm3bOECSJEmSJEk2QCVJkiRJkiRASZIkSZIkLUC3bdu2bdsqwEmSJEmSJPm/SZIkSZIkFcCSJEmSJEk3wNu2bdu2bTnAbtu2bdu2OMDbtm3btm1CwNu2bdu2bRfAAAAAAAAAMcBu27Zt27Y2wCVJkiRJkhDA27Zt27ZtIcDbtm3btm0xwLdt27Zt2yBAJUmSJEmSMMDbtm3btm0lwJIkSZIkSTPAkiRJkiRJN8AAAAAAAIBCwAAAAAAAADDAkiRJkiRJRMBJkiRJkiQtwLdt27Zt2zTAt23btm3bJsBu27Zt27YwwLdt27Zt2/a/AAAAAAAAHMCSJEmSJEkKQEmSJEmSJB3Abtu2bdu2J8AlSZIkSZIkwNu2bdu2bSfAkiRJkiRJCsBJkiRJkiQhwCVJkiRJkizA27Zt27Zt679u27Zt27YNQLdt27Zt2xpA27Zt27ZtLUAAAAAAAAAUQAAAAAAAAChA\",\"dtype\":\"float64\",\"shape\":[69]}},\"selected\":{\"id\":\"1967\"},\"selection_policy\":{\"id\":\"1968\"}},\"id\":\"1830\",\"type\":\"ColumnDataSource\"},{\"attributes\":{\"mantissas\":[1,2,5],\"max_interval\":500.0,\"num_minor_ticks\":0},\"id\":\"1841\",\"type\":\"AdaptiveTicker\"},{\"attributes\":{},\"id\":\"1799\",\"type\":\"DataRange1d\"},{\"attributes\":{\"label\":{\"value\":\"Daily new patients in ICU (suspected and confirmed cases)\"},\"renderers\":[{\"id\":\"1834\"}]},\"id\":\"1855\",\"type\":\"LegendItem\"},{\"attributes\":{},\"id\":\"1878\",\"type\":\"Selection\"},{\"attributes\":{},\"id\":\"1797\",\"type\":\"DataRange1d\"},{\"attributes\":{\"fill_alpha\":{\"value\":0.8},\"fill_color\":{\"value\":\"green\"},\"line_alpha\":{\"value\":0.8},\"line_color\":{\"value\":\"green\"},\"top\":{\"field\":\"total_icu\"},\"width\":{\"value\":0.4},\"x\":{\"field\":\"date\"}},\"id\":\"1832\",\"type\":\"VBar\"},{\"attributes\":{\"data_source\":{\"id\":\"1830\"},\"glyph\":{\"id\":\"1857\"},\"hover_glyph\":null,\"muted_glyph\":null,\"nonselection_glyph\":{\"id\":\"1858\"},\"selection_glyph\":null,\"view\":{\"id\":\"1860\"}},\"id\":\"1859\",\"type\":\"GlyphRenderer\"},{\"attributes\":{},\"id\":\"1967\",\"type\":\"Selection\"},{\"attributes\":{\"data\":{\"date\":{\"__ndarray__\":\"AACA/4ITd0IAAEBl1RN3QgAAAMsnFHdCAADAMHoUd0IAAICWzBR3QgAAQPweFXdCAAAAYnEVd0IAAMDHwxV3QgAAgC0WFndCAABAk2gWd0IAAAD5uhZ3QgAAwF4NF3dCAACAxF8Xd0IAAEAqshd3QgAAAJAEGHdCAADA9VYYd0IAAIBbqRh3QgAAQMH7GHdCAAAAJ04Zd0IAAMCMoBl3QgAAgPLyGXdCAABAWEUad0IAAAC+lxp3QgAAwCPqGndCAACAiTwbd0IAAEDvjht3QgAAAFXhG3dCAADAujMcd0IAAIAghhx3QgAAQIbYHHdCAAAA7Codd0IAAMBRfR13QgAAgLfPHXdCAABAHSIed0IAAACDdB53QgAAwOjGHndCAACAThkfd0IAAEC0ax93QgAAABq+H3dCAADAfxAgd0IAAIDlYiB3QgAAQEu1IHdCAAAAsQchd0IAAMAWWiF3QgAAgHysIXdCAABA4v4hd0IAAABIUSJ3QgAAwK2jIndCAACAE/Yid0IAAEB5SCN3QgAAAN+aI3dCAADARO0jd0IAAICqPyR3QgAAQBCSJHdCAAAAduQkd0IAAMDbNiV3QgAAgEGJJXdCAABAp9sld0IAAAANLiZ3QgAAwHKAJndCAACA2NImd0IAAEA+JSd3QgAAAKR3J3dCAADACcond0IAAIBvHCh3QgAAQNVuKHdCAAAAO8Eod0IAAMCgEyl3QgAAgAZmKXdC\",\"dtype\":\"float64\",\"shape\":[69]},\"icu_positive_patients\":{\"__ndarray__\":\"AAAAAAAAJkAAAAAAAABTQAAAAAAAADtAAAAAAAAAOEAAAAAAAAAqQAAAAAAAAD9AAAAAAAAALkAAAAAAAAAiQAAAAAAAADvAAAAAAACAREAAAAAAAAAQQAAAAAAAACZAAAAAAAAAMkAAAAAAAAAoQAAAAAAAABjAAAAAAAAAAAAAAAAAAAAgwAAAAAAAACJAAAAAAAAAPkAAAAAAAAAowAAAAAAAACbAAAAAAAAAAMAAAAAAAAAAAAAAAAAAADXAAAAAAAAAIkAAAAAAAAAQQAAAAAAAABRAAAAAAAAAFEAAAAAAAAAmwAAAAAAAAC5AAAAAAAAAHMAAAAAAAAAAAAAAAAAAADLAAAAAAAAAJMAAAAAAAAAqwAAAAAAAACTAAAAAAAAAKsAAAAAAAABFwAAAAAAAABRAAAAAAAAAAAAAAAAAAADwPwAAAAAAABRAAAAAAAAAOMAAAAAAAADwPwAAAAAAAABAAAAAAAAAFMAAAAAAAAAUQAAAAAAAADHAAAAAAAAALMAAAAAAAAAiQAAAAAAAACJAAAAAAAAAIMAAAAAAAAAswAAAAAAAADFAAAAAAAAA8L8AAAAAAAAAAAAAAAAAABjAAAAAAAAAKMAAAAAAAAAYwAAAAAAAADjAAAAAAAAAIkAAAAAAAAAsQAAAAAAAABDAAAAAAAAAMkAAAAAAAAAswAAAAAAAADXAAAAAAAAAJEAAAAAAAAAAwAAAAAAAADDA\",\"dtype\":\"float64\",\"shape\":[69]},\"icu_suspected_patients\":{\"__ndarray__\":\"AAAAAAAAO8AAAAAAAAAwQAAAAAAAADzAAAAAAAAALsAAAAAAAAAiQAAAAAAAACrAAAAAAACASEAAAAAAAIBLwAAAAAAAACzAAAAAAAAAHMAAAAAAAAAiQAAAAAAAABhAAAAAAACAQcAAAAAAAAA4QAAAAAAAAD/AAAAAAAAACMAAAAAAAAAUQAAAAAAAABRAAAAAAAAANsAAAAAAAAAyQAAAAAAAACxAAAAAAAAAHMAAAAAAAAA/wAAAAAAAAChAAAAAAAAAN0AAAAAAAAAUwAAAAAAAACpAAAAAAACAQMAAAAAAAAAQwAAAAAAAABRAAAAAAAAAHEAAAAAAAAAkwAAAAAAAAAAAAAAAAAAALkAAAAAAAAAmwAAAAAAAACLAAAAAAAAAIMAAAAAAAAAAAAAAAAAAACBAAAAAAAAAEMAAAAAAAAAAwAAAAAAAAPC/AAAAAAAAMkAAAAAAAAAmwAAAAAAAACTAAAAAAAAAMUAAAAAAAAAkwAAAAAAAABxAAAAAAAAAHMAAAAAAAAAgQAAAAAAAABxAAAAAAAAAAEAAAAAAAAAIwAAAAAAAABzAAAAAAAAAIkAAAAAAAAAqwAAAAAAAADZAAAAAAAAAIsAAAAAAAAAIwAAAAAAAABTAAAAAAAAAJEAAAAAAAAA0wAAAAAAAABzAAAAAAAAANUAAAAAAAAAkQAAAAAAAADXAAAAAAAAACEAAAAAAAAAQQAAAAAAAAABA\",\"dtype\":\"float64\",\"shape\":[69]},\"index\":[0,1,2,3,4,5,6,7,8,9,10,11,12,13,14,15,16,17,18,19,20,21,22,23,24,25,26,27,28,29,30,31,32,33,34,35,36,37,38,39,40,41,42,43,44,45,46,47,48,49,50,51,52,53,54,55,56,57,58,59,60,61,62,63,64,65,66,67,68],\"positive_patients\":{\"__ndarray__\":\"AAAAAADAU0AAAAAAAABiQAAAAAAAgEZAAAAAAADAVUAAAAAAAABSQAAAAAAAQFVAAAAAAAAAVEAAAAAAAIBCQAAAAAAAQFHAAAAAAACAT0AAAAAAAMBRQAAAAAAAAFFAAAAAAACAVUAAAAAAAIBCQAAAAAAAgEtAAAAAAACAREAAAAAAAAAmwAAAAAAAAD5AAAAAAAAASkAAAAAAAIBPQAAAAAAAABBAAAAAAAAAFEAAAAAAAAAIwAAAAAAAAC7AAAAAAAAARUAAAAAAAIBKQAAAAAAAADZAAAAAAAAACMAAAAAAAEBQwAAAAAAAACTAAAAAAABAUMAAAAAAAABEwAAAAAAAgEhAAAAAAAAAAMAAAAAAAABCwAAAAAAAADPAAAAAAAAAFMAAAAAAAABTwAAAAAAAgERAAAAAAAAAQEAAAAAAAAA1wAAAAAAAACLAAAAAAABAVcAAAAAAAAAAAAAAAAAAgFPAAAAAAAAANcAAAAAAAAAywAAAAAAAACzAAAAAAAAAJsAAAAAAAAAuwAAAAAAAAPC/AAAAAAAAScAAAAAAAAAIQAAAAAAAAEFAAAAAAAAAAAAAAAAAAAAuwAAAAAAAgEfAAAAAAAAAKsAAAAAAAIBGwAAAAAAAAEBAAAAAAACAQEAAAAAAAIBBQAAAAAAAAD9AAAAAAAAAOsAAAAAAAAAmwAAAAAAAAErAAAAAAAAAS0AAAAAAAAAUQAAAAAAAAEXA\",\"dtype\":\"float64\",\"shape\":[69]},\"suspected_patients\":{\"__ndarray__\":\"AAAAAAAAT8AAAAAAAAA/wAAAAAAAgEjAAAAAAAAAW8AAAAAAAAAowAAAAAAAgHFAAAAAAAAQccAAAAAAAPBzwAAAAAAAABDAAAAAAADgYkAAAAAAAMBnwAAAAAAAgFNAAAAAAACAZsAAAAAAAAAzQAAAAAAAACjAAAAAAAAALEAAAAAAAABMwAAAAAAAAD3AAAAAAACASkAAAAAAAAAuQAAAAAAAADvAAAAAAAAAFEAAAAAAAIBIwAAAAAAAADpAAAAAAAAACEAAAAAAAABBQAAAAAAAADzAAAAAAAAAJEAAAAAAAEBewAAAAAAAgERAAAAAAAAASUAAAAAAAIBEwAAAAAAAADdAAAAAAAAA8D8AAAAAAABFwAAAAAAAAElAAAAAAAAARcAAAAAAAAA1QAAAAAAAACBAAAAAAAAAIEAAAAAAAIBEwAAAAAAAAFxAAAAAAACATcAAAAAAAAAYwAAAAAAAgELAAAAAAAAARUAAAAAAAABDwAAAAAAAwFhAAAAAAAAATcAAAAAAAIBKQAAAAAAAgEjAAAAAAAAA8D8AAAAAAAAzwAAAAAAAADFAAAAAAAAAR0AAAAAAAAAyQAAAAAAAACZAAAAAAABAUcAAAAAAAAAcQAAAAAAAAE3AAAAAAABAU0AAAAAAAAA6wAAAAAAAAFHAAAAAAAAAVUAAAAAAAIBDwAAAAAAAgEFAAAAAAAAAOMAAAAAAAIBCQAAAAAAAAFlA\",\"dtype\":\"float64\",\"shape\":[69]},\"total_icu\":{\"__ndarray__\":\"AAAAAAAAMMAAAAAAAABXQAAAAAAAAPC/AAAAAAAAIkAAAAAAAAA2QAAAAAAAADJAAAAAAAAAUEAAAAAAAABHwAAAAAAAgETAAAAAAAAAQUAAAAAAAAAqQAAAAAAAADFAAAAAAAAAMcAAAAAAAABCQAAAAAAAgELAAAAAAAAACMAAAAAAAAAIwAAAAAAAACxAAAAAAAAAIEAAAAAAAAAYQAAAAAAAAAhAAAAAAAAAIsAAAAAAAAA/wAAAAAAAACLAAAAAAAAAQEAAAAAAAADwvwAAAAAAADJAAAAAAAAAPMAAAAAAAAAuwAAAAAAAADRAAAAAAAAAAAAAAAAAAAAkwAAAAAAAADLAAAAAAAAAFEAAAAAAAAA4wAAAAAAAADPAAAAAAAAANcAAAAAAAABFwAAAAAAAACpAAAAAAAAAEMAAAAAAAADwvwAAAAAAABBAAAAAAAAAGMAAAAAAAAAkwAAAAAAAACDAAAAAAAAAKEAAAAAAAAAUwAAAAAAAACTAAAAAAAAANcAAAAAAAAAxQAAAAAAAADBAAAAAAAAAGMAAAAAAAAAxwAAAAAAAACRAAAAAAAAAIEAAAAAAAAAqwAAAAAAAADBAAAAAAAAANcAAAAAAAAAiwAAAAAAAAD3AAAAAAAAAM0AAAAAAAAAYwAAAAAAAACbAAAAAAACAQ0AAAAAAAAAQwAAAAAAAAEXAAAAAAAAAKkAAAAAAAAAAQAAAAAAAACzA\",\"dtype\":\"float64\",\"shape\":[69]},\"total_patients\":{\"__ndarray__\":\"AAAAAAAAMUAAAAAAAEBcQAAAAAAAABDAAAAAAAAANcAAAAAAAABOQAAAAAAA0HZAAAAAAAAgaMAAAAAAAKBxwAAAAAAAQFLAAAAAAADAakAAAAAAAMBdwAAAAAAAQGJAAAAAAACAV8AAAAAAAABMQAAAAAAAgEVAAAAAAACAS0AAAAAAAMBQwAAAAAAAAPA/AAAAAABAWkAAAAAAAIBTQAAAAAAAADfAAAAAAAAAJEAAAAAAAABKwAAAAAAAACZAAAAAAACARkAAAAAAAMBVQAAAAAAAABjAAAAAAAAAHEAAAAAAAEBnwAAAAAAAAD9AAAAAAAAALsAAAAAAAEBUwAAAAAAAAFJAAAAAAAAA8L8AAAAAAIBTwAAAAAAAAD9AAAAAAACAR8AAAAAAAIBLwAAAAAAAgEhAAAAAAAAAREAAAAAAAABPwAAAAAAAwFlAAAAAAAAAYsAAAAAAAAAYwAAAAAAAwFzAAAAAAAAANUAAAAAAAABMwAAAAAAAQFVAAAAAAABAUcAAAAAAAABDQAAAAAAAAEnAAAAAAACASMAAAAAAAAAwwAAAAAAAgElAAAAAAAAAR0AAAAAAAAAIQAAAAAAAAELAAAAAAACAVMAAAAAAAABDwAAAAAAAADrAAAAAAACAW0AAAAAAAAAiQAAAAAAAgELAAAAAAAAATUAAAAAAAABJwAAAAAAAADHAAAAAAAAAPkAAAAAAAABFQAAAAAAAAE1A\",\"dtype\":\"float64\",\"shape\":[69]}},\"selected\":{\"id\":\"1878\"},\"selection_policy\":{\"id\":\"1879\"}},\"id\":\"1829\",\"type\":\"ColumnDataSource\"},{\"attributes\":{\"base\":24,\"mantissas\":[1,2,4,6,8,12],\"max_interval\":43200000.0,\"min_interval\":3600000.0,\"num_minor_ticks\":0},\"id\":\"1843\",\"type\":\"AdaptiveTicker\"},{\"attributes\":{\"data_source\":{\"id\":\"1829\"},\"glyph\":{\"id\":\"1832\"},\"hover_glyph\":null,\"muted_glyph\":null,\"nonselection_glyph\":{\"id\":\"1833\"},\"selection_glyph\":null,\"view\":{\"id\":\"1835\"}},\"id\":\"1834\",\"type\":\"GlyphRenderer\"},{\"attributes\":{\"source\":{\"id\":\"1829\"}},\"id\":\"1835\",\"type\":\"CDSView\"},{\"attributes\":{},\"id\":\"1813\",\"type\":\"PanTool\"},{\"attributes\":{},\"id\":\"1968\",\"type\":\"UnionRenderers\"},{\"attributes\":{\"line_alpha\":0.3,\"line_color\":\"navy\",\"line_width\":5,\"x\":{\"field\":\"date\"},\"y\":{\"field\":\"total_icu\"}},\"id\":\"1857\",\"type\":\"Line\"},{\"attributes\":{\"base\":60,\"mantissas\":[1,2,5,10,15,20,30],\"max_interval\":1800000.0,\"min_interval\":1000.0,\"num_minor_ticks\":0},\"id\":\"1842\",\"type\":\"AdaptiveTicker\"},{\"attributes\":{},\"id\":\"1814\",\"type\":\"WheelZoomTool\"},{\"attributes\":{},\"id\":\"1810\",\"type\":\"BasicTicker\"},{\"attributes\":{},\"id\":\"1818\",\"type\":\"HelpTool\"},{\"attributes\":{\"days\":[1,2,3,4,5,6,7,8,9,10,11,12,13,14,15,16,17,18,19,20,21,22,23,24,25,26,27,28,29,30,31]},\"id\":\"1844\",\"type\":\"DaysTicker\"}],\"root_ids\":[\"1794\"]},\"title\":\"Bokeh Application\",\"version\":\"2.0.2\"}};\n",
       "  var render_items = [{\"docid\":\"cad5052c-c218-42be-b596-5e0da2fa6148\",\"root_ids\":[\"1794\"],\"roots\":{\"1794\":\"ada19bcd-a671-49f5-b966-1e1ed0ae44c9\"}}];\n",
       "  root.Bokeh.embed.embed_items_notebook(docs_json, render_items);\n",
       "\n",
       "  }\n",
       "  if (root.Bokeh !== undefined) {\n",
       "    embed_document(root);\n",
       "  } else {\n",
       "    var attempts = 0;\n",
       "    var timer = setInterval(function(root) {\n",
       "      if (root.Bokeh !== undefined) {\n",
       "        clearInterval(timer);\n",
       "        embed_document(root);\n",
       "      } else {\n",
       "        attempts++;\n",
       "        if (attempts > 100) {\n",
       "          clearInterval(timer);\n",
       "          console.log(\"Bokeh: ERROR: Unable to run BokehJS code because BokehJS library is missing\");\n",
       "        }\n",
       "      }\n",
       "    }, 10, root)\n",
       "  }\n",
       "})(window);"
      ],
      "application/vnd.bokehjs_exec.v0+json": ""
     },
     "metadata": {
      "application/vnd.bokehjs_exec.v0+json": {
       "id": "1794"
      }
     },
     "output_type": "display_data"
    }
   ],
   "source": [
    "pos_patients_d = {\n",
    "    'frame': new_hosp_lac,\n",
    "    'field_name': 'total_patients',\n",
    "    'title_word': 'hospitalizations (suspected and confirmed cases)',\n",
    "    'place': '-- LA County'\n",
    "}\n",
    "pos_icu_d = {\n",
    "    'frame': new_hosp_lac,\n",
    "    'field_name': 'total_icu',\n",
    "    'title_word': 'patients in ICU (suspected and confirmed cases)',\n",
    "    'place': '-- LA County'\n",
    "}\n",
    "plot_daily(**pos_patients_d)\n",
    "plot_daily(**pos_icu_d)"
   ]
  },
  {
   "cell_type": "markdown",
   "metadata": {},
   "source": [
    "The above charts represent the difference between the number of hospitalized covid19 patients on a given day and the count of the day before. \n",
    "\n",
    "Thus starting around May 1st the number of hospitalized patients tended to decline each day; in early June the numbers begin to creep back up.\n",
    "\n",
    "Notes\n",
    "\n",
    "    - A negative number on a given day means that more patients died / were discharged than were newly admitted.\n",
    "\n",
    "    - The dataset contains separate fields for patients with positive tests and suspected patients. After the early days, the counts of suspected patients (both hospitalized and in icu) dropped off as testing got better. Thus I've assumed that most suspected patients were in fact infected and combined the counts of suspected and confirmed cases. "
   ]
  },
  {
   "cell_type": "markdown",
   "metadata": {},
   "source": [
    "## NoHo"
   ]
  },
  {
   "cell_type": "code",
   "execution_count": 8,
   "metadata": {
    "ExecuteTime": {
     "end_time": "2020-06-11T21:44:30.618690Z",
     "start_time": "2020-06-11T21:44:30.534370Z"
    }
   },
   "outputs": [
    {
     "data": {
      "text/html": [
       "\n",
       "\n",
       "\n",
       "\n",
       "\n",
       "\n",
       "  <div class=\"bk-root\" id=\"3aa7bf01-0c7f-48e6-8337-8be758eba918\" data-root-id=\"2102\"></div>\n"
      ]
     },
     "metadata": {},
     "output_type": "display_data"
    },
    {
     "data": {
      "application/javascript": [
       "(function(root) {\n",
       "  function embed_document(root) {\n",
       "    \n",
       "  var docs_json = {\"1d4719f6-e36a-40f4-a13d-655a77d842ac\":{\"roots\":{\"references\":[{\"attributes\":{\"below\":[{\"id\":\"2113\"}],\"center\":[{\"id\":\"2116\"},{\"id\":\"2120\"},{\"id\":\"2162\"}],\"left\":[{\"id\":\"2117\"}],\"plot_height\":400,\"plot_width\":1000,\"renderers\":[{\"id\":\"2142\"},{\"id\":\"2167\"}],\"title\":{\"id\":\"2103\"},\"toolbar\":{\"id\":\"2129\"},\"x_range\":{\"id\":\"2105\"},\"x_scale\":{\"id\":\"2109\"},\"y_range\":{\"id\":\"2107\"},\"y_scale\":{\"id\":\"2111\"}},\"id\":\"2102\",\"subtype\":\"Figure\",\"type\":\"Plot\"},{\"attributes\":{},\"id\":\"2125\",\"type\":\"ResetTool\"},{\"attributes\":{\"text\":\"Daily new cases -- NoHo\"},\"id\":\"2103\",\"type\":\"Title\"},{\"attributes\":{\"months\":[0,1,2,3,4,5,6,7,8,9,10,11]},\"id\":\"2156\",\"type\":\"MonthsTicker\"},{\"attributes\":{},\"id\":\"2126\",\"type\":\"HelpTool\"},{\"attributes\":{},\"id\":\"2105\",\"type\":\"DataRange1d\"},{\"attributes\":{\"months\":[0,2,4,6,8,10]},\"id\":\"2157\",\"type\":\"MonthsTicker\"},{\"attributes\":{\"days\":[1,8,15,22]},\"id\":\"2154\",\"type\":\"DaysTicker\"},{\"attributes\":{},\"id\":\"2107\",\"type\":\"DataRange1d\"},{\"attributes\":{\"months\":[0,4,8]},\"id\":\"2158\",\"type\":\"MonthsTicker\"},{\"attributes\":{\"months\":[0,6]},\"id\":\"2159\",\"type\":\"MonthsTicker\"},{\"attributes\":{},\"id\":\"2109\",\"type\":\"LinearScale\"},{\"attributes\":{\"days\":[1,2,3,4,5,6,7,8,9,10,11,12,13,14,15,16,17,18,19,20,21,22,23,24,25,26,27,28,29,30,31]},\"id\":\"2152\",\"type\":\"DaysTicker\"},{\"attributes\":{},\"id\":\"2160\",\"type\":\"YearsTicker\"},{\"attributes\":{},\"id\":\"2111\",\"type\":\"LinearScale\"},{\"attributes\":{\"days\":[1,4,7,10,13,16,19,22,25,28]},\"id\":\"2153\",\"type\":\"DaysTicker\"},{\"attributes\":{\"items\":[{\"id\":\"2163\"},{\"id\":\"2189\"}]},\"id\":\"2162\",\"type\":\"Legend\"},{\"attributes\":{\"formatter\":{\"id\":\"2146\"},\"ticker\":{\"id\":\"2114\"}},\"id\":\"2113\",\"type\":\"DatetimeAxis\"},{\"attributes\":{\"base\":24,\"mantissas\":[1,2,4,6,8,12],\"max_interval\":43200000.0,\"min_interval\":3600000.0,\"num_minor_ticks\":0},\"id\":\"2151\",\"type\":\"AdaptiveTicker\"},{\"attributes\":{\"label\":{\"value\":\"Daily new cases\"},\"renderers\":[{\"id\":\"2142\"}]},\"id\":\"2163\",\"type\":\"LegendItem\"},{\"attributes\":{\"data\":{\"confirmed_cases\":{\"__ndarray__\":\"AAAAAAAA+H8AAAAAAADwPwAAAAAAAPA/AAAAAAAAAEAAAAAAAAAAAAAAAAAAAAAAAAAAAAAAEEAAAAAAAADwPwAAAAAAAPA/AAAAAAAAEEAAAAAAAAAIQAAAAAAAACBAAAAAAAAAEEAAAAAAAAAQQAAAAAAAABRAAAAAAAAAGEAAAAAAAAAoQAAAAAAAACRAAAAAAAAAM0AAAAAAAAAUQAAAAAAAAPC/AAAAAAAAIEAAAAAAAAAUQAAAAAAAAAAAAAAAAAAAJEAAAAAAAAAYQAAAAAAAAABAAAAAAAAAGEAAAAAAAAAmQAAAAAAAABxAAAAAAAAACEAAAAAAAAAUQAAAAAAAACJAAAAAAAAAAEAAAAAAAAA0QAAAAAAAADBAAAAAAAAAOkAAAAAAAAAqQAAAAAAAADRAAAAAAAAALkAAAAAAAAAiQAAAAAAAADtAAAAAAAAAEEAAAAAAAAA1QAAAAAAAAAAAAAAAAACAQUAAAAAAAAAoQAAAAAAAACRAAAAAAAAAGEAAAAAAAIBAQAAAAAAAACxAAAAAAAAALkAAAAAAAAAIQAAAAAAAACpAAAAAAAAAFEAAAAAAAAAgQAAAAAAAAChAAAAAAAAAMEAAAAAAAAAqQAAAAAAAAAAAAAAAAAAAOUAAAAAAAAAQQAAAAAAAABhAAAAAAAAAAEAAAAAAAAAAAAAAAAAAADNAAAAAAAAAFEAAAAAAAAAyQAAAAAAAAChAAAAAAAAAFEAAAAAAAAA6QAAAAAAAACBAAAAAAAAAIkAAAAAAAAAxQAAAAAAAADRAAAAAAAAAM0AAAAAAAAAiQAAAAAAAADFAAAAAAAAAKkAAAAAAAAAcQAAAAAAAACJAAAAAAAAAGEAAAAAAAAAxQAAAAAAAACZAAAAAAAAALkAAAAAAAAAwQA==\",\"dtype\":\"float64\",\"shape\":[86]},\"date\":{\"__ndarray__\":\"AACAo1wOd0IAAEAJrw53QgAAAG8BD3dCAADA1FMPd0IAAIA6pg93QgAAQKD4D3dCAAAABksQd0IAAMBrnRB3QgAAgNHvEHdCAABAN0IRd0IAAACdlBF3QgAAwALnEXdCAACAaDkSd0IAAEDOixJ3QgAAADTeEndCAADAmTATd0IAAID/ghN3QgAAQGXVE3dCAAAAyycUd0IAAMAwehR3QgAAgJbMFHdCAABA/B4Vd0IAAABicRV3QgAAwMfDFXdCAACALRYWd0IAAECTaBZ3QgAAAPm6FndCAADAXg0Xd0IAAIDEXxd3QgAAQCqyF3dCAAAAkAQYd0IAAMD1Vhh3QgAAgFupGHdCAABAwfsYd0IAAAAnThl3QgAAwIygGXdCAACA8vIZd0IAAEBYRRp3QgAAAL6XGndCAADAI+oad0IAAICJPBt3QgAAQO+OG3dCAAAAVeEbd0IAAMC6Mxx3QgAAgCCGHHdCAABAhtgcd0IAAADsKh13QgAAwFF9HXdCAACAt88dd0IAAEAdIh53QgAAAIN0HndCAADA6MYed0IAAIBOGR93QgAAQLRrH3dCAAAAGr4fd0IAAMB/ECB3QgAAgOViIHdCAABAS7Ugd0IAAACxByF3QgAAwBZaIXdCAACAfKwhd0IAAEDi/iF3QgAAAEhRIndCAADAraMid0IAAIAT9iJ3QgAAQHlII3dCAAAA35ojd0IAAMBE7SN3QgAAgKo/JHdCAABAEJIkd0IAAAB25CR3QgAAwNs2JXdCAACAQYkld0IAAECn2yV3QgAAAA0uJndCAADAcoAmd0IAAIDY0iZ3QgAAQD4lJ3dCAAAApHcnd0IAAMAJyid3QgAAgG8cKHdCAABA1W4od0IAAAA7wSh3QgAAwKATKXdCAACABmYpd0IAAEBsuCl3Qg==\",\"dtype\":\"float64\",\"shape\":[86]},\"index\":[0,1,2,3,4,5,6,7,8,9,10,11,12,13,14,15,16,17,18,19,20,21,22,23,24,25,26,27,28,29,30,31,32,33,34,35,36,37,38,39,40,41,42,43,44,45,46,47,48,49,50,51,52,53,54,55,56,57,58,59,60,61,62,63,64,65,66,67,68,69,70,71,72,73,74,75,76,77,78,79,80,81,82,83,84,85]},\"selected\":{\"id\":\"2186\"},\"selection_policy\":{\"id\":\"2187\"}},\"id\":\"2137\",\"type\":\"ColumnDataSource\"},{\"attributes\":{\"num_minor_ticks\":5,\"tickers\":[{\"id\":\"2149\"},{\"id\":\"2150\"},{\"id\":\"2151\"},{\"id\":\"2152\"},{\"id\":\"2153\"},{\"id\":\"2154\"},{\"id\":\"2155\"},{\"id\":\"2156\"},{\"id\":\"2157\"},{\"id\":\"2158\"},{\"id\":\"2159\"},{\"id\":\"2160\"}]},\"id\":\"2114\",\"type\":\"DatetimeTicker\"},{\"attributes\":{\"bottom_units\":\"screen\",\"fill_alpha\":0.5,\"fill_color\":\"lightgrey\",\"left_units\":\"screen\",\"level\":\"overlay\",\"line_alpha\":1.0,\"line_color\":\"black\",\"line_dash\":[4,4],\"line_width\":2,\"render_mode\":\"css\",\"right_units\":\"screen\",\"top_units\":\"screen\"},\"id\":\"2127\",\"type\":\"BoxAnnotation\"},{\"attributes\":{\"axis\":{\"id\":\"2113\"},\"ticker\":null},\"id\":\"2116\",\"type\":\"Grid\"},{\"attributes\":{\"callback\":null,\"tooltips\":[[\"cases\",\"@new_confirmed_cases\"],[\"date\",\"@date\"]]},\"id\":\"2128\",\"type\":\"HoverTool\"},{\"attributes\":{},\"id\":\"2186\",\"type\":\"Selection\"},{\"attributes\":{\"fill_alpha\":{\"value\":0.8},\"fill_color\":{\"value\":\"green\"},\"line_alpha\":{\"value\":0.8},\"line_color\":{\"value\":\"green\"},\"top\":{\"field\":\"confirmed_cases\"},\"width\":{\"value\":0.4},\"x\":{\"field\":\"date\"}},\"id\":\"2140\",\"type\":\"VBar\"},{\"attributes\":{\"active_drag\":\"auto\",\"active_inspect\":\"auto\",\"active_multi\":null,\"active_scroll\":\"auto\",\"active_tap\":\"auto\",\"tools\":[{\"id\":\"2121\"},{\"id\":\"2122\"},{\"id\":\"2123\"},{\"id\":\"2124\"},{\"id\":\"2125\"},{\"id\":\"2126\"},{\"id\":\"2128\"}]},\"id\":\"2129\",\"type\":\"Toolbar\"},{\"attributes\":{\"formatter\":{\"id\":\"2148\"},\"ticker\":{\"id\":\"2118\"}},\"id\":\"2117\",\"type\":\"LinearAxis\"},{\"attributes\":{\"line_alpha\":0.1,\"line_color\":\"navy\",\"line_width\":5,\"x\":{\"field\":\"date\"},\"y\":{\"field\":\"confirmed_cases\"}},\"id\":\"2166\",\"type\":\"Line\"},{\"attributes\":{},\"id\":\"2118\",\"type\":\"BasicTicker\"},{\"attributes\":{\"data_source\":{\"id\":\"2138\"},\"glyph\":{\"id\":\"2165\"},\"hover_glyph\":null,\"muted_glyph\":null,\"nonselection_glyph\":{\"id\":\"2166\"},\"selection_glyph\":null,\"view\":{\"id\":\"2168\"}},\"id\":\"2167\",\"type\":\"GlyphRenderer\"},{\"attributes\":{\"axis\":{\"id\":\"2117\"},\"dimension\":1,\"ticker\":null},\"id\":\"2120\",\"type\":\"Grid\"},{\"attributes\":{},\"id\":\"2146\",\"type\":\"DatetimeTickFormatter\"},{\"attributes\":{\"data\":{\"confirmed_cases\":{\"__ndarray__\":\"AAAAAAAA+H8AAAAAAADwPwAAAAAAAPA/VVVVVVVV9T8AAAAAAADwP5qZmZmZmek/VVVVVVVV9T8lSZIkSZL0PyVJkiRJkvQ/27Zt27Zt+z9u27Zt27b9PwAAAAAAAAhAJUmSJEmSDEAlSZIkSZIMQCVJkiRJkhBA27Zt27ZtE0AAAAAAAAAYQAAAAAAAABxASZIkSZIkIUDbtm3btm0hQAAAAAAAACBAt23btm3bIEAlSZIkSZIgQJIkSZIkSRpAkiRJkiRJGkC3bdu2bdsSQEmSJEmSJBFASZIkSZIkFUC3bdu2bdsWQAAAAAAAABhAbtu2bdu2GUC3bdu2bdsWQCVJkiRJkhhAJUmSJEmSGECSJEmSJEkgQG7btm3btiFASZIkSZIkJ0AAAAAAAAAqQJIkSZIkSS5AAAAAAAAAMEAAAAAAAAAxQAAAAAAAADJAkiRJkiRJMEBJkiRJkiQvQNu2bdu2bStAbtu2bdu2L0C3bdu2bdsuQEmSJEmSJC9ASZIkSZIkKUBu27Zt27YwQNu2bdu2bS9At23btm3bMUAlSZIkSZIqQLdt27Zt2ypA27Zt27ZtKUAAAAAAAAAqQAAAAAAAACRAJUmSJEmSJEAAAAAAAAAkQEmSJEmSJCNAJUmSJEmSJkCSJEmSJEkmQG7btm3btiVAt23btm3bIkAlSZIkSZIcQAAAAAAAACBA27Zt27ZtIUC3bdu2bdseQG7btm3btiFA27Zt27ZtIUCSJEmSJEkoQCVJkiRJkipAbtu2bdu2J0BJkiRJkiQrQG7btm3btitAbtu2bdu2LUC3bdu2bdsuQJIkSZIkSSxAbtu2bdu2LUBJkiRJkiQtQLdt27Zt2ypAt23btm3bJkCSJEmSJEkmQLdt27Zt2yZAkiRJkiRJJkBJkiRJkiQnQA==\",\"dtype\":\"float64\",\"shape\":[86]},\"date\":{\"__ndarray__\":\"AACAo1wOd0IAAEAJrw53QgAAAG8BD3dCAADA1FMPd0IAAIA6pg93QgAAQKD4D3dCAAAABksQd0IAAMBrnRB3QgAAgNHvEHdCAABAN0IRd0IAAACdlBF3QgAAwALnEXdCAACAaDkSd0IAAEDOixJ3QgAAADTeEndCAADAmTATd0IAAID/ghN3QgAAQGXVE3dCAAAAyycUd0IAAMAwehR3QgAAgJbMFHdCAABA/B4Vd0IAAABicRV3QgAAwMfDFXdCAACALRYWd0IAAECTaBZ3QgAAAPm6FndCAADAXg0Xd0IAAIDEXxd3QgAAQCqyF3dCAAAAkAQYd0IAAMD1Vhh3QgAAgFupGHdCAABAwfsYd0IAAAAnThl3QgAAwIygGXdCAACA8vIZd0IAAEBYRRp3QgAAAL6XGndCAADAI+oad0IAAICJPBt3QgAAQO+OG3dCAAAAVeEbd0IAAMC6Mxx3QgAAgCCGHHdCAABAhtgcd0IAAADsKh13QgAAwFF9HXdCAACAt88dd0IAAEAdIh53QgAAAIN0HndCAADA6MYed0IAAIBOGR93QgAAQLRrH3dCAAAAGr4fd0IAAMB/ECB3QgAAgOViIHdCAABAS7Ugd0IAAACxByF3QgAAwBZaIXdCAACAfKwhd0IAAEDi/iF3QgAAAEhRIndCAADAraMid0IAAIAT9iJ3QgAAQHlII3dCAAAA35ojd0IAAMBE7SN3QgAAgKo/JHdCAABAEJIkd0IAAAB25CR3QgAAwNs2JXdCAACAQYkld0IAAECn2yV3QgAAAA0uJndCAADAcoAmd0IAAIDY0iZ3QgAAQD4lJ3dCAAAApHcnd0IAAMAJyid3QgAAgG8cKHdCAABA1W4od0IAAAA7wSh3QgAAwKATKXdCAACABmYpd0IAAEBsuCl3Qg==\",\"dtype\":\"float64\",\"shape\":[86]},\"index\":[0,1,2,3,4,5,6,7,8,9,10,11,12,13,14,15,16,17,18,19,20,21,22,23,24,25,26,27,28,29,30,31,32,33,34,35,36,37,38,39,40,41,42,43,44,45,46,47,48,49,50,51,52,53,54,55,56,57,58,59,60,61,62,63,64,65,66,67,68,69,70,71,72,73,74,75,76,77,78,79,80,81,82,83,84,85]},\"selected\":{\"id\":\"2297\"},\"selection_policy\":{\"id\":\"2298\"}},\"id\":\"2138\",\"type\":\"ColumnDataSource\"},{\"attributes\":{\"line_alpha\":0.3,\"line_color\":\"navy\",\"line_width\":5,\"x\":{\"field\":\"date\"},\"y\":{\"field\":\"confirmed_cases\"}},\"id\":\"2165\",\"type\":\"Line\"},{\"attributes\":{\"data_source\":{\"id\":\"2137\"},\"glyph\":{\"id\":\"2140\"},\"hover_glyph\":null,\"muted_glyph\":null,\"nonselection_glyph\":{\"id\":\"2141\"},\"selection_glyph\":null,\"view\":{\"id\":\"2143\"}},\"id\":\"2142\",\"type\":\"GlyphRenderer\"},{\"attributes\":{\"source\":{\"id\":\"2138\"}},\"id\":\"2168\",\"type\":\"CDSView\"},{\"attributes\":{\"source\":{\"id\":\"2137\"}},\"id\":\"2143\",\"type\":\"CDSView\"},{\"attributes\":{\"fill_alpha\":{\"value\":0.1},\"fill_color\":{\"value\":\"green\"},\"line_alpha\":{\"value\":0.1},\"line_color\":{\"value\":\"green\"},\"top\":{\"field\":\"confirmed_cases\"},\"width\":{\"value\":0.4},\"x\":{\"field\":\"date\"}},\"id\":\"2141\",\"type\":\"VBar\"},{\"attributes\":{\"days\":[1,15]},\"id\":\"2155\",\"type\":\"DaysTicker\"},{\"attributes\":{},\"id\":\"2187\",\"type\":\"UnionRenderers\"},{\"attributes\":{},\"id\":\"2298\",\"type\":\"UnionRenderers\"},{\"attributes\":{\"label\":{\"value\":\"7-day rolling avg\"},\"renderers\":[{\"id\":\"2167\"}]},\"id\":\"2189\",\"type\":\"LegendItem\"},{\"attributes\":{},\"id\":\"2121\",\"type\":\"PanTool\"},{\"attributes\":{},\"id\":\"2148\",\"type\":\"BasicTickFormatter\"},{\"attributes\":{},\"id\":\"2122\",\"type\":\"WheelZoomTool\"},{\"attributes\":{},\"id\":\"2297\",\"type\":\"Selection\"},{\"attributes\":{\"mantissas\":[1,2,5],\"max_interval\":500.0,\"num_minor_ticks\":0},\"id\":\"2149\",\"type\":\"AdaptiveTicker\"},{\"attributes\":{\"overlay\":{\"id\":\"2127\"}},\"id\":\"2123\",\"type\":\"BoxZoomTool\"},{\"attributes\":{\"base\":60,\"mantissas\":[1,2,5,10,15,20,30],\"max_interval\":1800000.0,\"min_interval\":1000.0,\"num_minor_ticks\":0},\"id\":\"2150\",\"type\":\"AdaptiveTicker\"},{\"attributes\":{},\"id\":\"2124\",\"type\":\"SaveTool\"}],\"root_ids\":[\"2102\"]},\"title\":\"Bokeh Application\",\"version\":\"2.0.2\"}};\n",
       "  var render_items = [{\"docid\":\"1d4719f6-e36a-40f4-a13d-655a77d842ac\",\"root_ids\":[\"2102\"],\"roots\":{\"2102\":\"3aa7bf01-0c7f-48e6-8337-8be758eba918\"}}];\n",
       "  root.Bokeh.embed.embed_items_notebook(docs_json, render_items);\n",
       "\n",
       "  }\n",
       "  if (root.Bokeh !== undefined) {\n",
       "    embed_document(root);\n",
       "  } else {\n",
       "    var attempts = 0;\n",
       "    var timer = setInterval(function(root) {\n",
       "      if (root.Bokeh !== undefined) {\n",
       "        clearInterval(timer);\n",
       "        embed_document(root);\n",
       "      } else {\n",
       "        attempts++;\n",
       "        if (attempts > 100) {\n",
       "          clearInterval(timer);\n",
       "          console.log(\"Bokeh: ERROR: Unable to run BokehJS code because BokehJS library is missing\");\n",
       "        }\n",
       "      }\n",
       "    }, 10, root)\n",
       "  }\n",
       "})(window);"
      ],
      "application/vnd.bokehjs_exec.v0+json": ""
     },
     "metadata": {
      "application/vnd.bokehjs_exec.v0+json": {
       "id": "2102"
      }
     },
     "output_type": "display_data"
    }
   ],
   "source": [
    "noho_new = calc_daily_new(locales, PLACE)\n",
    "cases_d = {\n",
    "    'frame': noho_new,\n",
    "    'field_name': 'confirmed_cases',\n",
    "    'title_word': 'cases',\n",
    "    'place': '-- NoHo'\n",
    "}\n",
    "\n",
    "plot_daily(**cases_d)"
   ]
  },
  {
   "cell_type": "markdown",
   "metadata": {},
   "source": [
    "The above represents the daily new cases in North Hollywood. The numbers are small and noisy.\n",
    "\n",
    "Notes\n",
    "\n",
    "    The spike in late April is when testing finally ramped up.\n",
    "\n",
    "    The data has some day-of-week seasonality for both cases. The low numbers generally occur on Sundays and Mondays. I've taken a 7 day rolling average to smooth those out. \n",
    "    \n",
    "    The day with negative new cases in early April is likely due to a correction to the totals. Either that or time temporarily and locally ran backwards."
   ]
  },
  {
   "cell_type": "markdown",
   "metadata": {},
   "source": [
    "## Neighboring locales\n",
    "\n",
    "The following are daily new case counts for other south SF Valley neighborhoods.\n",
    "\n",
    "I've included the North Hollywood case counts (from the above chart) for reference."
   ]
  },
  {
   "cell_type": "code",
   "execution_count": 9,
   "metadata": {
    "ExecuteTime": {
     "end_time": "2020-06-11T21:44:30.715968Z",
     "start_time": "2020-06-11T21:44:30.706918Z"
    }
   },
   "outputs": [],
   "source": [
    "def plot_daily_locales(localities_frame, place, noho_new=None):\n",
    "    \"\"\"\n",
    "    Plots the new case counts for localities as a vertical bar graph\n",
    "    with a 7-day moving average line and a representation of north hollywood's trend \n",
    "    \n",
    "    \"\"\"\n",
    "    field_name = 'confirmed_cases'\n",
    "\n",
    "    p = figure(\n",
    "        plot_width=1000,\n",
    "        plot_height=400,\n",
    "        title=f\"Daily new cases --{place}\",\n",
    "        x_axis_type='datetime')\n",
    "\n",
    "    d_new = calc_daily_new(localities_frame, place, replace_neg=True)\n",
    "    source = ColumnDataSource(d_new.reset_index())\n",
    "    source2 = ColumnDataSource(d_new.rolling(window='7D').mean().reset_index())\n",
    "\n",
    "    p.vbar(\n",
    "        x='date',\n",
    "        top=field_name,\n",
    "        color=\"green\",\n",
    "        width=0.4,\n",
    "        source=source,\n",
    "        alpha=0.8,\n",
    "        legend_label=f'Daily new cases')\n",
    "    p.line(\n",
    "        x='date',\n",
    "        y=field_name,\n",
    "        line_width=5,\n",
    "        color=\"navy\",\n",
    "        source=source2,\n",
    "        alpha=0.3,\n",
    "        legend_label=f'7-day rolling avg ({place})')\n",
    "\n",
    "    if noho_new is not None:\n",
    "        source3 = ColumnDataSource(\n",
    "            noho_new.rolling(window='7D').mean().reset_index())\n",
    "        p.line(\n",
    "            x='date',\n",
    "            y=field_name,\n",
    "            line_width=5,\n",
    "            color=\"red\",\n",
    "            source=source3,\n",
    "            alpha=0.2,\n",
    "            legend_label=f'7-day rolling avg (NoHo)')\n",
    "\n",
    "    show(p)"
   ]
  },
  {
   "cell_type": "code",
   "execution_count": 10,
   "metadata": {
    "ExecuteTime": {
     "end_time": "2020-06-11T21:44:33.076815Z",
     "start_time": "2020-06-11T21:44:32.198950Z"
    },
    "scrolled": false
   },
   "outputs": [
    {
     "data": {
      "text/html": [
       "\n",
       "\n",
       "\n",
       "\n",
       "\n",
       "\n",
       "  <div class=\"bk-root\" id=\"b860bb81-97b4-4b27-b117-83bd8c78a3d8\" data-root-id=\"2432\"></div>\n"
      ]
     },
     "metadata": {},
     "output_type": "display_data"
    },
    {
     "data": {
      "application/javascript": [
       "(function(root) {\n",
       "  function embed_document(root) {\n",
       "    \n",
       "  var docs_json = {\"1cf9d4a2-8d12-4d2a-88ea-d3077545a884\":{\"roots\":{\"references\":[{\"attributes\":{\"below\":[{\"id\":\"2443\"}],\"center\":[{\"id\":\"2446\"},{\"id\":\"2450\"},{\"id\":\"2490\"}],\"left\":[{\"id\":\"2447\"}],\"plot_height\":400,\"plot_width\":1000,\"renderers\":[{\"id\":\"2470\"},{\"id\":\"2495\"},{\"id\":\"2522\"}],\"title\":{\"id\":\"2433\"},\"toolbar\":{\"id\":\"2458\"},\"x_range\":{\"id\":\"2435\"},\"x_scale\":{\"id\":\"2439\"},\"y_range\":{\"id\":\"2437\"},\"y_scale\":{\"id\":\"2441\"}},\"id\":\"2432\",\"subtype\":\"Figure\",\"type\":\"Plot\"},{\"attributes\":{\"items\":[{\"id\":\"2491\"},{\"id\":\"2517\"},{\"id\":\"2546\"}]},\"id\":\"2490\",\"type\":\"Legend\"},{\"attributes\":{},\"id\":\"2678\",\"type\":\"Selection\"},{\"attributes\":{\"label\":{\"value\":\"7-day rolling avg (NoHo)\"},\"renderers\":[{\"id\":\"2522\"}]},\"id\":\"2546\",\"type\":\"LegendItem\"},{\"attributes\":{},\"id\":\"2435\",\"type\":\"DataRange1d\"},{\"attributes\":{\"label\":{\"value\":\"Daily new cases\"},\"renderers\":[{\"id\":\"2470\"}]},\"id\":\"2491\",\"type\":\"LegendItem\"},{\"attributes\":{},\"id\":\"2439\",\"type\":\"LinearScale\"},{\"attributes\":{\"axis\":{\"id\":\"2443\"},\"ticker\":null},\"id\":\"2446\",\"type\":\"Grid\"},{\"attributes\":{\"months\":[0,2,4,6,8,10]},\"id\":\"2485\",\"type\":\"MonthsTicker\"},{\"attributes\":{},\"id\":\"2514\",\"type\":\"Selection\"},{\"attributes\":{},\"id\":\"2448\",\"type\":\"BasicTicker\"},{\"attributes\":{\"line_alpha\":0.1,\"line_color\":\"navy\",\"line_width\":5,\"x\":{\"field\":\"date\"},\"y\":{\"field\":\"confirmed_cases\"}},\"id\":\"2494\",\"type\":\"Line\"},{\"attributes\":{},\"id\":\"2679\",\"type\":\"UnionRenderers\"},{\"attributes\":{},\"id\":\"2437\",\"type\":\"DataRange1d\"},{\"attributes\":{},\"id\":\"2474\",\"type\":\"DatetimeTickFormatter\"},{\"attributes\":{\"data_source\":{\"id\":\"2466\"},\"glyph\":{\"id\":\"2493\"},\"hover_glyph\":null,\"muted_glyph\":null,\"nonselection_glyph\":{\"id\":\"2494\"},\"selection_glyph\":null,\"view\":{\"id\":\"2496\"}},\"id\":\"2495\",\"type\":\"GlyphRenderer\"},{\"attributes\":{\"axis\":{\"id\":\"2447\"},\"dimension\":1,\"ticker\":null},\"id\":\"2450\",\"type\":\"Grid\"},{\"attributes\":{\"formatter\":{\"id\":\"2476\"},\"ticker\":{\"id\":\"2448\"}},\"id\":\"2447\",\"type\":\"LinearAxis\"},{\"attributes\":{\"text\":\"Daily new cases --Burbank\"},\"id\":\"2433\",\"type\":\"Title\"},{\"attributes\":{\"data\":{\"confirmed_cases\":{\"__ndarray__\":\"AAAAAAAA+H8AAAAAAAAAAAAAAAAAAAAAAAAAAAAA8D8AAAAAAAAAAAAAAAAAAAAAAAAAAAAA8D8AAAAAAAAIQAAAAAAAAPA/AAAAAAAAJEAAAAAAAAAAQAAAAAAAAABAAAAAAAAAGEAAAAAAAAAoQAAAAAAAAABAAAAAAAAAIkAAAAAAAAAmQAAAAAAAACJAAAAAAAAAHEAAAAAAAAAAQAAAAAAAABBAAAAAAAAAAAAAAAAAAAAqQAAAAAAAABBAAAAAAAAAAEAAAAAAAADwPwAAAAAAABRAAAAAAAAAEEAAAAAAAAAUQAAAAAAAABBAAAAAAAAAKkAAAAAAAAAAAAAAAAAAABxAAAAAAAAAJEAAAAAAAAAzQAAAAAAAADJAAAAAAAAALkAAAAAAAAAUQAAAAAAAACZAAAAAAAAACEAAAAAAAAAQQAAAAAAAACBAAAAAAAAAAAAAAAAAAAAcQAAAAAAAACZAAAAAAAAAEEAAAAAAAAAQQAAAAAAAACRAAAAAAAAAKkAAAAAAAAAUQAAAAAAAAAhAAAAAAAAAIEAAAAAAAAAQQAAAAAAAAPA/AAAAAAAAJEAAAAAAAAAQQAAAAAAAACZAAAAAAAAAAAAAAAAAAAAqQAAAAAAAAAhAAAAAAAAAFEAAAAAAAAAYQAAAAAAAAAAAAAAAAAAAHEAAAAAAAAAUQAAAAAAAAABAAAAAAAAA8D8AAAAAAAAiQAAAAAAAACRAAAAAAAAACEAAAAAAAADwPwAAAAAAAPA/AAAAAAAAEEAAAAAAAAAIQAAAAAAAAABAAAAAAAAA8D8AAAAAAAAAAAAAAAAAAAhAAAAAAAAAAAAAAAAAAADwPwAAAAAAACJAAAAAAAAA8D8AAAAAAAAUQAAAAAAAAABA\",\"dtype\":\"float64\",\"shape\":[84]},\"date\":{\"__ndarray__\":\"AAAAbwEPd0IAAMDUUw93QgAAgDqmD3dCAABAoPgPd0IAAAAGSxB3QgAAwGudEHdCAACA0e8Qd0IAAEA3QhF3QgAAAJ2UEXdCAADAAucRd0IAAIBoORJ3QgAAQM6LEndCAAAANN4Sd0IAAMCZMBN3QgAAgP+CE3dCAABAZdUTd0IAAADLJxR3QgAAwDB6FHdCAACAlswUd0IAAED8HhV3QgAAAGJxFXdCAADAx8MVd0IAAIAtFhZ3QgAAQJNoFndCAAAA+boWd0IAAMBeDRd3QgAAgMRfF3dCAABAKrIXd0IAAACQBBh3QgAAwPVWGHdCAACAW6kYd0IAAEDB+xh3QgAAACdOGXdCAADAjKAZd0IAAIDy8hl3QgAAQFhFGndCAAAAvpcad0IAAMAj6hp3QgAAgIk8G3dCAABA744bd0IAAABV4Rt3QgAAwLozHHdCAACAIIYcd0IAAECG2Bx3QgAAAOwqHXdCAADAUX0dd0IAAIC3zx13QgAAQB0iHndCAAAAg3Qed0IAAMDoxh53QgAAgE4ZH3dCAABAtGsfd0IAAAAavh93QgAAwH8QIHdCAACA5WIgd0IAAEBLtSB3QgAAALEHIXdCAADAFlohd0IAAIB8rCF3QgAAQOL+IXdCAAAASFEid0IAAMCtoyJ3QgAAgBP2IndCAABAeUgjd0IAAADfmiN3QgAAwETtI3dCAACAqj8kd0IAAEAQkiR3QgAAAHbkJHdCAADA2zYld0IAAIBBiSV3QgAAQKfbJXdCAAAADS4md0IAAMBygCZ3QgAAgNjSJndCAABAPiUnd0IAAACkdyd3QgAAwAnKJ3dCAACAbxwod0IAAEDVbih3QgAAADvBKHdCAADAoBMpd0IAAIAGZil3QgAAQGy4KXdC\",\"dtype\":\"float64\",\"shape\":[84]},\"index\":[0,1,2,3,4,5,6,7,8,9,10,11,12,13,14,15,16,17,18,19,20,21,22,23,24,25,26,27,28,29,30,31,32,33,34,35,36,37,38,39,40,41,42,43,44,45,46,47,48,49,50,51,52,53,54,55,56,57,58,59,60,61,62,63,64,65,66,67,68,69,70,71,72,73,74,75,76,77,78,79,80,81,82,83]},\"selected\":{\"id\":\"2514\"},\"selection_policy\":{\"id\":\"2515\"}},\"id\":\"2465\",\"type\":\"ColumnDataSource\"},{\"attributes\":{\"fill_alpha\":{\"value\":0.1},\"fill_color\":{\"value\":\"green\"},\"line_alpha\":{\"value\":0.1},\"line_color\":{\"value\":\"green\"},\"top\":{\"field\":\"confirmed_cases\"},\"width\":{\"value\":0.4},\"x\":{\"field\":\"date\"}},\"id\":\"2469\",\"type\":\"VBar\"},{\"attributes\":{\"line_alpha\":0.3,\"line_color\":\"navy\",\"line_width\":5,\"x\":{\"field\":\"date\"},\"y\":{\"field\":\"confirmed_cases\"}},\"id\":\"2493\",\"type\":\"Line\"},{\"attributes\":{\"months\":[0,4,8]},\"id\":\"2486\",\"type\":\"MonthsTicker\"},{\"attributes\":{\"source\":{\"id\":\"2465\"}},\"id\":\"2471\",\"type\":\"CDSView\"},{\"attributes\":{\"source\":{\"id\":\"2466\"}},\"id\":\"2496\",\"type\":\"CDSView\"},{\"attributes\":{\"bottom_units\":\"screen\",\"fill_alpha\":0.5,\"fill_color\":\"lightgrey\",\"left_units\":\"screen\",\"level\":\"overlay\",\"line_alpha\":1.0,\"line_color\":\"black\",\"line_dash\":[4,4],\"line_width\":2,\"render_mode\":\"css\",\"right_units\":\"screen\",\"top_units\":\"screen\"},\"id\":\"2457\",\"type\":\"BoxAnnotation\"},{\"attributes\":{\"num_minor_ticks\":5,\"tickers\":[{\"id\":\"2477\"},{\"id\":\"2478\"},{\"id\":\"2479\"},{\"id\":\"2480\"},{\"id\":\"2481\"},{\"id\":\"2482\"},{\"id\":\"2483\"},{\"id\":\"2484\"},{\"id\":\"2485\"},{\"id\":\"2486\"},{\"id\":\"2487\"},{\"id\":\"2488\"}]},\"id\":\"2444\",\"type\":\"DatetimeTicker\"},{\"attributes\":{\"data\":{\"confirmed_cases\":{\"__ndarray__\":\"AAAAAAAA+H8AAAAAAAAAAAAAAAAAAAAAVVVVVVVV1T8AAAAAAADQP5qZmZmZmck/VVVVVVVV1T+3bdu2bdvmP9u2bdu2bes/kiRJkiRJAkDbtm3btm0DQG7btm3btgVAJUmSJEmSDEAlSZIkSZIUQAAAAAAAABRAJUmSJEmSGEBJkiRJkiQZQEmSJEmSJB1AAAAAAAAAIEBu27Zt27YdQEmSJEmSJBlAAAAAAAAAGECSJEmSJEkaQJIkSZIkSRZAkiRJkiRJEkBu27Zt27YNQCVJkiRJkhBAJUmSJEmSEEDbtm3btm0TQCVJkiRJkgxA27Zt27ZtE0CSJEmSJEkSQG7btm3bthVAJUmSJEmSGEAlSZIkSZIgQJIkSZIkSSRA27Zt27ZtJ0BJkiRJkiQlQJIkSZIkSShASZIkSZIkJ0Dbtm3btm0lQJIkSZIkSSJAkiRJkiRJGkBu27Zt27YVQEmSJEmSJBlASZIkSZIkFUBu27Zt27YVQEmSJEmSJBlAAAAAAAAAHEC3bdu2bdseQCVJkiRJkhxAt23btm3bGkC3bdu2bdsaQEmSJEmSJBlASZIkSZIkGUAAAAAAAAAUQNu2bdu2bRdAbtu2bdu2FUAlSZIkSZIYQAAAAAAAABhAkiRJkiRJGkAAAAAAAAAYQG7btm3bthVA27Zt27ZtE0CSJEmSJEkWQAAAAAAAABBAbtu2bdu2DUBJkiRJkiQRQNu2bdu2bRNASZIkSZIkFUBu27Zt27YRQLdt27Zt2w5AJUmSJEmSEEBu27Zt27YRQNu2bdu2bQtASZIkSZIkAUDbtm3btm37PwAAAAAAAABAbtu2bdu2/T+3bdu2bdv2P5IkSZIkSQJASZIkSZIkAUBu27Zt27YFQAAAAAAAAAhA\",\"dtype\":\"float64\",\"shape\":[84]},\"date\":{\"__ndarray__\":\"AAAAbwEPd0IAAMDUUw93QgAAgDqmD3dCAABAoPgPd0IAAAAGSxB3QgAAwGudEHdCAACA0e8Qd0IAAEA3QhF3QgAAAJ2UEXdCAADAAucRd0IAAIBoORJ3QgAAQM6LEndCAAAANN4Sd0IAAMCZMBN3QgAAgP+CE3dCAABAZdUTd0IAAADLJxR3QgAAwDB6FHdCAACAlswUd0IAAED8HhV3QgAAAGJxFXdCAADAx8MVd0IAAIAtFhZ3QgAAQJNoFndCAAAA+boWd0IAAMBeDRd3QgAAgMRfF3dCAABAKrIXd0IAAACQBBh3QgAAwPVWGHdCAACAW6kYd0IAAEDB+xh3QgAAACdOGXdCAADAjKAZd0IAAIDy8hl3QgAAQFhFGndCAAAAvpcad0IAAMAj6hp3QgAAgIk8G3dCAABA744bd0IAAABV4Rt3QgAAwLozHHdCAACAIIYcd0IAAECG2Bx3QgAAAOwqHXdCAADAUX0dd0IAAIC3zx13QgAAQB0iHndCAAAAg3Qed0IAAMDoxh53QgAAgE4ZH3dCAABAtGsfd0IAAAAavh93QgAAwH8QIHdCAACA5WIgd0IAAEBLtSB3QgAAALEHIXdCAADAFlohd0IAAIB8rCF3QgAAQOL+IXdCAAAASFEid0IAAMCtoyJ3QgAAgBP2IndCAABAeUgjd0IAAADfmiN3QgAAwETtI3dCAACAqj8kd0IAAEAQkiR3QgAAAHbkJHdCAADA2zYld0IAAIBBiSV3QgAAQKfbJXdCAAAADS4md0IAAMBygCZ3QgAAgNjSJndCAABAPiUnd0IAAACkdyd3QgAAwAnKJ3dCAACAbxwod0IAAEDVbih3QgAAADvBKHdCAADAoBMpd0IAAIAGZil3QgAAQGy4KXdC\",\"dtype\":\"float64\",\"shape\":[84]},\"index\":[0,1,2,3,4,5,6,7,8,9,10,11,12,13,14,15,16,17,18,19,20,21,22,23,24,25,26,27,28,29,30,31,32,33,34,35,36,37,38,39,40,41,42,43,44,45,46,47,48,49,50,51,52,53,54,55,56,57,58,59,60,61,62,63,64,65,66,67,68,69,70,71,72,73,74,75,76,77,78,79,80,81,82,83]},\"selected\":{\"id\":\"2543\"},\"selection_policy\":{\"id\":\"2544\"}},\"id\":\"2466\",\"type\":\"ColumnDataSource\"},{\"attributes\":{\"overlay\":{\"id\":\"2457\"}},\"id\":\"2453\",\"type\":\"BoxZoomTool\"},{\"attributes\":{\"data_source\":{\"id\":\"2465\"},\"glyph\":{\"id\":\"2468\"},\"hover_glyph\":null,\"muted_glyph\":null,\"nonselection_glyph\":{\"id\":\"2469\"},\"selection_glyph\":null,\"view\":{\"id\":\"2471\"}},\"id\":\"2470\",\"type\":\"GlyphRenderer\"},{\"attributes\":{\"fill_alpha\":{\"value\":0.8},\"fill_color\":{\"value\":\"green\"},\"line_alpha\":{\"value\":0.8},\"line_color\":{\"value\":\"green\"},\"top\":{\"field\":\"confirmed_cases\"},\"width\":{\"value\":0.4},\"x\":{\"field\":\"date\"}},\"id\":\"2468\",\"type\":\"VBar\"},{\"attributes\":{},\"id\":\"2515\",\"type\":\"UnionRenderers\"},{\"attributes\":{\"label\":{\"value\":\"7-day rolling avg (Burbank)\"},\"renderers\":[{\"id\":\"2495\"}]},\"id\":\"2517\",\"type\":\"LegendItem\"},{\"attributes\":{},\"id\":\"2476\",\"type\":\"BasicTickFormatter\"},{\"attributes\":{},\"id\":\"2452\",\"type\":\"WheelZoomTool\"},{\"attributes\":{\"days\":[1,15]},\"id\":\"2483\",\"type\":\"DaysTicker\"},{\"attributes\":{},\"id\":\"2454\",\"type\":\"SaveTool\"},{\"attributes\":{\"mantissas\":[1,2,5],\"max_interval\":500.0,\"num_minor_ticks\":0},\"id\":\"2477\",\"type\":\"AdaptiveTicker\"},{\"attributes\":{},\"id\":\"2441\",\"type\":\"LinearScale\"},{\"attributes\":{},\"id\":\"2451\",\"type\":\"PanTool\"},{\"attributes\":{\"base\":60,\"mantissas\":[1,2,5,10,15,20,30],\"max_interval\":1800000.0,\"min_interval\":1000.0,\"num_minor_ticks\":0},\"id\":\"2478\",\"type\":\"AdaptiveTicker\"},{\"attributes\":{\"data_source\":{\"id\":\"2518\"},\"glyph\":{\"id\":\"2520\"},\"hover_glyph\":null,\"muted_glyph\":null,\"nonselection_glyph\":{\"id\":\"2521\"},\"selection_glyph\":null,\"view\":{\"id\":\"2523\"}},\"id\":\"2522\",\"type\":\"GlyphRenderer\"},{\"attributes\":{\"base\":24,\"mantissas\":[1,2,4,6,8,12],\"max_interval\":43200000.0,\"min_interval\":3600000.0,\"num_minor_ticks\":0},\"id\":\"2479\",\"type\":\"AdaptiveTicker\"},{\"attributes\":{\"months\":[0,1,2,3,4,5,6,7,8,9,10,11]},\"id\":\"2484\",\"type\":\"MonthsTicker\"},{\"attributes\":{\"line_alpha\":0.1,\"line_color\":\"red\",\"line_width\":5,\"x\":{\"field\":\"date\"},\"y\":{\"field\":\"confirmed_cases\"}},\"id\":\"2521\",\"type\":\"Line\"},{\"attributes\":{\"days\":[1,2,3,4,5,6,7,8,9,10,11,12,13,14,15,16,17,18,19,20,21,22,23,24,25,26,27,28,29,30,31]},\"id\":\"2480\",\"type\":\"DaysTicker\"},{\"attributes\":{\"active_drag\":\"auto\",\"active_inspect\":\"auto\",\"active_multi\":null,\"active_scroll\":\"auto\",\"active_tap\":\"auto\",\"tools\":[{\"id\":\"2451\"},{\"id\":\"2452\"},{\"id\":\"2453\"},{\"id\":\"2454\"},{\"id\":\"2455\"},{\"id\":\"2456\"}]},\"id\":\"2458\",\"type\":\"Toolbar\"},{\"attributes\":{},\"id\":\"2543\",\"type\":\"Selection\"},{\"attributes\":{\"days\":[1,4,7,10,13,16,19,22,25,28]},\"id\":\"2481\",\"type\":\"DaysTicker\"},{\"attributes\":{\"data\":{\"confirmed_cases\":{\"__ndarray__\":\"AAAAAAAA+H8AAAAAAADwPwAAAAAAAPA/VVVVVVVV9T8AAAAAAADwP5qZmZmZmek/VVVVVVVV9T8lSZIkSZL0PyVJkiRJkvQ/27Zt27Zt+z9u27Zt27b9PwAAAAAAAAhAJUmSJEmSDEAlSZIkSZIMQCVJkiRJkhBA27Zt27ZtE0AAAAAAAAAYQAAAAAAAABxASZIkSZIkIUDbtm3btm0hQAAAAAAAACBAt23btm3bIEAlSZIkSZIgQJIkSZIkSRpAkiRJkiRJGkC3bdu2bdsSQEmSJEmSJBFASZIkSZIkFUC3bdu2bdsWQAAAAAAAABhAbtu2bdu2GUC3bdu2bdsWQCVJkiRJkhhAJUmSJEmSGECSJEmSJEkgQG7btm3btiFASZIkSZIkJ0AAAAAAAAAqQJIkSZIkSS5AAAAAAAAAMEAAAAAAAAAxQAAAAAAAADJAkiRJkiRJMEBJkiRJkiQvQNu2bdu2bStAbtu2bdu2L0C3bdu2bdsuQEmSJEmSJC9ASZIkSZIkKUBu27Zt27YwQNu2bdu2bS9At23btm3bMUAlSZIkSZIqQLdt27Zt2ypA27Zt27ZtKUAAAAAAAAAqQAAAAAAAACRAJUmSJEmSJEAAAAAAAAAkQEmSJEmSJCNAJUmSJEmSJkCSJEmSJEkmQG7btm3btiVAt23btm3bIkAlSZIkSZIcQAAAAAAAACBA27Zt27ZtIUC3bdu2bdseQG7btm3btiFA27Zt27ZtIUCSJEmSJEkoQCVJkiRJkipAbtu2bdu2J0BJkiRJkiQrQG7btm3btitAbtu2bdu2LUC3bdu2bdsuQJIkSZIkSSxAbtu2bdu2LUBJkiRJkiQtQLdt27Zt2ypAt23btm3bJkCSJEmSJEkmQLdt27Zt2yZAkiRJkiRJJkBJkiRJkiQnQA==\",\"dtype\":\"float64\",\"shape\":[86]},\"date\":{\"__ndarray__\":\"AACAo1wOd0IAAEAJrw53QgAAAG8BD3dCAADA1FMPd0IAAIA6pg93QgAAQKD4D3dCAAAABksQd0IAAMBrnRB3QgAAgNHvEHdCAABAN0IRd0IAAACdlBF3QgAAwALnEXdCAACAaDkSd0IAAEDOixJ3QgAAADTeEndCAADAmTATd0IAAID/ghN3QgAAQGXVE3dCAAAAyycUd0IAAMAwehR3QgAAgJbMFHdCAABA/B4Vd0IAAABicRV3QgAAwMfDFXdCAACALRYWd0IAAECTaBZ3QgAAAPm6FndCAADAXg0Xd0IAAIDEXxd3QgAAQCqyF3dCAAAAkAQYd0IAAMD1Vhh3QgAAgFupGHdCAABAwfsYd0IAAAAnThl3QgAAwIygGXdCAACA8vIZd0IAAEBYRRp3QgAAAL6XGndCAADAI+oad0IAAICJPBt3QgAAQO+OG3dCAAAAVeEbd0IAAMC6Mxx3QgAAgCCGHHdCAABAhtgcd0IAAADsKh13QgAAwFF9HXdCAACAt88dd0IAAEAdIh53QgAAAIN0HndCAADA6MYed0IAAIBOGR93QgAAQLRrH3dCAAAAGr4fd0IAAMB/ECB3QgAAgOViIHdCAABAS7Ugd0IAAACxByF3QgAAwBZaIXdCAACAfKwhd0IAAEDi/iF3QgAAAEhRIndCAADAraMid0IAAIAT9iJ3QgAAQHlII3dCAAAA35ojd0IAAMBE7SN3QgAAgKo/JHdCAABAEJIkd0IAAAB25CR3QgAAwNs2JXdCAACAQYkld0IAAECn2yV3QgAAAA0uJndCAADAcoAmd0IAAIDY0iZ3QgAAQD4lJ3dCAAAApHcnd0IAAMAJyid3QgAAgG8cKHdCAABA1W4od0IAAAA7wSh3QgAAwKATKXdCAACABmYpd0IAAEBsuCl3Qg==\",\"dtype\":\"float64\",\"shape\":[86]},\"index\":[0,1,2,3,4,5,6,7,8,9,10,11,12,13,14,15,16,17,18,19,20,21,22,23,24,25,26,27,28,29,30,31,32,33,34,35,36,37,38,39,40,41,42,43,44,45,46,47,48,49,50,51,52,53,54,55,56,57,58,59,60,61,62,63,64,65,66,67,68,69,70,71,72,73,74,75,76,77,78,79,80,81,82,83,84,85]},\"selected\":{\"id\":\"2678\"},\"selection_policy\":{\"id\":\"2679\"}},\"id\":\"2518\",\"type\":\"ColumnDataSource\"},{\"attributes\":{\"formatter\":{\"id\":\"2474\"},\"ticker\":{\"id\":\"2444\"}},\"id\":\"2443\",\"type\":\"DatetimeAxis\"},{\"attributes\":{\"line_alpha\":0.2,\"line_color\":\"red\",\"line_width\":5,\"x\":{\"field\":\"date\"},\"y\":{\"field\":\"confirmed_cases\"}},\"id\":\"2520\",\"type\":\"Line\"},{\"attributes\":{},\"id\":\"2455\",\"type\":\"ResetTool\"},{\"attributes\":{\"source\":{\"id\":\"2518\"}},\"id\":\"2523\",\"type\":\"CDSView\"},{\"attributes\":{},\"id\":\"2456\",\"type\":\"HelpTool\"},{\"attributes\":{\"days\":[1,8,15,22]},\"id\":\"2482\",\"type\":\"DaysTicker\"},{\"attributes\":{\"months\":[0,6]},\"id\":\"2487\",\"type\":\"MonthsTicker\"},{\"attributes\":{},\"id\":\"2488\",\"type\":\"YearsTicker\"},{\"attributes\":{},\"id\":\"2544\",\"type\":\"UnionRenderers\"}],\"root_ids\":[\"2432\"]},\"title\":\"Bokeh Application\",\"version\":\"2.0.2\"}};\n",
       "  var render_items = [{\"docid\":\"1cf9d4a2-8d12-4d2a-88ea-d3077545a884\",\"root_ids\":[\"2432\"],\"roots\":{\"2432\":\"b860bb81-97b4-4b27-b117-83bd8c78a3d8\"}}];\n",
       "  root.Bokeh.embed.embed_items_notebook(docs_json, render_items);\n",
       "\n",
       "  }\n",
       "  if (root.Bokeh !== undefined) {\n",
       "    embed_document(root);\n",
       "  } else {\n",
       "    var attempts = 0;\n",
       "    var timer = setInterval(function(root) {\n",
       "      if (root.Bokeh !== undefined) {\n",
       "        clearInterval(timer);\n",
       "        embed_document(root);\n",
       "      } else {\n",
       "        attempts++;\n",
       "        if (attempts > 100) {\n",
       "          clearInterval(timer);\n",
       "          console.log(\"Bokeh: ERROR: Unable to run BokehJS code because BokehJS library is missing\");\n",
       "        }\n",
       "      }\n",
       "    }, 10, root)\n",
       "  }\n",
       "})(window);"
      ],
      "application/vnd.bokehjs_exec.v0+json": ""
     },
     "metadata": {
      "application/vnd.bokehjs_exec.v0+json": {
       "id": "2432"
      }
     },
     "output_type": "display_data"
    },
    {
     "data": {
      "text/html": [
       "\n",
       "\n",
       "\n",
       "\n",
       "\n",
       "\n",
       "  <div class=\"bk-root\" id=\"1980f9cf-772f-43f7-b637-ac3173861196\" data-root-id=\"2825\"></div>\n"
      ]
     },
     "metadata": {},
     "output_type": "display_data"
    },
    {
     "data": {
      "application/javascript": [
       "(function(root) {\n",
       "  function embed_document(root) {\n",
       "    \n",
       "  var docs_json = {\"91136937-9473-4cf8-868f-52317152235f\":{\"roots\":{\"references\":[{\"attributes\":{\"below\":[{\"id\":\"2836\"}],\"center\":[{\"id\":\"2839\"},{\"id\":\"2843\"},{\"id\":\"2883\"}],\"left\":[{\"id\":\"2840\"}],\"plot_height\":400,\"plot_width\":1000,\"renderers\":[{\"id\":\"2863\"},{\"id\":\"2888\"},{\"id\":\"2915\"}],\"title\":{\"id\":\"2826\"},\"toolbar\":{\"id\":\"2851\"},\"x_range\":{\"id\":\"2828\"},\"x_scale\":{\"id\":\"2832\"},\"y_range\":{\"id\":\"2830\"},\"y_scale\":{\"id\":\"2834\"}},\"id\":\"2825\",\"subtype\":\"Figure\",\"type\":\"Plot\"},{\"attributes\":{},\"id\":\"2828\",\"type\":\"DataRange1d\"},{\"attributes\":{\"source\":{\"id\":\"2911\"}},\"id\":\"2916\",\"type\":\"CDSView\"},{\"attributes\":{\"days\":[1,2,3,4,5,6,7,8,9,10,11,12,13,14,15,16,17,18,19,20,21,22,23,24,25,26,27,28,29,30,31]},\"id\":\"2873\",\"type\":\"DaysTicker\"},{\"attributes\":{\"line_alpha\":0.2,\"line_color\":\"red\",\"line_width\":5,\"x\":{\"field\":\"date\"},\"y\":{\"field\":\"confirmed_cases\"}},\"id\":\"2913\",\"type\":\"Line\"},{\"attributes\":{\"active_drag\":\"auto\",\"active_inspect\":\"auto\",\"active_multi\":null,\"active_scroll\":\"auto\",\"active_tap\":\"auto\",\"tools\":[{\"id\":\"2844\"},{\"id\":\"2845\"},{\"id\":\"2846\"},{\"id\":\"2847\"},{\"id\":\"2848\"},{\"id\":\"2849\"}]},\"id\":\"2851\",\"type\":\"Toolbar\"},{\"attributes\":{},\"id\":\"2936\",\"type\":\"Selection\"},{\"attributes\":{\"days\":[1,4,7,10,13,16,19,22,25,28]},\"id\":\"2874\",\"type\":\"DaysTicker\"},{\"attributes\":{},\"id\":\"2830\",\"type\":\"DataRange1d\"},{\"attributes\":{\"line_alpha\":0.1,\"line_color\":\"red\",\"line_width\":5,\"x\":{\"field\":\"date\"},\"y\":{\"field\":\"confirmed_cases\"}},\"id\":\"2914\",\"type\":\"Line\"},{\"attributes\":{\"base\":60,\"mantissas\":[1,2,5,10,15,20,30],\"max_interval\":1800000.0,\"min_interval\":1000.0,\"num_minor_ticks\":0},\"id\":\"2871\",\"type\":\"AdaptiveTicker\"},{\"attributes\":{\"days\":[1,8,15,22]},\"id\":\"2875\",\"type\":\"DaysTicker\"},{\"attributes\":{},\"id\":\"2845\",\"type\":\"WheelZoomTool\"},{\"attributes\":{\"mantissas\":[1,2,5],\"max_interval\":500.0,\"num_minor_ticks\":0},\"id\":\"2870\",\"type\":\"AdaptiveTicker\"},{\"attributes\":{\"days\":[1,15]},\"id\":\"2876\",\"type\":\"DaysTicker\"},{\"attributes\":{\"overlay\":{\"id\":\"2850\"}},\"id\":\"2846\",\"type\":\"BoxZoomTool\"},{\"attributes\":{},\"id\":\"2937\",\"type\":\"UnionRenderers\"},{\"attributes\":{\"label\":{\"value\":\"7-day rolling avg (NoHo)\"},\"renderers\":[{\"id\":\"2915\"}]},\"id\":\"2939\",\"type\":\"LegendItem\"},{\"attributes\":{\"months\":[0,1,2,3,4,5,6,7,8,9,10,11]},\"id\":\"2877\",\"type\":\"MonthsTicker\"},{\"attributes\":{},\"id\":\"2844\",\"type\":\"PanTool\"},{\"attributes\":{\"text\":\"Daily new cases --Encino\"},\"id\":\"2826\",\"type\":\"Title\"},{\"attributes\":{},\"id\":\"2847\",\"type\":\"SaveTool\"},{\"attributes\":{\"months\":[0,2,4,6,8,10]},\"id\":\"2878\",\"type\":\"MonthsTicker\"},{\"attributes\":{},\"id\":\"2849\",\"type\":\"HelpTool\"},{\"attributes\":{},\"id\":\"3095\",\"type\":\"Selection\"},{\"attributes\":{\"data\":{\"confirmed_cases\":{\"__ndarray__\":\"AAAAAAAA+H8AAAAAAADwPwAAAAAAAPA/VVVVVVVV9T8AAAAAAADwP5qZmZmZmek/VVVVVVVV9T8lSZIkSZL0PyVJkiRJkvQ/27Zt27Zt+z9u27Zt27b9PwAAAAAAAAhAJUmSJEmSDEAlSZIkSZIMQCVJkiRJkhBA27Zt27ZtE0AAAAAAAAAYQAAAAAAAABxASZIkSZIkIUDbtm3btm0hQAAAAAAAACBAt23btm3bIEAlSZIkSZIgQJIkSZIkSRpAkiRJkiRJGkC3bdu2bdsSQEmSJEmSJBFASZIkSZIkFUC3bdu2bdsWQAAAAAAAABhAbtu2bdu2GUC3bdu2bdsWQCVJkiRJkhhAJUmSJEmSGECSJEmSJEkgQG7btm3btiFASZIkSZIkJ0AAAAAAAAAqQJIkSZIkSS5AAAAAAAAAMEAAAAAAAAAxQAAAAAAAADJAkiRJkiRJMEBJkiRJkiQvQNu2bdu2bStAbtu2bdu2L0C3bdu2bdsuQEmSJEmSJC9ASZIkSZIkKUBu27Zt27YwQNu2bdu2bS9At23btm3bMUAlSZIkSZIqQLdt27Zt2ypA27Zt27ZtKUAAAAAAAAAqQAAAAAAAACRAJUmSJEmSJEAAAAAAAAAkQEmSJEmSJCNAJUmSJEmSJkCSJEmSJEkmQG7btm3btiVAt23btm3bIkAlSZIkSZIcQAAAAAAAACBA27Zt27ZtIUC3bdu2bdseQG7btm3btiFA27Zt27ZtIUCSJEmSJEkoQCVJkiRJkipAbtu2bdu2J0BJkiRJkiQrQG7btm3btitAbtu2bdu2LUC3bdu2bdsuQJIkSZIkSSxAbtu2bdu2LUBJkiRJkiQtQLdt27Zt2ypAt23btm3bJkCSJEmSJEkmQLdt27Zt2yZAkiRJkiRJJkBJkiRJkiQnQA==\",\"dtype\":\"float64\",\"shape\":[86]},\"date\":{\"__ndarray__\":\"AACAo1wOd0IAAEAJrw53QgAAAG8BD3dCAADA1FMPd0IAAIA6pg93QgAAQKD4D3dCAAAABksQd0IAAMBrnRB3QgAAgNHvEHdCAABAN0IRd0IAAACdlBF3QgAAwALnEXdCAACAaDkSd0IAAEDOixJ3QgAAADTeEndCAADAmTATd0IAAID/ghN3QgAAQGXVE3dCAAAAyycUd0IAAMAwehR3QgAAgJbMFHdCAABA/B4Vd0IAAABicRV3QgAAwMfDFXdCAACALRYWd0IAAECTaBZ3QgAAAPm6FndCAADAXg0Xd0IAAIDEXxd3QgAAQCqyF3dCAAAAkAQYd0IAAMD1Vhh3QgAAgFupGHdCAABAwfsYd0IAAAAnThl3QgAAwIygGXdCAACA8vIZd0IAAEBYRRp3QgAAAL6XGndCAADAI+oad0IAAICJPBt3QgAAQO+OG3dCAAAAVeEbd0IAAMC6Mxx3QgAAgCCGHHdCAABAhtgcd0IAAADsKh13QgAAwFF9HXdCAACAt88dd0IAAEAdIh53QgAAAIN0HndCAADA6MYed0IAAIBOGR93QgAAQLRrH3dCAAAAGr4fd0IAAMB/ECB3QgAAgOViIHdCAABAS7Ugd0IAAACxByF3QgAAwBZaIXdCAACAfKwhd0IAAEDi/iF3QgAAAEhRIndCAADAraMid0IAAIAT9iJ3QgAAQHlII3dCAAAA35ojd0IAAMBE7SN3QgAAgKo/JHdCAABAEJIkd0IAAAB25CR3QgAAwNs2JXdCAACAQYkld0IAAECn2yV3QgAAAA0uJndCAADAcoAmd0IAAIDY0iZ3QgAAQD4lJ3dCAAAApHcnd0IAAMAJyid3QgAAgG8cKHdCAABA1W4od0IAAAA7wSh3QgAAwKATKXdCAACABmYpd0IAAEBsuCl3Qg==\",\"dtype\":\"float64\",\"shape\":[86]},\"index\":[0,1,2,3,4,5,6,7,8,9,10,11,12,13,14,15,16,17,18,19,20,21,22,23,24,25,26,27,28,29,30,31,32,33,34,35,36,37,38,39,40,41,42,43,44,45,46,47,48,49,50,51,52,53,54,55,56,57,58,59,60,61,62,63,64,65,66,67,68,69,70,71,72,73,74,75,76,77,78,79,80,81,82,83,84,85]},\"selected\":{\"id\":\"3095\"},\"selection_policy\":{\"id\":\"3096\"}},\"id\":\"2911\",\"type\":\"ColumnDataSource\"},{\"attributes\":{\"source\":{\"id\":\"2858\"}},\"id\":\"2864\",\"type\":\"CDSView\"},{\"attributes\":{\"data_source\":{\"id\":\"2911\"},\"glyph\":{\"id\":\"2913\"},\"hover_glyph\":null,\"muted_glyph\":null,\"nonselection_glyph\":{\"id\":\"2914\"},\"selection_glyph\":null,\"view\":{\"id\":\"2916\"}},\"id\":\"2915\",\"type\":\"GlyphRenderer\"},{\"attributes\":{},\"id\":\"2848\",\"type\":\"ResetTool\"},{\"attributes\":{\"months\":[0,4,8]},\"id\":\"2879\",\"type\":\"MonthsTicker\"},{\"attributes\":{},\"id\":\"3096\",\"type\":\"UnionRenderers\"},{\"attributes\":{\"data\":{\"confirmed_cases\":{\"__ndarray__\":\"AAAAAAAA+H8AAAAAAAAAQAAAAAAAAPg/AAAAAAAA8D8AAAAAAAD0P2ZmZmZmZvY/q6qqqqqq8j8AAAAAAADwPwAAAAAAAPA/AAAAAAAA8D9JkiRJkiQBQEmSJEmSJAFAkiRJkiRJAkDbtm3btm0DQG7btm3btgVAJUmSJEmSBEBu27Zt27YFQNu2bdu2bfs/27Zt27Zt+z9u27Zt27b9P9u2bdu2bfs/27Zt27Zt+z9JkiRJkiT5P9u2bdu2bfs/SZIkSZIk+T8AAAAAAAAAQLdt27Zt2/Y/27Zt27Zt+z9JkiRJkiT5P9u2bdu2bfs/27Zt27Zt+z/btm3btm37P7dt27Zt2/Y/SZIkSZIk+T8lSZIkSZL0P0mSJEmSJPk/t23btm3bBkDbtm3btm0DQNu2bdu2bQNA27Zt27ZtA0CSJEmSJEkCQJIkSZIkSQJAkiRJkiRJAkCSJEmSJEnyPyVJkiRJkvQ/JUmSJEmS9D8lSZIkSZL0P7dt27Zt2/Y/27Zt27Zt+z+3bdu2bdv2P27btm3btv0/27Zt27Zt+z9JkiRJkiQBQG7btm3btv0/kiRJkiRJAkAAAAAAAAAAQG7btm3btv0/JUmSJEmS9D9u27Zt27b9P9u2bdu2bfs/SZIkSZIk+T+3bdu2bdv2P0mSJEmSJPk/AAAAAAAAAEBu27Zt27b9PyVJkiRJkvQ/kiRJkiRJ8j8lSZIkSZL0P9u2bdu2bes/t23btm3b5j/btm3btm3bP9u2bdu2bes/27Zt27Zt6z8lSZIkSZL0PyVJkiRJkvQ/btu2bdu2/T8AAAAAAAAAQG7btm3btv0/btu2bdu2/T+SJEmSJEkCQEmSJEmSJAFAJUmSJEmSBEAAAAAAAAAAQAAAAAAAAABAkiRJkiRJAkDbtm3btm0DQEmSJEmSJAFA\",\"dtype\":\"float64\",\"shape\":[87]},\"date\":{\"__ndarray__\":\"AADAPQoOd0IAAICjXA53QgAAQAmvDndCAAAAbwEPd0IAAMDUUw93QgAAgDqmD3dCAABAoPgPd0IAAAAGSxB3QgAAwGudEHdCAACA0e8Qd0IAAEA3QhF3QgAAAJ2UEXdCAADAAucRd0IAAIBoORJ3QgAAQM6LEndCAAAANN4Sd0IAAMCZMBN3QgAAgP+CE3dCAABAZdUTd0IAAADLJxR3QgAAwDB6FHdCAACAlswUd0IAAED8HhV3QgAAAGJxFXdCAADAx8MVd0IAAIAtFhZ3QgAAQJNoFndCAAAA+boWd0IAAMBeDRd3QgAAgMRfF3dCAABAKrIXd0IAAACQBBh3QgAAwPVWGHdCAACAW6kYd0IAAEDB+xh3QgAAACdOGXdCAADAjKAZd0IAAIDy8hl3QgAAQFhFGndCAAAAvpcad0IAAMAj6hp3QgAAgIk8G3dCAABA744bd0IAAABV4Rt3QgAAwLozHHdCAACAIIYcd0IAAECG2Bx3QgAAAOwqHXdCAADAUX0dd0IAAIC3zx13QgAAQB0iHndCAAAAg3Qed0IAAMDoxh53QgAAgE4ZH3dCAABAtGsfd0IAAAAavh93QgAAwH8QIHdCAACA5WIgd0IAAEBLtSB3QgAAALEHIXdCAADAFlohd0IAAIB8rCF3QgAAQOL+IXdCAAAASFEid0IAAMCtoyJ3QgAAgBP2IndCAABAeUgjd0IAAADfmiN3QgAAwETtI3dCAACAqj8kd0IAAEAQkiR3QgAAAHbkJHdCAADA2zYld0IAAIBBiSV3QgAAQKfbJXdCAAAADS4md0IAAMBygCZ3QgAAgNjSJndCAABAPiUnd0IAAACkdyd3QgAAwAnKJ3dCAACAbxwod0IAAEDVbih3QgAAADvBKHdCAADAoBMpd0IAAIAGZil3QgAAQGy4KXdC\",\"dtype\":\"float64\",\"shape\":[87]},\"index\":[0,1,2,3,4,5,6,7,8,9,10,11,12,13,14,15,16,17,18,19,20,21,22,23,24,25,26,27,28,29,30,31,32,33,34,35,36,37,38,39,40,41,42,43,44,45,46,47,48,49,50,51,52,53,54,55,56,57,58,59,60,61,62,63,64,65,66,67,68,69,70,71,72,73,74,75,76,77,78,79,80,81,82,83,84,85,86]},\"selected\":{\"id\":\"2936\"},\"selection_policy\":{\"id\":\"2937\"}},\"id\":\"2859\",\"type\":\"ColumnDataSource\"},{\"attributes\":{},\"id\":\"2869\",\"type\":\"BasicTickFormatter\"},{\"attributes\":{\"months\":[0,6]},\"id\":\"2880\",\"type\":\"MonthsTicker\"},{\"attributes\":{\"data_source\":{\"id\":\"2858\"},\"glyph\":{\"id\":\"2861\"},\"hover_glyph\":null,\"muted_glyph\":null,\"nonselection_glyph\":{\"id\":\"2862\"},\"selection_glyph\":null,\"view\":{\"id\":\"2864\"}},\"id\":\"2863\",\"type\":\"GlyphRenderer\"},{\"attributes\":{},\"id\":\"2881\",\"type\":\"YearsTicker\"},{\"attributes\":{\"axis\":{\"id\":\"2840\"},\"dimension\":1,\"ticker\":null},\"id\":\"2843\",\"type\":\"Grid\"},{\"attributes\":{\"line_alpha\":0.3,\"line_color\":\"navy\",\"line_width\":5,\"x\":{\"field\":\"date\"},\"y\":{\"field\":\"confirmed_cases\"}},\"id\":\"2886\",\"type\":\"Line\"},{\"attributes\":{\"items\":[{\"id\":\"2884\"},{\"id\":\"2910\"},{\"id\":\"2939\"}]},\"id\":\"2883\",\"type\":\"Legend\"},{\"attributes\":{\"num_minor_ticks\":5,\"tickers\":[{\"id\":\"2870\"},{\"id\":\"2871\"},{\"id\":\"2872\"},{\"id\":\"2873\"},{\"id\":\"2874\"},{\"id\":\"2875\"},{\"id\":\"2876\"},{\"id\":\"2877\"},{\"id\":\"2878\"},{\"id\":\"2879\"},{\"id\":\"2880\"},{\"id\":\"2881\"}]},\"id\":\"2837\",\"type\":\"DatetimeTicker\"},{\"attributes\":{\"data\":{\"confirmed_cases\":{\"__ndarray__\":\"AAAAAAAA+H8AAAAAAAAAQAAAAAAAAPA/AAAAAAAAAAAAAAAAAAAAQAAAAAAAAABAAAAAAAAAAAAAAAAAAAAAAAAAAAAAAABAAAAAAAAA8D8AAAAAAAAgQAAAAAAAAABAAAAAAAAACEAAAAAAAADwPwAAAAAAAABAAAAAAAAA8D8AAAAAAAAAQAAAAAAAAPA/AAAAAAAAAEAAAAAAAAAQQAAAAAAAAAAAAAAAAAAAAEAAAAAAAAAAAAAAAAAAAAhAAAAAAAAAAAAAAAAAAAAUQAAAAAAAAAAAAAAAAAAAAEAAAAAAAADwPwAAAAAAAPA/AAAAAAAACEAAAAAAAAAAAAAAAAAAAAhAAAAAAAAA8D8AAAAAAAAAAAAAAAAAAAhAAAAAAAAAJEAAAAAAAAAAAAAAAAAAAAAAAAAAAAAACEAAAAAAAAAAAAAAAAAAAAAAAAAAAAAACEAAAAAAAAAAQAAAAAAAAPA/AAAAAAAAAAAAAAAAAAAIQAAAAAAAAPA/AAAAAAAAAEAAAAAAAADwPwAAAAAAABRAAAAAAAAAAAAAAAAAAAAIQAAAAAAAAPA/AAAAAAAAEEAAAAAAAAAAAAAAAAAAAAAAAAAAAAAA8D8AAAAAAAAQQAAAAAAAAABAAAAAAAAAAAAAAAAAAAAIQAAAAAAAAPA/AAAAAAAACEAAAAAAAAAAAAAAAAAAAAAAAAAAAAAA8D8AAAAAAADwPwAAAAAAAAAAAAAAAAAAAAAAAAAAAADwPwAAAAAAAAhAAAAAAAAAAAAAAAAAAAAQQAAAAAAAAPA/AAAAAAAAEEAAAAAAAADwPwAAAAAAAAAAAAAAAAAACEAAAAAAAAAIQAAAAAAAAAhAAAAAAAAAEEAAAAAAAAAAAAAAAAAAAPA/AAAAAAAAAEAAAAAAAAAQQAAAAAAAAPA/\",\"dtype\":\"float64\",\"shape\":[87]},\"date\":{\"__ndarray__\":\"AADAPQoOd0IAAICjXA53QgAAQAmvDndCAAAAbwEPd0IAAMDUUw93QgAAgDqmD3dCAABAoPgPd0IAAAAGSxB3QgAAwGudEHdCAACA0e8Qd0IAAEA3QhF3QgAAAJ2UEXdCAADAAucRd0IAAIBoORJ3QgAAQM6LEndCAAAANN4Sd0IAAMCZMBN3QgAAgP+CE3dCAABAZdUTd0IAAADLJxR3QgAAwDB6FHdCAACAlswUd0IAAED8HhV3QgAAAGJxFXdCAADAx8MVd0IAAIAtFhZ3QgAAQJNoFndCAAAA+boWd0IAAMBeDRd3QgAAgMRfF3dCAABAKrIXd0IAAACQBBh3QgAAwPVWGHdCAACAW6kYd0IAAEDB+xh3QgAAACdOGXdCAADAjKAZd0IAAIDy8hl3QgAAQFhFGndCAAAAvpcad0IAAMAj6hp3QgAAgIk8G3dCAABA744bd0IAAABV4Rt3QgAAwLozHHdCAACAIIYcd0IAAECG2Bx3QgAAAOwqHXdCAADAUX0dd0IAAIC3zx13QgAAQB0iHndCAAAAg3Qed0IAAMDoxh53QgAAgE4ZH3dCAABAtGsfd0IAAAAavh93QgAAwH8QIHdCAACA5WIgd0IAAEBLtSB3QgAAALEHIXdCAADAFlohd0IAAIB8rCF3QgAAQOL+IXdCAAAASFEid0IAAMCtoyJ3QgAAgBP2IndCAABAeUgjd0IAAADfmiN3QgAAwETtI3dCAACAqj8kd0IAAEAQkiR3QgAAAHbkJHdCAADA2zYld0IAAIBBiSV3QgAAQKfbJXdCAAAADS4md0IAAMBygCZ3QgAAgNjSJndCAABAPiUnd0IAAACkdyd3QgAAwAnKJ3dCAACAbxwod0IAAEDVbih3QgAAADvBKHdCAADAoBMpd0IAAIAGZil3QgAAQGy4KXdC\",\"dtype\":\"float64\",\"shape\":[87]},\"index\":[0,1,2,3,4,5,6,7,8,9,10,11,12,13,14,15,16,17,18,19,20,21,22,23,24,25,26,27,28,29,30,31,32,33,34,35,36,37,38,39,40,41,42,43,44,45,46,47,48,49,50,51,52,53,54,55,56,57,58,59,60,61,62,63,64,65,66,67,68,69,70,71,72,73,74,75,76,77,78,79,80,81,82,83,84,85,86]},\"selected\":{\"id\":\"2907\"},\"selection_policy\":{\"id\":\"2908\"}},\"id\":\"2858\",\"type\":\"ColumnDataSource\"},{\"attributes\":{\"base\":24,\"mantissas\":[1,2,4,6,8,12],\"max_interval\":43200000.0,\"min_interval\":3600000.0,\"num_minor_ticks\":0},\"id\":\"2872\",\"type\":\"AdaptiveTicker\"},{\"attributes\":{\"source\":{\"id\":\"2859\"}},\"id\":\"2889\",\"type\":\"CDSView\"},{\"attributes\":{\"formatter\":{\"id\":\"2869\"},\"ticker\":{\"id\":\"2841\"}},\"id\":\"2840\",\"type\":\"LinearAxis\"},{\"attributes\":{\"label\":{\"value\":\"Daily new cases\"},\"renderers\":[{\"id\":\"2863\"}]},\"id\":\"2884\",\"type\":\"LegendItem\"},{\"attributes\":{\"line_alpha\":0.1,\"line_color\":\"navy\",\"line_width\":5,\"x\":{\"field\":\"date\"},\"y\":{\"field\":\"confirmed_cases\"}},\"id\":\"2887\",\"type\":\"Line\"},{\"attributes\":{},\"id\":\"2841\",\"type\":\"BasicTicker\"},{\"attributes\":{\"data_source\":{\"id\":\"2859\"},\"glyph\":{\"id\":\"2886\"},\"hover_glyph\":null,\"muted_glyph\":null,\"nonselection_glyph\":{\"id\":\"2887\"},\"selection_glyph\":null,\"view\":{\"id\":\"2889\"}},\"id\":\"2888\",\"type\":\"GlyphRenderer\"},{\"attributes\":{},\"id\":\"2867\",\"type\":\"DatetimeTickFormatter\"},{\"attributes\":{},\"id\":\"2907\",\"type\":\"Selection\"},{\"attributes\":{\"bottom_units\":\"screen\",\"fill_alpha\":0.5,\"fill_color\":\"lightgrey\",\"left_units\":\"screen\",\"level\":\"overlay\",\"line_alpha\":1.0,\"line_color\":\"black\",\"line_dash\":[4,4],\"line_width\":2,\"render_mode\":\"css\",\"right_units\":\"screen\",\"top_units\":\"screen\"},\"id\":\"2850\",\"type\":\"BoxAnnotation\"},{\"attributes\":{\"axis\":{\"id\":\"2836\"},\"ticker\":null},\"id\":\"2839\",\"type\":\"Grid\"},{\"attributes\":{},\"id\":\"2908\",\"type\":\"UnionRenderers\"},{\"attributes\":{\"label\":{\"value\":\"7-day rolling avg (Encino)\"},\"renderers\":[{\"id\":\"2888\"}]},\"id\":\"2910\",\"type\":\"LegendItem\"},{\"attributes\":{\"formatter\":{\"id\":\"2867\"},\"ticker\":{\"id\":\"2837\"}},\"id\":\"2836\",\"type\":\"DatetimeAxis\"},{\"attributes\":{\"fill_alpha\":{\"value\":0.1},\"fill_color\":{\"value\":\"green\"},\"line_alpha\":{\"value\":0.1},\"line_color\":{\"value\":\"green\"},\"top\":{\"field\":\"confirmed_cases\"},\"width\":{\"value\":0.4},\"x\":{\"field\":\"date\"}},\"id\":\"2862\",\"type\":\"VBar\"},{\"attributes\":{},\"id\":\"2834\",\"type\":\"LinearScale\"},{\"attributes\":{\"fill_alpha\":{\"value\":0.8},\"fill_color\":{\"value\":\"green\"},\"line_alpha\":{\"value\":0.8},\"line_color\":{\"value\":\"green\"},\"top\":{\"field\":\"confirmed_cases\"},\"width\":{\"value\":0.4},\"x\":{\"field\":\"date\"}},\"id\":\"2861\",\"type\":\"VBar\"},{\"attributes\":{},\"id\":\"2832\",\"type\":\"LinearScale\"}],\"root_ids\":[\"2825\"]},\"title\":\"Bokeh Application\",\"version\":\"2.0.2\"}};\n",
       "  var render_items = [{\"docid\":\"91136937-9473-4cf8-868f-52317152235f\",\"root_ids\":[\"2825\"],\"roots\":{\"2825\":\"1980f9cf-772f-43f7-b637-ac3173861196\"}}];\n",
       "  root.Bokeh.embed.embed_items_notebook(docs_json, render_items);\n",
       "\n",
       "  }\n",
       "  if (root.Bokeh !== undefined) {\n",
       "    embed_document(root);\n",
       "  } else {\n",
       "    var attempts = 0;\n",
       "    var timer = setInterval(function(root) {\n",
       "      if (root.Bokeh !== undefined) {\n",
       "        clearInterval(timer);\n",
       "        embed_document(root);\n",
       "      } else {\n",
       "        attempts++;\n",
       "        if (attempts > 100) {\n",
       "          clearInterval(timer);\n",
       "          console.log(\"Bokeh: ERROR: Unable to run BokehJS code because BokehJS library is missing\");\n",
       "        }\n",
       "      }\n",
       "    }, 10, root)\n",
       "  }\n",
       "})(window);"
      ],
      "application/vnd.bokehjs_exec.v0+json": ""
     },
     "metadata": {
      "application/vnd.bokehjs_exec.v0+json": {
       "id": "2825"
      }
     },
     "output_type": "display_data"
    },
    {
     "data": {
      "text/html": [
       "\n",
       "\n",
       "\n",
       "\n",
       "\n",
       "\n",
       "  <div class=\"bk-root\" id=\"b9de0987-bf05-4cc4-9640-908dc61d9e4e\" data-root-id=\"3242\"></div>\n"
      ]
     },
     "metadata": {},
     "output_type": "display_data"
    },
    {
     "data": {
      "application/javascript": [
       "(function(root) {\n",
       "  function embed_document(root) {\n",
       "    \n",
       "  var docs_json = {\"ef66dd68-f7ea-4afe-82ce-0b082c425dd9\":{\"roots\":{\"references\":[{\"attributes\":{\"below\":[{\"id\":\"3253\"}],\"center\":[{\"id\":\"3256\"},{\"id\":\"3260\"},{\"id\":\"3300\"}],\"left\":[{\"id\":\"3257\"}],\"plot_height\":400,\"plot_width\":1000,\"renderers\":[{\"id\":\"3280\"},{\"id\":\"3305\"},{\"id\":\"3332\"}],\"title\":{\"id\":\"3243\"},\"toolbar\":{\"id\":\"3268\"},\"x_range\":{\"id\":\"3245\"},\"x_scale\":{\"id\":\"3249\"},\"y_range\":{\"id\":\"3247\"},\"y_scale\":{\"id\":\"3251\"}},\"id\":\"3242\",\"subtype\":\"Figure\",\"type\":\"Plot\"},{\"attributes\":{},\"id\":\"3324\",\"type\":\"Selection\"},{\"attributes\":{\"axis\":{\"id\":\"3257\"},\"dimension\":1,\"ticker\":null},\"id\":\"3260\",\"type\":\"Grid\"},{\"attributes\":{\"data\":{\"confirmed_cases\":{\"__ndarray__\":\"AAAAAAAA+H8AAAAAAADwPwAAAAAAAPA/AAAAAAAAAAAAAAAAAAAAAAAAAAAAAPA/AAAAAAAA8D8AAAAAAAAIQAAAAAAAAPA/AAAAAAAAAEAAAAAAAAAmQAAAAAAAABhAAAAAAAAAHEAAAAAAAAAkQAAAAAAAADBAAAAAAAAALEAAAAAAAAAkQAAAAAAAABxAAAAAAAAAJEAAAAAAAAAuQAAAAAAAACZAAAAAAAAAKkAAAAAAAAAoQAAAAAAAAChAAAAAAAAAAAAAAAAAAABKQAAAAAAAAC5AAAAAAAAALkAAAAAAAAAcQAAAAAAAACxAAAAAAAAAIkAAAAAAAAAkQAAAAAAAADZAAAAAAAAAMEAAAAAAAAAYQAAAAAAAABxAAAAAAAAAPkAAAAAAAAA0QAAAAAAAAD5AAAAAAACARUAAAAAAAAAcQAAAAAAAAChAAAAAAAAAHEAAAAAAAAAsQAAAAAAAADxAAAAAAAAAAAAAAAAAAABNQAAAAAAAADZAAAAAAAAAAEAAAAAAAAA2QAAAAAAAADFAAAAAAAAAMkAAAAAAAAAyQAAAAAAAACRAAAAAAAAANEAAAAAAAAAcQAAAAAAAACxAAAAAAAAAPkAAAAAAAAAxQAAAAAAAADFAAAAAAAAAAAAAAAAAAAA/QAAAAAAAADNAAAAAAAAA8D8AAAAAAAAIQAAAAAAAAAAAAAAAAAAANEAAAAAAAAAkQAAAAAAAACZAAAAAAAAAMUAAAAAAAAAkQAAAAAAAADNAAAAAAAAAIkAAAAAAAAAgQAAAAAAAABRAAAAAAAAAIkAAAAAAAAAYQAAAAAAAABRAAAAAAAAAFEAAAAAAAAAUQAAAAAAAAEJAAAAAAAAAIkAAAAAAAAAIQAAAAAAAADBAAAAAAAAAGEAAAAAAAAAYQAAAAAAAABRA\",\"dtype\":\"float64\",\"shape\":[87]},\"date\":{\"__ndarray__\":\"AADAPQoOd0IAAICjXA53QgAAQAmvDndCAAAAbwEPd0IAAMDUUw93QgAAgDqmD3dCAABAoPgPd0IAAAAGSxB3QgAAwGudEHdCAACA0e8Qd0IAAEA3QhF3QgAAAJ2UEXdCAADAAucRd0IAAIBoORJ3QgAAQM6LEndCAAAANN4Sd0IAAMCZMBN3QgAAgP+CE3dCAABAZdUTd0IAAADLJxR3QgAAwDB6FHdCAACAlswUd0IAAED8HhV3QgAAAGJxFXdCAADAx8MVd0IAAIAtFhZ3QgAAQJNoFndCAAAA+boWd0IAAMBeDRd3QgAAgMRfF3dCAABAKrIXd0IAAACQBBh3QgAAwPVWGHdCAACAW6kYd0IAAEDB+xh3QgAAACdOGXdCAADAjKAZd0IAAIDy8hl3QgAAQFhFGndCAAAAvpcad0IAAMAj6hp3QgAAgIk8G3dCAABA744bd0IAAABV4Rt3QgAAwLozHHdCAACAIIYcd0IAAECG2Bx3QgAAAOwqHXdCAADAUX0dd0IAAIC3zx13QgAAQB0iHndCAAAAg3Qed0IAAMDoxh53QgAAgE4ZH3dCAABAtGsfd0IAAAAavh93QgAAwH8QIHdCAACA5WIgd0IAAEBLtSB3QgAAALEHIXdCAADAFlohd0IAAIB8rCF3QgAAQOL+IXdCAAAASFEid0IAAMCtoyJ3QgAAgBP2IndCAABAeUgjd0IAAADfmiN3QgAAwETtI3dCAACAqj8kd0IAAEAQkiR3QgAAAHbkJHdCAADA2zYld0IAAIBBiSV3QgAAQKfbJXdCAAAADS4md0IAAMBygCZ3QgAAgNjSJndCAABAPiUnd0IAAACkdyd3QgAAwAnKJ3dCAACAbxwod0IAAEDVbih3QgAAADvBKHdCAADAoBMpd0IAAIAGZil3QgAAQGy4KXdC\",\"dtype\":\"float64\",\"shape\":[87]},\"index\":[0,1,2,3,4,5,6,7,8,9,10,11,12,13,14,15,16,17,18,19,20,21,22,23,24,25,26,27,28,29,30,31,32,33,34,35,36,37,38,39,40,41,42,43,44,45,46,47,48,49,50,51,52,53,54,55,56,57,58,59,60,61,62,63,64,65,66,67,68,69,70,71,72,73,74,75,76,77,78,79,80,81,82,83,84,85,86]},\"selected\":{\"id\":\"3324\"},\"selection_policy\":{\"id\":\"3325\"}},\"id\":\"3275\",\"type\":\"ColumnDataSource\"},{\"attributes\":{},\"id\":\"3258\",\"type\":\"BasicTicker\"},{\"attributes\":{},\"id\":\"3325\",\"type\":\"UnionRenderers\"},{\"attributes\":{},\"id\":\"3284\",\"type\":\"DatetimeTickFormatter\"},{\"attributes\":{\"base\":24,\"mantissas\":[1,2,4,6,8,12],\"max_interval\":43200000.0,\"min_interval\":3600000.0,\"num_minor_ticks\":0},\"id\":\"3289\",\"type\":\"AdaptiveTicker\"},{\"attributes\":{\"label\":{\"value\":\"7-day rolling avg (Glendale)\"},\"renderers\":[{\"id\":\"3305\"}]},\"id\":\"3327\",\"type\":\"LegendItem\"},{\"attributes\":{\"days\":[1,2,3,4,5,6,7,8,9,10,11,12,13,14,15,16,17,18,19,20,21,22,23,24,25,26,27,28,29,30,31]},\"id\":\"3290\",\"type\":\"DaysTicker\"},{\"attributes\":{\"data_source\":{\"id\":\"3275\"},\"glyph\":{\"id\":\"3278\"},\"hover_glyph\":null,\"muted_glyph\":null,\"nonselection_glyph\":{\"id\":\"3279\"},\"selection_glyph\":null,\"view\":{\"id\":\"3281\"}},\"id\":\"3280\",\"type\":\"GlyphRenderer\"},{\"attributes\":{\"days\":[1,4,7,10,13,16,19,22,25,28]},\"id\":\"3291\",\"type\":\"DaysTicker\"},{\"attributes\":{\"days\":[1,8,15,22]},\"id\":\"3292\",\"type\":\"DaysTicker\"},{\"attributes\":{},\"id\":\"3261\",\"type\":\"PanTool\"},{\"attributes\":{\"days\":[1,15]},\"id\":\"3293\",\"type\":\"DaysTicker\"},{\"attributes\":{\"data_source\":{\"id\":\"3328\"},\"glyph\":{\"id\":\"3330\"},\"hover_glyph\":null,\"muted_glyph\":null,\"nonselection_glyph\":{\"id\":\"3331\"},\"selection_glyph\":null,\"view\":{\"id\":\"3333\"}},\"id\":\"3332\",\"type\":\"GlyphRenderer\"},{\"attributes\":{},\"id\":\"3262\",\"type\":\"WheelZoomTool\"},{\"attributes\":{\"months\":[0,1,2,3,4,5,6,7,8,9,10,11]},\"id\":\"3294\",\"type\":\"MonthsTicker\"},{\"attributes\":{\"overlay\":{\"id\":\"3267\"}},\"id\":\"3263\",\"type\":\"BoxZoomTool\"},{\"attributes\":{\"line_alpha\":0.1,\"line_color\":\"red\",\"line_width\":5,\"x\":{\"field\":\"date\"},\"y\":{\"field\":\"confirmed_cases\"}},\"id\":\"3331\",\"type\":\"Line\"},{\"attributes\":{\"months\":[0,2,4,6,8,10]},\"id\":\"3295\",\"type\":\"MonthsTicker\"},{\"attributes\":{},\"id\":\"3264\",\"type\":\"SaveTool\"},{\"attributes\":{},\"id\":\"3353\",\"type\":\"Selection\"},{\"attributes\":{\"months\":[0,4,8]},\"id\":\"3296\",\"type\":\"MonthsTicker\"},{\"attributes\":{},\"id\":\"3537\",\"type\":\"UnionRenderers\"},{\"attributes\":{\"data\":{\"confirmed_cases\":{\"__ndarray__\":\"AAAAAAAA+H8AAAAAAADwPwAAAAAAAPA/VVVVVVVV9T8AAAAAAADwP5qZmZmZmek/VVVVVVVV9T8lSZIkSZL0PyVJkiRJkvQ/27Zt27Zt+z9u27Zt27b9PwAAAAAAAAhAJUmSJEmSDEAlSZIkSZIMQCVJkiRJkhBA27Zt27ZtE0AAAAAAAAAYQAAAAAAAABxASZIkSZIkIUDbtm3btm0hQAAAAAAAACBAt23btm3bIEAlSZIkSZIgQJIkSZIkSRpAkiRJkiRJGkC3bdu2bdsSQEmSJEmSJBFASZIkSZIkFUC3bdu2bdsWQAAAAAAAABhAbtu2bdu2GUC3bdu2bdsWQCVJkiRJkhhAJUmSJEmSGECSJEmSJEkgQG7btm3btiFASZIkSZIkJ0AAAAAAAAAqQJIkSZIkSS5AAAAAAAAAMEAAAAAAAAAxQAAAAAAAADJAkiRJkiRJMEBJkiRJkiQvQNu2bdu2bStAbtu2bdu2L0C3bdu2bdsuQEmSJEmSJC9ASZIkSZIkKUBu27Zt27YwQNu2bdu2bS9At23btm3bMUAlSZIkSZIqQLdt27Zt2ypA27Zt27ZtKUAAAAAAAAAqQAAAAAAAACRAJUmSJEmSJEAAAAAAAAAkQEmSJEmSJCNAJUmSJEmSJkCSJEmSJEkmQG7btm3btiVAt23btm3bIkAlSZIkSZIcQAAAAAAAACBA27Zt27ZtIUC3bdu2bdseQG7btm3btiFA27Zt27ZtIUCSJEmSJEkoQCVJkiRJkipAbtu2bdu2J0BJkiRJkiQrQG7btm3btitAbtu2bdu2LUC3bdu2bdsuQJIkSZIkSSxAbtu2bdu2LUBJkiRJkiQtQLdt27Zt2ypAt23btm3bJkCSJEmSJEkmQLdt27Zt2yZAkiRJkiRJJkBJkiRJkiQnQA==\",\"dtype\":\"float64\",\"shape\":[86]},\"date\":{\"__ndarray__\":\"AACAo1wOd0IAAEAJrw53QgAAAG8BD3dCAADA1FMPd0IAAIA6pg93QgAAQKD4D3dCAAAABksQd0IAAMBrnRB3QgAAgNHvEHdCAABAN0IRd0IAAACdlBF3QgAAwALnEXdCAACAaDkSd0IAAEDOixJ3QgAAADTeEndCAADAmTATd0IAAID/ghN3QgAAQGXVE3dCAAAAyycUd0IAAMAwehR3QgAAgJbMFHdCAABA/B4Vd0IAAABicRV3QgAAwMfDFXdCAACALRYWd0IAAECTaBZ3QgAAAPm6FndCAADAXg0Xd0IAAIDEXxd3QgAAQCqyF3dCAAAAkAQYd0IAAMD1Vhh3QgAAgFupGHdCAABAwfsYd0IAAAAnThl3QgAAwIygGXdCAACA8vIZd0IAAEBYRRp3QgAAAL6XGndCAADAI+oad0IAAICJPBt3QgAAQO+OG3dCAAAAVeEbd0IAAMC6Mxx3QgAAgCCGHHdCAABAhtgcd0IAAADsKh13QgAAwFF9HXdCAACAt88dd0IAAEAdIh53QgAAAIN0HndCAADA6MYed0IAAIBOGR93QgAAQLRrH3dCAAAAGr4fd0IAAMB/ECB3QgAAgOViIHdCAABAS7Ugd0IAAACxByF3QgAAwBZaIXdCAACAfKwhd0IAAEDi/iF3QgAAAEhRIndCAADAraMid0IAAIAT9iJ3QgAAQHlII3dCAAAA35ojd0IAAMBE7SN3QgAAgKo/JHdCAABAEJIkd0IAAAB25CR3QgAAwNs2JXdCAACAQYkld0IAAECn2yV3QgAAAA0uJndCAADAcoAmd0IAAIDY0iZ3QgAAQD4lJ3dCAAAApHcnd0IAAMAJyid3QgAAgG8cKHdCAABA1W4od0IAAAA7wSh3QgAAwKATKXdCAACABmYpd0IAAEBsuCl3Qg==\",\"dtype\":\"float64\",\"shape\":[86]},\"index\":[0,1,2,3,4,5,6,7,8,9,10,11,12,13,14,15,16,17,18,19,20,21,22,23,24,25,26,27,28,29,30,31,32,33,34,35,36,37,38,39,40,41,42,43,44,45,46,47,48,49,50,51,52,53,54,55,56,57,58,59,60,61,62,63,64,65,66,67,68,69,70,71,72,73,74,75,76,77,78,79,80,81,82,83,84,85]},\"selected\":{\"id\":\"3536\"},\"selection_policy\":{\"id\":\"3537\"}},\"id\":\"3328\",\"type\":\"ColumnDataSource\"},{\"attributes\":{},\"id\":\"3265\",\"type\":\"ResetTool\"},{\"attributes\":{\"fill_alpha\":{\"value\":0.1},\"fill_color\":{\"value\":\"green\"},\"line_alpha\":{\"value\":0.1},\"line_color\":{\"value\":\"green\"},\"top\":{\"field\":\"confirmed_cases\"},\"width\":{\"value\":0.4},\"x\":{\"field\":\"date\"}},\"id\":\"3279\",\"type\":\"VBar\"},{\"attributes\":{\"line_alpha\":0.2,\"line_color\":\"red\",\"line_width\":5,\"x\":{\"field\":\"date\"},\"y\":{\"field\":\"confirmed_cases\"}},\"id\":\"3330\",\"type\":\"Line\"},{\"attributes\":{\"months\":[0,6]},\"id\":\"3297\",\"type\":\"MonthsTicker\"},{\"attributes\":{\"source\":{\"id\":\"3328\"}},\"id\":\"3333\",\"type\":\"CDSView\"},{\"attributes\":{},\"id\":\"3266\",\"type\":\"HelpTool\"},{\"attributes\":{},\"id\":\"3251\",\"type\":\"LinearScale\"},{\"attributes\":{\"num_minor_ticks\":5,\"tickers\":[{\"id\":\"3287\"},{\"id\":\"3288\"},{\"id\":\"3289\"},{\"id\":\"3290\"},{\"id\":\"3291\"},{\"id\":\"3292\"},{\"id\":\"3293\"},{\"id\":\"3294\"},{\"id\":\"3295\"},{\"id\":\"3296\"},{\"id\":\"3297\"},{\"id\":\"3298\"}]},\"id\":\"3254\",\"type\":\"DatetimeTicker\"},{\"attributes\":{},\"id\":\"3298\",\"type\":\"YearsTicker\"},{\"attributes\":{\"active_drag\":\"auto\",\"active_inspect\":\"auto\",\"active_multi\":null,\"active_scroll\":\"auto\",\"active_tap\":\"auto\",\"tools\":[{\"id\":\"3261\"},{\"id\":\"3262\"},{\"id\":\"3263\"},{\"id\":\"3264\"},{\"id\":\"3265\"},{\"id\":\"3266\"}]},\"id\":\"3268\",\"type\":\"Toolbar\"},{\"attributes\":{\"items\":[{\"id\":\"3301\"},{\"id\":\"3327\"},{\"id\":\"3356\"}]},\"id\":\"3300\",\"type\":\"Legend\"},{\"attributes\":{},\"id\":\"3354\",\"type\":\"UnionRenderers\"},{\"attributes\":{\"label\":{\"value\":\"7-day rolling avg (NoHo)\"},\"renderers\":[{\"id\":\"3332\"}]},\"id\":\"3356\",\"type\":\"LegendItem\"},{\"attributes\":{\"label\":{\"value\":\"Daily new cases\"},\"renderers\":[{\"id\":\"3280\"}]},\"id\":\"3301\",\"type\":\"LegendItem\"},{\"attributes\":{\"mantissas\":[1,2,5],\"max_interval\":500.0,\"num_minor_ticks\":0},\"id\":\"3287\",\"type\":\"AdaptiveTicker\"},{\"attributes\":{\"text\":\"Daily new cases --Glendale\"},\"id\":\"3243\",\"type\":\"Title\"},{\"attributes\":{\"formatter\":{\"id\":\"3284\"},\"ticker\":{\"id\":\"3254\"}},\"id\":\"3253\",\"type\":\"DatetimeAxis\"},{\"attributes\":{},\"id\":\"3536\",\"type\":\"Selection\"},{\"attributes\":{},\"id\":\"3286\",\"type\":\"BasicTickFormatter\"},{\"attributes\":{\"data\":{\"confirmed_cases\":{\"__ndarray__\":\"AAAAAAAA+H8AAAAAAADwPwAAAAAAAPA/VVVVVVVV5T8AAAAAAADgPzMzMzMzM+M/VVVVVVVV5T8AAAAAAADwPwAAAAAAAPA/kiRJkiRJ8j9u27Zt27YFQCVJkiRJkgxAbtu2bdu2EUC3bdu2bdsWQJIkSZIkSR5At23btm3bIkBJkiRJkiQlQAAAAAAAACRASZIkSZIkJUDbtm3btm0nQG7btm3btidAt23btm3bJkCSJEmSJEkmQLdt27Zt2yZAt23btm3bJEDbtm3btm0wQNu2bdu2bTBAAAAAAAAAMUBJkiRJkiQwQNu2bdu2bTBAAAAAAAAAMEDbtm3btm0xQJIkSZIkSSpAJUmSJEmSKkAAAAAAAAAoQAAAAAAAAChAJUmSJEmSLEBu27Zt27YvQG7btm3btjJAbtu2bdu2NUDbtm3btm00QJIkSZIkSTVAkiRJkiRJNUAAAAAAAAAzQEmSJEmSJDRAbtu2bdu2L0AAAAAAAAAyQEmSJEmSJDRAbtu2bdu2MkC3bdu2bds0QJIkSZIkSTVAt23btm3bM0Dbtm3btm02QEmSJEmSJC9AJUmSJEmSLkAAAAAAAAAwQG7btm3bti1Abtu2bdu2MEAlSZIkSZIwQNu2bdu2bTBAAAAAAAAALkAlSZIkSZIwQJIkSZIkSTJA27Zt27ZtMEBJkiRJkiQpQJIkSZIkSSRASZIkSZIkJUAAAAAAAAAoQJIkSZIkSSJAbtu2bdu2IUCSJEmSJEkkQLdt27Zt2yhA27Zt27ZtK0AAAAAAAAAoQCVJkiRJkiZAAAAAAAAAJkC3bdu2bdsiQNu2bdu2bSFAt23btm3bGkAlSZIkSZIYQJIkSZIkSSRA27Zt27ZtJUBu27Zt27YjQCVJkiRJkiZAt23btm3bJkBJkiRJkiQnQEmSJEmSJCdA\",\"dtype\":\"float64\",\"shape\":[87]},\"date\":{\"__ndarray__\":\"AADAPQoOd0IAAICjXA53QgAAQAmvDndCAAAAbwEPd0IAAMDUUw93QgAAgDqmD3dCAABAoPgPd0IAAAAGSxB3QgAAwGudEHdCAACA0e8Qd0IAAEA3QhF3QgAAAJ2UEXdCAADAAucRd0IAAIBoORJ3QgAAQM6LEndCAAAANN4Sd0IAAMCZMBN3QgAAgP+CE3dCAABAZdUTd0IAAADLJxR3QgAAwDB6FHdCAACAlswUd0IAAED8HhV3QgAAAGJxFXdCAADAx8MVd0IAAIAtFhZ3QgAAQJNoFndCAAAA+boWd0IAAMBeDRd3QgAAgMRfF3dCAABAKrIXd0IAAACQBBh3QgAAwPVWGHdCAACAW6kYd0IAAEDB+xh3QgAAACdOGXdCAADAjKAZd0IAAIDy8hl3QgAAQFhFGndCAAAAvpcad0IAAMAj6hp3QgAAgIk8G3dCAABA744bd0IAAABV4Rt3QgAAwLozHHdCAACAIIYcd0IAAECG2Bx3QgAAAOwqHXdCAADAUX0dd0IAAIC3zx13QgAAQB0iHndCAAAAg3Qed0IAAMDoxh53QgAAgE4ZH3dCAABAtGsfd0IAAAAavh93QgAAwH8QIHdCAACA5WIgd0IAAEBLtSB3QgAAALEHIXdCAADAFlohd0IAAIB8rCF3QgAAQOL+IXdCAAAASFEid0IAAMCtoyJ3QgAAgBP2IndCAABAeUgjd0IAAADfmiN3QgAAwETtI3dCAACAqj8kd0IAAEAQkiR3QgAAAHbkJHdCAADA2zYld0IAAIBBiSV3QgAAQKfbJXdCAAAADS4md0IAAMBygCZ3QgAAgNjSJndCAABAPiUnd0IAAACkdyd3QgAAwAnKJ3dCAACAbxwod0IAAEDVbih3QgAAADvBKHdCAADAoBMpd0IAAIAGZil3QgAAQGy4KXdC\",\"dtype\":\"float64\",\"shape\":[87]},\"index\":[0,1,2,3,4,5,6,7,8,9,10,11,12,13,14,15,16,17,18,19,20,21,22,23,24,25,26,27,28,29,30,31,32,33,34,35,36,37,38,39,40,41,42,43,44,45,46,47,48,49,50,51,52,53,54,55,56,57,58,59,60,61,62,63,64,65,66,67,68,69,70,71,72,73,74,75,76,77,78,79,80,81,82,83,84,85,86]},\"selected\":{\"id\":\"3353\"},\"selection_policy\":{\"id\":\"3354\"}},\"id\":\"3276\",\"type\":\"ColumnDataSource\"},{\"attributes\":{\"base\":60,\"mantissas\":[1,2,5,10,15,20,30],\"max_interval\":1800000.0,\"min_interval\":1000.0,\"num_minor_ticks\":0},\"id\":\"3288\",\"type\":\"AdaptiveTicker\"},{\"attributes\":{},\"id\":\"3245\",\"type\":\"DataRange1d\"},{\"attributes\":{\"bottom_units\":\"screen\",\"fill_alpha\":0.5,\"fill_color\":\"lightgrey\",\"left_units\":\"screen\",\"level\":\"overlay\",\"line_alpha\":1.0,\"line_color\":\"black\",\"line_dash\":[4,4],\"line_width\":2,\"render_mode\":\"css\",\"right_units\":\"screen\",\"top_units\":\"screen\"},\"id\":\"3267\",\"type\":\"BoxAnnotation\"},{\"attributes\":{\"formatter\":{\"id\":\"3286\"},\"ticker\":{\"id\":\"3258\"}},\"id\":\"3257\",\"type\":\"LinearAxis\"},{\"attributes\":{\"line_alpha\":0.3,\"line_color\":\"navy\",\"line_width\":5,\"x\":{\"field\":\"date\"},\"y\":{\"field\":\"confirmed_cases\"}},\"id\":\"3303\",\"type\":\"Line\"},{\"attributes\":{\"line_alpha\":0.1,\"line_color\":\"navy\",\"line_width\":5,\"x\":{\"field\":\"date\"},\"y\":{\"field\":\"confirmed_cases\"}},\"id\":\"3304\",\"type\":\"Line\"},{\"attributes\":{},\"id\":\"3249\",\"type\":\"LinearScale\"},{\"attributes\":{\"data_source\":{\"id\":\"3276\"},\"glyph\":{\"id\":\"3303\"},\"hover_glyph\":null,\"muted_glyph\":null,\"nonselection_glyph\":{\"id\":\"3304\"},\"selection_glyph\":null,\"view\":{\"id\":\"3306\"}},\"id\":\"3305\",\"type\":\"GlyphRenderer\"},{\"attributes\":{\"source\":{\"id\":\"3276\"}},\"id\":\"3306\",\"type\":\"CDSView\"},{\"attributes\":{},\"id\":\"3247\",\"type\":\"DataRange1d\"},{\"attributes\":{\"source\":{\"id\":\"3275\"}},\"id\":\"3281\",\"type\":\"CDSView\"},{\"attributes\":{\"axis\":{\"id\":\"3253\"},\"ticker\":null},\"id\":\"3256\",\"type\":\"Grid\"},{\"attributes\":{\"fill_alpha\":{\"value\":0.8},\"fill_color\":{\"value\":\"green\"},\"line_alpha\":{\"value\":0.8},\"line_color\":{\"value\":\"green\"},\"top\":{\"field\":\"confirmed_cases\"},\"width\":{\"value\":0.4},\"x\":{\"field\":\"date\"}},\"id\":\"3278\",\"type\":\"VBar\"}],\"root_ids\":[\"3242\"]},\"title\":\"Bokeh Application\",\"version\":\"2.0.2\"}};\n",
       "  var render_items = [{\"docid\":\"ef66dd68-f7ea-4afe-82ce-0b082c425dd9\",\"root_ids\":[\"3242\"],\"roots\":{\"3242\":\"b9de0987-bf05-4cc4-9640-908dc61d9e4e\"}}];\n",
       "  root.Bokeh.embed.embed_items_notebook(docs_json, render_items);\n",
       "\n",
       "  }\n",
       "  if (root.Bokeh !== undefined) {\n",
       "    embed_document(root);\n",
       "  } else {\n",
       "    var attempts = 0;\n",
       "    var timer = setInterval(function(root) {\n",
       "      if (root.Bokeh !== undefined) {\n",
       "        clearInterval(timer);\n",
       "        embed_document(root);\n",
       "      } else {\n",
       "        attempts++;\n",
       "        if (attempts > 100) {\n",
       "          clearInterval(timer);\n",
       "          console.log(\"Bokeh: ERROR: Unable to run BokehJS code because BokehJS library is missing\");\n",
       "        }\n",
       "      }\n",
       "    }, 10, root)\n",
       "  }\n",
       "})(window);"
      ],
      "application/vnd.bokehjs_exec.v0+json": ""
     },
     "metadata": {
      "application/vnd.bokehjs_exec.v0+json": {
       "id": "3242"
      }
     },
     "output_type": "display_data"
    },
    {
     "data": {
      "text/html": [
       "\n",
       "\n",
       "\n",
       "\n",
       "\n",
       "\n",
       "  <div class=\"bk-root\" id=\"eb0b4366-55ef-4eec-96b7-274b3d70d49c\" data-root-id=\"3683\"></div>\n"
      ]
     },
     "metadata": {},
     "output_type": "display_data"
    },
    {
     "data": {
      "application/javascript": [
       "(function(root) {\n",
       "  function embed_document(root) {\n",
       "    \n",
       "  var docs_json = {\"43387e03-c8a0-400f-bd83-512d9b9bceb6\":{\"roots\":{\"references\":[{\"attributes\":{\"below\":[{\"id\":\"3694\"}],\"center\":[{\"id\":\"3697\"},{\"id\":\"3701\"},{\"id\":\"3741\"}],\"left\":[{\"id\":\"3698\"}],\"plot_height\":400,\"plot_width\":1000,\"renderers\":[{\"id\":\"3721\"},{\"id\":\"3746\"},{\"id\":\"3773\"}],\"title\":{\"id\":\"3684\"},\"toolbar\":{\"id\":\"3709\"},\"x_range\":{\"id\":\"3686\"},\"x_scale\":{\"id\":\"3690\"},\"y_range\":{\"id\":\"3688\"},\"y_scale\":{\"id\":\"3692\"}},\"id\":\"3683\",\"subtype\":\"Figure\",\"type\":\"Plot\"},{\"attributes\":{\"months\":[0,2,4,6,8,10]},\"id\":\"3736\",\"type\":\"MonthsTicker\"},{\"attributes\":{},\"id\":\"3706\",\"type\":\"ResetTool\"},{\"attributes\":{},\"id\":\"4001\",\"type\":\"Selection\"},{\"attributes\":{\"line_alpha\":0.1,\"line_color\":\"navy\",\"line_width\":5,\"x\":{\"field\":\"date\"},\"y\":{\"field\":\"confirmed_cases\"}},\"id\":\"3745\",\"type\":\"Line\"},{\"attributes\":{\"months\":[0,4,8]},\"id\":\"3737\",\"type\":\"MonthsTicker\"},{\"attributes\":{\"months\":[0,6]},\"id\":\"3738\",\"type\":\"MonthsTicker\"},{\"attributes\":{\"data_source\":{\"id\":\"3717\"},\"glyph\":{\"id\":\"3744\"},\"hover_glyph\":null,\"muted_glyph\":null,\"nonselection_glyph\":{\"id\":\"3745\"},\"selection_glyph\":null,\"view\":{\"id\":\"3747\"}},\"id\":\"3746\",\"type\":\"GlyphRenderer\"},{\"attributes\":{\"axis\":{\"id\":\"3698\"},\"dimension\":1,\"ticker\":null},\"id\":\"3701\",\"type\":\"Grid\"},{\"attributes\":{},\"id\":\"3739\",\"type\":\"YearsTicker\"},{\"attributes\":{\"text\":\"Daily new cases --Sherman Oaks\"},\"id\":\"3684\",\"type\":\"Title\"},{\"attributes\":{\"formatter\":{\"id\":\"3727\"},\"ticker\":{\"id\":\"3699\"}},\"id\":\"3698\",\"type\":\"LinearAxis\"},{\"attributes\":{},\"id\":\"3766\",\"type\":\"UnionRenderers\"},{\"attributes\":{\"label\":{\"value\":\"7-day rolling avg (Sherman Oaks)\"},\"renderers\":[{\"id\":\"3746\"}]},\"id\":\"3768\",\"type\":\"LegendItem\"},{\"attributes\":{},\"id\":\"3725\",\"type\":\"DatetimeTickFormatter\"},{\"attributes\":{\"axis\":{\"id\":\"3694\"},\"ticker\":null},\"id\":\"3697\",\"type\":\"Grid\"},{\"attributes\":{\"formatter\":{\"id\":\"3725\"},\"ticker\":{\"id\":\"3695\"}},\"id\":\"3694\",\"type\":\"DatetimeAxis\"},{\"attributes\":{\"bottom_units\":\"screen\",\"fill_alpha\":0.5,\"fill_color\":\"lightgrey\",\"left_units\":\"screen\",\"level\":\"overlay\",\"line_alpha\":1.0,\"line_color\":\"black\",\"line_dash\":[4,4],\"line_width\":2,\"render_mode\":\"css\",\"right_units\":\"screen\",\"top_units\":\"screen\"},\"id\":\"3708\",\"type\":\"BoxAnnotation\"},{\"attributes\":{\"fill_alpha\":{\"value\":0.1},\"fill_color\":{\"value\":\"green\"},\"line_alpha\":{\"value\":0.1},\"line_color\":{\"value\":\"green\"},\"top\":{\"field\":\"confirmed_cases\"},\"width\":{\"value\":0.4},\"x\":{\"field\":\"date\"}},\"id\":\"3720\",\"type\":\"VBar\"},{\"attributes\":{\"num_minor_ticks\":5,\"tickers\":[{\"id\":\"3728\"},{\"id\":\"3729\"},{\"id\":\"3730\"},{\"id\":\"3731\"},{\"id\":\"3732\"},{\"id\":\"3733\"},{\"id\":\"3734\"},{\"id\":\"3735\"},{\"id\":\"3736\"},{\"id\":\"3737\"},{\"id\":\"3738\"},{\"id\":\"3739\"}]},\"id\":\"3695\",\"type\":\"DatetimeTicker\"},{\"attributes\":{},\"id\":\"3699\",\"type\":\"BasicTicker\"},{\"attributes\":{\"source\":{\"id\":\"3716\"}},\"id\":\"3722\",\"type\":\"CDSView\"},{\"attributes\":{\"data\":{\"confirmed_cases\":{\"__ndarray__\":\"AAAAAAAA+H8AAAAAAAAAAAAAAAAAAPA/AAAAAAAA8D8AAAAAAADwPwAAAAAAAPA/q6qqqqqq6j/btm3btm3rP5IkSZIkSfI/kiRJkiRJ8j/btm3btm37P0mSJEmSJAFAJUmSJEmSBEC3bdu2bdsGQNu2bdu2bQtAkiRJkiRJCkAlSZIkSZIMQG7btm3btg1AJUmSJEmSDEC3bdu2bdsOQCVJkiRJkhBAJUmSJEmSDEAAAAAAAAAQQLdt27Zt2w5AAAAAAAAACEBu27Zt27YNQNu2bdu2bQtAkiRJkiRJCkCSJEmSJEkKQLdt27Zt2wZAAAAAAAAACEAAAAAAAAAIQG7btm3btv0/27Zt27Zt+z+3bdu2bdv2P27btm3btv0/kiRJkiRJAkDbtm3btm0DQNu2bdu2bQtAJUmSJEmSEEAAAAAAAAAQQLdt27Zt2w5AkiRJkiRJCkBJkiRJkiQJQEmSJEmSJAlASZIkSZIkAUBJkiRJkiQBQEmSJEmSJAFA27Zt27ZtA0BJkiRJkiQJQG7btm3bthFAJUmSJEmSEEAAAAAAAAAUQNu2bdu2bRNASZIkSZIkGUBJkiRJkiQZQAAAAAAAABhAt23btm3bEkAAAAAAAAAUQAAAAAAAABRAbtu2bdu2EUBJkiRJkiQJQEmSJEmSJAlAAAAAAAAACEAAAAAAAAAIQJIkSZIkSQJAbtu2bdu2/T9u27Zt27YFQNu2bdu2bQNA27Zt27ZtA0BJkiRJkiQBQNu2bdu2bQNAJUmSJEmSBEDbtm3btm0DQAAAAAAAAABAkiRJkiRJAkDbtm3btm0DQJIkSZIkSQpAAAAAAAAACEAAAAAAAAAIQEmSJEmSJAlA27Zt27ZtC0Dbtm3btm0LQCVJkiRJkhBAAAAAAAAAEEBJkiRJkiQRQEmSJEmSJBFA\",\"dtype\":\"float64\",\"shape\":[87]},\"date\":{\"__ndarray__\":\"AADAPQoOd0IAAICjXA53QgAAQAmvDndCAAAAbwEPd0IAAMDUUw93QgAAgDqmD3dCAABAoPgPd0IAAAAGSxB3QgAAwGudEHdCAACA0e8Qd0IAAEA3QhF3QgAAAJ2UEXdCAADAAucRd0IAAIBoORJ3QgAAQM6LEndCAAAANN4Sd0IAAMCZMBN3QgAAgP+CE3dCAABAZdUTd0IAAADLJxR3QgAAwDB6FHdCAACAlswUd0IAAED8HhV3QgAAAGJxFXdCAADAx8MVd0IAAIAtFhZ3QgAAQJNoFndCAAAA+boWd0IAAMBeDRd3QgAAgMRfF3dCAABAKrIXd0IAAACQBBh3QgAAwPVWGHdCAACAW6kYd0IAAEDB+xh3QgAAACdOGXdCAADAjKAZd0IAAIDy8hl3QgAAQFhFGndCAAAAvpcad0IAAMAj6hp3QgAAgIk8G3dCAABA744bd0IAAABV4Rt3QgAAwLozHHdCAACAIIYcd0IAAECG2Bx3QgAAAOwqHXdCAADAUX0dd0IAAIC3zx13QgAAQB0iHndCAAAAg3Qed0IAAMDoxh53QgAAgE4ZH3dCAABAtGsfd0IAAAAavh93QgAAwH8QIHdCAACA5WIgd0IAAEBLtSB3QgAAALEHIXdCAADAFlohd0IAAIB8rCF3QgAAQOL+IXdCAAAASFEid0IAAMCtoyJ3QgAAgBP2IndCAABAeUgjd0IAAADfmiN3QgAAwETtI3dCAACAqj8kd0IAAEAQkiR3QgAAAHbkJHdCAADA2zYld0IAAIBBiSV3QgAAQKfbJXdCAAAADS4md0IAAMBygCZ3QgAAgNjSJndCAABAPiUnd0IAAACkdyd3QgAAwAnKJ3dCAACAbxwod0IAAEDVbih3QgAAADvBKHdCAADAoBMpd0IAAIAGZil3QgAAQGy4KXdC\",\"dtype\":\"float64\",\"shape\":[87]},\"index\":[0,1,2,3,4,5,6,7,8,9,10,11,12,13,14,15,16,17,18,19,20,21,22,23,24,25,26,27,28,29,30,31,32,33,34,35,36,37,38,39,40,41,42,43,44,45,46,47,48,49,50,51,52,53,54,55,56,57,58,59,60,61,62,63,64,65,66,67,68,69,70,71,72,73,74,75,76,77,78,79,80,81,82,83,84,85,86]},\"selected\":{\"id\":\"3794\"},\"selection_policy\":{\"id\":\"3795\"}},\"id\":\"3717\",\"type\":\"ColumnDataSource\"},{\"attributes\":{\"data_source\":{\"id\":\"3716\"},\"glyph\":{\"id\":\"3719\"},\"hover_glyph\":null,\"muted_glyph\":null,\"nonselection_glyph\":{\"id\":\"3720\"},\"selection_glyph\":null,\"view\":{\"id\":\"3722\"}},\"id\":\"3721\",\"type\":\"GlyphRenderer\"},{\"attributes\":{\"data_source\":{\"id\":\"3769\"},\"glyph\":{\"id\":\"3771\"},\"hover_glyph\":null,\"muted_glyph\":null,\"nonselection_glyph\":{\"id\":\"3772\"},\"selection_glyph\":null,\"view\":{\"id\":\"3774\"}},\"id\":\"3773\",\"type\":\"GlyphRenderer\"},{\"attributes\":{\"fill_alpha\":{\"value\":0.8},\"fill_color\":{\"value\":\"green\"},\"line_alpha\":{\"value\":0.8},\"line_color\":{\"value\":\"green\"},\"top\":{\"field\":\"confirmed_cases\"},\"width\":{\"value\":0.4},\"x\":{\"field\":\"date\"}},\"id\":\"3719\",\"type\":\"VBar\"},{\"attributes\":{},\"id\":\"3692\",\"type\":\"LinearScale\"},{\"attributes\":{},\"id\":\"3686\",\"type\":\"DataRange1d\"},{\"attributes\":{},\"id\":\"3727\",\"type\":\"BasicTickFormatter\"},{\"attributes\":{\"line_alpha\":0.1,\"line_color\":\"red\",\"line_width\":5,\"x\":{\"field\":\"date\"},\"y\":{\"field\":\"confirmed_cases\"}},\"id\":\"3772\",\"type\":\"Line\"},{\"attributes\":{},\"id\":\"3688\",\"type\":\"DataRange1d\"},{\"attributes\":{\"mantissas\":[1,2,5],\"max_interval\":500.0,\"num_minor_ticks\":0},\"id\":\"3728\",\"type\":\"AdaptiveTicker\"},{\"attributes\":{},\"id\":\"3794\",\"type\":\"Selection\"},{\"attributes\":{\"data\":{\"confirmed_cases\":{\"__ndarray__\":\"AAAAAAAA+H8AAAAAAADwPwAAAAAAAPA/VVVVVVVV9T8AAAAAAADwP5qZmZmZmek/VVVVVVVV9T8lSZIkSZL0PyVJkiRJkvQ/27Zt27Zt+z9u27Zt27b9PwAAAAAAAAhAJUmSJEmSDEAlSZIkSZIMQCVJkiRJkhBA27Zt27ZtE0AAAAAAAAAYQAAAAAAAABxASZIkSZIkIUDbtm3btm0hQAAAAAAAACBAt23btm3bIEAlSZIkSZIgQJIkSZIkSRpAkiRJkiRJGkC3bdu2bdsSQEmSJEmSJBFASZIkSZIkFUC3bdu2bdsWQAAAAAAAABhAbtu2bdu2GUC3bdu2bdsWQCVJkiRJkhhAJUmSJEmSGECSJEmSJEkgQG7btm3btiFASZIkSZIkJ0AAAAAAAAAqQJIkSZIkSS5AAAAAAAAAMEAAAAAAAAAxQAAAAAAAADJAkiRJkiRJMEBJkiRJkiQvQNu2bdu2bStAbtu2bdu2L0C3bdu2bdsuQEmSJEmSJC9ASZIkSZIkKUBu27Zt27YwQNu2bdu2bS9At23btm3bMUAlSZIkSZIqQLdt27Zt2ypA27Zt27ZtKUAAAAAAAAAqQAAAAAAAACRAJUmSJEmSJEAAAAAAAAAkQEmSJEmSJCNAJUmSJEmSJkCSJEmSJEkmQG7btm3btiVAt23btm3bIkAlSZIkSZIcQAAAAAAAACBA27Zt27ZtIUC3bdu2bdseQG7btm3btiFA27Zt27ZtIUCSJEmSJEkoQCVJkiRJkipAbtu2bdu2J0BJkiRJkiQrQG7btm3btitAbtu2bdu2LUC3bdu2bdsuQJIkSZIkSSxAbtu2bdu2LUBJkiRJkiQtQLdt27Zt2ypAt23btm3bJkCSJEmSJEkmQLdt27Zt2yZAkiRJkiRJJkBJkiRJkiQnQA==\",\"dtype\":\"float64\",\"shape\":[86]},\"date\":{\"__ndarray__\":\"AACAo1wOd0IAAEAJrw53QgAAAG8BD3dCAADA1FMPd0IAAIA6pg93QgAAQKD4D3dCAAAABksQd0IAAMBrnRB3QgAAgNHvEHdCAABAN0IRd0IAAACdlBF3QgAAwALnEXdCAACAaDkSd0IAAEDOixJ3QgAAADTeEndCAADAmTATd0IAAID/ghN3QgAAQGXVE3dCAAAAyycUd0IAAMAwehR3QgAAgJbMFHdCAABA/B4Vd0IAAABicRV3QgAAwMfDFXdCAACALRYWd0IAAECTaBZ3QgAAAPm6FndCAADAXg0Xd0IAAIDEXxd3QgAAQCqyF3dCAAAAkAQYd0IAAMD1Vhh3QgAAgFupGHdCAABAwfsYd0IAAAAnThl3QgAAwIygGXdCAACA8vIZd0IAAEBYRRp3QgAAAL6XGndCAADAI+oad0IAAICJPBt3QgAAQO+OG3dCAAAAVeEbd0IAAMC6Mxx3QgAAgCCGHHdCAABAhtgcd0IAAADsKh13QgAAwFF9HXdCAACAt88dd0IAAEAdIh53QgAAAIN0HndCAADA6MYed0IAAIBOGR93QgAAQLRrH3dCAAAAGr4fd0IAAMB/ECB3QgAAgOViIHdCAABAS7Ugd0IAAACxByF3QgAAwBZaIXdCAACAfKwhd0IAAEDi/iF3QgAAAEhRIndCAADAraMid0IAAIAT9iJ3QgAAQHlII3dCAAAA35ojd0IAAMBE7SN3QgAAgKo/JHdCAABAEJIkd0IAAAB25CR3QgAAwNs2JXdCAACAQYkld0IAAECn2yV3QgAAAA0uJndCAADAcoAmd0IAAIDY0iZ3QgAAQD4lJ3dCAAAApHcnd0IAAMAJyid3QgAAgG8cKHdCAABA1W4od0IAAAA7wSh3QgAAwKATKXdCAACABmYpd0IAAEBsuCl3Qg==\",\"dtype\":\"float64\",\"shape\":[86]},\"index\":[0,1,2,3,4,5,6,7,8,9,10,11,12,13,14,15,16,17,18,19,20,21,22,23,24,25,26,27,28,29,30,31,32,33,34,35,36,37,38,39,40,41,42,43,44,45,46,47,48,49,50,51,52,53,54,55,56,57,58,59,60,61,62,63,64,65,66,67,68,69,70,71,72,73,74,75,76,77,78,79,80,81,82,83,84,85]},\"selected\":{\"id\":\"4001\"},\"selection_policy\":{\"id\":\"4002\"}},\"id\":\"3769\",\"type\":\"ColumnDataSource\"},{\"attributes\":{\"line_alpha\":0.2,\"line_color\":\"red\",\"line_width\":5,\"x\":{\"field\":\"date\"},\"y\":{\"field\":\"confirmed_cases\"}},\"id\":\"3771\",\"type\":\"Line\"},{\"attributes\":{},\"id\":\"3707\",\"type\":\"HelpTool\"},{\"attributes\":{\"base\":60,\"mantissas\":[1,2,5,10,15,20,30],\"max_interval\":1800000.0,\"min_interval\":1000.0,\"num_minor_ticks\":0},\"id\":\"3729\",\"type\":\"AdaptiveTicker\"},{\"attributes\":{},\"id\":\"3690\",\"type\":\"LinearScale\"},{\"attributes\":{\"source\":{\"id\":\"3769\"}},\"id\":\"3774\",\"type\":\"CDSView\"},{\"attributes\":{\"base\":24,\"mantissas\":[1,2,4,6,8,12],\"max_interval\":43200000.0,\"min_interval\":3600000.0,\"num_minor_ticks\":0},\"id\":\"3730\",\"type\":\"AdaptiveTicker\"},{\"attributes\":{},\"id\":\"3705\",\"type\":\"SaveTool\"},{\"attributes\":{\"months\":[0,1,2,3,4,5,6,7,8,9,10,11]},\"id\":\"3735\",\"type\":\"MonthsTicker\"},{\"attributes\":{},\"id\":\"3795\",\"type\":\"UnionRenderers\"},{\"attributes\":{\"days\":[1,2,3,4,5,6,7,8,9,10,11,12,13,14,15,16,17,18,19,20,21,22,23,24,25,26,27,28,29,30,31]},\"id\":\"3731\",\"type\":\"DaysTicker\"},{\"attributes\":{\"label\":{\"value\":\"7-day rolling avg (NoHo)\"},\"renderers\":[{\"id\":\"3773\"}]},\"id\":\"3797\",\"type\":\"LegendItem\"},{\"attributes\":{\"overlay\":{\"id\":\"3708\"}},\"id\":\"3704\",\"type\":\"BoxZoomTool\"},{\"attributes\":{},\"id\":\"3702\",\"type\":\"PanTool\"},{\"attributes\":{\"days\":[1,4,7,10,13,16,19,22,25,28]},\"id\":\"3732\",\"type\":\"DaysTicker\"},{\"attributes\":{},\"id\":\"3703\",\"type\":\"WheelZoomTool\"},{\"attributes\":{\"line_alpha\":0.3,\"line_color\":\"navy\",\"line_width\":5,\"x\":{\"field\":\"date\"},\"y\":{\"field\":\"confirmed_cases\"}},\"id\":\"3744\",\"type\":\"Line\"},{\"attributes\":{},\"id\":\"3765\",\"type\":\"Selection\"},{\"attributes\":{\"label\":{\"value\":\"Daily new cases\"},\"renderers\":[{\"id\":\"3721\"}]},\"id\":\"3742\",\"type\":\"LegendItem\"},{\"attributes\":{\"days\":[1,8,15,22]},\"id\":\"3733\",\"type\":\"DaysTicker\"},{\"attributes\":{},\"id\":\"4002\",\"type\":\"UnionRenderers\"},{\"attributes\":{\"days\":[1,15]},\"id\":\"3734\",\"type\":\"DaysTicker\"},{\"attributes\":{\"source\":{\"id\":\"3717\"}},\"id\":\"3747\",\"type\":\"CDSView\"},{\"attributes\":{\"active_drag\":\"auto\",\"active_inspect\":\"auto\",\"active_multi\":null,\"active_scroll\":\"auto\",\"active_tap\":\"auto\",\"tools\":[{\"id\":\"3702\"},{\"id\":\"3703\"},{\"id\":\"3704\"},{\"id\":\"3705\"},{\"id\":\"3706\"},{\"id\":\"3707\"}]},\"id\":\"3709\",\"type\":\"Toolbar\"},{\"attributes\":{\"data\":{\"confirmed_cases\":{\"__ndarray__\":\"AAAAAAAA+H8AAAAAAAAAAAAAAAAAAABAAAAAAAAA8D8AAAAAAADwPwAAAAAAAPA/AAAAAAAAAAAAAAAAAADwPwAAAAAAAABAAAAAAAAAAEAAAAAAAAAUQAAAAAAAABBAAAAAAAAAEEAAAAAAAAAAQAAAAAAAABRAAAAAAAAA8D8AAAAAAAAQQAAAAAAAABhAAAAAAAAACEAAAAAAAAAYQAAAAAAAABBAAAAAAAAA8D8AAAAAAAAQQAAAAAAAAAhAAAAAAAAAAAAAAAAAAAAgQAAAAAAAABBAAAAAAAAACEAAAAAAAADwPwAAAAAAAPA/AAAAAAAAEEAAAAAAAAAAAAAAAAAAAAAAAAAAAAAACEAAAAAAAADwPwAAAAAAABBAAAAAAAAAEEAAAAAAAAAUQAAAAAAAABxAAAAAAAAAFEAAAAAAAAAAQAAAAAAAAAAAAAAAAAAAAAAAAAAAAAAIQAAAAAAAABRAAAAAAAAAAAAAAAAAAAAUQAAAAAAAAABAAAAAAAAAAEAAAAAAAAAUQAAAAAAAAChAAAAAAAAACEAAAAAAAAAYQAAAAAAAABBAAAAAAAAAKEAAAAAAAAAAQAAAAAAAAAhAAAAAAAAACEAAAAAAAAAUQAAAAAAAABhAAAAAAAAAAAAAAAAAAAAIQAAAAAAAAABAAAAAAAAAAEAAAAAAAAAIQAAAAAAAAAAAAAAAAAAACEAAAAAAAAAYQAAAAAAAAPA/AAAAAAAAAEAAAAAAAAAAAAAAAAAAABRAAAAAAAAA8D8AAAAAAAAAQAAAAAAAAAhAAAAAAAAACEAAAAAAAAAIQAAAAAAAABhAAAAAAAAACEAAAAAAAADwPwAAAAAAAAhAAAAAAAAAFEAAAAAAAAAIQAAAAAAAACBAAAAAAAAAFEAAAAAAAAAUQAAAAAAAAPA/\",\"dtype\":\"float64\",\"shape\":[87]},\"date\":{\"__ndarray__\":\"AADAPQoOd0IAAICjXA53QgAAQAmvDndCAAAAbwEPd0IAAMDUUw93QgAAgDqmD3dCAABAoPgPd0IAAAAGSxB3QgAAwGudEHdCAACA0e8Qd0IAAEA3QhF3QgAAAJ2UEXdCAADAAucRd0IAAIBoORJ3QgAAQM6LEndCAAAANN4Sd0IAAMCZMBN3QgAAgP+CE3dCAABAZdUTd0IAAADLJxR3QgAAwDB6FHdCAACAlswUd0IAAED8HhV3QgAAAGJxFXdCAADAx8MVd0IAAIAtFhZ3QgAAQJNoFndCAAAA+boWd0IAAMBeDRd3QgAAgMRfF3dCAABAKrIXd0IAAACQBBh3QgAAwPVWGHdCAACAW6kYd0IAAEDB+xh3QgAAACdOGXdCAADAjKAZd0IAAIDy8hl3QgAAQFhFGndCAAAAvpcad0IAAMAj6hp3QgAAgIk8G3dCAABA744bd0IAAABV4Rt3QgAAwLozHHdCAACAIIYcd0IAAECG2Bx3QgAAAOwqHXdCAADAUX0dd0IAAIC3zx13QgAAQB0iHndCAAAAg3Qed0IAAMDoxh53QgAAgE4ZH3dCAABAtGsfd0IAAAAavh93QgAAwH8QIHdCAACA5WIgd0IAAEBLtSB3QgAAALEHIXdCAADAFlohd0IAAIB8rCF3QgAAQOL+IXdCAAAASFEid0IAAMCtoyJ3QgAAgBP2IndCAABAeUgjd0IAAADfmiN3QgAAwETtI3dCAACAqj8kd0IAAEAQkiR3QgAAAHbkJHdCAADA2zYld0IAAIBBiSV3QgAAQKfbJXdCAAAADS4md0IAAMBygCZ3QgAAgNjSJndCAABAPiUnd0IAAACkdyd3QgAAwAnKJ3dCAACAbxwod0IAAEDVbih3QgAAADvBKHdCAADAoBMpd0IAAIAGZil3QgAAQGy4KXdC\",\"dtype\":\"float64\",\"shape\":[87]},\"index\":[0,1,2,3,4,5,6,7,8,9,10,11,12,13,14,15,16,17,18,19,20,21,22,23,24,25,26,27,28,29,30,31,32,33,34,35,36,37,38,39,40,41,42,43,44,45,46,47,48,49,50,51,52,53,54,55,56,57,58,59,60,61,62,63,64,65,66,67,68,69,70,71,72,73,74,75,76,77,78,79,80,81,82,83,84,85,86]},\"selected\":{\"id\":\"3765\"},\"selection_policy\":{\"id\":\"3766\"}},\"id\":\"3716\",\"type\":\"ColumnDataSource\"},{\"attributes\":{\"items\":[{\"id\":\"3742\"},{\"id\":\"3768\"},{\"id\":\"3797\"}]},\"id\":\"3741\",\"type\":\"Legend\"}],\"root_ids\":[\"3683\"]},\"title\":\"Bokeh Application\",\"version\":\"2.0.2\"}};\n",
       "  var render_items = [{\"docid\":\"43387e03-c8a0-400f-bd83-512d9b9bceb6\",\"root_ids\":[\"3683\"],\"roots\":{\"3683\":\"eb0b4366-55ef-4eec-96b7-274b3d70d49c\"}}];\n",
       "  root.Bokeh.embed.embed_items_notebook(docs_json, render_items);\n",
       "\n",
       "  }\n",
       "  if (root.Bokeh !== undefined) {\n",
       "    embed_document(root);\n",
       "  } else {\n",
       "    var attempts = 0;\n",
       "    var timer = setInterval(function(root) {\n",
       "      if (root.Bokeh !== undefined) {\n",
       "        clearInterval(timer);\n",
       "        embed_document(root);\n",
       "      } else {\n",
       "        attempts++;\n",
       "        if (attempts > 100) {\n",
       "          clearInterval(timer);\n",
       "          console.log(\"Bokeh: ERROR: Unable to run BokehJS code because BokehJS library is missing\");\n",
       "        }\n",
       "      }\n",
       "    }, 10, root)\n",
       "  }\n",
       "})(window);"
      ],
      "application/vnd.bokehjs_exec.v0+json": ""
     },
     "metadata": {
      "application/vnd.bokehjs_exec.v0+json": {
       "id": "3683"
      }
     },
     "output_type": "display_data"
    },
    {
     "data": {
      "text/html": [
       "\n",
       "\n",
       "\n",
       "\n",
       "\n",
       "\n",
       "  <div class=\"bk-root\" id=\"d3eed4d8-3686-4e5d-aa57-51bb709f9e05\" data-root-id=\"4148\"></div>\n"
      ]
     },
     "metadata": {},
     "output_type": "display_data"
    },
    {
     "data": {
      "application/javascript": [
       "(function(root) {\n",
       "  function embed_document(root) {\n",
       "    \n",
       "  var docs_json = {\"74000341-c36a-4679-ad69-fca5ef2c6502\":{\"roots\":{\"references\":[{\"attributes\":{\"below\":[{\"id\":\"4159\"}],\"center\":[{\"id\":\"4162\"},{\"id\":\"4166\"},{\"id\":\"4206\"}],\"left\":[{\"id\":\"4163\"}],\"plot_height\":400,\"plot_width\":1000,\"renderers\":[{\"id\":\"4186\"},{\"id\":\"4211\"},{\"id\":\"4238\"}],\"title\":{\"id\":\"4149\"},\"toolbar\":{\"id\":\"4174\"},\"x_range\":{\"id\":\"4151\"},\"x_scale\":{\"id\":\"4155\"},\"y_range\":{\"id\":\"4153\"},\"y_scale\":{\"id\":\"4157\"}},\"id\":\"4148\",\"subtype\":\"Figure\",\"type\":\"Plot\"},{\"attributes\":{},\"id\":\"4192\",\"type\":\"BasicTickFormatter\"},{\"attributes\":{\"label\":{\"value\":\"7-day rolling avg (Studio City)\"},\"renderers\":[{\"id\":\"4211\"}]},\"id\":\"4233\",\"type\":\"LegendItem\"},{\"attributes\":{\"formatter\":{\"id\":\"4190\"},\"ticker\":{\"id\":\"4160\"}},\"id\":\"4159\",\"type\":\"DatetimeAxis\"},{\"attributes\":{\"days\":[1,15]},\"id\":\"4199\",\"type\":\"DaysTicker\"},{\"attributes\":{\"mantissas\":[1,2,5],\"max_interval\":500.0,\"num_minor_ticks\":0},\"id\":\"4193\",\"type\":\"AdaptiveTicker\"},{\"attributes\":{\"text\":\"Daily new cases --Studio City\"},\"id\":\"4149\",\"type\":\"Title\"},{\"attributes\":{\"months\":[0,6]},\"id\":\"4203\",\"type\":\"MonthsTicker\"},{\"attributes\":{\"base\":60,\"mantissas\":[1,2,5,10,15,20,30],\"max_interval\":1800000.0,\"min_interval\":1000.0,\"num_minor_ticks\":0},\"id\":\"4194\",\"type\":\"AdaptiveTicker\"},{\"attributes\":{\"months\":[0,4,8]},\"id\":\"4202\",\"type\":\"MonthsTicker\"},{\"attributes\":{\"formatter\":{\"id\":\"4192\"},\"ticker\":{\"id\":\"4164\"}},\"id\":\"4163\",\"type\":\"LinearAxis\"},{\"attributes\":{\"data_source\":{\"id\":\"4234\"},\"glyph\":{\"id\":\"4236\"},\"hover_glyph\":null,\"muted_glyph\":null,\"nonselection_glyph\":{\"id\":\"4237\"},\"selection_glyph\":null,\"view\":{\"id\":\"4239\"}},\"id\":\"4238\",\"type\":\"GlyphRenderer\"},{\"attributes\":{\"axis\":{\"id\":\"4159\"},\"ticker\":null},\"id\":\"4162\",\"type\":\"Grid\"},{\"attributes\":{\"base\":24,\"mantissas\":[1,2,4,6,8,12],\"max_interval\":43200000.0,\"min_interval\":3600000.0,\"num_minor_ticks\":0},\"id\":\"4195\",\"type\":\"AdaptiveTicker\"},{\"attributes\":{\"bottom_units\":\"screen\",\"fill_alpha\":0.5,\"fill_color\":\"lightgrey\",\"left_units\":\"screen\",\"level\":\"overlay\",\"line_alpha\":1.0,\"line_color\":\"black\",\"line_dash\":[4,4],\"line_width\":2,\"render_mode\":\"css\",\"right_units\":\"screen\",\"top_units\":\"screen\"},\"id\":\"4173\",\"type\":\"BoxAnnotation\"},{\"attributes\":{\"days\":[1,2,3,4,5,6,7,8,9,10,11,12,13,14,15,16,17,18,19,20,21,22,23,24,25,26,27,28,29,30,31]},\"id\":\"4196\",\"type\":\"DaysTicker\"},{\"attributes\":{\"line_alpha\":0.1,\"line_color\":\"red\",\"line_width\":5,\"x\":{\"field\":\"date\"},\"y\":{\"field\":\"confirmed_cases\"}},\"id\":\"4237\",\"type\":\"Line\"},{\"attributes\":{\"active_drag\":\"auto\",\"active_inspect\":\"auto\",\"active_multi\":null,\"active_scroll\":\"auto\",\"active_tap\":\"auto\",\"tools\":[{\"id\":\"4167\"},{\"id\":\"4168\"},{\"id\":\"4169\"},{\"id\":\"4170\"},{\"id\":\"4171\"},{\"id\":\"4172\"}]},\"id\":\"4174\",\"type\":\"Toolbar\"},{\"attributes\":{\"axis\":{\"id\":\"4163\"},\"dimension\":1,\"ticker\":null},\"id\":\"4166\",\"type\":\"Grid\"},{\"attributes\":{\"days\":[1,4,7,10,13,16,19,22,25,28]},\"id\":\"4197\",\"type\":\"DaysTicker\"},{\"attributes\":{},\"id\":\"4259\",\"type\":\"Selection\"},{\"attributes\":{\"data\":{\"confirmed_cases\":{\"__ndarray__\":\"AAAAAAAA+H8AAAAAAADwPwAAAAAAAPA/VVVVVVVV9T8AAAAAAADwP5qZmZmZmek/VVVVVVVV9T8lSZIkSZL0PyVJkiRJkvQ/27Zt27Zt+z9u27Zt27b9PwAAAAAAAAhAJUmSJEmSDEAlSZIkSZIMQCVJkiRJkhBA27Zt27ZtE0AAAAAAAAAYQAAAAAAAABxASZIkSZIkIUDbtm3btm0hQAAAAAAAACBAt23btm3bIEAlSZIkSZIgQJIkSZIkSRpAkiRJkiRJGkC3bdu2bdsSQEmSJEmSJBFASZIkSZIkFUC3bdu2bdsWQAAAAAAAABhAbtu2bdu2GUC3bdu2bdsWQCVJkiRJkhhAJUmSJEmSGECSJEmSJEkgQG7btm3btiFASZIkSZIkJ0AAAAAAAAAqQJIkSZIkSS5AAAAAAAAAMEAAAAAAAAAxQAAAAAAAADJAkiRJkiRJMEBJkiRJkiQvQNu2bdu2bStAbtu2bdu2L0C3bdu2bdsuQEmSJEmSJC9ASZIkSZIkKUBu27Zt27YwQNu2bdu2bS9At23btm3bMUAlSZIkSZIqQLdt27Zt2ypA27Zt27ZtKUAAAAAAAAAqQAAAAAAAACRAJUmSJEmSJEAAAAAAAAAkQEmSJEmSJCNAJUmSJEmSJkCSJEmSJEkmQG7btm3btiVAt23btm3bIkAlSZIkSZIcQAAAAAAAACBA27Zt27ZtIUC3bdu2bdseQG7btm3btiFA27Zt27ZtIUCSJEmSJEkoQCVJkiRJkipAbtu2bdu2J0BJkiRJkiQrQG7btm3btitAbtu2bdu2LUC3bdu2bdsuQJIkSZIkSSxAbtu2bdu2LUBJkiRJkiQtQLdt27Zt2ypAt23btm3bJkCSJEmSJEkmQLdt27Zt2yZAkiRJkiRJJkBJkiRJkiQnQA==\",\"dtype\":\"float64\",\"shape\":[86]},\"date\":{\"__ndarray__\":\"AACAo1wOd0IAAEAJrw53QgAAAG8BD3dCAADA1FMPd0IAAIA6pg93QgAAQKD4D3dCAAAABksQd0IAAMBrnRB3QgAAgNHvEHdCAABAN0IRd0IAAACdlBF3QgAAwALnEXdCAACAaDkSd0IAAEDOixJ3QgAAADTeEndCAADAmTATd0IAAID/ghN3QgAAQGXVE3dCAAAAyycUd0IAAMAwehR3QgAAgJbMFHdCAABA/B4Vd0IAAABicRV3QgAAwMfDFXdCAACALRYWd0IAAECTaBZ3QgAAAPm6FndCAADAXg0Xd0IAAIDEXxd3QgAAQCqyF3dCAAAAkAQYd0IAAMD1Vhh3QgAAgFupGHdCAABAwfsYd0IAAAAnThl3QgAAwIygGXdCAACA8vIZd0IAAEBYRRp3QgAAAL6XGndCAADAI+oad0IAAICJPBt3QgAAQO+OG3dCAAAAVeEbd0IAAMC6Mxx3QgAAgCCGHHdCAABAhtgcd0IAAADsKh13QgAAwFF9HXdCAACAt88dd0IAAEAdIh53QgAAAIN0HndCAADA6MYed0IAAIBOGR93QgAAQLRrH3dCAAAAGr4fd0IAAMB/ECB3QgAAgOViIHdCAABAS7Ugd0IAAACxByF3QgAAwBZaIXdCAACAfKwhd0IAAEDi/iF3QgAAAEhRIndCAADAraMid0IAAIAT9iJ3QgAAQHlII3dCAAAA35ojd0IAAMBE7SN3QgAAgKo/JHdCAABAEJIkd0IAAAB25CR3QgAAwNs2JXdCAACAQYkld0IAAECn2yV3QgAAAA0uJndCAADAcoAmd0IAAIDY0iZ3QgAAQD4lJ3dCAAAApHcnd0IAAMAJyid3QgAAgG8cKHdCAABA1W4od0IAAAA7wSh3QgAAwKATKXdCAACABmYpd0IAAEBsuCl3Qg==\",\"dtype\":\"float64\",\"shape\":[86]},\"index\":[0,1,2,3,4,5,6,7,8,9,10,11,12,13,14,15,16,17,18,19,20,21,22,23,24,25,26,27,28,29,30,31,32,33,34,35,36,37,38,39,40,41,42,43,44,45,46,47,48,49,50,51,52,53,54,55,56,57,58,59,60,61,62,63,64,65,66,67,68,69,70,71,72,73,74,75,76,77,78,79,80,81,82,83,84,85]},\"selected\":{\"id\":\"4490\"},\"selection_policy\":{\"id\":\"4491\"}},\"id\":\"4234\",\"type\":\"ColumnDataSource\"},{\"attributes\":{\"days\":[1,8,15,22]},\"id\":\"4198\",\"type\":\"DaysTicker\"},{\"attributes\":{\"line_alpha\":0.2,\"line_color\":\"red\",\"line_width\":5,\"x\":{\"field\":\"date\"},\"y\":{\"field\":\"confirmed_cases\"}},\"id\":\"4236\",\"type\":\"Line\"},{\"attributes\":{},\"id\":\"4164\",\"type\":\"BasicTicker\"},{\"attributes\":{\"source\":{\"id\":\"4234\"}},\"id\":\"4239\",\"type\":\"CDSView\"},{\"attributes\":{\"months\":[0,1,2,3,4,5,6,7,8,9,10,11]},\"id\":\"4200\",\"type\":\"MonthsTicker\"},{\"attributes\":{\"months\":[0,2,4,6,8,10]},\"id\":\"4201\",\"type\":\"MonthsTicker\"},{\"attributes\":{},\"id\":\"4204\",\"type\":\"YearsTicker\"},{\"attributes\":{},\"id\":\"4490\",\"type\":\"Selection\"},{\"attributes\":{},\"id\":\"4153\",\"type\":\"DataRange1d\"},{\"attributes\":{},\"id\":\"4260\",\"type\":\"UnionRenderers\"},{\"attributes\":{\"items\":[{\"id\":\"4207\"},{\"id\":\"4233\"},{\"id\":\"4262\"}]},\"id\":\"4206\",\"type\":\"Legend\"},{\"attributes\":{\"label\":{\"value\":\"7-day rolling avg (NoHo)\"},\"renderers\":[{\"id\":\"4238\"}]},\"id\":\"4262\",\"type\":\"LegendItem\"},{\"attributes\":{\"label\":{\"value\":\"Daily new cases\"},\"renderers\":[{\"id\":\"4186\"}]},\"id\":\"4207\",\"type\":\"LegendItem\"},{\"attributes\":{},\"id\":\"4170\",\"type\":\"SaveTool\"},{\"attributes\":{},\"id\":\"4491\",\"type\":\"UnionRenderers\"},{\"attributes\":{\"num_minor_ticks\":5,\"tickers\":[{\"id\":\"4193\"},{\"id\":\"4194\"},{\"id\":\"4195\"},{\"id\":\"4196\"},{\"id\":\"4197\"},{\"id\":\"4198\"},{\"id\":\"4199\"},{\"id\":\"4200\"},{\"id\":\"4201\"},{\"id\":\"4202\"},{\"id\":\"4203\"},{\"id\":\"4204\"}]},\"id\":\"4160\",\"type\":\"DatetimeTicker\"},{\"attributes\":{\"data\":{\"confirmed_cases\":{\"__ndarray__\":\"AAAAAAAA+H8AAAAAAAAAAAAAAAAAAPA/AAAAAAAAAAAAAAAAAAAIQAAAAAAAAAAAAAAAAAAAAAAAAAAAAAAQQAAAAAAAAAAAAAAAAAAAAAAAAAAAAAAQQAAAAAAAAPA/AAAAAAAACEAAAAAAAADwPwAAAAAAAAAAAAAAAAAAAAAAAAAAAAAAAAAAAAAAAABAAAAAAAAAAAAAAAAAAADwPwAAAAAAAAAAAAAAAAAAAAAAAAAAAAAAAAAAAAAAAAAAAAAAAAAAAAAAAAAAAAAAAAAAAAAAAPA/AAAAAAAAAAAAAAAAAAAAAAAAAAAAAAAAAAAAAAAAAEAAAAAAAAAAAAAAAAAAAPA/AAAAAAAA8D8AAAAAAADwPwAAAAAAAPA/AAAAAAAAAEAAAAAAAAAAQAAAAAAAAPA/AAAAAAAA8D8AAAAAAAAAQAAAAAAAAPA/AAAAAAAAAAAAAAAAAAAIQAAAAAAAABhAAAAAAAAAAAAAAAAAAAAYQAAAAAAAABBAAAAAAAAAAAAAAAAAAADwPwAAAAAAAAAAAAAAAAAAAAAAAAAAAAAAAAAAAAAAAABAAAAAAAAAEEAAAAAAAAAAQAAAAAAAAPA/AAAAAAAAAAAAAAAAAAAAAAAAAAAAAPA/AAAAAAAAAAAAAAAAAAAAQAAAAAAAAAAAAAAAAAAAAEAAAAAAAAAAAAAAAAAAAABAAAAAAAAAAAAAAAAAAAAAQAAAAAAAAPA/AAAAAAAA8D8AAAAAAAAAAAAAAAAAAPA/AAAAAAAAAEAAAAAAAADwPwAAAAAAAPA/AAAAAAAAAAAAAAAAAAAAQAAAAAAAAABAAAAAAAAAAAAAAAAAAAAAAAAAAAAAAPA/AAAAAAAA8D8AAAAAAADwPwAAAAAAAAAA\",\"dtype\":\"float64\",\"shape\":[84]},\"date\":{\"__ndarray__\":\"AAAAbwEPd0IAAMDUUw93QgAAgDqmD3dCAABAoPgPd0IAAAAGSxB3QgAAwGudEHdCAACA0e8Qd0IAAEA3QhF3QgAAAJ2UEXdCAADAAucRd0IAAIBoORJ3QgAAQM6LEndCAAAANN4Sd0IAAMCZMBN3QgAAgP+CE3dCAABAZdUTd0IAAADLJxR3QgAAwDB6FHdCAACAlswUd0IAAED8HhV3QgAAAGJxFXdCAADAx8MVd0IAAIAtFhZ3QgAAQJNoFndCAAAA+boWd0IAAMBeDRd3QgAAgMRfF3dCAABAKrIXd0IAAACQBBh3QgAAwPVWGHdCAACAW6kYd0IAAEDB+xh3QgAAACdOGXdCAADAjKAZd0IAAIDy8hl3QgAAQFhFGndCAAAAvpcad0IAAMAj6hp3QgAAgIk8G3dCAABA744bd0IAAABV4Rt3QgAAwLozHHdCAACAIIYcd0IAAECG2Bx3QgAAAOwqHXdCAADAUX0dd0IAAIC3zx13QgAAQB0iHndCAAAAg3Qed0IAAMDoxh53QgAAgE4ZH3dCAABAtGsfd0IAAAAavh93QgAAwH8QIHdCAACA5WIgd0IAAEBLtSB3QgAAALEHIXdCAADAFlohd0IAAIB8rCF3QgAAQOL+IXdCAAAASFEid0IAAMCtoyJ3QgAAgBP2IndCAABAeUgjd0IAAADfmiN3QgAAwETtI3dCAACAqj8kd0IAAEAQkiR3QgAAAHbkJHdCAADA2zYld0IAAIBBiSV3QgAAQKfbJXdCAAAADS4md0IAAMBygCZ3QgAAgNjSJndCAABAPiUnd0IAAACkdyd3QgAAwAnKJ3dCAACAbxwod0IAAEDVbih3QgAAADvBKHdCAADAoBMpd0IAAIAGZil3QgAAQGy4KXdC\",\"dtype\":\"float64\",\"shape\":[84]},\"index\":[0,1,2,3,4,5,6,7,8,9,10,11,12,13,14,15,16,17,18,19,20,21,22,23,24,25,26,27,28,29,30,31,32,33,34,35,36,37,38,39,40,41,42,43,44,45,46,47,48,49,50,51,52,53,54,55,56,57,58,59,60,61,62,63,64,65,66,67,68,69,70,71,72,73,74,75,76,77,78,79,80,81,82,83]},\"selected\":{\"id\":\"4230\"},\"selection_policy\":{\"id\":\"4231\"}},\"id\":\"4181\",\"type\":\"ColumnDataSource\"},{\"attributes\":{},\"id\":\"4172\",\"type\":\"HelpTool\"},{\"attributes\":{},\"id\":\"4230\",\"type\":\"Selection\"},{\"attributes\":{},\"id\":\"4168\",\"type\":\"WheelZoomTool\"},{\"attributes\":{\"fill_alpha\":{\"value\":0.1},\"fill_color\":{\"value\":\"green\"},\"line_alpha\":{\"value\":0.1},\"line_color\":{\"value\":\"green\"},\"top\":{\"field\":\"confirmed_cases\"},\"width\":{\"value\":0.4},\"x\":{\"field\":\"date\"}},\"id\":\"4185\",\"type\":\"VBar\"},{\"attributes\":{\"line_alpha\":0.1,\"line_color\":\"navy\",\"line_width\":5,\"x\":{\"field\":\"date\"},\"y\":{\"field\":\"confirmed_cases\"}},\"id\":\"4210\",\"type\":\"Line\"},{\"attributes\":{},\"id\":\"4151\",\"type\":\"DataRange1d\"},{\"attributes\":{\"data_source\":{\"id\":\"4181\"},\"glyph\":{\"id\":\"4184\"},\"hover_glyph\":null,\"muted_glyph\":null,\"nonselection_glyph\":{\"id\":\"4185\"},\"selection_glyph\":null,\"view\":{\"id\":\"4187\"}},\"id\":\"4186\",\"type\":\"GlyphRenderer\"},{\"attributes\":{\"data_source\":{\"id\":\"4182\"},\"glyph\":{\"id\":\"4209\"},\"hover_glyph\":null,\"muted_glyph\":null,\"nonselection_glyph\":{\"id\":\"4210\"},\"selection_glyph\":null,\"view\":{\"id\":\"4212\"}},\"id\":\"4211\",\"type\":\"GlyphRenderer\"},{\"attributes\":{},\"id\":\"4171\",\"type\":\"ResetTool\"},{\"attributes\":{},\"id\":\"4157\",\"type\":\"LinearScale\"},{\"attributes\":{\"line_alpha\":0.3,\"line_color\":\"navy\",\"line_width\":5,\"x\":{\"field\":\"date\"},\"y\":{\"field\":\"confirmed_cases\"}},\"id\":\"4209\",\"type\":\"Line\"},{\"attributes\":{},\"id\":\"4155\",\"type\":\"LinearScale\"},{\"attributes\":{\"overlay\":{\"id\":\"4173\"}},\"id\":\"4169\",\"type\":\"BoxZoomTool\"},{\"attributes\":{\"data\":{\"confirmed_cases\":{\"__ndarray__\":\"AAAAAAAA+H8AAAAAAAAAAAAAAAAAAOA/VVVVVVVV1T8AAAAAAADwP5qZmZmZmek/VVVVVVVV5T+SJEmSJEnyP5IkSZIkSfI/AAAAAAAA8D9JkiRJkiT5PyVJkiRJkvQ/27Zt27Zt+z9u27Zt27b9PyVJkiRJkvQ/JUmSJEmS9D8lSZIkSZL0PwAAAAAAAPA/27Zt27Zt6z+SJEmSJEniP9u2bdu2bds/27Zt27Zt2z/btm3btm3bP9u2bdu2bds/kiRJkiRJwj+SJEmSJEnCP5IkSZIkScI/kiRJkiRJwj+SJEmSJEnCP5IkSZIkScI/27Zt27Zt2z/btm3btm3bP5IkSZIkSeI/kiRJkiRJ4j+3bdu2bdvmP9u2bdu2bes/kiRJkiRJ8j+SJEmSJEnyPyVJkiRJkvQ/JUmSJEmS9D+3bdu2bdv2P7dt27Zt2/Y/JUmSJEmS9D+3bdu2bdv2PwAAAAAAAABAbtu2bdu2/T8lSZIkSZIEQLdt27Zt2wZAbtu2bdu2BUC3bdu2bdsGQNu2bdu2bQNASZIkSZIk+T9JkiRJkiT5PwAAAAAAAPA/AAAAAAAA8D8lSZIkSZL0PyVJkiRJkvQ/JUmSJEmS9D8lSZIkSZL0P7dt27Zt2/Y/kiRJkiRJ8j/btm3btm3rP5IkSZIkSeI/t23btm3b5j+3bdu2bdvmPwAAAAAAAPA/27Zt27Zt6z+SJEmSJEnyPwAAAAAAAPA/kiRJkiRJ8j/btm3btm3rPwAAAAAAAPA/AAAAAAAA8D+SJEmSJEnyPwAAAAAAAPA/27Zt27Zt6z8AAAAAAADwPyVJkiRJkvQ/kiRJkiRJ8j/btm3btm3rP9u2bdu2bes/27Zt27Zt6z8AAAAAAADwP7dt27Zt2+Y/\",\"dtype\":\"float64\",\"shape\":[84]},\"date\":{\"__ndarray__\":\"AAAAbwEPd0IAAMDUUw93QgAAgDqmD3dCAABAoPgPd0IAAAAGSxB3QgAAwGudEHdCAACA0e8Qd0IAAEA3QhF3QgAAAJ2UEXdCAADAAucRd0IAAIBoORJ3QgAAQM6LEndCAAAANN4Sd0IAAMCZMBN3QgAAgP+CE3dCAABAZdUTd0IAAADLJxR3QgAAwDB6FHdCAACAlswUd0IAAED8HhV3QgAAAGJxFXdCAADAx8MVd0IAAIAtFhZ3QgAAQJNoFndCAAAA+boWd0IAAMBeDRd3QgAAgMRfF3dCAABAKrIXd0IAAACQBBh3QgAAwPVWGHdCAACAW6kYd0IAAEDB+xh3QgAAACdOGXdCAADAjKAZd0IAAIDy8hl3QgAAQFhFGndCAAAAvpcad0IAAMAj6hp3QgAAgIk8G3dCAABA744bd0IAAABV4Rt3QgAAwLozHHdCAACAIIYcd0IAAECG2Bx3QgAAAOwqHXdCAADAUX0dd0IAAIC3zx13QgAAQB0iHndCAAAAg3Qed0IAAMDoxh53QgAAgE4ZH3dCAABAtGsfd0IAAAAavh93QgAAwH8QIHdCAACA5WIgd0IAAEBLtSB3QgAAALEHIXdCAADAFlohd0IAAIB8rCF3QgAAQOL+IXdCAAAASFEid0IAAMCtoyJ3QgAAgBP2IndCAABAeUgjd0IAAADfmiN3QgAAwETtI3dCAACAqj8kd0IAAEAQkiR3QgAAAHbkJHdCAADA2zYld0IAAIBBiSV3QgAAQKfbJXdCAAAADS4md0IAAMBygCZ3QgAAgNjSJndCAABAPiUnd0IAAACkdyd3QgAAwAnKJ3dCAACAbxwod0IAAEDVbih3QgAAADvBKHdCAADAoBMpd0IAAIAGZil3QgAAQGy4KXdC\",\"dtype\":\"float64\",\"shape\":[84]},\"index\":[0,1,2,3,4,5,6,7,8,9,10,11,12,13,14,15,16,17,18,19,20,21,22,23,24,25,26,27,28,29,30,31,32,33,34,35,36,37,38,39,40,41,42,43,44,45,46,47,48,49,50,51,52,53,54,55,56,57,58,59,60,61,62,63,64,65,66,67,68,69,70,71,72,73,74,75,76,77,78,79,80,81,82,83]},\"selected\":{\"id\":\"4259\"},\"selection_policy\":{\"id\":\"4260\"}},\"id\":\"4182\",\"type\":\"ColumnDataSource\"},{\"attributes\":{\"source\":{\"id\":\"4182\"}},\"id\":\"4212\",\"type\":\"CDSView\"},{\"attributes\":{\"fill_alpha\":{\"value\":0.8},\"fill_color\":{\"value\":\"green\"},\"line_alpha\":{\"value\":0.8},\"line_color\":{\"value\":\"green\"},\"top\":{\"field\":\"confirmed_cases\"},\"width\":{\"value\":0.4},\"x\":{\"field\":\"date\"}},\"id\":\"4184\",\"type\":\"VBar\"},{\"attributes\":{},\"id\":\"4167\",\"type\":\"PanTool\"},{\"attributes\":{\"source\":{\"id\":\"4181\"}},\"id\":\"4187\",\"type\":\"CDSView\"},{\"attributes\":{},\"id\":\"4231\",\"type\":\"UnionRenderers\"},{\"attributes\":{},\"id\":\"4190\",\"type\":\"DatetimeTickFormatter\"}],\"root_ids\":[\"4148\"]},\"title\":\"Bokeh Application\",\"version\":\"2.0.2\"}};\n",
       "  var render_items = [{\"docid\":\"74000341-c36a-4679-ad69-fca5ef2c6502\",\"root_ids\":[\"4148\"],\"roots\":{\"4148\":\"d3eed4d8-3686-4e5d-aa57-51bb709f9e05\"}}];\n",
       "  root.Bokeh.embed.embed_items_notebook(docs_json, render_items);\n",
       "\n",
       "  }\n",
       "  if (root.Bokeh !== undefined) {\n",
       "    embed_document(root);\n",
       "  } else {\n",
       "    var attempts = 0;\n",
       "    var timer = setInterval(function(root) {\n",
       "      if (root.Bokeh !== undefined) {\n",
       "        clearInterval(timer);\n",
       "        embed_document(root);\n",
       "      } else {\n",
       "        attempts++;\n",
       "        if (attempts > 100) {\n",
       "          clearInterval(timer);\n",
       "          console.log(\"Bokeh: ERROR: Unable to run BokehJS code because BokehJS library is missing\");\n",
       "        }\n",
       "      }\n",
       "    }, 10, root)\n",
       "  }\n",
       "})(window);"
      ],
      "application/vnd.bokehjs_exec.v0+json": ""
     },
     "metadata": {
      "application/vnd.bokehjs_exec.v0+json": {
       "id": "4148"
      }
     },
     "output_type": "display_data"
    },
    {
     "data": {
      "text/html": [
       "\n",
       "\n",
       "\n",
       "\n",
       "\n",
       "\n",
       "  <div class=\"bk-root\" id=\"8e7f538e-c00c-4274-b122-80652dc49a81\" data-root-id=\"4637\"></div>\n"
      ]
     },
     "metadata": {},
     "output_type": "display_data"
    },
    {
     "data": {
      "application/javascript": [
       "(function(root) {\n",
       "  function embed_document(root) {\n",
       "    \n",
       "  var docs_json = {\"6e8e777b-e6ca-4ac1-9510-f3b1f777de3b\":{\"roots\":{\"references\":[{\"attributes\":{\"below\":[{\"id\":\"4648\"}],\"center\":[{\"id\":\"4651\"},{\"id\":\"4655\"},{\"id\":\"4695\"}],\"left\":[{\"id\":\"4652\"}],\"plot_height\":400,\"plot_width\":1000,\"renderers\":[{\"id\":\"4675\"},{\"id\":\"4700\"},{\"id\":\"4727\"}],\"title\":{\"id\":\"4638\"},\"toolbar\":{\"id\":\"4663\"},\"x_range\":{\"id\":\"4640\"},\"x_scale\":{\"id\":\"4644\"},\"y_range\":{\"id\":\"4642\"},\"y_scale\":{\"id\":\"4646\"}},\"id\":\"4637\",\"subtype\":\"Figure\",\"type\":\"Plot\"},{\"attributes\":{},\"id\":\"4693\",\"type\":\"YearsTicker\"},{\"attributes\":{},\"id\":\"4719\",\"type\":\"Selection\"},{\"attributes\":{\"axis\":{\"id\":\"4652\"},\"dimension\":1,\"ticker\":null},\"id\":\"4655\",\"type\":\"Grid\"},{\"attributes\":{\"fill_alpha\":{\"value\":0.1},\"fill_color\":{\"value\":\"green\"},\"line_alpha\":{\"value\":0.1},\"line_color\":{\"value\":\"green\"},\"top\":{\"field\":\"confirmed_cases\"},\"width\":{\"value\":0.4},\"x\":{\"field\":\"date\"}},\"id\":\"4674\",\"type\":\"VBar\"},{\"attributes\":{\"data_source\":{\"id\":\"4671\"},\"glyph\":{\"id\":\"4698\"},\"hover_glyph\":null,\"muted_glyph\":null,\"nonselection_glyph\":{\"id\":\"4699\"},\"selection_glyph\":null,\"view\":{\"id\":\"4701\"}},\"id\":\"4700\",\"type\":\"GlyphRenderer\"},{\"attributes\":{\"data_source\":{\"id\":\"4670\"},\"glyph\":{\"id\":\"4673\"},\"hover_glyph\":null,\"muted_glyph\":null,\"nonselection_glyph\":{\"id\":\"4674\"},\"selection_glyph\":null,\"view\":{\"id\":\"4676\"}},\"id\":\"4675\",\"type\":\"GlyphRenderer\"},{\"attributes\":{\"data\":{\"confirmed_cases\":{\"__ndarray__\":\"AAAAAAAA+H8AAAAAAAAAAAAAAAAAAPA/AAAAAAAAAAAAAAAAAAAAQAAAAAAAAAAAAAAAAAAAAAAAAAAAAAAAAAAAAAAAAAAAAAAAAAAAAEAAAAAAAADwPwAAAAAAAAhAAAAAAAAACEAAAAAAAAAQQAAAAAAAABRAAAAAAAAAEEAAAAAAAAAcQAAAAAAAAAhAAAAAAAAAAEAAAAAAAAAuQAAAAAAAACBAAAAAAAAAAAAAAAAAAAAoQAAAAAAAABBAAAAAAAAACEAAAAAAAAAYQAAAAAAAABhAAAAAAAAAEEAAAAAAAAAgQAAAAAAAACJAAAAAAAAAEEAAAAAAAAAcQAAAAAAAADJAAAAAAAAAPkAAAAAAAAAzQAAAAAAAAC5AAAAAAAAAMEAAAAAAAAAiQAAAAAAAABhAAAAAAAAALkAAAAAAAAAUQAAAAAAAADRAAAAAAAAAAAAAAAAAAAA+QAAAAAAAACpAAAAAAAAAKEAAAAAAAAAqQAAAAAAAAEdAAAAAAAAAJEAAAAAAAAAkQAAAAAAAADJAAAAAAAAAGEAAAAAAAAAcQAAAAAAAACRAAAAAAAAANEAAAAAAAAAxQAAAAAAAADBAAAAAAAAAAAAAAAAAAAA4QAAAAAAAACxAAAAAAAAAIkAAAAAAAAAyQAAAAAAAAAAAAAAAAAAAN0AAAAAAAAAsQAAAAAAAAC5AAAAAAAAAHEAAAAAAAAAoQAAAAAAAACRAAAAAAAAAKkAAAAAAAAAkQAAAAAAAADBAAAAAAAAAO0AAAAAAAAA4QAAAAAAAADBAAAAAAAAALEAAAAAAAAAuQAAAAAAAADtAAAAAAAAAIEAAAAAAAAAiQAAAAAAAACpAAAAAAAAANUAAAAAAAAAwQAAAAAAAACRA\",\"dtype\":\"float64\",\"shape\":[84]},\"date\":{\"__ndarray__\":\"AAAAbwEPd0IAAMDUUw93QgAAgDqmD3dCAABAoPgPd0IAAAAGSxB3QgAAwGudEHdCAACA0e8Qd0IAAEA3QhF3QgAAAJ2UEXdCAADAAucRd0IAAIBoORJ3QgAAQM6LEndCAAAANN4Sd0IAAMCZMBN3QgAAgP+CE3dCAABAZdUTd0IAAADLJxR3QgAAwDB6FHdCAACAlswUd0IAAED8HhV3QgAAAGJxFXdCAADAx8MVd0IAAIAtFhZ3QgAAQJNoFndCAAAA+boWd0IAAMBeDRd3QgAAgMRfF3dCAABAKrIXd0IAAACQBBh3QgAAwPVWGHdCAACAW6kYd0IAAEDB+xh3QgAAACdOGXdCAADAjKAZd0IAAIDy8hl3QgAAQFhFGndCAAAAvpcad0IAAMAj6hp3QgAAgIk8G3dCAABA744bd0IAAABV4Rt3QgAAwLozHHdCAACAIIYcd0IAAECG2Bx3QgAAAOwqHXdCAADAUX0dd0IAAIC3zx13QgAAQB0iHndCAAAAg3Qed0IAAMDoxh53QgAAgE4ZH3dCAABAtGsfd0IAAAAavh93QgAAwH8QIHdCAACA5WIgd0IAAEBLtSB3QgAAALEHIXdCAADAFlohd0IAAIB8rCF3QgAAQOL+IXdCAAAASFEid0IAAMCtoyJ3QgAAgBP2IndCAABAeUgjd0IAAADfmiN3QgAAwETtI3dCAACAqj8kd0IAAEAQkiR3QgAAAHbkJHdCAADA2zYld0IAAIBBiSV3QgAAQKfbJXdCAAAADS4md0IAAMBygCZ3QgAAgNjSJndCAABAPiUnd0IAAACkdyd3QgAAwAnKJ3dCAACAbxwod0IAAEDVbih3QgAAADvBKHdCAADAoBMpd0IAAIAGZil3QgAAQGy4KXdC\",\"dtype\":\"float64\",\"shape\":[84]},\"index\":[0,1,2,3,4,5,6,7,8,9,10,11,12,13,14,15,16,17,18,19,20,21,22,23,24,25,26,27,28,29,30,31,32,33,34,35,36,37,38,39,40,41,42,43,44,45,46,47,48,49,50,51,52,53,54,55,56,57,58,59,60,61,62,63,64,65,66,67,68,69,70,71,72,73,74,75,76,77,78,79,80,81,82,83]},\"selected\":{\"id\":\"4719\"},\"selection_policy\":{\"id\":\"4720\"}},\"id\":\"4670\",\"type\":\"ColumnDataSource\"},{\"attributes\":{},\"id\":\"4653\",\"type\":\"BasicTicker\"},{\"attributes\":{\"line_alpha\":0.1,\"line_color\":\"navy\",\"line_width\":5,\"x\":{\"field\":\"date\"},\"y\":{\"field\":\"confirmed_cases\"}},\"id\":\"4699\",\"type\":\"Line\"},{\"attributes\":{\"source\":{\"id\":\"4670\"}},\"id\":\"4676\",\"type\":\"CDSView\"},{\"attributes\":{\"source\":{\"id\":\"4671\"}},\"id\":\"4701\",\"type\":\"CDSView\"},{\"attributes\":{},\"id\":\"4679\",\"type\":\"DatetimeTickFormatter\"},{\"attributes\":{\"formatter\":{\"id\":\"4681\"},\"ticker\":{\"id\":\"4653\"}},\"id\":\"4652\",\"type\":\"LinearAxis\"},{\"attributes\":{\"axis\":{\"id\":\"4648\"},\"ticker\":null},\"id\":\"4651\",\"type\":\"Grid\"},{\"attributes\":{\"fill_alpha\":{\"value\":0.8},\"fill_color\":{\"value\":\"green\"},\"line_alpha\":{\"value\":0.8},\"line_color\":{\"value\":\"green\"},\"top\":{\"field\":\"confirmed_cases\"},\"width\":{\"value\":0.4},\"x\":{\"field\":\"date\"}},\"id\":\"4673\",\"type\":\"VBar\"},{\"attributes\":{\"formatter\":{\"id\":\"4679\"},\"ticker\":{\"id\":\"4649\"}},\"id\":\"4648\",\"type\":\"DatetimeAxis\"},{\"attributes\":{},\"id\":\"4720\",\"type\":\"UnionRenderers\"},{\"attributes\":{\"label\":{\"value\":\"7-day rolling avg (Van Nuys)\"},\"renderers\":[{\"id\":\"4700\"}]},\"id\":\"4722\",\"type\":\"LegendItem\"},{\"attributes\":{\"num_minor_ticks\":5,\"tickers\":[{\"id\":\"4682\"},{\"id\":\"4683\"},{\"id\":\"4684\"},{\"id\":\"4685\"},{\"id\":\"4686\"},{\"id\":\"4687\"},{\"id\":\"4688\"},{\"id\":\"4689\"},{\"id\":\"4690\"},{\"id\":\"4691\"},{\"id\":\"4692\"},{\"id\":\"4693\"}]},\"id\":\"4649\",\"type\":\"DatetimeTicker\"},{\"attributes\":{},\"id\":\"4681\",\"type\":\"BasicTickFormatter\"},{\"attributes\":{\"mantissas\":[1,2,5],\"max_interval\":500.0,\"num_minor_ticks\":0},\"id\":\"4682\",\"type\":\"AdaptiveTicker\"},{\"attributes\":{},\"id\":\"4640\",\"type\":\"DataRange1d\"},{\"attributes\":{},\"id\":\"4646\",\"type\":\"LinearScale\"},{\"attributes\":{},\"id\":\"4644\",\"type\":\"LinearScale\"},{\"attributes\":{\"base\":60,\"mantissas\":[1,2,5,10,15,20,30],\"max_interval\":1800000.0,\"min_interval\":1000.0,\"num_minor_ticks\":0},\"id\":\"4683\",\"type\":\"AdaptiveTicker\"},{\"attributes\":{\"data_source\":{\"id\":\"4723\"},\"glyph\":{\"id\":\"4725\"},\"hover_glyph\":null,\"muted_glyph\":null,\"nonselection_glyph\":{\"id\":\"4726\"},\"selection_glyph\":null,\"view\":{\"id\":\"4728\"}},\"id\":\"4727\",\"type\":\"GlyphRenderer\"},{\"attributes\":{\"bottom_units\":\"screen\",\"fill_alpha\":0.5,\"fill_color\":\"lightgrey\",\"left_units\":\"screen\",\"level\":\"overlay\",\"line_alpha\":1.0,\"line_color\":\"black\",\"line_dash\":[4,4],\"line_width\":2,\"render_mode\":\"css\",\"right_units\":\"screen\",\"top_units\":\"screen\"},\"id\":\"4662\",\"type\":\"BoxAnnotation\"},{\"attributes\":{},\"id\":\"4642\",\"type\":\"DataRange1d\"},{\"attributes\":{\"base\":24,\"mantissas\":[1,2,4,6,8,12],\"max_interval\":43200000.0,\"min_interval\":3600000.0,\"num_minor_ticks\":0},\"id\":\"4684\",\"type\":\"AdaptiveTicker\"},{\"attributes\":{\"line_alpha\":0.1,\"line_color\":\"red\",\"line_width\":5,\"x\":{\"field\":\"date\"},\"y\":{\"field\":\"confirmed_cases\"}},\"id\":\"4726\",\"type\":\"Line\"},{\"attributes\":{\"days\":[1,2,3,4,5,6,7,8,9,10,11,12,13,14,15,16,17,18,19,20,21,22,23,24,25,26,27,28,29,30,31]},\"id\":\"4685\",\"type\":\"DaysTicker\"},{\"attributes\":{},\"id\":\"4656\",\"type\":\"PanTool\"},{\"attributes\":{\"overlay\":{\"id\":\"4662\"}},\"id\":\"4658\",\"type\":\"BoxZoomTool\"},{\"attributes\":{},\"id\":\"4748\",\"type\":\"Selection\"},{\"attributes\":{\"days\":[1,4,7,10,13,16,19,22,25,28]},\"id\":\"4686\",\"type\":\"DaysTicker\"},{\"attributes\":{\"data\":{\"confirmed_cases\":{\"__ndarray__\":\"AAAAAAAA+H8AAAAAAADwPwAAAAAAAPA/VVVVVVVV9T8AAAAAAADwP5qZmZmZmek/VVVVVVVV9T8lSZIkSZL0PyVJkiRJkvQ/27Zt27Zt+z9u27Zt27b9PwAAAAAAAAhAJUmSJEmSDEAlSZIkSZIMQCVJkiRJkhBA27Zt27ZtE0AAAAAAAAAYQAAAAAAAABxASZIkSZIkIUDbtm3btm0hQAAAAAAAACBAt23btm3bIEAlSZIkSZIgQJIkSZIkSRpAkiRJkiRJGkC3bdu2bdsSQEmSJEmSJBFASZIkSZIkFUC3bdu2bdsWQAAAAAAAABhAbtu2bdu2GUC3bdu2bdsWQCVJkiRJkhhAJUmSJEmSGECSJEmSJEkgQG7btm3btiFASZIkSZIkJ0AAAAAAAAAqQJIkSZIkSS5AAAAAAAAAMEAAAAAAAAAxQAAAAAAAADJAkiRJkiRJMEBJkiRJkiQvQNu2bdu2bStAbtu2bdu2L0C3bdu2bdsuQEmSJEmSJC9ASZIkSZIkKUBu27Zt27YwQNu2bdu2bS9At23btm3bMUAlSZIkSZIqQLdt27Zt2ypA27Zt27ZtKUAAAAAAAAAqQAAAAAAAACRAJUmSJEmSJEAAAAAAAAAkQEmSJEmSJCNAJUmSJEmSJkCSJEmSJEkmQG7btm3btiVAt23btm3bIkAlSZIkSZIcQAAAAAAAACBA27Zt27ZtIUC3bdu2bdseQG7btm3btiFA27Zt27ZtIUCSJEmSJEkoQCVJkiRJkipAbtu2bdu2J0BJkiRJkiQrQG7btm3btitAbtu2bdu2LUC3bdu2bdsuQJIkSZIkSSxAbtu2bdu2LUBJkiRJkiQtQLdt27Zt2ypAt23btm3bJkCSJEmSJEkmQLdt27Zt2yZAkiRJkiRJJkBJkiRJkiQnQA==\",\"dtype\":\"float64\",\"shape\":[86]},\"date\":{\"__ndarray__\":\"AACAo1wOd0IAAEAJrw53QgAAAG8BD3dCAADA1FMPd0IAAIA6pg93QgAAQKD4D3dCAAAABksQd0IAAMBrnRB3QgAAgNHvEHdCAABAN0IRd0IAAACdlBF3QgAAwALnEXdCAACAaDkSd0IAAEDOixJ3QgAAADTeEndCAADAmTATd0IAAID/ghN3QgAAQGXVE3dCAAAAyycUd0IAAMAwehR3QgAAgJbMFHdCAABA/B4Vd0IAAABicRV3QgAAwMfDFXdCAACALRYWd0IAAECTaBZ3QgAAAPm6FndCAADAXg0Xd0IAAIDEXxd3QgAAQCqyF3dCAAAAkAQYd0IAAMD1Vhh3QgAAgFupGHdCAABAwfsYd0IAAAAnThl3QgAAwIygGXdCAACA8vIZd0IAAEBYRRp3QgAAAL6XGndCAADAI+oad0IAAICJPBt3QgAAQO+OG3dCAAAAVeEbd0IAAMC6Mxx3QgAAgCCGHHdCAABAhtgcd0IAAADsKh13QgAAwFF9HXdCAACAt88dd0IAAEAdIh53QgAAAIN0HndCAADA6MYed0IAAIBOGR93QgAAQLRrH3dCAAAAGr4fd0IAAMB/ECB3QgAAgOViIHdCAABAS7Ugd0IAAACxByF3QgAAwBZaIXdCAACAfKwhd0IAAEDi/iF3QgAAAEhRIndCAADAraMid0IAAIAT9iJ3QgAAQHlII3dCAAAA35ojd0IAAMBE7SN3QgAAgKo/JHdCAABAEJIkd0IAAAB25CR3QgAAwNs2JXdCAACAQYkld0IAAECn2yV3QgAAAA0uJndCAADAcoAmd0IAAIDY0iZ3QgAAQD4lJ3dCAAAApHcnd0IAAMAJyid3QgAAgG8cKHdCAABA1W4od0IAAAA7wSh3QgAAwKATKXdCAACABmYpd0IAAEBsuCl3Qg==\",\"dtype\":\"float64\",\"shape\":[86]},\"index\":[0,1,2,3,4,5,6,7,8,9,10,11,12,13,14,15,16,17,18,19,20,21,22,23,24,25,26,27,28,29,30,31,32,33,34,35,36,37,38,39,40,41,42,43,44,45,46,47,48,49,50,51,52,53,54,55,56,57,58,59,60,61,62,63,64,65,66,67,68,69,70,71,72,73,74,75,76,77,78,79,80,81,82,83,84,85]},\"selected\":{\"id\":\"5003\"},\"selection_policy\":{\"id\":\"5004\"}},\"id\":\"4723\",\"type\":\"ColumnDataSource\"},{\"attributes\":{\"line_alpha\":0.2,\"line_color\":\"red\",\"line_width\":5,\"x\":{\"field\":\"date\"},\"y\":{\"field\":\"confirmed_cases\"}},\"id\":\"4725\",\"type\":\"Line\"},{\"attributes\":{},\"id\":\"4657\",\"type\":\"WheelZoomTool\"},{\"attributes\":{\"days\":[1,8,15,22]},\"id\":\"4687\",\"type\":\"DaysTicker\"},{\"attributes\":{\"source\":{\"id\":\"4723\"}},\"id\":\"4728\",\"type\":\"CDSView\"},{\"attributes\":{},\"id\":\"4660\",\"type\":\"ResetTool\"},{\"attributes\":{\"days\":[1,15]},\"id\":\"4688\",\"type\":\"DaysTicker\"},{\"attributes\":{\"line_alpha\":0.3,\"line_color\":\"navy\",\"line_width\":5,\"x\":{\"field\":\"date\"},\"y\":{\"field\":\"confirmed_cases\"}},\"id\":\"4698\",\"type\":\"Line\"},{\"attributes\":{\"items\":[{\"id\":\"4696\"},{\"id\":\"4722\"},{\"id\":\"4751\"}]},\"id\":\"4695\",\"type\":\"Legend\"},{\"attributes\":{},\"id\":\"4659\",\"type\":\"SaveTool\"},{\"attributes\":{\"data\":{\"confirmed_cases\":{\"__ndarray__\":\"AAAAAAAA+H8AAAAAAAAAAAAAAAAAAOA/VVVVVVVV1T8AAAAAAADoPzMzMzMzM+M/AAAAAAAA4D/btm3btm3bP9u2bdu2bds/kiRJkiRJ4j+3bdu2bdvmP9u2bdu2bes/JUmSJEmS9D9u27Zt27b9PyVJkiRJkgRASZIkSZIkCUC3bdu2bdsOQCVJkiRJkhBAAAAAAAAAEEC3bdu2bdsWQEmSJEmSJBlAkiRJkiRJFkC3bdu2bdsaQEmSJEmSJBlASZIkSZIkGUDbtm3btm0bQJIkSZIkSRZAAAAAAAAAFEAlSZIkSZIYQLdt27Zt2xZAt23btm3bFkBJkiRJkiQZQAAAAAAAACBAt23btm3bJkBJkiRJkiQrQEmSJEmSJC1ASZIkSZIkL0CSJEmSJEkwQEmSJEmSJDBA27Zt27ZtL0CSJEmSJEkoQCVJkiRJkihAkiRJkiRJJECSJEmSJEkoQNu2bdu2bSlASZIkSZIkK0AlSZIkSZIqQEmSJEmSJDNAbtu2bdu2MUBJkiRJkiQzQNu2bdu2bTFA27Zt27ZtMEDbtm3btm0vQCVJkiRJki5ASZIkSZIkJ0BJkiRJkiQpQLdt27Zt2ypAbtu2bdu2JUC3bdu2bdsqQLdt27Zt2yxAJUmSJEmSLEAAAAAAAAAsQEmSJEmSJCdASZIkSZIkKUBJkiRJkiQtQCVJkiRJkipAJUmSJEmSKEDbtm3btm0pQEmSJEmSJCdAt23btm3bKkBJkiRJkiQnQG7btm3btidASZIkSZIkK0AAAAAAAAAwQCVJkiRJkjBASZIkSZIkMUDbtm3btm0xQLdt27Zt2zNAbtu2bdu2MkBJkiRJkiQwQEmSJEmSJC1AJUmSJEmSLkBJkiRJkiQvQG7btm3bti1A\",\"dtype\":\"float64\",\"shape\":[84]},\"date\":{\"__ndarray__\":\"AAAAbwEPd0IAAMDUUw93QgAAgDqmD3dCAABAoPgPd0IAAAAGSxB3QgAAwGudEHdCAACA0e8Qd0IAAEA3QhF3QgAAAJ2UEXdCAADAAucRd0IAAIBoORJ3QgAAQM6LEndCAAAANN4Sd0IAAMCZMBN3QgAAgP+CE3dCAABAZdUTd0IAAADLJxR3QgAAwDB6FHdCAACAlswUd0IAAED8HhV3QgAAAGJxFXdCAADAx8MVd0IAAIAtFhZ3QgAAQJNoFndCAAAA+boWd0IAAMBeDRd3QgAAgMRfF3dCAABAKrIXd0IAAACQBBh3QgAAwPVWGHdCAACAW6kYd0IAAEDB+xh3QgAAACdOGXdCAADAjKAZd0IAAIDy8hl3QgAAQFhFGndCAAAAvpcad0IAAMAj6hp3QgAAgIk8G3dCAABA744bd0IAAABV4Rt3QgAAwLozHHdCAACAIIYcd0IAAECG2Bx3QgAAAOwqHXdCAADAUX0dd0IAAIC3zx13QgAAQB0iHndCAAAAg3Qed0IAAMDoxh53QgAAgE4ZH3dCAABAtGsfd0IAAAAavh93QgAAwH8QIHdCAACA5WIgd0IAAEBLtSB3QgAAALEHIXdCAADAFlohd0IAAIB8rCF3QgAAQOL+IXdCAAAASFEid0IAAMCtoyJ3QgAAgBP2IndCAABAeUgjd0IAAADfmiN3QgAAwETtI3dCAACAqj8kd0IAAEAQkiR3QgAAAHbkJHdCAADA2zYld0IAAIBBiSV3QgAAQKfbJXdCAAAADS4md0IAAMBygCZ3QgAAgNjSJndCAABAPiUnd0IAAACkdyd3QgAAwAnKJ3dCAACAbxwod0IAAEDVbih3QgAAADvBKHdCAADAoBMpd0IAAIAGZil3QgAAQGy4KXdC\",\"dtype\":\"float64\",\"shape\":[84]},\"index\":[0,1,2,3,4,5,6,7,8,9,10,11,12,13,14,15,16,17,18,19,20,21,22,23,24,25,26,27,28,29,30,31,32,33,34,35,36,37,38,39,40,41,42,43,44,45,46,47,48,49,50,51,52,53,54,55,56,57,58,59,60,61,62,63,64,65,66,67,68,69,70,71,72,73,74,75,76,77,78,79,80,81,82,83]},\"selected\":{\"id\":\"4748\"},\"selection_policy\":{\"id\":\"4749\"}},\"id\":\"4671\",\"type\":\"ColumnDataSource\"},{\"attributes\":{\"label\":{\"value\":\"7-day rolling avg (NoHo)\"},\"renderers\":[{\"id\":\"4727\"}]},\"id\":\"4751\",\"type\":\"LegendItem\"},{\"attributes\":{\"months\":[0,1,2,3,4,5,6,7,8,9,10,11]},\"id\":\"4689\",\"type\":\"MonthsTicker\"},{\"attributes\":{\"text\":\"Daily new cases --Van Nuys\"},\"id\":\"4638\",\"type\":\"Title\"},{\"attributes\":{},\"id\":\"4749\",\"type\":\"UnionRenderers\"},{\"attributes\":{},\"id\":\"4661\",\"type\":\"HelpTool\"},{\"attributes\":{\"months\":[0,2,4,6,8,10]},\"id\":\"4690\",\"type\":\"MonthsTicker\"},{\"attributes\":{\"active_drag\":\"auto\",\"active_inspect\":\"auto\",\"active_multi\":null,\"active_scroll\":\"auto\",\"active_tap\":\"auto\",\"tools\":[{\"id\":\"4656\"},{\"id\":\"4657\"},{\"id\":\"4658\"},{\"id\":\"4659\"},{\"id\":\"4660\"},{\"id\":\"4661\"}]},\"id\":\"4663\",\"type\":\"Toolbar\"},{\"attributes\":{},\"id\":\"5003\",\"type\":\"Selection\"},{\"attributes\":{\"months\":[0,4,8]},\"id\":\"4691\",\"type\":\"MonthsTicker\"},{\"attributes\":{\"label\":{\"value\":\"Daily new cases\"},\"renderers\":[{\"id\":\"4675\"}]},\"id\":\"4696\",\"type\":\"LegendItem\"},{\"attributes\":{},\"id\":\"5004\",\"type\":\"UnionRenderers\"},{\"attributes\":{\"months\":[0,6]},\"id\":\"4692\",\"type\":\"MonthsTicker\"}],\"root_ids\":[\"4637\"]},\"title\":\"Bokeh Application\",\"version\":\"2.0.2\"}};\n",
       "  var render_items = [{\"docid\":\"6e8e777b-e6ca-4ac1-9510-f3b1f777de3b\",\"root_ids\":[\"4637\"],\"roots\":{\"4637\":\"8e7f538e-c00c-4274-b122-80652dc49a81\"}}];\n",
       "  root.Bokeh.embed.embed_items_notebook(docs_json, render_items);\n",
       "\n",
       "  }\n",
       "  if (root.Bokeh !== undefined) {\n",
       "    embed_document(root);\n",
       "  } else {\n",
       "    var attempts = 0;\n",
       "    var timer = setInterval(function(root) {\n",
       "      if (root.Bokeh !== undefined) {\n",
       "        clearInterval(timer);\n",
       "        embed_document(root);\n",
       "      } else {\n",
       "        attempts++;\n",
       "        if (attempts > 100) {\n",
       "          clearInterval(timer);\n",
       "          console.log(\"Bokeh: ERROR: Unable to run BokehJS code because BokehJS library is missing\");\n",
       "        }\n",
       "      }\n",
       "    }, 10, root)\n",
       "  }\n",
       "})(window);"
      ],
      "application/vnd.bokehjs_exec.v0+json": ""
     },
     "metadata": {
      "application/vnd.bokehjs_exec.v0+json": {
       "id": "4637"
      }
     },
     "output_type": "display_data"
    },
    {
     "data": {
      "text/html": [
       "\n",
       "\n",
       "\n",
       "\n",
       "\n",
       "\n",
       "  <div class=\"bk-root\" id=\"c9eea73b-4409-4c15-ab2f-e82e5532e3a6\" data-root-id=\"5150\"></div>\n"
      ]
     },
     "metadata": {},
     "output_type": "display_data"
    },
    {
     "data": {
      "application/javascript": [
       "(function(root) {\n",
       "  function embed_document(root) {\n",
       "    \n",
       "  var docs_json = {\"5e74d9d9-a3ce-4dbc-8363-8e82907c00b5\":{\"roots\":{\"references\":[{\"attributes\":{\"below\":[{\"id\":\"5161\"}],\"center\":[{\"id\":\"5164\"},{\"id\":\"5168\"},{\"id\":\"5208\"}],\"left\":[{\"id\":\"5165\"}],\"plot_height\":400,\"plot_width\":1000,\"renderers\":[{\"id\":\"5188\"},{\"id\":\"5213\"},{\"id\":\"5240\"}],\"title\":{\"id\":\"5151\"},\"toolbar\":{\"id\":\"5176\"},\"x_range\":{\"id\":\"5153\"},\"x_scale\":{\"id\":\"5157\"},\"y_range\":{\"id\":\"5155\"},\"y_scale\":{\"id\":\"5159\"}},\"id\":\"5150\",\"subtype\":\"Figure\",\"type\":\"Plot\"},{\"attributes\":{},\"id\":\"5261\",\"type\":\"Selection\"},{\"attributes\":{\"days\":[1,4,7,10,13,16,19,22,25,28]},\"id\":\"5199\",\"type\":\"DaysTicker\"},{\"attributes\":{},\"id\":\"5155\",\"type\":\"DataRange1d\"},{\"attributes\":{\"data\":{\"confirmed_cases\":{\"__ndarray__\":\"AAAAAAAA+H8AAAAAAADwPwAAAAAAAPA/VVVVVVVV9T8AAAAAAADwP5qZmZmZmek/VVVVVVVV9T8lSZIkSZL0PyVJkiRJkvQ/27Zt27Zt+z9u27Zt27b9PwAAAAAAAAhAJUmSJEmSDEAlSZIkSZIMQCVJkiRJkhBA27Zt27ZtE0AAAAAAAAAYQAAAAAAAABxASZIkSZIkIUDbtm3btm0hQAAAAAAAACBAt23btm3bIEAlSZIkSZIgQJIkSZIkSRpAkiRJkiRJGkC3bdu2bdsSQEmSJEmSJBFASZIkSZIkFUC3bdu2bdsWQAAAAAAAABhAbtu2bdu2GUC3bdu2bdsWQCVJkiRJkhhAJUmSJEmSGECSJEmSJEkgQG7btm3btiFASZIkSZIkJ0AAAAAAAAAqQJIkSZIkSS5AAAAAAAAAMEAAAAAAAAAxQAAAAAAAADJAkiRJkiRJMEBJkiRJkiQvQNu2bdu2bStAbtu2bdu2L0C3bdu2bdsuQEmSJEmSJC9ASZIkSZIkKUBu27Zt27YwQNu2bdu2bS9At23btm3bMUAlSZIkSZIqQLdt27Zt2ypA27Zt27ZtKUAAAAAAAAAqQAAAAAAAACRAJUmSJEmSJEAAAAAAAAAkQEmSJEmSJCNAJUmSJEmSJkCSJEmSJEkmQG7btm3btiVAt23btm3bIkAlSZIkSZIcQAAAAAAAACBA27Zt27ZtIUC3bdu2bdseQG7btm3btiFA27Zt27ZtIUCSJEmSJEkoQCVJkiRJkipAbtu2bdu2J0BJkiRJkiQrQG7btm3btitAbtu2bdu2LUC3bdu2bdsuQJIkSZIkSSxAbtu2bdu2LUBJkiRJkiQtQLdt27Zt2ypAt23btm3bJkCSJEmSJEkmQLdt27Zt2yZAkiRJkiRJJkBJkiRJkiQnQA==\",\"dtype\":\"float64\",\"shape\":[86]},\"date\":{\"__ndarray__\":\"AACAo1wOd0IAAEAJrw53QgAAAG8BD3dCAADA1FMPd0IAAIA6pg93QgAAQKD4D3dCAAAABksQd0IAAMBrnRB3QgAAgNHvEHdCAABAN0IRd0IAAACdlBF3QgAAwALnEXdCAACAaDkSd0IAAEDOixJ3QgAAADTeEndCAADAmTATd0IAAID/ghN3QgAAQGXVE3dCAAAAyycUd0IAAMAwehR3QgAAgJbMFHdCAABA/B4Vd0IAAABicRV3QgAAwMfDFXdCAACALRYWd0IAAECTaBZ3QgAAAPm6FndCAADAXg0Xd0IAAIDEXxd3QgAAQCqyF3dCAAAAkAQYd0IAAMD1Vhh3QgAAgFupGHdCAABAwfsYd0IAAAAnThl3QgAAwIygGXdCAACA8vIZd0IAAEBYRRp3QgAAAL6XGndCAADAI+oad0IAAICJPBt3QgAAQO+OG3dCAAAAVeEbd0IAAMC6Mxx3QgAAgCCGHHdCAABAhtgcd0IAAADsKh13QgAAwFF9HXdCAACAt88dd0IAAEAdIh53QgAAAIN0HndCAADA6MYed0IAAIBOGR93QgAAQLRrH3dCAAAAGr4fd0IAAMB/ECB3QgAAgOViIHdCAABAS7Ugd0IAAACxByF3QgAAwBZaIXdCAACAfKwhd0IAAEDi/iF3QgAAAEhRIndCAADAraMid0IAAIAT9iJ3QgAAQHlII3dCAAAA35ojd0IAAMBE7SN3QgAAgKo/JHdCAABAEJIkd0IAAAB25CR3QgAAwNs2JXdCAACAQYkld0IAAECn2yV3QgAAAA0uJndCAADAcoAmd0IAAIDY0iZ3QgAAQD4lJ3dCAAAApHcnd0IAAMAJyid3QgAAgG8cKHdCAABA1W4od0IAAAA7wSh3QgAAwKATKXdCAACABmYpd0IAAEBsuCl3Qg==\",\"dtype\":\"float64\",\"shape\":[86]},\"index\":[0,1,2,3,4,5,6,7,8,9,10,11,12,13,14,15,16,17,18,19,20,21,22,23,24,25,26,27,28,29,30,31,32,33,34,35,36,37,38,39,40,41,42,43,44,45,46,47,48,49,50,51,52,53,54,55,56,57,58,59,60,61,62,63,64,65,66,67,68,69,70,71,72,73,74,75,76,77,78,79,80,81,82,83,84,85]},\"selected\":{\"id\":\"5540\"},\"selection_policy\":{\"id\":\"5541\"}},\"id\":\"5236\",\"type\":\"ColumnDataSource\"},{\"attributes\":{\"line_alpha\":0.3,\"line_color\":\"navy\",\"line_width\":5,\"x\":{\"field\":\"date\"},\"y\":{\"field\":\"confirmed_cases\"}},\"id\":\"5211\",\"type\":\"Line\"},{\"attributes\":{\"line_alpha\":0.2,\"line_color\":\"red\",\"line_width\":5,\"x\":{\"field\":\"date\"},\"y\":{\"field\":\"confirmed_cases\"}},\"id\":\"5238\",\"type\":\"Line\"},{\"attributes\":{\"days\":[1,8,15,22]},\"id\":\"5200\",\"type\":\"DaysTicker\"},{\"attributes\":{\"source\":{\"id\":\"5236\"}},\"id\":\"5241\",\"type\":\"CDSView\"},{\"attributes\":{},\"id\":\"5169\",\"type\":\"PanTool\"},{\"attributes\":{\"days\":[1,15]},\"id\":\"5201\",\"type\":\"DaysTicker\"},{\"attributes\":{\"overlay\":{\"id\":\"5175\"}},\"id\":\"5171\",\"type\":\"BoxZoomTool\"},{\"attributes\":{},\"id\":\"5262\",\"type\":\"UnionRenderers\"},{\"attributes\":{\"mantissas\":[1,2,5],\"max_interval\":500.0,\"num_minor_ticks\":0},\"id\":\"5195\",\"type\":\"AdaptiveTicker\"},{\"attributes\":{\"months\":[0,1,2,3,4,5,6,7,8,9,10,11]},\"id\":\"5202\",\"type\":\"MonthsTicker\"},{\"attributes\":{\"label\":{\"value\":\"7-day rolling avg (NoHo)\"},\"renderers\":[{\"id\":\"5240\"}]},\"id\":\"5264\",\"type\":\"LegendItem\"},{\"attributes\":{},\"id\":\"5170\",\"type\":\"WheelZoomTool\"},{\"attributes\":{\"base\":60,\"mantissas\":[1,2,5,10,15,20,30],\"max_interval\":1800000.0,\"min_interval\":1000.0,\"num_minor_ticks\":0},\"id\":\"5196\",\"type\":\"AdaptiveTicker\"},{\"attributes\":{\"axis\":{\"id\":\"5165\"},\"dimension\":1,\"ticker\":null},\"id\":\"5168\",\"type\":\"Grid\"},{\"attributes\":{\"months\":[0,2,4,6,8,10]},\"id\":\"5203\",\"type\":\"MonthsTicker\"},{\"attributes\":{},\"id\":\"5174\",\"type\":\"HelpTool\"},{\"attributes\":{},\"id\":\"5192\",\"type\":\"DatetimeTickFormatter\"},{\"attributes\":{},\"id\":\"5540\",\"type\":\"Selection\"},{\"attributes\":{\"months\":[0,4,8]},\"id\":\"5204\",\"type\":\"MonthsTicker\"},{\"attributes\":{\"active_drag\":\"auto\",\"active_inspect\":\"auto\",\"active_multi\":null,\"active_scroll\":\"auto\",\"active_tap\":\"auto\",\"tools\":[{\"id\":\"5169\"},{\"id\":\"5170\"},{\"id\":\"5171\"},{\"id\":\"5172\"},{\"id\":\"5173\"},{\"id\":\"5174\"}]},\"id\":\"5176\",\"type\":\"Toolbar\"},{\"attributes\":{\"line_alpha\":0.1,\"line_color\":\"navy\",\"line_width\":5,\"x\":{\"field\":\"date\"},\"y\":{\"field\":\"confirmed_cases\"}},\"id\":\"5212\",\"type\":\"Line\"},{\"attributes\":{},\"id\":\"5541\",\"type\":\"UnionRenderers\"},{\"attributes\":{\"months\":[0,6]},\"id\":\"5205\",\"type\":\"MonthsTicker\"},{\"attributes\":{},\"id\":\"5173\",\"type\":\"ResetTool\"},{\"attributes\":{\"days\":[1,2,3,4,5,6,7,8,9,10,11,12,13,14,15,16,17,18,19,20,21,22,23,24,25,26,27,28,29,30,31]},\"id\":\"5198\",\"type\":\"DaysTicker\"},{\"attributes\":{},\"id\":\"5206\",\"type\":\"YearsTicker\"},{\"attributes\":{},\"id\":\"5172\",\"type\":\"SaveTool\"},{\"attributes\":{\"bottom_units\":\"screen\",\"fill_alpha\":0.5,\"fill_color\":\"lightgrey\",\"left_units\":\"screen\",\"level\":\"overlay\",\"line_alpha\":1.0,\"line_color\":\"black\",\"line_dash\":[4,4],\"line_width\":2,\"render_mode\":\"css\",\"right_units\":\"screen\",\"top_units\":\"screen\"},\"id\":\"5175\",\"type\":\"BoxAnnotation\"},{\"attributes\":{},\"id\":\"5166\",\"type\":\"BasicTicker\"},{\"attributes\":{\"data_source\":{\"id\":\"5184\"},\"glyph\":{\"id\":\"5211\"},\"hover_glyph\":null,\"muted_glyph\":null,\"nonselection_glyph\":{\"id\":\"5212\"},\"selection_glyph\":null,\"view\":{\"id\":\"5214\"}},\"id\":\"5213\",\"type\":\"GlyphRenderer\"},{\"attributes\":{\"label\":{\"value\":\"Daily new cases\"},\"renderers\":[{\"id\":\"5188\"}]},\"id\":\"5209\",\"type\":\"LegendItem\"},{\"attributes\":{\"formatter\":{\"id\":\"5194\"},\"ticker\":{\"id\":\"5166\"}},\"id\":\"5165\",\"type\":\"LinearAxis\"},{\"attributes\":{\"source\":{\"id\":\"5184\"}},\"id\":\"5214\",\"type\":\"CDSView\"},{\"attributes\":{},\"id\":\"5232\",\"type\":\"Selection\"},{\"attributes\":{\"axis\":{\"id\":\"5161\"},\"ticker\":null},\"id\":\"5164\",\"type\":\"Grid\"},{\"attributes\":{\"num_minor_ticks\":5,\"tickers\":[{\"id\":\"5195\"},{\"id\":\"5196\"},{\"id\":\"5197\"},{\"id\":\"5198\"},{\"id\":\"5199\"},{\"id\":\"5200\"},{\"id\":\"5201\"},{\"id\":\"5202\"},{\"id\":\"5203\"},{\"id\":\"5204\"},{\"id\":\"5205\"},{\"id\":\"5206\"}]},\"id\":\"5162\",\"type\":\"DatetimeTicker\"},{\"attributes\":{\"base\":24,\"mantissas\":[1,2,4,6,8,12],\"max_interval\":43200000.0,\"min_interval\":3600000.0,\"num_minor_ticks\":0},\"id\":\"5197\",\"type\":\"AdaptiveTicker\"},{\"attributes\":{\"items\":[{\"id\":\"5209\"},{\"id\":\"5235\"},{\"id\":\"5264\"}]},\"id\":\"5208\",\"type\":\"Legend\"},{\"attributes\":{},\"id\":\"5233\",\"type\":\"UnionRenderers\"},{\"attributes\":{\"label\":{\"value\":\"7-day rolling avg (Valley Glen)\"},\"renderers\":[{\"id\":\"5213\"}]},\"id\":\"5235\",\"type\":\"LegendItem\"},{\"attributes\":{},\"id\":\"5159\",\"type\":\"LinearScale\"},{\"attributes\":{\"formatter\":{\"id\":\"5192\"},\"ticker\":{\"id\":\"5162\"}},\"id\":\"5161\",\"type\":\"DatetimeAxis\"},{\"attributes\":{},\"id\":\"5194\",\"type\":\"BasicTickFormatter\"},{\"attributes\":{\"data\":{\"confirmed_cases\":{\"__ndarray__\":\"AAAAAAAA+H8AAAAAAAAAQAAAAAAAAAhAAAAAAAAAAAAAAAAAAADwPwAAAAAAAABAAAAAAAAAAEAAAAAAAADwPwAAAAAAAAAAAAAAAAAA8D8AAAAAAADwPwAAAAAAAAAAAAAAAAAACEAAAAAAAADwPwAAAAAAAAhAAAAAAAAA8D8AAAAAAAAUQAAAAAAAABBAAAAAAAAAEEAAAAAAAAAIQAAAAAAAAPA/AAAAAAAAAAAAAAAAAAAAQAAAAAAAAPA/AAAAAAAAAAAAAAAAAAAAAAAAAAAAAABAAAAAAAAAAEAAAAAAAAAAQAAAAAAAAPA/AAAAAAAACEAAAAAAAAAAQAAAAAAAABBAAAAAAAAAIkAAAAAAAAAQQAAAAAAAABhAAAAAAAAAFEAAAAAAAAAAQAAAAAAAAAAAAAAAAAAACEAAAAAAAAAAQAAAAAAAACBAAAAAAAAAAAAAAAAAAAAIQAAAAAAAAPA/AAAAAAAAAAAAAAAAAAAAAAAAAAAAAAAAAAAAAAAA8D8AAAAAAADwPwAAAAAAABBAAAAAAAAA8D8AAAAAAADwPwAAAAAAAPA/AAAAAAAA8D8AAAAAAAAAQAAAAAAAAABAAAAAAAAAAAAAAAAAAAAAQAAAAAAAAPA/AAAAAAAA8D8AAAAAAADwPwAAAAAAAAAAAAAAAAAAAAAAAAAAAADwPwAAAAAAABBAAAAAAAAAFEAAAAAAAADwPwAAAAAAAABAAAAAAAAA8D8AAAAAAAAIQAAAAAAAAAAAAAAAAAAACEAAAAAAAAAIQAAAAAAAAAhAAAAAAAAAAEAAAAAAAAAQQAAAAAAAAAhAAAAAAAAACEAAAAAAAAAAQAAAAAAAABRAAAAAAAAA8D8AAAAAAAAIQAAAAAAAAPA/\",\"dtype\":\"float64\",\"shape\":[84]},\"date\":{\"__ndarray__\":\"AAAAbwEPd0IAAMDUUw93QgAAgDqmD3dCAABAoPgPd0IAAAAGSxB3QgAAwGudEHdCAACA0e8Qd0IAAEA3QhF3QgAAAJ2UEXdCAADAAucRd0IAAIBoORJ3QgAAQM6LEndCAAAANN4Sd0IAAMCZMBN3QgAAgP+CE3dCAABAZdUTd0IAAADLJxR3QgAAwDB6FHdCAACAlswUd0IAAED8HhV3QgAAAGJxFXdCAADAx8MVd0IAAIAtFhZ3QgAAQJNoFndCAAAA+boWd0IAAMBeDRd3QgAAgMRfF3dCAABAKrIXd0IAAACQBBh3QgAAwPVWGHdCAACAW6kYd0IAAEDB+xh3QgAAACdOGXdCAADAjKAZd0IAAIDy8hl3QgAAQFhFGndCAAAAvpcad0IAAMAj6hp3QgAAgIk8G3dCAABA744bd0IAAABV4Rt3QgAAwLozHHdCAACAIIYcd0IAAECG2Bx3QgAAAOwqHXdCAADAUX0dd0IAAIC3zx13QgAAQB0iHndCAAAAg3Qed0IAAMDoxh53QgAAgE4ZH3dCAABAtGsfd0IAAAAavh93QgAAwH8QIHdCAACA5WIgd0IAAEBLtSB3QgAAALEHIXdCAADAFlohd0IAAIB8rCF3QgAAQOL+IXdCAAAASFEid0IAAMCtoyJ3QgAAgBP2IndCAABAeUgjd0IAAADfmiN3QgAAwETtI3dCAACAqj8kd0IAAEAQkiR3QgAAAHbkJHdCAADA2zYld0IAAIBBiSV3QgAAQKfbJXdCAAAADS4md0IAAMBygCZ3QgAAgNjSJndCAABAPiUnd0IAAACkdyd3QgAAwAnKJ3dCAACAbxwod0IAAEDVbih3QgAAADvBKHdCAADAoBMpd0IAAIAGZil3QgAAQGy4KXdC\",\"dtype\":\"float64\",\"shape\":[84]},\"index\":[0,1,2,3,4,5,6,7,8,9,10,11,12,13,14,15,16,17,18,19,20,21,22,23,24,25,26,27,28,29,30,31,32,33,34,35,36,37,38,39,40,41,42,43,44,45,46,47,48,49,50,51,52,53,54,55,56,57,58,59,60,61,62,63,64,65,66,67,68,69,70,71,72,73,74,75,76,77,78,79,80,81,82,83]},\"selected\":{\"id\":\"5232\"},\"selection_policy\":{\"id\":\"5233\"}},\"id\":\"5183\",\"type\":\"ColumnDataSource\"},{\"attributes\":{\"fill_alpha\":{\"value\":0.1},\"fill_color\":{\"value\":\"green\"},\"line_alpha\":{\"value\":0.1},\"line_color\":{\"value\":\"green\"},\"top\":{\"field\":\"confirmed_cases\"},\"width\":{\"value\":0.4},\"x\":{\"field\":\"date\"}},\"id\":\"5187\",\"type\":\"VBar\"},{\"attributes\":{},\"id\":\"5157\",\"type\":\"LinearScale\"},{\"attributes\":{\"data\":{\"confirmed_cases\":{\"__ndarray__\":\"AAAAAAAA+H8AAAAAAAAAQAAAAAAAAARAq6qqqqqq+j8AAAAAAAD4P5qZmZmZmfk/q6qqqqqq+j9JkiRJkiT5PyVJkiRJkvQ/AAAAAAAA8D+SJEmSJEnyPwAAAAAAAPA/kiRJkiRJ8j8AAAAAAADwPyVJkiRJkvQ/t23btm3b9j8AAAAAAAAAQNu2bdu2bQNAAAAAAAAACEAAAAAAAAAIQAAAAAAAAAhAJUmSJEmSBEBu27Zt27YFQEmSJEmSJAFASZIkSZIk+T8AAAAAAADwP9u2bdu2bes/AAAAAAAA8D8lSZIkSZL0P5IkSZIkSfI/t23btm3b9j/btm3btm37P5IkSZIkSQJAkiRJkiRJCkAlSZIkSZIMQCVJkiRJkhBAt23btm3bEkCSJEmSJEkSQEmSJEmSJBFAJUmSJEmSEEBJkiRJkiQJQG7btm3btg1At23btm3bBkAlSZIkSZIEQNu2bdu2bQNA27Zt27ZtA0AAAAAAAAAAQNu2bdu2bfs/t23btm3b5j/btm3btm3rPwAAAAAAAPA/AAAAAAAA8D+SJEmSJEnyPyVJkiRJkvQ/t23btm3b9j9JkiRJkiT5P9u2bdu2bfs/kiRJkiRJ8j8lSZIkSZL0PyVJkiRJkvQ/JUmSJEmS9D8lSZIkSZL0PwAAAAAAAPA/t23btm3b5j/btm3btm3rP5IkSZIkSfI/27Zt27Zt+z/btm3btm37P27btm3btv0/AAAAAAAAAEDbtm3btm0DQJIkSZIkSQJASZIkSZIkAUBu27Zt27b9P0mSJEmSJAFASZIkSZIkAUAlSZIkSZIEQCVJkiRJkgRAAAAAAAAACEC3bdu2bdsGQEmSJEmSJAlAt23btm3bBkAAAAAAAAAIQCVJkiRJkgRA\",\"dtype\":\"float64\",\"shape\":[84]},\"date\":{\"__ndarray__\":\"AAAAbwEPd0IAAMDUUw93QgAAgDqmD3dCAABAoPgPd0IAAAAGSxB3QgAAwGudEHdCAACA0e8Qd0IAAEA3QhF3QgAAAJ2UEXdCAADAAucRd0IAAIBoORJ3QgAAQM6LEndCAAAANN4Sd0IAAMCZMBN3QgAAgP+CE3dCAABAZdUTd0IAAADLJxR3QgAAwDB6FHdCAACAlswUd0IAAED8HhV3QgAAAGJxFXdCAADAx8MVd0IAAIAtFhZ3QgAAQJNoFndCAAAA+boWd0IAAMBeDRd3QgAAgMRfF3dCAABAKrIXd0IAAACQBBh3QgAAwPVWGHdCAACAW6kYd0IAAEDB+xh3QgAAACdOGXdCAADAjKAZd0IAAIDy8hl3QgAAQFhFGndCAAAAvpcad0IAAMAj6hp3QgAAgIk8G3dCAABA744bd0IAAABV4Rt3QgAAwLozHHdCAACAIIYcd0IAAECG2Bx3QgAAAOwqHXdCAADAUX0dd0IAAIC3zx13QgAAQB0iHndCAAAAg3Qed0IAAMDoxh53QgAAgE4ZH3dCAABAtGsfd0IAAAAavh93QgAAwH8QIHdCAACA5WIgd0IAAEBLtSB3QgAAALEHIXdCAADAFlohd0IAAIB8rCF3QgAAQOL+IXdCAAAASFEid0IAAMCtoyJ3QgAAgBP2IndCAABAeUgjd0IAAADfmiN3QgAAwETtI3dCAACAqj8kd0IAAEAQkiR3QgAAAHbkJHdCAADA2zYld0IAAIBBiSV3QgAAQKfbJXdCAAAADS4md0IAAMBygCZ3QgAAgNjSJndCAABAPiUnd0IAAACkdyd3QgAAwAnKJ3dCAACAbxwod0IAAEDVbih3QgAAADvBKHdCAADAoBMpd0IAAIAGZil3QgAAQGy4KXdC\",\"dtype\":\"float64\",\"shape\":[84]},\"index\":[0,1,2,3,4,5,6,7,8,9,10,11,12,13,14,15,16,17,18,19,20,21,22,23,24,25,26,27,28,29,30,31,32,33,34,35,36,37,38,39,40,41,42,43,44,45,46,47,48,49,50,51,52,53,54,55,56,57,58,59,60,61,62,63,64,65,66,67,68,69,70,71,72,73,74,75,76,77,78,79,80,81,82,83]},\"selected\":{\"id\":\"5261\"},\"selection_policy\":{\"id\":\"5262\"}},\"id\":\"5184\",\"type\":\"ColumnDataSource\"},{\"attributes\":{\"data_source\":{\"id\":\"5236\"},\"glyph\":{\"id\":\"5238\"},\"hover_glyph\":null,\"muted_glyph\":null,\"nonselection_glyph\":{\"id\":\"5239\"},\"selection_glyph\":null,\"view\":{\"id\":\"5241\"}},\"id\":\"5240\",\"type\":\"GlyphRenderer\"},{\"attributes\":{\"data_source\":{\"id\":\"5183\"},\"glyph\":{\"id\":\"5186\"},\"hover_glyph\":null,\"muted_glyph\":null,\"nonselection_glyph\":{\"id\":\"5187\"},\"selection_glyph\":null,\"view\":{\"id\":\"5189\"}},\"id\":\"5188\",\"type\":\"GlyphRenderer\"},{\"attributes\":{\"text\":\"Daily new cases --Valley Glen\"},\"id\":\"5151\",\"type\":\"Title\"},{\"attributes\":{},\"id\":\"5153\",\"type\":\"DataRange1d\"},{\"attributes\":{\"source\":{\"id\":\"5183\"}},\"id\":\"5189\",\"type\":\"CDSView\"},{\"attributes\":{\"line_alpha\":0.1,\"line_color\":\"red\",\"line_width\":5,\"x\":{\"field\":\"date\"},\"y\":{\"field\":\"confirmed_cases\"}},\"id\":\"5239\",\"type\":\"Line\"},{\"attributes\":{\"fill_alpha\":{\"value\":0.8},\"fill_color\":{\"value\":\"green\"},\"line_alpha\":{\"value\":0.8},\"line_color\":{\"value\":\"green\"},\"top\":{\"field\":\"confirmed_cases\"},\"width\":{\"value\":0.4},\"x\":{\"field\":\"date\"}},\"id\":\"5186\",\"type\":\"VBar\"}],\"root_ids\":[\"5150\"]},\"title\":\"Bokeh Application\",\"version\":\"2.0.2\"}};\n",
       "  var render_items = [{\"docid\":\"5e74d9d9-a3ce-4dbc-8363-8e82907c00b5\",\"root_ids\":[\"5150\"],\"roots\":{\"5150\":\"c9eea73b-4409-4c15-ab2f-e82e5532e3a6\"}}];\n",
       "  root.Bokeh.embed.embed_items_notebook(docs_json, render_items);\n",
       "\n",
       "  }\n",
       "  if (root.Bokeh !== undefined) {\n",
       "    embed_document(root);\n",
       "  } else {\n",
       "    var attempts = 0;\n",
       "    var timer = setInterval(function(root) {\n",
       "      if (root.Bokeh !== undefined) {\n",
       "        clearInterval(timer);\n",
       "        embed_document(root);\n",
       "      } else {\n",
       "        attempts++;\n",
       "        if (attempts > 100) {\n",
       "          clearInterval(timer);\n",
       "          console.log(\"Bokeh: ERROR: Unable to run BokehJS code because BokehJS library is missing\");\n",
       "        }\n",
       "      }\n",
       "    }, 10, root)\n",
       "  }\n",
       "})(window);"
      ],
      "application/vnd.bokehjs_exec.v0+json": ""
     },
     "metadata": {
      "application/vnd.bokehjs_exec.v0+json": {
       "id": "5150"
      }
     },
     "output_type": "display_data"
    }
   ],
   "source": [
    "for place in PLACES:\n",
    "    if place != PLACE:\n",
    "        plot_daily_locales(locales, place, noho_new=noho_new)"
   ]
  },
  {
   "cell_type": "markdown",
   "metadata": {},
   "source": [
    "# Cumulative counts"
   ]
  },
  {
   "cell_type": "markdown",
   "metadata": {
    "ExecuteTime": {
     "end_time": "2020-06-04T21:34:10.929935Z",
     "start_time": "2020-06-04T21:34:03.335Z"
    }
   },
   "source": [
    "## Cases (LA County)"
   ]
  },
  {
   "cell_type": "markdown",
   "metadata": {},
   "source": [
    "Putting everything on a log scale allows us to see whether things are accelerating. The more diagonal the line, the more exponential the growth (i.e., a bigger exponent)."
   ]
  },
  {
   "cell_type": "code",
   "execution_count": 11,
   "metadata": {
    "ExecuteTime": {
     "end_time": "2020-06-11T21:44:33.202887Z",
     "start_time": "2020-06-11T21:44:33.079464Z"
    }
   },
   "outputs": [
    {
     "data": {
      "text/html": [
       "\n",
       "\n",
       "\n",
       "\n",
       "\n",
       "\n",
       "  <div class=\"bk-root\" id=\"7a74e490-6796-439b-86e4-d58da9721f93\" data-root-id=\"5688\"></div>\n"
      ]
     },
     "metadata": {},
     "output_type": "display_data"
    },
    {
     "data": {
      "application/javascript": [
       "(function(root) {\n",
       "  function embed_document(root) {\n",
       "    \n",
       "  var docs_json = {\"a4cf9445-31c7-4738-a454-3d3cdab20aa5\":{\"roots\":{\"references\":[{\"attributes\":{\"below\":[{\"id\":\"5699\"}],\"center\":[{\"id\":\"5702\"},{\"id\":\"5706\"},{\"id\":\"5744\"}],\"left\":[{\"id\":\"5703\"}],\"plot_height\":400,\"plot_width\":1000,\"renderers\":[{\"id\":\"5724\"},{\"id\":\"5749\"}],\"title\":{\"id\":\"5689\"},\"toolbar\":{\"id\":\"5714\"},\"x_range\":{\"id\":\"5691\"},\"x_scale\":{\"id\":\"5695\"},\"y_range\":{\"id\":\"5693\"},\"y_scale\":{\"id\":\"5697\"}},\"id\":\"5688\",\"subtype\":\"Figure\",\"type\":\"Plot\"},{\"attributes\":{\"overlay\":{\"id\":\"5713\"}},\"id\":\"5709\",\"type\":\"BoxZoomTool\"},{\"attributes\":{\"days\":[1,4,7,10,13,16,19,22,25,28]},\"id\":\"5735\",\"type\":\"DaysTicker\"},{\"attributes\":{},\"id\":\"5710\",\"type\":\"SaveTool\"},{\"attributes\":{\"months\":[0,6]},\"id\":\"5741\",\"type\":\"MonthsTicker\"},{\"attributes\":{},\"id\":\"5693\",\"type\":\"DataRange1d\"},{\"attributes\":{\"days\":[1,8,15,22]},\"id\":\"5736\",\"type\":\"DaysTicker\"},{\"attributes\":{},\"id\":\"5691\",\"type\":\"DataRange1d\"},{\"attributes\":{},\"id\":\"5711\",\"type\":\"ResetTool\"},{\"attributes\":{\"days\":[1,15]},\"id\":\"5737\",\"type\":\"DaysTicker\"},{\"attributes\":{},\"id\":\"5712\",\"type\":\"HelpTool\"},{\"attributes\":{\"months\":[0,1,2,3,4,5,6,7,8,9,10,11]},\"id\":\"5738\",\"type\":\"MonthsTicker\"},{\"attributes\":{\"text\":\"Cumulative cases (log scale)\"},\"id\":\"5689\",\"type\":\"Title\"},{\"attributes\":{\"months\":[0,2,4,6,8,10]},\"id\":\"5739\",\"type\":\"MonthsTicker\"},{\"attributes\":{\"active_drag\":\"auto\",\"active_inspect\":\"auto\",\"active_multi\":null,\"active_scroll\":\"auto\",\"active_tap\":\"auto\",\"tools\":[{\"id\":\"5707\"},{\"id\":\"5708\"},{\"id\":\"5709\"},{\"id\":\"5710\"},{\"id\":\"5711\"},{\"id\":\"5712\"}]},\"id\":\"5714\",\"type\":\"Toolbar\"},{\"attributes\":{},\"id\":\"5695\",\"type\":\"LinearScale\"},{\"attributes\":{\"months\":[0,4,8]},\"id\":\"5740\",\"type\":\"MonthsTicker\"},{\"attributes\":{},\"id\":\"5697\",\"type\":\"LogScale\"},{\"attributes\":{\"formatter\":{\"id\":\"5728\"},\"ticker\":{\"id\":\"5700\"}},\"id\":\"5699\",\"type\":\"DatetimeAxis\"},{\"attributes\":{},\"id\":\"5742\",\"type\":\"YearsTicker\"},{\"attributes\":{\"bottom_units\":\"screen\",\"fill_alpha\":0.5,\"fill_color\":\"lightgrey\",\"left_units\":\"screen\",\"level\":\"overlay\",\"line_alpha\":1.0,\"line_color\":\"black\",\"line_dash\":[4,4],\"line_width\":2,\"render_mode\":\"css\",\"right_units\":\"screen\",\"top_units\":\"screen\"},\"id\":\"5713\",\"type\":\"BoxAnnotation\"},{\"attributes\":{\"num_minor_ticks\":5,\"tickers\":[{\"id\":\"5731\"},{\"id\":\"5732\"},{\"id\":\"5733\"},{\"id\":\"5734\"},{\"id\":\"5735\"},{\"id\":\"5736\"},{\"id\":\"5737\"},{\"id\":\"5738\"},{\"id\":\"5739\"},{\"id\":\"5740\"},{\"id\":\"5741\"},{\"id\":\"5742\"}]},\"id\":\"5700\",\"type\":\"DatetimeTicker\"},{\"attributes\":{\"items\":[{\"id\":\"5745\"}],\"location\":\"bottom_right\"},\"id\":\"5744\",\"type\":\"Legend\"},{\"attributes\":{\"axis\":{\"id\":\"5699\"},\"ticker\":null},\"id\":\"5702\",\"type\":\"Grid\"},{\"attributes\":{\"days\":[1,2,3,4,5,6,7,8,9,10,11,12,13,14,15,16,17,18,19,20,21,22,23,24,25,26,27,28,29,30,31]},\"id\":\"5734\",\"type\":\"DaysTicker\"},{\"attributes\":{\"label\":{\"value\":\"Cases\"},\"renderers\":[{\"id\":\"5724\"},{\"id\":\"5749\"}]},\"id\":\"5745\",\"type\":\"LegendItem\"},{\"attributes\":{\"data_source\":{\"id\":\"5687\"},\"glyph\":{\"id\":\"5722\"},\"hover_glyph\":null,\"muted_glyph\":null,\"nonselection_glyph\":{\"id\":\"5723\"},\"selection_glyph\":null,\"view\":{\"id\":\"5725\"}},\"id\":\"5724\",\"type\":\"GlyphRenderer\"},{\"attributes\":{\"formatter\":{\"id\":\"5730\"},\"ticker\":{\"id\":\"5704\"}},\"id\":\"5703\",\"type\":\"LogAxis\"},{\"attributes\":{},\"id\":\"5728\",\"type\":\"DatetimeTickFormatter\"},{\"attributes\":{\"source\":{\"id\":\"5687\"}},\"id\":\"5725\",\"type\":\"CDSView\"},{\"attributes\":{\"num_minor_ticks\":10},\"id\":\"5704\",\"type\":\"LogTicker\"},{\"attributes\":{},\"id\":\"5768\",\"type\":\"Selection\"},{\"attributes\":{\"fill_alpha\":{\"value\":0.1},\"fill_color\":{\"value\":\"navy\"},\"line_alpha\":{\"value\":0.1},\"line_color\":{\"value\":\"navy\"},\"size\":{\"units\":\"screen\",\"value\":5},\"x\":{\"field\":\"date\"},\"y\":{\"field\":\"confirmed_cases\"}},\"id\":\"5723\",\"type\":\"Circle\"},{\"attributes\":{\"axis\":{\"id\":\"5703\"},\"dimension\":1,\"ticker\":null},\"id\":\"5706\",\"type\":\"Grid\"},{\"attributes\":{\"line_alpha\":0.1,\"line_color\":\"navy\",\"line_width\":5,\"x\":{\"field\":\"date\"},\"y\":{\"field\":\"confirmed_cases\"}},\"id\":\"5748\",\"type\":\"Line\"},{\"attributes\":{\"ticker\":null},\"id\":\"5730\",\"type\":\"LogTickFormatter\"},{\"attributes\":{\"fill_alpha\":{\"value\":0.2},\"fill_color\":{\"value\":\"navy\"},\"line_alpha\":{\"value\":0.2},\"line_color\":{\"value\":\"navy\"},\"size\":{\"units\":\"screen\",\"value\":5},\"x\":{\"field\":\"date\"},\"y\":{\"field\":\"confirmed_cases\"}},\"id\":\"5722\",\"type\":\"Circle\"},{\"attributes\":{\"data_source\":{\"id\":\"5687\"},\"glyph\":{\"id\":\"5747\"},\"hover_glyph\":null,\"muted_glyph\":null,\"nonselection_glyph\":{\"id\":\"5748\"},\"selection_glyph\":null,\"view\":{\"id\":\"5750\"}},\"id\":\"5749\",\"type\":\"GlyphRenderer\"},{\"attributes\":{\"mantissas\":[1,2,5],\"max_interval\":500.0,\"num_minor_ticks\":0},\"id\":\"5731\",\"type\":\"AdaptiveTicker\"},{\"attributes\":{\"line_alpha\":0.5,\"line_color\":\"navy\",\"line_width\":5,\"x\":{\"field\":\"date\"},\"y\":{\"field\":\"confirmed_cases\"}},\"id\":\"5747\",\"type\":\"Line\"},{\"attributes\":{\"base\":60,\"mantissas\":[1,2,5,10,15,20,30],\"max_interval\":1800000.0,\"min_interval\":1000.0,\"num_minor_ticks\":0},\"id\":\"5732\",\"type\":\"AdaptiveTicker\"},{\"attributes\":{\"source\":{\"id\":\"5687\"}},\"id\":\"5750\",\"type\":\"CDSView\"},{\"attributes\":{},\"id\":\"5707\",\"type\":\"PanTool\"},{\"attributes\":{\"base\":24,\"mantissas\":[1,2,4,6,8,12],\"max_interval\":43200000.0,\"min_interval\":3600000.0,\"num_minor_ticks\":0},\"id\":\"5733\",\"type\":\"AdaptiveTicker\"},{\"attributes\":{},\"id\":\"5708\",\"type\":\"WheelZoomTool\"},{\"attributes\":{},\"id\":\"5769\",\"type\":\"UnionRenderers\"},{\"attributes\":{\"data\":{\"confirmed_cases\":[670,814,1230,1482,1818,2147,2505,3037,3528,4071,4605,5325,5955,6391,6944,7573,7984,8453,8889,9197,9480,10075,10517,10895,11421,12051,12349,13823,15165,16449,17567,18545,19159,19567,20460,21017,22522,23233,24262,24936,25699,26238,27866,28665,29526,30334,31241,31703,32269,33247,34552,35447,36324,37374,38011,38466,39632,40975,42138,43085,44121,45034,46023,47875,48778,49860,51685,53746,55001,56017,57222,58267,59717,61074,62389,63850,64699,65957,67111],\"date\":{\"__ndarray__\":\"AADAa50Qd0IAAIDR7xB3QgAAQDdCEXdCAAAAnZQRd0IAAMAC5xF3QgAAgGg5EndCAABAzosSd0IAAAA03hJ3QgAAwJkwE3dCAACA/4ITd0IAAEBl1RN3QgAAAMsnFHdCAADAMHoUd0IAAICWzBR3QgAAQPweFXdCAAAAYnEVd0IAAMDHwxV3QgAAgC0WFndCAABAk2gWd0IAAAD5uhZ3QgAAwF4NF3dCAACAxF8Xd0IAAEAqshd3QgAAAJAEGHdCAADA9VYYd0IAAIBbqRh3QgAAQMH7GHdCAAAAJ04Zd0IAAMCMoBl3QgAAgPLyGXdCAABAWEUad0IAAAC+lxp3QgAAwCPqGndCAACAiTwbd0IAAEDvjht3QgAAAFXhG3dCAADAujMcd0IAAIAghhx3QgAAQIbYHHdCAAAA7Codd0IAAMBRfR13QgAAgLfPHXdCAABAHSIed0IAAACDdB53QgAAwOjGHndCAACAThkfd0IAAEC0ax93QgAAABq+H3dCAADAfxAgd0IAAIDlYiB3QgAAQEu1IHdCAAAAsQchd0IAAMAWWiF3QgAAgHysIXdCAABA4v4hd0IAAABIUSJ3QgAAwK2jIndCAACAE/Yid0IAAEB5SCN3QgAAAN+aI3dCAADARO0jd0IAAICqPyR3QgAAQBCSJHdCAAAAduQkd0IAAMDbNiV3QgAAgEGJJXdCAABAp9sld0IAAAANLiZ3QgAAwHKAJndCAACA2NImd0IAAEA+JSd3QgAAAKR3J3dCAADACcond0IAAIBvHCh3QgAAQNVuKHdCAAAAO8Eod0IAAMCgEyl3QgAAgAZmKXdCAABAbLgpd0I=\",\"dtype\":\"float64\",\"shape\":[79]},\"deaths\":[10,13,21,26,32,37,44,54,66,80,93,119,132,147,173,200,225,244,267,300,326,366,405,457,501,577,601,619,666,732,798,850,896,916,948,1004,1065,1119,1174,1212,1231,1260,1315,1369,1420,1470,1515,1531,1570,1617,1663,1711,1752,1793,1821,1842,1926,1976,2021,2051,2092,2108,2116,2145,2201,2241,2294,2339,2362,2386,2448,2489,2532,2567,2624,2646,2656,2710,2768],\"new_confirmed_cases\":{\"__ndarray__\":\"AAAAAADAX0AAAAAAAABiQAAAAAAAAHpAAAAAAACAb0AAAAAAAAB1QAAAAAAAkHRAAAAAAABgdkAAAAAAAKCAQAAAAAAAsH5AAAAAAAD4gEAAAAAAALCAQAAAAAAAgIZAAAAAAACwg0AAAAAAAEB7QAAAAAAASIFAAAAAAACog0AAAAAAALB5QAAAAAAAUH1AAAAAAABAe0AAAAAAAEBzQAAAAAAAsHFAAAAAAACYgkAAAAAAAKB7QAAAAAAAoHdAAAAAAABwgEAAAAAAALCDQAAAAAAAoHJAAAAAAAAIl0AAAAAAAPiUQAAAAAAAEJRAAAAAAAB4kUAAAAAAAJCOQAAAAAAAMINAAAAAAACAeUAAAAAAAOiLQAAAAAAAaIFAAAAAAACEl0AAAAAAADiGQAAAAAAAFJBAAAAAAAAQhUAAAAAAANiHQAAAAAAA2IBAAAAAAABwmUAAAAAAAPiIQAAAAAAA6IpAAAAAAABAiUAAAAAAAFiMQAAAAAAA4HxAAAAAAACwgUAAAAAAAJCOQAAAAAAAZJRAAAAAAAD4i0AAAAAAAGiLQAAAAAAAaJBAAAAAAADog0AAAAAAAHB8QAAAAAAAOJJAAAAAAAD8lEAAAAAAACySQAAAAAAAmI1AAAAAAAAwkEAAAAAAAIiMQAAAAAAA6I5AAAAAAADwnEAAAAAAADiMQAAAAAAA6JBAAAAAAACEnEAAAAAAABqgQAAAAAAAnJNAAAAAAADAj0AAAAAAANSSQAAAAAAAVJBAAAAAAAColkAAAAAAADSVQAAAAAAAjJRAAAAAAADUlkAAAAAAAIiKQAAAAAAAqJNAAAAAAAAIkkA=\",\"dtype\":\"float64\",\"shape\":[79]},\"new_deaths\":{\"__ndarray__\":\"AAAAAAAAAEAAAAAAAAAIQAAAAAAAACBAAAAAAAAAFEAAAAAAAAAYQAAAAAAAABRAAAAAAAAAHEAAAAAAAAAkQAAAAAAAAChAAAAAAAAALEAAAAAAAAAqQAAAAAAAADpAAAAAAAAAKkAAAAAAAAAuQAAAAAAAADpAAAAAAAAAO0AAAAAAAAA5QAAAAAAAADNAAAAAAAAAN0AAAAAAAIBAQAAAAAAAADpAAAAAAAAAREAAAAAAAIBDQAAAAAAAAEpAAAAAAAAARkAAAAAAAABTQAAAAAAAADhAAAAAAAAAMkAAAAAAAIBHQAAAAAAAgFBAAAAAAACAUEAAAAAAAABKQAAAAAAAAEdAAAAAAAAANEAAAAAAAABAQAAAAAAAAExAAAAAAACATkAAAAAAAABLQAAAAAAAgEtAAAAAAAAAQ0AAAAAAAAAzQAAAAAAAAD1AAAAAAACAS0AAAAAAAABLQAAAAAAAgElAAAAAAAAASUAAAAAAAIBGQAAAAAAAADBAAAAAAACAQ0AAAAAAAIBHQAAAAAAAAEdAAAAAAAAASEAAAAAAAIBEQAAAAAAAgERAAAAAAAAAPEAAAAAAAAA1QAAAAAAAAFVAAAAAAAAASUAAAAAAAIBGQAAAAAAAAD5AAAAAAACAREAAAAAAAAAwQAAAAAAAACBAAAAAAAAAPUAAAAAAAABMQAAAAAAAAERAAAAAAACASkAAAAAAAIBGQAAAAAAAADdAAAAAAAAAOEAAAAAAAABPQAAAAAAAgERAAAAAAACARUAAAAAAAIBBQAAAAAAAgExAAAAAAAAANkAAAAAAAAAkQAAAAAAAAEtAAAAAAAAATUA=\",\"dtype\":\"float64\",\"shape\":[79]}},\"selected\":{\"id\":\"5768\"},\"selection_policy\":{\"id\":\"5769\"}},\"id\":\"5687\",\"type\":\"ColumnDataSource\"}],\"root_ids\":[\"5688\"]},\"title\":\"Bokeh Application\",\"version\":\"2.0.2\"}};\n",
       "  var render_items = [{\"docid\":\"a4cf9445-31c7-4738-a454-3d3cdab20aa5\",\"root_ids\":[\"5688\"],\"roots\":{\"5688\":\"7a74e490-6796-439b-86e4-d58da9721f93\"}}];\n",
       "  root.Bokeh.embed.embed_items_notebook(docs_json, render_items);\n",
       "\n",
       "  }\n",
       "  if (root.Bokeh !== undefined) {\n",
       "    embed_document(root);\n",
       "  } else {\n",
       "    var attempts = 0;\n",
       "    var timer = setInterval(function(root) {\n",
       "      if (root.Bokeh !== undefined) {\n",
       "        clearInterval(timer);\n",
       "        embed_document(root);\n",
       "      } else {\n",
       "        attempts++;\n",
       "        if (attempts > 100) {\n",
       "          clearInterval(timer);\n",
       "          console.log(\"Bokeh: ERROR: Unable to run BokehJS code because BokehJS library is missing\");\n",
       "        }\n",
       "      }\n",
       "    }, 10, root)\n",
       "  }\n",
       "})(window);"
      ],
      "application/vnd.bokehjs_exec.v0+json": ""
     },
     "metadata": {
      "application/vnd.bokehjs_exec.v0+json": {
       "id": "5688"
      }
     },
     "output_type": "display_data"
    }
   ],
   "source": [
    "source = ColumnDataSource(lac)\n",
    "p = figure(plot_width=1000, plot_height=400, x_axis_type='datetime',\n",
    "           y_axis_type='log',\n",
    "           title=f\"Cumulative cases (log scale)\", \n",
    "           title_location='above')\n",
    "\n",
    "p.circle(x='date', \n",
    "         y='confirmed_cases', \n",
    "         size=5, \n",
    "         color=\"navy\", \n",
    "         source=source, \n",
    "         alpha=0.2, \n",
    "         legend_label='Cases')\n",
    "\n",
    "p.line(x='date', \n",
    "         y='confirmed_cases', \n",
    "         line_width=5, \n",
    "         color=\"navy\", \n",
    "         source=source, \n",
    "         alpha=0.5, \n",
    "         legend_label='Cases')\n",
    "\n",
    "p.legend.location = 'bottom_right'\n",
    "\n",
    "show(p)"
   ]
  },
  {
   "cell_type": "markdown",
   "metadata": {},
   "source": [
    "## Deaths (LA County)"
   ]
  },
  {
   "cell_type": "code",
   "execution_count": 12,
   "metadata": {
    "ExecuteTime": {
     "end_time": "2020-06-11T21:44:34.522219Z",
     "start_time": "2020-06-11T21:44:34.398116Z"
    }
   },
   "outputs": [
    {
     "data": {
      "text/html": [
       "\n",
       "\n",
       "\n",
       "\n",
       "\n",
       "\n",
       "  <div class=\"bk-root\" id=\"fc3e5d1b-57ff-4565-acec-de0784f4aaef\" data-root-id=\"6190\"></div>\n"
      ]
     },
     "metadata": {},
     "output_type": "display_data"
    },
    {
     "data": {
      "application/javascript": [
       "(function(root) {\n",
       "  function embed_document(root) {\n",
       "    \n",
       "  var docs_json = {\"63a91bf0-6feb-480f-adba-0ebea5a3271a\":{\"roots\":{\"references\":[{\"attributes\":{\"below\":[{\"id\":\"6201\"}],\"center\":[{\"id\":\"6204\"},{\"id\":\"6208\"},{\"id\":\"6246\"}],\"left\":[{\"id\":\"6205\"}],\"plot_height\":400,\"plot_width\":1000,\"renderers\":[{\"id\":\"6226\"},{\"id\":\"6251\"}],\"title\":{\"id\":\"6191\"},\"toolbar\":{\"id\":\"6216\"},\"x_range\":{\"id\":\"6193\"},\"x_scale\":{\"id\":\"6197\"},\"y_range\":{\"id\":\"6195\"},\"y_scale\":{\"id\":\"6199\"}},\"id\":\"6190\",\"subtype\":\"Figure\",\"type\":\"Plot\"},{\"attributes\":{\"months\":[0,2,4,6,8,10]},\"id\":\"6241\",\"type\":\"MonthsTicker\"},{\"attributes\":{},\"id\":\"6197\",\"type\":\"LinearScale\"},{\"attributes\":{\"fill_alpha\":{\"value\":0.1},\"fill_color\":{\"value\":\"navy\"},\"line_alpha\":{\"value\":0.1},\"line_color\":{\"value\":\"navy\"},\"size\":{\"units\":\"screen\",\"value\":5},\"x\":{\"field\":\"date\"},\"y\":{\"field\":\"deaths\"}},\"id\":\"6225\",\"type\":\"Circle\"},{\"attributes\":{\"formatter\":{\"id\":\"6230\"},\"ticker\":{\"id\":\"6202\"}},\"id\":\"6201\",\"type\":\"DatetimeAxis\"},{\"attributes\":{\"months\":[0,4,8]},\"id\":\"6242\",\"type\":\"MonthsTicker\"},{\"attributes\":{\"active_drag\":\"auto\",\"active_inspect\":\"auto\",\"active_multi\":null,\"active_scroll\":\"auto\",\"active_tap\":\"auto\",\"tools\":[{\"id\":\"6209\"},{\"id\":\"6210\"},{\"id\":\"6211\"},{\"id\":\"6212\"},{\"id\":\"6213\"},{\"id\":\"6214\"}]},\"id\":\"6216\",\"type\":\"Toolbar\"},{\"attributes\":{},\"id\":\"6195\",\"type\":\"DataRange1d\"},{\"attributes\":{},\"id\":\"6199\",\"type\":\"LogScale\"},{\"attributes\":{\"months\":[0,6]},\"id\":\"6243\",\"type\":\"MonthsTicker\"},{\"attributes\":{},\"id\":\"6244\",\"type\":\"YearsTicker\"},{\"attributes\":{\"num_minor_ticks\":5,\"tickers\":[{\"id\":\"6233\"},{\"id\":\"6234\"},{\"id\":\"6235\"},{\"id\":\"6236\"},{\"id\":\"6237\"},{\"id\":\"6238\"},{\"id\":\"6239\"},{\"id\":\"6240\"},{\"id\":\"6241\"},{\"id\":\"6242\"},{\"id\":\"6243\"},{\"id\":\"6244\"}]},\"id\":\"6202\",\"type\":\"DatetimeTicker\"},{\"attributes\":{\"days\":[1,8,15,22]},\"id\":\"6238\",\"type\":\"DaysTicker\"},{\"attributes\":{\"items\":[{\"id\":\"6247\"}],\"location\":\"bottom_right\"},\"id\":\"6246\",\"type\":\"Legend\"},{\"attributes\":{\"axis\":{\"id\":\"6201\"},\"ticker\":null},\"id\":\"6204\",\"type\":\"Grid\"},{\"attributes\":{\"label\":{\"value\":\"Deaths\"},\"renderers\":[{\"id\":\"6226\"},{\"id\":\"6251\"}]},\"id\":\"6247\",\"type\":\"LegendItem\"},{\"attributes\":{\"data\":{\"confirmed_cases\":[670,814,1230,1482,1818,2147,2505,3037,3528,4071,4605,5325,5955,6391,6944,7573,7984,8453,8889,9197,9480,10075,10517,10895,11421,12051,12349,13823,15165,16449,17567,18545,19159,19567,20460,21017,22522,23233,24262,24936,25699,26238,27866,28665,29526,30334,31241,31703,32269,33247,34552,35447,36324,37374,38011,38466,39632,40975,42138,43085,44121,45034,46023,47875,48778,49860,51685,53746,55001,56017,57222,58267,59717,61074,62389,63850,64699,65957,67111],\"date\":{\"__ndarray__\":\"AADAa50Qd0IAAIDR7xB3QgAAQDdCEXdCAAAAnZQRd0IAAMAC5xF3QgAAgGg5EndCAABAzosSd0IAAAA03hJ3QgAAwJkwE3dCAACA/4ITd0IAAEBl1RN3QgAAAMsnFHdCAADAMHoUd0IAAICWzBR3QgAAQPweFXdCAAAAYnEVd0IAAMDHwxV3QgAAgC0WFndCAABAk2gWd0IAAAD5uhZ3QgAAwF4NF3dCAACAxF8Xd0IAAEAqshd3QgAAAJAEGHdCAADA9VYYd0IAAIBbqRh3QgAAQMH7GHdCAAAAJ04Zd0IAAMCMoBl3QgAAgPLyGXdCAABAWEUad0IAAAC+lxp3QgAAwCPqGndCAACAiTwbd0IAAEDvjht3QgAAAFXhG3dCAADAujMcd0IAAIAghhx3QgAAQIbYHHdCAAAA7Codd0IAAMBRfR13QgAAgLfPHXdCAABAHSIed0IAAACDdB53QgAAwOjGHndCAACAThkfd0IAAEC0ax93QgAAABq+H3dCAADAfxAgd0IAAIDlYiB3QgAAQEu1IHdCAAAAsQchd0IAAMAWWiF3QgAAgHysIXdCAABA4v4hd0IAAABIUSJ3QgAAwK2jIndCAACAE/Yid0IAAEB5SCN3QgAAAN+aI3dCAADARO0jd0IAAICqPyR3QgAAQBCSJHdCAAAAduQkd0IAAMDbNiV3QgAAgEGJJXdCAABAp9sld0IAAAANLiZ3QgAAwHKAJndCAACA2NImd0IAAEA+JSd3QgAAAKR3J3dCAADACcond0IAAIBvHCh3QgAAQNVuKHdCAAAAO8Eod0IAAMCgEyl3QgAAgAZmKXdCAABAbLgpd0I=\",\"dtype\":\"float64\",\"shape\":[79]},\"deaths\":[10,13,21,26,32,37,44,54,66,80,93,119,132,147,173,200,225,244,267,300,326,366,405,457,501,577,601,619,666,732,798,850,896,916,948,1004,1065,1119,1174,1212,1231,1260,1315,1369,1420,1470,1515,1531,1570,1617,1663,1711,1752,1793,1821,1842,1926,1976,2021,2051,2092,2108,2116,2145,2201,2241,2294,2339,2362,2386,2448,2489,2532,2567,2624,2646,2656,2710,2768],\"new_confirmed_cases\":{\"__ndarray__\":\"AAAAAADAX0AAAAAAAABiQAAAAAAAAHpAAAAAAACAb0AAAAAAAAB1QAAAAAAAkHRAAAAAAABgdkAAAAAAAKCAQAAAAAAAsH5AAAAAAAD4gEAAAAAAALCAQAAAAAAAgIZAAAAAAACwg0AAAAAAAEB7QAAAAAAASIFAAAAAAACog0AAAAAAALB5QAAAAAAAUH1AAAAAAABAe0AAAAAAAEBzQAAAAAAAsHFAAAAAAACYgkAAAAAAAKB7QAAAAAAAoHdAAAAAAABwgEAAAAAAALCDQAAAAAAAoHJAAAAAAAAIl0AAAAAAAPiUQAAAAAAAEJRAAAAAAAB4kUAAAAAAAJCOQAAAAAAAMINAAAAAAACAeUAAAAAAAOiLQAAAAAAAaIFAAAAAAACEl0AAAAAAADiGQAAAAAAAFJBAAAAAAAAQhUAAAAAAANiHQAAAAAAA2IBAAAAAAABwmUAAAAAAAPiIQAAAAAAA6IpAAAAAAABAiUAAAAAAAFiMQAAAAAAA4HxAAAAAAACwgUAAAAAAAJCOQAAAAAAAZJRAAAAAAAD4i0AAAAAAAGiLQAAAAAAAaJBAAAAAAADog0AAAAAAAHB8QAAAAAAAOJJAAAAAAAD8lEAAAAAAACySQAAAAAAAmI1AAAAAAAAwkEAAAAAAAIiMQAAAAAAA6I5AAAAAAADwnEAAAAAAADiMQAAAAAAA6JBAAAAAAACEnEAAAAAAABqgQAAAAAAAnJNAAAAAAADAj0AAAAAAANSSQAAAAAAAVJBAAAAAAAColkAAAAAAADSVQAAAAAAAjJRAAAAAAADUlkAAAAAAAIiKQAAAAAAAqJNAAAAAAAAIkkA=\",\"dtype\":\"float64\",\"shape\":[79]},\"new_deaths\":{\"__ndarray__\":\"AAAAAAAAAEAAAAAAAAAIQAAAAAAAACBAAAAAAAAAFEAAAAAAAAAYQAAAAAAAABRAAAAAAAAAHEAAAAAAAAAkQAAAAAAAAChAAAAAAAAALEAAAAAAAAAqQAAAAAAAADpAAAAAAAAAKkAAAAAAAAAuQAAAAAAAADpAAAAAAAAAO0AAAAAAAAA5QAAAAAAAADNAAAAAAAAAN0AAAAAAAIBAQAAAAAAAADpAAAAAAAAAREAAAAAAAIBDQAAAAAAAAEpAAAAAAAAARkAAAAAAAABTQAAAAAAAADhAAAAAAAAAMkAAAAAAAIBHQAAAAAAAgFBAAAAAAACAUEAAAAAAAABKQAAAAAAAAEdAAAAAAAAANEAAAAAAAABAQAAAAAAAAExAAAAAAACATkAAAAAAAABLQAAAAAAAgEtAAAAAAAAAQ0AAAAAAAAAzQAAAAAAAAD1AAAAAAACAS0AAAAAAAABLQAAAAAAAgElAAAAAAAAASUAAAAAAAIBGQAAAAAAAADBAAAAAAACAQ0AAAAAAAIBHQAAAAAAAAEdAAAAAAAAASEAAAAAAAIBEQAAAAAAAgERAAAAAAAAAPEAAAAAAAAA1QAAAAAAAAFVAAAAAAAAASUAAAAAAAIBGQAAAAAAAAD5AAAAAAACAREAAAAAAAAAwQAAAAAAAACBAAAAAAAAAPUAAAAAAAABMQAAAAAAAAERAAAAAAACASkAAAAAAAIBGQAAAAAAAADdAAAAAAAAAOEAAAAAAAABPQAAAAAAAgERAAAAAAACARUAAAAAAAIBBQAAAAAAAgExAAAAAAAAANkAAAAAAAAAkQAAAAAAAAEtAAAAAAAAATUA=\",\"dtype\":\"float64\",\"shape\":[79]}},\"selected\":{\"id\":\"6270\"},\"selection_policy\":{\"id\":\"6271\"}},\"id\":\"6189\",\"type\":\"ColumnDataSource\"},{\"attributes\":{\"formatter\":{\"id\":\"6232\"},\"ticker\":{\"id\":\"6206\"}},\"id\":\"6205\",\"type\":\"LogAxis\"},{\"attributes\":{\"months\":[0,1,2,3,4,5,6,7,8,9,10,11]},\"id\":\"6240\",\"type\":\"MonthsTicker\"},{\"attributes\":{\"days\":[1,15]},\"id\":\"6239\",\"type\":\"DaysTicker\"},{\"attributes\":{\"num_minor_ticks\":10},\"id\":\"6206\",\"type\":\"LogTicker\"},{\"attributes\":{},\"id\":\"6270\",\"type\":\"Selection\"},{\"attributes\":{\"data_source\":{\"id\":\"6189\"},\"glyph\":{\"id\":\"6224\"},\"hover_glyph\":null,\"muted_glyph\":null,\"nonselection_glyph\":{\"id\":\"6225\"},\"selection_glyph\":null,\"view\":{\"id\":\"6227\"}},\"id\":\"6226\",\"type\":\"GlyphRenderer\"},{\"attributes\":{\"overlay\":{\"id\":\"6215\"}},\"id\":\"6211\",\"type\":\"BoxZoomTool\"},{\"attributes\":{\"base\":24,\"mantissas\":[1,2,4,6,8,12],\"max_interval\":43200000.0,\"min_interval\":3600000.0,\"num_minor_ticks\":0},\"id\":\"6235\",\"type\":\"AdaptiveTicker\"},{\"attributes\":{\"line_alpha\":0.1,\"line_color\":\"navy\",\"line_width\":5,\"x\":{\"field\":\"date\"},\"y\":{\"field\":\"deaths\"}},\"id\":\"6250\",\"type\":\"Line\"},{\"attributes\":{},\"id\":\"6210\",\"type\":\"WheelZoomTool\"},{\"attributes\":{\"data_source\":{\"id\":\"6189\"},\"glyph\":{\"id\":\"6249\"},\"hover_glyph\":null,\"muted_glyph\":null,\"nonselection_glyph\":{\"id\":\"6250\"},\"selection_glyph\":null,\"view\":{\"id\":\"6252\"}},\"id\":\"6251\",\"type\":\"GlyphRenderer\"},{\"attributes\":{},\"id\":\"6209\",\"type\":\"PanTool\"},{\"attributes\":{\"fill_alpha\":{\"value\":0.2},\"fill_color\":{\"value\":\"navy\"},\"line_alpha\":{\"value\":0.2},\"line_color\":{\"value\":\"navy\"},\"size\":{\"units\":\"screen\",\"value\":5},\"x\":{\"field\":\"date\"},\"y\":{\"field\":\"deaths\"}},\"id\":\"6224\",\"type\":\"Circle\"},{\"attributes\":{\"line_alpha\":0.5,\"line_color\":\"navy\",\"line_width\":5,\"x\":{\"field\":\"date\"},\"y\":{\"field\":\"deaths\"}},\"id\":\"6249\",\"type\":\"Line\"},{\"attributes\":{\"source\":{\"id\":\"6189\"}},\"id\":\"6252\",\"type\":\"CDSView\"},{\"attributes\":{\"source\":{\"id\":\"6189\"}},\"id\":\"6227\",\"type\":\"CDSView\"},{\"attributes\":{\"ticker\":null},\"id\":\"6232\",\"type\":\"LogTickFormatter\"},{\"attributes\":{\"bottom_units\":\"screen\",\"fill_alpha\":0.5,\"fill_color\":\"lightgrey\",\"left_units\":\"screen\",\"level\":\"overlay\",\"line_alpha\":1.0,\"line_color\":\"black\",\"line_dash\":[4,4],\"line_width\":2,\"render_mode\":\"css\",\"right_units\":\"screen\",\"top_units\":\"screen\"},\"id\":\"6215\",\"type\":\"BoxAnnotation\"},{\"attributes\":{},\"id\":\"6271\",\"type\":\"UnionRenderers\"},{\"attributes\":{\"axis\":{\"id\":\"6205\"},\"dimension\":1,\"ticker\":null},\"id\":\"6208\",\"type\":\"Grid\"},{\"attributes\":{},\"id\":\"6230\",\"type\":\"DatetimeTickFormatter\"},{\"attributes\":{\"mantissas\":[1,2,5],\"max_interval\":500.0,\"num_minor_ticks\":0},\"id\":\"6233\",\"type\":\"AdaptiveTicker\"},{\"attributes\":{},\"id\":\"6212\",\"type\":\"SaveTool\"},{\"attributes\":{},\"id\":\"6214\",\"type\":\"HelpTool\"},{\"attributes\":{\"days\":[1,2,3,4,5,6,7,8,9,10,11,12,13,14,15,16,17,18,19,20,21,22,23,24,25,26,27,28,29,30,31]},\"id\":\"6236\",\"type\":\"DaysTicker\"},{\"attributes\":{\"days\":[1,4,7,10,13,16,19,22,25,28]},\"id\":\"6237\",\"type\":\"DaysTicker\"},{\"attributes\":{\"base\":60,\"mantissas\":[1,2,5,10,15,20,30],\"max_interval\":1800000.0,\"min_interval\":1000.0,\"num_minor_ticks\":0},\"id\":\"6234\",\"type\":\"AdaptiveTicker\"},{\"attributes\":{\"text\":\"Cumulative deaths (log scale)\"},\"id\":\"6191\",\"type\":\"Title\"},{\"attributes\":{},\"id\":\"6213\",\"type\":\"ResetTool\"},{\"attributes\":{},\"id\":\"6193\",\"type\":\"DataRange1d\"}],\"root_ids\":[\"6190\"]},\"title\":\"Bokeh Application\",\"version\":\"2.0.2\"}};\n",
       "  var render_items = [{\"docid\":\"63a91bf0-6feb-480f-adba-0ebea5a3271a\",\"root_ids\":[\"6190\"],\"roots\":{\"6190\":\"fc3e5d1b-57ff-4565-acec-de0784f4aaef\"}}];\n",
       "  root.Bokeh.embed.embed_items_notebook(docs_json, render_items);\n",
       "\n",
       "  }\n",
       "  if (root.Bokeh !== undefined) {\n",
       "    embed_document(root);\n",
       "  } else {\n",
       "    var attempts = 0;\n",
       "    var timer = setInterval(function(root) {\n",
       "      if (root.Bokeh !== undefined) {\n",
       "        clearInterval(timer);\n",
       "        embed_document(root);\n",
       "      } else {\n",
       "        attempts++;\n",
       "        if (attempts > 100) {\n",
       "          clearInterval(timer);\n",
       "          console.log(\"Bokeh: ERROR: Unable to run BokehJS code because BokehJS library is missing\");\n",
       "        }\n",
       "      }\n",
       "    }, 10, root)\n",
       "  }\n",
       "})(window);"
      ],
      "application/vnd.bokehjs_exec.v0+json": ""
     },
     "metadata": {
      "application/vnd.bokehjs_exec.v0+json": {
       "id": "6190"
      }
     },
     "output_type": "display_data"
    }
   ],
   "source": [
    "source = ColumnDataSource(lac)\n",
    "p = figure(plot_width=1000, plot_height=400, x_axis_type='datetime',\n",
    "           y_axis_type='log',\n",
    "           title=f\"Cumulative deaths (log scale)\", \n",
    "           title_location='above')\n",
    "\n",
    "p.circle(x='date', \n",
    "         y='deaths', \n",
    "         size=5, \n",
    "         color=\"navy\", \n",
    "         source=source, \n",
    "         alpha=0.2, \n",
    "         legend_label='Deaths')\n",
    "\n",
    "p.line(x='date', \n",
    "         y='deaths', \n",
    "         line_width=5, \n",
    "         color=\"navy\", \n",
    "         source=source, \n",
    "         alpha=0.5, \n",
    "         legend_label='Deaths')\n",
    "\n",
    "p.legend.location = 'bottom_right'\n",
    "\n",
    "show(p)"
   ]
  },
  {
   "cell_type": "markdown",
   "metadata": {},
   "source": [
    "# Growth rates"
   ]
  },
  {
   "cell_type": "markdown",
   "metadata": {},
   "source": [
    "We also can look at the growth rate from day-to-day. This is the number of new cases today divided by the number of new cases yesterday. For example:\n",
    "\n",
    "    Yesterday: 10 new\n",
    "    \n",
    "    Today: 5 new\n",
    "    \n",
    "    Growth rate: 5 / 10 = 0.5\n",
    "    \n",
    "and\n",
    "\n",
    "    Yesterday: 5 new\n",
    "    \n",
    "    Today: 10 new\n",
    "    \n",
    "    Growth rate: 2.0\n",
    "\n",
    "If the growth rate is greater than 1, things are getting increasingly worse. If it is 1, they are staying the same. If it is less than 1, it is slowing. Thus in the following plots we want to see values below the red line. \n",
    "\n",
    "\n",
    "\n",
    "I've labeled the following plots 'trimmed' to indicate that outlier daily growth values about 5.0 are not represented by points. It's easy to get that kind of noise given the relatively small numbers in the local case data. The outlier values are included in the calculation of the trend lies.\n",
    "\n",
    "---\n",
    "\n",
    "NB, the rate cannot go below 0 because there can't be negative new cases. Sometimes the raw data contains negative values to make a correction to the totals. Since they comprise a very small number of cases, I've dropped all negative values."
   ]
  },
  {
   "cell_type": "markdown",
   "metadata": {},
   "source": [
    "## Deaths growth rate"
   ]
  },
  {
   "cell_type": "code",
   "execution_count": 13,
   "metadata": {
    "ExecuteTime": {
     "end_time": "2020-06-11T21:44:36.300088Z",
     "start_time": "2020-06-11T21:44:36.166136Z"
    }
   },
   "outputs": [
    {
     "data": {
      "text/html": [
       "\n",
       "\n",
       "\n",
       "\n",
       "\n",
       "\n",
       "  <div class=\"bk-root\" id=\"e9298139-ef05-4827-8801-e977078f0191\" data-root-id=\"6713\"></div>\n"
      ]
     },
     "metadata": {},
     "output_type": "display_data"
    },
    {
     "data": {
      "application/javascript": [
       "(function(root) {\n",
       "  function embed_document(root) {\n",
       "    \n",
       "  var docs_json = {\"a584db40-3af7-4be4-bcf1-5aadb6ace1a3\":{\"roots\":{\"references\":[{\"attributes\":{\"below\":[{\"id\":\"6724\"}],\"center\":[{\"id\":\"6727\"},{\"id\":\"6731\"},{\"id\":\"6769\"},{\"id\":\"6797\"}],\"left\":[{\"id\":\"6728\"}],\"plot_height\":400,\"plot_width\":1000,\"renderers\":[{\"id\":\"6749\"},{\"id\":\"6774\"}],\"title\":{\"id\":\"6714\"},\"toolbar\":{\"id\":\"6739\"},\"x_range\":{\"id\":\"6716\"},\"x_scale\":{\"id\":\"6720\"},\"y_range\":{\"id\":\"6718\"},\"y_scale\":{\"id\":\"6722\"}},\"id\":\"6713\",\"subtype\":\"Figure\",\"type\":\"Plot\"},{\"attributes\":{\"months\":[0,6]},\"id\":\"6766\",\"type\":\"MonthsTicker\"},{\"attributes\":{\"formatter\":{\"id\":\"6753\"},\"ticker\":{\"id\":\"6725\"}},\"id\":\"6724\",\"type\":\"DatetimeAxis\"},{\"attributes\":{\"data\":{\"date\":{\"__ndarray__\":\"AACA0e8Qd0IAAEA3QhF3QgAAAJ2UEXdCAADAAucRd0IAAIBoORJ3QgAAQM6LEndCAAAANN4Sd0IAAMCZMBN3QgAAgP+CE3dCAABAZdUTd0IAAADLJxR3QgAAwDB6FHdCAACAlswUd0IAAED8HhV3QgAAAGJxFXdCAADAx8MVd0IAAIAtFhZ3QgAAQJNoFndCAAAA+boWd0IAAMBeDRd3QgAAgMRfF3dCAABAKrIXd0IAAACQBBh3QgAAwPVWGHdCAACAW6kYd0IAAEDB+xh3QgAAACdOGXdCAADAjKAZd0IAAIDy8hl3QgAAQFhFGndCAAAAvpcad0IAAMAj6hp3QgAAgIk8G3dCAABA744bd0IAAABV4Rt3QgAAwLozHHdCAACAIIYcd0IAAECG2Bx3QgAAAOwqHXdCAADAUX0dd0IAAIC3zx13QgAAQB0iHndCAAAAg3Qed0IAAMDoxh53QgAAgE4ZH3dCAABAtGsfd0IAAAAavh93QgAAwH8QIHdCAACA5WIgd0IAAEBLtSB3QgAAALEHIXdCAADAFlohd0IAAIB8rCF3QgAAQOL+IXdCAAAASFEid0IAAMCtoyJ3QgAAgBP2IndCAABAeUgjd0IAAADfmiN3QgAAwETtI3dCAACAqj8kd0IAAEAQkiR3QgAAAHbkJHdCAADA2zYld0IAAIBBiSV3QgAAQKfbJXdCAAAADS4md0IAAMBygCZ3QgAAgNjSJndCAABAPiUnd0IAAACkdyd3QgAAwAnKJ3dCAACAbxwod0IAAEDVbih3QgAAADvBKHdCAADAoBMpd0IAAEBsuCl3Qg==\",\"dtype\":\"float64\",\"shape\":[77]},\"index\":[0,1,2,3,4,5,6,7,8,9,10,11,12,13,14,15,16,17,18,19,20,21,22,23,24,25,26,27,28,29,30,31,32,33,34,35,36,37,38,39,40,41,42,43,44,45,46,47,48,49,50,51,52,53,54,55,56,57,58,59,60,61,62,63,64,65,66,67,68,69,70,71,72,73,74,75,76],\"new_confirmed_cases\":{\"__ndarray__\":\"iUQikUgk8j/HcRzHcRwHQCd2Yid2YuM/VVVVVVVV9T9VVVVVVVXvP6Gp9qsLafE/9ddzFcvG9z+LWCpiqYjtPwrEmNHKsfE/UQsYkzh47z9ZyUpWspL1PwAAAAAAAOw/VmIlVmIl5j+yBDbtJ0v0P2aEEhjsMvI/URInIM3o5D/UxIw6BkLyP1lpwzKXv+0/sGk/WQKb5j9CnJWfEGftP27yHKDd0QBAWHzFV3zF5z/70137013rPzxk7pC5Q/Y/Fo/rAtsp8z9e5EVe5EXeP5lLhCcFyRNAzm7hV2Mi7T/Atj8H853uP7dbTd/o3Os/iWxdDCv+6z96/1jmCBfkPw1Q4EGLQ+U/g4KCgoKCAUDC4t0CrvXjP1NXiv+knQVAKTG/HDc83j/7eNBb9yf3PxnsD8DM9eQ/h+7m0N0c8j+waT9ZApvmPwpeTsHLKQhAYjxgsQpp3z9JQxJZ1j3xP3X5DQW7B+4/k07Ng9z18T8GRA2TxUzgPyxoDhULmvM/KakfZ4ql+z8m+DZ/hVn1P6B5tKhE8uU/1egupD5b7z/xHi6q/SfzP2oDnTbQaeM/t23btm3b5j8FSIAESIAEQBfUe+rGbfI/9H4aSwq26z/Vy2Ynhw7qP/sqmzbygPE/NkOUzmUz7D/46hqg9VTxPwOE6u4p9v0/m5hU6YY03z/LLA5C8SvzP9Y3kgew/Po/6O1grawR8j8r+VL0VXzjP5OipQzu5+k/Pp/P5/P58j/8Q8D7Q8DrP07A8+lxM/Y/6sJ4ApXy7T/9yvzUcwLvP9AySdjDxvE/6kVNi3GY4j8WPzGLwlrtPw==\",\"dtype\":\"float64\",\"shape\":[77]},\"new_deaths\":{\"__ndarray__\":\"AAAAAAAA+D9VVVVVVVUFQAAAAAAAAOQ/MzMzMzMz8z+rqqqqqqrqP2ZmZmZmZvY/t23btm3b9j8zMzMzMzPzP6uqqqqqqvI/btu2bdu27T8AAAAAAAAAQAAAAAAAAOA/Yid2Yid28j+8u7u7u7v7P9mJndiJnfA/E9pLaC+h7T9SuB6F61HoP+U1lNdQXvM/b3rTm9709j822WSTTTbpP9mJndiJnfg/MzMzMzMz7z9VVVVVVVX1PzuxEzuxE+s/o4suuuii+z9eQ3kN5TXUPwAAAAAAAOg/OY7jOI7jBEDaqO9s1Hf2PwAAAAAAAPA/Ntlkk0026T/sxE7sxE7sP73pTW9609s/mpmZmZmZ+T8AAAAAAAD8P9u2bdu2bfE/Q7CONu9T7D++hPYS2kvwPxzWvmHtG+Y/AAAAAAAA4D+9hvIaymv4P2qE5Z5GWP4/a9+w9g1r7z+O4ziO4zjuP19fX19fX+8/zczMzMzM7D8XbMEWbMHWPwAAAAAAgANAgzRIgzRI8z99Z6O+s1HvPwtZyEIWsvA/VVVVVVVV6z8AAAAAAADwP9uVqF2J2uU/AAAAAAAA6D8AAAAAAAAQQMMwDMMwDOM/zczMzMzM7D9VVVVVVVXlP97d3d3d3fU/+hicj8H52D8AAAAAAADgPwAAAAAAAA1AR1juaYTl/j+3bdu2bdvmPzMzMzMzM/U/0CE1wXgr6z+wBVuwBVvgPwtZyEIWsvA/q6qqqqqqBEAppZRSSinlP8jgfAzOx/A/g76gL+gL6j/qoA7qoA76PzqL6Syms9g/F1100UUX3T/3EtpLaC/xPw==\",\"dtype\":\"float64\",\"shape\":[77]}},\"selected\":{\"id\":\"6793\"},\"selection_policy\":{\"id\":\"6794\"}},\"id\":\"6711\",\"type\":\"ColumnDataSource\"},{\"attributes\":{},\"id\":\"6767\",\"type\":\"YearsTicker\"},{\"attributes\":{\"num_minor_ticks\":5,\"tickers\":[{\"id\":\"6756\"},{\"id\":\"6757\"},{\"id\":\"6758\"},{\"id\":\"6759\"},{\"id\":\"6760\"},{\"id\":\"6761\"},{\"id\":\"6762\"},{\"id\":\"6763\"},{\"id\":\"6764\"},{\"id\":\"6765\"},{\"id\":\"6766\"},{\"id\":\"6767\"}]},\"id\":\"6725\",\"type\":\"DatetimeTicker\"},{\"attributes\":{\"items\":[{\"id\":\"6770\"},{\"id\":\"6796\"}],\"location\":\"bottom_right\"},\"id\":\"6769\",\"type\":\"Legend\"},{\"attributes\":{\"axis\":{\"id\":\"6724\"},\"ticker\":null},\"id\":\"6727\",\"type\":\"Grid\"},{\"attributes\":{\"bottom_units\":\"screen\",\"fill_alpha\":0.5,\"fill_color\":\"lightgrey\",\"left_units\":\"screen\",\"level\":\"overlay\",\"line_alpha\":1.0,\"line_color\":\"black\",\"line_dash\":[4,4],\"line_width\":2,\"render_mode\":\"css\",\"right_units\":\"screen\",\"top_units\":\"screen\"},\"id\":\"6738\",\"type\":\"BoxAnnotation\"},{\"attributes\":{\"label\":{\"value\":\"daily death growth rate\"},\"renderers\":[{\"id\":\"6749\"}]},\"id\":\"6770\",\"type\":\"LegendItem\"},{\"attributes\":{\"formatter\":{\"id\":\"6755\"},\"ticker\":{\"id\":\"6729\"}},\"id\":\"6728\",\"type\":\"LinearAxis\"},{\"attributes\":{\"source\":{\"id\":\"6711\"}},\"id\":\"6750\",\"type\":\"CDSView\"},{\"attributes\":{},\"id\":\"6729\",\"type\":\"BasicTicker\"},{\"attributes\":{},\"id\":\"6753\",\"type\":\"DatetimeTickFormatter\"},{\"attributes\":{\"axis\":{\"id\":\"6728\"},\"dimension\":1,\"ticker\":null},\"id\":\"6731\",\"type\":\"Grid\"},{\"attributes\":{\"line_alpha\":0.1,\"line_color\":\"navy\",\"line_width\":5,\"x\":{\"field\":\"date\"},\"y\":{\"field\":\"new_deaths\"}},\"id\":\"6773\",\"type\":\"Line\"},{\"attributes\":{\"data_source\":{\"id\":\"6711\"},\"glyph\":{\"id\":\"6747\"},\"hover_glyph\":null,\"muted_glyph\":null,\"nonselection_glyph\":{\"id\":\"6748\"},\"selection_glyph\":null,\"view\":{\"id\":\"6750\"}},\"id\":\"6749\",\"type\":\"GlyphRenderer\"},{\"attributes\":{\"fill_alpha\":{\"value\":0.1},\"fill_color\":{\"value\":\"navy\"},\"line_alpha\":{\"value\":0.1},\"line_color\":{\"value\":\"navy\"},\"size\":{\"units\":\"screen\",\"value\":5},\"x\":{\"field\":\"date\"},\"y\":{\"field\":\"new_deaths\"}},\"id\":\"6748\",\"type\":\"Circle\"},{\"attributes\":{},\"id\":\"6716\",\"type\":\"DataRange1d\"},{\"attributes\":{},\"id\":\"7135\",\"type\":\"Selection\"},{\"attributes\":{},\"id\":\"6755\",\"type\":\"BasicTickFormatter\"},{\"attributes\":{\"source\":{\"id\":\"6712\"}},\"id\":\"6775\",\"type\":\"CDSView\"},{\"attributes\":{\"data_source\":{\"id\":\"6712\"},\"glyph\":{\"id\":\"6772\"},\"hover_glyph\":null,\"muted_glyph\":null,\"nonselection_glyph\":{\"id\":\"6773\"},\"selection_glyph\":null,\"view\":{\"id\":\"6775\"}},\"id\":\"6774\",\"type\":\"GlyphRenderer\"},{\"attributes\":{\"line_alpha\":0.5,\"line_color\":\"navy\",\"line_width\":5,\"x\":{\"field\":\"date\"},\"y\":{\"field\":\"new_deaths\"}},\"id\":\"6772\",\"type\":\"Line\"},{\"attributes\":{\"mantissas\":[1,2,5],\"max_interval\":500.0,\"num_minor_ticks\":0},\"id\":\"6756\",\"type\":\"AdaptiveTicker\"},{\"attributes\":{},\"id\":\"7136\",\"type\":\"UnionRenderers\"},{\"attributes\":{},\"id\":\"6720\",\"type\":\"LinearScale\"},{\"attributes\":{},\"id\":\"6732\",\"type\":\"PanTool\"},{\"attributes\":{\"base\":60,\"mantissas\":[1,2,5,10,15,20,30],\"max_interval\":1800000.0,\"min_interval\":1000.0,\"num_minor_ticks\":0},\"id\":\"6757\",\"type\":\"AdaptiveTicker\"},{\"attributes\":{},\"id\":\"6733\",\"type\":\"WheelZoomTool\"},{\"attributes\":{\"months\":[0,2,4,6,8,10]},\"id\":\"6764\",\"type\":\"MonthsTicker\"},{\"attributes\":{\"base\":24,\"mantissas\":[1,2,4,6,8,12],\"max_interval\":43200000.0,\"min_interval\":3600000.0,\"num_minor_ticks\":0},\"id\":\"6758\",\"type\":\"AdaptiveTicker\"},{\"attributes\":{\"overlay\":{\"id\":\"6738\"}},\"id\":\"6734\",\"type\":\"BoxZoomTool\"},{\"attributes\":{\"text\":\"Daily death growth rate (trimmed)\"},\"id\":\"6714\",\"type\":\"Title\"},{\"attributes\":{},\"id\":\"6735\",\"type\":\"SaveTool\"},{\"attributes\":{\"days\":[1,2,3,4,5,6,7,8,9,10,11,12,13,14,15,16,17,18,19,20,21,22,23,24,25,26,27,28,29,30,31]},\"id\":\"6759\",\"type\":\"DaysTicker\"},{\"attributes\":{},\"id\":\"6718\",\"type\":\"DataRange1d\"},{\"attributes\":{\"days\":[1,4,7,10,13,16,19,22,25,28]},\"id\":\"6760\",\"type\":\"DaysTicker\"},{\"attributes\":{},\"id\":\"6736\",\"type\":\"ResetTool\"},{\"attributes\":{\"data\":{\"date\":{\"__ndarray__\":\"AADAa50Qd0IAAIDR7xB3QgAAQDdCEXdCAAAAnZQRd0IAAMAC5xF3QgAAgGg5EndCAABAzosSd0IAAAA03hJ3QgAAwJkwE3dCAACA/4ITd0IAAEBl1RN3QgAAAMsnFHdCAADAMHoUd0IAAICWzBR3QgAAQPweFXdCAAAAYnEVd0IAAMDHwxV3QgAAgC0WFndCAABAk2gWd0IAAAD5uhZ3QgAAwF4NF3dCAACAxF8Xd0IAAEAqshd3QgAAAJAEGHdCAADA9VYYd0IAAIBbqRh3QgAAQMH7GHdCAAAAJ04Zd0IAAMCMoBl3QgAAgPLyGXdCAABAWEUad0IAAAC+lxp3QgAAwCPqGndCAACAiTwbd0IAAEDvjht3QgAAAFXhG3dCAADAujMcd0IAAIAghhx3QgAAQIbYHHdCAAAA7Codd0IAAMBRfR13QgAAgLfPHXdCAABAHSIed0IAAACDdB53QgAAwOjGHndCAACAThkfd0IAAEC0ax93QgAAABq+H3dCAADAfxAgd0IAAIDlYiB3QgAAQEu1IHdCAAAAsQchd0IAAMAWWiF3QgAAgHysIXdCAABA4v4hd0IAAABIUSJ3QgAAwK2jIndCAACAE/Yid0IAAEB5SCN3QgAAAN+aI3dCAADARO0jd0IAAICqPyR3QgAAQBCSJHdCAAAAduQkd0IAAMDbNiV3QgAAgEGJJXdCAABAp9sld0IAAAANLiZ3QgAAwHKAJndCAACA2NImd0IAAEA+JSd3QgAAAKR3J3dCAADACcond0IAAIBvHCh3QgAAQNVuKHdCAAAAO8Eod0IAAMCgEyl3QgAAgAZmKXdCAABAbLgpd0I=\",\"dtype\":\"float64\",\"shape\":[79]},\"index\":[0,1,2,3,4,5,6,7,8,9,10,11,12,13,14,15,16,17,18,19,20,21,22,23,24,25,26,27,28,29,30,31,32,33,34,35,36,37,38,39,40,41,42,43,44,45,46,47,48,49,50,51,52,53,54,55,56,57,58,59,60,61,62,63,64,65,66,67,68,69,70,71,72,73,74,75,76,77,78],\"new_confirmed_cases\":{\"__ndarray__\":\"AAAAAAAA+H+JRCKRSCTyPwbK1gdLFwBAucuuu3ev+D8gbhgi79j3PwlHz6MUNvY/eNfVzz1p9T9mjjW1v7/1P6b4xblTRPU/boaKDAcx8T+nNYWmAg7yP1+POsvGFvI/j5v9+9LZ8T8ReLgyD/LwPy3sQb+ucvA/w/gcFzLw8D9HBV3S2c7vP6oLCueyQ/A/In/RBW2d7j/OsiM3JNjtP+9xoUGG4e4/a7SsLNhY8T/1ToEv9nHwPzg4BfYI6PA/R+GAS5B68T9Wt93sbRfyP1/TJHzajvE/sgV40IDD+j/qbCRy/wn4P/InrX4sh/g/EY3QRUCQ+D+mT/6x32H3P3VNdZ1lFPY/KdSCjHCE9j9Azu4I3DbwP+tjb3MwHu8/kqtaS0iM8z9ZiwChOaPyP5iCzlE18vM/WkrJvB4C9D9t1H56tBP1P682J4BYsPE/yZzkJL0q9z+181ur4BzyP9lNfFL9fvM/9fK6xUJV8j8I20Sm02bzP4erW+54+vE/k6C0WPop8z+7VMdUrzXwP5iawilLI/I/GXXx3ww+8T/FqioiTVbxP9Ja77kIgvE/Dw1VM/e68T+WqmK9D5DwPwCnOUJ+ePI/tVj6LKwN8j9f65O4FXfyP3Eyqi8tFvI/BesC1r3Z8T9vJrkXbXryPwV39nxRUvM/35mFC4y+8T+97jYp4jnwP6QQtwhN/PA/feXWPcr68j95Sjwqdw/zP3hXpZoacPI/g8GIO/bP8T9nxTuoNz7wP/MNK0RcHPE/vZC5gCWL8T9dLX+2m6fvP/YqrDUN7O4/Op3aTNOb8D+clubVJRbwP3GjV54vw/A/89kozYHg8D8=\",\"dtype\":\"float64\",\"shape\":[79]},\"new_deaths\":{\"__ndarray__\":\"AAAAAAAA+H8AAAAAAAD4P6qqqqqqqgBA4ziO4ziO+T93d3d3d/f3P9ajcD0K1/U/7+7u7u7u9T+eJezmtxD2P6WaPO4sYfU/yuPOEnbz8T9281sIGKXyP7cQMEo1efQ/hgRtGSm28z+F+9wYICbzPxfis2J02PM/L1xVeu558z9h0x1XEO3yP3H1EutsivI/ktiVd3i88D8P6mqyc9/yP/PzTgpPCfI/0uzc6UeX8T+AyreXJXLxP2fZUNOJYPI/wQ9QYPOS8j9Kroo3UsHzPxAWw+GMMvE/Z73yxGIc8T+iZGb/CZDzPxn5BPk2i/Q/6exByCrI8z8OAtpgEabzP5nXjzL+uPE/QUsO9p7+8T9Xqv8L/u/zP9nKB44e+PE/2swZMNE/8T9x2dpqq/zwP5pKUnWgg/E/+ZRs60cS8T8OqOBCcTjxP1ylf55TDfE/Im+gkBRj8T/TGwtMMiTxPzWNKQnWRvE/V5No1oYw8T+ISVfw36rxPz/EAqhaVvE/ktVN7YZr8z/fN+4N8tbxPwYdpHci1fE/xqu8ZBUP8j+hz3I/OcXxP0lTree8//E/2AfX/0u/8j9CNPeRvMftP1cAX39ER/U/tw6Ltt9m9D9Wflgp6xL0P3rH6k00pfM/41TBtsF79D+mb5/QftDzP4EmDaw1PvM/yrgx9cdi8j9ZnUCtaXD1P9eoQVC+A/U/6uDCY/aE9j/HjEstFlb1PybDnqvPnPU/J2K72dLa9j8P3FnBTHn0P/VI+W5RkvE/qbyNmgtW8j+rMKSWAivxP/UykDwj8/I/YS7bw+ip8j/7JF6mTFHxP/5Lzqhzwfc/eWcHQP2y+D8=\",\"dtype\":\"float64\",\"shape\":[79]}},\"selected\":{\"id\":\"7135\"},\"selection_policy\":{\"id\":\"7136\"}},\"id\":\"6712\",\"type\":\"ColumnDataSource\"},{\"attributes\":{\"label\":{\"value\":\"7-day rolling avg\"},\"renderers\":[{\"id\":\"6774\"}]},\"id\":\"6796\",\"type\":\"LegendItem\"},{\"attributes\":{},\"id\":\"6737\",\"type\":\"HelpTool\"},{\"attributes\":{\"days\":[1,8,15,22]},\"id\":\"6761\",\"type\":\"DaysTicker\"},{\"attributes\":{\"days\":[1,15]},\"id\":\"6762\",\"type\":\"DaysTicker\"},{\"attributes\":{},\"id\":\"6794\",\"type\":\"UnionRenderers\"},{\"attributes\":{\"line_color\":\"red\",\"line_dash\":[6],\"line_width\":3,\"location\":1},\"id\":\"6797\",\"type\":\"Span\"},{\"attributes\":{\"months\":[0,1,2,3,4,5,6,7,8,9,10,11]},\"id\":\"6763\",\"type\":\"MonthsTicker\"},{\"attributes\":{\"active_drag\":\"auto\",\"active_inspect\":\"auto\",\"active_multi\":null,\"active_scroll\":\"auto\",\"active_tap\":\"auto\",\"tools\":[{\"id\":\"6732\"},{\"id\":\"6733\"},{\"id\":\"6734\"},{\"id\":\"6735\"},{\"id\":\"6736\"},{\"id\":\"6737\"}]},\"id\":\"6739\",\"type\":\"Toolbar\"},{\"attributes\":{\"fill_alpha\":{\"value\":0.8},\"fill_color\":{\"value\":\"navy\"},\"line_alpha\":{\"value\":0.8},\"line_color\":{\"value\":\"navy\"},\"size\":{\"units\":\"screen\",\"value\":5},\"x\":{\"field\":\"date\"},\"y\":{\"field\":\"new_deaths\"}},\"id\":\"6747\",\"type\":\"Circle\"},{\"attributes\":{},\"id\":\"6793\",\"type\":\"Selection\"},{\"attributes\":{\"months\":[0,4,8]},\"id\":\"6765\",\"type\":\"MonthsTicker\"},{\"attributes\":{},\"id\":\"6722\",\"type\":\"LinearScale\"}],\"root_ids\":[\"6713\"]},\"title\":\"Bokeh Application\",\"version\":\"2.0.2\"}};\n",
       "  var render_items = [{\"docid\":\"a584db40-3af7-4be4-bcf1-5aadb6ace1a3\",\"root_ids\":[\"6713\"],\"roots\":{\"6713\":\"e9298139-ef05-4827-8801-e977078f0191\"}}];\n",
       "  root.Bokeh.embed.embed_items_notebook(docs_json, render_items);\n",
       "\n",
       "  }\n",
       "  if (root.Bokeh !== undefined) {\n",
       "    embed_document(root);\n",
       "  } else {\n",
       "    var attempts = 0;\n",
       "    var timer = setInterval(function(root) {\n",
       "      if (root.Bokeh !== undefined) {\n",
       "        clearInterval(timer);\n",
       "        embed_document(root);\n",
       "      } else {\n",
       "        attempts++;\n",
       "        if (attempts > 100) {\n",
       "          clearInterval(timer);\n",
       "          console.log(\"Bokeh: ERROR: Unable to run BokehJS code because BokehJS library is missing\");\n",
       "        }\n",
       "      }\n",
       "    }, 10, root)\n",
       "  }\n",
       "})(window);"
      ],
      "application/vnd.bokehjs_exec.v0+json": ""
     },
     "metadata": {
      "application/vnd.bokehjs_exec.v0+json": {
       "id": "6713"
      }
     },
     "output_type": "display_data"
    }
   ],
   "source": [
    "# need to trim so plot is readable\n",
    "top_limit=5; bottom_limit=-5\n",
    "trm = lac_growth_rate[lac_growth_rate.new_deaths >= bottom_limit] # and noho_growth_rate.confirmed_cases <= top_limit]\n",
    "trm = trm[trm.new_deaths <= top_limit]\n",
    "source = ColumnDataSource(trm.reset_index())\n",
    "# not using the trimmed source to compute trend\n",
    "source2 = ColumnDataSource(lac_growth_rate.rolling(window='7D').mean().reset_index())\n",
    "\n",
    "p = figure(plot_width=1000, plot_height=400, x_axis_type='datetime', \n",
    "           title=f\"Daily death growth rate (trimmed)\", \n",
    "           title_location='above')\n",
    "\n",
    "p.circle(x='date', \n",
    "         y='new_deaths', \n",
    "         size=5, \n",
    "         color=\"navy\", \n",
    "         source=source, \n",
    "         alpha=0.8, \n",
    "         legend_label='daily death growth rate')\n",
    "\n",
    "p.line(\n",
    "    x='date',\n",
    "    y='new_deaths',\n",
    "    line_width=5,\n",
    "    color=\"navy\",\n",
    "    source=source2,\n",
    "    alpha=0.5,\n",
    "    legend_label=f'7-day rolling avg')\n",
    "\n",
    "ln = Span(location=1, dimension='width', line_color='red', line_dash='dashed', line_width=3)\n",
    "p.add_layout(ln)\n",
    "p.legend.location = 'bottom_right'\n",
    "show(p)"
   ]
  },
  {
   "cell_type": "markdown",
   "metadata": {},
   "source": [
    "## Local growth rates\n",
    "\n",
    "The following represent the growth rates of cases in various areas. To get a sense of whether an area is growing faster or slower than other areas I have overlaid the LA County and North Hollywood growth rates. \n",
    "\n",
    "NB, these plots shouldn't be taken terribly seriously. The number of cases in each area is relatively small. Thus it's easy to get outsized effects (e.g., if 1 case was diagnosed yesterday and 5 were diagnosed today, the growth rate would be 5). Still, taken as a whole they may be somewhat useful."
   ]
  },
  {
   "cell_type": "code",
   "execution_count": 14,
   "metadata": {
    "ExecuteTime": {
     "end_time": "2020-06-11T21:44:41.929199Z",
     "start_time": "2020-06-11T21:44:41.918387Z"
    }
   },
   "outputs": [],
   "source": [
    "def plot_locale_growth(growth_frame, place, noho_growth_rate=None, lac_growth_rate=None, top_limit=5, bottom_limit=0):\n",
    "    \"\"\"\n",
    "    Plots the growth rates for localities as a dot plot \n",
    "    with a 7-day moving average line and a representation of north hollywood's trend \n",
    "    \n",
    "    \"\"\"\n",
    "    # trim the values so the plot will be readable\n",
    "    trm = growth_frame[growth_frame.confirmed_cases >= bottom_limit] # and noho_growth_rate.confirmed_cases <= top_limit]\n",
    "    trm = trm[trm.confirmed_cases <= top_limit]\n",
    "    source = ColumnDataSource(trm.reset_index())\n",
    "    # compute trend on the real data\n",
    "    source2 = ColumnDataSource(growth_frame.rolling(window='7D').mean().reset_index())\n",
    "\n",
    "    p = figure(plot_width=1000, plot_height=400, x_axis_type='datetime', \n",
    "               title=f\"{place} case growth rate (trimmed)\", \n",
    "               title_location='above')\n",
    "    \n",
    "    p.circle(x='date', \n",
    "             y='confirmed_cases', \n",
    "             size=5, \n",
    "             color=\"navy\", \n",
    "             source=source, \n",
    "             alpha=0.8, \n",
    "             legend_label='daily case growth rate')\n",
    "\n",
    "    p.line(\n",
    "        x='date',\n",
    "        y='confirmed_cases',\n",
    "        line_width=5,\n",
    "        color=\"navy\",\n",
    "        source=source2,\n",
    "        alpha=0.5,\n",
    "        legend_label=f'7-day rolling avg ({place})')\n",
    "    \n",
    "    if noho_growth_rate is not None and place != 'North Hollywood':\n",
    "        source3 = ColumnDataSource(noho_growth_rate.rolling(window='7D').mean().reset_index())\n",
    "        p.line(\n",
    "            x='date',\n",
    "            y='confirmed_cases',\n",
    "            line_width=5,\n",
    "            color=\"red\",\n",
    "            source=source3,\n",
    "            alpha=0.2,\n",
    "            legend_label=f'7-day rolling avg (NoHo)')\n",
    "   \n",
    "    if lac_growth_rate is not None:\n",
    "        source4 = ColumnDataSource(lac_growth_rate.rolling(window='7D').mean().reset_index())\n",
    "        p.line(\n",
    "            x='date',\n",
    "            y='new_confirmed_cases',\n",
    "            line_width=5,\n",
    "            color=\"grey\",\n",
    "            source=source4,\n",
    "            alpha=0.2,\n",
    "            legend_label=f'7-day rolling avg (LA County)')\n",
    "\n",
    "    ln = Span(location=1, dimension='width', line_color='red', line_dash='dashed', line_width=3)\n",
    "    p.add_layout(ln)\n",
    "    p.legend.location = 'bottom_left'\n",
    "#     show the results\n",
    "    show(p)"
   ]
  },
  {
   "cell_type": "code",
   "execution_count": 15,
   "metadata": {
    "ExecuteTime": {
     "end_time": "2020-06-11T21:44:43.537687Z",
     "start_time": "2020-06-11T21:44:42.189835Z"
    },
    "scrolled": false
   },
   "outputs": [
    {
     "data": {
      "text/html": [
       "\n",
       "\n",
       "\n",
       "\n",
       "\n",
       "\n",
       "  <div class=\"bk-root\" id=\"d843f73d-8718-4b4e-8ab0-46fe4d42f2cd\" data-root-id=\"7272\"></div>\n"
      ]
     },
     "metadata": {},
     "output_type": "display_data"
    },
    {
     "data": {
      "application/javascript": [
       "(function(root) {\n",
       "  function embed_document(root) {\n",
       "    \n",
       "  var docs_json = {\"5d93a706-474c-45ba-bce7-f5763f9cb3a0\":{\"roots\":{\"references\":[{\"attributes\":{\"below\":[{\"id\":\"7283\"}],\"center\":[{\"id\":\"7286\"},{\"id\":\"7290\"},{\"id\":\"7328\"},{\"id\":\"7385\"}],\"left\":[{\"id\":\"7287\"}],\"plot_height\":400,\"plot_width\":1000,\"renderers\":[{\"id\":\"7308\"},{\"id\":\"7333\"},{\"id\":\"7360\"}],\"title\":{\"id\":\"7273\"},\"toolbar\":{\"id\":\"7298\"},\"x_range\":{\"id\":\"7275\"},\"x_scale\":{\"id\":\"7279\"},\"y_range\":{\"id\":\"7277\"},\"y_scale\":{\"id\":\"7281\"}},\"id\":\"7272\",\"subtype\":\"Figure\",\"type\":\"Plot\"},{\"attributes\":{},\"id\":\"7277\",\"type\":\"DataRange1d\"},{\"attributes\":{},\"id\":\"7275\",\"type\":\"DataRange1d\"},{\"attributes\":{\"months\":[0,6]},\"id\":\"7325\",\"type\":\"MonthsTicker\"},{\"attributes\":{},\"id\":\"7279\",\"type\":\"LinearScale\"},{\"attributes\":{\"days\":[1,8,15,22]},\"id\":\"7320\",\"type\":\"DaysTicker\"},{\"attributes\":{\"months\":[0,4,8]},\"id\":\"7324\",\"type\":\"MonthsTicker\"},{\"attributes\":{},\"id\":\"7281\",\"type\":\"LinearScale\"},{\"attributes\":{\"formatter\":{\"id\":\"7312\"},\"ticker\":{\"id\":\"7284\"}},\"id\":\"7283\",\"type\":\"DatetimeAxis\"},{\"attributes\":{\"base\":24,\"mantissas\":[1,2,4,6,8,12],\"max_interval\":43200000.0,\"min_interval\":3600000.0,\"num_minor_ticks\":0},\"id\":\"7317\",\"type\":\"AdaptiveTicker\"},{\"attributes\":{},\"id\":\"7312\",\"type\":\"DatetimeTickFormatter\"},{\"attributes\":{\"days\":[1,4,7,10,13,16,19,22,25,28]},\"id\":\"7319\",\"type\":\"DaysTicker\"},{\"attributes\":{\"months\":[0,2,4,6,8,10]},\"id\":\"7323\",\"type\":\"MonthsTicker\"},{\"attributes\":{\"data\":{\"date\":{\"__ndarray__\":\"AADAa50Qd0IAAIDR7xB3QgAAQDdCEXdCAAAAnZQRd0IAAMAC5xF3QgAAgGg5EndCAABAzosSd0IAAAA03hJ3QgAAwJkwE3dCAACA/4ITd0IAAEBl1RN3QgAAAMsnFHdCAADAMHoUd0IAAICWzBR3QgAAQPweFXdCAAAAYnEVd0IAAMDHwxV3QgAAgC0WFndCAABAk2gWd0IAAAD5uhZ3QgAAwF4NF3dCAACAxF8Xd0IAAEAqshd3QgAAAJAEGHdCAADA9VYYd0IAAIBbqRh3QgAAQMH7GHdCAAAAJ04Zd0IAAMCMoBl3QgAAgPLyGXdCAABAWEUad0IAAAC+lxp3QgAAwCPqGndCAACAiTwbd0IAAEDvjht3QgAAAFXhG3dCAADAujMcd0IAAIAghhx3QgAAQIbYHHdCAAAA7Codd0IAAMBRfR13QgAAgLfPHXdCAABAHSIed0IAAACDdB53QgAAwOjGHndCAACAThkfd0IAAEC0ax93QgAAABq+H3dCAADAfxAgd0IAAIDlYiB3QgAAQEu1IHdCAAAAsQchd0IAAMAWWiF3QgAAgHysIXdCAABA4v4hd0IAAABIUSJ3QgAAwK2jIndCAACAE/Yid0IAAEB5SCN3QgAAAN+aI3dCAADARO0jd0IAAICqPyR3QgAAQBCSJHdCAAAAduQkd0IAAMDbNiV3QgAAgEGJJXdCAABAp9sld0IAAAANLiZ3QgAAwHKAJndCAACA2NImd0IAAEA+JSd3QgAAAKR3J3dCAADACcond0IAAIBvHCh3QgAAQNVuKHdCAAAAO8Eod0IAAMCgEyl3QgAAgAZmKXdCAABAbLgpd0I=\",\"dtype\":\"float64\",\"shape\":[79]},\"index\":[0,1,2,3,4,5,6,7,8,9,10,11,12,13,14,15,16,17,18,19,20,21,22,23,24,25,26,27,28,29,30,31,32,33,34,35,36,37,38,39,40,41,42,43,44,45,46,47,48,49,50,51,52,53,54,55,56,57,58,59,60,61,62,63,64,65,66,67,68,69,70,71,72,73,74,75,76,77,78],\"new_confirmed_cases\":{\"__ndarray__\":\"AAAAAAAA+H+JRCKRSCTyPwbK1gdLFwBAucuuu3ev+D8gbhgi79j3PwlHz6MUNvY/eNfVzz1p9T9mjjW1v7/1P6b4xblTRPU/boaKDAcx8T+nNYWmAg7yP1+POsvGFvI/j5v9+9LZ8T8ReLgyD/LwPy3sQb+ucvA/w/gcFzLw8D9HBV3S2c7vP6oLCueyQ/A/In/RBW2d7j/OsiM3JNjtP+9xoUGG4e4/a7SsLNhY8T/1ToEv9nHwPzg4BfYI6PA/R+GAS5B68T9Wt93sbRfyP1/TJHzajvE/sgV40IDD+j/qbCRy/wn4P/InrX4sh/g/EY3QRUCQ+D+mT/6x32H3P3VNdZ1lFPY/KdSCjHCE9j9Azu4I3DbwP+tjb3MwHu8/kqtaS0iM8z9ZiwChOaPyP5iCzlE18vM/WkrJvB4C9D9t1H56tBP1P682J4BYsPE/yZzkJL0q9z+181ur4BzyP9lNfFL9fvM/9fK6xUJV8j8I20Sm02bzP4erW+54+vE/k6C0WPop8z+7VMdUrzXwP5iawilLI/I/GXXx3ww+8T/FqioiTVbxP9Ja77kIgvE/Dw1VM/e68T+WqmK9D5DwPwCnOUJ+ePI/tVj6LKwN8j9f65O4FXfyP3Eyqi8tFvI/BesC1r3Z8T9vJrkXbXryPwV39nxRUvM/35mFC4y+8T+97jYp4jnwP6QQtwhN/PA/feXWPcr68j95Sjwqdw/zP3hXpZoacPI/g8GIO/bP8T9nxTuoNz7wP/MNK0RcHPE/vZC5gCWL8T9dLX+2m6fvP/YqrDUN7O4/Op3aTNOb8D+clubVJRbwP3GjV54vw/A/89kozYHg8D8=\",\"dtype\":\"float64\",\"shape\":[79]},\"new_deaths\":{\"__ndarray__\":\"AAAAAAAA+H8AAAAAAAD4P6qqqqqqqgBA4ziO4ziO+T93d3d3d/f3P9ajcD0K1/U/7+7u7u7u9T+eJezmtxD2P6WaPO4sYfU/yuPOEnbz8T9281sIGKXyP7cQMEo1efQ/hgRtGSm28z+F+9wYICbzPxfis2J02PM/L1xVeu558z9h0x1XEO3yP3H1EutsivI/ktiVd3i88D8P6mqyc9/yP/PzTgpPCfI/0uzc6UeX8T+AyreXJXLxP2fZUNOJYPI/wQ9QYPOS8j9Kroo3UsHzPxAWw+GMMvE/Z73yxGIc8T+iZGb/CZDzPxn5BPk2i/Q/6exByCrI8z8OAtpgEabzP5nXjzL+uPE/QUsO9p7+8T9Xqv8L/u/zP9nKB44e+PE/2swZMNE/8T9x2dpqq/zwP5pKUnWgg/E/+ZRs60cS8T8OqOBCcTjxP1ylf55TDfE/Im+gkBRj8T/TGwtMMiTxPzWNKQnWRvE/V5No1oYw8T+ISVfw36rxPz/EAqhaVvE/ktVN7YZr8z/fN+4N8tbxPwYdpHci1fE/xqu8ZBUP8j+hz3I/OcXxP0lTree8//E/2AfX/0u/8j9CNPeRvMftP1cAX39ER/U/tw6Ltt9m9D9Wflgp6xL0P3rH6k00pfM/41TBtsF79D+mb5/QftDzP4EmDaw1PvM/yrgx9cdi8j9ZnUCtaXD1P9eoQVC+A/U/6uDCY/aE9j/HjEstFlb1PybDnqvPnPU/J2K72dLa9j8P3FnBTHn0P/VI+W5RkvE/qbyNmgtW8j+rMKSWAivxP/UykDwj8/I/YS7bw+ip8j/7JF6mTFHxP/5Lzqhzwfc/eWcHQP2y+D8=\",\"dtype\":\"float64\",\"shape\":[79]}},\"selected\":{\"id\":\"7747\"},\"selection_policy\":{\"id\":\"7748\"}},\"id\":\"7356\",\"type\":\"ColumnDataSource\"},{\"attributes\":{},\"id\":\"7294\",\"type\":\"SaveTool\"},{\"attributes\":{\"months\":[0,1,2,3,4,5,6,7,8,9,10,11]},\"id\":\"7322\",\"type\":\"MonthsTicker\"},{\"attributes\":{},\"id\":\"7381\",\"type\":\"Selection\"},{\"attributes\":{},\"id\":\"7326\",\"type\":\"YearsTicker\"},{\"attributes\":{\"data\":{\"confirmed_cases\":{\"__ndarray__\":\"AAAAAAAA8D8AAAAAAAAAQAAAAAAAAAAAAAAAAAAA0D8AAAAAAADwPwAAAAAAABBAAAAAAAAA6D9VVVVVVVUFQAAAAAAAAOA/AAAAAAAA8D8AAAAAAAD0PzMzMzMzM/M/AAAAAAAAAECrqqqqqqrqP2ZmZmZmZv4/eQ3lNZTX0D8AAAAAAADkPwAAAAAAAAAAMzMzMzMz4z9VVVVVVVXVPwAAAAAAAAhAVVVVVVVV/T9ddNFFF13kP9u2bdu2bds/q6qqqqqq+j/NzMzMzMz8PxzHcRzHccw/mpmZmZmZ6T8AAAAAAAD6PwAAAAAAAOA/2Ymd2Imd+D8AAAAAAADoPzMzMzMzM+M/AAAAAAAACEBoL6G9hPbCPwAAAAAAAAAAFl/xFV/x1T+rqqqqqqrqPzMzMzMzM+M/J5tssskm2z9JkiRJkiTxP5qZmZmZmck/VVVVVVVVEUDZiZ3YiZ3YP5qZmZmZmfk/AAAAAAAA+D9VVVVVVVX1PwAAAAAAAOo/AAAAAAAAAAB7FK5H4XrEPwAAAAAAAPg/VVVVVVVV1T8AAAAAAAAAAHkN5TWU19A/zczMzMzMDEBVVVVVVVXlP6uqqqqqqto/FDuxEzux0z8AAAAAAADyP47jOI7jOP4/09LS0tLS8j9mZmZmZmbuPw3lNZTXUN4/juM4juM4/j94eHh4eHjoP7ETO7ETO+E/JUmSJEmS9D9VVVVVVVXlP6uqqqqqqgZAtbS0tLS05D/RRRdddNH1PxEREREREfE/\",\"dtype\":\"float64\",\"shape\":[72]},\"date\":{\"__ndarray__\":\"AAAAbwEPd0IAAMDUUw93QgAAgDqmD3dCAADAa50Qd0IAAIDR7xB3QgAAQDdCEXdCAAAAnZQRd0IAAMAC5xF3QgAAgGg5EndCAABAzosSd0IAAAA03hJ3QgAAwJkwE3dCAACA/4ITd0IAAEBl1RN3QgAAAMsnFHdCAADAMHoUd0IAAABicRV3QgAAwMfDFXdCAABAk2gWd0IAAAD5uhZ3QgAAwF4NF3dCAACAxF8Xd0IAAEAqshd3QgAAAJAEGHdCAADA9VYYd0IAAIBbqRh3QgAAQMH7GHdCAADAjKAZd0IAAIDy8hl3QgAAQFhFGndCAAAAvpcad0IAAMAj6hp3QgAAgIk8G3dCAABA744bd0IAAABV4Rt3QgAAgCCGHHdCAAAA7Codd0IAAMBRfR13QgAAgLfPHXdCAAAAg3Qed0IAAMDoxh53QgAAgE4ZH3dCAABAtGsfd0IAAAAavh93QgAAwH8QIHdCAACA5WIgd0IAAEBLtSB3QgAAALEHIXdCAADAFlohd0IAAEDi/iF3QgAAAEhRIndCAADAraMid0IAAIAT9iJ3QgAAAN+aI3dCAADARO0jd0IAAICqPyR3QgAAQBCSJHdCAADA2zYld0IAAIBBiSV3QgAAQKfbJXdCAAAADS4md0IAAMBygCZ3QgAAgNjSJndCAABAPiUnd0IAAACkdyd3QgAAwAnKJ3dCAACAbxwod0IAAEDVbih3QgAAADvBKHdCAADAoBMpd0IAAIAGZil3QgAAQGy4KXdC\",\"dtype\":\"float64\",\"shape\":[72]},\"index\":[0,1,2,3,4,5,6,7,8,9,10,11,12,13,14,15,16,17,18,19,20,21,22,23,24,25,26,27,28,29,30,31,32,33,34,35,36,37,38,39,40,41,42,43,44,45,46,47,48,49,50,51,52,53,54,55,56,57,58,59,60,61,62,63,64,65,66,67,68,69,70,71]},\"selected\":{\"id\":\"7352\"},\"selection_policy\":{\"id\":\"7353\"}},\"id\":\"7270\",\"type\":\"ColumnDataSource\"},{\"attributes\":{\"line_color\":\"red\",\"line_dash\":[6],\"line_width\":3,\"location\":1},\"id\":\"7385\",\"type\":\"Span\"},{\"attributes\":{},\"id\":\"7292\",\"type\":\"WheelZoomTool\"},{\"attributes\":{},\"id\":\"7288\",\"type\":\"BasicTicker\"},{\"attributes\":{\"data_source\":{\"id\":\"7271\"},\"glyph\":{\"id\":\"7331\"},\"hover_glyph\":null,\"muted_glyph\":null,\"nonselection_glyph\":{\"id\":\"7332\"},\"selection_glyph\":null,\"view\":{\"id\":\"7334\"}},\"id\":\"7333\",\"type\":\"GlyphRenderer\"},{\"attributes\":{\"source\":{\"id\":\"7356\"}},\"id\":\"7361\",\"type\":\"CDSView\"},{\"attributes\":{\"fill_alpha\":{\"value\":0.1},\"fill_color\":{\"value\":\"navy\"},\"line_alpha\":{\"value\":0.1},\"line_color\":{\"value\":\"navy\"},\"size\":{\"units\":\"screen\",\"value\":5},\"x\":{\"field\":\"date\"},\"y\":{\"field\":\"confirmed_cases\"}},\"id\":\"7307\",\"type\":\"Circle\"},{\"attributes\":{\"base\":60,\"mantissas\":[1,2,5,10,15,20,30],\"max_interval\":1800000.0,\"min_interval\":1000.0,\"num_minor_ticks\":0},\"id\":\"7316\",\"type\":\"AdaptiveTicker\"},{\"attributes\":{\"source\":{\"id\":\"7271\"}},\"id\":\"7334\",\"type\":\"CDSView\"},{\"attributes\":{},\"id\":\"7291\",\"type\":\"PanTool\"},{\"attributes\":{\"label\":{\"value\":\"daily case growth rate\"},\"renderers\":[{\"id\":\"7308\"}]},\"id\":\"7329\",\"type\":\"LegendItem\"},{\"attributes\":{},\"id\":\"7747\",\"type\":\"Selection\"},{\"attributes\":{\"data_source\":{\"id\":\"7356\"},\"glyph\":{\"id\":\"7358\"},\"hover_glyph\":null,\"muted_glyph\":null,\"nonselection_glyph\":{\"id\":\"7359\"},\"selection_glyph\":null,\"view\":{\"id\":\"7361\"}},\"id\":\"7360\",\"type\":\"GlyphRenderer\"},{\"attributes\":{\"days\":[1,15]},\"id\":\"7321\",\"type\":\"DaysTicker\"},{\"attributes\":{\"line_alpha\":0.5,\"line_color\":\"navy\",\"line_width\":5,\"x\":{\"field\":\"date\"},\"y\":{\"field\":\"confirmed_cases\"}},\"id\":\"7331\",\"type\":\"Line\"},{\"attributes\":{},\"id\":\"7296\",\"type\":\"HelpTool\"},{\"attributes\":{\"mantissas\":[1,2,5],\"max_interval\":500.0,\"num_minor_ticks\":0},\"id\":\"7315\",\"type\":\"AdaptiveTicker\"},{\"attributes\":{\"line_alpha\":0.1,\"line_color\":\"navy\",\"line_width\":5,\"x\":{\"field\":\"date\"},\"y\":{\"field\":\"confirmed_cases\"}},\"id\":\"7332\",\"type\":\"Line\"},{\"attributes\":{\"fill_alpha\":{\"value\":0.8},\"fill_color\":{\"value\":\"navy\"},\"line_alpha\":{\"value\":0.8},\"line_color\":{\"value\":\"navy\"},\"size\":{\"units\":\"screen\",\"value\":5},\"x\":{\"field\":\"date\"},\"y\":{\"field\":\"confirmed_cases\"}},\"id\":\"7306\",\"type\":\"Circle\"},{\"attributes\":{\"source\":{\"id\":\"7270\"}},\"id\":\"7309\",\"type\":\"CDSView\"},{\"attributes\":{\"active_drag\":\"auto\",\"active_inspect\":\"auto\",\"active_multi\":null,\"active_scroll\":\"auto\",\"active_tap\":\"auto\",\"tools\":[{\"id\":\"7291\"},{\"id\":\"7292\"},{\"id\":\"7293\"},{\"id\":\"7294\"},{\"id\":\"7295\"},{\"id\":\"7296\"}]},\"id\":\"7298\",\"type\":\"Toolbar\"},{\"attributes\":{},\"id\":\"7314\",\"type\":\"BasicTickFormatter\"},{\"attributes\":{\"overlay\":{\"id\":\"7297\"}},\"id\":\"7293\",\"type\":\"BoxZoomTool\"},{\"attributes\":{\"axis\":{\"id\":\"7287\"},\"dimension\":1,\"ticker\":null},\"id\":\"7290\",\"type\":\"Grid\"},{\"attributes\":{\"num_minor_ticks\":5,\"tickers\":[{\"id\":\"7315\"},{\"id\":\"7316\"},{\"id\":\"7317\"},{\"id\":\"7318\"},{\"id\":\"7319\"},{\"id\":\"7320\"},{\"id\":\"7321\"},{\"id\":\"7322\"},{\"id\":\"7323\"},{\"id\":\"7324\"},{\"id\":\"7325\"},{\"id\":\"7326\"}]},\"id\":\"7284\",\"type\":\"DatetimeTicker\"},{\"attributes\":{\"bottom_units\":\"screen\",\"fill_alpha\":0.5,\"fill_color\":\"lightgrey\",\"left_units\":\"screen\",\"level\":\"overlay\",\"line_alpha\":1.0,\"line_color\":\"black\",\"line_dash\":[4,4],\"line_width\":2,\"render_mode\":\"css\",\"right_units\":\"screen\",\"top_units\":\"screen\"},\"id\":\"7297\",\"type\":\"BoxAnnotation\"},{\"attributes\":{\"axis\":{\"id\":\"7283\"},\"ticker\":null},\"id\":\"7286\",\"type\":\"Grid\"},{\"attributes\":{\"line_alpha\":0.1,\"line_color\":\"grey\",\"line_width\":5,\"x\":{\"field\":\"date\"},\"y\":{\"field\":\"new_confirmed_cases\"}},\"id\":\"7359\",\"type\":\"Line\"},{\"attributes\":{\"data_source\":{\"id\":\"7270\"},\"glyph\":{\"id\":\"7306\"},\"hover_glyph\":null,\"muted_glyph\":null,\"nonselection_glyph\":{\"id\":\"7307\"},\"selection_glyph\":null,\"view\":{\"id\":\"7309\"}},\"id\":\"7308\",\"type\":\"GlyphRenderer\"},{\"attributes\":{\"text\":\"North Hollywood case growth rate (trimmed)\"},\"id\":\"7273\",\"type\":\"Title\"},{\"attributes\":{},\"id\":\"7295\",\"type\":\"ResetTool\"},{\"attributes\":{\"line_alpha\":0.2,\"line_color\":\"grey\",\"line_width\":5,\"x\":{\"field\":\"date\"},\"y\":{\"field\":\"new_confirmed_cases\"}},\"id\":\"7358\",\"type\":\"Line\"},{\"attributes\":{},\"id\":\"7353\",\"type\":\"UnionRenderers\"},{\"attributes\":{\"items\":[{\"id\":\"7329\"},{\"id\":\"7355\"},{\"id\":\"7384\"}],\"location\":\"bottom_left\"},\"id\":\"7328\",\"type\":\"Legend\"},{\"attributes\":{\"formatter\":{\"id\":\"7314\"},\"ticker\":{\"id\":\"7288\"}},\"id\":\"7287\",\"type\":\"LinearAxis\"},{\"attributes\":{},\"id\":\"7352\",\"type\":\"Selection\"},{\"attributes\":{},\"id\":\"7382\",\"type\":\"UnionRenderers\"},{\"attributes\":{\"label\":{\"value\":\"7-day rolling avg (North Hollywood)\"},\"renderers\":[{\"id\":\"7333\"}]},\"id\":\"7355\",\"type\":\"LegendItem\"},{\"attributes\":{\"data\":{\"confirmed_cases\":{\"__ndarray__\":\"AAAAAAAA8D8AAAAAAAD4PwAAAAAAAPA/AAAAAAAA6j8zMzMzMzPrPzMzMzMzM/c/MzMzMzMz8z+7u7u7u7v7PxzHcRzHcfg/z/M8z/M89z9hGIZhGIb5P7Ef+7Ef+/k/jdZojdZo9T+ZmZmZmZn1P5D92I/92PM/53QzbWdO8z+fzD0oIP3xP3LMroNzLec/+twSp37P1z/x7u7u7u7YPy35xZJfLO0/tmALtmAL8T++f4emIhPxPwcSrO+0N/I/jZUZeLNs8z9wwdda3yr2P1+9lkrb6fU/sF5Lpe30AkDLCx3AmsYBQMeQVevZ5wJAzb/8y7/8AkB1PddzPdcCQEEKpEAKpAFAKpESKZESAkBTIiVSIiX0P30K/SW1p/I/Dy9GuNnw+j/GnCFvR8z5P+QDd/7K6Pg/2U0W8xSI+T9z56+MriHzPzubszmbswBA7LwrMNSI9D+jKgfnQWT3P9srexbSgfQ/8AZRvdGg/T+HdkpUQZr8Pxmbk+Zl4/4/0AhvndO+9T+bWPdQxtL3P7ZDO7RDO/c/ZjzGYzzG9j+EkKGyw9TsP/sHGSo7TOw/bCTgm1cT5j9LZYepy+3dP6XiaQkS4tw/+KZ0DBA87z+Bzy1x6vfwP5CClHC4KOw/7ZBE3asO+z8Pnhb+uOD7P3qHXP55d/o/78Iu7MIu/j+JpqSGpqT4P+ZwSuNwSvk/+7Kh681r+T/jORDUVNrxP/WkG+W/5fI/gW/EcYqO8T8px/X0mC3wP4/wlieUBu4/KH0Z9E5R8z8HC0ngwbbzP6I9RNlog/I/U+70iRk08z8=\",\"dtype\":\"float64\",\"shape\":[76]},\"date\":{\"__ndarray__\":\"AAAAbwEPd0IAAMDUUw93QgAAgDqmD3dCAADAa50Qd0IAAIDR7xB3QgAAQDdCEXdCAAAAnZQRd0IAAMAC5xF3QgAAgGg5EndCAABAzosSd0IAAAA03hJ3QgAAwJkwE3dCAACA/4ITd0IAAEBl1RN3QgAAAMsnFHdCAADAMHoUd0IAAABicRV3QgAAwMfDFXdCAABAk2gWd0IAAAD5uhZ3QgAAwF4NF3dCAACAxF8Xd0IAAEAqshd3QgAAAJAEGHdCAADA9VYYd0IAAIBbqRh3QgAAQMH7GHdCAAAAJ04Zd0IAAMCMoBl3QgAAgPLyGXdCAABAWEUad0IAAAC+lxp3QgAAwCPqGndCAACAiTwbd0IAAEDvjht3QgAAAFXhG3dCAADAujMcd0IAAIAghhx3QgAAAOwqHXdCAADAUX0dd0IAAIC3zx13QgAAQB0iHndCAAAAg3Qed0IAAMDoxh53QgAAgE4ZH3dCAABAtGsfd0IAAAAavh93QgAAwH8QIHdCAACA5WIgd0IAAEBLtSB3QgAAALEHIXdCAADAFlohd0IAAEDi/iF3QgAAAEhRIndCAADAraMid0IAAIAT9iJ3QgAAAN+aI3dCAADARO0jd0IAAICqPyR3QgAAQBCSJHdCAAAAduQkd0IAAMDbNiV3QgAAgEGJJXdCAABAp9sld0IAAAANLiZ3QgAAwHKAJndCAACA2NImd0IAAEA+JSd3QgAAAKR3J3dCAADACcond0IAAIBvHCh3QgAAQNVuKHdCAAAAO8Eod0IAAMCgEyl3QgAAgAZmKXdCAABAbLgpd0I=\",\"dtype\":\"float64\",\"shape\":[76]},\"index\":[0,1,2,3,4,5,6,7,8,9,10,11,12,13,14,15,16,17,18,19,20,21,22,23,24,25,26,27,28,29,30,31,32,33,34,35,36,37,38,39,40,41,42,43,44,45,46,47,48,49,50,51,52,53,54,55,56,57,58,59,60,61,62,63,64,65,66,67,68,69,70,71,72,73,74,75]},\"selected\":{\"id\":\"7381\"},\"selection_policy\":{\"id\":\"7382\"}},\"id\":\"7271\",\"type\":\"ColumnDataSource\"},{\"attributes\":{\"days\":[1,2,3,4,5,6,7,8,9,10,11,12,13,14,15,16,17,18,19,20,21,22,23,24,25,26,27,28,29,30,31]},\"id\":\"7318\",\"type\":\"DaysTicker\"},{\"attributes\":{},\"id\":\"7748\",\"type\":\"UnionRenderers\"},{\"attributes\":{\"label\":{\"value\":\"7-day rolling avg (LA County)\"},\"renderers\":[{\"id\":\"7360\"}]},\"id\":\"7384\",\"type\":\"LegendItem\"}],\"root_ids\":[\"7272\"]},\"title\":\"Bokeh Application\",\"version\":\"2.0.2\"}};\n",
       "  var render_items = [{\"docid\":\"5d93a706-474c-45ba-bce7-f5763f9cb3a0\",\"root_ids\":[\"7272\"],\"roots\":{\"7272\":\"d843f73d-8718-4b4e-8ab0-46fe4d42f2cd\"}}];\n",
       "  root.Bokeh.embed.embed_items_notebook(docs_json, render_items);\n",
       "\n",
       "  }\n",
       "  if (root.Bokeh !== undefined) {\n",
       "    embed_document(root);\n",
       "  } else {\n",
       "    var attempts = 0;\n",
       "    var timer = setInterval(function(root) {\n",
       "      if (root.Bokeh !== undefined) {\n",
       "        clearInterval(timer);\n",
       "        embed_document(root);\n",
       "      } else {\n",
       "        attempts++;\n",
       "        if (attempts > 100) {\n",
       "          clearInterval(timer);\n",
       "          console.log(\"Bokeh: ERROR: Unable to run BokehJS code because BokehJS library is missing\");\n",
       "        }\n",
       "      }\n",
       "    }, 10, root)\n",
       "  }\n",
       "})(window);"
      ],
      "application/vnd.bokehjs_exec.v0+json": ""
     },
     "metadata": {
      "application/vnd.bokehjs_exec.v0+json": {
       "id": "7272"
      }
     },
     "output_type": "display_data"
    },
    {
     "data": {
      "text/html": [
       "\n",
       "\n",
       "\n",
       "\n",
       "\n",
       "\n",
       "  <div class=\"bk-root\" id=\"9fdf6b58-fb8c-4271-83de-5bc1b09e2751\" data-root-id=\"7896\"></div>\n"
      ]
     },
     "metadata": {},
     "output_type": "display_data"
    },
    {
     "data": {
      "application/javascript": [
       "(function(root) {\n",
       "  function embed_document(root) {\n",
       "    \n",
       "  var docs_json = {\"0f591c02-2e9a-4e68-b03f-c4dfc5c2db64\":{\"roots\":{\"references\":[{\"attributes\":{\"below\":[{\"id\":\"7907\"}],\"center\":[{\"id\":\"7910\"},{\"id\":\"7914\"},{\"id\":\"7952\"},{\"id\":\"8040\"}],\"left\":[{\"id\":\"7911\"}],\"plot_height\":400,\"plot_width\":1000,\"renderers\":[{\"id\":\"7932\"},{\"id\":\"7957\"},{\"id\":\"7984\"},{\"id\":\"8013\"}],\"title\":{\"id\":\"7897\"},\"toolbar\":{\"id\":\"7922\"},\"x_range\":{\"id\":\"7899\"},\"x_scale\":{\"id\":\"7903\"},\"y_range\":{\"id\":\"7901\"},\"y_scale\":{\"id\":\"7905\"}},\"id\":\"7896\",\"subtype\":\"Figure\",\"type\":\"Plot\"},{\"attributes\":{},\"id\":\"7936\",\"type\":\"DatetimeTickFormatter\"},{\"attributes\":{},\"id\":\"7912\",\"type\":\"BasicTicker\"},{\"attributes\":{},\"id\":\"8428\",\"type\":\"Selection\"},{\"attributes\":{},\"id\":\"7905\",\"type\":\"LinearScale\"},{\"attributes\":{},\"id\":\"7938\",\"type\":\"BasicTickFormatter\"},{\"attributes\":{},\"id\":\"7915\",\"type\":\"PanTool\"},{\"attributes\":{\"source\":{\"id\":\"7895\"}},\"id\":\"7958\",\"type\":\"CDSView\"},{\"attributes\":{\"data\":{\"date\":{\"__ndarray__\":\"AADAa50Qd0IAAIDR7xB3QgAAQDdCEXdCAAAAnZQRd0IAAMAC5xF3QgAAgGg5EndCAABAzosSd0IAAAA03hJ3QgAAwJkwE3dCAACA/4ITd0IAAEBl1RN3QgAAAMsnFHdCAADAMHoUd0IAAICWzBR3QgAAQPweFXdCAAAAYnEVd0IAAMDHwxV3QgAAgC0WFndCAABAk2gWd0IAAAD5uhZ3QgAAwF4NF3dCAACAxF8Xd0IAAEAqshd3QgAAAJAEGHdCAADA9VYYd0IAAIBbqRh3QgAAQMH7GHdCAAAAJ04Zd0IAAMCMoBl3QgAAgPLyGXdCAABAWEUad0IAAAC+lxp3QgAAwCPqGndCAACAiTwbd0IAAEDvjht3QgAAAFXhG3dCAADAujMcd0IAAIAghhx3QgAAQIbYHHdCAAAA7Codd0IAAMBRfR13QgAAgLfPHXdCAABAHSIed0IAAACDdB53QgAAwOjGHndCAACAThkfd0IAAEC0ax93QgAAABq+H3dCAADAfxAgd0IAAIDlYiB3QgAAQEu1IHdCAAAAsQchd0IAAMAWWiF3QgAAgHysIXdCAABA4v4hd0IAAABIUSJ3QgAAwK2jIndCAACAE/Yid0IAAEB5SCN3QgAAAN+aI3dCAADARO0jd0IAAICqPyR3QgAAQBCSJHdCAAAAduQkd0IAAMDbNiV3QgAAgEGJJXdCAABAp9sld0IAAAANLiZ3QgAAwHKAJndCAACA2NImd0IAAEA+JSd3QgAAAKR3J3dCAADACcond0IAAIBvHCh3QgAAQNVuKHdCAAAAO8Eod0IAAMCgEyl3QgAAgAZmKXdCAABAbLgpd0I=\",\"dtype\":\"float64\",\"shape\":[79]},\"index\":[0,1,2,3,4,5,6,7,8,9,10,11,12,13,14,15,16,17,18,19,20,21,22,23,24,25,26,27,28,29,30,31,32,33,34,35,36,37,38,39,40,41,42,43,44,45,46,47,48,49,50,51,52,53,54,55,56,57,58,59,60,61,62,63,64,65,66,67,68,69,70,71,72,73,74,75,76,77,78],\"new_confirmed_cases\":{\"__ndarray__\":\"AAAAAAAA+H+JRCKRSCTyPwbK1gdLFwBAucuuu3ev+D8gbhgi79j3PwlHz6MUNvY/eNfVzz1p9T9mjjW1v7/1P6b4xblTRPU/boaKDAcx8T+nNYWmAg7yP1+POsvGFvI/j5v9+9LZ8T8ReLgyD/LwPy3sQb+ucvA/w/gcFzLw8D9HBV3S2c7vP6oLCueyQ/A/In/RBW2d7j/OsiM3JNjtP+9xoUGG4e4/a7SsLNhY8T/1ToEv9nHwPzg4BfYI6PA/R+GAS5B68T9Wt93sbRfyP1/TJHzajvE/sgV40IDD+j/qbCRy/wn4P/InrX4sh/g/EY3QRUCQ+D+mT/6x32H3P3VNdZ1lFPY/KdSCjHCE9j9Azu4I3DbwP+tjb3MwHu8/kqtaS0iM8z9ZiwChOaPyP5iCzlE18vM/WkrJvB4C9D9t1H56tBP1P682J4BYsPE/yZzkJL0q9z+181ur4BzyP9lNfFL9fvM/9fK6xUJV8j8I20Sm02bzP4erW+54+vE/k6C0WPop8z+7VMdUrzXwP5iawilLI/I/GXXx3ww+8T/FqioiTVbxP9Ja77kIgvE/Dw1VM/e68T+WqmK9D5DwPwCnOUJ+ePI/tVj6LKwN8j9f65O4FXfyP3Eyqi8tFvI/BesC1r3Z8T9vJrkXbXryPwV39nxRUvM/35mFC4y+8T+97jYp4jnwP6QQtwhN/PA/feXWPcr68j95Sjwqdw/zP3hXpZoacPI/g8GIO/bP8T9nxTuoNz7wP/MNK0RcHPE/vZC5gCWL8T9dLX+2m6fvP/YqrDUN7O4/Op3aTNOb8D+clubVJRbwP3GjV54vw/A/89kozYHg8D8=\",\"dtype\":\"float64\",\"shape\":[79]},\"new_deaths\":{\"__ndarray__\":\"AAAAAAAA+H8AAAAAAAD4P6qqqqqqqgBA4ziO4ziO+T93d3d3d/f3P9ajcD0K1/U/7+7u7u7u9T+eJezmtxD2P6WaPO4sYfU/yuPOEnbz8T9281sIGKXyP7cQMEo1efQ/hgRtGSm28z+F+9wYICbzPxfis2J02PM/L1xVeu558z9h0x1XEO3yP3H1EutsivI/ktiVd3i88D8P6mqyc9/yP/PzTgpPCfI/0uzc6UeX8T+AyreXJXLxP2fZUNOJYPI/wQ9QYPOS8j9Kroo3UsHzPxAWw+GMMvE/Z73yxGIc8T+iZGb/CZDzPxn5BPk2i/Q/6exByCrI8z8OAtpgEabzP5nXjzL+uPE/QUsO9p7+8T9Xqv8L/u/zP9nKB44e+PE/2swZMNE/8T9x2dpqq/zwP5pKUnWgg/E/+ZRs60cS8T8OqOBCcTjxP1ylf55TDfE/Im+gkBRj8T/TGwtMMiTxPzWNKQnWRvE/V5No1oYw8T+ISVfw36rxPz/EAqhaVvE/ktVN7YZr8z/fN+4N8tbxPwYdpHci1fE/xqu8ZBUP8j+hz3I/OcXxP0lTree8//E/2AfX/0u/8j9CNPeRvMftP1cAX39ER/U/tw6Ltt9m9D9Wflgp6xL0P3rH6k00pfM/41TBtsF79D+mb5/QftDzP4EmDaw1PvM/yrgx9cdi8j9ZnUCtaXD1P9eoQVC+A/U/6uDCY/aE9j/HjEstFlb1PybDnqvPnPU/J2K72dLa9j8P3FnBTHn0P/VI+W5RkvE/qbyNmgtW8j+rMKSWAivxP/UykDwj8/I/YS7bw+ip8j/7JF6mTFHxP/5Lzqhzwfc/eWcHQP2y+D8=\",\"dtype\":\"float64\",\"shape\":[79]}},\"selected\":{\"id\":\"8428\"},\"selection_policy\":{\"id\":\"8429\"}},\"id\":\"8009\",\"type\":\"ColumnDataSource\"},{\"attributes\":{},\"id\":\"8037\",\"type\":\"UnionRenderers\"},{\"attributes\":{},\"id\":\"7976\",\"type\":\"Selection\"},{\"attributes\":{\"label\":{\"value\":\"7-day rolling avg (LA County)\"},\"renderers\":[{\"id\":\"8013\"}]},\"id\":\"8039\",\"type\":\"LegendItem\"},{\"attributes\":{\"mantissas\":[1,2,5],\"max_interval\":500.0,\"num_minor_ticks\":0},\"id\":\"7939\",\"type\":\"AdaptiveTicker\"},{\"attributes\":{\"label\":{\"value\":\"7-day rolling avg (Burbank)\"},\"renderers\":[{\"id\":\"7957\"}]},\"id\":\"7979\",\"type\":\"LegendItem\"},{\"attributes\":{\"fill_alpha\":{\"value\":0.1},\"fill_color\":{\"value\":\"navy\"},\"line_alpha\":{\"value\":0.1},\"line_color\":{\"value\":\"navy\"},\"size\":{\"units\":\"screen\",\"value\":5},\"x\":{\"field\":\"date\"},\"y\":{\"field\":\"confirmed_cases\"}},\"id\":\"7931\",\"type\":\"Circle\"},{\"attributes\":{},\"id\":\"7977\",\"type\":\"UnionRenderers\"},{\"attributes\":{\"line_color\":\"red\",\"line_dash\":[6],\"line_width\":3,\"location\":1},\"id\":\"8040\",\"type\":\"Span\"},{\"attributes\":{\"base\":60,\"mantissas\":[1,2,5,10,15,20,30],\"max_interval\":1800000.0,\"min_interval\":1000.0,\"num_minor_ticks\":0},\"id\":\"7940\",\"type\":\"AdaptiveTicker\"},{\"attributes\":{\"fill_alpha\":{\"value\":0.8},\"fill_color\":{\"value\":\"navy\"},\"line_alpha\":{\"value\":0.8},\"line_color\":{\"value\":\"navy\"},\"size\":{\"units\":\"screen\",\"value\":5},\"x\":{\"field\":\"date\"},\"y\":{\"field\":\"confirmed_cases\"}},\"id\":\"7930\",\"type\":\"Circle\"},{\"attributes\":{\"axis\":{\"id\":\"7911\"},\"dimension\":1,\"ticker\":null},\"id\":\"7914\",\"type\":\"Grid\"},{\"attributes\":{\"days\":[1,2,3,4,5,6,7,8,9,10,11,12,13,14,15,16,17,18,19,20,21,22,23,24,25,26,27,28,29,30,31]},\"id\":\"7942\",\"type\":\"DaysTicker\"},{\"attributes\":{\"data_source\":{\"id\":\"7980\"},\"glyph\":{\"id\":\"7982\"},\"hover_glyph\":null,\"muted_glyph\":null,\"nonselection_glyph\":{\"id\":\"7983\"},\"selection_glyph\":null,\"view\":{\"id\":\"7985\"}},\"id\":\"7984\",\"type\":\"GlyphRenderer\"},{\"attributes\":{\"base\":24,\"mantissas\":[1,2,4,6,8,12],\"max_interval\":43200000.0,\"min_interval\":3600000.0,\"num_minor_ticks\":0},\"id\":\"7941\",\"type\":\"AdaptiveTicker\"},{\"attributes\":{},\"id\":\"8429\",\"type\":\"UnionRenderers\"},{\"attributes\":{},\"id\":\"7916\",\"type\":\"WheelZoomTool\"},{\"attributes\":{},\"id\":\"7901\",\"type\":\"DataRange1d\"},{\"attributes\":{\"days\":[1,4,7,10,13,16,19,22,25,28]},\"id\":\"7943\",\"type\":\"DaysTicker\"},{\"attributes\":{\"line_alpha\":0.1,\"line_color\":\"red\",\"line_width\":5,\"x\":{\"field\":\"date\"},\"y\":{\"field\":\"confirmed_cases\"}},\"id\":\"7983\",\"type\":\"Line\"},{\"attributes\":{},\"id\":\"7918\",\"type\":\"SaveTool\"},{\"attributes\":{},\"id\":\"7903\",\"type\":\"LinearScale\"},{\"attributes\":{},\"id\":\"8005\",\"type\":\"Selection\"},{\"attributes\":{\"days\":[1,8,15,22]},\"id\":\"7944\",\"type\":\"DaysTicker\"},{\"attributes\":{\"data\":{\"confirmed_cases\":{\"__ndarray__\":\"AAAAAAAA8D8AAAAAAAD4PwAAAAAAAPA/AAAAAAAA6j8zMzMzMzPrPzMzMzMzM/c/MzMzMzMz8z+7u7u7u7v7PxzHcRzHcfg/z/M8z/M89z9hGIZhGIb5P7Ef+7Ef+/k/jdZojdZo9T+ZmZmZmZn1P5D92I/92PM/53QzbWdO8z+fzD0oIP3xP3LMroNzLec/+twSp37P1z/x7u7u7u7YPy35xZJfLO0/tmALtmAL8T++f4emIhPxPwcSrO+0N/I/jZUZeLNs8z9wwdda3yr2P1+9lkrb6fU/sF5Lpe30AkDLCx3AmsYBQMeQVevZ5wJAzb/8y7/8AkB1PddzPdcCQEEKpEAKpAFAKpESKZESAkBTIiVSIiX0P30K/SW1p/I/Dy9GuNnw+j/GnCFvR8z5P+QDd/7K6Pg/2U0W8xSI+T9z56+MriHzPzubszmbswBA7LwrMNSI9D+jKgfnQWT3P9srexbSgfQ/8AZRvdGg/T+HdkpUQZr8Pxmbk+Zl4/4/0AhvndO+9T+bWPdQxtL3P7ZDO7RDO/c/ZjzGYzzG9j+EkKGyw9TsP/sHGSo7TOw/bCTgm1cT5j9LZYepy+3dP6XiaQkS4tw/+KZ0DBA87z+Bzy1x6vfwP5CClHC4KOw/7ZBE3asO+z8Pnhb+uOD7P3qHXP55d/o/78Iu7MIu/j+JpqSGpqT4P+ZwSuNwSvk/+7Kh681r+T/jORDUVNrxP/WkG+W/5fI/gW/EcYqO8T8px/X0mC3wP4/wlieUBu4/KH0Z9E5R8z8HC0ngwbbzP6I9RNlog/I/U+70iRk08z8=\",\"dtype\":\"float64\",\"shape\":[76]},\"date\":{\"__ndarray__\":\"AAAAbwEPd0IAAMDUUw93QgAAgDqmD3dCAADAa50Qd0IAAIDR7xB3QgAAQDdCEXdCAAAAnZQRd0IAAMAC5xF3QgAAgGg5EndCAABAzosSd0IAAAA03hJ3QgAAwJkwE3dCAACA/4ITd0IAAEBl1RN3QgAAAMsnFHdCAADAMHoUd0IAAABicRV3QgAAwMfDFXdCAABAk2gWd0IAAAD5uhZ3QgAAwF4NF3dCAACAxF8Xd0IAAEAqshd3QgAAAJAEGHdCAADA9VYYd0IAAIBbqRh3QgAAQMH7GHdCAAAAJ04Zd0IAAMCMoBl3QgAAgPLyGXdCAABAWEUad0IAAAC+lxp3QgAAwCPqGndCAACAiTwbd0IAAEDvjht3QgAAAFXhG3dCAADAujMcd0IAAIAghhx3QgAAAOwqHXdCAADAUX0dd0IAAIC3zx13QgAAQB0iHndCAAAAg3Qed0IAAMDoxh53QgAAgE4ZH3dCAABAtGsfd0IAAAAavh93QgAAwH8QIHdCAACA5WIgd0IAAEBLtSB3QgAAALEHIXdCAADAFlohd0IAAEDi/iF3QgAAAEhRIndCAADAraMid0IAAIAT9iJ3QgAAAN+aI3dCAADARO0jd0IAAICqPyR3QgAAQBCSJHdCAAAAduQkd0IAAMDbNiV3QgAAgEGJJXdCAABAp9sld0IAAAANLiZ3QgAAwHKAJndCAACA2NImd0IAAEA+JSd3QgAAAKR3J3dCAADACcond0IAAIBvHCh3QgAAQNVuKHdCAAAAO8Eod0IAAMCgEyl3QgAAgAZmKXdCAABAbLgpd0I=\",\"dtype\":\"float64\",\"shape\":[76]},\"index\":[0,1,2,3,4,5,6,7,8,9,10,11,12,13,14,15,16,17,18,19,20,21,22,23,24,25,26,27,28,29,30,31,32,33,34,35,36,37,38,39,40,41,42,43,44,45,46,47,48,49,50,51,52,53,54,55,56,57,58,59,60,61,62,63,64,65,66,67,68,69,70,71,72,73,74,75]},\"selected\":{\"id\":\"8036\"},\"selection_policy\":{\"id\":\"8037\"}},\"id\":\"7980\",\"type\":\"ColumnDataSource\"},{\"attributes\":{\"overlay\":{\"id\":\"7921\"}},\"id\":\"7917\",\"type\":\"BoxZoomTool\"},{\"attributes\":{\"data_source\":{\"id\":\"7895\"},\"glyph\":{\"id\":\"7955\"},\"hover_glyph\":null,\"muted_glyph\":null,\"nonselection_glyph\":{\"id\":\"7956\"},\"selection_glyph\":null,\"view\":{\"id\":\"7958\"}},\"id\":\"7957\",\"type\":\"GlyphRenderer\"},{\"attributes\":{\"formatter\":{\"id\":\"7938\"},\"ticker\":{\"id\":\"7912\"}},\"id\":\"7911\",\"type\":\"LinearAxis\"},{\"attributes\":{\"line_alpha\":0.2,\"line_color\":\"red\",\"line_width\":5,\"x\":{\"field\":\"date\"},\"y\":{\"field\":\"confirmed_cases\"}},\"id\":\"7982\",\"type\":\"Line\"},{\"attributes\":{\"source\":{\"id\":\"7980\"}},\"id\":\"7985\",\"type\":\"CDSView\"},{\"attributes\":{},\"id\":\"7920\",\"type\":\"HelpTool\"},{\"attributes\":{},\"id\":\"7919\",\"type\":\"ResetTool\"},{\"attributes\":{},\"id\":\"8006\",\"type\":\"UnionRenderers\"},{\"attributes\":{\"label\":{\"value\":\"7-day rolling avg (NoHo)\"},\"renderers\":[{\"id\":\"7984\"}]},\"id\":\"8008\",\"type\":\"LegendItem\"},{\"attributes\":{\"axis\":{\"id\":\"7907\"},\"ticker\":null},\"id\":\"7910\",\"type\":\"Grid\"},{\"attributes\":{\"items\":[{\"id\":\"7953\"},{\"id\":\"7979\"},{\"id\":\"8008\"},{\"id\":\"8039\"}],\"location\":\"bottom_left\"},\"id\":\"7952\",\"type\":\"Legend\"},{\"attributes\":{\"line_alpha\":0.5,\"line_color\":\"navy\",\"line_width\":5,\"x\":{\"field\":\"date\"},\"y\":{\"field\":\"confirmed_cases\"}},\"id\":\"7955\",\"type\":\"Line\"},{\"attributes\":{\"days\":[1,15]},\"id\":\"7945\",\"type\":\"DaysTicker\"},{\"attributes\":{\"active_drag\":\"auto\",\"active_inspect\":\"auto\",\"active_multi\":null,\"active_scroll\":\"auto\",\"active_tap\":\"auto\",\"tools\":[{\"id\":\"7915\"},{\"id\":\"7916\"},{\"id\":\"7917\"},{\"id\":\"7918\"},{\"id\":\"7919\"},{\"id\":\"7920\"}]},\"id\":\"7922\",\"type\":\"Toolbar\"},{\"attributes\":{\"formatter\":{\"id\":\"7936\"},\"ticker\":{\"id\":\"7908\"}},\"id\":\"7907\",\"type\":\"DatetimeAxis\"},{\"attributes\":{\"months\":[0,1,2,3,4,5,6,7,8,9,10,11]},\"id\":\"7946\",\"type\":\"MonthsTicker\"},{\"attributes\":{\"source\":{\"id\":\"8009\"}},\"id\":\"8014\",\"type\":\"CDSView\"},{\"attributes\":{\"line_alpha\":0.1,\"line_color\":\"grey\",\"line_width\":5,\"x\":{\"field\":\"date\"},\"y\":{\"field\":\"new_confirmed_cases\"}},\"id\":\"8012\",\"type\":\"Line\"},{\"attributes\":{\"bottom_units\":\"screen\",\"fill_alpha\":0.5,\"fill_color\":\"lightgrey\",\"left_units\":\"screen\",\"level\":\"overlay\",\"line_alpha\":1.0,\"line_color\":\"black\",\"line_dash\":[4,4],\"line_width\":2,\"render_mode\":\"css\",\"right_units\":\"screen\",\"top_units\":\"screen\"},\"id\":\"7921\",\"type\":\"BoxAnnotation\"},{\"attributes\":{},\"id\":\"7899\",\"type\":\"DataRange1d\"},{\"attributes\":{\"months\":[0,4,8]},\"id\":\"7948\",\"type\":\"MonthsTicker\"},{\"attributes\":{\"line_alpha\":0.1,\"line_color\":\"navy\",\"line_width\":5,\"x\":{\"field\":\"date\"},\"y\":{\"field\":\"confirmed_cases\"}},\"id\":\"7956\",\"type\":\"Line\"},{\"attributes\":{\"data\":{\"confirmed_cases\":{\"__ndarray__\":\"AAAAAAAAAAAAAAAAAAAIQFVVVVVVVdU/mpmZmZmZyT8AAAAAAADwPwAAAAAAAAhAAAAAAAAAAEBVVVVVVVXFPwAAAAAAABJA5DiO4ziO8z8vuuiiiy7qPzmO4ziO4+g/kiRJkiRJ0j8AAAAAAAAAQAAAAAAAAAAAFDuxEzux0z8AAAAAAADgPwAAAAAAAOA/AAAAAAAAFECamZmZmZnpPwAAAAAAAPQ/mpmZmZmZ6T8AAAAAAAAKQAAAAAAAAAAAt23btm3b9j9mZmZmZmb+Pw3lNZTXUO4/q6qqqqqq6j9VVVVVVVXVP5qZmZmZmQFAdNFFF1100T9VVVVVVVX1PwAAAAAAAABAAAAAAAAAAABJkiRJkiT5P0YXXXTRRdc/AAAAAAAA8D8AAAAAAAAEQM3MzMzMzPQ/2Ymd2Imd2D8zMzMzMzPjP1VVVVVVVQVAAAAAAAAA4D8AAAAAAADQP5qZmZmZmdk/AAAAAAAABkAAAAAAAAAAAJ7YiZ3Yic0/q6qqqqqq+j8zMzMzMzPzPwAAAAAAAAAAt23btm3b5j+amZmZmZnZPwAAAAAAAOA/chzHcRzH8T8zMzMzMzPTP1VVVVVVVdU/AAAAAAAA8D8AAAAAAAAQQAAAAAAAAOg/VVVVVVVV5T8AAAAAAADgPwAAAAAAAAAAAAAAAAAAAAAcx3Ecx3G8PwAAAAAAABRAmpmZmZmZ2T8=\",\"dtype\":\"float64\",\"shape\":[67]},\"date\":{\"__ndarray__\":\"AAAABksQd0IAAEA3QhF3QgAAAJ2UEXdCAACAaDkSd0IAAEDOixJ3QgAAADTeEndCAADAmTATd0IAAID/ghN3QgAAQGXVE3dCAAAAyycUd0IAAMAwehR3QgAAgJbMFHdCAABA/B4Vd0IAAABicRV3QgAAwMfDFXdCAABAk2gWd0IAAAD5uhZ3QgAAwF4NF3dCAACAxF8Xd0IAAEAqshd3QgAAAJAEGHdCAADA9VYYd0IAAIBbqRh3QgAAQMH7GHdCAADAjKAZd0IAAIDy8hl3QgAAQFhFGndCAAAAvpcad0IAAMAj6hp3QgAAgIk8G3dCAABA744bd0IAAABV4Rt3QgAAwLozHHdCAACAIIYcd0IAAADsKh13QgAAwFF9HXdCAACAt88dd0IAAEAdIh53QgAAAIN0HndCAADA6MYed0IAAIBOGR93QgAAQLRrH3dCAAAAGr4fd0IAAMB/ECB3QgAAQEu1IHdCAAAAsQchd0IAAMAWWiF3QgAAQOL+IXdCAAAASFEid0IAAMCtoyJ3QgAAgBP2IndCAAAA35ojd0IAAMBE7SN3QgAAgKo/JHdCAAAAduQkd0IAAMDbNiV3QgAAgEGJJXdCAABAp9sld0IAAAANLiZ3QgAAwHKAJndCAACA2NImd0IAAEA+JSd3QgAAAKR3J3dCAACAbxwod0IAAMCgEyl3QgAAgAZmKXdCAABAbLgpd0I=\",\"dtype\":\"float64\",\"shape\":[67]},\"index\":[0,1,2,3,4,5,6,7,8,9,10,11,12,13,14,15,16,17,18,19,20,21,22,23,24,25,26,27,28,29,30,31,32,33,34,35,36,37,38,39,40,41,42,43,44,45,46,47,48,49,50,51,52,53,54,55,56,57,58,59,60,61,62,63,64,65,66]},\"selected\":{\"id\":\"7976\"},\"selection_policy\":{\"id\":\"7977\"}},\"id\":\"7894\",\"type\":\"ColumnDataSource\"},{\"attributes\":{\"line_alpha\":0.2,\"line_color\":\"grey\",\"line_width\":5,\"x\":{\"field\":\"date\"},\"y\":{\"field\":\"new_confirmed_cases\"}},\"id\":\"8011\",\"type\":\"Line\"},{\"attributes\":{\"months\":[0,2,4,6,8,10]},\"id\":\"7947\",\"type\":\"MonthsTicker\"},{\"attributes\":{\"data\":{\"confirmed_cases\":{\"__ndarray__\":\"AAAAAAAAAAAAAAAAAAD4P3Icx3Ecx/E/q6qqqqqqCkCnDXTaQKcFQEGnDXTaQAdAC7ZgC7ZgB0Au5VIu5VIGQF/xFV/xFQNAkP3Yj/3YB0AbuqEbuqH7P88t9J9zC/0/ryVyf2uJ/D8iMNDNLFX2PyIw0M0sVfY/Cqputabz9T8NlCGd4VfmP1vK+gF1peQ/pzIqozIq4z94Yid2Yif2P0Uv9EIv9PI/m4RJmIRJ9j/rju7oju70P4Y6qIM6qPs/PaiDOqiD+j87gRM4gRP0PylwAidwAvc/QENcc9cz9j+sBHPfmEr2P3TQV9v4Bu0/GMaJS1ph9D9rugHdmRfyP12S7oXf3/E/BRYpLmMa8j++5iVHFeDvP98Xla5drPM/8TV2wHuN7T/p3EL/ObfwP7FOX8ar0/M/03CB6M318T88AYhRXvzyP5I7+KQdpfE/MohUjvwl9D9ex3Vcx3X0P/Drvu7rvvI/Hb/xG7/xAUCnbuqmbuoAQOh5nud5ngNA7+7u7u7uAkDKoizKoiwCQAMxEAMxEARAjuqojuqo8D/5si/7si/vPx1TmOsfZeg/ZWd2Zmd25j9f/uVf/uXnPxM4gRM4gf8/SDTvnYlE/z+LAF41qwgAQENWrWefP/w/bs7mbM7m/D8LqZAKqZACQJ7N2ZzN2QJAeGqndmqn8j8f1EEd1EHxPyZJkiRJkvA/6DiO4ziO7z9GREREREQAQBpswRZswf4/QOmTPumTBkDkWdFIwDcHQA==\",\"dtype\":\"float64\",\"shape\":[71]},\"date\":{\"__ndarray__\":\"AAAABksQd0IAAEA3QhF3QgAAAJ2UEXdCAADAAucRd0IAAIBoORJ3QgAAQM6LEndCAAAANN4Sd0IAAMCZMBN3QgAAgP+CE3dCAABAZdUTd0IAAADLJxR3QgAAwDB6FHdCAACAlswUd0IAAED8HhV3QgAAAGJxFXdCAADAx8MVd0IAAECTaBZ3QgAAAPm6FndCAADAXg0Xd0IAAIDEXxd3QgAAQCqyF3dCAAAAkAQYd0IAAMD1Vhh3QgAAgFupGHdCAABAwfsYd0IAAMCMoBl3QgAAgPLyGXdCAABAWEUad0IAAAC+lxp3QgAAwCPqGndCAACAiTwbd0IAAEDvjht3QgAAAFXhG3dCAADAujMcd0IAAIAghhx3QgAAAOwqHXdCAADAUX0dd0IAAIC3zx13QgAAQB0iHndCAAAAg3Qed0IAAMDoxh53QgAAgE4ZH3dCAABAtGsfd0IAAAAavh93QgAAwH8QIHdCAACA5WIgd0IAAEBLtSB3QgAAALEHIXdCAADAFlohd0IAAEDi/iF3QgAAAEhRIndCAADAraMid0IAAIAT9iJ3QgAAAN+aI3dCAADARO0jd0IAAICqPyR3QgAAQBCSJHdCAAAAduQkd0IAAMDbNiV3QgAAgEGJJXdCAABAp9sld0IAAAANLiZ3QgAAwHKAJndCAACA2NImd0IAAEA+JSd3QgAAAKR3J3dCAACAbxwod0IAAAA7wSh3QgAAwKATKXdCAACABmYpd0IAAEBsuCl3Qg==\",\"dtype\":\"float64\",\"shape\":[71]},\"index\":[0,1,2,3,4,5,6,7,8,9,10,11,12,13,14,15,16,17,18,19,20,21,22,23,24,25,26,27,28,29,30,31,32,33,34,35,36,37,38,39,40,41,42,43,44,45,46,47,48,49,50,51,52,53,54,55,56,57,58,59,60,61,62,63,64,65,66,67,68,69,70]},\"selected\":{\"id\":\"8005\"},\"selection_policy\":{\"id\":\"8006\"}},\"id\":\"7895\",\"type\":\"ColumnDataSource\"},{\"attributes\":{\"months\":[0,6]},\"id\":\"7949\",\"type\":\"MonthsTicker\"},{\"attributes\":{\"data_source\":{\"id\":\"8009\"},\"glyph\":{\"id\":\"8011\"},\"hover_glyph\":null,\"muted_glyph\":null,\"nonselection_glyph\":{\"id\":\"8012\"},\"selection_glyph\":null,\"view\":{\"id\":\"8014\"}},\"id\":\"8013\",\"type\":\"GlyphRenderer\"},{\"attributes\":{\"num_minor_ticks\":5,\"tickers\":[{\"id\":\"7939\"},{\"id\":\"7940\"},{\"id\":\"7941\"},{\"id\":\"7942\"},{\"id\":\"7943\"},{\"id\":\"7944\"},{\"id\":\"7945\"},{\"id\":\"7946\"},{\"id\":\"7947\"},{\"id\":\"7948\"},{\"id\":\"7949\"},{\"id\":\"7950\"}]},\"id\":\"7908\",\"type\":\"DatetimeTicker\"},{\"attributes\":{},\"id\":\"7950\",\"type\":\"YearsTicker\"},{\"attributes\":{\"text\":\"Burbank case growth rate (trimmed)\"},\"id\":\"7897\",\"type\":\"Title\"},{\"attributes\":{\"source\":{\"id\":\"7894\"}},\"id\":\"7933\",\"type\":\"CDSView\"},{\"attributes\":{\"label\":{\"value\":\"daily case growth rate\"},\"renderers\":[{\"id\":\"7932\"}]},\"id\":\"7953\",\"type\":\"LegendItem\"},{\"attributes\":{\"data_source\":{\"id\":\"7894\"},\"glyph\":{\"id\":\"7930\"},\"hover_glyph\":null,\"muted_glyph\":null,\"nonselection_glyph\":{\"id\":\"7931\"},\"selection_glyph\":null,\"view\":{\"id\":\"7933\"}},\"id\":\"7932\",\"type\":\"GlyphRenderer\"},{\"attributes\":{},\"id\":\"8036\",\"type\":\"Selection\"}],\"root_ids\":[\"7896\"]},\"title\":\"Bokeh Application\",\"version\":\"2.0.2\"}};\n",
       "  var render_items = [{\"docid\":\"0f591c02-2e9a-4e68-b03f-c4dfc5c2db64\",\"root_ids\":[\"7896\"],\"roots\":{\"7896\":\"9fdf6b58-fb8c-4271-83de-5bc1b09e2751\"}}];\n",
       "  root.Bokeh.embed.embed_items_notebook(docs_json, render_items);\n",
       "\n",
       "  }\n",
       "  if (root.Bokeh !== undefined) {\n",
       "    embed_document(root);\n",
       "  } else {\n",
       "    var attempts = 0;\n",
       "    var timer = setInterval(function(root) {\n",
       "      if (root.Bokeh !== undefined) {\n",
       "        clearInterval(timer);\n",
       "        embed_document(root);\n",
       "      } else {\n",
       "        attempts++;\n",
       "        if (attempts > 100) {\n",
       "          clearInterval(timer);\n",
       "          console.log(\"Bokeh: ERROR: Unable to run BokehJS code because BokehJS library is missing\");\n",
       "        }\n",
       "      }\n",
       "    }, 10, root)\n",
       "  }\n",
       "})(window);"
      ],
      "application/vnd.bokehjs_exec.v0+json": ""
     },
     "metadata": {
      "application/vnd.bokehjs_exec.v0+json": {
       "id": "7896"
      }
     },
     "output_type": "display_data"
    },
    {
     "data": {
      "text/html": [
       "\n",
       "\n",
       "\n",
       "\n",
       "\n",
       "\n",
       "  <div class=\"bk-root\" id=\"f1bbe4c8-b3f7-4e57-8e09-97cb1d1401dc\" data-root-id=\"8589\"></div>\n"
      ]
     },
     "metadata": {},
     "output_type": "display_data"
    },
    {
     "data": {
      "application/javascript": [
       "(function(root) {\n",
       "  function embed_document(root) {\n",
       "    \n",
       "  var docs_json = {\"053dd201-fbc8-4636-a005-dd200be63338\":{\"roots\":{\"references\":[{\"attributes\":{\"below\":[{\"id\":\"8600\"}],\"center\":[{\"id\":\"8603\"},{\"id\":\"8607\"},{\"id\":\"8645\"},{\"id\":\"8733\"}],\"left\":[{\"id\":\"8604\"}],\"plot_height\":400,\"plot_width\":1000,\"renderers\":[{\"id\":\"8625\"},{\"id\":\"8650\"},{\"id\":\"8677\"},{\"id\":\"8706\"}],\"title\":{\"id\":\"8590\"},\"toolbar\":{\"id\":\"8615\"},\"x_range\":{\"id\":\"8592\"},\"x_scale\":{\"id\":\"8596\"},\"y_range\":{\"id\":\"8594\"},\"y_scale\":{\"id\":\"8598\"}},\"id\":\"8589\",\"subtype\":\"Figure\",\"type\":\"Plot\"},{\"attributes\":{\"data_source\":{\"id\":\"8587\"},\"glyph\":{\"id\":\"8623\"},\"hover_glyph\":null,\"muted_glyph\":null,\"nonselection_glyph\":{\"id\":\"8624\"},\"selection_glyph\":null,\"view\":{\"id\":\"8626\"}},\"id\":\"8625\",\"type\":\"GlyphRenderer\"},{\"attributes\":{},\"id\":\"8670\",\"type\":\"UnionRenderers\"},{\"attributes\":{},\"id\":\"8730\",\"type\":\"UnionRenderers\"},{\"attributes\":{},\"id\":\"8605\",\"type\":\"BasicTicker\"},{\"attributes\":{\"label\":{\"value\":\"7-day rolling avg (LA County)\"},\"renderers\":[{\"id\":\"8706\"}]},\"id\":\"8732\",\"type\":\"LegendItem\"},{\"attributes\":{\"label\":{\"value\":\"7-day rolling avg (Encino)\"},\"renderers\":[{\"id\":\"8650\"}]},\"id\":\"8672\",\"type\":\"LegendItem\"},{\"attributes\":{},\"id\":\"8631\",\"type\":\"BasicTickFormatter\"},{\"attributes\":{\"axis\":{\"id\":\"8604\"},\"dimension\":1,\"ticker\":null},\"id\":\"8607\",\"type\":\"Grid\"},{\"attributes\":{\"line_color\":\"red\",\"line_dash\":[6],\"line_width\":3,\"location\":1},\"id\":\"8733\",\"type\":\"Span\"},{\"attributes\":{\"mantissas\":[1,2,5],\"max_interval\":500.0,\"num_minor_ticks\":0},\"id\":\"8632\",\"type\":\"AdaptiveTicker\"},{\"attributes\":{\"fill_alpha\":{\"value\":0.8},\"fill_color\":{\"value\":\"navy\"},\"line_alpha\":{\"value\":0.8},\"line_color\":{\"value\":\"navy\"},\"size\":{\"units\":\"screen\",\"value\":5},\"x\":{\"field\":\"date\"},\"y\":{\"field\":\"confirmed_cases\"}},\"id\":\"8623\",\"type\":\"Circle\"},{\"attributes\":{\"fill_alpha\":{\"value\":0.1},\"fill_color\":{\"value\":\"navy\"},\"line_alpha\":{\"value\":0.1},\"line_color\":{\"value\":\"navy\"},\"size\":{\"units\":\"screen\",\"value\":5},\"x\":{\"field\":\"date\"},\"y\":{\"field\":\"confirmed_cases\"}},\"id\":\"8624\",\"type\":\"Circle\"},{\"attributes\":{\"base\":60,\"mantissas\":[1,2,5,10,15,20,30],\"max_interval\":1800000.0,\"min_interval\":1000.0,\"num_minor_ticks\":0},\"id\":\"8633\",\"type\":\"AdaptiveTicker\"},{\"attributes\":{\"data_source\":{\"id\":\"8673\"},\"glyph\":{\"id\":\"8675\"},\"hover_glyph\":null,\"muted_glyph\":null,\"nonselection_glyph\":{\"id\":\"8676\"},\"selection_glyph\":null,\"view\":{\"id\":\"8678\"}},\"id\":\"8677\",\"type\":\"GlyphRenderer\"},{\"attributes\":{\"line_alpha\":0.1,\"line_color\":\"navy\",\"line_width\":5,\"x\":{\"field\":\"date\"},\"y\":{\"field\":\"confirmed_cases\"}},\"id\":\"8649\",\"type\":\"Line\"},{\"attributes\":{\"base\":24,\"mantissas\":[1,2,4,6,8,12],\"max_interval\":43200000.0,\"min_interval\":3600000.0,\"num_minor_ticks\":0},\"id\":\"8634\",\"type\":\"AdaptiveTicker\"},{\"attributes\":{},\"id\":\"9148\",\"type\":\"UnionRenderers\"},{\"attributes\":{},\"id\":\"8608\",\"type\":\"PanTool\"},{\"attributes\":{\"text\":\"Encino case growth rate (trimmed)\"},\"id\":\"8590\",\"type\":\"Title\"},{\"attributes\":{\"line_alpha\":0.1,\"line_color\":\"red\",\"line_width\":5,\"x\":{\"field\":\"date\"},\"y\":{\"field\":\"confirmed_cases\"}},\"id\":\"8676\",\"type\":\"Line\"},{\"attributes\":{\"days\":[1,2,3,4,5,6,7,8,9,10,11,12,13,14,15,16,17,18,19,20,21,22,23,24,25,26,27,28,29,30,31]},\"id\":\"8635\",\"type\":\"DaysTicker\"},{\"attributes\":{},\"id\":\"8609\",\"type\":\"WheelZoomTool\"},{\"attributes\":{},\"id\":\"8698\",\"type\":\"Selection\"},{\"attributes\":{\"days\":[1,4,7,10,13,16,19,22,25,28]},\"id\":\"8636\",\"type\":\"DaysTicker\"},{\"attributes\":{\"data\":{\"confirmed_cases\":{\"__ndarray__\":\"AAAAAAAA8D8AAAAAAAD4PwAAAAAAAPA/AAAAAAAA6j8zMzMzMzPrPzMzMzMzM/c/MzMzMzMz8z+7u7u7u7v7PxzHcRzHcfg/z/M8z/M89z9hGIZhGIb5P7Ef+7Ef+/k/jdZojdZo9T+ZmZmZmZn1P5D92I/92PM/53QzbWdO8z+fzD0oIP3xP3LMroNzLec/+twSp37P1z/x7u7u7u7YPy35xZJfLO0/tmALtmAL8T++f4emIhPxPwcSrO+0N/I/jZUZeLNs8z9wwdda3yr2P1+9lkrb6fU/sF5Lpe30AkDLCx3AmsYBQMeQVevZ5wJAzb/8y7/8AkB1PddzPdcCQEEKpEAKpAFAKpESKZESAkBTIiVSIiX0P30K/SW1p/I/Dy9GuNnw+j/GnCFvR8z5P+QDd/7K6Pg/2U0W8xSI+T9z56+MriHzPzubszmbswBA7LwrMNSI9D+jKgfnQWT3P9srexbSgfQ/8AZRvdGg/T+HdkpUQZr8Pxmbk+Zl4/4/0AhvndO+9T+bWPdQxtL3P7ZDO7RDO/c/ZjzGYzzG9j+EkKGyw9TsP/sHGSo7TOw/bCTgm1cT5j9LZYepy+3dP6XiaQkS4tw/+KZ0DBA87z+Bzy1x6vfwP5CClHC4KOw/7ZBE3asO+z8Pnhb+uOD7P3qHXP55d/o/78Iu7MIu/j+JpqSGpqT4P+ZwSuNwSvk/+7Kh681r+T/jORDUVNrxP/WkG+W/5fI/gW/EcYqO8T8px/X0mC3wP4/wlieUBu4/KH0Z9E5R8z8HC0ngwbbzP6I9RNlog/I/U+70iRk08z8=\",\"dtype\":\"float64\",\"shape\":[76]},\"date\":{\"__ndarray__\":\"AAAAbwEPd0IAAMDUUw93QgAAgDqmD3dCAADAa50Qd0IAAIDR7xB3QgAAQDdCEXdCAAAAnZQRd0IAAMAC5xF3QgAAgGg5EndCAABAzosSd0IAAAA03hJ3QgAAwJkwE3dCAACA/4ITd0IAAEBl1RN3QgAAAMsnFHdCAADAMHoUd0IAAABicRV3QgAAwMfDFXdCAABAk2gWd0IAAAD5uhZ3QgAAwF4NF3dCAACAxF8Xd0IAAEAqshd3QgAAAJAEGHdCAADA9VYYd0IAAIBbqRh3QgAAQMH7GHdCAAAAJ04Zd0IAAMCMoBl3QgAAgPLyGXdCAABAWEUad0IAAAC+lxp3QgAAwCPqGndCAACAiTwbd0IAAEDvjht3QgAAAFXhG3dCAADAujMcd0IAAIAghhx3QgAAAOwqHXdCAADAUX0dd0IAAIC3zx13QgAAQB0iHndCAAAAg3Qed0IAAMDoxh53QgAAgE4ZH3dCAABAtGsfd0IAAAAavh93QgAAwH8QIHdCAACA5WIgd0IAAEBLtSB3QgAAALEHIXdCAADAFlohd0IAAEDi/iF3QgAAAEhRIndCAADAraMid0IAAIAT9iJ3QgAAAN+aI3dCAADARO0jd0IAAICqPyR3QgAAQBCSJHdCAAAAduQkd0IAAMDbNiV3QgAAgEGJJXdCAABAp9sld0IAAAANLiZ3QgAAwHKAJndCAACA2NImd0IAAEA+JSd3QgAAAKR3J3dCAADACcond0IAAIBvHCh3QgAAQNVuKHdCAAAAO8Eod0IAAMCgEyl3QgAAgAZmKXdCAABAbLgpd0I=\",\"dtype\":\"float64\",\"shape\":[76]},\"index\":[0,1,2,3,4,5,6,7,8,9,10,11,12,13,14,15,16,17,18,19,20,21,22,23,24,25,26,27,28,29,30,31,32,33,34,35,36,37,38,39,40,41,42,43,44,45,46,47,48,49,50,51,52,53,54,55,56,57,58,59,60,61,62,63,64,65,66,67,68,69,70,71,72,73,74,75]},\"selected\":{\"id\":\"8729\"},\"selection_policy\":{\"id\":\"8730\"}},\"id\":\"8673\",\"type\":\"ColumnDataSource\"},{\"attributes\":{\"overlay\":{\"id\":\"8614\"}},\"id\":\"8610\",\"type\":\"BoxZoomTool\"},{\"attributes\":{\"line_alpha\":0.2,\"line_color\":\"red\",\"line_width\":5,\"x\":{\"field\":\"date\"},\"y\":{\"field\":\"confirmed_cases\"}},\"id\":\"8675\",\"type\":\"Line\"},{\"attributes\":{\"days\":[1,8,15,22]},\"id\":\"8637\",\"type\":\"DaysTicker\"},{\"attributes\":{\"data\":{\"confirmed_cases\":{\"__ndarray__\":\"AAAAAAAA4D8AAAAAAAAAAAAAAAAAAPA/AAAAAAAAAAAAAAAAAADgPwAAAAAAANA/AAAAAAAA+D9VVVVVVVXVPwAAAAAAAABAAAAAAAAA4D8AAAAAAAAAQAAAAAAAAOA/AAAAAAAAAEAAAAAAAAAAQAAAAAAAAAAAAAAAAAAAAAAAAAAAAAAAAAAAAAAAAAAAAAAAAAAA4D8AAAAAAADwPwAAAAAAAAhAAAAAAAAAAABVVVVVVVXVPwAAAAAAAAAAq6qqqqqqCkAAAAAAAAAAAAAAAAAAAAAAVVVVVVVV5T8AAAAAAADgPwAAAAAAAAAAVVVVVVVV1T8AAAAAAAAAQAAAAAAAAOA/AAAAAAAAFEAAAAAAAAAAAFVVVVVVVdU/AAAAAAAAEEAAAAAAAAAAAAAAAAAAABBAAAAAAAAA4D8AAAAAAAAAAFVVVVVVVdU/AAAAAAAACEAAAAAAAAAAgAAAAAAAAPA/AAAAAAAAAAAAAAAAAAAIQAAAAAAAAAAAAAAAAAAA0D8AAAAAAAAQQAAAAAAAANA/AAAAAAAAAAAAAAAAAADwPwAAAAAAAPA/VVVVVVVV9T8AAAAAAAAAAAAAAAAAAABAAAAAAAAAAEAAAAAAAADQPw==\",\"dtype\":\"float64\",\"shape\":[59]},\"date\":{\"__ndarray__\":\"AABACa8Od0IAAABvAQ93QgAAgDqmD3dCAABAoPgPd0IAAIDR7xB3QgAAAJ2UEXdCAADAAucRd0IAAIBoORJ3QgAAQM6LEndCAAAANN4Sd0IAAMCZMBN3QgAAgP+CE3dCAABAZdUTd0IAAADLJxR3QgAAwDB6FHdCAABA/B4Vd0IAAMDHwxV3QgAAQJNoFndCAADAXg0Xd0IAAIDEXxd3QgAAQCqyF3dCAAAAkAQYd0IAAIBbqRh3QgAAQMH7GHdCAADAjKAZd0IAAIDy8hl3QgAAwCPqGndCAAAAVeEbd0IAAMC6Mxx3QgAAgCCGHHdCAAAA7Codd0IAAMBRfR13QgAAgLfPHXdCAABAHSIed0IAAACDdB53QgAAgE4ZH3dCAABAtGsfd0IAAAAavh93QgAAQEu1IHdCAAAAsQchd0IAAMAWWiF3QgAAQOL+IXdCAAAASFEid0IAAIAT9iJ3QgAAAN+aI3dCAADARO0jd0IAAAB25CR3QgAAwNs2JXdCAABAp9sld0IAAAANLiZ3QgAAwHKAJndCAACA2NImd0IAAACkdyd3QgAAwAnKJ3dCAACAbxwod0IAAEDVbih3QgAAwKATKXdCAACABmYpd0IAAEBsuCl3Qg==\",\"dtype\":\"float64\",\"shape\":[59]},\"index\":[0,1,2,3,4,5,6,7,8,9,10,11,12,13,14,15,16,17,18,19,20,21,22,23,24,25,26,27,28,29,30,31,32,33,34,35,36,37,38,39,40,41,42,43,44,45,46,47,48,49,50,51,52,53,54,55,56,57,58]},\"selected\":{\"id\":\"8669\"},\"selection_policy\":{\"id\":\"8670\"}},\"id\":\"8587\",\"type\":\"ColumnDataSource\"},{\"attributes\":{\"source\":{\"id\":\"8673\"}},\"id\":\"8678\",\"type\":\"CDSView\"},{\"attributes\":{\"axis\":{\"id\":\"8600\"},\"ticker\":null},\"id\":\"8603\",\"type\":\"Grid\"},{\"attributes\":{},\"id\":\"8611\",\"type\":\"SaveTool\"},{\"attributes\":{\"days\":[1,15]},\"id\":\"8638\",\"type\":\"DaysTicker\"},{\"attributes\":{},\"id\":\"8612\",\"type\":\"ResetTool\"},{\"attributes\":{\"num_minor_ticks\":5,\"tickers\":[{\"id\":\"8632\"},{\"id\":\"8633\"},{\"id\":\"8634\"},{\"id\":\"8635\"},{\"id\":\"8636\"},{\"id\":\"8637\"},{\"id\":\"8638\"},{\"id\":\"8639\"},{\"id\":\"8640\"},{\"id\":\"8641\"},{\"id\":\"8642\"},{\"id\":\"8643\"}]},\"id\":\"8601\",\"type\":\"DatetimeTicker\"},{\"attributes\":{},\"id\":\"8699\",\"type\":\"UnionRenderers\"},{\"attributes\":{\"months\":[0,1,2,3,4,5,6,7,8,9,10,11]},\"id\":\"8639\",\"type\":\"MonthsTicker\"},{\"attributes\":{\"label\":{\"value\":\"7-day rolling avg (NoHo)\"},\"renderers\":[{\"id\":\"8677\"}]},\"id\":\"8701\",\"type\":\"LegendItem\"},{\"attributes\":{},\"id\":\"8613\",\"type\":\"HelpTool\"},{\"attributes\":{},\"id\":\"8598\",\"type\":\"LinearScale\"},{\"attributes\":{},\"id\":\"8669\",\"type\":\"Selection\"},{\"attributes\":{\"formatter\":{\"id\":\"8629\"},\"ticker\":{\"id\":\"8601\"}},\"id\":\"8600\",\"type\":\"DatetimeAxis\"},{\"attributes\":{\"months\":[0,4,8]},\"id\":\"8641\",\"type\":\"MonthsTicker\"},{\"attributes\":{\"active_drag\":\"auto\",\"active_inspect\":\"auto\",\"active_multi\":null,\"active_scroll\":\"auto\",\"active_tap\":\"auto\",\"tools\":[{\"id\":\"8608\"},{\"id\":\"8609\"},{\"id\":\"8610\"},{\"id\":\"8611\"},{\"id\":\"8612\"},{\"id\":\"8613\"}]},\"id\":\"8615\",\"type\":\"Toolbar\"},{\"attributes\":{\"source\":{\"id\":\"8702\"}},\"id\":\"8707\",\"type\":\"CDSView\"},{\"attributes\":{\"months\":[0,2,4,6,8,10]},\"id\":\"8640\",\"type\":\"MonthsTicker\"},{\"attributes\":{\"line_alpha\":0.1,\"line_color\":\"grey\",\"line_width\":5,\"x\":{\"field\":\"date\"},\"y\":{\"field\":\"new_confirmed_cases\"}},\"id\":\"8705\",\"type\":\"Line\"},{\"attributes\":{\"line_alpha\":0.5,\"line_color\":\"navy\",\"line_width\":5,\"x\":{\"field\":\"date\"},\"y\":{\"field\":\"confirmed_cases\"}},\"id\":\"8648\",\"type\":\"Line\"},{\"attributes\":{\"months\":[0,6]},\"id\":\"8642\",\"type\":\"MonthsTicker\"},{\"attributes\":{\"source\":{\"id\":\"8588\"}},\"id\":\"8651\",\"type\":\"CDSView\"},{\"attributes\":{\"data\":{\"confirmed_cases\":{\"__ndarray__\":\"AAAAAAAA4D8AAAAAAADQPwAAAAAAAOA/AAAAAAAA2D8AAAAAAADYPwAAAAAAAANAMzMzMzMz/z9mZmZmZmYAQO/u7u7u7gBAchzHcRzHAEB6nud5nuf9P6uqqqqqqgBADcMwDMMw8D8NwzAMwzD0P1ZVVVVVVfU/JUmSJEmS9D9VVVVVVVXxP5qZmZmZmek/AAAAAAAAAAAAAAAAAADAPwAAAAAAANg/zczMzMzM7D/NzMzMzMzsP+7u7u7u7u4/cRzHcRzH6T9VVVVVVVX1P3Z3d3d3d+c/qaqqqqqq6j8Rx3Ecx3HMPzOO4ziO49g/pqqqqqqq0j/7///////XP2VmZmZmZuY/VFVVVVVV5T+N4ziO4zj2PziO4ziO4/Q/cRzHcRzH9T/jOI7jOI7/P43jOI7jOPo/qqqqqqqqAEBDRERERET8PzIzMzMzM/s/U1VVVVVV8z8PERERERH5P4WIiIiIiOg/U1VVVVVV8T+4u7u7u7vrP/v//////+8/+///////7z/7///////pP/7///////w//v//////9z/////////zP5iZmZmZmfE/VFVVVVVV8T+N4ziO4zj0P8RxHMdxHOM/DxERERER8T/iOI7jOI7zP+I4juM4jvE/\",\"dtype\":\"float64\",\"shape\":[60]},\"date\":{\"__ndarray__\":\"AABACa8Od0IAAABvAQ93QgAAgDqmD3dCAABAoPgPd0IAAIDR7xB3QgAAQDdCEXdCAAAAnZQRd0IAAMAC5xF3QgAAgGg5EndCAABAzosSd0IAAAA03hJ3QgAAwJkwE3dCAACA/4ITd0IAAEBl1RN3QgAAAMsnFHdCAADAMHoUd0IAAED8HhV3QgAAwMfDFXdCAABAk2gWd0IAAMBeDRd3QgAAgMRfF3dCAABAKrIXd0IAAACQBBh3QgAAgFupGHdCAABAwfsYd0IAAMCMoBl3QgAAgPLyGXdCAADAI+oad0IAAABV4Rt3QgAAwLozHHdCAACAIIYcd0IAAADsKh13QgAAwFF9HXdCAACAt88dd0IAAEAdIh53QgAAAIN0HndCAACAThkfd0IAAEC0ax93QgAAABq+H3dCAABAS7Ugd0IAAACxByF3QgAAwBZaIXdCAABA4v4hd0IAAABIUSJ3QgAAgBP2IndCAAAA35ojd0IAAMBE7SN3QgAAAHbkJHdCAADA2zYld0IAAECn2yV3QgAAAA0uJndCAADAcoAmd0IAAIDY0iZ3QgAAAKR3J3dCAADACcond0IAAIBvHCh3QgAAQNVuKHdCAADAoBMpd0IAAIAGZil3QgAAQGy4KXdC\",\"dtype\":\"float64\",\"shape\":[60]},\"index\":[0,1,2,3,4,5,6,7,8,9,10,11,12,13,14,15,16,17,18,19,20,21,22,23,24,25,26,27,28,29,30,31,32,33,34,35,36,37,38,39,40,41,42,43,44,45,46,47,48,49,50,51,52,53,54,55,56,57,58,59]},\"selected\":{\"id\":\"8698\"},\"selection_policy\":{\"id\":\"8699\"}},\"id\":\"8588\",\"type\":\"ColumnDataSource\"},{\"attributes\":{\"line_alpha\":0.2,\"line_color\":\"grey\",\"line_width\":5,\"x\":{\"field\":\"date\"},\"y\":{\"field\":\"new_confirmed_cases\"}},\"id\":\"8704\",\"type\":\"Line\"},{\"attributes\":{},\"id\":\"8643\",\"type\":\"YearsTicker\"},{\"attributes\":{\"items\":[{\"id\":\"8646\"},{\"id\":\"8672\"},{\"id\":\"8701\"},{\"id\":\"8732\"}],\"location\":\"bottom_left\"},\"id\":\"8645\",\"type\":\"Legend\"},{\"attributes\":{\"data_source\":{\"id\":\"8588\"},\"glyph\":{\"id\":\"8648\"},\"hover_glyph\":null,\"muted_glyph\":null,\"nonselection_glyph\":{\"id\":\"8649\"},\"selection_glyph\":null,\"view\":{\"id\":\"8651\"}},\"id\":\"8650\",\"type\":\"GlyphRenderer\"},{\"attributes\":{},\"id\":\"8594\",\"type\":\"DataRange1d\"},{\"attributes\":{\"data_source\":{\"id\":\"8702\"},\"glyph\":{\"id\":\"8704\"},\"hover_glyph\":null,\"muted_glyph\":null,\"nonselection_glyph\":{\"id\":\"8705\"},\"selection_glyph\":null,\"view\":{\"id\":\"8707\"}},\"id\":\"8706\",\"type\":\"GlyphRenderer\"},{\"attributes\":{\"bottom_units\":\"screen\",\"fill_alpha\":0.5,\"fill_color\":\"lightgrey\",\"left_units\":\"screen\",\"level\":\"overlay\",\"line_alpha\":1.0,\"line_color\":\"black\",\"line_dash\":[4,4],\"line_width\":2,\"render_mode\":\"css\",\"right_units\":\"screen\",\"top_units\":\"screen\"},\"id\":\"8614\",\"type\":\"BoxAnnotation\"},{\"attributes\":{},\"id\":\"8592\",\"type\":\"DataRange1d\"},{\"attributes\":{\"label\":{\"value\":\"daily case growth rate\"},\"renderers\":[{\"id\":\"8625\"}]},\"id\":\"8646\",\"type\":\"LegendItem\"},{\"attributes\":{},\"id\":\"8729\",\"type\":\"Selection\"},{\"attributes\":{},\"id\":\"8629\",\"type\":\"DatetimeTickFormatter\"},{\"attributes\":{\"data\":{\"date\":{\"__ndarray__\":\"AADAa50Qd0IAAIDR7xB3QgAAQDdCEXdCAAAAnZQRd0IAAMAC5xF3QgAAgGg5EndCAABAzosSd0IAAAA03hJ3QgAAwJkwE3dCAACA/4ITd0IAAEBl1RN3QgAAAMsnFHdCAADAMHoUd0IAAICWzBR3QgAAQPweFXdCAAAAYnEVd0IAAMDHwxV3QgAAgC0WFndCAABAk2gWd0IAAAD5uhZ3QgAAwF4NF3dCAACAxF8Xd0IAAEAqshd3QgAAAJAEGHdCAADA9VYYd0IAAIBbqRh3QgAAQMH7GHdCAAAAJ04Zd0IAAMCMoBl3QgAAgPLyGXdCAABAWEUad0IAAAC+lxp3QgAAwCPqGndCAACAiTwbd0IAAEDvjht3QgAAAFXhG3dCAADAujMcd0IAAIAghhx3QgAAQIbYHHdCAAAA7Codd0IAAMBRfR13QgAAgLfPHXdCAABAHSIed0IAAACDdB53QgAAwOjGHndCAACAThkfd0IAAEC0ax93QgAAABq+H3dCAADAfxAgd0IAAIDlYiB3QgAAQEu1IHdCAAAAsQchd0IAAMAWWiF3QgAAgHysIXdCAABA4v4hd0IAAABIUSJ3QgAAwK2jIndCAACAE/Yid0IAAEB5SCN3QgAAAN+aI3dCAADARO0jd0IAAICqPyR3QgAAQBCSJHdCAAAAduQkd0IAAMDbNiV3QgAAgEGJJXdCAABAp9sld0IAAAANLiZ3QgAAwHKAJndCAACA2NImd0IAAEA+JSd3QgAAAKR3J3dCAADACcond0IAAIBvHCh3QgAAQNVuKHdCAAAAO8Eod0IAAMCgEyl3QgAAgAZmKXdCAABAbLgpd0I=\",\"dtype\":\"float64\",\"shape\":[79]},\"index\":[0,1,2,3,4,5,6,7,8,9,10,11,12,13,14,15,16,17,18,19,20,21,22,23,24,25,26,27,28,29,30,31,32,33,34,35,36,37,38,39,40,41,42,43,44,45,46,47,48,49,50,51,52,53,54,55,56,57,58,59,60,61,62,63,64,65,66,67,68,69,70,71,72,73,74,75,76,77,78],\"new_confirmed_cases\":{\"__ndarray__\":\"AAAAAAAA+H+JRCKRSCTyPwbK1gdLFwBAucuuu3ev+D8gbhgi79j3PwlHz6MUNvY/eNfVzz1p9T9mjjW1v7/1P6b4xblTRPU/boaKDAcx8T+nNYWmAg7yP1+POsvGFvI/j5v9+9LZ8T8ReLgyD/LwPy3sQb+ucvA/w/gcFzLw8D9HBV3S2c7vP6oLCueyQ/A/In/RBW2d7j/OsiM3JNjtP+9xoUGG4e4/a7SsLNhY8T/1ToEv9nHwPzg4BfYI6PA/R+GAS5B68T9Wt93sbRfyP1/TJHzajvE/sgV40IDD+j/qbCRy/wn4P/InrX4sh/g/EY3QRUCQ+D+mT/6x32H3P3VNdZ1lFPY/KdSCjHCE9j9Azu4I3DbwP+tjb3MwHu8/kqtaS0iM8z9ZiwChOaPyP5iCzlE18vM/WkrJvB4C9D9t1H56tBP1P682J4BYsPE/yZzkJL0q9z+181ur4BzyP9lNfFL9fvM/9fK6xUJV8j8I20Sm02bzP4erW+54+vE/k6C0WPop8z+7VMdUrzXwP5iawilLI/I/GXXx3ww+8T/FqioiTVbxP9Ja77kIgvE/Dw1VM/e68T+WqmK9D5DwPwCnOUJ+ePI/tVj6LKwN8j9f65O4FXfyP3Eyqi8tFvI/BesC1r3Z8T9vJrkXbXryPwV39nxRUvM/35mFC4y+8T+97jYp4jnwP6QQtwhN/PA/feXWPcr68j95Sjwqdw/zP3hXpZoacPI/g8GIO/bP8T9nxTuoNz7wP/MNK0RcHPE/vZC5gCWL8T9dLX+2m6fvP/YqrDUN7O4/Op3aTNOb8D+clubVJRbwP3GjV54vw/A/89kozYHg8D8=\",\"dtype\":\"float64\",\"shape\":[79]},\"new_deaths\":{\"__ndarray__\":\"AAAAAAAA+H8AAAAAAAD4P6qqqqqqqgBA4ziO4ziO+T93d3d3d/f3P9ajcD0K1/U/7+7u7u7u9T+eJezmtxD2P6WaPO4sYfU/yuPOEnbz8T9281sIGKXyP7cQMEo1efQ/hgRtGSm28z+F+9wYICbzPxfis2J02PM/L1xVeu558z9h0x1XEO3yP3H1EutsivI/ktiVd3i88D8P6mqyc9/yP/PzTgpPCfI/0uzc6UeX8T+AyreXJXLxP2fZUNOJYPI/wQ9QYPOS8j9Kroo3UsHzPxAWw+GMMvE/Z73yxGIc8T+iZGb/CZDzPxn5BPk2i/Q/6exByCrI8z8OAtpgEabzP5nXjzL+uPE/QUsO9p7+8T9Xqv8L/u/zP9nKB44e+PE/2swZMNE/8T9x2dpqq/zwP5pKUnWgg/E/+ZRs60cS8T8OqOBCcTjxP1ylf55TDfE/Im+gkBRj8T/TGwtMMiTxPzWNKQnWRvE/V5No1oYw8T+ISVfw36rxPz/EAqhaVvE/ktVN7YZr8z/fN+4N8tbxPwYdpHci1fE/xqu8ZBUP8j+hz3I/OcXxP0lTree8//E/2AfX/0u/8j9CNPeRvMftP1cAX39ER/U/tw6Ltt9m9D9Wflgp6xL0P3rH6k00pfM/41TBtsF79D+mb5/QftDzP4EmDaw1PvM/yrgx9cdi8j9ZnUCtaXD1P9eoQVC+A/U/6uDCY/aE9j/HjEstFlb1PybDnqvPnPU/J2K72dLa9j8P3FnBTHn0P/VI+W5RkvE/qbyNmgtW8j+rMKSWAivxP/UykDwj8/I/YS7bw+ip8j/7JF6mTFHxP/5Lzqhzwfc/eWcHQP2y+D8=\",\"dtype\":\"float64\",\"shape\":[79]}},\"selected\":{\"id\":\"9147\"},\"selection_policy\":{\"id\":\"9148\"}},\"id\":\"8702\",\"type\":\"ColumnDataSource\"},{\"attributes\":{},\"id\":\"9147\",\"type\":\"Selection\"},{\"attributes\":{\"formatter\":{\"id\":\"8631\"},\"ticker\":{\"id\":\"8605\"}},\"id\":\"8604\",\"type\":\"LinearAxis\"},{\"attributes\":{},\"id\":\"8596\",\"type\":\"LinearScale\"},{\"attributes\":{\"source\":{\"id\":\"8587\"}},\"id\":\"8626\",\"type\":\"CDSView\"}],\"root_ids\":[\"8589\"]},\"title\":\"Bokeh Application\",\"version\":\"2.0.2\"}};\n",
       "  var render_items = [{\"docid\":\"053dd201-fbc8-4636-a005-dd200be63338\",\"root_ids\":[\"8589\"],\"roots\":{\"8589\":\"f1bbe4c8-b3f7-4e57-8e09-97cb1d1401dc\"}}];\n",
       "  root.Bokeh.embed.embed_items_notebook(docs_json, render_items);\n",
       "\n",
       "  }\n",
       "  if (root.Bokeh !== undefined) {\n",
       "    embed_document(root);\n",
       "  } else {\n",
       "    var attempts = 0;\n",
       "    var timer = setInterval(function(root) {\n",
       "      if (root.Bokeh !== undefined) {\n",
       "        clearInterval(timer);\n",
       "        embed_document(root);\n",
       "      } else {\n",
       "        attempts++;\n",
       "        if (attempts > 100) {\n",
       "          clearInterval(timer);\n",
       "          console.log(\"Bokeh: ERROR: Unable to run BokehJS code because BokehJS library is missing\");\n",
       "        }\n",
       "      }\n",
       "    }, 10, root)\n",
       "  }\n",
       "})(window);"
      ],
      "application/vnd.bokehjs_exec.v0+json": ""
     },
     "metadata": {
      "application/vnd.bokehjs_exec.v0+json": {
       "id": "8589"
      }
     },
     "output_type": "display_data"
    },
    {
     "data": {
      "text/html": [
       "\n",
       "\n",
       "\n",
       "\n",
       "\n",
       "\n",
       "  <div class=\"bk-root\" id=\"75983452-4331-4072-867f-57d9c60508a1\" data-root-id=\"9308\"></div>\n"
      ]
     },
     "metadata": {},
     "output_type": "display_data"
    },
    {
     "data": {
      "application/javascript": [
       "(function(root) {\n",
       "  function embed_document(root) {\n",
       "    \n",
       "  var docs_json = {\"e4946d44-ad1d-4cd3-9552-a488436913b1\":{\"roots\":{\"references\":[{\"attributes\":{\"below\":[{\"id\":\"9319\"}],\"center\":[{\"id\":\"9322\"},{\"id\":\"9326\"},{\"id\":\"9364\"},{\"id\":\"9452\"}],\"left\":[{\"id\":\"9323\"}],\"plot_height\":400,\"plot_width\":1000,\"renderers\":[{\"id\":\"9344\"},{\"id\":\"9369\"},{\"id\":\"9396\"},{\"id\":\"9425\"}],\"title\":{\"id\":\"9309\"},\"toolbar\":{\"id\":\"9334\"},\"x_range\":{\"id\":\"9311\"},\"x_scale\":{\"id\":\"9315\"},\"y_range\":{\"id\":\"9313\"},\"y_scale\":{\"id\":\"9317\"}},\"id\":\"9308\",\"subtype\":\"Figure\",\"type\":\"Plot\"},{\"attributes\":{\"line_color\":\"red\",\"line_dash\":[6],\"line_width\":3,\"location\":1},\"id\":\"9452\",\"type\":\"Span\"},{\"attributes\":{\"mantissas\":[1,2,5],\"max_interval\":500.0,\"num_minor_ticks\":0},\"id\":\"9351\",\"type\":\"AdaptiveTicker\"},{\"attributes\":{\"fill_alpha\":{\"value\":0.8},\"fill_color\":{\"value\":\"navy\"},\"line_alpha\":{\"value\":0.8},\"line_color\":{\"value\":\"navy\"},\"size\":{\"units\":\"screen\",\"value\":5},\"x\":{\"field\":\"date\"},\"y\":{\"field\":\"confirmed_cases\"}},\"id\":\"9342\",\"type\":\"Circle\"},{\"attributes\":{\"fill_alpha\":{\"value\":0.1},\"fill_color\":{\"value\":\"navy\"},\"line_alpha\":{\"value\":0.1},\"line_color\":{\"value\":\"navy\"},\"size\":{\"units\":\"screen\",\"value\":5},\"x\":{\"field\":\"date\"},\"y\":{\"field\":\"confirmed_cases\"}},\"id\":\"9343\",\"type\":\"Circle\"},{\"attributes\":{\"base\":60,\"mantissas\":[1,2,5,10,15,20,30],\"max_interval\":1800000.0,\"min_interval\":1000.0,\"num_minor_ticks\":0},\"id\":\"9352\",\"type\":\"AdaptiveTicker\"},{\"attributes\":{},\"id\":\"9893\",\"type\":\"UnionRenderers\"},{\"attributes\":{\"data_source\":{\"id\":\"9392\"},\"glyph\":{\"id\":\"9394\"},\"hover_glyph\":null,\"muted_glyph\":null,\"nonselection_glyph\":{\"id\":\"9395\"},\"selection_glyph\":null,\"view\":{\"id\":\"9397\"}},\"id\":\"9396\",\"type\":\"GlyphRenderer\"},{\"attributes\":{\"base\":24,\"mantissas\":[1,2,4,6,8,12],\"max_interval\":43200000.0,\"min_interval\":3600000.0,\"num_minor_ticks\":0},\"id\":\"9353\",\"type\":\"AdaptiveTicker\"},{\"attributes\":{},\"id\":\"9327\",\"type\":\"PanTool\"},{\"attributes\":{\"data\":{\"confirmed_cases\":{\"__ndarray__\":\"AAAAAAAA8D8AAAAAAAAAAAAAAAAAAPA/AAAAAAAACEBVVVVVVVXVPwAAAAAAAABAdNFFF1104T+rqqqqqqryP7dt27Zt2/Y/mpmZmZmZ+T8AAAAAAADsP7dt27Zt2+Y/ZmZmZmZm5j+3bdu2bdv2PwAAAAAAAPg/d3d3d3d35z/poosuuujyP57YiZ3Yie0/AAAAAAAA8D8AAAAAAAAAAGIndmIndtI/AAAAAAAA8D/e3d3d3d3dPwAAAAAAAABAJUmSJEmS5D9yHMdxHMfxP5qZmZmZmQFARhdddNFF5z8AAAAAAADYP6uqqqqqqvI/SZIkSZIkEUBVVVVVVVXlPwAAAAAAAPg/7+7u7u7u9j82ZU1ZU9bEP9u2bdu2bfs/q6qqqqqq4j8AAAAAAAAAQAAAAAAAAABAAAAAAAAAAADuaYTlnkbYP0YXXXTRRbc/uuiiiy666D/x8PDw8PDwPwAAAAAAAPA/chzHcRzH4T8AAAAAAAAAQGZmZmZmZtY/AAAAAAAAAEBJkiRJkiQBQCIiIiIiIuI/AAAAAAAA8D8AAAAAAAAAAJ1zzjnnnOM/KK+hvIbyqj8AAAAAAAAIQAAAAAAAAAAAAAAAAAAA4D+amZmZmZnxP7rooosuuvg/09LS0tLS4j9mZmZmZmb+Pw3lNZTXUN4/HMdxHMdx7D8AAAAAAADkP83MzMzMzPw/VVVVVVVV5T+rqqqqqqrqPwAAAAAAAPA/AAAAAAAA8D8AAAAAAADQP1VVVVVVVdU/AAAAAAAA2D8AAAAAAADwP6uqqqqqquo/\",\"dtype\":\"float64\",\"shape\":[75]},\"date\":{\"__ndarray__\":\"AABACa8Od0IAAABvAQ93QgAAQKD4D3dCAAAABksQd0IAAMBrnRB3QgAAgNHvEHdCAAAAnZQRd0IAAMAC5xF3QgAAgGg5EndCAABAzosSd0IAAAA03hJ3QgAAwJkwE3dCAACA/4ITd0IAAEBl1RN3QgAAAMsnFHdCAADAMHoUd0IAAICWzBR3QgAAQPweFXdCAAAAYnEVd0IAAMDHwxV3QgAAQJNoFndCAAAA+boWd0IAAMBeDRd3QgAAgMRfF3dCAABAKrIXd0IAAACQBBh3QgAAwPVWGHdCAACAW6kYd0IAAEDB+xh3QgAAACdOGXdCAADAjKAZd0IAAIDy8hl3QgAAQFhFGndCAAAAvpcad0IAAMAj6hp3QgAAgIk8G3dCAABA744bd0IAAABV4Rt3QgAAwLozHHdCAACAIIYcd0IAAADsKh13QgAAwFF9HXdCAABAHSIed0IAAACDdB53QgAAwOjGHndCAACAThkfd0IAAEC0ax93QgAAABq+H3dCAADAfxAgd0IAAIDlYiB3QgAAQEu1IHdCAAAAsQchd0IAAMAWWiF3QgAAQOL+IXdCAAAASFEid0IAAMCtoyJ3QgAAgBP2IndCAAAA35ojd0IAAMBE7SN3QgAAgKo/JHdCAABAEJIkd0IAAAB25CR3QgAAwNs2JXdCAACAQYkld0IAAECn2yV3QgAAAA0uJndCAADAcoAmd0IAAIDY0iZ3QgAAQD4lJ3dCAAAApHcnd0IAAIBvHCh3QgAAQNVuKHdCAADAoBMpd0IAAIAGZil3QgAAQGy4KXdC\",\"dtype\":\"float64\",\"shape\":[75]},\"index\":[0,1,2,3,4,5,6,7,8,9,10,11,12,13,14,15,16,17,18,19,20,21,22,23,24,25,26,27,28,29,30,31,32,33,34,35,36,37,38,39,40,41,42,43,44,45,46,47,48,49,50,51,52,53,54,55,56,57,58,59,60,61,62,63,64,65,66,67,68,69,70,71,72,73,74]},\"selected\":{\"id\":\"9388\"},\"selection_policy\":{\"id\":\"9389\"}},\"id\":\"9306\",\"type\":\"ColumnDataSource\"},{\"attributes\":{\"data\":{\"confirmed_cases\":{\"__ndarray__\":\"AAAAAAAA8D8AAAAAAAD4PwAAAAAAAPA/AAAAAAAA6j8zMzMzMzPrPzMzMzMzM/c/MzMzMzMz8z+7u7u7u7v7PxzHcRzHcfg/z/M8z/M89z9hGIZhGIb5P7Ef+7Ef+/k/jdZojdZo9T+ZmZmZmZn1P5D92I/92PM/53QzbWdO8z+fzD0oIP3xP3LMroNzLec/+twSp37P1z/x7u7u7u7YPy35xZJfLO0/tmALtmAL8T++f4emIhPxPwcSrO+0N/I/jZUZeLNs8z9wwdda3yr2P1+9lkrb6fU/sF5Lpe30AkDLCx3AmsYBQMeQVevZ5wJAzb/8y7/8AkB1PddzPdcCQEEKpEAKpAFAKpESKZESAkBTIiVSIiX0P30K/SW1p/I/Dy9GuNnw+j/GnCFvR8z5P+QDd/7K6Pg/2U0W8xSI+T9z56+MriHzPzubszmbswBA7LwrMNSI9D+jKgfnQWT3P9srexbSgfQ/8AZRvdGg/T+HdkpUQZr8Pxmbk+Zl4/4/0AhvndO+9T+bWPdQxtL3P7ZDO7RDO/c/ZjzGYzzG9j+EkKGyw9TsP/sHGSo7TOw/bCTgm1cT5j9LZYepy+3dP6XiaQkS4tw/+KZ0DBA87z+Bzy1x6vfwP5CClHC4KOw/7ZBE3asO+z8Pnhb+uOD7P3qHXP55d/o/78Iu7MIu/j+JpqSGpqT4P+ZwSuNwSvk/+7Kh681r+T/jORDUVNrxP/WkG+W/5fI/gW/EcYqO8T8px/X0mC3wP4/wlieUBu4/KH0Z9E5R8z8HC0ngwbbzP6I9RNlog/I/U+70iRk08z8=\",\"dtype\":\"float64\",\"shape\":[76]},\"date\":{\"__ndarray__\":\"AAAAbwEPd0IAAMDUUw93QgAAgDqmD3dCAADAa50Qd0IAAIDR7xB3QgAAQDdCEXdCAAAAnZQRd0IAAMAC5xF3QgAAgGg5EndCAABAzosSd0IAAAA03hJ3QgAAwJkwE3dCAACA/4ITd0IAAEBl1RN3QgAAAMsnFHdCAADAMHoUd0IAAABicRV3QgAAwMfDFXdCAABAk2gWd0IAAAD5uhZ3QgAAwF4NF3dCAACAxF8Xd0IAAEAqshd3QgAAAJAEGHdCAADA9VYYd0IAAIBbqRh3QgAAQMH7GHdCAAAAJ04Zd0IAAMCMoBl3QgAAgPLyGXdCAABAWEUad0IAAAC+lxp3QgAAwCPqGndCAACAiTwbd0IAAEDvjht3QgAAAFXhG3dCAADAujMcd0IAAIAghhx3QgAAAOwqHXdCAADAUX0dd0IAAIC3zx13QgAAQB0iHndCAAAAg3Qed0IAAMDoxh53QgAAgE4ZH3dCAABAtGsfd0IAAAAavh93QgAAwH8QIHdCAACA5WIgd0IAAEBLtSB3QgAAALEHIXdCAADAFlohd0IAAEDi/iF3QgAAAEhRIndCAADAraMid0IAAIAT9iJ3QgAAAN+aI3dCAADARO0jd0IAAICqPyR3QgAAQBCSJHdCAAAAduQkd0IAAMDbNiV3QgAAgEGJJXdCAABAp9sld0IAAAANLiZ3QgAAwHKAJndCAACA2NImd0IAAEA+JSd3QgAAAKR3J3dCAADACcond0IAAIBvHCh3QgAAQNVuKHdCAAAAO8Eod0IAAMCgEyl3QgAAgAZmKXdCAABAbLgpd0I=\",\"dtype\":\"float64\",\"shape\":[76]},\"index\":[0,1,2,3,4,5,6,7,8,9,10,11,12,13,14,15,16,17,18,19,20,21,22,23,24,25,26,27,28,29,30,31,32,33,34,35,36,37,38,39,40,41,42,43,44,45,46,47,48,49,50,51,52,53,54,55,56,57,58,59,60,61,62,63,64,65,66,67,68,69,70,71,72,73,74,75]},\"selected\":{\"id\":\"9448\"},\"selection_policy\":{\"id\":\"9449\"}},\"id\":\"9392\",\"type\":\"ColumnDataSource\"},{\"attributes\":{\"source\":{\"id\":\"9392\"}},\"id\":\"9397\",\"type\":\"CDSView\"},{\"attributes\":{},\"id\":\"9328\",\"type\":\"WheelZoomTool\"},{\"attributes\":{\"line_alpha\":0.2,\"line_color\":\"red\",\"line_width\":5,\"x\":{\"field\":\"date\"},\"y\":{\"field\":\"confirmed_cases\"}},\"id\":\"9394\",\"type\":\"Line\"},{\"attributes\":{},\"id\":\"9324\",\"type\":\"BasicTicker\"},{\"attributes\":{},\"id\":\"9892\",\"type\":\"Selection\"},{\"attributes\":{\"overlay\":{\"id\":\"9333\"}},\"id\":\"9329\",\"type\":\"BoxZoomTool\"},{\"attributes\":{},\"id\":\"9417\",\"type\":\"Selection\"},{\"attributes\":{\"days\":[1,2,3,4,5,6,7,8,9,10,11,12,13,14,15,16,17,18,19,20,21,22,23,24,25,26,27,28,29,30,31]},\"id\":\"9354\",\"type\":\"DaysTicker\"},{\"attributes\":{},\"id\":\"9317\",\"type\":\"LinearScale\"},{\"attributes\":{\"line_alpha\":0.1,\"line_color\":\"red\",\"line_width\":5,\"x\":{\"field\":\"date\"},\"y\":{\"field\":\"confirmed_cases\"}},\"id\":\"9395\",\"type\":\"Line\"},{\"attributes\":{},\"id\":\"9330\",\"type\":\"SaveTool\"},{\"attributes\":{\"days\":[1,4,7,10,13,16,19,22,25,28]},\"id\":\"9355\",\"type\":\"DaysTicker\"},{\"attributes\":{\"axis\":{\"id\":\"9319\"},\"ticker\":null},\"id\":\"9322\",\"type\":\"Grid\"},{\"attributes\":{},\"id\":\"9331\",\"type\":\"ResetTool\"},{\"attributes\":{\"formatter\":{\"id\":\"9350\"},\"ticker\":{\"id\":\"9324\"}},\"id\":\"9323\",\"type\":\"LinearAxis\"},{\"attributes\":{\"days\":[1,8,15,22]},\"id\":\"9356\",\"type\":\"DaysTicker\"},{\"attributes\":{},\"id\":\"9418\",\"type\":\"UnionRenderers\"},{\"attributes\":{\"label\":{\"value\":\"7-day rolling avg (NoHo)\"},\"renderers\":[{\"id\":\"9396\"}]},\"id\":\"9420\",\"type\":\"LegendItem\"},{\"attributes\":{},\"id\":\"9332\",\"type\":\"HelpTool\"},{\"attributes\":{\"days\":[1,15]},\"id\":\"9357\",\"type\":\"DaysTicker\"},{\"attributes\":{\"months\":[0,2,4,6,8,10]},\"id\":\"9359\",\"type\":\"MonthsTicker\"},{\"attributes\":{\"num_minor_ticks\":5,\"tickers\":[{\"id\":\"9351\"},{\"id\":\"9352\"},{\"id\":\"9353\"},{\"id\":\"9354\"},{\"id\":\"9355\"},{\"id\":\"9356\"},{\"id\":\"9357\"},{\"id\":\"9358\"},{\"id\":\"9359\"},{\"id\":\"9360\"},{\"id\":\"9361\"},{\"id\":\"9362\"}]},\"id\":\"9320\",\"type\":\"DatetimeTicker\"},{\"attributes\":{\"label\":{\"value\":\"7-day rolling avg (Glendale)\"},\"renderers\":[{\"id\":\"9369\"}]},\"id\":\"9391\",\"type\":\"LegendItem\"},{\"attributes\":{\"months\":[0,1,2,3,4,5,6,7,8,9,10,11]},\"id\":\"9358\",\"type\":\"MonthsTicker\"},{\"attributes\":{\"active_drag\":\"auto\",\"active_inspect\":\"auto\",\"active_multi\":null,\"active_scroll\":\"auto\",\"active_tap\":\"auto\",\"tools\":[{\"id\":\"9327\"},{\"id\":\"9328\"},{\"id\":\"9329\"},{\"id\":\"9330\"},{\"id\":\"9331\"},{\"id\":\"9332\"}]},\"id\":\"9334\",\"type\":\"Toolbar\"},{\"attributes\":{\"source\":{\"id\":\"9421\"}},\"id\":\"9426\",\"type\":\"CDSView\"},{\"attributes\":{\"line_alpha\":0.1,\"line_color\":\"grey\",\"line_width\":5,\"x\":{\"field\":\"date\"},\"y\":{\"field\":\"new_confirmed_cases\"}},\"id\":\"9424\",\"type\":\"Line\"},{\"attributes\":{\"formatter\":{\"id\":\"9348\"},\"ticker\":{\"id\":\"9320\"}},\"id\":\"9319\",\"type\":\"DatetimeAxis\"},{\"attributes\":{\"line_alpha\":0.2,\"line_color\":\"grey\",\"line_width\":5,\"x\":{\"field\":\"date\"},\"y\":{\"field\":\"new_confirmed_cases\"}},\"id\":\"9423\",\"type\":\"Line\"},{\"attributes\":{\"line_alpha\":0.1,\"line_color\":\"navy\",\"line_width\":5,\"x\":{\"field\":\"date\"},\"y\":{\"field\":\"confirmed_cases\"}},\"id\":\"9368\",\"type\":\"Line\"},{\"attributes\":{\"months\":[0,4,8]},\"id\":\"9360\",\"type\":\"MonthsTicker\"},{\"attributes\":{\"axis\":{\"id\":\"9323\"},\"dimension\":1,\"ticker\":null},\"id\":\"9326\",\"type\":\"Grid\"},{\"attributes\":{},\"id\":\"9388\",\"type\":\"Selection\"},{\"attributes\":{\"months\":[0,6]},\"id\":\"9361\",\"type\":\"MonthsTicker\"},{\"attributes\":{\"source\":{\"id\":\"9307\"}},\"id\":\"9370\",\"type\":\"CDSView\"},{\"attributes\":{\"data_source\":{\"id\":\"9421\"},\"glyph\":{\"id\":\"9423\"},\"hover_glyph\":null,\"muted_glyph\":null,\"nonselection_glyph\":{\"id\":\"9424\"},\"selection_glyph\":null,\"view\":{\"id\":\"9426\"}},\"id\":\"9425\",\"type\":\"GlyphRenderer\"},{\"attributes\":{},\"id\":\"9362\",\"type\":\"YearsTicker\"},{\"attributes\":{},\"id\":\"9389\",\"type\":\"UnionRenderers\"},{\"attributes\":{\"bottom_units\":\"screen\",\"fill_alpha\":0.5,\"fill_color\":\"lightgrey\",\"left_units\":\"screen\",\"level\":\"overlay\",\"line_alpha\":1.0,\"line_color\":\"black\",\"line_dash\":[4,4],\"line_width\":2,\"render_mode\":\"css\",\"right_units\":\"screen\",\"top_units\":\"screen\"},\"id\":\"9333\",\"type\":\"BoxAnnotation\"},{\"attributes\":{},\"id\":\"9311\",\"type\":\"DataRange1d\"},{\"attributes\":{},\"id\":\"9448\",\"type\":\"Selection\"},{\"attributes\":{\"items\":[{\"id\":\"9365\"},{\"id\":\"9391\"},{\"id\":\"9420\"},{\"id\":\"9451\"}],\"location\":\"bottom_left\"},\"id\":\"9364\",\"type\":\"Legend\"},{\"attributes\":{\"text\":\"Glendale case growth rate (trimmed)\"},\"id\":\"9309\",\"type\":\"Title\"},{\"attributes\":{},\"id\":\"9348\",\"type\":\"DatetimeTickFormatter\"},{\"attributes\":{\"data\":{\"date\":{\"__ndarray__\":\"AADAa50Qd0IAAIDR7xB3QgAAQDdCEXdCAAAAnZQRd0IAAMAC5xF3QgAAgGg5EndCAABAzosSd0IAAAA03hJ3QgAAwJkwE3dCAACA/4ITd0IAAEBl1RN3QgAAAMsnFHdCAADAMHoUd0IAAICWzBR3QgAAQPweFXdCAAAAYnEVd0IAAMDHwxV3QgAAgC0WFndCAABAk2gWd0IAAAD5uhZ3QgAAwF4NF3dCAACAxF8Xd0IAAEAqshd3QgAAAJAEGHdCAADA9VYYd0IAAIBbqRh3QgAAQMH7GHdCAAAAJ04Zd0IAAMCMoBl3QgAAgPLyGXdCAABAWEUad0IAAAC+lxp3QgAAwCPqGndCAACAiTwbd0IAAEDvjht3QgAAAFXhG3dCAADAujMcd0IAAIAghhx3QgAAQIbYHHdCAAAA7Codd0IAAMBRfR13QgAAgLfPHXdCAABAHSIed0IAAACDdB53QgAAwOjGHndCAACAThkfd0IAAEC0ax93QgAAABq+H3dCAADAfxAgd0IAAIDlYiB3QgAAQEu1IHdCAAAAsQchd0IAAMAWWiF3QgAAgHysIXdCAABA4v4hd0IAAABIUSJ3QgAAwK2jIndCAACAE/Yid0IAAEB5SCN3QgAAAN+aI3dCAADARO0jd0IAAICqPyR3QgAAQBCSJHdCAAAAduQkd0IAAMDbNiV3QgAAgEGJJXdCAABAp9sld0IAAAANLiZ3QgAAwHKAJndCAACA2NImd0IAAEA+JSd3QgAAAKR3J3dCAADACcond0IAAIBvHCh3QgAAQNVuKHdCAAAAO8Eod0IAAMCgEyl3QgAAgAZmKXdCAABAbLgpd0I=\",\"dtype\":\"float64\",\"shape\":[79]},\"index\":[0,1,2,3,4,5,6,7,8,9,10,11,12,13,14,15,16,17,18,19,20,21,22,23,24,25,26,27,28,29,30,31,32,33,34,35,36,37,38,39,40,41,42,43,44,45,46,47,48,49,50,51,52,53,54,55,56,57,58,59,60,61,62,63,64,65,66,67,68,69,70,71,72,73,74,75,76,77,78],\"new_confirmed_cases\":{\"__ndarray__\":\"AAAAAAAA+H+JRCKRSCTyPwbK1gdLFwBAucuuu3ev+D8gbhgi79j3PwlHz6MUNvY/eNfVzz1p9T9mjjW1v7/1P6b4xblTRPU/boaKDAcx8T+nNYWmAg7yP1+POsvGFvI/j5v9+9LZ8T8ReLgyD/LwPy3sQb+ucvA/w/gcFzLw8D9HBV3S2c7vP6oLCueyQ/A/In/RBW2d7j/OsiM3JNjtP+9xoUGG4e4/a7SsLNhY8T/1ToEv9nHwPzg4BfYI6PA/R+GAS5B68T9Wt93sbRfyP1/TJHzajvE/sgV40IDD+j/qbCRy/wn4P/InrX4sh/g/EY3QRUCQ+D+mT/6x32H3P3VNdZ1lFPY/KdSCjHCE9j9Azu4I3DbwP+tjb3MwHu8/kqtaS0iM8z9ZiwChOaPyP5iCzlE18vM/WkrJvB4C9D9t1H56tBP1P682J4BYsPE/yZzkJL0q9z+181ur4BzyP9lNfFL9fvM/9fK6xUJV8j8I20Sm02bzP4erW+54+vE/k6C0WPop8z+7VMdUrzXwP5iawilLI/I/GXXx3ww+8T/FqioiTVbxP9Ja77kIgvE/Dw1VM/e68T+WqmK9D5DwPwCnOUJ+ePI/tVj6LKwN8j9f65O4FXfyP3Eyqi8tFvI/BesC1r3Z8T9vJrkXbXryPwV39nxRUvM/35mFC4y+8T+97jYp4jnwP6QQtwhN/PA/feXWPcr68j95Sjwqdw/zP3hXpZoacPI/g8GIO/bP8T9nxTuoNz7wP/MNK0RcHPE/vZC5gCWL8T9dLX+2m6fvP/YqrDUN7O4/Op3aTNOb8D+clubVJRbwP3GjV54vw/A/89kozYHg8D8=\",\"dtype\":\"float64\",\"shape\":[79]},\"new_deaths\":{\"__ndarray__\":\"AAAAAAAA+H8AAAAAAAD4P6qqqqqqqgBA4ziO4ziO+T93d3d3d/f3P9ajcD0K1/U/7+7u7u7u9T+eJezmtxD2P6WaPO4sYfU/yuPOEnbz8T9281sIGKXyP7cQMEo1efQ/hgRtGSm28z+F+9wYICbzPxfis2J02PM/L1xVeu558z9h0x1XEO3yP3H1EutsivI/ktiVd3i88D8P6mqyc9/yP/PzTgpPCfI/0uzc6UeX8T+AyreXJXLxP2fZUNOJYPI/wQ9QYPOS8j9Kroo3UsHzPxAWw+GMMvE/Z73yxGIc8T+iZGb/CZDzPxn5BPk2i/Q/6exByCrI8z8OAtpgEabzP5nXjzL+uPE/QUsO9p7+8T9Xqv8L/u/zP9nKB44e+PE/2swZMNE/8T9x2dpqq/zwP5pKUnWgg/E/+ZRs60cS8T8OqOBCcTjxP1ylf55TDfE/Im+gkBRj8T/TGwtMMiTxPzWNKQnWRvE/V5No1oYw8T+ISVfw36rxPz/EAqhaVvE/ktVN7YZr8z/fN+4N8tbxPwYdpHci1fE/xqu8ZBUP8j+hz3I/OcXxP0lTree8//E/2AfX/0u/8j9CNPeRvMftP1cAX39ER/U/tw6Ltt9m9D9Wflgp6xL0P3rH6k00pfM/41TBtsF79D+mb5/QftDzP4EmDaw1PvM/yrgx9cdi8j9ZnUCtaXD1P9eoQVC+A/U/6uDCY/aE9j/HjEstFlb1PybDnqvPnPU/J2K72dLa9j8P3FnBTHn0P/VI+W5RkvE/qbyNmgtW8j+rMKSWAivxP/UykDwj8/I/YS7bw+ip8j/7JF6mTFHxP/5Lzqhzwfc/eWcHQP2y+D8=\",\"dtype\":\"float64\",\"shape\":[79]}},\"selected\":{\"id\":\"9892\"},\"selection_policy\":{\"id\":\"9893\"}},\"id\":\"9421\",\"type\":\"ColumnDataSource\"},{\"attributes\":{},\"id\":\"9313\",\"type\":\"DataRange1d\"},{\"attributes\":{\"label\":{\"value\":\"daily case growth rate\"},\"renderers\":[{\"id\":\"9344\"}]},\"id\":\"9365\",\"type\":\"LegendItem\"},{\"attributes\":{},\"id\":\"9315\",\"type\":\"LinearScale\"},{\"attributes\":{\"source\":{\"id\":\"9306\"}},\"id\":\"9345\",\"type\":\"CDSView\"},{\"attributes\":{\"data\":{\"confirmed_cases\":{\"__ndarray__\":\"AAAAAAAA8D8AAAAAAADgP1VVVVVVVeU/AAAAAAAA9D8RERERERHxP0RERERERPQ/7u7u7u7uAkArBWr9SoEAQBnYO6YG9v4/WAwSLs3w/z8l2d76mb38P/PMG8qN+v0/NzCZMjoK+z+sgKCnihHwP9DcOolKFvI/AOn9uVbZ8j8Bq4txhkLxP54+rj3UTfA/YGDK//Vp8D+K2AMFJRHxP+B91NYW7+4/kPGNsE4C5j9RCPpxZW7nP9f5nd/5neM/vFVcxVVc6T9Dt3RLt3TnPxMWt8bAYe0/xhDoN+ye8T927EWhsJ/yP5o12MX5MfE/M89xX5PL8j+CkD2JCwX4P4ZaAh/6Evg/v+jlV4j2+D+1TCVO7DX3P5GaJNWe6/U/1f2hPUv7+D+AqEzo9aX3PzLngL59bPI/9ReNga549T8ZYR+m9wryP8NbW/wdzvE/uRVUt8jz6j+nk7hmgKAEQAUIiqyX/QJAw8ZIa1a8AUAZHJ7AqxEDQIc0czvU+gBA60TsG//UAkDvQPKSzCADQLk4UgFQr/E/Uy0awwjR9D/qMfpZDbHzP+ox+lkNsfM/mR21CPlr8j88PWA1HNzwP0vUDNJpVec/cB2f9rLn6z8VbZmbAuLoP7NP6+3PqOo/SKDMzjUV7D+gQjAPOofwP/NRxpfd9PE/CMauUd0L7j869675TEnwP2cN82ag++8/RqvCxfRG8D/fRFxfjuDxPwN4KOytvO8/2qajzsFt8D/gCyrJQb7sP18yJmMyJu8//v///////T9HkiRJkiT9P6NcyqVcyvk/p4M6qIM6AkBFa7RGa7QBQEVrtEZrtAFAOaiDOqiDAUA=\",\"dtype\":\"float64\",\"shape\":[79]},\"date\":{\"__ndarray__\":\"AABACa8Od0IAAABvAQ93QgAAQKD4D3dCAAAABksQd0IAAMBrnRB3QgAAgNHvEHdCAABAN0IRd0IAAACdlBF3QgAAwALnEXdCAACAaDkSd0IAAEDOixJ3QgAAADTeEndCAADAmTATd0IAAID/ghN3QgAAQGXVE3dCAAAAyycUd0IAAMAwehR3QgAAgJbMFHdCAABA/B4Vd0IAAABicRV3QgAAwMfDFXdCAABAk2gWd0IAAAD5uhZ3QgAAwF4NF3dCAACAxF8Xd0IAAEAqshd3QgAAAJAEGHdCAADA9VYYd0IAAIBbqRh3QgAAQMH7GHdCAAAAJ04Zd0IAAMCMoBl3QgAAgPLyGXdCAABAWEUad0IAAAC+lxp3QgAAwCPqGndCAACAiTwbd0IAAEDvjht3QgAAAFXhG3dCAADAujMcd0IAAIAghhx3QgAAAOwqHXdCAADAUX0dd0IAAIC3zx13QgAAQB0iHndCAAAAg3Qed0IAAMDoxh53QgAAgE4ZH3dCAABAtGsfd0IAAAAavh93QgAAwH8QIHdCAACA5WIgd0IAAEBLtSB3QgAAALEHIXdCAADAFlohd0IAAEDi/iF3QgAAAEhRIndCAADAraMid0IAAIAT9iJ3QgAAAN+aI3dCAADARO0jd0IAAICqPyR3QgAAQBCSJHdCAAAAduQkd0IAAMDbNiV3QgAAgEGJJXdCAABAp9sld0IAAAANLiZ3QgAAwHKAJndCAACA2NImd0IAAEA+JSd3QgAAAKR3J3dCAADACcond0IAAIBvHCh3QgAAQNVuKHdCAAAAO8Eod0IAAMCgEyl3QgAAgAZmKXdCAABAbLgpd0I=\",\"dtype\":\"float64\",\"shape\":[79]},\"index\":[0,1,2,3,4,5,6,7,8,9,10,11,12,13,14,15,16,17,18,19,20,21,22,23,24,25,26,27,28,29,30,31,32,33,34,35,36,37,38,39,40,41,42,43,44,45,46,47,48,49,50,51,52,53,54,55,56,57,58,59,60,61,62,63,64,65,66,67,68,69,70,71,72,73,74,75,76,77,78]},\"selected\":{\"id\":\"9417\"},\"selection_policy\":{\"id\":\"9418\"}},\"id\":\"9307\",\"type\":\"ColumnDataSource\"},{\"attributes\":{\"data_source\":{\"id\":\"9306\"},\"glyph\":{\"id\":\"9342\"},\"hover_glyph\":null,\"muted_glyph\":null,\"nonselection_glyph\":{\"id\":\"9343\"},\"selection_glyph\":null,\"view\":{\"id\":\"9345\"}},\"id\":\"9344\",\"type\":\"GlyphRenderer\"},{\"attributes\":{\"data_source\":{\"id\":\"9307\"},\"glyph\":{\"id\":\"9367\"},\"hover_glyph\":null,\"muted_glyph\":null,\"nonselection_glyph\":{\"id\":\"9368\"},\"selection_glyph\":null,\"view\":{\"id\":\"9370\"}},\"id\":\"9369\",\"type\":\"GlyphRenderer\"},{\"attributes\":{},\"id\":\"9449\",\"type\":\"UnionRenderers\"},{\"attributes\":{\"line_alpha\":0.5,\"line_color\":\"navy\",\"line_width\":5,\"x\":{\"field\":\"date\"},\"y\":{\"field\":\"confirmed_cases\"}},\"id\":\"9367\",\"type\":\"Line\"},{\"attributes\":{\"label\":{\"value\":\"7-day rolling avg (LA County)\"},\"renderers\":[{\"id\":\"9425\"}]},\"id\":\"9451\",\"type\":\"LegendItem\"},{\"attributes\":{},\"id\":\"9350\",\"type\":\"BasicTickFormatter\"}],\"root_ids\":[\"9308\"]},\"title\":\"Bokeh Application\",\"version\":\"2.0.2\"}};\n",
       "  var render_items = [{\"docid\":\"e4946d44-ad1d-4cd3-9552-a488436913b1\",\"root_ids\":[\"9308\"],\"roots\":{\"9308\":\"75983452-4331-4072-867f-57d9c60508a1\"}}];\n",
       "  root.Bokeh.embed.embed_items_notebook(docs_json, render_items);\n",
       "\n",
       "  }\n",
       "  if (root.Bokeh !== undefined) {\n",
       "    embed_document(root);\n",
       "  } else {\n",
       "    var attempts = 0;\n",
       "    var timer = setInterval(function(root) {\n",
       "      if (root.Bokeh !== undefined) {\n",
       "        clearInterval(timer);\n",
       "        embed_document(root);\n",
       "      } else {\n",
       "        attempts++;\n",
       "        if (attempts > 100) {\n",
       "          clearInterval(timer);\n",
       "          console.log(\"Bokeh: ERROR: Unable to run BokehJS code because BokehJS library is missing\");\n",
       "        }\n",
       "      }\n",
       "    }, 10, root)\n",
       "  }\n",
       "})(window);"
      ],
      "application/vnd.bokehjs_exec.v0+json": ""
     },
     "metadata": {
      "application/vnd.bokehjs_exec.v0+json": {
       "id": "9308"
      }
     },
     "output_type": "display_data"
    },
    {
     "data": {
      "text/html": [
       "\n",
       "\n",
       "\n",
       "\n",
       "\n",
       "\n",
       "  <div class=\"bk-root\" id=\"daedae6c-a7a7-482b-aae4-c359e553a0e9\" data-root-id=\"10053\"></div>\n"
      ]
     },
     "metadata": {},
     "output_type": "display_data"
    },
    {
     "data": {
      "application/javascript": [
       "(function(root) {\n",
       "  function embed_document(root) {\n",
       "    \n",
       "  var docs_json = {\"282be66d-85eb-461f-9f8f-301527686ade\":{\"roots\":{\"references\":[{\"attributes\":{\"below\":[{\"id\":\"10064\"}],\"center\":[{\"id\":\"10067\"},{\"id\":\"10071\"},{\"id\":\"10109\"},{\"id\":\"10197\"}],\"left\":[{\"id\":\"10068\"}],\"plot_height\":400,\"plot_width\":1000,\"renderers\":[{\"id\":\"10089\"},{\"id\":\"10114\"},{\"id\":\"10141\"},{\"id\":\"10170\"}],\"title\":{\"id\":\"10054\"},\"toolbar\":{\"id\":\"10079\"},\"x_range\":{\"id\":\"10056\"},\"x_scale\":{\"id\":\"10060\"},\"y_range\":{\"id\":\"10058\"},\"y_scale\":{\"id\":\"10062\"}},\"id\":\"10053\",\"subtype\":\"Figure\",\"type\":\"Plot\"},{\"attributes\":{\"mantissas\":[1,2,5],\"max_interval\":500.0,\"num_minor_ticks\":0},\"id\":\"10096\",\"type\":\"AdaptiveTicker\"},{\"attributes\":{\"fill_alpha\":{\"value\":0.8},\"fill_color\":{\"value\":\"navy\"},\"line_alpha\":{\"value\":0.8},\"line_color\":{\"value\":\"navy\"},\"size\":{\"units\":\"screen\",\"value\":5},\"x\":{\"field\":\"date\"},\"y\":{\"field\":\"confirmed_cases\"}},\"id\":\"10087\",\"type\":\"Circle\"},{\"attributes\":{\"fill_alpha\":{\"value\":0.1},\"fill_color\":{\"value\":\"navy\"},\"line_alpha\":{\"value\":0.1},\"line_color\":{\"value\":\"navy\"},\"size\":{\"units\":\"screen\",\"value\":5},\"x\":{\"field\":\"date\"},\"y\":{\"field\":\"confirmed_cases\"}},\"id\":\"10088\",\"type\":\"Circle\"},{\"attributes\":{\"base\":60,\"mantissas\":[1,2,5,10,15,20,30],\"max_interval\":1800000.0,\"min_interval\":1000.0,\"num_minor_ticks\":0},\"id\":\"10097\",\"type\":\"AdaptiveTicker\"},{\"attributes\":{},\"id\":\"10664\",\"type\":\"UnionRenderers\"},{\"attributes\":{\"data_source\":{\"id\":\"10137\"},\"glyph\":{\"id\":\"10139\"},\"hover_glyph\":null,\"muted_glyph\":null,\"nonselection_glyph\":{\"id\":\"10140\"},\"selection_glyph\":null,\"view\":{\"id\":\"10142\"}},\"id\":\"10141\",\"type\":\"GlyphRenderer\"},{\"attributes\":{\"line_alpha\":0.1,\"line_color\":\"red\",\"line_width\":5,\"x\":{\"field\":\"date\"},\"y\":{\"field\":\"confirmed_cases\"}},\"id\":\"10140\",\"type\":\"Line\"},{\"attributes\":{},\"id\":\"10072\",\"type\":\"PanTool\"},{\"attributes\":{\"base\":24,\"mantissas\":[1,2,4,6,8,12],\"max_interval\":43200000.0,\"min_interval\":3600000.0,\"num_minor_ticks\":0},\"id\":\"10098\",\"type\":\"AdaptiveTicker\"},{\"attributes\":{\"axis\":{\"id\":\"10068\"},\"dimension\":1,\"ticker\":null},\"id\":\"10071\",\"type\":\"Grid\"},{\"attributes\":{},\"id\":\"10073\",\"type\":\"WheelZoomTool\"},{\"attributes\":{\"days\":[1,2,3,4,5,6,7,8,9,10,11,12,13,14,15,16,17,18,19,20,21,22,23,24,25,26,27,28,29,30,31]},\"id\":\"10099\",\"type\":\"DaysTicker\"},{\"attributes\":{},\"id\":\"10162\",\"type\":\"Selection\"},{\"attributes\":{\"formatter\":{\"id\":\"10093\"},\"ticker\":{\"id\":\"10065\"}},\"id\":\"10064\",\"type\":\"DatetimeAxis\"},{\"attributes\":{\"line_alpha\":0.2,\"line_color\":\"red\",\"line_width\":5,\"x\":{\"field\":\"date\"},\"y\":{\"field\":\"confirmed_cases\"}},\"id\":\"10139\",\"type\":\"Line\"},{\"attributes\":{\"overlay\":{\"id\":\"10078\"}},\"id\":\"10074\",\"type\":\"BoxZoomTool\"},{\"attributes\":{\"days\":[1,4,7,10,13,16,19,22,25,28]},\"id\":\"10100\",\"type\":\"DaysTicker\"},{\"attributes\":{\"source\":{\"id\":\"10137\"}},\"id\":\"10142\",\"type\":\"CDSView\"},{\"attributes\":{\"formatter\":{\"id\":\"10095\"},\"ticker\":{\"id\":\"10069\"}},\"id\":\"10068\",\"type\":\"LinearAxis\"},{\"attributes\":{},\"id\":\"10075\",\"type\":\"SaveTool\"},{\"attributes\":{},\"id\":\"10069\",\"type\":\"BasicTicker\"},{\"attributes\":{\"days\":[1,8,15,22]},\"id\":\"10101\",\"type\":\"DaysTicker\"},{\"attributes\":{\"num_minor_ticks\":5,\"tickers\":[{\"id\":\"10096\"},{\"id\":\"10097\"},{\"id\":\"10098\"},{\"id\":\"10099\"},{\"id\":\"10100\"},{\"id\":\"10101\"},{\"id\":\"10102\"},{\"id\":\"10103\"},{\"id\":\"10104\"},{\"id\":\"10105\"},{\"id\":\"10106\"},{\"id\":\"10107\"}]},\"id\":\"10065\",\"type\":\"DatetimeTicker\"},{\"attributes\":{},\"id\":\"10076\",\"type\":\"ResetTool\"},{\"attributes\":{},\"id\":\"10163\",\"type\":\"UnionRenderers\"},{\"attributes\":{\"days\":[1,15]},\"id\":\"10102\",\"type\":\"DaysTicker\"},{\"attributes\":{\"months\":[0,2,4,6,8,10]},\"id\":\"10104\",\"type\":\"MonthsTicker\"},{\"attributes\":{\"label\":{\"value\":\"7-day rolling avg (NoHo)\"},\"renderers\":[{\"id\":\"10141\"}]},\"id\":\"10165\",\"type\":\"LegendItem\"},{\"attributes\":{},\"id\":\"10077\",\"type\":\"HelpTool\"},{\"attributes\":{\"data\":{\"confirmed_cases\":{\"__ndarray__\":\"AAAAAAAA4D8AAAAAAADwPwAAAAAAAPA/AAAAAAAAAAAAAAAAAAAAQAAAAAAAAPA/AAAAAAAABECamZmZmZnpPwAAAAAAAPA/AAAAAAAA4D8AAAAAAAAEQJqZmZmZmck/AAAAAAAAEEAAAAAAAAD4PwAAAAAAAOA/AAAAAAAAAEBVVVVVVVXlPwAAAAAAANA/AAAAAAAAEEAAAAAAAADoPwAAAAAAAAAAAAAAAAAA4D8AAAAAAADoP1VVVVVVVdU/AAAAAAAA8D8AAAAAAAAQQAAAAAAAAAAAVVVVVVVV1T8AAAAAAAAQQAAAAAAAAPA/AAAAAAAA9D9mZmZmZmb2P7dt27Zt2+Y/mpmZmZmZ2T8AAAAAAAAAAKuqqqqqqvo/AAAAAAAAAACamZmZmZnZPwAAAAAAAPA/AAAAAAAABEAzMzMzMzMDQAAAAAAAANA/AAAAAAAAAEBVVVVVVVXlPwAAAAAAAAhAVVVVVVVVxT8AAAAAAAD4PwAAAAAAAPA/q6qqqqqq+j8zMzMzMzPzPwAAAAAAAAAAVVVVVVVV5T8AAAAAAADwPwAAAAAAAPg/AAAAAAAAAAAAAAAAAAAAQFVVVVVVVcU/AAAAAAAAAEAAAAAAAAAAAJqZmZmZmck/AAAAAAAAAEAAAAAAAAD4PwAAAAAAAPA/AAAAAAAA8D8AAAAAAAAAQAAAAAAAAOA/VVVVVVVV1T8AAAAAAAAIQKuqqqqqqvo/MzMzMzMz4z9VVVVVVVUFQAAAAAAAAOQ/AAAAAAAA8D+amZmZmZnJPw==\",\"dtype\":\"float64\",\"shape\":[74]},\"date\":{\"__ndarray__\":\"AAAAbwEPd0IAAMDUUw93QgAAgDqmD3dCAABAoPgPd0IAAMBrnRB3QgAAgNHvEHdCAABAN0IRd0IAAACdlBF3QgAAwALnEXdCAACAaDkSd0IAAEDOixJ3QgAAADTeEndCAADAmTATd0IAAID/ghN3QgAAQGXVE3dCAAAAyycUd0IAAMAwehR3QgAAgJbMFHdCAABA/B4Vd0IAAABicRV3QgAAwMfDFXdCAABAk2gWd0IAAAD5uhZ3QgAAwF4NF3dCAACAxF8Xd0IAAEAqshd3QgAAAJAEGHdCAABAwfsYd0IAAAAnThl3QgAAwIygGXdCAACA8vIZd0IAAEBYRRp3QgAAAL6XGndCAADAI+oad0IAAICJPBt3QgAAwLozHHdCAACAIIYcd0IAAADsKh13QgAAwFF9HXdCAACAt88dd0IAAEAdIh53QgAAAIN0HndCAADA6MYed0IAAIBOGR93QgAAQLRrH3dCAAAAGr4fd0IAAMB/ECB3QgAAgOViIHdCAABAS7Ugd0IAAACxByF3QgAAwBZaIXdCAABA4v4hd0IAAABIUSJ3QgAAwK2jIndCAACAE/Yid0IAAADfmiN3QgAAwETtI3dCAACAqj8kd0IAAEAQkiR3QgAAwNs2JXdCAACAQYkld0IAAECn2yV3QgAAAA0uJndCAADAcoAmd0IAAIDY0iZ3QgAAQD4lJ3dCAAAApHcnd0IAAMAJyid3QgAAgG8cKHdCAABA1W4od0IAAAA7wSh3QgAAwKATKXdCAACABmYpd0IAAEBsuCl3Qg==\",\"dtype\":\"float64\",\"shape\":[74]},\"index\":[0,1,2,3,4,5,6,7,8,9,10,11,12,13,14,15,16,17,18,19,20,21,22,23,24,25,26,27,28,29,30,31,32,33,34,35,36,37,38,39,40,41,42,43,44,45,46,47,48,49,50,51,52,53,54,55,56,57,58,59,60,61,62,63,64,65,66,67,68,69,70,71,72,73]},\"selected\":{\"id\":\"10133\"},\"selection_policy\":{\"id\":\"10134\"}},\"id\":\"10051\",\"type\":\"ColumnDataSource\"},{\"attributes\":{\"months\":[0,1,2,3,4,5,6,7,8,9,10,11]},\"id\":\"10103\",\"type\":\"MonthsTicker\"},{\"attributes\":{\"axis\":{\"id\":\"10064\"},\"ticker\":null},\"id\":\"10067\",\"type\":\"Grid\"},{\"attributes\":{\"source\":{\"id\":\"10166\"}},\"id\":\"10171\",\"type\":\"CDSView\"},{\"attributes\":{\"active_drag\":\"auto\",\"active_inspect\":\"auto\",\"active_multi\":null,\"active_scroll\":\"auto\",\"active_tap\":\"auto\",\"tools\":[{\"id\":\"10072\"},{\"id\":\"10073\"},{\"id\":\"10074\"},{\"id\":\"10075\"},{\"id\":\"10076\"},{\"id\":\"10077\"}]},\"id\":\"10079\",\"type\":\"Toolbar\"},{\"attributes\":{},\"id\":\"10058\",\"type\":\"DataRange1d\"},{\"attributes\":{\"line_alpha\":0.1,\"line_color\":\"grey\",\"line_width\":5,\"x\":{\"field\":\"date\"},\"y\":{\"field\":\"new_confirmed_cases\"}},\"id\":\"10169\",\"type\":\"Line\"},{\"attributes\":{\"line_alpha\":0.1,\"line_color\":\"navy\",\"line_width\":5,\"x\":{\"field\":\"date\"},\"y\":{\"field\":\"confirmed_cases\"}},\"id\":\"10113\",\"type\":\"Line\"},{\"attributes\":{\"line_alpha\":0.2,\"line_color\":\"grey\",\"line_width\":5,\"x\":{\"field\":\"date\"},\"y\":{\"field\":\"new_confirmed_cases\"}},\"id\":\"10168\",\"type\":\"Line\"},{\"attributes\":{\"months\":[0,4,8]},\"id\":\"10105\",\"type\":\"MonthsTicker\"},{\"attributes\":{\"months\":[0,6]},\"id\":\"10106\",\"type\":\"MonthsTicker\"},{\"attributes\":{},\"id\":\"10134\",\"type\":\"UnionRenderers\"},{\"attributes\":{},\"id\":\"10107\",\"type\":\"YearsTicker\"},{\"attributes\":{},\"id\":\"10663\",\"type\":\"Selection\"},{\"attributes\":{\"data_source\":{\"id\":\"10166\"},\"glyph\":{\"id\":\"10168\"},\"hover_glyph\":null,\"muted_glyph\":null,\"nonselection_glyph\":{\"id\":\"10169\"},\"selection_glyph\":null,\"view\":{\"id\":\"10171\"}},\"id\":\"10170\",\"type\":\"GlyphRenderer\"},{\"attributes\":{},\"id\":\"10133\",\"type\":\"Selection\"},{\"attributes\":{\"data\":{\"confirmed_cases\":{\"__ndarray__\":\"AAAAAAAA4D8AAAAAAADoP6uqqqqqquo/AAAAAAAA5D/NzMzMzMzsP1VVVVVVVe0/AAAAAAAA9D93d3d3d3fzP3d3d3d3d/M/zczMzMzM9D+w+Iqv+Ir3P9u2bdu2bfM/kiRJkiRJ+j8AAAAAAAD4Pwd1UAd1UPc/mZmZmZmZ+T+xH/uxH/v5P2iN1miN1vQ/YRiGYRiG/T+GYRiGYRj2P6qqqqqqqvI/HMdxHMdx8D+qqqqqqqrwPziO4ziO4/A/cBzHcRzH4T/jOI7jOI7xP+M4juM4jvE/ISIiIiIi8j/d3d3d3d39P93d3d3d3f0/EBERERER9T+LJb9Y8ov5PxiTMRmTMfc//x45JGjL9D/OEnbzWwj0P1LfjocSwuo/XLYy+E/M4T+FiIiIiIjgP4WIiIiIiOg/zmkDnTbQ8T/okz7pkz71P3Z3d3d3d/E/y8zMzMzM9j8PERERERH1PyVwAidwAvs/qtEardEa+T8YrdEardH2P+V5nud5nvM/s23btm3b9j9xUAd1UAf1PxA4gRM4gfM/aMEWbMEW8D8l2IIt2ILtP2jBFmzBFvA/l/RJn/RJ5z+DiIiIiIjwPxTHcRzHcew/bRzHcRzH8T+F4ziO4zjuP+iLJb9Y8us/oU/6pE/68D+X9Emf9EnvP9nd3d3d3fE/XWZmZmZm7j+EiIiIiIj0P98rvuIrvvI/vzAMwzAM8z9RVVVVVVX1P2nbtm3btvU/yMzMzMzM9D+7CZzACZz4P3J3d3d3d/U/uwmcwAmc9j/aBE7gBE72Pw==\",\"dtype\":\"float64\",\"shape\":[74]},\"date\":{\"__ndarray__\":\"AAAAbwEPd0IAAMDUUw93QgAAgDqmD3dCAABAoPgPd0IAAMBrnRB3QgAAgNHvEHdCAABAN0IRd0IAAACdlBF3QgAAwALnEXdCAACAaDkSd0IAAEDOixJ3QgAAADTeEndCAADAmTATd0IAAID/ghN3QgAAQGXVE3dCAAAAyycUd0IAAMAwehR3QgAAgJbMFHdCAABA/B4Vd0IAAABicRV3QgAAwMfDFXdCAABAk2gWd0IAAAD5uhZ3QgAAwF4NF3dCAACAxF8Xd0IAAEAqshd3QgAAAJAEGHdCAABAwfsYd0IAAAAnThl3QgAAwIygGXdCAACA8vIZd0IAAEBYRRp3QgAAAL6XGndCAADAI+oad0IAAICJPBt3QgAAwLozHHdCAACAIIYcd0IAAADsKh13QgAAwFF9HXdCAACAt88dd0IAAEAdIh53QgAAAIN0HndCAADA6MYed0IAAIBOGR93QgAAQLRrH3dCAAAAGr4fd0IAAMB/ECB3QgAAgOViIHdCAABAS7Ugd0IAAACxByF3QgAAwBZaIXdCAABA4v4hd0IAAABIUSJ3QgAAwK2jIndCAACAE/Yid0IAAADfmiN3QgAAwETtI3dCAACAqj8kd0IAAEAQkiR3QgAAwNs2JXdCAACAQYkld0IAAECn2yV3QgAAAA0uJndCAADAcoAmd0IAAIDY0iZ3QgAAQD4lJ3dCAAAApHcnd0IAAMAJyid3QgAAgG8cKHdCAABA1W4od0IAAAA7wSh3QgAAwKATKXdCAACABmYpd0IAAEBsuCl3Qg==\",\"dtype\":\"float64\",\"shape\":[74]},\"index\":[0,1,2,3,4,5,6,7,8,9,10,11,12,13,14,15,16,17,18,19,20,21,22,23,24,25,26,27,28,29,30,31,32,33,34,35,36,37,38,39,40,41,42,43,44,45,46,47,48,49,50,51,52,53,54,55,56,57,58,59,60,61,62,63,64,65,66,67,68,69,70,71,72,73]},\"selected\":{\"id\":\"10162\"},\"selection_policy\":{\"id\":\"10163\"}},\"id\":\"10052\",\"type\":\"ColumnDataSource\"},{\"attributes\":{\"items\":[{\"id\":\"10110\"},{\"id\":\"10136\"},{\"id\":\"10165\"},{\"id\":\"10196\"}],\"location\":\"bottom_left\"},\"id\":\"10109\",\"type\":\"Legend\"},{\"attributes\":{\"label\":{\"value\":\"7-day rolling avg (Sherman Oaks)\"},\"renderers\":[{\"id\":\"10114\"}]},\"id\":\"10136\",\"type\":\"LegendItem\"},{\"attributes\":{},\"id\":\"10193\",\"type\":\"Selection\"},{\"attributes\":{\"data\":{\"date\":{\"__ndarray__\":\"AADAa50Qd0IAAIDR7xB3QgAAQDdCEXdCAAAAnZQRd0IAAMAC5xF3QgAAgGg5EndCAABAzosSd0IAAAA03hJ3QgAAwJkwE3dCAACA/4ITd0IAAEBl1RN3QgAAAMsnFHdCAADAMHoUd0IAAICWzBR3QgAAQPweFXdCAAAAYnEVd0IAAMDHwxV3QgAAgC0WFndCAABAk2gWd0IAAAD5uhZ3QgAAwF4NF3dCAACAxF8Xd0IAAEAqshd3QgAAAJAEGHdCAADA9VYYd0IAAIBbqRh3QgAAQMH7GHdCAAAAJ04Zd0IAAMCMoBl3QgAAgPLyGXdCAABAWEUad0IAAAC+lxp3QgAAwCPqGndCAACAiTwbd0IAAEDvjht3QgAAAFXhG3dCAADAujMcd0IAAIAghhx3QgAAQIbYHHdCAAAA7Codd0IAAMBRfR13QgAAgLfPHXdCAABAHSIed0IAAACDdB53QgAAwOjGHndCAACAThkfd0IAAEC0ax93QgAAABq+H3dCAADAfxAgd0IAAIDlYiB3QgAAQEu1IHdCAAAAsQchd0IAAMAWWiF3QgAAgHysIXdCAABA4v4hd0IAAABIUSJ3QgAAwK2jIndCAACAE/Yid0IAAEB5SCN3QgAAAN+aI3dCAADARO0jd0IAAICqPyR3QgAAQBCSJHdCAAAAduQkd0IAAMDbNiV3QgAAgEGJJXdCAABAp9sld0IAAAANLiZ3QgAAwHKAJndCAACA2NImd0IAAEA+JSd3QgAAAKR3J3dCAADACcond0IAAIBvHCh3QgAAQNVuKHdCAAAAO8Eod0IAAMCgEyl3QgAAgAZmKXdCAABAbLgpd0I=\",\"dtype\":\"float64\",\"shape\":[79]},\"index\":[0,1,2,3,4,5,6,7,8,9,10,11,12,13,14,15,16,17,18,19,20,21,22,23,24,25,26,27,28,29,30,31,32,33,34,35,36,37,38,39,40,41,42,43,44,45,46,47,48,49,50,51,52,53,54,55,56,57,58,59,60,61,62,63,64,65,66,67,68,69,70,71,72,73,74,75,76,77,78],\"new_confirmed_cases\":{\"__ndarray__\":\"AAAAAAAA+H+JRCKRSCTyPwbK1gdLFwBAucuuu3ev+D8gbhgi79j3PwlHz6MUNvY/eNfVzz1p9T9mjjW1v7/1P6b4xblTRPU/boaKDAcx8T+nNYWmAg7yP1+POsvGFvI/j5v9+9LZ8T8ReLgyD/LwPy3sQb+ucvA/w/gcFzLw8D9HBV3S2c7vP6oLCueyQ/A/In/RBW2d7j/OsiM3JNjtP+9xoUGG4e4/a7SsLNhY8T/1ToEv9nHwPzg4BfYI6PA/R+GAS5B68T9Wt93sbRfyP1/TJHzajvE/sgV40IDD+j/qbCRy/wn4P/InrX4sh/g/EY3QRUCQ+D+mT/6x32H3P3VNdZ1lFPY/KdSCjHCE9j9Azu4I3DbwP+tjb3MwHu8/kqtaS0iM8z9ZiwChOaPyP5iCzlE18vM/WkrJvB4C9D9t1H56tBP1P682J4BYsPE/yZzkJL0q9z+181ur4BzyP9lNfFL9fvM/9fK6xUJV8j8I20Sm02bzP4erW+54+vE/k6C0WPop8z+7VMdUrzXwP5iawilLI/I/GXXx3ww+8T/FqioiTVbxP9Ja77kIgvE/Dw1VM/e68T+WqmK9D5DwPwCnOUJ+ePI/tVj6LKwN8j9f65O4FXfyP3Eyqi8tFvI/BesC1r3Z8T9vJrkXbXryPwV39nxRUvM/35mFC4y+8T+97jYp4jnwP6QQtwhN/PA/feXWPcr68j95Sjwqdw/zP3hXpZoacPI/g8GIO/bP8T9nxTuoNz7wP/MNK0RcHPE/vZC5gCWL8T9dLX+2m6fvP/YqrDUN7O4/Op3aTNOb8D+clubVJRbwP3GjV54vw/A/89kozYHg8D8=\",\"dtype\":\"float64\",\"shape\":[79]},\"new_deaths\":{\"__ndarray__\":\"AAAAAAAA+H8AAAAAAAD4P6qqqqqqqgBA4ziO4ziO+T93d3d3d/f3P9ajcD0K1/U/7+7u7u7u9T+eJezmtxD2P6WaPO4sYfU/yuPOEnbz8T9281sIGKXyP7cQMEo1efQ/hgRtGSm28z+F+9wYICbzPxfis2J02PM/L1xVeu558z9h0x1XEO3yP3H1EutsivI/ktiVd3i88D8P6mqyc9/yP/PzTgpPCfI/0uzc6UeX8T+AyreXJXLxP2fZUNOJYPI/wQ9QYPOS8j9Kroo3UsHzPxAWw+GMMvE/Z73yxGIc8T+iZGb/CZDzPxn5BPk2i/Q/6exByCrI8z8OAtpgEabzP5nXjzL+uPE/QUsO9p7+8T9Xqv8L/u/zP9nKB44e+PE/2swZMNE/8T9x2dpqq/zwP5pKUnWgg/E/+ZRs60cS8T8OqOBCcTjxP1ylf55TDfE/Im+gkBRj8T/TGwtMMiTxPzWNKQnWRvE/V5No1oYw8T+ISVfw36rxPz/EAqhaVvE/ktVN7YZr8z/fN+4N8tbxPwYdpHci1fE/xqu8ZBUP8j+hz3I/OcXxP0lTree8//E/2AfX/0u/8j9CNPeRvMftP1cAX39ER/U/tw6Ltt9m9D9Wflgp6xL0P3rH6k00pfM/41TBtsF79D+mb5/QftDzP4EmDaw1PvM/yrgx9cdi8j9ZnUCtaXD1P9eoQVC+A/U/6uDCY/aE9j/HjEstFlb1PybDnqvPnPU/J2K72dLa9j8P3FnBTHn0P/VI+W5RkvE/qbyNmgtW8j+rMKSWAivxP/UykDwj8/I/YS7bw+ip8j/7JF6mTFHxP/5Lzqhzwfc/eWcHQP2y+D8=\",\"dtype\":\"float64\",\"shape\":[79]}},\"selected\":{\"id\":\"10663\"},\"selection_policy\":{\"id\":\"10664\"}},\"id\":\"10166\",\"type\":\"ColumnDataSource\"},{\"attributes\":{\"label\":{\"value\":\"daily case growth rate\"},\"renderers\":[{\"id\":\"10089\"}]},\"id\":\"10110\",\"type\":\"LegendItem\"},{\"attributes\":{\"bottom_units\":\"screen\",\"fill_alpha\":0.5,\"fill_color\":\"lightgrey\",\"left_units\":\"screen\",\"level\":\"overlay\",\"line_alpha\":1.0,\"line_color\":\"black\",\"line_dash\":[4,4],\"line_width\":2,\"render_mode\":\"css\",\"right_units\":\"screen\",\"top_units\":\"screen\"},\"id\":\"10078\",\"type\":\"BoxAnnotation\"},{\"attributes\":{},\"id\":\"10093\",\"type\":\"DatetimeTickFormatter\"},{\"attributes\":{},\"id\":\"10062\",\"type\":\"LinearScale\"},{\"attributes\":{\"source\":{\"id\":\"10052\"}},\"id\":\"10115\",\"type\":\"CDSView\"},{\"attributes\":{\"line_alpha\":0.5,\"line_color\":\"navy\",\"line_width\":5,\"x\":{\"field\":\"date\"},\"y\":{\"field\":\"confirmed_cases\"}},\"id\":\"10112\",\"type\":\"Line\"},{\"attributes\":{\"source\":{\"id\":\"10051\"}},\"id\":\"10090\",\"type\":\"CDSView\"},{\"attributes\":{},\"id\":\"10194\",\"type\":\"UnionRenderers\"},{\"attributes\":{},\"id\":\"10056\",\"type\":\"DataRange1d\"},{\"attributes\":{\"data_source\":{\"id\":\"10051\"},\"glyph\":{\"id\":\"10087\"},\"hover_glyph\":null,\"muted_glyph\":null,\"nonselection_glyph\":{\"id\":\"10088\"},\"selection_glyph\":null,\"view\":{\"id\":\"10090\"}},\"id\":\"10089\",\"type\":\"GlyphRenderer\"},{\"attributes\":{\"data_source\":{\"id\":\"10052\"},\"glyph\":{\"id\":\"10112\"},\"hover_glyph\":null,\"muted_glyph\":null,\"nonselection_glyph\":{\"id\":\"10113\"},\"selection_glyph\":null,\"view\":{\"id\":\"10115\"}},\"id\":\"10114\",\"type\":\"GlyphRenderer\"},{\"attributes\":{\"label\":{\"value\":\"7-day rolling avg (LA County)\"},\"renderers\":[{\"id\":\"10170\"}]},\"id\":\"10196\",\"type\":\"LegendItem\"},{\"attributes\":{\"text\":\"Sherman Oaks case growth rate (trimmed)\"},\"id\":\"10054\",\"type\":\"Title\"},{\"attributes\":{\"line_color\":\"red\",\"line_dash\":[6],\"line_width\":3,\"location\":1},\"id\":\"10197\",\"type\":\"Span\"},{\"attributes\":{},\"id\":\"10060\",\"type\":\"LinearScale\"},{\"attributes\":{},\"id\":\"10095\",\"type\":\"BasicTickFormatter\"},{\"attributes\":{\"data\":{\"confirmed_cases\":{\"__ndarray__\":\"AAAAAAAA8D8AAAAAAAD4PwAAAAAAAPA/AAAAAAAA6j8zMzMzMzPrPzMzMzMzM/c/MzMzMzMz8z+7u7u7u7v7PxzHcRzHcfg/z/M8z/M89z9hGIZhGIb5P7Ef+7Ef+/k/jdZojdZo9T+ZmZmZmZn1P5D92I/92PM/53QzbWdO8z+fzD0oIP3xP3LMroNzLec/+twSp37P1z/x7u7u7u7YPy35xZJfLO0/tmALtmAL8T++f4emIhPxPwcSrO+0N/I/jZUZeLNs8z9wwdda3yr2P1+9lkrb6fU/sF5Lpe30AkDLCx3AmsYBQMeQVevZ5wJAzb/8y7/8AkB1PddzPdcCQEEKpEAKpAFAKpESKZESAkBTIiVSIiX0P30K/SW1p/I/Dy9GuNnw+j/GnCFvR8z5P+QDd/7K6Pg/2U0W8xSI+T9z56+MriHzPzubszmbswBA7LwrMNSI9D+jKgfnQWT3P9srexbSgfQ/8AZRvdGg/T+HdkpUQZr8Pxmbk+Zl4/4/0AhvndO+9T+bWPdQxtL3P7ZDO7RDO/c/ZjzGYzzG9j+EkKGyw9TsP/sHGSo7TOw/bCTgm1cT5j9LZYepy+3dP6XiaQkS4tw/+KZ0DBA87z+Bzy1x6vfwP5CClHC4KOw/7ZBE3asO+z8Pnhb+uOD7P3qHXP55d/o/78Iu7MIu/j+JpqSGpqT4P+ZwSuNwSvk/+7Kh681r+T/jORDUVNrxP/WkG+W/5fI/gW/EcYqO8T8px/X0mC3wP4/wlieUBu4/KH0Z9E5R8z8HC0ngwbbzP6I9RNlog/I/U+70iRk08z8=\",\"dtype\":\"float64\",\"shape\":[76]},\"date\":{\"__ndarray__\":\"AAAAbwEPd0IAAMDUUw93QgAAgDqmD3dCAADAa50Qd0IAAIDR7xB3QgAAQDdCEXdCAAAAnZQRd0IAAMAC5xF3QgAAgGg5EndCAABAzosSd0IAAAA03hJ3QgAAwJkwE3dCAACA/4ITd0IAAEBl1RN3QgAAAMsnFHdCAADAMHoUd0IAAABicRV3QgAAwMfDFXdCAABAk2gWd0IAAAD5uhZ3QgAAwF4NF3dCAACAxF8Xd0IAAEAqshd3QgAAAJAEGHdCAADA9VYYd0IAAIBbqRh3QgAAQMH7GHdCAAAAJ04Zd0IAAMCMoBl3QgAAgPLyGXdCAABAWEUad0IAAAC+lxp3QgAAwCPqGndCAACAiTwbd0IAAEDvjht3QgAAAFXhG3dCAADAujMcd0IAAIAghhx3QgAAAOwqHXdCAADAUX0dd0IAAIC3zx13QgAAQB0iHndCAAAAg3Qed0IAAMDoxh53QgAAgE4ZH3dCAABAtGsfd0IAAAAavh93QgAAwH8QIHdCAACA5WIgd0IAAEBLtSB3QgAAALEHIXdCAADAFlohd0IAAEDi/iF3QgAAAEhRIndCAADAraMid0IAAIAT9iJ3QgAAAN+aI3dCAADARO0jd0IAAICqPyR3QgAAQBCSJHdCAAAAduQkd0IAAMDbNiV3QgAAgEGJJXdCAABAp9sld0IAAAANLiZ3QgAAwHKAJndCAACA2NImd0IAAEA+JSd3QgAAAKR3J3dCAADACcond0IAAIBvHCh3QgAAQNVuKHdCAAAAO8Eod0IAAMCgEyl3QgAAgAZmKXdCAABAbLgpd0I=\",\"dtype\":\"float64\",\"shape\":[76]},\"index\":[0,1,2,3,4,5,6,7,8,9,10,11,12,13,14,15,16,17,18,19,20,21,22,23,24,25,26,27,28,29,30,31,32,33,34,35,36,37,38,39,40,41,42,43,44,45,46,47,48,49,50,51,52,53,54,55,56,57,58,59,60,61,62,63,64,65,66,67,68,69,70,71,72,73,74,75]},\"selected\":{\"id\":\"10193\"},\"selection_policy\":{\"id\":\"10194\"}},\"id\":\"10137\",\"type\":\"ColumnDataSource\"}],\"root_ids\":[\"10053\"]},\"title\":\"Bokeh Application\",\"version\":\"2.0.2\"}};\n",
       "  var render_items = [{\"docid\":\"282be66d-85eb-461f-9f8f-301527686ade\",\"root_ids\":[\"10053\"],\"roots\":{\"10053\":\"daedae6c-a7a7-482b-aae4-c359e553a0e9\"}}];\n",
       "  root.Bokeh.embed.embed_items_notebook(docs_json, render_items);\n",
       "\n",
       "  }\n",
       "  if (root.Bokeh !== undefined) {\n",
       "    embed_document(root);\n",
       "  } else {\n",
       "    var attempts = 0;\n",
       "    var timer = setInterval(function(root) {\n",
       "      if (root.Bokeh !== undefined) {\n",
       "        clearInterval(timer);\n",
       "        embed_document(root);\n",
       "      } else {\n",
       "        attempts++;\n",
       "        if (attempts > 100) {\n",
       "          clearInterval(timer);\n",
       "          console.log(\"Bokeh: ERROR: Unable to run BokehJS code because BokehJS library is missing\");\n",
       "        }\n",
       "      }\n",
       "    }, 10, root)\n",
       "  }\n",
       "})(window);"
      ],
      "application/vnd.bokehjs_exec.v0+json": ""
     },
     "metadata": {
      "application/vnd.bokehjs_exec.v0+json": {
       "id": "10053"
      }
     },
     "output_type": "display_data"
    },
    {
     "data": {
      "text/html": [
       "\n",
       "\n",
       "\n",
       "\n",
       "\n",
       "\n",
       "  <div class=\"bk-root\" id=\"62cfb63c-056b-403c-9c1e-fe26db48fc22\" data-root-id=\"10824\"></div>\n"
      ]
     },
     "metadata": {},
     "output_type": "display_data"
    },
    {
     "data": {
      "application/javascript": [
       "(function(root) {\n",
       "  function embed_document(root) {\n",
       "    \n",
       "  var docs_json = {\"d4d12cbf-b563-4b61-a2d9-605ce6b06a8a\":{\"roots\":{\"references\":[{\"attributes\":{\"below\":[{\"id\":\"10835\"}],\"center\":[{\"id\":\"10838\"},{\"id\":\"10842\"},{\"id\":\"10880\"},{\"id\":\"10968\"}],\"left\":[{\"id\":\"10839\"}],\"plot_height\":400,\"plot_width\":1000,\"renderers\":[{\"id\":\"10860\"},{\"id\":\"10885\"},{\"id\":\"10912\"},{\"id\":\"10941\"}],\"title\":{\"id\":\"10825\"},\"toolbar\":{\"id\":\"10850\"},\"x_range\":{\"id\":\"10827\"},\"x_scale\":{\"id\":\"10831\"},\"y_range\":{\"id\":\"10829\"},\"y_scale\":{\"id\":\"10833\"}},\"id\":\"10824\",\"subtype\":\"Figure\",\"type\":\"Plot\"},{\"attributes\":{\"base\":60,\"mantissas\":[1,2,5,10,15,20,30],\"max_interval\":1800000.0,\"min_interval\":1000.0,\"num_minor_ticks\":0},\"id\":\"10868\",\"type\":\"AdaptiveTicker\"},{\"attributes\":{\"line_alpha\":0.1,\"line_color\":\"navy\",\"line_width\":5,\"x\":{\"field\":\"date\"},\"y\":{\"field\":\"confirmed_cases\"}},\"id\":\"10884\",\"type\":\"Line\"},{\"attributes\":{\"mantissas\":[1,2,5],\"max_interval\":500.0,\"num_minor_ticks\":0},\"id\":\"10867\",\"type\":\"AdaptiveTicker\"},{\"attributes\":{\"source\":{\"id\":\"10937\"}},\"id\":\"10942\",\"type\":\"CDSView\"},{\"attributes\":{\"data\":{\"confirmed_cases\":{\"__ndarray__\":\"AAAAAAAAAAAAAAAAAAAAAAAAAAAAAACAAAAAAAAA0D8AAAAAAAAIQFVVVVVVVdU/AAAAAAAAAAAAAAAAAAAAAAAAAAAAAAAAAAAAAAAAAIAAAAAAAAAAAAAAAAAAAAAAAAAAAAAA8D8AAAAAAADwPwAAAAAAAPA/AAAAAAAAAEAAAAAAAADwPwAAAAAAAOA/AAAAAAAA8D8AAAAAAAAAQAAAAAAAAOA/AAAAAAAAAAAAAAAAAAAAQAAAAAAAAAAAVVVVVVVV5T8AAAAAAAAAAAAAAAAAAAAAAAAAAAAAAEAAAAAAAADgPwAAAAAAAOA/AAAAAAAAAAAAAAAAAAAAAAAAAAAAAAAAAAAAAAAAAAAAAAAAAAAAAAAAAAAAAOA/AAAAAAAA8D8AAAAAAAAAAAAAAAAAAABAAAAAAAAA4D8AAAAAAADwPwAAAAAAAAAAAAAAAAAA8D8AAAAAAAAAAAAAAAAAAPA/AAAAAAAA8D8AAAAAAAAAAA==\",\"dtype\":\"float64\",\"shape\":[47]},\"date\":{\"__ndarray__\":\"AABAoPgPd0IAAMBrnRB3QgAAwALnEXdCAABAzosSd0IAAAA03hJ3QgAAwJkwE3dCAACA/4ITd0IAAICWzBR3QgAAAGJxFXdCAADAXg0Xd0IAAEAqshd3QgAAQMH7GHdCAADAjKAZd0IAAIDy8hl3QgAAQFhFGndCAAAAvpcad0IAAMAj6hp3QgAAgIk8G3dCAABA744bd0IAAABV4Rt3QgAAwLozHHdCAACAIIYcd0IAAADsKh13QgAAwFF9HXdCAABAHSIed0IAAACDdB53QgAAgE4ZH3dCAACA5WIgd0IAAEBLtSB3QgAAALEHIXdCAADAFlohd0IAAABIUSJ3QgAAgBP2IndCAAAA35ojd0IAAICqPyR3QgAAAHbkJHdCAADA2zYld0IAAIBBiSV3QgAAAA0uJndCAADAcoAmd0IAAIDY0iZ3QgAAQD4lJ3dCAADACcond0IAAIBvHCh3QgAAwKATKXdCAACABmYpd0IAAEBsuCl3Qg==\",\"dtype\":\"float64\",\"shape\":[47]},\"index\":[0,1,2,3,4,5,6,7,8,9,10,11,12,13,14,15,16,17,18,19,20,21,22,23,24,25,26,27,28,29,30,31,32,33,34,35,36,37,38,39,40,41,42,43,44,45,46]},\"selected\":{\"id\":\"10904\"},\"selection_policy\":{\"id\":\"10905\"}},\"id\":\"10822\",\"type\":\"ColumnDataSource\"},{\"attributes\":{},\"id\":\"10844\",\"type\":\"WheelZoomTool\"},{\"attributes\":{\"line_alpha\":0.2,\"line_color\":\"grey\",\"line_width\":5,\"x\":{\"field\":\"date\"},\"y\":{\"field\":\"new_confirmed_cases\"}},\"id\":\"10939\",\"type\":\"Line\"},{\"attributes\":{\"base\":24,\"mantissas\":[1,2,4,6,8,12],\"max_interval\":43200000.0,\"min_interval\":3600000.0,\"num_minor_ticks\":0},\"id\":\"10869\",\"type\":\"AdaptiveTicker\"},{\"attributes\":{\"overlay\":{\"id\":\"10849\"}},\"id\":\"10845\",\"type\":\"BoxZoomTool\"},{\"attributes\":{\"source\":{\"id\":\"10823\"}},\"id\":\"10886\",\"type\":\"CDSView\"},{\"attributes\":{\"days\":[1,2,3,4,5,6,7,8,9,10,11,12,13,14,15,16,17,18,19,20,21,22,23,24,25,26,27,28,29,30,31]},\"id\":\"10870\",\"type\":\"DaysTicker\"},{\"attributes\":{\"data_source\":{\"id\":\"10937\"},\"glyph\":{\"id\":\"10939\"},\"hover_glyph\":null,\"muted_glyph\":null,\"nonselection_glyph\":{\"id\":\"10940\"},\"selection_glyph\":null,\"view\":{\"id\":\"10942\"}},\"id\":\"10941\",\"type\":\"GlyphRenderer\"},{\"attributes\":{},\"id\":\"10846\",\"type\":\"SaveTool\"},{\"attributes\":{\"days\":[1,4,7,10,13,16,19,22,25,28]},\"id\":\"10871\",\"type\":\"DaysTicker\"},{\"attributes\":{},\"id\":\"10964\",\"type\":\"Selection\"},{\"attributes\":{\"fill_alpha\":{\"value\":0.8},\"fill_color\":{\"value\":\"navy\"},\"line_alpha\":{\"value\":0.8},\"line_color\":{\"value\":\"navy\"},\"size\":{\"units\":\"screen\",\"value\":5},\"x\":{\"field\":\"date\"},\"y\":{\"field\":\"confirmed_cases\"}},\"id\":\"10858\",\"type\":\"Circle\"},{\"attributes\":{},\"id\":\"10904\",\"type\":\"Selection\"},{\"attributes\":{\"line_alpha\":0.1,\"line_color\":\"grey\",\"line_width\":5,\"x\":{\"field\":\"date\"},\"y\":{\"field\":\"new_confirmed_cases\"}},\"id\":\"10940\",\"type\":\"Line\"},{\"attributes\":{},\"id\":\"10847\",\"type\":\"ResetTool\"},{\"attributes\":{\"days\":[1,8,15,22]},\"id\":\"10872\",\"type\":\"DaysTicker\"},{\"attributes\":{\"data\":{\"confirmed_cases\":{\"__ndarray__\":\"AAAAAAAAAAAAAAAAAAAAAAAAAAAAAAAAVVVVVVVVtT9VVVVVVVXxP6uqqqqqquw/7+7u7u7u5j+rqqqqqqrqPwAAAAAAAJA8AAAAAAAAmDwAAAAAAACYPAAAAAAAAJA8V1VVVVVV1T9VVVVVVVXlPwAAAAAAAOg/AAAAAAAA8D8AAAAAAADwP1VVVVVVVfE/SZIkSZIk8T/btm3btm3zP5IkSZIkSfI/AAAAAAAA8D8AAAAAAADwP1VVVVVVVe0/RERERERE5D8RERERERHhPxEREREREeE/VVVVVVVV5T+rqqqqqqrqPwAAAAAAAOg/AAAAAAAA6D8zMzMzMzPjPwAAAAAAAMA/AAAAAAAAAAAAAAAAAAAAAAAAAAAAAMA/AAAAAAAA2D8zMzMzMzPTP2ZmZmZmZuY/mpmZmZmZ6T+rqqqqqqrqPwAAAAAAAOg/zczMzMzM7D8AAAAAAADoPwAAAAAAAOA/AAAAAAAA6D8zMzMzMzPjPw==\",\"dtype\":\"float64\",\"shape\":[47]},\"date\":{\"__ndarray__\":\"AABAoPgPd0IAAMBrnRB3QgAAwALnEXdCAABAzosSd0IAAAA03hJ3QgAAwJkwE3dCAACA/4ITd0IAAICWzBR3QgAAAGJxFXdCAADAXg0Xd0IAAEAqshd3QgAAQMH7GHdCAADAjKAZd0IAAIDy8hl3QgAAQFhFGndCAAAAvpcad0IAAMAj6hp3QgAAgIk8G3dCAABA744bd0IAAABV4Rt3QgAAwLozHHdCAACAIIYcd0IAAADsKh13QgAAwFF9HXdCAABAHSIed0IAAACDdB53QgAAgE4ZH3dCAACA5WIgd0IAAEBLtSB3QgAAALEHIXdCAADAFlohd0IAAABIUSJ3QgAAgBP2IndCAAAA35ojd0IAAICqPyR3QgAAAHbkJHdCAADA2zYld0IAAIBBiSV3QgAAAA0uJndCAADAcoAmd0IAAIDY0iZ3QgAAQD4lJ3dCAADACcond0IAAIBvHCh3QgAAwKATKXdCAACABmYpd0IAAEBsuCl3Qg==\",\"dtype\":\"float64\",\"shape\":[47]},\"index\":[0,1,2,3,4,5,6,7,8,9,10,11,12,13,14,15,16,17,18,19,20,21,22,23,24,25,26,27,28,29,30,31,32,33,34,35,36,37,38,39,40,41,42,43,44,45,46]},\"selected\":{\"id\":\"10933\"},\"selection_policy\":{\"id\":\"10934\"}},\"id\":\"10823\",\"type\":\"ColumnDataSource\"},{\"attributes\":{},\"id\":\"10848\",\"type\":\"HelpTool\"},{\"attributes\":{\"days\":[1,15]},\"id\":\"10873\",\"type\":\"DaysTicker\"},{\"attributes\":{\"formatter\":{\"id\":\"10866\"},\"ticker\":{\"id\":\"10840\"}},\"id\":\"10839\",\"type\":\"LinearAxis\"},{\"attributes\":{},\"id\":\"10905\",\"type\":\"UnionRenderers\"},{\"attributes\":{},\"id\":\"10934\",\"type\":\"UnionRenderers\"},{\"attributes\":{\"axis\":{\"id\":\"10839\"},\"dimension\":1,\"ticker\":null},\"id\":\"10842\",\"type\":\"Grid\"},{\"attributes\":{\"months\":[0,1,2,3,4,5,6,7,8,9,10,11]},\"id\":\"10874\",\"type\":\"MonthsTicker\"},{\"attributes\":{\"active_drag\":\"auto\",\"active_inspect\":\"auto\",\"active_multi\":null,\"active_scroll\":\"auto\",\"active_tap\":\"auto\",\"tools\":[{\"id\":\"10843\"},{\"id\":\"10844\"},{\"id\":\"10845\"},{\"id\":\"10846\"},{\"id\":\"10847\"},{\"id\":\"10848\"}]},\"id\":\"10850\",\"type\":\"Toolbar\"},{\"attributes\":{},\"id\":\"10965\",\"type\":\"UnionRenderers\"},{\"attributes\":{\"line_alpha\":0.2,\"line_color\":\"red\",\"line_width\":5,\"x\":{\"field\":\"date\"},\"y\":{\"field\":\"confirmed_cases\"}},\"id\":\"10910\",\"type\":\"Line\"},{\"attributes\":{\"label\":{\"value\":\"7-day rolling avg (LA County)\"},\"renderers\":[{\"id\":\"10941\"}]},\"id\":\"10967\",\"type\":\"LegendItem\"},{\"attributes\":{},\"id\":\"10840\",\"type\":\"BasicTicker\"},{\"attributes\":{\"months\":[0,2,4,6,8,10]},\"id\":\"10875\",\"type\":\"MonthsTicker\"},{\"attributes\":{\"months\":[0,4,8]},\"id\":\"10876\",\"type\":\"MonthsTicker\"},{\"attributes\":{\"data_source\":{\"id\":\"10823\"},\"glyph\":{\"id\":\"10883\"},\"hover_glyph\":null,\"muted_glyph\":null,\"nonselection_glyph\":{\"id\":\"10884\"},\"selection_glyph\":null,\"view\":{\"id\":\"10886\"}},\"id\":\"10885\",\"type\":\"GlyphRenderer\"},{\"attributes\":{\"line_color\":\"red\",\"line_dash\":[6],\"line_width\":3,\"location\":1},\"id\":\"10968\",\"type\":\"Span\"},{\"attributes\":{\"axis\":{\"id\":\"10835\"},\"ticker\":null},\"id\":\"10838\",\"type\":\"Grid\"},{\"attributes\":{\"months\":[0,6]},\"id\":\"10877\",\"type\":\"MonthsTicker\"},{\"attributes\":{\"line_alpha\":0.1,\"line_color\":\"red\",\"line_width\":5,\"x\":{\"field\":\"date\"},\"y\":{\"field\":\"confirmed_cases\"}},\"id\":\"10911\",\"type\":\"Line\"},{\"attributes\":{\"fill_alpha\":{\"value\":0.1},\"fill_color\":{\"value\":\"navy\"},\"line_alpha\":{\"value\":0.1},\"line_color\":{\"value\":\"navy\"},\"size\":{\"units\":\"screen\",\"value\":5},\"x\":{\"field\":\"date\"},\"y\":{\"field\":\"confirmed_cases\"}},\"id\":\"10859\",\"type\":\"Circle\"},{\"attributes\":{},\"id\":\"10878\",\"type\":\"YearsTicker\"},{\"attributes\":{\"bottom_units\":\"screen\",\"fill_alpha\":0.5,\"fill_color\":\"lightgrey\",\"left_units\":\"screen\",\"level\":\"overlay\",\"line_alpha\":1.0,\"line_color\":\"black\",\"line_dash\":[4,4],\"line_width\":2,\"render_mode\":\"css\",\"right_units\":\"screen\",\"top_units\":\"screen\"},\"id\":\"10849\",\"type\":\"BoxAnnotation\"},{\"attributes\":{\"formatter\":{\"id\":\"10864\"},\"ticker\":{\"id\":\"10836\"}},\"id\":\"10835\",\"type\":\"DatetimeAxis\"},{\"attributes\":{},\"id\":\"11461\",\"type\":\"UnionRenderers\"},{\"attributes\":{\"items\":[{\"id\":\"10881\"},{\"id\":\"10907\"},{\"id\":\"10936\"},{\"id\":\"10967\"}],\"location\":\"bottom_left\"},\"id\":\"10880\",\"type\":\"Legend\"},{\"attributes\":{},\"id\":\"10831\",\"type\":\"LinearScale\"},{\"attributes\":{\"label\":{\"value\":\"daily case growth rate\"},\"renderers\":[{\"id\":\"10860\"}]},\"id\":\"10881\",\"type\":\"LegendItem\"},{\"attributes\":{\"num_minor_ticks\":5,\"tickers\":[{\"id\":\"10867\"},{\"id\":\"10868\"},{\"id\":\"10869\"},{\"id\":\"10870\"},{\"id\":\"10871\"},{\"id\":\"10872\"},{\"id\":\"10873\"},{\"id\":\"10874\"},{\"id\":\"10875\"},{\"id\":\"10876\"},{\"id\":\"10877\"},{\"id\":\"10878\"}]},\"id\":\"10836\",\"type\":\"DatetimeTicker\"},{\"attributes\":{},\"id\":\"10827\",\"type\":\"DataRange1d\"},{\"attributes\":{},\"id\":\"10864\",\"type\":\"DatetimeTickFormatter\"},{\"attributes\":{\"data_source\":{\"id\":\"10908\"},\"glyph\":{\"id\":\"10910\"},\"hover_glyph\":null,\"muted_glyph\":null,\"nonselection_glyph\":{\"id\":\"10911\"},\"selection_glyph\":null,\"view\":{\"id\":\"10913\"}},\"id\":\"10912\",\"type\":\"GlyphRenderer\"},{\"attributes\":{\"data_source\":{\"id\":\"10822\"},\"glyph\":{\"id\":\"10858\"},\"hover_glyph\":null,\"muted_glyph\":null,\"nonselection_glyph\":{\"id\":\"10859\"},\"selection_glyph\":null,\"view\":{\"id\":\"10861\"}},\"id\":\"10860\",\"type\":\"GlyphRenderer\"},{\"attributes\":{\"source\":{\"id\":\"10908\"}},\"id\":\"10913\",\"type\":\"CDSView\"},{\"attributes\":{\"source\":{\"id\":\"10822\"}},\"id\":\"10861\",\"type\":\"CDSView\"},{\"attributes\":{\"data\":{\"date\":{\"__ndarray__\":\"AADAa50Qd0IAAIDR7xB3QgAAQDdCEXdCAAAAnZQRd0IAAMAC5xF3QgAAgGg5EndCAABAzosSd0IAAAA03hJ3QgAAwJkwE3dCAACA/4ITd0IAAEBl1RN3QgAAAMsnFHdCAADAMHoUd0IAAICWzBR3QgAAQPweFXdCAAAAYnEVd0IAAMDHwxV3QgAAgC0WFndCAABAk2gWd0IAAAD5uhZ3QgAAwF4NF3dCAACAxF8Xd0IAAEAqshd3QgAAAJAEGHdCAADA9VYYd0IAAIBbqRh3QgAAQMH7GHdCAAAAJ04Zd0IAAMCMoBl3QgAAgPLyGXdCAABAWEUad0IAAAC+lxp3QgAAwCPqGndCAACAiTwbd0IAAEDvjht3QgAAAFXhG3dCAADAujMcd0IAAIAghhx3QgAAQIbYHHdCAAAA7Codd0IAAMBRfR13QgAAgLfPHXdCAABAHSIed0IAAACDdB53QgAAwOjGHndCAACAThkfd0IAAEC0ax93QgAAABq+H3dCAADAfxAgd0IAAIDlYiB3QgAAQEu1IHdCAAAAsQchd0IAAMAWWiF3QgAAgHysIXdCAABA4v4hd0IAAABIUSJ3QgAAwK2jIndCAACAE/Yid0IAAEB5SCN3QgAAAN+aI3dCAADARO0jd0IAAICqPyR3QgAAQBCSJHdCAAAAduQkd0IAAMDbNiV3QgAAgEGJJXdCAABAp9sld0IAAAANLiZ3QgAAwHKAJndCAACA2NImd0IAAEA+JSd3QgAAAKR3J3dCAADACcond0IAAIBvHCh3QgAAQNVuKHdCAAAAO8Eod0IAAMCgEyl3QgAAgAZmKXdCAABAbLgpd0I=\",\"dtype\":\"float64\",\"shape\":[79]},\"index\":[0,1,2,3,4,5,6,7,8,9,10,11,12,13,14,15,16,17,18,19,20,21,22,23,24,25,26,27,28,29,30,31,32,33,34,35,36,37,38,39,40,41,42,43,44,45,46,47,48,49,50,51,52,53,54,55,56,57,58,59,60,61,62,63,64,65,66,67,68,69,70,71,72,73,74,75,76,77,78],\"new_confirmed_cases\":{\"__ndarray__\":\"AAAAAAAA+H+JRCKRSCTyPwbK1gdLFwBAucuuu3ev+D8gbhgi79j3PwlHz6MUNvY/eNfVzz1p9T9mjjW1v7/1P6b4xblTRPU/boaKDAcx8T+nNYWmAg7yP1+POsvGFvI/j5v9+9LZ8T8ReLgyD/LwPy3sQb+ucvA/w/gcFzLw8D9HBV3S2c7vP6oLCueyQ/A/In/RBW2d7j/OsiM3JNjtP+9xoUGG4e4/a7SsLNhY8T/1ToEv9nHwPzg4BfYI6PA/R+GAS5B68T9Wt93sbRfyP1/TJHzajvE/sgV40IDD+j/qbCRy/wn4P/InrX4sh/g/EY3QRUCQ+D+mT/6x32H3P3VNdZ1lFPY/KdSCjHCE9j9Azu4I3DbwP+tjb3MwHu8/kqtaS0iM8z9ZiwChOaPyP5iCzlE18vM/WkrJvB4C9D9t1H56tBP1P682J4BYsPE/yZzkJL0q9z+181ur4BzyP9lNfFL9fvM/9fK6xUJV8j8I20Sm02bzP4erW+54+vE/k6C0WPop8z+7VMdUrzXwP5iawilLI/I/GXXx3ww+8T/FqioiTVbxP9Ja77kIgvE/Dw1VM/e68T+WqmK9D5DwPwCnOUJ+ePI/tVj6LKwN8j9f65O4FXfyP3Eyqi8tFvI/BesC1r3Z8T9vJrkXbXryPwV39nxRUvM/35mFC4y+8T+97jYp4jnwP6QQtwhN/PA/feXWPcr68j95Sjwqdw/zP3hXpZoacPI/g8GIO/bP8T9nxTuoNz7wP/MNK0RcHPE/vZC5gCWL8T9dLX+2m6fvP/YqrDUN7O4/Op3aTNOb8D+clubVJRbwP3GjV54vw/A/89kozYHg8D8=\",\"dtype\":\"float64\",\"shape\":[79]},\"new_deaths\":{\"__ndarray__\":\"AAAAAAAA+H8AAAAAAAD4P6qqqqqqqgBA4ziO4ziO+T93d3d3d/f3P9ajcD0K1/U/7+7u7u7u9T+eJezmtxD2P6WaPO4sYfU/yuPOEnbz8T9281sIGKXyP7cQMEo1efQ/hgRtGSm28z+F+9wYICbzPxfis2J02PM/L1xVeu558z9h0x1XEO3yP3H1EutsivI/ktiVd3i88D8P6mqyc9/yP/PzTgpPCfI/0uzc6UeX8T+AyreXJXLxP2fZUNOJYPI/wQ9QYPOS8j9Kroo3UsHzPxAWw+GMMvE/Z73yxGIc8T+iZGb/CZDzPxn5BPk2i/Q/6exByCrI8z8OAtpgEabzP5nXjzL+uPE/QUsO9p7+8T9Xqv8L/u/zP9nKB44e+PE/2swZMNE/8T9x2dpqq/zwP5pKUnWgg/E/+ZRs60cS8T8OqOBCcTjxP1ylf55TDfE/Im+gkBRj8T/TGwtMMiTxPzWNKQnWRvE/V5No1oYw8T+ISVfw36rxPz/EAqhaVvE/ktVN7YZr8z/fN+4N8tbxPwYdpHci1fE/xqu8ZBUP8j+hz3I/OcXxP0lTree8//E/2AfX/0u/8j9CNPeRvMftP1cAX39ER/U/tw6Ltt9m9D9Wflgp6xL0P3rH6k00pfM/41TBtsF79D+mb5/QftDzP4EmDaw1PvM/yrgx9cdi8j9ZnUCtaXD1P9eoQVC+A/U/6uDCY/aE9j/HjEstFlb1PybDnqvPnPU/J2K72dLa9j8P3FnBTHn0P/VI+W5RkvE/qbyNmgtW8j+rMKSWAivxP/UykDwj8/I/YS7bw+ip8j/7JF6mTFHxP/5Lzqhzwfc/eWcHQP2y+D8=\",\"dtype\":\"float64\",\"shape\":[79]}},\"selected\":{\"id\":\"11460\"},\"selection_policy\":{\"id\":\"11461\"}},\"id\":\"10937\",\"type\":\"ColumnDataSource\"},{\"attributes\":{},\"id\":\"10833\",\"type\":\"LinearScale\"},{\"attributes\":{},\"id\":\"10933\",\"type\":\"Selection\"},{\"attributes\":{},\"id\":\"11460\",\"type\":\"Selection\"},{\"attributes\":{\"data\":{\"confirmed_cases\":{\"__ndarray__\":\"AAAAAAAA8D8AAAAAAAD4PwAAAAAAAPA/AAAAAAAA6j8zMzMzMzPrPzMzMzMzM/c/MzMzMzMz8z+7u7u7u7v7PxzHcRzHcfg/z/M8z/M89z9hGIZhGIb5P7Ef+7Ef+/k/jdZojdZo9T+ZmZmZmZn1P5D92I/92PM/53QzbWdO8z+fzD0oIP3xP3LMroNzLec/+twSp37P1z/x7u7u7u7YPy35xZJfLO0/tmALtmAL8T++f4emIhPxPwcSrO+0N/I/jZUZeLNs8z9wwdda3yr2P1+9lkrb6fU/sF5Lpe30AkDLCx3AmsYBQMeQVevZ5wJAzb/8y7/8AkB1PddzPdcCQEEKpEAKpAFAKpESKZESAkBTIiVSIiX0P30K/SW1p/I/Dy9GuNnw+j/GnCFvR8z5P+QDd/7K6Pg/2U0W8xSI+T9z56+MriHzPzubszmbswBA7LwrMNSI9D+jKgfnQWT3P9srexbSgfQ/8AZRvdGg/T+HdkpUQZr8Pxmbk+Zl4/4/0AhvndO+9T+bWPdQxtL3P7ZDO7RDO/c/ZjzGYzzG9j+EkKGyw9TsP/sHGSo7TOw/bCTgm1cT5j9LZYepy+3dP6XiaQkS4tw/+KZ0DBA87z+Bzy1x6vfwP5CClHC4KOw/7ZBE3asO+z8Pnhb+uOD7P3qHXP55d/o/78Iu7MIu/j+JpqSGpqT4P+ZwSuNwSvk/+7Kh681r+T/jORDUVNrxP/WkG+W/5fI/gW/EcYqO8T8px/X0mC3wP4/wlieUBu4/KH0Z9E5R8z8HC0ngwbbzP6I9RNlog/I/U+70iRk08z8=\",\"dtype\":\"float64\",\"shape\":[76]},\"date\":{\"__ndarray__\":\"AAAAbwEPd0IAAMDUUw93QgAAgDqmD3dCAADAa50Qd0IAAIDR7xB3QgAAQDdCEXdCAAAAnZQRd0IAAMAC5xF3QgAAgGg5EndCAABAzosSd0IAAAA03hJ3QgAAwJkwE3dCAACA/4ITd0IAAEBl1RN3QgAAAMsnFHdCAADAMHoUd0IAAABicRV3QgAAwMfDFXdCAABAk2gWd0IAAAD5uhZ3QgAAwF4NF3dCAACAxF8Xd0IAAEAqshd3QgAAAJAEGHdCAADA9VYYd0IAAIBbqRh3QgAAQMH7GHdCAAAAJ04Zd0IAAMCMoBl3QgAAgPLyGXdCAABAWEUad0IAAAC+lxp3QgAAwCPqGndCAACAiTwbd0IAAEDvjht3QgAAAFXhG3dCAADAujMcd0IAAIAghhx3QgAAAOwqHXdCAADAUX0dd0IAAIC3zx13QgAAQB0iHndCAAAAg3Qed0IAAMDoxh53QgAAgE4ZH3dCAABAtGsfd0IAAAAavh93QgAAwH8QIHdCAACA5WIgd0IAAEBLtSB3QgAAALEHIXdCAADAFlohd0IAAEDi/iF3QgAAAEhRIndCAADAraMid0IAAIAT9iJ3QgAAAN+aI3dCAADARO0jd0IAAICqPyR3QgAAQBCSJHdCAAAAduQkd0IAAMDbNiV3QgAAgEGJJXdCAABAp9sld0IAAAANLiZ3QgAAwHKAJndCAACA2NImd0IAAEA+JSd3QgAAAKR3J3dCAADACcond0IAAIBvHCh3QgAAQNVuKHdCAAAAO8Eod0IAAMCgEyl3QgAAgAZmKXdCAABAbLgpd0I=\",\"dtype\":\"float64\",\"shape\":[76]},\"index\":[0,1,2,3,4,5,6,7,8,9,10,11,12,13,14,15,16,17,18,19,20,21,22,23,24,25,26,27,28,29,30,31,32,33,34,35,36,37,38,39,40,41,42,43,44,45,46,47,48,49,50,51,52,53,54,55,56,57,58,59,60,61,62,63,64,65,66,67,68,69,70,71,72,73,74,75]},\"selected\":{\"id\":\"10964\"},\"selection_policy\":{\"id\":\"10965\"}},\"id\":\"10908\",\"type\":\"ColumnDataSource\"},{\"attributes\":{\"label\":{\"value\":\"7-day rolling avg (NoHo)\"},\"renderers\":[{\"id\":\"10912\"}]},\"id\":\"10936\",\"type\":\"LegendItem\"},{\"attributes\":{},\"id\":\"10866\",\"type\":\"BasicTickFormatter\"},{\"attributes\":{},\"id\":\"10829\",\"type\":\"DataRange1d\"},{\"attributes\":{\"line_alpha\":0.5,\"line_color\":\"navy\",\"line_width\":5,\"x\":{\"field\":\"date\"},\"y\":{\"field\":\"confirmed_cases\"}},\"id\":\"10883\",\"type\":\"Line\"},{\"attributes\":{},\"id\":\"10843\",\"type\":\"PanTool\"},{\"attributes\":{\"label\":{\"value\":\"7-day rolling avg (Studio City)\"},\"renderers\":[{\"id\":\"10885\"}]},\"id\":\"10907\",\"type\":\"LegendItem\"},{\"attributes\":{\"text\":\"Studio City case growth rate (trimmed)\"},\"id\":\"10825\",\"type\":\"Title\"}],\"root_ids\":[\"10824\"]},\"title\":\"Bokeh Application\",\"version\":\"2.0.2\"}};\n",
       "  var render_items = [{\"docid\":\"d4d12cbf-b563-4b61-a2d9-605ce6b06a8a\",\"root_ids\":[\"10824\"],\"roots\":{\"10824\":\"62cfb63c-056b-403c-9c1e-fe26db48fc22\"}}];\n",
       "  root.Bokeh.embed.embed_items_notebook(docs_json, render_items);\n",
       "\n",
       "  }\n",
       "  if (root.Bokeh !== undefined) {\n",
       "    embed_document(root);\n",
       "  } else {\n",
       "    var attempts = 0;\n",
       "    var timer = setInterval(function(root) {\n",
       "      if (root.Bokeh !== undefined) {\n",
       "        clearInterval(timer);\n",
       "        embed_document(root);\n",
       "      } else {\n",
       "        attempts++;\n",
       "        if (attempts > 100) {\n",
       "          clearInterval(timer);\n",
       "          console.log(\"Bokeh: ERROR: Unable to run BokehJS code because BokehJS library is missing\");\n",
       "        }\n",
       "      }\n",
       "    }, 10, root)\n",
       "  }\n",
       "})(window);"
      ],
      "application/vnd.bokehjs_exec.v0+json": ""
     },
     "metadata": {
      "application/vnd.bokehjs_exec.v0+json": {
       "id": "10824"
      }
     },
     "output_type": "display_data"
    },
    {
     "data": {
      "text/html": [
       "\n",
       "\n",
       "\n",
       "\n",
       "\n",
       "\n",
       "  <div class=\"bk-root\" id=\"b859d996-723a-4db1-ba6e-20396c3d59fe\" data-root-id=\"11621\"></div>\n"
      ]
     },
     "metadata": {},
     "output_type": "display_data"
    },
    {
     "data": {
      "application/javascript": [
       "(function(root) {\n",
       "  function embed_document(root) {\n",
       "    \n",
       "  var docs_json = {\"c33f9c55-a1fd-48ce-8eb2-5b082d6be725\":{\"roots\":{\"references\":[{\"attributes\":{\"below\":[{\"id\":\"11632\"}],\"center\":[{\"id\":\"11635\"},{\"id\":\"11639\"},{\"id\":\"11677\"},{\"id\":\"11765\"}],\"left\":[{\"id\":\"11636\"}],\"plot_height\":400,\"plot_width\":1000,\"renderers\":[{\"id\":\"11657\"},{\"id\":\"11682\"},{\"id\":\"11709\"},{\"id\":\"11738\"}],\"title\":{\"id\":\"11622\"},\"toolbar\":{\"id\":\"11647\"},\"x_range\":{\"id\":\"11624\"},\"x_scale\":{\"id\":\"11628\"},\"y_range\":{\"id\":\"11626\"},\"y_scale\":{\"id\":\"11630\"}},\"id\":\"11621\",\"subtype\":\"Figure\",\"type\":\"Plot\"},{\"attributes\":{\"months\":[0,4,8]},\"id\":\"11673\",\"type\":\"MonthsTicker\"},{\"attributes\":{\"data_source\":{\"id\":\"11620\"},\"glyph\":{\"id\":\"11680\"},\"hover_glyph\":null,\"muted_glyph\":null,\"nonselection_glyph\":{\"id\":\"11681\"},\"selection_glyph\":null,\"view\":{\"id\":\"11683\"}},\"id\":\"11682\",\"type\":\"GlyphRenderer\"},{\"attributes\":{\"line_alpha\":0.1,\"line_color\":\"navy\",\"line_width\":5,\"x\":{\"field\":\"date\"},\"y\":{\"field\":\"confirmed_cases\"}},\"id\":\"11681\",\"type\":\"Line\"},{\"attributes\":{\"source\":{\"id\":\"11734\"}},\"id\":\"11739\",\"type\":\"CDSView\"},{\"attributes\":{\"line_alpha\":0.1,\"line_color\":\"grey\",\"line_width\":5,\"x\":{\"field\":\"date\"},\"y\":{\"field\":\"new_confirmed_cases\"}},\"id\":\"11737\",\"type\":\"Line\"},{\"attributes\":{\"formatter\":{\"id\":\"11661\"},\"ticker\":{\"id\":\"11633\"}},\"id\":\"11632\",\"type\":\"DatetimeAxis\"},{\"attributes\":{\"months\":[0,6]},\"id\":\"11674\",\"type\":\"MonthsTicker\"},{\"attributes\":{\"source\":{\"id\":\"11620\"}},\"id\":\"11683\",\"type\":\"CDSView\"},{\"attributes\":{\"line_alpha\":0.2,\"line_color\":\"grey\",\"line_width\":5,\"x\":{\"field\":\"date\"},\"y\":{\"field\":\"new_confirmed_cases\"}},\"id\":\"11736\",\"type\":\"Line\"},{\"attributes\":{\"text\":\"Van Nuys case growth rate (trimmed)\"},\"id\":\"11622\",\"type\":\"Title\"},{\"attributes\":{\"bottom_units\":\"screen\",\"fill_alpha\":0.5,\"fill_color\":\"lightgrey\",\"left_units\":\"screen\",\"level\":\"overlay\",\"line_alpha\":1.0,\"line_color\":\"black\",\"line_dash\":[4,4],\"line_width\":2,\"render_mode\":\"css\",\"right_units\":\"screen\",\"top_units\":\"screen\"},\"id\":\"11646\",\"type\":\"BoxAnnotation\"},{\"attributes\":{},\"id\":\"11675\",\"type\":\"YearsTicker\"},{\"attributes\":{\"data_source\":{\"id\":\"11619\"},\"glyph\":{\"id\":\"11655\"},\"hover_glyph\":null,\"muted_glyph\":null,\"nonselection_glyph\":{\"id\":\"11656\"},\"selection_glyph\":null,\"view\":{\"id\":\"11658\"}},\"id\":\"11657\",\"type\":\"GlyphRenderer\"},{\"attributes\":{\"items\":[{\"id\":\"11678\"},{\"id\":\"11704\"},{\"id\":\"11733\"},{\"id\":\"11764\"}],\"location\":\"bottom_left\"},\"id\":\"11677\",\"type\":\"Legend\"},{\"attributes\":{\"data_source\":{\"id\":\"11734\"},\"glyph\":{\"id\":\"11736\"},\"hover_glyph\":null,\"muted_glyph\":null,\"nonselection_glyph\":{\"id\":\"11737\"},\"selection_glyph\":null,\"view\":{\"id\":\"11739\"}},\"id\":\"11738\",\"type\":\"GlyphRenderer\"},{\"attributes\":{},\"id\":\"12283\",\"type\":\"Selection\"},{\"attributes\":{\"label\":{\"value\":\"daily case growth rate\"},\"renderers\":[{\"id\":\"11657\"}]},\"id\":\"11678\",\"type\":\"LegendItem\"},{\"attributes\":{\"data\":{\"confirmed_cases\":{\"__ndarray__\":\"AAAAAAAAAAAAAAAAAAAAAAAAAAAAANA/q6qqqqqq8j8AAAAAAAD4P1VVVVVVVfc/qqqqqqqq9j9bsAVbsAX1P07gBE7gBPY/Q4K2jBTb9T/uLGE3v4XwP6WaPO4sYf8/Yn1orA+N/T+rD431obH6P7RTO7VTO/k/a8EWbMEW+j9P+qRP+qT9P/NJn/RJn+g/VFVVVVVV6T/////////xP/////////E/EARBEARB8j+iKIqiKIr0P/YY/ayG2PU/VzGDDp9e9z8fsG/WHUv3P9mDWiXJhvQ/t2E4A6dk9D8Idn1Uu6n0P2qOA7bTL/I/XzC19AcG8j83/1FjrvPtP7v6WlHSq/Y/3d3d3d3d9D980id90if1P2zd1m3d1vU/+sAP/MAP8j+7yZu8yZv6P5m+QvSGhfA/RGntnjEw8z+hwOiAtY/0P/k8rtgxVfQ/4cU8wbrj9D8TN+I8vq31P9D+XfmFKfI/Sx53lrCb8z+7slQGRXnzP8/hbmQGuO4/4yPz5iPz7j/XYMLaYMLqP9dgwtpgwuo/T9g5Utg55j+WVqHSE4voP+v450fBKuo/965IU3eL6T9kiv/AUkLvP9WmxjJvCek/xJW1IV747z/HAWlgZOvuP1EJTC7AufE/a/SPkT0i8z/dA4cCTRn0P0NLtERLtPE/yqzMyqzM8T/bf2uT7UbxP46lxkUTovM/4HV27Tin8D+bolq2KLzuP59lcqwoo/A/UYidXkvO8j/AyDYXHozyP//8DJ/khvE/\",\"dtype\":\"float64\",\"shape\":[72]},\"date\":{\"__ndarray__\":\"AABAoPgPd0IAAMBrnRB3QgAAgGg5EndCAABAzosSd0IAAAA03hJ3QgAAwJkwE3dCAACA/4ITd0IAAEBl1RN3QgAAAMsnFHdCAADAMHoUd0IAAICWzBR3QgAAQPweFXdCAAAAYnEVd0IAAMDHwxV3QgAAQJNoFndCAAAA+boWd0IAAMBeDRd3QgAAgMRfF3dCAABAKrIXd0IAAACQBBh3QgAAwPVWGHdCAACAW6kYd0IAAEDB+xh3QgAAACdOGXdCAADAjKAZd0IAAIDy8hl3QgAAQFhFGndCAAAAvpcad0IAAMAj6hp3QgAAgIk8G3dCAABA744bd0IAAABV4Rt3QgAAwLozHHdCAACAIIYcd0IAAADsKh13QgAAwFF9HXdCAACAt88dd0IAAEAdIh53QgAAAIN0HndCAADA6MYed0IAAIBOGR93QgAAQLRrH3dCAAAAGr4fd0IAAMB/ECB3QgAAgOViIHdCAABAS7Ugd0IAAACxByF3QgAAwBZaIXdCAABA4v4hd0IAAABIUSJ3QgAAwK2jIndCAACAE/Yid0IAAADfmiN3QgAAwETtI3dCAACAqj8kd0IAAEAQkiR3QgAAAHbkJHdCAADA2zYld0IAAIBBiSV3QgAAQKfbJXdCAAAADS4md0IAAMBygCZ3QgAAgNjSJndCAABAPiUnd0IAAACkdyd3QgAAwAnKJ3dCAACAbxwod0IAAEDVbih3QgAAADvBKHdCAADAoBMpd0IAAIAGZil3QgAAQGy4KXdC\",\"dtype\":\"float64\",\"shape\":[72]},\"index\":[0,1,2,3,4,5,6,7,8,9,10,11,12,13,14,15,16,17,18,19,20,21,22,23,24,25,26,27,28,29,30,31,32,33,34,35,36,37,38,39,40,41,42,43,44,45,46,47,48,49,50,51,52,53,54,55,56,57,58,59,60,61,62,63,64,65,66,67,68,69,70,71]},\"selected\":{\"id\":\"11730\"},\"selection_policy\":{\"id\":\"11731\"}},\"id\":\"11620\",\"type\":\"ColumnDataSource\"},{\"attributes\":{},\"id\":\"11761\",\"type\":\"Selection\"},{\"attributes\":{\"data\":{\"date\":{\"__ndarray__\":\"AADAa50Qd0IAAIDR7xB3QgAAQDdCEXdCAAAAnZQRd0IAAMAC5xF3QgAAgGg5EndCAABAzosSd0IAAAA03hJ3QgAAwJkwE3dCAACA/4ITd0IAAEBl1RN3QgAAAMsnFHdCAADAMHoUd0IAAICWzBR3QgAAQPweFXdCAAAAYnEVd0IAAMDHwxV3QgAAgC0WFndCAABAk2gWd0IAAAD5uhZ3QgAAwF4NF3dCAACAxF8Xd0IAAEAqshd3QgAAAJAEGHdCAADA9VYYd0IAAIBbqRh3QgAAQMH7GHdCAAAAJ04Zd0IAAMCMoBl3QgAAgPLyGXdCAABAWEUad0IAAAC+lxp3QgAAwCPqGndCAACAiTwbd0IAAEDvjht3QgAAAFXhG3dCAADAujMcd0IAAIAghhx3QgAAQIbYHHdCAAAA7Codd0IAAMBRfR13QgAAgLfPHXdCAABAHSIed0IAAACDdB53QgAAwOjGHndCAACAThkfd0IAAEC0ax93QgAAABq+H3dCAADAfxAgd0IAAIDlYiB3QgAAQEu1IHdCAAAAsQchd0IAAMAWWiF3QgAAgHysIXdCAABA4v4hd0IAAABIUSJ3QgAAwK2jIndCAACAE/Yid0IAAEB5SCN3QgAAAN+aI3dCAADARO0jd0IAAICqPyR3QgAAQBCSJHdCAAAAduQkd0IAAMDbNiV3QgAAgEGJJXdCAABAp9sld0IAAAANLiZ3QgAAwHKAJndCAACA2NImd0IAAEA+JSd3QgAAAKR3J3dCAADACcond0IAAIBvHCh3QgAAQNVuKHdCAAAAO8Eod0IAAMCgEyl3QgAAgAZmKXdCAABAbLgpd0I=\",\"dtype\":\"float64\",\"shape\":[79]},\"index\":[0,1,2,3,4,5,6,7,8,9,10,11,12,13,14,15,16,17,18,19,20,21,22,23,24,25,26,27,28,29,30,31,32,33,34,35,36,37,38,39,40,41,42,43,44,45,46,47,48,49,50,51,52,53,54,55,56,57,58,59,60,61,62,63,64,65,66,67,68,69,70,71,72,73,74,75,76,77,78],\"new_confirmed_cases\":{\"__ndarray__\":\"AAAAAAAA+H+JRCKRSCTyPwbK1gdLFwBAucuuu3ev+D8gbhgi79j3PwlHz6MUNvY/eNfVzz1p9T9mjjW1v7/1P6b4xblTRPU/boaKDAcx8T+nNYWmAg7yP1+POsvGFvI/j5v9+9LZ8T8ReLgyD/LwPy3sQb+ucvA/w/gcFzLw8D9HBV3S2c7vP6oLCueyQ/A/In/RBW2d7j/OsiM3JNjtP+9xoUGG4e4/a7SsLNhY8T/1ToEv9nHwPzg4BfYI6PA/R+GAS5B68T9Wt93sbRfyP1/TJHzajvE/sgV40IDD+j/qbCRy/wn4P/InrX4sh/g/EY3QRUCQ+D+mT/6x32H3P3VNdZ1lFPY/KdSCjHCE9j9Azu4I3DbwP+tjb3MwHu8/kqtaS0iM8z9ZiwChOaPyP5iCzlE18vM/WkrJvB4C9D9t1H56tBP1P682J4BYsPE/yZzkJL0q9z+181ur4BzyP9lNfFL9fvM/9fK6xUJV8j8I20Sm02bzP4erW+54+vE/k6C0WPop8z+7VMdUrzXwP5iawilLI/I/GXXx3ww+8T/FqioiTVbxP9Ja77kIgvE/Dw1VM/e68T+WqmK9D5DwPwCnOUJ+ePI/tVj6LKwN8j9f65O4FXfyP3Eyqi8tFvI/BesC1r3Z8T9vJrkXbXryPwV39nxRUvM/35mFC4y+8T+97jYp4jnwP6QQtwhN/PA/feXWPcr68j95Sjwqdw/zP3hXpZoacPI/g8GIO/bP8T9nxTuoNz7wP/MNK0RcHPE/vZC5gCWL8T9dLX+2m6fvP/YqrDUN7O4/Op3aTNOb8D+clubVJRbwP3GjV54vw/A/89kozYHg8D8=\",\"dtype\":\"float64\",\"shape\":[79]},\"new_deaths\":{\"__ndarray__\":\"AAAAAAAA+H8AAAAAAAD4P6qqqqqqqgBA4ziO4ziO+T93d3d3d/f3P9ajcD0K1/U/7+7u7u7u9T+eJezmtxD2P6WaPO4sYfU/yuPOEnbz8T9281sIGKXyP7cQMEo1efQ/hgRtGSm28z+F+9wYICbzPxfis2J02PM/L1xVeu558z9h0x1XEO3yP3H1EutsivI/ktiVd3i88D8P6mqyc9/yP/PzTgpPCfI/0uzc6UeX8T+AyreXJXLxP2fZUNOJYPI/wQ9QYPOS8j9Kroo3UsHzPxAWw+GMMvE/Z73yxGIc8T+iZGb/CZDzPxn5BPk2i/Q/6exByCrI8z8OAtpgEabzP5nXjzL+uPE/QUsO9p7+8T9Xqv8L/u/zP9nKB44e+PE/2swZMNE/8T9x2dpqq/zwP5pKUnWgg/E/+ZRs60cS8T8OqOBCcTjxP1ylf55TDfE/Im+gkBRj8T/TGwtMMiTxPzWNKQnWRvE/V5No1oYw8T+ISVfw36rxPz/EAqhaVvE/ktVN7YZr8z/fN+4N8tbxPwYdpHci1fE/xqu8ZBUP8j+hz3I/OcXxP0lTree8//E/2AfX/0u/8j9CNPeRvMftP1cAX39ER/U/tw6Ltt9m9D9Wflgp6xL0P3rH6k00pfM/41TBtsF79D+mb5/QftDzP4EmDaw1PvM/yrgx9cdi8j9ZnUCtaXD1P9eoQVC+A/U/6uDCY/aE9j/HjEstFlb1PybDnqvPnPU/J2K72dLa9j8P3FnBTHn0P/VI+W5RkvE/qbyNmgtW8j+rMKSWAivxP/UykDwj8/I/YS7bw+ip8j/7JF6mTFHxP/5Lzqhzwfc/eWcHQP2y+D8=\",\"dtype\":\"float64\",\"shape\":[79]}},\"selected\":{\"id\":\"12283\"},\"selection_policy\":{\"id\":\"12284\"}},\"id\":\"11734\",\"type\":\"ColumnDataSource\"},{\"attributes\":{},\"id\":\"11624\",\"type\":\"DataRange1d\"},{\"attributes\":{},\"id\":\"11701\",\"type\":\"Selection\"},{\"attributes\":{},\"id\":\"11661\",\"type\":\"DatetimeTickFormatter\"},{\"attributes\":{\"active_drag\":\"auto\",\"active_inspect\":\"auto\",\"active_multi\":null,\"active_scroll\":\"auto\",\"active_tap\":\"auto\",\"tools\":[{\"id\":\"11640\"},{\"id\":\"11641\"},{\"id\":\"11642\"},{\"id\":\"11643\"},{\"id\":\"11644\"},{\"id\":\"11645\"}]},\"id\":\"11647\",\"type\":\"Toolbar\"},{\"attributes\":{},\"id\":\"11628\",\"type\":\"LinearScale\"},{\"attributes\":{\"source\":{\"id\":\"11619\"}},\"id\":\"11658\",\"type\":\"CDSView\"},{\"attributes\":{\"fill_alpha\":{\"value\":0.8},\"fill_color\":{\"value\":\"navy\"},\"line_alpha\":{\"value\":0.8},\"line_color\":{\"value\":\"navy\"},\"size\":{\"units\":\"screen\",\"value\":5},\"x\":{\"field\":\"date\"},\"y\":{\"field\":\"confirmed_cases\"}},\"id\":\"11655\",\"type\":\"Circle\"},{\"attributes\":{},\"id\":\"11702\",\"type\":\"UnionRenderers\"},{\"attributes\":{},\"id\":\"11762\",\"type\":\"UnionRenderers\"},{\"attributes\":{\"label\":{\"value\":\"7-day rolling avg (Van Nuys)\"},\"renderers\":[{\"id\":\"11682\"}]},\"id\":\"11704\",\"type\":\"LegendItem\"},{\"attributes\":{\"line_alpha\":0.5,\"line_color\":\"navy\",\"line_width\":5,\"x\":{\"field\":\"date\"},\"y\":{\"field\":\"confirmed_cases\"}},\"id\":\"11680\",\"type\":\"Line\"},{\"attributes\":{\"label\":{\"value\":\"7-day rolling avg (LA County)\"},\"renderers\":[{\"id\":\"11738\"}]},\"id\":\"11764\",\"type\":\"LegendItem\"},{\"attributes\":{},\"id\":\"11663\",\"type\":\"BasicTickFormatter\"},{\"attributes\":{},\"id\":\"11626\",\"type\":\"DataRange1d\"},{\"attributes\":{\"line_color\":\"red\",\"line_dash\":[6],\"line_width\":3,\"location\":1},\"id\":\"11765\",\"type\":\"Span\"},{\"attributes\":{\"mantissas\":[1,2,5],\"max_interval\":500.0,\"num_minor_ticks\":0},\"id\":\"11664\",\"type\":\"AdaptiveTicker\"},{\"attributes\":{\"months\":[0,2,4,6,8,10]},\"id\":\"11672\",\"type\":\"MonthsTicker\"},{\"attributes\":{\"data_source\":{\"id\":\"11705\"},\"glyph\":{\"id\":\"11707\"},\"hover_glyph\":null,\"muted_glyph\":null,\"nonselection_glyph\":{\"id\":\"11708\"},\"selection_glyph\":null,\"view\":{\"id\":\"11710\"}},\"id\":\"11709\",\"type\":\"GlyphRenderer\"},{\"attributes\":{\"base\":60,\"mantissas\":[1,2,5,10,15,20,30],\"max_interval\":1800000.0,\"min_interval\":1000.0,\"num_minor_ticks\":0},\"id\":\"11665\",\"type\":\"AdaptiveTicker\"},{\"attributes\":{\"axis\":{\"id\":\"11636\"},\"dimension\":1,\"ticker\":null},\"id\":\"11639\",\"type\":\"Grid\"},{\"attributes\":{},\"id\":\"12284\",\"type\":\"UnionRenderers\"},{\"attributes\":{\"formatter\":{\"id\":\"11663\"},\"ticker\":{\"id\":\"11637\"}},\"id\":\"11636\",\"type\":\"LinearAxis\"},{\"attributes\":{\"line_alpha\":0.1,\"line_color\":\"red\",\"line_width\":5,\"x\":{\"field\":\"date\"},\"y\":{\"field\":\"confirmed_cases\"}},\"id\":\"11708\",\"type\":\"Line\"},{\"attributes\":{\"base\":24,\"mantissas\":[1,2,4,6,8,12],\"max_interval\":43200000.0,\"min_interval\":3600000.0,\"num_minor_ticks\":0},\"id\":\"11666\",\"type\":\"AdaptiveTicker\"},{\"attributes\":{},\"id\":\"11637\",\"type\":\"BasicTicker\"},{\"attributes\":{\"days\":[1,2,3,4,5,6,7,8,9,10,11,12,13,14,15,16,17,18,19,20,21,22,23,24,25,26,27,28,29,30,31]},\"id\":\"11667\",\"type\":\"DaysTicker\"},{\"attributes\":{\"fill_alpha\":{\"value\":0.1},\"fill_color\":{\"value\":\"navy\"},\"line_alpha\":{\"value\":0.1},\"line_color\":{\"value\":\"navy\"},\"size\":{\"units\":\"screen\",\"value\":5},\"x\":{\"field\":\"date\"},\"y\":{\"field\":\"confirmed_cases\"}},\"id\":\"11656\",\"type\":\"Circle\"},{\"attributes\":{},\"id\":\"11730\",\"type\":\"Selection\"},{\"attributes\":{\"data\":{\"confirmed_cases\":{\"__ndarray__\":\"AAAAAAAAAAAAAAAAAAAAAAAAAAAAAOA/AAAAAAAACEAAAAAAAADwP1VVVVVVVfU/AAAAAAAA9D+amZmZmZnpPwAAAAAAAPw/27Zt27Zt2z9VVVVVVVXlPxEREREREeE/AAAAAAAAAABVVVVVVVXVPwAAAAAAAOg/AAAAAAAAAEAAAAAAAADwP1VVVVVVVeU/AAAAAAAAAEAAAAAAAADyPxzHcRzHcdw/AAAAAAAA/D8lSZIkSZIEQKuqqqqqqvo/RERERERE5D82lNdQXkPpPxEREREREfE/AAAAAAAA4j9VVVVVVVXlPwAAAAAAAARAVVVVVVVV1T8AAAAAAAAQQAAAAAAAAAAAvLu7u7u72z+e2Imd2IntP1VVVVVVVfE/7MRO7MRODEC96U1vetPLPwAAAAAAAPA/zczMzMzM/D9VVVVVVVXVP6uqqqqqqvI/t23btm3b9j8AAAAAAAAAQDMzMzMzM+s/Hh4eHh4e7j8AAAAAAAAAAKuqqqqqquI/JUmSJEmS5D8AAAAAAAAAQAAAAAAAAAAAOL3pTW964z9JkiRJkiTxP97d3d3d3d0/27Zt27Zt+z+rqqqqqqrqP83MzMzMzPQ/2Ymd2Imd6D+amZmZmZn5PwAAAAAAAPs/HMdxHMdx7D9VVVVVVVXlPwAAAAAAAOw/SZIkSZIk8T/NzMzMzMz8P2gvob2E9tI/AAAAAAAA8j/HcRzHcRz3P4qd2Imd2Pk/GIZhGIZh6D8AAAAAAADkPw==\",\"dtype\":\"float64\",\"shape\":[71]},\"date\":{\"__ndarray__\":\"AABAoPgPd0IAAMBrnRB3QgAAgGg5EndCAABAzosSd0IAAAA03hJ3QgAAwJkwE3dCAACA/4ITd0IAAEBl1RN3QgAAAMsnFHdCAADAMHoUd0IAAICWzBR3QgAAAGJxFXdCAADAx8MVd0IAAECTaBZ3QgAAAPm6FndCAADAXg0Xd0IAAIDEXxd3QgAAQCqyF3dCAAAAkAQYd0IAAMD1Vhh3QgAAgFupGHdCAABAwfsYd0IAAAAnThl3QgAAwIygGXdCAACA8vIZd0IAAEBYRRp3QgAAAL6XGndCAADAI+oad0IAAICJPBt3QgAAQO+OG3dCAAAAVeEbd0IAAMC6Mxx3QgAAgCCGHHdCAAAA7Codd0IAAMBRfR13QgAAgLfPHXdCAABAHSIed0IAAACDdB53QgAAwOjGHndCAACAThkfd0IAAEC0ax93QgAAABq+H3dCAADAfxAgd0IAAIDlYiB3QgAAQEu1IHdCAAAAsQchd0IAAMAWWiF3QgAAQOL+IXdCAAAASFEid0IAAMCtoyJ3QgAAgBP2IndCAAAA35ojd0IAAMBE7SN3QgAAgKo/JHdCAABAEJIkd0IAAAB25CR3QgAAwNs2JXdCAACAQYkld0IAAECn2yV3QgAAAA0uJndCAADAcoAmd0IAAIDY0iZ3QgAAQD4lJ3dCAAAApHcnd0IAAMAJyid3QgAAgG8cKHdCAABA1W4od0IAAAA7wSh3QgAAwKATKXdCAACABmYpd0IAAEBsuCl3Qg==\",\"dtype\":\"float64\",\"shape\":[71]},\"index\":[0,1,2,3,4,5,6,7,8,9,10,11,12,13,14,15,16,17,18,19,20,21,22,23,24,25,26,27,28,29,30,31,32,33,34,35,36,37,38,39,40,41,42,43,44,45,46,47,48,49,50,51,52,53,54,55,56,57,58,59,60,61,62,63,64,65,66,67,68,69,70]},\"selected\":{\"id\":\"11701\"},\"selection_policy\":{\"id\":\"11702\"}},\"id\":\"11619\",\"type\":\"ColumnDataSource\"},{\"attributes\":{\"data\":{\"confirmed_cases\":{\"__ndarray__\":\"AAAAAAAA8D8AAAAAAAD4PwAAAAAAAPA/AAAAAAAA6j8zMzMzMzPrPzMzMzMzM/c/MzMzMzMz8z+7u7u7u7v7PxzHcRzHcfg/z/M8z/M89z9hGIZhGIb5P7Ef+7Ef+/k/jdZojdZo9T+ZmZmZmZn1P5D92I/92PM/53QzbWdO8z+fzD0oIP3xP3LMroNzLec/+twSp37P1z/x7u7u7u7YPy35xZJfLO0/tmALtmAL8T++f4emIhPxPwcSrO+0N/I/jZUZeLNs8z9wwdda3yr2P1+9lkrb6fU/sF5Lpe30AkDLCx3AmsYBQMeQVevZ5wJAzb/8y7/8AkB1PddzPdcCQEEKpEAKpAFAKpESKZESAkBTIiVSIiX0P30K/SW1p/I/Dy9GuNnw+j/GnCFvR8z5P+QDd/7K6Pg/2U0W8xSI+T9z56+MriHzPzubszmbswBA7LwrMNSI9D+jKgfnQWT3P9srexbSgfQ/8AZRvdGg/T+HdkpUQZr8Pxmbk+Zl4/4/0AhvndO+9T+bWPdQxtL3P7ZDO7RDO/c/ZjzGYzzG9j+EkKGyw9TsP/sHGSo7TOw/bCTgm1cT5j9LZYepy+3dP6XiaQkS4tw/+KZ0DBA87z+Bzy1x6vfwP5CClHC4KOw/7ZBE3asO+z8Pnhb+uOD7P3qHXP55d/o/78Iu7MIu/j+JpqSGpqT4P+ZwSuNwSvk/+7Kh681r+T/jORDUVNrxP/WkG+W/5fI/gW/EcYqO8T8px/X0mC3wP4/wlieUBu4/KH0Z9E5R8z8HC0ngwbbzP6I9RNlog/I/U+70iRk08z8=\",\"dtype\":\"float64\",\"shape\":[76]},\"date\":{\"__ndarray__\":\"AAAAbwEPd0IAAMDUUw93QgAAgDqmD3dCAADAa50Qd0IAAIDR7xB3QgAAQDdCEXdCAAAAnZQRd0IAAMAC5xF3QgAAgGg5EndCAABAzosSd0IAAAA03hJ3QgAAwJkwE3dCAACA/4ITd0IAAEBl1RN3QgAAAMsnFHdCAADAMHoUd0IAAABicRV3QgAAwMfDFXdCAABAk2gWd0IAAAD5uhZ3QgAAwF4NF3dCAACAxF8Xd0IAAEAqshd3QgAAAJAEGHdCAADA9VYYd0IAAIBbqRh3QgAAQMH7GHdCAAAAJ04Zd0IAAMCMoBl3QgAAgPLyGXdCAABAWEUad0IAAAC+lxp3QgAAwCPqGndCAACAiTwbd0IAAEDvjht3QgAAAFXhG3dCAADAujMcd0IAAIAghhx3QgAAAOwqHXdCAADAUX0dd0IAAIC3zx13QgAAQB0iHndCAAAAg3Qed0IAAMDoxh53QgAAgE4ZH3dCAABAtGsfd0IAAAAavh93QgAAwH8QIHdCAACA5WIgd0IAAEBLtSB3QgAAALEHIXdCAADAFlohd0IAAEDi/iF3QgAAAEhRIndCAADAraMid0IAAIAT9iJ3QgAAAN+aI3dCAADARO0jd0IAAICqPyR3QgAAQBCSJHdCAAAAduQkd0IAAMDbNiV3QgAAgEGJJXdCAABAp9sld0IAAAANLiZ3QgAAwHKAJndCAACA2NImd0IAAEA+JSd3QgAAAKR3J3dCAADACcond0IAAIBvHCh3QgAAQNVuKHdCAAAAO8Eod0IAAMCgEyl3QgAAgAZmKXdCAABAbLgpd0I=\",\"dtype\":\"float64\",\"shape\":[76]},\"index\":[0,1,2,3,4,5,6,7,8,9,10,11,12,13,14,15,16,17,18,19,20,21,22,23,24,25,26,27,28,29,30,31,32,33,34,35,36,37,38,39,40,41,42,43,44,45,46,47,48,49,50,51,52,53,54,55,56,57,58,59,60,61,62,63,64,65,66,67,68,69,70,71,72,73,74,75]},\"selected\":{\"id\":\"11761\"},\"selection_policy\":{\"id\":\"11762\"}},\"id\":\"11705\",\"type\":\"ColumnDataSource\"},{\"attributes\":{},\"id\":\"11640\",\"type\":\"PanTool\"},{\"attributes\":{\"line_alpha\":0.2,\"line_color\":\"red\",\"line_width\":5,\"x\":{\"field\":\"date\"},\"y\":{\"field\":\"confirmed_cases\"}},\"id\":\"11707\",\"type\":\"Line\"},{\"attributes\":{\"overlay\":{\"id\":\"11646\"}},\"id\":\"11642\",\"type\":\"BoxZoomTool\"},{\"attributes\":{\"axis\":{\"id\":\"11632\"},\"ticker\":null},\"id\":\"11635\",\"type\":\"Grid\"},{\"attributes\":{\"days\":[1,4,7,10,13,16,19,22,25,28]},\"id\":\"11668\",\"type\":\"DaysTicker\"},{\"attributes\":{\"source\":{\"id\":\"11705\"}},\"id\":\"11710\",\"type\":\"CDSView\"},{\"attributes\":{},\"id\":\"11644\",\"type\":\"ResetTool\"},{\"attributes\":{\"days\":[1,8,15,22]},\"id\":\"11669\",\"type\":\"DaysTicker\"},{\"attributes\":{},\"id\":\"11641\",\"type\":\"WheelZoomTool\"},{\"attributes\":{\"num_minor_ticks\":5,\"tickers\":[{\"id\":\"11664\"},{\"id\":\"11665\"},{\"id\":\"11666\"},{\"id\":\"11667\"},{\"id\":\"11668\"},{\"id\":\"11669\"},{\"id\":\"11670\"},{\"id\":\"11671\"},{\"id\":\"11672\"},{\"id\":\"11673\"},{\"id\":\"11674\"},{\"id\":\"11675\"}]},\"id\":\"11633\",\"type\":\"DatetimeTicker\"},{\"attributes\":{\"days\":[1,15]},\"id\":\"11670\",\"type\":\"DaysTicker\"},{\"attributes\":{},\"id\":\"11731\",\"type\":\"UnionRenderers\"},{\"attributes\":{},\"id\":\"11643\",\"type\":\"SaveTool\"},{\"attributes\":{\"label\":{\"value\":\"7-day rolling avg (NoHo)\"},\"renderers\":[{\"id\":\"11709\"}]},\"id\":\"11733\",\"type\":\"LegendItem\"},{\"attributes\":{},\"id\":\"11645\",\"type\":\"HelpTool\"},{\"attributes\":{\"months\":[0,1,2,3,4,5,6,7,8,9,10,11]},\"id\":\"11671\",\"type\":\"MonthsTicker\"},{\"attributes\":{},\"id\":\"11630\",\"type\":\"LinearScale\"}],\"root_ids\":[\"11621\"]},\"title\":\"Bokeh Application\",\"version\":\"2.0.2\"}};\n",
       "  var render_items = [{\"docid\":\"c33f9c55-a1fd-48ce-8eb2-5b082d6be725\",\"root_ids\":[\"11621\"],\"roots\":{\"11621\":\"b859d996-723a-4db1-ba6e-20396c3d59fe\"}}];\n",
       "  root.Bokeh.embed.embed_items_notebook(docs_json, render_items);\n",
       "\n",
       "  }\n",
       "  if (root.Bokeh !== undefined) {\n",
       "    embed_document(root);\n",
       "  } else {\n",
       "    var attempts = 0;\n",
       "    var timer = setInterval(function(root) {\n",
       "      if (root.Bokeh !== undefined) {\n",
       "        clearInterval(timer);\n",
       "        embed_document(root);\n",
       "      } else {\n",
       "        attempts++;\n",
       "        if (attempts > 100) {\n",
       "          clearInterval(timer);\n",
       "          console.log(\"Bokeh: ERROR: Unable to run BokehJS code because BokehJS library is missing\");\n",
       "        }\n",
       "      }\n",
       "    }, 10, root)\n",
       "  }\n",
       "})(window);"
      ],
      "application/vnd.bokehjs_exec.v0+json": ""
     },
     "metadata": {
      "application/vnd.bokehjs_exec.v0+json": {
       "id": "11621"
      }
     },
     "output_type": "display_data"
    },
    {
     "data": {
      "text/html": [
       "\n",
       "\n",
       "\n",
       "\n",
       "\n",
       "\n",
       "  <div class=\"bk-root\" id=\"00931f36-af23-4323-bd52-2f54a7282349\" data-root-id=\"12444\"></div>\n"
      ]
     },
     "metadata": {},
     "output_type": "display_data"
    },
    {
     "data": {
      "application/javascript": [
       "(function(root) {\n",
       "  function embed_document(root) {\n",
       "    \n",
       "  var docs_json = {\"0e546999-e781-4b5c-bd05-76b8590edae8\":{\"roots\":{\"references\":[{\"attributes\":{\"below\":[{\"id\":\"12455\"}],\"center\":[{\"id\":\"12458\"},{\"id\":\"12462\"},{\"id\":\"12500\"},{\"id\":\"12588\"}],\"left\":[{\"id\":\"12459\"}],\"plot_height\":400,\"plot_width\":1000,\"renderers\":[{\"id\":\"12480\"},{\"id\":\"12505\"},{\"id\":\"12532\"},{\"id\":\"12561\"}],\"title\":{\"id\":\"12445\"},\"toolbar\":{\"id\":\"12470\"},\"x_range\":{\"id\":\"12447\"},\"x_scale\":{\"id\":\"12451\"},\"y_range\":{\"id\":\"12449\"},\"y_scale\":{\"id\":\"12453\"}},\"id\":\"12444\",\"subtype\":\"Figure\",\"type\":\"Plot\"},{\"attributes\":{\"text\":\"Valley Glen case growth rate (trimmed)\"},\"id\":\"12445\",\"type\":\"Title\"},{\"attributes\":{\"months\":[0,4,8]},\"id\":\"12496\",\"type\":\"MonthsTicker\"},{\"attributes\":{\"source\":{\"id\":\"12557\"}},\"id\":\"12562\",\"type\":\"CDSView\"},{\"attributes\":{},\"id\":\"12584\",\"type\":\"Selection\"},{\"attributes\":{\"months\":[0,6]},\"id\":\"12497\",\"type\":\"MonthsTicker\"},{\"attributes\":{\"line_alpha\":0.2,\"line_color\":\"grey\",\"line_width\":5,\"x\":{\"field\":\"date\"},\"y\":{\"field\":\"new_confirmed_cases\"}},\"id\":\"12559\",\"type\":\"Line\"},{\"attributes\":{\"formatter\":{\"id\":\"12484\"},\"ticker\":{\"id\":\"12456\"}},\"id\":\"12455\",\"type\":\"DatetimeAxis\"},{\"attributes\":{},\"id\":\"12498\",\"type\":\"YearsTicker\"},{\"attributes\":{},\"id\":\"12524\",\"type\":\"Selection\"},{\"attributes\":{\"num_minor_ticks\":5,\"tickers\":[{\"id\":\"12487\"},{\"id\":\"12488\"},{\"id\":\"12489\"},{\"id\":\"12490\"},{\"id\":\"12491\"},{\"id\":\"12492\"},{\"id\":\"12493\"},{\"id\":\"12494\"},{\"id\":\"12495\"},{\"id\":\"12496\"},{\"id\":\"12497\"},{\"id\":\"12498\"}]},\"id\":\"12456\",\"type\":\"DatetimeTicker\"},{\"attributes\":{\"line_alpha\":0.1,\"line_color\":\"navy\",\"line_width\":5,\"x\":{\"field\":\"date\"},\"y\":{\"field\":\"confirmed_cases\"}},\"id\":\"12504\",\"type\":\"Line\"},{\"attributes\":{\"data\":{\"date\":{\"__ndarray__\":\"AADAa50Qd0IAAIDR7xB3QgAAQDdCEXdCAAAAnZQRd0IAAMAC5xF3QgAAgGg5EndCAABAzosSd0IAAAA03hJ3QgAAwJkwE3dCAACA/4ITd0IAAEBl1RN3QgAAAMsnFHdCAADAMHoUd0IAAICWzBR3QgAAQPweFXdCAAAAYnEVd0IAAMDHwxV3QgAAgC0WFndCAABAk2gWd0IAAAD5uhZ3QgAAwF4NF3dCAACAxF8Xd0IAAEAqshd3QgAAAJAEGHdCAADA9VYYd0IAAIBbqRh3QgAAQMH7GHdCAAAAJ04Zd0IAAMCMoBl3QgAAgPLyGXdCAABAWEUad0IAAAC+lxp3QgAAwCPqGndCAACAiTwbd0IAAEDvjht3QgAAAFXhG3dCAADAujMcd0IAAIAghhx3QgAAQIbYHHdCAAAA7Codd0IAAMBRfR13QgAAgLfPHXdCAABAHSIed0IAAACDdB53QgAAwOjGHndCAACAThkfd0IAAEC0ax93QgAAABq+H3dCAADAfxAgd0IAAIDlYiB3QgAAQEu1IHdCAAAAsQchd0IAAMAWWiF3QgAAgHysIXdCAABA4v4hd0IAAABIUSJ3QgAAwK2jIndCAACAE/Yid0IAAEB5SCN3QgAAAN+aI3dCAADARO0jd0IAAICqPyR3QgAAQBCSJHdCAAAAduQkd0IAAMDbNiV3QgAAgEGJJXdCAABAp9sld0IAAAANLiZ3QgAAwHKAJndCAACA2NImd0IAAEA+JSd3QgAAAKR3J3dCAADACcond0IAAIBvHCh3QgAAQNVuKHdCAAAAO8Eod0IAAMCgEyl3QgAAgAZmKXdCAABAbLgpd0I=\",\"dtype\":\"float64\",\"shape\":[79]},\"index\":[0,1,2,3,4,5,6,7,8,9,10,11,12,13,14,15,16,17,18,19,20,21,22,23,24,25,26,27,28,29,30,31,32,33,34,35,36,37,38,39,40,41,42,43,44,45,46,47,48,49,50,51,52,53,54,55,56,57,58,59,60,61,62,63,64,65,66,67,68,69,70,71,72,73,74,75,76,77,78],\"new_confirmed_cases\":{\"__ndarray__\":\"AAAAAAAA+H+JRCKRSCTyPwbK1gdLFwBAucuuu3ev+D8gbhgi79j3PwlHz6MUNvY/eNfVzz1p9T9mjjW1v7/1P6b4xblTRPU/boaKDAcx8T+nNYWmAg7yP1+POsvGFvI/j5v9+9LZ8T8ReLgyD/LwPy3sQb+ucvA/w/gcFzLw8D9HBV3S2c7vP6oLCueyQ/A/In/RBW2d7j/OsiM3JNjtP+9xoUGG4e4/a7SsLNhY8T/1ToEv9nHwPzg4BfYI6PA/R+GAS5B68T9Wt93sbRfyP1/TJHzajvE/sgV40IDD+j/qbCRy/wn4P/InrX4sh/g/EY3QRUCQ+D+mT/6x32H3P3VNdZ1lFPY/KdSCjHCE9j9Azu4I3DbwP+tjb3MwHu8/kqtaS0iM8z9ZiwChOaPyP5iCzlE18vM/WkrJvB4C9D9t1H56tBP1P682J4BYsPE/yZzkJL0q9z+181ur4BzyP9lNfFL9fvM/9fK6xUJV8j8I20Sm02bzP4erW+54+vE/k6C0WPop8z+7VMdUrzXwP5iawilLI/I/GXXx3ww+8T/FqioiTVbxP9Ja77kIgvE/Dw1VM/e68T+WqmK9D5DwPwCnOUJ+ePI/tVj6LKwN8j9f65O4FXfyP3Eyqi8tFvI/BesC1r3Z8T9vJrkXbXryPwV39nxRUvM/35mFC4y+8T+97jYp4jnwP6QQtwhN/PA/feXWPcr68j95Sjwqdw/zP3hXpZoacPI/g8GIO/bP8T9nxTuoNz7wP/MNK0RcHPE/vZC5gCWL8T9dLX+2m6fvP/YqrDUN7O4/Op3aTNOb8D+clubVJRbwP3GjV54vw/A/89kozYHg8D8=\",\"dtype\":\"float64\",\"shape\":[79]},\"new_deaths\":{\"__ndarray__\":\"AAAAAAAA+H8AAAAAAAD4P6qqqqqqqgBA4ziO4ziO+T93d3d3d/f3P9ajcD0K1/U/7+7u7u7u9T+eJezmtxD2P6WaPO4sYfU/yuPOEnbz8T9281sIGKXyP7cQMEo1efQ/hgRtGSm28z+F+9wYICbzPxfis2J02PM/L1xVeu558z9h0x1XEO3yP3H1EutsivI/ktiVd3i88D8P6mqyc9/yP/PzTgpPCfI/0uzc6UeX8T+AyreXJXLxP2fZUNOJYPI/wQ9QYPOS8j9Kroo3UsHzPxAWw+GMMvE/Z73yxGIc8T+iZGb/CZDzPxn5BPk2i/Q/6exByCrI8z8OAtpgEabzP5nXjzL+uPE/QUsO9p7+8T9Xqv8L/u/zP9nKB44e+PE/2swZMNE/8T9x2dpqq/zwP5pKUnWgg/E/+ZRs60cS8T8OqOBCcTjxP1ylf55TDfE/Im+gkBRj8T/TGwtMMiTxPzWNKQnWRvE/V5No1oYw8T+ISVfw36rxPz/EAqhaVvE/ktVN7YZr8z/fN+4N8tbxPwYdpHci1fE/xqu8ZBUP8j+hz3I/OcXxP0lTree8//E/2AfX/0u/8j9CNPeRvMftP1cAX39ER/U/tw6Ltt9m9D9Wflgp6xL0P3rH6k00pfM/41TBtsF79D+mb5/QftDzP4EmDaw1PvM/yrgx9cdi8j9ZnUCtaXD1P9eoQVC+A/U/6uDCY/aE9j/HjEstFlb1PybDnqvPnPU/J2K72dLa9j8P3FnBTHn0P/VI+W5RkvE/qbyNmgtW8j+rMKSWAivxP/UykDwj8/I/YS7bw+ip8j/7JF6mTFHxP/5Lzqhzwfc/eWcHQP2y+D8=\",\"dtype\":\"float64\",\"shape\":[79]}},\"selected\":{\"id\":\"13132\"},\"selection_policy\":{\"id\":\"13133\"}},\"id\":\"12557\",\"type\":\"ColumnDataSource\"},{\"attributes\":{\"data_source\":{\"id\":\"12443\"},\"glyph\":{\"id\":\"12503\"},\"hover_glyph\":null,\"muted_glyph\":null,\"nonselection_glyph\":{\"id\":\"12504\"},\"selection_glyph\":null,\"view\":{\"id\":\"12506\"}},\"id\":\"12505\",\"type\":\"GlyphRenderer\"},{\"attributes\":{},\"id\":\"12453\",\"type\":\"LinearScale\"},{\"attributes\":{\"line_alpha\":0.1,\"line_color\":\"grey\",\"line_width\":5,\"x\":{\"field\":\"date\"},\"y\":{\"field\":\"new_confirmed_cases\"}},\"id\":\"12560\",\"type\":\"Line\"},{\"attributes\":{\"bottom_units\":\"screen\",\"fill_alpha\":0.5,\"fill_color\":\"lightgrey\",\"left_units\":\"screen\",\"level\":\"overlay\",\"line_alpha\":1.0,\"line_color\":\"black\",\"line_dash\":[4,4],\"line_width\":2,\"render_mode\":\"css\",\"right_units\":\"screen\",\"top_units\":\"screen\"},\"id\":\"12469\",\"type\":\"BoxAnnotation\"},{\"attributes\":{\"line_alpha\":0.5,\"line_color\":\"navy\",\"line_width\":5,\"x\":{\"field\":\"date\"},\"y\":{\"field\":\"confirmed_cases\"}},\"id\":\"12503\",\"type\":\"Line\"},{\"attributes\":{\"data_source\":{\"id\":\"12557\"},\"glyph\":{\"id\":\"12559\"},\"hover_glyph\":null,\"muted_glyph\":null,\"nonselection_glyph\":{\"id\":\"12560\"},\"selection_glyph\":null,\"view\":{\"id\":\"12562\"}},\"id\":\"12561\",\"type\":\"GlyphRenderer\"},{\"attributes\":{\"data\":{\"confirmed_cases\":{\"__ndarray__\":\"AAAAAAAA+D8AAAAAAADoP6uqqqqqqvI/AAAAAAAA8j8AAAAAAADwPwAAAAAAAPI/zczMzMzM7D9VVVVVVVXdP1VVVVVVVfE/3d3d3d3d7T9xHMdxHMf5P+mTPumTPvk/lD7pkz7p+z82WqM1WqP5PzZaozVao/k/f+zHfuzH8j+3YAu2YAviP+U4juM4jts/AwAAAAAA2D8CAAAAAADkPzUzMzMzM+M/mpmZmZmZ8T+9u7u7u7vzP3Mcx3Ecx/U/9TzP8zzP9z+jKIqiKIr2P+26ruu6rvc/HsdxHMdx+D8IaIAGaIDyP6ZP+qRP+vA/EkjWufKA5D+9u7u7u7vzP3t3d3d3d+8/AgAAAAAA8D8CAAAAAADwPyXHcRzHcdw/V1VVVVVV9T8CAAAAAAD1PwIAAAAAAPk/NTMzMzMz9z8BAAAAAAD2P922bdu2bfc/3bZt27Zt9z8nSZIkSZLsP1hVVVVVVe0/WFVVVVVV7T9YVVVVVVXtP62qqqqqquI/zszMzMzM9D81MzMzMzP3P6ZwPQrXo/Q/2aNwPQrX9z9yPQrXo3D5PzUzMzMzM/0/d1AHdVAH+T/g3d3d3d3xPwIAAAAAAPQ/H8dxHMdx8D8fx3Ecx3H0Pz2O4ziO4+w/yXEcx3Ec8T8OwzAMwzDwP+l5nud5nvM/p1zKpVzK8T/9sR/7sR/3Pwl1UAd1UPM/\",\"dtype\":\"float64\",\"shape\":[66]},\"date\":{\"__ndarray__\":\"AACAOqYPd0IAAECg+A93QgAAwGudEHdCAACA0e8Qd0IAAEA3QhF3QgAAgGg5EndCAABAzosSd0IAAMCZMBN3QgAAgP+CE3dCAABAZdUTd0IAAADLJxR3QgAAwDB6FHdCAACAlswUd0IAAED8HhV3QgAAAGJxFXdCAADAx8MVd0IAAECTaBZ3QgAAAPm6FndCAABAKrIXd0IAAACQBBh3QgAAwPVWGHdCAACAW6kYd0IAAEDB+xh3QgAAACdOGXdCAADAjKAZd0IAAIDy8hl3QgAAQFhFGndCAAAAvpcad0IAAMAj6hp3QgAAgIk8G3dCAAAAVeEbd0IAAMC6Mxx3QgAAgCCGHHdCAAAA7Codd0IAAMBRfR13QgAAwOjGHndCAACAThkfd0IAAEC0ax93QgAAABq+H3dCAADAfxAgd0IAAIDlYiB3QgAAQEu1IHdCAAAAsQchd0IAAMAWWiF3QgAAQOL+IXdCAAAASFEid0IAAMCtoyJ3QgAAgBP2IndCAADARO0jd0IAAICqPyR3QgAAQBCSJHdCAAAAduQkd0IAAMDbNiV3QgAAgEGJJXdCAABAp9sld0IAAMBygCZ3QgAAgNjSJndCAABAPiUnd0IAAACkdyd3QgAAwAnKJ3dCAACAbxwod0IAAEDVbih3QgAAADvBKHdCAADAoBMpd0IAAIAGZil3QgAAQGy4KXdC\",\"dtype\":\"float64\",\"shape\":[66]},\"index\":[0,1,2,3,4,5,6,7,8,9,10,11,12,13,14,15,16,17,18,19,20,21,22,23,24,25,26,27,28,29,30,31,32,33,34,35,36,37,38,39,40,41,42,43,44,45,46,47,48,49,50,51,52,53,54,55,56,57,58,59,60,61,62,63,64,65]},\"selected\":{\"id\":\"12553\"},\"selection_policy\":{\"id\":\"12554\"}},\"id\":\"12443\",\"type\":\"ColumnDataSource\"},{\"attributes\":{\"months\":[0,1,2,3,4,5,6,7,8,9,10,11]},\"id\":\"12494\",\"type\":\"MonthsTicker\"},{\"attributes\":{\"source\":{\"id\":\"12442\"}},\"id\":\"12481\",\"type\":\"CDSView\"},{\"attributes\":{},\"id\":\"12447\",\"type\":\"DataRange1d\"},{\"attributes\":{\"source\":{\"id\":\"12443\"}},\"id\":\"12506\",\"type\":\"CDSView\"},{\"attributes\":{},\"id\":\"12484\",\"type\":\"DatetimeTickFormatter\"},{\"attributes\":{},\"id\":\"12585\",\"type\":\"UnionRenderers\"},{\"attributes\":{\"active_drag\":\"auto\",\"active_inspect\":\"auto\",\"active_multi\":null,\"active_scroll\":\"auto\",\"active_tap\":\"auto\",\"tools\":[{\"id\":\"12463\"},{\"id\":\"12464\"},{\"id\":\"12465\"},{\"id\":\"12466\"},{\"id\":\"12467\"},{\"id\":\"12468\"}]},\"id\":\"12470\",\"type\":\"Toolbar\"},{\"attributes\":{},\"id\":\"12451\",\"type\":\"LinearScale\"},{\"attributes\":{\"label\":{\"value\":\"7-day rolling avg (LA County)\"},\"renderers\":[{\"id\":\"12561\"}]},\"id\":\"12587\",\"type\":\"LegendItem\"},{\"attributes\":{\"overlay\":{\"id\":\"12469\"}},\"id\":\"12465\",\"type\":\"BoxZoomTool\"},{\"attributes\":{},\"id\":\"12525\",\"type\":\"UnionRenderers\"},{\"attributes\":{\"data_source\":{\"id\":\"12442\"},\"glyph\":{\"id\":\"12478\"},\"hover_glyph\":null,\"muted_glyph\":null,\"nonselection_glyph\":{\"id\":\"12479\"},\"selection_glyph\":null,\"view\":{\"id\":\"12481\"}},\"id\":\"12480\",\"type\":\"GlyphRenderer\"},{\"attributes\":{\"label\":{\"value\":\"7-day rolling avg (Valley Glen)\"},\"renderers\":[{\"id\":\"12505\"}]},\"id\":\"12527\",\"type\":\"LegendItem\"},{\"attributes\":{\"fill_alpha\":{\"value\":0.1},\"fill_color\":{\"value\":\"navy\"},\"line_alpha\":{\"value\":0.1},\"line_color\":{\"value\":\"navy\"},\"size\":{\"units\":\"screen\",\"value\":5},\"x\":{\"field\":\"date\"},\"y\":{\"field\":\"confirmed_cases\"}},\"id\":\"12479\",\"type\":\"Circle\"},{\"attributes\":{\"line_color\":\"red\",\"line_dash\":[6],\"line_width\":3,\"location\":1},\"id\":\"12588\",\"type\":\"Span\"},{\"attributes\":{},\"id\":\"12486\",\"type\":\"BasicTickFormatter\"},{\"attributes\":{\"data\":{\"confirmed_cases\":{\"__ndarray__\":\"AAAAAAAA+D8AAAAAAAAAAAAAAAAAAABAAAAAAAAA8D8AAAAAAADgPwAAAAAAAPA/AAAAAAAAAABVVVVVVVXVPwAAAAAAAAhAVVVVVVVV1T8AAAAAAAAUQJqZmZmZmek/AAAAAAAA8D8AAAAAAADoP1VVVVVVVdU/AAAAAAAAAAAAAAAAAADgPwAAAAAAAAAAAAAAAAAA8D8AAAAAAADwPwAAAAAAAOA/AAAAAAAACEBVVVVVVVXlPwAAAAAAAABAAAAAAAAAAkAcx3Ecx3HcPwAAAAAAAPg/q6qqqqqq6j+amZmZmZnZPwAAAAAAAAAAVVVVVVVV5T8AAAAAAAAQQAAAAAAAAAAAVVVVVVVV1T8AAAAAAAAAAAAAAAAAAPA/AAAAAAAAEEAAAAAAAADQPwAAAAAAAPA/AAAAAAAA8D8AAAAAAADwPwAAAAAAAABAAAAAAAAA8D8AAAAAAAAAAAAAAAAAAOA/AAAAAAAA8D8AAAAAAADwPwAAAAAAAAAAAAAAAAAAEEAAAAAAAAD0P5qZmZmZmck/AAAAAAAAAEAAAAAAAADgPwAAAAAAAAhAAAAAAAAAAAAAAAAAAADwPwAAAAAAAPA/VVVVVVVV5T8AAAAAAAAAQAAAAAAAAOg/AAAAAAAA8D9VVVVVVVXlPwAAAAAAAARAmpmZmZmZyT8AAAAAAAAIQFVVVVVVVdU/\",\"dtype\":\"float64\",\"shape\":[66]},\"date\":{\"__ndarray__\":\"AACAOqYPd0IAAECg+A93QgAAwGudEHdCAACA0e8Qd0IAAEA3QhF3QgAAgGg5EndCAABAzosSd0IAAMCZMBN3QgAAgP+CE3dCAABAZdUTd0IAAADLJxR3QgAAwDB6FHdCAACAlswUd0IAAED8HhV3QgAAAGJxFXdCAADAx8MVd0IAAECTaBZ3QgAAAPm6FndCAABAKrIXd0IAAACQBBh3QgAAwPVWGHdCAACAW6kYd0IAAEDB+xh3QgAAACdOGXdCAADAjKAZd0IAAIDy8hl3QgAAQFhFGndCAAAAvpcad0IAAMAj6hp3QgAAgIk8G3dCAAAAVeEbd0IAAMC6Mxx3QgAAgCCGHHdCAAAA7Codd0IAAMBRfR13QgAAwOjGHndCAACAThkfd0IAAEC0ax93QgAAABq+H3dCAADAfxAgd0IAAIDlYiB3QgAAQEu1IHdCAAAAsQchd0IAAMAWWiF3QgAAQOL+IXdCAAAASFEid0IAAMCtoyJ3QgAAgBP2IndCAADARO0jd0IAAICqPyR3QgAAQBCSJHdCAAAAduQkd0IAAMDbNiV3QgAAgEGJJXdCAABAp9sld0IAAMBygCZ3QgAAgNjSJndCAABAPiUnd0IAAACkdyd3QgAAwAnKJ3dCAACAbxwod0IAAEDVbih3QgAAADvBKHdCAADAoBMpd0IAAIAGZil3QgAAQGy4KXdC\",\"dtype\":\"float64\",\"shape\":[66]},\"index\":[0,1,2,3,4,5,6,7,8,9,10,11,12,13,14,15,16,17,18,19,20,21,22,23,24,25,26,27,28,29,30,31,32,33,34,35,36,37,38,39,40,41,42,43,44,45,46,47,48,49,50,51,52,53,54,55,56,57,58,59,60,61,62,63,64,65]},\"selected\":{\"id\":\"12524\"},\"selection_policy\":{\"id\":\"12525\"}},\"id\":\"12442\",\"type\":\"ColumnDataSource\"},{\"attributes\":{\"label\":{\"value\":\"daily case growth rate\"},\"renderers\":[{\"id\":\"12480\"}]},\"id\":\"12501\",\"type\":\"LegendItem\"},{\"attributes\":{\"mantissas\":[1,2,5],\"max_interval\":500.0,\"num_minor_ticks\":0},\"id\":\"12487\",\"type\":\"AdaptiveTicker\"},{\"attributes\":{},\"id\":\"13132\",\"type\":\"Selection\"},{\"attributes\":{\"months\":[0,2,4,6,8,10]},\"id\":\"12495\",\"type\":\"MonthsTicker\"},{\"attributes\":{},\"id\":\"12449\",\"type\":\"DataRange1d\"},{\"attributes\":{\"data_source\":{\"id\":\"12528\"},\"glyph\":{\"id\":\"12530\"},\"hover_glyph\":null,\"muted_glyph\":null,\"nonselection_glyph\":{\"id\":\"12531\"},\"selection_glyph\":null,\"view\":{\"id\":\"12533\"}},\"id\":\"12532\",\"type\":\"GlyphRenderer\"},{\"attributes\":{\"base\":60,\"mantissas\":[1,2,5,10,15,20,30],\"max_interval\":1800000.0,\"min_interval\":1000.0,\"num_minor_ticks\":0},\"id\":\"12488\",\"type\":\"AdaptiveTicker\"},{\"attributes\":{\"fill_alpha\":{\"value\":0.8},\"fill_color\":{\"value\":\"navy\"},\"line_alpha\":{\"value\":0.8},\"line_color\":{\"value\":\"navy\"},\"size\":{\"units\":\"screen\",\"value\":5},\"x\":{\"field\":\"date\"},\"y\":{\"field\":\"confirmed_cases\"}},\"id\":\"12478\",\"type\":\"Circle\"},{\"attributes\":{},\"id\":\"13133\",\"type\":\"UnionRenderers\"},{\"attributes\":{\"base\":24,\"mantissas\":[1,2,4,6,8,12],\"max_interval\":43200000.0,\"min_interval\":3600000.0,\"num_minor_ticks\":0},\"id\":\"12489\",\"type\":\"AdaptiveTicker\"},{\"attributes\":{\"line_alpha\":0.1,\"line_color\":\"red\",\"line_width\":5,\"x\":{\"field\":\"date\"},\"y\":{\"field\":\"confirmed_cases\"}},\"id\":\"12531\",\"type\":\"Line\"},{\"attributes\":{},\"id\":\"12464\",\"type\":\"WheelZoomTool\"},{\"attributes\":{},\"id\":\"12468\",\"type\":\"HelpTool\"},{\"attributes\":{\"days\":[1,2,3,4,5,6,7,8,9,10,11,12,13,14,15,16,17,18,19,20,21,22,23,24,25,26,27,28,29,30,31]},\"id\":\"12490\",\"type\":\"DaysTicker\"},{\"attributes\":{},\"id\":\"12553\",\"type\":\"Selection\"},{\"attributes\":{\"data\":{\"confirmed_cases\":{\"__ndarray__\":\"AAAAAAAA8D8AAAAAAAD4PwAAAAAAAPA/AAAAAAAA6j8zMzMzMzPrPzMzMzMzM/c/MzMzMzMz8z+7u7u7u7v7PxzHcRzHcfg/z/M8z/M89z9hGIZhGIb5P7Ef+7Ef+/k/jdZojdZo9T+ZmZmZmZn1P5D92I/92PM/53QzbWdO8z+fzD0oIP3xP3LMroNzLec/+twSp37P1z/x7u7u7u7YPy35xZJfLO0/tmALtmAL8T++f4emIhPxPwcSrO+0N/I/jZUZeLNs8z9wwdda3yr2P1+9lkrb6fU/sF5Lpe30AkDLCx3AmsYBQMeQVevZ5wJAzb/8y7/8AkB1PddzPdcCQEEKpEAKpAFAKpESKZESAkBTIiVSIiX0P30K/SW1p/I/Dy9GuNnw+j/GnCFvR8z5P+QDd/7K6Pg/2U0W8xSI+T9z56+MriHzPzubszmbswBA7LwrMNSI9D+jKgfnQWT3P9srexbSgfQ/8AZRvdGg/T+HdkpUQZr8Pxmbk+Zl4/4/0AhvndO+9T+bWPdQxtL3P7ZDO7RDO/c/ZjzGYzzG9j+EkKGyw9TsP/sHGSo7TOw/bCTgm1cT5j9LZYepy+3dP6XiaQkS4tw/+KZ0DBA87z+Bzy1x6vfwP5CClHC4KOw/7ZBE3asO+z8Pnhb+uOD7P3qHXP55d/o/78Iu7MIu/j+JpqSGpqT4P+ZwSuNwSvk/+7Kh681r+T/jORDUVNrxP/WkG+W/5fI/gW/EcYqO8T8px/X0mC3wP4/wlieUBu4/KH0Z9E5R8z8HC0ngwbbzP6I9RNlog/I/U+70iRk08z8=\",\"dtype\":\"float64\",\"shape\":[76]},\"date\":{\"__ndarray__\":\"AAAAbwEPd0IAAMDUUw93QgAAgDqmD3dCAADAa50Qd0IAAIDR7xB3QgAAQDdCEXdCAAAAnZQRd0IAAMAC5xF3QgAAgGg5EndCAABAzosSd0IAAAA03hJ3QgAAwJkwE3dCAACA/4ITd0IAAEBl1RN3QgAAAMsnFHdCAADAMHoUd0IAAABicRV3QgAAwMfDFXdCAABAk2gWd0IAAAD5uhZ3QgAAwF4NF3dCAACAxF8Xd0IAAEAqshd3QgAAAJAEGHdCAADA9VYYd0IAAIBbqRh3QgAAQMH7GHdCAAAAJ04Zd0IAAMCMoBl3QgAAgPLyGXdCAABAWEUad0IAAAC+lxp3QgAAwCPqGndCAACAiTwbd0IAAEDvjht3QgAAAFXhG3dCAADAujMcd0IAAIAghhx3QgAAAOwqHXdCAADAUX0dd0IAAIC3zx13QgAAQB0iHndCAAAAg3Qed0IAAMDoxh53QgAAgE4ZH3dCAABAtGsfd0IAAAAavh93QgAAwH8QIHdCAACA5WIgd0IAAEBLtSB3QgAAALEHIXdCAADAFlohd0IAAEDi/iF3QgAAAEhRIndCAADAraMid0IAAIAT9iJ3QgAAAN+aI3dCAADARO0jd0IAAICqPyR3QgAAQBCSJHdCAAAAduQkd0IAAMDbNiV3QgAAgEGJJXdCAABAp9sld0IAAAANLiZ3QgAAwHKAJndCAACA2NImd0IAAEA+JSd3QgAAAKR3J3dCAADACcond0IAAIBvHCh3QgAAQNVuKHdCAAAAO8Eod0IAAMCgEyl3QgAAgAZmKXdCAABAbLgpd0I=\",\"dtype\":\"float64\",\"shape\":[76]},\"index\":[0,1,2,3,4,5,6,7,8,9,10,11,12,13,14,15,16,17,18,19,20,21,22,23,24,25,26,27,28,29,30,31,32,33,34,35,36,37,38,39,40,41,42,43,44,45,46,47,48,49,50,51,52,53,54,55,56,57,58,59,60,61,62,63,64,65,66,67,68,69,70,71,72,73,74,75]},\"selected\":{\"id\":\"12584\"},\"selection_policy\":{\"id\":\"12585\"}},\"id\":\"12528\",\"type\":\"ColumnDataSource\"},{\"attributes\":{},\"id\":\"12463\",\"type\":\"PanTool\"},{\"attributes\":{\"days\":[1,4,7,10,13,16,19,22,25,28]},\"id\":\"12491\",\"type\":\"DaysTicker\"},{\"attributes\":{\"line_alpha\":0.2,\"line_color\":\"red\",\"line_width\":5,\"x\":{\"field\":\"date\"},\"y\":{\"field\":\"confirmed_cases\"}},\"id\":\"12530\",\"type\":\"Line\"},{\"attributes\":{\"items\":[{\"id\":\"12501\"},{\"id\":\"12527\"},{\"id\":\"12556\"},{\"id\":\"12587\"}],\"location\":\"bottom_left\"},\"id\":\"12500\",\"type\":\"Legend\"},{\"attributes\":{\"source\":{\"id\":\"12528\"}},\"id\":\"12533\",\"type\":\"CDSView\"},{\"attributes\":{\"days\":[1,8,15,22]},\"id\":\"12492\",\"type\":\"DaysTicker\"},{\"attributes\":{\"axis\":{\"id\":\"12459\"},\"dimension\":1,\"ticker\":null},\"id\":\"12462\",\"type\":\"Grid\"},{\"attributes\":{},\"id\":\"12467\",\"type\":\"ResetTool\"},{\"attributes\":{\"formatter\":{\"id\":\"12486\"},\"ticker\":{\"id\":\"12460\"}},\"id\":\"12459\",\"type\":\"LinearAxis\"},{\"attributes\":{},\"id\":\"12466\",\"type\":\"SaveTool\"},{\"attributes\":{\"days\":[1,15]},\"id\":\"12493\",\"type\":\"DaysTicker\"},{\"attributes\":{},\"id\":\"12554\",\"type\":\"UnionRenderers\"},{\"attributes\":{\"label\":{\"value\":\"7-day rolling avg (NoHo)\"},\"renderers\":[{\"id\":\"12532\"}]},\"id\":\"12556\",\"type\":\"LegendItem\"},{\"attributes\":{},\"id\":\"12460\",\"type\":\"BasicTicker\"},{\"attributes\":{\"axis\":{\"id\":\"12455\"},\"ticker\":null},\"id\":\"12458\",\"type\":\"Grid\"}],\"root_ids\":[\"12444\"]},\"title\":\"Bokeh Application\",\"version\":\"2.0.2\"}};\n",
       "  var render_items = [{\"docid\":\"0e546999-e781-4b5c-bd05-76b8590edae8\",\"root_ids\":[\"12444\"],\"roots\":{\"12444\":\"00931f36-af23-4323-bd52-2f54a7282349\"}}];\n",
       "  root.Bokeh.embed.embed_items_notebook(docs_json, render_items);\n",
       "\n",
       "  }\n",
       "  if (root.Bokeh !== undefined) {\n",
       "    embed_document(root);\n",
       "  } else {\n",
       "    var attempts = 0;\n",
       "    var timer = setInterval(function(root) {\n",
       "      if (root.Bokeh !== undefined) {\n",
       "        clearInterval(timer);\n",
       "        embed_document(root);\n",
       "      } else {\n",
       "        attempts++;\n",
       "        if (attempts > 100) {\n",
       "          clearInterval(timer);\n",
       "          console.log(\"Bokeh: ERROR: Unable to run BokehJS code because BokehJS library is missing\");\n",
       "        }\n",
       "      }\n",
       "    }, 10, root)\n",
       "  }\n",
       "})(window);"
      ],
      "application/vnd.bokehjs_exec.v0+json": ""
     },
     "metadata": {
      "application/vnd.bokehjs_exec.v0+json": {
       "id": "12444"
      }
     },
     "output_type": "display_data"
    }
   ],
   "source": [
    "for place, growth_frame in locale_growth_rates.items():\n",
    "    plot_locale_growth(growth_frame, place, noho_growth_rate=noho_growth_rate, lac_growth_rate=lac_growth_rate)"
   ]
  },
  {
   "cell_type": "code",
   "execution_count": null,
   "metadata": {},
   "outputs": [],
   "source": []
  },
  {
   "cell_type": "code",
   "execution_count": null,
   "metadata": {},
   "outputs": [],
   "source": []
  },
  {
   "cell_type": "code",
   "execution_count": null,
   "metadata": {},
   "outputs": [],
   "source": []
  },
  {
   "cell_type": "code",
   "execution_count": null,
   "metadata": {},
   "outputs": [],
   "source": []
  },
  {
   "cell_type": "code",
   "execution_count": null,
   "metadata": {},
   "outputs": [],
   "source": []
  },
  {
   "cell_type": "code",
   "execution_count": null,
   "metadata": {},
   "outputs": [],
   "source": []
  },
  {
   "cell_type": "code",
   "execution_count": null,
   "metadata": {},
   "outputs": [],
   "source": []
  },
  {
   "cell_type": "code",
   "execution_count": null,
   "metadata": {},
   "outputs": [],
   "source": []
  },
  {
   "cell_type": "code",
   "execution_count": null,
   "metadata": {},
   "outputs": [],
   "source": []
  },
  {
   "cell_type": "code",
   "execution_count": null,
   "metadata": {},
   "outputs": [],
   "source": []
  },
  {
   "cell_type": "code",
   "execution_count": null,
   "metadata": {},
   "outputs": [],
   "source": []
  },
  {
   "cell_type": "code",
   "execution_count": null,
   "metadata": {},
   "outputs": [],
   "source": []
  },
  {
   "cell_type": "code",
   "execution_count": null,
   "metadata": {},
   "outputs": [],
   "source": []
  },
  {
   "cell_type": "markdown",
   "metadata": {},
   "source": [
    "# new attic"
   ]
  },
  {
   "cell_type": "code",
   "execution_count": null,
   "metadata": {
    "ExecuteTime": {
     "end_time": "2020-06-03T19:45:38.739477Z",
     "start_time": "2020-06-03T19:45:38.615973Z"
    },
    "editable": false,
    "run_control": {
     "frozen": true
    }
   },
   "outputs": [],
   "source": [
    "df = lac_daily_new.reset_index()\n",
    "TOOLTIPS = [\n",
    "    (\"new_confirmed_cases\", \"$index\"),\n",
    "    (\"(x,y)\", \"($x, $y)\"),\n",
    "#     (\"desc\", \"@desc\"),\n",
    "]\n",
    "\n",
    "p = figure(plot_width=1000, \n",
    "           plot_height=400, \n",
    "           title=\"Daily new cases (LAC)\", \n",
    "           x_axis_type='datetime', \n",
    "           tooltips=TOOLTIPS)\n",
    "source = ColumnDataSource(df)\n",
    "\n",
    "# add a circle renderer with a size, color, and alpha\n",
    "# p.circle(x='date', y='new_confirmed_cases', size=10, color=\"navy\", source=source, alpha=0.5)\n",
    "p.vbar(x='date', top='new_confirmed_cases',  color=\"navy\", width=0.4, source=source, alpha=0.8)\n",
    "\n",
    "\n",
    "# df['lower'] = df.new_confirmed_cases.mean() - df.new_confirmed_cases.std()\n",
    "# df['upper'] = df.new_confirmed_cases.mean() + df.new_confirmed_cases.std()\n",
    "# band = Band(base='x', lower='lower', upper='upper', source=source, level='underlay',\n",
    "#             fill_alpha=1.0, line_width=1, line_color='black')\n",
    "# p.add_layout(band)\n",
    "\n",
    "# show the results\n",
    "show(p)"
   ]
  },
  {
   "cell_type": "code",
   "execution_count": null,
   "metadata": {
    "ExecuteTime": {
     "end_time": "2020-06-03T19:45:39.071708Z",
     "start_time": "2020-06-03T19:45:38.884892Z"
    },
    "editable": false,
    "run_control": {
     "frozen": true
    }
   },
   "outputs": [],
   "source": [
    "noho_new = calc_daily_new(locales, PLACE)\n",
    "p = figure(plot_width=1000, plot_height=400, title=\"Daily new cases (NoHo)\", x_axis_type='datetime')\n",
    "source = ColumnDataSource(noho_new.reset_index())\n",
    "source2 = ColumnDataSource(noho_new.confirmed_cases.rolling(window='7D').mean().reset_index())\n",
    "p.vbar(x='date', top='confirmed_cases',  color=\"green\", width=0.4, source=source, alpha=0.8, legend_label='New daily cases')\n",
    "p.line(x='date', y='confirmed_cases', line_width=5, color=\"navy\", source=source2, alpha=0.3, legend_label='7-day rolling avg')\n",
    "show(p)"
   ]
  },
  {
   "cell_type": "code",
   "execution_count": null,
   "metadata": {},
   "outputs": [],
   "source": []
  },
  {
   "cell_type": "code",
   "execution_count": null,
   "metadata": {},
   "outputs": [],
   "source": []
  },
  {
   "cell_type": "code",
   "execution_count": null,
   "metadata": {
    "ExecuteTime": {
     "end_time": "2020-06-04T21:34:10.952248Z",
     "start_time": "2020-06-04T21:34:03.833Z"
    },
    "editable": false,
    "run_control": {
     "frozen": true
    }
   },
   "outputs": [],
   "source": [
    "def plot_locale_growth(growth_frame, place, noho_new=None):\n",
    "    \"\"\"\n",
    "    Plots the growth rates for localities as a dot plot \n",
    "    with a 7-day moving average line and a representation of north hollywood's trend \n",
    "    \n",
    "    \"\"\"\n",
    "    field_name = 'confirmed_cases'\n",
    "\n",
    "    p = figure(\n",
    "        plot_width=1000,\n",
    "        plot_height=400,\n",
    "        title=f\"Daily new cases --{place}\",\n",
    "        x_axis_type='datetime')\n",
    "\n",
    "    d_new = calc_daily_new(localities_frame, place, replace_neg=True)\n",
    "    source = ColumnDataSource(d_new.reset_index())\n",
    "    source2 = ColumnDataSource(d_new.rolling(window='7D').mean().reset_index())\n",
    "\n",
    "    p.vbar(\n",
    "        x='date',\n",
    "        top=field_name,\n",
    "        color=\"green\",\n",
    "        width=0.4,\n",
    "        source=source,\n",
    "        alpha=0.8,\n",
    "        legend_label=f'Daily new cases')\n",
    "    p.line(\n",
    "        x='date',\n",
    "        y=field_name,\n",
    "        line_width=5,\n",
    "        color=\"navy\",\n",
    "        source=source2,\n",
    "        alpha=0.3,\n",
    "        legend_label=f'7-day rolling avg ({place})')\n",
    "\n",
    "    if noho_new is not None:\n",
    "        source3 = ColumnDataSource(\n",
    "            noho_new.rolling(window='7D').mean().reset_index())\n",
    "        p.line(\n",
    "            x='date',\n",
    "            y=field_name,\n",
    "            line_width=5,\n",
    "            color=\"red\",\n",
    "            source=source3,\n",
    "            alpha=0.2,\n",
    "            legend_label=f'7-day rolling avg (NoHo)')\n",
    "\n",
    "    show(p)"
   ]
  },
  {
   "cell_type": "code",
   "execution_count": null,
   "metadata": {
    "editable": false,
    "run_control": {
     "frozen": true
    }
   },
   "outputs": [],
   "source": [
    "source = ColumnDataSource(lac_daily_new.reset_index())\n",
    "source2 = ColumnDataSource(lac_daily_new.set_index('date').new_deaths.rolling(window='7D').mean().reset_index())\n",
    "p = figure(plot_width=1000, plot_height=300, title=\"Daily new deaths (LAC)\", x_axis_type='datetime')\n",
    "# \"Daily new deaths (LAC) Tues-Sat\"\n",
    "\n",
    "p.vbar(x='date', top='confirmed_cases',  color=\"green\", width=0.4, source=source, alpha=0.8, legend_label='New daily cases')\n",
    "\n",
    "# add a circle renderer with a size, color, and alpha\n",
    "p.circle(x='date', y='new_deaths', \n",
    "         size=5, \n",
    "         color=\"navy\", \n",
    "         source=source, \n",
    "         alpha=0.5, \n",
    "         legend_label='New deaths')\n",
    "p.line(x='date', y='new_deaths', line_width=5, color=\"navy\", source=source2, alpha=0.3,  legend_label='7-day rolling avg')\n",
    "\n",
    "# show the results\n",
    "show(p)"
   ]
  },
  {
   "cell_type": "code",
   "execution_count": null,
   "metadata": {
    "ExecuteTime": {
     "end_time": "2020-06-03T20:22:45.721801Z",
     "start_time": "2020-06-03T20:22:45.612323Z"
    },
    "editable": false,
    "run_control": {
     "frozen": true
    }
   },
   "outputs": [],
   "source": [
    "days = ['Monday', 'Sunday']\n",
    "# df = lac_daily_new[~lac_daily_new.index.day_name().isin(days)].reset_index()\n",
    "df = lac_daily_new.reset_index()\n",
    "source = ColumnDataSource(df)\n",
    "\n",
    "# def r(row):\n",
    "#     return not row.date.day_name() in ['Monday', 'Sunday']\n",
    "\n",
    "# df['weekday'] = df.apply(lambda x: r(x), axis=1)\n",
    "\n",
    "source2 = ColumnDataSource(df.set_index('date').new_deaths.rolling(window='7D').mean().reset_index())\n",
    "# source2 = ColumnDataSource(df.set_index('date').new_deaths.resample('3D').mean().reset_index())\n",
    "\n",
    "p = figure(plot_width=1000, plot_height=300, title=\"Daily new deaths (LAC)\", x_axis_type='datetime')\n",
    "# \"Daily new deaths (LAC) Tues-Sat\"\n",
    "\n",
    "\n",
    "# add a circle renderer with a size, color, and alpha\n",
    "p.circle(x='date', y='new_deaths', \n",
    "         size=5, \n",
    "         color=\"navy\", \n",
    "         source=source, \n",
    "         alpha=0.5, \n",
    "         legend_label='New deaths')\n",
    "p.line(x='date', y='new_deaths', line_width=5, color=\"navy\", source=source2, alpha=0.3,  legend_label='7-day rolling avg')\n",
    "\n",
    "# show the results\n",
    "show(p)"
   ]
  },
  {
   "cell_type": "code",
   "execution_count": null,
   "metadata": {},
   "outputs": [],
   "source": []
  },
  {
   "cell_type": "code",
   "execution_count": null,
   "metadata": {},
   "outputs": [],
   "source": []
  },
  {
   "cell_type": "code",
   "execution_count": null,
   "metadata": {},
   "outputs": [],
   "source": []
  },
  {
   "cell_type": "code",
   "execution_count": null,
   "metadata": {},
   "outputs": [],
   "source": []
  },
  {
   "cell_type": "code",
   "execution_count": null,
   "metadata": {
    "ExecuteTime": {
     "end_time": "2020-06-03T21:03:45.614455Z",
     "start_time": "2020-06-03T21:03:21.088147Z"
    },
    "editable": false,
    "run_control": {
     "frozen": true
    }
   },
   "outputs": [],
   "source": [
    "fig, axes = plt.subplots(nrows=3, figsize=(10, 7))\n",
    "\n",
    "lac_growth_rate.new_confirmed_cases.plot(kind='bar', title='LAC Growth rate - cases', ax=axes[0])\n",
    "lac_growth_rate.new_deaths.plot(kind='bar', title='LAC Growth rate - deaths', ax=axes[1])\n",
    "noho_growth_rate.confirmed_cases.plot(kind='bar', title='NoHo Growth rate - cases', ax=axes[2])\n",
    "ticklabels = [i.strftime(\"%b-%d\") for i, row in lac_growth_rate.iterrows()]\n",
    "axes[0].xaxis.set_major_formatter(mticker.FixedFormatter(ticklabels))\n",
    "axes[1].xaxis.set_major_formatter(mticker.FixedFormatter(ticklabels))\n",
    "axes[2].xaxis.set_major_formatter(mticker.FixedFormatter(ticklabels))\n",
    "# axes[3].xaxis.set_major_formatter(mticker.FixedFormatter(ticklabels))\n",
    "axes[0].axhline(y=1, color='r')\n",
    "axes[1].axhline(y=1, color='r')\n",
    "axes[2].axhline(y=1, color='r')\n",
    "# fig.autofmt_xdate();\n",
    "fig.tight_layout()"
   ]
  },
  {
   "cell_type": "code",
   "execution_count": null,
   "metadata": {},
   "outputs": [],
   "source": []
  },
  {
   "cell_type": "code",
   "execution_count": null,
   "metadata": {
    "ExecuteTime": {
     "end_time": "2020-06-03T21:04:55.561586Z",
     "start_time": "2020-06-03T21:03:45.759457Z"
    },
    "editable": false,
    "run_control": {
     "frozen": true
    },
    "scrolled": false
   },
   "outputs": [],
   "source": [
    "for place, growth_frame in locale_growth_rates.items():\n",
    "    plot_growth_rate(growth_frame, place)"
   ]
  },
  {
   "cell_type": "code",
   "execution_count": null,
   "metadata": {},
   "outputs": [],
   "source": []
  },
  {
   "cell_type": "code",
   "execution_count": null,
   "metadata": {},
   "outputs": [],
   "source": []
  },
  {
   "cell_type": "markdown",
   "metadata": {},
   "source": [
    "### Selector version"
   ]
  },
  {
   "cell_type": "code",
   "execution_count": null,
   "metadata": {
    "ExecuteTime": {
     "end_time": "2020-06-03T21:04:55.599234Z",
     "start_time": "2020-06-03T21:04:55.565245Z"
    },
    "editable": false,
    "run_control": {
     "frozen": true,
     "marked": false
    },
    "scrolled": false
   },
   "outputs": [],
   "source": [
    "import ipywidgets as widgets\n",
    "from IPython.display import display\n",
    "\n",
    "\n",
    "\n",
    "place_select = widgets.Select(\n",
    "    options=PLACES,\n",
    "    value='North Hollywood',\n",
    "    # rows=10,\n",
    "    description='Select place',\n",
    "    disabled=False\n",
    ")\n",
    "\n",
    "display(place_select)\n",
    "\n",
    "\n",
    "\n",
    "def on_value_change(change):\n",
    "    place = change['new']\n",
    "    growth = locale_growth_rates.get(place)\n",
    "#     growth = calc_daily_growth(locales, place)\n",
    "    plot_growth_rate(growth, place)\n",
    "\n",
    "    \n",
    "\n",
    "place_select.observe(on_value_change, names='value')\n",
    "\n",
    "\n",
    "\n",
    "# la_locales.loc['Alhambra']"
   ]
  },
  {
   "cell_type": "markdown",
   "metadata": {},
   "source": [
    "# Daily new"
   ]
  },
  {
   "cell_type": "code",
   "execution_count": null,
   "metadata": {
    "ExecuteTime": {
     "end_time": "2020-06-11T21:07:48.667182Z",
     "start_time": "2020-06-11T21:07:38.911724Z"
    }
   },
   "outputs": [],
   "source": [
    "\n",
    "fig, axes = plt.subplots(nrows=2, figsize=(10, 5))\n",
    "lac_daily_new.new_confirmed_cases.plot(kind='bar', title=\"LAC daily new cases\", ax=axes[0])\n",
    "lac_daily_new.new_deaths.plot(kind='bar', title=\"LAC daily new deaths\", ax=axes[1])\n",
    "ticklabels = [i.strftime(\"%b-%d\") for i, row in lac_daily_new.iterrows()]\n",
    "axes[0].xaxis.set_major_formatter(mticker.FixedFormatter(ticklabels))\n",
    "axes[1].xaxis.set_major_formatter(mticker.FixedFormatter(ticklabels))\n",
    "# axes[2].xaxis.set_major_formatter(mticker.FixedFormatter(ticklabels))\n",
    "# axes[3].xaxis.set_major_formatter(mticker.FixedFormatter(ticklabels))\n",
    "# axes[0].axhline(y=1, color='r')\n",
    "# axes[1].axhline(y=1, color='r')\n",
    "# axes[2].axhline(y=1, color='r')\n",
    "# axes[3].axhline(y=1, color='r')\n",
    "# fig.autofmt_xdate(); \n",
    "fig.tight_layout()\n",
    "# fig.tight_layout()\n",
    "\n",
    "# fig.autofmt_xdate(); "
   ]
  },
  {
   "cell_type": "code",
   "execution_count": null,
   "metadata": {
    "ExecuteTime": {
     "end_time": "2020-06-11T21:07:48.678455Z",
     "start_time": "2020-06-11T21:07:48.674340Z"
    }
   },
   "outputs": [],
   "source": [
    "print(f'ran at {datetime.datetime.isoformat(datetime.datetime.now())}')\n"
   ]
  },
  {
   "cell_type": "code",
   "execution_count": null,
   "metadata": {
    "ExecuteTime": {
     "end_time": "2020-05-16T04:06:36.986775Z",
     "start_time": "2020-05-16T04:06:35.938918Z"
    },
    "editable": false,
    "run_control": {
     "frozen": true
    }
   },
   "outputs": [],
   "source": [
    "# Loop the downloader for every 24 hours\n",
    "from time import sleep\n",
    "day_seconds = 86400\n",
    "\n",
    "while True:\n",
    "    lac_data, local_data = download_data()\n",
    "    print(f'ran at {datetime.datetime.now()}' )\n",
    "    sleep(day_seconds)"
   ]
  },
  {
   "cell_type": "code",
   "execution_count": null,
   "metadata": {
    "ExecuteTime": {
     "end_time": "2020-05-12T21:36:03.305654Z",
     "start_time": "2020-05-12T21:36:03.293622Z"
    },
    "scrolled": true
   },
   "outputs": [],
   "source": []
  },
  {
   "cell_type": "markdown",
   "metadata": {},
   "source": [
    "# Counts"
   ]
  },
  {
   "cell_type": "code",
   "execution_count": null,
   "metadata": {
    "ExecuteTime": {
     "end_time": "2020-06-11T21:07:50.668242Z",
     "start_time": "2020-06-11T21:07:48.683146Z"
    }
   },
   "outputs": [],
   "source": [
    "fig, axes = plt.subplots(nrows=2, figsize=(10,7))\n",
    "lac.plot(x_compat=True, title=\"LA counts\", ax=axes[0])\n",
    "lac.plot(logy=True,  x_compat=True, title=\"LA counts (log)\", ax=axes[1])\n",
    "fig.autofmt_xdate()\n",
    "fig.tight_layout()"
   ]
  },
  {
   "cell_type": "code",
   "execution_count": null,
   "metadata": {
    "ExecuteTime": {
     "end_time": "2020-06-11T21:07:51.991123Z",
     "start_time": "2020-06-11T21:07:50.670500Z"
    }
   },
   "outputs": [],
   "source": [
    "fig, axes = plt.subplots(nrows=2, figsize=(10,5))\n",
    "noho.plot(   x_compat=True, title=\"NoHo counts\", ax=axes[0])\n",
    "noho.plot(logy=True,  x_compat=True, title=\"NoHo counts (log)\", ax=axes[1])\n",
    "fig.autofmt_xdate()"
   ]
  },
  {
   "cell_type": "code",
   "execution_count": null,
   "metadata": {
    "ExecuteTime": {
     "end_time": "2020-06-03T20:28:27.446967Z",
     "start_time": "2020-06-03T20:28:27.321657Z"
    },
    "editable": false,
    "run_control": {
     "frozen": true
    }
   },
   "outputs": [],
   "source": [
    "df = lac_daily_new\n",
    "TOOLTIPS = [\n",
    "    (\"new_confirmed_cases\", \"$index\"),\n",
    "    (\"(x,y)\", \"($x, $y)\"),\n",
    "#     (\"desc\", \"@desc\"),\n",
    "]\n",
    "\n",
    "p = figure(plot_width=1000, \n",
    "           plot_height=400, \n",
    "           title=\"Daily new cases (LAC)\", \n",
    "           x_axis_type='datetime')#, \n",
    "#            tooltips=TOOLTIPS)\n",
    "\n",
    "source = ColumnDataSource(df.reset_index())\n",
    "source2 = ColumnDataSource(df.rolling(window='7D').mean().reset_index())\n",
    "\n",
    "# add a circle renderer with a size, color, and alpha\n",
    "# p.circle(x='date', y='new_confirmed_cases', size=10, color=\"navy\", source=source, alpha=0.5)\n",
    "p.vbar(x='date', \n",
    "       top='new_confirmed_cases',  \n",
    "       color=\"green\", \n",
    "       width=0.4, \n",
    "       source=source, alpha=0.8, \n",
    "       legend_label='Daily new cases')\n",
    "p.line(x='date', \n",
    "       y='new_confirmed_cases', \n",
    "       line_width=5, \n",
    "       color=\"navy\", \n",
    "       source=source2, \n",
    "       alpha=0.3, \n",
    "       legend_label='7-day rolling avg')\n",
    "\n",
    "\n",
    "# df['lower'] = df.new_confirmed_cases.mean() - df.new_confirmed_cases.std()\n",
    "# df['upper'] = df.new_confirmed_cases.mean() + df.new_confirmed_cases.std()\n",
    "# band = Band(base='x', lower='lower', upper='upper', source=source, level='underlay',\n",
    "#             fill_alpha=1.0, line_width=1, line_color='black')\n",
    "# p.add_layout(band)\n",
    "\n",
    "# show the results\n",
    "show(p)"
   ]
  },
  {
   "cell_type": "markdown",
   "metadata": {},
   "source": [
    "# Growth rate (prev day new cases / current day new cases)"
   ]
  },
  {
   "cell_type": "code",
   "execution_count": null,
   "metadata": {
    "ExecuteTime": {
     "end_time": "2020-06-11T21:07:52.011130Z",
     "start_time": "2020-06-11T21:07:51.993605Z"
    }
   },
   "outputs": [],
   "source": [
    "lac_new = lac - lac.shift(1)\n",
    "lac_growth_rate = lac_new / lac_new.shift(1)\n",
    "\n",
    "noho_new = noho - noho.shift(1)\n",
    "noho_growth_rate = noho_new / noho_new.shift(1)"
   ]
  },
  {
   "cell_type": "markdown",
   "metadata": {},
   "source": [
    "## LAC growth rate"
   ]
  },
  {
   "cell_type": "code",
   "execution_count": null,
   "metadata": {
    "ExecuteTime": {
     "end_time": "2020-06-11T21:07:54.758644Z",
     "start_time": "2020-06-11T21:07:52.014296Z"
    }
   },
   "outputs": [],
   "source": [
    "fig, axes = plt.subplots(nrows=4, figsize=(10,10))\n",
    "lac_growth_rate.plot(x_compat=True, title=\"LAC growth rate\", ax=axes[0])\n",
    "lac_growth_rate.cases.plot( title=\"LAC growth rate cases\", kind='bar', ax=axes[1])\n",
    "lac_growth_rate.hospitalized.plot( title=\"LAC growth rate hospitalized\", kind='bar', ax=axes[2])\n",
    "lac_growth_rate.deaths.plot( title=\"LAC growth rate deaths\", kind='bar', ax=axes[3])\n",
    "ticklabels = [i.strftime(\"%b-%d\") for i, row in lac_growth_rate.iterrows()]\n",
    "axes[0].xaxis.set_major_formatter(mticker.FixedFormatter(ticklabels))\n",
    "axes[1].xaxis.set_major_formatter(mticker.FixedFormatter(ticklabels))\n",
    "axes[2].xaxis.set_major_formatter(mticker.FixedFormatter(ticklabels))\n",
    "axes[3].xaxis.set_major_formatter(mticker.FixedFormatter(ticklabels))\n",
    "axes[0].axhline(y=1, color='r')\n",
    "axes[1].axhline(y=1, color='r')\n",
    "axes[2].axhline(y=1, color='r')\n",
    "axes[3].axhline(y=1, color='r')\n",
    "fig.autofmt_xdate(); fig.tight_layout()"
   ]
  },
  {
   "cell_type": "markdown",
   "metadata": {},
   "source": [
    "## NoHo growth"
   ]
  },
  {
   "cell_type": "code",
   "execution_count": null,
   "metadata": {
    "ExecuteTime": {
     "end_time": "2020-06-11T21:07:54.762509Z",
     "start_time": "2020-06-11T21:07:30.884Z"
    }
   },
   "outputs": [],
   "source": [
    "fig, axes = plt.subplots(nrows=2, figsize=(10,5))\n",
    "noho_growth_rate.plot(x_compat=True, title=\"NoHo Daily growth rate\", ax=axes[0])\n",
    "noho_growth_rate.plot( title=\"NoHo Daily growth rate\", kind='bar', ax=axes[1])\n",
    "ticklabels = [i.strftime(\"%b-%d\") for i, row in noho_new.iterrows()]\n",
    "axes[0].xaxis.set_major_formatter(mticker.FixedFormatter(ticklabels))\n",
    "axes[1].xaxis.set_major_formatter(mticker.FixedFormatter(ticklabels))\n",
    "axes[0].axhline(y=1, color='r')\n",
    "axes[1].axhline(y=1, color='r')\n",
    "fig.autofmt_xdate(); fig.tight_layout()"
   ]
  },
  {
   "cell_type": "markdown",
   "metadata": {},
   "source": [
    "# Cumulative data"
   ]
  },
  {
   "cell_type": "markdown",
   "metadata": {},
   "source": [
    "## Case and death counts"
   ]
  },
  {
   "cell_type": "code",
   "execution_count": null,
   "metadata": {
    "ExecuteTime": {
     "end_time": "2020-06-11T21:07:54.764599Z",
     "start_time": "2020-06-11T21:07:30.894Z"
    }
   },
   "outputs": [],
   "source": [
    "fig, axes = plt.subplots(nrows=3, figsize=(10,5))\n",
    "lac_cum.confirmed_cases.plot(   x_compat=True, title=\"LAC cumulative counts (log)\", ax=axes[0])\n",
    "lac_cum.deaths.plot(   x_compat=True, title=\"LAC cumulative deaths (log)\", ax=axes[1])\n",
    "noho.confirmed_cases.plot(logy=True,  x_compat=True, title=\"NoHo cumulative counts (log)\", ax=axes[2])\n",
    "fig.autofmt_xdate(); fig.tight_layout()"
   ]
  },
  {
   "cell_type": "markdown",
   "metadata": {},
   "source": [
    "## Hospitalizations"
   ]
  },
  {
   "cell_type": "code",
   "execution_count": null,
   "metadata": {
    "ExecuteTime": {
     "end_time": "2020-06-11T21:07:54.766164Z",
     "start_time": "2020-06-11T21:07:30.903Z"
    }
   },
   "outputs": [],
   "source": [
    "fig, axes = plt.subplots(figsize=(10, 4))\n",
    "hosp_lac.plot(title='Hospitalizations (LAC)', ax=axes )\n",
    "fig.autofmt_xdate();\n",
    "fig.tight_layout()"
   ]
  },
  {
   "cell_type": "code",
   "execution_count": null,
   "metadata": {
    "ExecuteTime": {
     "end_time": "2020-06-11T21:07:54.768517Z",
     "start_time": "2020-06-11T21:07:30.912Z"
    }
   },
   "outputs": [],
   "source": [
    "df.set_index('date').new_deaths.resample('3D').mean()"
   ]
  },
  {
   "cell_type": "code",
   "execution_count": null,
   "metadata": {
    "ExecuteTime": {
     "end_time": "2020-06-11T21:07:54.770235Z",
     "start_time": "2020-06-11T21:07:30.919Z"
    }
   },
   "outputs": [],
   "source": [
    "hosp_lac"
   ]
  },
  {
   "cell_type": "code",
   "execution_count": null,
   "metadata": {},
   "outputs": [],
   "source": []
  },
  {
   "cell_type": "code",
   "execution_count": null,
   "metadata": {},
   "outputs": [],
   "source": []
  },
  {
   "cell_type": "code",
   "execution_count": null,
   "metadata": {},
   "outputs": [],
   "source": []
  },
  {
   "cell_type": "code",
   "execution_count": null,
   "metadata": {},
   "outputs": [],
   "source": []
  },
  {
   "cell_type": "code",
   "execution_count": null,
   "metadata": {},
   "outputs": [],
   "source": []
  },
  {
   "cell_type": "code",
   "execution_count": null,
   "metadata": {},
   "outputs": [],
   "source": []
  },
  {
   "cell_type": "code",
   "execution_count": null,
   "metadata": {},
   "outputs": [],
   "source": []
  },
  {
   "cell_type": "code",
   "execution_count": null,
   "metadata": {},
   "outputs": [],
   "source": []
  },
  {
   "cell_type": "code",
   "execution_count": null,
   "metadata": {},
   "outputs": [],
   "source": []
  },
  {
   "cell_type": "code",
   "execution_count": null,
   "metadata": {},
   "outputs": [],
   "source": []
  },
  {
   "cell_type": "markdown",
   "metadata": {},
   "source": [
    "# Daily new cases"
   ]
  },
  {
   "cell_type": "code",
   "execution_count": null,
   "metadata": {
    "ExecuteTime": {
     "end_time": "2020-06-11T21:07:54.772667Z",
     "start_time": "2020-06-11T21:07:30.941Z"
    }
   },
   "outputs": [],
   "source": [
    "fig, axes = plt.subplots(nrows=4, figsize=(10,10))\n",
    "lac_new.plot(x_compat=True, title=\"LAC Daily new\", ax=axes[0])\n",
    "lac_new.cases.plot( title=\"LAC Daily new cases\", kind='bar', ax=axes[1])\n",
    "lac_new.hospitalized.plot( title=\"LAC Daily new hospitalized\", kind='bar', ax=axes[2])\n",
    "lac_new.deaths.plot( title=\"LAC Daily new deaths\", kind='bar', ax=axes[3])\n",
    "ticklabels = [i.strftime(\"%b-%d\") for i, row in lac_new.iterrows()]\n",
    "axes[0].xaxis.set_major_formatter(mticker.FixedFormatter(ticklabels))\n",
    "axes[1].xaxis.set_major_formatter(mticker.FixedFormatter(ticklabels))\n",
    "axes[2].xaxis.set_major_formatter(mticker.FixedFormatter(ticklabels))\n",
    "axes[3].xaxis.set_major_formatter(mticker.FixedFormatter(ticklabels))\n",
    "fig.autofmt_xdate(); fig.tight_layout()"
   ]
  },
  {
   "cell_type": "code",
   "execution_count": null,
   "metadata": {
    "ExecuteTime": {
     "end_time": "2020-06-11T21:07:54.774635Z",
     "start_time": "2020-06-11T21:07:30.949Z"
    }
   },
   "outputs": [],
   "source": [
    "lac_new.rolling(window=4).mean().plot()"
   ]
  },
  {
   "cell_type": "code",
   "execution_count": null,
   "metadata": {
    "ExecuteTime": {
     "end_time": "2020-06-11T21:07:54.776724Z",
     "start_time": "2020-06-11T21:07:30.958Z"
    }
   },
   "outputs": [],
   "source": [
    "fig, axes = plt.subplots(nrows=2, figsize=(10,5))\n",
    "noho_new.plot(x_compat=True, title=\"NoHo Daily new\", ax=axes[0])\n",
    "noho_new.plot( title=\"NoHo Daily new\", kind='bar', ax=axes[1])\n",
    "ticklabels = [i.strftime(\"%b-%d\") for i, row in noho_new.iterrows()]\n",
    "axes[0].xaxis.set_major_formatter(mticker.FixedFormatter(ticklabels))\n",
    "axes[1].xaxis.set_major_formatter(mticker.FixedFormatter(ticklabels))\n",
    "fig.autofmt_xdate(); fig.tight_layout()"
   ]
  },
  {
   "cell_type": "code",
   "execution_count": null,
   "metadata": {
    "ExecuteTime": {
     "end_time": "2020-06-11T21:07:54.779401Z",
     "start_time": "2020-06-11T21:07:30.966Z"
    }
   },
   "outputs": [],
   "source": [
    "# noho_growth_rate.rolling(window=4).mean().plot()"
   ]
  },
  {
   "cell_type": "code",
   "execution_count": null,
   "metadata": {},
   "outputs": [],
   "source": []
  },
  {
   "cell_type": "markdown",
   "metadata": {},
   "source": [
    "# Percent change from previous day"
   ]
  },
  {
   "cell_type": "code",
   "execution_count": null,
   "metadata": {
    "ExecuteTime": {
     "end_time": "2020-06-11T21:07:54.781311Z",
     "start_time": "2020-06-11T21:07:30.977Z"
    }
   },
   "outputs": [],
   "source": [
    "fig, axes = plt.subplots(nrows=2, figsize=(10, 5))\n",
    "lac_growth.plot(kind='bar', title='LA % change',  ax=axes[0])\n",
    "noho_growth.plot(kind='bar', title='NoHo % change',  ax=axes[1])\n",
    "ticklabels = [i.strftime(\"%b-%d\") for i, row in lac_growth.iterrows()]\n",
    "axes[0].xaxis.set_major_formatter(mticker.FixedFormatter(ticklabels))\n",
    "axes[1].xaxis.set_major_formatter(mticker.FixedFormatter(ticklabels))\n",
    "axes[0].set_ylim((0,1.2)); axes[1].set_ylim((0,1.2))\n",
    "fig.autofmt_xdate(); fig.tight_layout()"
   ]
  },
  {
   "cell_type": "code",
   "execution_count": null,
   "metadata": {
    "ExecuteTime": {
     "end_time": "2020-06-11T21:07:54.782974Z",
     "start_time": "2020-06-11T21:07:30.984Z"
    }
   },
   "outputs": [],
   "source": [
    "fig, axes = plt.subplots(nrows=2, figsize=(10, 5))\n",
    "lac_growth.plot(x_compat=True, title='LA % change',  ax=axes[0])\n",
    "noho_growth.plot(x_compat=True, title='NoHo % change',  ax=axes[1])\n",
    "axes[0].set_ylim((-1,1.2)); axes[1].set_ylim((-1,1.2))\n",
    "fig.tight_layout()"
   ]
  },
  {
   "cell_type": "code",
   "execution_count": null,
   "metadata": {},
   "outputs": [],
   "source": []
  },
  {
   "cell_type": "code",
   "execution_count": null,
   "metadata": {},
   "outputs": [],
   "source": []
  },
  {
   "cell_type": "markdown",
   "metadata": {},
   "source": [
    "# Data\n",
    "## LA County\n",
    "### Cases (counts)"
   ]
  },
  {
   "cell_type": "code",
   "execution_count": null,
   "metadata": {
    "ExecuteTime": {
     "end_time": "2020-06-11T21:07:54.784867Z",
     "start_time": "2020-06-11T21:07:30.997Z"
    },
    "scrolled": true
   },
   "outputs": [],
   "source": [
    "lac"
   ]
  },
  {
   "cell_type": "markdown",
   "metadata": {},
   "source": [
    "### Hospitalizations"
   ]
  },
  {
   "cell_type": "code",
   "execution_count": null,
   "metadata": {
    "ExecuteTime": {
     "end_time": "2020-06-11T21:07:54.786919Z",
     "start_time": "2020-06-11T21:07:31.006Z"
    }
   },
   "outputs": [],
   "source": [
    "hosp_lac"
   ]
  },
  {
   "cell_type": "markdown",
   "metadata": {},
   "source": [
    "### Daily new "
   ]
  },
  {
   "cell_type": "code",
   "execution_count": null,
   "metadata": {
    "ExecuteTime": {
     "end_time": "2020-06-11T21:07:54.788290Z",
     "start_time": "2020-06-11T21:07:31.016Z"
    }
   },
   "outputs": [],
   "source": [
    "lac_new"
   ]
  },
  {
   "cell_type": "code",
   "execution_count": null,
   "metadata": {
    "ExecuteTime": {
     "end_time": "2020-06-11T21:07:54.789942Z",
     "start_time": "2020-06-11T21:07:31.024Z"
    }
   },
   "outputs": [],
   "source": [
    "lac_daily_new"
   ]
  },
  {
   "cell_type": "markdown",
   "metadata": {},
   "source": [
    "### Growth rate (ratio of day's growth to previous day's growth)"
   ]
  },
  {
   "cell_type": "code",
   "execution_count": null,
   "metadata": {
    "ExecuteTime": {
     "end_time": "2020-06-11T21:07:54.791429Z",
     "start_time": "2020-06-11T21:07:31.034Z"
    }
   },
   "outputs": [],
   "source": [
    "lac_growth_rate"
   ]
  },
  {
   "cell_type": "markdown",
   "metadata": {},
   "source": [
    "### Pct change from previous day)"
   ]
  },
  {
   "cell_type": "code",
   "execution_count": null,
   "metadata": {
    "ExecuteTime": {
     "end_time": "2020-06-11T21:07:54.793538Z",
     "start_time": "2020-06-11T21:07:31.043Z"
    }
   },
   "outputs": [],
   "source": [
    "lac_growth.dropna(how='all')"
   ]
  },
  {
   "cell_type": "markdown",
   "metadata": {},
   "source": [
    "## North Hollywood\n",
    "### Cases (count)"
   ]
  },
  {
   "cell_type": "code",
   "execution_count": null,
   "metadata": {
    "ExecuteTime": {
     "end_time": "2020-06-11T21:07:54.795204Z",
     "start_time": "2020-06-11T21:07:31.053Z"
    }
   },
   "outputs": [],
   "source": [
    "noho"
   ]
  },
  {
   "cell_type": "code",
   "execution_count": null,
   "metadata": {
    "ExecuteTime": {
     "end_time": "2020-06-11T21:07:54.797101Z",
     "start_time": "2020-06-11T21:07:31.061Z"
    }
   },
   "outputs": [],
   "source": [
    "noho"
   ]
  },
  {
   "cell_type": "markdown",
   "metadata": {},
   "source": [
    "### Daily new cases"
   ]
  },
  {
   "cell_type": "code",
   "execution_count": null,
   "metadata": {
    "ExecuteTime": {
     "end_time": "2020-06-11T21:07:54.798931Z",
     "start_time": "2020-06-11T21:07:31.071Z"
    }
   },
   "outputs": [],
   "source": [
    "noho_new"
   ]
  },
  {
   "cell_type": "code",
   "execution_count": null,
   "metadata": {},
   "outputs": [],
   "source": []
  },
  {
   "cell_type": "code",
   "execution_count": null,
   "metadata": {},
   "outputs": [],
   "source": []
  },
  {
   "cell_type": "markdown",
   "metadata": {},
   "source": [
    "### Growth rate (prev day new cases / current day new cases)"
   ]
  },
  {
   "cell_type": "code",
   "execution_count": null,
   "metadata": {
    "ExecuteTime": {
     "end_time": "2020-06-11T21:07:54.800861Z",
     "start_time": "2020-06-11T21:07:31.083Z"
    }
   },
   "outputs": [],
   "source": [
    "noho_growth_rate"
   ]
  },
  {
   "cell_type": "markdown",
   "metadata": {},
   "source": [
    "### Pct change from previous day"
   ]
  },
  {
   "cell_type": "code",
   "execution_count": null,
   "metadata": {
    "ExecuteTime": {
     "end_time": "2020-06-11T21:07:54.802735Z",
     "start_time": "2020-06-11T21:07:31.093Z"
    }
   },
   "outputs": [],
   "source": [
    "noho_growth"
   ]
  },
  {
   "cell_type": "code",
   "execution_count": null,
   "metadata": {},
   "outputs": [],
   "source": []
  },
  {
   "cell_type": "code",
   "execution_count": null,
   "metadata": {},
   "outputs": [],
   "source": []
  },
  {
   "cell_type": "code",
   "execution_count": null,
   "metadata": {},
   "outputs": [],
   "source": []
  },
  {
   "cell_type": "markdown",
   "metadata": {},
   "source": [
    "# Attic"
   ]
  },
  {
   "cell_type": "code",
   "execution_count": null,
   "metadata": {
    "ExecuteTime": {
     "end_time": "2020-04-01T19:14:08.639548Z",
     "start_time": "2020-04-01T19:14:06.095534Z"
    },
    "editable": false,
    "run_control": {
     "frozen": true
    }
   },
   "outputs": [],
   "source": [
    "fig, axes = plt.subplots(nrows=2, ncols=2, figsize=(10,10))\n",
    "lac.plot(x_compat=True, title=\"LA counts\", ax=axes[0, 0])\n",
    "lac.plot(logy=True,  x_compat=True, title=\"LA counts (log)\", ax=axes[0, 1])\n",
    "noho.plot(   x_compat=True, title=\"NoHo counts\", ax=axes[1,0])\n",
    "noho.plot(logy=True,  x_compat=True, title=\"NoHo counts (log)\", ax=axes[1,1])\n",
    "fig.autofmt_xdate()\n",
    "fig.tight_layout()"
   ]
  },
  {
   "cell_type": "code",
   "execution_count": null,
   "metadata": {
    "ExecuteTime": {
     "end_time": "2020-04-01T22:00:32.559611Z",
     "start_time": "2020-04-01T22:00:31.860073Z"
    },
    "editable": false,
    "run_control": {
     "frozen": true
    }
   },
   "outputs": [],
   "source": [
    "fig, axes = plt.subplots(figsize=(10, 5))\n",
    "noho.plot(logy=True,  x_compat=True, title=\"NoHo counts (log)\", ax=axes)\n",
    "# axes.set_xlim('2020-03-20', '2020-04-01')\n"
   ]
  },
  {
   "cell_type": "code",
   "execution_count": null,
   "metadata": {
    "ExecuteTime": {
     "end_time": "2020-05-16T19:15:11.561205Z",
     "start_time": "2020-05-16T19:15:11.532104Z"
    },
    "editable": false,
    "run_control": {
     "frozen": true,
     "marked": false
    }
   },
   "outputs": [],
   "source": [
    "DATAFOLDER = \"{}/Dropbox/local-covid/data\".format(ROOT)\n",
    "datafile = \"{}/covid.xlsx\".format(DATAFOLDER)\n",
    "\n",
    "# Load data\n",
    "lac = pd.read_excel(datafile, sheet_name='lac')\n",
    "lac.set_index('date', inplace=True)\n",
    "lac_growth = lac.pct_change()\n",
    "old_noho = pd.read_excel(datafile, sheet_name='noho')\n",
    "# old_noho.set_index('date', inplace=True)\n",
    "# noho_growth = old_noho.pct_change()"
   ]
  },
  {
   "cell_type": "code",
   "execution_count": null,
   "metadata": {
    "ExecuteTime": {
     "end_time": "2020-06-11T21:07:54.804374Z",
     "start_time": "2020-06-11T21:07:31.110Z"
    }
   },
   "outputs": [],
   "source": [
    "import numpy as np\n",
    "\n",
    "growth_rate = np.exp(np.diff(np.log(lac.cases))) - 1"
   ]
  },
  {
   "cell_type": "code",
   "execution_count": null,
   "metadata": {
    "ExecuteTime": {
     "end_time": "2020-06-11T21:07:54.806681Z",
     "start_time": "2020-06-11T21:07:31.119Z"
    }
   },
   "outputs": [],
   "source": [
    "growth_rate"
   ]
  },
  {
   "cell_type": "code",
   "execution_count": null,
   "metadata": {
    "ExecuteTime": {
     "end_time": "2020-06-11T21:07:54.808265Z",
     "start_time": "2020-06-11T21:07:31.127Z"
    }
   },
   "outputs": [],
   "source": [
    "r = requests.get(url)"
   ]
  },
  {
   "cell_type": "code",
   "execution_count": null,
   "metadata": {
    "ExecuteTime": {
     "end_time": "2020-05-16T17:29:12.296615Z",
     "start_time": "2020-05-16T17:29:11.554735Z"
    },
    "editable": false,
    "run_control": {
     "frozen": true,
     "marked": false
    }
   },
   "outputs": [],
   "source": [
    "# Download and save new data\n",
    "\n",
    "pd.options.display.max_rows = 999\n",
    "\n",
    "URL = 'http://publichealth.lacounty.gov/media/Coronavirus/locations.htm'\n",
    "\n",
    "def download_data(url=URL):\n",
    "    data = pd.read_html(url)[0]\n",
    "    # save copy\n",
    "    data.to_csv(make_data_filepath(ORIGINAL_NAME_STEM))\n",
    "    data.rename({'Locations' : 'location', 'Total Cases': 'cases'}, inplace=True, axis=1)\n",
    "    # Get rid of empty rows\n",
    "    data = data[~pd.isnull(data.location)]\n",
    "\n",
    "    exclude = ['*']\n",
    "    def process_strings(field):\n",
    "        if not isinstance(field, str):\n",
    "            return field\n",
    "        if field == '--':\n",
    "            return None\n",
    "        return ''.join([a for a in field if a not in exclude])\n",
    "\n",
    "    data.location = data.apply(lambda x : process_strings(x.location), axis=1)\n",
    "    data.cases = data.apply(lambda x : process_strings(x.cases), axis=1)\n",
    "    # have to process before cast because some rows will have things like 5****\n",
    "    data.cases = data.cases.astype(float)\n",
    "    data['date'] = datetime.datetime.now()\n",
    "\n",
    "    # Extract the locality data\n",
    "    try:\n",
    "        city_start_idx = data.loc[data.location == 'CITY/COMMUNITY'].index[0]\n",
    "    except IndexError:\n",
    "        city_start_idx = data.loc[data.location == 'CITY / COMMUNITY'].index[0]\n",
    "    lac_data = data[ : city_start_idx - 1 ]\n",
    "    local_data = data[city_start_idx + 1 : ]\n",
    "\n",
    "    # Save the data\n",
    "    lac_data.to_csv(make_data_filepath(COUNTY_NAME_STEM))\n",
    "    local_data.to_csv(make_data_filepath(LOCALITY_NAME_STEM))\n",
    "    \n",
    "    # Shouldn't need these since will be easier to just load all files\n",
    "    return (lac_data, local_data)\n",
    "lac_data, local_data = download_data()"
   ]
  },
  {
   "cell_type": "code",
   "execution_count": null,
   "metadata": {
    "ExecuteTime": {
     "end_time": "2020-05-14T21:47:34.443325Z",
     "start_time": "2020-05-14T21:47:33.889713Z"
    },
    "editable": false,
    "run_control": {
     "frozen": true,
     "marked": false
    }
   },
   "outputs": [],
   "source": [
    "# Load existing\n",
    "local_fit = make_data_fiterator(LOCALITY_NAME_STEM)\n",
    "county_fit = make_data_fiterator(COUNTY_NAME_STEM)\n",
    "\n",
    "old_lac = pd.read_excel(datafile, sheet_name='lac')\n",
    "old_noho = pd.read_excel(datafile, sheet_name='noho')\n",
    "\n",
    "lac_data = pd.concat([pd.read_csv(df).set_index('date').drop(['Unnamed: 0'], axis=1) for df in county_fit])\n",
    "\n",
    "local = pd.concat([pd.read_csv(df).set_index('date').drop(['Unnamed: 0'], axis=1) for df in local_fit])\n",
    "local.index = pd.to_datetime(local.index)\n",
    "\n",
    "# NoHo data\n",
    "noho_names = ['Los Angeles - North Hollywood']\n",
    "local.reset_index(inplace=True)\n",
    "noho = local[local.location.isin(noho_names)][['cases', 'date']]\n",
    "# add in old data\n",
    "noho = pd.concat([noho, old_noho])\n",
    "noho.set_index('date', inplace=True)\n",
    "# Fix day where less cases reported than day before\n",
    "noho.loc['2020-04-06', 'cases'] = 91\n",
    "noho.sort_index(inplace=True)\n",
    "noho_growth = noho.pct_change()\n",
    "# noho\n",
    "\n",
    "# Extract cases, deaths, hospitalizations for county\n",
    "lac_names = {'Laboratory Confirmed Cases (LCC)': 'cases',\n",
    " 'Deaths': 'deaths',\n",
    "    'Hospitalized (Ever)' : 'hospitalized' }\n",
    "\n",
    "dlac = lac_data[lac_data.location.isin(lac_names.keys())]\n",
    "dlac = dlac.pivot(columns='location', values='cases')\n",
    "dlac.rename(lac_names, axis=1, inplace=True)\n",
    "dlac.reset_index(inplace=True)\n",
    "# dlac.set_index('date')\n",
    "# dlac.drop(['location'], axis=1, inplace=True)\n",
    "\n",
    "# dlac\n",
    "\n",
    "# dlac.reset_index(inplace=True)\n",
    "lac = pd.concat([dlac, old_lac])\n",
    "lac.date = pd.to_datetime(lac.date)\n",
    "lac.set_index('date', inplace=True)\n",
    "# lac.drop(['level_0'], axis=1, inplace=True)\n",
    "lac.sort_index(inplace=True)\n",
    "# lac\n",
    "lac_growth = lac.pct_change()\n"
   ]
  },
  {
   "cell_type": "code",
   "execution_count": null,
   "metadata": {
    "ExecuteTime": {
     "end_time": "2020-05-16T04:56:28.285807Z",
     "start_time": "2020-05-16T04:56:28.280539Z"
    },
    "editable": false,
    "run_control": {
     "frozen": true,
     "marked": false
    }
   },
   "outputs": [],
   "source": [
    "COUNTY_NAME_STEM = \"la_county_data.csv\"\n",
    "LOCALITY_NAME_STEM = \"locality_data.csv\"\n",
    "ORIGINAL_NAME_STEM = \"original_data.csv\"\n",
    "\n",
    "def make_data_filepath(name_stem):\n",
    "    dt = datetime.date.isoformat( datetime.date.today() )\n",
    "    return \"{}/{}_{}\".format(DATAFOLDER, dt, name_stem)\n",
    "\n",
    "\n",
    "\n",
    "def make_data_fiterator( name_stem, data_folder=DATAFOLDER ):\n",
    "    \"\"\"\n",
    "    Returns an iterator of all files with the name stem\n",
    "    in the source directory such that each file has its path appended to it.\n",
    "\n",
    "    Args:\n",
    "        folderPath: The path to get file names from\n",
    "        exclude: file names which should not be included in the output list\n",
    "\n",
    "    \"\"\"\n",
    "    for root, dirs, files in os.walk( data_folder ):\n",
    "        for name in files:\n",
    "            if name[ -len(name_stem): ] == name_stem:\n",
    "                yield os.path.join( root, name )\n"
   ]
  },
  {
   "cell_type": "code",
   "execution_count": null,
   "metadata": {
    "ExecuteTime": {
     "end_time": "2020-03-29T16:59:20.091347Z",
     "start_time": "2020-03-29T16:59:20.041368Z"
    },
    "editable": false,
    "run_control": {
     "frozen": true
    }
   },
   "outputs": [],
   "source": [
    "# fixing missed day\n",
    "local_data.date = local_data.date - pd.Timedelta('1 day')\n",
    "local_data\n",
    "\n",
    "local_data.to_csv(make_data_filepath(LOCALITY_NAME_STEM))"
   ]
  },
  {
   "cell_type": "code",
   "execution_count": null,
   "metadata": {},
   "outputs": [],
   "source": []
  },
  {
   "cell_type": "code",
   "execution_count": null,
   "metadata": {
    "ExecuteTime": {
     "end_time": "2020-06-11T21:07:54.810016Z",
     "start_time": "2020-06-11T21:07:31.140Z"
    }
   },
   "outputs": [],
   "source": [
    "import requests"
   ]
  },
  {
   "cell_type": "code",
   "execution_count": null,
   "metadata": {
    "ExecuteTime": {
     "end_time": "2020-06-11T21:07:54.811829Z",
     "start_time": "2020-06-11T21:07:31.150Z"
    }
   },
   "outputs": [],
   "source": [
    "r.content"
   ]
  },
  {
   "cell_type": "code",
   "execution_count": null,
   "metadata": {
    "ExecuteTime": {
     "end_time": "2020-06-11T21:07:54.814348Z",
     "start_time": "2020-06-11T21:07:31.158Z"
    }
   },
   "outputs": [],
   "source": [
    "old_lac"
   ]
  },
  {
   "cell_type": "code",
   "execution_count": null,
   "metadata": {
    "ExecuteTime": {
     "end_time": "2020-06-11T21:07:54.816558Z",
     "start_time": "2020-06-11T21:07:31.168Z"
    }
   },
   "outputs": [],
   "source": [
    "lac.pivot()"
   ]
  },
  {
   "cell_type": "code",
   "execution_count": null,
   "metadata": {
    "ExecuteTime": {
     "end_time": "2020-06-11T21:07:54.818381Z",
     "start_time": "2020-06-11T21:07:31.179Z"
    }
   },
   "outputs": [],
   "source": [
    "local"
   ]
  },
  {
   "cell_type": "code",
   "execution_count": null,
   "metadata": {
    "ExecuteTime": {
     "end_time": "2020-06-11T21:07:54.820738Z",
     "start_time": "2020-06-11T21:07:31.187Z"
    }
   },
   "outputs": [],
   "source": [
    "f = make_locality_filepath()\n",
    "\n",
    "f[ -len(LOCALITY_NAME_STEM):] == LOCALITY_NAME_STEM"
   ]
  },
  {
   "cell_type": "code",
   "execution_count": null,
   "metadata": {
    "ExecuteTime": {
     "end_time": "2020-06-11T21:07:54.822953Z",
     "start_time": "2020-06-11T21:07:31.197Z"
    }
   },
   "outputs": [],
   "source": [
    "dlac.index"
   ]
  },
  {
   "cell_type": "code",
   "execution_count": null,
   "metadata": {
    "ExecuteTime": {
     "end_time": "2020-06-11T21:07:54.824778Z",
     "start_time": "2020-06-11T21:07:31.206Z"
    }
   },
   "outputs": [],
   "source": [
    "local_data"
   ]
  },
  {
   "cell_type": "code",
   "execution_count": null,
   "metadata": {
    "ExecuteTime": {
     "end_time": "2020-06-11T21:07:54.826327Z",
     "start_time": "2020-06-11T21:07:31.217Z"
    }
   },
   "outputs": [],
   "source": [
    "data"
   ]
  },
  {
   "cell_type": "code",
   "execution_count": null,
   "metadata": {
    "ExecuteTime": {
     "end_time": "2020-06-11T21:07:54.828536Z",
     "start_time": "2020-06-11T21:07:31.227Z"
    }
   },
   "outputs": [],
   "source": [
    "noho"
   ]
  },
  {
   "cell_type": "code",
   "execution_count": null,
   "metadata": {},
   "outputs": [],
   "source": []
  },
  {
   "cell_type": "code",
   "execution_count": null,
   "metadata": {},
   "outputs": [],
   "source": []
  },
  {
   "cell_type": "code",
   "execution_count": null,
   "metadata": {
    "ExecuteTime": {
     "end_time": "2020-06-11T21:07:54.830153Z",
     "start_time": "2020-06-11T21:07:31.239Z"
    }
   },
   "outputs": [],
   "source": [
    "soup = BeautifulSoup( r.content, features=\"lxml\" )\n"
   ]
  },
  {
   "cell_type": "code",
   "execution_count": null,
   "metadata": {
    "ExecuteTime": {
     "end_time": "2020-06-11T21:07:54.832232Z",
     "start_time": "2020-06-11T21:07:31.248Z"
    }
   },
   "outputs": [],
   "source": [
    "soup.table"
   ]
  },
  {
   "cell_type": "markdown",
   "metadata": {},
   "source": [
    "https://www.latimes.com/projects/california-coronavirus-cases-tracking-outbreak/\n",
    "    \n",
    "    Data inside a script tag at the bottom of the page"
   ]
  },
  {
   "cell_type": "code",
   "execution_count": null,
   "metadata": {
    "ExecuteTime": {
     "end_time": "2020-06-11T21:07:54.834299Z",
     "start_time": "2020-06-11T21:07:31.258Z"
    }
   },
   "outputs": [],
   "source": [
    "window.STATEWIDE_TIMESERIES = [{\"date\":\"2020-01-26\",\"confirmed_cases\":2,\"deaths\":0,\"in_progress\":false,\"new_confirmed_cases\":null,\"new_deaths\":null},{\"date\":\"2020-01-27\",\"confirmed_cases\":2,\"deaths\":0,\"in_progress\":false,\"new_confirmed_cases\":0,\"new_deaths\":0},{\"date\":\"2020-01-28\",\"confirmed_cases\":2,\"deaths\":0,\"in_progress\":false,\"new_confirmed_cases\":0,\"new_deaths\":0},{\"date\":\"2020-01-29\",\"confirmed_cases\":2,\"deaths\":0,\"in_progress\":false,\"new_confirmed_cases\":0,\"new_deaths\":0},{\"date\":\"2020-01-30\",\"confirmed_cases\":2,\"deaths\":0,\"in_progress\":false,\"new_confirmed_cases\":0,\"new_deaths\":0},{\"date\":\"2020-01-31\",\"confirmed_cases\":3,\"deaths\":0,\"in_progress\":false,\"new_confirmed_cases\":1,\"new_deaths\":0},{\"date\":\"2020-02-01\",\"confirmed_cases\":3,\"deaths\":0,\"in_progress\":false,\"new_confirmed_cases\":0,\"new_deaths\":0},{\"date\":\"2020-02-02\",\"confirmed_cases\":6,\"deaths\":0,\"in_progress\":false,\"new_confirmed_cases\":3,\"new_deaths\":0},{\"date\":\"2020-02-03\",\"confirmed_cases\":6,\"deaths\":0,\"in_progress\":false,\"new_confirmed_cases\":0,\"new_deaths\":0},{\"date\":\"2020-02-04\",\"confirmed_cases\":6,\"deaths\":0,\"in_progress\":false,\"new_confirmed_cases\":0,\"new_deaths\":0},{\"date\":\"2020-02-05\",\"confirmed_cases\":6,\"deaths\":0,\"in_progress\":false,\"new_confirmed_cases\":0,\"new_deaths\":0},{\"date\":\"2020-02-06\",\"confirmed_cases\":6,\"deaths\":0,\"in_progress\":false,\"new_confirmed_cases\":0,\"new_deaths\":0},{\"date\":\"2020-02-07\",\"confirmed_cases\":6,\"deaths\":0,\"in_progress\":false,\"new_confirmed_cases\":0,\"new_deaths\":0},{\"date\":\"2020-02-08\",\"confirmed_cases\":6,\"deaths\":0,\"in_progress\":false,\"new_confirmed_cases\":0,\"new_deaths\":0},{\"date\":\"2020-02-09\",\"confirmed_cases\":6,\"deaths\":0,\"in_progress\":false,\"new_confirmed_cases\":0,\"new_deaths\":0},{\"date\":\"2020-02-10\",\"confirmed_cases\":6,\"deaths\":0,\"in_progress\":false,\"new_confirmed_cases\":0,\"new_deaths\":0},{\"date\":\"2020-02-11\",\"confirmed_cases\":6,\"deaths\":0,\"in_progress\":false,\"new_confirmed_cases\":0,\"new_deaths\":0},{\"date\":\"2020-02-12\",\"confirmed_cases\":6,\"deaths\":0,\"in_progress\":false,\"new_confirmed_cases\":0,\"new_deaths\":0},{\"date\":\"2020-02-13\",\"confirmed_cases\":6,\"deaths\":0,\"in_progress\":false,\"new_confirmed_cases\":0,\"new_deaths\":0},{\"date\":\"2020-02-14\",\"confirmed_cases\":6,\"deaths\":0,\"in_progress\":false,\"new_confirmed_cases\":0,\"new_deaths\":0},{\"date\":\"2020-02-15\",\"confirmed_cases\":6,\"deaths\":0,\"in_progress\":false,\"new_confirmed_cases\":0,\"new_deaths\":0},{\"date\":\"2020-02-16\",\"confirmed_cases\":6,\"deaths\":0,\"in_progress\":false,\"new_confirmed_cases\":0,\"new_deaths\":0},{\"date\":\"2020-02-17\",\"confirmed_cases\":6,\"deaths\":0,\"in_progress\":false,\"new_confirmed_cases\":0,\"new_deaths\":0},{\"date\":\"2020-02-18\",\"confirmed_cases\":6,\"deaths\":0,\"in_progress\":false,\"new_confirmed_cases\":0,\"new_deaths\":0},{\"date\":\"2020-02-19\",\"confirmed_cases\":6,\"deaths\":0,\"in_progress\":false,\"new_confirmed_cases\":0,\"new_deaths\":0},{\"date\":\"2020-02-20\",\"confirmed_cases\":7,\"deaths\":0,\"in_progress\":false,\"new_confirmed_cases\":1,\"new_deaths\":0},{\"date\":\"2020-02-21\",\"confirmed_cases\":8,\"deaths\":0,\"in_progress\":false,\"new_confirmed_cases\":1,\"new_deaths\":0},{\"date\":\"2020-02-22\",\"confirmed_cases\":8,\"deaths\":0,\"in_progress\":false,\"new_confirmed_cases\":0,\"new_deaths\":0},{\"date\":\"2020-02-23\",\"confirmed_cases\":8,\"deaths\":0,\"in_progress\":false,\"new_confirmed_cases\":0,\"new_deaths\":0},{\"date\":\"2020-02-24\",\"confirmed_cases\":8,\"deaths\":0,\"in_progress\":false,\"new_confirmed_cases\":0,\"new_deaths\":0},{\"date\":\"2020-02-25\",\"confirmed_cases\":8,\"deaths\":0,\"in_progress\":false,\"new_confirmed_cases\":0,\"new_deaths\":0},{\"date\":\"2020-02-26\",\"confirmed_cases\":9,\"deaths\":0,\"in_progress\":false,\"new_confirmed_cases\":1,\"new_deaths\":0},{\"date\":\"2020-02-27\",\"confirmed_cases\":9,\"deaths\":0,\"in_progress\":false,\"new_confirmed_cases\":0,\"new_deaths\":0},{\"date\":\"2020-02-28\",\"confirmed_cases\":11,\"deaths\":0,\"in_progress\":false,\"new_confirmed_cases\":2,\"new_deaths\":0},{\"date\":\"2020-02-29\",\"confirmed_cases\":13,\"deaths\":0,\"in_progress\":false,\"new_confirmed_cases\":2,\"new_deaths\":0},{\"date\":\"2020-03-01\",\"confirmed_cases\":18,\"deaths\":0,\"in_progress\":false,\"new_confirmed_cases\":5,\"new_deaths\":0},{\"date\":\"2020-03-02\",\"confirmed_cases\":23,\"deaths\":0,\"in_progress\":false,\"new_confirmed_cases\":5,\"new_deaths\":0},{\"date\":\"2020-03-03\",\"confirmed_cases\":30,\"deaths\":0,\"in_progress\":false,\"new_confirmed_cases\":7,\"new_deaths\":0},{\"date\":\"2020-03-04\",\"confirmed_cases\":40,\"deaths\":1,\"in_progress\":false,\"new_confirmed_cases\":10,\"new_deaths\":1},{\"date\":\"2020-03-05\",\"confirmed_cases\":54,\"deaths\":1,\"in_progress\":false,\"new_confirmed_cases\":14,\"new_deaths\":0},{\"date\":\"2020-03-06\",\"confirmed_cases\":70,\"deaths\":1,\"in_progress\":false,\"new_confirmed_cases\":16,\"new_deaths\":0},{\"date\":\"2020-03-07\",\"confirmed_cases\":90,\"deaths\":1,\"in_progress\":false,\"new_confirmed_cases\":20,\"new_deaths\":0},{\"date\":\"2020-03-08\",\"confirmed_cases\":101,\"deaths\":1,\"in_progress\":false,\"new_confirmed_cases\":11,\"new_deaths\":0},{\"date\":\"2020-03-09\",\"confirmed_cases\":142,\"deaths\":2,\"in_progress\":false,\"new_confirmed_cases\":41,\"new_deaths\":1},{\"date\":\"2020-03-10\",\"confirmed_cases\":153,\"deaths\":3,\"in_progress\":false,\"new_confirmed_cases\":11,\"new_deaths\":1},{\"date\":\"2020-03-11\",\"confirmed_cases\":183,\"deaths\":4,\"in_progress\":false,\"new_confirmed_cases\":30,\"new_deaths\":1},{\"date\":\"2020-03-12\",\"confirmed_cases\":237,\"deaths\":4,\"in_progress\":false,\"new_confirmed_cases\":54,\"new_deaths\":0},{\"date\":\"2020-03-13\",\"confirmed_cases\":301,\"deaths\":5,\"in_progress\":false,\"new_confirmed_cases\":64,\"new_deaths\":1},{\"date\":\"2020-03-14\",\"confirmed_cases\":371,\"deaths\":5,\"in_progress\":false,\"new_confirmed_cases\":70,\"new_deaths\":0},{\"date\":\"2020-03-15\",\"confirmed_cases\":440,\"deaths\":6,\"in_progress\":false,\"new_confirmed_cases\":69,\"new_deaths\":1},{\"date\":\"2020-03-16\",\"confirmed_cases\":571,\"deaths\":12,\"in_progress\":false,\"new_confirmed_cases\":131,\"new_deaths\":6},{\"date\":\"2020-03-17\",\"confirmed_cases\":729,\"deaths\":14,\"in_progress\":false,\"new_confirmed_cases\":158,\"new_deaths\":2},{\"date\":\"2020-03-18\",\"confirmed_cases\":869,\"deaths\":17,\"in_progress\":false,\"new_confirmed_cases\":140,\"new_deaths\":3},{\"date\":\"2020-03-19\",\"confirmed_cases\":1040,\"deaths\":19,\"in_progress\":false,\"new_confirmed_cases\":171,\"new_deaths\":2},{\"date\":\"2020-03-20\",\"confirmed_cases\":1247,\"deaths\":24,\"in_progress\":false,\"new_confirmed_cases\":207,\"new_deaths\":5},{\"date\":\"2020-03-21\",\"confirmed_cases\":1506,\"deaths\":28,\"in_progress\":false,\"new_confirmed_cases\":259,\"new_deaths\":4},{\"date\":\"2020-03-22\",\"confirmed_cases\":1802,\"deaths\":35,\"in_progress\":false,\"new_confirmed_cases\":296,\"new_deaths\":7},{\"date\":\"2020-03-23\",\"confirmed_cases\":2222,\"deaths\":43,\"in_progress\":false,\"new_confirmed_cases\":420,\"new_deaths\":8},{\"date\":\"2020-03-24\",\"confirmed_cases\":2621,\"deaths\":54,\"in_progress\":false,\"new_confirmed_cases\":399,\"new_deaths\":11},{\"date\":\"2020-03-25\",\"confirmed_cases\":3244,\"deaths\":69,\"in_progress\":false,\"new_confirmed_cases\":623,\"new_deaths\":15},{\"date\":\"2020-03-26\",\"confirmed_cases\":4055,\"deaths\":83,\"in_progress\":false,\"new_confirmed_cases\":811,\"new_deaths\":14},{\"date\":\"2020-03-27\",\"confirmed_cases\":2929,\"deaths\":57,\"in_progress\":true,\"new_confirmed_cases\":-1126,\"new_deaths\":-26}];"
   ]
  },
  {
   "cell_type": "code",
   "execution_count": null,
   "metadata": {
    "ExecuteTime": {
     "end_time": "2020-06-11T21:07:54.836880Z",
     "start_time": "2020-06-11T21:07:31.269Z"
    }
   },
   "outputs": [],
   "source": [
    "url = 'https://www.latimes.com/projects/california-coronavirus-cases-tracking-outbreak/'\n",
    "r = requests.get(url)"
   ]
  },
  {
   "cell_type": "code",
   "execution_count": null,
   "metadata": {},
   "outputs": [],
   "source": []
  },
  {
   "cell_type": "code",
   "execution_count": null,
   "metadata": {
    "ExecuteTime": {
     "end_time": "2020-06-03T19:45:38.879386Z",
     "start_time": "2020-06-03T19:45:38.744284Z"
    },
    "editable": false,
    "run_control": {
     "frozen": true,
     "marked": true
    }
   },
   "outputs": [],
   "source": [
    "days = [i for i in range(1, 6)]\n",
    "wkdays = lac_daily_new[lac_daily_new.index.weekday.isin(days)]\n",
    "\n",
    "df = wkdays.reset_index()\n",
    "p = figure(plot_width=1000, plot_height=400, title=\"Daily new cases (LAC) -- Tuesday-Saturday only\", x_axis_type='datetime')\n",
    "source = ColumnDataSource(df)\n",
    "p.vbar(x='date', top='new_confirmed_cases',  color=\"navy\", width=0.4, source=source, alpha=0.8)\n",
    "show(p)"
   ]
  }
 ],
 "metadata": {
  "kernelspec": {
   "display_name": "Python 3",
   "language": "python",
   "name": "python3"
  },
  "language_info": {
   "codemirror_mode": {
    "name": "ipython",
    "version": 3
   },
   "file_extension": ".py",
   "mimetype": "text/x-python",
   "name": "python",
   "nbconvert_exporter": "python",
   "pygments_lexer": "ipython3",
   "version": "3.6.4"
  },
  "toc": {
   "colors": {
    "hover_highlight": "#DAA520",
    "navigate_num": "#000000",
    "navigate_text": "#333333",
    "running_highlight": "#FF0000",
    "selected_highlight": "#FFD700",
    "sidebar_border": "#EEEEEE",
    "wrapper_background": "#FFFFFF"
   },
   "moveMenuLeft": true,
   "nav_menu": {
    "height": "196.767px",
    "width": "251.1px"
   },
   "navigate_menu": true,
   "number_sections": true,
   "sideBar": true,
   "threshold": 4,
   "toc_cell": false,
   "toc_section_display": "block",
   "toc_window_display": true,
   "widenNotebook": false
  }
 },
 "nbformat": 4,
 "nbformat_minor": 2
}
